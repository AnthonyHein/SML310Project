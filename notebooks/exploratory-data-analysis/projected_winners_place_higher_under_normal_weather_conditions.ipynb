{
 "cells": [
  {
   "cell_type": "markdown",
   "id": "7026e67b",
   "metadata": {},
   "source": [
    "# `projected_winners_place_higher_under_normal_weather_conditions.ipynb`"
   ]
  },
  {
   "cell_type": "markdown",
   "id": "c052cb33",
   "metadata": {},
   "source": [
    "### Author: Anthony Hein"
   ]
  },
  {
   "cell_type": "markdown",
   "id": "194e2cf5",
   "metadata": {},
   "source": [
    "#### Last updated: 11/8/2021"
   ]
  },
  {
   "cell_type": "markdown",
   "id": "1b86aa88",
   "metadata": {},
   "source": [
    "# Overview:\n",
    "\n",
    "This notebook shows that projected winners place higher under normal weather conditions."
   ]
  },
  {
   "cell_type": "markdown",
   "id": "697e80d8",
   "metadata": {},
   "source": [
    "---"
   ]
  },
  {
   "cell_type": "markdown",
   "id": "08164829",
   "metadata": {},
   "source": [
    "## Setup"
   ]
  },
  {
   "cell_type": "code",
   "execution_count": 1,
   "id": "9e9ee6d1",
   "metadata": {},
   "outputs": [],
   "source": [
    "from datetime import datetime\n",
    "import git\n",
    "import os\n",
    "import re\n",
    "from typing import List\n",
    "from sklearn.preprocessing import StandardScaler\n",
    "from tqdm import tqdm\n",
    "import pandas as pd\n",
    "import numpy as np\n",
    "from scipy import stats\n",
    "import matplotlib.pyplot as plt\n",
    "import seaborn as sns\n",
    "%matplotlib inline"
   ]
  },
  {
   "cell_type": "code",
   "execution_count": 2,
   "id": "f013a715",
   "metadata": {},
   "outputs": [
    {
     "data": {
      "text/plain": [
       "'/Users/anthonyhein/Desktop/SML310/project'"
      ]
     },
     "execution_count": 2,
     "metadata": {},
     "output_type": "execute_result"
    }
   ],
   "source": [
    "BASE_DIR = git.Repo(os.getcwd(), search_parent_directories=True).working_dir\n",
    "BASE_DIR"
   ]
  },
  {
   "cell_type": "markdown",
   "id": "900adb93",
   "metadata": {},
   "source": [
    "---"
   ]
  },
  {
   "cell_type": "markdown",
   "id": "75c7066e",
   "metadata": {},
   "source": [
    "## Load `races_featurized.csv`"
   ]
  },
  {
   "cell_type": "code",
   "execution_count": 3,
   "id": "cee61ac1",
   "metadata": {},
   "outputs": [
    {
     "data": {
      "text/html": [
       "<div>\n",
       "<style scoped>\n",
       "    .dataframe tbody tr th:only-of-type {\n",
       "        vertical-align: middle;\n",
       "    }\n",
       "\n",
       "    .dataframe tbody tr th {\n",
       "        vertical-align: top;\n",
       "    }\n",
       "\n",
       "    .dataframe thead th {\n",
       "        text-align: right;\n",
       "    }\n",
       "</style>\n",
       "<table border=\"1\" class=\"dataframe\">\n",
       "  <thead>\n",
       "    <tr style=\"text-align: right;\">\n",
       "      <th></th>\n",
       "      <th>rid</th>\n",
       "      <th>course</th>\n",
       "      <th>title</th>\n",
       "      <th>winningTime</th>\n",
       "      <th>metric</th>\n",
       "      <th>ncond</th>\n",
       "      <th>class</th>\n",
       "      <th>runners</th>\n",
       "      <th>margin</th>\n",
       "      <th>1st_place_rank_in_odds</th>\n",
       "      <th>...</th>\n",
       "      <th>pressure_level_2</th>\n",
       "      <th>pressure_level_3</th>\n",
       "      <th>pressure_level_4</th>\n",
       "      <th>is_raining</th>\n",
       "      <th>rhum_level_0</th>\n",
       "      <th>rhum_level_1</th>\n",
       "      <th>rhum_level_2</th>\n",
       "      <th>rhum_level_3</th>\n",
       "      <th>rhum_level_4</th>\n",
       "      <th>entropy of odds</th>\n",
       "    </tr>\n",
       "  </thead>\n",
       "  <tbody>\n",
       "    <tr>\n",
       "      <th>0</th>\n",
       "      <td>302858</td>\n",
       "      <td>Thurles</td>\n",
       "      <td>Liffey Maiden Hurdle (Div 1)</td>\n",
       "      <td>277.2</td>\n",
       "      <td>3821.0</td>\n",
       "      <td>1</td>\n",
       "      <td>0</td>\n",
       "      <td>6</td>\n",
       "      <td>1.219263</td>\n",
       "      <td>1</td>\n",
       "      <td>...</td>\n",
       "      <td>0</td>\n",
       "      <td>1</td>\n",
       "      <td>0</td>\n",
       "      <td>0</td>\n",
       "      <td>0</td>\n",
       "      <td>0</td>\n",
       "      <td>0</td>\n",
       "      <td>0</td>\n",
       "      <td>1</td>\n",
       "      <td>1.350363</td>\n",
       "    </tr>\n",
       "    <tr>\n",
       "      <th>1</th>\n",
       "      <td>291347</td>\n",
       "      <td>Punchestown</td>\n",
       "      <td>Ericsson G.S.M. Grand National Trial Handicap ...</td>\n",
       "      <td>447.2</td>\n",
       "      <td>5229.0</td>\n",
       "      <td>5</td>\n",
       "      <td>0</td>\n",
       "      <td>9</td>\n",
       "      <td>1.218049</td>\n",
       "      <td>4</td>\n",
       "      <td>...</td>\n",
       "      <td>1</td>\n",
       "      <td>0</td>\n",
       "      <td>0</td>\n",
       "      <td>1</td>\n",
       "      <td>0</td>\n",
       "      <td>0</td>\n",
       "      <td>0</td>\n",
       "      <td>0</td>\n",
       "      <td>1</td>\n",
       "      <td>1.995151</td>\n",
       "    </tr>\n",
       "    <tr>\n",
       "      <th>2</th>\n",
       "      <td>75447</td>\n",
       "      <td>Listowel</td>\n",
       "      <td>Ballybunion E.B.F. Beginners S'chase</td>\n",
       "      <td>318.4</td>\n",
       "      <td>3620.0</td>\n",
       "      <td>5</td>\n",
       "      <td>0</td>\n",
       "      <td>8</td>\n",
       "      <td>1.277320</td>\n",
       "      <td>3</td>\n",
       "      <td>...</td>\n",
       "      <td>1</td>\n",
       "      <td>0</td>\n",
       "      <td>0</td>\n",
       "      <td>0</td>\n",
       "      <td>0</td>\n",
       "      <td>0</td>\n",
       "      <td>0</td>\n",
       "      <td>1</td>\n",
       "      <td>0</td>\n",
       "      <td>1.786421</td>\n",
       "    </tr>\n",
       "    <tr>\n",
       "      <th>3</th>\n",
       "      <td>358038</td>\n",
       "      <td>Punchestown</td>\n",
       "      <td>Quinns Of Baltinglass Chase (La Touche) (Cross...</td>\n",
       "      <td>533.9</td>\n",
       "      <td>6637.0</td>\n",
       "      <td>1</td>\n",
       "      <td>0</td>\n",
       "      <td>10</td>\n",
       "      <td>1.286595</td>\n",
       "      <td>1</td>\n",
       "      <td>...</td>\n",
       "      <td>0</td>\n",
       "      <td>1</td>\n",
       "      <td>0</td>\n",
       "      <td>0</td>\n",
       "      <td>0</td>\n",
       "      <td>0</td>\n",
       "      <td>0</td>\n",
       "      <td>1</td>\n",
       "      <td>0</td>\n",
       "      <td>1.611062</td>\n",
       "    </tr>\n",
       "    <tr>\n",
       "      <th>4</th>\n",
       "      <td>89211</td>\n",
       "      <td>Tipperary</td>\n",
       "      <td>Topaz Sprint Stakes (Listed)</td>\n",
       "      <td>59.9</td>\n",
       "      <td>1005.0</td>\n",
       "      <td>4</td>\n",
       "      <td>0</td>\n",
       "      <td>5</td>\n",
       "      <td>1.217043</td>\n",
       "      <td>4</td>\n",
       "      <td>...</td>\n",
       "      <td>1</td>\n",
       "      <td>0</td>\n",
       "      <td>0</td>\n",
       "      <td>0</td>\n",
       "      <td>0</td>\n",
       "      <td>0</td>\n",
       "      <td>1</td>\n",
       "      <td>0</td>\n",
       "      <td>0</td>\n",
       "      <td>1.254374</td>\n",
       "    </tr>\n",
       "  </tbody>\n",
       "</table>\n",
       "<p>5 rows × 129 columns</p>\n",
       "</div>"
      ],
      "text/plain": [
       "      rid       course                                              title  \\\n",
       "0  302858      Thurles                       Liffey Maiden Hurdle (Div 1)   \n",
       "1  291347  Punchestown  Ericsson G.S.M. Grand National Trial Handicap ...   \n",
       "2   75447     Listowel               Ballybunion E.B.F. Beginners S'chase   \n",
       "3  358038  Punchestown  Quinns Of Baltinglass Chase (La Touche) (Cross...   \n",
       "4   89211    Tipperary                       Topaz Sprint Stakes (Listed)   \n",
       "\n",
       "   winningTime  metric  ncond  class  runners    margin  \\\n",
       "0        277.2  3821.0      1      0        6  1.219263   \n",
       "1        447.2  5229.0      5      0        9  1.218049   \n",
       "2        318.4  3620.0      5      0        8  1.277320   \n",
       "3        533.9  6637.0      1      0       10  1.286595   \n",
       "4         59.9  1005.0      4      0        5  1.217043   \n",
       "\n",
       "   1st_place_rank_in_odds  ...  pressure_level_2  pressure_level_3  \\\n",
       "0                       1  ...                 0                 1   \n",
       "1                       4  ...                 1                 0   \n",
       "2                       3  ...                 1                 0   \n",
       "3                       1  ...                 0                 1   \n",
       "4                       4  ...                 1                 0   \n",
       "\n",
       "   pressure_level_4  is_raining  rhum_level_0  rhum_level_1  rhum_level_2  \\\n",
       "0                 0           0             0             0             0   \n",
       "1                 0           1             0             0             0   \n",
       "2                 0           0             0             0             0   \n",
       "3                 0           0             0             0             0   \n",
       "4                 0           0             0             0             1   \n",
       "\n",
       "   rhum_level_3  rhum_level_4  entropy of odds  \n",
       "0             0             1         1.350363  \n",
       "1             0             1         1.995151  \n",
       "2             1             0         1.786421  \n",
       "3             1             0         1.611062  \n",
       "4             0             0         1.254374  \n",
       "\n",
       "[5 rows x 129 columns]"
      ]
     },
     "execution_count": 3,
     "metadata": {},
     "output_type": "execute_result"
    }
   ],
   "source": [
    "races_featurized = pd.read_csv(f\"{BASE_DIR}/data/streamline/races_featurized.csv\", low_memory=False) \n",
    "races_featurized.head()"
   ]
  },
  {
   "cell_type": "code",
   "execution_count": 4,
   "id": "60fdc317",
   "metadata": {},
   "outputs": [
    {
     "data": {
      "text/plain": [
       "(20201, 129)"
      ]
     },
     "execution_count": 4,
     "metadata": {},
     "output_type": "execute_result"
    }
   ],
   "source": [
    "races_featurized.shape"
   ]
  },
  {
   "cell_type": "markdown",
   "id": "60c8851a",
   "metadata": {},
   "source": [
    "---"
   ]
  },
  {
   "cell_type": "markdown",
   "id": "427590ba",
   "metadata": {},
   "source": [
    "## Normal Weather Conditions"
   ]
  },
  {
   "cell_type": "code",
   "execution_count": 70,
   "id": "976f9e91",
   "metadata": {},
   "outputs": [
    {
     "data": {
      "text/plain": [
       "(10520, 9681)"
      ]
     },
     "execution_count": 70,
     "metadata": {},
     "output_type": "execute_result"
    }
   ],
   "source": [
    "dfa = races_featurized[\n",
    "    ((races_featurized['temp_level_1'] == 1) | (races_featurized['temp_level_2'] == 1) | (races_featurized['temp_level_3'] == 1)) &\n",
    "    ((races_featurized['pressure_level_3'] == 1) | (races_featurized['pressure_level_4'] == 1)) &\n",
    "    ((races_featurized['rhum_level_1'] == 1) | (races_featurized['rhum_level_2'] == 1) | (races_featurized['rhum_level_3'] == 1)) &\n",
    "    (races_featurized['is_raining'] == 0)\n",
    "]\n",
    "\n",
    "dfb = races_featurized[\n",
    "    ~(((races_featurized['temp_level_1'] == 1) | (races_featurized['temp_level_2'] == 1) | (races_featurized['temp_level_3'] == 1)) &\n",
    "    ((races_featurized['pressure_level_3'] == 1) | (races_featurized['pressure_level_4'] == 1)) &\n",
    "    ((races_featurized['rhum_level_1'] == 1) | (races_featurized['rhum_level_2'] == 1) | (races_featurized['rhum_level_3'] == 1)) &\n",
    "    (races_featurized['is_raining'] == 0))\n",
    "]\n",
    "\n",
    "len(dfa), len(dfb)"
   ]
  },
  {
   "cell_type": "code",
   "execution_count": 39,
   "id": "d373c27c",
   "metadata": {},
   "outputs": [
    {
     "data": {
      "text/plain": [
       "2.8752851711026617"
      ]
     },
     "execution_count": 39,
     "metadata": {},
     "output_type": "execute_result"
    }
   ],
   "source": [
    "np.mean(dfa['1st_rank_in_odds_place'])"
   ]
  },
  {
   "cell_type": "code",
   "execution_count": 72,
   "id": "48f2e248",
   "metadata": {},
   "outputs": [
    {
     "data": {
      "text/plain": [
       "0.7211026615969581"
      ]
     },
     "execution_count": 72,
     "metadata": {},
     "output_type": "execute_result"
    }
   ],
   "source": [
    "np.mean(dfa['1st_rank_in_odds_place'] <= 3)"
   ]
  },
  {
   "cell_type": "code",
   "execution_count": 41,
   "id": "eb1d9933",
   "metadata": {},
   "outputs": [
    {
     "data": {
      "text/plain": [
       "2.9838859621939884"
      ]
     },
     "execution_count": 41,
     "metadata": {},
     "output_type": "execute_result"
    }
   ],
   "source": [
    "np.mean(dfb['1st_rank_in_odds_place'])"
   ]
  },
  {
   "cell_type": "code",
   "execution_count": 42,
   "id": "05923cd5",
   "metadata": {},
   "outputs": [
    {
     "data": {
      "text/plain": [
       "0.7042660882140275"
      ]
     },
     "execution_count": 42,
     "metadata": {},
     "output_type": "execute_result"
    }
   ],
   "source": [
    "np.mean(dfb['1st_rank_in_odds_place'] <= 3)"
   ]
  },
  {
   "cell_type": "code",
   "execution_count": 43,
   "id": "4efb95e3",
   "metadata": {},
   "outputs": [
    {
     "data": {
      "text/plain": [
       "Ttest_indResult(statistic=-3.1839144172611182, pvalue=0.0014552212766804767)"
      ]
     },
     "execution_count": 43,
     "metadata": {},
     "output_type": "execute_result"
    }
   ],
   "source": [
    "stats.ttest_ind(dfa['1st_rank_in_odds_place'],\n",
    "                dfb['1st_rank_in_odds_place'],\n",
    "                equal_var=False)"
   ]
  },
  {
   "cell_type": "code",
   "execution_count": 44,
   "id": "2ecb3eae",
   "metadata": {},
   "outputs": [
    {
     "data": {
      "text/plain": [
       "Ttest_indResult(statistic=2.6412096467594615, pvalue=0.008267481716040153)"
      ]
     },
     "execution_count": 44,
     "metadata": {},
     "output_type": "execute_result"
    }
   ],
   "source": [
    "stats.ttest_ind(dfa['1st_rank_in_odds_place'] <= 3,\n",
    "                dfb['1st_rank_in_odds_place'] <= 3,\n",
    "                equal_var=False)"
   ]
  },
  {
   "cell_type": "code",
   "execution_count": 45,
   "id": "4d0417c0",
   "metadata": {},
   "outputs": [
    {
     "data": {
      "text/plain": [
       "{'whiskers': [<matplotlib.lines.Line2D at 0x136108460>,\n",
       "  <matplotlib.lines.Line2D at 0x1361087f0>,\n",
       "  <matplotlib.lines.Line2D at 0x136124160>,\n",
       "  <matplotlib.lines.Line2D at 0x1361244f0>],\n",
       " 'caps': [<matplotlib.lines.Line2D at 0x136108b80>,\n",
       "  <matplotlib.lines.Line2D at 0x136108f10>,\n",
       "  <matplotlib.lines.Line2D at 0x136124880>,\n",
       "  <matplotlib.lines.Line2D at 0x136124c10>],\n",
       " 'boxes': [<matplotlib.lines.Line2D at 0x136108100>,\n",
       "  <matplotlib.lines.Line2D at 0x136117d90>],\n",
       " 'medians': [<matplotlib.lines.Line2D at 0x1361172e0>,\n",
       "  <matplotlib.lines.Line2D at 0x136124fa0>],\n",
       " 'fliers': [<matplotlib.lines.Line2D at 0x136117a00>,\n",
       "  <matplotlib.lines.Line2D at 0x13612d700>],\n",
       " 'means': [<matplotlib.lines.Line2D at 0x136117670>,\n",
       "  <matplotlib.lines.Line2D at 0x13612d370>]}"
      ]
     },
     "execution_count": 45,
     "metadata": {},
     "output_type": "execute_result"
    },
    {
     "data": {
      "image/png": "[encoded data removed]",
      "text/plain": [
       "<Figure size 432x288 with 1 Axes>"
      ]
     },
     "metadata": {
      "needs_background": "light"
     },
     "output_type": "display_data"
    }
   ],
   "source": [
    "plt.boxplot(\n",
    "    [dfa['1st_rank_in_odds_place'],\n",
    "     dfb['1st_rank_in_odds_place'],\n",
    "    ],\n",
    "    showmeans=True\n",
    ")"
   ]
  },
  {
   "cell_type": "code",
   "execution_count": 46,
   "id": "8d5abb33",
   "metadata": {},
   "outputs": [
    {
     "data": {
      "text/plain": [
       "3.6272813688212926"
      ]
     },
     "execution_count": 46,
     "metadata": {},
     "output_type": "execute_result"
    }
   ],
   "source": [
    "np.mean(dfa['2nd_rank_in_odds_place'])"
   ]
  },
  {
   "cell_type": "code",
   "execution_count": 47,
   "id": "86645526",
   "metadata": {},
   "outputs": [
    {
     "data": {
      "text/plain": [
       "3.7331887201735356"
      ]
     },
     "execution_count": 47,
     "metadata": {},
     "output_type": "execute_result"
    }
   ],
   "source": [
    "np.mean(dfb['2nd_rank_in_odds_place'])"
   ]
  },
  {
   "cell_type": "code",
   "execution_count": 48,
   "id": "6d6fe84e",
   "metadata": {},
   "outputs": [
    {
     "data": {
      "text/plain": [
       "Ttest_indResult(statistic=-2.847836112802376, pvalue=0.004406261126050298)"
      ]
     },
     "execution_count": 48,
     "metadata": {},
     "output_type": "execute_result"
    }
   ],
   "source": [
    "stats.ttest_ind(dfa['2nd_rank_in_odds_place'],\n",
    "                dfb['2nd_rank_in_odds_place'],\n",
    "                equal_var=False)"
   ]
  },
  {
   "cell_type": "code",
   "execution_count": 49,
   "id": "9c4c5281",
   "metadata": {},
   "outputs": [
    {
     "data": {
      "text/plain": [
       "{'whiskers': [<matplotlib.lines.Line2D at 0x136190520>,\n",
       "  <matplotlib.lines.Line2D at 0x1361908b0>,\n",
       "  <matplotlib.lines.Line2D at 0x1361aa220>,\n",
       "  <matplotlib.lines.Line2D at 0x1361aa5b0>],\n",
       " 'caps': [<matplotlib.lines.Line2D at 0x136190c40>,\n",
       "  <matplotlib.lines.Line2D at 0x136190fd0>,\n",
       "  <matplotlib.lines.Line2D at 0x1361aa940>,\n",
       "  <matplotlib.lines.Line2D at 0x1361aad00>],\n",
       " 'boxes': [<matplotlib.lines.Line2D at 0x136190190>,\n",
       "  <matplotlib.lines.Line2D at 0x13619ce50>],\n",
       " 'medians': [<matplotlib.lines.Line2D at 0x13619c3a0>,\n",
       "  <matplotlib.lines.Line2D at 0x1361b50d0>],\n",
       " 'fliers': [<matplotlib.lines.Line2D at 0x13619cac0>,\n",
       "  <matplotlib.lines.Line2D at 0x1361b57f0>],\n",
       " 'means': [<matplotlib.lines.Line2D at 0x13619c730>,\n",
       "  <matplotlib.lines.Line2D at 0x1361b5460>]}"
      ]
     },
     "execution_count": 49,
     "metadata": {},
     "output_type": "execute_result"
    },
    {
     "data": {
      "image/png": "[encoded data removed]",
      "text/plain": [
       "<Figure size 432x288 with 1 Axes>"
      ]
     },
     "metadata": {
      "needs_background": "light"
     },
     "output_type": "display_data"
    }
   ],
   "source": [
    "plt.boxplot(\n",
    "    [dfa['2nd_rank_in_odds_place'],\n",
    "     dfb['2nd_rank_in_odds_place'],\n",
    "    ],\n",
    "    showmeans=True\n",
    ")"
   ]
  },
  {
   "cell_type": "code",
   "execution_count": 50,
   "id": "5ec00867",
   "metadata": {},
   "outputs": [
    {
     "data": {
      "text/plain": [
       "4.1639733840304185"
      ]
     },
     "execution_count": 50,
     "metadata": {},
     "output_type": "execute_result"
    }
   ],
   "source": [
    "np.mean(dfa['3rd_rank_in_odds_place'])"
   ]
  },
  {
   "cell_type": "code",
   "execution_count": 51,
   "id": "f5dfd85b",
   "metadata": {},
   "outputs": [
    {
     "data": {
      "text/plain": [
       "4.360499948352443"
      ]
     },
     "execution_count": 51,
     "metadata": {},
     "output_type": "execute_result"
    }
   ],
   "source": [
    "np.mean(dfb['3rd_rank_in_odds_place'])"
   ]
  },
  {
   "cell_type": "code",
   "execution_count": 52,
   "id": "c5f9047e",
   "metadata": {},
   "outputs": [
    {
     "data": {
      "text/plain": [
       "Ttest_indResult(statistic=-5.11455882868315, pvalue=3.174040135529447e-07)"
      ]
     },
     "execution_count": 52,
     "metadata": {},
     "output_type": "execute_result"
    }
   ],
   "source": [
    "stats.ttest_ind(dfa['3rd_rank_in_odds_place'],\n",
    "                dfb['3rd_rank_in_odds_place'],\n",
    "                equal_var=False)"
   ]
  },
  {
   "cell_type": "code",
   "execution_count": 53,
   "id": "5d82a28d",
   "metadata": {},
   "outputs": [
    {
     "data": {
      "text/plain": [
       "{'whiskers': [<matplotlib.lines.Line2D at 0x136217430>,\n",
       "  <matplotlib.lines.Line2D at 0x1362177c0>,\n",
       "  <matplotlib.lines.Line2D at 0x136230130>,\n",
       "  <matplotlib.lines.Line2D at 0x1362304c0>],\n",
       " 'caps': [<matplotlib.lines.Line2D at 0x136217b50>,\n",
       "  <matplotlib.lines.Line2D at 0x136217ee0>,\n",
       "  <matplotlib.lines.Line2D at 0x136230850>,\n",
       "  <matplotlib.lines.Line2D at 0x136230be0>],\n",
       " 'boxes': [<matplotlib.lines.Line2D at 0x1362170a0>,\n",
       "  <matplotlib.lines.Line2D at 0x136223d60>],\n",
       " 'medians': [<matplotlib.lines.Line2D at 0x1362232b0>,\n",
       "  <matplotlib.lines.Line2D at 0x136230f70>],\n",
       " 'fliers': [<matplotlib.lines.Line2D at 0x1362239d0>,\n",
       "  <matplotlib.lines.Line2D at 0x13623a700>],\n",
       " 'means': [<matplotlib.lines.Line2D at 0x136223640>,\n",
       "  <matplotlib.lines.Line2D at 0x13623a340>]}"
      ]
     },
     "execution_count": 53,
     "metadata": {},
     "output_type": "execute_result"
    },
    {
     "data": {
      "image/png": "[encoded data removed]",
      "text/plain": [
       "<Figure size 432x288 with 1 Axes>"
      ]
     },
     "metadata": {
      "needs_background": "light"
     },
     "output_type": "display_data"
    }
   ],
   "source": [
    "plt.boxplot(\n",
    "    [dfa['3rd_rank_in_odds_place'],\n",
    "     dfb['3rd_rank_in_odds_place'],\n",
    "    ],\n",
    "    showmeans=True\n",
    ")"
   ]
  },
  {
   "cell_type": "code",
   "execution_count": 54,
   "id": "ae00e1ca",
   "metadata": {},
   "outputs": [
    {
     "data": {
      "text/plain": [
       "0.37813688212927754"
      ]
     },
     "execution_count": 54,
     "metadata": {},
     "output_type": "execute_result"
    }
   ],
   "source": [
    "np.mean(dfa['favoriteWon'])"
   ]
  },
  {
   "cell_type": "code",
   "execution_count": 55,
   "id": "85f82945",
   "metadata": {},
   "outputs": [
    {
     "data": {
      "text/plain": [
       "0.36287573597768824"
      ]
     },
     "execution_count": 55,
     "metadata": {},
     "output_type": "execute_result"
    }
   ],
   "source": [
    "np.mean(dfb['favoriteWon'])"
   ]
  },
  {
   "cell_type": "code",
   "execution_count": 56,
   "id": "89e16203",
   "metadata": {},
   "outputs": [
    {
     "data": {
      "text/plain": [
       "Ttest_indResult(statistic=2.2443175364888015, pvalue=0.024822820597292246)"
      ]
     },
     "execution_count": 56,
     "metadata": {},
     "output_type": "execute_result"
    }
   ],
   "source": [
    "stats.ttest_ind(dfa['favoriteWon'],\n",
    "                dfb['favoriteWon'],\n",
    "                equal_var=False)"
   ]
  },
  {
   "cell_type": "code",
   "execution_count": 57,
   "id": "70491100",
   "metadata": {},
   "outputs": [
    {
     "data": {
      "text/plain": [
       "0.5763717251606525"
      ]
     },
     "execution_count": 57,
     "metadata": {},
     "output_type": "execute_result"
    }
   ],
   "source": [
    "np.mean(dfa[dfa['placeAvailable'] == 1]['favoritePlaced'])"
   ]
  },
  {
   "cell_type": "code",
   "execution_count": 58,
   "id": "1a42609d",
   "metadata": {},
   "outputs": [
    {
     "data": {
      "text/plain": [
       "0.5724189419795221"
      ]
     },
     "execution_count": 58,
     "metadata": {},
     "output_type": "execute_result"
    }
   ],
   "source": [
    "np.mean(dfb[dfb['placeAvailable'] == 1]['favoritePlaced'])"
   ]
  },
  {
   "cell_type": "code",
   "execution_count": 59,
   "id": "ac1f1d53",
   "metadata": {},
   "outputs": [
    {
     "data": {
      "text/plain": [
       "Ttest_indResult(statistic=0.5576224510612968, pvalue=0.5771086649886357)"
      ]
     },
     "execution_count": 59,
     "metadata": {},
     "output_type": "execute_result"
    }
   ],
   "source": [
    "stats.ttest_ind(dfa[dfa['placeAvailable'] == 1]['favoritePlaced'],\n",
    "                dfb[dfb['placeAvailable'] == 1]['favoritePlaced'],\n",
    "                equal_var=False)"
   ]
  },
  {
   "cell_type": "code",
   "execution_count": 60,
   "id": "aad8fcaf",
   "metadata": {},
   "outputs": [
    {
     "data": {
      "text/plain": [
       "0.6762243085511291"
      ]
     },
     "execution_count": 60,
     "metadata": {},
     "output_type": "execute_result"
    }
   ],
   "source": [
    "np.mean(dfa[dfa['showAvailable'] == 1]['favoriteShowed'])"
   ]
  },
  {
   "cell_type": "code",
   "execution_count": 61,
   "id": "bac247b5",
   "metadata": {},
   "outputs": [
    {
     "data": {
      "text/plain": [
       "0.6654343807763401"
      ]
     },
     "execution_count": 61,
     "metadata": {},
     "output_type": "execute_result"
    }
   ],
   "source": [
    "np.mean(dfb[dfb['showAvailable'] == 1]['favoriteShowed'])"
   ]
  },
  {
   "cell_type": "code",
   "execution_count": 62,
   "id": "2bcaf19c",
   "metadata": {},
   "outputs": [
    {
     "data": {
      "text/plain": [
       "Ttest_indResult(statistic=1.426916764568182, pvalue=0.1536241378757653)"
      ]
     },
     "execution_count": 62,
     "metadata": {},
     "output_type": "execute_result"
    }
   ],
   "source": [
    "stats.ttest_ind(dfa[dfa['showAvailable'] == 1]['favoriteShowed'],\n",
    "                dfb[dfb['showAvailable'] == 1]['favoriteShowed'],\n",
    "                equal_var=False)"
   ]
  },
  {
   "cell_type": "code",
   "execution_count": null,
   "id": "6b95b563",
   "metadata": {},
   "outputs": [],
   "source": []
  },
  {
   "cell_type": "code",
   "execution_count": 75,
   "id": "a48439c2",
   "metadata": {},
   "outputs": [
    {
     "data": {
      "text/plain": [
       "(array([[0.45144779, 0.10324656, 0.0682217 , 0.07648435, 0.02500731,\n",
       "         0.01447792, 0.01930389, 0.00497221, 0.00329044, 0.00277859],\n",
       "        [0.44599652, 0.09574663, 0.06928718, 0.08120585, 0.02463191,\n",
       "         0.01763963, 0.0199439 , 0.00572096, 0.00468801, 0.00437018]]),\n",
       " array([ 1. ,  2.3,  3.6,  4.9,  6.2,  7.5,  8.8, 10.1, 11.4, 12.7, 14. ]),\n",
       " <a list of 2 BarContainer objects>)"
      ]
     },
     "execution_count": 75,
     "metadata": {},
     "output_type": "execute_result"
    },
    {
     "data": {
      "image/png": "[encoded data removed]",
      "text/plain": [
       "<Figure size 432x288 with 1 Axes>"
      ]
     },
     "metadata": {
      "needs_background": "light"
     },
     "output_type": "display_data"
    }
   ],
   "source": [
    "plt.hist([dfa['1st_rank_in_odds_place'], dfb['1st_rank_in_odds_place']], density=True)"
   ]
  },
  {
   "cell_type": "code",
   "execution_count": 79,
   "id": "8019192f",
   "metadata": {},
   "outputs": [
    {
     "data": {
      "text/plain": [
       "(array([[0.3329921 , 0.12525592, 0.09059667, 0.11509213, 0.03319684,\n",
       "         0.02420298, 0.02902896, 0.00731208, 0.00584966, 0.00570342],\n",
       "        [0.32379045, 0.1215704 , 0.09272723, 0.11616727, 0.03623275,\n",
       "         0.02510866, 0.03138582, 0.00889927, 0.00595933, 0.00738957]]),\n",
       " array([ 1. ,  2.3,  3.6,  4.9,  6.2,  7.5,  8.8, 10.1, 11.4, 12.7, 14. ]),\n",
       " <a list of 2 BarContainer objects>)"
      ]
     },
     "execution_count": 79,
     "metadata": {},
     "output_type": "execute_result"
    },
    {
     "data": {
      "image/png": "[encoded data removed]",
      "text/plain": [
       "<Figure size 432x288 with 1 Axes>"
      ]
     },
     "metadata": {
      "needs_background": "light"
     },
     "output_type": "display_data"
    }
   ],
   "source": [
    "plt.hist([dfa['2nd_rank_in_odds_place'], dfb['2nd_rank_in_odds_place']], density=True)"
   ]
  },
  {
   "cell_type": "code",
   "execution_count": 80,
   "id": "f288d867",
   "metadata": {},
   "outputs": [
    {
     "data": {
      "text/plain": [
       "(array([[0.23369406, 0.14565662, 0.11202106, 0.1452179 , 0.04204446,\n",
       "         0.02815151, 0.03838842, 0.0112606 , 0.00621527, 0.00658087],\n",
       "        [0.22462714, 0.13881274, 0.10456644, 0.14596394, 0.04425798,\n",
       "         0.03742461, 0.0429072 , 0.01271324, 0.00929656, 0.0086609 ]]),\n",
       " array([ 1. ,  2.3,  3.6,  4.9,  6.2,  7.5,  8.8, 10.1, 11.4, 12.7, 14. ]),\n",
       " <a list of 2 BarContainer objects>)"
      ]
     },
     "execution_count": 80,
     "metadata": {},
     "output_type": "execute_result"
    },
    {
     "data": {
      "image/png": "[encoded data removed]",
      "text/plain": [
       "<Figure size 432x288 with 1 Axes>"
      ]
     },
     "metadata": {
      "needs_background": "light"
     },
     "output_type": "display_data"
    }
   ],
   "source": [
    "plt.hist([dfa['3rd_rank_in_odds_place'], dfb['3rd_rank_in_odds_place']], density=True)"
   ]
  },
  {
   "cell_type": "code",
   "execution_count": 112,
   "id": "07fb3dda",
   "metadata": {},
   "outputs": [
    {
     "data": {
      "image/png": "[encoded data removed]",
      "text/plain": [
       "<Figure size 1080x360 with 3 Axes>"
      ]
     },
     "metadata": {
      "needs_background": "light"
     },
     "output_type": "display_data"
    }
   ],
   "source": [
    "fig = plt.figure(figsize=(15,5))\n",
    "gs = fig.add_gridspec(1, 3)\n",
    "\n",
    "fig.suptitle(\"Projected Winners Placement\")\n",
    "\n",
    "ax1 = fig.add_subplot(gs[0:1, 0:1])\n",
    "ax2 = fig.add_subplot(gs[0:1, 1:2])\n",
    "ax3 = fig.add_subplot(gs[0:1, 2:3])\n",
    "\n",
    "ax1.set_title('Position of Horse w/ Best Odds')\n",
    "ax1.hist([dfa['1st_rank_in_odds_place'], dfb['1st_rank_in_odds_place']],\n",
    "         label=['Ideal Weather', 'Non-Ideal Weather'],\n",
    "         bins=14,\n",
    "         density=True)\n",
    "ax1.set_xlabel(\"Position\")\n",
    "ax1.set_ylabel(\"Density\")\n",
    "ax1.legend()\n",
    "\n",
    "ax2.set_title('Position of Horse w/ $2^{nd}$ Best Odds')\n",
    "ax2.hist([dfa['2nd_rank_in_odds_place'], dfb['2nd_rank_in_odds_place']],\n",
    "         label=['Ideal Weather', 'Non-Ideal Weather'],\n",
    "         bins=14,\n",
    "         density=True)\n",
    "ax2.set_xlabel(\"Position\")\n",
    "ax2.set_ylabel(\"Density\")\n",
    "ax2.legend()\n",
    "\n",
    "ax3.set_title('Position of Horse w/ $3^{rd}$ Best Odds')\n",
    "ax3.hist([dfa['3rd_rank_in_odds_place'], dfb['3rd_rank_in_odds_place']],\n",
    "         label=['Ideal Weather', 'Non-Ideal Weather'],\n",
    "         bins=14,\n",
    "         density=True)\n",
    "ax3.set_xlabel(\"Position\")\n",
    "ax3.set_ylabel(\"Density\")\n",
    "ax3.legend()\n",
    "\n",
    "plt.tight_layout()\n",
    "\n",
    "fig.savefig(f\"{BASE_DIR}/figures/projected_winners_placement.png\")\n",
    "\n",
    "plt.show()"
   ]
  },
  {
   "cell_type": "markdown",
   "id": "2a7cafd3",
   "metadata": {},
   "source": [
    "---"
   ]
  }
 ],
 "metadata": {
  "kernelspec": {
   "display_name": "Python 3 (ipykernel)",
   "language": "python",
   "name": "python3"
  },
  "language_info": {
   "codemirror_mode": {
    "name": "ipython",
    "version": 3
   },
   "file_extension": ".py",
   "mimetype": "text/x-python",
   "name": "python",
   "nbconvert_exporter": "python",
   "pygments_lexer": "ipython3",
   "version": "3.9.6"
  }
 },
 "nbformat": 4,
 "nbformat_minor": 5
}
