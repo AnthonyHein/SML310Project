{
 "cells": [
  {
   "cell_type": "markdown",
   "id": "7026e67b",
   "metadata": {},
   "source": [
    "# `rainfall_matches_going_conditions.ipynb`"
   ]
  },
  {
   "cell_type": "markdown",
   "id": "c052cb33",
   "metadata": {},
   "source": [
    "### Author: Anthony Hein"
   ]
  },
  {
   "cell_type": "markdown",
   "id": "194e2cf5",
   "metadata": {},
   "source": [
    "#### Last updated: 11/22/2021"
   ]
  },
  {
   "cell_type": "markdown",
   "id": "1b86aa88",
   "metadata": {},
   "source": [
    "# Overview:\n",
    "\n",
    "This notebook shows that the going is related to the measured rainfall."
   ]
  },
  {
   "cell_type": "markdown",
   "id": "697e80d8",
   "metadata": {},
   "source": [
    "---"
   ]
  },
  {
   "cell_type": "markdown",
   "id": "08164829",
   "metadata": {},
   "source": [
    "## Setup"
   ]
  },
  {
   "cell_type": "code",
   "execution_count": 1,
   "id": "9e9ee6d1",
   "metadata": {},
   "outputs": [],
   "source": [
    "from datetime import datetime\n",
    "import git\n",
    "import os\n",
    "import re\n",
    "from typing import List\n",
    "from sklearn.preprocessing import StandardScaler\n",
    "from tqdm import tqdm\n",
    "import pandas as pd\n",
    "import numpy as np\n",
    "from scipy import stats\n",
    "import matplotlib.pyplot as plt\n",
    "import seaborn as sns\n",
    "%matplotlib inline"
   ]
  },
  {
   "cell_type": "code",
   "execution_count": 2,
   "id": "f013a715",
   "metadata": {},
   "outputs": [
    {
     "data": {
      "text/plain": [
       "'/Users/anthonyhein/Desktop/SML310/project'"
      ]
     },
     "execution_count": 2,
     "metadata": {},
     "output_type": "execute_result"
    }
   ],
   "source": [
    "BASE_DIR = git.Repo(os.getcwd(), search_parent_directories=True).working_dir\n",
    "BASE_DIR"
   ]
  },
  {
   "cell_type": "markdown",
   "id": "900adb93",
   "metadata": {},
   "source": [
    "---"
   ]
  },
  {
   "cell_type": "markdown",
   "id": "75c7066e",
   "metadata": {},
   "source": [
    "## Load `races_featurized.csv`"
   ]
  },
  {
   "cell_type": "code",
   "execution_count": 3,
   "id": "cee61ac1",
   "metadata": {},
   "outputs": [
    {
     "data": {
      "text/html": [
       "<div>\n",
       "<style scoped>\n",
       "    .dataframe tbody tr th:only-of-type {\n",
       "        vertical-align: middle;\n",
       "    }\n",
       "\n",
       "    .dataframe tbody tr th {\n",
       "        vertical-align: top;\n",
       "    }\n",
       "\n",
       "    .dataframe thead th {\n",
       "        text-align: right;\n",
       "    }\n",
       "</style>\n",
       "<table border=\"1\" class=\"dataframe\">\n",
       "  <thead>\n",
       "    <tr style=\"text-align: right;\">\n",
       "      <th></th>\n",
       "      <th>rid</th>\n",
       "      <th>course</th>\n",
       "      <th>title</th>\n",
       "      <th>winningTime</th>\n",
       "      <th>metric</th>\n",
       "      <th>ncond</th>\n",
       "      <th>class</th>\n",
       "      <th>runners</th>\n",
       "      <th>margin</th>\n",
       "      <th>1st_place_rank_in_odds</th>\n",
       "      <th>...</th>\n",
       "      <th>pressure_level_2</th>\n",
       "      <th>pressure_level_3</th>\n",
       "      <th>pressure_level_4</th>\n",
       "      <th>is_raining</th>\n",
       "      <th>rhum_level_0</th>\n",
       "      <th>rhum_level_1</th>\n",
       "      <th>rhum_level_2</th>\n",
       "      <th>rhum_level_3</th>\n",
       "      <th>rhum_level_4</th>\n",
       "      <th>entropy of odds</th>\n",
       "    </tr>\n",
       "  </thead>\n",
       "  <tbody>\n",
       "    <tr>\n",
       "      <th>0</th>\n",
       "      <td>302858</td>\n",
       "      <td>Thurles</td>\n",
       "      <td>Liffey Maiden Hurdle (Div 1)</td>\n",
       "      <td>277.2</td>\n",
       "      <td>3821.0</td>\n",
       "      <td>1</td>\n",
       "      <td>0</td>\n",
       "      <td>6</td>\n",
       "      <td>1.219263</td>\n",
       "      <td>1</td>\n",
       "      <td>...</td>\n",
       "      <td>0</td>\n",
       "      <td>1</td>\n",
       "      <td>0</td>\n",
       "      <td>0</td>\n",
       "      <td>0</td>\n",
       "      <td>0</td>\n",
       "      <td>0</td>\n",
       "      <td>0</td>\n",
       "      <td>1</td>\n",
       "      <td>1.350363</td>\n",
       "    </tr>\n",
       "    <tr>\n",
       "      <th>1</th>\n",
       "      <td>291347</td>\n",
       "      <td>Punchestown</td>\n",
       "      <td>Ericsson G.S.M. Grand National Trial Handicap ...</td>\n",
       "      <td>447.2</td>\n",
       "      <td>5229.0</td>\n",
       "      <td>5</td>\n",
       "      <td>0</td>\n",
       "      <td>9</td>\n",
       "      <td>1.218049</td>\n",
       "      <td>4</td>\n",
       "      <td>...</td>\n",
       "      <td>1</td>\n",
       "      <td>0</td>\n",
       "      <td>0</td>\n",
       "      <td>1</td>\n",
       "      <td>0</td>\n",
       "      <td>0</td>\n",
       "      <td>0</td>\n",
       "      <td>0</td>\n",
       "      <td>1</td>\n",
       "      <td>1.995151</td>\n",
       "    </tr>\n",
       "    <tr>\n",
       "      <th>2</th>\n",
       "      <td>75447</td>\n",
       "      <td>Listowel</td>\n",
       "      <td>Ballybunion E.B.F. Beginners S'chase</td>\n",
       "      <td>318.4</td>\n",
       "      <td>3620.0</td>\n",
       "      <td>5</td>\n",
       "      <td>0</td>\n",
       "      <td>8</td>\n",
       "      <td>1.277320</td>\n",
       "      <td>3</td>\n",
       "      <td>...</td>\n",
       "      <td>1</td>\n",
       "      <td>0</td>\n",
       "      <td>0</td>\n",
       "      <td>0</td>\n",
       "      <td>0</td>\n",
       "      <td>0</td>\n",
       "      <td>0</td>\n",
       "      <td>1</td>\n",
       "      <td>0</td>\n",
       "      <td>1.786421</td>\n",
       "    </tr>\n",
       "    <tr>\n",
       "      <th>3</th>\n",
       "      <td>358038</td>\n",
       "      <td>Punchestown</td>\n",
       "      <td>Quinns Of Baltinglass Chase (La Touche) (Cross...</td>\n",
       "      <td>533.9</td>\n",
       "      <td>6637.0</td>\n",
       "      <td>1</td>\n",
       "      <td>0</td>\n",
       "      <td>10</td>\n",
       "      <td>1.286595</td>\n",
       "      <td>1</td>\n",
       "      <td>...</td>\n",
       "      <td>0</td>\n",
       "      <td>1</td>\n",
       "      <td>0</td>\n",
       "      <td>0</td>\n",
       "      <td>0</td>\n",
       "      <td>0</td>\n",
       "      <td>0</td>\n",
       "      <td>1</td>\n",
       "      <td>0</td>\n",
       "      <td>1.611062</td>\n",
       "    </tr>\n",
       "    <tr>\n",
       "      <th>4</th>\n",
       "      <td>89211</td>\n",
       "      <td>Tipperary</td>\n",
       "      <td>Topaz Sprint Stakes (Listed)</td>\n",
       "      <td>59.9</td>\n",
       "      <td>1005.0</td>\n",
       "      <td>4</td>\n",
       "      <td>0</td>\n",
       "      <td>5</td>\n",
       "      <td>1.217043</td>\n",
       "      <td>4</td>\n",
       "      <td>...</td>\n",
       "      <td>1</td>\n",
       "      <td>0</td>\n",
       "      <td>0</td>\n",
       "      <td>0</td>\n",
       "      <td>0</td>\n",
       "      <td>0</td>\n",
       "      <td>1</td>\n",
       "      <td>0</td>\n",
       "      <td>0</td>\n",
       "      <td>1.254374</td>\n",
       "    </tr>\n",
       "  </tbody>\n",
       "</table>\n",
       "<p>5 rows × 129 columns</p>\n",
       "</div>"
      ],
      "text/plain": [
       "      rid       course                                              title  \\\n",
       "0  302858      Thurles                       Liffey Maiden Hurdle (Div 1)   \n",
       "1  291347  Punchestown  Ericsson G.S.M. Grand National Trial Handicap ...   \n",
       "2   75447     Listowel               Ballybunion E.B.F. Beginners S'chase   \n",
       "3  358038  Punchestown  Quinns Of Baltinglass Chase (La Touche) (Cross...   \n",
       "4   89211    Tipperary                       Topaz Sprint Stakes (Listed)   \n",
       "\n",
       "   winningTime  metric  ncond  class  runners    margin  \\\n",
       "0        277.2  3821.0      1      0        6  1.219263   \n",
       "1        447.2  5229.0      5      0        9  1.218049   \n",
       "2        318.4  3620.0      5      0        8  1.277320   \n",
       "3        533.9  6637.0      1      0       10  1.286595   \n",
       "4         59.9  1005.0      4      0        5  1.217043   \n",
       "\n",
       "   1st_place_rank_in_odds  ...  pressure_level_2  pressure_level_3  \\\n",
       "0                       1  ...                 0                 1   \n",
       "1                       4  ...                 1                 0   \n",
       "2                       3  ...                 1                 0   \n",
       "3                       1  ...                 0                 1   \n",
       "4                       4  ...                 1                 0   \n",
       "\n",
       "   pressure_level_4  is_raining  rhum_level_0  rhum_level_1  rhum_level_2  \\\n",
       "0                 0           0             0             0             0   \n",
       "1                 0           1             0             0             0   \n",
       "2                 0           0             0             0             0   \n",
       "3                 0           0             0             0             0   \n",
       "4                 0           0             0             0             1   \n",
       "\n",
       "   rhum_level_3  rhum_level_4  entropy of odds  \n",
       "0             0             1         1.350363  \n",
       "1             0             1         1.995151  \n",
       "2             1             0         1.786421  \n",
       "3             1             0         1.611062  \n",
       "4             0             0         1.254374  \n",
       "\n",
       "[5 rows x 129 columns]"
      ]
     },
     "execution_count": 3,
     "metadata": {},
     "output_type": "execute_result"
    }
   ],
   "source": [
    "races_featurized = pd.read_csv(f\"{BASE_DIR}/data/streamline/races_featurized.csv\", low_memory=False) \n",
    "races_featurized.head()"
   ]
  },
  {
   "cell_type": "code",
   "execution_count": 4,
   "id": "60fdc317",
   "metadata": {},
   "outputs": [
    {
     "data": {
      "text/plain": [
       "(20201, 129)"
      ]
     },
     "execution_count": 4,
     "metadata": {},
     "output_type": "execute_result"
    }
   ],
   "source": [
    "races_featurized.shape"
   ]
  },
  {
   "cell_type": "code",
   "execution_count": 5,
   "id": "34220582",
   "metadata": {
    "scrolled": false
   },
   "outputs": [
    {
     "data": {
      "text/plain": [
       "['rid',\n",
       " 'course',\n",
       " 'title',\n",
       " 'winningTime',\n",
       " 'metric',\n",
       " 'ncond',\n",
       " 'class',\n",
       " 'runners',\n",
       " 'margin',\n",
       " '1st_place_rank_in_odds',\n",
       " '2nd_place_rank_in_odds',\n",
       " '3rd_place_rank_in_odds',\n",
       " '1st_rank_in_odds_place',\n",
       " '2nd_rank_in_odds_place',\n",
       " '3rd_rank_in_odds_place',\n",
       " 'placeAvailable',\n",
       " 'showAvailable',\n",
       " 'favoriteWon',\n",
       " 'favoritePlaced',\n",
       " 'favoriteShowed',\n",
       " 'lat',\n",
       " 'lng',\n",
       " 'datetime',\n",
       " 'station no',\n",
       " 'station name',\n",
       " 'station lat',\n",
       " 'station lng',\n",
       " 'dist to station',\n",
       " 'station reading date',\n",
       " 'temp',\n",
       " 'msl',\n",
       " 'rain',\n",
       " 'rhum',\n",
       " 'station reading timedelta',\n",
       " 'course__Ballinrobe',\n",
       " 'course__Bellewstown',\n",
       " 'course__Clonmel',\n",
       " 'course__Cork',\n",
       " 'course__Curragh',\n",
       " 'course__Down Royal',\n",
       " 'course__Downpatrick',\n",
       " 'course__Dundalk',\n",
       " 'course__Fairyhouse',\n",
       " 'course__Galway',\n",
       " 'course__Gowran Park',\n",
       " 'course__Killarney',\n",
       " 'course__Leopardstown',\n",
       " 'course__Limerick',\n",
       " 'course__Listowel',\n",
       " 'course__Naas',\n",
       " 'course__Navan',\n",
       " 'course__Other',\n",
       " 'course__Punchestown',\n",
       " 'course__Roscommon',\n",
       " 'course__Sligo',\n",
       " 'course__Tipperary',\n",
       " 'course__Tralee',\n",
       " 'course__Tramore',\n",
       " 'course__Wexford',\n",
       " 'metric__1005.0',\n",
       " 'metric__1206.0',\n",
       " 'metric__1306.5',\n",
       " 'metric__1407.0',\n",
       " 'metric__1507.5',\n",
       " 'metric__1609.0',\n",
       " 'metric__1709.5',\n",
       " 'metric__1810.0',\n",
       " 'metric__1910.5',\n",
       " 'metric__2011.0',\n",
       " 'metric__2111.5',\n",
       " 'metric__2212.0',\n",
       " 'metric__2413.0',\n",
       " 'metric__2614.0',\n",
       " 'metric__2815.0',\n",
       " 'metric__3218.0',\n",
       " 'metric__3419.0',\n",
       " 'metric__3620.0',\n",
       " 'metric__4022.0',\n",
       " 'metric__Other',\n",
       " 'ncond__0',\n",
       " 'ncond__1',\n",
       " 'ncond__2',\n",
       " 'ncond__4',\n",
       " 'ncond__5',\n",
       " 'ncond__6',\n",
       " 'ncond__9',\n",
       " 'ncond__11',\n",
       " 'ncond__12',\n",
       " 'ncond__Other',\n",
       " 'runners__6',\n",
       " 'runners__7',\n",
       " 'runners__8',\n",
       " 'runners__9',\n",
       " 'runners__10',\n",
       " 'runners__11',\n",
       " 'runners__12',\n",
       " 'runners__13',\n",
       " 'runners__14',\n",
       " 'runners__Other',\n",
       " 'month',\n",
       " 'month__3',\n",
       " 'month__4',\n",
       " 'month__5',\n",
       " 'month__6',\n",
       " 'month__7',\n",
       " 'month__8',\n",
       " 'month__9',\n",
       " 'month__10',\n",
       " 'month__11',\n",
       " 'month__12',\n",
       " 'month__Other',\n",
       " 'year',\n",
       " 'temp_level_0',\n",
       " 'temp_level_1',\n",
       " 'temp_level_2',\n",
       " 'temp_level_3',\n",
       " 'temp_level_4',\n",
       " 'pressure_level_0',\n",
       " 'pressure_level_1',\n",
       " 'pressure_level_2',\n",
       " 'pressure_level_3',\n",
       " 'pressure_level_4',\n",
       " 'is_raining',\n",
       " 'rhum_level_0',\n",
       " 'rhum_level_1',\n",
       " 'rhum_level_2',\n",
       " 'rhum_level_3',\n",
       " 'rhum_level_4',\n",
       " 'entropy of odds']"
      ]
     },
     "execution_count": 5,
     "metadata": {},
     "output_type": "execute_result"
    }
   ],
   "source": [
    "list(races_featurized.columns)"
   ]
  },
  {
   "cell_type": "markdown",
   "id": "60c8851a",
   "metadata": {},
   "source": [
    "---"
   ]
  },
  {
   "cell_type": "markdown",
   "id": "593bbafa",
   "metadata": {},
   "source": [
    "## Load `horses_selected_trimmed_clean.csv`"
   ]
  },
  {
   "cell_type": "code",
   "execution_count": 6,
   "id": "8b5bc3fa",
   "metadata": {
    "scrolled": true
   },
   "outputs": [
    {
     "data": {
      "text/html": [
       "<div>\n",
       "<style scoped>\n",
       "    .dataframe tbody tr th:only-of-type {\n",
       "        vertical-align: middle;\n",
       "    }\n",
       "\n",
       "    .dataframe tbody tr th {\n",
       "        vertical-align: top;\n",
       "    }\n",
       "\n",
       "    .dataframe thead th {\n",
       "        text-align: right;\n",
       "    }\n",
       "</style>\n",
       "<table border=\"1\" class=\"dataframe\">\n",
       "  <thead>\n",
       "    <tr style=\"text-align: right;\">\n",
       "      <th></th>\n",
       "      <th>rid</th>\n",
       "      <th>horseName</th>\n",
       "      <th>age</th>\n",
       "      <th>saddle</th>\n",
       "      <th>decimalPrice</th>\n",
       "      <th>isFav</th>\n",
       "      <th>trainerName</th>\n",
       "      <th>jockeyName</th>\n",
       "      <th>position</th>\n",
       "      <th>positionL</th>\n",
       "      <th>...</th>\n",
       "      <th>RPR</th>\n",
       "      <th>TR</th>\n",
       "      <th>OR</th>\n",
       "      <th>father</th>\n",
       "      <th>mother</th>\n",
       "      <th>gfather</th>\n",
       "      <th>weight</th>\n",
       "      <th>res_win</th>\n",
       "      <th>res_place</th>\n",
       "      <th>res_show</th>\n",
       "    </tr>\n",
       "  </thead>\n",
       "  <tbody>\n",
       "    <tr>\n",
       "      <th>0</th>\n",
       "      <td>302858</td>\n",
       "      <td>Kings Return</td>\n",
       "      <td>6.0</td>\n",
       "      <td>4.0</td>\n",
       "      <td>0.600000</td>\n",
       "      <td>1</td>\n",
       "      <td>W P Mullins</td>\n",
       "      <td>D J Casey</td>\n",
       "      <td>1</td>\n",
       "      <td>0</td>\n",
       "      <td>...</td>\n",
       "      <td>102.0</td>\n",
       "      <td>NaN</td>\n",
       "      <td>NaN</td>\n",
       "      <td>King's Ride</td>\n",
       "      <td>Browne's Return</td>\n",
       "      <td>Deep Run</td>\n",
       "      <td>73</td>\n",
       "      <td>1</td>\n",
       "      <td>1</td>\n",
       "      <td>0</td>\n",
       "    </tr>\n",
       "    <tr>\n",
       "      <th>1</th>\n",
       "      <td>302858</td>\n",
       "      <td>Majestic Red I</td>\n",
       "      <td>6.0</td>\n",
       "      <td>5.0</td>\n",
       "      <td>0.047619</td>\n",
       "      <td>0</td>\n",
       "      <td>John Hackett</td>\n",
       "      <td>Conor O'Dwyer</td>\n",
       "      <td>2</td>\n",
       "      <td>8</td>\n",
       "      <td>...</td>\n",
       "      <td>94.0</td>\n",
       "      <td>NaN</td>\n",
       "      <td>NaN</td>\n",
       "      <td>Long Pond</td>\n",
       "      <td>Courtlough Lady</td>\n",
       "      <td>Giolla Mear</td>\n",
       "      <td>73</td>\n",
       "      <td>0</td>\n",
       "      <td>1</td>\n",
       "      <td>0</td>\n",
       "    </tr>\n",
       "    <tr>\n",
       "      <th>2</th>\n",
       "      <td>302858</td>\n",
       "      <td>Clearly Canadian</td>\n",
       "      <td>6.0</td>\n",
       "      <td>2.0</td>\n",
       "      <td>0.166667</td>\n",
       "      <td>0</td>\n",
       "      <td>D T Hughes</td>\n",
       "      <td>G Cotter</td>\n",
       "      <td>3</td>\n",
       "      <td>1.5</td>\n",
       "      <td>...</td>\n",
       "      <td>92.0</td>\n",
       "      <td>NaN</td>\n",
       "      <td>NaN</td>\n",
       "      <td>Nordico</td>\n",
       "      <td>Over The Seas</td>\n",
       "      <td>North Summit</td>\n",
       "      <td>71</td>\n",
       "      <td>0</td>\n",
       "      <td>0</td>\n",
       "      <td>0</td>\n",
       "    </tr>\n",
       "    <tr>\n",
       "      <th>3</th>\n",
       "      <td>302858</td>\n",
       "      <td>Bernestic Wonder</td>\n",
       "      <td>8.0</td>\n",
       "      <td>1.0</td>\n",
       "      <td>0.058824</td>\n",
       "      <td>0</td>\n",
       "      <td>E McNamara</td>\n",
       "      <td>J Old Jones</td>\n",
       "      <td>4</td>\n",
       "      <td>dist</td>\n",
       "      <td>...</td>\n",
       "      <td>NaN</td>\n",
       "      <td>NaN</td>\n",
       "      <td>NaN</td>\n",
       "      <td>Roselier</td>\n",
       "      <td>Miss Reindeer</td>\n",
       "      <td>Reindeer</td>\n",
       "      <td>73</td>\n",
       "      <td>0</td>\n",
       "      <td>0</td>\n",
       "      <td>0</td>\n",
       "    </tr>\n",
       "    <tr>\n",
       "      <th>4</th>\n",
       "      <td>302858</td>\n",
       "      <td>Beauty's Pride</td>\n",
       "      <td>5.0</td>\n",
       "      <td>6.0</td>\n",
       "      <td>0.038462</td>\n",
       "      <td>0</td>\n",
       "      <td>J J Lennon</td>\n",
       "      <td>T Martin</td>\n",
       "      <td>5</td>\n",
       "      <td>dist</td>\n",
       "      <td>...</td>\n",
       "      <td>NaN</td>\n",
       "      <td>NaN</td>\n",
       "      <td>NaN</td>\n",
       "      <td>Noalto</td>\n",
       "      <td>Elena's Beauty</td>\n",
       "      <td>Tarqogan</td>\n",
       "      <td>66</td>\n",
       "      <td>0</td>\n",
       "      <td>0</td>\n",
       "      <td>0</td>\n",
       "    </tr>\n",
       "  </tbody>\n",
       "</table>\n",
       "<p>5 rows × 22 columns</p>\n",
       "</div>"
      ],
      "text/plain": [
       "      rid         horseName  age  saddle  decimalPrice  isFav   trainerName  \\\n",
       "0  302858      Kings Return  6.0     4.0      0.600000      1   W P Mullins   \n",
       "1  302858    Majestic Red I  6.0     5.0      0.047619      0  John Hackett   \n",
       "2  302858  Clearly Canadian  6.0     2.0      0.166667      0    D T Hughes   \n",
       "3  302858  Bernestic Wonder  8.0     1.0      0.058824      0    E McNamara   \n",
       "4  302858    Beauty's Pride  5.0     6.0      0.038462      0    J J Lennon   \n",
       "\n",
       "      jockeyName  position positionL  ...    RPR  TR  OR       father  \\\n",
       "0      D J Casey         1         0  ...  102.0 NaN NaN  King's Ride   \n",
       "1  Conor O'Dwyer         2         8  ...   94.0 NaN NaN    Long Pond   \n",
       "2       G Cotter         3       1.5  ...   92.0 NaN NaN      Nordico   \n",
       "3    J Old Jones         4      dist  ...    NaN NaN NaN     Roselier   \n",
       "4       T Martin         5      dist  ...    NaN NaN NaN       Noalto   \n",
       "\n",
       "            mother       gfather weight res_win  res_place  res_show  \n",
       "0  Browne's Return      Deep Run     73       1          1         0  \n",
       "1  Courtlough Lady   Giolla Mear     73       0          1         0  \n",
       "2    Over The Seas  North Summit     71       0          0         0  \n",
       "3    Miss Reindeer      Reindeer     73       0          0         0  \n",
       "4   Elena's Beauty      Tarqogan     66       0          0         0  \n",
       "\n",
       "[5 rows x 22 columns]"
      ]
     },
     "execution_count": 6,
     "metadata": {},
     "output_type": "execute_result"
    }
   ],
   "source": [
    "horses_clean = pd.read_csv(f\"{BASE_DIR}/data/streamline/horses_selected_trimmed_clean.csv\", low_memory=False) \n",
    "horses_clean.head()"
   ]
  },
  {
   "cell_type": "code",
   "execution_count": 7,
   "id": "2d2d4d69",
   "metadata": {},
   "outputs": [
    {
     "data": {
      "text/plain": [
       "(202304, 22)"
      ]
     },
     "execution_count": 7,
     "metadata": {},
     "output_type": "execute_result"
    }
   ],
   "source": [
    "horses_clean.shape"
   ]
  },
  {
   "cell_type": "markdown",
   "id": "89c6d07b",
   "metadata": {},
   "source": [
    "---"
   ]
  },
  {
   "cell_type": "markdown",
   "id": "5081bc4a",
   "metadata": {},
   "source": [
    "## Load `races_selected.csv`"
   ]
  },
  {
   "cell_type": "markdown",
   "id": "2c1fb896",
   "metadata": {},
   "source": [
    "We need this to make a mapping from the condition code to the interpretation of this code."
   ]
  },
  {
   "cell_type": "code",
   "execution_count": 8,
   "id": "6faae8ac",
   "metadata": {},
   "outputs": [
    {
     "data": {
      "text/html": [
       "<div>\n",
       "<style scoped>\n",
       "    .dataframe tbody tr th:only-of-type {\n",
       "        vertical-align: middle;\n",
       "    }\n",
       "\n",
       "    .dataframe tbody tr th {\n",
       "        vertical-align: top;\n",
       "    }\n",
       "\n",
       "    .dataframe thead th {\n",
       "        text-align: right;\n",
       "    }\n",
       "</style>\n",
       "<table border=\"1\" class=\"dataframe\">\n",
       "  <thead>\n",
       "    <tr style=\"text-align: right;\">\n",
       "      <th></th>\n",
       "      <th>rid</th>\n",
       "      <th>course</th>\n",
       "      <th>time</th>\n",
       "      <th>date</th>\n",
       "      <th>title</th>\n",
       "      <th>rclass</th>\n",
       "      <th>band</th>\n",
       "      <th>ages</th>\n",
       "      <th>distance</th>\n",
       "      <th>condition</th>\n",
       "      <th>hurdles</th>\n",
       "      <th>prizes</th>\n",
       "      <th>winningTime</th>\n",
       "      <th>prize</th>\n",
       "      <th>metric</th>\n",
       "      <th>countryCode</th>\n",
       "      <th>ncond</th>\n",
       "      <th>class</th>\n",
       "      <th>runners</th>\n",
       "    </tr>\n",
       "  </thead>\n",
       "  <tbody>\n",
       "    <tr>\n",
       "      <th>0</th>\n",
       "      <td>302858</td>\n",
       "      <td>Thurles (IRE)</td>\n",
       "      <td>01:15</td>\n",
       "      <td>97/01/09</td>\n",
       "      <td>Liffey Maiden Hurdle (Div 1)</td>\n",
       "      <td>NaN</td>\n",
       "      <td>NaN</td>\n",
       "      <td>5yo+</td>\n",
       "      <td>2m3f</td>\n",
       "      <td>Good</td>\n",
       "      <td>NaN</td>\n",
       "      <td>[]</td>\n",
       "      <td>277.2</td>\n",
       "      <td>NaN</td>\n",
       "      <td>3821.0</td>\n",
       "      <td>IE</td>\n",
       "      <td>1</td>\n",
       "      <td>0</td>\n",
       "      <td>6</td>\n",
       "    </tr>\n",
       "    <tr>\n",
       "      <th>1</th>\n",
       "      <td>291347</td>\n",
       "      <td>Punchestown (IRE)</td>\n",
       "      <td>03:40</td>\n",
       "      <td>97/02/16</td>\n",
       "      <td>Ericsson G.S.M. Grand National Trial Handicap ...</td>\n",
       "      <td>NaN</td>\n",
       "      <td>NaN</td>\n",
       "      <td>5yo+</td>\n",
       "      <td>3m2f</td>\n",
       "      <td>Soft</td>\n",
       "      <td>NaN</td>\n",
       "      <td>[]</td>\n",
       "      <td>447.2</td>\n",
       "      <td>NaN</td>\n",
       "      <td>5229.0</td>\n",
       "      <td>IE</td>\n",
       "      <td>5</td>\n",
       "      <td>0</td>\n",
       "      <td>9</td>\n",
       "    </tr>\n",
       "    <tr>\n",
       "      <th>2</th>\n",
       "      <td>75447</td>\n",
       "      <td>Listowel (IRE)</td>\n",
       "      <td>03:00</td>\n",
       "      <td>97/03/01</td>\n",
       "      <td>Ballybunion E.B.F. Beginners S'chase</td>\n",
       "      <td>NaN</td>\n",
       "      <td>NaN</td>\n",
       "      <td>4yo+</td>\n",
       "      <td>2m2f</td>\n",
       "      <td>Soft</td>\n",
       "      <td>NaN</td>\n",
       "      <td>[]</td>\n",
       "      <td>318.4</td>\n",
       "      <td>NaN</td>\n",
       "      <td>3620.0</td>\n",
       "      <td>IE</td>\n",
       "      <td>5</td>\n",
       "      <td>0</td>\n",
       "      <td>8</td>\n",
       "    </tr>\n",
       "    <tr>\n",
       "      <th>3</th>\n",
       "      <td>358038</td>\n",
       "      <td>Punchestown (IRE)</td>\n",
       "      <td>02:40</td>\n",
       "      <td>97/04/24</td>\n",
       "      <td>Quinns Of Baltinglass Chase (La Touche) (Cross...</td>\n",
       "      <td>NaN</td>\n",
       "      <td>NaN</td>\n",
       "      <td>5yo+</td>\n",
       "      <td>4m1f</td>\n",
       "      <td>Good</td>\n",
       "      <td>NaN</td>\n",
       "      <td>[]</td>\n",
       "      <td>533.9</td>\n",
       "      <td>NaN</td>\n",
       "      <td>6637.0</td>\n",
       "      <td>IE</td>\n",
       "      <td>1</td>\n",
       "      <td>0</td>\n",
       "      <td>10</td>\n",
       "    </tr>\n",
       "    <tr>\n",
       "      <th>4</th>\n",
       "      <td>78982</td>\n",
       "      <td>Dundalk (IRE)</td>\n",
       "      <td>05:15</td>\n",
       "      <td>97/05/02</td>\n",
       "      <td>Carlingford Handicap Chase</td>\n",
       "      <td>NaN</td>\n",
       "      <td>0-109</td>\n",
       "      <td>4yo+</td>\n",
       "      <td>3m</td>\n",
       "      <td>Firm</td>\n",
       "      <td>NaN</td>\n",
       "      <td>[]</td>\n",
       "      <td>370.3</td>\n",
       "      <td>NaN</td>\n",
       "      <td>4827.0</td>\n",
       "      <td>IE</td>\n",
       "      <td>8</td>\n",
       "      <td>0</td>\n",
       "      <td>4</td>\n",
       "    </tr>\n",
       "  </tbody>\n",
       "</table>\n",
       "</div>"
      ],
      "text/plain": [
       "      rid             course   time      date  \\\n",
       "0  302858      Thurles (IRE)  01:15  97/01/09   \n",
       "1  291347  Punchestown (IRE)  03:40  97/02/16   \n",
       "2   75447     Listowel (IRE)  03:00  97/03/01   \n",
       "3  358038  Punchestown (IRE)  02:40  97/04/24   \n",
       "4   78982      Dundalk (IRE)  05:15  97/05/02   \n",
       "\n",
       "                                               title rclass   band  ages  \\\n",
       "0                       Liffey Maiden Hurdle (Div 1)    NaN    NaN  5yo+   \n",
       "1  Ericsson G.S.M. Grand National Trial Handicap ...    NaN    NaN  5yo+   \n",
       "2               Ballybunion E.B.F. Beginners S'chase    NaN    NaN  4yo+   \n",
       "3  Quinns Of Baltinglass Chase (La Touche) (Cross...    NaN    NaN  5yo+   \n",
       "4                         Carlingford Handicap Chase    NaN  0-109  4yo+   \n",
       "\n",
       "  distance condition  hurdles prizes  winningTime  prize  metric countryCode  \\\n",
       "0     2m3f      Good      NaN     []        277.2    NaN  3821.0          IE   \n",
       "1     3m2f      Soft      NaN     []        447.2    NaN  5229.0          IE   \n",
       "2     2m2f      Soft      NaN     []        318.4    NaN  3620.0          IE   \n",
       "3     4m1f      Good      NaN     []        533.9    NaN  6637.0          IE   \n",
       "4       3m      Firm      NaN     []        370.3    NaN  4827.0          IE   \n",
       "\n",
       "   ncond  class  runners  \n",
       "0      1      0        6  \n",
       "1      5      0        9  \n",
       "2      5      0        8  \n",
       "3      1      0       10  \n",
       "4      8      0        4  "
      ]
     },
     "execution_count": 8,
     "metadata": {},
     "output_type": "execute_result"
    }
   ],
   "source": [
    "races_selected = pd.read_csv(f\"{BASE_DIR}/data/streamline/races_selected.csv\", low_memory=False) \n",
    "races_selected.head()"
   ]
  },
  {
   "cell_type": "code",
   "execution_count": 9,
   "id": "7953a0fb",
   "metadata": {},
   "outputs": [
    {
     "data": {
      "text/plain": [
       "{1: 'Good',\n",
       " 0: 'Standard',\n",
       " 2: 'Good To Firm',\n",
       " 5: 'Soft',\n",
       " 9: 'Heavy',\n",
       " 6: 'Yielding',\n",
       " 4: 'Good To Yielding',\n",
       " 11: 'Yielding To Soft',\n",
       " 12: 'Soft To Heavy',\n",
       " 8: 'Firm',\n",
       " 10: 'Good To Soft',\n",
       " 17: 'Slow'}"
      ]
     },
     "execution_count": 9,
     "metadata": {},
     "output_type": "execute_result"
    }
   ],
   "source": [
    "ncond_to_condition = races_selected[['condition', 'ncond']].value_counts().to_dict()\n",
    "ncond_to_condition = {k[1]: k[0] for k, _ in ncond_to_condition.items()}\n",
    "ncond_to_condition"
   ]
  },
  {
   "cell_type": "markdown",
   "id": "da41d828",
   "metadata": {},
   "source": [
    "These are confusing. Let's simplify these."
   ]
  },
  {
   "cell_type": "code",
   "execution_count": 10,
   "id": "235763e8",
   "metadata": {},
   "outputs": [],
   "source": [
    "ncond_to_simpler = {\n",
    "    0: 'Good',\n",
    "    1: 'Good',\n",
    "    2: 'Firm',\n",
    "    4: 'Soft',\n",
    "    5: 'Soft',\n",
    "    6: 'Soft',\n",
    "    8: 'Firm',\n",
    "    9: 'Heavy',\n",
    "    10: 'Soft',\n",
    "    11: 'Soft',\n",
    "    12: 'Heavy',\n",
    "    17: 'Heavy'\n",
    "}"
   ]
  },
  {
   "cell_type": "code",
   "execution_count": 11,
   "id": "0bb22d3e",
   "metadata": {},
   "outputs": [],
   "source": [
    "races_featurized['simpler_ncond'] = races_featurized['ncond'].map(lambda x: ncond_to_simpler[x])"
   ]
  },
  {
   "cell_type": "markdown",
   "id": "75e03d2c",
   "metadata": {},
   "source": [
    "---"
   ]
  },
  {
   "cell_type": "markdown",
   "id": "9819b14d",
   "metadata": {},
   "source": [
    "## Rainfall Matches Going Conditions"
   ]
  },
  {
   "cell_type": "code",
   "execution_count": 12,
   "id": "7dcce275",
   "metadata": {},
   "outputs": [
    {
     "data": {
      "text/plain": [
       "(16990, 3211)"
      ]
     },
     "execution_count": 12,
     "metadata": {},
     "output_type": "execute_result"
    }
   ],
   "source": [
    "dfa = races_featurized[\n",
    "    (races_featurized['is_raining'] == 0)\n",
    "]\n",
    "\n",
    "dfb = races_featurized[\n",
    "    ~((races_featurized['is_raining'] == 0))\n",
    "]\n",
    "\n",
    "len(dfa), len(dfb)"
   ]
  },
  {
   "cell_type": "code",
   "execution_count": 44,
   "id": "bb03db72",
   "metadata": {},
   "outputs": [
    {
     "data": {
      "image/png": "[encoded data removed]",
      "text/plain": [
       "<Figure size 432x288 with 1 Axes>"
      ]
     },
     "metadata": {
      "needs_background": "light"
     },
     "output_type": "display_data"
    },
    {
     "data": {
      "text/plain": [
       "{'Firm': 0.22007062978222483,\n",
       " 'Good': 0.3799293702177752,\n",
       " 'Soft': 0.28799293702177753,\n",
       " 'Heavy': 0.11200706297822248}"
      ]
     },
     "execution_count": 44,
     "metadata": {},
     "output_type": "execute_result"
    }
   ],
   "source": [
    "d_dfa = dfa['simpler_ncond'].value_counts(normalize=True).to_dict()\n",
    "d_dfa = {\n",
    "    'Firm': d_dfa['Firm'],\n",
    "    'Good': d_dfa['Good'],\n",
    "    'Soft': d_dfa['Soft'],\n",
    "    'Heavy': d_dfa['Heavy'],\n",
    "}\n",
    "\n",
    "plt.barh(list(d_dfa.keys()), list(d_dfa.values()))\n",
    "\n",
    "for index, value in enumerate(d.values()):\n",
    "    plt.text(value, index, \"%.3f\" % value)\n",
    "    \n",
    "plt.show()\n",
    "d_dfa"
   ]
  },
  {
   "cell_type": "code",
   "execution_count": 43,
   "id": "0e5370d8",
   "metadata": {},
   "outputs": [
    {
     "data": {
      "image/png": "[encoded data removed]",
      "text/plain": [
       "<Figure size 432x288 with 1 Axes>"
      ]
     },
     "metadata": {
      "needs_background": "light"
     },
     "output_type": "display_data"
    },
    {
     "data": {
      "text/plain": [
       "{'Firm': 0.10152600436001245,\n",
       " 'Good': 0.3653067580193086,\n",
       " 'Soft': 0.3475552787293678,\n",
       " 'Heavy': 0.18561195889131113}"
      ]
     },
     "execution_count": 43,
     "metadata": {},
     "output_type": "execute_result"
    }
   ],
   "source": [
    "d_dfb = dfb['simpler_ncond'].value_counts(normalize=True).to_dict()\n",
    "d_dfb = {\n",
    "    'Firm': d_dfb['Firm'],\n",
    "    'Good': d_dfb['Good'],\n",
    "    'Soft': d_dfb['Soft'],\n",
    "    'Heavy': d_dfb['Heavy'],\n",
    "}\n",
    "\n",
    "plt.barh(list(d_dfb.keys()), list(d_dfb.values()))\n",
    "\n",
    "# for index, value in enumerate(d.values()):\n",
    "#     plt.text(value, index, \"%.3f\" % value)\n",
    "    \n",
    "plt.show()\n",
    "d_dfb"
   ]
  },
  {
   "cell_type": "code",
   "execution_count": 42,
   "id": "aa9ac88e",
   "metadata": {},
   "outputs": [
    {
     "data": {
      "image/png": "[encoded data removed]",
      "text/plain": [
       "<Figure size 360x360 with 1 Axes>"
      ]
     },
     "metadata": {
      "needs_background": "light"
     },
     "output_type": "display_data"
    }
   ],
   "source": [
    "fig = plt.figure(figsize=(5,5))\n",
    "gs = fig.add_gridspec(1, 1)\n",
    "\n",
    "fig.suptitle(\"\")\n",
    "\n",
    "ax1 = fig.add_subplot(gs[0:1, 0:1])\n",
    "\n",
    "ax1.set_title(\"Track Conditions by Rainfall\")\n",
    "\n",
    "ind = np.arange(len(d_dfa.keys()))\n",
    "width = 0.3\n",
    "\n",
    "ax1.bar(\n",
    "    ind,\n",
    "    list(d_dfa.values()),\n",
    "    width,\n",
    "    label=\"w/o Rain\"\n",
    ")\n",
    "\n",
    "ax1.bar(\n",
    "    ind + width,\n",
    "    list(d_dfb.values()),\n",
    "    width,\n",
    "    label=\"w/ Rain\"\n",
    ")\n",
    "\n",
    "plt.xticks(ind + width / 2, ('Firm', 'Good', 'Soft', 'Heavy'))\n",
    "\n",
    "ax1.set_xlabel(\"Track Condition\")\n",
    "ax1.set_ylabel(\"Proportion of Races\")\n",
    "ax1.legend(loc='upper left')\n",
    "\n",
    "plt.tight_layout()\n",
    "\n",
    "fig.savefig(f\"{BASE_DIR}/figures/track_conditions_by_rainfall.png\")\n",
    "\n",
    "plt.show()"
   ]
  },
  {
   "cell_type": "markdown",
   "id": "2a7cafd3",
   "metadata": {},
   "source": [
    "---"
   ]
  }
 ],
 "metadata": {
  "kernelspec": {
   "display_name": "Python 3 (ipykernel)",
   "language": "python",
   "name": "python3"
  },
  "language_info": {
   "codemirror_mode": {
    "name": "ipython",
    "version": 3
   },
   "file_extension": ".py",
   "mimetype": "text/x-python",
   "name": "python",
   "nbconvert_exporter": "python",
   "pygments_lexer": "ipython3",
   "version": "3.9.6"
  }
 },
 "nbformat": 4,
 "nbformat_minor": 5
}
