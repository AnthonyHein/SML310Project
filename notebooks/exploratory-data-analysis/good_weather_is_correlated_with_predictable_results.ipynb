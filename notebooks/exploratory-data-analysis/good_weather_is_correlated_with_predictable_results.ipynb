{
 "cells": [
  {
   "cell_type": "markdown",
   "id": "7026e67b",
   "metadata": {},
   "source": [
    "# `good_weather_is_correlated_with_predictable_results.ipynb`"
   ]
  },
  {
   "cell_type": "markdown",
   "id": "c052cb33",
   "metadata": {},
   "source": [
    "### Author: Anthony Hein"
   ]
  },
  {
   "cell_type": "markdown",
   "id": "194e2cf5",
   "metadata": {},
   "source": [
    "#### Last updated: 11/8/2021"
   ]
  },
  {
   "cell_type": "markdown",
   "id": "1b86aa88",
   "metadata": {},
   "source": [
    "# Overview:\n",
    "\n",
    "This notebook shows that good weather is correlated with predictable results."
   ]
  },
  {
   "cell_type": "markdown",
   "id": "697e80d8",
   "metadata": {},
   "source": [
    "---"
   ]
  },
  {
   "cell_type": "markdown",
   "id": "08164829",
   "metadata": {},
   "source": [
    "## Setup"
   ]
  },
  {
   "cell_type": "code",
   "execution_count": 1,
   "id": "9e9ee6d1",
   "metadata": {},
   "outputs": [],
   "source": [
    "from datetime import datetime\n",
    "import git\n",
    "import os\n",
    "import re\n",
    "from typing import List\n",
    "from sklearn.preprocessing import StandardScaler\n",
    "from tqdm import tqdm\n",
    "import pandas as pd\n",
    "import numpy as np\n",
    "from scipy import stats\n",
    "import matplotlib.pyplot as plt\n",
    "import seaborn as sns\n",
    "%matplotlib inline\n",
    "\n",
    "sns.set_theme(style=\"whitegrid\")"
   ]
  },
  {
   "cell_type": "code",
   "execution_count": 2,
   "id": "f013a715",
   "metadata": {},
   "outputs": [
    {
     "data": {
      "text/plain": [
       "'/Users/anthonyhein/Desktop/SML310/project'"
      ]
     },
     "execution_count": 2,
     "metadata": {},
     "output_type": "execute_result"
    }
   ],
   "source": [
    "BASE_DIR = git.Repo(os.getcwd(), search_parent_directories=True).working_dir\n",
    "BASE_DIR"
   ]
  },
  {
   "cell_type": "markdown",
   "id": "900adb93",
   "metadata": {},
   "source": [
    "---"
   ]
  },
  {
   "cell_type": "markdown",
   "id": "75c7066e",
   "metadata": {},
   "source": [
    "## Load `races_featurized.csv`"
   ]
  },
  {
   "cell_type": "code",
   "execution_count": 3,
   "id": "cee61ac1",
   "metadata": {},
   "outputs": [
    {
     "data": {
      "text/html": [
       "<div>\n",
       "<style scoped>\n",
       "    .dataframe tbody tr th:only-of-type {\n",
       "        vertical-align: middle;\n",
       "    }\n",
       "\n",
       "    .dataframe tbody tr th {\n",
       "        vertical-align: top;\n",
       "    }\n",
       "\n",
       "    .dataframe thead th {\n",
       "        text-align: right;\n",
       "    }\n",
       "</style>\n",
       "<table border=\"1\" class=\"dataframe\">\n",
       "  <thead>\n",
       "    <tr style=\"text-align: right;\">\n",
       "      <th></th>\n",
       "      <th>rid</th>\n",
       "      <th>course</th>\n",
       "      <th>title</th>\n",
       "      <th>winningTime</th>\n",
       "      <th>metric</th>\n",
       "      <th>ncond</th>\n",
       "      <th>class</th>\n",
       "      <th>runners</th>\n",
       "      <th>margin</th>\n",
       "      <th>1st_place_rank_in_odds</th>\n",
       "      <th>...</th>\n",
       "      <th>pressure_level_2</th>\n",
       "      <th>pressure_level_3</th>\n",
       "      <th>pressure_level_4</th>\n",
       "      <th>is_raining</th>\n",
       "      <th>rhum_level_0</th>\n",
       "      <th>rhum_level_1</th>\n",
       "      <th>rhum_level_2</th>\n",
       "      <th>rhum_level_3</th>\n",
       "      <th>rhum_level_4</th>\n",
       "      <th>entropy of odds</th>\n",
       "    </tr>\n",
       "  </thead>\n",
       "  <tbody>\n",
       "    <tr>\n",
       "      <th>0</th>\n",
       "      <td>302858</td>\n",
       "      <td>Thurles</td>\n",
       "      <td>Liffey Maiden Hurdle (Div 1)</td>\n",
       "      <td>277.2</td>\n",
       "      <td>3821.0</td>\n",
       "      <td>1</td>\n",
       "      <td>0</td>\n",
       "      <td>6</td>\n",
       "      <td>1.219263</td>\n",
       "      <td>1</td>\n",
       "      <td>...</td>\n",
       "      <td>0</td>\n",
       "      <td>1</td>\n",
       "      <td>0</td>\n",
       "      <td>0</td>\n",
       "      <td>0</td>\n",
       "      <td>0</td>\n",
       "      <td>0</td>\n",
       "      <td>0</td>\n",
       "      <td>1</td>\n",
       "      <td>1.350363</td>\n",
       "    </tr>\n",
       "    <tr>\n",
       "      <th>1</th>\n",
       "      <td>291347</td>\n",
       "      <td>Punchestown</td>\n",
       "      <td>Ericsson G.S.M. Grand National Trial Handicap ...</td>\n",
       "      <td>447.2</td>\n",
       "      <td>5229.0</td>\n",
       "      <td>5</td>\n",
       "      <td>0</td>\n",
       "      <td>9</td>\n",
       "      <td>1.218049</td>\n",
       "      <td>4</td>\n",
       "      <td>...</td>\n",
       "      <td>1</td>\n",
       "      <td>0</td>\n",
       "      <td>0</td>\n",
       "      <td>1</td>\n",
       "      <td>0</td>\n",
       "      <td>0</td>\n",
       "      <td>0</td>\n",
       "      <td>0</td>\n",
       "      <td>1</td>\n",
       "      <td>1.995151</td>\n",
       "    </tr>\n",
       "    <tr>\n",
       "      <th>2</th>\n",
       "      <td>75447</td>\n",
       "      <td>Listowel</td>\n",
       "      <td>Ballybunion E.B.F. Beginners S'chase</td>\n",
       "      <td>318.4</td>\n",
       "      <td>3620.0</td>\n",
       "      <td>5</td>\n",
       "      <td>0</td>\n",
       "      <td>8</td>\n",
       "      <td>1.277320</td>\n",
       "      <td>3</td>\n",
       "      <td>...</td>\n",
       "      <td>1</td>\n",
       "      <td>0</td>\n",
       "      <td>0</td>\n",
       "      <td>0</td>\n",
       "      <td>0</td>\n",
       "      <td>0</td>\n",
       "      <td>0</td>\n",
       "      <td>1</td>\n",
       "      <td>0</td>\n",
       "      <td>1.786421</td>\n",
       "    </tr>\n",
       "    <tr>\n",
       "      <th>3</th>\n",
       "      <td>358038</td>\n",
       "      <td>Punchestown</td>\n",
       "      <td>Quinns Of Baltinglass Chase (La Touche) (Cross...</td>\n",
       "      <td>533.9</td>\n",
       "      <td>6637.0</td>\n",
       "      <td>1</td>\n",
       "      <td>0</td>\n",
       "      <td>10</td>\n",
       "      <td>1.286595</td>\n",
       "      <td>1</td>\n",
       "      <td>...</td>\n",
       "      <td>0</td>\n",
       "      <td>1</td>\n",
       "      <td>0</td>\n",
       "      <td>0</td>\n",
       "      <td>0</td>\n",
       "      <td>0</td>\n",
       "      <td>0</td>\n",
       "      <td>1</td>\n",
       "      <td>0</td>\n",
       "      <td>1.611062</td>\n",
       "    </tr>\n",
       "    <tr>\n",
       "      <th>4</th>\n",
       "      <td>89211</td>\n",
       "      <td>Tipperary</td>\n",
       "      <td>Topaz Sprint Stakes (Listed)</td>\n",
       "      <td>59.9</td>\n",
       "      <td>1005.0</td>\n",
       "      <td>4</td>\n",
       "      <td>0</td>\n",
       "      <td>5</td>\n",
       "      <td>1.217043</td>\n",
       "      <td>4</td>\n",
       "      <td>...</td>\n",
       "      <td>1</td>\n",
       "      <td>0</td>\n",
       "      <td>0</td>\n",
       "      <td>0</td>\n",
       "      <td>0</td>\n",
       "      <td>0</td>\n",
       "      <td>1</td>\n",
       "      <td>0</td>\n",
       "      <td>0</td>\n",
       "      <td>1.254374</td>\n",
       "    </tr>\n",
       "  </tbody>\n",
       "</table>\n",
       "<p>5 rows × 129 columns</p>\n",
       "</div>"
      ],
      "text/plain": [
       "      rid       course                                              title  \\\n",
       "0  302858      Thurles                       Liffey Maiden Hurdle (Div 1)   \n",
       "1  291347  Punchestown  Ericsson G.S.M. Grand National Trial Handicap ...   \n",
       "2   75447     Listowel               Ballybunion E.B.F. Beginners S'chase   \n",
       "3  358038  Punchestown  Quinns Of Baltinglass Chase (La Touche) (Cross...   \n",
       "4   89211    Tipperary                       Topaz Sprint Stakes (Listed)   \n",
       "\n",
       "   winningTime  metric  ncond  class  runners    margin  \\\n",
       "0        277.2  3821.0      1      0        6  1.219263   \n",
       "1        447.2  5229.0      5      0        9  1.218049   \n",
       "2        318.4  3620.0      5      0        8  1.277320   \n",
       "3        533.9  6637.0      1      0       10  1.286595   \n",
       "4         59.9  1005.0      4      0        5  1.217043   \n",
       "\n",
       "   1st_place_rank_in_odds  ...  pressure_level_2  pressure_level_3  \\\n",
       "0                       1  ...                 0                 1   \n",
       "1                       4  ...                 1                 0   \n",
       "2                       3  ...                 1                 0   \n",
       "3                       1  ...                 0                 1   \n",
       "4                       4  ...                 1                 0   \n",
       "\n",
       "   pressure_level_4  is_raining  rhum_level_0  rhum_level_1  rhum_level_2  \\\n",
       "0                 0           0             0             0             0   \n",
       "1                 0           1             0             0             0   \n",
       "2                 0           0             0             0             0   \n",
       "3                 0           0             0             0             0   \n",
       "4                 0           0             0             0             1   \n",
       "\n",
       "   rhum_level_3  rhum_level_4  entropy of odds  \n",
       "0             0             1         1.350363  \n",
       "1             0             1         1.995151  \n",
       "2             1             0         1.786421  \n",
       "3             1             0         1.611062  \n",
       "4             0             0         1.254374  \n",
       "\n",
       "[5 rows x 129 columns]"
      ]
     },
     "execution_count": 3,
     "metadata": {},
     "output_type": "execute_result"
    }
   ],
   "source": [
    "races_featurized = pd.read_csv(f\"{BASE_DIR}/data/streamline/races_featurized.csv\", low_memory=False) \n",
    "races_featurized.head()"
   ]
  },
  {
   "cell_type": "code",
   "execution_count": 4,
   "id": "60fdc317",
   "metadata": {},
   "outputs": [
    {
     "data": {
      "text/plain": [
       "(20201, 129)"
      ]
     },
     "execution_count": 4,
     "metadata": {},
     "output_type": "execute_result"
    }
   ],
   "source": [
    "races_featurized.shape"
   ]
  },
  {
   "cell_type": "code",
   "execution_count": 5,
   "id": "34220582",
   "metadata": {
    "scrolled": false
   },
   "outputs": [
    {
     "data": {
      "text/plain": [
       "['rid',\n",
       " 'course',\n",
       " 'title',\n",
       " 'winningTime',\n",
       " 'metric',\n",
       " 'ncond',\n",
       " 'class',\n",
       " 'runners',\n",
       " 'margin',\n",
       " '1st_place_rank_in_odds',\n",
       " '2nd_place_rank_in_odds',\n",
       " '3rd_place_rank_in_odds',\n",
       " '1st_rank_in_odds_place',\n",
       " '2nd_rank_in_odds_place',\n",
       " '3rd_rank_in_odds_place',\n",
       " 'placeAvailable',\n",
       " 'showAvailable',\n",
       " 'favoriteWon',\n",
       " 'favoritePlaced',\n",
       " 'favoriteShowed',\n",
       " 'lat',\n",
       " 'lng',\n",
       " 'datetime',\n",
       " 'station no',\n",
       " 'station name',\n",
       " 'station lat',\n",
       " 'station lng',\n",
       " 'dist to station',\n",
       " 'station reading date',\n",
       " 'temp',\n",
       " 'msl',\n",
       " 'rain',\n",
       " 'rhum',\n",
       " 'station reading timedelta',\n",
       " 'course__Ballinrobe',\n",
       " 'course__Bellewstown',\n",
       " 'course__Clonmel',\n",
       " 'course__Cork',\n",
       " 'course__Curragh',\n",
       " 'course__Down Royal',\n",
       " 'course__Downpatrick',\n",
       " 'course__Dundalk',\n",
       " 'course__Fairyhouse',\n",
       " 'course__Galway',\n",
       " 'course__Gowran Park',\n",
       " 'course__Killarney',\n",
       " 'course__Leopardstown',\n",
       " 'course__Limerick',\n",
       " 'course__Listowel',\n",
       " 'course__Naas',\n",
       " 'course__Navan',\n",
       " 'course__Other',\n",
       " 'course__Punchestown',\n",
       " 'course__Roscommon',\n",
       " 'course__Sligo',\n",
       " 'course__Tipperary',\n",
       " 'course__Tralee',\n",
       " 'course__Tramore',\n",
       " 'course__Wexford',\n",
       " 'metric__1005.0',\n",
       " 'metric__1206.0',\n",
       " 'metric__1306.5',\n",
       " 'metric__1407.0',\n",
       " 'metric__1507.5',\n",
       " 'metric__1609.0',\n",
       " 'metric__1709.5',\n",
       " 'metric__1810.0',\n",
       " 'metric__1910.5',\n",
       " 'metric__2011.0',\n",
       " 'metric__2111.5',\n",
       " 'metric__2212.0',\n",
       " 'metric__2413.0',\n",
       " 'metric__2614.0',\n",
       " 'metric__2815.0',\n",
       " 'metric__3218.0',\n",
       " 'metric__3419.0',\n",
       " 'metric__3620.0',\n",
       " 'metric__4022.0',\n",
       " 'metric__Other',\n",
       " 'ncond__0',\n",
       " 'ncond__1',\n",
       " 'ncond__2',\n",
       " 'ncond__4',\n",
       " 'ncond__5',\n",
       " 'ncond__6',\n",
       " 'ncond__9',\n",
       " 'ncond__11',\n",
       " 'ncond__12',\n",
       " 'ncond__Other',\n",
       " 'runners__6',\n",
       " 'runners__7',\n",
       " 'runners__8',\n",
       " 'runners__9',\n",
       " 'runners__10',\n",
       " 'runners__11',\n",
       " 'runners__12',\n",
       " 'runners__13',\n",
       " 'runners__14',\n",
       " 'runners__Other',\n",
       " 'month',\n",
       " 'month__3',\n",
       " 'month__4',\n",
       " 'month__5',\n",
       " 'month__6',\n",
       " 'month__7',\n",
       " 'month__8',\n",
       " 'month__9',\n",
       " 'month__10',\n",
       " 'month__11',\n",
       " 'month__12',\n",
       " 'month__Other',\n",
       " 'year',\n",
       " 'temp_level_0',\n",
       " 'temp_level_1',\n",
       " 'temp_level_2',\n",
       " 'temp_level_3',\n",
       " 'temp_level_4',\n",
       " 'pressure_level_0',\n",
       " 'pressure_level_1',\n",
       " 'pressure_level_2',\n",
       " 'pressure_level_3',\n",
       " 'pressure_level_4',\n",
       " 'is_raining',\n",
       " 'rhum_level_0',\n",
       " 'rhum_level_1',\n",
       " 'rhum_level_2',\n",
       " 'rhum_level_3',\n",
       " 'rhum_level_4',\n",
       " 'entropy of odds']"
      ]
     },
     "execution_count": 5,
     "metadata": {},
     "output_type": "execute_result"
    }
   ],
   "source": [
    "list(races_featurized.columns)"
   ]
  },
  {
   "cell_type": "markdown",
   "id": "60c8851a",
   "metadata": {},
   "source": [
    "---"
   ]
  },
  {
   "cell_type": "markdown",
   "id": "28e7b448",
   "metadata": {},
   "source": [
    "## Load `horses_selected_trimmed_clean.csv`"
   ]
  },
  {
   "cell_type": "code",
   "execution_count": 6,
   "id": "b86ad0b6",
   "metadata": {
    "scrolled": true
   },
   "outputs": [
    {
     "data": {
      "text/html": [
       "<div>\n",
       "<style scoped>\n",
       "    .dataframe tbody tr th:only-of-type {\n",
       "        vertical-align: middle;\n",
       "    }\n",
       "\n",
       "    .dataframe tbody tr th {\n",
       "        vertical-align: top;\n",
       "    }\n",
       "\n",
       "    .dataframe thead th {\n",
       "        text-align: right;\n",
       "    }\n",
       "</style>\n",
       "<table border=\"1\" class=\"dataframe\">\n",
       "  <thead>\n",
       "    <tr style=\"text-align: right;\">\n",
       "      <th></th>\n",
       "      <th>rid</th>\n",
       "      <th>horseName</th>\n",
       "      <th>age</th>\n",
       "      <th>saddle</th>\n",
       "      <th>decimalPrice</th>\n",
       "      <th>isFav</th>\n",
       "      <th>trainerName</th>\n",
       "      <th>jockeyName</th>\n",
       "      <th>position</th>\n",
       "      <th>positionL</th>\n",
       "      <th>...</th>\n",
       "      <th>RPR</th>\n",
       "      <th>TR</th>\n",
       "      <th>OR</th>\n",
       "      <th>father</th>\n",
       "      <th>mother</th>\n",
       "      <th>gfather</th>\n",
       "      <th>weight</th>\n",
       "      <th>res_win</th>\n",
       "      <th>res_place</th>\n",
       "      <th>res_show</th>\n",
       "    </tr>\n",
       "  </thead>\n",
       "  <tbody>\n",
       "    <tr>\n",
       "      <th>0</th>\n",
       "      <td>302858</td>\n",
       "      <td>Kings Return</td>\n",
       "      <td>6.0</td>\n",
       "      <td>4.0</td>\n",
       "      <td>0.600000</td>\n",
       "      <td>1</td>\n",
       "      <td>W P Mullins</td>\n",
       "      <td>D J Casey</td>\n",
       "      <td>1</td>\n",
       "      <td>0</td>\n",
       "      <td>...</td>\n",
       "      <td>102.0</td>\n",
       "      <td>NaN</td>\n",
       "      <td>NaN</td>\n",
       "      <td>King's Ride</td>\n",
       "      <td>Browne's Return</td>\n",
       "      <td>Deep Run</td>\n",
       "      <td>73</td>\n",
       "      <td>1</td>\n",
       "      <td>1</td>\n",
       "      <td>0</td>\n",
       "    </tr>\n",
       "    <tr>\n",
       "      <th>1</th>\n",
       "      <td>302858</td>\n",
       "      <td>Majestic Red I</td>\n",
       "      <td>6.0</td>\n",
       "      <td>5.0</td>\n",
       "      <td>0.047619</td>\n",
       "      <td>0</td>\n",
       "      <td>John Hackett</td>\n",
       "      <td>Conor O'Dwyer</td>\n",
       "      <td>2</td>\n",
       "      <td>8</td>\n",
       "      <td>...</td>\n",
       "      <td>94.0</td>\n",
       "      <td>NaN</td>\n",
       "      <td>NaN</td>\n",
       "      <td>Long Pond</td>\n",
       "      <td>Courtlough Lady</td>\n",
       "      <td>Giolla Mear</td>\n",
       "      <td>73</td>\n",
       "      <td>0</td>\n",
       "      <td>1</td>\n",
       "      <td>0</td>\n",
       "    </tr>\n",
       "    <tr>\n",
       "      <th>2</th>\n",
       "      <td>302858</td>\n",
       "      <td>Clearly Canadian</td>\n",
       "      <td>6.0</td>\n",
       "      <td>2.0</td>\n",
       "      <td>0.166667</td>\n",
       "      <td>0</td>\n",
       "      <td>D T Hughes</td>\n",
       "      <td>G Cotter</td>\n",
       "      <td>3</td>\n",
       "      <td>1.5</td>\n",
       "      <td>...</td>\n",
       "      <td>92.0</td>\n",
       "      <td>NaN</td>\n",
       "      <td>NaN</td>\n",
       "      <td>Nordico</td>\n",
       "      <td>Over The Seas</td>\n",
       "      <td>North Summit</td>\n",
       "      <td>71</td>\n",
       "      <td>0</td>\n",
       "      <td>0</td>\n",
       "      <td>0</td>\n",
       "    </tr>\n",
       "    <tr>\n",
       "      <th>3</th>\n",
       "      <td>302858</td>\n",
       "      <td>Bernestic Wonder</td>\n",
       "      <td>8.0</td>\n",
       "      <td>1.0</td>\n",
       "      <td>0.058824</td>\n",
       "      <td>0</td>\n",
       "      <td>E McNamara</td>\n",
       "      <td>J Old Jones</td>\n",
       "      <td>4</td>\n",
       "      <td>dist</td>\n",
       "      <td>...</td>\n",
       "      <td>NaN</td>\n",
       "      <td>NaN</td>\n",
       "      <td>NaN</td>\n",
       "      <td>Roselier</td>\n",
       "      <td>Miss Reindeer</td>\n",
       "      <td>Reindeer</td>\n",
       "      <td>73</td>\n",
       "      <td>0</td>\n",
       "      <td>0</td>\n",
       "      <td>0</td>\n",
       "    </tr>\n",
       "    <tr>\n",
       "      <th>4</th>\n",
       "      <td>302858</td>\n",
       "      <td>Beauty's Pride</td>\n",
       "      <td>5.0</td>\n",
       "      <td>6.0</td>\n",
       "      <td>0.038462</td>\n",
       "      <td>0</td>\n",
       "      <td>J J Lennon</td>\n",
       "      <td>T Martin</td>\n",
       "      <td>5</td>\n",
       "      <td>dist</td>\n",
       "      <td>...</td>\n",
       "      <td>NaN</td>\n",
       "      <td>NaN</td>\n",
       "      <td>NaN</td>\n",
       "      <td>Noalto</td>\n",
       "      <td>Elena's Beauty</td>\n",
       "      <td>Tarqogan</td>\n",
       "      <td>66</td>\n",
       "      <td>0</td>\n",
       "      <td>0</td>\n",
       "      <td>0</td>\n",
       "    </tr>\n",
       "  </tbody>\n",
       "</table>\n",
       "<p>5 rows × 22 columns</p>\n",
       "</div>"
      ],
      "text/plain": [
       "      rid         horseName  age  saddle  decimalPrice  isFav   trainerName  \\\n",
       "0  302858      Kings Return  6.0     4.0      0.600000      1   W P Mullins   \n",
       "1  302858    Majestic Red I  6.0     5.0      0.047619      0  John Hackett   \n",
       "2  302858  Clearly Canadian  6.0     2.0      0.166667      0    D T Hughes   \n",
       "3  302858  Bernestic Wonder  8.0     1.0      0.058824      0    E McNamara   \n",
       "4  302858    Beauty's Pride  5.0     6.0      0.038462      0    J J Lennon   \n",
       "\n",
       "      jockeyName  position positionL  ...    RPR  TR  OR       father  \\\n",
       "0      D J Casey         1         0  ...  102.0 NaN NaN  King's Ride   \n",
       "1  Conor O'Dwyer         2         8  ...   94.0 NaN NaN    Long Pond   \n",
       "2       G Cotter         3       1.5  ...   92.0 NaN NaN      Nordico   \n",
       "3    J Old Jones         4      dist  ...    NaN NaN NaN     Roselier   \n",
       "4       T Martin         5      dist  ...    NaN NaN NaN       Noalto   \n",
       "\n",
       "            mother       gfather weight res_win  res_place  res_show  \n",
       "0  Browne's Return      Deep Run     73       1          1         0  \n",
       "1  Courtlough Lady   Giolla Mear     73       0          1         0  \n",
       "2    Over The Seas  North Summit     71       0          0         0  \n",
       "3    Miss Reindeer      Reindeer     73       0          0         0  \n",
       "4   Elena's Beauty      Tarqogan     66       0          0         0  \n",
       "\n",
       "[5 rows x 22 columns]"
      ]
     },
     "execution_count": 6,
     "metadata": {},
     "output_type": "execute_result"
    }
   ],
   "source": [
    "horses_clean = pd.read_csv(f\"{BASE_DIR}/data/streamline/horses_selected_trimmed_clean.csv\", low_memory=False) \n",
    "horses_clean.head()"
   ]
  },
  {
   "cell_type": "code",
   "execution_count": 7,
   "id": "339fb56e",
   "metadata": {},
   "outputs": [
    {
     "data": {
      "text/plain": [
       "(202304, 22)"
      ]
     },
     "execution_count": 7,
     "metadata": {},
     "output_type": "execute_result"
    }
   ],
   "source": [
    "horses_clean.shape"
   ]
  },
  {
   "cell_type": "markdown",
   "id": "2a7cafd3",
   "metadata": {},
   "source": [
    "---"
   ]
  },
  {
   "cell_type": "markdown",
   "id": "468618bc",
   "metadata": {},
   "source": [
    "## Calculate Good Weather Metric"
   ]
  },
  {
   "cell_type": "code",
   "execution_count": 8,
   "id": "b77b46d8",
   "metadata": {},
   "outputs": [],
   "source": [
    "races_featurized['scaled_temp'] = (races_featurized['temp'] - np.mean(races_featurized['temp'])) \\\n",
    "                                   / np.std(races_featurized['temp'])"
   ]
  },
  {
   "cell_type": "code",
   "execution_count": 9,
   "id": "5ca74326",
   "metadata": {},
   "outputs": [],
   "source": [
    "races_featurized['scaled_msl'] = (races_featurized['msl'] - np.mean(races_featurized['msl'])) \\\n",
    "                                   / np.std(races_featurized['msl'])"
   ]
  },
  {
   "cell_type": "code",
   "execution_count": 10,
   "id": "72783cf4",
   "metadata": {},
   "outputs": [],
   "source": [
    "races_featurized['scaled_rhum'] = (races_featurized['rhum'] - np.mean(races_featurized['rhum'])) \\\n",
    "                                   / np.std(races_featurized['rhum'])"
   ]
  },
  {
   "cell_type": "code",
   "execution_count": 11,
   "id": "8e9a1326",
   "metadata": {},
   "outputs": [],
   "source": [
    "races_featurized['scaled_rain'] = (races_featurized['rain'] - np.mean(races_featurized['rain'])) \\\n",
    "                                   / np.std(races_featurized['rain'])"
   ]
  },
  {
   "cell_type": "code",
   "execution_count": 12,
   "id": "5b474be2",
   "metadata": {},
   "outputs": [],
   "source": [
    "races_featurized['weather_goodness'] = np.square(races_featurized['scaled_temp']) + \\\n",
    "                                       np.square(races_featurized['scaled_msl']) + \\\n",
    "                                       np.square(races_featurized['scaled_rhum']) + \\\n",
    "                                       np.square(races_featurized['scaled_rain'])"
   ]
  },
  {
   "cell_type": "code",
   "execution_count": 13,
   "id": "b579d9c9",
   "metadata": {},
   "outputs": [
    {
     "data": {
      "text/plain": [
       "13.835102222662243"
      ]
     },
     "execution_count": 13,
     "metadata": {},
     "output_type": "execute_result"
    }
   ],
   "source": [
    "np.mean(races_featurized['temp'])"
   ]
  },
  {
   "cell_type": "code",
   "execution_count": 14,
   "id": "339a1235",
   "metadata": {},
   "outputs": [
    {
     "data": {
      "text/plain": [
       "1013.3489480718777"
      ]
     },
     "execution_count": 14,
     "metadata": {},
     "output_type": "execute_result"
    }
   ],
   "source": [
    "np.mean(races_featurized['msl'])"
   ]
  },
  {
   "cell_type": "code",
   "execution_count": 15,
   "id": "b4f470ad",
   "metadata": {},
   "outputs": [
    {
     "data": {
      "text/plain": [
       "73.70026236324935"
      ]
     },
     "execution_count": 15,
     "metadata": {},
     "output_type": "execute_result"
    }
   ],
   "source": [
    "np.mean(races_featurized['rhum'])"
   ]
  },
  {
   "cell_type": "code",
   "execution_count": 16,
   "id": "fa603f2a",
   "metadata": {},
   "outputs": [
    {
     "data": {
      "text/plain": [
       "0.1157566457106084"
      ]
     },
     "execution_count": 16,
     "metadata": {},
     "output_type": "execute_result"
    }
   ],
   "source": [
    "np.mean(races_featurized['rain'])"
   ]
  },
  {
   "cell_type": "code",
   "execution_count": 18,
   "id": "794ca091",
   "metadata": {},
   "outputs": [
    {
     "data": {
      "text/html": [
       "<div>\n",
       "<style scoped>\n",
       "    .dataframe tbody tr th:only-of-type {\n",
       "        vertical-align: middle;\n",
       "    }\n",
       "\n",
       "    .dataframe tbody tr th {\n",
       "        vertical-align: top;\n",
       "    }\n",
       "\n",
       "    .dataframe thead th {\n",
       "        text-align: right;\n",
       "    }\n",
       "</style>\n",
       "<table border=\"1\" class=\"dataframe\">\n",
       "  <thead>\n",
       "    <tr style=\"text-align: right;\">\n",
       "      <th></th>\n",
       "      <th>temp</th>\n",
       "      <th>msl</th>\n",
       "      <th>rhum</th>\n",
       "      <th>rain</th>\n",
       "      <th>weather_goodness</th>\n",
       "    </tr>\n",
       "  </thead>\n",
       "  <tbody>\n",
       "    <tr>\n",
       "      <th>0</th>\n",
       "      <td>1.6</td>\n",
       "      <td>1012.4</td>\n",
       "      <td>87</td>\n",
       "      <td>0.0</td>\n",
       "      <td>7.931984</td>\n",
       "    </tr>\n",
       "    <tr>\n",
       "      <th>1</th>\n",
       "      <td>8.0</td>\n",
       "      <td>992.5</td>\n",
       "      <td>87</td>\n",
       "      <td>0.4</td>\n",
       "      <td>6.713561</td>\n",
       "    </tr>\n",
       "    <tr>\n",
       "      <th>2</th>\n",
       "      <td>12.0</td>\n",
       "      <td>1003.5</td>\n",
       "      <td>73</td>\n",
       "      <td>0.0</td>\n",
       "      <td>1.077770</td>\n",
       "    </tr>\n",
       "    <tr>\n",
       "      <th>3</th>\n",
       "      <td>12.6</td>\n",
       "      <td>1011.9</td>\n",
       "      <td>72</td>\n",
       "      <td>0.0</td>\n",
       "      <td>0.158882</td>\n",
       "    </tr>\n",
       "    <tr>\n",
       "      <th>4</th>\n",
       "      <td>11.1</td>\n",
       "      <td>994.2</td>\n",
       "      <td>59</td>\n",
       "      <td>0.0</td>\n",
       "      <td>4.810328</td>\n",
       "    </tr>\n",
       "    <tr>\n",
       "      <th>...</th>\n",
       "      <td>...</td>\n",
       "      <td>...</td>\n",
       "      <td>...</td>\n",
       "      <td>...</td>\n",
       "      <td>...</td>\n",
       "    </tr>\n",
       "    <tr>\n",
       "      <th>20196</th>\n",
       "      <td>2.5</td>\n",
       "      <td>988.8</td>\n",
       "      <td>93</td>\n",
       "      <td>0.0</td>\n",
       "      <td>13.346305</td>\n",
       "    </tr>\n",
       "    <tr>\n",
       "      <th>20197</th>\n",
       "      <td>3.5</td>\n",
       "      <td>989.8</td>\n",
       "      <td>86</td>\n",
       "      <td>0.0</td>\n",
       "      <td>10.746444</td>\n",
       "    </tr>\n",
       "    <tr>\n",
       "      <th>20198</th>\n",
       "      <td>2.8</td>\n",
       "      <td>1008.2</td>\n",
       "      <td>84</td>\n",
       "      <td>0.0</td>\n",
       "      <td>6.492927</td>\n",
       "    </tr>\n",
       "    <tr>\n",
       "      <th>20199</th>\n",
       "      <td>4.1</td>\n",
       "      <td>1021.0</td>\n",
       "      <td>85</td>\n",
       "      <td>0.0</td>\n",
       "      <td>5.641260</td>\n",
       "    </tr>\n",
       "    <tr>\n",
       "      <th>20200</th>\n",
       "      <td>4.1</td>\n",
       "      <td>1020.7</td>\n",
       "      <td>87</td>\n",
       "      <td>0.0</td>\n",
       "      <td>5.860664</td>\n",
       "    </tr>\n",
       "  </tbody>\n",
       "</table>\n",
       "<p>20201 rows × 5 columns</p>\n",
       "</div>"
      ],
      "text/plain": [
       "       temp     msl  rhum  rain  weather_goodness\n",
       "0       1.6  1012.4    87   0.0          7.931984\n",
       "1       8.0   992.5    87   0.4          6.713561\n",
       "2      12.0  1003.5    73   0.0          1.077770\n",
       "3      12.6  1011.9    72   0.0          0.158882\n",
       "4      11.1   994.2    59   0.0          4.810328\n",
       "...     ...     ...   ...   ...               ...\n",
       "20196   2.5   988.8    93   0.0         13.346305\n",
       "20197   3.5   989.8    86   0.0         10.746444\n",
       "20198   2.8  1008.2    84   0.0          6.492927\n",
       "20199   4.1  1021.0    85   0.0          5.641260\n",
       "20200   4.1  1020.7    87   0.0          5.860664\n",
       "\n",
       "[20201 rows x 5 columns]"
      ]
     },
     "execution_count": 18,
     "metadata": {},
     "output_type": "execute_result"
    }
   ],
   "source": [
    "races_featurized[['temp', 'msl', 'rhum', 'rain', 'weather_goodness']]"
   ]
  },
  {
   "cell_type": "code",
   "execution_count": 34,
   "id": "0cce0ba5",
   "metadata": {},
   "outputs": [],
   "source": [
    "def calculate_predictability_of_results(row: pd.core.frame.DataFrame):\n",
    "    return (row['1st_place_rank_in_odds'] + row['2nd_place_rank_in_odds'] + row['3rd_place_rank_in_odds']) \\\n",
    "            / row['runners']"
   ]
  },
  {
   "cell_type": "code",
   "execution_count": 37,
   "id": "920fc0b3",
   "metadata": {},
   "outputs": [],
   "source": [
    "races_featurized['predictability'] = races_featurized.apply(calculate_predictability_of_results, axis=1)"
   ]
  },
  {
   "cell_type": "code",
   "execution_count": 40,
   "id": "729d0618",
   "metadata": {},
   "outputs": [
    {
     "data": {
      "text/plain": [
       "0.007790754170141152"
      ]
     },
     "execution_count": 40,
     "metadata": {},
     "output_type": "execute_result"
    }
   ],
   "source": [
    "races_featurized['weather_goodness'].corr(races_featurized['predictability'])"
   ]
  },
  {
   "cell_type": "code",
   "execution_count": 41,
   "id": "b728f8b1",
   "metadata": {},
   "outputs": [
    {
     "data": {
      "text/plain": [
       "0.005232732765421159"
      ]
     },
     "execution_count": 41,
     "metadata": {},
     "output_type": "execute_result"
    }
   ],
   "source": [
    "races_featurized['weather_goodness'].corr(races_featurized['1st_place_rank_in_odds'])"
   ]
  },
  {
   "cell_type": "code",
   "execution_count": 45,
   "id": "fbb92fd4",
   "metadata": {},
   "outputs": [
    {
     "data": {
      "text/plain": [
       "array([[<AxesSubplot:title={'center':'weather_goodness'}>]], dtype=object)"
      ]
     },
     "execution_count": 45,
     "metadata": {},
     "output_type": "execute_result"
    },
    {
     "data": {
      "image/png": "[encoded data removed]",
      "text/plain": [
       "<Figure size 432x288 with 1 Axes>"
      ]
     },
     "metadata": {},
     "output_type": "display_data"
    }
   ],
   "source": [
    "races_featurized.hist('weather_goodness', bins=5)"
   ]
  },
  {
   "cell_type": "code",
   "execution_count": null,
   "id": "df1b8dff",
   "metadata": {},
   "outputs": [],
   "source": []
  }
 ],
 "metadata": {
  "kernelspec": {
   "display_name": "Python 3 (ipykernel)",
   "language": "python",
   "name": "python3"
  },
  "language_info": {
   "codemirror_mode": {
    "name": "ipython",
    "version": 3
   },
   "file_extension": ".py",
   "mimetype": "text/x-python",
   "name": "python",
   "nbconvert_exporter": "python",
   "pygments_lexer": "ipython3",
   "version": "3.9.6"
  }
 },
 "nbformat": 4,
 "nbformat_minor": 5
}
