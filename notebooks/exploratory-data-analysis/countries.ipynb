{
 "cells": [
  {
   "cell_type": "markdown",
   "id": "be0988af",
   "metadata": {},
   "source": [
    "# `countries.ipynb`"
   ]
  },
  {
   "cell_type": "markdown",
   "id": "97515c34",
   "metadata": {},
   "source": [
    "### Author: Anthony Hein"
   ]
  },
  {
   "cell_type": "markdown",
   "id": "04073431",
   "metadata": {},
   "source": [
    "#### Last updated: 12/7/2021"
   ]
  },
  {
   "cell_type": "markdown",
   "id": "2ec1a763",
   "metadata": {},
   "source": [
    "# Overview:\n",
    "\n",
    "What countries are represented in the dataset."
   ]
  },
  {
   "cell_type": "markdown",
   "id": "df661745",
   "metadata": {},
   "source": [
    "---"
   ]
  },
  {
   "cell_type": "markdown",
   "id": "426053a1",
   "metadata": {},
   "source": [
    "## Setup"
   ]
  },
  {
   "cell_type": "code",
   "execution_count": 1,
   "id": "cc135a83",
   "metadata": {},
   "outputs": [],
   "source": [
    "from datetime import datetime\n",
    "import git\n",
    "import os\n",
    "import re\n",
    "from typing import List\n",
    "from tqdm import tqdm\n",
    "import pandas as pd\n",
    "import numpy as np\n",
    "import matplotlib.pyplot as plt\n",
    "%matplotlib inline"
   ]
  },
  {
   "cell_type": "code",
   "execution_count": 2,
   "id": "e3010a57",
   "metadata": {},
   "outputs": [
    {
     "data": {
      "text/plain": [
       "'/Users/anthonyhein/Desktop/SML310/project'"
      ]
     },
     "execution_count": 2,
     "metadata": {},
     "output_type": "execute_result"
    }
   ],
   "source": [
    "BASE_DIR = git.Repo(os.getcwd(), search_parent_directories=True).working_dir\n",
    "BASE_DIR"
   ]
  },
  {
   "cell_type": "markdown",
   "id": "673e4920",
   "metadata": {},
   "source": [
    "---"
   ]
  },
  {
   "cell_type": "markdown",
   "id": "d646c22a",
   "metadata": {},
   "source": [
    "## Load `races_all.csv`"
   ]
  },
  {
   "cell_type": "code",
   "execution_count": 3,
   "id": "867a3cb7",
   "metadata": {},
   "outputs": [
    {
     "data": {
      "text/html": [
       "<div>\n",
       "<style scoped>\n",
       "    .dataframe tbody tr th:only-of-type {\n",
       "        vertical-align: middle;\n",
       "    }\n",
       "\n",
       "    .dataframe tbody tr th {\n",
       "        vertical-align: top;\n",
       "    }\n",
       "\n",
       "    .dataframe thead th {\n",
       "        text-align: right;\n",
       "    }\n",
       "</style>\n",
       "<table border=\"1\" class=\"dataframe\">\n",
       "  <thead>\n",
       "    <tr style=\"text-align: right;\">\n",
       "      <th></th>\n",
       "      <th>rid</th>\n",
       "      <th>course</th>\n",
       "      <th>time</th>\n",
       "      <th>date</th>\n",
       "      <th>title</th>\n",
       "      <th>rclass</th>\n",
       "      <th>band</th>\n",
       "      <th>ages</th>\n",
       "      <th>distance</th>\n",
       "      <th>condition</th>\n",
       "      <th>hurdles</th>\n",
       "      <th>prizes</th>\n",
       "      <th>winningTime</th>\n",
       "      <th>prize</th>\n",
       "      <th>metric</th>\n",
       "      <th>countryCode</th>\n",
       "      <th>ncond</th>\n",
       "      <th>class</th>\n",
       "    </tr>\n",
       "  </thead>\n",
       "  <tbody>\n",
       "    <tr>\n",
       "      <th>0</th>\n",
       "      <td>267255</td>\n",
       "      <td>Southwell (AW)</td>\n",
       "      <td>03:40</td>\n",
       "      <td>97/01/01</td>\n",
       "      <td>New Year Handicap Class E</td>\n",
       "      <td>Class 5</td>\n",
       "      <td>0-70</td>\n",
       "      <td>3yo</td>\n",
       "      <td>1m</td>\n",
       "      <td>Standard</td>\n",
       "      <td>NaN</td>\n",
       "      <td>[2752.25, 833.0, 406.5, 193.25]</td>\n",
       "      <td>106.9</td>\n",
       "      <td>4184.0</td>\n",
       "      <td>1609.0</td>\n",
       "      <td>GB</td>\n",
       "      <td>0</td>\n",
       "      <td>5</td>\n",
       "    </tr>\n",
       "    <tr>\n",
       "      <th>1</th>\n",
       "      <td>297570</td>\n",
       "      <td>Southwell (AW)</td>\n",
       "      <td>12:35</td>\n",
       "      <td>97/01/01</td>\n",
       "      <td>Resolution Claiming Stakes Class F (Div I)</td>\n",
       "      <td>Class 6</td>\n",
       "      <td>NaN</td>\n",
       "      <td>4yo+</td>\n",
       "      <td>7f</td>\n",
       "      <td>Standard</td>\n",
       "      <td>NaN</td>\n",
       "      <td>[1944.0, 544.0, 264.0]</td>\n",
       "      <td>91.0</td>\n",
       "      <td>2752.0</td>\n",
       "      <td>1407.0</td>\n",
       "      <td>GB</td>\n",
       "      <td>0</td>\n",
       "      <td>6</td>\n",
       "    </tr>\n",
       "    <tr>\n",
       "      <th>2</th>\n",
       "      <td>334421</td>\n",
       "      <td>Southwell (AW)</td>\n",
       "      <td>01:05</td>\n",
       "      <td>97/01/01</td>\n",
       "      <td>One Too Many Median Auction Maiden Apprentices...</td>\n",
       "      <td>Class 6</td>\n",
       "      <td>NaN</td>\n",
       "      <td>4-6yo</td>\n",
       "      <td>1m3f</td>\n",
       "      <td>Standard</td>\n",
       "      <td>NaN</td>\n",
       "      <td>[2502.0, 702.0, 342.0]</td>\n",
       "      <td>150.7</td>\n",
       "      <td>3546.0</td>\n",
       "      <td>2212.0</td>\n",
       "      <td>GB</td>\n",
       "      <td>0</td>\n",
       "      <td>6</td>\n",
       "    </tr>\n",
       "    <tr>\n",
       "      <th>3</th>\n",
       "      <td>366304</td>\n",
       "      <td>Southwell (AW)</td>\n",
       "      <td>03:10</td>\n",
       "      <td>97/01/01</td>\n",
       "      <td>Morning Call Selling Stakes Class G Southwell ...</td>\n",
       "      <td>Class 6</td>\n",
       "      <td>NaN</td>\n",
       "      <td>3yo</td>\n",
       "      <td>1m</td>\n",
       "      <td>Standard</td>\n",
       "      <td>NaN</td>\n",
       "      <td>[2189.0, 614.0, 299.0]</td>\n",
       "      <td>108.6</td>\n",
       "      <td>3102.0</td>\n",
       "      <td>1609.0</td>\n",
       "      <td>GB</td>\n",
       "      <td>0</td>\n",
       "      <td>6</td>\n",
       "    </tr>\n",
       "    <tr>\n",
       "      <th>4</th>\n",
       "      <td>13063</td>\n",
       "      <td>Southwell (AW)</td>\n",
       "      <td>02:40</td>\n",
       "      <td>97/01/01</td>\n",
       "      <td>Thinking &amp;amp; Drinking Handicap Class E</td>\n",
       "      <td>Class 5</td>\n",
       "      <td>0-70</td>\n",
       "      <td>4yo+</td>\n",
       "      <td>2m½f</td>\n",
       "      <td>Standard</td>\n",
       "      <td>NaN</td>\n",
       "      <td>[2726.25, 825.0, 402.5, 191.25]</td>\n",
       "      <td>231.4</td>\n",
       "      <td>4144.0</td>\n",
       "      <td>3318.5</td>\n",
       "      <td>GB</td>\n",
       "      <td>0</td>\n",
       "      <td>5</td>\n",
       "    </tr>\n",
       "  </tbody>\n",
       "</table>\n",
       "</div>"
      ],
      "text/plain": [
       "      rid          course   time      date  \\\n",
       "0  267255  Southwell (AW)  03:40  97/01/01   \n",
       "1  297570  Southwell (AW)  12:35  97/01/01   \n",
       "2  334421  Southwell (AW)  01:05  97/01/01   \n",
       "3  366304  Southwell (AW)  03:10  97/01/01   \n",
       "4   13063  Southwell (AW)  02:40  97/01/01   \n",
       "\n",
       "                                               title   rclass  band   ages  \\\n",
       "0                          New Year Handicap Class E  Class 5  0-70    3yo   \n",
       "1         Resolution Claiming Stakes Class F (Div I)  Class 6   NaN   4yo+   \n",
       "2  One Too Many Median Auction Maiden Apprentices...  Class 6   NaN  4-6yo   \n",
       "3  Morning Call Selling Stakes Class G Southwell ...  Class 6   NaN    3yo   \n",
       "4           Thinking &amp; Drinking Handicap Class E  Class 5  0-70   4yo+   \n",
       "\n",
       "  distance condition hurdles                           prizes  winningTime  \\\n",
       "0       1m  Standard     NaN  [2752.25, 833.0, 406.5, 193.25]        106.9   \n",
       "1       7f  Standard     NaN           [1944.0, 544.0, 264.0]         91.0   \n",
       "2     1m3f  Standard     NaN           [2502.0, 702.0, 342.0]        150.7   \n",
       "3       1m  Standard     NaN           [2189.0, 614.0, 299.0]        108.6   \n",
       "4     2m½f  Standard     NaN  [2726.25, 825.0, 402.5, 191.25]        231.4   \n",
       "\n",
       "    prize  metric countryCode ncond  class  \n",
       "0  4184.0  1609.0          GB     0      5  \n",
       "1  2752.0  1407.0          GB     0      6  \n",
       "2  3546.0  2212.0          GB     0      6  \n",
       "3  3102.0  1609.0          GB     0      6  \n",
       "4  4144.0  3318.5          GB     0      5  "
      ]
     },
     "execution_count": 3,
     "metadata": {},
     "output_type": "execute_result"
    }
   ],
   "source": [
    "races_all = pd.read_csv(f\"{BASE_DIR}/data/streamline/races_all.csv\", low_memory=False) \n",
    "races_all.head()"
   ]
  },
  {
   "cell_type": "code",
   "execution_count": 4,
   "id": "32235848",
   "metadata": {},
   "outputs": [
    {
     "data": {
      "text/plain": [
       "(396572, 18)"
      ]
     },
     "execution_count": 4,
     "metadata": {},
     "output_type": "execute_result"
    }
   ],
   "source": [
    "races_all.shape"
   ]
  },
  {
   "cell_type": "markdown",
   "id": "dd993690",
   "metadata": {},
   "source": [
    "---"
   ]
  },
  {
   "cell_type": "markdown",
   "id": "2405ef98",
   "metadata": {},
   "source": [
    "## Countries"
   ]
  },
  {
   "cell_type": "code",
   "execution_count": 16,
   "id": "08adde97",
   "metadata": {},
   "outputs": [],
   "source": [
    "d = races_all['countryCode'].value_counts().to_dict().items()\n",
    "countries = [x[0] for x in d][:5]\n",
    "frequency = [x[1] for x in d][:5]"
   ]
  },
  {
   "cell_type": "code",
   "execution_count": 17,
   "id": "539e26a8",
   "metadata": {},
   "outputs": [
    {
     "data": {
      "text/plain": [
       "dict_items([('GB', 263644), ('IE', 67344), ('FR', 21560), ('US', 12743), ('SAF', 10990), ('AU', 4297), ('HK', 3624), ('AE', 2444), ('JP', 1686), ('ARAB', 1530), ('CAN', 1366), ('GER', 1357), ('ARG', 770), ('IT', 757), ('JER', 574), ('BRZ', 571), ('NZ', 368), ('CHI', 354), ('SWE', 154), ('NOR', 86), ('URU', 81), ('TUR', 57), ('SWI', 55), ('GUE', 50), ('DEN', 37), ('SIN', 24), ('SPA', 14), ('CZE', 13), ('KOR', 8), ('KSA', 7), ('BEL', 4), ('BHR', 1), ('MAC', 1), ('PER', 1)])"
      ]
     },
     "execution_count": 17,
     "metadata": {},
     "output_type": "execute_result"
    }
   ],
   "source": [
    "d"
   ]
  },
  {
   "cell_type": "code",
   "execution_count": 19,
   "id": "71e9fce4",
   "metadata": {},
   "outputs": [
    {
     "data": {
      "image/png": "[encoded data removed]",
      "text/plain": [
       "<Figure size 432x288 with 1 Axes>"
      ]
     },
     "metadata": {
      "needs_background": "light"
     },
     "output_type": "display_data"
    }
   ],
   "source": [
    "plt.bar(countries, frequency)\n",
    "plt.show()"
   ]
  },
  {
   "cell_type": "code",
   "execution_count": 22,
   "id": "187a4bc3",
   "metadata": {},
   "outputs": [
    {
     "data": {
      "image/png": "[encoded data removed]",
      "text/plain": [
       "<Figure size 360x360 with 1 Axes>"
      ]
     },
     "metadata": {
      "needs_background": "light"
     },
     "output_type": "display_data"
    }
   ],
   "source": [
    "fig = plt.figure(figsize=(5,5))\n",
    "gs = fig.add_gridspec(1, 1)\n",
    "\n",
    "ax1 = fig.add_subplot(gs[0:1, 0:1])\n",
    "\n",
    "ax1.set_title(\"Distribution of Countries\")\n",
    "ax1.bar(countries, frequency)\n",
    "ax1.set_ylabel(\"Frequency\")\n",
    "ax1.set_xlabel(\"Country\")\n",
    "\n",
    "plt.tight_layout()\n",
    "\n",
    "fig.savefig(f\"{BASE_DIR}/figures/country_distribution.png\")\n",
    "\n",
    "plt.show()"
   ]
  },
  {
   "cell_type": "markdown",
   "id": "e10b1195",
   "metadata": {},
   "source": [
    "---"
   ]
  }
 ],
 "metadata": {
  "kernelspec": {
   "display_name": "Python 3 (ipykernel)",
   "language": "python",
   "name": "python3"
  },
  "language_info": {
   "codemirror_mode": {
    "name": "ipython",
    "version": 3
   },
   "file_extension": ".py",
   "mimetype": "text/x-python",
   "name": "python",
   "nbconvert_exporter": "python",
   "pygments_lexer": "ipython3",
   "version": "3.9.6"
  }
 },
 "nbformat": 4,
 "nbformat_minor": 5
}
