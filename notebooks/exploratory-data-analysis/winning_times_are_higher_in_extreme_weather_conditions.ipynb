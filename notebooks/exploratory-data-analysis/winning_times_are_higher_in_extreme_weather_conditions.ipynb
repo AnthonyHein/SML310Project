{
 "cells": [
  {
   "cell_type": "markdown",
   "id": "7026e67b",
   "metadata": {},
   "source": [
    "# `winning_times_are_higher_in_extreme_weather_conditions.ipynb`"
   ]
  },
  {
   "cell_type": "markdown",
   "id": "c052cb33",
   "metadata": {},
   "source": [
    "### Author: Anthony Hein"
   ]
  },
  {
   "cell_type": "markdown",
   "id": "194e2cf5",
   "metadata": {},
   "source": [
    "#### Last updated: 11/22/2021"
   ]
  },
  {
   "cell_type": "markdown",
   "id": "1b86aa88",
   "metadata": {},
   "source": [
    "# Overview:\n",
    "\n",
    "This notebook shows that winning times are higher in extreme weather conditions."
   ]
  },
  {
   "cell_type": "markdown",
   "id": "697e80d8",
   "metadata": {},
   "source": [
    "---"
   ]
  },
  {
   "cell_type": "markdown",
   "id": "08164829",
   "metadata": {},
   "source": [
    "## Setup"
   ]
  },
  {
   "cell_type": "code",
   "execution_count": 1,
   "id": "9e9ee6d1",
   "metadata": {},
   "outputs": [],
   "source": [
    "from datetime import datetime\n",
    "import git\n",
    "import os\n",
    "import re\n",
    "from typing import List\n",
    "from sklearn.preprocessing import StandardScaler\n",
    "from tqdm import tqdm\n",
    "import pandas as pd\n",
    "import numpy as np\n",
    "from scipy import stats\n",
    "import matplotlib.pyplot as plt\n",
    "import seaborn as sns\n",
    "%matplotlib inline"
   ]
  },
  {
   "cell_type": "code",
   "execution_count": 2,
   "id": "f013a715",
   "metadata": {},
   "outputs": [
    {
     "data": {
      "text/plain": [
       "'/Users/anthonyhein/Desktop/SML310/project'"
      ]
     },
     "execution_count": 2,
     "metadata": {},
     "output_type": "execute_result"
    }
   ],
   "source": [
    "BASE_DIR = git.Repo(os.getcwd(), search_parent_directories=True).working_dir\n",
    "BASE_DIR"
   ]
  },
  {
   "cell_type": "markdown",
   "id": "900adb93",
   "metadata": {},
   "source": [
    "---"
   ]
  },
  {
   "cell_type": "markdown",
   "id": "75c7066e",
   "metadata": {},
   "source": [
    "## Load `races_featurized.csv`"
   ]
  },
  {
   "cell_type": "code",
   "execution_count": 3,
   "id": "cee61ac1",
   "metadata": {},
   "outputs": [
    {
     "data": {
      "text/html": [
       "<div>\n",
       "<style scoped>\n",
       "    .dataframe tbody tr th:only-of-type {\n",
       "        vertical-align: middle;\n",
       "    }\n",
       "\n",
       "    .dataframe tbody tr th {\n",
       "        vertical-align: top;\n",
       "    }\n",
       "\n",
       "    .dataframe thead th {\n",
       "        text-align: right;\n",
       "    }\n",
       "</style>\n",
       "<table border=\"1\" class=\"dataframe\">\n",
       "  <thead>\n",
       "    <tr style=\"text-align: right;\">\n",
       "      <th></th>\n",
       "      <th>rid</th>\n",
       "      <th>course</th>\n",
       "      <th>title</th>\n",
       "      <th>winningTime</th>\n",
       "      <th>metric</th>\n",
       "      <th>ncond</th>\n",
       "      <th>class</th>\n",
       "      <th>runners</th>\n",
       "      <th>margin</th>\n",
       "      <th>1st_place_rank_in_odds</th>\n",
       "      <th>...</th>\n",
       "      <th>pressure_level_2</th>\n",
       "      <th>pressure_level_3</th>\n",
       "      <th>pressure_level_4</th>\n",
       "      <th>is_raining</th>\n",
       "      <th>rhum_level_0</th>\n",
       "      <th>rhum_level_1</th>\n",
       "      <th>rhum_level_2</th>\n",
       "      <th>rhum_level_3</th>\n",
       "      <th>rhum_level_4</th>\n",
       "      <th>entropy of odds</th>\n",
       "    </tr>\n",
       "  </thead>\n",
       "  <tbody>\n",
       "    <tr>\n",
       "      <th>0</th>\n",
       "      <td>302858</td>\n",
       "      <td>Thurles</td>\n",
       "      <td>Liffey Maiden Hurdle (Div 1)</td>\n",
       "      <td>277.2</td>\n",
       "      <td>3821.0</td>\n",
       "      <td>1</td>\n",
       "      <td>0</td>\n",
       "      <td>6</td>\n",
       "      <td>1.219263</td>\n",
       "      <td>1</td>\n",
       "      <td>...</td>\n",
       "      <td>0</td>\n",
       "      <td>1</td>\n",
       "      <td>0</td>\n",
       "      <td>0</td>\n",
       "      <td>0</td>\n",
       "      <td>0</td>\n",
       "      <td>0</td>\n",
       "      <td>0</td>\n",
       "      <td>1</td>\n",
       "      <td>1.350363</td>\n",
       "    </tr>\n",
       "    <tr>\n",
       "      <th>1</th>\n",
       "      <td>291347</td>\n",
       "      <td>Punchestown</td>\n",
       "      <td>Ericsson G.S.M. Grand National Trial Handicap ...</td>\n",
       "      <td>447.2</td>\n",
       "      <td>5229.0</td>\n",
       "      <td>5</td>\n",
       "      <td>0</td>\n",
       "      <td>9</td>\n",
       "      <td>1.218049</td>\n",
       "      <td>4</td>\n",
       "      <td>...</td>\n",
       "      <td>1</td>\n",
       "      <td>0</td>\n",
       "      <td>0</td>\n",
       "      <td>1</td>\n",
       "      <td>0</td>\n",
       "      <td>0</td>\n",
       "      <td>0</td>\n",
       "      <td>0</td>\n",
       "      <td>1</td>\n",
       "      <td>1.995151</td>\n",
       "    </tr>\n",
       "    <tr>\n",
       "      <th>2</th>\n",
       "      <td>75447</td>\n",
       "      <td>Listowel</td>\n",
       "      <td>Ballybunion E.B.F. Beginners S'chase</td>\n",
       "      <td>318.4</td>\n",
       "      <td>3620.0</td>\n",
       "      <td>5</td>\n",
       "      <td>0</td>\n",
       "      <td>8</td>\n",
       "      <td>1.277320</td>\n",
       "      <td>3</td>\n",
       "      <td>...</td>\n",
       "      <td>1</td>\n",
       "      <td>0</td>\n",
       "      <td>0</td>\n",
       "      <td>0</td>\n",
       "      <td>0</td>\n",
       "      <td>0</td>\n",
       "      <td>0</td>\n",
       "      <td>1</td>\n",
       "      <td>0</td>\n",
       "      <td>1.786421</td>\n",
       "    </tr>\n",
       "    <tr>\n",
       "      <th>3</th>\n",
       "      <td>358038</td>\n",
       "      <td>Punchestown</td>\n",
       "      <td>Quinns Of Baltinglass Chase (La Touche) (Cross...</td>\n",
       "      <td>533.9</td>\n",
       "      <td>6637.0</td>\n",
       "      <td>1</td>\n",
       "      <td>0</td>\n",
       "      <td>10</td>\n",
       "      <td>1.286595</td>\n",
       "      <td>1</td>\n",
       "      <td>...</td>\n",
       "      <td>0</td>\n",
       "      <td>1</td>\n",
       "      <td>0</td>\n",
       "      <td>0</td>\n",
       "      <td>0</td>\n",
       "      <td>0</td>\n",
       "      <td>0</td>\n",
       "      <td>1</td>\n",
       "      <td>0</td>\n",
       "      <td>1.611062</td>\n",
       "    </tr>\n",
       "    <tr>\n",
       "      <th>4</th>\n",
       "      <td>89211</td>\n",
       "      <td>Tipperary</td>\n",
       "      <td>Topaz Sprint Stakes (Listed)</td>\n",
       "      <td>59.9</td>\n",
       "      <td>1005.0</td>\n",
       "      <td>4</td>\n",
       "      <td>0</td>\n",
       "      <td>5</td>\n",
       "      <td>1.217043</td>\n",
       "      <td>4</td>\n",
       "      <td>...</td>\n",
       "      <td>1</td>\n",
       "      <td>0</td>\n",
       "      <td>0</td>\n",
       "      <td>0</td>\n",
       "      <td>0</td>\n",
       "      <td>0</td>\n",
       "      <td>1</td>\n",
       "      <td>0</td>\n",
       "      <td>0</td>\n",
       "      <td>1.254374</td>\n",
       "    </tr>\n",
       "  </tbody>\n",
       "</table>\n",
       "<p>5 rows × 129 columns</p>\n",
       "</div>"
      ],
      "text/plain": [
       "      rid       course                                              title  \\\n",
       "0  302858      Thurles                       Liffey Maiden Hurdle (Div 1)   \n",
       "1  291347  Punchestown  Ericsson G.S.M. Grand National Trial Handicap ...   \n",
       "2   75447     Listowel               Ballybunion E.B.F. Beginners S'chase   \n",
       "3  358038  Punchestown  Quinns Of Baltinglass Chase (La Touche) (Cross...   \n",
       "4   89211    Tipperary                       Topaz Sprint Stakes (Listed)   \n",
       "\n",
       "   winningTime  metric  ncond  class  runners    margin  \\\n",
       "0        277.2  3821.0      1      0        6  1.219263   \n",
       "1        447.2  5229.0      5      0        9  1.218049   \n",
       "2        318.4  3620.0      5      0        8  1.277320   \n",
       "3        533.9  6637.0      1      0       10  1.286595   \n",
       "4         59.9  1005.0      4      0        5  1.217043   \n",
       "\n",
       "   1st_place_rank_in_odds  ...  pressure_level_2  pressure_level_3  \\\n",
       "0                       1  ...                 0                 1   \n",
       "1                       4  ...                 1                 0   \n",
       "2                       3  ...                 1                 0   \n",
       "3                       1  ...                 0                 1   \n",
       "4                       4  ...                 1                 0   \n",
       "\n",
       "   pressure_level_4  is_raining  rhum_level_0  rhum_level_1  rhum_level_2  \\\n",
       "0                 0           0             0             0             0   \n",
       "1                 0           1             0             0             0   \n",
       "2                 0           0             0             0             0   \n",
       "3                 0           0             0             0             0   \n",
       "4                 0           0             0             0             1   \n",
       "\n",
       "   rhum_level_3  rhum_level_4  entropy of odds  \n",
       "0             0             1         1.350363  \n",
       "1             0             1         1.995151  \n",
       "2             1             0         1.786421  \n",
       "3             1             0         1.611062  \n",
       "4             0             0         1.254374  \n",
       "\n",
       "[5 rows x 129 columns]"
      ]
     },
     "execution_count": 3,
     "metadata": {},
     "output_type": "execute_result"
    }
   ],
   "source": [
    "races_featurized = pd.read_csv(f\"{BASE_DIR}/data/streamline/races_featurized.csv\", low_memory=False) \n",
    "races_featurized.head()"
   ]
  },
  {
   "cell_type": "code",
   "execution_count": 4,
   "id": "60fdc317",
   "metadata": {},
   "outputs": [
    {
     "data": {
      "text/plain": [
       "(20201, 129)"
      ]
     },
     "execution_count": 4,
     "metadata": {},
     "output_type": "execute_result"
    }
   ],
   "source": [
    "races_featurized.shape"
   ]
  },
  {
   "cell_type": "code",
   "execution_count": 5,
   "id": "34220582",
   "metadata": {
    "scrolled": false
   },
   "outputs": [
    {
     "data": {
      "text/plain": [
       "['rid',\n",
       " 'course',\n",
       " 'title',\n",
       " 'winningTime',\n",
       " 'metric',\n",
       " 'ncond',\n",
       " 'class',\n",
       " 'runners',\n",
       " 'margin',\n",
       " '1st_place_rank_in_odds',\n",
       " '2nd_place_rank_in_odds',\n",
       " '3rd_place_rank_in_odds',\n",
       " '1st_rank_in_odds_place',\n",
       " '2nd_rank_in_odds_place',\n",
       " '3rd_rank_in_odds_place',\n",
       " 'placeAvailable',\n",
       " 'showAvailable',\n",
       " 'favoriteWon',\n",
       " 'favoritePlaced',\n",
       " 'favoriteShowed',\n",
       " 'lat',\n",
       " 'lng',\n",
       " 'datetime',\n",
       " 'station no',\n",
       " 'station name',\n",
       " 'station lat',\n",
       " 'station lng',\n",
       " 'dist to station',\n",
       " 'station reading date',\n",
       " 'temp',\n",
       " 'msl',\n",
       " 'rain',\n",
       " 'rhum',\n",
       " 'station reading timedelta',\n",
       " 'course__Ballinrobe',\n",
       " 'course__Bellewstown',\n",
       " 'course__Clonmel',\n",
       " 'course__Cork',\n",
       " 'course__Curragh',\n",
       " 'course__Down Royal',\n",
       " 'course__Downpatrick',\n",
       " 'course__Dundalk',\n",
       " 'course__Fairyhouse',\n",
       " 'course__Galway',\n",
       " 'course__Gowran Park',\n",
       " 'course__Killarney',\n",
       " 'course__Leopardstown',\n",
       " 'course__Limerick',\n",
       " 'course__Listowel',\n",
       " 'course__Naas',\n",
       " 'course__Navan',\n",
       " 'course__Other',\n",
       " 'course__Punchestown',\n",
       " 'course__Roscommon',\n",
       " 'course__Sligo',\n",
       " 'course__Tipperary',\n",
       " 'course__Tralee',\n",
       " 'course__Tramore',\n",
       " 'course__Wexford',\n",
       " 'metric__1005.0',\n",
       " 'metric__1206.0',\n",
       " 'metric__1306.5',\n",
       " 'metric__1407.0',\n",
       " 'metric__1507.5',\n",
       " 'metric__1609.0',\n",
       " 'metric__1709.5',\n",
       " 'metric__1810.0',\n",
       " 'metric__1910.5',\n",
       " 'metric__2011.0',\n",
       " 'metric__2111.5',\n",
       " 'metric__2212.0',\n",
       " 'metric__2413.0',\n",
       " 'metric__2614.0',\n",
       " 'metric__2815.0',\n",
       " 'metric__3218.0',\n",
       " 'metric__3419.0',\n",
       " 'metric__3620.0',\n",
       " 'metric__4022.0',\n",
       " 'metric__Other',\n",
       " 'ncond__0',\n",
       " 'ncond__1',\n",
       " 'ncond__2',\n",
       " 'ncond__4',\n",
       " 'ncond__5',\n",
       " 'ncond__6',\n",
       " 'ncond__9',\n",
       " 'ncond__11',\n",
       " 'ncond__12',\n",
       " 'ncond__Other',\n",
       " 'runners__6',\n",
       " 'runners__7',\n",
       " 'runners__8',\n",
       " 'runners__9',\n",
       " 'runners__10',\n",
       " 'runners__11',\n",
       " 'runners__12',\n",
       " 'runners__13',\n",
       " 'runners__14',\n",
       " 'runners__Other',\n",
       " 'month',\n",
       " 'month__3',\n",
       " 'month__4',\n",
       " 'month__5',\n",
       " 'month__6',\n",
       " 'month__7',\n",
       " 'month__8',\n",
       " 'month__9',\n",
       " 'month__10',\n",
       " 'month__11',\n",
       " 'month__12',\n",
       " 'month__Other',\n",
       " 'year',\n",
       " 'temp_level_0',\n",
       " 'temp_level_1',\n",
       " 'temp_level_2',\n",
       " 'temp_level_3',\n",
       " 'temp_level_4',\n",
       " 'pressure_level_0',\n",
       " 'pressure_level_1',\n",
       " 'pressure_level_2',\n",
       " 'pressure_level_3',\n",
       " 'pressure_level_4',\n",
       " 'is_raining',\n",
       " 'rhum_level_0',\n",
       " 'rhum_level_1',\n",
       " 'rhum_level_2',\n",
       " 'rhum_level_3',\n",
       " 'rhum_level_4',\n",
       " 'entropy of odds']"
      ]
     },
     "execution_count": 5,
     "metadata": {},
     "output_type": "execute_result"
    }
   ],
   "source": [
    "list(races_featurized.columns)"
   ]
  },
  {
   "cell_type": "markdown",
   "id": "60c8851a",
   "metadata": {},
   "source": [
    "---"
   ]
  },
  {
   "cell_type": "markdown",
   "id": "593bbafa",
   "metadata": {},
   "source": [
    "## Load `horses_selected_trimmed_clean.csv`"
   ]
  },
  {
   "cell_type": "code",
   "execution_count": 6,
   "id": "8b5bc3fa",
   "metadata": {
    "scrolled": true
   },
   "outputs": [
    {
     "data": {
      "text/html": [
       "<div>\n",
       "<style scoped>\n",
       "    .dataframe tbody tr th:only-of-type {\n",
       "        vertical-align: middle;\n",
       "    }\n",
       "\n",
       "    .dataframe tbody tr th {\n",
       "        vertical-align: top;\n",
       "    }\n",
       "\n",
       "    .dataframe thead th {\n",
       "        text-align: right;\n",
       "    }\n",
       "</style>\n",
       "<table border=\"1\" class=\"dataframe\">\n",
       "  <thead>\n",
       "    <tr style=\"text-align: right;\">\n",
       "      <th></th>\n",
       "      <th>rid</th>\n",
       "      <th>horseName</th>\n",
       "      <th>age</th>\n",
       "      <th>saddle</th>\n",
       "      <th>decimalPrice</th>\n",
       "      <th>isFav</th>\n",
       "      <th>trainerName</th>\n",
       "      <th>jockeyName</th>\n",
       "      <th>position</th>\n",
       "      <th>positionL</th>\n",
       "      <th>...</th>\n",
       "      <th>RPR</th>\n",
       "      <th>TR</th>\n",
       "      <th>OR</th>\n",
       "      <th>father</th>\n",
       "      <th>mother</th>\n",
       "      <th>gfather</th>\n",
       "      <th>weight</th>\n",
       "      <th>res_win</th>\n",
       "      <th>res_place</th>\n",
       "      <th>res_show</th>\n",
       "    </tr>\n",
       "  </thead>\n",
       "  <tbody>\n",
       "    <tr>\n",
       "      <th>0</th>\n",
       "      <td>302858</td>\n",
       "      <td>Kings Return</td>\n",
       "      <td>6.0</td>\n",
       "      <td>4.0</td>\n",
       "      <td>0.600000</td>\n",
       "      <td>1</td>\n",
       "      <td>W P Mullins</td>\n",
       "      <td>D J Casey</td>\n",
       "      <td>1</td>\n",
       "      <td>0</td>\n",
       "      <td>...</td>\n",
       "      <td>102.0</td>\n",
       "      <td>NaN</td>\n",
       "      <td>NaN</td>\n",
       "      <td>King's Ride</td>\n",
       "      <td>Browne's Return</td>\n",
       "      <td>Deep Run</td>\n",
       "      <td>73</td>\n",
       "      <td>1</td>\n",
       "      <td>1</td>\n",
       "      <td>0</td>\n",
       "    </tr>\n",
       "    <tr>\n",
       "      <th>1</th>\n",
       "      <td>302858</td>\n",
       "      <td>Majestic Red I</td>\n",
       "      <td>6.0</td>\n",
       "      <td>5.0</td>\n",
       "      <td>0.047619</td>\n",
       "      <td>0</td>\n",
       "      <td>John Hackett</td>\n",
       "      <td>Conor O'Dwyer</td>\n",
       "      <td>2</td>\n",
       "      <td>8</td>\n",
       "      <td>...</td>\n",
       "      <td>94.0</td>\n",
       "      <td>NaN</td>\n",
       "      <td>NaN</td>\n",
       "      <td>Long Pond</td>\n",
       "      <td>Courtlough Lady</td>\n",
       "      <td>Giolla Mear</td>\n",
       "      <td>73</td>\n",
       "      <td>0</td>\n",
       "      <td>1</td>\n",
       "      <td>0</td>\n",
       "    </tr>\n",
       "    <tr>\n",
       "      <th>2</th>\n",
       "      <td>302858</td>\n",
       "      <td>Clearly Canadian</td>\n",
       "      <td>6.0</td>\n",
       "      <td>2.0</td>\n",
       "      <td>0.166667</td>\n",
       "      <td>0</td>\n",
       "      <td>D T Hughes</td>\n",
       "      <td>G Cotter</td>\n",
       "      <td>3</td>\n",
       "      <td>1.5</td>\n",
       "      <td>...</td>\n",
       "      <td>92.0</td>\n",
       "      <td>NaN</td>\n",
       "      <td>NaN</td>\n",
       "      <td>Nordico</td>\n",
       "      <td>Over The Seas</td>\n",
       "      <td>North Summit</td>\n",
       "      <td>71</td>\n",
       "      <td>0</td>\n",
       "      <td>0</td>\n",
       "      <td>0</td>\n",
       "    </tr>\n",
       "    <tr>\n",
       "      <th>3</th>\n",
       "      <td>302858</td>\n",
       "      <td>Bernestic Wonder</td>\n",
       "      <td>8.0</td>\n",
       "      <td>1.0</td>\n",
       "      <td>0.058824</td>\n",
       "      <td>0</td>\n",
       "      <td>E McNamara</td>\n",
       "      <td>J Old Jones</td>\n",
       "      <td>4</td>\n",
       "      <td>dist</td>\n",
       "      <td>...</td>\n",
       "      <td>NaN</td>\n",
       "      <td>NaN</td>\n",
       "      <td>NaN</td>\n",
       "      <td>Roselier</td>\n",
       "      <td>Miss Reindeer</td>\n",
       "      <td>Reindeer</td>\n",
       "      <td>73</td>\n",
       "      <td>0</td>\n",
       "      <td>0</td>\n",
       "      <td>0</td>\n",
       "    </tr>\n",
       "    <tr>\n",
       "      <th>4</th>\n",
       "      <td>302858</td>\n",
       "      <td>Beauty's Pride</td>\n",
       "      <td>5.0</td>\n",
       "      <td>6.0</td>\n",
       "      <td>0.038462</td>\n",
       "      <td>0</td>\n",
       "      <td>J J Lennon</td>\n",
       "      <td>T Martin</td>\n",
       "      <td>5</td>\n",
       "      <td>dist</td>\n",
       "      <td>...</td>\n",
       "      <td>NaN</td>\n",
       "      <td>NaN</td>\n",
       "      <td>NaN</td>\n",
       "      <td>Noalto</td>\n",
       "      <td>Elena's Beauty</td>\n",
       "      <td>Tarqogan</td>\n",
       "      <td>66</td>\n",
       "      <td>0</td>\n",
       "      <td>0</td>\n",
       "      <td>0</td>\n",
       "    </tr>\n",
       "  </tbody>\n",
       "</table>\n",
       "<p>5 rows × 22 columns</p>\n",
       "</div>"
      ],
      "text/plain": [
       "      rid         horseName  age  saddle  decimalPrice  isFav   trainerName  \\\n",
       "0  302858      Kings Return  6.0     4.0      0.600000      1   W P Mullins   \n",
       "1  302858    Majestic Red I  6.0     5.0      0.047619      0  John Hackett   \n",
       "2  302858  Clearly Canadian  6.0     2.0      0.166667      0    D T Hughes   \n",
       "3  302858  Bernestic Wonder  8.0     1.0      0.058824      0    E McNamara   \n",
       "4  302858    Beauty's Pride  5.0     6.0      0.038462      0    J J Lennon   \n",
       "\n",
       "      jockeyName  position positionL  ...    RPR  TR  OR       father  \\\n",
       "0      D J Casey         1         0  ...  102.0 NaN NaN  King's Ride   \n",
       "1  Conor O'Dwyer         2         8  ...   94.0 NaN NaN    Long Pond   \n",
       "2       G Cotter         3       1.5  ...   92.0 NaN NaN      Nordico   \n",
       "3    J Old Jones         4      dist  ...    NaN NaN NaN     Roselier   \n",
       "4       T Martin         5      dist  ...    NaN NaN NaN       Noalto   \n",
       "\n",
       "            mother       gfather weight res_win  res_place  res_show  \n",
       "0  Browne's Return      Deep Run     73       1          1         0  \n",
       "1  Courtlough Lady   Giolla Mear     73       0          1         0  \n",
       "2    Over The Seas  North Summit     71       0          0         0  \n",
       "3    Miss Reindeer      Reindeer     73       0          0         0  \n",
       "4   Elena's Beauty      Tarqogan     66       0          0         0  \n",
       "\n",
       "[5 rows x 22 columns]"
      ]
     },
     "execution_count": 6,
     "metadata": {},
     "output_type": "execute_result"
    }
   ],
   "source": [
    "horses_clean = pd.read_csv(f\"{BASE_DIR}/data/streamline/horses_selected_trimmed_clean.csv\", low_memory=False) \n",
    "horses_clean.head()"
   ]
  },
  {
   "cell_type": "code",
   "execution_count": 7,
   "id": "2d2d4d69",
   "metadata": {},
   "outputs": [
    {
     "data": {
      "text/plain": [
       "(202304, 22)"
      ]
     },
     "execution_count": 7,
     "metadata": {},
     "output_type": "execute_result"
    }
   ],
   "source": [
    "horses_clean.shape"
   ]
  },
  {
   "cell_type": "markdown",
   "id": "2a7cafd3",
   "metadata": {},
   "source": [
    "---"
   ]
  },
  {
   "cell_type": "markdown",
   "id": "28fdf9ac",
   "metadata": {},
   "source": [
    "## Winning Time Metrics by Distance"
   ]
  },
  {
   "cell_type": "code",
   "execution_count": 8,
   "id": "0a1892ff",
   "metadata": {},
   "outputs": [
    {
     "data": {
      "text/plain": [
       "{1005.0: 60.929309372797746,\n",
       " 1105.5: 73.11236363636364,\n",
       " 1206.0: 74.17711014176663,\n",
       " 1306.5: 88.1844,\n",
       " 1407.0: 89.49708482287944,\n",
       " 1507.5: 98.96113879003559,\n",
       " 1609.0: 102.22887272727273,\n",
       " 1709.5: 110.01462365591398,\n",
       " 1810.0: 121.27736408566722,\n",
       " 1910.5: 125.72578595317727,\n",
       " 2011.0: 133.33706802721088,\n",
       " 2111.5: 136.67369538077403,\n",
       " 2212.0: 149.63857798165137,\n",
       " 2312.5: 154.50078125,\n",
       " 2413.0: 161.63288163716814,\n",
       " 2513.5: 171.3983211678832,\n",
       " 2614.0: 173.8580971659919,\n",
       " 2714.5: 186.55599999999998,\n",
       " 2815.0: 192.12592465753423,\n",
       " 2915.5: 205.68,\n",
       " 3016.0: 202.59560000000002,\n",
       " 3116.5: 230.025,\n",
       " 3218.0: 242.131,\n",
       " 3318.5: 248.48691428571428,\n",
       " 3419.0: 246.2172972972973,\n",
       " 3519.5: 256.8741935483871,\n",
       " 3620.0: 268.9958227848101,\n",
       " 3720.5: 287.12380952380954,\n",
       " 3821.0: 284.768253968254,\n",
       " 3921.5: 294.4655172413793,\n",
       " 4022.0: 310.04133333333334,\n",
       " 4122.5: 307.94716981132075,\n",
       " 4223.0: 338.05652173913046,\n",
       " 4323.5: 359.8,\n",
       " 4424.0: 345.8732142857143,\n",
       " 4524.5: 363.3,\n",
       " 4625.0: 376.5777777777778,\n",
       " 4725.5: 393.9,\n",
       " 4827.0: 396.7523809523809,\n",
       " 4927.5: 369.9,\n",
       " 5028.0: 404.6114285714286,\n",
       " 5128.5: 412.5,\n",
       " 5229.0: 443.15,\n",
       " 5329.5: 461.02,\n",
       " 5631.0: 479.90909090909093,\n",
       " 6436.0: 528.75,\n",
       " 6637.0: 544.3,\n",
       " 6737.5: 574.4,\n",
       " 6838.0: 606.2333333333333}"
      ]
     },
     "execution_count": 8,
     "metadata": {},
     "output_type": "execute_result"
    }
   ],
   "source": [
    "distance_to_avg_winning_time = races_featurized[['metric', 'winningTime']].groupby('metric').mean().to_dict('index')\n",
    "distance_to_avg_winning_time = { k: v['winningTime'] for k,v in distance_to_avg_winning_time.items()}\n",
    "distance_to_avg_winning_time"
   ]
  },
  {
   "cell_type": "code",
   "execution_count": 9,
   "id": "258b3e73",
   "metadata": {},
   "outputs": [
    {
     "data": {
      "text/plain": [
       "{1005.0: 2.9264637005575165,\n",
       " 1105.5: 3.4837006524226792,\n",
       " 1206.0: 3.0873141419176315,\n",
       " 1306.5: 7.002023371802623,\n",
       " 1407.0: 4.551935338801339,\n",
       " 1507.5: 4.439027900174284,\n",
       " 1609.0: 4.964736972568227,\n",
       " 1709.5: 5.789278169364809,\n",
       " 1810.0: 6.481043643106916,\n",
       " 1910.5: 5.497232033902799,\n",
       " 2011.0: 7.174769027252095,\n",
       " 2111.5: 4.7522177535431975,\n",
       " 2212.0: 5.569577360784376,\n",
       " 2312.5: 8.334741880795605,\n",
       " 2413.0: 9.31340419927159,\n",
       " 2513.5: 9.923268745830441,\n",
       " 2614.0: 9.595510553757332,\n",
       " 2714.5: 9.491458382262557,\n",
       " 2815.0: 12.115716973061438,\n",
       " 2915.5: nan,\n",
       " 3016.0: 2.994790031593752,\n",
       " 3116.5: 13.404343645678022,\n",
       " 3218.0: 18.49273331747957,\n",
       " 3318.5: 15.840804311279253,\n",
       " 3419.0: 16.532867135541988,\n",
       " 3519.5: 12.130896304943425,\n",
       " 3620.0: 19.092555075758604,\n",
       " 3720.5: 23.355318554066105,\n",
       " 3821.0: 21.006230126488294,\n",
       " 3921.5: 20.60719839317717,\n",
       " 4022.0: 22.089730322353077,\n",
       " 4122.5: 21.61130939483008,\n",
       " 4223.0: 27.529914738945298,\n",
       " 4323.5: 19.496812926366065,\n",
       " 4424.0: 18.21481406160111,\n",
       " 4524.5: 15.751507864328417,\n",
       " 4625.0: 16.636013478127634,\n",
       " 4725.5: 18.32341398320738,\n",
       " 4827.0: 23.506786900964237,\n",
       " 4927.5: 16.40975319741281,\n",
       " 5028.0: 23.057495545707823,\n",
       " 5128.5: 24.761353262384812,\n",
       " 5229.0: 5.727564927610991,\n",
       " 5329.5: 7.913090420309882,\n",
       " 5631.0: 13.886140899865202,\n",
       " 6436.0: 27.647875144394003,\n",
       " 6637.0: 7.192357054540619,\n",
       " 6737.5: nan,\n",
       " 6838.0: 32.15903190914381}"
      ]
     },
     "execution_count": 9,
     "metadata": {},
     "output_type": "execute_result"
    }
   ],
   "source": [
    "distance_to_std_winning_time = races_featurized[['metric', 'winningTime']].groupby('metric').std().to_dict('index')\n",
    "distance_to_std_winning_time = { k: v['winningTime'] for k,v in distance_to_std_winning_time.items()}\n",
    "distance_to_std_winning_time"
   ]
  },
  {
   "cell_type": "code",
   "execution_count": 10,
   "id": "62d4a799",
   "metadata": {},
   "outputs": [
    {
     "data": {
      "text/html": [
       "<div>\n",
       "<style scoped>\n",
       "    .dataframe tbody tr th:only-of-type {\n",
       "        vertical-align: middle;\n",
       "    }\n",
       "\n",
       "    .dataframe tbody tr th {\n",
       "        vertical-align: top;\n",
       "    }\n",
       "\n",
       "    .dataframe thead th {\n",
       "        text-align: right;\n",
       "    }\n",
       "</style>\n",
       "<table border=\"1\" class=\"dataframe\">\n",
       "  <thead>\n",
       "    <tr style=\"text-align: right;\">\n",
       "      <th></th>\n",
       "      <th>rid</th>\n",
       "      <th>course</th>\n",
       "      <th>title</th>\n",
       "      <th>winningTime</th>\n",
       "      <th>metric</th>\n",
       "      <th>ncond</th>\n",
       "      <th>class</th>\n",
       "      <th>runners</th>\n",
       "      <th>margin</th>\n",
       "      <th>1st_place_rank_in_odds</th>\n",
       "      <th>...</th>\n",
       "      <th>pressure_level_2</th>\n",
       "      <th>pressure_level_3</th>\n",
       "      <th>pressure_level_4</th>\n",
       "      <th>is_raining</th>\n",
       "      <th>rhum_level_0</th>\n",
       "      <th>rhum_level_1</th>\n",
       "      <th>rhum_level_2</th>\n",
       "      <th>rhum_level_3</th>\n",
       "      <th>rhum_level_4</th>\n",
       "      <th>entropy of odds</th>\n",
       "    </tr>\n",
       "  </thead>\n",
       "  <tbody>\n",
       "    <tr>\n",
       "      <th>669</th>\n",
       "      <td>128786</td>\n",
       "      <td>Punchestown</td>\n",
       "      <td>Friends First Cross Country Chase for the La T...</td>\n",
       "      <td>574.40</td>\n",
       "      <td>6737.5</td>\n",
       "      <td>11</td>\n",
       "      <td>0</td>\n",
       "      <td>10</td>\n",
       "      <td>1.171435</td>\n",
       "      <td>2</td>\n",
       "      <td>...</td>\n",
       "      <td>0</td>\n",
       "      <td>1</td>\n",
       "      <td>0</td>\n",
       "      <td>0</td>\n",
       "      <td>0</td>\n",
       "      <td>0</td>\n",
       "      <td>0</td>\n",
       "      <td>1</td>\n",
       "      <td>0</td>\n",
       "      <td>2.009498</td>\n",
       "    </tr>\n",
       "    <tr>\n",
       "      <th>15864</th>\n",
       "      <td>117404</td>\n",
       "      <td>Listowel</td>\n",
       "      <td>Bryan MacMahon (Q.R.) Race</td>\n",
       "      <td>205.68</td>\n",
       "      <td>2915.5</td>\n",
       "      <td>1</td>\n",
       "      <td>0</td>\n",
       "      <td>4</td>\n",
       "      <td>1.121037</td>\n",
       "      <td>1</td>\n",
       "      <td>...</td>\n",
       "      <td>0</td>\n",
       "      <td>1</td>\n",
       "      <td>0</td>\n",
       "      <td>1</td>\n",
       "      <td>0</td>\n",
       "      <td>0</td>\n",
       "      <td>1</td>\n",
       "      <td>0</td>\n",
       "      <td>0</td>\n",
       "      <td>0.715347</td>\n",
       "    </tr>\n",
       "  </tbody>\n",
       "</table>\n",
       "<p>2 rows × 129 columns</p>\n",
       "</div>"
      ],
      "text/plain": [
       "          rid       course                                              title  \\\n",
       "669    128786  Punchestown  Friends First Cross Country Chase for the La T...   \n",
       "15864  117404     Listowel                         Bryan MacMahon (Q.R.) Race   \n",
       "\n",
       "       winningTime  metric  ncond  class  runners    margin  \\\n",
       "669         574.40  6737.5     11      0       10  1.171435   \n",
       "15864       205.68  2915.5      1      0        4  1.121037   \n",
       "\n",
       "       1st_place_rank_in_odds  ...  pressure_level_2  pressure_level_3  \\\n",
       "669                         2  ...                 0                 1   \n",
       "15864                       1  ...                 0                 1   \n",
       "\n",
       "       pressure_level_4  is_raining  rhum_level_0  rhum_level_1  rhum_level_2  \\\n",
       "669                   0           0             0             0             0   \n",
       "15864                 0           1             0             0             1   \n",
       "\n",
       "       rhum_level_3  rhum_level_4  entropy of odds  \n",
       "669               1             0         2.009498  \n",
       "15864             0             0         0.715347  \n",
       "\n",
       "[2 rows x 129 columns]"
      ]
     },
     "execution_count": 10,
     "metadata": {},
     "output_type": "execute_result"
    }
   ],
   "source": [
    "races_featurized[(races_featurized['metric'] == 2915.5) | (races_featurized['metric'] == 6737.5)]"
   ]
  },
  {
   "cell_type": "code",
   "execution_count": 11,
   "id": "ae67a575",
   "metadata": {},
   "outputs": [],
   "source": [
    "def normalize_winning_time(row: pd.core.frame.DataFrame) -> float:\n",
    "    avg = distance_to_avg_winning_time[row['metric']]\n",
    "    sd = distance_to_std_winning_time[row['metric']]\n",
    "    \n",
    "    return 0 if pd.isna(sd) else (row['winningTime'] - avg) / sd"
   ]
  },
  {
   "cell_type": "code",
   "execution_count": 12,
   "id": "2f0df2e8",
   "metadata": {
    "scrolled": false
   },
   "outputs": [
    {
     "data": {
      "text/plain": [
       "0   -0.360286\n",
       "1    0.707107\n",
       "2    2.587615\n",
       "3   -1.445979\n",
       "4   -0.351725\n",
       "Name: normalized_winning_time, dtype: float64"
      ]
     },
     "execution_count": 12,
     "metadata": {},
     "output_type": "execute_result"
    }
   ],
   "source": [
    "races_featurized['normalized_winning_time'] = races_featurized.apply(normalize_winning_time, axis = 1)\n",
    "races_featurized['normalized_winning_time'].head()"
   ]
  },
  {
   "cell_type": "code",
   "execution_count": 13,
   "id": "4af74633",
   "metadata": {},
   "outputs": [
    {
     "data": {
      "text/html": [
       "<div>\n",
       "<style scoped>\n",
       "    .dataframe tbody tr th:only-of-type {\n",
       "        vertical-align: middle;\n",
       "    }\n",
       "\n",
       "    .dataframe tbody tr th {\n",
       "        vertical-align: top;\n",
       "    }\n",
       "\n",
       "    .dataframe thead th {\n",
       "        text-align: right;\n",
       "    }\n",
       "</style>\n",
       "<table border=\"1\" class=\"dataframe\">\n",
       "  <thead>\n",
       "    <tr style=\"text-align: right;\">\n",
       "      <th></th>\n",
       "      <th>rid</th>\n",
       "      <th>winningTime</th>\n",
       "      <th>metric</th>\n",
       "    </tr>\n",
       "  </thead>\n",
       "  <tbody>\n",
       "    <tr>\n",
       "      <th>0</th>\n",
       "      <td>302858</td>\n",
       "      <td>277.2</td>\n",
       "      <td>3821.0</td>\n",
       "    </tr>\n",
       "    <tr>\n",
       "      <th>1</th>\n",
       "      <td>291347</td>\n",
       "      <td>447.2</td>\n",
       "      <td>5229.0</td>\n",
       "    </tr>\n",
       "    <tr>\n",
       "      <th>2</th>\n",
       "      <td>75447</td>\n",
       "      <td>318.4</td>\n",
       "      <td>3620.0</td>\n",
       "    </tr>\n",
       "    <tr>\n",
       "      <th>3</th>\n",
       "      <td>358038</td>\n",
       "      <td>533.9</td>\n",
       "      <td>6637.0</td>\n",
       "    </tr>\n",
       "    <tr>\n",
       "      <th>4</th>\n",
       "      <td>89211</td>\n",
       "      <td>59.9</td>\n",
       "      <td>1005.0</td>\n",
       "    </tr>\n",
       "  </tbody>\n",
       "</table>\n",
       "</div>"
      ],
      "text/plain": [
       "      rid  winningTime  metric\n",
       "0  302858        277.2  3821.0\n",
       "1  291347        447.2  5229.0\n",
       "2   75447        318.4  3620.0\n",
       "3  358038        533.9  6637.0\n",
       "4   89211         59.9  1005.0"
      ]
     },
     "execution_count": 13,
     "metadata": {},
     "output_type": "execute_result"
    }
   ],
   "source": [
    "races_featurized[['rid', 'winningTime', 'metric']].head()"
   ]
  },
  {
   "cell_type": "code",
   "execution_count": 14,
   "id": "acd48453",
   "metadata": {},
   "outputs": [
    {
     "data": {
      "text/plain": [
       "284.768253968254"
      ]
     },
     "execution_count": 14,
     "metadata": {},
     "output_type": "execute_result"
    }
   ],
   "source": [
    "distance_to_avg_winning_time[3821.0]"
   ]
  },
  {
   "cell_type": "code",
   "execution_count": 15,
   "id": "f69d2288",
   "metadata": {},
   "outputs": [
    {
     "data": {
      "text/plain": [
       "443.15"
      ]
     },
     "execution_count": 15,
     "metadata": {},
     "output_type": "execute_result"
    }
   ],
   "source": [
    "distance_to_avg_winning_time[5229.0]"
   ]
  },
  {
   "cell_type": "markdown",
   "id": "e4f668f9",
   "metadata": {},
   "source": [
    "---"
   ]
  },
  {
   "cell_type": "markdown",
   "id": "10dd34c7",
   "metadata": {},
   "source": [
    "## Winning Times are Higher In Extreme Weather Conditions"
   ]
  },
  {
   "cell_type": "code",
   "execution_count": 16,
   "id": "081aa530",
   "metadata": {},
   "outputs": [
    {
     "data": {
      "text/plain": [
       "(10520, 9681)"
      ]
     },
     "execution_count": 16,
     "metadata": {},
     "output_type": "execute_result"
    }
   ],
   "source": [
    "dfa = races_featurized[\n",
    "    ((races_featurized['temp_level_1'] == 1) | (races_featurized['temp_level_2'] == 1) | (races_featurized['temp_level_3'] == 1)) &\n",
    "    ((races_featurized['pressure_level_3'] == 1) | (races_featurized['pressure_level_4'] == 1)) &\n",
    "    ((races_featurized['rhum_level_1'] == 1) | (races_featurized['rhum_level_2'] == 1) | (races_featurized['rhum_level_3'] == 1)) &\n",
    "    (races_featurized['is_raining'] == 0)\n",
    "]\n",
    "\n",
    "dfb = races_featurized[\n",
    "    ~(((races_featurized['temp_level_1'] == 1) | (races_featurized['temp_level_2'] == 1) | (races_featurized['temp_level_3'] == 1)) &\n",
    "    ((races_featurized['pressure_level_3'] == 1) | (races_featurized['pressure_level_4'] == 1)) &\n",
    "    ((races_featurized['rhum_level_1'] == 1) | (races_featurized['rhum_level_2'] == 1) | (races_featurized['rhum_level_3'] == 1)) &\n",
    "    (races_featurized['is_raining'] == 0))\n",
    "]\n",
    "\n",
    "len(dfa), len(dfb)"
   ]
  },
  {
   "cell_type": "code",
   "execution_count": 17,
   "id": "e9f62027",
   "metadata": {},
   "outputs": [
    {
     "data": {
      "text/plain": [
       "-0.11573041015464386"
      ]
     },
     "execution_count": 17,
     "metadata": {},
     "output_type": "execute_result"
    }
   ],
   "source": [
    "np.mean(dfa['normalized_winning_time'])"
   ]
  },
  {
   "cell_type": "code",
   "execution_count": 18,
   "id": "5b342369",
   "metadata": {},
   "outputs": [
    {
     "data": {
      "text/plain": [
       "0.12576013994699325"
      ]
     },
     "execution_count": 18,
     "metadata": {},
     "output_type": "execute_result"
    }
   ],
   "source": [
    "np.mean(dfb['normalized_winning_time'])"
   ]
  },
  {
   "cell_type": "code",
   "execution_count": 19,
   "id": "77731922",
   "metadata": {},
   "outputs": [
    {
     "data": {
      "text/plain": [
       "<matplotlib.legend.Legend at 0x139356be0>"
      ]
     },
     "execution_count": 19,
     "metadata": {},
     "output_type": "execute_result"
    },
    {
     "data": {
      "image/png": "[encoded data removed]",
      "text/plain": [
       "<Figure size 432x288 with 1 Axes>"
      ]
     },
     "metadata": {
      "needs_background": "light"
     },
     "output_type": "display_data"
    }
   ],
   "source": [
    "plt.hist(dfa['normalized_winning_time'], alpha = 0.7, density=True, label=\"non-extreme\")\n",
    "plt.hist(dfb['normalized_winning_time'], alpha = 0.7, density=True, label=\"extreme\")\n",
    "plt.legend()"
   ]
  },
  {
   "cell_type": "code",
   "execution_count": 28,
   "id": "0f18d9a9",
   "metadata": {},
   "outputs": [
    {
     "data": {
      "image/png": "[encoded data removed]",
      "text/plain": [
       "<Figure size 360x360 with 1 Axes>"
      ]
     },
     "metadata": {
      "needs_background": "light"
     },
     "output_type": "display_data"
    }
   ],
   "source": [
    "fig = plt.figure(figsize=(5,5))\n",
    "gs = fig.add_gridspec(1, 1)\n",
    "\n",
    "ax1 = fig.add_subplot(gs[0:1, 0:1])\n",
    "\n",
    "ax1.set_title(\"Distribution of Normalized Winning Times by Weather Conditions\")\n",
    "ax1.hist([dfa['normalized_winning_time'], dfb['normalized_winning_time']],\n",
    "         label=['Ideal Weather', 'Non-Ideal Weather'],\n",
    "         density=True)\n",
    "ax1.legend()\n",
    "\n",
    "plt.show()"
   ]
  },
  {
   "cell_type": "code",
   "execution_count": 41,
   "id": "da9db964",
   "metadata": {},
   "outputs": [],
   "source": [
    "dfa_1 = dfa[(dfa['normalized_winning_time'] < 5) & (dfa['normalized_winning_time'] > -5)]\n",
    "dfb_1 = dfb[(dfb['normalized_winning_time'] < 5) & (dfb['normalized_winning_time'] > -5)]"
   ]
  },
  {
   "cell_type": "code",
   "execution_count": 44,
   "id": "ecbe5b1b",
   "metadata": {},
   "outputs": [
    {
     "data": {
      "image/png": "[encoded data removed]",
      "text/plain": [
       "<Figure size 360x360 with 1 Axes>"
      ]
     },
     "metadata": {
      "needs_background": "light"
     },
     "output_type": "display_data"
    }
   ],
   "source": [
    "fig = plt.figure(figsize=(5,5))\n",
    "gs = fig.add_gridspec(1, 1)\n",
    "\n",
    "ax1 = fig.add_subplot(gs[0:1, 0:1])\n",
    "\n",
    "ax1.set_title(\"Normalized Winning Times by Weather Conditions\")\n",
    "ax1.hist([dfa_1['normalized_winning_time'], dfb_1['normalized_winning_time']],\n",
    "         label=['Ideal Weather', 'Non-Ideal Weather'],\n",
    "         density=True)\n",
    "ax1.set_xlabel(\"Normalize Winning Time\")\n",
    "ax1.set_ylabel(\"Density\")\n",
    "ax1.legend()\n",
    "\n",
    "fig.savefig(f\"{BASE_DIR}/figures/winning_times_distr.png\")\n",
    "\n",
    "plt.show()"
   ]
  },
  {
   "cell_type": "code",
   "execution_count": null,
   "id": "25e0c1c6",
   "metadata": {},
   "outputs": [],
   "source": []
  },
  {
   "cell_type": "code",
   "execution_count": 21,
   "id": "c58e6fe3",
   "metadata": {},
   "outputs": [
    {
     "data": {
      "text/plain": [
       "Ttest_indResult(statistic=-17.20292248562827, pvalue=7.794649616375757e-66)"
      ]
     },
     "execution_count": 21,
     "metadata": {},
     "output_type": "execute_result"
    }
   ],
   "source": [
    "stats.ttest_ind(dfa['normalized_winning_time'],\n",
    "                dfb['normalized_winning_time'],\n",
    "                equal_var=False)"
   ]
  }
 ],
 "metadata": {
  "kernelspec": {
   "display_name": "Python 3 (ipykernel)",
   "language": "python",
   "name": "python3"
  },
  "language_info": {
   "codemirror_mode": {
    "name": "ipython",
    "version": 3
   },
   "file_extension": ".py",
   "mimetype": "text/x-python",
   "name": "python",
   "nbconvert_exporter": "python",
   "pygments_lexer": "ipython3",
   "version": "3.9.6"
  }
 },
 "nbformat": 4,
 "nbformat_minor": 5
}
