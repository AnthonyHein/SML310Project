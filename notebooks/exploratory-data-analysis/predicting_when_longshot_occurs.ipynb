{
 "cells": [
  {
   "cell_type": "markdown",
   "id": "7026e67b",
   "metadata": {},
   "source": [
    "# `predicting_when_longshot_occurs.ipynb`"
   ]
  },
  {
   "cell_type": "markdown",
   "id": "c052cb33",
   "metadata": {},
   "source": [
    "### Author: Anthony Hein"
   ]
  },
  {
   "cell_type": "markdown",
   "id": "194e2cf5",
   "metadata": {},
   "source": [
    "#### Last updated: 11/8/2021"
   ]
  },
  {
   "cell_type": "markdown",
   "id": "1b86aa88",
   "metadata": {},
   "source": [
    "# Overview:\n",
    "\n",
    "This notebook shows that longshots do well in extreme weather conditions."
   ]
  },
  {
   "cell_type": "markdown",
   "id": "697e80d8",
   "metadata": {},
   "source": [
    "---"
   ]
  },
  {
   "cell_type": "markdown",
   "id": "08164829",
   "metadata": {},
   "source": [
    "## Setup"
   ]
  },
  {
   "cell_type": "code",
   "execution_count": 1,
   "id": "9e9ee6d1",
   "metadata": {},
   "outputs": [],
   "source": [
    "from datetime import datetime\n",
    "import git\n",
    "import os\n",
    "import re\n",
    "from typing import List\n",
    "from sklearn.preprocessing import StandardScaler\n",
    "from tqdm import tqdm\n",
    "import pandas as pd\n",
    "import numpy as np\n",
    "from scipy import stats\n",
    "import matplotlib.pyplot as plt\n",
    "import seaborn as sns\n",
    "%matplotlib inline\n",
    "\n",
    "sns.set_theme(style=\"whitegrid\")"
   ]
  },
  {
   "cell_type": "code",
   "execution_count": 2,
   "id": "f013a715",
   "metadata": {},
   "outputs": [
    {
     "data": {
      "text/plain": [
       "'/Users/anthonyhein/Desktop/SML310/project'"
      ]
     },
     "execution_count": 2,
     "metadata": {},
     "output_type": "execute_result"
    }
   ],
   "source": [
    "BASE_DIR = git.Repo(os.getcwd(), search_parent_directories=True).working_dir\n",
    "BASE_DIR"
   ]
  },
  {
   "cell_type": "markdown",
   "id": "900adb93",
   "metadata": {},
   "source": [
    "---"
   ]
  },
  {
   "cell_type": "markdown",
   "id": "75c7066e",
   "metadata": {},
   "source": [
    "## Load `races_featurized.csv`"
   ]
  },
  {
   "cell_type": "code",
   "execution_count": 3,
   "id": "cee61ac1",
   "metadata": {},
   "outputs": [
    {
     "data": {
      "text/html": [
       "<div>\n",
       "<style scoped>\n",
       "    .dataframe tbody tr th:only-of-type {\n",
       "        vertical-align: middle;\n",
       "    }\n",
       "\n",
       "    .dataframe tbody tr th {\n",
       "        vertical-align: top;\n",
       "    }\n",
       "\n",
       "    .dataframe thead th {\n",
       "        text-align: right;\n",
       "    }\n",
       "</style>\n",
       "<table border=\"1\" class=\"dataframe\">\n",
       "  <thead>\n",
       "    <tr style=\"text-align: right;\">\n",
       "      <th></th>\n",
       "      <th>rid</th>\n",
       "      <th>course</th>\n",
       "      <th>title</th>\n",
       "      <th>winningTime</th>\n",
       "      <th>metric</th>\n",
       "      <th>ncond</th>\n",
       "      <th>class</th>\n",
       "      <th>runners</th>\n",
       "      <th>margin</th>\n",
       "      <th>1st_place_rank_in_odds</th>\n",
       "      <th>...</th>\n",
       "      <th>pressure_level_2</th>\n",
       "      <th>pressure_level_3</th>\n",
       "      <th>pressure_level_4</th>\n",
       "      <th>is_raining</th>\n",
       "      <th>rhum_level_0</th>\n",
       "      <th>rhum_level_1</th>\n",
       "      <th>rhum_level_2</th>\n",
       "      <th>rhum_level_3</th>\n",
       "      <th>rhum_level_4</th>\n",
       "      <th>entropy of odds</th>\n",
       "    </tr>\n",
       "  </thead>\n",
       "  <tbody>\n",
       "    <tr>\n",
       "      <th>0</th>\n",
       "      <td>302858</td>\n",
       "      <td>Thurles</td>\n",
       "      <td>Liffey Maiden Hurdle (Div 1)</td>\n",
       "      <td>277.2</td>\n",
       "      <td>3821.0</td>\n",
       "      <td>1</td>\n",
       "      <td>0</td>\n",
       "      <td>6</td>\n",
       "      <td>1.219263</td>\n",
       "      <td>1</td>\n",
       "      <td>...</td>\n",
       "      <td>0</td>\n",
       "      <td>1</td>\n",
       "      <td>0</td>\n",
       "      <td>0</td>\n",
       "      <td>0</td>\n",
       "      <td>0</td>\n",
       "      <td>0</td>\n",
       "      <td>0</td>\n",
       "      <td>1</td>\n",
       "      <td>1.350363</td>\n",
       "    </tr>\n",
       "    <tr>\n",
       "      <th>1</th>\n",
       "      <td>291347</td>\n",
       "      <td>Punchestown</td>\n",
       "      <td>Ericsson G.S.M. Grand National Trial Handicap ...</td>\n",
       "      <td>447.2</td>\n",
       "      <td>5229.0</td>\n",
       "      <td>5</td>\n",
       "      <td>0</td>\n",
       "      <td>9</td>\n",
       "      <td>1.218049</td>\n",
       "      <td>4</td>\n",
       "      <td>...</td>\n",
       "      <td>1</td>\n",
       "      <td>0</td>\n",
       "      <td>0</td>\n",
       "      <td>1</td>\n",
       "      <td>0</td>\n",
       "      <td>0</td>\n",
       "      <td>0</td>\n",
       "      <td>0</td>\n",
       "      <td>1</td>\n",
       "      <td>1.995151</td>\n",
       "    </tr>\n",
       "    <tr>\n",
       "      <th>2</th>\n",
       "      <td>75447</td>\n",
       "      <td>Listowel</td>\n",
       "      <td>Ballybunion E.B.F. Beginners S'chase</td>\n",
       "      <td>318.4</td>\n",
       "      <td>3620.0</td>\n",
       "      <td>5</td>\n",
       "      <td>0</td>\n",
       "      <td>8</td>\n",
       "      <td>1.277320</td>\n",
       "      <td>3</td>\n",
       "      <td>...</td>\n",
       "      <td>1</td>\n",
       "      <td>0</td>\n",
       "      <td>0</td>\n",
       "      <td>0</td>\n",
       "      <td>0</td>\n",
       "      <td>0</td>\n",
       "      <td>0</td>\n",
       "      <td>1</td>\n",
       "      <td>0</td>\n",
       "      <td>1.786421</td>\n",
       "    </tr>\n",
       "    <tr>\n",
       "      <th>3</th>\n",
       "      <td>358038</td>\n",
       "      <td>Punchestown</td>\n",
       "      <td>Quinns Of Baltinglass Chase (La Touche) (Cross...</td>\n",
       "      <td>533.9</td>\n",
       "      <td>6637.0</td>\n",
       "      <td>1</td>\n",
       "      <td>0</td>\n",
       "      <td>10</td>\n",
       "      <td>1.286595</td>\n",
       "      <td>1</td>\n",
       "      <td>...</td>\n",
       "      <td>0</td>\n",
       "      <td>1</td>\n",
       "      <td>0</td>\n",
       "      <td>0</td>\n",
       "      <td>0</td>\n",
       "      <td>0</td>\n",
       "      <td>0</td>\n",
       "      <td>1</td>\n",
       "      <td>0</td>\n",
       "      <td>1.611062</td>\n",
       "    </tr>\n",
       "    <tr>\n",
       "      <th>4</th>\n",
       "      <td>89211</td>\n",
       "      <td>Tipperary</td>\n",
       "      <td>Topaz Sprint Stakes (Listed)</td>\n",
       "      <td>59.9</td>\n",
       "      <td>1005.0</td>\n",
       "      <td>4</td>\n",
       "      <td>0</td>\n",
       "      <td>5</td>\n",
       "      <td>1.217043</td>\n",
       "      <td>4</td>\n",
       "      <td>...</td>\n",
       "      <td>1</td>\n",
       "      <td>0</td>\n",
       "      <td>0</td>\n",
       "      <td>0</td>\n",
       "      <td>0</td>\n",
       "      <td>0</td>\n",
       "      <td>1</td>\n",
       "      <td>0</td>\n",
       "      <td>0</td>\n",
       "      <td>1.254374</td>\n",
       "    </tr>\n",
       "  </tbody>\n",
       "</table>\n",
       "<p>5 rows × 129 columns</p>\n",
       "</div>"
      ],
      "text/plain": [
       "      rid       course                                              title  \\\n",
       "0  302858      Thurles                       Liffey Maiden Hurdle (Div 1)   \n",
       "1  291347  Punchestown  Ericsson G.S.M. Grand National Trial Handicap ...   \n",
       "2   75447     Listowel               Ballybunion E.B.F. Beginners S'chase   \n",
       "3  358038  Punchestown  Quinns Of Baltinglass Chase (La Touche) (Cross...   \n",
       "4   89211    Tipperary                       Topaz Sprint Stakes (Listed)   \n",
       "\n",
       "   winningTime  metric  ncond  class  runners    margin  \\\n",
       "0        277.2  3821.0      1      0        6  1.219263   \n",
       "1        447.2  5229.0      5      0        9  1.218049   \n",
       "2        318.4  3620.0      5      0        8  1.277320   \n",
       "3        533.9  6637.0      1      0       10  1.286595   \n",
       "4         59.9  1005.0      4      0        5  1.217043   \n",
       "\n",
       "   1st_place_rank_in_odds  ...  pressure_level_2  pressure_level_3  \\\n",
       "0                       1  ...                 0                 1   \n",
       "1                       4  ...                 1                 0   \n",
       "2                       3  ...                 1                 0   \n",
       "3                       1  ...                 0                 1   \n",
       "4                       4  ...                 1                 0   \n",
       "\n",
       "   pressure_level_4  is_raining  rhum_level_0  rhum_level_1  rhum_level_2  \\\n",
       "0                 0           0             0             0             0   \n",
       "1                 0           1             0             0             0   \n",
       "2                 0           0             0             0             0   \n",
       "3                 0           0             0             0             0   \n",
       "4                 0           0             0             0             1   \n",
       "\n",
       "   rhum_level_3  rhum_level_4  entropy of odds  \n",
       "0             0             1         1.350363  \n",
       "1             0             1         1.995151  \n",
       "2             1             0         1.786421  \n",
       "3             1             0         1.611062  \n",
       "4             0             0         1.254374  \n",
       "\n",
       "[5 rows x 129 columns]"
      ]
     },
     "execution_count": 3,
     "metadata": {},
     "output_type": "execute_result"
    }
   ],
   "source": [
    "races_featurized = pd.read_csv(f\"{BASE_DIR}/data/streamline/races_featurized.csv\", low_memory=False) \n",
    "races_featurized.head()"
   ]
  },
  {
   "cell_type": "code",
   "execution_count": 4,
   "id": "60fdc317",
   "metadata": {},
   "outputs": [
    {
     "data": {
      "text/plain": [
       "(20201, 129)"
      ]
     },
     "execution_count": 4,
     "metadata": {},
     "output_type": "execute_result"
    }
   ],
   "source": [
    "races_featurized.shape"
   ]
  },
  {
   "cell_type": "code",
   "execution_count": 90,
   "id": "34220582",
   "metadata": {
    "scrolled": false
   },
   "outputs": [
    {
     "data": {
      "text/plain": [
       "['rid',\n",
       " 'course',\n",
       " 'title',\n",
       " 'winningTime',\n",
       " 'metric',\n",
       " 'ncond',\n",
       " 'class',\n",
       " 'runners',\n",
       " 'margin',\n",
       " '1st_place_rank_in_odds',\n",
       " '2nd_place_rank_in_odds',\n",
       " '3rd_place_rank_in_odds',\n",
       " '1st_rank_in_odds_place',\n",
       " '2nd_rank_in_odds_place',\n",
       " '3rd_rank_in_odds_place',\n",
       " 'placeAvailable',\n",
       " 'showAvailable',\n",
       " 'favoriteWon',\n",
       " 'favoritePlaced',\n",
       " 'favoriteShowed',\n",
       " 'lat',\n",
       " 'lng',\n",
       " 'datetime',\n",
       " 'station no',\n",
       " 'station name',\n",
       " 'station lat',\n",
       " 'station lng',\n",
       " 'dist to station',\n",
       " 'station reading date',\n",
       " 'temp',\n",
       " 'msl',\n",
       " 'rain',\n",
       " 'rhum',\n",
       " 'station reading timedelta',\n",
       " 'course__Ballinrobe',\n",
       " 'course__Bellewstown',\n",
       " 'course__Clonmel',\n",
       " 'course__Cork',\n",
       " 'course__Curragh',\n",
       " 'course__Down Royal',\n",
       " 'course__Downpatrick',\n",
       " 'course__Dundalk',\n",
       " 'course__Fairyhouse',\n",
       " 'course__Galway',\n",
       " 'course__Gowran Park',\n",
       " 'course__Killarney',\n",
       " 'course__Leopardstown',\n",
       " 'course__Limerick',\n",
       " 'course__Listowel',\n",
       " 'course__Naas',\n",
       " 'course__Navan',\n",
       " 'course__Other',\n",
       " 'course__Punchestown',\n",
       " 'course__Roscommon',\n",
       " 'course__Sligo',\n",
       " 'course__Tipperary',\n",
       " 'course__Tralee',\n",
       " 'course__Tramore',\n",
       " 'course__Wexford',\n",
       " 'metric__1005.0',\n",
       " 'metric__1206.0',\n",
       " 'metric__1306.5',\n",
       " 'metric__1407.0',\n",
       " 'metric__1507.5',\n",
       " 'metric__1609.0',\n",
       " 'metric__1709.5',\n",
       " 'metric__1810.0',\n",
       " 'metric__1910.5',\n",
       " 'metric__2011.0',\n",
       " 'metric__2111.5',\n",
       " 'metric__2212.0',\n",
       " 'metric__2413.0',\n",
       " 'metric__2614.0',\n",
       " 'metric__2815.0',\n",
       " 'metric__3218.0',\n",
       " 'metric__3419.0',\n",
       " 'metric__3620.0',\n",
       " 'metric__4022.0',\n",
       " 'metric__Other',\n",
       " 'ncond__0',\n",
       " 'ncond__1',\n",
       " 'ncond__2',\n",
       " 'ncond__4',\n",
       " 'ncond__5',\n",
       " 'ncond__6',\n",
       " 'ncond__9',\n",
       " 'ncond__11',\n",
       " 'ncond__12',\n",
       " 'ncond__Other',\n",
       " 'runners__6',\n",
       " 'runners__7',\n",
       " 'runners__8',\n",
       " 'runners__9',\n",
       " 'runners__10',\n",
       " 'runners__11',\n",
       " 'runners__12',\n",
       " 'runners__13',\n",
       " 'runners__14',\n",
       " 'runners__Other',\n",
       " 'month',\n",
       " 'month__3',\n",
       " 'month__4',\n",
       " 'month__5',\n",
       " 'month__6',\n",
       " 'month__7',\n",
       " 'month__8',\n",
       " 'month__9',\n",
       " 'month__10',\n",
       " 'month__11',\n",
       " 'month__12',\n",
       " 'month__Other',\n",
       " 'year',\n",
       " 'temp_level_0',\n",
       " 'temp_level_1',\n",
       " 'temp_level_2',\n",
       " 'temp_level_3',\n",
       " 'temp_level_4',\n",
       " 'pressure_level_0',\n",
       " 'pressure_level_1',\n",
       " 'pressure_level_2',\n",
       " 'pressure_level_3',\n",
       " 'pressure_level_4',\n",
       " 'is_raining',\n",
       " 'rhum_level_0',\n",
       " 'rhum_level_1',\n",
       " 'rhum_level_2',\n",
       " 'rhum_level_3',\n",
       " 'rhum_level_4']"
      ]
     },
     "execution_count": 90,
     "metadata": {},
     "output_type": "execute_result"
    }
   ],
   "source": [
    "list(races_featurized.columns)"
   ]
  },
  {
   "cell_type": "code",
   "execution_count": 89,
   "id": "7ae7072b",
   "metadata": {},
   "outputs": [],
   "source": [
    "races_featurized = races_featurized.drop(columns=['entropy of odds'])"
   ]
  },
  {
   "cell_type": "code",
   "execution_count": 131,
   "id": "4dc67db1",
   "metadata": {
    "scrolled": true
   },
   "outputs": [
    {
     "data": {
      "text/plain": [
       "14    3444\n",
       "13    2161\n",
       "10    2052\n",
       "9     2029\n",
       "12    1972\n",
       "8     1920\n",
       "11    1878\n",
       "7     1724\n",
       "6     1254\n",
       "5     1057\n",
       "4      525\n",
       "3      185\n",
       "Name: runners, dtype: int64"
      ]
     },
     "execution_count": 131,
     "metadata": {},
     "output_type": "execute_result"
    }
   ],
   "source": [
    "races_featurized['runners'].value_counts()"
   ]
  },
  {
   "cell_type": "code",
   "execution_count": 132,
   "id": "858cd2b8",
   "metadata": {},
   "outputs": [],
   "source": [
    "races_featurized = races_featurized[races_featurized['runners'] == 14]"
   ]
  },
  {
   "cell_type": "markdown",
   "id": "90cf5c3e",
   "metadata": {},
   "source": [
    "---"
   ]
  },
  {
   "cell_type": "markdown",
   "id": "85ea05d2",
   "metadata": {},
   "source": [
    "## Predicting When Longshots Occur"
   ]
  },
  {
   "cell_type": "code",
   "execution_count": 133,
   "id": "d62736b1",
   "metadata": {},
   "outputs": [],
   "source": [
    "from sklearn.linear_model import LogisticRegression\n",
    "from sklearn.preprocessing import StandardScaler\n",
    "from sklearn import metrics\n",
    "from sklearn.model_selection import train_test_split"
   ]
  },
  {
   "cell_type": "code",
   "execution_count": 134,
   "id": "1deafd8a",
   "metadata": {},
   "outputs": [
    {
     "data": {
      "text/html": [
       "<div>\n",
       "<style scoped>\n",
       "    .dataframe tbody tr th:only-of-type {\n",
       "        vertical-align: middle;\n",
       "    }\n",
       "\n",
       "    .dataframe tbody tr th {\n",
       "        vertical-align: top;\n",
       "    }\n",
       "\n",
       "    .dataframe thead th {\n",
       "        text-align: right;\n",
       "    }\n",
       "</style>\n",
       "<table border=\"1\" class=\"dataframe\">\n",
       "  <thead>\n",
       "    <tr style=\"text-align: right;\">\n",
       "      <th></th>\n",
       "      <th>metric</th>\n",
       "      <th>ncond</th>\n",
       "      <th>class</th>\n",
       "      <th>runners</th>\n",
       "      <th>margin</th>\n",
       "      <th>course__Ballinrobe</th>\n",
       "      <th>course__Bellewstown</th>\n",
       "      <th>course__Clonmel</th>\n",
       "      <th>course__Cork</th>\n",
       "      <th>course__Curragh</th>\n",
       "      <th>...</th>\n",
       "      <th>pressure_level_1</th>\n",
       "      <th>pressure_level_2</th>\n",
       "      <th>pressure_level_3</th>\n",
       "      <th>pressure_level_4</th>\n",
       "      <th>is_raining</th>\n",
       "      <th>rhum_level_0</th>\n",
       "      <th>rhum_level_1</th>\n",
       "      <th>rhum_level_2</th>\n",
       "      <th>rhum_level_3</th>\n",
       "      <th>rhum_level_4</th>\n",
       "    </tr>\n",
       "  </thead>\n",
       "  <tbody>\n",
       "    <tr>\n",
       "      <th>345</th>\n",
       "      <td>5028.0</td>\n",
       "      <td>5</td>\n",
       "      <td>0</td>\n",
       "      <td>14</td>\n",
       "      <td>1.468367</td>\n",
       "      <td>0</td>\n",
       "      <td>0</td>\n",
       "      <td>0</td>\n",
       "      <td>0</td>\n",
       "      <td>0</td>\n",
       "      <td>...</td>\n",
       "      <td>0</td>\n",
       "      <td>0</td>\n",
       "      <td>1</td>\n",
       "      <td>0</td>\n",
       "      <td>1</td>\n",
       "      <td>0</td>\n",
       "      <td>0</td>\n",
       "      <td>0</td>\n",
       "      <td>1</td>\n",
       "      <td>0</td>\n",
       "    </tr>\n",
       "    <tr>\n",
       "      <th>429</th>\n",
       "      <td>2111.5</td>\n",
       "      <td>0</td>\n",
       "      <td>0</td>\n",
       "      <td>14</td>\n",
       "      <td>1.243227</td>\n",
       "      <td>0</td>\n",
       "      <td>0</td>\n",
       "      <td>0</td>\n",
       "      <td>0</td>\n",
       "      <td>0</td>\n",
       "      <td>...</td>\n",
       "      <td>0</td>\n",
       "      <td>1</td>\n",
       "      <td>0</td>\n",
       "      <td>0</td>\n",
       "      <td>1</td>\n",
       "      <td>0</td>\n",
       "      <td>0</td>\n",
       "      <td>0</td>\n",
       "      <td>0</td>\n",
       "      <td>1</td>\n",
       "    </tr>\n",
       "    <tr>\n",
       "      <th>430</th>\n",
       "      <td>2111.5</td>\n",
       "      <td>0</td>\n",
       "      <td>0</td>\n",
       "      <td>14</td>\n",
       "      <td>1.297882</td>\n",
       "      <td>0</td>\n",
       "      <td>0</td>\n",
       "      <td>0</td>\n",
       "      <td>0</td>\n",
       "      <td>0</td>\n",
       "      <td>...</td>\n",
       "      <td>0</td>\n",
       "      <td>1</td>\n",
       "      <td>0</td>\n",
       "      <td>0</td>\n",
       "      <td>1</td>\n",
       "      <td>0</td>\n",
       "      <td>0</td>\n",
       "      <td>0</td>\n",
       "      <td>0</td>\n",
       "      <td>1</td>\n",
       "    </tr>\n",
       "    <tr>\n",
       "      <th>431</th>\n",
       "      <td>1407.0</td>\n",
       "      <td>0</td>\n",
       "      <td>0</td>\n",
       "      <td>14</td>\n",
       "      <td>1.286172</td>\n",
       "      <td>0</td>\n",
       "      <td>0</td>\n",
       "      <td>0</td>\n",
       "      <td>0</td>\n",
       "      <td>0</td>\n",
       "      <td>...</td>\n",
       "      <td>1</td>\n",
       "      <td>0</td>\n",
       "      <td>0</td>\n",
       "      <td>0</td>\n",
       "      <td>0</td>\n",
       "      <td>0</td>\n",
       "      <td>0</td>\n",
       "      <td>0</td>\n",
       "      <td>0</td>\n",
       "      <td>1</td>\n",
       "    </tr>\n",
       "    <tr>\n",
       "      <th>432</th>\n",
       "      <td>1609.0</td>\n",
       "      <td>0</td>\n",
       "      <td>0</td>\n",
       "      <td>14</td>\n",
       "      <td>1.297451</td>\n",
       "      <td>0</td>\n",
       "      <td>0</td>\n",
       "      <td>0</td>\n",
       "      <td>0</td>\n",
       "      <td>0</td>\n",
       "      <td>...</td>\n",
       "      <td>1</td>\n",
       "      <td>0</td>\n",
       "      <td>0</td>\n",
       "      <td>0</td>\n",
       "      <td>0</td>\n",
       "      <td>0</td>\n",
       "      <td>0</td>\n",
       "      <td>0</td>\n",
       "      <td>0</td>\n",
       "      <td>1</td>\n",
       "    </tr>\n",
       "  </tbody>\n",
       "</table>\n",
       "<p>5 rows × 99 columns</p>\n",
       "</div>"
      ],
      "text/plain": [
       "     metric  ncond  class  runners    margin  course__Ballinrobe  \\\n",
       "345  5028.0      5      0       14  1.468367                   0   \n",
       "429  2111.5      0      0       14  1.243227                   0   \n",
       "430  2111.5      0      0       14  1.297882                   0   \n",
       "431  1407.0      0      0       14  1.286172                   0   \n",
       "432  1609.0      0      0       14  1.297451                   0   \n",
       "\n",
       "     course__Bellewstown  course__Clonmel  course__Cork  course__Curragh  ...  \\\n",
       "345                    0                0             0                0  ...   \n",
       "429                    0                0             0                0  ...   \n",
       "430                    0                0             0                0  ...   \n",
       "431                    0                0             0                0  ...   \n",
       "432                    0                0             0                0  ...   \n",
       "\n",
       "     pressure_level_1  pressure_level_2  pressure_level_3  pressure_level_4  \\\n",
       "345                 0                 0                 1                 0   \n",
       "429                 0                 1                 0                 0   \n",
       "430                 0                 1                 0                 0   \n",
       "431                 1                 0                 0                 0   \n",
       "432                 1                 0                 0                 0   \n",
       "\n",
       "     is_raining  rhum_level_0  rhum_level_1  rhum_level_2  rhum_level_3  \\\n",
       "345           1             0             0             0             1   \n",
       "429           1             0             0             0             0   \n",
       "430           1             0             0             0             0   \n",
       "431           0             0             0             0             0   \n",
       "432           0             0             0             0             0   \n",
       "\n",
       "     rhum_level_4  \n",
       "345             0  \n",
       "429             1  \n",
       "430             1  \n",
       "431             1  \n",
       "432             1  \n",
       "\n",
       "[5 rows x 99 columns]"
      ]
     },
     "execution_count": 134,
     "metadata": {},
     "output_type": "execute_result"
    }
   ],
   "source": [
    "races_featurized_trunc = races_featurized.drop(columns=[\n",
    "    'rid',\n",
    "    'course',\n",
    "    'title',\n",
    "    'winningTime',\n",
    "    'placeAvailable',\n",
    "    'showAvailable',\n",
    "    '1st_place_rank_in_odds',\n",
    "    '2nd_place_rank_in_odds',\n",
    "    '3rd_place_rank_in_odds',\n",
    "    '1st_rank_in_odds_place',\n",
    "    '2nd_rank_in_odds_place',\n",
    "    '3rd_rank_in_odds_place',\n",
    "    'favoriteWon',\n",
    "    'favoritePlaced',\n",
    "    'favoriteShowed',\n",
    "    'lat',\n",
    "    'lng',\n",
    "    'datetime',\n",
    "    'station no',\n",
    "    'station name',\n",
    "    'station lat',\n",
    "    'station lng',\n",
    "    'dist to station',\n",
    "    'station reading date',\n",
    "    'temp',\n",
    "    'msl',\n",
    "    'rain',\n",
    "    'rhum',\n",
    "    'station reading timedelta',\n",
    "])\n",
    "races_featurized_trunc.head()"
   ]
  },
  {
   "cell_type": "code",
   "execution_count": 135,
   "id": "49bfb057",
   "metadata": {},
   "outputs": [
    {
     "data": {
      "text/plain": [
       "['metric',\n",
       " 'ncond',\n",
       " 'class',\n",
       " 'runners',\n",
       " 'margin',\n",
       " 'course__Ballinrobe',\n",
       " 'course__Bellewstown',\n",
       " 'course__Clonmel',\n",
       " 'course__Cork',\n",
       " 'course__Curragh',\n",
       " 'course__Down Royal',\n",
       " 'course__Downpatrick',\n",
       " 'course__Dundalk',\n",
       " 'course__Fairyhouse',\n",
       " 'course__Galway',\n",
       " 'course__Gowran Park',\n",
       " 'course__Killarney',\n",
       " 'course__Leopardstown',\n",
       " 'course__Limerick',\n",
       " 'course__Listowel',\n",
       " 'course__Naas',\n",
       " 'course__Navan',\n",
       " 'course__Other',\n",
       " 'course__Punchestown',\n",
       " 'course__Roscommon',\n",
       " 'course__Sligo',\n",
       " 'course__Tipperary',\n",
       " 'course__Tralee',\n",
       " 'course__Tramore',\n",
       " 'course__Wexford',\n",
       " 'metric__1005.0',\n",
       " 'metric__1206.0',\n",
       " 'metric__1306.5',\n",
       " 'metric__1407.0',\n",
       " 'metric__1507.5',\n",
       " 'metric__1609.0',\n",
       " 'metric__1709.5',\n",
       " 'metric__1810.0',\n",
       " 'metric__1910.5',\n",
       " 'metric__2011.0',\n",
       " 'metric__2111.5',\n",
       " 'metric__2212.0',\n",
       " 'metric__2413.0',\n",
       " 'metric__2614.0',\n",
       " 'metric__2815.0',\n",
       " 'metric__3218.0',\n",
       " 'metric__3419.0',\n",
       " 'metric__3620.0',\n",
       " 'metric__4022.0',\n",
       " 'metric__Other',\n",
       " 'ncond__0',\n",
       " 'ncond__1',\n",
       " 'ncond__2',\n",
       " 'ncond__4',\n",
       " 'ncond__5',\n",
       " 'ncond__6',\n",
       " 'ncond__9',\n",
       " 'ncond__11',\n",
       " 'ncond__12',\n",
       " 'ncond__Other',\n",
       " 'runners__6',\n",
       " 'runners__7',\n",
       " 'runners__8',\n",
       " 'runners__9',\n",
       " 'runners__10',\n",
       " 'runners__11',\n",
       " 'runners__12',\n",
       " 'runners__13',\n",
       " 'runners__14',\n",
       " 'runners__Other',\n",
       " 'month',\n",
       " 'month__3',\n",
       " 'month__4',\n",
       " 'month__5',\n",
       " 'month__6',\n",
       " 'month__7',\n",
       " 'month__8',\n",
       " 'month__9',\n",
       " 'month__10',\n",
       " 'month__11',\n",
       " 'month__12',\n",
       " 'month__Other',\n",
       " 'year',\n",
       " 'temp_level_0',\n",
       " 'temp_level_1',\n",
       " 'temp_level_2',\n",
       " 'temp_level_3',\n",
       " 'temp_level_4',\n",
       " 'pressure_level_0',\n",
       " 'pressure_level_1',\n",
       " 'pressure_level_2',\n",
       " 'pressure_level_3',\n",
       " 'pressure_level_4',\n",
       " 'is_raining',\n",
       " 'rhum_level_0',\n",
       " 'rhum_level_1',\n",
       " 'rhum_level_2',\n",
       " 'rhum_level_3',\n",
       " 'rhum_level_4']"
      ]
     },
     "execution_count": 135,
     "metadata": {},
     "output_type": "execute_result"
    }
   ],
   "source": [
    "list(races_featurized_trunc.columns)"
   ]
  },
  {
   "cell_type": "code",
   "execution_count": 168,
   "id": "3ead6222",
   "metadata": {},
   "outputs": [],
   "source": [
    "target = races_featurized['1st_place_rank_in_odds'] > 3"
   ]
  },
  {
   "cell_type": "code",
   "execution_count": 169,
   "id": "e63a487d",
   "metadata": {},
   "outputs": [
    {
     "data": {
      "text/plain": [
       "array([[ 3.91828059,  0.66353655,  0.        , ..., -0.55991173,\n",
       "         1.34674626, -0.72240821],\n",
       "       [ 0.18118969, -0.74431207,  0.        , ..., -0.55991173,\n",
       "        -0.74253037,  1.38425891],\n",
       "       [ 0.18118969, -0.74431207,  0.        , ..., -0.55991173,\n",
       "        -0.74253037,  1.38425891],\n",
       "       ...,\n",
       "       [ 1.59901622,  0.66353655,  0.        , ..., -0.55991173,\n",
       "         1.34674626, -0.72240821],\n",
       "       [ 1.59901622,  1.78981545,  0.        , ..., -0.55991173,\n",
       "         1.34674626, -0.72240821],\n",
       "       [ 1.59901622,  1.78981545,  0.        , ..., -0.55991173,\n",
       "        -0.74253037,  1.38425891]])"
      ]
     },
     "execution_count": 169,
     "metadata": {},
     "output_type": "execute_result"
    }
   ],
   "source": [
    "races_featurized_scaled = StandardScaler().fit_transform(races_featurized_trunc)\n",
    "races_featurized_scaled"
   ]
  },
  {
   "cell_type": "code",
   "execution_count": 170,
   "id": "9f09d2a1",
   "metadata": {},
   "outputs": [],
   "source": [
    "X_train, X_test, y_train, y_test = train_test_split(races_featurized_scaled, target, test_size=0.3, random_state=42)"
   ]
  },
  {
   "cell_type": "code",
   "execution_count": 171,
   "id": "f8a0127c",
   "metadata": {},
   "outputs": [],
   "source": [
    "lr = LogisticRegression(random_state=0, max_iter=1000)\n",
    "probs = lr.fit(X_train, y_train).predict_proba(X_test)"
   ]
  },
  {
   "cell_type": "code",
   "execution_count": 165,
   "id": "a3fb8b79",
   "metadata": {},
   "outputs": [
    {
     "data": {
      "text/plain": [
       "array([[270, 221],\n",
       "       [290, 253]])"
      ]
     },
     "execution_count": 165,
     "metadata": {},
     "output_type": "execute_result"
    }
   ],
   "source": [
    "metrics.confusion_matrix(y_test, lr.fit(X_train, y_train).predict(X_test))"
   ]
  },
  {
   "cell_type": "code",
   "execution_count": 166,
   "id": "65c47200",
   "metadata": {},
   "outputs": [
    {
     "data": {
      "text/plain": [
       "0.5804979253112034"
      ]
     },
     "execution_count": 166,
     "metadata": {},
     "output_type": "execute_result"
    }
   ],
   "source": [
    "lr.score(X_train, y_train)"
   ]
  },
  {
   "cell_type": "code",
   "execution_count": 167,
   "id": "dd8e5019",
   "metadata": {},
   "outputs": [
    {
     "data": {
      "text/plain": [
       "0.5058027079303675"
      ]
     },
     "execution_count": 167,
     "metadata": {},
     "output_type": "execute_result"
    }
   ],
   "source": [
    "lr.score(X_test, y_test)"
   ]
  },
  {
   "cell_type": "code",
   "execution_count": 148,
   "id": "fdf52887",
   "metadata": {},
   "outputs": [],
   "source": [
    "probs_pos = [prob[1] for prob in probs]"
   ]
  },
  {
   "cell_type": "code",
   "execution_count": 149,
   "id": "1b9be0f2",
   "metadata": {},
   "outputs": [],
   "source": [
    "fprs, tprs, thresholds = metrics.roc_curve(y_test, probs_pos, pos_label=1)\n",
    "roc_auc = metrics.auc(fprs, tprs)"
   ]
  },
  {
   "cell_type": "code",
   "execution_count": 150,
   "id": "8c235df8",
   "metadata": {},
   "outputs": [
    {
     "data": {
      "image/png": "[encoded data removed]",
      "text/plain": [
       "<Figure size 432x288 with 1 Axes>"
      ]
     },
     "metadata": {},
     "output_type": "display_data"
    }
   ],
   "source": [
    "plt.figure()\n",
    "lw = 2\n",
    "plt.plot(\n",
    "    fprs,\n",
    "    tprs,\n",
    "    color=\"darkorange\",\n",
    "    lw=lw,\n",
    "    label=\"GaussianNB (area = %0.2f)\" % roc_auc,\n",
    ")\n",
    "plt.plot([-0.1, 1], [-0.1, 1], color=\"navy\", lw=lw, linestyle=\"--\")\n",
    "plt.xlim([-0.1, 1.0])\n",
    "plt.ylim([-0.1, 1.05])\n",
    "plt.xlabel(\"False Positive Rate\")\n",
    "plt.ylabel(\"True Positive Rate\")\n",
    "plt.title(\"Receiver operating characteristic example\")\n",
    "plt.legend(loc=\"lower right\")\n",
    "plt.show()"
   ]
  },
  {
   "cell_type": "code",
   "execution_count": 151,
   "id": "1a3fbed5",
   "metadata": {},
   "outputs": [
    {
     "data": {
      "text/plain": [
       "array([[ 0.08550387, -0.64562731,  0.        ,  0.        , -0.06239853,\n",
       "         0.0016469 , -0.00995388,  0.06184845,  0.0865089 ,  0.10170482,\n",
       "         0.09642683, -0.04324273, -0.31712892,  0.08367488,  0.00271353,\n",
       "         0.03372437,  0.13053603,  0.04605107,  0.13297299, -0.00452529,\n",
       "         0.02729744,  0.00795972,  0.00687694, -0.03309959,  0.04541868,\n",
       "         0.05640597, -0.02034209,  0.00952511,  0.08320159,  0.06075498,\n",
       "         0.03401579,  0.10541   ,  0.03859324, -0.07969116,  0.01201088,\n",
       "        -0.06015592,  0.0340432 ,  0.12060463,  0.04305954,  0.01803968,\n",
       "         0.00512616, -0.02511084, -0.00736365,  0.03633803, -0.09391215,\n",
       "         0.0053697 , -0.0541114 ,  0.02769373, -0.02455439, -0.02390669,\n",
       "         0.11578916, -0.25529007, -0.14325873, -0.06776476, -0.08944467,\n",
       "         0.02351696,  0.12360343,  0.16101602,  0.16444782,  0.14885365,\n",
       "         0.        ,  0.        ,  0.        ,  0.        ,  0.        ,\n",
       "         0.        ,  0.        ,  0.        ,  0.        ,  0.        ,\n",
       "        -0.05705949,  0.08396113, -0.01298031, -0.00660729,  0.00344247,\n",
       "         0.06991715,  0.04072683,  0.07678511, -0.02786976, -0.02446084,\n",
       "        -0.11119269, -0.09711663, -0.03301379,  0.06233789,  0.01980629,\n",
       "        -0.00251956, -0.06864248, -0.05446637,  0.19204099, -0.07095513,\n",
       "         0.01174409,  0.00604172, -0.00072295,  0.01274662,  0.05677888,\n",
       "        -0.16256631, -0.02355438,  0.01784504,  0.07564715]])"
      ]
     },
     "execution_count": 151,
     "metadata": {},
     "output_type": "execute_result"
    }
   ],
   "source": [
    "lr.coef_"
   ]
  },
  {
   "cell_type": "code",
   "execution_count": 152,
   "id": "4217495d",
   "metadata": {},
   "outputs": [
    {
     "data": {
      "text/html": [
       "<div>\n",
       "<style scoped>\n",
       "    .dataframe tbody tr th:only-of-type {\n",
       "        vertical-align: middle;\n",
       "    }\n",
       "\n",
       "    .dataframe tbody tr th {\n",
       "        vertical-align: top;\n",
       "    }\n",
       "\n",
       "    .dataframe thead th {\n",
       "        text-align: right;\n",
       "    }\n",
       "</style>\n",
       "<table border=\"1\" class=\"dataframe\">\n",
       "  <thead>\n",
       "    <tr style=\"text-align: right;\">\n",
       "      <th></th>\n",
       "      <th>metric</th>\n",
       "      <th>ncond</th>\n",
       "      <th>class</th>\n",
       "      <th>runners</th>\n",
       "      <th>margin</th>\n",
       "      <th>course__Ballinrobe</th>\n",
       "      <th>course__Bellewstown</th>\n",
       "      <th>course__Clonmel</th>\n",
       "      <th>course__Cork</th>\n",
       "      <th>course__Curragh</th>\n",
       "      <th>...</th>\n",
       "      <th>month__5</th>\n",
       "      <th>month__6</th>\n",
       "      <th>month__7</th>\n",
       "      <th>month__8</th>\n",
       "      <th>month__9</th>\n",
       "      <th>month__10</th>\n",
       "      <th>month__11</th>\n",
       "      <th>month__12</th>\n",
       "      <th>month__Other</th>\n",
       "      <th>year</th>\n",
       "    </tr>\n",
       "  </thead>\n",
       "  <tbody>\n",
       "    <tr>\n",
       "      <th>345</th>\n",
       "      <td>5028.0</td>\n",
       "      <td>5</td>\n",
       "      <td>0</td>\n",
       "      <td>14</td>\n",
       "      <td>1.468367</td>\n",
       "      <td>0</td>\n",
       "      <td>0</td>\n",
       "      <td>0</td>\n",
       "      <td>0</td>\n",
       "      <td>0</td>\n",
       "      <td>...</td>\n",
       "      <td>0</td>\n",
       "      <td>0</td>\n",
       "      <td>0</td>\n",
       "      <td>0</td>\n",
       "      <td>0</td>\n",
       "      <td>0</td>\n",
       "      <td>0</td>\n",
       "      <td>0</td>\n",
       "      <td>0</td>\n",
       "      <td>1992</td>\n",
       "    </tr>\n",
       "    <tr>\n",
       "      <th>429</th>\n",
       "      <td>2111.5</td>\n",
       "      <td>0</td>\n",
       "      <td>0</td>\n",
       "      <td>14</td>\n",
       "      <td>1.243227</td>\n",
       "      <td>0</td>\n",
       "      <td>0</td>\n",
       "      <td>0</td>\n",
       "      <td>0</td>\n",
       "      <td>0</td>\n",
       "      <td>...</td>\n",
       "      <td>0</td>\n",
       "      <td>0</td>\n",
       "      <td>0</td>\n",
       "      <td>0</td>\n",
       "      <td>0</td>\n",
       "      <td>0</td>\n",
       "      <td>0</td>\n",
       "      <td>0</td>\n",
       "      <td>1</td>\n",
       "      <td>2018</td>\n",
       "    </tr>\n",
       "    <tr>\n",
       "      <th>430</th>\n",
       "      <td>2111.5</td>\n",
       "      <td>0</td>\n",
       "      <td>0</td>\n",
       "      <td>14</td>\n",
       "      <td>1.297882</td>\n",
       "      <td>0</td>\n",
       "      <td>0</td>\n",
       "      <td>0</td>\n",
       "      <td>0</td>\n",
       "      <td>0</td>\n",
       "      <td>...</td>\n",
       "      <td>0</td>\n",
       "      <td>0</td>\n",
       "      <td>0</td>\n",
       "      <td>0</td>\n",
       "      <td>0</td>\n",
       "      <td>0</td>\n",
       "      <td>0</td>\n",
       "      <td>0</td>\n",
       "      <td>1</td>\n",
       "      <td>2018</td>\n",
       "    </tr>\n",
       "    <tr>\n",
       "      <th>431</th>\n",
       "      <td>1407.0</td>\n",
       "      <td>0</td>\n",
       "      <td>0</td>\n",
       "      <td>14</td>\n",
       "      <td>1.286172</td>\n",
       "      <td>0</td>\n",
       "      <td>0</td>\n",
       "      <td>0</td>\n",
       "      <td>0</td>\n",
       "      <td>0</td>\n",
       "      <td>...</td>\n",
       "      <td>0</td>\n",
       "      <td>0</td>\n",
       "      <td>0</td>\n",
       "      <td>0</td>\n",
       "      <td>0</td>\n",
       "      <td>0</td>\n",
       "      <td>0</td>\n",
       "      <td>0</td>\n",
       "      <td>1</td>\n",
       "      <td>2018</td>\n",
       "    </tr>\n",
       "    <tr>\n",
       "      <th>432</th>\n",
       "      <td>1609.0</td>\n",
       "      <td>0</td>\n",
       "      <td>0</td>\n",
       "      <td>14</td>\n",
       "      <td>1.297451</td>\n",
       "      <td>0</td>\n",
       "      <td>0</td>\n",
       "      <td>0</td>\n",
       "      <td>0</td>\n",
       "      <td>0</td>\n",
       "      <td>...</td>\n",
       "      <td>0</td>\n",
       "      <td>0</td>\n",
       "      <td>0</td>\n",
       "      <td>0</td>\n",
       "      <td>0</td>\n",
       "      <td>0</td>\n",
       "      <td>0</td>\n",
       "      <td>0</td>\n",
       "      <td>1</td>\n",
       "      <td>2018</td>\n",
       "    </tr>\n",
       "  </tbody>\n",
       "</table>\n",
       "<p>5 rows × 83 columns</p>\n",
       "</div>"
      ],
      "text/plain": [
       "     metric  ncond  class  runners    margin  course__Ballinrobe  \\\n",
       "345  5028.0      5      0       14  1.468367                   0   \n",
       "429  2111.5      0      0       14  1.243227                   0   \n",
       "430  2111.5      0      0       14  1.297882                   0   \n",
       "431  1407.0      0      0       14  1.286172                   0   \n",
       "432  1609.0      0      0       14  1.297451                   0   \n",
       "\n",
       "     course__Bellewstown  course__Clonmel  course__Cork  course__Curragh  ...  \\\n",
       "345                    0                0             0                0  ...   \n",
       "429                    0                0             0                0  ...   \n",
       "430                    0                0             0                0  ...   \n",
       "431                    0                0             0                0  ...   \n",
       "432                    0                0             0                0  ...   \n",
       "\n",
       "     month__5  month__6  month__7  month__8  month__9  month__10  month__11  \\\n",
       "345         0         0         0         0         0          0          0   \n",
       "429         0         0         0         0         0          0          0   \n",
       "430         0         0         0         0         0          0          0   \n",
       "431         0         0         0         0         0          0          0   \n",
       "432         0         0         0         0         0          0          0   \n",
       "\n",
       "     month__12  month__Other  year  \n",
       "345          0             0  1992  \n",
       "429          0             1  2018  \n",
       "430          0             1  2018  \n",
       "431          0             1  2018  \n",
       "432          0             1  2018  \n",
       "\n",
       "[5 rows x 83 columns]"
      ]
     },
     "execution_count": 152,
     "metadata": {},
     "output_type": "execute_result"
    }
   ],
   "source": [
    "races_featurized_trunc_no_weather = races_featurized_trunc.drop(columns=[\n",
    "    'temp_level_0',\n",
    "    'temp_level_1',\n",
    "    'temp_level_2',\n",
    "    'temp_level_3',\n",
    "    'temp_level_4',\n",
    "    'pressure_level_0',\n",
    "    'pressure_level_1',\n",
    "    'pressure_level_2',\n",
    "    'pressure_level_3',\n",
    "    'pressure_level_4',\n",
    "    'is_raining',\n",
    "    'rhum_level_0',\n",
    "    'rhum_level_1',\n",
    "    'rhum_level_2',\n",
    "    'rhum_level_3',\n",
    "    'rhum_level_4',\n",
    "])\n",
    "races_featurized_trunc_no_weather.head()"
   ]
  },
  {
   "cell_type": "code",
   "execution_count": 153,
   "id": "7ad7004c",
   "metadata": {},
   "outputs": [
    {
     "data": {
      "text/plain": [
       "['metric',\n",
       " 'ncond',\n",
       " 'class',\n",
       " 'runners',\n",
       " 'margin',\n",
       " 'course__Ballinrobe',\n",
       " 'course__Bellewstown',\n",
       " 'course__Clonmel',\n",
       " 'course__Cork',\n",
       " 'course__Curragh',\n",
       " 'course__Down Royal',\n",
       " 'course__Downpatrick',\n",
       " 'course__Dundalk',\n",
       " 'course__Fairyhouse',\n",
       " 'course__Galway',\n",
       " 'course__Gowran Park',\n",
       " 'course__Killarney',\n",
       " 'course__Leopardstown',\n",
       " 'course__Limerick',\n",
       " 'course__Listowel',\n",
       " 'course__Naas',\n",
       " 'course__Navan',\n",
       " 'course__Other',\n",
       " 'course__Punchestown',\n",
       " 'course__Roscommon',\n",
       " 'course__Sligo',\n",
       " 'course__Tipperary',\n",
       " 'course__Tralee',\n",
       " 'course__Tramore',\n",
       " 'course__Wexford',\n",
       " 'metric__1005.0',\n",
       " 'metric__1206.0',\n",
       " 'metric__1306.5',\n",
       " 'metric__1407.0',\n",
       " 'metric__1507.5',\n",
       " 'metric__1609.0',\n",
       " 'metric__1709.5',\n",
       " 'metric__1810.0',\n",
       " 'metric__1910.5',\n",
       " 'metric__2011.0',\n",
       " 'metric__2111.5',\n",
       " 'metric__2212.0',\n",
       " 'metric__2413.0',\n",
       " 'metric__2614.0',\n",
       " 'metric__2815.0',\n",
       " 'metric__3218.0',\n",
       " 'metric__3419.0',\n",
       " 'metric__3620.0',\n",
       " 'metric__4022.0',\n",
       " 'metric__Other',\n",
       " 'ncond__0',\n",
       " 'ncond__1',\n",
       " 'ncond__2',\n",
       " 'ncond__4',\n",
       " 'ncond__5',\n",
       " 'ncond__6',\n",
       " 'ncond__9',\n",
       " 'ncond__11',\n",
       " 'ncond__12',\n",
       " 'ncond__Other',\n",
       " 'runners__6',\n",
       " 'runners__7',\n",
       " 'runners__8',\n",
       " 'runners__9',\n",
       " 'runners__10',\n",
       " 'runners__11',\n",
       " 'runners__12',\n",
       " 'runners__13',\n",
       " 'runners__14',\n",
       " 'runners__Other',\n",
       " 'month',\n",
       " 'month__3',\n",
       " 'month__4',\n",
       " 'month__5',\n",
       " 'month__6',\n",
       " 'month__7',\n",
       " 'month__8',\n",
       " 'month__9',\n",
       " 'month__10',\n",
       " 'month__11',\n",
       " 'month__12',\n",
       " 'month__Other',\n",
       " 'year']"
      ]
     },
     "execution_count": 153,
     "metadata": {},
     "output_type": "execute_result"
    }
   ],
   "source": [
    "list(races_featurized_trunc_no_weather.columns)"
   ]
  },
  {
   "cell_type": "code",
   "execution_count": 154,
   "id": "d6167943",
   "metadata": {},
   "outputs": [
    {
     "data": {
      "text/plain": [
       "array([[ 3.91828059,  0.66353655,  0.        , ..., -0.2687548 ,\n",
       "        -0.27369028, -3.15359694],\n",
       "       [ 0.18118969, -0.74431207,  0.        , ..., -0.2687548 ,\n",
       "         3.65376518,  1.05445725],\n",
       "       [ 0.18118969, -0.74431207,  0.        , ..., -0.2687548 ,\n",
       "         3.65376518,  1.05445725],\n",
       "       ...,\n",
       "       [ 1.59901622,  0.66353655,  0.        , ..., -0.2687548 ,\n",
       "        -0.27369028, -2.02065927],\n",
       "       [ 1.59901622,  1.78981545,  0.        , ...,  3.72086382,\n",
       "        -0.27369028, -2.02065927],\n",
       "       [ 1.59901622,  1.78981545,  0.        , ...,  3.72086382,\n",
       "        -0.27369028, -2.02065927]])"
      ]
     },
     "execution_count": 154,
     "metadata": {},
     "output_type": "execute_result"
    }
   ],
   "source": [
    "races_featurized_scaled_no_weather = StandardScaler().fit_transform(races_featurized_trunc_no_weather)\n",
    "races_featurized_scaled_no_weather"
   ]
  },
  {
   "cell_type": "code",
   "execution_count": 155,
   "id": "37f3a956",
   "metadata": {},
   "outputs": [],
   "source": [
    "X_train, X_test, y_train, y_test = train_test_split(races_featurized_scaled_no_weather, target, test_size=0.3, random_state=42)"
   ]
  },
  {
   "cell_type": "code",
   "execution_count": 156,
   "id": "408c7c4c",
   "metadata": {},
   "outputs": [],
   "source": [
    "lr = LogisticRegression(random_state=0, max_iter=1000)\n",
    "probs = lr.fit(X_train, y_train).predict_proba(X_test)"
   ]
  },
  {
   "cell_type": "code",
   "execution_count": 157,
   "id": "8ab83638",
   "metadata": {},
   "outputs": [
    {
     "data": {
      "text/plain": [
       "array([[549,  80],\n",
       "       [352,  53]])"
      ]
     },
     "execution_count": 157,
     "metadata": {},
     "output_type": "execute_result"
    }
   ],
   "source": [
    "metrics.confusion_matrix(y_test, lr.fit(X_train, y_train).predict(X_test))"
   ]
  },
  {
   "cell_type": "code",
   "execution_count": 158,
   "id": "19d84e07",
   "metadata": {},
   "outputs": [
    {
     "data": {
      "text/plain": [
       "0.604149377593361"
      ]
     },
     "execution_count": 158,
     "metadata": {},
     "output_type": "execute_result"
    }
   ],
   "source": [
    "lr.score(X_train, y_train)"
   ]
  },
  {
   "cell_type": "code",
   "execution_count": 159,
   "id": "becf85fa",
   "metadata": {},
   "outputs": [
    {
     "data": {
      "text/plain": [
       "0.5822050290135397"
      ]
     },
     "execution_count": 159,
     "metadata": {},
     "output_type": "execute_result"
    }
   ],
   "source": [
    "lr.score(X_test, y_test)"
   ]
  },
  {
   "cell_type": "code",
   "execution_count": 160,
   "id": "e18f7b27",
   "metadata": {},
   "outputs": [
    {
     "data": {
      "text/plain": [
       "array([[ 0.09936196, -0.58533044,  0.        ,  0.        , -0.06749099,\n",
       "         0.00621928, -0.00851996,  0.04820714,  0.07395275,  0.08046536,\n",
       "         0.08690557, -0.0412558 , -0.27423604,  0.07023147,  0.00828934,\n",
       "         0.02541862,  0.12624657,  0.04514623,  0.12183244, -0.02129245,\n",
       "         0.02225036,  0.00659461,  0.01103023, -0.03635299,  0.04777982,\n",
       "         0.05488695, -0.01586282,  0.00554049,  0.05846199,  0.04801553,\n",
       "         0.03117271,  0.10225678,  0.04296533, -0.07973783,  0.00983264,\n",
       "        -0.05815224,  0.02663198,  0.11332084,  0.02975012,  0.0178211 ,\n",
       "         0.01092487, -0.0232685 ,  0.00427475,  0.03210763, -0.09422843,\n",
       "         0.00059312, -0.05085019,  0.02560724, -0.02043702, -0.02556303,\n",
       "         0.13607459, -0.24553339, -0.15128804, -0.06023951, -0.07942859,\n",
       "         0.02027661,  0.11298348,  0.13412901,  0.14770902,  0.12149944,\n",
       "         0.        ,  0.        ,  0.        ,  0.        ,  0.        ,\n",
       "         0.        ,  0.        ,  0.        ,  0.        ,  0.        ,\n",
       "        -0.10519639,  0.06664419, -0.04643946, -0.03382235, -0.0156129 ,\n",
       "         0.04914812,  0.01927381,  0.07268954, -0.00316415,  0.02629681,\n",
       "        -0.05297089, -0.10132818, -0.04024758]])"
      ]
     },
     "execution_count": 160,
     "metadata": {},
     "output_type": "execute_result"
    }
   ],
   "source": [
    "lr.coef_"
   ]
  },
  {
   "cell_type": "code",
   "execution_count": null,
   "id": "e614f629",
   "metadata": {},
   "outputs": [],
   "source": []
  }
 ],
 "metadata": {
  "kernelspec": {
   "display_name": "Python 3 (ipykernel)",
   "language": "python",
   "name": "python3"
  },
  "language_info": {
   "codemirror_mode": {
    "name": "ipython",
    "version": 3
   },
   "file_extension": ".py",
   "mimetype": "text/x-python",
   "name": "python",
   "nbconvert_exporter": "python",
   "pygments_lexer": "ipython3",
   "version": "3.9.6"
  }
 },
 "nbformat": 4,
 "nbformat_minor": 5
}
