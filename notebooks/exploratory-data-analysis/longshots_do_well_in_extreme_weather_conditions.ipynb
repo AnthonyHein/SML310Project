{
 "cells": [
  {
   "cell_type": "markdown",
   "id": "7026e67b",
   "metadata": {},
   "source": [
    "# `longshots_do_well_in_extreme_weather_conditions.ipynb`"
   ]
  },
  {
   "cell_type": "markdown",
   "id": "c052cb33",
   "metadata": {},
   "source": [
    "### Author: Anthony Hein"
   ]
  },
  {
   "cell_type": "markdown",
   "id": "194e2cf5",
   "metadata": {},
   "source": [
    "#### Last updated: 11/8/2021"
   ]
  },
  {
   "cell_type": "markdown",
   "id": "1b86aa88",
   "metadata": {},
   "source": [
    "# Overview:\n",
    "\n",
    "This notebook shows that longshots do well in extreme weather conditions."
   ]
  },
  {
   "cell_type": "markdown",
   "id": "697e80d8",
   "metadata": {},
   "source": [
    "---"
   ]
  },
  {
   "cell_type": "markdown",
   "id": "08164829",
   "metadata": {},
   "source": [
    "## Setup"
   ]
  },
  {
   "cell_type": "code",
   "execution_count": 1,
   "id": "9e9ee6d1",
   "metadata": {},
   "outputs": [],
   "source": [
    "from datetime import datetime\n",
    "import git\n",
    "import os\n",
    "import re\n",
    "from typing import List\n",
    "from sklearn.preprocessing import StandardScaler\n",
    "from tqdm import tqdm\n",
    "import pandas as pd\n",
    "import numpy as np\n",
    "from scipy import stats\n",
    "import matplotlib.pyplot as plt\n",
    "import seaborn as sns\n",
    "%matplotlib inline"
   ]
  },
  {
   "cell_type": "code",
   "execution_count": 2,
   "id": "f013a715",
   "metadata": {},
   "outputs": [
    {
     "data": {
      "text/plain": [
       "'/Users/anthonyhein/Desktop/SML310/project'"
      ]
     },
     "execution_count": 2,
     "metadata": {},
     "output_type": "execute_result"
    }
   ],
   "source": [
    "BASE_DIR = git.Repo(os.getcwd(), search_parent_directories=True).working_dir\n",
    "BASE_DIR"
   ]
  },
  {
   "cell_type": "markdown",
   "id": "900adb93",
   "metadata": {},
   "source": [
    "---"
   ]
  },
  {
   "cell_type": "markdown",
   "id": "75c7066e",
   "metadata": {},
   "source": [
    "## Load `races_featurized.csv`"
   ]
  },
  {
   "cell_type": "code",
   "execution_count": 3,
   "id": "cee61ac1",
   "metadata": {},
   "outputs": [
    {
     "data": {
      "text/html": [
       "<div>\n",
       "<style scoped>\n",
       "    .dataframe tbody tr th:only-of-type {\n",
       "        vertical-align: middle;\n",
       "    }\n",
       "\n",
       "    .dataframe tbody tr th {\n",
       "        vertical-align: top;\n",
       "    }\n",
       "\n",
       "    .dataframe thead th {\n",
       "        text-align: right;\n",
       "    }\n",
       "</style>\n",
       "<table border=\"1\" class=\"dataframe\">\n",
       "  <thead>\n",
       "    <tr style=\"text-align: right;\">\n",
       "      <th></th>\n",
       "      <th>rid</th>\n",
       "      <th>course</th>\n",
       "      <th>title</th>\n",
       "      <th>winningTime</th>\n",
       "      <th>metric</th>\n",
       "      <th>ncond</th>\n",
       "      <th>class</th>\n",
       "      <th>runners</th>\n",
       "      <th>margin</th>\n",
       "      <th>1st_place_rank_in_odds</th>\n",
       "      <th>...</th>\n",
       "      <th>pressure_level_2</th>\n",
       "      <th>pressure_level_3</th>\n",
       "      <th>pressure_level_4</th>\n",
       "      <th>is_raining</th>\n",
       "      <th>rhum_level_0</th>\n",
       "      <th>rhum_level_1</th>\n",
       "      <th>rhum_level_2</th>\n",
       "      <th>rhum_level_3</th>\n",
       "      <th>rhum_level_4</th>\n",
       "      <th>entropy of odds</th>\n",
       "    </tr>\n",
       "  </thead>\n",
       "  <tbody>\n",
       "    <tr>\n",
       "      <th>0</th>\n",
       "      <td>302858</td>\n",
       "      <td>Thurles</td>\n",
       "      <td>Liffey Maiden Hurdle (Div 1)</td>\n",
       "      <td>277.2</td>\n",
       "      <td>3821.0</td>\n",
       "      <td>1</td>\n",
       "      <td>0</td>\n",
       "      <td>6</td>\n",
       "      <td>1.219263</td>\n",
       "      <td>1</td>\n",
       "      <td>...</td>\n",
       "      <td>0</td>\n",
       "      <td>1</td>\n",
       "      <td>0</td>\n",
       "      <td>0</td>\n",
       "      <td>0</td>\n",
       "      <td>0</td>\n",
       "      <td>0</td>\n",
       "      <td>0</td>\n",
       "      <td>1</td>\n",
       "      <td>1.350363</td>\n",
       "    </tr>\n",
       "    <tr>\n",
       "      <th>1</th>\n",
       "      <td>291347</td>\n",
       "      <td>Punchestown</td>\n",
       "      <td>Ericsson G.S.M. Grand National Trial Handicap ...</td>\n",
       "      <td>447.2</td>\n",
       "      <td>5229.0</td>\n",
       "      <td>5</td>\n",
       "      <td>0</td>\n",
       "      <td>9</td>\n",
       "      <td>1.218049</td>\n",
       "      <td>4</td>\n",
       "      <td>...</td>\n",
       "      <td>1</td>\n",
       "      <td>0</td>\n",
       "      <td>0</td>\n",
       "      <td>1</td>\n",
       "      <td>0</td>\n",
       "      <td>0</td>\n",
       "      <td>0</td>\n",
       "      <td>0</td>\n",
       "      <td>1</td>\n",
       "      <td>1.995151</td>\n",
       "    </tr>\n",
       "    <tr>\n",
       "      <th>2</th>\n",
       "      <td>75447</td>\n",
       "      <td>Listowel</td>\n",
       "      <td>Ballybunion E.B.F. Beginners S'chase</td>\n",
       "      <td>318.4</td>\n",
       "      <td>3620.0</td>\n",
       "      <td>5</td>\n",
       "      <td>0</td>\n",
       "      <td>8</td>\n",
       "      <td>1.277320</td>\n",
       "      <td>3</td>\n",
       "      <td>...</td>\n",
       "      <td>1</td>\n",
       "      <td>0</td>\n",
       "      <td>0</td>\n",
       "      <td>0</td>\n",
       "      <td>0</td>\n",
       "      <td>0</td>\n",
       "      <td>0</td>\n",
       "      <td>1</td>\n",
       "      <td>0</td>\n",
       "      <td>1.786421</td>\n",
       "    </tr>\n",
       "    <tr>\n",
       "      <th>3</th>\n",
       "      <td>358038</td>\n",
       "      <td>Punchestown</td>\n",
       "      <td>Quinns Of Baltinglass Chase (La Touche) (Cross...</td>\n",
       "      <td>533.9</td>\n",
       "      <td>6637.0</td>\n",
       "      <td>1</td>\n",
       "      <td>0</td>\n",
       "      <td>10</td>\n",
       "      <td>1.286595</td>\n",
       "      <td>1</td>\n",
       "      <td>...</td>\n",
       "      <td>0</td>\n",
       "      <td>1</td>\n",
       "      <td>0</td>\n",
       "      <td>0</td>\n",
       "      <td>0</td>\n",
       "      <td>0</td>\n",
       "      <td>0</td>\n",
       "      <td>1</td>\n",
       "      <td>0</td>\n",
       "      <td>1.611062</td>\n",
       "    </tr>\n",
       "    <tr>\n",
       "      <th>4</th>\n",
       "      <td>89211</td>\n",
       "      <td>Tipperary</td>\n",
       "      <td>Topaz Sprint Stakes (Listed)</td>\n",
       "      <td>59.9</td>\n",
       "      <td>1005.0</td>\n",
       "      <td>4</td>\n",
       "      <td>0</td>\n",
       "      <td>5</td>\n",
       "      <td>1.217043</td>\n",
       "      <td>4</td>\n",
       "      <td>...</td>\n",
       "      <td>1</td>\n",
       "      <td>0</td>\n",
       "      <td>0</td>\n",
       "      <td>0</td>\n",
       "      <td>0</td>\n",
       "      <td>0</td>\n",
       "      <td>1</td>\n",
       "      <td>0</td>\n",
       "      <td>0</td>\n",
       "      <td>1.254374</td>\n",
       "    </tr>\n",
       "  </tbody>\n",
       "</table>\n",
       "<p>5 rows × 129 columns</p>\n",
       "</div>"
      ],
      "text/plain": [
       "      rid       course                                              title  \\\n",
       "0  302858      Thurles                       Liffey Maiden Hurdle (Div 1)   \n",
       "1  291347  Punchestown  Ericsson G.S.M. Grand National Trial Handicap ...   \n",
       "2   75447     Listowel               Ballybunion E.B.F. Beginners S'chase   \n",
       "3  358038  Punchestown  Quinns Of Baltinglass Chase (La Touche) (Cross...   \n",
       "4   89211    Tipperary                       Topaz Sprint Stakes (Listed)   \n",
       "\n",
       "   winningTime  metric  ncond  class  runners    margin  \\\n",
       "0        277.2  3821.0      1      0        6  1.219263   \n",
       "1        447.2  5229.0      5      0        9  1.218049   \n",
       "2        318.4  3620.0      5      0        8  1.277320   \n",
       "3        533.9  6637.0      1      0       10  1.286595   \n",
       "4         59.9  1005.0      4      0        5  1.217043   \n",
       "\n",
       "   1st_place_rank_in_odds  ...  pressure_level_2  pressure_level_3  \\\n",
       "0                       1  ...                 0                 1   \n",
       "1                       4  ...                 1                 0   \n",
       "2                       3  ...                 1                 0   \n",
       "3                       1  ...                 0                 1   \n",
       "4                       4  ...                 1                 0   \n",
       "\n",
       "   pressure_level_4  is_raining  rhum_level_0  rhum_level_1  rhum_level_2  \\\n",
       "0                 0           0             0             0             0   \n",
       "1                 0           1             0             0             0   \n",
       "2                 0           0             0             0             0   \n",
       "3                 0           0             0             0             0   \n",
       "4                 0           0             0             0             1   \n",
       "\n",
       "   rhum_level_3  rhum_level_4  entropy of odds  \n",
       "0             0             1         1.350363  \n",
       "1             0             1         1.995151  \n",
       "2             1             0         1.786421  \n",
       "3             1             0         1.611062  \n",
       "4             0             0         1.254374  \n",
       "\n",
       "[5 rows x 129 columns]"
      ]
     },
     "execution_count": 3,
     "metadata": {},
     "output_type": "execute_result"
    }
   ],
   "source": [
    "races_featurized = pd.read_csv(f\"{BASE_DIR}/data/streamline/races_featurized.csv\", low_memory=False) \n",
    "races_featurized.head()"
   ]
  },
  {
   "cell_type": "code",
   "execution_count": 4,
   "id": "60fdc317",
   "metadata": {},
   "outputs": [
    {
     "data": {
      "text/plain": [
       "(20201, 129)"
      ]
     },
     "execution_count": 4,
     "metadata": {},
     "output_type": "execute_result"
    }
   ],
   "source": [
    "races_featurized.shape"
   ]
  },
  {
   "cell_type": "code",
   "execution_count": 5,
   "id": "34220582",
   "metadata": {
    "scrolled": false
   },
   "outputs": [
    {
     "data": {
      "text/plain": [
       "['rid',\n",
       " 'course',\n",
       " 'title',\n",
       " 'winningTime',\n",
       " 'metric',\n",
       " 'ncond',\n",
       " 'class',\n",
       " 'runners',\n",
       " 'margin',\n",
       " '1st_place_rank_in_odds',\n",
       " '2nd_place_rank_in_odds',\n",
       " '3rd_place_rank_in_odds',\n",
       " '1st_rank_in_odds_place',\n",
       " '2nd_rank_in_odds_place',\n",
       " '3rd_rank_in_odds_place',\n",
       " 'placeAvailable',\n",
       " 'showAvailable',\n",
       " 'favoriteWon',\n",
       " 'favoritePlaced',\n",
       " 'favoriteShowed',\n",
       " 'lat',\n",
       " 'lng',\n",
       " 'datetime',\n",
       " 'station no',\n",
       " 'station name',\n",
       " 'station lat',\n",
       " 'station lng',\n",
       " 'dist to station',\n",
       " 'station reading date',\n",
       " 'temp',\n",
       " 'msl',\n",
       " 'rain',\n",
       " 'rhum',\n",
       " 'station reading timedelta',\n",
       " 'course__Ballinrobe',\n",
       " 'course__Bellewstown',\n",
       " 'course__Clonmel',\n",
       " 'course__Cork',\n",
       " 'course__Curragh',\n",
       " 'course__Down Royal',\n",
       " 'course__Downpatrick',\n",
       " 'course__Dundalk',\n",
       " 'course__Fairyhouse',\n",
       " 'course__Galway',\n",
       " 'course__Gowran Park',\n",
       " 'course__Killarney',\n",
       " 'course__Leopardstown',\n",
       " 'course__Limerick',\n",
       " 'course__Listowel',\n",
       " 'course__Naas',\n",
       " 'course__Navan',\n",
       " 'course__Other',\n",
       " 'course__Punchestown',\n",
       " 'course__Roscommon',\n",
       " 'course__Sligo',\n",
       " 'course__Tipperary',\n",
       " 'course__Tralee',\n",
       " 'course__Tramore',\n",
       " 'course__Wexford',\n",
       " 'metric__1005.0',\n",
       " 'metric__1206.0',\n",
       " 'metric__1306.5',\n",
       " 'metric__1407.0',\n",
       " 'metric__1507.5',\n",
       " 'metric__1609.0',\n",
       " 'metric__1709.5',\n",
       " 'metric__1810.0',\n",
       " 'metric__1910.5',\n",
       " 'metric__2011.0',\n",
       " 'metric__2111.5',\n",
       " 'metric__2212.0',\n",
       " 'metric__2413.0',\n",
       " 'metric__2614.0',\n",
       " 'metric__2815.0',\n",
       " 'metric__3218.0',\n",
       " 'metric__3419.0',\n",
       " 'metric__3620.0',\n",
       " 'metric__4022.0',\n",
       " 'metric__Other',\n",
       " 'ncond__0',\n",
       " 'ncond__1',\n",
       " 'ncond__2',\n",
       " 'ncond__4',\n",
       " 'ncond__5',\n",
       " 'ncond__6',\n",
       " 'ncond__9',\n",
       " 'ncond__11',\n",
       " 'ncond__12',\n",
       " 'ncond__Other',\n",
       " 'runners__6',\n",
       " 'runners__7',\n",
       " 'runners__8',\n",
       " 'runners__9',\n",
       " 'runners__10',\n",
       " 'runners__11',\n",
       " 'runners__12',\n",
       " 'runners__13',\n",
       " 'runners__14',\n",
       " 'runners__Other',\n",
       " 'month',\n",
       " 'month__3',\n",
       " 'month__4',\n",
       " 'month__5',\n",
       " 'month__6',\n",
       " 'month__7',\n",
       " 'month__8',\n",
       " 'month__9',\n",
       " 'month__10',\n",
       " 'month__11',\n",
       " 'month__12',\n",
       " 'month__Other',\n",
       " 'year',\n",
       " 'temp_level_0',\n",
       " 'temp_level_1',\n",
       " 'temp_level_2',\n",
       " 'temp_level_3',\n",
       " 'temp_level_4',\n",
       " 'pressure_level_0',\n",
       " 'pressure_level_1',\n",
       " 'pressure_level_2',\n",
       " 'pressure_level_3',\n",
       " 'pressure_level_4',\n",
       " 'is_raining',\n",
       " 'rhum_level_0',\n",
       " 'rhum_level_1',\n",
       " 'rhum_level_2',\n",
       " 'rhum_level_3',\n",
       " 'rhum_level_4',\n",
       " 'entropy of odds']"
      ]
     },
     "execution_count": 5,
     "metadata": {},
     "output_type": "execute_result"
    }
   ],
   "source": [
    "list(races_featurized.columns)"
   ]
  },
  {
   "cell_type": "markdown",
   "id": "60c8851a",
   "metadata": {},
   "source": [
    "---"
   ]
  },
  {
   "cell_type": "markdown",
   "id": "593bbafa",
   "metadata": {},
   "source": [
    "## Load `horses_selected_trimmed_clean.csv`"
   ]
  },
  {
   "cell_type": "code",
   "execution_count": 6,
   "id": "8b5bc3fa",
   "metadata": {
    "scrolled": true
   },
   "outputs": [
    {
     "data": {
      "text/html": [
       "<div>\n",
       "<style scoped>\n",
       "    .dataframe tbody tr th:only-of-type {\n",
       "        vertical-align: middle;\n",
       "    }\n",
       "\n",
       "    .dataframe tbody tr th {\n",
       "        vertical-align: top;\n",
       "    }\n",
       "\n",
       "    .dataframe thead th {\n",
       "        text-align: right;\n",
       "    }\n",
       "</style>\n",
       "<table border=\"1\" class=\"dataframe\">\n",
       "  <thead>\n",
       "    <tr style=\"text-align: right;\">\n",
       "      <th></th>\n",
       "      <th>rid</th>\n",
       "      <th>horseName</th>\n",
       "      <th>age</th>\n",
       "      <th>saddle</th>\n",
       "      <th>decimalPrice</th>\n",
       "      <th>isFav</th>\n",
       "      <th>trainerName</th>\n",
       "      <th>jockeyName</th>\n",
       "      <th>position</th>\n",
       "      <th>positionL</th>\n",
       "      <th>...</th>\n",
       "      <th>RPR</th>\n",
       "      <th>TR</th>\n",
       "      <th>OR</th>\n",
       "      <th>father</th>\n",
       "      <th>mother</th>\n",
       "      <th>gfather</th>\n",
       "      <th>weight</th>\n",
       "      <th>res_win</th>\n",
       "      <th>res_place</th>\n",
       "      <th>res_show</th>\n",
       "    </tr>\n",
       "  </thead>\n",
       "  <tbody>\n",
       "    <tr>\n",
       "      <th>0</th>\n",
       "      <td>302858</td>\n",
       "      <td>Kings Return</td>\n",
       "      <td>6.0</td>\n",
       "      <td>4.0</td>\n",
       "      <td>0.600000</td>\n",
       "      <td>1</td>\n",
       "      <td>W P Mullins</td>\n",
       "      <td>D J Casey</td>\n",
       "      <td>1</td>\n",
       "      <td>0</td>\n",
       "      <td>...</td>\n",
       "      <td>102.0</td>\n",
       "      <td>NaN</td>\n",
       "      <td>NaN</td>\n",
       "      <td>King's Ride</td>\n",
       "      <td>Browne's Return</td>\n",
       "      <td>Deep Run</td>\n",
       "      <td>73</td>\n",
       "      <td>1</td>\n",
       "      <td>1</td>\n",
       "      <td>0</td>\n",
       "    </tr>\n",
       "    <tr>\n",
       "      <th>1</th>\n",
       "      <td>302858</td>\n",
       "      <td>Majestic Red I</td>\n",
       "      <td>6.0</td>\n",
       "      <td>5.0</td>\n",
       "      <td>0.047619</td>\n",
       "      <td>0</td>\n",
       "      <td>John Hackett</td>\n",
       "      <td>Conor O'Dwyer</td>\n",
       "      <td>2</td>\n",
       "      <td>8</td>\n",
       "      <td>...</td>\n",
       "      <td>94.0</td>\n",
       "      <td>NaN</td>\n",
       "      <td>NaN</td>\n",
       "      <td>Long Pond</td>\n",
       "      <td>Courtlough Lady</td>\n",
       "      <td>Giolla Mear</td>\n",
       "      <td>73</td>\n",
       "      <td>0</td>\n",
       "      <td>1</td>\n",
       "      <td>0</td>\n",
       "    </tr>\n",
       "    <tr>\n",
       "      <th>2</th>\n",
       "      <td>302858</td>\n",
       "      <td>Clearly Canadian</td>\n",
       "      <td>6.0</td>\n",
       "      <td>2.0</td>\n",
       "      <td>0.166667</td>\n",
       "      <td>0</td>\n",
       "      <td>D T Hughes</td>\n",
       "      <td>G Cotter</td>\n",
       "      <td>3</td>\n",
       "      <td>1.5</td>\n",
       "      <td>...</td>\n",
       "      <td>92.0</td>\n",
       "      <td>NaN</td>\n",
       "      <td>NaN</td>\n",
       "      <td>Nordico</td>\n",
       "      <td>Over The Seas</td>\n",
       "      <td>North Summit</td>\n",
       "      <td>71</td>\n",
       "      <td>0</td>\n",
       "      <td>0</td>\n",
       "      <td>0</td>\n",
       "    </tr>\n",
       "    <tr>\n",
       "      <th>3</th>\n",
       "      <td>302858</td>\n",
       "      <td>Bernestic Wonder</td>\n",
       "      <td>8.0</td>\n",
       "      <td>1.0</td>\n",
       "      <td>0.058824</td>\n",
       "      <td>0</td>\n",
       "      <td>E McNamara</td>\n",
       "      <td>J Old Jones</td>\n",
       "      <td>4</td>\n",
       "      <td>dist</td>\n",
       "      <td>...</td>\n",
       "      <td>NaN</td>\n",
       "      <td>NaN</td>\n",
       "      <td>NaN</td>\n",
       "      <td>Roselier</td>\n",
       "      <td>Miss Reindeer</td>\n",
       "      <td>Reindeer</td>\n",
       "      <td>73</td>\n",
       "      <td>0</td>\n",
       "      <td>0</td>\n",
       "      <td>0</td>\n",
       "    </tr>\n",
       "    <tr>\n",
       "      <th>4</th>\n",
       "      <td>302858</td>\n",
       "      <td>Beauty's Pride</td>\n",
       "      <td>5.0</td>\n",
       "      <td>6.0</td>\n",
       "      <td>0.038462</td>\n",
       "      <td>0</td>\n",
       "      <td>J J Lennon</td>\n",
       "      <td>T Martin</td>\n",
       "      <td>5</td>\n",
       "      <td>dist</td>\n",
       "      <td>...</td>\n",
       "      <td>NaN</td>\n",
       "      <td>NaN</td>\n",
       "      <td>NaN</td>\n",
       "      <td>Noalto</td>\n",
       "      <td>Elena's Beauty</td>\n",
       "      <td>Tarqogan</td>\n",
       "      <td>66</td>\n",
       "      <td>0</td>\n",
       "      <td>0</td>\n",
       "      <td>0</td>\n",
       "    </tr>\n",
       "  </tbody>\n",
       "</table>\n",
       "<p>5 rows × 22 columns</p>\n",
       "</div>"
      ],
      "text/plain": [
       "      rid         horseName  age  saddle  decimalPrice  isFav   trainerName  \\\n",
       "0  302858      Kings Return  6.0     4.0      0.600000      1   W P Mullins   \n",
       "1  302858    Majestic Red I  6.0     5.0      0.047619      0  John Hackett   \n",
       "2  302858  Clearly Canadian  6.0     2.0      0.166667      0    D T Hughes   \n",
       "3  302858  Bernestic Wonder  8.0     1.0      0.058824      0    E McNamara   \n",
       "4  302858    Beauty's Pride  5.0     6.0      0.038462      0    J J Lennon   \n",
       "\n",
       "      jockeyName  position positionL  ...    RPR  TR  OR       father  \\\n",
       "0      D J Casey         1         0  ...  102.0 NaN NaN  King's Ride   \n",
       "1  Conor O'Dwyer         2         8  ...   94.0 NaN NaN    Long Pond   \n",
       "2       G Cotter         3       1.5  ...   92.0 NaN NaN      Nordico   \n",
       "3    J Old Jones         4      dist  ...    NaN NaN NaN     Roselier   \n",
       "4       T Martin         5      dist  ...    NaN NaN NaN       Noalto   \n",
       "\n",
       "            mother       gfather weight res_win  res_place  res_show  \n",
       "0  Browne's Return      Deep Run     73       1          1         0  \n",
       "1  Courtlough Lady   Giolla Mear     73       0          1         0  \n",
       "2    Over The Seas  North Summit     71       0          0         0  \n",
       "3    Miss Reindeer      Reindeer     73       0          0         0  \n",
       "4   Elena's Beauty      Tarqogan     66       0          0         0  \n",
       "\n",
       "[5 rows x 22 columns]"
      ]
     },
     "execution_count": 6,
     "metadata": {},
     "output_type": "execute_result"
    }
   ],
   "source": [
    "horses_clean = pd.read_csv(f\"{BASE_DIR}/data/streamline/horses_selected_trimmed_clean.csv\", low_memory=False) \n",
    "horses_clean.head()"
   ]
  },
  {
   "cell_type": "code",
   "execution_count": 7,
   "id": "2d2d4d69",
   "metadata": {},
   "outputs": [
    {
     "data": {
      "text/plain": [
       "(202304, 22)"
      ]
     },
     "execution_count": 7,
     "metadata": {},
     "output_type": "execute_result"
    }
   ],
   "source": [
    "horses_clean.shape"
   ]
  },
  {
   "cell_type": "markdown",
   "id": "2a7cafd3",
   "metadata": {},
   "source": [
    "---"
   ]
  },
  {
   "cell_type": "markdown",
   "id": "28fdf9ac",
   "metadata": {},
   "source": [
    "## Longshots Do Well In Extreme Weather Conditions"
   ]
  },
  {
   "cell_type": "code",
   "execution_count": 8,
   "id": "081aa530",
   "metadata": {},
   "outputs": [
    {
     "data": {
      "text/plain": [
       "(10520, 9681)"
      ]
     },
     "execution_count": 8,
     "metadata": {},
     "output_type": "execute_result"
    }
   ],
   "source": [
    "dfa = races_featurized[\n",
    "    ((races_featurized['temp_level_1'] == 1) | (races_featurized['temp_level_2'] == 1) | (races_featurized['temp_level_3'] == 1)) &\n",
    "    ((races_featurized['pressure_level_3'] == 1) | (races_featurized['pressure_level_4'] == 1)) &\n",
    "    ((races_featurized['rhum_level_1'] == 1) | (races_featurized['rhum_level_2'] == 1) | (races_featurized['rhum_level_3'] == 1)) &\n",
    "    (races_featurized['is_raining'] == 0)\n",
    "]\n",
    "\n",
    "dfb = races_featurized[\n",
    "    ~(((races_featurized['temp_level_1'] == 1) | (races_featurized['temp_level_2'] == 1) | (races_featurized['temp_level_3'] == 1)) &\n",
    "    ((races_featurized['pressure_level_3'] == 1) | (races_featurized['pressure_level_4'] == 1)) &\n",
    "    ((races_featurized['rhum_level_1'] == 1) | (races_featurized['rhum_level_2'] == 1) | (races_featurized['rhum_level_3'] == 1)) &\n",
    "    (races_featurized['is_raining'] == 0))\n",
    "]\n",
    "\n",
    "len(dfa), len(dfb)"
   ]
  },
  {
   "cell_type": "code",
   "execution_count": 9,
   "id": "5d366112",
   "metadata": {},
   "outputs": [
    {
     "data": {
      "text/plain": [
       "2.8202471482889733"
      ]
     },
     "execution_count": 9,
     "metadata": {},
     "output_type": "execute_result"
    }
   ],
   "source": [
    "np.mean(dfa['1st_place_rank_in_odds'])"
   ]
  },
  {
   "cell_type": "code",
   "execution_count": 10,
   "id": "5f812471",
   "metadata": {
    "scrolled": true
   },
   "outputs": [
    {
     "data": {
      "text/plain": [
       "3.492110266159696"
      ]
     },
     "execution_count": 10,
     "metadata": {},
     "output_type": "execute_result"
    }
   ],
   "source": [
    "np.mean(dfa['2nd_place_rank_in_odds'])"
   ]
  },
  {
   "cell_type": "code",
   "execution_count": 11,
   "id": "056dc600",
   "metadata": {},
   "outputs": [
    {
     "data": {
      "text/plain": [
       "4.037072243346008"
      ]
     },
     "execution_count": 11,
     "metadata": {},
     "output_type": "execute_result"
    }
   ],
   "source": [
    "np.mean(dfa['3rd_place_rank_in_odds'])"
   ]
  },
  {
   "cell_type": "code",
   "execution_count": 12,
   "id": "5c0d10c6",
   "metadata": {
    "scrolled": true
   },
   "outputs": [
    {
     "data": {
      "text/plain": [
       "2.973349860551596"
      ]
     },
     "execution_count": 12,
     "metadata": {},
     "output_type": "execute_result"
    }
   ],
   "source": [
    "np.mean(dfb['1st_place_rank_in_odds'])"
   ]
  },
  {
   "cell_type": "code",
   "execution_count": 13,
   "id": "38ee16da",
   "metadata": {},
   "outputs": [
    {
     "data": {
      "text/plain": [
       "3.56006610887305"
      ]
     },
     "execution_count": 13,
     "metadata": {},
     "output_type": "execute_result"
    }
   ],
   "source": [
    "np.mean(dfb['2nd_place_rank_in_odds'])"
   ]
  },
  {
   "cell_type": "code",
   "execution_count": 14,
   "id": "932da105",
   "metadata": {},
   "outputs": [
    {
     "data": {
      "text/plain": [
       "4.218469166408429"
      ]
     },
     "execution_count": 14,
     "metadata": {},
     "output_type": "execute_result"
    }
   ],
   "source": [
    "np.mean(dfb['3rd_place_rank_in_odds'])"
   ]
  },
  {
   "cell_type": "code",
   "execution_count": 15,
   "id": "eb7d1e38",
   "metadata": {},
   "outputs": [
    {
     "data": {
      "text/plain": [
       "Ttest_indResult(statistic=-4.682453427434571, pvalue=2.8533996199699396e-06)"
      ]
     },
     "execution_count": 15,
     "metadata": {},
     "output_type": "execute_result"
    }
   ],
   "source": [
    "stats.ttest_ind(dfa['1st_place_rank_in_odds'],\n",
    "                dfb['1st_place_rank_in_odds'],\n",
    "                equal_var=False)"
   ]
  },
  {
   "cell_type": "code",
   "execution_count": 16,
   "id": "a90ee71c",
   "metadata": {},
   "outputs": [
    {
     "data": {
      "text/plain": [
       "Ttest_indResult(statistic=-1.94099925516113, pvalue=0.05227248256786023)"
      ]
     },
     "execution_count": 16,
     "metadata": {},
     "output_type": "execute_result"
    }
   ],
   "source": [
    "stats.ttest_ind(dfa['2nd_place_rank_in_odds'],\n",
    "                dfb['2nd_place_rank_in_odds'],\n",
    "                equal_var=False)"
   ]
  },
  {
   "cell_type": "code",
   "execution_count": 17,
   "id": "595bc38f",
   "metadata": {},
   "outputs": [
    {
     "data": {
      "text/plain": [
       "Ttest_indResult(statistic=-4.97151041447988, pvalue=6.698672928325066e-07)"
      ]
     },
     "execution_count": 17,
     "metadata": {},
     "output_type": "execute_result"
    }
   ],
   "source": [
    "stats.ttest_ind(dfa['3rd_place_rank_in_odds'],\n",
    "                dfb['3rd_place_rank_in_odds'],\n",
    "                equal_var=False)"
   ]
  },
  {
   "cell_type": "code",
   "execution_count": 18,
   "id": "a5411391",
   "metadata": {},
   "outputs": [
    {
     "data": {
      "text/plain": [
       "(array([0.43693833, 0.10122921, 0.06666508, 0.09074078, 0.02510866,\n",
       "        0.01819583, 0.01954661, 0.0056415 , 0.00333723, 0.00182753]),\n",
       " array([ 1. ,  2.3,  3.6,  4.9,  6.2,  7.5,  8.8, 10.1, 11.4, 12.7, 14. ]),\n",
       " <BarContainer object of 10 artists>)"
      ]
     },
     "execution_count": 18,
     "metadata": {},
     "output_type": "execute_result"
    },
    {
     "data": {
      "image/png": "[encoded data removed]",
      "text/plain": [
       "<Figure size 432x288 with 1 Axes>"
      ]
     },
     "metadata": {
      "needs_background": "light"
     },
     "output_type": "display_data"
    }
   ],
   "source": [
    "plt.hist(dfa['1st_place_rank_in_odds'], alpha = 0.7, density=True)\n",
    "plt.hist(dfb['1st_place_rank_in_odds'], alpha = 0.7, density=True)"
   ]
  },
  {
   "cell_type": "code",
   "execution_count": 19,
   "id": "ceecd2b2",
   "metadata": {},
   "outputs": [
    {
     "data": {
      "text/plain": [
       "(array([[0.45239836, 0.1044165 , 0.07180462, 0.07831237, 0.02281369,\n",
       "         0.01469728, 0.01659842, 0.00409476, 0.00263235, 0.00146242],\n",
       "        [0.43693833, 0.10122921, 0.06666508, 0.09074078, 0.02510866,\n",
       "         0.01819583, 0.01954661, 0.0056415 , 0.00333723, 0.00182753]]),\n",
       " array([ 1. ,  2.3,  3.6,  4.9,  6.2,  7.5,  8.8, 10.1, 11.4, 12.7, 14. ]),\n",
       " <a list of 2 BarContainer objects>)"
      ]
     },
     "execution_count": 19,
     "metadata": {},
     "output_type": "execute_result"
    },
    {
     "data": {
      "image/png": "[encoded data removed]",
      "text/plain": [
       "<Figure size 432x288 with 1 Axes>"
      ]
     },
     "metadata": {
      "needs_background": "light"
     },
     "output_type": "display_data"
    }
   ],
   "source": [
    "plt.hist([dfa['1st_place_rank_in_odds'], dfb['1st_place_rank_in_odds']], density=True)"
   ]
  },
  {
   "cell_type": "code",
   "execution_count": 20,
   "id": "0a6fbf6f",
   "metadata": {},
   "outputs": [
    {
     "data": {
      "text/plain": [
       "(array([[0.33971922, 0.12554841, 0.0952764 , 0.11406844, 0.03582919,\n",
       "         0.02288681, 0.02317929, 0.00680023, 0.00365604, 0.00226674],\n",
       "        [0.33904635, 0.12006071, 0.09368072, 0.11378354, 0.03551763,\n",
       "         0.02336059, 0.02828697, 0.0071512 , 0.00484692, 0.00349614]]),\n",
       " array([ 1. ,  2.3,  3.6,  4.9,  6.2,  7.5,  8.8, 10.1, 11.4, 12.7, 14. ]),\n",
       " <a list of 2 BarContainer objects>)"
      ]
     },
     "execution_count": 20,
     "metadata": {},
     "output_type": "execute_result"
    },
    {
     "data": {
      "image/png": "[encoded data removed]",
      "text/plain": [
       "<Figure size 432x288 with 1 Axes>"
      ]
     },
     "metadata": {
      "needs_background": "light"
     },
     "output_type": "display_data"
    }
   ],
   "source": [
    "plt.hist([dfa['2nd_place_rank_in_odds'], dfb['2nd_place_rank_in_odds']], density=True)"
   ]
  },
  {
   "cell_type": "code",
   "execution_count": 21,
   "id": "011fdb91",
   "metadata": {},
   "outputs": [
    {
     "data": {
      "text/plain": [
       "(array([[0.24385785, 0.14200058, 0.10982743, 0.15165253, 0.04036268,\n",
       "         0.03049137, 0.03385493, 0.00884762, 0.00548406, 0.00285171],\n",
       "        [0.23003027, 0.13619064, 0.11243276, 0.15152599, 0.04362232,\n",
       "         0.03329281, 0.03972889, 0.0092171 , 0.00746903, 0.00572096]]),\n",
       " array([ 1. ,  2.3,  3.6,  4.9,  6.2,  7.5,  8.8, 10.1, 11.4, 12.7, 14. ]),\n",
       " <a list of 2 BarContainer objects>)"
      ]
     },
     "execution_count": 21,
     "metadata": {},
     "output_type": "execute_result"
    },
    {
     "data": {
      "image/png": "[encoded data removed]",
      "text/plain": [
       "<Figure size 432x288 with 1 Axes>"
      ]
     },
     "metadata": {
      "needs_background": "light"
     },
     "output_type": "display_data"
    }
   ],
   "source": [
    "plt.hist([dfa['3rd_place_rank_in_odds'], dfb['3rd_place_rank_in_odds']], density=True)"
   ]
  },
  {
   "cell_type": "code",
   "execution_count": 48,
   "id": "b96b47d9",
   "metadata": {},
   "outputs": [
    {
     "data": {
      "image/png": "[encoded data removed]",
      "text/plain": [
       "<Figure size 1080x360 with 3 Axes>"
      ]
     },
     "metadata": {
      "needs_background": "light"
     },
     "output_type": "display_data"
    }
   ],
   "source": [
    "fig = plt.figure(figsize=(15,5))\n",
    "gs = fig.add_gridspec(1, 3)\n",
    "\n",
    "fig.suptitle(\"Top Finisher's Position in Odds\")\n",
    "\n",
    "ax1 = fig.add_subplot(gs[0:1, 0:1])\n",
    "ax2 = fig.add_subplot(gs[0:1, 1:2])\n",
    "ax3 = fig.add_subplot(gs[0:1, 2:3])\n",
    "\n",
    "ax1.set_title(\"$1^{st}$ place finisher's rank in odds\")\n",
    "ax1.hist([dfa['1st_place_rank_in_odds'], dfb['1st_place_rank_in_odds']],\n",
    "         label=['Ideal Weather', 'Non-Ideal Weather'],\n",
    "         bins=14,\n",
    "         density=True)\n",
    "ax1.set_xlabel(\"Rank in Odds\")\n",
    "ax1.set_ylabel(\"Density\")\n",
    "ax1.legend()\n",
    "\n",
    "ax2.set_title(\"$2^{nd}$ place finisher's rank in odds\")\n",
    "ax2.hist([dfa['2nd_place_rank_in_odds'], dfb['2nd_place_rank_in_odds']],\n",
    "         label=['Ideal Weather', 'Non-Ideal Weather'],\n",
    "         bins=14,\n",
    "         density=True)\n",
    "ax2.set_xlabel(\"Rank in Odds\")\n",
    "ax2.set_ylabel(\"Density\")\n",
    "ax2.legend()\n",
    "\n",
    "ax3.set_title(\"$3^{rd}$ place finisher's rank in odds\")\n",
    "ax3.hist([dfa['3rd_place_rank_in_odds'], dfb['3rd_place_rank_in_odds']],\n",
    "         label=['Ideal Weather', 'Non-Ideal Weather'],\n",
    "         bins=14,\n",
    "         density=True)\n",
    "ax3.set_xlabel(\"Rank in Odds\")\n",
    "ax3.set_ylabel(\"Density\")\n",
    "ax3.legend()\n",
    "\n",
    "plt.tight_layout()\n",
    "\n",
    "fig.savefig(f\"{BASE_DIR}/figures/top_finishers_position_in_odds.png\")\n",
    "\n",
    "plt.show()"
   ]
  },
  {
   "cell_type": "code",
   "execution_count": 22,
   "id": "860033c2",
   "metadata": {
    "scrolled": true
   },
   "outputs": [
    {
     "data": {
      "text/plain": [
       "array([[<AxesSubplot:title={'center':'1st_place_rank_in_odds'}>]],\n",
       "      dtype=object)"
      ]
     },
     "execution_count": 22,
     "metadata": {},
     "output_type": "execute_result"
    },
    {
     "data": {
      "image/png": "[encoded data removed]",
      "text/plain": [
       "<Figure size 432x288 with 1 Axes>"
      ]
     },
     "metadata": {
      "needs_background": "light"
     },
     "output_type": "display_data"
    }
   ],
   "source": [
    "dfa.hist('1st_place_rank_in_odds', bins=14)"
   ]
  },
  {
   "cell_type": "code",
   "execution_count": 23,
   "id": "b63249dc",
   "metadata": {},
   "outputs": [
    {
     "data": {
      "text/plain": [
       "array([[<AxesSubplot:title={'center':'1st_place_rank_in_odds'}>]],\n",
       "      dtype=object)"
      ]
     },
     "execution_count": 23,
     "metadata": {},
     "output_type": "execute_result"
    },
    {
     "data": {
      "image/png": "[encoded data removed]",
      "text/plain": [
       "<Figure size 432x288 with 1 Axes>"
      ]
     },
     "metadata": {
      "needs_background": "light"
     },
     "output_type": "display_data"
    }
   ],
   "source": [
    "dfb.hist('1st_place_rank_in_odds', bins=14)"
   ]
  },
  {
   "cell_type": "code",
   "execution_count": 24,
   "id": "97902175",
   "metadata": {},
   "outputs": [
    {
     "data": {
      "text/plain": [
       "0.2761406844106464"
      ]
     },
     "execution_count": 24,
     "metadata": {},
     "output_type": "execute_result"
    }
   ],
   "source": [
    "np.mean(dfa['1st_place_rank_in_odds'] > 3)"
   ]
  },
  {
   "cell_type": "code",
   "execution_count": 25,
   "id": "173e2c53",
   "metadata": {},
   "outputs": [
    {
     "data": {
      "text/plain": [
       "0.3003821919223221"
      ]
     },
     "execution_count": 25,
     "metadata": {},
     "output_type": "execute_result"
    }
   ],
   "source": [
    "np.mean(dfb['1st_place_rank_in_odds'] > 3)"
   ]
  },
  {
   "cell_type": "code",
   "execution_count": 26,
   "id": "8754d346",
   "metadata": {},
   "outputs": [
    {
     "data": {
      "text/plain": [
       "Ttest_indResult(statistic=-3.6104231230350954, pvalue=0.00030645237872801095)"
      ]
     },
     "execution_count": 26,
     "metadata": {},
     "output_type": "execute_result"
    }
   ],
   "source": [
    "stats.ttest_ind(dfa[dfa['runners'] > 3]['1st_place_rank_in_odds'] > 3,\n",
    "                dfb[dfb['runners'] > 3]['1st_place_rank_in_odds'] > 3,\n",
    "                equal_var=False)"
   ]
  },
  {
   "cell_type": "code",
   "execution_count": 27,
   "id": "060a7632",
   "metadata": {},
   "outputs": [
    {
     "data": {
      "text/html": [
       "<div>\n",
       "<style scoped>\n",
       "    .dataframe tbody tr th:only-of-type {\n",
       "        vertical-align: middle;\n",
       "    }\n",
       "\n",
       "    .dataframe tbody tr th {\n",
       "        vertical-align: top;\n",
       "    }\n",
       "\n",
       "    .dataframe thead th {\n",
       "        text-align: right;\n",
       "    }\n",
       "</style>\n",
       "<table border=\"1\" class=\"dataframe\">\n",
       "  <thead>\n",
       "    <tr style=\"text-align: right;\">\n",
       "      <th></th>\n",
       "      <th>rid</th>\n",
       "      <th>title</th>\n",
       "      <th>datetime</th>\n",
       "      <th>ncond</th>\n",
       "      <th>rain</th>\n",
       "      <th>msl</th>\n",
       "      <th>temp</th>\n",
       "      <th>rhum</th>\n",
       "      <th>runners</th>\n",
       "      <th>1st_place_rank_in_odds</th>\n",
       "    </tr>\n",
       "  </thead>\n",
       "  <tbody>\n",
       "    <tr>\n",
       "      <th>22</th>\n",
       "      <td>332935</td>\n",
       "      <td>Eve's Fashion Store (Limerick) EBF Handicap</td>\n",
       "      <td>1997-06-05 19:00:00</td>\n",
       "      <td>1</td>\n",
       "      <td>0.3</td>\n",
       "      <td>1000.5</td>\n",
       "      <td>16.0</td>\n",
       "      <td>79</td>\n",
       "      <td>5</td>\n",
       "      <td>5</td>\n",
       "    </tr>\n",
       "    <tr>\n",
       "      <th>39</th>\n",
       "      <td>367954</td>\n",
       "      <td>Tusker House Hotel &amp;amp; Junction Night Club H...</td>\n",
       "      <td>1997-07-04 19:00:00</td>\n",
       "      <td>4</td>\n",
       "      <td>0.0</td>\n",
       "      <td>1022.2</td>\n",
       "      <td>15.4</td>\n",
       "      <td>82</td>\n",
       "      <td>4</td>\n",
       "      <td>4</td>\n",
       "    </tr>\n",
       "    <tr>\n",
       "      <th>48</th>\n",
       "      <td>383337</td>\n",
       "      <td>Aghadoe I.N.H. Flat Race</td>\n",
       "      <td>1997-07-17 16:35:00</td>\n",
       "      <td>4</td>\n",
       "      <td>0.0</td>\n",
       "      <td>1021.7</td>\n",
       "      <td>18.8</td>\n",
       "      <td>57</td>\n",
       "      <td>4</td>\n",
       "      <td>4</td>\n",
       "    </tr>\n",
       "    <tr>\n",
       "      <th>56</th>\n",
       "      <td>400821</td>\n",
       "      <td>Meld Stakes (Group 3)</td>\n",
       "      <td>1997-07-26 15:05:00</td>\n",
       "      <td>1</td>\n",
       "      <td>0.0</td>\n",
       "      <td>1009.2</td>\n",
       "      <td>17.0</td>\n",
       "      <td>90</td>\n",
       "      <td>5</td>\n",
       "      <td>5</td>\n",
       "    </tr>\n",
       "    <tr>\n",
       "      <th>142</th>\n",
       "      <td>19606</td>\n",
       "      <td>Victor McCalmont Tetarch Stakes (Group 3)</td>\n",
       "      <td>1994-04-23 14:30:00</td>\n",
       "      <td>9</td>\n",
       "      <td>0.1</td>\n",
       "      <td>991.7</td>\n",
       "      <td>13.4</td>\n",
       "      <td>59</td>\n",
       "      <td>4</td>\n",
       "      <td>4</td>\n",
       "    </tr>\n",
       "    <tr>\n",
       "      <th>...</th>\n",
       "      <td>...</td>\n",
       "      <td>...</td>\n",
       "      <td>...</td>\n",
       "      <td>...</td>\n",
       "      <td>...</td>\n",
       "      <td>...</td>\n",
       "      <td>...</td>\n",
       "      <td>...</td>\n",
       "      <td>...</td>\n",
       "      <td>...</td>\n",
       "    </tr>\n",
       "    <tr>\n",
       "      <th>19682</th>\n",
       "      <td>90012</td>\n",
       "      <td>Germinal Seed Handicap</td>\n",
       "      <td>1999-06-03 18:30:00</td>\n",
       "      <td>1</td>\n",
       "      <td>0.0</td>\n",
       "      <td>1001.9</td>\n",
       "      <td>15.9</td>\n",
       "      <td>74</td>\n",
       "      <td>10</td>\n",
       "      <td>10</td>\n",
       "    </tr>\n",
       "    <tr>\n",
       "      <th>20128</th>\n",
       "      <td>14654</td>\n",
       "      <td>Autumn Handicap</td>\n",
       "      <td>1999-10-16 15:50:00</td>\n",
       "      <td>11</td>\n",
       "      <td>0.0</td>\n",
       "      <td>1019.7</td>\n",
       "      <td>13.7</td>\n",
       "      <td>93</td>\n",
       "      <td>12</td>\n",
       "      <td>12</td>\n",
       "    </tr>\n",
       "    <tr>\n",
       "      <th>20141</th>\n",
       "      <td>318810</td>\n",
       "      <td>E.B.F. Premier Fillies Nursery Handicap</td>\n",
       "      <td>1999-10-23 14:30:00</td>\n",
       "      <td>5</td>\n",
       "      <td>0.0</td>\n",
       "      <td>979.4</td>\n",
       "      <td>13.4</td>\n",
       "      <td>86</td>\n",
       "      <td>8</td>\n",
       "      <td>8</td>\n",
       "    </tr>\n",
       "    <tr>\n",
       "      <th>20151</th>\n",
       "      <td>221205</td>\n",
       "      <td>Bewleys Hotels Handicap Chase</td>\n",
       "      <td>1999-10-24 14:45:00</td>\n",
       "      <td>5</td>\n",
       "      <td>1.9</td>\n",
       "      <td>980.0</td>\n",
       "      <td>12.3</td>\n",
       "      <td>92</td>\n",
       "      <td>7</td>\n",
       "      <td>7</td>\n",
       "    </tr>\n",
       "    <tr>\n",
       "      <th>20156</th>\n",
       "      <td>20932</td>\n",
       "      <td>Ballyroan Stakes (Listed)</td>\n",
       "      <td>1999-10-25 15:15:00</td>\n",
       "      <td>5</td>\n",
       "      <td>0.0</td>\n",
       "      <td>997.9</td>\n",
       "      <td>13.0</td>\n",
       "      <td>73</td>\n",
       "      <td>9</td>\n",
       "      <td>9</td>\n",
       "    </tr>\n",
       "  </tbody>\n",
       "</table>\n",
       "<p>258 rows × 10 columns</p>\n",
       "</div>"
      ],
      "text/plain": [
       "          rid                                              title  \\\n",
       "22     332935        Eve's Fashion Store (Limerick) EBF Handicap   \n",
       "39     367954  Tusker House Hotel &amp; Junction Night Club H...   \n",
       "48     383337                           Aghadoe I.N.H. Flat Race   \n",
       "56     400821                              Meld Stakes (Group 3)   \n",
       "142     19606          Victor McCalmont Tetarch Stakes (Group 3)   \n",
       "...       ...                                                ...   \n",
       "19682   90012                             Germinal Seed Handicap   \n",
       "20128   14654                                    Autumn Handicap   \n",
       "20141  318810            E.B.F. Premier Fillies Nursery Handicap   \n",
       "20151  221205                      Bewleys Hotels Handicap Chase   \n",
       "20156   20932                          Ballyroan Stakes (Listed)   \n",
       "\n",
       "                  datetime  ncond  rain     msl  temp  rhum  runners  \\\n",
       "22     1997-06-05 19:00:00      1   0.3  1000.5  16.0    79        5   \n",
       "39     1997-07-04 19:00:00      4   0.0  1022.2  15.4    82        4   \n",
       "48     1997-07-17 16:35:00      4   0.0  1021.7  18.8    57        4   \n",
       "56     1997-07-26 15:05:00      1   0.0  1009.2  17.0    90        5   \n",
       "142    1994-04-23 14:30:00      9   0.1   991.7  13.4    59        4   \n",
       "...                    ...    ...   ...     ...   ...   ...      ...   \n",
       "19682  1999-06-03 18:30:00      1   0.0  1001.9  15.9    74       10   \n",
       "20128  1999-10-16 15:50:00     11   0.0  1019.7  13.7    93       12   \n",
       "20141  1999-10-23 14:30:00      5   0.0   979.4  13.4    86        8   \n",
       "20151  1999-10-24 14:45:00      5   1.9   980.0  12.3    92        7   \n",
       "20156  1999-10-25 15:15:00      5   0.0   997.9  13.0    73        9   \n",
       "\n",
       "       1st_place_rank_in_odds  \n",
       "22                          5  \n",
       "39                          4  \n",
       "48                          4  \n",
       "56                          5  \n",
       "142                         4  \n",
       "...                       ...  \n",
       "19682                      10  \n",
       "20128                      12  \n",
       "20141                       8  \n",
       "20151                       7  \n",
       "20156                       9  \n",
       "\n",
       "[258 rows x 10 columns]"
      ]
     },
     "execution_count": 27,
     "metadata": {},
     "output_type": "execute_result"
    }
   ],
   "source": [
    "longest_shot = races_featurized[races_featurized['1st_place_rank_in_odds'] == races_featurized['runners']]\n",
    "longest_shot[['rid', 'title', 'datetime', 'ncond', 'rain', 'msl', 'temp', 'rhum', 'runners', '1st_place_rank_in_odds']]"
   ]
  },
  {
   "cell_type": "code",
   "execution_count": 28,
   "id": "ac9b3122",
   "metadata": {},
   "outputs": [
    {
     "data": {
      "text/plain": [
       "14.260077519379845"
      ]
     },
     "execution_count": 28,
     "metadata": {},
     "output_type": "execute_result"
    }
   ],
   "source": [
    "np.mean(longest_shot['temp'])"
   ]
  },
  {
   "cell_type": "code",
   "execution_count": 29,
   "id": "83639429",
   "metadata": {},
   "outputs": [
    {
     "data": {
      "text/plain": [
       "1012.1527131782944"
      ]
     },
     "execution_count": 29,
     "metadata": {},
     "output_type": "execute_result"
    }
   ],
   "source": [
    "np.mean(longest_shot['msl'])"
   ]
  },
  {
   "cell_type": "code",
   "execution_count": 30,
   "id": "d85786de",
   "metadata": {},
   "outputs": [
    {
     "data": {
      "text/plain": [
       "72.36434108527132"
      ]
     },
     "execution_count": 30,
     "metadata": {},
     "output_type": "execute_result"
    }
   ],
   "source": [
    "np.mean(longest_shot['rhum'])"
   ]
  },
  {
   "cell_type": "code",
   "execution_count": 31,
   "id": "829ccac8",
   "metadata": {},
   "outputs": [
    {
     "data": {
      "text/plain": [
       "0.15930232558139534"
      ]
     },
     "execution_count": 31,
     "metadata": {},
     "output_type": "execute_result"
    }
   ],
   "source": [
    "np.mean(longest_shot['rain'])"
   ]
  },
  {
   "cell_type": "code",
   "execution_count": 32,
   "id": "59afa71a",
   "metadata": {},
   "outputs": [
    {
     "data": {
      "text/html": [
       "<div>\n",
       "<style scoped>\n",
       "    .dataframe tbody tr th:only-of-type {\n",
       "        vertical-align: middle;\n",
       "    }\n",
       "\n",
       "    .dataframe tbody tr th {\n",
       "        vertical-align: top;\n",
       "    }\n",
       "\n",
       "    .dataframe thead th {\n",
       "        text-align: right;\n",
       "    }\n",
       "</style>\n",
       "<table border=\"1\" class=\"dataframe\">\n",
       "  <thead>\n",
       "    <tr style=\"text-align: right;\">\n",
       "      <th></th>\n",
       "      <th>rid</th>\n",
       "      <th>title</th>\n",
       "      <th>datetime</th>\n",
       "      <th>ncond</th>\n",
       "      <th>rain</th>\n",
       "      <th>msl</th>\n",
       "      <th>temp</th>\n",
       "      <th>rhum</th>\n",
       "      <th>runners</th>\n",
       "      <th>1st_place_rank_in_odds</th>\n",
       "    </tr>\n",
       "  </thead>\n",
       "  <tbody>\n",
       "    <tr>\n",
       "      <th>0</th>\n",
       "      <td>302858</td>\n",
       "      <td>Liffey Maiden Hurdle (Div 1)</td>\n",
       "      <td>1997-01-09 12:15:00</td>\n",
       "      <td>1</td>\n",
       "      <td>0.0</td>\n",
       "      <td>1012.4</td>\n",
       "      <td>1.6</td>\n",
       "      <td>87</td>\n",
       "      <td>6</td>\n",
       "      <td>1</td>\n",
       "    </tr>\n",
       "    <tr>\n",
       "      <th>1</th>\n",
       "      <td>291347</td>\n",
       "      <td>Ericsson G.S.M. Grand National Trial Handicap ...</td>\n",
       "      <td>1997-02-16 14:40:00</td>\n",
       "      <td>5</td>\n",
       "      <td>0.4</td>\n",
       "      <td>992.5</td>\n",
       "      <td>8.0</td>\n",
       "      <td>87</td>\n",
       "      <td>9</td>\n",
       "      <td>4</td>\n",
       "    </tr>\n",
       "    <tr>\n",
       "      <th>2</th>\n",
       "      <td>75447</td>\n",
       "      <td>Ballybunion E.B.F. Beginners S'chase</td>\n",
       "      <td>1997-03-01 14:00:00</td>\n",
       "      <td>5</td>\n",
       "      <td>0.0</td>\n",
       "      <td>1003.5</td>\n",
       "      <td>12.0</td>\n",
       "      <td>73</td>\n",
       "      <td>8</td>\n",
       "      <td>3</td>\n",
       "    </tr>\n",
       "    <tr>\n",
       "      <th>3</th>\n",
       "      <td>358038</td>\n",
       "      <td>Quinns Of Baltinglass Chase (La Touche) (Cross...</td>\n",
       "      <td>1997-04-24 13:40:00</td>\n",
       "      <td>1</td>\n",
       "      <td>0.0</td>\n",
       "      <td>1011.9</td>\n",
       "      <td>12.6</td>\n",
       "      <td>72</td>\n",
       "      <td>10</td>\n",
       "      <td>1</td>\n",
       "    </tr>\n",
       "    <tr>\n",
       "      <th>4</th>\n",
       "      <td>89211</td>\n",
       "      <td>Topaz Sprint Stakes (Listed)</td>\n",
       "      <td>1997-05-08 17:30:00</td>\n",
       "      <td>4</td>\n",
       "      <td>0.0</td>\n",
       "      <td>994.2</td>\n",
       "      <td>11.1</td>\n",
       "      <td>59</td>\n",
       "      <td>5</td>\n",
       "      <td>4</td>\n",
       "    </tr>\n",
       "    <tr>\n",
       "      <th>...</th>\n",
       "      <td>...</td>\n",
       "      <td>...</td>\n",
       "      <td>...</td>\n",
       "      <td>...</td>\n",
       "      <td>...</td>\n",
       "      <td>...</td>\n",
       "      <td>...</td>\n",
       "      <td>...</td>\n",
       "      <td>...</td>\n",
       "      <td>...</td>\n",
       "    </tr>\n",
       "    <tr>\n",
       "      <th>20196</th>\n",
       "      <td>243638</td>\n",
       "      <td>Down Royal Bookmakers I.N.H. Flat Race</td>\n",
       "      <td>1999-12-27 14:30:00</td>\n",
       "      <td>9</td>\n",
       "      <td>0.0</td>\n",
       "      <td>988.8</td>\n",
       "      <td>2.5</td>\n",
       "      <td>93</td>\n",
       "      <td>14</td>\n",
       "      <td>3</td>\n",
       "    </tr>\n",
       "    <tr>\n",
       "      <th>20197</th>\n",
       "      <td>44932</td>\n",
       "      <td>Clintons of Clonmel Great Winter Sale Flat Race</td>\n",
       "      <td>1999-12-27 14:35:00</td>\n",
       "      <td>12</td>\n",
       "      <td>0.0</td>\n",
       "      <td>989.8</td>\n",
       "      <td>3.5</td>\n",
       "      <td>86</td>\n",
       "      <td>12</td>\n",
       "      <td>1</td>\n",
       "    </tr>\n",
       "    <tr>\n",
       "      <th>20198</th>\n",
       "      <td>35003</td>\n",
       "      <td>P.B. Bumper Flat Race</td>\n",
       "      <td>1999-12-28 14:40:00</td>\n",
       "      <td>5</td>\n",
       "      <td>0.0</td>\n",
       "      <td>1008.2</td>\n",
       "      <td>2.8</td>\n",
       "      <td>84</td>\n",
       "      <td>12</td>\n",
       "      <td>1</td>\n",
       "    </tr>\n",
       "    <tr>\n",
       "      <th>20199</th>\n",
       "      <td>360255</td>\n",
       "      <td>Farewell to the 20th Century Flat Race</td>\n",
       "      <td>1999-12-29 14:45:00</td>\n",
       "      <td>11</td>\n",
       "      <td>0.0</td>\n",
       "      <td>1021.0</td>\n",
       "      <td>4.1</td>\n",
       "      <td>85</td>\n",
       "      <td>10</td>\n",
       "      <td>5</td>\n",
       "    </tr>\n",
       "    <tr>\n",
       "      <th>20200</th>\n",
       "      <td>227139</td>\n",
       "      <td>Corporate Sport &amp;amp; Leisure INH Flat Race</td>\n",
       "      <td>1999-12-29 14:15:00</td>\n",
       "      <td>11</td>\n",
       "      <td>0.0</td>\n",
       "      <td>1020.7</td>\n",
       "      <td>4.1</td>\n",
       "      <td>87</td>\n",
       "      <td>12</td>\n",
       "      <td>6</td>\n",
       "    </tr>\n",
       "  </tbody>\n",
       "</table>\n",
       "<p>19943 rows × 10 columns</p>\n",
       "</div>"
      ],
      "text/plain": [
       "          rid                                              title  \\\n",
       "0      302858                       Liffey Maiden Hurdle (Div 1)   \n",
       "1      291347  Ericsson G.S.M. Grand National Trial Handicap ...   \n",
       "2       75447               Ballybunion E.B.F. Beginners S'chase   \n",
       "3      358038  Quinns Of Baltinglass Chase (La Touche) (Cross...   \n",
       "4       89211                       Topaz Sprint Stakes (Listed)   \n",
       "...       ...                                                ...   \n",
       "20196  243638             Down Royal Bookmakers I.N.H. Flat Race   \n",
       "20197   44932    Clintons of Clonmel Great Winter Sale Flat Race   \n",
       "20198   35003                              P.B. Bumper Flat Race   \n",
       "20199  360255             Farewell to the 20th Century Flat Race   \n",
       "20200  227139        Corporate Sport &amp; Leisure INH Flat Race   \n",
       "\n",
       "                  datetime  ncond  rain     msl  temp  rhum  runners  \\\n",
       "0      1997-01-09 12:15:00      1   0.0  1012.4   1.6    87        6   \n",
       "1      1997-02-16 14:40:00      5   0.4   992.5   8.0    87        9   \n",
       "2      1997-03-01 14:00:00      5   0.0  1003.5  12.0    73        8   \n",
       "3      1997-04-24 13:40:00      1   0.0  1011.9  12.6    72       10   \n",
       "4      1997-05-08 17:30:00      4   0.0   994.2  11.1    59        5   \n",
       "...                    ...    ...   ...     ...   ...   ...      ...   \n",
       "20196  1999-12-27 14:30:00      9   0.0   988.8   2.5    93       14   \n",
       "20197  1999-12-27 14:35:00     12   0.0   989.8   3.5    86       12   \n",
       "20198  1999-12-28 14:40:00      5   0.0  1008.2   2.8    84       12   \n",
       "20199  1999-12-29 14:45:00     11   0.0  1021.0   4.1    85       10   \n",
       "20200  1999-12-29 14:15:00     11   0.0  1020.7   4.1    87       12   \n",
       "\n",
       "       1st_place_rank_in_odds  \n",
       "0                           1  \n",
       "1                           4  \n",
       "2                           3  \n",
       "3                           1  \n",
       "4                           4  \n",
       "...                       ...  \n",
       "20196                       3  \n",
       "20197                       1  \n",
       "20198                       1  \n",
       "20199                       5  \n",
       "20200                       6  \n",
       "\n",
       "[19943 rows x 10 columns]"
      ]
     },
     "execution_count": 32,
     "metadata": {},
     "output_type": "execute_result"
    }
   ],
   "source": [
    "not_longest_shot = races_featurized[races_featurized['1st_place_rank_in_odds'] != races_featurized['runners']]\n",
    "not_longest_shot[['rid', 'title', 'datetime', 'ncond', 'rain', 'msl', 'temp', 'rhum', 'runners', '1st_place_rank_in_odds']]"
   ]
  },
  {
   "cell_type": "code",
   "execution_count": 33,
   "id": "add3d50e",
   "metadata": {},
   "outputs": [
    {
     "data": {
      "text/plain": [
       "13.829604372461514"
      ]
     },
     "execution_count": 33,
     "metadata": {},
     "output_type": "execute_result"
    }
   ],
   "source": [
    "np.mean(not_longest_shot['temp'])"
   ]
  },
  {
   "cell_type": "code",
   "execution_count": 34,
   "id": "105d32d0",
   "metadata": {},
   "outputs": [
    {
     "data": {
      "text/plain": [
       "1013.3644236072807"
      ]
     },
     "execution_count": 34,
     "metadata": {},
     "output_type": "execute_result"
    }
   ],
   "source": [
    "np.mean(not_longest_shot['msl'])"
   ]
  },
  {
   "cell_type": "code",
   "execution_count": 35,
   "id": "3c396fe1",
   "metadata": {},
   "outputs": [
    {
     "data": {
      "text/plain": [
       "73.71754500325929"
      ]
     },
     "execution_count": 35,
     "metadata": {},
     "output_type": "execute_result"
    }
   ],
   "source": [
    "np.mean(not_longest_shot['rhum'])"
   ]
  },
  {
   "cell_type": "code",
   "execution_count": 36,
   "id": "af2fed94",
   "metadata": {},
   "outputs": [
    {
     "data": {
      "text/plain": [
       "0.11519330090758663"
      ]
     },
     "execution_count": 36,
     "metadata": {},
     "output_type": "execute_result"
    }
   ],
   "source": [
    "np.mean(not_longest_shot['rain'])"
   ]
  },
  {
   "cell_type": "code",
   "execution_count": 37,
   "id": "74fa4700",
   "metadata": {},
   "outputs": [
    {
     "data": {
      "text/plain": [
       "14"
      ]
     },
     "execution_count": 37,
     "metadata": {},
     "output_type": "execute_result"
    }
   ],
   "source": [
    "max(longest_shot['1st_place_rank_in_odds'])"
   ]
  },
  {
   "cell_type": "code",
   "execution_count": 38,
   "id": "8f533841",
   "metadata": {},
   "outputs": [
    {
     "data": {
      "text/html": [
       "<div>\n",
       "<style scoped>\n",
       "    .dataframe tbody tr th:only-of-type {\n",
       "        vertical-align: middle;\n",
       "    }\n",
       "\n",
       "    .dataframe tbody tr th {\n",
       "        vertical-align: top;\n",
       "    }\n",
       "\n",
       "    .dataframe thead th {\n",
       "        text-align: right;\n",
       "    }\n",
       "</style>\n",
       "<table border=\"1\" class=\"dataframe\">\n",
       "  <thead>\n",
       "    <tr style=\"text-align: right;\">\n",
       "      <th></th>\n",
       "      <th>rid</th>\n",
       "      <th>title</th>\n",
       "      <th>datetime</th>\n",
       "      <th>ncond</th>\n",
       "      <th>rain</th>\n",
       "      <th>msl</th>\n",
       "      <th>temp</th>\n",
       "      <th>rhum</th>\n",
       "    </tr>\n",
       "  </thead>\n",
       "  <tbody>\n",
       "    <tr>\n",
       "      <th>877</th>\n",
       "      <td>51050</td>\n",
       "      <td>Ladies Day At Roscommon On Monday, 9th July, 2...</td>\n",
       "      <td>2018-06-11 18:00:00</td>\n",
       "      <td>2</td>\n",
       "      <td>0.0</td>\n",
       "      <td>1020.0</td>\n",
       "      <td>14.4</td>\n",
       "      <td>76</td>\n",
       "    </tr>\n",
       "    <tr>\n",
       "      <th>2198</th>\n",
       "      <td>60007</td>\n",
       "      <td>Kildare Village Ladies Derby Handicap</td>\n",
       "      <td>2019-07-20 16:45:00</td>\n",
       "      <td>1</td>\n",
       "      <td>0.0</td>\n",
       "      <td>1010.6</td>\n",
       "      <td>17.1</td>\n",
       "      <td>70</td>\n",
       "    </tr>\n",
       "    <tr>\n",
       "      <th>3275</th>\n",
       "      <td>285815</td>\n",
       "      <td>Kilsaran Handicap (Div II)</td>\n",
       "      <td>2009-08-29 17:05:00</td>\n",
       "      <td>0</td>\n",
       "      <td>0.0</td>\n",
       "      <td>1017.6</td>\n",
       "      <td>13.8</td>\n",
       "      <td>76</td>\n",
       "    </tr>\n",
       "    <tr>\n",
       "      <th>3648</th>\n",
       "      <td>402852</td>\n",
       "      <td>Fundraise At Dundalk Stadium Handicap (Div II)</td>\n",
       "      <td>2020-02-21 19:00:00</td>\n",
       "      <td>0</td>\n",
       "      <td>2.0</td>\n",
       "      <td>1003.2</td>\n",
       "      <td>9.9</td>\n",
       "      <td>90</td>\n",
       "    </tr>\n",
       "    <tr>\n",
       "      <th>4271</th>\n",
       "      <td>410367</td>\n",
       "      <td>Tipperary Handicap</td>\n",
       "      <td>2020-09-14 16:30:00</td>\n",
       "      <td>1</td>\n",
       "      <td>0.0</td>\n",
       "      <td>1015.4</td>\n",
       "      <td>17.2</td>\n",
       "      <td>88</td>\n",
       "    </tr>\n",
       "    <tr>\n",
       "      <th>5361</th>\n",
       "      <td>202150</td>\n",
       "      <td>Navan Shopping Centre Handicap</td>\n",
       "      <td>2008-09-26 20:40:00</td>\n",
       "      <td>0</td>\n",
       "      <td>0.0</td>\n",
       "      <td>1032.0</td>\n",
       "      <td>14.2</td>\n",
       "      <td>71</td>\n",
       "    </tr>\n",
       "    <tr>\n",
       "      <th>6429</th>\n",
       "      <td>185991</td>\n",
       "      <td>Dundalk Stadium On Facebook Handicap (Div I)</td>\n",
       "      <td>2012-10-05 20:00:00</td>\n",
       "      <td>0</td>\n",
       "      <td>0.1</td>\n",
       "      <td>1008.3</td>\n",
       "      <td>6.1</td>\n",
       "      <td>95</td>\n",
       "    </tr>\n",
       "    <tr>\n",
       "      <th>7474</th>\n",
       "      <td>380205</td>\n",
       "      <td>Cunnane Stratton Reynolds Handicap</td>\n",
       "      <td>2007-06-22 17:55:00</td>\n",
       "      <td>11</td>\n",
       "      <td>0.0</td>\n",
       "      <td>1009.8</td>\n",
       "      <td>18.1</td>\n",
       "      <td>68</td>\n",
       "    </tr>\n",
       "    <tr>\n",
       "      <th>8760</th>\n",
       "      <td>352490</td>\n",
       "      <td>Reiss Handicap</td>\n",
       "      <td>2013-09-13 16:45:00</td>\n",
       "      <td>2</td>\n",
       "      <td>0.0</td>\n",
       "      <td>1019.1</td>\n",
       "      <td>11.6</td>\n",
       "      <td>87</td>\n",
       "    </tr>\n",
       "    <tr>\n",
       "      <th>9759</th>\n",
       "      <td>76419</td>\n",
       "      <td>Hen &amp;amp; Stag Packages At Dundalk Stadium Han...</td>\n",
       "      <td>2011-04-30 15:40:00</td>\n",
       "      <td>0</td>\n",
       "      <td>0.0</td>\n",
       "      <td>1012.5</td>\n",
       "      <td>17.9</td>\n",
       "      <td>34</td>\n",
       "    </tr>\n",
       "    <tr>\n",
       "      <th>9902</th>\n",
       "      <td>370434</td>\n",
       "      <td>Roscommon Herald Handicap (Div I)</td>\n",
       "      <td>2011-06-12 14:45:00</td>\n",
       "      <td>6</td>\n",
       "      <td>0.6</td>\n",
       "      <td>1002.6</td>\n",
       "      <td>8.8</td>\n",
       "      <td>93</td>\n",
       "    </tr>\n",
       "    <tr>\n",
       "      <th>12763</th>\n",
       "      <td>179600</td>\n",
       "      <td>Easter Mid-Term Madness at Dundalk Handicap</td>\n",
       "      <td>2014-03-21 19:45:00</td>\n",
       "      <td>0</td>\n",
       "      <td>0.2</td>\n",
       "      <td>992.1</td>\n",
       "      <td>2.2</td>\n",
       "      <td>95</td>\n",
       "    </tr>\n",
       "    <tr>\n",
       "      <th>15252</th>\n",
       "      <td>59988</td>\n",
       "      <td>Who Wants To Be A Millionaire Handicap</td>\n",
       "      <td>2001-08-05 15:05:00</td>\n",
       "      <td>4</td>\n",
       "      <td>0.0</td>\n",
       "      <td>1013.7</td>\n",
       "      <td>16.1</td>\n",
       "      <td>62</td>\n",
       "    </tr>\n",
       "    <tr>\n",
       "      <th>19581</th>\n",
       "      <td>333645</td>\n",
       "      <td>Dunboyne Handicap</td>\n",
       "      <td>1999-04-24 14:25:00</td>\n",
       "      <td>9</td>\n",
       "      <td>0.0</td>\n",
       "      <td>1010.8</td>\n",
       "      <td>13.6</td>\n",
       "      <td>53</td>\n",
       "    </tr>\n",
       "  </tbody>\n",
       "</table>\n",
       "</div>"
      ],
      "text/plain": [
       "          rid                                              title  \\\n",
       "877     51050  Ladies Day At Roscommon On Monday, 9th July, 2...   \n",
       "2198    60007              Kildare Village Ladies Derby Handicap   \n",
       "3275   285815                         Kilsaran Handicap (Div II)   \n",
       "3648   402852     Fundraise At Dundalk Stadium Handicap (Div II)   \n",
       "4271   410367                                 Tipperary Handicap   \n",
       "5361   202150                     Navan Shopping Centre Handicap   \n",
       "6429   185991       Dundalk Stadium On Facebook Handicap (Div I)   \n",
       "7474   380205                 Cunnane Stratton Reynolds Handicap   \n",
       "8760   352490                                     Reiss Handicap   \n",
       "9759    76419  Hen &amp; Stag Packages At Dundalk Stadium Han...   \n",
       "9902   370434                  Roscommon Herald Handicap (Div I)   \n",
       "12763  179600        Easter Mid-Term Madness at Dundalk Handicap   \n",
       "15252   59988             Who Wants To Be A Millionaire Handicap   \n",
       "19581  333645                                  Dunboyne Handicap   \n",
       "\n",
       "                  datetime  ncond  rain     msl  temp  rhum  \n",
       "877    2018-06-11 18:00:00      2   0.0  1020.0  14.4    76  \n",
       "2198   2019-07-20 16:45:00      1   0.0  1010.6  17.1    70  \n",
       "3275   2009-08-29 17:05:00      0   0.0  1017.6  13.8    76  \n",
       "3648   2020-02-21 19:00:00      0   2.0  1003.2   9.9    90  \n",
       "4271   2020-09-14 16:30:00      1   0.0  1015.4  17.2    88  \n",
       "5361   2008-09-26 20:40:00      0   0.0  1032.0  14.2    71  \n",
       "6429   2012-10-05 20:00:00      0   0.1  1008.3   6.1    95  \n",
       "7474   2007-06-22 17:55:00     11   0.0  1009.8  18.1    68  \n",
       "8760   2013-09-13 16:45:00      2   0.0  1019.1  11.6    87  \n",
       "9759   2011-04-30 15:40:00      0   0.0  1012.5  17.9    34  \n",
       "9902   2011-06-12 14:45:00      6   0.6  1002.6   8.8    93  \n",
       "12763  2014-03-21 19:45:00      0   0.2   992.1   2.2    95  \n",
       "15252  2001-08-05 15:05:00      4   0.0  1013.7  16.1    62  \n",
       "19581  1999-04-24 14:25:00      9   0.0  1010.8  13.6    53  "
      ]
     },
     "execution_count": 38,
     "metadata": {},
     "output_type": "execute_result"
    }
   ],
   "source": [
    "longest_shot[longest_shot['1st_place_rank_in_odds'] == 14][['rid', 'title', 'datetime', 'ncond', 'rain', 'msl', 'temp', 'rhum']]"
   ]
  }
 ],
 "metadata": {
  "kernelspec": {
   "display_name": "Python 3 (ipykernel)",
   "language": "python",
   "name": "python3"
  },
  "language_info": {
   "codemirror_mode": {
    "name": "ipython",
    "version": 3
   },
   "file_extension": ".py",
   "mimetype": "text/x-python",
   "name": "python",
   "nbconvert_exporter": "python",
   "pygments_lexer": "ipython3",
   "version": "3.9.6"
  }
 },
 "nbformat": 4,
 "nbformat_minor": 5
}
