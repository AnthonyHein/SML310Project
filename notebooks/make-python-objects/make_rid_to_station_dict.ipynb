{
 "cells": [
  {
   "cell_type": "markdown",
   "id": "58796508",
   "metadata": {},
   "source": [
    "# `make_rid_to_station_dict.ipynb`"
   ]
  },
  {
   "cell_type": "markdown",
   "id": "2f87b0d3",
   "metadata": {},
   "source": [
    "### Author: Anthony Hein"
   ]
  },
  {
   "cell_type": "markdown",
   "id": "c849a5ff",
   "metadata": {},
   "source": [
    "#### Last updated: 10/18/2021"
   ]
  },
  {
   "cell_type": "markdown",
   "id": "af8b11a6",
   "metadata": {},
   "source": [
    "# Overview:\n",
    "\n",
    "At this point we have a dictionary which matches courses to locations (using latitude and longitude) and metadata on all weather stations in Great Britain that have published their data (where this metadata includes open and close dates of the station as well as the latitue and longitude of the station). Therefore, the next step is to match each race to a weather station, where we will select the weather station that is active during the race and nearest to the course that the race is taking place at."
   ]
  },
  {
   "cell_type": "markdown",
   "id": "cd6b1d91",
   "metadata": {},
   "source": [
    "---"
   ]
  },
  {
   "cell_type": "markdown",
   "id": "b051b2cb",
   "metadata": {},
   "source": [
    "## Setup"
   ]
  },
  {
   "cell_type": "code",
   "execution_count": 1,
   "id": "58c3fd18",
   "metadata": {},
   "outputs": [],
   "source": [
    "from datetime import datetime\n",
    "import git\n",
    "import os\n",
    "from typing import List, Union\n",
    "from tqdm import tqdm\n",
    "import pandas as pd\n",
    "import numpy as np\n",
    "import matplotlib.pyplot as plt\n",
    "%matplotlib inline"
   ]
  },
  {
   "cell_type": "code",
   "execution_count": 2,
   "id": "a4040252",
   "metadata": {},
   "outputs": [
    {
     "data": {
      "text/plain": [
       "'/Users/anthonyhein/Desktop/SML310/project'"
      ]
     },
     "execution_count": 2,
     "metadata": {},
     "output_type": "execute_result"
    }
   ],
   "source": [
    "BASE_DIR = git.Repo(os.getcwd(), search_parent_directories=True).working_dir\n",
    "BASE_DIR"
   ]
  },
  {
   "cell_type": "code",
   "execution_count": 3,
   "id": "fbde5f6d",
   "metadata": {},
   "outputs": [],
   "source": [
    "import sys\n",
    "\n",
    "sys.path.append(f'{BASE_DIR}/utils/')\n",
    "\n",
    "from course_and_country_to_location import COURSE_AND_COUNTRY_TO_LOCATION\n",
    "from rid_to_course_and_country import RID_TO_COURSE_AND_COUNTRY"
   ]
  },
  {
   "cell_type": "markdown",
   "id": "846658c0",
   "metadata": {},
   "source": [
    "---"
   ]
  },
  {
   "cell_type": "markdown",
   "id": "96a60381",
   "metadata": {},
   "source": [
    "## Load `horses_aticnmg.csv`"
   ]
  },
  {
   "cell_type": "code",
   "execution_count": 4,
   "id": "5e4eeb2a",
   "metadata": {},
   "outputs": [
    {
     "data": {
      "text/html": [
       "<div>\n",
       "<style scoped>\n",
       "    .dataframe tbody tr th:only-of-type {\n",
       "        vertical-align: middle;\n",
       "    }\n",
       "\n",
       "    .dataframe tbody tr th {\n",
       "        vertical-align: top;\n",
       "    }\n",
       "\n",
       "    .dataframe thead th {\n",
       "        text-align: right;\n",
       "    }\n",
       "</style>\n",
       "<table border=\"1\" class=\"dataframe\">\n",
       "  <thead>\n",
       "    <tr style=\"text-align: right;\">\n",
       "      <th></th>\n",
       "      <th>rid</th>\n",
       "      <th>horseName</th>\n",
       "      <th>age</th>\n",
       "      <th>saddle</th>\n",
       "      <th>decimalPrice</th>\n",
       "      <th>trainerName</th>\n",
       "      <th>jockeyName</th>\n",
       "      <th>position</th>\n",
       "      <th>positionL</th>\n",
       "      <th>dist</th>\n",
       "      <th>outHandicap</th>\n",
       "      <th>RPR</th>\n",
       "      <th>TR</th>\n",
       "      <th>OR</th>\n",
       "      <th>father</th>\n",
       "      <th>mother</th>\n",
       "      <th>gfather</th>\n",
       "      <th>weight</th>\n",
       "    </tr>\n",
       "  </thead>\n",
       "  <tbody>\n",
       "    <tr>\n",
       "      <th>0</th>\n",
       "      <td>267255</td>\n",
       "      <td>Going For Broke</td>\n",
       "      <td>3.0</td>\n",
       "      <td>4.0</td>\n",
       "      <td>0.100000</td>\n",
       "      <td>P C Haslam</td>\n",
       "      <td>Seb Sanders</td>\n",
       "      <td>1</td>\n",
       "      <td>NaN</td>\n",
       "      <td>0.0</td>\n",
       "      <td>0.0</td>\n",
       "      <td>72.0</td>\n",
       "      <td>62.0</td>\n",
       "      <td>62.0</td>\n",
       "      <td>Simply Great</td>\n",
       "      <td>Empty Purse</td>\n",
       "      <td>Pennine Walk</td>\n",
       "      <td>58</td>\n",
       "    </tr>\n",
       "    <tr>\n",
       "      <th>1</th>\n",
       "      <td>267255</td>\n",
       "      <td>Pinchincha</td>\n",
       "      <td>3.0</td>\n",
       "      <td>3.0</td>\n",
       "      <td>0.266667</td>\n",
       "      <td>Dave Morris</td>\n",
       "      <td>Tony Clark</td>\n",
       "      <td>2</td>\n",
       "      <td>4</td>\n",
       "      <td>0.0</td>\n",
       "      <td>0.0</td>\n",
       "      <td>66.0</td>\n",
       "      <td>56.0</td>\n",
       "      <td>65.0</td>\n",
       "      <td>Priolo</td>\n",
       "      <td>Western Heights</td>\n",
       "      <td>Shirley Heights</td>\n",
       "      <td>60</td>\n",
       "    </tr>\n",
       "    <tr>\n",
       "      <th>2</th>\n",
       "      <td>267255</td>\n",
       "      <td>Skelton Sovereign</td>\n",
       "      <td>3.0</td>\n",
       "      <td>5.0</td>\n",
       "      <td>0.142857</td>\n",
       "      <td>Reg Hollinshead</td>\n",
       "      <td>D Griffiths</td>\n",
       "      <td>3</td>\n",
       "      <td>3</td>\n",
       "      <td>7.0</td>\n",
       "      <td>0.0</td>\n",
       "      <td>55.0</td>\n",
       "      <td>40.0</td>\n",
       "      <td>60.0</td>\n",
       "      <td>Contract Law</td>\n",
       "      <td>Mrs Lucky</td>\n",
       "      <td>Royal Match</td>\n",
       "      <td>55</td>\n",
       "    </tr>\n",
       "    <tr>\n",
       "      <th>3</th>\n",
       "      <td>267255</td>\n",
       "      <td>Fast Spin</td>\n",
       "      <td>3.0</td>\n",
       "      <td>6.0</td>\n",
       "      <td>0.380952</td>\n",
       "      <td>David Barron</td>\n",
       "      <td>Tony Culhane</td>\n",
       "      <td>4</td>\n",
       "      <td>7</td>\n",
       "      <td>14.0</td>\n",
       "      <td>0.0</td>\n",
       "      <td>38.0</td>\n",
       "      <td>30.0</td>\n",
       "      <td>59.0</td>\n",
       "      <td>Formidable I</td>\n",
       "      <td>Topwinder</td>\n",
       "      <td>Topsider</td>\n",
       "      <td>57</td>\n",
       "    </tr>\n",
       "    <tr>\n",
       "      <th>4</th>\n",
       "      <td>267255</td>\n",
       "      <td>As-Is</td>\n",
       "      <td>3.0</td>\n",
       "      <td>2.0</td>\n",
       "      <td>0.166667</td>\n",
       "      <td>Mark Johnston</td>\n",
       "      <td>J Weaver</td>\n",
       "      <td>5</td>\n",
       "      <td>7</td>\n",
       "      <td>21.0</td>\n",
       "      <td>0.0</td>\n",
       "      <td>29.0</td>\n",
       "      <td>21.0</td>\n",
       "      <td>65.0</td>\n",
       "      <td>Lomond</td>\n",
       "      <td>Capriati I</td>\n",
       "      <td>Diesis</td>\n",
       "      <td>60</td>\n",
       "    </tr>\n",
       "  </tbody>\n",
       "</table>\n",
       "</div>"
      ],
      "text/plain": [
       "      rid          horseName  age  saddle  decimalPrice      trainerName  \\\n",
       "0  267255    Going For Broke  3.0     4.0      0.100000       P C Haslam   \n",
       "1  267255         Pinchincha  3.0     3.0      0.266667      Dave Morris   \n",
       "2  267255  Skelton Sovereign  3.0     5.0      0.142857  Reg Hollinshead   \n",
       "3  267255          Fast Spin  3.0     6.0      0.380952     David Barron   \n",
       "4  267255              As-Is  3.0     2.0      0.166667    Mark Johnston   \n",
       "\n",
       "     jockeyName  position positionL  dist  outHandicap   RPR    TR    OR  \\\n",
       "0   Seb Sanders         1       NaN   0.0          0.0  72.0  62.0  62.0   \n",
       "1    Tony Clark         2         4   0.0          0.0  66.0  56.0  65.0   \n",
       "2   D Griffiths         3         3   7.0          0.0  55.0  40.0  60.0   \n",
       "3  Tony Culhane         4         7  14.0          0.0  38.0  30.0  59.0   \n",
       "4      J Weaver         5         7  21.0          0.0  29.0  21.0  65.0   \n",
       "\n",
       "         father           mother          gfather  weight  \n",
       "0  Simply Great      Empty Purse     Pennine Walk      58  \n",
       "1        Priolo  Western Heights  Shirley Heights      60  \n",
       "2  Contract Law        Mrs Lucky      Royal Match      55  \n",
       "3  Formidable I        Topwinder         Topsider      57  \n",
       "4        Lomond       Capriati I           Diesis      60  "
      ]
     },
     "execution_count": 4,
     "metadata": {},
     "output_type": "execute_result"
    }
   ],
   "source": [
    "horses_aticnmg = pd.read_csv(f\"{BASE_DIR}/data/csv/horses_aticnmg.csv\", low_memory=False) \n",
    "horses_aticnmg.head()"
   ]
  },
  {
   "cell_type": "code",
   "execution_count": 5,
   "id": "8d2d4f74",
   "metadata": {},
   "outputs": [
    {
     "data": {
      "text/plain": [
       "(1146202, 18)"
      ]
     },
     "execution_count": 5,
     "metadata": {},
     "output_type": "execute_result"
    }
   ],
   "source": [
    "horses_aticnmg.shape"
   ]
  },
  {
   "cell_type": "markdown",
   "id": "cef79ad9",
   "metadata": {},
   "source": [
    "---"
   ]
  },
  {
   "cell_type": "markdown",
   "id": "5f4b23bd",
   "metadata": {},
   "source": [
    "## Load `races_aticnmg.csv`"
   ]
  },
  {
   "cell_type": "code",
   "execution_count": 6,
   "id": "30fdd91b",
   "metadata": {},
   "outputs": [
    {
     "data": {
      "text/html": [
       "<div>\n",
       "<style scoped>\n",
       "    .dataframe tbody tr th:only-of-type {\n",
       "        vertical-align: middle;\n",
       "    }\n",
       "\n",
       "    .dataframe tbody tr th {\n",
       "        vertical-align: top;\n",
       "    }\n",
       "\n",
       "    .dataframe thead th {\n",
       "        text-align: right;\n",
       "    }\n",
       "</style>\n",
       "<table border=\"1\" class=\"dataframe\">\n",
       "  <thead>\n",
       "    <tr style=\"text-align: right;\">\n",
       "      <th></th>\n",
       "      <th>rid</th>\n",
       "      <th>course</th>\n",
       "      <th>time</th>\n",
       "      <th>date</th>\n",
       "      <th>hurdles</th>\n",
       "      <th>prizes</th>\n",
       "      <th>winningTime</th>\n",
       "      <th>metric</th>\n",
       "      <th>countryCode</th>\n",
       "      <th>ncond</th>\n",
       "      <th>class</th>\n",
       "    </tr>\n",
       "  </thead>\n",
       "  <tbody>\n",
       "    <tr>\n",
       "      <th>0</th>\n",
       "      <td>267255</td>\n",
       "      <td>Southwell (AW)</td>\n",
       "      <td>03:40</td>\n",
       "      <td>97/01/01</td>\n",
       "      <td>NaN</td>\n",
       "      <td>[2752.25, 833.0, 406.5, 193.25]</td>\n",
       "      <td>106.9</td>\n",
       "      <td>1609.0</td>\n",
       "      <td>GB</td>\n",
       "      <td>0</td>\n",
       "      <td>5</td>\n",
       "    </tr>\n",
       "    <tr>\n",
       "      <th>1</th>\n",
       "      <td>297570</td>\n",
       "      <td>Southwell (AW)</td>\n",
       "      <td>12:35</td>\n",
       "      <td>97/01/01</td>\n",
       "      <td>NaN</td>\n",
       "      <td>[1944.0, 544.0, 264.0]</td>\n",
       "      <td>91.0</td>\n",
       "      <td>1407.0</td>\n",
       "      <td>GB</td>\n",
       "      <td>0</td>\n",
       "      <td>6</td>\n",
       "    </tr>\n",
       "    <tr>\n",
       "      <th>2</th>\n",
       "      <td>334421</td>\n",
       "      <td>Southwell (AW)</td>\n",
       "      <td>01:05</td>\n",
       "      <td>97/01/01</td>\n",
       "      <td>NaN</td>\n",
       "      <td>[2502.0, 702.0, 342.0]</td>\n",
       "      <td>150.7</td>\n",
       "      <td>2212.0</td>\n",
       "      <td>GB</td>\n",
       "      <td>0</td>\n",
       "      <td>6</td>\n",
       "    </tr>\n",
       "    <tr>\n",
       "      <th>3</th>\n",
       "      <td>366304</td>\n",
       "      <td>Southwell (AW)</td>\n",
       "      <td>03:10</td>\n",
       "      <td>97/01/01</td>\n",
       "      <td>NaN</td>\n",
       "      <td>[2189.0, 614.0, 299.0]</td>\n",
       "      <td>108.6</td>\n",
       "      <td>1609.0</td>\n",
       "      <td>GB</td>\n",
       "      <td>0</td>\n",
       "      <td>6</td>\n",
       "    </tr>\n",
       "    <tr>\n",
       "      <th>4</th>\n",
       "      <td>13063</td>\n",
       "      <td>Southwell (AW)</td>\n",
       "      <td>02:40</td>\n",
       "      <td>97/01/01</td>\n",
       "      <td>NaN</td>\n",
       "      <td>[2726.25, 825.0, 402.5, 191.25]</td>\n",
       "      <td>231.4</td>\n",
       "      <td>3318.5</td>\n",
       "      <td>GB</td>\n",
       "      <td>0</td>\n",
       "      <td>5</td>\n",
       "    </tr>\n",
       "  </tbody>\n",
       "</table>\n",
       "</div>"
      ],
      "text/plain": [
       "      rid          course   time      date  hurdles  \\\n",
       "0  267255  Southwell (AW)  03:40  97/01/01      NaN   \n",
       "1  297570  Southwell (AW)  12:35  97/01/01      NaN   \n",
       "2  334421  Southwell (AW)  01:05  97/01/01      NaN   \n",
       "3  366304  Southwell (AW)  03:10  97/01/01      NaN   \n",
       "4   13063  Southwell (AW)  02:40  97/01/01      NaN   \n",
       "\n",
       "                            prizes  winningTime  metric countryCode ncond  \\\n",
       "0  [2752.25, 833.0, 406.5, 193.25]        106.9  1609.0          GB     0   \n",
       "1           [1944.0, 544.0, 264.0]         91.0  1407.0          GB     0   \n",
       "2           [2502.0, 702.0, 342.0]        150.7  2212.0          GB     0   \n",
       "3           [2189.0, 614.0, 299.0]        108.6  1609.0          GB     0   \n",
       "4  [2726.25, 825.0, 402.5, 191.25]        231.4  3318.5          GB     0   \n",
       "\n",
       "   class  \n",
       "0      5  \n",
       "1      6  \n",
       "2      6  \n",
       "3      6  \n",
       "4      5  "
      ]
     },
     "execution_count": 6,
     "metadata": {},
     "output_type": "execute_result"
    }
   ],
   "source": [
    "races_aticnmg = pd.read_csv(f\"{BASE_DIR}/data/csv/races_aticnmg.csv\", low_memory=False) \n",
    "races_aticnmg.head()"
   ]
  },
  {
   "cell_type": "code",
   "execution_count": 7,
   "id": "dd2911c2",
   "metadata": {},
   "outputs": [
    {
     "data": {
      "text/plain": [
       "(123972, 11)"
      ]
     },
     "execution_count": 7,
     "metadata": {},
     "output_type": "execute_result"
    }
   ],
   "source": [
    "races_aticnmg.shape"
   ]
  },
  {
   "cell_type": "markdown",
   "id": "f9109550",
   "metadata": {},
   "source": [
    "---"
   ]
  },
  {
   "cell_type": "markdown",
   "id": "6ff2aeef",
   "metadata": {},
   "source": [
    "## Load `stations_metadata.csv`"
   ]
  },
  {
   "cell_type": "markdown",
   "id": "a5b92c7c",
   "metadata": {},
   "source": [
    "Dataset was obtained at [https://archive.ceda.ac.uk/cgi-bin/midas_stations/search_by_name.cgi.py?name=&opendata=y&minyear=&maxyear=](https://archive.ceda.ac.uk/cgi-bin/midas_stations/search_by_name.cgi.py?name=&opendata=y&minyear=&maxyear=). This was accomplished by copy-pasting the HTML table into a file, replacing the tabs with commas, and changing instances of `Current` to `2022-01-01` (note that the horse race data we are using does not go to 2022 so this suffices for our purposes). These measures had to be taken because when I tried downloading it or pasting it into Excel, it kept formatting the dates in an undesirable format that made them difficult to parse."
   ]
  },
  {
   "cell_type": "code",
   "execution_count": 8,
   "id": "f4598490",
   "metadata": {},
   "outputs": [
    {
     "data": {
      "text/html": [
       "<div>\n",
       "<style scoped>\n",
       "    .dataframe tbody tr th:only-of-type {\n",
       "        vertical-align: middle;\n",
       "    }\n",
       "\n",
       "    .dataframe tbody tr th {\n",
       "        vertical-align: top;\n",
       "    }\n",
       "\n",
       "    .dataframe thead th {\n",
       "        text-align: right;\n",
       "    }\n",
       "</style>\n",
       "<table border=\"1\" class=\"dataframe\">\n",
       "  <thead>\n",
       "    <tr style=\"text-align: right;\">\n",
       "      <th></th>\n",
       "      <th>src_id</th>\n",
       "      <th>Station name</th>\n",
       "      <th>Area</th>\n",
       "      <th>Area type</th>\n",
       "      <th>Station start date</th>\n",
       "      <th>Station end date</th>\n",
       "      <th>Latitude</th>\n",
       "      <th>Longitude</th>\n",
       "      <th>Postcode</th>\n",
       "      <th>Open datasets available</th>\n",
       "    </tr>\n",
       "  </thead>\n",
       "  <tbody>\n",
       "    <tr>\n",
       "      <th>0</th>\n",
       "      <td>13638</td>\n",
       "      <td>GLASGOW: OLD OBSERVATORY</td>\n",
       "      <td>LANARKSHIRE</td>\n",
       "      <td>COUNTY</td>\n",
       "      <td>1857-01-01</td>\n",
       "      <td>1921-12-31</td>\n",
       "      <td>55.8775</td>\n",
       "      <td>-4.29406</td>\n",
       "      <td>G12 9</td>\n",
       "      <td>DT</td>\n",
       "    </tr>\n",
       "    <tr>\n",
       "      <th>1</th>\n",
       "      <td>16831</td>\n",
       "      <td>COLWYN BAY: COUNCIL OFFICES</td>\n",
       "      <td>CLWYD</td>\n",
       "      <td>COUNTY</td>\n",
       "      <td>1904-01-01</td>\n",
       "      <td>1929-12-31</td>\n",
       "      <td>53.2951</td>\n",
       "      <td>-3.72863</td>\n",
       "      <td>LL29 7</td>\n",
       "      <td>DR DT DW HR HW ST</td>\n",
       "    </tr>\n",
       "    <tr>\n",
       "      <th>2</th>\n",
       "      <td>8401</td>\n",
       "      <td>TORQUAY: CARY GREEN</td>\n",
       "      <td>DEVON</td>\n",
       "      <td>COUNTY</td>\n",
       "      <td>1892-01-01</td>\n",
       "      <td>1930-12-31</td>\n",
       "      <td>50.4607</td>\n",
       "      <td>-3.52456</td>\n",
       "      <td>TQ2 5</td>\n",
       "      <td>DR DT DW HR HW ST</td>\n",
       "    </tr>\n",
       "    <tr>\n",
       "      <th>3</th>\n",
       "      <td>10654</td>\n",
       "      <td>ROSS-ON-WYE: CRAIG</td>\n",
       "      <td>HEREFORD &amp; WORCESTER</td>\n",
       "      <td>COUNTY</td>\n",
       "      <td>1859-01-01</td>\n",
       "      <td>1943-12-31</td>\n",
       "      <td>51.9162</td>\n",
       "      <td>-2.58309</td>\n",
       "      <td>HR9 7</td>\n",
       "      <td>DR DT DW</td>\n",
       "    </tr>\n",
       "    <tr>\n",
       "      <th>4</th>\n",
       "      <td>16789</td>\n",
       "      <td>MOUNT WISE MET OFFICE</td>\n",
       "      <td>DEVON</td>\n",
       "      <td>COUNTY</td>\n",
       "      <td>1946-01-01</td>\n",
       "      <td>1948-12-31</td>\n",
       "      <td>50.3651</td>\n",
       "      <td>-4.16698</td>\n",
       "      <td>PL1 4</td>\n",
       "      <td>DT DW HR</td>\n",
       "    </tr>\n",
       "  </tbody>\n",
       "</table>\n",
       "</div>"
      ],
      "text/plain": [
       "   src_id                 Station name                  Area Area type  \\\n",
       "0   13638     GLASGOW: OLD OBSERVATORY           LANARKSHIRE    COUNTY   \n",
       "1   16831  COLWYN BAY: COUNCIL OFFICES                 CLWYD    COUNTY   \n",
       "2    8401          TORQUAY: CARY GREEN                 DEVON    COUNTY   \n",
       "3   10654           ROSS-ON-WYE: CRAIG  HEREFORD & WORCESTER    COUNTY   \n",
       "4   16789        MOUNT WISE MET OFFICE                 DEVON    COUNTY   \n",
       "\n",
       "  Station start date Station end date  Latitude  Longitude Postcode  \\\n",
       "0         1857-01-01       1921-12-31   55.8775   -4.29406    G12 9   \n",
       "1         1904-01-01       1929-12-31   53.2951   -3.72863   LL29 7   \n",
       "2         1892-01-01       1930-12-31   50.4607   -3.52456    TQ2 5   \n",
       "3         1859-01-01       1943-12-31   51.9162   -2.58309    HR9 7   \n",
       "4         1946-01-01       1948-12-31   50.3651   -4.16698    PL1 4   \n",
       "\n",
       "  Open datasets available  \n",
       "0                      DT  \n",
       "1       DR DT DW HR HW ST  \n",
       "2       DR DT DW HR HW ST  \n",
       "3                DR DT DW  \n",
       "4                DT DW HR  "
      ]
     },
     "execution_count": 8,
     "metadata": {},
     "output_type": "execute_result"
    }
   ],
   "source": [
    "stations_metadata = pd.read_csv(f\"{BASE_DIR}/data/csv/stations_metadata.csv\", low_memory=False) \n",
    "stations_metadata.head()"
   ]
  },
  {
   "cell_type": "code",
   "execution_count": 9,
   "id": "cf9f52b5",
   "metadata": {},
   "outputs": [
    {
     "data": {
      "text/plain": [
       "(1692, 10)"
      ]
     },
     "execution_count": 9,
     "metadata": {},
     "output_type": "execute_result"
    }
   ],
   "source": [
    "stations_metadata.shape"
   ]
  },
  {
   "cell_type": "markdown",
   "id": "23aa4bc8",
   "metadata": {},
   "source": [
    "---"
   ]
  },
  {
   "cell_type": "markdown",
   "id": "f971d527",
   "metadata": {},
   "source": [
    "## Get Entries w/ Hourly Rainfall and Weather"
   ]
  },
  {
   "cell_type": "code",
   "execution_count": 10,
   "id": "607d70d3",
   "metadata": {},
   "outputs": [
    {
     "data": {
      "text/html": [
       "<div>\n",
       "<style scoped>\n",
       "    .dataframe tbody tr th:only-of-type {\n",
       "        vertical-align: middle;\n",
       "    }\n",
       "\n",
       "    .dataframe tbody tr th {\n",
       "        vertical-align: top;\n",
       "    }\n",
       "\n",
       "    .dataframe thead th {\n",
       "        text-align: right;\n",
       "    }\n",
       "</style>\n",
       "<table border=\"1\" class=\"dataframe\">\n",
       "  <thead>\n",
       "    <tr style=\"text-align: right;\">\n",
       "      <th></th>\n",
       "      <th>src_id</th>\n",
       "      <th>Station name</th>\n",
       "      <th>Area</th>\n",
       "      <th>Area type</th>\n",
       "      <th>Station start date</th>\n",
       "      <th>Station end date</th>\n",
       "      <th>Latitude</th>\n",
       "      <th>Longitude</th>\n",
       "      <th>Postcode</th>\n",
       "      <th>Open datasets available</th>\n",
       "    </tr>\n",
       "  </thead>\n",
       "  <tbody>\n",
       "    <tr>\n",
       "      <th>1</th>\n",
       "      <td>16831</td>\n",
       "      <td>COLWYN BAY: COUNCIL OFFICES</td>\n",
       "      <td>CLWYD</td>\n",
       "      <td>COUNTY</td>\n",
       "      <td>1904-01-01</td>\n",
       "      <td>1929-12-31</td>\n",
       "      <td>53.2951</td>\n",
       "      <td>-3.72863</td>\n",
       "      <td>LL29 7</td>\n",
       "      <td>DR DT DW HR HW ST</td>\n",
       "    </tr>\n",
       "    <tr>\n",
       "      <th>2</th>\n",
       "      <td>8401</td>\n",
       "      <td>TORQUAY: CARY GREEN</td>\n",
       "      <td>DEVON</td>\n",
       "      <td>COUNTY</td>\n",
       "      <td>1892-01-01</td>\n",
       "      <td>1930-12-31</td>\n",
       "      <td>50.4607</td>\n",
       "      <td>-3.52456</td>\n",
       "      <td>TQ2 5</td>\n",
       "      <td>DR DT DW HR HW ST</td>\n",
       "    </tr>\n",
       "    <tr>\n",
       "      <th>6</th>\n",
       "      <td>11169</td>\n",
       "      <td>TENBY: PRIORY</td>\n",
       "      <td>DYFED</td>\n",
       "      <td>COUNTY</td>\n",
       "      <td>1914-01-01</td>\n",
       "      <td>1957-12-31</td>\n",
       "      <td>51.6709</td>\n",
       "      <td>-4.69741</td>\n",
       "      <td>SA70 7</td>\n",
       "      <td>DR DT DW HR HW</td>\n",
       "    </tr>\n",
       "    <tr>\n",
       "      <th>35</th>\n",
       "      <td>1312</td>\n",
       "      <td>BATH</td>\n",
       "      <td>AVON</td>\n",
       "      <td>COUNTY</td>\n",
       "      <td>1899-01-01</td>\n",
       "      <td>1963-03-31</td>\n",
       "      <td>51.3857</td>\n",
       "      <td>-2.35355</td>\n",
       "      <td>BA2 6</td>\n",
       "      <td>DR DT DW HR HW ST</td>\n",
       "    </tr>\n",
       "    <tr>\n",
       "      <th>42</th>\n",
       "      <td>783</td>\n",
       "      <td>TANGMERE</td>\n",
       "      <td>WEST SUSSEX</td>\n",
       "      <td>COUNTY</td>\n",
       "      <td>1944-01-01</td>\n",
       "      <td>1963-12-31</td>\n",
       "      <td>50.8494</td>\n",
       "      <td>-0.70576</td>\n",
       "      <td>PO20 6</td>\n",
       "      <td>HR HW</td>\n",
       "    </tr>\n",
       "    <tr>\n",
       "      <th>...</th>\n",
       "      <td>...</td>\n",
       "      <td>...</td>\n",
       "      <td>...</td>\n",
       "      <td>...</td>\n",
       "      <td>...</td>\n",
       "      <td>...</td>\n",
       "      <td>...</td>\n",
       "      <td>...</td>\n",
       "      <td>...</td>\n",
       "      <td>...</td>\n",
       "    </tr>\n",
       "    <tr>\n",
       "      <th>1680</th>\n",
       "      <td>1530</td>\n",
       "      <td>ARMAGH</td>\n",
       "      <td>ARMAGH</td>\n",
       "      <td>COUNTY</td>\n",
       "      <td>1836-01-01</td>\n",
       "      <td>2022-01-01</td>\n",
       "      <td>54.3523</td>\n",
       "      <td>-6.64866</td>\n",
       "      <td>BT61 7</td>\n",
       "      <td>DR DT DW HR HW MW ST</td>\n",
       "    </tr>\n",
       "    <tr>\n",
       "      <th>1685</th>\n",
       "      <td>10268</td>\n",
       "      <td>WINCHCOMBE: SUDELEY CASTLE</td>\n",
       "      <td>GLOUCESTERSHIRE</td>\n",
       "      <td>COUNTY</td>\n",
       "      <td>1922-01-01</td>\n",
       "      <td>2022-01-01</td>\n",
       "      <td>51.9475</td>\n",
       "      <td>-1.95271</td>\n",
       "      <td>GL54 5</td>\n",
       "      <td>DR DT DW HR HW</td>\n",
       "    </tr>\n",
       "    <tr>\n",
       "      <th>1688</th>\n",
       "      <td>56486</td>\n",
       "      <td>MONA</td>\n",
       "      <td>ISLE OF ANGLESEY</td>\n",
       "      <td>COUNTY</td>\n",
       "      <td>2009-10-14</td>\n",
       "      <td>2022-01-01</td>\n",
       "      <td>53.2603</td>\n",
       "      <td>-4.37482</td>\n",
       "      <td>LL77 7</td>\n",
       "      <td>DT DW HR HW MW ST</td>\n",
       "    </tr>\n",
       "    <tr>\n",
       "      <th>1690</th>\n",
       "      <td>1543</td>\n",
       "      <td>CASTLEDERG</td>\n",
       "      <td>TYRONE</td>\n",
       "      <td>COUNTY</td>\n",
       "      <td>1963-01-01</td>\n",
       "      <td>2022-01-01</td>\n",
       "      <td>54.7070</td>\n",
       "      <td>-7.57668</td>\n",
       "      <td>BT81 7</td>\n",
       "      <td>DR DT DW HR HW MW RA ST</td>\n",
       "    </tr>\n",
       "    <tr>\n",
       "      <th>1691</th>\n",
       "      <td>19211</td>\n",
       "      <td>HARRIS: QUIDNISH</td>\n",
       "      <td>WESTERN ISLES</td>\n",
       "      <td>SCOTTISH REGION</td>\n",
       "      <td>1997-09-01</td>\n",
       "      <td>2022-01-01</td>\n",
       "      <td>57.7803</td>\n",
       "      <td>-6.89629</td>\n",
       "      <td>HS3 3</td>\n",
       "      <td>DR DT DW HR HW RA ST</td>\n",
       "    </tr>\n",
       "  </tbody>\n",
       "</table>\n",
       "<p>458 rows × 10 columns</p>\n",
       "</div>"
      ],
      "text/plain": [
       "      src_id                 Station name              Area        Area type  \\\n",
       "1      16831  COLWYN BAY: COUNCIL OFFICES             CLWYD           COUNTY   \n",
       "2       8401          TORQUAY: CARY GREEN             DEVON           COUNTY   \n",
       "6      11169                TENBY: PRIORY             DYFED           COUNTY   \n",
       "35      1312                         BATH              AVON           COUNTY   \n",
       "42       783                     TANGMERE       WEST SUSSEX           COUNTY   \n",
       "...      ...                          ...               ...              ...   \n",
       "1680    1530                       ARMAGH            ARMAGH           COUNTY   \n",
       "1685   10268   WINCHCOMBE: SUDELEY CASTLE   GLOUCESTERSHIRE           COUNTY   \n",
       "1688   56486                         MONA  ISLE OF ANGLESEY           COUNTY   \n",
       "1690    1543                   CASTLEDERG            TYRONE           COUNTY   \n",
       "1691   19211             HARRIS: QUIDNISH     WESTERN ISLES  SCOTTISH REGION   \n",
       "\n",
       "     Station start date Station end date  Latitude  Longitude Postcode  \\\n",
       "1            1904-01-01       1929-12-31   53.2951   -3.72863   LL29 7   \n",
       "2            1892-01-01       1930-12-31   50.4607   -3.52456    TQ2 5   \n",
       "6            1914-01-01       1957-12-31   51.6709   -4.69741   SA70 7   \n",
       "35           1899-01-01       1963-03-31   51.3857   -2.35355    BA2 6   \n",
       "42           1944-01-01       1963-12-31   50.8494   -0.70576   PO20 6   \n",
       "...                 ...              ...       ...        ...      ...   \n",
       "1680         1836-01-01       2022-01-01   54.3523   -6.64866   BT61 7   \n",
       "1685         1922-01-01       2022-01-01   51.9475   -1.95271   GL54 5   \n",
       "1688         2009-10-14       2022-01-01   53.2603   -4.37482   LL77 7   \n",
       "1690         1963-01-01       2022-01-01   54.7070   -7.57668   BT81 7   \n",
       "1691         1997-09-01       2022-01-01   57.7803   -6.89629    HS3 3   \n",
       "\n",
       "      Open datasets available  \n",
       "1           DR DT DW HR HW ST  \n",
       "2           DR DT DW HR HW ST  \n",
       "6              DR DT DW HR HW  \n",
       "35          DR DT DW HR HW ST  \n",
       "42                      HR HW  \n",
       "...                       ...  \n",
       "1680     DR DT DW HR HW MW ST  \n",
       "1685           DR DT DW HR HW  \n",
       "1688        DT DW HR HW MW ST  \n",
       "1690  DR DT DW HR HW MW RA ST  \n",
       "1691     DR DT DW HR HW RA ST  \n",
       "\n",
       "[458 rows x 10 columns]"
      ]
     },
     "execution_count": 10,
     "metadata": {},
     "output_type": "execute_result"
    }
   ],
   "source": [
    "entries_w_hourly_rainfall_and_weather = stations_metadata[\n",
    "    stations_metadata['Open datasets available'].map(lambda x: \"HW\" in x and \"HR\" in x)\n",
    "]\n",
    "entries_w_hourly_rainfall_and_weather"
   ]
  },
  {
   "cell_type": "code",
   "execution_count": 11,
   "id": "f506f275",
   "metadata": {},
   "outputs": [],
   "source": [
    "stations_metadata = entries_w_hourly_rainfall_and_weather"
   ]
  },
  {
   "cell_type": "markdown",
   "id": "d2eb765c",
   "metadata": {},
   "source": [
    "---"
   ]
  },
  {
   "cell_type": "markdown",
   "id": "082f82d6",
   "metadata": {},
   "source": [
    "## Date Helper Functions"
   ]
  },
  {
   "cell_type": "code",
   "execution_count": 12,
   "id": "d9b076e4",
   "metadata": {},
   "outputs": [],
   "source": [
    "def get_date_from_race_data(date: str) -> datetime:\n",
    "    # the strip here is a hack until we can fix elsewhere, similarly the prepend with 0\n",
    "    date = date.rstrip(' 00:00')\n",
    "    date = '0' + date if date[1] == '/' else date\n",
    "    return datetime.strptime(date, '%y/%m/%d')"
   ]
  },
  {
   "cell_type": "code",
   "execution_count": 13,
   "id": "1e62d9d6",
   "metadata": {},
   "outputs": [],
   "source": [
    "def get_date_from_stations_metadata(date: str) -> datetime:\n",
    "    return datetime.strptime(date, '%Y-%m-%d')"
   ]
  },
  {
   "cell_type": "code",
   "execution_count": 14,
   "id": "34a8930c",
   "metadata": {},
   "outputs": [],
   "source": [
    "def get_open_stations(df: pd.core.frame.DataFrame, race_date: datetime) -> List[bool]:\n",
    "    return [\n",
    "        (get_date_from_stations_metadata(row['Station start date']) < race_date) and \\\n",
    "        (get_date_from_stations_metadata(row['Station end date']) > race_date)\n",
    "        for _, row\n",
    "        in df.iterrows()\n",
    "    ]"
   ]
  },
  {
   "cell_type": "code",
   "execution_count": 15,
   "id": "e7de57cf",
   "metadata": {},
   "outputs": [],
   "source": [
    "def station_is_open(row: pd.core.frame.DataFrame, race_date: datetime) -> bool:\n",
    "    return (get_date_from_stations_metadata(row['Station start date']) < race_date) and \\\n",
    "           (get_date_from_stations_metadata(row['Station end date']) > race_date)"
   ]
  },
  {
   "cell_type": "markdown",
   "id": "ec3263c2",
   "metadata": {},
   "source": [
    "---"
   ]
  },
  {
   "cell_type": "markdown",
   "id": "a100bd7e",
   "metadata": {},
   "source": [
    "## Distance Helper Functions"
   ]
  },
  {
   "cell_type": "markdown",
   "id": "fbdc882e",
   "metadata": {},
   "source": [
    "**Note**: The precise distance between two points specified by `(latitude, longitude)` coordinates cannot be computed by the Euclidean distance formula, as this would instead calculate the distance if you drilled a wire into Earth (and ignored the curvature of Earth). However, for points which are near to each other (and not across the world), this is a fair approximation. Additionally, the precise formula, give here [https://stackoverflow.com/questions/28994289/calculate-euclidean-distance-with-google-maps-coordinates#:~:text=You%20can%2C%20but%20not%20by,from%20a%20degree%20of%20latitude.](https://stackoverflow.com/questions/28994289/calculate-euclidean-distance-with-google-maps-coordinates#:~:text=You%20can%2C%20but%20not%20by,from%20a%20degree%20of%20latitude.) (among other sources) involves a calculation with cosine, which is more computationally expensive. Furthermore, we find it unlikely that there are several stations approximately equidistant from a given track. For all these reasons, we will just use the Euclidean distance for this decision."
   ]
  },
  {
   "cell_type": "code",
   "execution_count": 16,
   "id": "60007844",
   "metadata": {},
   "outputs": [],
   "source": [
    "def get_distance_to_station(df: pd.core.frame.DataFrame, track_lat: float, track_lng: float) -> float:\n",
    "    champion_station_name = ''\n",
    "    champion_area = ''\n",
    "    champion_distance = np.inf\n",
    "    \n",
    "    for _, row in df.iterrows():\n",
    "        dist = (row['Latitude'] - track_lat) ** 2 + (row['Longitude'] - track_lng) ** 2\n",
    "        \n",
    "        if dist < champion_distance:\n",
    "            champion_station_name = row['Station name']\n",
    "            champion_area = row['Area']\n",
    "            champion_distance = dist\n",
    "            \n",
    "    return (champion_station_name, champion_area)"
   ]
  },
  {
   "cell_type": "markdown",
   "id": "ffe2d698",
   "metadata": {},
   "source": [
    "---"
   ]
  },
  {
   "cell_type": "markdown",
   "id": "08a6caaf",
   "metadata": {},
   "source": [
    "## Make `rid` to Station Dict (Attempt 1)"
   ]
  },
  {
   "cell_type": "markdown",
   "id": "98fcbbcd",
   "metadata": {},
   "source": [
    "As far as I can tell, this should work fine but it is too slow for our purposes."
   ]
  },
  {
   "cell_type": "code",
   "execution_count": 17,
   "id": "d7b4d9e1",
   "metadata": {},
   "outputs": [],
   "source": [
    "# d = {}\n",
    "\n",
    "# for idx, row in tqdm(races_aticnmg.iterrows()):\n",
    "    \n",
    "#     race_date = get_date_from_race_data(row['date'])\n",
    "    \n",
    "#     # first, filter all stations that are closed when this race occurs\n",
    "#     flter_lst = stations_metadata[get_open_stations(stations_metadata, race_date)]\n",
    "    \n",
    "#     if len(flter_lst) == 0:\n",
    "#         print(idx, row)\n",
    "#         continue\n",
    "    \n",
    "#     # second, find the station with the nearest distance\n",
    "#     location = COURSE_AND_COUNTRY_TO_LOCATION[(row['course'], row['countryCode'])]\n",
    "#     station_name, area = get_distance_to_station(flter_lst, location['lat'], location['lng'])\n",
    "    \n",
    "#     d[row['rid']] = (station_name, area)"
   ]
  },
  {
   "cell_type": "markdown",
   "id": "0c6d4284",
   "metadata": {},
   "source": [
    "---"
   ]
  },
  {
   "cell_type": "markdown",
   "id": "88471503",
   "metadata": {},
   "source": [
    "## Make `rid` to Station Dict (Attempt 2)"
   ]
  },
  {
   "cell_type": "markdown",
   "id": "6b7a61d1",
   "metadata": {},
   "source": [
    "A second attempt instead precomputes lengths to different stations for easy lookup. That is, we will make a dictionary from each `(course, countryCode)` pair to an ordered list of `(Station name, Area)` pairs and associated distances, where distances are in increasing order."
   ]
  },
  {
   "cell_type": "code",
   "execution_count": 18,
   "id": "8ea2f5fa",
   "metadata": {},
   "outputs": [],
   "source": [
    "COURSE_AND_COUNTRY_TO_LOCATION_GB = {}\n",
    "\n",
    "for key, val in COURSE_AND_COUNTRY_TO_LOCATION.items():\n",
    "    if key[1] == 'GB':\n",
    "        COURSE_AND_COUNTRY_TO_LOCATION_GB[key] = val"
   ]
  },
  {
   "cell_type": "code",
   "execution_count": 19,
   "id": "8f77ec26",
   "metadata": {},
   "outputs": [
    {
     "name": "stderr",
     "output_type": "stream",
     "text": [
      "100%|███████████████████████████████████████████████████████████████████████████████████████████████████████████████████████████████████████████| 65/65 [00:01<00:00, 45.59it/s]\n"
     ]
    }
   ],
   "source": [
    "COURSE_AND_COUNTRY_TO_STATION = {}\n",
    "\n",
    "for key, val in tqdm(COURSE_AND_COUNTRY_TO_LOCATION_GB.items()):\n",
    "    distances = []\n",
    "    for _, row in stations_metadata.iterrows():\n",
    "        distance = (row['Latitude'] - val['lat']) ** 2 + (row['Longitude'] - val['lng']) ** 2\n",
    "        distances.append(((row['Station name'], row['Area']), distance))\n",
    "    distances = sorted(distances, key=lambda x: x[1])\n",
    "    COURSE_AND_COUNTRY_TO_STATION[key] = distances"
   ]
  },
  {
   "cell_type": "markdown",
   "id": "ae8fe1d1",
   "metadata": {},
   "source": [
    "Now, for each race, we can find its corresponding sorted list of distances and find the first in the list that is open and collecting data over an interval which contains the race date."
   ]
  },
  {
   "cell_type": "code",
   "execution_count": 20,
   "id": "b004d6c4",
   "metadata": {},
   "outputs": [
    {
     "name": "stderr",
     "output_type": "stream",
     "text": [
      "123972it [01:28, 1403.07it/s]\n"
     ]
    }
   ],
   "source": [
    "d = {}\n",
    "\n",
    "for idx, row in tqdm(races_aticnmg.iterrows()):\n",
    "    \n",
    "    race_date = get_date_from_race_data(row['date'])\n",
    "    \n",
    "    # get sorted list of stations\n",
    "    lst = COURSE_AND_COUNTRY_TO_STATION[(row['course'], row['countryCode'])]\n",
    "    \n",
    "    # elt is ((station name, area), dist)\n",
    "    for elt in lst:\n",
    "        station_row = stations_metadata[stations_metadata['Station name'] == elt[0][0]].iloc[0]\n",
    "        if station_is_open(station_row, race_date):\n",
    "            d[row['rid']] = elt[0][0], elt[0][1], race_date.year\n",
    "            break"
   ]
  },
  {
   "cell_type": "code",
   "execution_count": 21,
   "id": "46745881",
   "metadata": {},
   "outputs": [
    {
     "data": {
      "text/plain": [
       "123972"
      ]
     },
     "execution_count": 21,
     "metadata": {},
     "output_type": "execute_result"
    }
   ],
   "source": [
    "len(d)"
   ]
  },
  {
   "cell_type": "code",
   "execution_count": 28,
   "id": "2e9dfde4",
   "metadata": {},
   "outputs": [],
   "source": [
    "smple = races_aticnmg.sample(5)"
   ]
  },
  {
   "cell_type": "code",
   "execution_count": 29,
   "id": "280ab368",
   "metadata": {},
   "outputs": [
    {
     "data": {
      "text/html": [
       "<div>\n",
       "<style scoped>\n",
       "    .dataframe tbody tr th:only-of-type {\n",
       "        vertical-align: middle;\n",
       "    }\n",
       "\n",
       "    .dataframe tbody tr th {\n",
       "        vertical-align: top;\n",
       "    }\n",
       "\n",
       "    .dataframe thead th {\n",
       "        text-align: right;\n",
       "    }\n",
       "</style>\n",
       "<table border=\"1\" class=\"dataframe\">\n",
       "  <thead>\n",
       "    <tr style=\"text-align: right;\">\n",
       "      <th></th>\n",
       "      <th>rid</th>\n",
       "      <th>course</th>\n",
       "      <th>time</th>\n",
       "      <th>date</th>\n",
       "      <th>hurdles</th>\n",
       "      <th>prizes</th>\n",
       "      <th>winningTime</th>\n",
       "      <th>metric</th>\n",
       "      <th>countryCode</th>\n",
       "      <th>ncond</th>\n",
       "      <th>class</th>\n",
       "    </tr>\n",
       "  </thead>\n",
       "  <tbody>\n",
       "    <tr>\n",
       "      <th>91759</th>\n",
       "      <td>111461</td>\n",
       "      <td>Goodwood</td>\n",
       "      <td>06:40</td>\n",
       "      <td>15/08/28</td>\n",
       "      <td>NaN</td>\n",
       "      <td>[3234.5, 962.5, 481.0, 240.5]</td>\n",
       "      <td>215.76</td>\n",
       "      <td>3218.0</td>\n",
       "      <td>GB</td>\n",
       "      <td>5</td>\n",
       "      <td>5</td>\n",
       "    </tr>\n",
       "    <tr>\n",
       "      <th>43168</th>\n",
       "      <td>241443</td>\n",
       "      <td>Wolverhampton (AW)</td>\n",
       "      <td>08:00</td>\n",
       "      <td>06/09/02</td>\n",
       "      <td>NaN</td>\n",
       "      <td>[2388.75, 705.25, 352.8]</td>\n",
       "      <td>159.89</td>\n",
       "      <td>2413.0</td>\n",
       "      <td>GB</td>\n",
       "      <td>14</td>\n",
       "      <td>6</td>\n",
       "    </tr>\n",
       "    <tr>\n",
       "      <th>13530</th>\n",
       "      <td>99476</td>\n",
       "      <td>Windsor</td>\n",
       "      <td>02:15</td>\n",
       "      <td>19/06/29</td>\n",
       "      <td>NaN</td>\n",
       "      <td>[12450.0, 3728.0, 1864.0, 932.0, 466.0]</td>\n",
       "      <td>144.45</td>\n",
       "      <td>2312.5</td>\n",
       "      <td>GB</td>\n",
       "      <td>2</td>\n",
       "      <td>2</td>\n",
       "    </tr>\n",
       "    <tr>\n",
       "      <th>99807</th>\n",
       "      <td>75497</td>\n",
       "      <td>Carlisle</td>\n",
       "      <td>04:30</td>\n",
       "      <td>17/06/28</td>\n",
       "      <td>NaN</td>\n",
       "      <td>[6469.0, 1925.0, 962.0, 481.0]</td>\n",
       "      <td>91.45</td>\n",
       "      <td>1407.0</td>\n",
       "      <td>GB</td>\n",
       "      <td>10</td>\n",
       "      <td>4</td>\n",
       "    </tr>\n",
       "    <tr>\n",
       "      <th>9182</th>\n",
       "      <td>157689</td>\n",
       "      <td>Doncaster</td>\n",
       "      <td>03:35</td>\n",
       "      <td>18/09/15</td>\n",
       "      <td>NaN</td>\n",
       "      <td>[421355.3, 159745.0, 79946.8, 39824.8, 19986.7...</td>\n",
       "      <td>183.34</td>\n",
       "      <td>2915.5</td>\n",
       "      <td>GB</td>\n",
       "      <td>1</td>\n",
       "      <td>1</td>\n",
       "    </tr>\n",
       "  </tbody>\n",
       "</table>\n",
       "</div>"
      ],
      "text/plain": [
       "          rid              course   time      date  hurdles  \\\n",
       "91759  111461            Goodwood  06:40  15/08/28      NaN   \n",
       "43168  241443  Wolverhampton (AW)  08:00  06/09/02      NaN   \n",
       "13530   99476             Windsor  02:15  19/06/29      NaN   \n",
       "99807   75497            Carlisle  04:30  17/06/28      NaN   \n",
       "9182   157689           Doncaster  03:35  18/09/15      NaN   \n",
       "\n",
       "                                                  prizes  winningTime  metric  \\\n",
       "91759                      [3234.5, 962.5, 481.0, 240.5]       215.76  3218.0   \n",
       "43168                           [2388.75, 705.25, 352.8]       159.89  2413.0   \n",
       "13530            [12450.0, 3728.0, 1864.0, 932.0, 466.0]       144.45  2312.5   \n",
       "99807                     [6469.0, 1925.0, 962.0, 481.0]        91.45  1407.0   \n",
       "9182   [421355.3, 159745.0, 79946.8, 39824.8, 19986.7...       183.34  2915.5   \n",
       "\n",
       "      countryCode ncond  class  \n",
       "91759          GB     5      5  \n",
       "43168          GB    14      6  \n",
       "13530          GB     2      2  \n",
       "99807          GB    10      4  \n",
       "9182           GB     1      1  "
      ]
     },
     "execution_count": 29,
     "metadata": {},
     "output_type": "execute_result"
    }
   ],
   "source": [
    "smple"
   ]
  },
  {
   "cell_type": "code",
   "execution_count": 30,
   "id": "58008bbb",
   "metadata": {
    "scrolled": true
   },
   "outputs": [
    {
     "data": {
      "text/plain": [
       "[(111461, ('THORNEY ISLAND', 'WEST SUSSEX', 2015)),\n",
       " (241443, ('WINTERBOURNE: UNIVERSITY OF BIRMINGHAM', 'WEST MIDLANDS', 2006)),\n",
       " (99476, ('HEATHROW', 'GREATER LONDON', 2019)),\n",
       " (75497, ('CARLISLE', 'CUMBRIA', 2017)),\n",
       " (157689, ('GRINGLEY-ON-THE-HILL', 'NOTTINGHAMSHIRE', 2018))]"
      ]
     },
     "execution_count": 30,
     "metadata": {},
     "output_type": "execute_result"
    }
   ],
   "source": [
    "[(rid, d[rid]) for rid in smple['rid']]"
   ]
  },
  {
   "cell_type": "code",
   "execution_count": 31,
   "id": "52ab5009",
   "metadata": {},
   "outputs": [
    {
     "data": {
      "text/html": [
       "<div>\n",
       "<style scoped>\n",
       "    .dataframe tbody tr th:only-of-type {\n",
       "        vertical-align: middle;\n",
       "    }\n",
       "\n",
       "    .dataframe tbody tr th {\n",
       "        vertical-align: top;\n",
       "    }\n",
       "\n",
       "    .dataframe thead th {\n",
       "        text-align: right;\n",
       "    }\n",
       "</style>\n",
       "<table border=\"1\" class=\"dataframe\">\n",
       "  <thead>\n",
       "    <tr style=\"text-align: right;\">\n",
       "      <th></th>\n",
       "      <th>src_id</th>\n",
       "      <th>Station name</th>\n",
       "      <th>Area</th>\n",
       "      <th>Area type</th>\n",
       "      <th>Station start date</th>\n",
       "      <th>Station end date</th>\n",
       "      <th>Latitude</th>\n",
       "      <th>Longitude</th>\n",
       "      <th>Postcode</th>\n",
       "      <th>Open datasets available</th>\n",
       "    </tr>\n",
       "  </thead>\n",
       "  <tbody>\n",
       "    <tr>\n",
       "      <th>1138</th>\n",
       "      <td>586</td>\n",
       "      <td>WINTERBOURNE: UNIVERSITY OF BIRMINGHAM</td>\n",
       "      <td>WEST MIDLANDS</td>\n",
       "      <td>COUNTY</td>\n",
       "      <td>1980-01-01</td>\n",
       "      <td>2012-05-15</td>\n",
       "      <td>52.4541</td>\n",
       "      <td>-1.92295</td>\n",
       "      <td>B15 2</td>\n",
       "      <td>DR DT DW HR HW RA ST</td>\n",
       "    </tr>\n",
       "    <tr>\n",
       "      <th>1490</th>\n",
       "      <td>779</td>\n",
       "      <td>THORNEY ISLAND</td>\n",
       "      <td>WEST SUSSEX</td>\n",
       "      <td>COUNTY</td>\n",
       "      <td>1941-01-01</td>\n",
       "      <td>2022-01-01</td>\n",
       "      <td>50.8142</td>\n",
       "      <td>-0.92098</td>\n",
       "      <td>PO10 8</td>\n",
       "      <td>DR DT DW HR HW MW RA ST</td>\n",
       "    </tr>\n",
       "    <tr>\n",
       "      <th>1582</th>\n",
       "      <td>1070</td>\n",
       "      <td>CARLISLE</td>\n",
       "      <td>CUMBRIA</td>\n",
       "      <td>COUNTY</td>\n",
       "      <td>1961-01-01</td>\n",
       "      <td>2022-01-01</td>\n",
       "      <td>54.9342</td>\n",
       "      <td>-2.96223</td>\n",
       "      <td>CA6 4</td>\n",
       "      <td>DR DT DW HR HW MW RA ST</td>\n",
       "    </tr>\n",
       "    <tr>\n",
       "      <th>1634</th>\n",
       "      <td>708</td>\n",
       "      <td>HEATHROW</td>\n",
       "      <td>GREATER LONDON</td>\n",
       "      <td>COUNTY</td>\n",
       "      <td>1947-01-01</td>\n",
       "      <td>2022-01-01</td>\n",
       "      <td>51.4787</td>\n",
       "      <td>-0.44904</td>\n",
       "      <td>TW6 2</td>\n",
       "      <td>DR DT DW HR HW MW RA ST</td>\n",
       "    </tr>\n",
       "    <tr>\n",
       "      <th>1659</th>\n",
       "      <td>19204</td>\n",
       "      <td>GRINGLEY-ON-THE-HILL</td>\n",
       "      <td>NOTTINGHAMSHIRE</td>\n",
       "      <td>COUNTY</td>\n",
       "      <td>1996-12-14</td>\n",
       "      <td>2022-01-01</td>\n",
       "      <td>53.4059</td>\n",
       "      <td>-0.88265</td>\n",
       "      <td>DN10 4</td>\n",
       "      <td>DR DT DW HR HW MW RA ST</td>\n",
       "    </tr>\n",
       "  </tbody>\n",
       "</table>\n",
       "</div>"
      ],
      "text/plain": [
       "      src_id                            Station name             Area  \\\n",
       "1138     586  WINTERBOURNE: UNIVERSITY OF BIRMINGHAM    WEST MIDLANDS   \n",
       "1490     779                          THORNEY ISLAND      WEST SUSSEX   \n",
       "1582    1070                                CARLISLE          CUMBRIA   \n",
       "1634     708                                HEATHROW   GREATER LONDON   \n",
       "1659   19204                    GRINGLEY-ON-THE-HILL  NOTTINGHAMSHIRE   \n",
       "\n",
       "     Area type Station start date Station end date  Latitude  Longitude  \\\n",
       "1138    COUNTY         1980-01-01       2012-05-15   52.4541   -1.92295   \n",
       "1490    COUNTY         1941-01-01       2022-01-01   50.8142   -0.92098   \n",
       "1582    COUNTY         1961-01-01       2022-01-01   54.9342   -2.96223   \n",
       "1634    COUNTY         1947-01-01       2022-01-01   51.4787   -0.44904   \n",
       "1659    COUNTY         1996-12-14       2022-01-01   53.4059   -0.88265   \n",
       "\n",
       "     Postcode  Open datasets available  \n",
       "1138    B15 2     DR DT DW HR HW RA ST  \n",
       "1490   PO10 8  DR DT DW HR HW MW RA ST  \n",
       "1582    CA6 4  DR DT DW HR HW MW RA ST  \n",
       "1634    TW6 2  DR DT DW HR HW MW RA ST  \n",
       "1659   DN10 4  DR DT DW HR HW MW RA ST  "
      ]
     },
     "execution_count": 31,
     "metadata": {},
     "output_type": "execute_result"
    }
   ],
   "source": [
    "stations_metadata[stations_metadata['Station name'].isin([d[rid][0] for rid in smple['rid']])]"
   ]
  },
  {
   "cell_type": "markdown",
   "id": "b81c6bc8",
   "metadata": {},
   "source": [
    "These are correct by inspection."
   ]
  },
  {
   "cell_type": "markdown",
   "id": "ac15783b",
   "metadata": {},
   "source": [
    "---"
   ]
  },
  {
   "cell_type": "markdown",
   "id": "ac3e6c4d",
   "metadata": {},
   "source": [
    "## Write to File in `utils`"
   ]
  },
  {
   "cell_type": "code",
   "execution_count": 32,
   "id": "61f78ab1",
   "metadata": {},
   "outputs": [
    {
     "data": {
      "text/plain": [
       "\"RID_TO_STATION = {267255: ('GRINGLEY-ON-THE-HILL', 'NOTTINGHAMSHIRE', 1997), 297570: ('GRINGLEY-ON-T\""
      ]
     },
     "execution_count": 32,
     "metadata": {},
     "output_type": "execute_result"
    }
   ],
   "source": [
    "s = f\"RID_TO_STATION = {d}\"\n",
    "s[:100]"
   ]
  },
  {
   "cell_type": "code",
   "execution_count": 33,
   "id": "d5368851",
   "metadata": {},
   "outputs": [],
   "source": [
    "with open(f\"{BASE_DIR}/utils/rid_to_station.py\", 'w', encoding='utf-8') as f:\n",
    "    f.write(s)"
   ]
  },
  {
   "cell_type": "markdown",
   "id": "fdac5bdb",
   "metadata": {},
   "source": [
    "---"
   ]
  }
 ],
 "metadata": {
  "kernelspec": {
   "display_name": "Python 3 (ipykernel)",
   "language": "python",
   "name": "python3"
  },
  "language_info": {
   "codemirror_mode": {
    "name": "ipython",
    "version": 3
   },
   "file_extension": ".py",
   "mimetype": "text/x-python",
   "name": "python",
   "nbconvert_exporter": "python",
   "pygments_lexer": "ipython3",
   "version": "3.9.6"
  }
 },
 "nbformat": 4,
 "nbformat_minor": 5
}
