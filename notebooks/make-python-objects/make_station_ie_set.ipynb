{
 "cells": [
  {
   "cell_type": "markdown",
   "id": "58796508",
   "metadata": {},
   "source": [
    "# `make_station_ie_set.ipynb`"
   ]
  },
  {
   "cell_type": "markdown",
   "id": "2f87b0d3",
   "metadata": {},
   "source": [
    "### Author: Anthony Hein"
   ]
  },
  {
   "cell_type": "markdown",
   "id": "c849a5ff",
   "metadata": {},
   "source": [
    "#### Last updated: 10/18/2021"
   ]
  },
  {
   "cell_type": "markdown",
   "id": "af8b11a6",
   "metadata": {},
   "source": [
    "# Overview:\n",
    "\n",
    "Make a set of the unique weather stations in Ireland that we will need to extract data from."
   ]
  },
  {
   "cell_type": "markdown",
   "id": "cd6b1d91",
   "metadata": {},
   "source": [
    "---"
   ]
  },
  {
   "cell_type": "markdown",
   "id": "b051b2cb",
   "metadata": {},
   "source": [
    "## Setup"
   ]
  },
  {
   "cell_type": "code",
   "execution_count": 1,
   "id": "58c3fd18",
   "metadata": {},
   "outputs": [],
   "source": [
    "from datetime import datetime\n",
    "import git\n",
    "import os\n",
    "from typing import List, Union\n",
    "from tqdm import tqdm\n",
    "import pandas as pd\n",
    "import numpy as np\n",
    "import matplotlib.pyplot as plt\n",
    "%matplotlib inline"
   ]
  },
  {
   "cell_type": "code",
   "execution_count": 2,
   "id": "a4040252",
   "metadata": {},
   "outputs": [
    {
     "data": {
      "text/plain": [
       "'/Users/anthonyhein/Desktop/SML310/project'"
      ]
     },
     "execution_count": 2,
     "metadata": {},
     "output_type": "execute_result"
    }
   ],
   "source": [
    "BASE_DIR = git.Repo(os.getcwd(), search_parent_directories=True).working_dir\n",
    "BASE_DIR"
   ]
  },
  {
   "cell_type": "code",
   "execution_count": 3,
   "id": "bbf8fb5c",
   "metadata": {},
   "outputs": [],
   "source": [
    "import sys\n",
    "\n",
    "sys.path.append(f'{BASE_DIR}/utils/')\n",
    "\n",
    "from rid_to_station_ie import RID_TO_STATION_IE"
   ]
  },
  {
   "cell_type": "markdown",
   "id": "846658c0",
   "metadata": {},
   "source": [
    "---"
   ]
  },
  {
   "cell_type": "markdown",
   "id": "1e37bffc",
   "metadata": {},
   "source": [
    "## Make Station Set"
   ]
  },
  {
   "cell_type": "code",
   "execution_count": 4,
   "id": "454d4eed",
   "metadata": {},
   "outputs": [],
   "source": [
    "a = set([v for _, v in RID_TO_STATION_IE.items()])"
   ]
  },
  {
   "cell_type": "code",
   "execution_count": 5,
   "id": "92a21373",
   "metadata": {},
   "outputs": [
    {
     "data": {
      "text/plain": [
       "23"
      ]
     },
     "execution_count": 5,
     "metadata": {},
     "output_type": "execute_result"
    }
   ],
   "source": [
    "len(a)"
   ]
  },
  {
   "cell_type": "code",
   "execution_count": 6,
   "id": "68d1c530",
   "metadata": {
    "scrolled": false
   },
   "outputs": [
    {
     "data": {
      "text/plain": [
       "{(175, 'PHOENIX PARK'),\n",
       " (275, 'MACE HEAD'),\n",
       " (375, 'OAK PARK'),\n",
       " (518, 'SHANNON AIRPORT'),\n",
       " (532, 'DUBLIN AIRPORT'),\n",
       " (575, 'MOORE PARK'),\n",
       " (675, 'BALLYHAISE'),\n",
       " (775, 'SherkinIsland'),\n",
       " (875, 'MULLINGAR'),\n",
       " (1175, 'NEWPORT'),\n",
       " (1275, 'MARKREE'),\n",
       " (1375, 'DUNSANY'),\n",
       " (1475, 'GURTEEN'),\n",
       " (1975, 'MT DILLON'),\n",
       " (2175, 'CLAREMORRIS'),\n",
       " (2275, 'VALENTIA OBSERVATORY'),\n",
       " (2437, 'CLONES'),\n",
       " (2615, 'Rosslare'),\n",
       " (3613, 'KILKENNY'),\n",
       " (3723, 'CASEMENT'),\n",
       " (3904, 'CORK AIRPORT'),\n",
       " (4919, 'BIRR'),\n",
       " (4935, 'KNOCK AIRPORT')}"
      ]
     },
     "execution_count": 6,
     "metadata": {},
     "output_type": "execute_result"
    }
   ],
   "source": [
    "a"
   ]
  },
  {
   "cell_type": "markdown",
   "id": "9c028acd",
   "metadata": {},
   "source": [
    "Now, download datasets using [https://cli.fusio.net/cli/climate_data/webdata/hly575.zip](https://cli.fusio.net/cli/climate_data/webdata/hly575.zip)."
   ]
  },
  {
   "cell_type": "markdown",
   "id": "40ddb3f4",
   "metadata": {},
   "source": [
    "---"
   ]
  },
  {
   "cell_type": "markdown",
   "id": "ac3e6c4d",
   "metadata": {},
   "source": [
    "## Write to File in `utils`"
   ]
  },
  {
   "cell_type": "code",
   "execution_count": 7,
   "id": "67bf5e61",
   "metadata": {},
   "outputs": [
    {
     "data": {
      "text/plain": [
       "\"STATION_IE = {(275, 'MACE HEAD'), (3613, 'KILKENNY'), (575, 'MOORE PARK'), (675, 'BALLYHAISE'), (875\""
      ]
     },
     "execution_count": 7,
     "metadata": {},
     "output_type": "execute_result"
    }
   ],
   "source": [
    "s = f\"STATION_IE = {a}\"\n",
    "s[:100]"
   ]
  },
  {
   "cell_type": "code",
   "execution_count": 8,
   "id": "d5368851",
   "metadata": {},
   "outputs": [],
   "source": [
    "with open(f\"{BASE_DIR}/utils/station_ie.py\", 'w', encoding='utf-8') as f:\n",
    "    f.write(s)"
   ]
  },
  {
   "cell_type": "markdown",
   "id": "fdac5bdb",
   "metadata": {},
   "source": [
    "---"
   ]
  }
 ],
 "metadata": {
  "kernelspec": {
   "display_name": "Python 3 (ipykernel)",
   "language": "python",
   "name": "python3"
  },
  "language_info": {
   "codemirror_mode": {
    "name": "ipython",
    "version": 3
   },
   "file_extension": ".py",
   "mimetype": "text/x-python",
   "name": "python",
   "nbconvert_exporter": "python",
   "pygments_lexer": "ipython3",
   "version": "3.9.6"
  }
 },
 "nbformat": 4,
 "nbformat_minor": 5
}
