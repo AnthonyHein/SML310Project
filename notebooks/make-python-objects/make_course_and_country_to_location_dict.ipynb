{
 "cells": [
  {
   "cell_type": "markdown",
   "id": "58796508",
   "metadata": {},
   "source": [
    "# `make_course_and_country_to_location_dict.ipynb`"
   ]
  },
  {
   "cell_type": "markdown",
   "id": "2f87b0d3",
   "metadata": {},
   "source": [
    "### Author: Anthony Hein"
   ]
  },
  {
   "cell_type": "markdown",
   "id": "c849a5ff",
   "metadata": {},
   "source": [
    "#### Last updated: 9/25/2021"
   ]
  },
  {
   "cell_type": "markdown",
   "id": "af8b11a6",
   "metadata": {},
   "source": [
    "# Overview:\n",
    "\n",
    "Create a dictionary that maps a `(course, countryCode)` pair to the location of this race, where location is an object with a latitude and a longitude. This mapping is created using the Google Maps API. More specifically, it employs their geocoding service."
   ]
  },
  {
   "cell_type": "markdown",
   "id": "cd6b1d91",
   "metadata": {},
   "source": [
    "---"
   ]
  },
  {
   "cell_type": "markdown",
   "id": "b051b2cb",
   "metadata": {},
   "source": [
    "## Setup"
   ]
  },
  {
   "cell_type": "code",
   "execution_count": 1,
   "id": "58c3fd18",
   "metadata": {},
   "outputs": [],
   "source": [
    "import git\n",
    "import os\n",
    "from typing import List\n",
    "from tqdm import tqdm\n",
    "import pandas as pd\n",
    "import numpy as np\n",
    "import matplotlib.pyplot as plt\n",
    "%matplotlib inline"
   ]
  },
  {
   "cell_type": "code",
   "execution_count": 2,
   "id": "a4040252",
   "metadata": {},
   "outputs": [
    {
     "data": {
      "text/plain": [
       "'/Users/anthonyhein/Desktop/SML310/project'"
      ]
     },
     "execution_count": 2,
     "metadata": {},
     "output_type": "execute_result"
    }
   ],
   "source": [
    "BASE_DIR = git.Repo(os.getcwd(), search_parent_directories=True).working_dir\n",
    "BASE_DIR"
   ]
  },
  {
   "cell_type": "code",
   "execution_count": 3,
   "id": "97173792",
   "metadata": {},
   "outputs": [],
   "source": [
    "import sys\n",
    "\n",
    "sys.path.append(f'{BASE_DIR}/src/')\n",
    "\n",
    "import geocoding_client as gc\n",
    "\n",
    "sys.path.append(f'{BASE_DIR}/utils/')\n",
    "\n",
    "from course_and_country import COURSE_AND_COUNTRY"
   ]
  },
  {
   "cell_type": "markdown",
   "id": "846658c0",
   "metadata": {},
   "source": [
    "---"
   ]
  },
  {
   "cell_type": "markdown",
   "id": "d2072c8b",
   "metadata": {},
   "source": [
    "## Use the Geocoding Client to Find Locations"
   ]
  },
  {
   "cell_type": "code",
   "execution_count": 4,
   "id": "644f3cef",
   "metadata": {},
   "outputs": [
    {
     "data": {
      "text/plain": [
       "359"
      ]
     },
     "execution_count": 4,
     "metadata": {},
     "output_type": "execute_result"
    }
   ],
   "source": [
    "len(COURSE_AND_COUNTRY)"
   ]
  },
  {
   "cell_type": "code",
   "execution_count": 5,
   "id": "4355adc1",
   "metadata": {
    "scrolled": true
   },
   "outputs": [
    {
     "name": "stderr",
     "output_type": "stream",
     "text": [
      "100%|██████████████████████████████████████████████████████████████████████████████████████████████████████████████████████████████████████████████████████████████████████████| 359/359 [02:41<00:00,  2.23it/s]\n"
     ]
    }
   ],
   "source": [
    "course_and_country_to_location = {}\n",
    "unknown = set()\n",
    "\n",
    "for course, country_code in tqdm(COURSE_AND_COUNTRY):\n",
    "    location, err = gc.get_course_location(course, country_code)\n",
    "    if err != None:\n",
    "        unknown.add((course, country_code))\n",
    "    else:\n",
    "        course_and_country_to_location[(course, country_code)] = location"
   ]
  },
  {
   "cell_type": "code",
   "execution_count": 6,
   "id": "5fb17095",
   "metadata": {},
   "outputs": [
    {
     "data": {
      "text/plain": [
       "28"
      ]
     },
     "execution_count": 6,
     "metadata": {},
     "output_type": "execute_result"
    }
   ],
   "source": [
    "len(unknown)"
   ]
  },
  {
   "cell_type": "code",
   "execution_count": 7,
   "id": "a4362848",
   "metadata": {},
   "outputs": [
    {
     "data": {
      "text/plain": [
       "331"
      ]
     },
     "execution_count": 7,
     "metadata": {},
     "output_type": "execute_result"
    }
   ],
   "source": [
    "len(course_and_country_to_location)"
   ]
  },
  {
   "cell_type": "code",
   "execution_count": 14,
   "id": "5ed83492",
   "metadata": {
    "scrolled": false
   },
   "outputs": [
    {
     "name": "stdout",
     "output_type": "stream",
     "text": [
      "Down Royal (IRE) IE 54.4869619 -6.1277164: y\n",
      "Newbury GB 51.3971686 -1.3065175: y\n",
      "Nad Al Sheba (UAE) AE 25.1574719 55.30190839999999: y\n",
      "Pontefract GB 53.6961828 -1.3302616: y\n",
      "Redcar GB 54.6106452 -1.063271: y\n",
      "Cheltenham GB 51.9194477 -2.0680294: y\n",
      "L'Ancresse (GUE) GUE 49.4992455 -2.5267593: y\n",
      "Gold Coast (AUS) AU -28.0035601 153.4038276: y\n",
      "Laytown (IRE) IE 53.6851752 -6.2399165: y\n",
      "Gatton (AUS) AU -27.5545169 152.2620699: y\n",
      "Lyon Parilly (FR) FR 45.7214363 4.9099945: y\n",
      "Moulins (FR) FR 46.56567 3.3166325: y\n",
      "Neuss (GER) GER 51.1986111 6.699166600000001: y\n",
      "Kenilworth (SAF) SAF -33.9969828 18.4544023: y\n",
      "Klampenborg (DEN) DEN 55.7707366 12.5723848: y\n",
      "Echuca (AUS) AU -36.16157159999999 144.7896653: y\n",
      "Ankara (TUR) TUR 39.9684146 32.8759474: y\n",
      "Maronas (URU) URU -34.838886 -56.143913: y\n",
      "Hanover (GER) GER 52.4476445 9.760627: y\n",
      "Sam Houston (USA) US 29.9297503 -95.5300717: y\n",
      "SunRay Park (USA) US 36.6982869 -108.1033894: y\n",
      "Chelmsford (AW) (GB) (ARAB) ARAB 51.82336 0.4789453: y\n",
      "Niigata (JPN) JP 37.9474326 139.1869702: y\n",
      "Navan (IRE) IE 53.683279 -6.6736824: y\n",
      "Remington Park (USA) US 35.5289502 -97.47287949999999: y\n",
      "Hastings Racecourse (CAN) CAN 49.2852086 -123.0401326: y\n",
      "Charles town (USA) US 39.2971478 -77.85123200000001: y\n",
      "Les Landes (JER) JER 49.2528345 -2.2458673: y\n",
      "Sunland Park (USA) US 31.8050051 -106.5594473: y\n",
      "York GB 53.9408107 -1.0921743: y\n",
      "Belterra Park (USA) US 39.0527763 -84.4121246: y\n",
      "Amiens (FR) FR 49.8953399 2.2699382: y\n",
      "Marseille Pont-de-Vivaux (FR) FR 43.2814115 5.417429299999999: y\n",
      "Borrowdale (SAF) SAF -17.7486546 31.0936983: y\n",
      "Warwick Farm (AUS) AU -33.9141349 150.9428051: y\n",
      "Hawkesbury (AUS) AU -33.6117744 150.7904052: y\n",
      "Churchill Downs (USA) US 38.2037252 -85.77239879999999: y\n",
      "Chelmsford (AW) GB 51.82336 0.4789453: y\n",
      "Fakenham GB 52.8221617 0.8519376: y\n",
      "Sedgefield GB 54.6443774 -1.4631074: y\n",
      "Dusseldorf (GER) GER 51.2523381 6.841072899999999: y\n",
      "Pau (FR) FR 43.3356644 -0.3799484: y\n",
      "Canterbury Park (USA) US 44.7903875 -93.4837305: y\n",
      "Gavea (BRZ) BRZ -22.9737674 -43.2253106: y\n",
      "Market Rasen GB 53.38046019999999 -0.3146141: y\n",
      "Dieppe (FR) FR 49.9097366 1.0892995: y\n",
      "Exeter GB 50.6412 -3.561055: y\n",
      "Canberra (AUS) AU -35.2297668 149.1392822: y\n",
      "Lucerne (SWI) SWI 47.0504289 8.3120623: y\n",
      "Folkestone GB 51.094026 1.036767: y\n",
      "Dielsdorf (SWI) SWI 47.4889269 8.4695094: y\n",
      "Uttoxeter GB 52.8944448 -1.857713: y\n",
      "Turfway Park (USA) US 39.0223534 -84.63564970000002: y\n",
      "Salon-de-Provence (FR) FR 43.6390646 5.031899200000001: y\n",
      "La Teste De Buch (FR) FR 44.5970441 -1.1284803: y\n",
      "Scottsville (SAF) SAF -29.6134253 30.3971313: y\n",
      "Riccarton Park (NZ) NZ -43.5286278 172.5457864: y\n",
      "Naples (ITY) IT 40.8329812 14.1633162: y\n",
      "Kawasaki (JPN) JP 35.5334275 139.7091637: y\n",
      "Fort Erie (CAN) CAN 42.9170799 -78.93433379999999: y\n",
      "Happy Valley (HK) HK 22.27227 114.1807094: y\n",
      "Sale (AUS) AU -38.0688819 147.0408477: y\n",
      "Fairview (SAF) SAF -33.9210002 25.3511446: y\n",
      "Dundalk (AW) (IRE) IE 54.020808 -6.3832501: y\n",
      "Musselburgh GB 55.946009 -3.0443478: y\n",
      "Wincanton GB 51.06684 -2.414822: y\n",
      "Goulburn (AUS) AU -34.7148884 149.7487717: y\n",
      "Cagnes-Sur-Mer (FR) FR 43.6480129 7.1453371: y\n",
      "Hamburg (GER) GER 53.57647780000001 9.8924625: y\n",
      "Ripon GB 54.1251764 -1.4996934: y\n",
      "Los Alamitos (USA) US 33.806875 -118.0437662: y\n",
      "Aqueduct (USA) US 40.6716667 -73.8330556: y\n",
      "Le Lion-D'Angers (FR) FR 47.62986 -0.708101: y\n",
      "Morphettville Parks (AUS) AU -34.977575 138.54267: y\n",
      "Penn National (USA) US 40.3942483 -76.66094009999999: y\n",
      "Pleasanton (USA) US 37.6600686 -121.896596: y\n",
      "Haydock GB 53.4809504 -2.6278521: y\n",
      "Mulheim (GER) GER 51.4371109 6.828768699999999: y\n",
      "Sandown (AUS) AU -37.9441952 145.1661902: y\n",
      "Geelong (AUS) AU -38.1755307 144.3722364: y\n",
      "Saint-Cloud (FR) FR 48.8535585 2.2045631: y\n",
      "Sapporo (JPN) JP 43.0761782 141.3239116: y\n",
      "Meslay-Du-Maine (FR) FR 47.9515037 -0.5360842: y\n",
      "Tramore (IRE) IE 52.17149 -7.148737: y\n",
      "Woodbine (CAN) CAN 43.7144731 -79.6041188: y\n",
      "Angers (FR) FR 47.49779299999999 -0.507784: y\n",
      "Hoosier park (USA) US 40.0687657 -85.6407759: y\n",
      "Taunton GB 50.99049720000001 -3.084182: y\n",
      "Doncaster GB 53.5204683 -1.1065872: y\n",
      "Fairplex Park (USA) US 34.0815813 -117.7655269: y\n",
      "Meydan (UAE) AE 25.1574719 55.30190839999999: y\n",
      "St Moritz (SWI) SWI 46.497511 9.842056999999999: y\n",
      "Jebel Ali (UAE) AE 25.0852617 55.1866468: y\n",
      "Hastings (NZ) NZ -39.6443556 176.8369853: y\n",
      "Delta downs (USA) US 30.1950801 -93.6233275: y\n",
      "Wexford (IRE) IE 52.3388569 -6.4919351: y\n",
      "Colonial Downs (USA) US 37.4874246 -77.0081948: y\n",
      "Mountaineer Park (USA) US 40.5820714 -80.65416979999999: y\n",
      "Southwell GB 53.06540450000001 -0.9012476999999999: y\n",
      "Vaal (SAF) SAF -26.736338 27.9036775: y\n",
      "Bay Meadows (USA) US 30.221209 -81.576996: y\n",
      "Balaklava (AUS) AU -34.154216 138.4017962: y\n",
      "Rosehill (AUS) AU -33.8254618 151.0187321: y\n",
      "Avenches (SWI) SWI 46.7787104 7.4441647: y\n",
      "Nantes (FR) FR 47.2456366 -1.5629878: y\n",
      "Worcester GB 52.1992461 -2.2329054: y\n",
      "Goodwood GB 50.891614 -0.743486: y\n",
      "Scone (AUS) AU -32.0278917 150.8310297: y\n",
      "Sandown GB 51.37331469999999 -0.3619665: y\n",
      "Bro Park (SWE) SWE 59.52481779999999 17.6137992: y\n",
      "Roscommon (IRE) IE 53.6470328 -8.2229038: y\n",
      "Fontwell GB 50.8546214 -0.6532319: y\n",
      "Wolverhampton (AW) GB 52.6031749 -2.1413437: y\n",
      "Towcester GB 52.122538 -0.9729319999999999: y\n",
      "Sunshine Coast (AUS) AU -26.7858524 153.070404: y\n",
      "La Plata (ARG) ARG 34.8593915 -58.052343: y\n",
      "Frauenfeld (SWI) SWI 47.7067293 8.4761249: y\n",
      "Pardubice (CZE) CZE 50.0193634 15.747529: y\n",
      "Nancy (FR) FR 48.6533428 6.1425223: y\n",
      "Nakayama (JPN) JP 35.7252879 139.9630783: y\n",
      "Catterick GB 54.38805379999999 -1.649181: y\n",
      "Leicester GB 52.6042438 -1.0943203: y\n",
      "Frankfurt (GER) GER 50.0777511 8.6135225: y\n",
      "Keeneland (USA) US 38.0469517 -84.60624039999999: y\n",
      "Palermo (ARG) ARG -34.5693242 -58.4285941: y\n",
      "Kembla Grange (AUS) AU -34.4733976 150.8221153: y\n",
      "Santa Anita (USA) US 34.139204 -118.0452891: y\n",
      "Limerick (IRE) IE 52.5906552 -8.6956279: y\n",
      "Warwick GB 52.27946379999999 -1.5965588: y\n",
      "Hakodate (JPN) JP 41.7822274 140.7746847: y\n",
      "Tralee (IRE) IE 52.278648 -9.672246: y\n",
      "Clairefontaine (FR) FR 49.3447532 0.0531103: y\n",
      "Epsom GB 51.31367470000001 -0.254144: y\n",
      "Carlisle GB 54.8589941 -2.9288662: y\n",
      "Kentucky Downs (USA) US 36.641493 -86.56229599999999: y\n",
      "Wexford (RH) (IRE) IE 52.3388569 -6.4919351: y\n",
      "Cologne (GER) GER 50.9841276 6.952232599999999: y\n",
      "Auteuil (FR) FR 48.8486353 2.2571127: y\n",
      "Thistledown (USA) US 41.4364964 -81.5308563: y\n",
      "Pisa (ITY) IT 43.7069208 10.3603588: y\n",
      "Gowran Park (IRE) IE 52.6198333 -7.069867299999999: y\n",
      "Will Rogers Downs (USA) US 36.3133267 -95.5336366: y\n",
      "Dortmund (GER) GER 51.51251999999999 7.523459999999999: y\n",
      "Lone Star Park (USA) US 32.7720933 -96.9886994: y\n",
      "Seoul (KOR) KOR 37.4473604 127.0156347: y\n",
      "Longchamp (FR) FR 48.8615995 2.228505: y\n",
      "Urawa (JPN) JP 35.8572694 139.6693663: y\n",
      "Mornington (AUS) AU -38.2364234 145.0695037: y\n",
      "San Sebastian (SPA) SPA 43.3260766 -1.9723483: y\n",
      "Ovrevoll (NOR) NOR 59.93937450000001 10.6242996: y\n",
      "Dax (FR) FR 43.6770203 -1.1078575: y\n",
      "Saratoga (USA) US 43.0739705 -73.7679799: y\n",
      "Bellewstown (IRE) IE 53.64440889999999 -6.3464542: y\n",
      "Hipodromo Chile (CHI) CHI -33.4047827 -70.6664425: y\n",
      "Riyadh (KSA) KSA 24.9859726 46.784705: y\n",
      "Taby (SWE) SWE 59.44203640000001 18.0807496: y\n",
      "Nottingham GB 52.9482114 -1.1142443: y\n",
      "Otaki (NZ) NZ -40.7680728 175.1673785: y\n",
      "Newcastle GB 55.0353797 -1.6117691: y\n",
      "Thirsk GB 54.231208 -1.351548: y\n",
      "Belmont Park (USA) US 40.7139588 -73.7233584: y\n",
      "Bordeaux Le Bouscat (FR) FR 44.8724721 -0.6278129: y\n",
      "Hereford GB 52.0748615 -2.7291205: y\n",
      "Seymour (AUS) AU -37.0337998 145.1668349: y\n",
      "Emerald Downs (USA) US 47.3282377 -122.2373605: y\n",
      "Alice springs (AUS) AU -23.6993675 133.8774972: y\n",
      "Ghlin (BEL) BEL 50.4800925 3.9248004: y\n",
      "Ohi (JPN) JP 35.5922219 139.740825: y\n",
      "Finger Lakes (USA) US 42.895022 -77.249816: y\n",
      "Huntingdon GB 52.3321647 -0.2268652: y\n",
      "Hexham GB 54.95545079999999 -2.1289067: y\n",
      "Monterrico (PER) PER -12.094603 -77.0010633: y\n",
      "Turffontein (SAF) SAF -26.2402761 28.0420726: y\n",
      "Prairie Meadows (USA) US 41.6545008 -93.4909045: y\n",
      "Chepstow GB 51.6513199 -2.6918557: y\n",
      "Kranji (SIN) SIN 1.4219381 103.7600779: y\n",
      "Kokura (JPN) JP 33.8427093 130.8728373: y\n",
      "Ashburton (NZ) NZ -43.8885955 171.7644805: y\n",
      "Turffontein Inside (SAF) SAF -26.2402761 28.0420726: y\n",
      "Wellington (AUS) AU -32.555516 148.9325596: y\n",
      "Kyoto (JPN) JP 34.9068155 135.7272276: y\n",
      "Maisons-Laffitte (FR) FR 48.9563424 2.1684071: y\n"
     ]
    },
    {
     "name": "stdout",
     "output_type": "stream",
     "text": [
      "Suffolk Downs (USA) US 42.3935203 -71.00061029999999: y\n",
      "Randwick (AUS) AU -33.9055955 151.2287056: y\n",
      "Fontainebleau (FR) FR 48.4321174 2.6847252: y\n",
      "Saint-Malo (FR) FR 48.6409589 -1.9998701: y\n",
      "Delaware Park (USA) US 39.7042642 -75.6697697: y\n",
      "Cristal (BRZ) BRZ -30.0891671 -51.2504409: y\n",
      "Salisbury GB 51.05516739999999 -1.8652941: y\n",
      "Moe (AUS) AU -38.1836115 146.2352324: y\n",
      "Bangor-on-Dee GB 52.9925432 -2.9212055: y\n",
      "Thurles (IRE) IE 52.6889221 -7.836620799999999: y\n",
      "Downpatrick (IRE) IE 54.31558099999999 -5.7289547: y\n",
      "Ascot (AUS) AU 51.412167 -0.6794846999999999: y\n",
      "Brighton GB 50.8298439 -0.1126045: y\n",
      "Killarney (IRE) IE 52.0490085 -9.5146494: y\n",
      "Northam (AUS) AU -31.6400405 116.6977453: y\n",
      "Pimlico (USA) US 39.3522557 -76.6744784: y\n",
      "Newmarket GB 52.238014 0.3747463: y\n",
      "Hawthorne (USA) US 41.8285376 -87.7515396: y\n",
      "Clonmel (IRE) IE 52.36489479999999 -7.682519899999999: y\n",
      "Parx (USA) US 40.1212051 -74.95219809999999: y\n",
      "Waregem (BEL) BEL 50.8853452 3.4416488: y\n",
      "Gosford (AUS) AU -33.422136 151.328099: y\n",
      "Del Mar (USA) US 32.9756559 -117.2613728: y\n",
      "Lysa Nad Labem (CZE) CZE 50.1949439 14.8111933: y\n",
      "Deauville (FR) FR 49.3528213 0.075755: y\n",
      "Aintree GB 53.4734758 -2.9541277: y\n",
      "Ayr GB 55.46763019999999 -4.613116199999999: y\n",
      "Laurel Park (USA) US 39.10577749999999 -76.83221429999999: y\n",
      "Cholet (FR) FR 47.0196641 -0.8898642999999999: y\n",
      "Ballinrobe (IRE) IE 53.6382888 -9.244663599999999: y\n",
      "Kyneton (AUS) AU -37.2378692 144.4394073: y\n",
      "Fair Grounds (USA) US 36.130723 -86.76303930000002: 29.9821639,-90.0816835\n",
      "Kempton GB 51.4179611 -0.4066156: y\n",
      "Yarmouth GB 52.6297628 1.7317162: y\n",
      "Ellis Park (USA) US 37.9144444 -87.5463889: y\n",
      "Turffontein Standside (SAF) SAF -26.2402761 28.0420726: y\n",
      "Kempton (AW) GB 38.0469517 -84.60624039999999: 51.4179611,-0.4066156\n",
      "Indiana Grand (USA) US 39.5892648 -85.82450209999999: y\n",
      "Vichy (FR) FR 43.7144731 -79.6041188: 46.1328569,3.4003309\n",
      "Le Croise-Laroche (FR) FR 50.6650566 3.0918252: y\n",
      "Kanazawa (JPN) JP 36.6365075 136.6747938: y\n",
      "Chateaubriant (FR) FR 47.7375984 -1.3921601: y\n",
      "Baden-Baden (GER) GER 48.823995 8.143936: y\n",
      "Armidale (AUS) AU -30.516628 151.6774554: y\n",
      "Sakhir (BHR) BHR 26.0315904 50.5112948: y\n",
      "Merano (ITY) IT 46.65430860000001 11.1513943: y\n",
      "Evangeline Downs (USA) US 30.525999 -92.0607986: y\n",
      "Albuquerque (USA) US 35.008089 -106.605967: y\n",
      "Vittel (FR) FR 48.2171921 5.9384698: y\n",
      "Copenhagen (DEN) DEN 55.7707366 12.5723848: y\n",
      "Hanshin (JPN) JP 34.7802582 135.3620719: y\n",
      "San Isidro (ARG) ARG -34.48152510000001 -58.51772: y\n",
      "Marseille Borely (FR) FR 43.2576515 5.3783604: y\n",
      "Belmont Park (Perth) (AUS) AU -31.946758 115.8906541: y\n",
      "Argentan (FR) FR 48.751487 -0.001973: y\n",
      "Naas (IRE) IE 53.2193372 -6.647107999999999: y\n",
      "Stratford GB 52.183083 -1.725502: y\n",
      "Chantilly (FR) FR 49.1909251 2.4755934: y\n",
      "Beverley GB 53.8431355 -0.4584377: y\n",
      "Taipa (MAC) MAC 38.0469517 -84.60624039999999: 22.1525529,113.5510361\n",
      "Munich (GER) GER 48.1420898 11.6576032: y\n",
      "Kilbeggan (IRE) IE 53.385273 -7.4918169: y\n",
      "Ludlow GB 52.39259509999999 -2.7523782: y\n",
      "San Siro (ITY) IT 45.4781236 9.123961999999999: y\n",
      "Galway (IRE) IE 53.298151 -8.996836: y\n",
      "Meadowlands (USA) US 40.82003150000001 -74.07152549999999: y\n",
      "Gulfstream Park West (USA) US 25.9780654 -80.1395727: y\n",
      "Launceston (AUS) AU -41.403419 147.1378685: y\n",
      "Ascot GB 51.412167 -0.6794846999999999: y\n",
      "Cork (IRE) IE 51.876109 -8.549856: y\n",
      "Bath GB 51.4186697 -2.4072092: y\n",
      "Fukushima (JPN) JP 37.7653639 140.4801108: y\n",
      "Canterbury Park (AUS) AU 44.7903875 -93.4837305: y\n",
      "Le Touquet (FR) FR 50.5237846 1.6056376: y\n",
      "Windsor GB 51.4851465 -0.6337456: y\n",
      "Fairyhouse (IRE) IE 53.4842453 -6.467504: y\n",
      "Wangaratta (AUS) AU -36.3586093 146.2877578: y\n",
      "Grafton (AUS) AU -29.6739061 152.9295551: y\n",
      "Krefeld (GER) GER 51.35724 6.5871799: y\n",
      "Trentham (NZ) NZ -41.140444 175.0402339: y\n",
      "Bremen (GER) GER 53.0737652 8.895747199999999: y\n",
      "Capannelle (ITY) IT 41.8240481 12.5694535: y\n",
      "Valparaiso Sporting Club (CHI) CHI -33.0224396 -71.5385431: y\n",
      "Toulouse (FR) FR 43.5904106 1.4044881: y\n",
      "Evreux (FR) FR 49.009804 1.113449: y\n",
      "Arlington Park (USA) US 42.0931855 -88.0101135: y\n",
      "Stromsholm (SWE) SWE 59.51913140000001 16.2576558: y\n",
      "Enghien (FR) FR 39.1888187 -75.5333831: 48.9800775,2.2899192\n",
      "Fonner Park (USA) US 40.9059953 -98.3289427: y\n",
      "Timonium (USA) US 39.4465769 -76.6301256: y\n",
      "Sligo (IRE) IE 54.2620085 -8.4631764: y\n",
      "Leopardstown (IRE) IE 53.266888 -6.1954649: y\n",
      "Jagersro (SWE) SWE 55.5698796 13.0696843: y\n",
      "Listowel (IRE) IE 52.4363073 -9.4872184: y\n",
      "Ipswich (AUS) AU -27.6131087 152.8012639: y\n",
      "Greyville (SAF) SAF -29.8406433 31.0121958: y\n",
      "Lingfield (AW) GB 51.16984170000001 -0.006313699999999999: y\n",
      "Oaklawn Park (USA) US 34.4840165 -93.0591678: y\n",
      "Century Mile (CAN) CAN 53.3146324 -113.5600738: y\n",
      "Plumpton GB 50.9244444 -0.0644444: y\n",
      "Nimes (FR) FR 43.8320884 4.4020318: y\n",
      "Pukekura Raceway (NZ) NZ -39.065593 174.0850997: y\n",
      "Doomben (AUS) AU -27.4286174 153.0743532: y\n",
      "Moonee Valley (AUS) AU -37.7663833 144.9282865: y\n",
      "Lyon-La Soie (FR) FR 45.76529499999999 4.9211404: y\n",
      "Ellerslie (NZ) NZ -36.8900852 174.8025313: y\n",
      "Chepstow (GB) (ARAB) ARAB 51.6513199 -2.6918557: y\n",
      "Dresden (GER) GER 51.0194631 13.7972158: y\n",
      "Flamingo Park (SAF) SAF 25.9780654 -80.1395727: -27.9511032,26.7291226\n",
      "Sha Tin (HK) HK 22.4011111 114.2052778: y\n",
      "Tampa Bay Downs (USA) US 28.0497651 -82.64794669999999: y\n",
      "Turf Paradise (USA) US 33.6358416 -112.0948479: y\n",
      "Far Hills (USA) US 40.683331 -74.63604409999999: y\n",
      "Pakenham (AUS) AU 43.7144731 -79.6041188: -38.0868282,145.6148533\n",
      "Veliefendi (TUR) TUR 40.9864959 28.8865528: y\n",
      "Pornichet-La Baule (FR) FR 47.25990789999999 -2.3308889: y\n",
      "Presque Isle Downs (USA) US 42.06850590000001 -80.03093910000001: y\n",
      "Monmouth Park (USA) US 40.3082133 -74.0183497: y\n",
      "Strasbourg (FR) FR 48.5615177 7.7867049: y\n",
      "Kelso GB 55.6120587 -2.4368533: y\n",
      "Saint-Brieuc (FR) FR 48.5064341 -2.7302527: y\n",
      "Golden Gate Fields (USA) US 37.8841093 -122.3118006: y\n",
      "Dundalk (IRE) IE 43.7144731 -79.6041188: 54.0208111,-6.3854388\n",
      "Craon (FR) FR 47.8367064 -0.9345633: y\n",
      "Hoppegarten (GER) GER 52.513792 13.6685586: y\n",
      "Awapuni (NZ) NZ -40.3790825 175.5780189: y\n",
      "Ffos Las GB 51.7326177 -4.2351112: y\n",
      "Hollywood Park (USA) US 33.9463621 -118.3383305: y\n",
      "Le Mans (FR) FR 47.9560052 0.2078705: y\n",
      "Ostend (BEL) BEL 51.2229749 2.9009375: y\n",
      "Tarbes (FR) FR 43.20463609999999 0.0664839: y\n",
      "Morphettville (AUS) AU -34.977575 138.54267: y\n",
      "Newcastle (AW) GB 55.0353797 -1.6117691: y\n",
      "Mannheim (GER) GER 49.4683494 8.5237941: y\n",
      "Durbanville (SAF) SAF 43.7144731 -79.6041188: -33.8298152,18.6435689\n",
      "Zia park (USA) US 32.7506637 -103.1868057: y\n",
      "Hamilton GB 55.7903347 -4.0521648: y\n",
      "Retama Park (USA) US 29.5851854 -98.3159767: y\n",
      "Tokyo (JPN) JP 35.6625026 139.4858513: y\n",
      "Perth GB 56.4275811 -3.4472406: y\n",
      "Southwell (AW) GB 53.06540450000001 -0.9012476999999999: y\n",
      "Chester GB 53.1878164 -2.898556: y\n",
      "Newcastle (AUS) AU -32.93231129999999 151.7386075: y\n",
      "Chukyo (JPN) JP 35.0667169 136.9918642: y\n",
      "Werribee (AUS) AU -37.9071445 144.6400762: y\n",
      "Northlands park (CAN) CAN 53.5649166 -113.4569298: y\n",
      "Newton Abbot GB 50.53873489999999 -3.6007016: y\n",
      "Morioka (JPN) JP 39.69257289999999 141.219179: y\n",
      "Curragh (IRE) IE 53.167717 -6.839608: y\n"
     ]
    }
   ],
   "source": [
    "# manually check these locations\n",
    "for (course, country_code), location in course_and_country_to_location.items():\n",
    "    confirmation_str = input(f\"{course} {country_code} {location['lat']} {location['lng']}: \")\n",
    "    if confirmation_str != 'y':\n",
    "        lat, lng = [float(x) for x in confirmation_str.split(',')]\n",
    "        location = {'lat': lat, 'lng': lng}\n",
    "        course_and_country_to_location[(course, country_code)] = location"
   ]
  },
  {
   "cell_type": "code",
   "execution_count": 17,
   "id": "1b8f0b7b",
   "metadata": {},
   "outputs": [
    {
     "name": "stdout",
     "output_type": "stream",
     "text": [
      "Lingfield GB: 51.1698417,-0.0763515\n",
      "Club Hipico de Santiago (CHI) CHI: -33.4599857,-70.6671709\n",
      "Albury (AUS) AU: -36.0960327,146.8883438\n",
      "Flemington (AUS) AU: -37.7889216,144.9139184\n",
      "Wetherby GB: 53.9352112,-1.3591588\n",
      "Gundagai (AUS) AU: -35.0717263,148.1147263\n",
      "Punchestown (IRE) IE: 53.1858233,-6.6314812\n",
      "Tipperary (IRE) IE: 52.499317,-8.2077334\n",
      "Taruma (BRZ) BRZ: -30.0503533,-51.0170615\n",
      "Mahoning Valley (USA) US: 41.1156274,-80.7633428\n",
      "Louisiana Downs (USA) US: 32.5464469,-93.6274792\n",
      "Cranbourne (AUS) AU: -38.1185504,145.2774846\n",
      "Wagga Wagga (AUS) AU: -35.0892956,147.3585533\n",
      "Caulfield (AUS) AU: -37.8788669,145.0384023\n",
      "La Zarzuela (SPA) SPA: 40.4679587,-3.7583522\n",
      "Eagle Farm (AUS) AU: -27.4269857,153.0696649\n",
      "Cidade Jardim (BRZ) BRZ: -23.5820087,-46.7006284\n",
      "Matamata (NZ) NZ: -37.8352662,175.7708835\n",
      "Compiegne (FR) FR: 49.3966486,2.9277761\n",
      "Te Rapa (NZ) NZ: -37.7637919,175.2446604\n",
      "Ballarat (AUS) AU: -37.527299,143.7897138\n",
      "Gulfstream Park (USA) US: 25.9780702,-80.1417614\n",
      "Wyong (AUS) AU: -33.2823236,151.4248299\n",
      "Newmarket (July) GB: 52.2380173,0.3725576\n",
      "Tauranga (NZ) NZ: -37.7276492,176.1238488\n",
      "Bendigo (AUS) AU: -36.7264922,144.3159772\n",
      "Hobart (AUS) AU: -42.8253822,145.0480194\n",
      "Te aroha (NZ) NZ: -37.5602715,175.7036348\n"
     ]
    }
   ],
   "source": [
    "for course, country_code in unknown:\n",
    "    location_str = input(f\"{course} {country_code}: \")\n",
    "    lat, lng = [float(x) for x in location_str.split(',')]\n",
    "    location = {'lat': lat, 'lng': lng}\n",
    "    course_and_country_to_location[(course, country_code)] = location"
   ]
  },
  {
   "cell_type": "code",
   "execution_count": 18,
   "id": "855e1587",
   "metadata": {},
   "outputs": [],
   "source": [
    "assert len(course_and_country_to_location) == len(COURSE_AND_COUNTRY)"
   ]
  },
  {
   "cell_type": "markdown",
   "id": "58e02f17",
   "metadata": {},
   "source": [
    "---"
   ]
  },
  {
   "cell_type": "markdown",
   "id": "458edf30",
   "metadata": {},
   "source": [
    "## Write to File in `utils`"
   ]
  },
  {
   "cell_type": "code",
   "execution_count": 19,
   "id": "2b0e233c",
   "metadata": {},
   "outputs": [
    {
     "data": {
      "text/plain": [
       "\"COURSE_AND_COUNTRY_TO_LOCATION = {('Down Royal (IRE)', 'IE'): {'lat': 54.4869619, 'lng': -6.1277164}\""
      ]
     },
     "execution_count": 19,
     "metadata": {},
     "output_type": "execute_result"
    }
   ],
   "source": [
    "s = f\"COURSE_AND_COUNTRY_TO_LOCATION = {course_and_country_to_location}\"\n",
    "s[:100]"
   ]
  },
  {
   "cell_type": "code",
   "execution_count": 21,
   "id": "fdbaae51",
   "metadata": {},
   "outputs": [],
   "source": [
    "with open(f\"{BASE_DIR}/utils/course_and_country_to_location.py\", 'w', encoding='utf-8') as f:\n",
    "    f.write(s)"
   ]
  },
  {
   "cell_type": "markdown",
   "id": "8c9dd2a7",
   "metadata": {},
   "source": [
    "---"
   ]
  }
 ],
 "metadata": {
  "kernelspec": {
   "display_name": "Python 3 (ipykernel)",
   "language": "python",
   "name": "python3"
  },
  "language_info": {
   "codemirror_mode": {
    "name": "ipython",
    "version": 3
   },
   "file_extension": ".py",
   "mimetype": "text/x-python",
   "name": "python",
   "nbconvert_exporter": "python",
   "pygments_lexer": "ipython3",
   "version": "3.9.6"
  }
 },
 "nbformat": 4,
 "nbformat_minor": 5
}
