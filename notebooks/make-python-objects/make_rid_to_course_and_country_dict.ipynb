{
 "cells": [
  {
   "cell_type": "markdown",
   "id": "58796508",
   "metadata": {},
   "source": [
    "# `make_rid_to_course_and_country_dict.ipynb`"
   ]
  },
  {
   "cell_type": "markdown",
   "id": "2f87b0d3",
   "metadata": {},
   "source": [
    "### Author: Anthony Hein"
   ]
  },
  {
   "cell_type": "markdown",
   "id": "c849a5ff",
   "metadata": {},
   "source": [
    "#### Last updated: 9/25/2021"
   ]
  },
  {
   "cell_type": "markdown",
   "id": "af8b11a6",
   "metadata": {},
   "source": [
    "# Overview:\n",
    "\n",
    "Create a dictionary that maps a race number `rid` to the course and country code for that race. This will be used to eventually find the weather data of the nearest station. Write this dictionary as a constant in a Python file in the `utils` folder for easy import."
   ]
  },
  {
   "cell_type": "markdown",
   "id": "cd6b1d91",
   "metadata": {},
   "source": [
    "---"
   ]
  },
  {
   "cell_type": "markdown",
   "id": "b051b2cb",
   "metadata": {},
   "source": [
    "## Setup"
   ]
  },
  {
   "cell_type": "code",
   "execution_count": 1,
   "id": "58c3fd18",
   "metadata": {},
   "outputs": [],
   "source": [
    "import git\n",
    "import os\n",
    "from typing import List\n",
    "from tqdm import tqdm\n",
    "import pandas as pd\n",
    "import numpy as np\n",
    "import matplotlib.pyplot as plt\n",
    "%matplotlib inline"
   ]
  },
  {
   "cell_type": "code",
   "execution_count": 2,
   "id": "a4040252",
   "metadata": {},
   "outputs": [
    {
     "data": {
      "text/plain": [
       "'/Users/anthonyhein/Desktop/SML310/project'"
      ]
     },
     "execution_count": 2,
     "metadata": {},
     "output_type": "execute_result"
    }
   ],
   "source": [
    "BASE_DIR = git.Repo(os.getcwd(), search_parent_directories=True).working_dir\n",
    "BASE_DIR"
   ]
  },
  {
   "cell_type": "markdown",
   "id": "846658c0",
   "metadata": {},
   "source": [
    "---"
   ]
  },
  {
   "cell_type": "markdown",
   "id": "5f4b23bd",
   "metadata": {},
   "source": [
    "## Load `races_aticnm.csv`"
   ]
  },
  {
   "cell_type": "code",
   "execution_count": 3,
   "id": "30fdd91b",
   "metadata": {},
   "outputs": [
    {
     "data": {
      "text/html": [
       "<div>\n",
       "<style scoped>\n",
       "    .dataframe tbody tr th:only-of-type {\n",
       "        vertical-align: middle;\n",
       "    }\n",
       "\n",
       "    .dataframe tbody tr th {\n",
       "        vertical-align: top;\n",
       "    }\n",
       "\n",
       "    .dataframe thead th {\n",
       "        text-align: right;\n",
       "    }\n",
       "</style>\n",
       "<table border=\"1\" class=\"dataframe\">\n",
       "  <thead>\n",
       "    <tr style=\"text-align: right;\">\n",
       "      <th></th>\n",
       "      <th>rid</th>\n",
       "      <th>course</th>\n",
       "      <th>time</th>\n",
       "      <th>date</th>\n",
       "      <th>hurdles</th>\n",
       "      <th>prizes</th>\n",
       "      <th>winningTime</th>\n",
       "      <th>metric</th>\n",
       "      <th>countryCode</th>\n",
       "      <th>ncond</th>\n",
       "      <th>class</th>\n",
       "    </tr>\n",
       "  </thead>\n",
       "  <tbody>\n",
       "    <tr>\n",
       "      <th>0</th>\n",
       "      <td>267255</td>\n",
       "      <td>Southwell (AW)</td>\n",
       "      <td>03:40</td>\n",
       "      <td>97/01/01</td>\n",
       "      <td>NaN</td>\n",
       "      <td>[2752.25, 833.0, 406.5, 193.25]</td>\n",
       "      <td>106.9</td>\n",
       "      <td>1609.0</td>\n",
       "      <td>GB</td>\n",
       "      <td>0</td>\n",
       "      <td>5</td>\n",
       "    </tr>\n",
       "    <tr>\n",
       "      <th>1</th>\n",
       "      <td>297570</td>\n",
       "      <td>Southwell (AW)</td>\n",
       "      <td>12:35</td>\n",
       "      <td>97/01/01</td>\n",
       "      <td>NaN</td>\n",
       "      <td>[1944.0, 544.0, 264.0]</td>\n",
       "      <td>91.0</td>\n",
       "      <td>1407.0</td>\n",
       "      <td>GB</td>\n",
       "      <td>0</td>\n",
       "      <td>6</td>\n",
       "    </tr>\n",
       "    <tr>\n",
       "      <th>2</th>\n",
       "      <td>334421</td>\n",
       "      <td>Southwell (AW)</td>\n",
       "      <td>01:05</td>\n",
       "      <td>97/01/01</td>\n",
       "      <td>NaN</td>\n",
       "      <td>[2502.0, 702.0, 342.0]</td>\n",
       "      <td>150.7</td>\n",
       "      <td>2212.0</td>\n",
       "      <td>GB</td>\n",
       "      <td>0</td>\n",
       "      <td>6</td>\n",
       "    </tr>\n",
       "    <tr>\n",
       "      <th>3</th>\n",
       "      <td>366304</td>\n",
       "      <td>Southwell (AW)</td>\n",
       "      <td>03:10</td>\n",
       "      <td>97/01/01</td>\n",
       "      <td>NaN</td>\n",
       "      <td>[2189.0, 614.0, 299.0]</td>\n",
       "      <td>108.6</td>\n",
       "      <td>1609.0</td>\n",
       "      <td>GB</td>\n",
       "      <td>0</td>\n",
       "      <td>6</td>\n",
       "    </tr>\n",
       "    <tr>\n",
       "      <th>4</th>\n",
       "      <td>13063</td>\n",
       "      <td>Southwell (AW)</td>\n",
       "      <td>02:40</td>\n",
       "      <td>97/01/01</td>\n",
       "      <td>NaN</td>\n",
       "      <td>[2726.25, 825.0, 402.5, 191.25]</td>\n",
       "      <td>231.4</td>\n",
       "      <td>3318.5</td>\n",
       "      <td>GB</td>\n",
       "      <td>0</td>\n",
       "      <td>5</td>\n",
       "    </tr>\n",
       "  </tbody>\n",
       "</table>\n",
       "</div>"
      ],
      "text/plain": [
       "      rid          course   time      date  hurdles  \\\n",
       "0  267255  Southwell (AW)  03:40  97/01/01      NaN   \n",
       "1  297570  Southwell (AW)  12:35  97/01/01      NaN   \n",
       "2  334421  Southwell (AW)  01:05  97/01/01      NaN   \n",
       "3  366304  Southwell (AW)  03:10  97/01/01      NaN   \n",
       "4   13063  Southwell (AW)  02:40  97/01/01      NaN   \n",
       "\n",
       "                            prizes  winningTime  metric countryCode ncond  \\\n",
       "0  [2752.25, 833.0, 406.5, 193.25]        106.9  1609.0          GB     0   \n",
       "1           [1944.0, 544.0, 264.0]         91.0  1407.0          GB     0   \n",
       "2           [2502.0, 702.0, 342.0]        150.7  2212.0          GB     0   \n",
       "3           [2189.0, 614.0, 299.0]        108.6  1609.0          GB     0   \n",
       "4  [2726.25, 825.0, 402.5, 191.25]        231.4  3318.5          GB     0   \n",
       "\n",
       "   class  \n",
       "0      5  \n",
       "1      6  \n",
       "2      6  \n",
       "3      6  \n",
       "4      5  "
      ]
     },
     "execution_count": 3,
     "metadata": {},
     "output_type": "execute_result"
    }
   ],
   "source": [
    "races_aticnm = pd.read_csv(f\"{BASE_DIR}/data/csv/races_aticnm.csv\", low_memory=False) \n",
    "races_aticnm.head()"
   ]
  },
  {
   "cell_type": "code",
   "execution_count": 4,
   "id": "dd2911c2",
   "metadata": {},
   "outputs": [
    {
     "data": {
      "text/plain": [
       "(178067, 11)"
      ]
     },
     "execution_count": 4,
     "metadata": {},
     "output_type": "execute_result"
    }
   ],
   "source": [
    "races_aticnm.shape"
   ]
  },
  {
   "cell_type": "markdown",
   "id": "f9109550",
   "metadata": {},
   "source": [
    "---"
   ]
  },
  {
   "cell_type": "markdown",
   "id": "6e643ee3",
   "metadata": {},
   "source": [
    "## Make `rid` to `course` and `country` Dict"
   ]
  },
  {
   "cell_type": "code",
   "execution_count": 5,
   "id": "c3cf9af1",
   "metadata": {},
   "outputs": [
    {
     "name": "stderr",
     "output_type": "stream",
     "text": [
      "178067it [00:07, 23627.50it/s]\n"
     ]
    }
   ],
   "source": [
    "d = {}\n",
    "for _, row in tqdm(races_aticnm.iterrows()):\n",
    "    d[row['rid']] = {\n",
    "        'course': row['course'],\n",
    "        'countryCode': row['countryCode']\n",
    "    }"
   ]
  },
  {
   "cell_type": "markdown",
   "id": "458edf30",
   "metadata": {},
   "source": [
    "## Write to File in `utils`"
   ]
  },
  {
   "cell_type": "code",
   "execution_count": 6,
   "id": "2b0e233c",
   "metadata": {},
   "outputs": [
    {
     "data": {
      "text/plain": [
       "\"RID_TO_COURSE_AND_COUNTRY = {267255: {'course': 'Southwell (AW)', 'countryCode': 'GB'}, 297570: {'co\""
      ]
     },
     "execution_count": 6,
     "metadata": {},
     "output_type": "execute_result"
    }
   ],
   "source": [
    "s = f\"RID_TO_COURSE_AND_COUNTRY = {d}\"\n",
    "s[:100]"
   ]
  },
  {
   "cell_type": "code",
   "execution_count": 7,
   "id": "fdbaae51",
   "metadata": {},
   "outputs": [],
   "source": [
    "with open(f\"{BASE_DIR}/utils/rid_to_course_and_country.py\", 'w', encoding='utf-8') as f:\n",
    "    f.write(s)"
   ]
  },
  {
   "cell_type": "markdown",
   "id": "8c9dd2a7",
   "metadata": {},
   "source": [
    "---"
   ]
  }
 ],
 "metadata": {
  "kernelspec": {
   "display_name": "Python 3 (ipykernel)",
   "language": "python",
   "name": "python3"
  },
  "language_info": {
   "codemirror_mode": {
    "name": "ipython",
    "version": 3
   },
   "file_extension": ".py",
   "mimetype": "text/x-python",
   "name": "python",
   "nbconvert_exporter": "python",
   "pygments_lexer": "ipython3",
   "version": "3.9.6"
  }
 },
 "nbformat": 4,
 "nbformat_minor": 5
}
