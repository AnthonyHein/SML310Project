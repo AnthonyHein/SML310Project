{
 "cells": [
  {
   "cell_type": "markdown",
   "id": "58796508",
   "metadata": {},
   "source": [
    "# `make_rid_to_runners_dict.ipynb`"
   ]
  },
  {
   "cell_type": "markdown",
   "id": "2f87b0d3",
   "metadata": {},
   "source": [
    "### Author: Anthony Hein"
   ]
  },
  {
   "cell_type": "markdown",
   "id": "c849a5ff",
   "metadata": {},
   "source": [
    "#### Last updated: 9/20/2021"
   ]
  },
  {
   "cell_type": "markdown",
   "id": "af8b11a6",
   "metadata": {},
   "source": [
    "# Overview:\n",
    "\n",
    "Create a dictionary that maps a race number `rid` to the number of horses running in that race. This is a much quicker alternative to finding this information from the `horses_all(_trim(_intxn(_clean))).csv` dataframes. Write this dictionary as a constant in a Python file in the `utils` folder for easy import."
   ]
  },
  {
   "cell_type": "markdown",
   "id": "cd6b1d91",
   "metadata": {},
   "source": [
    "---"
   ]
  },
  {
   "cell_type": "markdown",
   "id": "b051b2cb",
   "metadata": {},
   "source": [
    "## Setup"
   ]
  },
  {
   "cell_type": "code",
   "execution_count": 1,
   "id": "58c3fd18",
   "metadata": {},
   "outputs": [],
   "source": [
    "import git\n",
    "import os\n",
    "from typing import List\n",
    "from tqdm import tqdm\n",
    "import pandas as pd\n",
    "import numpy as np\n",
    "import matplotlib.pyplot as plt\n",
    "%matplotlib inline"
   ]
  },
  {
   "cell_type": "code",
   "execution_count": 2,
   "id": "a4040252",
   "metadata": {},
   "outputs": [
    {
     "data": {
      "text/plain": [
       "'/Users/anthonyhein/Desktop/SML310/project'"
      ]
     },
     "execution_count": 2,
     "metadata": {},
     "output_type": "execute_result"
    }
   ],
   "source": [
    "BASE_DIR = git.Repo(os.getcwd(), search_parent_directories=True).working_dir\n",
    "BASE_DIR"
   ]
  },
  {
   "cell_type": "markdown",
   "id": "846658c0",
   "metadata": {},
   "source": [
    "---"
   ]
  },
  {
   "cell_type": "markdown",
   "id": "96a60381",
   "metadata": {},
   "source": [
    "## Load `horses_all(_trim(_intxn)).csv`"
   ]
  },
  {
   "cell_type": "code",
   "execution_count": 3,
   "id": "5e4eeb2a",
   "metadata": {},
   "outputs": [
    {
     "data": {
      "text/html": [
       "<div>\n",
       "<style scoped>\n",
       "    .dataframe tbody tr th:only-of-type {\n",
       "        vertical-align: middle;\n",
       "    }\n",
       "\n",
       "    .dataframe tbody tr th {\n",
       "        vertical-align: top;\n",
       "    }\n",
       "\n",
       "    .dataframe thead th {\n",
       "        text-align: right;\n",
       "    }\n",
       "</style>\n",
       "<table border=\"1\" class=\"dataframe\">\n",
       "  <thead>\n",
       "    <tr style=\"text-align: right;\">\n",
       "      <th></th>\n",
       "      <th>rid</th>\n",
       "      <th>horseName</th>\n",
       "      <th>age</th>\n",
       "      <th>saddle</th>\n",
       "      <th>decimalPrice</th>\n",
       "      <th>isFav</th>\n",
       "      <th>trainerName</th>\n",
       "      <th>jockeyName</th>\n",
       "      <th>position</th>\n",
       "      <th>positionL</th>\n",
       "      <th>...</th>\n",
       "      <th>TR</th>\n",
       "      <th>OR</th>\n",
       "      <th>father</th>\n",
       "      <th>mother</th>\n",
       "      <th>gfather</th>\n",
       "      <th>runners</th>\n",
       "      <th>margin</th>\n",
       "      <th>weight</th>\n",
       "      <th>res_win</th>\n",
       "      <th>res_place</th>\n",
       "    </tr>\n",
       "  </thead>\n",
       "  <tbody>\n",
       "    <tr>\n",
       "      <th>0</th>\n",
       "      <td>267255</td>\n",
       "      <td>Going For Broke</td>\n",
       "      <td>3.0</td>\n",
       "      <td>4.0</td>\n",
       "      <td>0.100000</td>\n",
       "      <td>0</td>\n",
       "      <td>P C Haslam</td>\n",
       "      <td>Seb Sanders</td>\n",
       "      <td>1</td>\n",
       "      <td>NaN</td>\n",
       "      <td>...</td>\n",
       "      <td>62.0</td>\n",
       "      <td>62.0</td>\n",
       "      <td>Simply Great</td>\n",
       "      <td>Empty Purse</td>\n",
       "      <td>Pennine Walk</td>\n",
       "      <td>6</td>\n",
       "      <td>1.168254</td>\n",
       "      <td>58</td>\n",
       "      <td>1.0</td>\n",
       "      <td>1.0</td>\n",
       "    </tr>\n",
       "    <tr>\n",
       "      <th>1</th>\n",
       "      <td>267255</td>\n",
       "      <td>Pinchincha</td>\n",
       "      <td>3.0</td>\n",
       "      <td>3.0</td>\n",
       "      <td>0.266667</td>\n",
       "      <td>0</td>\n",
       "      <td>Dave Morris</td>\n",
       "      <td>Tony Clark</td>\n",
       "      <td>2</td>\n",
       "      <td>4</td>\n",
       "      <td>...</td>\n",
       "      <td>56.0</td>\n",
       "      <td>65.0</td>\n",
       "      <td>Priolo</td>\n",
       "      <td>Western Heights</td>\n",
       "      <td>Shirley Heights</td>\n",
       "      <td>6</td>\n",
       "      <td>1.168254</td>\n",
       "      <td>60</td>\n",
       "      <td>0.0</td>\n",
       "      <td>1.0</td>\n",
       "    </tr>\n",
       "    <tr>\n",
       "      <th>2</th>\n",
       "      <td>267255</td>\n",
       "      <td>Skelton Sovereign</td>\n",
       "      <td>3.0</td>\n",
       "      <td>5.0</td>\n",
       "      <td>0.142857</td>\n",
       "      <td>0</td>\n",
       "      <td>Reg Hollinshead</td>\n",
       "      <td>D Griffiths</td>\n",
       "      <td>3</td>\n",
       "      <td>3</td>\n",
       "      <td>...</td>\n",
       "      <td>40.0</td>\n",
       "      <td>60.0</td>\n",
       "      <td>Contract Law</td>\n",
       "      <td>Mrs Lucky</td>\n",
       "      <td>Royal Match</td>\n",
       "      <td>6</td>\n",
       "      <td>1.168254</td>\n",
       "      <td>55</td>\n",
       "      <td>0.0</td>\n",
       "      <td>0.0</td>\n",
       "    </tr>\n",
       "    <tr>\n",
       "      <th>3</th>\n",
       "      <td>267255</td>\n",
       "      <td>Fast Spin</td>\n",
       "      <td>3.0</td>\n",
       "      <td>6.0</td>\n",
       "      <td>0.380952</td>\n",
       "      <td>1</td>\n",
       "      <td>David Barron</td>\n",
       "      <td>Tony Culhane</td>\n",
       "      <td>4</td>\n",
       "      <td>7</td>\n",
       "      <td>...</td>\n",
       "      <td>30.0</td>\n",
       "      <td>59.0</td>\n",
       "      <td>Formidable I</td>\n",
       "      <td>Topwinder</td>\n",
       "      <td>Topsider</td>\n",
       "      <td>6</td>\n",
       "      <td>1.168254</td>\n",
       "      <td>57</td>\n",
       "      <td>0.0</td>\n",
       "      <td>0.0</td>\n",
       "    </tr>\n",
       "    <tr>\n",
       "      <th>4</th>\n",
       "      <td>267255</td>\n",
       "      <td>As-Is</td>\n",
       "      <td>3.0</td>\n",
       "      <td>2.0</td>\n",
       "      <td>0.166667</td>\n",
       "      <td>0</td>\n",
       "      <td>Mark Johnston</td>\n",
       "      <td>J Weaver</td>\n",
       "      <td>5</td>\n",
       "      <td>7</td>\n",
       "      <td>...</td>\n",
       "      <td>21.0</td>\n",
       "      <td>65.0</td>\n",
       "      <td>Lomond</td>\n",
       "      <td>Capriati I</td>\n",
       "      <td>Diesis</td>\n",
       "      <td>6</td>\n",
       "      <td>1.168254</td>\n",
       "      <td>60</td>\n",
       "      <td>0.0</td>\n",
       "      <td>0.0</td>\n",
       "    </tr>\n",
       "  </tbody>\n",
       "</table>\n",
       "<p>5 rows × 27 columns</p>\n",
       "</div>"
      ],
      "text/plain": [
       "      rid          horseName  age  saddle  decimalPrice  isFav  \\\n",
       "0  267255    Going For Broke  3.0     4.0      0.100000      0   \n",
       "1  267255         Pinchincha  3.0     3.0      0.266667      0   \n",
       "2  267255  Skelton Sovereign  3.0     5.0      0.142857      0   \n",
       "3  267255          Fast Spin  3.0     6.0      0.380952      1   \n",
       "4  267255              As-Is  3.0     2.0      0.166667      0   \n",
       "\n",
       "       trainerName    jockeyName  position positionL  ...    TR    OR  \\\n",
       "0       P C Haslam   Seb Sanders         1       NaN  ...  62.0  62.0   \n",
       "1      Dave Morris    Tony Clark         2         4  ...  56.0  65.0   \n",
       "2  Reg Hollinshead   D Griffiths         3         3  ...  40.0  60.0   \n",
       "3     David Barron  Tony Culhane         4         7  ...  30.0  59.0   \n",
       "4    Mark Johnston      J Weaver         5         7  ...  21.0  65.0   \n",
       "\n",
       "         father           mother          gfather runners    margin  weight  \\\n",
       "0  Simply Great      Empty Purse     Pennine Walk       6  1.168254      58   \n",
       "1        Priolo  Western Heights  Shirley Heights       6  1.168254      60   \n",
       "2  Contract Law        Mrs Lucky      Royal Match       6  1.168254      55   \n",
       "3  Formidable I        Topwinder         Topsider       6  1.168254      57   \n",
       "4        Lomond       Capriati I           Diesis       6  1.168254      60   \n",
       "\n",
       "   res_win res_place  \n",
       "0      1.0       1.0  \n",
       "1      0.0       1.0  \n",
       "2      0.0       0.0  \n",
       "3      0.0       0.0  \n",
       "4      0.0       0.0  \n",
       "\n",
       "[5 rows x 27 columns]"
      ]
     },
     "execution_count": 3,
     "metadata": {},
     "output_type": "execute_result"
    }
   ],
   "source": [
    "horses_all = pd.read_csv(f\"{BASE_DIR}/data/csv/horses_all.csv\", low_memory=False) \n",
    "horses_all.head()"
   ]
  },
  {
   "cell_type": "code",
   "execution_count": 4,
   "id": "8d2d4f74",
   "metadata": {},
   "outputs": [
    {
     "data": {
      "text/plain": [
       "(4107315, 27)"
      ]
     },
     "execution_count": 4,
     "metadata": {},
     "output_type": "execute_result"
    }
   ],
   "source": [
    "horses_all.shape"
   ]
  },
  {
   "cell_type": "markdown",
   "id": "cef79ad9",
   "metadata": {},
   "source": [
    "---"
   ]
  },
  {
   "cell_type": "markdown",
   "id": "5f4b23bd",
   "metadata": {},
   "source": [
    "## Load `races_all(_trim(_intxn)).csv`"
   ]
  },
  {
   "cell_type": "code",
   "execution_count": 5,
   "id": "30fdd91b",
   "metadata": {},
   "outputs": [
    {
     "data": {
      "text/html": [
       "<div>\n",
       "<style scoped>\n",
       "    .dataframe tbody tr th:only-of-type {\n",
       "        vertical-align: middle;\n",
       "    }\n",
       "\n",
       "    .dataframe tbody tr th {\n",
       "        vertical-align: top;\n",
       "    }\n",
       "\n",
       "    .dataframe thead th {\n",
       "        text-align: right;\n",
       "    }\n",
       "</style>\n",
       "<table border=\"1\" class=\"dataframe\">\n",
       "  <thead>\n",
       "    <tr style=\"text-align: right;\">\n",
       "      <th></th>\n",
       "      <th>rid</th>\n",
       "      <th>course</th>\n",
       "      <th>time</th>\n",
       "      <th>date</th>\n",
       "      <th>title</th>\n",
       "      <th>rclass</th>\n",
       "      <th>band</th>\n",
       "      <th>ages</th>\n",
       "      <th>distance</th>\n",
       "      <th>condition</th>\n",
       "      <th>hurdles</th>\n",
       "      <th>prizes</th>\n",
       "      <th>winningTime</th>\n",
       "      <th>prize</th>\n",
       "      <th>metric</th>\n",
       "      <th>countryCode</th>\n",
       "      <th>ncond</th>\n",
       "      <th>class</th>\n",
       "    </tr>\n",
       "  </thead>\n",
       "  <tbody>\n",
       "    <tr>\n",
       "      <th>0</th>\n",
       "      <td>267255</td>\n",
       "      <td>Southwell (AW)</td>\n",
       "      <td>03:40</td>\n",
       "      <td>97/01/01</td>\n",
       "      <td>New Year Handicap Class E</td>\n",
       "      <td>Class 5</td>\n",
       "      <td>0-70</td>\n",
       "      <td>3yo</td>\n",
       "      <td>1m</td>\n",
       "      <td>Standard</td>\n",
       "      <td>NaN</td>\n",
       "      <td>[2752.25, 833.0, 406.5, 193.25]</td>\n",
       "      <td>106.9</td>\n",
       "      <td>4184.0</td>\n",
       "      <td>1609.0</td>\n",
       "      <td>GB</td>\n",
       "      <td>0</td>\n",
       "      <td>5</td>\n",
       "    </tr>\n",
       "    <tr>\n",
       "      <th>1</th>\n",
       "      <td>297570</td>\n",
       "      <td>Southwell (AW)</td>\n",
       "      <td>12:35</td>\n",
       "      <td>97/01/01</td>\n",
       "      <td>Resolution Claiming Stakes Class F (Div I)</td>\n",
       "      <td>Class 6</td>\n",
       "      <td>NaN</td>\n",
       "      <td>4yo+</td>\n",
       "      <td>7f</td>\n",
       "      <td>Standard</td>\n",
       "      <td>NaN</td>\n",
       "      <td>[1944.0, 544.0, 264.0]</td>\n",
       "      <td>91.0</td>\n",
       "      <td>2752.0</td>\n",
       "      <td>1407.0</td>\n",
       "      <td>GB</td>\n",
       "      <td>0</td>\n",
       "      <td>6</td>\n",
       "    </tr>\n",
       "    <tr>\n",
       "      <th>2</th>\n",
       "      <td>334421</td>\n",
       "      <td>Southwell (AW)</td>\n",
       "      <td>01:05</td>\n",
       "      <td>97/01/01</td>\n",
       "      <td>One Too Many Median Auction Maiden Apprentices...</td>\n",
       "      <td>Class 6</td>\n",
       "      <td>NaN</td>\n",
       "      <td>4-6yo</td>\n",
       "      <td>1m3f</td>\n",
       "      <td>Standard</td>\n",
       "      <td>NaN</td>\n",
       "      <td>[2502.0, 702.0, 342.0]</td>\n",
       "      <td>150.7</td>\n",
       "      <td>3546.0</td>\n",
       "      <td>2212.0</td>\n",
       "      <td>GB</td>\n",
       "      <td>0</td>\n",
       "      <td>6</td>\n",
       "    </tr>\n",
       "    <tr>\n",
       "      <th>3</th>\n",
       "      <td>366304</td>\n",
       "      <td>Southwell (AW)</td>\n",
       "      <td>03:10</td>\n",
       "      <td>97/01/01</td>\n",
       "      <td>Morning Call Selling Stakes Class G Southwell ...</td>\n",
       "      <td>Class 6</td>\n",
       "      <td>NaN</td>\n",
       "      <td>3yo</td>\n",
       "      <td>1m</td>\n",
       "      <td>Standard</td>\n",
       "      <td>NaN</td>\n",
       "      <td>[2189.0, 614.0, 299.0]</td>\n",
       "      <td>108.6</td>\n",
       "      <td>3102.0</td>\n",
       "      <td>1609.0</td>\n",
       "      <td>GB</td>\n",
       "      <td>0</td>\n",
       "      <td>6</td>\n",
       "    </tr>\n",
       "    <tr>\n",
       "      <th>4</th>\n",
       "      <td>13063</td>\n",
       "      <td>Southwell (AW)</td>\n",
       "      <td>02:40</td>\n",
       "      <td>97/01/01</td>\n",
       "      <td>Thinking &amp;amp; Drinking Handicap Class E</td>\n",
       "      <td>Class 5</td>\n",
       "      <td>0-70</td>\n",
       "      <td>4yo+</td>\n",
       "      <td>2m½f</td>\n",
       "      <td>Standard</td>\n",
       "      <td>NaN</td>\n",
       "      <td>[2726.25, 825.0, 402.5, 191.25]</td>\n",
       "      <td>231.4</td>\n",
       "      <td>4144.0</td>\n",
       "      <td>3318.5</td>\n",
       "      <td>GB</td>\n",
       "      <td>0</td>\n",
       "      <td>5</td>\n",
       "    </tr>\n",
       "  </tbody>\n",
       "</table>\n",
       "</div>"
      ],
      "text/plain": [
       "      rid          course   time      date  \\\n",
       "0  267255  Southwell (AW)  03:40  97/01/01   \n",
       "1  297570  Southwell (AW)  12:35  97/01/01   \n",
       "2  334421  Southwell (AW)  01:05  97/01/01   \n",
       "3  366304  Southwell (AW)  03:10  97/01/01   \n",
       "4   13063  Southwell (AW)  02:40  97/01/01   \n",
       "\n",
       "                                               title   rclass  band   ages  \\\n",
       "0                          New Year Handicap Class E  Class 5  0-70    3yo   \n",
       "1         Resolution Claiming Stakes Class F (Div I)  Class 6   NaN   4yo+   \n",
       "2  One Too Many Median Auction Maiden Apprentices...  Class 6   NaN  4-6yo   \n",
       "3  Morning Call Selling Stakes Class G Southwell ...  Class 6   NaN    3yo   \n",
       "4           Thinking &amp; Drinking Handicap Class E  Class 5  0-70   4yo+   \n",
       "\n",
       "  distance condition hurdles                           prizes  winningTime  \\\n",
       "0       1m  Standard     NaN  [2752.25, 833.0, 406.5, 193.25]        106.9   \n",
       "1       7f  Standard     NaN           [1944.0, 544.0, 264.0]         91.0   \n",
       "2     1m3f  Standard     NaN           [2502.0, 702.0, 342.0]        150.7   \n",
       "3       1m  Standard     NaN           [2189.0, 614.0, 299.0]        108.6   \n",
       "4     2m½f  Standard     NaN  [2726.25, 825.0, 402.5, 191.25]        231.4   \n",
       "\n",
       "    prize  metric countryCode ncond  class  \n",
       "0  4184.0  1609.0          GB     0      5  \n",
       "1  2752.0  1407.0          GB     0      6  \n",
       "2  3546.0  2212.0          GB     0      6  \n",
       "3  3102.0  1609.0          GB     0      6  \n",
       "4  4144.0  3318.5          GB     0      5  "
      ]
     },
     "execution_count": 5,
     "metadata": {},
     "output_type": "execute_result"
    }
   ],
   "source": [
    "races_all = pd.read_csv(f\"{BASE_DIR}/data/csv/races_all.csv\", low_memory=False) \n",
    "races_all.head()"
   ]
  },
  {
   "cell_type": "code",
   "execution_count": 6,
   "id": "dd2911c2",
   "metadata": {},
   "outputs": [
    {
     "data": {
      "text/plain": [
       "(396572, 18)"
      ]
     },
     "execution_count": 6,
     "metadata": {},
     "output_type": "execute_result"
    }
   ],
   "source": [
    "races_all.shape"
   ]
  },
  {
   "cell_type": "markdown",
   "id": "f9109550",
   "metadata": {},
   "source": [
    "---"
   ]
  },
  {
   "cell_type": "markdown",
   "id": "84444704",
   "metadata": {},
   "source": [
    "## Make `rid` to `runners` Dict"
   ]
  },
  {
   "cell_type": "code",
   "execution_count": 7,
   "id": "e91a69c7",
   "metadata": {},
   "outputs": [
    {
     "name": "stderr",
     "output_type": "stream",
     "text": [
      "4107315it [03:32, 19293.09it/s]\n"
     ]
    }
   ],
   "source": [
    "# takes about 3.5 minutes\n",
    "\n",
    "d = {}\n",
    "for _, row in tqdm(horses_all.iterrows()):\n",
    "    d[row['rid']] = row['runners']"
   ]
  },
  {
   "cell_type": "markdown",
   "id": "3b3391fe",
   "metadata": {},
   "source": [
    "## Write to File in `utils`"
   ]
  },
  {
   "cell_type": "code",
   "execution_count": 11,
   "id": "612f1a28",
   "metadata": {},
   "outputs": [
    {
     "data": {
      "text/plain": [
       "'RID_TO_RUNNERS = {267255: 6, 297570: 11, 334421: 10, 366304: 10, 13063: 9, 176063: 11, 74037: 10, 39'"
      ]
     },
     "execution_count": 11,
     "metadata": {},
     "output_type": "execute_result"
    }
   ],
   "source": [
    "s = f\"RID_TO_RUNNERS = {d}\"\n",
    "s[:100]"
   ]
  },
  {
   "cell_type": "code",
   "execution_count": 14,
   "id": "deba0a52",
   "metadata": {},
   "outputs": [],
   "source": [
    "with open(f\"{BASE_DIR}/utils/rid_to_runners.py\", 'w', encoding='utf-8') as f:\n",
    "    f.write(s)"
   ]
  },
  {
   "cell_type": "markdown",
   "id": "0afff6b9",
   "metadata": {},
   "source": [
    "---"
   ]
  }
 ],
 "metadata": {
  "kernelspec": {
   "display_name": "Python 3 (ipykernel)",
   "language": "python",
   "name": "python3"
  },
  "language_info": {
   "codemirror_mode": {
    "name": "ipython",
    "version": 3
   },
   "file_extension": ".py",
   "mimetype": "text/x-python",
   "name": "python",
   "nbconvert_exporter": "python",
   "pygments_lexer": "ipython3",
   "version": "3.9.6"
  }
 },
 "nbformat": 4,
 "nbformat_minor": 5
}
