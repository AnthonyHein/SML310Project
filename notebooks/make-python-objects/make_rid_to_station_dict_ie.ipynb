{
 "cells": [
  {
   "cell_type": "markdown",
   "id": "58796508",
   "metadata": {},
   "source": [
    "# `make_rid_to_station_dict_ie.ipynb`"
   ]
  },
  {
   "cell_type": "markdown",
   "id": "2f87b0d3",
   "metadata": {},
   "source": [
    "### Author: Anthony Hein"
   ]
  },
  {
   "cell_type": "markdown",
   "id": "c849a5ff",
   "metadata": {},
   "source": [
    "#### Last updated: 10/18/2021"
   ]
  },
  {
   "cell_type": "markdown",
   "id": "af8b11a6",
   "metadata": {},
   "source": [
    "# Overview:\n",
    "\n",
    "At this point we have a dictionary which matches courses to locations (using latitude and longitude) and metadata on all weather stations in Ireland that have published hourly data (where this metadata includes open and close dates of the station as well as the latitue and longitude of the station). Therefore, the next step is to match each race to a weather station, where we will select the weather station that is active during the race and nearest to the course that the race is taking place at."
   ]
  },
  {
   "cell_type": "markdown",
   "id": "cd6b1d91",
   "metadata": {},
   "source": [
    "---"
   ]
  },
  {
   "cell_type": "markdown",
   "id": "b051b2cb",
   "metadata": {},
   "source": [
    "## Setup"
   ]
  },
  {
   "cell_type": "code",
   "execution_count": 2,
   "id": "58c3fd18",
   "metadata": {},
   "outputs": [],
   "source": [
    "from datetime import datetime\n",
    "import git\n",
    "import os\n",
    "from typing import List, Union\n",
    "from tqdm import tqdm\n",
    "import pandas as pd\n",
    "import numpy as np\n",
    "import matplotlib.pyplot as plt\n",
    "%matplotlib inline"
   ]
  },
  {
   "cell_type": "code",
   "execution_count": 3,
   "id": "a4040252",
   "metadata": {},
   "outputs": [
    {
     "data": {
      "text/plain": [
       "'/Users/anthonyhein/Desktop/SML310/project'"
      ]
     },
     "execution_count": 3,
     "metadata": {},
     "output_type": "execute_result"
    }
   ],
   "source": [
    "BASE_DIR = git.Repo(os.getcwd(), search_parent_directories=True).working_dir\n",
    "BASE_DIR"
   ]
  },
  {
   "cell_type": "code",
   "execution_count": 4,
   "id": "fbde5f6d",
   "metadata": {},
   "outputs": [],
   "source": [
    "import sys\n",
    "\n",
    "sys.path.append(f'{BASE_DIR}/utils/')\n",
    "\n",
    "from course_and_country_to_location import COURSE_AND_COUNTRY_TO_LOCATION\n",
    "from rid_to_course_and_country import RID_TO_COURSE_AND_COUNTRY"
   ]
  },
  {
   "cell_type": "markdown",
   "id": "846658c0",
   "metadata": {},
   "source": [
    "---"
   ]
  },
  {
   "cell_type": "markdown",
   "id": "96a60381",
   "metadata": {},
   "source": [
    "## Load `horses_aticnmi.csv`"
   ]
  },
  {
   "cell_type": "code",
   "execution_count": 5,
   "id": "5e4eeb2a",
   "metadata": {},
   "outputs": [
    {
     "data": {
      "text/html": [
       "<div>\n",
       "<style scoped>\n",
       "    .dataframe tbody tr th:only-of-type {\n",
       "        vertical-align: middle;\n",
       "    }\n",
       "\n",
       "    .dataframe tbody tr th {\n",
       "        vertical-align: top;\n",
       "    }\n",
       "\n",
       "    .dataframe thead th {\n",
       "        text-align: right;\n",
       "    }\n",
       "</style>\n",
       "<table border=\"1\" class=\"dataframe\">\n",
       "  <thead>\n",
       "    <tr style=\"text-align: right;\">\n",
       "      <th></th>\n",
       "      <th>rid</th>\n",
       "      <th>horseName</th>\n",
       "      <th>age</th>\n",
       "      <th>saddle</th>\n",
       "      <th>decimalPrice</th>\n",
       "      <th>trainerName</th>\n",
       "      <th>jockeyName</th>\n",
       "      <th>position</th>\n",
       "      <th>positionL</th>\n",
       "      <th>dist</th>\n",
       "      <th>outHandicap</th>\n",
       "      <th>RPR</th>\n",
       "      <th>TR</th>\n",
       "      <th>OR</th>\n",
       "      <th>father</th>\n",
       "      <th>mother</th>\n",
       "      <th>gfather</th>\n",
       "      <th>weight</th>\n",
       "    </tr>\n",
       "  </thead>\n",
       "  <tbody>\n",
       "    <tr>\n",
       "      <th>0</th>\n",
       "      <td>302858</td>\n",
       "      <td>Kings Return</td>\n",
       "      <td>6.0</td>\n",
       "      <td>4.0</td>\n",
       "      <td>0.600000</td>\n",
       "      <td>W P Mullins</td>\n",
       "      <td>D J Casey</td>\n",
       "      <td>1</td>\n",
       "      <td>NaN</td>\n",
       "      <td>0.0</td>\n",
       "      <td>0.0</td>\n",
       "      <td>102.00000</td>\n",
       "      <td>51.591987</td>\n",
       "      <td>79.654604</td>\n",
       "      <td>King's Ride</td>\n",
       "      <td>Browne's Return</td>\n",
       "      <td>Deep Run</td>\n",
       "      <td>73</td>\n",
       "    </tr>\n",
       "    <tr>\n",
       "      <th>1</th>\n",
       "      <td>302858</td>\n",
       "      <td>Majestic Red I</td>\n",
       "      <td>6.0</td>\n",
       "      <td>5.0</td>\n",
       "      <td>0.047619</td>\n",
       "      <td>John Hackett</td>\n",
       "      <td>Conor O'Dwyer</td>\n",
       "      <td>2</td>\n",
       "      <td>8</td>\n",
       "      <td>0.0</td>\n",
       "      <td>0.0</td>\n",
       "      <td>94.00000</td>\n",
       "      <td>51.591987</td>\n",
       "      <td>79.654604</td>\n",
       "      <td>Long Pond</td>\n",
       "      <td>Courtlough Lady</td>\n",
       "      <td>Giolla Mear</td>\n",
       "      <td>73</td>\n",
       "    </tr>\n",
       "    <tr>\n",
       "      <th>2</th>\n",
       "      <td>302858</td>\n",
       "      <td>Clearly Canadian</td>\n",
       "      <td>6.0</td>\n",
       "      <td>2.0</td>\n",
       "      <td>0.166667</td>\n",
       "      <td>D T Hughes</td>\n",
       "      <td>G Cotter</td>\n",
       "      <td>3</td>\n",
       "      <td>1.5</td>\n",
       "      <td>9.5</td>\n",
       "      <td>0.0</td>\n",
       "      <td>92.00000</td>\n",
       "      <td>51.591987</td>\n",
       "      <td>79.654604</td>\n",
       "      <td>Nordico</td>\n",
       "      <td>Over The Seas</td>\n",
       "      <td>North Summit</td>\n",
       "      <td>71</td>\n",
       "    </tr>\n",
       "    <tr>\n",
       "      <th>3</th>\n",
       "      <td>302858</td>\n",
       "      <td>Bernestic Wonder</td>\n",
       "      <td>8.0</td>\n",
       "      <td>1.0</td>\n",
       "      <td>0.058824</td>\n",
       "      <td>E McNamara</td>\n",
       "      <td>J Old Jones</td>\n",
       "      <td>4</td>\n",
       "      <td>dist</td>\n",
       "      <td>39.5</td>\n",
       "      <td>0.0</td>\n",
       "      <td>71.87665</td>\n",
       "      <td>51.591987</td>\n",
       "      <td>79.654604</td>\n",
       "      <td>Roselier</td>\n",
       "      <td>Miss Reindeer</td>\n",
       "      <td>Reindeer</td>\n",
       "      <td>73</td>\n",
       "    </tr>\n",
       "    <tr>\n",
       "      <th>4</th>\n",
       "      <td>302858</td>\n",
       "      <td>Beauty's Pride</td>\n",
       "      <td>5.0</td>\n",
       "      <td>6.0</td>\n",
       "      <td>0.038462</td>\n",
       "      <td>J J Lennon</td>\n",
       "      <td>T Martin</td>\n",
       "      <td>5</td>\n",
       "      <td>dist</td>\n",
       "      <td>69.5</td>\n",
       "      <td>0.0</td>\n",
       "      <td>71.87665</td>\n",
       "      <td>51.591987</td>\n",
       "      <td>79.654604</td>\n",
       "      <td>Noalto</td>\n",
       "      <td>Elena's Beauty</td>\n",
       "      <td>Tarqogan</td>\n",
       "      <td>66</td>\n",
       "    </tr>\n",
       "  </tbody>\n",
       "</table>\n",
       "</div>"
      ],
      "text/plain": [
       "      rid         horseName  age  saddle  decimalPrice   trainerName  \\\n",
       "0  302858      Kings Return  6.0     4.0      0.600000   W P Mullins   \n",
       "1  302858    Majestic Red I  6.0     5.0      0.047619  John Hackett   \n",
       "2  302858  Clearly Canadian  6.0     2.0      0.166667    D T Hughes   \n",
       "3  302858  Bernestic Wonder  8.0     1.0      0.058824    E McNamara   \n",
       "4  302858    Beauty's Pride  5.0     6.0      0.038462    J J Lennon   \n",
       "\n",
       "      jockeyName  position positionL  dist  outHandicap        RPR         TR  \\\n",
       "0      D J Casey         1       NaN   0.0          0.0  102.00000  51.591987   \n",
       "1  Conor O'Dwyer         2         8   0.0          0.0   94.00000  51.591987   \n",
       "2       G Cotter         3       1.5   9.5          0.0   92.00000  51.591987   \n",
       "3    J Old Jones         4      dist  39.5          0.0   71.87665  51.591987   \n",
       "4       T Martin         5      dist  69.5          0.0   71.87665  51.591987   \n",
       "\n",
       "          OR       father           mother       gfather  weight  \n",
       "0  79.654604  King's Ride  Browne's Return      Deep Run      73  \n",
       "1  79.654604    Long Pond  Courtlough Lady   Giolla Mear      73  \n",
       "2  79.654604      Nordico    Over The Seas  North Summit      71  \n",
       "3  79.654604     Roselier    Miss Reindeer      Reindeer      73  \n",
       "4  79.654604       Noalto   Elena's Beauty      Tarqogan      66  "
      ]
     },
     "execution_count": 5,
     "metadata": {},
     "output_type": "execute_result"
    }
   ],
   "source": [
    "horses_aticnmi = pd.read_csv(f\"{BASE_DIR}/data/csv/horses_aticnmi.csv\", low_memory=False) \n",
    "horses_aticnmi.head()"
   ]
  },
  {
   "cell_type": "code",
   "execution_count": 6,
   "id": "8d2d4f74",
   "metadata": {},
   "outputs": [
    {
     "data": {
      "text/plain": [
       "(197491, 18)"
      ]
     },
     "execution_count": 6,
     "metadata": {},
     "output_type": "execute_result"
    }
   ],
   "source": [
    "horses_aticnmi.shape"
   ]
  },
  {
   "cell_type": "markdown",
   "id": "cef79ad9",
   "metadata": {},
   "source": [
    "---"
   ]
  },
  {
   "cell_type": "markdown",
   "id": "5f4b23bd",
   "metadata": {},
   "source": [
    "## Load `races_aticnmi.csv`"
   ]
  },
  {
   "cell_type": "code",
   "execution_count": 7,
   "id": "30fdd91b",
   "metadata": {},
   "outputs": [
    {
     "data": {
      "text/html": [
       "<div>\n",
       "<style scoped>\n",
       "    .dataframe tbody tr th:only-of-type {\n",
       "        vertical-align: middle;\n",
       "    }\n",
       "\n",
       "    .dataframe tbody tr th {\n",
       "        vertical-align: top;\n",
       "    }\n",
       "\n",
       "    .dataframe thead th {\n",
       "        text-align: right;\n",
       "    }\n",
       "</style>\n",
       "<table border=\"1\" class=\"dataframe\">\n",
       "  <thead>\n",
       "    <tr style=\"text-align: right;\">\n",
       "      <th></th>\n",
       "      <th>rid</th>\n",
       "      <th>course</th>\n",
       "      <th>time</th>\n",
       "      <th>date</th>\n",
       "      <th>hurdles</th>\n",
       "      <th>prizes</th>\n",
       "      <th>winningTime</th>\n",
       "      <th>metric</th>\n",
       "      <th>countryCode</th>\n",
       "      <th>ncond</th>\n",
       "      <th>class</th>\n",
       "    </tr>\n",
       "  </thead>\n",
       "  <tbody>\n",
       "    <tr>\n",
       "      <th>0</th>\n",
       "      <td>302858</td>\n",
       "      <td>Thurles (IRE)</td>\n",
       "      <td>01:15</td>\n",
       "      <td>97/01/09</td>\n",
       "      <td>NaN</td>\n",
       "      <td>[]</td>\n",
       "      <td>277.2</td>\n",
       "      <td>3821.0</td>\n",
       "      <td>IE</td>\n",
       "      <td>1</td>\n",
       "      <td>0</td>\n",
       "    </tr>\n",
       "    <tr>\n",
       "      <th>1</th>\n",
       "      <td>291347</td>\n",
       "      <td>Punchestown (IRE)</td>\n",
       "      <td>03:40</td>\n",
       "      <td>97/02/16</td>\n",
       "      <td>NaN</td>\n",
       "      <td>[]</td>\n",
       "      <td>447.2</td>\n",
       "      <td>5229.0</td>\n",
       "      <td>IE</td>\n",
       "      <td>5</td>\n",
       "      <td>0</td>\n",
       "    </tr>\n",
       "    <tr>\n",
       "      <th>2</th>\n",
       "      <td>377929</td>\n",
       "      <td>Leopardstown (IRE)</td>\n",
       "      <td>03:00</td>\n",
       "      <td>97/05/11</td>\n",
       "      <td>NaN</td>\n",
       "      <td>[]</td>\n",
       "      <td>106.4</td>\n",
       "      <td>1609.0</td>\n",
       "      <td>IE</td>\n",
       "      <td>4</td>\n",
       "      <td>0</td>\n",
       "    </tr>\n",
       "    <tr>\n",
       "      <th>3</th>\n",
       "      <td>275117</td>\n",
       "      <td>Curragh (IRE)</td>\n",
       "      <td>03:35</td>\n",
       "      <td>97/05/25</td>\n",
       "      <td>NaN</td>\n",
       "      <td>[]</td>\n",
       "      <td>125.9</td>\n",
       "      <td>2011.0</td>\n",
       "      <td>IE</td>\n",
       "      <td>4</td>\n",
       "      <td>0</td>\n",
       "    </tr>\n",
       "    <tr>\n",
       "      <th>4</th>\n",
       "      <td>66511</td>\n",
       "      <td>Leopardstown (IRE)</td>\n",
       "      <td>04:30</td>\n",
       "      <td>97/06/02</td>\n",
       "      <td>NaN</td>\n",
       "      <td>[]</td>\n",
       "      <td>116.3</td>\n",
       "      <td>1810.0</td>\n",
       "      <td>IE</td>\n",
       "      <td>1</td>\n",
       "      <td>0</td>\n",
       "    </tr>\n",
       "  </tbody>\n",
       "</table>\n",
       "</div>"
      ],
      "text/plain": [
       "      rid              course   time      date  hurdles prizes  winningTime  \\\n",
       "0  302858       Thurles (IRE)  01:15  97/01/09      NaN     []        277.2   \n",
       "1  291347   Punchestown (IRE)  03:40  97/02/16      NaN     []        447.2   \n",
       "2  377929  Leopardstown (IRE)  03:00  97/05/11      NaN     []        106.4   \n",
       "3  275117       Curragh (IRE)  03:35  97/05/25      NaN     []        125.9   \n",
       "4   66511  Leopardstown (IRE)  04:30  97/06/02      NaN     []        116.3   \n",
       "\n",
       "   metric countryCode  ncond  class  \n",
       "0  3821.0          IE      1      0  \n",
       "1  5229.0          IE      5      0  \n",
       "2  1609.0          IE      4      0  \n",
       "3  2011.0          IE      4      0  \n",
       "4  1810.0          IE      1      0  "
      ]
     },
     "execution_count": 7,
     "metadata": {},
     "output_type": "execute_result"
    }
   ],
   "source": [
    "races_aticnmi = pd.read_csv(f\"{BASE_DIR}/data/csv/races_aticnmi.csv\", low_memory=False) \n",
    "races_aticnmi.head()"
   ]
  },
  {
   "cell_type": "code",
   "execution_count": 8,
   "id": "dd2911c2",
   "metadata": {},
   "outputs": [
    {
     "data": {
      "text/plain": [
       "(19510, 11)"
      ]
     },
     "execution_count": 8,
     "metadata": {},
     "output_type": "execute_result"
    }
   ],
   "source": [
    "races_aticnmi.shape"
   ]
  },
  {
   "cell_type": "markdown",
   "id": "f9109550",
   "metadata": {},
   "source": [
    "---"
   ]
  },
  {
   "cell_type": "markdown",
   "id": "6ff2aeef",
   "metadata": {},
   "source": [
    "## Load `ireland_stations_metadata.csv`"
   ]
  },
  {
   "cell_type": "code",
   "execution_count": 9,
   "id": "f4598490",
   "metadata": {},
   "outputs": [
    {
     "data": {
      "text/html": [
       "<div>\n",
       "<style scoped>\n",
       "    .dataframe tbody tr th:only-of-type {\n",
       "        vertical-align: middle;\n",
       "    }\n",
       "\n",
       "    .dataframe tbody tr th {\n",
       "        vertical-align: top;\n",
       "    }\n",
       "\n",
       "    .dataframe thead th {\n",
       "        text-align: right;\n",
       "    }\n",
       "</style>\n",
       "<table border=\"1\" class=\"dataframe\">\n",
       "  <thead>\n",
       "    <tr style=\"text-align: right;\">\n",
       "      <th></th>\n",
       "      <th>County</th>\n",
       "      <th>Station Number</th>\n",
       "      <th>name</th>\n",
       "      <th>Height(m)</th>\n",
       "      <th>Easting</th>\n",
       "      <th>Northing</th>\n",
       "      <th>Latitude</th>\n",
       "      <th>Longitude</th>\n",
       "      <th>Open Year</th>\n",
       "      <th>Close Year</th>\n",
       "    </tr>\n",
       "  </thead>\n",
       "  <tbody>\n",
       "    <tr>\n",
       "      <th>0</th>\n",
       "      <td>Westmeath</td>\n",
       "      <td>2222</td>\n",
       "      <td>MULLINGAR S.W.S.</td>\n",
       "      <td>111</td>\n",
       "      <td>242700</td>\n",
       "      <td>252700</td>\n",
       "      <td>53.3120</td>\n",
       "      <td>-7.2120</td>\n",
       "      <td>1943</td>\n",
       "      <td>1974</td>\n",
       "    </tr>\n",
       "    <tr>\n",
       "      <th>1</th>\n",
       "      <td>Monaghan</td>\n",
       "      <td>2437</td>\n",
       "      <td>CLONES</td>\n",
       "      <td>89</td>\n",
       "      <td>250000</td>\n",
       "      <td>326300</td>\n",
       "      <td>54.1100</td>\n",
       "      <td>-7.1400</td>\n",
       "      <td>1950</td>\n",
       "      <td>2008</td>\n",
       "    </tr>\n",
       "    <tr>\n",
       "      <th>2</th>\n",
       "      <td>Galway</td>\n",
       "      <td>2021</td>\n",
       "      <td>GALWAY S.W.S.</td>\n",
       "      <td>20</td>\n",
       "      <td>132700</td>\n",
       "      <td>225600</td>\n",
       "      <td>53.1634</td>\n",
       "      <td>-9.0034</td>\n",
       "      <td>1978</td>\n",
       "      <td>1990</td>\n",
       "    </tr>\n",
       "    <tr>\n",
       "      <th>3</th>\n",
       "      <td>Offaly</td>\n",
       "      <td>4919</td>\n",
       "      <td>BIRR</td>\n",
       "      <td>72</td>\n",
       "      <td>207400</td>\n",
       "      <td>204400</td>\n",
       "      <td>53.0525</td>\n",
       "      <td>-7.5325</td>\n",
       "      <td>1954</td>\n",
       "      <td>2009</td>\n",
       "    </tr>\n",
       "    <tr>\n",
       "      <th>4</th>\n",
       "      <td>Kilkenny</td>\n",
       "      <td>3613</td>\n",
       "      <td>KILKENNY</td>\n",
       "      <td>65</td>\n",
       "      <td>249400</td>\n",
       "      <td>157400</td>\n",
       "      <td>52.3955</td>\n",
       "      <td>-7.1610</td>\n",
       "      <td>1957</td>\n",
       "      <td>2008</td>\n",
       "    </tr>\n",
       "  </tbody>\n",
       "</table>\n",
       "</div>"
      ],
      "text/plain": [
       "      County  Station Number              name  Height(m)  Easting  Northing  \\\n",
       "0  Westmeath            2222  MULLINGAR S.W.S.        111   242700    252700   \n",
       "1   Monaghan            2437            CLONES         89   250000    326300   \n",
       "2     Galway            2021     GALWAY S.W.S.         20   132700    225600   \n",
       "3     Offaly            4919              BIRR         72   207400    204400   \n",
       "4   Kilkenny            3613          KILKENNY         65   249400    157400   \n",
       "\n",
       "   Latitude  Longitude  Open Year  Close Year  \n",
       "0   53.3120    -7.2120       1943        1974  \n",
       "1   54.1100    -7.1400       1950        2008  \n",
       "2   53.1634    -9.0034       1978        1990  \n",
       "3   53.0525    -7.5325       1954        2009  \n",
       "4   52.3955    -7.1610       1957        2008  "
      ]
     },
     "execution_count": 9,
     "metadata": {},
     "output_type": "execute_result"
    }
   ],
   "source": [
    "ireland_stations_metadata = pd.read_csv(f\"{BASE_DIR}/data/csv/ireland_stations_metadata.csv\", low_memory=False) \n",
    "ireland_stations_metadata.head()"
   ]
  },
  {
   "cell_type": "code",
   "execution_count": 10,
   "id": "cf9f52b5",
   "metadata": {},
   "outputs": [
    {
     "data": {
      "text/plain": [
       "(33, 10)"
      ]
     },
     "execution_count": 10,
     "metadata": {},
     "output_type": "execute_result"
    }
   ],
   "source": [
    "ireland_stations_metadata.shape"
   ]
  },
  {
   "cell_type": "markdown",
   "id": "23aa4bc8",
   "metadata": {},
   "source": [
    "---"
   ]
  },
  {
   "cell_type": "markdown",
   "id": "082f82d6",
   "metadata": {},
   "source": [
    "## Date Helper Functions"
   ]
  },
  {
   "cell_type": "code",
   "execution_count": 11,
   "id": "d9b076e4",
   "metadata": {},
   "outputs": [],
   "source": [
    "def get_date_from_race_data(date: str) -> datetime:\n",
    "    # the strip here is a hack until we can fix elsewhere, similarly the prepend with 0\n",
    "    if date.find(' 00:00') >= 0:\n",
    "        date = date[:date.find(' 00:00')]\n",
    "    date = '0' + date if date[1] == '/' else date\n",
    "    return datetime.strptime(date, '%y/%m/%d')"
   ]
  },
  {
   "cell_type": "code",
   "execution_count": 12,
   "id": "1e62d9d6",
   "metadata": {},
   "outputs": [],
   "source": [
    "def get_date_from_stations_metadata(date: str) -> datetime:\n",
    "    return datetime.strptime(date, '%Y')"
   ]
  },
  {
   "cell_type": "code",
   "execution_count": 13,
   "id": "34a8930c",
   "metadata": {},
   "outputs": [],
   "source": [
    "def get_open_stations(df: pd.core.frame.DataFrame, race_date: datetime) -> List[bool]:\n",
    "    return [\n",
    "        (get_date_from_stations_metadata(str(row['Open Year'])) < race_date) and \\\n",
    "        (get_date_from_stations_metadata(str(row['Close Year'])) > race_date)\n",
    "        for _, row\n",
    "        in df.iterrows()\n",
    "    ]"
   ]
  },
  {
   "cell_type": "code",
   "execution_count": 14,
   "id": "e7de57cf",
   "metadata": {},
   "outputs": [],
   "source": [
    "def station_is_open(row: pd.core.frame.DataFrame, race_date: datetime) -> bool:\n",
    "    return (get_date_from_stations_metadata(str(row['Open Year'])) < race_date) and \\\n",
    "           (get_date_from_stations_metadata(str(row['Close Year'])) > race_date)"
   ]
  },
  {
   "cell_type": "markdown",
   "id": "ec3263c2",
   "metadata": {},
   "source": [
    "---"
   ]
  },
  {
   "cell_type": "markdown",
   "id": "a100bd7e",
   "metadata": {},
   "source": [
    "## Distance Helper Functions"
   ]
  },
  {
   "cell_type": "markdown",
   "id": "fbdc882e",
   "metadata": {},
   "source": [
    "**Note**: The precise distance between two points specified by `(latitude, longitude)` coordinates cannot be computed by the Euclidean distance formula, as this would instead calculate the distance if you drilled a wire into Earth (and ignored the curvature of Earth). However, for points which are near to each other (and not across the world), this is a fair approximation. Additionally, the precise formula, give here [https://stackoverflow.com/questions/28994289/calculate-euclidean-distance-with-google-maps-coordinates#:~:text=You%20can%2C%20but%20not%20by,from%20a%20degree%20of%20latitude.](https://stackoverflow.com/questions/28994289/calculate-euclidean-distance-with-google-maps-coordinates#:~:text=You%20can%2C%20but%20not%20by,from%20a%20degree%20of%20latitude.) (among other sources) involves a calculation with cosine, which is more computationally expensive. Furthermore, we find it unlikely that there are several stations approximately equidistant from a given track. For all these reasons, we will just use the Euclidean distance for this decision."
   ]
  },
  {
   "cell_type": "code",
   "execution_count": 15,
   "id": "60007844",
   "metadata": {},
   "outputs": [],
   "source": [
    "def get_distance_to_station(df: pd.core.frame.DataFrame, track_lat: float, track_lng: float) -> float:\n",
    "    champion_station_name = ''\n",
    "    champion_area = ''\n",
    "    champion_distance = np.inf\n",
    "    \n",
    "    for _, row in df.iterrows():\n",
    "        dist = (row['Latitude'] - track_lat) ** 2 + (row['Longitude'] - track_lng) ** 2\n",
    "        \n",
    "        if dist < champion_distance:\n",
    "            champion_station_name = row['Station Number']\n",
    "            champion_area = row['name']\n",
    "            champion_distance = dist\n",
    "            \n",
    "    return (champion_station_name, champion_area)"
   ]
  },
  {
   "cell_type": "markdown",
   "id": "ffe2d698",
   "metadata": {},
   "source": [
    "---"
   ]
  },
  {
   "cell_type": "markdown",
   "id": "88471503",
   "metadata": {},
   "source": [
    "## Make `rid` to Station Dict"
   ]
  },
  {
   "cell_type": "markdown",
   "id": "6b7a61d1",
   "metadata": {},
   "source": [
    "A second attempt instead precomputes lengths to different stations for easy lookup. That is, we will make a dictionary from each `(course, countryCode)` pair to an ordered list of `(Station Number, name)` pairs and associated distances, where distances are in increasing order."
   ]
  },
  {
   "cell_type": "code",
   "execution_count": 16,
   "id": "8ea2f5fa",
   "metadata": {},
   "outputs": [],
   "source": [
    "COURSE_AND_COUNTRY_TO_LOCATION_IE = {}\n",
    "\n",
    "for key, val in COURSE_AND_COUNTRY_TO_LOCATION.items():\n",
    "    if key[1] == 'IE':\n",
    "        COURSE_AND_COUNTRY_TO_LOCATION_IE[key] = val"
   ]
  },
  {
   "cell_type": "code",
   "execution_count": 17,
   "id": "8f77ec26",
   "metadata": {},
   "outputs": [
    {
     "name": "stderr",
     "output_type": "stream",
     "text": [
      "100%|██████████████████████████████████████████████████████████████████████████████████████████████████████████████████████████████████████████████████████| 29/29 [00:00<00:00, 445.41it/s]\n"
     ]
    }
   ],
   "source": [
    "COURSE_AND_COUNTRY_TO_STATION = {}\n",
    "\n",
    "for key, val in tqdm(COURSE_AND_COUNTRY_TO_LOCATION_IE.items()):\n",
    "    distances = []\n",
    "    for _, row in ireland_stations_metadata.iterrows():\n",
    "        distance = (row['Latitude'] - val['lat']) ** 2 + (row['Longitude'] - val['lng']) ** 2\n",
    "        distances.append(((row['Station Number'], row['name']), distance))\n",
    "    distances = sorted(distances, key=lambda x: x[1])\n",
    "    COURSE_AND_COUNTRY_TO_STATION[key] = distances"
   ]
  },
  {
   "cell_type": "markdown",
   "id": "ae8fe1d1",
   "metadata": {},
   "source": [
    "Now, for each race, we can find its corresponding sorted list of distances and find the first in the list that is open and collecting data over an interval which contains the race date."
   ]
  },
  {
   "cell_type": "code",
   "execution_count": 18,
   "id": "b004d6c4",
   "metadata": {},
   "outputs": [
    {
     "name": "stderr",
     "output_type": "stream",
     "text": [
      "19510it [00:12, 1531.67it/s]\n"
     ]
    }
   ],
   "source": [
    "d = {}\n",
    "\n",
    "for idx, row in tqdm(races_aticnmi.iterrows()):\n",
    "    \n",
    "    race_date = get_date_from_race_data(row['date'])\n",
    "    \n",
    "    # get sorted list of stations\n",
    "    lst = COURSE_AND_COUNTRY_TO_STATION[(row['course'], row['countryCode'])]\n",
    "    \n",
    "    # elt is ((station name, area), dist)\n",
    "    for elt in lst:\n",
    "        station_row = ireland_stations_metadata[ireland_stations_metadata['Station Number'] == elt[0][0]].iloc[0]\n",
    "        if station_is_open(station_row, race_date):\n",
    "            d[row['rid']] = elt[0]\n",
    "            break"
   ]
  },
  {
   "cell_type": "code",
   "execution_count": 19,
   "id": "46745881",
   "metadata": {},
   "outputs": [
    {
     "data": {
      "text/plain": [
       "19510"
      ]
     },
     "execution_count": 19,
     "metadata": {},
     "output_type": "execute_result"
    }
   ],
   "source": [
    "len(d)"
   ]
  },
  {
   "cell_type": "code",
   "execution_count": 20,
   "id": "2e9dfde4",
   "metadata": {},
   "outputs": [],
   "source": [
    "smple = races_aticnmi.sample(5)"
   ]
  },
  {
   "cell_type": "code",
   "execution_count": 21,
   "id": "280ab368",
   "metadata": {},
   "outputs": [
    {
     "data": {
      "text/html": [
       "<div>\n",
       "<style scoped>\n",
       "    .dataframe tbody tr th:only-of-type {\n",
       "        vertical-align: middle;\n",
       "    }\n",
       "\n",
       "    .dataframe tbody tr th {\n",
       "        vertical-align: top;\n",
       "    }\n",
       "\n",
       "    .dataframe thead th {\n",
       "        text-align: right;\n",
       "    }\n",
       "</style>\n",
       "<table border=\"1\" class=\"dataframe\">\n",
       "  <thead>\n",
       "    <tr style=\"text-align: right;\">\n",
       "      <th></th>\n",
       "      <th>rid</th>\n",
       "      <th>course</th>\n",
       "      <th>time</th>\n",
       "      <th>date</th>\n",
       "      <th>hurdles</th>\n",
       "      <th>prizes</th>\n",
       "      <th>winningTime</th>\n",
       "      <th>metric</th>\n",
       "      <th>countryCode</th>\n",
       "      <th>ncond</th>\n",
       "      <th>class</th>\n",
       "    </tr>\n",
       "  </thead>\n",
       "  <tbody>\n",
       "    <tr>\n",
       "      <th>6537</th>\n",
       "      <td>393164</td>\n",
       "      <td>Curragh (IRE)</td>\n",
       "      <td>02:30</td>\n",
       "      <td>06/07/15</td>\n",
       "      <td>NaN</td>\n",
       "      <td>[13020.0, 3820.0, 1820.0, 620.0]</td>\n",
       "      <td>86.50</td>\n",
       "      <td>1407.0</td>\n",
       "      <td>IE</td>\n",
       "      <td>2</td>\n",
       "      <td>0</td>\n",
       "    </tr>\n",
       "    <tr>\n",
       "      <th>15043</th>\n",
       "      <td>372664</td>\n",
       "      <td>Down Royal (IRE)</td>\n",
       "      <td>03:45</td>\n",
       "      <td>01/09/22</td>\n",
       "      <td>NaN</td>\n",
       "      <td>[10912.02, 2359.35, 1032.22]</td>\n",
       "      <td>154.50</td>\n",
       "      <td>2413.0</td>\n",
       "      <td>IE</td>\n",
       "      <td>8</td>\n",
       "      <td>0</td>\n",
       "    </tr>\n",
       "    <tr>\n",
       "      <th>3850</th>\n",
       "      <td>410163</td>\n",
       "      <td>Limerick (IRE)</td>\n",
       "      <td>01:15</td>\n",
       "      <td>20/09/11 00:00</td>\n",
       "      <td>NaN</td>\n",
       "      <td>[5310.0, 1710.0, 810.0, 360.0, 180.0, 90.0]</td>\n",
       "      <td>90.70</td>\n",
       "      <td>1306.5</td>\n",
       "      <td>IE</td>\n",
       "      <td>5</td>\n",
       "      <td>0</td>\n",
       "    </tr>\n",
       "    <tr>\n",
       "      <th>6117</th>\n",
       "      <td>231235</td>\n",
       "      <td>Wexford (RH) (IRE)</td>\n",
       "      <td>04:25</td>\n",
       "      <td>12/10/28</td>\n",
       "      <td>NaN</td>\n",
       "      <td>[4830.0, 1120.0, 490.0, 280.0]</td>\n",
       "      <td>230.60</td>\n",
       "      <td>3218.0</td>\n",
       "      <td>IE</td>\n",
       "      <td>1</td>\n",
       "      <td>0</td>\n",
       "    </tr>\n",
       "    <tr>\n",
       "      <th>9736</th>\n",
       "      <td>27621</td>\n",
       "      <td>Galway (IRE)</td>\n",
       "      <td>06:10</td>\n",
       "      <td>11/07/25</td>\n",
       "      <td>NaN</td>\n",
       "      <td>[11730.0, 2720.0, 1190.0, 680.0]</td>\n",
       "      <td>90.68</td>\n",
       "      <td>1407.0</td>\n",
       "      <td>IE</td>\n",
       "      <td>1</td>\n",
       "      <td>0</td>\n",
       "    </tr>\n",
       "  </tbody>\n",
       "</table>\n",
       "</div>"
      ],
      "text/plain": [
       "          rid              course   time            date  hurdles  \\\n",
       "6537   393164       Curragh (IRE)  02:30        06/07/15      NaN   \n",
       "15043  372664    Down Royal (IRE)  03:45        01/09/22      NaN   \n",
       "3850   410163      Limerick (IRE)  01:15  20/09/11 00:00      NaN   \n",
       "6117   231235  Wexford (RH) (IRE)  04:25        12/10/28      NaN   \n",
       "9736    27621        Galway (IRE)  06:10        11/07/25      NaN   \n",
       "\n",
       "                                            prizes  winningTime  metric  \\\n",
       "6537              [13020.0, 3820.0, 1820.0, 620.0]        86.50  1407.0   \n",
       "15043                 [10912.02, 2359.35, 1032.22]       154.50  2413.0   \n",
       "3850   [5310.0, 1710.0, 810.0, 360.0, 180.0, 90.0]        90.70  1306.5   \n",
       "6117                [4830.0, 1120.0, 490.0, 280.0]       230.60  3218.0   \n",
       "9736              [11730.0, 2720.0, 1190.0, 680.0]        90.68  1407.0   \n",
       "\n",
       "      countryCode  ncond  class  \n",
       "6537           IE      2      0  \n",
       "15043          IE      8      0  \n",
       "3850           IE      5      0  \n",
       "6117           IE      1      0  \n",
       "9736           IE      1      0  "
      ]
     },
     "execution_count": 21,
     "metadata": {},
     "output_type": "execute_result"
    }
   ],
   "source": [
    "smple"
   ]
  },
  {
   "cell_type": "code",
   "execution_count": 22,
   "id": "58008bbb",
   "metadata": {
    "scrolled": true
   },
   "outputs": [
    {
     "data": {
      "text/plain": [
       "[(393164, (875, 'MULLINGAR')),\n",
       " (372664, (2437, 'CLONES')),\n",
       " (410163, (518, 'SHANNON AIRPORT')),\n",
       " (231235, (375, 'OAK PARK')),\n",
       " (27621, (2175, 'CLAREMORRIS'))]"
      ]
     },
     "execution_count": 22,
     "metadata": {},
     "output_type": "execute_result"
    }
   ],
   "source": [
    "[(rid, d[rid]) for rid in smple['rid']]"
   ]
  },
  {
   "cell_type": "code",
   "execution_count": 23,
   "id": "52ab5009",
   "metadata": {},
   "outputs": [
    {
     "data": {
      "text/html": [
       "<div>\n",
       "<style scoped>\n",
       "    .dataframe tbody tr th:only-of-type {\n",
       "        vertical-align: middle;\n",
       "    }\n",
       "\n",
       "    .dataframe tbody tr th {\n",
       "        vertical-align: top;\n",
       "    }\n",
       "\n",
       "    .dataframe thead th {\n",
       "        text-align: right;\n",
       "    }\n",
       "</style>\n",
       "<table border=\"1\" class=\"dataframe\">\n",
       "  <thead>\n",
       "    <tr style=\"text-align: right;\">\n",
       "      <th></th>\n",
       "      <th>County</th>\n",
       "      <th>Station Number</th>\n",
       "      <th>name</th>\n",
       "      <th>Height(m)</th>\n",
       "      <th>Easting</th>\n",
       "      <th>Northing</th>\n",
       "      <th>Latitude</th>\n",
       "      <th>Longitude</th>\n",
       "      <th>Open Year</th>\n",
       "      <th>Close Year</th>\n",
       "    </tr>\n",
       "  </thead>\n",
       "  <tbody>\n",
       "    <tr>\n",
       "      <th>1</th>\n",
       "      <td>Monaghan</td>\n",
       "      <td>2437</td>\n",
       "      <td>CLONES</td>\n",
       "      <td>89</td>\n",
       "      <td>250000</td>\n",
       "      <td>326300</td>\n",
       "      <td>54.1100</td>\n",
       "      <td>-7.1400</td>\n",
       "      <td>1950</td>\n",
       "      <td>2008</td>\n",
       "    </tr>\n",
       "    <tr>\n",
       "      <th>16</th>\n",
       "      <td>Mayo</td>\n",
       "      <td>2175</td>\n",
       "      <td>CLAREMORRIS</td>\n",
       "      <td>68</td>\n",
       "      <td>134523</td>\n",
       "      <td>273883</td>\n",
       "      <td>53.4239</td>\n",
       "      <td>-8.5933</td>\n",
       "      <td>2010</td>\n",
       "      <td>2022</td>\n",
       "    </tr>\n",
       "    <tr>\n",
       "      <th>17</th>\n",
       "      <td>Westmeath</td>\n",
       "      <td>875</td>\n",
       "      <td>MULLINGAR</td>\n",
       "      <td>101</td>\n",
       "      <td>243000</td>\n",
       "      <td>254300</td>\n",
       "      <td>53.3214</td>\n",
       "      <td>-7.2144</td>\n",
       "      <td>2002</td>\n",
       "      <td>2022</td>\n",
       "    </tr>\n",
       "    <tr>\n",
       "      <th>21</th>\n",
       "      <td>Clare</td>\n",
       "      <td>518</td>\n",
       "      <td>SHANNON AIRPORT</td>\n",
       "      <td>15</td>\n",
       "      <td>137900</td>\n",
       "      <td>160300</td>\n",
       "      <td>52.4125</td>\n",
       "      <td>-8.5505</td>\n",
       "      <td>1937</td>\n",
       "      <td>2022</td>\n",
       "    </tr>\n",
       "    <tr>\n",
       "      <th>22</th>\n",
       "      <td>Carlow</td>\n",
       "      <td>375</td>\n",
       "      <td>OAK PARK</td>\n",
       "      <td>62</td>\n",
       "      <td>273000</td>\n",
       "      <td>179500</td>\n",
       "      <td>52.5140</td>\n",
       "      <td>-6.5455</td>\n",
       "      <td>2003</td>\n",
       "      <td>2022</td>\n",
       "    </tr>\n",
       "  </tbody>\n",
       "</table>\n",
       "</div>"
      ],
      "text/plain": [
       "       County  Station Number             name  Height(m)  Easting  Northing  \\\n",
       "1    Monaghan            2437           CLONES         89   250000    326300   \n",
       "16       Mayo            2175      CLAREMORRIS         68   134523    273883   \n",
       "17  Westmeath             875        MULLINGAR        101   243000    254300   \n",
       "21      Clare             518  SHANNON AIRPORT         15   137900    160300   \n",
       "22     Carlow             375         OAK PARK         62   273000    179500   \n",
       "\n",
       "    Latitude  Longitude  Open Year  Close Year  \n",
       "1    54.1100    -7.1400       1950        2008  \n",
       "16   53.4239    -8.5933       2010        2022  \n",
       "17   53.3214    -7.2144       2002        2022  \n",
       "21   52.4125    -8.5505       1937        2022  \n",
       "22   52.5140    -6.5455       2003        2022  "
      ]
     },
     "execution_count": 23,
     "metadata": {},
     "output_type": "execute_result"
    }
   ],
   "source": [
    "ireland_stations_metadata[ireland_stations_metadata['Station Number'].isin([d[rid][0] for rid in smple['rid']])]"
   ]
  },
  {
   "cell_type": "markdown",
   "id": "b81c6bc8",
   "metadata": {},
   "source": [
    "These are correct by inspection."
   ]
  },
  {
   "cell_type": "markdown",
   "id": "ac15783b",
   "metadata": {},
   "source": [
    "---"
   ]
  },
  {
   "cell_type": "markdown",
   "id": "ac3e6c4d",
   "metadata": {},
   "source": [
    "## Write to File in `utils`"
   ]
  },
  {
   "cell_type": "code",
   "execution_count": 24,
   "id": "61f78ab1",
   "metadata": {},
   "outputs": [
    {
     "data": {
      "text/plain": [
       "\"RID_TO_STATION_IE = {302858: (4919, 'BIRR'), 291347: (3723, 'CASEMENT'), 377929: (532, 'DUBLIN AIRPO\""
      ]
     },
     "execution_count": 24,
     "metadata": {},
     "output_type": "execute_result"
    }
   ],
   "source": [
    "s = f\"RID_TO_STATION_IE = {d}\"\n",
    "s[:100]"
   ]
  },
  {
   "cell_type": "code",
   "execution_count": 25,
   "id": "d5368851",
   "metadata": {},
   "outputs": [],
   "source": [
    "with open(f\"{BASE_DIR}/utils/rid_to_station_ie.py\", 'w', encoding='utf-8') as f:\n",
    "    f.write(s)"
   ]
  },
  {
   "cell_type": "markdown",
   "id": "fdac5bdb",
   "metadata": {},
   "source": [
    "---"
   ]
  }
 ],
 "metadata": {
  "kernelspec": {
   "display_name": "Python 3 (ipykernel)",
   "language": "python",
   "name": "python3"
  },
  "language_info": {
   "codemirror_mode": {
    "name": "ipython",
    "version": 3
   },
   "file_extension": ".py",
   "mimetype": "text/x-python",
   "name": "python",
   "nbconvert_exporter": "python",
   "pygments_lexer": "ipython3",
   "version": "3.9.6"
  }
 },
 "nbformat": 4,
 "nbformat_minor": 5
}
