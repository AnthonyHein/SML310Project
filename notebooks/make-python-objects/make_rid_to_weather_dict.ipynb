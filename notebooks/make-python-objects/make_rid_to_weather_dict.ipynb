{
 "cells": [
  {
   "cell_type": "markdown",
   "id": "58796508",
   "metadata": {},
   "source": [
    "# `make_rid_to_weather_dict.ipynb`"
   ]
  },
  {
   "cell_type": "markdown",
   "id": "2f87b0d3",
   "metadata": {},
   "source": [
    "### Author: Anthony Hein"
   ]
  },
  {
   "cell_type": "markdown",
   "id": "c849a5ff",
   "metadata": {},
   "source": [
    "#### Last updated: 10/19/2021"
   ]
  },
  {
   "cell_type": "markdown",
   "id": "af8b11a6",
   "metadata": {},
   "source": [
    "# Overview:\n",
    "\n",
    "Map each `rid` to an entry in the weather dataset, where we select the entry that was collected closest to the race date and time."
   ]
  },
  {
   "cell_type": "markdown",
   "id": "cd6b1d91",
   "metadata": {},
   "source": [
    "---"
   ]
  },
  {
   "cell_type": "markdown",
   "id": "b051b2cb",
   "metadata": {},
   "source": [
    "## Setup"
   ]
  },
  {
   "cell_type": "code",
   "execution_count": 154,
   "id": "58c3fd18",
   "metadata": {},
   "outputs": [],
   "source": [
    "from datetime import datetime, timedelta\n",
    "import git\n",
    "import os\n",
    "from typing import List, Union\n",
    "from tqdm import tqdm\n",
    "import pandas as pd\n",
    "import numpy as np\n",
    "import matplotlib.pyplot as plt\n",
    "%matplotlib inline"
   ]
  },
  {
   "cell_type": "code",
   "execution_count": 155,
   "id": "a4040252",
   "metadata": {},
   "outputs": [
    {
     "data": {
      "text/plain": [
       "'/Users/anthonyhein/Desktop/SML310/project'"
      ]
     },
     "execution_count": 155,
     "metadata": {},
     "output_type": "execute_result"
    }
   ],
   "source": [
    "BASE_DIR = git.Repo(os.getcwd(), search_parent_directories=True).working_dir\n",
    "BASE_DIR"
   ]
  },
  {
   "cell_type": "code",
   "execution_count": 156,
   "id": "bbf8fb5c",
   "metadata": {},
   "outputs": [],
   "source": [
    "import sys\n",
    "\n",
    "sys.path.append(f'{BASE_DIR}/utils/')\n",
    "\n",
    "from rid_to_station_ie import RID_TO_STATION_IE"
   ]
  },
  {
   "cell_type": "markdown",
   "id": "846658c0",
   "metadata": {},
   "source": [
    "---"
   ]
  },
  {
   "cell_type": "markdown",
   "id": "fea614ad",
   "metadata": {},
   "source": [
    "## Load `races_aticnmi.csv`"
   ]
  },
  {
   "cell_type": "code",
   "execution_count": 157,
   "id": "813bc907",
   "metadata": {},
   "outputs": [
    {
     "data": {
      "text/html": [
       "<div>\n",
       "<style scoped>\n",
       "    .dataframe tbody tr th:only-of-type {\n",
       "        vertical-align: middle;\n",
       "    }\n",
       "\n",
       "    .dataframe tbody tr th {\n",
       "        vertical-align: top;\n",
       "    }\n",
       "\n",
       "    .dataframe thead th {\n",
       "        text-align: right;\n",
       "    }\n",
       "</style>\n",
       "<table border=\"1\" class=\"dataframe\">\n",
       "  <thead>\n",
       "    <tr style=\"text-align: right;\">\n",
       "      <th></th>\n",
       "      <th>rid</th>\n",
       "      <th>course</th>\n",
       "      <th>time</th>\n",
       "      <th>date</th>\n",
       "      <th>hurdles</th>\n",
       "      <th>prizes</th>\n",
       "      <th>winningTime</th>\n",
       "      <th>metric</th>\n",
       "      <th>countryCode</th>\n",
       "      <th>ncond</th>\n",
       "      <th>class</th>\n",
       "    </tr>\n",
       "  </thead>\n",
       "  <tbody>\n",
       "    <tr>\n",
       "      <th>0</th>\n",
       "      <td>302858</td>\n",
       "      <td>Thurles (IRE)</td>\n",
       "      <td>01:15</td>\n",
       "      <td>97/01/09</td>\n",
       "      <td>NaN</td>\n",
       "      <td>[]</td>\n",
       "      <td>277.2</td>\n",
       "      <td>3821.0</td>\n",
       "      <td>IE</td>\n",
       "      <td>1</td>\n",
       "      <td>0</td>\n",
       "    </tr>\n",
       "    <tr>\n",
       "      <th>1</th>\n",
       "      <td>291347</td>\n",
       "      <td>Punchestown (IRE)</td>\n",
       "      <td>03:40</td>\n",
       "      <td>97/02/16</td>\n",
       "      <td>NaN</td>\n",
       "      <td>[]</td>\n",
       "      <td>447.2</td>\n",
       "      <td>5229.0</td>\n",
       "      <td>IE</td>\n",
       "      <td>5</td>\n",
       "      <td>0</td>\n",
       "    </tr>\n",
       "    <tr>\n",
       "      <th>2</th>\n",
       "      <td>377929</td>\n",
       "      <td>Leopardstown (IRE)</td>\n",
       "      <td>03:00</td>\n",
       "      <td>97/05/11</td>\n",
       "      <td>NaN</td>\n",
       "      <td>[]</td>\n",
       "      <td>106.4</td>\n",
       "      <td>1609.0</td>\n",
       "      <td>IE</td>\n",
       "      <td>4</td>\n",
       "      <td>0</td>\n",
       "    </tr>\n",
       "    <tr>\n",
       "      <th>3</th>\n",
       "      <td>275117</td>\n",
       "      <td>Curragh (IRE)</td>\n",
       "      <td>03:35</td>\n",
       "      <td>97/05/25</td>\n",
       "      <td>NaN</td>\n",
       "      <td>[]</td>\n",
       "      <td>125.9</td>\n",
       "      <td>2011.0</td>\n",
       "      <td>IE</td>\n",
       "      <td>4</td>\n",
       "      <td>0</td>\n",
       "    </tr>\n",
       "    <tr>\n",
       "      <th>4</th>\n",
       "      <td>66511</td>\n",
       "      <td>Leopardstown (IRE)</td>\n",
       "      <td>04:30</td>\n",
       "      <td>97/06/02</td>\n",
       "      <td>NaN</td>\n",
       "      <td>[]</td>\n",
       "      <td>116.3</td>\n",
       "      <td>1810.0</td>\n",
       "      <td>IE</td>\n",
       "      <td>1</td>\n",
       "      <td>0</td>\n",
       "    </tr>\n",
       "  </tbody>\n",
       "</table>\n",
       "</div>"
      ],
      "text/plain": [
       "      rid              course   time      date  hurdles prizes  winningTime  \\\n",
       "0  302858       Thurles (IRE)  01:15  97/01/09      NaN     []        277.2   \n",
       "1  291347   Punchestown (IRE)  03:40  97/02/16      NaN     []        447.2   \n",
       "2  377929  Leopardstown (IRE)  03:00  97/05/11      NaN     []        106.4   \n",
       "3  275117       Curragh (IRE)  03:35  97/05/25      NaN     []        125.9   \n",
       "4   66511  Leopardstown (IRE)  04:30  97/06/02      NaN     []        116.3   \n",
       "\n",
       "   metric countryCode  ncond  class  \n",
       "0  3821.0          IE      1      0  \n",
       "1  5229.0          IE      5      0  \n",
       "2  1609.0          IE      4      0  \n",
       "3  2011.0          IE      4      0  \n",
       "4  1810.0          IE      1      0  "
      ]
     },
     "execution_count": 157,
     "metadata": {},
     "output_type": "execute_result"
    }
   ],
   "source": [
    "races_aticnmi = pd.read_csv(f\"{BASE_DIR}/data/csv/races_aticnmi.csv\", low_memory=False) \n",
    "races_aticnmi.head()"
   ]
  },
  {
   "cell_type": "code",
   "execution_count": 158,
   "id": "5713b385",
   "metadata": {},
   "outputs": [
    {
     "data": {
      "text/plain": [
       "(19510, 11)"
      ]
     },
     "execution_count": 158,
     "metadata": {},
     "output_type": "execute_result"
    }
   ],
   "source": [
    "races_aticnmi.shape"
   ]
  },
  {
   "cell_type": "markdown",
   "id": "5dff624e",
   "metadata": {},
   "source": [
    "---"
   ]
  },
  {
   "cell_type": "markdown",
   "id": "74bb8fc9",
   "metadata": {},
   "source": [
    "## Load `weather_all.csv`"
   ]
  },
  {
   "cell_type": "code",
   "execution_count": 159,
   "id": "7af0c068",
   "metadata": {},
   "outputs": [
    {
     "data": {
      "text/html": [
       "<div>\n",
       "<style scoped>\n",
       "    .dataframe tbody tr th:only-of-type {\n",
       "        vertical-align: middle;\n",
       "    }\n",
       "\n",
       "    .dataframe tbody tr th {\n",
       "        vertical-align: top;\n",
       "    }\n",
       "\n",
       "    .dataframe thead th {\n",
       "        text-align: right;\n",
       "    }\n",
       "</style>\n",
       "<table border=\"1\" class=\"dataframe\">\n",
       "  <thead>\n",
       "    <tr style=\"text-align: right;\">\n",
       "      <th></th>\n",
       "      <th>date</th>\n",
       "      <th>temp</th>\n",
       "      <th>msl</th>\n",
       "      <th>rain</th>\n",
       "      <th>rhum</th>\n",
       "      <th>Station number</th>\n",
       "    </tr>\n",
       "  </thead>\n",
       "  <tbody>\n",
       "    <tr>\n",
       "      <th>0</th>\n",
       "      <td>8/13/03 9:00</td>\n",
       "      <td>17.3</td>\n",
       "      <td>1023.6</td>\n",
       "      <td>0.0</td>\n",
       "      <td>72</td>\n",
       "      <td>375</td>\n",
       "    </tr>\n",
       "    <tr>\n",
       "      <th>1</th>\n",
       "      <td>8/13/03 10:00</td>\n",
       "      <td>18.5</td>\n",
       "      <td>1023.7</td>\n",
       "      <td>0.0</td>\n",
       "      <td>65</td>\n",
       "      <td>375</td>\n",
       "    </tr>\n",
       "    <tr>\n",
       "      <th>2</th>\n",
       "      <td>8/13/03 11:00</td>\n",
       "      <td>19.3</td>\n",
       "      <td>1023.7</td>\n",
       "      <td>0.0</td>\n",
       "      <td>56</td>\n",
       "      <td>375</td>\n",
       "    </tr>\n",
       "    <tr>\n",
       "      <th>3</th>\n",
       "      <td>8/13/03 12:00</td>\n",
       "      <td>20.4</td>\n",
       "      <td>1023.3</td>\n",
       "      <td>0.0</td>\n",
       "      <td>53</td>\n",
       "      <td>375</td>\n",
       "    </tr>\n",
       "    <tr>\n",
       "      <th>4</th>\n",
       "      <td>8/13/03 13:00</td>\n",
       "      <td>20.9</td>\n",
       "      <td>1023.3</td>\n",
       "      <td>0.0</td>\n",
       "      <td>54</td>\n",
       "      <td>375</td>\n",
       "    </tr>\n",
       "  </tbody>\n",
       "</table>\n",
       "</div>"
      ],
      "text/plain": [
       "            date  temp     msl  rain  rhum  Station number\n",
       "0   8/13/03 9:00  17.3  1023.6   0.0    72             375\n",
       "1  8/13/03 10:00  18.5  1023.7   0.0    65             375\n",
       "2  8/13/03 11:00  19.3  1023.7   0.0    56             375\n",
       "3  8/13/03 12:00  20.4  1023.3   0.0    53             375\n",
       "4  8/13/03 13:00  20.9  1023.3   0.0    54             375"
      ]
     },
     "execution_count": 159,
     "metadata": {},
     "output_type": "execute_result"
    }
   ],
   "source": [
    "weather_all = pd.read_csv(f\"{BASE_DIR}/data/csv/weather_all.csv\", low_memory=False) \n",
    "weather_all.head()"
   ]
  },
  {
   "cell_type": "code",
   "execution_count": 160,
   "id": "74b80150",
   "metadata": {},
   "outputs": [
    {
     "data": {
      "text/plain": [
       "(4162276, 6)"
      ]
     },
     "execution_count": 160,
     "metadata": {},
     "output_type": "execute_result"
    }
   ],
   "source": [
    "weather_all.shape"
   ]
  },
  {
   "cell_type": "markdown",
   "id": "e780936f",
   "metadata": {},
   "source": [
    "---"
   ]
  },
  {
   "cell_type": "markdown",
   "id": "7d372f44",
   "metadata": {},
   "source": [
    "## Add UTC Instead of London TZ"
   ]
  },
  {
   "cell_type": "markdown",
   "id": "a2410a07",
   "metadata": {},
   "source": [
    "A few things to note here. First, the weather data is timestamped with a UTC time but the race data is timestamped with London time. Therefore, we will make a new column w/in the race data for UTC time of the race. Secondly, the original author of the dataset did not include AM or PM on the timestamps. However, it is a strong convention that horse races occur in the afternoon, and indeed when we inspect the results, we find that this would make sense (e.g. the earliest race would be noon and the latest race would be 9:40)."
   ]
  },
  {
   "cell_type": "code",
   "execution_count": 161,
   "id": "c6be3a8e",
   "metadata": {},
   "outputs": [
    {
     "data": {
      "text/plain": [
       "0        01:15\n",
       "1        03:40\n",
       "2        03:00\n",
       "3        03:35\n",
       "4        04:30\n",
       "         ...  \n",
       "19505    03:30\n",
       "19506    03:30\n",
       "19507    03:35\n",
       "19508    03:45\n",
       "19509    03:15\n",
       "Name: time, Length: 19510, dtype: object"
      ]
     },
     "execution_count": 161,
     "metadata": {},
     "output_type": "execute_result"
    }
   ],
   "source": [
    "races_aticnmi['time']"
   ]
  },
  {
   "cell_type": "code",
   "execution_count": 162,
   "id": "3e624a90",
   "metadata": {},
   "outputs": [],
   "source": [
    "tms = [datetime.strptime(time + \" PM\", '%I:%M %p') for time in races_aticnmi['time']]"
   ]
  },
  {
   "cell_type": "code",
   "execution_count": 163,
   "id": "22277c21",
   "metadata": {},
   "outputs": [
    {
     "data": {
      "text/plain": [
       "(datetime.datetime(1900, 1, 1, 12, 0), datetime.datetime(1900, 1, 1, 21, 40))"
      ]
     },
     "execution_count": 163,
     "metadata": {},
     "output_type": "execute_result"
    }
   ],
   "source": [
    "min(tms), max(tms)"
   ]
  },
  {
   "cell_type": "markdown",
   "id": "546a686a",
   "metadata": {},
   "source": [
    "Now that we have performed this sanity check, proceed with the conversion."
   ]
  },
  {
   "cell_type": "code",
   "execution_count": 164,
   "id": "38746833",
   "metadata": {},
   "outputs": [],
   "source": [
    "races_aticnmi['time utc'] = [\n",
    "    datetime.strptime(\n",
    "        ('0' + row['date'].rstrip(' 00:00') if row['date'][1] == '/' else row['date'].rstrip(' 00:00')) + \\\n",
    "        ' ' + row['time'] + ' PM', '%y/%m/%d %I:%M %p'\n",
    "    )\n",
    "    for idx, row\n",
    "    in races_aticnmi.iterrows()\n",
    "]"
   ]
  },
  {
   "cell_type": "code",
   "execution_count": 165,
   "id": "e9dea476",
   "metadata": {},
   "outputs": [
    {
     "data": {
      "text/html": [
       "<div>\n",
       "<style scoped>\n",
       "    .dataframe tbody tr th:only-of-type {\n",
       "        vertical-align: middle;\n",
       "    }\n",
       "\n",
       "    .dataframe tbody tr th {\n",
       "        vertical-align: top;\n",
       "    }\n",
       "\n",
       "    .dataframe thead th {\n",
       "        text-align: right;\n",
       "    }\n",
       "</style>\n",
       "<table border=\"1\" class=\"dataframe\">\n",
       "  <thead>\n",
       "    <tr style=\"text-align: right;\">\n",
       "      <th></th>\n",
       "      <th>rid</th>\n",
       "      <th>course</th>\n",
       "      <th>time</th>\n",
       "      <th>date</th>\n",
       "      <th>hurdles</th>\n",
       "      <th>prizes</th>\n",
       "      <th>winningTime</th>\n",
       "      <th>metric</th>\n",
       "      <th>countryCode</th>\n",
       "      <th>ncond</th>\n",
       "      <th>class</th>\n",
       "      <th>time utc</th>\n",
       "    </tr>\n",
       "  </thead>\n",
       "  <tbody>\n",
       "    <tr>\n",
       "      <th>0</th>\n",
       "      <td>302858</td>\n",
       "      <td>Thurles (IRE)</td>\n",
       "      <td>01:15</td>\n",
       "      <td>97/01/09</td>\n",
       "      <td>NaN</td>\n",
       "      <td>[]</td>\n",
       "      <td>277.2</td>\n",
       "      <td>3821.0</td>\n",
       "      <td>IE</td>\n",
       "      <td>1</td>\n",
       "      <td>0</td>\n",
       "      <td>1997-01-09 13:15:00</td>\n",
       "    </tr>\n",
       "    <tr>\n",
       "      <th>1</th>\n",
       "      <td>291347</td>\n",
       "      <td>Punchestown (IRE)</td>\n",
       "      <td>03:40</td>\n",
       "      <td>97/02/16</td>\n",
       "      <td>NaN</td>\n",
       "      <td>[]</td>\n",
       "      <td>447.2</td>\n",
       "      <td>5229.0</td>\n",
       "      <td>IE</td>\n",
       "      <td>5</td>\n",
       "      <td>0</td>\n",
       "      <td>1997-02-16 15:40:00</td>\n",
       "    </tr>\n",
       "    <tr>\n",
       "      <th>2</th>\n",
       "      <td>377929</td>\n",
       "      <td>Leopardstown (IRE)</td>\n",
       "      <td>03:00</td>\n",
       "      <td>97/05/11</td>\n",
       "      <td>NaN</td>\n",
       "      <td>[]</td>\n",
       "      <td>106.4</td>\n",
       "      <td>1609.0</td>\n",
       "      <td>IE</td>\n",
       "      <td>4</td>\n",
       "      <td>0</td>\n",
       "      <td>1997-05-11 15:00:00</td>\n",
       "    </tr>\n",
       "    <tr>\n",
       "      <th>3</th>\n",
       "      <td>275117</td>\n",
       "      <td>Curragh (IRE)</td>\n",
       "      <td>03:35</td>\n",
       "      <td>97/05/25</td>\n",
       "      <td>NaN</td>\n",
       "      <td>[]</td>\n",
       "      <td>125.9</td>\n",
       "      <td>2011.0</td>\n",
       "      <td>IE</td>\n",
       "      <td>4</td>\n",
       "      <td>0</td>\n",
       "      <td>1997-05-25 15:35:00</td>\n",
       "    </tr>\n",
       "    <tr>\n",
       "      <th>4</th>\n",
       "      <td>66511</td>\n",
       "      <td>Leopardstown (IRE)</td>\n",
       "      <td>04:30</td>\n",
       "      <td>97/06/02</td>\n",
       "      <td>NaN</td>\n",
       "      <td>[]</td>\n",
       "      <td>116.3</td>\n",
       "      <td>1810.0</td>\n",
       "      <td>IE</td>\n",
       "      <td>1</td>\n",
       "      <td>0</td>\n",
       "      <td>1997-06-02 16:30:00</td>\n",
       "    </tr>\n",
       "  </tbody>\n",
       "</table>\n",
       "</div>"
      ],
      "text/plain": [
       "      rid              course   time      date  hurdles prizes  winningTime  \\\n",
       "0  302858       Thurles (IRE)  01:15  97/01/09      NaN     []        277.2   \n",
       "1  291347   Punchestown (IRE)  03:40  97/02/16      NaN     []        447.2   \n",
       "2  377929  Leopardstown (IRE)  03:00  97/05/11      NaN     []        106.4   \n",
       "3  275117       Curragh (IRE)  03:35  97/05/25      NaN     []        125.9   \n",
       "4   66511  Leopardstown (IRE)  04:30  97/06/02      NaN     []        116.3   \n",
       "\n",
       "   metric countryCode  ncond  class            time utc  \n",
       "0  3821.0          IE      1      0 1997-01-09 13:15:00  \n",
       "1  5229.0          IE      5      0 1997-02-16 15:40:00  \n",
       "2  1609.0          IE      4      0 1997-05-11 15:00:00  \n",
       "3  2011.0          IE      4      0 1997-05-25 15:35:00  \n",
       "4  1810.0          IE      1      0 1997-06-02 16:30:00  "
      ]
     },
     "execution_count": 165,
     "metadata": {},
     "output_type": "execute_result"
    }
   ],
   "source": [
    "races_aticnmi.head()"
   ]
  },
  {
   "cell_type": "markdown",
   "id": "19176387",
   "metadata": {},
   "source": [
    "---"
   ]
  },
  {
   "cell_type": "markdown",
   "id": "1e37bffc",
   "metadata": {},
   "source": [
    "## Make Helper Function for Finding Nearest Weather Reading"
   ]
  },
  {
   "cell_type": "markdown",
   "id": "90cf03ad",
   "metadata": {},
   "source": [
    "Here, we take advantage of the fact that the entries for a given station number are in time order."
   ]
  },
  {
   "cell_type": "code",
   "execution_count": 166,
   "id": "5fdc9c94",
   "metadata": {},
   "outputs": [
    {
     "data": {
      "text/html": [
       "<div>\n",
       "<style scoped>\n",
       "    .dataframe tbody tr th:only-of-type {\n",
       "        vertical-align: middle;\n",
       "    }\n",
       "\n",
       "    .dataframe tbody tr th {\n",
       "        vertical-align: top;\n",
       "    }\n",
       "\n",
       "    .dataframe thead th {\n",
       "        text-align: right;\n",
       "    }\n",
       "</style>\n",
       "<table border=\"1\" class=\"dataframe\">\n",
       "  <thead>\n",
       "    <tr style=\"text-align: right;\">\n",
       "      <th></th>\n",
       "      <th>date</th>\n",
       "      <th>temp</th>\n",
       "      <th>msl</th>\n",
       "      <th>rain</th>\n",
       "      <th>rhum</th>\n",
       "      <th>Station number</th>\n",
       "    </tr>\n",
       "  </thead>\n",
       "  <tbody>\n",
       "    <tr>\n",
       "      <th>2155805</th>\n",
       "      <td>8/14/03 1:00</td>\n",
       "      <td>10.9</td>\n",
       "      <td>1024.2</td>\n",
       "      <td>0.0</td>\n",
       "      <td>87</td>\n",
       "      <td>275</td>\n",
       "    </tr>\n",
       "    <tr>\n",
       "      <th>2155806</th>\n",
       "      <td>8/14/03 2:00</td>\n",
       "      <td>10.7</td>\n",
       "      <td>1024.0</td>\n",
       "      <td>0.0</td>\n",
       "      <td>86</td>\n",
       "      <td>275</td>\n",
       "    </tr>\n",
       "    <tr>\n",
       "      <th>2155807</th>\n",
       "      <td>8/14/03 3:00</td>\n",
       "      <td>10.2</td>\n",
       "      <td>1024.0</td>\n",
       "      <td>0.0</td>\n",
       "      <td>86</td>\n",
       "      <td>275</td>\n",
       "    </tr>\n",
       "    <tr>\n",
       "      <th>2155808</th>\n",
       "      <td>8/14/03 4:00</td>\n",
       "      <td>9.5</td>\n",
       "      <td>1023.8</td>\n",
       "      <td>0.0</td>\n",
       "      <td>90</td>\n",
       "      <td>275</td>\n",
       "    </tr>\n",
       "    <tr>\n",
       "      <th>2155809</th>\n",
       "      <td>8/14/03 5:00</td>\n",
       "      <td>9.2</td>\n",
       "      <td>1023.7</td>\n",
       "      <td>0.0</td>\n",
       "      <td>92</td>\n",
       "      <td>275</td>\n",
       "    </tr>\n",
       "    <tr>\n",
       "      <th>...</th>\n",
       "      <td>...</td>\n",
       "      <td>...</td>\n",
       "      <td>...</td>\n",
       "      <td>...</td>\n",
       "      <td>...</td>\n",
       "      <td>...</td>\n",
       "    </tr>\n",
       "    <tr>\n",
       "      <th>2306555</th>\n",
       "      <td>12/31/20 19:00</td>\n",
       "      <td>6.4</td>\n",
       "      <td>1014.6</td>\n",
       "      <td>0.0</td>\n",
       "      <td>79</td>\n",
       "      <td>275</td>\n",
       "    </tr>\n",
       "    <tr>\n",
       "      <th>2306556</th>\n",
       "      <td>12/31/20 20:00</td>\n",
       "      <td>6.1</td>\n",
       "      <td>1015.9</td>\n",
       "      <td>0.0</td>\n",
       "      <td>79</td>\n",
       "      <td>275</td>\n",
       "    </tr>\n",
       "    <tr>\n",
       "      <th>2306557</th>\n",
       "      <td>12/31/20 21:00</td>\n",
       "      <td>6.2</td>\n",
       "      <td>1016.1</td>\n",
       "      <td>0.0</td>\n",
       "      <td>76</td>\n",
       "      <td>275</td>\n",
       "    </tr>\n",
       "    <tr>\n",
       "      <th>2306558</th>\n",
       "      <td>12/31/20 22:00</td>\n",
       "      <td>6.0</td>\n",
       "      <td>1016.6</td>\n",
       "      <td>0.0</td>\n",
       "      <td>80</td>\n",
       "      <td>275</td>\n",
       "    </tr>\n",
       "    <tr>\n",
       "      <th>2306559</th>\n",
       "      <td>12/31/20 23:00</td>\n",
       "      <td>5.8</td>\n",
       "      <td>1017.0</td>\n",
       "      <td>0.0</td>\n",
       "      <td>81</td>\n",
       "      <td>275</td>\n",
       "    </tr>\n",
       "  </tbody>\n",
       "</table>\n",
       "<p>150755 rows × 6 columns</p>\n",
       "</div>"
      ],
      "text/plain": [
       "                   date  temp     msl  rain  rhum  Station number\n",
       "2155805    8/14/03 1:00  10.9  1024.2   0.0    87             275\n",
       "2155806    8/14/03 2:00  10.7  1024.0   0.0    86             275\n",
       "2155807    8/14/03 3:00  10.2  1024.0   0.0    86             275\n",
       "2155808    8/14/03 4:00   9.5  1023.8   0.0    90             275\n",
       "2155809    8/14/03 5:00   9.2  1023.7   0.0    92             275\n",
       "...                 ...   ...     ...   ...   ...             ...\n",
       "2306555  12/31/20 19:00   6.4  1014.6   0.0    79             275\n",
       "2306556  12/31/20 20:00   6.1  1015.9   0.0    79             275\n",
       "2306557  12/31/20 21:00   6.2  1016.1   0.0    76             275\n",
       "2306558  12/31/20 22:00   6.0  1016.6   0.0    80             275\n",
       "2306559  12/31/20 23:00   5.8  1017.0   0.0    81             275\n",
       "\n",
       "[150755 rows x 6 columns]"
      ]
     },
     "execution_count": 166,
     "metadata": {},
     "output_type": "execute_result"
    }
   ],
   "source": [
    "weather_all[weather_all['Station number'] == 275]"
   ]
  },
  {
   "cell_type": "code",
   "execution_count": 167,
   "id": "56b7d633",
   "metadata": {},
   "outputs": [],
   "source": [
    "def nearest_weather_reading(rid: int, time: datetime):\n",
    "    \"\"\"\n",
    "    Return index of the nearest weather reading and its distance from the query time.\n",
    "    \"\"\"\n",
    "    \n",
    "    # we already know what station we are looking for\n",
    "    weather_at_station = weather_all[weather_all['Station number'] == RID_TO_STATION_IE[rid][0]]\n",
    "    \n",
    "    # binary search through the list\n",
    "    # https://stackoverflow.com/questions/23681948/get-index-of-closest-value-with-binary-search\n",
    "    \n",
    "    lo = 0\n",
    "    hi = len(weather_at_station) - 1\n",
    "    \n",
    "    best_ind = lo\n",
    "    best_entry_time = datetime.strptime(weather_at_station.iloc[lo]['date'], '%m/%d/%y %H:%M')\n",
    "    \n",
    "    while lo <= hi:\n",
    "        \n",
    "        mid = lo + (hi - lo) // 2\n",
    "        \n",
    "        entry_time = datetime.strptime(weather_at_station.iloc[mid]['date'], '%m/%d/%y %H:%M')\n",
    "        \n",
    "        if entry_time < time:\n",
    "            lo = mid + 1\n",
    "            \n",
    "        elif entry_time > time:\n",
    "            hi = mid - 1\n",
    "            \n",
    "        else:\n",
    "            best_ind = mid\n",
    "            best_entry_time = datetime.strptime(weather_at_station.iloc[best_ind]['date'], '%m/%d/%y %H:%M')\n",
    "            break\n",
    "    \n",
    "        if abs(entry_time - time) < abs(best_entry_time - time):\n",
    "            best_ind = mid\n",
    "            best_entry_time = datetime.strptime(weather_at_station.iloc[best_ind]['date'], '%m/%d/%y %H:%M')\n",
    "\n",
    "    return weather_at_station.iloc[best_ind].name, abs(best_entry_time - time)"
   ]
  },
  {
   "cell_type": "code",
   "execution_count": 168,
   "id": "a0a36ac9",
   "metadata": {},
   "outputs": [
    {
     "data": {
      "text/plain": [
       "(1116215, Timedelta('0 days 00:15:00'))"
      ]
     },
     "execution_count": 168,
     "metadata": {},
     "output_type": "execute_result"
    }
   ],
   "source": [
    "nearest_weather_reading(302858, races_aticnmi.iloc[0]['time utc'])"
   ]
  },
  {
   "cell_type": "code",
   "execution_count": 169,
   "id": "2063d4c7",
   "metadata": {},
   "outputs": [
    {
     "data": {
      "text/html": [
       "<div>\n",
       "<style scoped>\n",
       "    .dataframe tbody tr th:only-of-type {\n",
       "        vertical-align: middle;\n",
       "    }\n",
       "\n",
       "    .dataframe tbody tr th {\n",
       "        vertical-align: top;\n",
       "    }\n",
       "\n",
       "    .dataframe thead th {\n",
       "        text-align: right;\n",
       "    }\n",
       "</style>\n",
       "<table border=\"1\" class=\"dataframe\">\n",
       "  <thead>\n",
       "    <tr style=\"text-align: right;\">\n",
       "      <th></th>\n",
       "      <th>rid</th>\n",
       "      <th>course</th>\n",
       "      <th>time</th>\n",
       "      <th>date</th>\n",
       "      <th>hurdles</th>\n",
       "      <th>prizes</th>\n",
       "      <th>winningTime</th>\n",
       "      <th>metric</th>\n",
       "      <th>countryCode</th>\n",
       "      <th>ncond</th>\n",
       "      <th>class</th>\n",
       "      <th>time utc</th>\n",
       "    </tr>\n",
       "  </thead>\n",
       "  <tbody>\n",
       "    <tr>\n",
       "      <th>0</th>\n",
       "      <td>302858</td>\n",
       "      <td>Thurles (IRE)</td>\n",
       "      <td>01:15</td>\n",
       "      <td>97/01/09</td>\n",
       "      <td>NaN</td>\n",
       "      <td>[]</td>\n",
       "      <td>277.2</td>\n",
       "      <td>3821.0</td>\n",
       "      <td>IE</td>\n",
       "      <td>1</td>\n",
       "      <td>0</td>\n",
       "      <td>1997-01-09 13:15:00</td>\n",
       "    </tr>\n",
       "  </tbody>\n",
       "</table>\n",
       "</div>"
      ],
      "text/plain": [
       "      rid         course   time      date  hurdles prizes  winningTime  \\\n",
       "0  302858  Thurles (IRE)  01:15  97/01/09      NaN     []        277.2   \n",
       "\n",
       "   metric countryCode  ncond  class            time utc  \n",
       "0  3821.0          IE      1      0 1997-01-09 13:15:00  "
      ]
     },
     "execution_count": 169,
     "metadata": {},
     "output_type": "execute_result"
    }
   ],
   "source": [
    "races_aticnmi[races_aticnmi['rid'] == 302858]"
   ]
  },
  {
   "cell_type": "code",
   "execution_count": 170,
   "id": "cedfecb9",
   "metadata": {},
   "outputs": [
    {
     "data": {
      "text/plain": [
       "{'date': '1/12/90 17:00',\n",
       " 'temp': 3.6,\n",
       " 'msl': 1021.5,\n",
       " 'rain': 0.2,\n",
       " 'rhum': 90,\n",
       " 'Station number': 4919}"
      ]
     },
     "execution_count": 170,
     "metadata": {},
     "output_type": "execute_result"
    }
   ],
   "source": [
    "weather_all.loc[1072295].to_dict()"
   ]
  },
  {
   "cell_type": "markdown",
   "id": "40ddb3f4",
   "metadata": {},
   "source": [
    "---"
   ]
  },
  {
   "cell_type": "markdown",
   "id": "7936ea2d",
   "metadata": {},
   "source": [
    "## Make `rid` to Weather Dict (w/ \"goodness\" measure)"
   ]
  },
  {
   "cell_type": "code",
   "execution_count": 171,
   "id": "33935aad",
   "metadata": {},
   "outputs": [
    {
     "name": "stderr",
     "output_type": "stream",
     "text": [
      "19510it [05:35, 58.07it/s]\n"
     ]
    }
   ],
   "source": [
    "d = {}\n",
    "\n",
    "for _, row in tqdm(races_aticnmi.iterrows()): \n",
    "    idx, goodness = nearest_weather_reading(row['rid'], row['time utc'])\n",
    "    weather = weather_all.loc[idx].to_dict()\n",
    "    d[row['rid']] = (weather, goodness)"
   ]
  },
  {
   "cell_type": "code",
   "execution_count": 172,
   "id": "5c80b324",
   "metadata": {},
   "outputs": [],
   "source": [
    "smpl = races_aticnmi.sample(10)"
   ]
  },
  {
   "cell_type": "code",
   "execution_count": 173,
   "id": "48b1a1b8",
   "metadata": {},
   "outputs": [
    {
     "data": {
      "text/plain": [
       "[(272669,\n",
       "  ({'date': '4/5/12 19:00',\n",
       "    'temp': 7.1,\n",
       "    'msl': 1022.9,\n",
       "    'rain': 0.0,\n",
       "    'rhum': 55,\n",
       "    'Station number': 575},\n",
       "   Timedelta('0 days 00:25:00'))),\n",
       " (119163,\n",
       "  ({'date': '5/29/18 20:00',\n",
       "    'temp': 21.1,\n",
       "    'msl': 1016.8,\n",
       "    'rain': 0.0,\n",
       "    'rhum': 62,\n",
       "    'Station number': 1175},\n",
       "   Timedelta('0 days 00:30:00'))),\n",
       " (123535,\n",
       "  ({'date': '8/1/16 16:00',\n",
       "    'temp': 15.6,\n",
       "    'msl': 1010.8,\n",
       "    'rain': 0.0,\n",
       "    'rhum': 88,\n",
       "    'Station number': 1375},\n",
       "   Timedelta('0 days 00:25:00'))),\n",
       " (183241,\n",
       "  ({'date': '5/4/08 15:00',\n",
       "    'temp': 17.0,\n",
       "    'msl': 1017.9,\n",
       "    'rain': 0.0,\n",
       "    'rhum': 57,\n",
       "    'Station number': 375},\n",
       "   Timedelta('0 days 00:25:00'))),\n",
       " (409518,\n",
       "  ({'date': '8/31/20 17:00',\n",
       "    'temp': 15.7,\n",
       "    'msl': 1016.0,\n",
       "    'rain': 0.0,\n",
       "    'rhum': 66,\n",
       "    'Station number': 4935},\n",
       "   Timedelta('0 days 00:30:00'))),\n",
       " (138802,\n",
       "  ({'date': '8/18/16 18:00',\n",
       "    'temp': 14.8,\n",
       "    'msl': 1005.0,\n",
       "    'rain': 0.0,\n",
       "    'rhum': 75,\n",
       "    'Station number': 2275},\n",
       "   Timedelta('0 days 00:10:00'))),\n",
       " (141672,\n",
       "  ({'date': '9/12/17 14:00',\n",
       "    'temp': 10.8,\n",
       "    'msl': 996.0,\n",
       "    'rain': 1.6,\n",
       "    'rhum': 93,\n",
       "    'Station number': 275},\n",
       "   Timedelta('0 days 00:10:00'))),\n",
       " (258886,\n",
       "  ({'date': '6/1/00 17:00',\n",
       "    'temp': 18.0,\n",
       "    'msl': 1006.1,\n",
       "    'rain': 0.0,\n",
       "    'rhum': 75,\n",
       "    'Station number': 3723},\n",
       "   Timedelta('0 days 00:10:00'))),\n",
       " (55634,\n",
       "  ({'date': '4/27/03 15:00',\n",
       "    'temp': 14.2,\n",
       "    'msl': 997.2,\n",
       "    'rain': 0.0,\n",
       "    'rhum': 52,\n",
       "    'Station number': 875},\n",
       "   Timedelta('0 days 00:30:00'))),\n",
       " (196753,\n",
       "  ({'date': '8/9/07 18:00',\n",
       "    'temp': 17.6,\n",
       "    'msl': 1017.7,\n",
       "    'rain': 0.0,\n",
       "    'rhum': 73,\n",
       "    'Station number': 518},\n",
       "   Timedelta('0 days 00:25:00')))]"
      ]
     },
     "execution_count": 173,
     "metadata": {},
     "output_type": "execute_result"
    }
   ],
   "source": [
    "[(rid, d[rid]) for rid in smpl['rid']]"
   ]
  },
  {
   "cell_type": "markdown",
   "id": "8b01e5f4",
   "metadata": {},
   "source": [
    "---"
   ]
  },
  {
   "cell_type": "markdown",
   "id": "918cfc35",
   "metadata": {},
   "source": [
    "## Determine Goodness of Values"
   ]
  },
  {
   "cell_type": "markdown",
   "id": "1ab45595",
   "metadata": {},
   "source": [
    "There may be small inconsistencies in the weather datasets or null values such that we don't actually have the data for a date that a race occurs. The above algorithm _will not fail_, it will still return the closest entry, but this may not be good enough. We are wondering if there is enough data such that we can just drop these, rather than manually correcting this, which would be intractable."
   ]
  },
  {
   "cell_type": "code",
   "execution_count": 186,
   "id": "0b467264",
   "metadata": {},
   "outputs": [],
   "source": [
    "def get_days_from_goodness(goodness):\n",
    "    return int(str(goodness)[:str(goodness).find(\" days\")])"
   ]
  },
  {
   "cell_type": "code",
   "execution_count": 187,
   "id": "41550fd3",
   "metadata": {},
   "outputs": [
    {
     "data": {
      "text/plain": [
       "[0, 0, 0, 0, 0]"
      ]
     },
     "execution_count": 187,
     "metadata": {},
     "output_type": "execute_result"
    }
   ],
   "source": [
    "goodness_days = [get_days_from_goodness(v[1]) for k,v in d.items()]\n",
    "goodness_days[:5]"
   ]
  },
  {
   "cell_type": "code",
   "execution_count": 188,
   "id": "f1415814",
   "metadata": {},
   "outputs": [
    {
     "data": {
      "image/png": "[encoded data removed]",
      "text/plain": [
       "<Figure size 432x288 with 1 Axes>"
      ]
     },
     "metadata": {
      "needs_background": "light"
     },
     "output_type": "display_data"
    }
   ],
   "source": [
    "binwidth = 1\n",
    "bins=np.arange(min(goodness_days), max(goodness_days) + binwidth, binwidth)\n",
    "\n",
    "plt.hist(goodness_days, bins=bins)\n",
    "plt.show()"
   ]
  },
  {
   "cell_type": "code",
   "execution_count": 189,
   "id": "653209b6",
   "metadata": {},
   "outputs": [
    {
     "data": {
      "text/plain": [
       "0      19293\n",
       "9         13\n",
       "6         13\n",
       "10        12\n",
       "3         10\n",
       "       ...  \n",
       "213        1\n",
       "148        1\n",
       "160        1\n",
       "97         1\n",
       "7          1\n",
       "Length: 67, dtype: int64"
      ]
     },
     "execution_count": 189,
     "metadata": {},
     "output_type": "execute_result"
    }
   ],
   "source": [
    "pd.Series(goodness_days).value_counts()"
   ]
  },
  {
   "cell_type": "markdown",
   "id": "82859aa3",
   "metadata": {},
   "source": [
    "Instead of going at the granularity of days, we can be as specific as the seconds."
   ]
  },
  {
   "cell_type": "code",
   "execution_count": 195,
   "id": "330d016f",
   "metadata": {},
   "outputs": [
    {
     "data": {
      "text/plain": [
       "[900.0, 1200.0, 0.0, 1500.0, 1800.0]"
      ]
     },
     "execution_count": 195,
     "metadata": {},
     "output_type": "execute_result"
    }
   ],
   "source": [
    "goodness_days = [v[1].total_seconds() for k,v in d.items()]\n",
    "goodness_days[:5]"
   ]
  },
  {
   "cell_type": "code",
   "execution_count": 197,
   "id": "9882487c",
   "metadata": {},
   "outputs": [
    {
     "data": {
      "image/png": "[encoded data removed]",
      "text/plain": [
       "<Figure size 432x288 with 1 Axes>"
      ]
     },
     "metadata": {
      "needs_background": "light"
     },
     "output_type": "display_data"
    }
   ],
   "source": [
    "plt.hist(goodness_days)\n",
    "plt.show()"
   ]
  },
  {
   "cell_type": "code",
   "execution_count": 202,
   "id": "eca91552",
   "metadata": {},
   "outputs": [
    {
     "data": {
      "text/plain": [
       "19271"
      ]
     },
     "execution_count": 202,
     "metadata": {},
     "output_type": "execute_result"
    }
   ],
   "source": [
    "sum(np.array(goodness_days) <= 30 * 60)"
   ]
  },
  {
   "cell_type": "code",
   "execution_count": 201,
   "id": "ec671b5f",
   "metadata": {},
   "outputs": [
    {
     "data": {
      "text/plain": [
       "0.9877498718605843"
      ]
     },
     "execution_count": 201,
     "metadata": {},
     "output_type": "execute_result"
    }
   ],
   "source": [
    "np.mean(np.array(goodness_days) <= 30 * 60)"
   ]
  },
  {
   "cell_type": "markdown",
   "id": "4f1c191e",
   "metadata": {},
   "source": [
    "Indeed, a large proportion of the dataset is unaffected by this; 98.7% of the data is accurate to a half-hour which we expect since the data is hourly so a race should be at most a half-hour off from the last-measured time. So we can simply drop those entries which are not within a half-hour"
   ]
  },
  {
   "cell_type": "code",
   "execution_count": 204,
   "id": "39f52e56",
   "metadata": {},
   "outputs": [],
   "source": [
    "d = {k:v[0] for k,v in d.items() if v[1].total_seconds() <= 30 * 60}"
   ]
  },
  {
   "cell_type": "code",
   "execution_count": 205,
   "id": "d2cba097",
   "metadata": {},
   "outputs": [
    {
     "data": {
      "text/plain": [
       "19271"
      ]
     },
     "execution_count": 205,
     "metadata": {},
     "output_type": "execute_result"
    }
   ],
   "source": [
    "len(d)"
   ]
  },
  {
   "cell_type": "markdown",
   "id": "53563f3f",
   "metadata": {},
   "source": [
    "---"
   ]
  },
  {
   "cell_type": "markdown",
   "id": "ac3e6c4d",
   "metadata": {},
   "source": [
    "## Write to File in `utils`"
   ]
  },
  {
   "cell_type": "code",
   "execution_count": 206,
   "id": "67bf5e61",
   "metadata": {},
   "outputs": [
    {
     "data": {
      "text/plain": [
       "\"RID_TO_WEATHER = {302858: {'date': '1/9/97 13:00', 'temp': 2.2, 'msl': 1012.7, 'rain': 0.0, 'rhum': \""
      ]
     },
     "execution_count": 206,
     "metadata": {},
     "output_type": "execute_result"
    }
   ],
   "source": [
    "s = f\"RID_TO_WEATHER = {d}\"\n",
    "s[:100]"
   ]
  },
  {
   "cell_type": "code",
   "execution_count": 207,
   "id": "d5368851",
   "metadata": {},
   "outputs": [],
   "source": [
    "with open(f\"{BASE_DIR}/utils/rid_to_weather.py\", 'w', encoding='utf-8') as f:\n",
    "    f.write(s)"
   ]
  },
  {
   "cell_type": "markdown",
   "id": "fdac5bdb",
   "metadata": {},
   "source": [
    "---"
   ]
  }
 ],
 "metadata": {
  "kernelspec": {
   "display_name": "Python 3 (ipykernel)",
   "language": "python",
   "name": "python3"
  },
  "language_info": {
   "codemirror_mode": {
    "name": "ipython",
    "version": 3
   },
   "file_extension": ".py",
   "mimetype": "text/x-python",
   "name": "python",
   "nbconvert_exporter": "python",
   "pygments_lexer": "ipython3",
   "version": "3.9.6"
  }
 },
 "nbformat": 4,
 "nbformat_minor": 5
}
