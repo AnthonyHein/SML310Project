{
 "cells": [
  {
   "cell_type": "markdown",
   "id": "dc5f8793",
   "metadata": {},
   "source": [
    "# `races_all_entries_nan_value.ipynb`"
   ]
  },
  {
   "cell_type": "markdown",
   "id": "6d76b29a",
   "metadata": {},
   "source": [
    "### Author: Anthony Hein"
   ]
  },
  {
   "cell_type": "markdown",
   "id": "8a72b287",
   "metadata": {},
   "source": [
    "#### Last updated: 10/19/2021"
   ]
  },
  {
   "cell_type": "markdown",
   "id": "a0ebf4a0",
   "metadata": {},
   "source": [
    "# Overview:\n",
    "\n",
    "This notebook is closely related to `get_nan_rpr_or_tr.ipynb`. This addresses the fact that some races may be such that all the RPR/OR/TR values are `NaN` in this race, which would render us unable to fill in an average value to convey the idea of no additional information. If this case is prolific, we will have to drop the column."
   ]
  },
  {
   "cell_type": "markdown",
   "id": "6f46b926",
   "metadata": {},
   "source": [
    "---"
   ]
  },
  {
   "cell_type": "markdown",
   "id": "066b637c",
   "metadata": {},
   "source": [
    "## Setup"
   ]
  },
  {
   "cell_type": "code",
   "execution_count": 1,
   "id": "3de4d07c",
   "metadata": {},
   "outputs": [],
   "source": [
    "import git\n",
    "import os\n",
    "from typing import List\n",
    "from collections import defaultdict\n",
    "from tqdm import tqdm\n",
    "import pandas as pd\n",
    "import numpy as np\n",
    "import matplotlib.pyplot as plt\n",
    "%matplotlib inline"
   ]
  },
  {
   "cell_type": "code",
   "execution_count": 2,
   "id": "05a06de6",
   "metadata": {},
   "outputs": [
    {
     "data": {
      "text/plain": [
       "'/Users/anthonyhein/Desktop/SML310/project'"
      ]
     },
     "execution_count": 2,
     "metadata": {},
     "output_type": "execute_result"
    }
   ],
   "source": [
    "BASE_DIR = git.Repo(os.getcwd(), search_parent_directories=True).working_dir\n",
    "BASE_DIR"
   ]
  },
  {
   "cell_type": "code",
   "execution_count": 3,
   "id": "cb1eb3f5",
   "metadata": {},
   "outputs": [],
   "source": [
    "import sys\n",
    "\n",
    "sys.path.append(f'{BASE_DIR}/utils/')\n",
    "\n",
    "from nan_values import NAN_VALUES"
   ]
  },
  {
   "cell_type": "markdown",
   "id": "19d6a59d",
   "metadata": {},
   "source": [
    "---"
   ]
  },
  {
   "cell_type": "markdown",
   "id": "062db87f",
   "metadata": {},
   "source": [
    "## Load `races_featurized.csv`"
   ]
  },
  {
   "cell_type": "code",
   "execution_count": 4,
   "id": "7bb383e5",
   "metadata": {},
   "outputs": [
    {
     "data": {
      "text/html": [
       "<div>\n",
       "<style scoped>\n",
       "    .dataframe tbody tr th:only-of-type {\n",
       "        vertical-align: middle;\n",
       "    }\n",
       "\n",
       "    .dataframe tbody tr th {\n",
       "        vertical-align: top;\n",
       "    }\n",
       "\n",
       "    .dataframe thead th {\n",
       "        text-align: right;\n",
       "    }\n",
       "</style>\n",
       "<table border=\"1\" class=\"dataframe\">\n",
       "  <thead>\n",
       "    <tr style=\"text-align: right;\">\n",
       "      <th></th>\n",
       "      <th>rid</th>\n",
       "      <th>metric</th>\n",
       "      <th>margin</th>\n",
       "      <th>temp</th>\n",
       "      <th>msl</th>\n",
       "      <th>rain</th>\n",
       "      <th>rhum</th>\n",
       "      <th>course__Ballinrobe</th>\n",
       "      <th>course__Bellewstown</th>\n",
       "      <th>course__Clonmel</th>\n",
       "      <th>...</th>\n",
       "      <th>month__4</th>\n",
       "      <th>month__5</th>\n",
       "      <th>month__6</th>\n",
       "      <th>month__7</th>\n",
       "      <th>month__8</th>\n",
       "      <th>month__9</th>\n",
       "      <th>month__10</th>\n",
       "      <th>month__11</th>\n",
       "      <th>month__12</th>\n",
       "      <th>year</th>\n",
       "    </tr>\n",
       "  </thead>\n",
       "  <tbody>\n",
       "    <tr>\n",
       "      <th>0</th>\n",
       "      <td>302858</td>\n",
       "      <td>3821.0</td>\n",
       "      <td>1.219263</td>\n",
       "      <td>2.2</td>\n",
       "      <td>1012.7</td>\n",
       "      <td>0.0</td>\n",
       "      <td>82</td>\n",
       "      <td>0</td>\n",
       "      <td>0</td>\n",
       "      <td>0</td>\n",
       "      <td>...</td>\n",
       "      <td>0</td>\n",
       "      <td>0</td>\n",
       "      <td>0</td>\n",
       "      <td>0</td>\n",
       "      <td>0</td>\n",
       "      <td>0</td>\n",
       "      <td>0</td>\n",
       "      <td>0</td>\n",
       "      <td>0</td>\n",
       "      <td>1997</td>\n",
       "    </tr>\n",
       "    <tr>\n",
       "      <th>1</th>\n",
       "      <td>291347</td>\n",
       "      <td>5229.0</td>\n",
       "      <td>1.218049</td>\n",
       "      <td>8.1</td>\n",
       "      <td>992.8</td>\n",
       "      <td>0.0</td>\n",
       "      <td>79</td>\n",
       "      <td>0</td>\n",
       "      <td>0</td>\n",
       "      <td>0</td>\n",
       "      <td>...</td>\n",
       "      <td>0</td>\n",
       "      <td>0</td>\n",
       "      <td>0</td>\n",
       "      <td>0</td>\n",
       "      <td>0</td>\n",
       "      <td>0</td>\n",
       "      <td>0</td>\n",
       "      <td>0</td>\n",
       "      <td>0</td>\n",
       "      <td>1997</td>\n",
       "    </tr>\n",
       "    <tr>\n",
       "      <th>2</th>\n",
       "      <td>377929</td>\n",
       "      <td>1609.0</td>\n",
       "      <td>1.204927</td>\n",
       "      <td>10.1</td>\n",
       "      <td>996.7</td>\n",
       "      <td>0.0</td>\n",
       "      <td>76</td>\n",
       "      <td>0</td>\n",
       "      <td>0</td>\n",
       "      <td>0</td>\n",
       "      <td>...</td>\n",
       "      <td>0</td>\n",
       "      <td>1</td>\n",
       "      <td>0</td>\n",
       "      <td>0</td>\n",
       "      <td>0</td>\n",
       "      <td>0</td>\n",
       "      <td>0</td>\n",
       "      <td>0</td>\n",
       "      <td>0</td>\n",
       "      <td>1997</td>\n",
       "    </tr>\n",
       "    <tr>\n",
       "      <th>3</th>\n",
       "      <td>275117</td>\n",
       "      <td>2011.0</td>\n",
       "      <td>1.083838</td>\n",
       "      <td>15.8</td>\n",
       "      <td>1030.1</td>\n",
       "      <td>0.0</td>\n",
       "      <td>53</td>\n",
       "      <td>0</td>\n",
       "      <td>0</td>\n",
       "      <td>0</td>\n",
       "      <td>...</td>\n",
       "      <td>0</td>\n",
       "      <td>1</td>\n",
       "      <td>0</td>\n",
       "      <td>0</td>\n",
       "      <td>0</td>\n",
       "      <td>0</td>\n",
       "      <td>0</td>\n",
       "      <td>0</td>\n",
       "      <td>0</td>\n",
       "      <td>1997</td>\n",
       "    </tr>\n",
       "    <tr>\n",
       "      <th>4</th>\n",
       "      <td>66511</td>\n",
       "      <td>1810.0</td>\n",
       "      <td>1.077871</td>\n",
       "      <td>16.3</td>\n",
       "      <td>1022.9</td>\n",
       "      <td>0.0</td>\n",
       "      <td>53</td>\n",
       "      <td>0</td>\n",
       "      <td>0</td>\n",
       "      <td>0</td>\n",
       "      <td>...</td>\n",
       "      <td>0</td>\n",
       "      <td>0</td>\n",
       "      <td>1</td>\n",
       "      <td>0</td>\n",
       "      <td>0</td>\n",
       "      <td>0</td>\n",
       "      <td>0</td>\n",
       "      <td>0</td>\n",
       "      <td>0</td>\n",
       "      <td>1997</td>\n",
       "    </tr>\n",
       "  </tbody>\n",
       "</table>\n",
       "<p>5 rows × 70 columns</p>\n",
       "</div>"
      ],
      "text/plain": [
       "      rid  metric    margin  temp     msl  rain  rhum  course__Ballinrobe  \\\n",
       "0  302858  3821.0  1.219263   2.2  1012.7   0.0    82                   0   \n",
       "1  291347  5229.0  1.218049   8.1   992.8   0.0    79                   0   \n",
       "2  377929  1609.0  1.204927  10.1   996.7   0.0    76                   0   \n",
       "3  275117  2011.0  1.083838  15.8  1030.1   0.0    53                   0   \n",
       "4   66511  1810.0  1.077871  16.3  1022.9   0.0    53                   0   \n",
       "\n",
       "   course__Bellewstown  course__Clonmel  ...  month__4  month__5  month__6  \\\n",
       "0                    0                0  ...         0         0         0   \n",
       "1                    0                0  ...         0         0         0   \n",
       "2                    0                0  ...         0         1         0   \n",
       "3                    0                0  ...         0         1         0   \n",
       "4                    0                0  ...         0         0         1   \n",
       "\n",
       "   month__7  month__8  month__9  month__10  month__11  month__12  year  \n",
       "0         0         0         0          0          0          0  1997  \n",
       "1         0         0         0          0          0          0  1997  \n",
       "2         0         0         0          0          0          0  1997  \n",
       "3         0         0         0          0          0          0  1997  \n",
       "4         0         0         0          0          0          0  1997  \n",
       "\n",
       "[5 rows x 70 columns]"
      ]
     },
     "execution_count": 4,
     "metadata": {},
     "output_type": "execute_result"
    }
   ],
   "source": [
    "races_featurized = pd.read_csv(f\"{BASE_DIR}/data/csv/races_featurized.csv\", low_memory=False) \n",
    "races_featurized.head()"
   ]
  },
  {
   "cell_type": "code",
   "execution_count": 5,
   "id": "3ad6a80a",
   "metadata": {
    "scrolled": true
   },
   "outputs": [
    {
     "data": {
      "text/plain": [
       "(19248, 70)"
      ]
     },
     "execution_count": 5,
     "metadata": {},
     "output_type": "execute_result"
    }
   ],
   "source": [
    "races_featurized.shape"
   ]
  },
  {
   "cell_type": "markdown",
   "id": "dce4bc78",
   "metadata": {},
   "source": [
    "---"
   ]
  },
  {
   "cell_type": "markdown",
   "id": "2ed4894f",
   "metadata": {},
   "source": [
    "## Load `horses_all_trim_intxn.csv`"
   ]
  },
  {
   "cell_type": "code",
   "execution_count": 6,
   "id": "d3bf42bc",
   "metadata": {},
   "outputs": [
    {
     "data": {
      "text/html": [
       "<div>\n",
       "<style scoped>\n",
       "    .dataframe tbody tr th:only-of-type {\n",
       "        vertical-align: middle;\n",
       "    }\n",
       "\n",
       "    .dataframe tbody tr th {\n",
       "        vertical-align: top;\n",
       "    }\n",
       "\n",
       "    .dataframe thead th {\n",
       "        text-align: right;\n",
       "    }\n",
       "</style>\n",
       "<table border=\"1\" class=\"dataframe\">\n",
       "  <thead>\n",
       "    <tr style=\"text-align: right;\">\n",
       "      <th></th>\n",
       "      <th>rid</th>\n",
       "      <th>horseName</th>\n",
       "      <th>age</th>\n",
       "      <th>saddle</th>\n",
       "      <th>decimalPrice</th>\n",
       "      <th>trainerName</th>\n",
       "      <th>jockeyName</th>\n",
       "      <th>position</th>\n",
       "      <th>positionL</th>\n",
       "      <th>dist</th>\n",
       "      <th>outHandicap</th>\n",
       "      <th>RPR</th>\n",
       "      <th>TR</th>\n",
       "      <th>OR</th>\n",
       "      <th>father</th>\n",
       "      <th>mother</th>\n",
       "      <th>gfather</th>\n",
       "      <th>weight</th>\n",
       "    </tr>\n",
       "  </thead>\n",
       "  <tbody>\n",
       "    <tr>\n",
       "      <th>0</th>\n",
       "      <td>267255</td>\n",
       "      <td>Going For Broke</td>\n",
       "      <td>3.0</td>\n",
       "      <td>4.0</td>\n",
       "      <td>0.100000</td>\n",
       "      <td>P C Haslam</td>\n",
       "      <td>Seb Sanders</td>\n",
       "      <td>1</td>\n",
       "      <td>NaN</td>\n",
       "      <td>NaN</td>\n",
       "      <td>NaN</td>\n",
       "      <td>72.0</td>\n",
       "      <td>62.0</td>\n",
       "      <td>62.0</td>\n",
       "      <td>Simply Great</td>\n",
       "      <td>Empty Purse</td>\n",
       "      <td>Pennine Walk</td>\n",
       "      <td>58</td>\n",
       "    </tr>\n",
       "    <tr>\n",
       "      <th>1</th>\n",
       "      <td>267255</td>\n",
       "      <td>Pinchincha</td>\n",
       "      <td>3.0</td>\n",
       "      <td>3.0</td>\n",
       "      <td>0.266667</td>\n",
       "      <td>Dave Morris</td>\n",
       "      <td>Tony Clark</td>\n",
       "      <td>2</td>\n",
       "      <td>4</td>\n",
       "      <td>NaN</td>\n",
       "      <td>NaN</td>\n",
       "      <td>66.0</td>\n",
       "      <td>56.0</td>\n",
       "      <td>65.0</td>\n",
       "      <td>Priolo</td>\n",
       "      <td>Western Heights</td>\n",
       "      <td>Shirley Heights</td>\n",
       "      <td>60</td>\n",
       "    </tr>\n",
       "    <tr>\n",
       "      <th>2</th>\n",
       "      <td>267255</td>\n",
       "      <td>Skelton Sovereign</td>\n",
       "      <td>3.0</td>\n",
       "      <td>5.0</td>\n",
       "      <td>0.142857</td>\n",
       "      <td>Reg Hollinshead</td>\n",
       "      <td>D Griffiths</td>\n",
       "      <td>3</td>\n",
       "      <td>3</td>\n",
       "      <td>7.0</td>\n",
       "      <td>NaN</td>\n",
       "      <td>55.0</td>\n",
       "      <td>40.0</td>\n",
       "      <td>60.0</td>\n",
       "      <td>Contract Law</td>\n",
       "      <td>Mrs Lucky</td>\n",
       "      <td>Royal Match</td>\n",
       "      <td>55</td>\n",
       "    </tr>\n",
       "    <tr>\n",
       "      <th>3</th>\n",
       "      <td>267255</td>\n",
       "      <td>Fast Spin</td>\n",
       "      <td>3.0</td>\n",
       "      <td>6.0</td>\n",
       "      <td>0.380952</td>\n",
       "      <td>David Barron</td>\n",
       "      <td>Tony Culhane</td>\n",
       "      <td>4</td>\n",
       "      <td>7</td>\n",
       "      <td>14.0</td>\n",
       "      <td>NaN</td>\n",
       "      <td>38.0</td>\n",
       "      <td>30.0</td>\n",
       "      <td>59.0</td>\n",
       "      <td>Formidable I</td>\n",
       "      <td>Topwinder</td>\n",
       "      <td>Topsider</td>\n",
       "      <td>57</td>\n",
       "    </tr>\n",
       "    <tr>\n",
       "      <th>4</th>\n",
       "      <td>267255</td>\n",
       "      <td>As-Is</td>\n",
       "      <td>3.0</td>\n",
       "      <td>2.0</td>\n",
       "      <td>0.166667</td>\n",
       "      <td>Mark Johnston</td>\n",
       "      <td>J Weaver</td>\n",
       "      <td>5</td>\n",
       "      <td>7</td>\n",
       "      <td>21.0</td>\n",
       "      <td>NaN</td>\n",
       "      <td>29.0</td>\n",
       "      <td>21.0</td>\n",
       "      <td>65.0</td>\n",
       "      <td>Lomond</td>\n",
       "      <td>Capriati I</td>\n",
       "      <td>Diesis</td>\n",
       "      <td>60</td>\n",
       "    </tr>\n",
       "  </tbody>\n",
       "</table>\n",
       "</div>"
      ],
      "text/plain": [
       "      rid          horseName  age  saddle  decimalPrice      trainerName  \\\n",
       "0  267255    Going For Broke  3.0     4.0      0.100000       P C Haslam   \n",
       "1  267255         Pinchincha  3.0     3.0      0.266667      Dave Morris   \n",
       "2  267255  Skelton Sovereign  3.0     5.0      0.142857  Reg Hollinshead   \n",
       "3  267255          Fast Spin  3.0     6.0      0.380952     David Barron   \n",
       "4  267255              As-Is  3.0     2.0      0.166667    Mark Johnston   \n",
       "\n",
       "     jockeyName  position positionL  dist  outHandicap   RPR    TR    OR  \\\n",
       "0   Seb Sanders         1       NaN   NaN          NaN  72.0  62.0  62.0   \n",
       "1    Tony Clark         2         4   NaN          NaN  66.0  56.0  65.0   \n",
       "2   D Griffiths         3         3   7.0          NaN  55.0  40.0  60.0   \n",
       "3  Tony Culhane         4         7  14.0          NaN  38.0  30.0  59.0   \n",
       "4      J Weaver         5         7  21.0          NaN  29.0  21.0  65.0   \n",
       "\n",
       "         father           mother          gfather  weight  \n",
       "0  Simply Great      Empty Purse     Pennine Walk      58  \n",
       "1        Priolo  Western Heights  Shirley Heights      60  \n",
       "2  Contract Law        Mrs Lucky      Royal Match      55  \n",
       "3  Formidable I        Topwinder         Topsider      57  \n",
       "4        Lomond       Capriati I           Diesis      60  "
      ]
     },
     "execution_count": 6,
     "metadata": {},
     "output_type": "execute_result"
    }
   ],
   "source": [
    "horses_all_trim_intxn = pd.read_csv(f\"{BASE_DIR}/data/csv/horses_all_trim_intxn.csv\", low_memory=False) \n",
    "horses_all_trim_intxn.head()"
   ]
  },
  {
   "cell_type": "code",
   "execution_count": 7,
   "id": "7180a854",
   "metadata": {},
   "outputs": [
    {
     "data": {
      "text/plain": [
       "(4107315, 18)"
      ]
     },
     "execution_count": 7,
     "metadata": {},
     "output_type": "execute_result"
    }
   ],
   "source": [
    "horses_all_trim_intxn.shape"
   ]
  },
  {
   "cell_type": "markdown",
   "id": "3dc1d7a2",
   "metadata": {},
   "source": [
    "---"
   ]
  },
  {
   "cell_type": "markdown",
   "id": "6fe9c4d5",
   "metadata": {},
   "source": [
    "## Load `horses_augment_times.csv`"
   ]
  },
  {
   "cell_type": "code",
   "execution_count": 8,
   "id": "12810a9e",
   "metadata": {},
   "outputs": [
    {
     "data": {
      "text/html": [
       "<div>\n",
       "<style scoped>\n",
       "    .dataframe tbody tr th:only-of-type {\n",
       "        vertical-align: middle;\n",
       "    }\n",
       "\n",
       "    .dataframe tbody tr th {\n",
       "        vertical-align: top;\n",
       "    }\n",
       "\n",
       "    .dataframe thead th {\n",
       "        text-align: right;\n",
       "    }\n",
       "</style>\n",
       "<table border=\"1\" class=\"dataframe\">\n",
       "  <thead>\n",
       "    <tr style=\"text-align: right;\">\n",
       "      <th></th>\n",
       "      <th>rid</th>\n",
       "      <th>horseName</th>\n",
       "      <th>age</th>\n",
       "      <th>saddle</th>\n",
       "      <th>decimalPrice</th>\n",
       "      <th>trainerName</th>\n",
       "      <th>jockeyName</th>\n",
       "      <th>position</th>\n",
       "      <th>outHandicap</th>\n",
       "      <th>RPR</th>\n",
       "      <th>TR</th>\n",
       "      <th>OR</th>\n",
       "      <th>father</th>\n",
       "      <th>mother</th>\n",
       "      <th>gfather</th>\n",
       "      <th>weight</th>\n",
       "      <th>time</th>\n",
       "    </tr>\n",
       "  </thead>\n",
       "  <tbody>\n",
       "    <tr>\n",
       "      <th>0</th>\n",
       "      <td>302858</td>\n",
       "      <td>Kings Return</td>\n",
       "      <td>6.0</td>\n",
       "      <td>4.0</td>\n",
       "      <td>0.600000</td>\n",
       "      <td>W P Mullins</td>\n",
       "      <td>D J Casey</td>\n",
       "      <td>1</td>\n",
       "      <td>0.0</td>\n",
       "      <td>102.00000</td>\n",
       "      <td>51.591987</td>\n",
       "      <td>79.654604</td>\n",
       "      <td>King's Ride</td>\n",
       "      <td>Browne's Return</td>\n",
       "      <td>Deep Run</td>\n",
       "      <td>73</td>\n",
       "      <td>277.200000</td>\n",
       "    </tr>\n",
       "    <tr>\n",
       "      <th>1</th>\n",
       "      <td>302858</td>\n",
       "      <td>Majestic Red I</td>\n",
       "      <td>6.0</td>\n",
       "      <td>5.0</td>\n",
       "      <td>0.047619</td>\n",
       "      <td>John Hackett</td>\n",
       "      <td>Conor O'Dwyer</td>\n",
       "      <td>2</td>\n",
       "      <td>0.0</td>\n",
       "      <td>94.00000</td>\n",
       "      <td>51.591987</td>\n",
       "      <td>79.654604</td>\n",
       "      <td>Long Pond</td>\n",
       "      <td>Courtlough Lady</td>\n",
       "      <td>Giolla Mear</td>\n",
       "      <td>73</td>\n",
       "      <td>278.679948</td>\n",
       "    </tr>\n",
       "    <tr>\n",
       "      <th>2</th>\n",
       "      <td>302858</td>\n",
       "      <td>Clearly Canadian</td>\n",
       "      <td>6.0</td>\n",
       "      <td>2.0</td>\n",
       "      <td>0.166667</td>\n",
       "      <td>D T Hughes</td>\n",
       "      <td>G Cotter</td>\n",
       "      <td>3</td>\n",
       "      <td>0.0</td>\n",
       "      <td>92.00000</td>\n",
       "      <td>51.591987</td>\n",
       "      <td>79.654604</td>\n",
       "      <td>Nordico</td>\n",
       "      <td>Over The Seas</td>\n",
       "      <td>North Summit</td>\n",
       "      <td>71</td>\n",
       "      <td>278.957438</td>\n",
       "    </tr>\n",
       "    <tr>\n",
       "      <th>3</th>\n",
       "      <td>302858</td>\n",
       "      <td>Bernestic Wonder</td>\n",
       "      <td>8.0</td>\n",
       "      <td>1.0</td>\n",
       "      <td>0.058824</td>\n",
       "      <td>E McNamara</td>\n",
       "      <td>J Old Jones</td>\n",
       "      <td>4</td>\n",
       "      <td>0.0</td>\n",
       "      <td>71.87665</td>\n",
       "      <td>51.591987</td>\n",
       "      <td>79.654604</td>\n",
       "      <td>Roselier</td>\n",
       "      <td>Miss Reindeer</td>\n",
       "      <td>Reindeer</td>\n",
       "      <td>73</td>\n",
       "      <td>284.507242</td>\n",
       "    </tr>\n",
       "    <tr>\n",
       "      <th>4</th>\n",
       "      <td>302858</td>\n",
       "      <td>Beauty's Pride</td>\n",
       "      <td>5.0</td>\n",
       "      <td>6.0</td>\n",
       "      <td>0.038462</td>\n",
       "      <td>J J Lennon</td>\n",
       "      <td>T Martin</td>\n",
       "      <td>5</td>\n",
       "      <td>0.0</td>\n",
       "      <td>71.87665</td>\n",
       "      <td>51.591987</td>\n",
       "      <td>79.654604</td>\n",
       "      <td>Noalto</td>\n",
       "      <td>Elena's Beauty</td>\n",
       "      <td>Tarqogan</td>\n",
       "      <td>66</td>\n",
       "      <td>290.057045</td>\n",
       "    </tr>\n",
       "  </tbody>\n",
       "</table>\n",
       "</div>"
      ],
      "text/plain": [
       "      rid         horseName  age  saddle  decimalPrice   trainerName  \\\n",
       "0  302858      Kings Return  6.0     4.0      0.600000   W P Mullins   \n",
       "1  302858    Majestic Red I  6.0     5.0      0.047619  John Hackett   \n",
       "2  302858  Clearly Canadian  6.0     2.0      0.166667    D T Hughes   \n",
       "3  302858  Bernestic Wonder  8.0     1.0      0.058824    E McNamara   \n",
       "4  302858    Beauty's Pride  5.0     6.0      0.038462    J J Lennon   \n",
       "\n",
       "      jockeyName  position  outHandicap        RPR         TR         OR  \\\n",
       "0      D J Casey         1          0.0  102.00000  51.591987  79.654604   \n",
       "1  Conor O'Dwyer         2          0.0   94.00000  51.591987  79.654604   \n",
       "2       G Cotter         3          0.0   92.00000  51.591987  79.654604   \n",
       "3    J Old Jones         4          0.0   71.87665  51.591987  79.654604   \n",
       "4       T Martin         5          0.0   71.87665  51.591987  79.654604   \n",
       "\n",
       "        father           mother       gfather  weight        time  \n",
       "0  King's Ride  Browne's Return      Deep Run      73  277.200000  \n",
       "1    Long Pond  Courtlough Lady   Giolla Mear      73  278.679948  \n",
       "2      Nordico    Over The Seas  North Summit      71  278.957438  \n",
       "3     Roselier    Miss Reindeer      Reindeer      73  284.507242  \n",
       "4       Noalto   Elena's Beauty      Tarqogan      66  290.057045  "
      ]
     },
     "execution_count": 8,
     "metadata": {},
     "output_type": "execute_result"
    }
   ],
   "source": [
    "horses_augment_times = pd.read_csv(f\"{BASE_DIR}/data/csv/horses_augment_times.csv\", low_memory=False) \n",
    "horses_augment_times.head()"
   ]
  },
  {
   "cell_type": "code",
   "execution_count": 9,
   "id": "c03d464a",
   "metadata": {},
   "outputs": [
    {
     "data": {
      "text/plain": [
       "(194573, 17)"
      ]
     },
     "execution_count": 9,
     "metadata": {},
     "output_type": "execute_result"
    }
   ],
   "source": [
    "horses_augment_times.shape"
   ]
  },
  {
   "cell_type": "markdown",
   "id": "92d2a0b4",
   "metadata": {},
   "source": [
    "---"
   ]
  },
  {
   "cell_type": "markdown",
   "id": "120f28f8",
   "metadata": {},
   "source": [
    "## Drop Columns"
   ]
  },
  {
   "cell_type": "code",
   "execution_count": 10,
   "id": "0ffe8d96",
   "metadata": {},
   "outputs": [],
   "source": [
    "horses_all_trim_intxn = horses_all_trim_intxn[['rid', 'horseName', 'RPR', 'TR', 'OR']]"
   ]
  },
  {
   "cell_type": "code",
   "execution_count": 11,
   "id": "fe9ac34c",
   "metadata": {},
   "outputs": [],
   "source": [
    "horses_augment_times = horses_augment_times[['rid', 'horseName']]"
   ]
  },
  {
   "cell_type": "markdown",
   "id": "1bddc5c5",
   "metadata": {},
   "source": [
    "---"
   ]
  },
  {
   "cell_type": "markdown",
   "id": "6b2d363b",
   "metadata": {},
   "source": [
    "## Get Intersection"
   ]
  },
  {
   "cell_type": "code",
   "execution_count": 12,
   "id": "bdbbe4ec",
   "metadata": {},
   "outputs": [
    {
     "data": {
      "text/html": [
       "<div>\n",
       "<style scoped>\n",
       "    .dataframe tbody tr th:only-of-type {\n",
       "        vertical-align: middle;\n",
       "    }\n",
       "\n",
       "    .dataframe tbody tr th {\n",
       "        vertical-align: top;\n",
       "    }\n",
       "\n",
       "    .dataframe thead th {\n",
       "        text-align: right;\n",
       "    }\n",
       "</style>\n",
       "<table border=\"1\" class=\"dataframe\">\n",
       "  <thead>\n",
       "    <tr style=\"text-align: right;\">\n",
       "      <th></th>\n",
       "      <th>rid</th>\n",
       "      <th>horseName</th>\n",
       "      <th>RPR</th>\n",
       "      <th>TR</th>\n",
       "      <th>OR</th>\n",
       "    </tr>\n",
       "  </thead>\n",
       "  <tbody>\n",
       "    <tr>\n",
       "      <th>0</th>\n",
       "      <td>302858</td>\n",
       "      <td>Kings Return</td>\n",
       "      <td>102.0</td>\n",
       "      <td>NaN</td>\n",
       "      <td>NaN</td>\n",
       "    </tr>\n",
       "    <tr>\n",
       "      <th>1</th>\n",
       "      <td>302858</td>\n",
       "      <td>Majestic Red I</td>\n",
       "      <td>94.0</td>\n",
       "      <td>NaN</td>\n",
       "      <td>NaN</td>\n",
       "    </tr>\n",
       "    <tr>\n",
       "      <th>2</th>\n",
       "      <td>302858</td>\n",
       "      <td>Clearly Canadian</td>\n",
       "      <td>92.0</td>\n",
       "      <td>NaN</td>\n",
       "      <td>NaN</td>\n",
       "    </tr>\n",
       "    <tr>\n",
       "      <th>3</th>\n",
       "      <td>302858</td>\n",
       "      <td>Bernestic Wonder</td>\n",
       "      <td>NaN</td>\n",
       "      <td>NaN</td>\n",
       "      <td>NaN</td>\n",
       "    </tr>\n",
       "    <tr>\n",
       "      <th>4</th>\n",
       "      <td>302858</td>\n",
       "      <td>Beauty's Pride</td>\n",
       "      <td>NaN</td>\n",
       "      <td>NaN</td>\n",
       "      <td>NaN</td>\n",
       "    </tr>\n",
       "    <tr>\n",
       "      <th>5</th>\n",
       "      <td>302858</td>\n",
       "      <td>Graignamanagh</td>\n",
       "      <td>NaN</td>\n",
       "      <td>NaN</td>\n",
       "      <td>NaN</td>\n",
       "    </tr>\n",
       "    <tr>\n",
       "      <th>6</th>\n",
       "      <td>291347</td>\n",
       "      <td>Antonin</td>\n",
       "      <td>157.0</td>\n",
       "      <td>NaN</td>\n",
       "      <td>NaN</td>\n",
       "    </tr>\n",
       "    <tr>\n",
       "      <th>7</th>\n",
       "      <td>291347</td>\n",
       "      <td>King Of The Gales</td>\n",
       "      <td>NaN</td>\n",
       "      <td>NaN</td>\n",
       "      <td>NaN</td>\n",
       "    </tr>\n",
       "    <tr>\n",
       "      <th>8</th>\n",
       "      <td>291347</td>\n",
       "      <td>Carrigeen Kerria</td>\n",
       "      <td>NaN</td>\n",
       "      <td>NaN</td>\n",
       "      <td>NaN</td>\n",
       "    </tr>\n",
       "    <tr>\n",
       "      <th>9</th>\n",
       "      <td>291347</td>\n",
       "      <td>Fissure Seal</td>\n",
       "      <td>NaN</td>\n",
       "      <td>NaN</td>\n",
       "      <td>NaN</td>\n",
       "    </tr>\n",
       "  </tbody>\n",
       "</table>\n",
       "</div>"
      ],
      "text/plain": [
       "      rid          horseName    RPR  TR  OR\n",
       "0  302858       Kings Return  102.0 NaN NaN\n",
       "1  302858     Majestic Red I   94.0 NaN NaN\n",
       "2  302858   Clearly Canadian   92.0 NaN NaN\n",
       "3  302858   Bernestic Wonder    NaN NaN NaN\n",
       "4  302858     Beauty's Pride    NaN NaN NaN\n",
       "5  302858      Graignamanagh    NaN NaN NaN\n",
       "6  291347            Antonin  157.0 NaN NaN\n",
       "7  291347  King Of The Gales    NaN NaN NaN\n",
       "8  291347   Carrigeen Kerria    NaN NaN NaN\n",
       "9  291347       Fissure Seal    NaN NaN NaN"
      ]
     },
     "execution_count": 12,
     "metadata": {},
     "output_type": "execute_result"
    }
   ],
   "source": [
    "horses_all_working = horses_all_trim_intxn.merge(horses_augment_times, on=['rid', 'horseName'])\n",
    "horses_all_working.head(10)"
   ]
  },
  {
   "cell_type": "code",
   "execution_count": 13,
   "id": "ce235c85",
   "metadata": {},
   "outputs": [
    {
     "data": {
      "text/plain": [
       "(194573, 5)"
      ]
     },
     "execution_count": 13,
     "metadata": {},
     "output_type": "execute_result"
    }
   ],
   "source": [
    "horses_all_working.shape"
   ]
  },
  {
   "cell_type": "markdown",
   "id": "28ed721a",
   "metadata": {},
   "source": [
    "---"
   ]
  },
  {
   "cell_type": "markdown",
   "id": "0b06d414",
   "metadata": {},
   "source": [
    "## Get Codes by Race"
   ]
  },
  {
   "cell_type": "code",
   "execution_count": 14,
   "id": "acc0c048",
   "metadata": {},
   "outputs": [],
   "source": [
    "def to_binary_vector(x):\n",
    "    vec = []\n",
    "    vec.append(x % 2 == 1)\n",
    "    x >>= 1\n",
    "    vec.append(x % 2 == 1)\n",
    "    x >>= 1\n",
    "    vec.append(x % 2 == 1)\n",
    "    x >>= 1\n",
    "    return vec[::-1]"
   ]
  },
  {
   "cell_type": "code",
   "execution_count": 15,
   "id": "b3a5e9dd",
   "metadata": {},
   "outputs": [
    {
     "data": {
      "text/plain": [
       "[False, False, True]"
      ]
     },
     "execution_count": 15,
     "metadata": {},
     "output_type": "execute_result"
    }
   ],
   "source": [
    "to_binary_vector(1)"
   ]
  },
  {
   "cell_type": "code",
   "execution_count": 16,
   "id": "3a30af67",
   "metadata": {},
   "outputs": [],
   "source": [
    "def resolve_code(code1: int, code2: int):\n",
    "    code1_twoth, code1_oneth, code1_zeroth = to_binary_vector(code1)\n",
    "    code2_twoth, code2_oneth, code2_zeroth = to_binary_vector(code2)\n",
    "    code = int(code1_zeroth or code2_zeroth) + \\\n",
    "           2 * int(code1_oneth or code2_oneth) + \\\n",
    "           4 * int(code1_twoth or code2_twoth)\n",
    "    return code"
   ]
  },
  {
   "cell_type": "code",
   "execution_count": 17,
   "id": "e91f27cb",
   "metadata": {},
   "outputs": [
    {
     "data": {
      "text/plain": [
       "7"
      ]
     },
     "execution_count": 17,
     "metadata": {},
     "output_type": "execute_result"
    }
   ],
   "source": [
    "resolve_code(6, 1)"
   ]
  },
  {
   "cell_type": "code",
   "execution_count": 18,
   "id": "add6b247",
   "metadata": {},
   "outputs": [
    {
     "data": {
      "text/plain": [
       "6"
      ]
     },
     "execution_count": 18,
     "metadata": {},
     "output_type": "execute_result"
    }
   ],
   "source": [
    "resolve_code(4, 2)"
   ]
  },
  {
   "cell_type": "code",
   "execution_count": 19,
   "id": "18cb7ae9",
   "metadata": {},
   "outputs": [
    {
     "data": {
      "text/plain": [
       "3"
      ]
     },
     "execution_count": 19,
     "metadata": {},
     "output_type": "execute_result"
    }
   ],
   "source": [
    "resolve_code(3, 1)"
   ]
  },
  {
   "cell_type": "code",
   "execution_count": 20,
   "id": "1b8d5851",
   "metadata": {},
   "outputs": [
    {
     "name": "stderr",
     "output_type": "stream",
     "text": [
      "194573it [00:08, 21978.02it/s]\n"
     ]
    }
   ],
   "source": [
    "races_to_codes = defaultdict(lambda: 0)\n",
    "\n",
    "for idx, row in tqdm(horses_augment_times.iterrows()):\n",
    "    races_to_codes[row['rid']] = resolve_code(races_to_codes[row['rid']], NAN_VALUES[idx])"
   ]
  },
  {
   "cell_type": "code",
   "execution_count": 21,
   "id": "78059b05",
   "metadata": {},
   "outputs": [
    {
     "data": {
      "text/plain": [
       "(array([0, 1, 2, 3, 4, 5, 6, 7]),\n",
       " array([   36,    81,    14,    21,  1467,  3371,  3286, 10940]))"
      ]
     },
     "execution_count": 21,
     "metadata": {},
     "output_type": "execute_result"
    }
   ],
   "source": [
    "code, cnts = np.unique([v for _,v in races_to_codes.items()], return_counts=True)\n",
    "code, cnts"
   ]
  },
  {
   "cell_type": "code",
   "execution_count": 22,
   "id": "1e824715",
   "metadata": {},
   "outputs": [
    {
     "data": {
      "text/plain": [
       "(array([   36.,    81.,    14.,    21.,  1467.,  3371.,  3286., 10940.]),\n",
       " array([0.   , 0.875, 1.75 , 2.625, 3.5  , 4.375, 5.25 , 6.125, 7.   ]),\n",
       " <BarContainer object of 8 artists>)"
      ]
     },
     "execution_count": 22,
     "metadata": {},
     "output_type": "execute_result"
    },
    {
     "data": {
      "image/png": "[encoded data removed]",
      "text/plain": [
       "<Figure size 432x288 with 1 Axes>"
      ]
     },
     "metadata": {
      "needs_background": "light"
     },
     "output_type": "display_data"
    }
   ],
   "source": [
    "plt.hist([v for _,v in races_to_codes.items()], bins=8)"
   ]
  },
  {
   "cell_type": "code",
   "execution_count": 23,
   "id": "2b9e51d2",
   "metadata": {},
   "outputs": [
    {
     "data": {
      "text/plain": [
       "19064"
      ]
     },
     "execution_count": 23,
     "metadata": {},
     "output_type": "execute_result"
    }
   ],
   "source": [
    "num_races_has_rpr = cnts[4] + cnts[5] + cnts[6] + cnts[7]\n",
    "num_races_has_rpr"
   ]
  },
  {
   "cell_type": "code",
   "execution_count": 33,
   "id": "0dca3d09",
   "metadata": {},
   "outputs": [
    {
     "data": {
      "text/plain": [
       "14261"
      ]
     },
     "execution_count": 33,
     "metadata": {},
     "output_type": "execute_result"
    }
   ],
   "source": [
    "num_races_has_tr = cnts[2] + cnts[3] + cnts[6] + cnts[7]\n",
    "num_races_has_tr"
   ]
  },
  {
   "cell_type": "code",
   "execution_count": 34,
   "id": "d129cf43",
   "metadata": {},
   "outputs": [
    {
     "data": {
      "text/plain": [
       "14413"
      ]
     },
     "execution_count": 34,
     "metadata": {},
     "output_type": "execute_result"
    }
   ],
   "source": [
    "num_races_has_or = cnts[1] + cnts[3] + cnts[5] + cnts[7]\n",
    "num_races_has_or"
   ]
  },
  {
   "cell_type": "markdown",
   "id": "26d5a636",
   "metadata": {},
   "source": [
    "Again, these values look largely good."
   ]
  },
  {
   "cell_type": "markdown",
   "id": "1db6745b",
   "metadata": {},
   "source": [
    "At this point, I had a revelation. For races where there is no `RPR`/ `OR`/ `TR` information across the entire race, we can simply fill this in with _any_ value, in particular the global average. For races where there is `RPR`/`OR`/`TR` information, this is when we have to use the average for that race."
   ]
  },
  {
   "cell_type": "markdown",
   "id": "b17a0d04",
   "metadata": {},
   "source": [
    "---"
   ]
  },
  {
   "cell_type": "markdown",
   "id": "768b9202",
   "metadata": {},
   "source": [
    "## Get Average Per Race"
   ]
  },
  {
   "cell_type": "code",
   "execution_count": 35,
   "id": "8996e6bd",
   "metadata": {},
   "outputs": [
    {
     "name": "stderr",
     "output_type": "stream",
     "text": [
      "100%|████████████████████████████████████████████████████████████████████████████████████████████████████████████████████████████████████████████████| 19248/19248 [00:37<00:00, 518.09it/s]\n"
     ]
    }
   ],
   "source": [
    "average_by_race = {}\n",
    "\n",
    "for rid in tqdm(races_featurized['rid']):\n",
    "    df = horses_all_working[horses_all_working['rid'] == rid]\n",
    "    rprs = df[~ df['RPR'].isnull()]['RPR']\n",
    "    trs = df[~ df['TR'].isnull()]['TR']\n",
    "    ors = df[~ df['OR'].isnull()]['OR']\n",
    "    rpr_mean = np.mean(rprs) if len(rprs) > 0 else float('nan')\n",
    "    tr_mean = np.mean(trs) if len(trs) > 0 else float('nan')\n",
    "    or_mean = np.mean(ors) if len(ors) > 0 else float('nan')\n",
    "    average_by_race[rid] = {\n",
    "        'RPR': rpr_mean,\n",
    "        'TR': tr_mean,\n",
    "        'OR': or_mean,\n",
    "    }"
   ]
  },
  {
   "cell_type": "code",
   "execution_count": 36,
   "id": "f60215ba",
   "metadata": {},
   "outputs": [
    {
     "data": {
      "text/html": [
       "<div>\n",
       "<style scoped>\n",
       "    .dataframe tbody tr th:only-of-type {\n",
       "        vertical-align: middle;\n",
       "    }\n",
       "\n",
       "    .dataframe tbody tr th {\n",
       "        vertical-align: top;\n",
       "    }\n",
       "\n",
       "    .dataframe thead th {\n",
       "        text-align: right;\n",
       "    }\n",
       "</style>\n",
       "<table border=\"1\" class=\"dataframe\">\n",
       "  <thead>\n",
       "    <tr style=\"text-align: right;\">\n",
       "      <th></th>\n",
       "      <th>rid</th>\n",
       "      <th>metric</th>\n",
       "      <th>margin</th>\n",
       "      <th>temp</th>\n",
       "      <th>msl</th>\n",
       "      <th>rain</th>\n",
       "      <th>rhum</th>\n",
       "      <th>course__Ballinrobe</th>\n",
       "      <th>course__Bellewstown</th>\n",
       "      <th>course__Clonmel</th>\n",
       "      <th>...</th>\n",
       "      <th>month__4</th>\n",
       "      <th>month__5</th>\n",
       "      <th>month__6</th>\n",
       "      <th>month__7</th>\n",
       "      <th>month__8</th>\n",
       "      <th>month__9</th>\n",
       "      <th>month__10</th>\n",
       "      <th>month__11</th>\n",
       "      <th>month__12</th>\n",
       "      <th>year</th>\n",
       "    </tr>\n",
       "  </thead>\n",
       "  <tbody>\n",
       "    <tr>\n",
       "      <th>1065</th>\n",
       "      <td>119056</td>\n",
       "      <td>4524.5</td>\n",
       "      <td>1.299824</td>\n",
       "      <td>7.6</td>\n",
       "      <td>1004.7</td>\n",
       "      <td>0.0</td>\n",
       "      <td>60</td>\n",
       "      <td>0</td>\n",
       "      <td>0</td>\n",
       "      <td>0</td>\n",
       "      <td>...</td>\n",
       "      <td>0</td>\n",
       "      <td>0</td>\n",
       "      <td>0</td>\n",
       "      <td>0</td>\n",
       "      <td>0</td>\n",
       "      <td>0</td>\n",
       "      <td>1</td>\n",
       "      <td>0</td>\n",
       "      <td>0</td>\n",
       "      <td>2018</td>\n",
       "    </tr>\n",
       "    <tr>\n",
       "      <th>1460</th>\n",
       "      <td>126967</td>\n",
       "      <td>2011.0</td>\n",
       "      <td>1.147759</td>\n",
       "      <td>16.4</td>\n",
       "      <td>1035.4</td>\n",
       "      <td>0.0</td>\n",
       "      <td>44</td>\n",
       "      <td>0</td>\n",
       "      <td>0</td>\n",
       "      <td>0</td>\n",
       "      <td>...</td>\n",
       "      <td>0</td>\n",
       "      <td>1</td>\n",
       "      <td>0</td>\n",
       "      <td>0</td>\n",
       "      <td>0</td>\n",
       "      <td>0</td>\n",
       "      <td>0</td>\n",
       "      <td>0</td>\n",
       "      <td>0</td>\n",
       "      <td>2019</td>\n",
       "    </tr>\n",
       "    <tr>\n",
       "      <th>3375</th>\n",
       "      <td>405768</td>\n",
       "      <td>1206.0</td>\n",
       "      <td>1.083150</td>\n",
       "      <td>24.9</td>\n",
       "      <td>1018.6</td>\n",
       "      <td>0.0</td>\n",
       "      <td>36</td>\n",
       "      <td>0</td>\n",
       "      <td>0</td>\n",
       "      <td>0</td>\n",
       "      <td>...</td>\n",
       "      <td>0</td>\n",
       "      <td>0</td>\n",
       "      <td>1</td>\n",
       "      <td>0</td>\n",
       "      <td>0</td>\n",
       "      <td>0</td>\n",
       "      <td>0</td>\n",
       "      <td>0</td>\n",
       "      <td>0</td>\n",
       "      <td>2020</td>\n",
       "    </tr>\n",
       "    <tr>\n",
       "      <th>7293</th>\n",
       "      <td>20624</td>\n",
       "      <td>1609.0</td>\n",
       "      <td>1.633339</td>\n",
       "      <td>16.7</td>\n",
       "      <td>1031.3</td>\n",
       "      <td>0.0</td>\n",
       "      <td>64</td>\n",
       "      <td>0</td>\n",
       "      <td>0</td>\n",
       "      <td>0</td>\n",
       "      <td>...</td>\n",
       "      <td>0</td>\n",
       "      <td>0</td>\n",
       "      <td>0</td>\n",
       "      <td>0</td>\n",
       "      <td>1</td>\n",
       "      <td>0</td>\n",
       "      <td>0</td>\n",
       "      <td>0</td>\n",
       "      <td>0</td>\n",
       "      <td>2007</td>\n",
       "    </tr>\n",
       "    <tr>\n",
       "      <th>11178</th>\n",
       "      <td>340707</td>\n",
       "      <td>2413.0</td>\n",
       "      <td>1.334584</td>\n",
       "      <td>16.1</td>\n",
       "      <td>1012.7</td>\n",
       "      <td>0.0</td>\n",
       "      <td>87</td>\n",
       "      <td>0</td>\n",
       "      <td>0</td>\n",
       "      <td>0</td>\n",
       "      <td>...</td>\n",
       "      <td>0</td>\n",
       "      <td>0</td>\n",
       "      <td>1</td>\n",
       "      <td>0</td>\n",
       "      <td>0</td>\n",
       "      <td>0</td>\n",
       "      <td>0</td>\n",
       "      <td>0</td>\n",
       "      <td>0</td>\n",
       "      <td>2004</td>\n",
       "    </tr>\n",
       "  </tbody>\n",
       "</table>\n",
       "<p>5 rows × 70 columns</p>\n",
       "</div>"
      ],
      "text/plain": [
       "          rid  metric    margin  temp     msl  rain  rhum  course__Ballinrobe  \\\n",
       "1065   119056  4524.5  1.299824   7.6  1004.7   0.0    60                   0   \n",
       "1460   126967  2011.0  1.147759  16.4  1035.4   0.0    44                   0   \n",
       "3375   405768  1206.0  1.083150  24.9  1018.6   0.0    36                   0   \n",
       "7293    20624  1609.0  1.633339  16.7  1031.3   0.0    64                   0   \n",
       "11178  340707  2413.0  1.334584  16.1  1012.7   0.0    87                   0   \n",
       "\n",
       "       course__Bellewstown  course__Clonmel  ...  month__4  month__5  \\\n",
       "1065                     0                0  ...         0         0   \n",
       "1460                     0                0  ...         0         1   \n",
       "3375                     0                0  ...         0         0   \n",
       "7293                     0                0  ...         0         0   \n",
       "11178                    0                0  ...         0         0   \n",
       "\n",
       "       month__6  month__7  month__8  month__9  month__10  month__11  \\\n",
       "1065          0         0         0         0          1          0   \n",
       "1460          0         0         0         0          0          0   \n",
       "3375          1         0         0         0          0          0   \n",
       "7293          0         0         1         0          0          0   \n",
       "11178         1         0         0         0          0          0   \n",
       "\n",
       "       month__12  year  \n",
       "1065           0  2018  \n",
       "1460           0  2019  \n",
       "3375           0  2020  \n",
       "7293           0  2007  \n",
       "11178          0  2004  \n",
       "\n",
       "[5 rows x 70 columns]"
      ]
     },
     "execution_count": 36,
     "metadata": {},
     "output_type": "execute_result"
    }
   ],
   "source": [
    "df = races_featurized[races_featurized['rid'].isin([340707, 119056, 20624, 126967, 405768])]\n",
    "df"
   ]
  },
  {
   "cell_type": "code",
   "execution_count": 37,
   "id": "c07fb476",
   "metadata": {},
   "outputs": [
    {
     "data": {
      "text/html": [
       "<div>\n",
       "<style scoped>\n",
       "    .dataframe tbody tr th:only-of-type {\n",
       "        vertical-align: middle;\n",
       "    }\n",
       "\n",
       "    .dataframe tbody tr th {\n",
       "        vertical-align: top;\n",
       "    }\n",
       "\n",
       "    .dataframe thead th {\n",
       "        text-align: right;\n",
       "    }\n",
       "</style>\n",
       "<table border=\"1\" class=\"dataframe\">\n",
       "  <thead>\n",
       "    <tr style=\"text-align: right;\">\n",
       "      <th></th>\n",
       "      <th>rid</th>\n",
       "      <th>horseName</th>\n",
       "      <th>RPR</th>\n",
       "      <th>TR</th>\n",
       "      <th>OR</th>\n",
       "    </tr>\n",
       "  </thead>\n",
       "  <tbody>\n",
       "    <tr>\n",
       "      <th>115413</th>\n",
       "      <td>340707</td>\n",
       "      <td>Urban</td>\n",
       "      <td>79.0</td>\n",
       "      <td>NaN</td>\n",
       "      <td>72.0</td>\n",
       "    </tr>\n",
       "    <tr>\n",
       "      <th>115414</th>\n",
       "      <td>340707</td>\n",
       "      <td>Taxing Times</td>\n",
       "      <td>62.0</td>\n",
       "      <td>NaN</td>\n",
       "      <td>60.0</td>\n",
       "    </tr>\n",
       "    <tr>\n",
       "      <th>115415</th>\n",
       "      <td>340707</td>\n",
       "      <td>Orange Blossom</td>\n",
       "      <td>64.0</td>\n",
       "      <td>NaN</td>\n",
       "      <td>63.0</td>\n",
       "    </tr>\n",
       "    <tr>\n",
       "      <th>115416</th>\n",
       "      <td>340707</td>\n",
       "      <td>Grable</td>\n",
       "      <td>67.0</td>\n",
       "      <td>NaN</td>\n",
       "      <td>68.0</td>\n",
       "    </tr>\n",
       "    <tr>\n",
       "      <th>115417</th>\n",
       "      <td>340707</td>\n",
       "      <td>Cliste</td>\n",
       "      <td>66.0</td>\n",
       "      <td>NaN</td>\n",
       "      <td>68.0</td>\n",
       "    </tr>\n",
       "    <tr>\n",
       "      <th>115418</th>\n",
       "      <td>340707</td>\n",
       "      <td>Spanish Cove</td>\n",
       "      <td>58.0</td>\n",
       "      <td>NaN</td>\n",
       "      <td>60.0</td>\n",
       "    </tr>\n",
       "    <tr>\n",
       "      <th>115419</th>\n",
       "      <td>340707</td>\n",
       "      <td>Norborne Bandit</td>\n",
       "      <td>69.0</td>\n",
       "      <td>NaN</td>\n",
       "      <td>74.0</td>\n",
       "    </tr>\n",
       "    <tr>\n",
       "      <th>115420</th>\n",
       "      <td>340707</td>\n",
       "      <td>Wood Road</td>\n",
       "      <td>52.0</td>\n",
       "      <td>NaN</td>\n",
       "      <td>58.0</td>\n",
       "    </tr>\n",
       "    <tr>\n",
       "      <th>115421</th>\n",
       "      <td>340707</td>\n",
       "      <td>Foolish Guest</td>\n",
       "      <td>54.0</td>\n",
       "      <td>NaN</td>\n",
       "      <td>61.0</td>\n",
       "    </tr>\n",
       "    <tr>\n",
       "      <th>115422</th>\n",
       "      <td>340707</td>\n",
       "      <td>Icarus Dream</td>\n",
       "      <td>55.0</td>\n",
       "      <td>NaN</td>\n",
       "      <td>72.0</td>\n",
       "    </tr>\n",
       "    <tr>\n",
       "      <th>115423</th>\n",
       "      <td>340707</td>\n",
       "      <td>Alikat</td>\n",
       "      <td>42.0</td>\n",
       "      <td>NaN</td>\n",
       "      <td>63.0</td>\n",
       "    </tr>\n",
       "    <tr>\n",
       "      <th>115424</th>\n",
       "      <td>340707</td>\n",
       "      <td>Glenree</td>\n",
       "      <td>40.0</td>\n",
       "      <td>NaN</td>\n",
       "      <td>65.0</td>\n",
       "    </tr>\n",
       "  </tbody>\n",
       "</table>\n",
       "</div>"
      ],
      "text/plain": [
       "           rid        horseName   RPR  TR    OR\n",
       "115413  340707            Urban  79.0 NaN  72.0\n",
       "115414  340707     Taxing Times  62.0 NaN  60.0\n",
       "115415  340707   Orange Blossom  64.0 NaN  63.0\n",
       "115416  340707           Grable  67.0 NaN  68.0\n",
       "115417  340707           Cliste  66.0 NaN  68.0\n",
       "115418  340707     Spanish Cove  58.0 NaN  60.0\n",
       "115419  340707  Norborne Bandit  69.0 NaN  74.0\n",
       "115420  340707        Wood Road  52.0 NaN  58.0\n",
       "115421  340707    Foolish Guest  54.0 NaN  61.0\n",
       "115422  340707     Icarus Dream  55.0 NaN  72.0\n",
       "115423  340707           Alikat  42.0 NaN  63.0\n",
       "115424  340707          Glenree  40.0 NaN  65.0"
      ]
     },
     "execution_count": 37,
     "metadata": {},
     "output_type": "execute_result"
    }
   ],
   "source": [
    "horses_all_working[horses_all_working['rid'] == 340707]"
   ]
  },
  {
   "cell_type": "code",
   "execution_count": 38,
   "id": "7e1bca4b",
   "metadata": {},
   "outputs": [
    {
     "data": {
      "text/plain": [
       "[5, 7, 6, 7, 5]"
      ]
     },
     "execution_count": 38,
     "metadata": {},
     "output_type": "execute_result"
    }
   ],
   "source": [
    "[races_to_codes[rid] for rid in df['rid']]"
   ]
  },
  {
   "cell_type": "code",
   "execution_count": 39,
   "id": "f4de638b",
   "metadata": {},
   "outputs": [
    {
     "data": {
      "text/plain": [
       "[{'RPR': 77.81818181818181, 'TR': nan, 'OR': 89.46153846153847},\n",
       " {'RPR': 101.85714285714286,\n",
       "  'TR': 69.57142857142857,\n",
       "  'OR': 100.83333333333333},\n",
       " {'RPR': 76.4, 'TR': 74.6, 'OR': nan},\n",
       " {'RPR': 62.38461538461539, 'TR': 56.38461538461539, 'OR': 67.35714285714286},\n",
       " {'RPR': 59.0, 'TR': nan, 'OR': 65.33333333333333}]"
      ]
     },
     "execution_count": 39,
     "metadata": {},
     "output_type": "execute_result"
    }
   ],
   "source": [
    "[average_by_race[rid] for rid in df['rid']]"
   ]
  },
  {
   "cell_type": "markdown",
   "id": "4d7dba92",
   "metadata": {},
   "source": [
    "---"
   ]
  },
  {
   "cell_type": "markdown",
   "id": "95e25b28",
   "metadata": {},
   "source": [
    "## Fill in Values Using Averages by Race"
   ]
  },
  {
   "cell_type": "code",
   "execution_count": 40,
   "id": "182cf10e",
   "metadata": {},
   "outputs": [
    {
     "name": "stderr",
     "output_type": "stream",
     "text": [
      "194573it [00:11, 16538.36it/s]\n"
     ]
    }
   ],
   "source": [
    "for idx, row in tqdm(horses_all_working.iterrows()):\n",
    "    if pd.isna(row['RPR']):\n",
    "        horses_all_working.at[idx, 'RPR'] = average_by_race[row['rid']]['RPR']\n",
    "    if pd.isna(row['TR']):\n",
    "        horses_all_working.at[idx, 'TR'] = average_by_race[row['rid']]['TR']\n",
    "    if pd.isna(row['OR']):\n",
    "        horses_all_working.at[idx, 'OR'] = average_by_race[row['rid']]['OR']"
   ]
  },
  {
   "cell_type": "code",
   "execution_count": 52,
   "id": "46029810",
   "metadata": {},
   "outputs": [
    {
     "data": {
      "text/html": [
       "<div>\n",
       "<style scoped>\n",
       "    .dataframe tbody tr th:only-of-type {\n",
       "        vertical-align: middle;\n",
       "    }\n",
       "\n",
       "    .dataframe tbody tr th {\n",
       "        vertical-align: top;\n",
       "    }\n",
       "\n",
       "    .dataframe thead th {\n",
       "        text-align: right;\n",
       "    }\n",
       "</style>\n",
       "<table border=\"1\" class=\"dataframe\">\n",
       "  <thead>\n",
       "    <tr style=\"text-align: right;\">\n",
       "      <th></th>\n",
       "      <th>rid</th>\n",
       "      <th>horseName</th>\n",
       "      <th>RPR</th>\n",
       "      <th>TR</th>\n",
       "      <th>OR</th>\n",
       "    </tr>\n",
       "  </thead>\n",
       "  <tbody>\n",
       "    <tr>\n",
       "      <th>0</th>\n",
       "      <td>302858</td>\n",
       "      <td>Kings Return</td>\n",
       "      <td>102.0</td>\n",
       "      <td>NaN</td>\n",
       "      <td>NaN</td>\n",
       "    </tr>\n",
       "    <tr>\n",
       "      <th>1</th>\n",
       "      <td>302858</td>\n",
       "      <td>Majestic Red I</td>\n",
       "      <td>94.0</td>\n",
       "      <td>NaN</td>\n",
       "      <td>NaN</td>\n",
       "    </tr>\n",
       "    <tr>\n",
       "      <th>2</th>\n",
       "      <td>302858</td>\n",
       "      <td>Clearly Canadian</td>\n",
       "      <td>92.0</td>\n",
       "      <td>NaN</td>\n",
       "      <td>NaN</td>\n",
       "    </tr>\n",
       "    <tr>\n",
       "      <th>3</th>\n",
       "      <td>302858</td>\n",
       "      <td>Bernestic Wonder</td>\n",
       "      <td>96.0</td>\n",
       "      <td>NaN</td>\n",
       "      <td>NaN</td>\n",
       "    </tr>\n",
       "    <tr>\n",
       "      <th>4</th>\n",
       "      <td>302858</td>\n",
       "      <td>Beauty's Pride</td>\n",
       "      <td>96.0</td>\n",
       "      <td>NaN</td>\n",
       "      <td>NaN</td>\n",
       "    </tr>\n",
       "    <tr>\n",
       "      <th>5</th>\n",
       "      <td>302858</td>\n",
       "      <td>Graignamanagh</td>\n",
       "      <td>96.0</td>\n",
       "      <td>NaN</td>\n",
       "      <td>NaN</td>\n",
       "    </tr>\n",
       "  </tbody>\n",
       "</table>\n",
       "</div>"
      ],
      "text/plain": [
       "      rid         horseName    RPR  TR  OR\n",
       "0  302858      Kings Return  102.0 NaN NaN\n",
       "1  302858    Majestic Red I   94.0 NaN NaN\n",
       "2  302858  Clearly Canadian   92.0 NaN NaN\n",
       "3  302858  Bernestic Wonder   96.0 NaN NaN\n",
       "4  302858    Beauty's Pride   96.0 NaN NaN\n",
       "5  302858     Graignamanagh   96.0 NaN NaN"
      ]
     },
     "execution_count": 52,
     "metadata": {},
     "output_type": "execute_result"
    }
   ],
   "source": [
    "horses_all_working[horses_all_working['rid'] == 302858]"
   ]
  },
  {
   "cell_type": "markdown",
   "id": "0bb2e516",
   "metadata": {},
   "source": [
    "---"
   ]
  },
  {
   "cell_type": "markdown",
   "id": "6e3cb709",
   "metadata": {},
   "source": [
    "## Fill In Remaining Values with Global Average"
   ]
  },
  {
   "cell_type": "markdown",
   "id": "bee6d525",
   "metadata": {},
   "source": [
    "Now, we can fill in the remaining values with global averages."
   ]
  },
  {
   "cell_type": "markdown",
   "id": "eb5ce737",
   "metadata": {},
   "source": [
    "First, RPR."
   ]
  },
  {
   "cell_type": "code",
   "execution_count": 53,
   "id": "96cb9d2c",
   "metadata": {},
   "outputs": [
    {
     "data": {
      "text/plain": [
       "1551"
      ]
     },
     "execution_count": 53,
     "metadata": {},
     "output_type": "execute_result"
    }
   ],
   "source": [
    "entries_nan_rpr = horses_all_working[\n",
    "    horses_all_working['RPR'].isnull()\n",
    "]\n",
    "len(entries_nan_rpr)"
   ]
  },
  {
   "cell_type": "code",
   "execution_count": 54,
   "id": "5f14a52a",
   "metadata": {},
   "outputs": [
    {
     "data": {
      "text/plain": [
       "65.79802665087581"
      ]
     },
     "execution_count": 54,
     "metadata": {},
     "output_type": "execute_result"
    }
   ],
   "source": [
    "mean_rpr = np.mean(horses_all_working[~horses_all_working['RPR'].isnull()]['RPR'])\n",
    "mean_rpr"
   ]
  },
  {
   "cell_type": "code",
   "execution_count": 55,
   "id": "b69615a8",
   "metadata": {},
   "outputs": [],
   "source": [
    "horses_all_working['RPR'].fillna(mean_rpr, inplace=True)"
   ]
  },
  {
   "cell_type": "code",
   "execution_count": 56,
   "id": "fd8f4af9",
   "metadata": {},
   "outputs": [],
   "source": [
    "entries_nan_rpr = horses_all_working[\n",
    "    horses_all_working['RPR'].isnull()\n",
    "]\n",
    "assert len(entries_nan_rpr) == 0"
   ]
  },
  {
   "cell_type": "markdown",
   "id": "fa82e8af",
   "metadata": {},
   "source": [
    "Now, TR."
   ]
  },
  {
   "cell_type": "code",
   "execution_count": 57,
   "id": "4a314e0c",
   "metadata": {},
   "outputs": [
    {
     "data": {
      "text/plain": [
       "50208"
      ]
     },
     "execution_count": 57,
     "metadata": {},
     "output_type": "execute_result"
    }
   ],
   "source": [
    "entries_nan_tr = horses_all_working[\n",
    "    horses_all_working['TR'].isnull()\n",
    "]\n",
    "len(entries_nan_tr)"
   ]
  },
  {
   "cell_type": "code",
   "execution_count": 58,
   "id": "eaa9173e",
   "metadata": {},
   "outputs": [
    {
     "data": {
      "text/plain": [
       "42.0515166334068"
      ]
     },
     "execution_count": 58,
     "metadata": {},
     "output_type": "execute_result"
    }
   ],
   "source": [
    "mean_tr = np.mean(horses_all_working[~horses_all_working['TR'].isnull()]['TR'])\n",
    "mean_tr"
   ]
  },
  {
   "cell_type": "code",
   "execution_count": 59,
   "id": "5f341379",
   "metadata": {},
   "outputs": [],
   "source": [
    "horses_all_working['TR'].fillna(mean_tr, inplace=True)"
   ]
  },
  {
   "cell_type": "code",
   "execution_count": 60,
   "id": "85a7440e",
   "metadata": {},
   "outputs": [],
   "source": [
    "entries_nan_tr = horses_all_working[\n",
    "    horses_all_working['TR'].isnull()\n",
    "]\n",
    "assert len(entries_nan_tr) == 0"
   ]
  },
  {
   "cell_type": "markdown",
   "id": "22870942",
   "metadata": {},
   "source": [
    "Finally, OR."
   ]
  },
  {
   "cell_type": "code",
   "execution_count": 61,
   "id": "57cad7c9",
   "metadata": {},
   "outputs": [
    {
     "data": {
      "text/plain": [
       "46486"
      ]
     },
     "execution_count": 61,
     "metadata": {},
     "output_type": "execute_result"
    }
   ],
   "source": [
    "entries_nan_or = horses_all_working[\n",
    "    horses_all_working['OR'].isnull()\n",
    "]\n",
    "len(entries_nan_or)"
   ]
  },
  {
   "cell_type": "code",
   "execution_count": 62,
   "id": "094f1c53",
   "metadata": {},
   "outputs": [
    {
     "data": {
      "text/plain": [
       "73.64167568200114"
      ]
     },
     "execution_count": 62,
     "metadata": {},
     "output_type": "execute_result"
    }
   ],
   "source": [
    "mean_or = np.mean(horses_all_working[~horses_all_working['OR'].isnull()]['OR'])\n",
    "mean_or"
   ]
  },
  {
   "cell_type": "code",
   "execution_count": 63,
   "id": "7996ad48",
   "metadata": {},
   "outputs": [],
   "source": [
    "horses_all_working['OR'].fillna(mean_or, inplace=True)"
   ]
  },
  {
   "cell_type": "code",
   "execution_count": 64,
   "id": "c17ef502",
   "metadata": {},
   "outputs": [],
   "source": [
    "entries_nan_or = horses_all_working[\n",
    "    horses_all_working['OR'].isnull()\n",
    "]\n",
    "assert len(entries_nan_or) == 0"
   ]
  },
  {
   "cell_type": "markdown",
   "id": "e7df05a1",
   "metadata": {},
   "source": [
    "---"
   ]
  },
  {
   "cell_type": "markdown",
   "id": "2fce5800",
   "metadata": {},
   "source": [
    "## Sanity Check"
   ]
  },
  {
   "cell_type": "code",
   "execution_count": 66,
   "id": "0fca207f",
   "metadata": {},
   "outputs": [],
   "source": [
    "assert len(horses_all_working[\n",
    "    horses_all_working['RPR'].isnull() |\n",
    "    horses_all_working['TR'].isnull() |\n",
    "    horses_all_working['OR'].isnull()\n",
    "]) == 0"
   ]
  },
  {
   "cell_type": "code",
   "execution_count": 68,
   "id": "021e7862",
   "metadata": {},
   "outputs": [
    {
     "data": {
      "text/html": [
       "<div>\n",
       "<style scoped>\n",
       "    .dataframe tbody tr th:only-of-type {\n",
       "        vertical-align: middle;\n",
       "    }\n",
       "\n",
       "    .dataframe tbody tr th {\n",
       "        vertical-align: top;\n",
       "    }\n",
       "\n",
       "    .dataframe thead th {\n",
       "        text-align: right;\n",
       "    }\n",
       "</style>\n",
       "<table border=\"1\" class=\"dataframe\">\n",
       "  <thead>\n",
       "    <tr style=\"text-align: right;\">\n",
       "      <th></th>\n",
       "      <th>rid</th>\n",
       "      <th>horseName</th>\n",
       "      <th>RPR</th>\n",
       "      <th>TR</th>\n",
       "      <th>OR</th>\n",
       "    </tr>\n",
       "  </thead>\n",
       "  <tbody>\n",
       "    <tr>\n",
       "      <th>0</th>\n",
       "      <td>302858</td>\n",
       "      <td>Kings Return</td>\n",
       "      <td>102.0</td>\n",
       "      <td>42.051517</td>\n",
       "      <td>73.641676</td>\n",
       "    </tr>\n",
       "    <tr>\n",
       "      <th>1</th>\n",
       "      <td>302858</td>\n",
       "      <td>Majestic Red I</td>\n",
       "      <td>94.0</td>\n",
       "      <td>42.051517</td>\n",
       "      <td>73.641676</td>\n",
       "    </tr>\n",
       "    <tr>\n",
       "      <th>2</th>\n",
       "      <td>302858</td>\n",
       "      <td>Clearly Canadian</td>\n",
       "      <td>92.0</td>\n",
       "      <td>42.051517</td>\n",
       "      <td>73.641676</td>\n",
       "    </tr>\n",
       "    <tr>\n",
       "      <th>3</th>\n",
       "      <td>302858</td>\n",
       "      <td>Bernestic Wonder</td>\n",
       "      <td>96.0</td>\n",
       "      <td>42.051517</td>\n",
       "      <td>73.641676</td>\n",
       "    </tr>\n",
       "    <tr>\n",
       "      <th>4</th>\n",
       "      <td>302858</td>\n",
       "      <td>Beauty's Pride</td>\n",
       "      <td>96.0</td>\n",
       "      <td>42.051517</td>\n",
       "      <td>73.641676</td>\n",
       "    </tr>\n",
       "  </tbody>\n",
       "</table>\n",
       "</div>"
      ],
      "text/plain": [
       "      rid         horseName    RPR         TR         OR\n",
       "0  302858      Kings Return  102.0  42.051517  73.641676\n",
       "1  302858    Majestic Red I   94.0  42.051517  73.641676\n",
       "2  302858  Clearly Canadian   92.0  42.051517  73.641676\n",
       "3  302858  Bernestic Wonder   96.0  42.051517  73.641676\n",
       "4  302858    Beauty's Pride   96.0  42.051517  73.641676"
      ]
     },
     "execution_count": 68,
     "metadata": {},
     "output_type": "execute_result"
    }
   ],
   "source": [
    "horses_all_working.head()"
   ]
  },
  {
   "cell_type": "markdown",
   "id": "bcfd1226",
   "metadata": {},
   "source": [
    "---"
   ]
  },
  {
   "cell_type": "markdown",
   "id": "d24d392f",
   "metadata": {},
   "source": [
    "## Save Dataframes"
   ]
  },
  {
   "cell_type": "code",
   "execution_count": 67,
   "id": "ac4f1d90",
   "metadata": {},
   "outputs": [],
   "source": [
    "horses_all_working.to_csv(f\"{BASE_DIR}/data/csv/horses_true_rpr_tr_or.csv\", index=False)"
   ]
  },
  {
   "cell_type": "markdown",
   "id": "33dc3f79",
   "metadata": {},
   "source": [
    "---"
   ]
  }
 ],
 "metadata": {
  "kernelspec": {
   "display_name": "Python 3 (ipykernel)",
   "language": "python",
   "name": "python3"
  },
  "language_info": {
   "codemirror_mode": {
    "name": "ipython",
    "version": 3
   },
   "file_extension": ".py",
   "mimetype": "text/x-python",
   "name": "python",
   "nbconvert_exporter": "python",
   "pygments_lexer": "ipython3",
   "version": "3.9.6"
  }
 },
 "nbformat": 4,
 "nbformat_minor": 5
}
