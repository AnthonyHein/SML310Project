{
 "cells": [
  {
   "cell_type": "markdown",
   "id": "dc5f8793",
   "metadata": {},
   "source": [
    "# `featurize_horses_v2.ipynb`"
   ]
  },
  {
   "cell_type": "markdown",
   "id": "6d76b29a",
   "metadata": {},
   "source": [
    "### Author: Anthony Hein"
   ]
  },
  {
   "cell_type": "markdown",
   "id": "8a72b287",
   "metadata": {},
   "source": [
    "#### Last updated: 10/19/2021"
   ]
  },
  {
   "cell_type": "markdown",
   "id": "a0ebf4a0",
   "metadata": {},
   "source": [
    "# Overview:\n",
    "\n",
    "Continue featurization, cannot do in one notebook because requires too much memory."
   ]
  },
  {
   "cell_type": "markdown",
   "id": "6f46b926",
   "metadata": {},
   "source": [
    "---"
   ]
  },
  {
   "cell_type": "markdown",
   "id": "066b637c",
   "metadata": {},
   "source": [
    "## Setup"
   ]
  },
  {
   "cell_type": "code",
   "execution_count": 1,
   "id": "3de4d07c",
   "metadata": {},
   "outputs": [],
   "source": [
    "from datetime import datetime\n",
    "import git\n",
    "import os\n",
    "import re\n",
    "from typing import List\n",
    "from tqdm import tqdm\n",
    "import pandas as pd\n",
    "import numpy as np\n",
    "import matplotlib.pyplot as plt\n",
    "%matplotlib inline"
   ]
  },
  {
   "cell_type": "code",
   "execution_count": 2,
   "id": "05a06de6",
   "metadata": {},
   "outputs": [
    {
     "data": {
      "text/plain": [
       "'/Users/anthonyhein/Desktop/SML310/project'"
      ]
     },
     "execution_count": 2,
     "metadata": {},
     "output_type": "execute_result"
    }
   ],
   "source": [
    "BASE_DIR = git.Repo(os.getcwd(), search_parent_directories=True).working_dir\n",
    "BASE_DIR"
   ]
  },
  {
   "cell_type": "markdown",
   "id": "19d6a59d",
   "metadata": {},
   "source": [
    "---"
   ]
  },
  {
   "cell_type": "markdown",
   "id": "062db87f",
   "metadata": {},
   "source": [
    "## Load `horses_featurized.csv`"
   ]
  },
  {
   "cell_type": "code",
   "execution_count": 6,
   "id": "7bb383e5",
   "metadata": {},
   "outputs": [
    {
     "data": {
      "text/html": [
       "<div>\n",
       "<style scoped>\n",
       "    .dataframe tbody tr th:only-of-type {\n",
       "        vertical-align: middle;\n",
       "    }\n",
       "\n",
       "    .dataframe tbody tr th {\n",
       "        vertical-align: top;\n",
       "    }\n",
       "\n",
       "    .dataframe thead th {\n",
       "        text-align: right;\n",
       "    }\n",
       "</style>\n",
       "<table border=\"1\" class=\"dataframe\">\n",
       "  <thead>\n",
       "    <tr style=\"text-align: right;\">\n",
       "      <th></th>\n",
       "      <th>rid</th>\n",
       "      <th>horseName</th>\n",
       "      <th>age</th>\n",
       "      <th>saddle</th>\n",
       "      <th>decimalPrice</th>\n",
       "      <th>trainerName</th>\n",
       "      <th>jockeyName</th>\n",
       "      <th>position</th>\n",
       "      <th>outHandicap</th>\n",
       "      <th>RPR</th>\n",
       "      <th>...</th>\n",
       "      <th>father</th>\n",
       "      <th>mother</th>\n",
       "      <th>weight</th>\n",
       "      <th>time</th>\n",
       "      <th>avg_speed</th>\n",
       "      <th>prev_speed</th>\n",
       "      <th>father_avg_speed</th>\n",
       "      <th>mother_avg_speed</th>\n",
       "      <th>trainer_avg_speed</th>\n",
       "      <th>trainer_avg_position</th>\n",
       "    </tr>\n",
       "  </thead>\n",
       "  <tbody>\n",
       "    <tr>\n",
       "      <th>0</th>\n",
       "      <td>302858</td>\n",
       "      <td>Kings Return</td>\n",
       "      <td>6.0</td>\n",
       "      <td>4.0</td>\n",
       "      <td>0.600000</td>\n",
       "      <td>W P Mullins</td>\n",
       "      <td>D J Casey</td>\n",
       "      <td>1</td>\n",
       "      <td>0.0</td>\n",
       "      <td>102.00000</td>\n",
       "      <td>...</td>\n",
       "      <td>King's Ride</td>\n",
       "      <td>Browne's Return</td>\n",
       "      <td>73</td>\n",
       "      <td>277.200000</td>\n",
       "      <td>NaN</td>\n",
       "      <td>NaN</td>\n",
       "      <td>NaN</td>\n",
       "      <td>NaN</td>\n",
       "      <td>NaN</td>\n",
       "      <td>NaN</td>\n",
       "    </tr>\n",
       "    <tr>\n",
       "      <th>1</th>\n",
       "      <td>302858</td>\n",
       "      <td>Majestic Red I</td>\n",
       "      <td>6.0</td>\n",
       "      <td>5.0</td>\n",
       "      <td>0.047619</td>\n",
       "      <td>John Hackett</td>\n",
       "      <td>Conor O'Dwyer</td>\n",
       "      <td>2</td>\n",
       "      <td>0.0</td>\n",
       "      <td>94.00000</td>\n",
       "      <td>...</td>\n",
       "      <td>Long Pond</td>\n",
       "      <td>Courtlough Lady</td>\n",
       "      <td>73</td>\n",
       "      <td>278.679948</td>\n",
       "      <td>NaN</td>\n",
       "      <td>NaN</td>\n",
       "      <td>NaN</td>\n",
       "      <td>NaN</td>\n",
       "      <td>NaN</td>\n",
       "      <td>NaN</td>\n",
       "    </tr>\n",
       "    <tr>\n",
       "      <th>2</th>\n",
       "      <td>302858</td>\n",
       "      <td>Clearly Canadian</td>\n",
       "      <td>6.0</td>\n",
       "      <td>2.0</td>\n",
       "      <td>0.166667</td>\n",
       "      <td>D T Hughes</td>\n",
       "      <td>G Cotter</td>\n",
       "      <td>3</td>\n",
       "      <td>0.0</td>\n",
       "      <td>92.00000</td>\n",
       "      <td>...</td>\n",
       "      <td>Nordico</td>\n",
       "      <td>Over The Seas</td>\n",
       "      <td>71</td>\n",
       "      <td>278.957438</td>\n",
       "      <td>NaN</td>\n",
       "      <td>NaN</td>\n",
       "      <td>NaN</td>\n",
       "      <td>NaN</td>\n",
       "      <td>NaN</td>\n",
       "      <td>NaN</td>\n",
       "    </tr>\n",
       "    <tr>\n",
       "      <th>3</th>\n",
       "      <td>302858</td>\n",
       "      <td>Bernestic Wonder</td>\n",
       "      <td>8.0</td>\n",
       "      <td>1.0</td>\n",
       "      <td>0.058824</td>\n",
       "      <td>E McNamara</td>\n",
       "      <td>J Old Jones</td>\n",
       "      <td>4</td>\n",
       "      <td>0.0</td>\n",
       "      <td>71.87665</td>\n",
       "      <td>...</td>\n",
       "      <td>Roselier</td>\n",
       "      <td>Miss Reindeer</td>\n",
       "      <td>73</td>\n",
       "      <td>284.507242</td>\n",
       "      <td>NaN</td>\n",
       "      <td>NaN</td>\n",
       "      <td>NaN</td>\n",
       "      <td>NaN</td>\n",
       "      <td>NaN</td>\n",
       "      <td>NaN</td>\n",
       "    </tr>\n",
       "    <tr>\n",
       "      <th>4</th>\n",
       "      <td>302858</td>\n",
       "      <td>Beauty's Pride</td>\n",
       "      <td>5.0</td>\n",
       "      <td>6.0</td>\n",
       "      <td>0.038462</td>\n",
       "      <td>J J Lennon</td>\n",
       "      <td>T Martin</td>\n",
       "      <td>5</td>\n",
       "      <td>0.0</td>\n",
       "      <td>71.87665</td>\n",
       "      <td>...</td>\n",
       "      <td>Noalto</td>\n",
       "      <td>Elena's Beauty</td>\n",
       "      <td>66</td>\n",
       "      <td>290.057045</td>\n",
       "      <td>NaN</td>\n",
       "      <td>NaN</td>\n",
       "      <td>NaN</td>\n",
       "      <td>NaN</td>\n",
       "      <td>NaN</td>\n",
       "      <td>NaN</td>\n",
       "    </tr>\n",
       "  </tbody>\n",
       "</table>\n",
       "<p>5 rows × 22 columns</p>\n",
       "</div>"
      ],
      "text/plain": [
       "      rid         horseName  age  saddle  decimalPrice   trainerName  \\\n",
       "0  302858      Kings Return  6.0     4.0      0.600000   W P Mullins   \n",
       "1  302858    Majestic Red I  6.0     5.0      0.047619  John Hackett   \n",
       "2  302858  Clearly Canadian  6.0     2.0      0.166667    D T Hughes   \n",
       "3  302858  Bernestic Wonder  8.0     1.0      0.058824    E McNamara   \n",
       "4  302858    Beauty's Pride  5.0     6.0      0.038462    J J Lennon   \n",
       "\n",
       "      jockeyName  position  outHandicap        RPR  ...       father  \\\n",
       "0      D J Casey         1          0.0  102.00000  ...  King's Ride   \n",
       "1  Conor O'Dwyer         2          0.0   94.00000  ...    Long Pond   \n",
       "2       G Cotter         3          0.0   92.00000  ...      Nordico   \n",
       "3    J Old Jones         4          0.0   71.87665  ...     Roselier   \n",
       "4       T Martin         5          0.0   71.87665  ...       Noalto   \n",
       "\n",
       "            mother weight        time  avg_speed  prev_speed  \\\n",
       "0  Browne's Return     73  277.200000        NaN         NaN   \n",
       "1  Courtlough Lady     73  278.679948        NaN         NaN   \n",
       "2    Over The Seas     71  278.957438        NaN         NaN   \n",
       "3    Miss Reindeer     73  284.507242        NaN         NaN   \n",
       "4   Elena's Beauty     66  290.057045        NaN         NaN   \n",
       "\n",
       "   father_avg_speed  mother_avg_speed  trainer_avg_speed  trainer_avg_position  \n",
       "0               NaN               NaN                NaN                   NaN  \n",
       "1               NaN               NaN                NaN                   NaN  \n",
       "2               NaN               NaN                NaN                   NaN  \n",
       "3               NaN               NaN                NaN                   NaN  \n",
       "4               NaN               NaN                NaN                   NaN  \n",
       "\n",
       "[5 rows x 22 columns]"
      ]
     },
     "execution_count": 6,
     "metadata": {},
     "output_type": "execute_result"
    }
   ],
   "source": [
    "horses_featurized = pd.read_csv(f\"{BASE_DIR}/data/csv/horses_featurized.csv\", low_memory=False) \n",
    "horses_featurized.head()"
   ]
  },
  {
   "cell_type": "code",
   "execution_count": 7,
   "id": "3ad6a80a",
   "metadata": {
    "scrolled": true
   },
   "outputs": [
    {
     "data": {
      "text/plain": [
       "(194573, 22)"
      ]
     },
     "execution_count": 7,
     "metadata": {},
     "output_type": "execute_result"
    }
   ],
   "source": [
    "horses_featurized.shape"
   ]
  },
  {
   "cell_type": "code",
   "execution_count": 80,
   "id": "6a72e4dd",
   "metadata": {},
   "outputs": [
    {
     "data": {
      "text/html": [
       "<div>\n",
       "<style scoped>\n",
       "    .dataframe tbody tr th:only-of-type {\n",
       "        vertical-align: middle;\n",
       "    }\n",
       "\n",
       "    .dataframe tbody tr th {\n",
       "        vertical-align: top;\n",
       "    }\n",
       "\n",
       "    .dataframe thead th {\n",
       "        text-align: right;\n",
       "    }\n",
       "</style>\n",
       "<table border=\"1\" class=\"dataframe\">\n",
       "  <thead>\n",
       "    <tr style=\"text-align: right;\">\n",
       "      <th></th>\n",
       "      <th>rid</th>\n",
       "      <th>horseName</th>\n",
       "      <th>age</th>\n",
       "      <th>saddle</th>\n",
       "      <th>decimalPrice</th>\n",
       "      <th>trainerName</th>\n",
       "      <th>jockeyName</th>\n",
       "      <th>position</th>\n",
       "      <th>outHandicap</th>\n",
       "      <th>RPR</th>\n",
       "      <th>...</th>\n",
       "      <th>father</th>\n",
       "      <th>mother</th>\n",
       "      <th>weight</th>\n",
       "      <th>time</th>\n",
       "      <th>avg_speed</th>\n",
       "      <th>prev_speed</th>\n",
       "      <th>father_avg_speed</th>\n",
       "      <th>mother_avg_speed</th>\n",
       "      <th>trainer_avg_speed</th>\n",
       "      <th>trainer_avg_position</th>\n",
       "    </tr>\n",
       "  </thead>\n",
       "  <tbody>\n",
       "    <tr>\n",
       "      <th>0</th>\n",
       "      <td>302858</td>\n",
       "      <td>Kings Return</td>\n",
       "      <td>6.0</td>\n",
       "      <td>4.0</td>\n",
       "      <td>0.600000</td>\n",
       "      <td>W P Mullins</td>\n",
       "      <td>D J Casey</td>\n",
       "      <td>1</td>\n",
       "      <td>0.0</td>\n",
       "      <td>102.00000</td>\n",
       "      <td>...</td>\n",
       "      <td>King's Ride</td>\n",
       "      <td>Browne's Return</td>\n",
       "      <td>73</td>\n",
       "      <td>277.200000</td>\n",
       "      <td>NaN</td>\n",
       "      <td>NaN</td>\n",
       "      <td>NaN</td>\n",
       "      <td>NaN</td>\n",
       "      <td>NaN</td>\n",
       "      <td>NaN</td>\n",
       "    </tr>\n",
       "    <tr>\n",
       "      <th>1</th>\n",
       "      <td>302858</td>\n",
       "      <td>Majestic Red I</td>\n",
       "      <td>6.0</td>\n",
       "      <td>5.0</td>\n",
       "      <td>0.047619</td>\n",
       "      <td>John Hackett</td>\n",
       "      <td>Conor O'Dwyer</td>\n",
       "      <td>2</td>\n",
       "      <td>0.0</td>\n",
       "      <td>94.00000</td>\n",
       "      <td>...</td>\n",
       "      <td>Long Pond</td>\n",
       "      <td>Courtlough Lady</td>\n",
       "      <td>73</td>\n",
       "      <td>278.679948</td>\n",
       "      <td>NaN</td>\n",
       "      <td>NaN</td>\n",
       "      <td>NaN</td>\n",
       "      <td>NaN</td>\n",
       "      <td>NaN</td>\n",
       "      <td>NaN</td>\n",
       "    </tr>\n",
       "    <tr>\n",
       "      <th>2</th>\n",
       "      <td>302858</td>\n",
       "      <td>Clearly Canadian</td>\n",
       "      <td>6.0</td>\n",
       "      <td>2.0</td>\n",
       "      <td>0.166667</td>\n",
       "      <td>D T Hughes</td>\n",
       "      <td>G Cotter</td>\n",
       "      <td>3</td>\n",
       "      <td>0.0</td>\n",
       "      <td>92.00000</td>\n",
       "      <td>...</td>\n",
       "      <td>Nordico</td>\n",
       "      <td>Over The Seas</td>\n",
       "      <td>71</td>\n",
       "      <td>278.957438</td>\n",
       "      <td>NaN</td>\n",
       "      <td>NaN</td>\n",
       "      <td>NaN</td>\n",
       "      <td>NaN</td>\n",
       "      <td>NaN</td>\n",
       "      <td>NaN</td>\n",
       "    </tr>\n",
       "    <tr>\n",
       "      <th>3</th>\n",
       "      <td>302858</td>\n",
       "      <td>Bernestic Wonder</td>\n",
       "      <td>8.0</td>\n",
       "      <td>1.0</td>\n",
       "      <td>0.058824</td>\n",
       "      <td>E McNamara</td>\n",
       "      <td>J Old Jones</td>\n",
       "      <td>4</td>\n",
       "      <td>0.0</td>\n",
       "      <td>71.87665</td>\n",
       "      <td>...</td>\n",
       "      <td>Roselier</td>\n",
       "      <td>Miss Reindeer</td>\n",
       "      <td>73</td>\n",
       "      <td>284.507242</td>\n",
       "      <td>NaN</td>\n",
       "      <td>NaN</td>\n",
       "      <td>NaN</td>\n",
       "      <td>NaN</td>\n",
       "      <td>NaN</td>\n",
       "      <td>NaN</td>\n",
       "    </tr>\n",
       "    <tr>\n",
       "      <th>4</th>\n",
       "      <td>302858</td>\n",
       "      <td>Beauty's Pride</td>\n",
       "      <td>5.0</td>\n",
       "      <td>6.0</td>\n",
       "      <td>0.038462</td>\n",
       "      <td>J J Lennon</td>\n",
       "      <td>T Martin</td>\n",
       "      <td>5</td>\n",
       "      <td>0.0</td>\n",
       "      <td>71.87665</td>\n",
       "      <td>...</td>\n",
       "      <td>Noalto</td>\n",
       "      <td>Elena's Beauty</td>\n",
       "      <td>66</td>\n",
       "      <td>290.057045</td>\n",
       "      <td>NaN</td>\n",
       "      <td>NaN</td>\n",
       "      <td>NaN</td>\n",
       "      <td>NaN</td>\n",
       "      <td>NaN</td>\n",
       "      <td>NaN</td>\n",
       "    </tr>\n",
       "  </tbody>\n",
       "</table>\n",
       "<p>5 rows × 22 columns</p>\n",
       "</div>"
      ],
      "text/plain": [
       "      rid         horseName  age  saddle  decimalPrice   trainerName  \\\n",
       "0  302858      Kings Return  6.0     4.0      0.600000   W P Mullins   \n",
       "1  302858    Majestic Red I  6.0     5.0      0.047619  John Hackett   \n",
       "2  302858  Clearly Canadian  6.0     2.0      0.166667    D T Hughes   \n",
       "3  302858  Bernestic Wonder  8.0     1.0      0.058824    E McNamara   \n",
       "4  302858    Beauty's Pride  5.0     6.0      0.038462    J J Lennon   \n",
       "\n",
       "      jockeyName  position  outHandicap        RPR  ...       father  \\\n",
       "0      D J Casey         1          0.0  102.00000  ...  King's Ride   \n",
       "1  Conor O'Dwyer         2          0.0   94.00000  ...    Long Pond   \n",
       "2       G Cotter         3          0.0   92.00000  ...      Nordico   \n",
       "3    J Old Jones         4          0.0   71.87665  ...     Roselier   \n",
       "4       T Martin         5          0.0   71.87665  ...       Noalto   \n",
       "\n",
       "            mother weight        time  avg_speed  prev_speed  \\\n",
       "0  Browne's Return     73  277.200000        NaN         NaN   \n",
       "1  Courtlough Lady     73  278.679948        NaN         NaN   \n",
       "2    Over The Seas     71  278.957438        NaN         NaN   \n",
       "3    Miss Reindeer     73  284.507242        NaN         NaN   \n",
       "4   Elena's Beauty     66  290.057045        NaN         NaN   \n",
       "\n",
       "   father_avg_speed  mother_avg_speed  trainer_avg_speed  trainer_avg_position  \n",
       "0               NaN               NaN                NaN                   NaN  \n",
       "1               NaN               NaN                NaN                   NaN  \n",
       "2               NaN               NaN                NaN                   NaN  \n",
       "3               NaN               NaN                NaN                   NaN  \n",
       "4               NaN               NaN                NaN                   NaN  \n",
       "\n",
       "[5 rows x 22 columns]"
      ]
     },
     "execution_count": 80,
     "metadata": {},
     "output_type": "execute_result"
    }
   ],
   "source": [
    "horses_featurized_v2 = horses_featurized.copy()\n",
    "horses_featurized_v2.head()"
   ]
  },
  {
   "cell_type": "markdown",
   "id": "883330bd",
   "metadata": {},
   "source": [
    "---"
   ]
  },
  {
   "cell_type": "markdown",
   "id": "92a942ef",
   "metadata": {},
   "source": [
    "## Load `races_clean_augment_clean.csv`"
   ]
  },
  {
   "cell_type": "code",
   "execution_count": 9,
   "id": "52a50136",
   "metadata": {},
   "outputs": [
    {
     "data": {
      "text/html": [
       "<div>\n",
       "<style scoped>\n",
       "    .dataframe tbody tr th:only-of-type {\n",
       "        vertical-align: middle;\n",
       "    }\n",
       "\n",
       "    .dataframe tbody tr th {\n",
       "        vertical-align: top;\n",
       "    }\n",
       "\n",
       "    .dataframe thead th {\n",
       "        text-align: right;\n",
       "    }\n",
       "</style>\n",
       "<table border=\"1\" class=\"dataframe\">\n",
       "  <thead>\n",
       "    <tr style=\"text-align: right;\">\n",
       "      <th></th>\n",
       "      <th>rid</th>\n",
       "      <th>course</th>\n",
       "      <th>winningTime</th>\n",
       "      <th>metric</th>\n",
       "      <th>ncond</th>\n",
       "      <th>margin</th>\n",
       "      <th>runners</th>\n",
       "      <th>temp</th>\n",
       "      <th>msl</th>\n",
       "      <th>rain</th>\n",
       "      <th>rhum</th>\n",
       "      <th>Station number</th>\n",
       "      <th>datetime</th>\n",
       "    </tr>\n",
       "  </thead>\n",
       "  <tbody>\n",
       "    <tr>\n",
       "      <th>0</th>\n",
       "      <td>302858</td>\n",
       "      <td>Thurles (IRE)</td>\n",
       "      <td>277.2</td>\n",
       "      <td>3821.0</td>\n",
       "      <td>1</td>\n",
       "      <td>1.219263</td>\n",
       "      <td>6</td>\n",
       "      <td>2.2</td>\n",
       "      <td>1012.7</td>\n",
       "      <td>0.0</td>\n",
       "      <td>82</td>\n",
       "      <td>4919</td>\n",
       "      <td>1997-01-09 13:15:00</td>\n",
       "    </tr>\n",
       "    <tr>\n",
       "      <th>1</th>\n",
       "      <td>291347</td>\n",
       "      <td>Punchestown (IRE)</td>\n",
       "      <td>447.2</td>\n",
       "      <td>5229.0</td>\n",
       "      <td>5</td>\n",
       "      <td>1.218049</td>\n",
       "      <td>9</td>\n",
       "      <td>8.1</td>\n",
       "      <td>992.8</td>\n",
       "      <td>0.0</td>\n",
       "      <td>79</td>\n",
       "      <td>3723</td>\n",
       "      <td>1997-02-16 15:40:00</td>\n",
       "    </tr>\n",
       "    <tr>\n",
       "      <th>2</th>\n",
       "      <td>377929</td>\n",
       "      <td>Leopardstown (IRE)</td>\n",
       "      <td>106.4</td>\n",
       "      <td>1609.0</td>\n",
       "      <td>4</td>\n",
       "      <td>1.204927</td>\n",
       "      <td>5</td>\n",
       "      <td>10.1</td>\n",
       "      <td>996.7</td>\n",
       "      <td>0.0</td>\n",
       "      <td>76</td>\n",
       "      <td>532</td>\n",
       "      <td>1997-05-11 15:00:00</td>\n",
       "    </tr>\n",
       "    <tr>\n",
       "      <th>3</th>\n",
       "      <td>275117</td>\n",
       "      <td>Curragh (IRE)</td>\n",
       "      <td>125.9</td>\n",
       "      <td>2011.0</td>\n",
       "      <td>4</td>\n",
       "      <td>1.083838</td>\n",
       "      <td>5</td>\n",
       "      <td>15.8</td>\n",
       "      <td>1030.1</td>\n",
       "      <td>0.0</td>\n",
       "      <td>53</td>\n",
       "      <td>3723</td>\n",
       "      <td>1997-05-25 15:35:00</td>\n",
       "    </tr>\n",
       "    <tr>\n",
       "      <th>4</th>\n",
       "      <td>66511</td>\n",
       "      <td>Leopardstown (IRE)</td>\n",
       "      <td>116.3</td>\n",
       "      <td>1810.0</td>\n",
       "      <td>1</td>\n",
       "      <td>1.077871</td>\n",
       "      <td>5</td>\n",
       "      <td>16.3</td>\n",
       "      <td>1022.9</td>\n",
       "      <td>0.0</td>\n",
       "      <td>53</td>\n",
       "      <td>532</td>\n",
       "      <td>1997-06-02 16:30:00</td>\n",
       "    </tr>\n",
       "  </tbody>\n",
       "</table>\n",
       "</div>"
      ],
      "text/plain": [
       "      rid              course  winningTime  metric  ncond    margin  runners  \\\n",
       "0  302858       Thurles (IRE)        277.2  3821.0      1  1.219263        6   \n",
       "1  291347   Punchestown (IRE)        447.2  5229.0      5  1.218049        9   \n",
       "2  377929  Leopardstown (IRE)        106.4  1609.0      4  1.204927        5   \n",
       "3  275117       Curragh (IRE)        125.9  2011.0      4  1.083838        5   \n",
       "4   66511  Leopardstown (IRE)        116.3  1810.0      1  1.077871        5   \n",
       "\n",
       "   temp     msl  rain  rhum  Station number             datetime  \n",
       "0   2.2  1012.7   0.0    82            4919  1997-01-09 13:15:00  \n",
       "1   8.1   992.8   0.0    79            3723  1997-02-16 15:40:00  \n",
       "2  10.1   996.7   0.0    76             532  1997-05-11 15:00:00  \n",
       "3  15.8  1030.1   0.0    53            3723  1997-05-25 15:35:00  \n",
       "4  16.3  1022.9   0.0    53             532  1997-06-02 16:30:00  "
      ]
     },
     "execution_count": 9,
     "metadata": {},
     "output_type": "execute_result"
    }
   ],
   "source": [
    "races_clean_augment_clean = pd.read_csv(f\"{BASE_DIR}/data/csv/races_clean_augment_clean.csv\", low_memory=False) \n",
    "races_clean_augment_clean.head()"
   ]
  },
  {
   "cell_type": "code",
   "execution_count": 10,
   "id": "f013dc7d",
   "metadata": {
    "scrolled": true
   },
   "outputs": [
    {
     "data": {
      "text/plain": [
       "(19228, 13)"
      ]
     },
     "execution_count": 10,
     "metadata": {},
     "output_type": "execute_result"
    }
   ],
   "source": [
    "races_clean_augment_clean.shape"
   ]
  },
  {
   "cell_type": "markdown",
   "id": "dce4bc78",
   "metadata": {},
   "source": [
    "---"
   ]
  },
  {
   "cell_type": "code",
   "execution_count": 11,
   "id": "7a2e80e1",
   "metadata": {},
   "outputs": [],
   "source": [
    "def get_all_races(horse_name: str) -> pd.core.frame.DataFrame:\n",
    "    df = horse_to_races[horse_name]\n",
    "    if len(df) == 0:\n",
    "        return pd.DataFrame()\n",
    "    else:\n",
    "        return df.merge(races_clean_augment_clean, how='inner', on='rid')"
   ]
  },
  {
   "cell_type": "code",
   "execution_count": 12,
   "id": "9697c378",
   "metadata": {},
   "outputs": [],
   "source": [
    "def get_prev_races(horse_name: str, rid: int) -> pd.core.frame.DataFrame:\n",
    "    df = horse_to_races[horse_name]\n",
    "    if len(df) <= 1:\n",
    "        return pd.DataFrame()\n",
    "    else:\n",
    "        df = df.merge(races_clean_augment_clean, how='inner', on='rid')\n",
    "        return df[df['datetime'] < df[df['rid'] == rid].iloc[0]['datetime']]"
   ]
  },
  {
   "cell_type": "code",
   "execution_count": 13,
   "id": "a7c2c9c8",
   "metadata": {},
   "outputs": [],
   "source": [
    "def get_average_speed(df) -> float:\n",
    "    if len(df) == 0:\n",
    "        return float('nan')\n",
    "    else:\n",
    "        return np.mean(df['metric'] / df['time'])"
   ]
  },
  {
   "cell_type": "code",
   "execution_count": 27,
   "id": "a01e18c3",
   "metadata": {},
   "outputs": [],
   "source": [
    "def get_average_position(df) -> float:\n",
    "    if len(df) == 0:\n",
    "        return float('nan')\n",
    "    else:\n",
    "        return np.mean(df['position'])"
   ]
  },
  {
   "cell_type": "code",
   "execution_count": 14,
   "id": "edb38beb",
   "metadata": {},
   "outputs": [],
   "source": [
    "def get_prev_speed(df) -> float:\n",
    "    if len(df) == 0:\n",
    "        return float('nan')\n",
    "    else:\n",
    "        previous_datetime = df.iloc[0]['datetime']\n",
    "        previous_speed = df.iloc[0]['metric'] / df.iloc[0]['time']\n",
    "        for _, row in df.iterrows():\n",
    "            if row['datetime'] > previous_datetime:\n",
    "                previous_datetime = row['datetime']\n",
    "                previous_speed = row['metric'] / row['time']\n",
    "        return previous_speed"
   ]
  },
  {
   "cell_type": "code",
   "execution_count": 34,
   "id": "1af0f8c2",
   "metadata": {},
   "outputs": [],
   "source": [
    "def get_prev_position(df) -> float:\n",
    "    if len(df) == 0:\n",
    "        return float('nan')\n",
    "    else:\n",
    "        previous_datetime = df.iloc[0]['datetime']\n",
    "        previous_position = df.iloc[0]['position']\n",
    "        for _, row in df.iterrows():\n",
    "            if row['datetime'] > previous_datetime:\n",
    "                previous_datetime = row['datetime']\n",
    "                previous_position = row['position']\n",
    "        return previous_position"
   ]
  },
  {
   "cell_type": "code",
   "execution_count": 15,
   "id": "e3fe933e",
   "metadata": {},
   "outputs": [],
   "source": [
    "def get_prev_trainer_races(trainer_name: str, rid: int) -> pd.core.frame.DataFrame:\n",
    "    df = trainer_to_races[trainer_name]\n",
    "    if len(df) <= 1:\n",
    "        return pd.DataFrame()\n",
    "    else:\n",
    "        df = df.merge(races_clean_augment_clean, how='inner', on='rid')\n",
    "        return df[df['datetime'] < df[df['rid'] == rid].iloc[0]['datetime']]"
   ]
  },
  {
   "cell_type": "code",
   "execution_count": 16,
   "id": "89c75456",
   "metadata": {},
   "outputs": [],
   "source": [
    "def get_average_position(df) -> float:\n",
    "    if len(df) == 0:\n",
    "        return float('nan')\n",
    "    else:\n",
    "        return np.mean(df['position'])"
   ]
  },
  {
   "cell_type": "markdown",
   "id": "f2bd3b65",
   "metadata": {},
   "source": [
    "---"
   ]
  },
  {
   "cell_type": "markdown",
   "id": "74623a13",
   "metadata": {},
   "source": [
    "## Map Horse and Race to Average Position"
   ]
  },
  {
   "cell_type": "code",
   "execution_count": 30,
   "id": "81a423dd",
   "metadata": {},
   "outputs": [],
   "source": [
    "all_horse_names =  np.concatenate((horses_featurized['horseName'].unique(),\n",
    "                                  horses_featurized['father'].unique(),\n",
    "                                  horses_featurized['mother'].unique())\n",
    "                                 )\n",
    "\n",
    "all_horse_names = np.unique(all_horse_names)"
   ]
  },
  {
   "cell_type": "code",
   "execution_count": 31,
   "id": "e654e846",
   "metadata": {},
   "outputs": [
    {
     "name": "stderr",
     "output_type": "stream",
     "text": [
      "100%|█████████████████████████████████████████████████████████████████████████████████████████████████████████████████████████████████████████████████| 75343/75343 [13:50<00:00, 90.69it/s]\n"
     ]
    }
   ],
   "source": [
    "horse_to_races = {}\n",
    "\n",
    "for horse_name in tqdm(all_horse_names):\n",
    "    horse_to_races[horse_name] = horses_featurized[horses_featurized['horseName'] == horse_name]"
   ]
  },
  {
   "cell_type": "code",
   "execution_count": 32,
   "id": "2bd345d8",
   "metadata": {},
   "outputs": [
    {
     "name": "stderr",
     "output_type": "stream",
     "text": [
      "194573it [16:57, 191.20it/s]\n"
     ]
    }
   ],
   "source": [
    "horse_idx_to_prev_races = {}\n",
    "\n",
    "for idx, row in tqdm(horses_featurized.iterrows()):\n",
    "    horse_idx_to_prev_races[idx] = get_prev_races(row['horseName'], row['rid'])"
   ]
  },
  {
   "cell_type": "code",
   "execution_count": 33,
   "id": "b0ce24f8",
   "metadata": {},
   "outputs": [
    {
     "name": "stderr",
     "output_type": "stream",
     "text": [
      "194573it [00:28, 6874.78it/s]\n"
     ]
    }
   ],
   "source": [
    "horse_idx_to_avg_position = {}\n",
    "\n",
    "for idx, _ in tqdm(horses_featurized.iterrows()):\n",
    "    horse_idx_to_avg_position[idx] = get_average_position(horse_idx_to_prev_races[idx])"
   ]
  },
  {
   "cell_type": "code",
   "execution_count": 35,
   "id": "87bef845",
   "metadata": {},
   "outputs": [
    {
     "data": {
      "text/html": [
       "<div>\n",
       "<style scoped>\n",
       "    .dataframe tbody tr th:only-of-type {\n",
       "        vertical-align: middle;\n",
       "    }\n",
       "\n",
       "    .dataframe tbody tr th {\n",
       "        vertical-align: top;\n",
       "    }\n",
       "\n",
       "    .dataframe thead th {\n",
       "        text-align: right;\n",
       "    }\n",
       "</style>\n",
       "<table border=\"1\" class=\"dataframe\">\n",
       "  <thead>\n",
       "    <tr style=\"text-align: right;\">\n",
       "      <th></th>\n",
       "      <th>rid</th>\n",
       "      <th>horseName</th>\n",
       "      <th>age</th>\n",
       "      <th>saddle</th>\n",
       "      <th>decimalPrice</th>\n",
       "      <th>trainerName</th>\n",
       "      <th>jockeyName</th>\n",
       "      <th>position</th>\n",
       "      <th>outHandicap</th>\n",
       "      <th>RPR</th>\n",
       "      <th>...</th>\n",
       "      <th>father</th>\n",
       "      <th>mother</th>\n",
       "      <th>weight</th>\n",
       "      <th>time</th>\n",
       "      <th>avg_speed</th>\n",
       "      <th>prev_speed</th>\n",
       "      <th>father_avg_speed</th>\n",
       "      <th>mother_avg_speed</th>\n",
       "      <th>trainer_avg_speed</th>\n",
       "      <th>trainer_avg_position</th>\n",
       "    </tr>\n",
       "  </thead>\n",
       "  <tbody>\n",
       "    <tr>\n",
       "      <th>165483</th>\n",
       "      <td>284254</td>\n",
       "      <td>Sky View</td>\n",
       "      <td>5.0</td>\n",
       "      <td>3.0</td>\n",
       "      <td>0.125000</td>\n",
       "      <td>T M Walsh</td>\n",
       "      <td>R Walsh</td>\n",
       "      <td>2</td>\n",
       "      <td>0.0</td>\n",
       "      <td>47.0</td>\n",
       "      <td>...</td>\n",
       "      <td>Distant View</td>\n",
       "      <td>Counting Moonbeams</td>\n",
       "      <td>66</td>\n",
       "      <td>83.313092</td>\n",
       "      <td>14.691194</td>\n",
       "      <td>13.224925</td>\n",
       "      <td>NaN</td>\n",
       "      <td>NaN</td>\n",
       "      <td>14.449365</td>\n",
       "      <td>6.159574</td>\n",
       "    </tr>\n",
       "    <tr>\n",
       "      <th>3506</th>\n",
       "      <td>151432</td>\n",
       "      <td>Captain Doran</td>\n",
       "      <td>6.0</td>\n",
       "      <td>5.0</td>\n",
       "      <td>0.029412</td>\n",
       "      <td>S J Mahon</td>\n",
       "      <td>Danny Hand</td>\n",
       "      <td>8</td>\n",
       "      <td>0.0</td>\n",
       "      <td>63.0</td>\n",
       "      <td>...</td>\n",
       "      <td>Captain Rio</td>\n",
       "      <td>Scar Tissue</td>\n",
       "      <td>69</td>\n",
       "      <td>241.605687</td>\n",
       "      <td>NaN</td>\n",
       "      <td>NaN</td>\n",
       "      <td>16.406434</td>\n",
       "      <td>NaN</td>\n",
       "      <td>14.284862</td>\n",
       "      <td>7.315663</td>\n",
       "    </tr>\n",
       "    <tr>\n",
       "      <th>84988</th>\n",
       "      <td>49343</td>\n",
       "      <td>Gorteo</td>\n",
       "      <td>2.0</td>\n",
       "      <td>5.0</td>\n",
       "      <td>0.333333</td>\n",
       "      <td>J P Murtagh</td>\n",
       "      <td>Johnny Murtagh</td>\n",
       "      <td>2</td>\n",
       "      <td>0.0</td>\n",
       "      <td>88.0</td>\n",
       "      <td>...</td>\n",
       "      <td>Teofilo</td>\n",
       "      <td>Gorband</td>\n",
       "      <td>57</td>\n",
       "      <td>99.158513</td>\n",
       "      <td>16.224089</td>\n",
       "      <td>16.224089</td>\n",
       "      <td>16.313886</td>\n",
       "      <td>NaN</td>\n",
       "      <td>15.736564</td>\n",
       "      <td>5.600000</td>\n",
       "    </tr>\n",
       "    <tr>\n",
       "      <th>67731</th>\n",
       "      <td>213969</td>\n",
       "      <td>Splendid Susie</td>\n",
       "      <td>5.0</td>\n",
       "      <td>5.0</td>\n",
       "      <td>0.076923</td>\n",
       "      <td>C Byrnes</td>\n",
       "      <td>E M Butterly</td>\n",
       "      <td>7</td>\n",
       "      <td>0.0</td>\n",
       "      <td>44.0</td>\n",
       "      <td>...</td>\n",
       "      <td>Danetime</td>\n",
       "      <td>Splendid Yankee</td>\n",
       "      <td>58</td>\n",
       "      <td>143.555131</td>\n",
       "      <td>14.220030</td>\n",
       "      <td>14.220030</td>\n",
       "      <td>NaN</td>\n",
       "      <td>NaN</td>\n",
       "      <td>13.181418</td>\n",
       "      <td>5.862069</td>\n",
       "    </tr>\n",
       "    <tr>\n",
       "      <th>61779</th>\n",
       "      <td>318980</td>\n",
       "      <td>Lady Giselle</td>\n",
       "      <td>2.0</td>\n",
       "      <td>4.0</td>\n",
       "      <td>0.066667</td>\n",
       "      <td>John J Walsh</td>\n",
       "      <td>Ronan Whelan</td>\n",
       "      <td>4</td>\n",
       "      <td>0.0</td>\n",
       "      <td>55.0</td>\n",
       "      <td>...</td>\n",
       "      <td>Indian Haven</td>\n",
       "      <td>Makena</td>\n",
       "      <td>55</td>\n",
       "      <td>97.576504</td>\n",
       "      <td>NaN</td>\n",
       "      <td>NaN</td>\n",
       "      <td>NaN</td>\n",
       "      <td>14.159325</td>\n",
       "      <td>14.148594</td>\n",
       "      <td>8.041199</td>\n",
       "    </tr>\n",
       "  </tbody>\n",
       "</table>\n",
       "<p>5 rows × 22 columns</p>\n",
       "</div>"
      ],
      "text/plain": [
       "           rid       horseName  age  saddle  decimalPrice   trainerName  \\\n",
       "165483  284254        Sky View  5.0     3.0      0.125000     T M Walsh   \n",
       "3506    151432   Captain Doran  6.0     5.0      0.029412     S J Mahon   \n",
       "84988    49343          Gorteo  2.0     5.0      0.333333   J P Murtagh   \n",
       "67731   213969  Splendid Susie  5.0     5.0      0.076923      C Byrnes   \n",
       "61779   318980    Lady Giselle  2.0     4.0      0.066667  John J Walsh   \n",
       "\n",
       "            jockeyName  position  outHandicap   RPR  ...        father  \\\n",
       "165483         R Walsh         2          0.0  47.0  ...  Distant View   \n",
       "3506        Danny Hand         8          0.0  63.0  ...   Captain Rio   \n",
       "84988   Johnny Murtagh         2          0.0  88.0  ...       Teofilo   \n",
       "67731     E M Butterly         7          0.0  44.0  ...      Danetime   \n",
       "61779     Ronan Whelan         4          0.0  55.0  ...  Indian Haven   \n",
       "\n",
       "                    mother weight        time  avg_speed  prev_speed  \\\n",
       "165483  Counting Moonbeams     66   83.313092  14.691194   13.224925   \n",
       "3506           Scar Tissue     69  241.605687        NaN         NaN   \n",
       "84988              Gorband     57   99.158513  16.224089   16.224089   \n",
       "67731      Splendid Yankee     58  143.555131  14.220030   14.220030   \n",
       "61779               Makena     55   97.576504        NaN         NaN   \n",
       "\n",
       "        father_avg_speed  mother_avg_speed  trainer_avg_speed  \\\n",
       "165483               NaN               NaN          14.449365   \n",
       "3506           16.406434               NaN          14.284862   \n",
       "84988          16.313886               NaN          15.736564   \n",
       "67731                NaN               NaN          13.181418   \n",
       "61779                NaN         14.159325          14.148594   \n",
       "\n",
       "        trainer_avg_position  \n",
       "165483              6.159574  \n",
       "3506                7.315663  \n",
       "84988               5.600000  \n",
       "67731               5.862069  \n",
       "61779               8.041199  \n",
       "\n",
       "[5 rows x 22 columns]"
      ]
     },
     "execution_count": 35,
     "metadata": {},
     "output_type": "execute_result"
    }
   ],
   "source": [
    "horses_featurized.sample(5)"
   ]
  },
  {
   "cell_type": "markdown",
   "id": "45207ebb",
   "metadata": {},
   "source": [
    "---"
   ]
  },
  {
   "cell_type": "markdown",
   "id": "008bdad6",
   "metadata": {},
   "source": [
    "## Map Horse and Race to Most Previous Position"
   ]
  },
  {
   "cell_type": "code",
   "execution_count": 36,
   "id": "2c12df52",
   "metadata": {},
   "outputs": [
    {
     "name": "stderr",
     "output_type": "stream",
     "text": [
      "194573it [01:39, 1953.04it/s]\n"
     ]
    }
   ],
   "source": [
    "horse_idx_to_prev_position = {}\n",
    "\n",
    "for idx, _ in tqdm(horses_featurized.iterrows()):\n",
    "    horse_idx_to_prev_position[idx] = get_prev_position(horse_idx_to_prev_races[idx])"
   ]
  },
  {
   "cell_type": "code",
   "execution_count": null,
   "id": "d30064ca",
   "metadata": {},
   "outputs": [],
   "source": [
    "horses_featurized.sample(5)"
   ]
  },
  {
   "cell_type": "markdown",
   "id": "793ea713",
   "metadata": {},
   "source": [
    "---"
   ]
  },
  {
   "cell_type": "markdown",
   "id": "9976db3c",
   "metadata": {},
   "source": [
    "## Map Horse to Jockey Average Speed"
   ]
  },
  {
   "cell_type": "code",
   "execution_count": 17,
   "id": "a156eb0d",
   "metadata": {},
   "outputs": [
    {
     "data": {
      "text/plain": [
       "Pat Smullen         7923\n",
       "Kevin Manning       7071\n",
       "Wayne Lordan        6776\n",
       "Declan McDonogh     6548\n",
       "Seamie Heffernan    6162\n",
       "                    ... \n",
       "Mr D Collins           1\n",
       "Mr D Reddan            1\n",
       "Miss L Horner          1\n",
       "Holly Farrell          1\n",
       "Mr P J Croke           1\n",
       "Name: jockeyName, Length: 2427, dtype: int64"
      ]
     },
     "execution_count": 17,
     "metadata": {},
     "output_type": "execute_result"
    }
   ],
   "source": [
    "horses_featurized['jockeyName'].value_counts()"
   ]
  },
  {
   "cell_type": "code",
   "execution_count": 18,
   "id": "5a9650df",
   "metadata": {},
   "outputs": [
    {
     "name": "stderr",
     "output_type": "stream",
     "text": [
      "100%|███████████████████████████████████████████████████████████████████████████████████████████████████████████████████████████████████████████████████| 2427/2427 [00:24<00:00, 99.24it/s]\n"
     ]
    }
   ],
   "source": [
    "jockey_to_races = {}\n",
    "\n",
    "for jockey_name in tqdm(horses_featurized['jockeyName'].unique()):\n",
    "    jockey_to_races[jockey_name] = horses_featurized[horses_featurized['jockeyName'] == jockey_name]"
   ]
  },
  {
   "cell_type": "code",
   "execution_count": 19,
   "id": "dfae6c9b",
   "metadata": {},
   "outputs": [],
   "source": [
    "def get_prev_jockey_races(jockey_name: str, rid: int) -> pd.core.frame.DataFrame:\n",
    "    df = jockey_to_races[jockey_name]\n",
    "    if len(df) <= 1:\n",
    "        return pd.DataFrame()\n",
    "    else:\n",
    "        df = df.merge(races_clean_augment_clean, how='inner', on='rid')\n",
    "        return df[df['datetime'] < df[df['rid'] == rid].iloc[0]['datetime']]"
   ]
  },
  {
   "cell_type": "code",
   "execution_count": 20,
   "id": "3916ef3f",
   "metadata": {},
   "outputs": [
    {
     "name": "stderr",
     "output_type": "stream",
     "text": [
      "194573it [31:04, 104.37it/s]\n"
     ]
    }
   ],
   "source": [
    "horse_idx_to_prev_jockey_races = {}\n",
    "\n",
    "for idx, row in tqdm(horses_featurized.iterrows()):\n",
    "    horse_idx_to_prev_jockey_races[idx] = get_prev_jockey_races(row['jockeyName'], row['rid'])"
   ]
  },
  {
   "cell_type": "code",
   "execution_count": 21,
   "id": "fa03394b",
   "metadata": {},
   "outputs": [
    {
     "name": "stderr",
     "output_type": "stream",
     "text": [
      "194573it [05:01, 645.85it/s] \n"
     ]
    }
   ],
   "source": [
    "horse_to_jockey_avg_speed = {}\n",
    "\n",
    "for idx, row in tqdm(horses_featurized.iterrows()):\n",
    "    prev_jockey_races = horse_idx_to_prev_jockey_races[idx]\n",
    "    horse_to_jockey_avg_speed[idx] = get_average_speed(prev_jockey_races)"
   ]
  },
  {
   "cell_type": "markdown",
   "id": "f4a18a49",
   "metadata": {},
   "source": [
    "---"
   ]
  },
  {
   "cell_type": "markdown",
   "id": "2062f51f",
   "metadata": {},
   "source": [
    "## Map Horse to Jockey Average Position"
   ]
  },
  {
   "cell_type": "code",
   "execution_count": 68,
   "id": "10956790",
   "metadata": {},
   "outputs": [
    {
     "name": "stderr",
     "output_type": "stream",
     "text": [
      "194573it [02:34, 1255.83it/s]\n"
     ]
    }
   ],
   "source": [
    "horse_to_jockey_avg_position = {}\n",
    "\n",
    "for idx, row in tqdm(horses_featurized.iterrows()):\n",
    "    prev_jockey_races = horse_idx_to_prev_jockey_races[idx]\n",
    "    horse_to_jockey_avg_position[idx] = get_average_position(prev_jockey_races)"
   ]
  },
  {
   "cell_type": "markdown",
   "id": "873b6e66",
   "metadata": {},
   "source": [
    "---"
   ]
  },
  {
   "cell_type": "markdown",
   "id": "21e979c8",
   "metadata": {},
   "source": [
    "## Map Horse to Jockey Most Previous Speed"
   ]
  },
  {
   "cell_type": "code",
   "execution_count": 45,
   "id": "0c32a137",
   "metadata": {},
   "outputs": [],
   "source": [
    "def get_all_races_jockey(jockey_name: str) -> pd.core.frame.DataFrame:\n",
    "    df = horses_featurized[horses_featurized['jockeyName'] == jockey_name]\n",
    "    if len(df) == 0:\n",
    "        return pd.DataFrame()\n",
    "    else:\n",
    "        df = df.merge(races_clean_augment_clean, how='inner', on='rid')\n",
    "        df['datetime'] = pd.to_datetime(df['datetime'])\n",
    "        return df.sort_values(by='datetime')"
   ]
  },
  {
   "cell_type": "code",
   "execution_count": 51,
   "id": "d5dfdac3",
   "metadata": {},
   "outputs": [
    {
     "name": "stderr",
     "output_type": "stream",
     "text": [
      "100%|███████████████████████████████████████████████████████████████████████████████████████████████████████████████████████████████████████████████████| 2427/2427 [00:44<00:00, 54.18it/s]\n"
     ]
    }
   ],
   "source": [
    "sorted_jockey_races = {}\n",
    "\n",
    "for jockey_name in tqdm(horses_featurized['jockeyName'].unique()):\n",
    "    sorted_jockey_races[jockey_name] = get_all_races_jockey(jockey_name)"
   ]
  },
  {
   "cell_type": "code",
   "execution_count": 62,
   "id": "4396ad0b",
   "metadata": {},
   "outputs": [],
   "source": [
    "def get_prev_speed_binary(df, rid) -> float:\n",
    "    if len(df) == 0:\n",
    "        return float('nan')\n",
    "    else:\n",
    "        \n",
    "        rid_datetime = df[df['rid'] == rid].iloc[0]['datetime']\n",
    "         \n",
    "        lo = 0\n",
    "        hi = len(df) - 1\n",
    "\n",
    "        while lo <= hi:\n",
    "\n",
    "            mid = lo + (hi - lo) // 2\n",
    "            \n",
    "            curr_datetime = df.iloc[mid]['datetime']\n",
    "\n",
    "            if curr_datetime < rid_datetime:\n",
    "                lo = mid + 1\n",
    "\n",
    "            elif curr_datetime > rid_datetime:\n",
    "                hi = mid - 1\n",
    "            \n",
    "            else:\n",
    "                break\n",
    "\n",
    "        return df.iloc[mid - 1]['metric'] / df.iloc[mid - 1]['time'] if mid > 0 else float('nan')"
   ]
  },
  {
   "cell_type": "code",
   "execution_count": 63,
   "id": "4ddefb26",
   "metadata": {},
   "outputs": [
    {
     "data": {
      "text/html": [
       "<div>\n",
       "<style scoped>\n",
       "    .dataframe tbody tr th:only-of-type {\n",
       "        vertical-align: middle;\n",
       "    }\n",
       "\n",
       "    .dataframe tbody tr th {\n",
       "        vertical-align: top;\n",
       "    }\n",
       "\n",
       "    .dataframe thead th {\n",
       "        text-align: right;\n",
       "    }\n",
       "</style>\n",
       "<table border=\"1\" class=\"dataframe\">\n",
       "  <thead>\n",
       "    <tr style=\"text-align: right;\">\n",
       "      <th></th>\n",
       "      <th>rid</th>\n",
       "      <th>horseName</th>\n",
       "      <th>age</th>\n",
       "      <th>saddle</th>\n",
       "      <th>decimalPrice</th>\n",
       "      <th>trainerName</th>\n",
       "      <th>jockeyName</th>\n",
       "      <th>position</th>\n",
       "      <th>outHandicap</th>\n",
       "      <th>RPR</th>\n",
       "      <th>...</th>\n",
       "      <th>metric</th>\n",
       "      <th>ncond</th>\n",
       "      <th>margin</th>\n",
       "      <th>runners</th>\n",
       "      <th>temp</th>\n",
       "      <th>msl</th>\n",
       "      <th>rain</th>\n",
       "      <th>rhum</th>\n",
       "      <th>Station number</th>\n",
       "      <th>datetime</th>\n",
       "    </tr>\n",
       "  </thead>\n",
       "  <tbody>\n",
       "    <tr>\n",
       "      <th>5</th>\n",
       "      <td>50025</td>\n",
       "      <td>Stonehaven</td>\n",
       "      <td>2.0</td>\n",
       "      <td>9.0</td>\n",
       "      <td>0.038462</td>\n",
       "      <td>T Stack</td>\n",
       "      <td>Pat Smullen</td>\n",
       "      <td>10</td>\n",
       "      <td>0.0</td>\n",
       "      <td>93.0</td>\n",
       "      <td>...</td>\n",
       "      <td>1407.0</td>\n",
       "      <td>1</td>\n",
       "      <td>1.376904</td>\n",
       "      <td>10</td>\n",
       "      <td>14.3</td>\n",
       "      <td>1015.6</td>\n",
       "      <td>0.0</td>\n",
       "      <td>63</td>\n",
       "      <td>3723</td>\n",
       "      <td>1996-09-21 16:30:00</td>\n",
       "    </tr>\n",
       "    <tr>\n",
       "      <th>0</th>\n",
       "      <td>377929</td>\n",
       "      <td>Welsh Queen</td>\n",
       "      <td>3.0</td>\n",
       "      <td>5.0</td>\n",
       "      <td>0.058824</td>\n",
       "      <td>T Stack</td>\n",
       "      <td>Pat Smullen</td>\n",
       "      <td>2</td>\n",
       "      <td>0.0</td>\n",
       "      <td>86.0</td>\n",
       "      <td>...</td>\n",
       "      <td>1609.0</td>\n",
       "      <td>4</td>\n",
       "      <td>1.204927</td>\n",
       "      <td>5</td>\n",
       "      <td>10.1</td>\n",
       "      <td>996.7</td>\n",
       "      <td>0.0</td>\n",
       "      <td>76</td>\n",
       "      <td>532</td>\n",
       "      <td>1997-05-11 15:00:00</td>\n",
       "    </tr>\n",
       "    <tr>\n",
       "      <th>1</th>\n",
       "      <td>362433</td>\n",
       "      <td>Tout A Coup</td>\n",
       "      <td>4.0</td>\n",
       "      <td>2.0</td>\n",
       "      <td>0.090909</td>\n",
       "      <td>G A Cusack</td>\n",
       "      <td>Pat Smullen</td>\n",
       "      <td>5</td>\n",
       "      <td>0.0</td>\n",
       "      <td>91.0</td>\n",
       "      <td>...</td>\n",
       "      <td>2011.0</td>\n",
       "      <td>6</td>\n",
       "      <td>1.168184</td>\n",
       "      <td>6</td>\n",
       "      <td>15.7</td>\n",
       "      <td>1010.1</td>\n",
       "      <td>0.0</td>\n",
       "      <td>71</td>\n",
       "      <td>3723</td>\n",
       "      <td>1997-06-28 16:00:00</td>\n",
       "    </tr>\n",
       "    <tr>\n",
       "      <th>2</th>\n",
       "      <td>271948</td>\n",
       "      <td>Dress Design</td>\n",
       "      <td>2.0</td>\n",
       "      <td>2.0</td>\n",
       "      <td>0.125000</td>\n",
       "      <td>John Muldoon</td>\n",
       "      <td>Pat Smullen</td>\n",
       "      <td>4</td>\n",
       "      <td>0.0</td>\n",
       "      <td>70.0</td>\n",
       "      <td>...</td>\n",
       "      <td>1005.0</td>\n",
       "      <td>6</td>\n",
       "      <td>1.147619</td>\n",
       "      <td>5</td>\n",
       "      <td>14.8</td>\n",
       "      <td>1020.7</td>\n",
       "      <td>0.0</td>\n",
       "      <td>91</td>\n",
       "      <td>532</td>\n",
       "      <td>1997-08-04 14:20:00</td>\n",
       "    </tr>\n",
       "    <tr>\n",
       "      <th>3</th>\n",
       "      <td>90710</td>\n",
       "      <td>Aliya</td>\n",
       "      <td>3.0</td>\n",
       "      <td>3.0</td>\n",
       "      <td>0.250000</td>\n",
       "      <td>John M Oxx</td>\n",
       "      <td>Pat Smullen</td>\n",
       "      <td>2</td>\n",
       "      <td>0.0</td>\n",
       "      <td>97.0</td>\n",
       "      <td>...</td>\n",
       "      <td>2815.0</td>\n",
       "      <td>6</td>\n",
       "      <td>1.093590</td>\n",
       "      <td>5</td>\n",
       "      <td>14.4</td>\n",
       "      <td>1020.5</td>\n",
       "      <td>3.8</td>\n",
       "      <td>93</td>\n",
       "      <td>532</td>\n",
       "      <td>1997-08-04 16:50:00</td>\n",
       "    </tr>\n",
       "  </tbody>\n",
       "</table>\n",
       "<p>5 rows × 34 columns</p>\n",
       "</div>"
      ],
      "text/plain": [
       "      rid     horseName  age  saddle  decimalPrice   trainerName   jockeyName  \\\n",
       "5   50025    Stonehaven  2.0     9.0      0.038462       T Stack  Pat Smullen   \n",
       "0  377929   Welsh Queen  3.0     5.0      0.058824       T Stack  Pat Smullen   \n",
       "1  362433   Tout A Coup  4.0     2.0      0.090909    G A Cusack  Pat Smullen   \n",
       "2  271948  Dress Design  2.0     2.0      0.125000  John Muldoon  Pat Smullen   \n",
       "3   90710         Aliya  3.0     3.0      0.250000    John M Oxx  Pat Smullen   \n",
       "\n",
       "   position  outHandicap   RPR  ...  metric  ncond    margin runners  temp  \\\n",
       "5        10          0.0  93.0  ...  1407.0      1  1.376904      10  14.3   \n",
       "0         2          0.0  86.0  ...  1609.0      4  1.204927       5  10.1   \n",
       "1         5          0.0  91.0  ...  2011.0      6  1.168184       6  15.7   \n",
       "2         4          0.0  70.0  ...  1005.0      6  1.147619       5  14.8   \n",
       "3         2          0.0  97.0  ...  2815.0      6  1.093590       5  14.4   \n",
       "\n",
       "      msl  rain  rhum  Station number            datetime  \n",
       "5  1015.6   0.0    63            3723 1996-09-21 16:30:00  \n",
       "0   996.7   0.0    76             532 1997-05-11 15:00:00  \n",
       "1  1010.1   0.0    71            3723 1997-06-28 16:00:00  \n",
       "2  1020.7   0.0    91             532 1997-08-04 14:20:00  \n",
       "3  1020.5   3.8    93             532 1997-08-04 16:50:00  \n",
       "\n",
       "[5 rows x 34 columns]"
      ]
     },
     "execution_count": 63,
     "metadata": {},
     "output_type": "execute_result"
    }
   ],
   "source": [
    "get_all_races_jockey('Pat Smullen').head()"
   ]
  },
  {
   "cell_type": "code",
   "execution_count": 64,
   "id": "2c1d8760",
   "metadata": {},
   "outputs": [
    {
     "data": {
      "text/plain": [
       "nan"
      ]
     },
     "execution_count": 64,
     "metadata": {},
     "output_type": "execute_result"
    }
   ],
   "source": [
    "get_prev_speed_binary(sorted_jockey_races['Pat Smullen'], 50025)"
   ]
  },
  {
   "cell_type": "code",
   "execution_count": 65,
   "id": "ec69a0f3",
   "metadata": {
    "scrolled": true
   },
   "outputs": [
    {
     "data": {
      "text/plain": [
       "15.413247716904765"
      ]
     },
     "execution_count": 65,
     "metadata": {},
     "output_type": "execute_result"
    }
   ],
   "source": [
    "get_prev_speed_binary(sorted_jockey_races['Pat Smullen'], 271948)"
   ]
  },
  {
   "cell_type": "code",
   "execution_count": 66,
   "id": "5f9fe113",
   "metadata": {},
   "outputs": [
    {
     "data": {
      "text/plain": [
       "16.22744400947402"
      ]
     },
     "execution_count": 66,
     "metadata": {},
     "output_type": "execute_result"
    }
   ],
   "source": [
    "get_prev_speed_binary(sorted_jockey_races['Pat Smullen'], 90710)"
   ]
  },
  {
   "cell_type": "code",
   "execution_count": 67,
   "id": "c5d70dfe",
   "metadata": {},
   "outputs": [
    {
     "name": "stderr",
     "output_type": "stream",
     "text": [
      "194573it [05:45, 563.11it/s]\n"
     ]
    }
   ],
   "source": [
    "horse_to_jockey_prev_speed = {}\n",
    "\n",
    "for idx, row in tqdm(horses_featurized.iterrows()):\n",
    "    prev_jockey_races = sorted_jockey_races[row['jockeyName']]\n",
    "    horse_to_jockey_prev_speed[idx] = get_prev_speed_binary(prev_jockey_races, row['rid'])"
   ]
  },
  {
   "cell_type": "markdown",
   "id": "71de5bfb",
   "metadata": {},
   "source": [
    "---"
   ]
  },
  {
   "cell_type": "markdown",
   "id": "3645662a",
   "metadata": {},
   "source": [
    "## Map Horse to Jockey Most Previous Position"
   ]
  },
  {
   "cell_type": "markdown",
   "id": "32c9c771",
   "metadata": {},
   "source": [
    "Too slow. Need to optimize."
   ]
  },
  {
   "cell_type": "code",
   "execution_count": 43,
   "id": "a5250da6",
   "metadata": {
    "scrolled": true
   },
   "outputs": [
    {
     "data": {
      "text/plain": [
       "Pat Smullen         7923\n",
       "Kevin Manning       7071\n",
       "Wayne Lordan        6776\n",
       "Declan McDonogh     6548\n",
       "Seamie Heffernan    6162\n",
       "                    ... \n",
       "Graham Gibbons         7\n",
       "Mr C M Quirke          7\n",
       "Katie McManmon         7\n",
       "Mr W J O'Donovan       7\n",
       "Colman Comerford       7\n",
       "Name: jockeyName, Length: 1000, dtype: int64"
      ]
     },
     "execution_count": 43,
     "metadata": {},
     "output_type": "execute_result"
    }
   ],
   "source": [
    "horses_featurized['jockeyName'].value_counts()[:1000]"
   ]
  },
  {
   "cell_type": "code",
   "execution_count": 49,
   "id": "58e77137",
   "metadata": {},
   "outputs": [
    {
     "data": {
      "text/html": [
       "<div>\n",
       "<style scoped>\n",
       "    .dataframe tbody tr th:only-of-type {\n",
       "        vertical-align: middle;\n",
       "    }\n",
       "\n",
       "    .dataframe tbody tr th {\n",
       "        vertical-align: top;\n",
       "    }\n",
       "\n",
       "    .dataframe thead th {\n",
       "        text-align: right;\n",
       "    }\n",
       "</style>\n",
       "<table border=\"1\" class=\"dataframe\">\n",
       "  <thead>\n",
       "    <tr style=\"text-align: right;\">\n",
       "      <th></th>\n",
       "      <th>rid</th>\n",
       "      <th>horseName</th>\n",
       "      <th>age</th>\n",
       "      <th>saddle</th>\n",
       "      <th>decimalPrice</th>\n",
       "      <th>trainerName</th>\n",
       "      <th>jockeyName</th>\n",
       "      <th>position</th>\n",
       "      <th>outHandicap</th>\n",
       "      <th>RPR</th>\n",
       "      <th>...</th>\n",
       "      <th>metric</th>\n",
       "      <th>ncond</th>\n",
       "      <th>margin</th>\n",
       "      <th>runners</th>\n",
       "      <th>temp</th>\n",
       "      <th>msl</th>\n",
       "      <th>rain</th>\n",
       "      <th>rhum</th>\n",
       "      <th>Station number</th>\n",
       "      <th>datetime</th>\n",
       "    </tr>\n",
       "  </thead>\n",
       "  <tbody>\n",
       "    <tr>\n",
       "      <th>5</th>\n",
       "      <td>50025</td>\n",
       "      <td>Stonehaven</td>\n",
       "      <td>2.0</td>\n",
       "      <td>9.0</td>\n",
       "      <td>0.038462</td>\n",
       "      <td>T Stack</td>\n",
       "      <td>Pat Smullen</td>\n",
       "      <td>10</td>\n",
       "      <td>0.0</td>\n",
       "      <td>93.0</td>\n",
       "      <td>...</td>\n",
       "      <td>1407.0</td>\n",
       "      <td>1</td>\n",
       "      <td>1.376904</td>\n",
       "      <td>10</td>\n",
       "      <td>14.3</td>\n",
       "      <td>1015.6</td>\n",
       "      <td>0.0</td>\n",
       "      <td>63</td>\n",
       "      <td>3723</td>\n",
       "      <td>1996-09-21 16:30:00</td>\n",
       "    </tr>\n",
       "    <tr>\n",
       "      <th>0</th>\n",
       "      <td>377929</td>\n",
       "      <td>Welsh Queen</td>\n",
       "      <td>3.0</td>\n",
       "      <td>5.0</td>\n",
       "      <td>0.058824</td>\n",
       "      <td>T Stack</td>\n",
       "      <td>Pat Smullen</td>\n",
       "      <td>2</td>\n",
       "      <td>0.0</td>\n",
       "      <td>86.0</td>\n",
       "      <td>...</td>\n",
       "      <td>1609.0</td>\n",
       "      <td>4</td>\n",
       "      <td>1.204927</td>\n",
       "      <td>5</td>\n",
       "      <td>10.1</td>\n",
       "      <td>996.7</td>\n",
       "      <td>0.0</td>\n",
       "      <td>76</td>\n",
       "      <td>532</td>\n",
       "      <td>1997-05-11 15:00:00</td>\n",
       "    </tr>\n",
       "    <tr>\n",
       "      <th>1</th>\n",
       "      <td>362433</td>\n",
       "      <td>Tout A Coup</td>\n",
       "      <td>4.0</td>\n",
       "      <td>2.0</td>\n",
       "      <td>0.090909</td>\n",
       "      <td>G A Cusack</td>\n",
       "      <td>Pat Smullen</td>\n",
       "      <td>5</td>\n",
       "      <td>0.0</td>\n",
       "      <td>91.0</td>\n",
       "      <td>...</td>\n",
       "      <td>2011.0</td>\n",
       "      <td>6</td>\n",
       "      <td>1.168184</td>\n",
       "      <td>6</td>\n",
       "      <td>15.7</td>\n",
       "      <td>1010.1</td>\n",
       "      <td>0.0</td>\n",
       "      <td>71</td>\n",
       "      <td>3723</td>\n",
       "      <td>1997-06-28 16:00:00</td>\n",
       "    </tr>\n",
       "    <tr>\n",
       "      <th>2</th>\n",
       "      <td>271948</td>\n",
       "      <td>Dress Design</td>\n",
       "      <td>2.0</td>\n",
       "      <td>2.0</td>\n",
       "      <td>0.125000</td>\n",
       "      <td>John Muldoon</td>\n",
       "      <td>Pat Smullen</td>\n",
       "      <td>4</td>\n",
       "      <td>0.0</td>\n",
       "      <td>70.0</td>\n",
       "      <td>...</td>\n",
       "      <td>1005.0</td>\n",
       "      <td>6</td>\n",
       "      <td>1.147619</td>\n",
       "      <td>5</td>\n",
       "      <td>14.8</td>\n",
       "      <td>1020.7</td>\n",
       "      <td>0.0</td>\n",
       "      <td>91</td>\n",
       "      <td>532</td>\n",
       "      <td>1997-08-04 14:20:00</td>\n",
       "    </tr>\n",
       "    <tr>\n",
       "      <th>3</th>\n",
       "      <td>90710</td>\n",
       "      <td>Aliya</td>\n",
       "      <td>3.0</td>\n",
       "      <td>3.0</td>\n",
       "      <td>0.250000</td>\n",
       "      <td>John M Oxx</td>\n",
       "      <td>Pat Smullen</td>\n",
       "      <td>2</td>\n",
       "      <td>0.0</td>\n",
       "      <td>97.0</td>\n",
       "      <td>...</td>\n",
       "      <td>2815.0</td>\n",
       "      <td>6</td>\n",
       "      <td>1.093590</td>\n",
       "      <td>5</td>\n",
       "      <td>14.4</td>\n",
       "      <td>1020.5</td>\n",
       "      <td>3.8</td>\n",
       "      <td>93</td>\n",
       "      <td>532</td>\n",
       "      <td>1997-08-04 16:50:00</td>\n",
       "    </tr>\n",
       "  </tbody>\n",
       "</table>\n",
       "<p>5 rows × 34 columns</p>\n",
       "</div>"
      ],
      "text/plain": [
       "      rid     horseName  age  saddle  decimalPrice   trainerName   jockeyName  \\\n",
       "5   50025    Stonehaven  2.0     9.0      0.038462       T Stack  Pat Smullen   \n",
       "0  377929   Welsh Queen  3.0     5.0      0.058824       T Stack  Pat Smullen   \n",
       "1  362433   Tout A Coup  4.0     2.0      0.090909    G A Cusack  Pat Smullen   \n",
       "2  271948  Dress Design  2.0     2.0      0.125000  John Muldoon  Pat Smullen   \n",
       "3   90710         Aliya  3.0     3.0      0.250000    John M Oxx  Pat Smullen   \n",
       "\n",
       "   position  outHandicap   RPR  ...  metric  ncond    margin runners  temp  \\\n",
       "5        10          0.0  93.0  ...  1407.0      1  1.376904      10  14.3   \n",
       "0         2          0.0  86.0  ...  1609.0      4  1.204927       5  10.1   \n",
       "1         5          0.0  91.0  ...  2011.0      6  1.168184       6  15.7   \n",
       "2         4          0.0  70.0  ...  1005.0      6  1.147619       5  14.8   \n",
       "3         2          0.0  97.0  ...  2815.0      6  1.093590       5  14.4   \n",
       "\n",
       "      msl  rain  rhum  Station number            datetime  \n",
       "5  1015.6   0.0    63            3723 1996-09-21 16:30:00  \n",
       "0   996.7   0.0    76             532 1997-05-11 15:00:00  \n",
       "1  1010.1   0.0    71            3723 1997-06-28 16:00:00  \n",
       "2  1020.7   0.0    91             532 1997-08-04 14:20:00  \n",
       "3  1020.5   3.8    93             532 1997-08-04 16:50:00  \n",
       "\n",
       "[5 rows x 34 columns]"
      ]
     },
     "execution_count": 49,
     "metadata": {},
     "output_type": "execute_result"
    }
   ],
   "source": [
    "get_all_races_jockey('Pat Smullen').head()"
   ]
  },
  {
   "cell_type": "code",
   "execution_count": 54,
   "id": "d3ca226a",
   "metadata": {},
   "outputs": [],
   "source": [
    "def get_prev_position_binary(df, rid) -> float:\n",
    "    if len(df) == 0:\n",
    "        return float('nan')\n",
    "    else:\n",
    "        \n",
    "        rid_datetime = df[df['rid'] == rid].iloc[0]['datetime']\n",
    "         \n",
    "        lo = 0\n",
    "        hi = len(df) - 1\n",
    "\n",
    "        while lo <= hi:\n",
    "\n",
    "            mid = lo + (hi - lo) // 2\n",
    "            \n",
    "            curr_datetime = df.iloc[mid]['datetime']\n",
    "\n",
    "            if curr_datetime < rid_datetime:\n",
    "                lo = mid + 1\n",
    "\n",
    "            elif curr_datetime > rid_datetime:\n",
    "                hi = mid - 1\n",
    "            \n",
    "            else:\n",
    "                break\n",
    "\n",
    "        return df.iloc[mid - 1]['position'] if mid > 0 else float('nan')"
   ]
  },
  {
   "cell_type": "code",
   "execution_count": 57,
   "id": "59d71f86",
   "metadata": {},
   "outputs": [
    {
     "data": {
      "text/plain": [
       "nan"
      ]
     },
     "execution_count": 57,
     "metadata": {},
     "output_type": "execute_result"
    }
   ],
   "source": [
    "get_prev_position_binary(sorted_jockey_races['Pat Smullen'], 50025)"
   ]
  },
  {
   "cell_type": "code",
   "execution_count": 55,
   "id": "ca465910",
   "metadata": {
    "scrolled": true
   },
   "outputs": [
    {
     "data": {
      "text/plain": [
       "5"
      ]
     },
     "execution_count": 55,
     "metadata": {},
     "output_type": "execute_result"
    }
   ],
   "source": [
    "get_prev_position_binary(sorted_jockey_races['Pat Smullen'], 271948)"
   ]
  },
  {
   "cell_type": "code",
   "execution_count": 56,
   "id": "5d9e49af",
   "metadata": {},
   "outputs": [
    {
     "data": {
      "text/plain": [
       "4"
      ]
     },
     "execution_count": 56,
     "metadata": {},
     "output_type": "execute_result"
    }
   ],
   "source": [
    "get_prev_position_binary(sorted_jockey_races['Pat Smullen'], 90710)"
   ]
  },
  {
   "cell_type": "code",
   "execution_count": 59,
   "id": "f975c07f",
   "metadata": {},
   "outputs": [
    {
     "name": "stderr",
     "output_type": "stream",
     "text": [
      "194573it [06:10, 525.84it/s]\n"
     ]
    }
   ],
   "source": [
    "horse_to_jockey_prev_position = {}\n",
    "\n",
    "for idx, row in tqdm(horses_featurized.iterrows()):\n",
    "    prev_jockey_races = sorted_jockey_races[row['jockeyName']]\n",
    "    horse_to_jockey_prev_position[idx] = get_prev_position_binary(prev_jockey_races, row['rid'])"
   ]
  },
  {
   "cell_type": "markdown",
   "id": "fb5453f6",
   "metadata": {},
   "source": [
    "---"
   ]
  },
  {
   "cell_type": "markdown",
   "id": "72896490",
   "metadata": {},
   "source": [
    "## Checkpoint `horses_featurized`"
   ]
  },
  {
   "cell_type": "code",
   "execution_count": 69,
   "id": "1037ea9e",
   "metadata": {},
   "outputs": [
    {
     "data": {
      "text/html": [
       "<div>\n",
       "<style scoped>\n",
       "    .dataframe tbody tr th:only-of-type {\n",
       "        vertical-align: middle;\n",
       "    }\n",
       "\n",
       "    .dataframe tbody tr th {\n",
       "        vertical-align: top;\n",
       "    }\n",
       "\n",
       "    .dataframe thead th {\n",
       "        text-align: right;\n",
       "    }\n",
       "</style>\n",
       "<table border=\"1\" class=\"dataframe\">\n",
       "  <thead>\n",
       "    <tr style=\"text-align: right;\">\n",
       "      <th></th>\n",
       "      <th>avg_position</th>\n",
       "    </tr>\n",
       "  </thead>\n",
       "  <tbody>\n",
       "    <tr>\n",
       "      <th>122662</th>\n",
       "      <td>6.727273</td>\n",
       "    </tr>\n",
       "    <tr>\n",
       "      <th>58066</th>\n",
       "      <td>4.166667</td>\n",
       "    </tr>\n",
       "    <tr>\n",
       "      <th>94743</th>\n",
       "      <td>NaN</td>\n",
       "    </tr>\n",
       "    <tr>\n",
       "      <th>34725</th>\n",
       "      <td>NaN</td>\n",
       "    </tr>\n",
       "    <tr>\n",
       "      <th>82860</th>\n",
       "      <td>7.000000</td>\n",
       "    </tr>\n",
       "  </tbody>\n",
       "</table>\n",
       "</div>"
      ],
      "text/plain": [
       "        avg_position\n",
       "122662      6.727273\n",
       "58066       4.166667\n",
       "94743            NaN\n",
       "34725            NaN\n",
       "82860       7.000000"
      ]
     },
     "execution_count": 69,
     "metadata": {},
     "output_type": "execute_result"
    }
   ],
   "source": [
    "rename_cols = {\n",
    "    0: 'avg_position',\n",
    "}\n",
    "\n",
    "df_avg_position = pd.DataFrame.from_dict(horse_idx_to_avg_position, orient='index').rename(columns=rename_cols)\n",
    "df_avg_position.sample(5)"
   ]
  },
  {
   "cell_type": "code",
   "execution_count": 70,
   "id": "33944511",
   "metadata": {},
   "outputs": [
    {
     "data": {
      "text/html": [
       "<div>\n",
       "<style scoped>\n",
       "    .dataframe tbody tr th:only-of-type {\n",
       "        vertical-align: middle;\n",
       "    }\n",
       "\n",
       "    .dataframe tbody tr th {\n",
       "        vertical-align: top;\n",
       "    }\n",
       "\n",
       "    .dataframe thead th {\n",
       "        text-align: right;\n",
       "    }\n",
       "</style>\n",
       "<table border=\"1\" class=\"dataframe\">\n",
       "  <thead>\n",
       "    <tr style=\"text-align: right;\">\n",
       "      <th></th>\n",
       "      <th>prev_position</th>\n",
       "    </tr>\n",
       "  </thead>\n",
       "  <tbody>\n",
       "    <tr>\n",
       "      <th>32493</th>\n",
       "      <td>NaN</td>\n",
       "    </tr>\n",
       "    <tr>\n",
       "      <th>183892</th>\n",
       "      <td>NaN</td>\n",
       "    </tr>\n",
       "    <tr>\n",
       "      <th>100099</th>\n",
       "      <td>5.0</td>\n",
       "    </tr>\n",
       "    <tr>\n",
       "      <th>98666</th>\n",
       "      <td>1.0</td>\n",
       "    </tr>\n",
       "    <tr>\n",
       "      <th>86535</th>\n",
       "      <td>6.0</td>\n",
       "    </tr>\n",
       "  </tbody>\n",
       "</table>\n",
       "</div>"
      ],
      "text/plain": [
       "        prev_position\n",
       "32493             NaN\n",
       "183892            NaN\n",
       "100099            5.0\n",
       "98666             1.0\n",
       "86535             6.0"
      ]
     },
     "execution_count": 70,
     "metadata": {},
     "output_type": "execute_result"
    }
   ],
   "source": [
    "rename_cols = {\n",
    "    0: 'prev_position',\n",
    "}\n",
    "\n",
    "df_prev_position = pd.DataFrame.from_dict(horse_idx_to_prev_position, orient='index').rename(columns=rename_cols)\n",
    "df_prev_position.sample(5)"
   ]
  },
  {
   "cell_type": "code",
   "execution_count": 71,
   "id": "a5bcce27",
   "metadata": {},
   "outputs": [
    {
     "data": {
      "text/html": [
       "<div>\n",
       "<style scoped>\n",
       "    .dataframe tbody tr th:only-of-type {\n",
       "        vertical-align: middle;\n",
       "    }\n",
       "\n",
       "    .dataframe tbody tr th {\n",
       "        vertical-align: top;\n",
       "    }\n",
       "\n",
       "    .dataframe thead th {\n",
       "        text-align: right;\n",
       "    }\n",
       "</style>\n",
       "<table border=\"1\" class=\"dataframe\">\n",
       "  <thead>\n",
       "    <tr style=\"text-align: right;\">\n",
       "      <th></th>\n",
       "      <th>jockey_avg_speed</th>\n",
       "    </tr>\n",
       "  </thead>\n",
       "  <tbody>\n",
       "    <tr>\n",
       "      <th>26969</th>\n",
       "      <td>15.313280</td>\n",
       "    </tr>\n",
       "    <tr>\n",
       "      <th>28204</th>\n",
       "      <td>15.203332</td>\n",
       "    </tr>\n",
       "    <tr>\n",
       "      <th>185001</th>\n",
       "      <td>12.885763</td>\n",
       "    </tr>\n",
       "    <tr>\n",
       "      <th>133907</th>\n",
       "      <td>13.497192</td>\n",
       "    </tr>\n",
       "    <tr>\n",
       "      <th>129139</th>\n",
       "      <td>15.371341</td>\n",
       "    </tr>\n",
       "  </tbody>\n",
       "</table>\n",
       "</div>"
      ],
      "text/plain": [
       "        jockey_avg_speed\n",
       "26969          15.313280\n",
       "28204          15.203332\n",
       "185001         12.885763\n",
       "133907         13.497192\n",
       "129139         15.371341"
      ]
     },
     "execution_count": 71,
     "metadata": {},
     "output_type": "execute_result"
    }
   ],
   "source": [
    "rename_cols = {\n",
    "    0: 'jockey_avg_speed',\n",
    "}\n",
    "\n",
    "df_jockey_avg_speed = pd.DataFrame.from_dict(horse_to_jockey_avg_speed, orient='index').rename(columns=rename_cols)\n",
    "df_jockey_avg_speed.sample(5)"
   ]
  },
  {
   "cell_type": "code",
   "execution_count": 72,
   "id": "ecfde257",
   "metadata": {},
   "outputs": [
    {
     "data": {
      "text/html": [
       "<div>\n",
       "<style scoped>\n",
       "    .dataframe tbody tr th:only-of-type {\n",
       "        vertical-align: middle;\n",
       "    }\n",
       "\n",
       "    .dataframe tbody tr th {\n",
       "        vertical-align: top;\n",
       "    }\n",
       "\n",
       "    .dataframe thead th {\n",
       "        text-align: right;\n",
       "    }\n",
       "</style>\n",
       "<table border=\"1\" class=\"dataframe\">\n",
       "  <thead>\n",
       "    <tr style=\"text-align: right;\">\n",
       "      <th></th>\n",
       "      <th>jockey_avg_position</th>\n",
       "    </tr>\n",
       "  </thead>\n",
       "  <tbody>\n",
       "    <tr>\n",
       "      <th>164461</th>\n",
       "      <td>8.886364</td>\n",
       "    </tr>\n",
       "    <tr>\n",
       "      <th>34636</th>\n",
       "      <td>5.533088</td>\n",
       "    </tr>\n",
       "    <tr>\n",
       "      <th>116971</th>\n",
       "      <td>6.004912</td>\n",
       "    </tr>\n",
       "    <tr>\n",
       "      <th>31728</th>\n",
       "      <td>7.348723</td>\n",
       "    </tr>\n",
       "    <tr>\n",
       "      <th>17300</th>\n",
       "      <td>6.108085</td>\n",
       "    </tr>\n",
       "  </tbody>\n",
       "</table>\n",
       "</div>"
      ],
      "text/plain": [
       "        jockey_avg_position\n",
       "164461             8.886364\n",
       "34636              5.533088\n",
       "116971             6.004912\n",
       "31728              7.348723\n",
       "17300              6.108085"
      ]
     },
     "execution_count": 72,
     "metadata": {},
     "output_type": "execute_result"
    }
   ],
   "source": [
    "rename_cols = {\n",
    "    0: 'jockey_avg_position',\n",
    "}\n",
    "\n",
    "df_jockey_avg_position = pd.DataFrame.from_dict(horse_to_jockey_avg_position, orient='index').rename(columns=rename_cols)\n",
    "df_jockey_avg_position.sample(5)"
   ]
  },
  {
   "cell_type": "code",
   "execution_count": 73,
   "id": "82808131",
   "metadata": {},
   "outputs": [
    {
     "data": {
      "text/html": [
       "<div>\n",
       "<style scoped>\n",
       "    .dataframe tbody tr th:only-of-type {\n",
       "        vertical-align: middle;\n",
       "    }\n",
       "\n",
       "    .dataframe tbody tr th {\n",
       "        vertical-align: top;\n",
       "    }\n",
       "\n",
       "    .dataframe thead th {\n",
       "        text-align: right;\n",
       "    }\n",
       "</style>\n",
       "<table border=\"1\" class=\"dataframe\">\n",
       "  <thead>\n",
       "    <tr style=\"text-align: right;\">\n",
       "      <th></th>\n",
       "      <th>jockey_prev_speed</th>\n",
       "    </tr>\n",
       "  </thead>\n",
       "  <tbody>\n",
       "    <tr>\n",
       "      <th>31251</th>\n",
       "      <td>12.846611</td>\n",
       "    </tr>\n",
       "    <tr>\n",
       "      <th>44835</th>\n",
       "      <td>15.643399</td>\n",
       "    </tr>\n",
       "    <tr>\n",
       "      <th>134891</th>\n",
       "      <td>16.841051</td>\n",
       "    </tr>\n",
       "    <tr>\n",
       "      <th>31783</th>\n",
       "      <td>16.528347</td>\n",
       "    </tr>\n",
       "    <tr>\n",
       "      <th>71711</th>\n",
       "      <td>17.044341</td>\n",
       "    </tr>\n",
       "  </tbody>\n",
       "</table>\n",
       "</div>"
      ],
      "text/plain": [
       "        jockey_prev_speed\n",
       "31251           12.846611\n",
       "44835           15.643399\n",
       "134891          16.841051\n",
       "31783           16.528347\n",
       "71711           17.044341"
      ]
     },
     "execution_count": 73,
     "metadata": {},
     "output_type": "execute_result"
    }
   ],
   "source": [
    "rename_cols = {\n",
    "    0: 'jockey_prev_speed',\n",
    "}\n",
    "\n",
    "df_jockey_prev_speed = pd.DataFrame.from_dict(horse_to_jockey_prev_speed, orient='index').rename(columns=rename_cols)\n",
    "df_jockey_prev_speed.sample(5)"
   ]
  },
  {
   "cell_type": "code",
   "execution_count": 74,
   "id": "62280dbc",
   "metadata": {},
   "outputs": [
    {
     "data": {
      "text/html": [
       "<div>\n",
       "<style scoped>\n",
       "    .dataframe tbody tr th:only-of-type {\n",
       "        vertical-align: middle;\n",
       "    }\n",
       "\n",
       "    .dataframe tbody tr th {\n",
       "        vertical-align: top;\n",
       "    }\n",
       "\n",
       "    .dataframe thead th {\n",
       "        text-align: right;\n",
       "    }\n",
       "</style>\n",
       "<table border=\"1\" class=\"dataframe\">\n",
       "  <thead>\n",
       "    <tr style=\"text-align: right;\">\n",
       "      <th></th>\n",
       "      <th>jockey_prev_position</th>\n",
       "    </tr>\n",
       "  </thead>\n",
       "  <tbody>\n",
       "    <tr>\n",
       "      <th>118198</th>\n",
       "      <td>5.0</td>\n",
       "    </tr>\n",
       "    <tr>\n",
       "      <th>169548</th>\n",
       "      <td>11.0</td>\n",
       "    </tr>\n",
       "    <tr>\n",
       "      <th>20925</th>\n",
       "      <td>6.0</td>\n",
       "    </tr>\n",
       "    <tr>\n",
       "      <th>94224</th>\n",
       "      <td>8.0</td>\n",
       "    </tr>\n",
       "    <tr>\n",
       "      <th>181896</th>\n",
       "      <td>2.0</td>\n",
       "    </tr>\n",
       "  </tbody>\n",
       "</table>\n",
       "</div>"
      ],
      "text/plain": [
       "        jockey_prev_position\n",
       "118198                   5.0\n",
       "169548                  11.0\n",
       "20925                    6.0\n",
       "94224                    8.0\n",
       "181896                   2.0"
      ]
     },
     "execution_count": 74,
     "metadata": {},
     "output_type": "execute_result"
    }
   ],
   "source": [
    "rename_cols = {\n",
    "    0: 'jockey_prev_position',\n",
    "}\n",
    "\n",
    "df_jockey_prev_position = pd.DataFrame.from_dict(horse_to_jockey_prev_position, orient='index').rename(columns=rename_cols)\n",
    "df_jockey_prev_position.sample(5)"
   ]
  },
  {
   "cell_type": "code",
   "execution_count": 81,
   "id": "a321c44a",
   "metadata": {},
   "outputs": [],
   "source": [
    "horses_featurized_v2 = horses_featurized_v2.join(df_avg_position) \\\n",
    "                                           .join(df_prev_position) \\\n",
    "                                           .join(df_jockey_avg_speed) \\\n",
    "                                           .join(df_jockey_avg_position) \\\n",
    "                                           .join(df_jockey_prev_speed) \\\n",
    "                                           .join(df_jockey_prev_position)"
   ]
  },
  {
   "cell_type": "code",
   "execution_count": 82,
   "id": "a33ee276",
   "metadata": {},
   "outputs": [
    {
     "data": {
      "text/html": [
       "<div>\n",
       "<style scoped>\n",
       "    .dataframe tbody tr th:only-of-type {\n",
       "        vertical-align: middle;\n",
       "    }\n",
       "\n",
       "    .dataframe tbody tr th {\n",
       "        vertical-align: top;\n",
       "    }\n",
       "\n",
       "    .dataframe thead th {\n",
       "        text-align: right;\n",
       "    }\n",
       "</style>\n",
       "<table border=\"1\" class=\"dataframe\">\n",
       "  <thead>\n",
       "    <tr style=\"text-align: right;\">\n",
       "      <th></th>\n",
       "      <th>rid</th>\n",
       "      <th>horseName</th>\n",
       "      <th>age</th>\n",
       "      <th>saddle</th>\n",
       "      <th>decimalPrice</th>\n",
       "      <th>trainerName</th>\n",
       "      <th>jockeyName</th>\n",
       "      <th>position</th>\n",
       "      <th>outHandicap</th>\n",
       "      <th>RPR</th>\n",
       "      <th>...</th>\n",
       "      <th>father_avg_speed</th>\n",
       "      <th>mother_avg_speed</th>\n",
       "      <th>trainer_avg_speed</th>\n",
       "      <th>trainer_avg_position</th>\n",
       "      <th>avg_position</th>\n",
       "      <th>prev_position</th>\n",
       "      <th>jockey_avg_speed</th>\n",
       "      <th>jockey_avg_position</th>\n",
       "      <th>jockey_prev_speed</th>\n",
       "      <th>jockey_prev_position</th>\n",
       "    </tr>\n",
       "  </thead>\n",
       "  <tbody>\n",
       "    <tr>\n",
       "      <th>159304</th>\n",
       "      <td>22697</td>\n",
       "      <td>Tuff Love</td>\n",
       "      <td>3.0</td>\n",
       "      <td>3.0</td>\n",
       "      <td>0.125000</td>\n",
       "      <td>G M Lyons</td>\n",
       "      <td>Gary Carroll</td>\n",
       "      <td>7</td>\n",
       "      <td>0.0</td>\n",
       "      <td>52.0</td>\n",
       "      <td>...</td>\n",
       "      <td>15.947670</td>\n",
       "      <td>NaN</td>\n",
       "      <td>15.684794</td>\n",
       "      <td>4.967614</td>\n",
       "      <td>2.666667</td>\n",
       "      <td>4.0</td>\n",
       "      <td>15.506673</td>\n",
       "      <td>6.163306</td>\n",
       "      <td>15.372178</td>\n",
       "      <td>7.0</td>\n",
       "    </tr>\n",
       "    <tr>\n",
       "      <th>193916</th>\n",
       "      <td>357901</td>\n",
       "      <td>Welsh Wind</td>\n",
       "      <td>3.0</td>\n",
       "      <td>7.0</td>\n",
       "      <td>0.076923</td>\n",
       "      <td>D Hanley</td>\n",
       "      <td>P J Scallan</td>\n",
       "      <td>7</td>\n",
       "      <td>0.0</td>\n",
       "      <td>92.0</td>\n",
       "      <td>...</td>\n",
       "      <td>NaN</td>\n",
       "      <td>NaN</td>\n",
       "      <td>15.071624</td>\n",
       "      <td>5.084211</td>\n",
       "      <td>3.400000</td>\n",
       "      <td>3.0</td>\n",
       "      <td>14.906481</td>\n",
       "      <td>5.152381</td>\n",
       "      <td>14.995340</td>\n",
       "      <td>1.0</td>\n",
       "    </tr>\n",
       "    <tr>\n",
       "      <th>81755</th>\n",
       "      <td>303</td>\n",
       "      <td>Crofton Trail</td>\n",
       "      <td>4.0</td>\n",
       "      <td>6.0</td>\n",
       "      <td>0.266667</td>\n",
       "      <td>Mrs D A Love</td>\n",
       "      <td>Mr S Crawford</td>\n",
       "      <td>4</td>\n",
       "      <td>0.0</td>\n",
       "      <td>61.0</td>\n",
       "      <td>...</td>\n",
       "      <td>NaN</td>\n",
       "      <td>NaN</td>\n",
       "      <td>13.226141</td>\n",
       "      <td>6.775000</td>\n",
       "      <td>NaN</td>\n",
       "      <td>NaN</td>\n",
       "      <td>14.106637</td>\n",
       "      <td>6.823009</td>\n",
       "      <td>13.100245</td>\n",
       "      <td>5.0</td>\n",
       "    </tr>\n",
       "    <tr>\n",
       "      <th>1211</th>\n",
       "      <td>86801</td>\n",
       "      <td>Boatrace</td>\n",
       "      <td>3.0</td>\n",
       "      <td>4.0</td>\n",
       "      <td>0.083333</td>\n",
       "      <td>Daniel Miley</td>\n",
       "      <td>Gary Carroll</td>\n",
       "      <td>4</td>\n",
       "      <td>0.0</td>\n",
       "      <td>49.0</td>\n",
       "      <td>...</td>\n",
       "      <td>NaN</td>\n",
       "      <td>NaN</td>\n",
       "      <td>14.708260</td>\n",
       "      <td>8.102564</td>\n",
       "      <td>13.000000</td>\n",
       "      <td>13.0</td>\n",
       "      <td>15.500025</td>\n",
       "      <td>6.154573</td>\n",
       "      <td>16.396690</td>\n",
       "      <td>1.0</td>\n",
       "    </tr>\n",
       "    <tr>\n",
       "      <th>44489</th>\n",
       "      <td>406717</td>\n",
       "      <td>Crashdaparty</td>\n",
       "      <td>3.0</td>\n",
       "      <td>4.0</td>\n",
       "      <td>0.012346</td>\n",
       "      <td>D K Weld</td>\n",
       "      <td>Andrew Slattery</td>\n",
       "      <td>10</td>\n",
       "      <td>0.0</td>\n",
       "      <td>22.0</td>\n",
       "      <td>...</td>\n",
       "      <td>NaN</td>\n",
       "      <td>NaN</td>\n",
       "      <td>15.226054</td>\n",
       "      <td>4.734288</td>\n",
       "      <td>9.500000</td>\n",
       "      <td>7.0</td>\n",
       "      <td>15.570600</td>\n",
       "      <td>6.558824</td>\n",
       "      <td>15.824581</td>\n",
       "      <td>5.0</td>\n",
       "    </tr>\n",
       "    <tr>\n",
       "      <th>106599</th>\n",
       "      <td>350029</td>\n",
       "      <td>Sweetest Of Peas</td>\n",
       "      <td>3.0</td>\n",
       "      <td>12.0</td>\n",
       "      <td>0.090909</td>\n",
       "      <td>David Wachman</td>\n",
       "      <td>Johnny Murtagh</td>\n",
       "      <td>6</td>\n",
       "      <td>0.0</td>\n",
       "      <td>54.0</td>\n",
       "      <td>...</td>\n",
       "      <td>NaN</td>\n",
       "      <td>14.956493</td>\n",
       "      <td>15.363175</td>\n",
       "      <td>5.432824</td>\n",
       "      <td>NaN</td>\n",
       "      <td>NaN</td>\n",
       "      <td>15.482456</td>\n",
       "      <td>4.159776</td>\n",
       "      <td>14.946389</td>\n",
       "      <td>3.0</td>\n",
       "    </tr>\n",
       "    <tr>\n",
       "      <th>173432</th>\n",
       "      <td>258135</td>\n",
       "      <td>Arctic Force</td>\n",
       "      <td>5.0</td>\n",
       "      <td>3.0</td>\n",
       "      <td>0.333333</td>\n",
       "      <td>Paul A Roche</td>\n",
       "      <td>Mr D Roche</td>\n",
       "      <td>1</td>\n",
       "      <td>0.0</td>\n",
       "      <td>98.0</td>\n",
       "      <td>...</td>\n",
       "      <td>NaN</td>\n",
       "      <td>NaN</td>\n",
       "      <td>14.101230</td>\n",
       "      <td>5.642857</td>\n",
       "      <td>NaN</td>\n",
       "      <td>NaN</td>\n",
       "      <td>13.192602</td>\n",
       "      <td>4.368421</td>\n",
       "      <td>13.919187</td>\n",
       "      <td>9.0</td>\n",
       "    </tr>\n",
       "    <tr>\n",
       "      <th>173245</th>\n",
       "      <td>345569</td>\n",
       "      <td>Roisin's Star</td>\n",
       "      <td>2.0</td>\n",
       "      <td>12.0</td>\n",
       "      <td>0.090909</td>\n",
       "      <td>G M Lyons</td>\n",
       "      <td>Pat Cosgrave</td>\n",
       "      <td>3</td>\n",
       "      <td>0.0</td>\n",
       "      <td>72.0</td>\n",
       "      <td>...</td>\n",
       "      <td>NaN</td>\n",
       "      <td>NaN</td>\n",
       "      <td>15.062772</td>\n",
       "      <td>6.498328</td>\n",
       "      <td>9.000000</td>\n",
       "      <td>9.0</td>\n",
       "      <td>15.039002</td>\n",
       "      <td>6.352941</td>\n",
       "      <td>14.623610</td>\n",
       "      <td>1.0</td>\n",
       "    </tr>\n",
       "    <tr>\n",
       "      <th>41988</th>\n",
       "      <td>402850</td>\n",
       "      <td>Duncannon Power</td>\n",
       "      <td>3.0</td>\n",
       "      <td>12.0</td>\n",
       "      <td>0.047619</td>\n",
       "      <td>Joseph Patrick O'Brien</td>\n",
       "      <td>Mikey Sheehy</td>\n",
       "      <td>13</td>\n",
       "      <td>0.0</td>\n",
       "      <td>34.0</td>\n",
       "      <td>...</td>\n",
       "      <td>15.145318</td>\n",
       "      <td>NaN</td>\n",
       "      <td>15.283014</td>\n",
       "      <td>5.168950</td>\n",
       "      <td>NaN</td>\n",
       "      <td>NaN</td>\n",
       "      <td>15.583936</td>\n",
       "      <td>5.878049</td>\n",
       "      <td>15.460287</td>\n",
       "      <td>8.0</td>\n",
       "    </tr>\n",
       "    <tr>\n",
       "      <th>176599</th>\n",
       "      <td>158513</td>\n",
       "      <td>Flowerhill Nova</td>\n",
       "      <td>3.0</td>\n",
       "      <td>6.0</td>\n",
       "      <td>0.090909</td>\n",
       "      <td>Andrew Slattery</td>\n",
       "      <td>Declan McDonogh</td>\n",
       "      <td>6</td>\n",
       "      <td>0.0</td>\n",
       "      <td>69.0</td>\n",
       "      <td>...</td>\n",
       "      <td>NaN</td>\n",
       "      <td>NaN</td>\n",
       "      <td>15.230608</td>\n",
       "      <td>6.810870</td>\n",
       "      <td>5.000000</td>\n",
       "      <td>5.0</td>\n",
       "      <td>15.385195</td>\n",
       "      <td>5.525289</td>\n",
       "      <td>13.982249</td>\n",
       "      <td>3.0</td>\n",
       "    </tr>\n",
       "  </tbody>\n",
       "</table>\n",
       "<p>10 rows × 28 columns</p>\n",
       "</div>"
      ],
      "text/plain": [
       "           rid         horseName  age  saddle  decimalPrice  \\\n",
       "159304   22697         Tuff Love  3.0     3.0      0.125000   \n",
       "193916  357901        Welsh Wind  3.0     7.0      0.076923   \n",
       "81755      303     Crofton Trail  4.0     6.0      0.266667   \n",
       "1211     86801          Boatrace  3.0     4.0      0.083333   \n",
       "44489   406717      Crashdaparty  3.0     4.0      0.012346   \n",
       "106599  350029  Sweetest Of Peas  3.0    12.0      0.090909   \n",
       "173432  258135      Arctic Force  5.0     3.0      0.333333   \n",
       "173245  345569     Roisin's Star  2.0    12.0      0.090909   \n",
       "41988   402850   Duncannon Power  3.0    12.0      0.047619   \n",
       "176599  158513   Flowerhill Nova  3.0     6.0      0.090909   \n",
       "\n",
       "                   trainerName       jockeyName  position  outHandicap   RPR  \\\n",
       "159304               G M Lyons     Gary Carroll         7          0.0  52.0   \n",
       "193916                D Hanley      P J Scallan         7          0.0  92.0   \n",
       "81755             Mrs D A Love    Mr S Crawford         4          0.0  61.0   \n",
       "1211              Daniel Miley     Gary Carroll         4          0.0  49.0   \n",
       "44489                 D K Weld  Andrew Slattery        10          0.0  22.0   \n",
       "106599           David Wachman   Johnny Murtagh         6          0.0  54.0   \n",
       "173432            Paul A Roche       Mr D Roche         1          0.0  98.0   \n",
       "173245               G M Lyons     Pat Cosgrave         3          0.0  72.0   \n",
       "41988   Joseph Patrick O'Brien     Mikey Sheehy        13          0.0  34.0   \n",
       "176599         Andrew Slattery  Declan McDonogh         6          0.0  69.0   \n",
       "\n",
       "        ...  father_avg_speed  mother_avg_speed trainer_avg_speed  \\\n",
       "159304  ...         15.947670               NaN         15.684794   \n",
       "193916  ...               NaN               NaN         15.071624   \n",
       "81755   ...               NaN               NaN         13.226141   \n",
       "1211    ...               NaN               NaN         14.708260   \n",
       "44489   ...               NaN               NaN         15.226054   \n",
       "106599  ...               NaN         14.956493         15.363175   \n",
       "173432  ...               NaN               NaN         14.101230   \n",
       "173245  ...               NaN               NaN         15.062772   \n",
       "41988   ...         15.145318               NaN         15.283014   \n",
       "176599  ...               NaN               NaN         15.230608   \n",
       "\n",
       "       trainer_avg_position  avg_position  prev_position  jockey_avg_speed  \\\n",
       "159304             4.967614      2.666667            4.0         15.506673   \n",
       "193916             5.084211      3.400000            3.0         14.906481   \n",
       "81755              6.775000           NaN            NaN         14.106637   \n",
       "1211               8.102564     13.000000           13.0         15.500025   \n",
       "44489              4.734288      9.500000            7.0         15.570600   \n",
       "106599             5.432824           NaN            NaN         15.482456   \n",
       "173432             5.642857           NaN            NaN         13.192602   \n",
       "173245             6.498328      9.000000            9.0         15.039002   \n",
       "41988              5.168950           NaN            NaN         15.583936   \n",
       "176599             6.810870      5.000000            5.0         15.385195   \n",
       "\n",
       "        jockey_avg_position  jockey_prev_speed  jockey_prev_position  \n",
       "159304             6.163306          15.372178                   7.0  \n",
       "193916             5.152381          14.995340                   1.0  \n",
       "81755              6.823009          13.100245                   5.0  \n",
       "1211               6.154573          16.396690                   1.0  \n",
       "44489              6.558824          15.824581                   5.0  \n",
       "106599             4.159776          14.946389                   3.0  \n",
       "173432             4.368421          13.919187                   9.0  \n",
       "173245             6.352941          14.623610                   1.0  \n",
       "41988              5.878049          15.460287                   8.0  \n",
       "176599             5.525289          13.982249                   3.0  \n",
       "\n",
       "[10 rows x 28 columns]"
      ]
     },
     "execution_count": 82,
     "metadata": {},
     "output_type": "execute_result"
    }
   ],
   "source": [
    "horses_featurized_v2.sample(10)"
   ]
  },
  {
   "cell_type": "code",
   "execution_count": 83,
   "id": "b1675f2c",
   "metadata": {},
   "outputs": [
    {
     "data": {
      "text/plain": [
       "(194573, 28)"
      ]
     },
     "execution_count": 83,
     "metadata": {},
     "output_type": "execute_result"
    }
   ],
   "source": [
    "horses_featurized_v2.shape"
   ]
  },
  {
   "cell_type": "markdown",
   "id": "a5dfab01",
   "metadata": {},
   "source": [
    "---"
   ]
  },
  {
   "cell_type": "markdown",
   "id": "d24d392f",
   "metadata": {},
   "source": [
    "## Save Dataframes"
   ]
  },
  {
   "cell_type": "code",
   "execution_count": 84,
   "id": "ac4f1d90",
   "metadata": {},
   "outputs": [],
   "source": [
    "horses_featurized_v2.to_csv(f\"{BASE_DIR}/data/csv/horses_featurized_v2.csv\", index=False)"
   ]
  },
  {
   "cell_type": "markdown",
   "id": "33dc3f79",
   "metadata": {},
   "source": [
    "---"
   ]
  }
 ],
 "metadata": {
  "kernelspec": {
   "display_name": "Python 3 (ipykernel)",
   "language": "python",
   "name": "python3"
  },
  "language_info": {
   "codemirror_mode": {
    "name": "ipython",
    "version": 3
   },
   "file_extension": ".py",
   "mimetype": "text/x-python",
   "name": "python",
   "nbconvert_exporter": "python",
   "pygments_lexer": "ipython3",
   "version": "3.9.6"
  }
 },
 "nbformat": 4,
 "nbformat_minor": 5
}
