{
 "cells": [
  {
   "cell_type": "markdown",
   "id": "dc5f8793",
   "metadata": {},
   "source": [
    "# `featurize_horses.ipynb`"
   ]
  },
  {
   "cell_type": "markdown",
   "id": "6d76b29a",
   "metadata": {},
   "source": [
    "### Author: Anthony Hein"
   ]
  },
  {
   "cell_type": "markdown",
   "id": "8a72b287",
   "metadata": {},
   "source": [
    "#### Last updated: 10/19/2021"
   ]
  },
  {
   "cell_type": "markdown",
   "id": "a0ebf4a0",
   "metadata": {},
   "source": [
    "# Overview:\n",
    "\n",
    "We can finally featurize the horse dataset. This is primarily adding fields like average time, best time, average time of parent, average time of grandparent, etc. We also want to include fields like average time with weather."
   ]
  },
  {
   "cell_type": "markdown",
   "id": "6f46b926",
   "metadata": {},
   "source": [
    "---"
   ]
  },
  {
   "cell_type": "markdown",
   "id": "066b637c",
   "metadata": {},
   "source": [
    "## Setup"
   ]
  },
  {
   "cell_type": "code",
   "execution_count": 1,
   "id": "3de4d07c",
   "metadata": {},
   "outputs": [],
   "source": [
    "from datetime import datetime\n",
    "import git\n",
    "import os\n",
    "import re\n",
    "from typing import List\n",
    "from tqdm import tqdm\n",
    "import pandas as pd\n",
    "import numpy as np\n",
    "import matplotlib.pyplot as plt\n",
    "%matplotlib inline"
   ]
  },
  {
   "cell_type": "code",
   "execution_count": 2,
   "id": "05a06de6",
   "metadata": {},
   "outputs": [
    {
     "data": {
      "text/plain": [
       "'/Users/anthonyhein/Desktop/SML310/project'"
      ]
     },
     "execution_count": 2,
     "metadata": {},
     "output_type": "execute_result"
    }
   ],
   "source": [
    "BASE_DIR = git.Repo(os.getcwd(), search_parent_directories=True).working_dir\n",
    "BASE_DIR"
   ]
  },
  {
   "cell_type": "markdown",
   "id": "19d6a59d",
   "metadata": {},
   "source": [
    "---"
   ]
  },
  {
   "cell_type": "markdown",
   "id": "062db87f",
   "metadata": {},
   "source": [
    "## Load `horses_augment_times.csv`"
   ]
  },
  {
   "cell_type": "code",
   "execution_count": 3,
   "id": "7bb383e5",
   "metadata": {},
   "outputs": [
    {
     "data": {
      "text/html": [
       "<div>\n",
       "<style scoped>\n",
       "    .dataframe tbody tr th:only-of-type {\n",
       "        vertical-align: middle;\n",
       "    }\n",
       "\n",
       "    .dataframe tbody tr th {\n",
       "        vertical-align: top;\n",
       "    }\n",
       "\n",
       "    .dataframe thead th {\n",
       "        text-align: right;\n",
       "    }\n",
       "</style>\n",
       "<table border=\"1\" class=\"dataframe\">\n",
       "  <thead>\n",
       "    <tr style=\"text-align: right;\">\n",
       "      <th></th>\n",
       "      <th>rid</th>\n",
       "      <th>horseName</th>\n",
       "      <th>age</th>\n",
       "      <th>saddle</th>\n",
       "      <th>decimalPrice</th>\n",
       "      <th>trainerName</th>\n",
       "      <th>jockeyName</th>\n",
       "      <th>position</th>\n",
       "      <th>outHandicap</th>\n",
       "      <th>RPR</th>\n",
       "      <th>TR</th>\n",
       "      <th>OR</th>\n",
       "      <th>father</th>\n",
       "      <th>mother</th>\n",
       "      <th>gfather</th>\n",
       "      <th>weight</th>\n",
       "      <th>time</th>\n",
       "    </tr>\n",
       "  </thead>\n",
       "  <tbody>\n",
       "    <tr>\n",
       "      <th>0</th>\n",
       "      <td>302858</td>\n",
       "      <td>Kings Return</td>\n",
       "      <td>6.0</td>\n",
       "      <td>4.0</td>\n",
       "      <td>0.600000</td>\n",
       "      <td>W P Mullins</td>\n",
       "      <td>D J Casey</td>\n",
       "      <td>1</td>\n",
       "      <td>0.0</td>\n",
       "      <td>102.00000</td>\n",
       "      <td>51.591987</td>\n",
       "      <td>79.654604</td>\n",
       "      <td>King's Ride</td>\n",
       "      <td>Browne's Return</td>\n",
       "      <td>Deep Run</td>\n",
       "      <td>73</td>\n",
       "      <td>277.200000</td>\n",
       "    </tr>\n",
       "    <tr>\n",
       "      <th>1</th>\n",
       "      <td>302858</td>\n",
       "      <td>Majestic Red I</td>\n",
       "      <td>6.0</td>\n",
       "      <td>5.0</td>\n",
       "      <td>0.047619</td>\n",
       "      <td>John Hackett</td>\n",
       "      <td>Conor O'Dwyer</td>\n",
       "      <td>2</td>\n",
       "      <td>0.0</td>\n",
       "      <td>94.00000</td>\n",
       "      <td>51.591987</td>\n",
       "      <td>79.654604</td>\n",
       "      <td>Long Pond</td>\n",
       "      <td>Courtlough Lady</td>\n",
       "      <td>Giolla Mear</td>\n",
       "      <td>73</td>\n",
       "      <td>278.679948</td>\n",
       "    </tr>\n",
       "    <tr>\n",
       "      <th>2</th>\n",
       "      <td>302858</td>\n",
       "      <td>Clearly Canadian</td>\n",
       "      <td>6.0</td>\n",
       "      <td>2.0</td>\n",
       "      <td>0.166667</td>\n",
       "      <td>D T Hughes</td>\n",
       "      <td>G Cotter</td>\n",
       "      <td>3</td>\n",
       "      <td>0.0</td>\n",
       "      <td>92.00000</td>\n",
       "      <td>51.591987</td>\n",
       "      <td>79.654604</td>\n",
       "      <td>Nordico</td>\n",
       "      <td>Over The Seas</td>\n",
       "      <td>North Summit</td>\n",
       "      <td>71</td>\n",
       "      <td>278.957438</td>\n",
       "    </tr>\n",
       "    <tr>\n",
       "      <th>3</th>\n",
       "      <td>302858</td>\n",
       "      <td>Bernestic Wonder</td>\n",
       "      <td>8.0</td>\n",
       "      <td>1.0</td>\n",
       "      <td>0.058824</td>\n",
       "      <td>E McNamara</td>\n",
       "      <td>J Old Jones</td>\n",
       "      <td>4</td>\n",
       "      <td>0.0</td>\n",
       "      <td>71.87665</td>\n",
       "      <td>51.591987</td>\n",
       "      <td>79.654604</td>\n",
       "      <td>Roselier</td>\n",
       "      <td>Miss Reindeer</td>\n",
       "      <td>Reindeer</td>\n",
       "      <td>73</td>\n",
       "      <td>284.507242</td>\n",
       "    </tr>\n",
       "    <tr>\n",
       "      <th>4</th>\n",
       "      <td>302858</td>\n",
       "      <td>Beauty's Pride</td>\n",
       "      <td>5.0</td>\n",
       "      <td>6.0</td>\n",
       "      <td>0.038462</td>\n",
       "      <td>J J Lennon</td>\n",
       "      <td>T Martin</td>\n",
       "      <td>5</td>\n",
       "      <td>0.0</td>\n",
       "      <td>71.87665</td>\n",
       "      <td>51.591987</td>\n",
       "      <td>79.654604</td>\n",
       "      <td>Noalto</td>\n",
       "      <td>Elena's Beauty</td>\n",
       "      <td>Tarqogan</td>\n",
       "      <td>66</td>\n",
       "      <td>290.057045</td>\n",
       "    </tr>\n",
       "  </tbody>\n",
       "</table>\n",
       "</div>"
      ],
      "text/plain": [
       "      rid         horseName  age  saddle  decimalPrice   trainerName  \\\n",
       "0  302858      Kings Return  6.0     4.0      0.600000   W P Mullins   \n",
       "1  302858    Majestic Red I  6.0     5.0      0.047619  John Hackett   \n",
       "2  302858  Clearly Canadian  6.0     2.0      0.166667    D T Hughes   \n",
       "3  302858  Bernestic Wonder  8.0     1.0      0.058824    E McNamara   \n",
       "4  302858    Beauty's Pride  5.0     6.0      0.038462    J J Lennon   \n",
       "\n",
       "      jockeyName  position  outHandicap        RPR         TR         OR  \\\n",
       "0      D J Casey         1          0.0  102.00000  51.591987  79.654604   \n",
       "1  Conor O'Dwyer         2          0.0   94.00000  51.591987  79.654604   \n",
       "2       G Cotter         3          0.0   92.00000  51.591987  79.654604   \n",
       "3    J Old Jones         4          0.0   71.87665  51.591987  79.654604   \n",
       "4       T Martin         5          0.0   71.87665  51.591987  79.654604   \n",
       "\n",
       "        father           mother       gfather  weight        time  \n",
       "0  King's Ride  Browne's Return      Deep Run      73  277.200000  \n",
       "1    Long Pond  Courtlough Lady   Giolla Mear      73  278.679948  \n",
       "2      Nordico    Over The Seas  North Summit      71  278.957438  \n",
       "3     Roselier    Miss Reindeer      Reindeer      73  284.507242  \n",
       "4       Noalto   Elena's Beauty      Tarqogan      66  290.057045  "
      ]
     },
     "execution_count": 3,
     "metadata": {},
     "output_type": "execute_result"
    }
   ],
   "source": [
    "horses_augment_times = pd.read_csv(f\"{BASE_DIR}/data/csv/horses_augment_times.csv\", low_memory=False) \n",
    "horses_augment_times.head()"
   ]
  },
  {
   "cell_type": "code",
   "execution_count": 4,
   "id": "3ad6a80a",
   "metadata": {
    "scrolled": true
   },
   "outputs": [
    {
     "data": {
      "text/plain": [
       "(194573, 17)"
      ]
     },
     "execution_count": 4,
     "metadata": {},
     "output_type": "execute_result"
    }
   ],
   "source": [
    "horses_augment_times.shape"
   ]
  },
  {
   "cell_type": "code",
   "execution_count": 5,
   "id": "6a72e4dd",
   "metadata": {},
   "outputs": [
    {
     "data": {
      "text/html": [
       "<div>\n",
       "<style scoped>\n",
       "    .dataframe tbody tr th:only-of-type {\n",
       "        vertical-align: middle;\n",
       "    }\n",
       "\n",
       "    .dataframe tbody tr th {\n",
       "        vertical-align: top;\n",
       "    }\n",
       "\n",
       "    .dataframe thead th {\n",
       "        text-align: right;\n",
       "    }\n",
       "</style>\n",
       "<table border=\"1\" class=\"dataframe\">\n",
       "  <thead>\n",
       "    <tr style=\"text-align: right;\">\n",
       "      <th></th>\n",
       "      <th>rid</th>\n",
       "      <th>horseName</th>\n",
       "      <th>age</th>\n",
       "      <th>saddle</th>\n",
       "      <th>decimalPrice</th>\n",
       "      <th>trainerName</th>\n",
       "      <th>jockeyName</th>\n",
       "      <th>position</th>\n",
       "      <th>outHandicap</th>\n",
       "      <th>RPR</th>\n",
       "      <th>TR</th>\n",
       "      <th>OR</th>\n",
       "      <th>father</th>\n",
       "      <th>mother</th>\n",
       "      <th>gfather</th>\n",
       "      <th>weight</th>\n",
       "      <th>time</th>\n",
       "    </tr>\n",
       "  </thead>\n",
       "  <tbody>\n",
       "    <tr>\n",
       "      <th>0</th>\n",
       "      <td>302858</td>\n",
       "      <td>Kings Return</td>\n",
       "      <td>6.0</td>\n",
       "      <td>4.0</td>\n",
       "      <td>0.600000</td>\n",
       "      <td>W P Mullins</td>\n",
       "      <td>D J Casey</td>\n",
       "      <td>1</td>\n",
       "      <td>0.0</td>\n",
       "      <td>102.00000</td>\n",
       "      <td>51.591987</td>\n",
       "      <td>79.654604</td>\n",
       "      <td>King's Ride</td>\n",
       "      <td>Browne's Return</td>\n",
       "      <td>Deep Run</td>\n",
       "      <td>73</td>\n",
       "      <td>277.200000</td>\n",
       "    </tr>\n",
       "    <tr>\n",
       "      <th>1</th>\n",
       "      <td>302858</td>\n",
       "      <td>Majestic Red I</td>\n",
       "      <td>6.0</td>\n",
       "      <td>5.0</td>\n",
       "      <td>0.047619</td>\n",
       "      <td>John Hackett</td>\n",
       "      <td>Conor O'Dwyer</td>\n",
       "      <td>2</td>\n",
       "      <td>0.0</td>\n",
       "      <td>94.00000</td>\n",
       "      <td>51.591987</td>\n",
       "      <td>79.654604</td>\n",
       "      <td>Long Pond</td>\n",
       "      <td>Courtlough Lady</td>\n",
       "      <td>Giolla Mear</td>\n",
       "      <td>73</td>\n",
       "      <td>278.679948</td>\n",
       "    </tr>\n",
       "    <tr>\n",
       "      <th>2</th>\n",
       "      <td>302858</td>\n",
       "      <td>Clearly Canadian</td>\n",
       "      <td>6.0</td>\n",
       "      <td>2.0</td>\n",
       "      <td>0.166667</td>\n",
       "      <td>D T Hughes</td>\n",
       "      <td>G Cotter</td>\n",
       "      <td>3</td>\n",
       "      <td>0.0</td>\n",
       "      <td>92.00000</td>\n",
       "      <td>51.591987</td>\n",
       "      <td>79.654604</td>\n",
       "      <td>Nordico</td>\n",
       "      <td>Over The Seas</td>\n",
       "      <td>North Summit</td>\n",
       "      <td>71</td>\n",
       "      <td>278.957438</td>\n",
       "    </tr>\n",
       "    <tr>\n",
       "      <th>3</th>\n",
       "      <td>302858</td>\n",
       "      <td>Bernestic Wonder</td>\n",
       "      <td>8.0</td>\n",
       "      <td>1.0</td>\n",
       "      <td>0.058824</td>\n",
       "      <td>E McNamara</td>\n",
       "      <td>J Old Jones</td>\n",
       "      <td>4</td>\n",
       "      <td>0.0</td>\n",
       "      <td>71.87665</td>\n",
       "      <td>51.591987</td>\n",
       "      <td>79.654604</td>\n",
       "      <td>Roselier</td>\n",
       "      <td>Miss Reindeer</td>\n",
       "      <td>Reindeer</td>\n",
       "      <td>73</td>\n",
       "      <td>284.507242</td>\n",
       "    </tr>\n",
       "    <tr>\n",
       "      <th>4</th>\n",
       "      <td>302858</td>\n",
       "      <td>Beauty's Pride</td>\n",
       "      <td>5.0</td>\n",
       "      <td>6.0</td>\n",
       "      <td>0.038462</td>\n",
       "      <td>J J Lennon</td>\n",
       "      <td>T Martin</td>\n",
       "      <td>5</td>\n",
       "      <td>0.0</td>\n",
       "      <td>71.87665</td>\n",
       "      <td>51.591987</td>\n",
       "      <td>79.654604</td>\n",
       "      <td>Noalto</td>\n",
       "      <td>Elena's Beauty</td>\n",
       "      <td>Tarqogan</td>\n",
       "      <td>66</td>\n",
       "      <td>290.057045</td>\n",
       "    </tr>\n",
       "  </tbody>\n",
       "</table>\n",
       "</div>"
      ],
      "text/plain": [
       "      rid         horseName  age  saddle  decimalPrice   trainerName  \\\n",
       "0  302858      Kings Return  6.0     4.0      0.600000   W P Mullins   \n",
       "1  302858    Majestic Red I  6.0     5.0      0.047619  John Hackett   \n",
       "2  302858  Clearly Canadian  6.0     2.0      0.166667    D T Hughes   \n",
       "3  302858  Bernestic Wonder  8.0     1.0      0.058824    E McNamara   \n",
       "4  302858    Beauty's Pride  5.0     6.0      0.038462    J J Lennon   \n",
       "\n",
       "      jockeyName  position  outHandicap        RPR         TR         OR  \\\n",
       "0      D J Casey         1          0.0  102.00000  51.591987  79.654604   \n",
       "1  Conor O'Dwyer         2          0.0   94.00000  51.591987  79.654604   \n",
       "2       G Cotter         3          0.0   92.00000  51.591987  79.654604   \n",
       "3    J Old Jones         4          0.0   71.87665  51.591987  79.654604   \n",
       "4       T Martin         5          0.0   71.87665  51.591987  79.654604   \n",
       "\n",
       "        father           mother       gfather  weight        time  \n",
       "0  King's Ride  Browne's Return      Deep Run      73  277.200000  \n",
       "1    Long Pond  Courtlough Lady   Giolla Mear      73  278.679948  \n",
       "2      Nordico    Over The Seas  North Summit      71  278.957438  \n",
       "3     Roselier    Miss Reindeer      Reindeer      73  284.507242  \n",
       "4       Noalto   Elena's Beauty      Tarqogan      66  290.057045  "
      ]
     },
     "execution_count": 5,
     "metadata": {},
     "output_type": "execute_result"
    }
   ],
   "source": [
    "horses_featurized = horses_augment_times.copy()\n",
    "horses_featurized.head()"
   ]
  },
  {
   "cell_type": "markdown",
   "id": "883330bd",
   "metadata": {},
   "source": [
    "---"
   ]
  },
  {
   "cell_type": "markdown",
   "id": "92a942ef",
   "metadata": {},
   "source": [
    "## Load `races_clean_augment_clean.csv`"
   ]
  },
  {
   "cell_type": "code",
   "execution_count": null,
   "id": "52a50136",
   "metadata": {},
   "outputs": [],
   "source": [
    "races_clean_augment_clean = pd.read_csv(f\"{BASE_DIR}/data/csv/races_clean_augment_clean.csv\", low_memory=False) \n",
    "races_clean_augment_clean.head()"
   ]
  },
  {
   "cell_type": "code",
   "execution_count": null,
   "id": "f013dc7d",
   "metadata": {
    "scrolled": true
   },
   "outputs": [],
   "source": [
    "races_clean_augment_clean.shape"
   ]
  },
  {
   "cell_type": "markdown",
   "id": "dce4bc78",
   "metadata": {},
   "source": [
    "---"
   ]
  },
  {
   "cell_type": "markdown",
   "id": "d0830c7c",
   "metadata": {},
   "source": [
    "## Understand Population of Horses"
   ]
  },
  {
   "cell_type": "markdown",
   "id": "9e3cb36c",
   "metadata": {},
   "source": [
    "Now that we have a clean dataset, we want to know how many times a horse will actually appear in this dataset, which tells us how successful it will be to get the average time of a horse."
   ]
  },
  {
   "cell_type": "code",
   "execution_count": null,
   "id": "c876e464",
   "metadata": {},
   "outputs": [],
   "source": [
    "horses_featurized['horseName'].value_counts()"
   ]
  },
  {
   "cell_type": "code",
   "execution_count": null,
   "id": "0eedc924",
   "metadata": {},
   "outputs": [],
   "source": [
    "len(horses_featurized) / len(horses_featurized['horseName'].unique())"
   ]
  },
  {
   "cell_type": "code",
   "execution_count": null,
   "id": "eea251f4",
   "metadata": {
    "scrolled": true
   },
   "outputs": [],
   "source": [
    "plt.hist(horses_featurized['horseName'].value_counts())"
   ]
  },
  {
   "cell_type": "code",
   "execution_count": null,
   "id": "ba80f5d4",
   "metadata": {
    "scrolled": true
   },
   "outputs": [],
   "source": [
    "horses_featurized['horseName'].value_counts()[:12960]"
   ]
  },
  {
   "cell_type": "code",
   "execution_count": null,
   "id": "1411234f",
   "metadata": {},
   "outputs": [],
   "source": [
    "horses_featurized['horseName'].value_counts()[:31852]"
   ]
  },
  {
   "cell_type": "markdown",
   "id": "129f6328",
   "metadata": {},
   "source": [
    "There are clearly horses that race multiple times. Additionally, there are about 13000 horses that have run at least 5 times, which gives us more than enough surface to calculate an average or calculate the last $k$ race times for $k$ reasonable. However, there are about 16000 horses that have only run once, so we will have to do some inferring for these entries."
   ]
  },
  {
   "cell_type": "markdown",
   "id": "48df54db",
   "metadata": {},
   "source": [
    "Let's also check how often the father appears as a racer."
   ]
  },
  {
   "cell_type": "code",
   "execution_count": null,
   "id": "675e95bb",
   "metadata": {},
   "outputs": [],
   "source": [
    "horses_featurized[horses_featurized['father'].isin(horses_featurized['horseName'].unique())]"
   ]
  },
  {
   "cell_type": "code",
   "execution_count": null,
   "id": "739496c1",
   "metadata": {},
   "outputs": [],
   "source": [
    "len(\n",
    "    horses_featurized[\n",
    "        horses_featurized['father'].isin(horses_featurized['horseName'].unique())\n",
    "    ]['horseName'].unique()\n",
    ") / len(horses_featurized['horseName'].unique())"
   ]
  },
  {
   "cell_type": "code",
   "execution_count": null,
   "id": "33f0f445",
   "metadata": {},
   "outputs": [],
   "source": [
    "horses_featurized[horses_featurized['horseName'] == 'Orchestra']"
   ]
  },
  {
   "cell_type": "markdown",
   "id": "3a21f4e4",
   "metadata": {},
   "source": [
    "Better, than we expected, about 25% of horses have a father who is also recorded in this dataset."
   ]
  },
  {
   "cell_type": "markdown",
   "id": "bae3dab9",
   "metadata": {},
   "source": [
    "We repeat this for the mother."
   ]
  },
  {
   "cell_type": "code",
   "execution_count": null,
   "id": "f3c7d680",
   "metadata": {},
   "outputs": [],
   "source": [
    "horses_featurized[horses_featurized['mother'].isin(horses_featurized['horseName'].unique())]"
   ]
  },
  {
   "cell_type": "code",
   "execution_count": null,
   "id": "03ca2eaf",
   "metadata": {},
   "outputs": [],
   "source": [
    "len(\n",
    "    horses_featurized[\n",
    "        horses_featurized['mother'].isin(horses_featurized['horseName'].unique())\n",
    "    ]['horseName'].unique()\n",
    ") / len(horses_featurized['horseName'].unique())"
   ]
  },
  {
   "cell_type": "code",
   "execution_count": null,
   "id": "4b220abc",
   "metadata": {},
   "outputs": [],
   "source": [
    "horses_featurized[horses_featurized['horseName'] == 'Gravieres']"
   ]
  },
  {
   "cell_type": "markdown",
   "id": "0fcba66a",
   "metadata": {},
   "source": [
    "Again, pretty suprisingly, about 17% of horses have a mother who is also recorded in this dataset."
   ]
  },
  {
   "cell_type": "markdown",
   "id": "e63bef23",
   "metadata": {},
   "source": [
    "We repeat this for the grandfather."
   ]
  },
  {
   "cell_type": "code",
   "execution_count": null,
   "id": "fc4e0e3c",
   "metadata": {},
   "outputs": [],
   "source": [
    "horses_featurized[horses_featurized['gfather'].isin(horses_featurized['horseName'].unique())]"
   ]
  },
  {
   "cell_type": "code",
   "execution_count": null,
   "id": "ac0079df",
   "metadata": {},
   "outputs": [],
   "source": [
    "len(\n",
    "    horses_featurized[\n",
    "        horses_featurized['gfather'].isin(horses_featurized['horseName'].unique())\n",
    "    ]['horseName'].unique()\n",
    ") / len(horses_featurized['horseName'].unique())"
   ]
  },
  {
   "cell_type": "code",
   "execution_count": null,
   "id": "a6fa600e",
   "metadata": {},
   "outputs": [],
   "source": [
    "horses_featurized[horses_featurized['horseName'] == 'Raise You Ten']"
   ]
  },
  {
   "cell_type": "markdown",
   "id": "f9eb260f",
   "metadata": {},
   "source": [
    "Here, our luck seems to run dry, with only 8% of the population having a grandfather who also raced in this dataset. For this reason, we will probably drop the `gfather` column, as too many values related to this would be inferred. Also, we can claim that the `father` column already contains information about the `gfather`."
   ]
  },
  {
   "cell_type": "code",
   "execution_count": null,
   "id": "92d808a8",
   "metadata": {},
   "outputs": [],
   "source": [
    "horses_featurized = horses_featurized.drop(columns=['gfather'])"
   ]
  },
  {
   "cell_type": "markdown",
   "id": "ca5f990b",
   "metadata": {},
   "source": [
    "---"
   ]
  },
  {
   "cell_type": "markdown",
   "id": "673922fa",
   "metadata": {},
   "source": [
    "## Map Horse Name to all Races"
   ]
  },
  {
   "cell_type": "code",
   "execution_count": null,
   "id": "1230821a",
   "metadata": {},
   "outputs": [],
   "source": [
    "all_horse_names =  np.concatenate((horses_featurized['horseName'].unique(),\n",
    "                                  horses_featurized['father'].unique(),\n",
    "                                  horses_featurized['mother'].unique())\n",
    "                                 )\n",
    "\n",
    "all_horse_names = np.unique(all_horse_names)"
   ]
  },
  {
   "cell_type": "code",
   "execution_count": null,
   "id": "97153052",
   "metadata": {},
   "outputs": [],
   "source": [
    "horse_to_races = {}\n",
    "\n",
    "for horse_name in tqdm(all_horse_names):\n",
    "    horse_to_races[horse_name] = horses_featurized[horses_featurized['horseName'] == horse_name]"
   ]
  },
  {
   "cell_type": "code",
   "execution_count": null,
   "id": "ad4a74e9",
   "metadata": {},
   "outputs": [],
   "source": [
    "horse_to_races['Gravieres']"
   ]
  },
  {
   "cell_type": "markdown",
   "id": "faf06503",
   "metadata": {},
   "source": [
    "## Map Horse and Race to Prev Races"
   ]
  },
  {
   "cell_type": "markdown",
   "id": "83ecc6d1",
   "metadata": {},
   "source": [
    "We cannot use the verbatim average race time of a horse at a feature, otherwise this would encode present and future information that would not actually be available at this race. We have to be careful about only using past information at any given race. To do so, we first construct a map from a given horse and race to all previous races with that horse."
   ]
  },
  {
   "cell_type": "code",
   "execution_count": null,
   "id": "7a2e80e1",
   "metadata": {},
   "outputs": [],
   "source": [
    "def get_all_races(horse_name: str) -> pd.core.frame.DataFrame:\n",
    "    df = horse_to_races[horse_name]\n",
    "    if len(df) == 0:\n",
    "        return pd.DataFrame()\n",
    "    else:\n",
    "        return df.merge(races_clean_augment_clean, how='inner', on='rid')"
   ]
  },
  {
   "cell_type": "code",
   "execution_count": null,
   "id": "9697c378",
   "metadata": {},
   "outputs": [],
   "source": [
    "def get_prev_races(horse_name: str, rid: int) -> pd.core.frame.DataFrame:\n",
    "    df = horse_to_races[horse_name]\n",
    "    if len(df) <= 1:\n",
    "        return pd.DataFrame()\n",
    "    else:\n",
    "        df = df.merge(races_clean_augment_clean, how='inner', on='rid')\n",
    "        return df[df['datetime'] < df[df['rid'] == rid].iloc[0]['datetime']]"
   ]
  },
  {
   "cell_type": "code",
   "execution_count": null,
   "id": "bbc0d1b6",
   "metadata": {},
   "outputs": [],
   "source": [
    "get_all_races('Gravieres')"
   ]
  },
  {
   "cell_type": "code",
   "execution_count": null,
   "id": "0b5c04ea",
   "metadata": {},
   "outputs": [],
   "source": [
    "get_prev_races('Gravieres', 27686)"
   ]
  },
  {
   "cell_type": "markdown",
   "id": "b05fdd90",
   "metadata": {},
   "source": [
    "Looks like its working, let's run it."
   ]
  },
  {
   "cell_type": "code",
   "execution_count": null,
   "id": "033d56d2",
   "metadata": {},
   "outputs": [],
   "source": [
    "horse_idx_to_prev_races = {}\n",
    "\n",
    "for idx, row in tqdm(horses_featurized.iterrows()):\n",
    "    horse_idx_to_prev_races[idx] = get_prev_races(row['horseName'], row['rid'])"
   ]
  },
  {
   "cell_type": "markdown",
   "id": "9ad750a6",
   "metadata": {},
   "source": [
    "---"
   ]
  },
  {
   "cell_type": "markdown",
   "id": "28c9a637",
   "metadata": {},
   "source": [
    "## Map Horse and Race to Average Speed"
   ]
  },
  {
   "cell_type": "markdown",
   "id": "fbc2611c",
   "metadata": {},
   "source": [
    "We obviously cannot use the average time since the distances of the race vary. Average speed will be slightly better, though it is unnecessarily harsh on horses that frequently run long distances (and thus must pace better)."
   ]
  },
  {
   "cell_type": "code",
   "execution_count": null,
   "id": "8d2568d4",
   "metadata": {},
   "outputs": [],
   "source": [
    "horse_idx_to_prev_races[116083][['time', 'metric']]"
   ]
  },
  {
   "cell_type": "code",
   "execution_count": null,
   "id": "a7c2c9c8",
   "metadata": {},
   "outputs": [],
   "source": [
    "def get_average_speed(df) -> float:\n",
    "    if len(df) == 0:\n",
    "        return float('nan')\n",
    "    else:\n",
    "        return np.mean(df['metric'] / df['time'])"
   ]
  },
  {
   "cell_type": "code",
   "execution_count": null,
   "id": "3eb5c964",
   "metadata": {},
   "outputs": [],
   "source": [
    "horse_idx_to_avg_speed = {}\n",
    "\n",
    "for idx, _ in tqdm(horses_featurized.iterrows()):\n",
    "    horse_idx_to_avg_speed[idx] = get_average_speed(horse_idx_to_prev_races[idx])"
   ]
  },
  {
   "cell_type": "code",
   "execution_count": null,
   "id": "b0488ff9",
   "metadata": {},
   "outputs": [],
   "source": [
    "horse_idx_to_avg_speed[116083]"
   ]
  },
  {
   "cell_type": "markdown",
   "id": "84381eb5",
   "metadata": {},
   "source": [
    "---"
   ]
  },
  {
   "cell_type": "markdown",
   "id": "d2d9d3d8",
   "metadata": {},
   "source": [
    "## Map Horse and Race to Most Previous Speed"
   ]
  },
  {
   "cell_type": "code",
   "execution_count": null,
   "id": "0e8c8037",
   "metadata": {},
   "outputs": [],
   "source": [
    "horse_idx_to_prev_races[116083][['time', 'metric', 'datetime']]"
   ]
  },
  {
   "cell_type": "code",
   "execution_count": null,
   "id": "edb38beb",
   "metadata": {},
   "outputs": [],
   "source": [
    "def get_prev_speed(df) -> float:\n",
    "    if len(df) == 0:\n",
    "        return float('nan')\n",
    "    else:\n",
    "        previous_datetime = df.iloc[0]['datetime']\n",
    "        previous_speed = df.iloc[0]['metric'] / df.iloc[0]['time']\n",
    "        for _, row in df.iterrows():\n",
    "            if row['datetime'] > previous_datetime:\n",
    "                previous_datetime = row['datetime']\n",
    "                previous_speed = row['metric'] / row['time']\n",
    "        return previous_speed"
   ]
  },
  {
   "cell_type": "code",
   "execution_count": null,
   "id": "b3cc40eb",
   "metadata": {},
   "outputs": [],
   "source": [
    "horse_idx_to_prev_speed = {}\n",
    "\n",
    "for idx, _ in tqdm(horses_featurized.iterrows()):\n",
    "    horse_idx_to_prev_speed[idx] = get_prev_speed(horse_idx_to_prev_races[idx])"
   ]
  },
  {
   "cell_type": "code",
   "execution_count": null,
   "id": "8399ad97",
   "metadata": {},
   "outputs": [],
   "source": [
    "horse_idx_to_prev_speed[116083]"
   ]
  },
  {
   "cell_type": "markdown",
   "id": "4961109a",
   "metadata": {},
   "source": [
    "---"
   ]
  },
  {
   "cell_type": "markdown",
   "id": "66c9ddf4",
   "metadata": {},
   "source": [
    "## Map Horse to Father Average Speed"
   ]
  },
  {
   "cell_type": "markdown",
   "id": "80970752",
   "metadata": {},
   "source": [
    "Here, we will make the assumption that a horse only races after its parent stops racing, to simplify the calculations a little."
   ]
  },
  {
   "cell_type": "code",
   "execution_count": null,
   "id": "ba2d9908",
   "metadata": {},
   "outputs": [],
   "source": [
    "horse_to_father_avg_speed = {}\n",
    "\n",
    "for horse_name in tqdm(all_horse_names):\n",
    "    df = horses_featurized[horses_featurized['horseName'] == horse_name]\n",
    "    if len(df) > 0:\n",
    "        father = df.iloc[0]['father']\n",
    "        horse_to_father_avg_speed[horse_name] = get_average_speed(get_all_races(father))"
   ]
  },
  {
   "cell_type": "code",
   "execution_count": null,
   "id": "d1d86573",
   "metadata": {},
   "outputs": [],
   "source": [
    "get_all_races('Musical Waves')"
   ]
  },
  {
   "cell_type": "code",
   "execution_count": null,
   "id": "2c0cd36f",
   "metadata": {},
   "outputs": [],
   "source": [
    "get_all_races('Orchestra')"
   ]
  },
  {
   "cell_type": "code",
   "execution_count": null,
   "id": "c039293c",
   "metadata": {},
   "outputs": [],
   "source": [
    "horse_to_father_avg_speed['Musical Waves']"
   ]
  },
  {
   "cell_type": "code",
   "execution_count": null,
   "id": "9f9ce953",
   "metadata": {},
   "outputs": [],
   "source": [
    "horse_idx_to_father_avg_speed = {}\n",
    "\n",
    "for idx, row in tqdm(horses_featurized.iterrows()):\n",
    "    horse_idx_to_father_avg_speed[idx] = horse_to_father_avg_speed[row['horseName']]"
   ]
  },
  {
   "cell_type": "markdown",
   "id": "222f82d0",
   "metadata": {},
   "source": [
    "---"
   ]
  },
  {
   "cell_type": "markdown",
   "id": "81dffb68",
   "metadata": {},
   "source": [
    "## Map Horse to Mother Average Speed"
   ]
  },
  {
   "cell_type": "code",
   "execution_count": null,
   "id": "3d7a8c20",
   "metadata": {},
   "outputs": [],
   "source": [
    "horse_to_mother_avg_speed = {}\n",
    "\n",
    "for horse_name in tqdm(all_horse_names):\n",
    "    df = horses_featurized[horses_featurized['horseName'] == horse_name]\n",
    "    if len(df) > 0:\n",
    "        mother = df.iloc[0]['mother']\n",
    "        horse_to_mother_avg_speed[horse_name] = get_average_speed(get_all_races(mother))"
   ]
  },
  {
   "cell_type": "code",
   "execution_count": null,
   "id": "08a0b052",
   "metadata": {},
   "outputs": [],
   "source": [
    "get_all_races('Homer I')"
   ]
  },
  {
   "cell_type": "code",
   "execution_count": null,
   "id": "55921bab",
   "metadata": {},
   "outputs": [],
   "source": [
    "get_average_speed(get_all_races('Gravieres'))"
   ]
  },
  {
   "cell_type": "code",
   "execution_count": null,
   "id": "1748132d",
   "metadata": {},
   "outputs": [],
   "source": [
    "horse_to_mother_avg_speed['Homer I']"
   ]
  },
  {
   "cell_type": "code",
   "execution_count": null,
   "id": "77879fb3",
   "metadata": {},
   "outputs": [],
   "source": [
    "horse_idx_to_mother_avg_speed = {}\n",
    "\n",
    "for idx, row in tqdm(horses_featurized.iterrows()):\n",
    "    horse_idx_to_mother_avg_speed[idx] = horse_to_mother_avg_speed[row['horseName']]"
   ]
  },
  {
   "cell_type": "markdown",
   "id": "40f00944",
   "metadata": {},
   "source": [
    "---"
   ]
  },
  {
   "cell_type": "markdown",
   "id": "0b3861b6",
   "metadata": {},
   "source": [
    "## Map Horse to Trainer Average Speed and Position"
   ]
  },
  {
   "cell_type": "markdown",
   "id": "17f2a4db",
   "metadata": {},
   "source": [
    "There is a similar problem here because we must be careful to make sure that we do not inadvertently include information from the race which we are attaching this information to. To ensure this, we will only use races that occur prior to the race in question.\n",
    "\n",
    "Also, here we introduce the idea of average position, which captures the fact that trainers are involved in the decision of whether a horse will run on a given day."
   ]
  },
  {
   "cell_type": "code",
   "execution_count": null,
   "id": "0d830e2c",
   "metadata": {},
   "outputs": [],
   "source": [
    "horses_featurized['trainerName'].value_counts()[:1000]"
   ]
  },
  {
   "cell_type": "code",
   "execution_count": null,
   "id": "68eb3e8b",
   "metadata": {},
   "outputs": [],
   "source": [
    "trainer_to_races = {}\n",
    "\n",
    "for trainer_name in tqdm(horses_featurized['trainerName'].unique()):\n",
    "    trainer_to_races[trainer_name] = horses_featurized[horses_featurized['trainerName'] == trainer_name]"
   ]
  },
  {
   "cell_type": "code",
   "execution_count": null,
   "id": "e3fe933e",
   "metadata": {},
   "outputs": [],
   "source": [
    "def get_prev_trainer_races(trainer_name: str, rid: int) -> pd.core.frame.DataFrame:\n",
    "    df = trainer_to_races[trainer_name]\n",
    "    if len(df) <= 1:\n",
    "        return pd.DataFrame()\n",
    "    else:\n",
    "        df = df.merge(races_clean_augment_clean, how='inner', on='rid')\n",
    "        return df[df['datetime'] < df[df['rid'] == rid].iloc[0]['datetime']]"
   ]
  },
  {
   "cell_type": "code",
   "execution_count": null,
   "id": "be7308ea",
   "metadata": {},
   "outputs": [],
   "source": [
    "horse_idx_to_prev_trainer_races = {}\n",
    "\n",
    "for idx, row in tqdm(horses_featurized.iterrows()):\n",
    "    horse_idx_to_prev_trainer_races[idx] = get_prev_trainer_races(row['trainerName'], row['rid'])"
   ]
  },
  {
   "cell_type": "code",
   "execution_count": null,
   "id": "784a11ac",
   "metadata": {},
   "outputs": [],
   "source": [
    "horse_idx_to_prev_trainer_races[30149]"
   ]
  },
  {
   "cell_type": "code",
   "execution_count": null,
   "id": "89c75456",
   "metadata": {},
   "outputs": [],
   "source": [
    "def get_average_position(df) -> float:\n",
    "    if len(df) == 0:\n",
    "        return float('nan')\n",
    "    else:\n",
    "        return np.mean(df['position'])"
   ]
  },
  {
   "cell_type": "code",
   "execution_count": null,
   "id": "279e7a31",
   "metadata": {},
   "outputs": [],
   "source": [
    "horse_to_trainer_avg_speed = {}\n",
    "horse_to_trainer_avg_position = {}\n",
    "\n",
    "for idx, row in tqdm(horses_featurized.iterrows()):\n",
    "    prev_trainer_races = horse_idx_to_prev_trainer_races[idx]\n",
    "    horse_to_trainer_avg_speed[idx] = get_average_speed(prev_trainer_races)\n",
    "    horse_to_trainer_avg_position[idx] = get_average_position(prev_trainer_races)"
   ]
  },
  {
   "cell_type": "code",
   "execution_count": null,
   "id": "f0da7ee2",
   "metadata": {},
   "outputs": [],
   "source": [
    "horses_featurized[horses_featurized['trainerName'] == 'M P Cash']"
   ]
  },
  {
   "cell_type": "code",
   "execution_count": null,
   "id": "8c1f30b4",
   "metadata": {},
   "outputs": [],
   "source": [
    "horse_to_trainer_avg_speed[85688]"
   ]
  },
  {
   "cell_type": "code",
   "execution_count": null,
   "id": "013ebd40",
   "metadata": {},
   "outputs": [],
   "source": [
    "horse_to_trainer_avg_speed[76966]"
   ]
  },
  {
   "cell_type": "code",
   "execution_count": null,
   "id": "f9854856",
   "metadata": {},
   "outputs": [],
   "source": [
    "horse_to_trainer_avg_speed[113600]"
   ]
  },
  {
   "cell_type": "code",
   "execution_count": null,
   "id": "02f438b8",
   "metadata": {},
   "outputs": [],
   "source": [
    "horse_to_trainer_avg_position[85688]"
   ]
  },
  {
   "cell_type": "code",
   "execution_count": null,
   "id": "0a9407ff",
   "metadata": {},
   "outputs": [],
   "source": [
    "horse_to_trainer_avg_position[76966]"
   ]
  },
  {
   "cell_type": "code",
   "execution_count": null,
   "id": "cd2fc948",
   "metadata": {},
   "outputs": [],
   "source": [
    "horse_to_trainer_avg_position[113600]"
   ]
  },
  {
   "cell_type": "markdown",
   "id": "e7e10c9e",
   "metadata": {},
   "source": [
    "---"
   ]
  },
  {
   "cell_type": "markdown",
   "id": "451d96ae",
   "metadata": {},
   "source": [
    "## Checkpoint `horses_featurized`"
   ]
  },
  {
   "cell_type": "markdown",
   "id": "6f0d2ae7",
   "metadata": {},
   "source": [
    "Similar to `augment_races.ipynb`, first make a DF for each feature."
   ]
  },
  {
   "cell_type": "code",
   "execution_count": null,
   "id": "810cf000",
   "metadata": {},
   "outputs": [],
   "source": [
    "rename_cols = {\n",
    "    0: 'avg_speed',\n",
    "}\n",
    "\n",
    "df_avg_speed = pd.DataFrame.from_dict(horse_idx_to_avg_speed, orient='index').rename(columns=rename_cols)\n",
    "df_avg_speed.sample(5)"
   ]
  },
  {
   "cell_type": "code",
   "execution_count": null,
   "id": "769a5821",
   "metadata": {},
   "outputs": [],
   "source": [
    "rename_cols = {\n",
    "    0: 'prev_speed',\n",
    "}\n",
    "\n",
    "df_prev_speed = pd.DataFrame.from_dict(horse_idx_to_prev_speed, orient='index').rename(columns=rename_cols)\n",
    "df_prev_speed.sample(5)"
   ]
  },
  {
   "cell_type": "code",
   "execution_count": null,
   "id": "522bb29f",
   "metadata": {},
   "outputs": [],
   "source": [
    "rename_cols = {\n",
    "    0: 'father_avg_speed',\n",
    "}\n",
    "\n",
    "df_father_avg_speed = pd.DataFrame.from_dict(horse_idx_to_father_avg_speed, orient='index').rename(columns=rename_cols)\n",
    "df_father_avg_speed.sample(5)"
   ]
  },
  {
   "cell_type": "code",
   "execution_count": null,
   "id": "08035ebf",
   "metadata": {},
   "outputs": [],
   "source": [
    "rename_cols = {\n",
    "    0: 'mother_avg_speed',\n",
    "}\n",
    "\n",
    "df_mother_avg_speed = pd.DataFrame.from_dict(horse_idx_to_mother_avg_speed, orient='index').rename(columns=rename_cols)\n",
    "df_mother_avg_speed.sample(5)"
   ]
  },
  {
   "cell_type": "code",
   "execution_count": null,
   "id": "ef8b7197",
   "metadata": {},
   "outputs": [],
   "source": [
    "rename_cols = {\n",
    "    0: 'trainer_avg_speed',\n",
    "}\n",
    "\n",
    "df_trainer_avg_speed = pd.DataFrame.from_dict(horse_to_trainer_avg_speed, orient='index').rename(columns=rename_cols)\n",
    "df_trainer_avg_speed.sample(5)"
   ]
  },
  {
   "cell_type": "code",
   "execution_count": null,
   "id": "8a32887a",
   "metadata": {},
   "outputs": [],
   "source": [
    "rename_cols = {\n",
    "    0: 'trainer_avg_position',\n",
    "}\n",
    "\n",
    "df_trainer_avg_position = pd.DataFrame.from_dict(horse_to_trainer_avg_position, orient='index').rename(columns=rename_cols)\n",
    "df_trainer_avg_position.sample(5)"
   ]
  },
  {
   "cell_type": "code",
   "execution_count": null,
   "id": "7ec7fa8c",
   "metadata": {},
   "outputs": [],
   "source": [
    "horses_featurized = horses_featurized.join(df_avg_speed) \\\n",
    "                                     .join(df_prev_speed) \\\n",
    "                                     .join(df_father_avg_speed) \\\n",
    "                                     .join(df_mother_avg_speed) \\\n",
    "                                     .join(df_trainer_avg_speed) \\\n",
    "                                     .join(df_trainer_avg_position)\n",
    "horses_featurized.head()"
   ]
  },
  {
   "cell_type": "code",
   "execution_count": null,
   "id": "64c44558",
   "metadata": {},
   "outputs": [],
   "source": [
    "horses_featurized.shape"
   ]
  },
  {
   "cell_type": "code",
   "execution_count": null,
   "id": "2a16b526",
   "metadata": {},
   "outputs": [],
   "source": [
    "horses_featurized.to_csv(f\"{BASE_DIR}/data/csv/horses_featurized.csv\", index=False)"
   ]
  },
  {
   "cell_type": "markdown",
   "id": "50d04e80",
   "metadata": {},
   "source": [
    "---"
   ]
  }
 ],
 "metadata": {
  "kernelspec": {
   "display_name": "Python 3 (ipykernel)",
   "language": "python",
   "name": "python3"
  },
  "language_info": {
   "codemirror_mode": {
    "name": "ipython",
    "version": 3
   },
   "file_extension": ".py",
   "mimetype": "text/x-python",
   "name": "python",
   "nbconvert_exporter": "python",
   "pygments_lexer": "ipython3",
   "version": "3.9.6"
  }
 },
 "nbformat": 4,
 "nbformat_minor": 5
}
