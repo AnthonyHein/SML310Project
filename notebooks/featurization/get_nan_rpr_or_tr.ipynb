{
 "cells": [
  {
   "cell_type": "markdown",
   "id": "dc5f8793",
   "metadata": {},
   "source": [
    "# `get_inferred_rpr_or_tr.ipynb`"
   ]
  },
  {
   "cell_type": "markdown",
   "id": "6d76b29a",
   "metadata": {},
   "source": [
    "### Author: Anthony Hein"
   ]
  },
  {
   "cell_type": "markdown",
   "id": "8a72b287",
   "metadata": {},
   "source": [
    "#### Last updated: 10/19/2021"
   ]
  },
  {
   "cell_type": "markdown",
   "id": "a0ebf4a0",
   "metadata": {},
   "source": [
    "# Overview:\n",
    "\n",
    "Previously, we filled in `RPR`, `OR`, and `TR` with the global average where this statistic was unknown under the premise that we expect an unseen horse to be about average. This in fact cannot be done because different races have different levels of horses. One race may have above average horses and another race may have below average horses. Instead, it would be more accurate to fill in the values for `RPR`, `OR`, and `TR` as the average _within a race_.\n",
    "\n",
    "To correct this, we must know which races we inferred this for in the first place, which is accomplished by this notebook."
   ]
  },
  {
   "cell_type": "markdown",
   "id": "6f46b926",
   "metadata": {},
   "source": [
    "---"
   ]
  },
  {
   "cell_type": "markdown",
   "id": "066b637c",
   "metadata": {},
   "source": [
    "## Setup"
   ]
  },
  {
   "cell_type": "code",
   "execution_count": 1,
   "id": "3de4d07c",
   "metadata": {},
   "outputs": [],
   "source": [
    "from datetime import datetime\n",
    "import git\n",
    "import os\n",
    "import math\n",
    "import re\n",
    "from typing import List\n",
    "from tqdm import tqdm\n",
    "import pandas as pd\n",
    "import numpy as np\n",
    "import matplotlib.pyplot as plt\n",
    "%matplotlib inline"
   ]
  },
  {
   "cell_type": "code",
   "execution_count": 2,
   "id": "05a06de6",
   "metadata": {},
   "outputs": [
    {
     "data": {
      "text/plain": [
       "'/Users/anthonyhein/Desktop/SML310/project'"
      ]
     },
     "execution_count": 2,
     "metadata": {},
     "output_type": "execute_result"
    }
   ],
   "source": [
    "BASE_DIR = git.Repo(os.getcwd(), search_parent_directories=True).working_dir\n",
    "BASE_DIR"
   ]
  },
  {
   "cell_type": "markdown",
   "id": "19d6a59d",
   "metadata": {},
   "source": [
    "---"
   ]
  },
  {
   "cell_type": "markdown",
   "id": "062db87f",
   "metadata": {},
   "source": [
    "## Load `horses_all_trim_intxn.csv`"
   ]
  },
  {
   "cell_type": "code",
   "execution_count": 3,
   "id": "7bb383e5",
   "metadata": {},
   "outputs": [
    {
     "data": {
      "text/html": [
       "<div>\n",
       "<style scoped>\n",
       "    .dataframe tbody tr th:only-of-type {\n",
       "        vertical-align: middle;\n",
       "    }\n",
       "\n",
       "    .dataframe tbody tr th {\n",
       "        vertical-align: top;\n",
       "    }\n",
       "\n",
       "    .dataframe thead th {\n",
       "        text-align: right;\n",
       "    }\n",
       "</style>\n",
       "<table border=\"1\" class=\"dataframe\">\n",
       "  <thead>\n",
       "    <tr style=\"text-align: right;\">\n",
       "      <th></th>\n",
       "      <th>rid</th>\n",
       "      <th>horseName</th>\n",
       "      <th>age</th>\n",
       "      <th>saddle</th>\n",
       "      <th>decimalPrice</th>\n",
       "      <th>trainerName</th>\n",
       "      <th>jockeyName</th>\n",
       "      <th>position</th>\n",
       "      <th>positionL</th>\n",
       "      <th>dist</th>\n",
       "      <th>outHandicap</th>\n",
       "      <th>RPR</th>\n",
       "      <th>TR</th>\n",
       "      <th>OR</th>\n",
       "      <th>father</th>\n",
       "      <th>mother</th>\n",
       "      <th>gfather</th>\n",
       "      <th>weight</th>\n",
       "    </tr>\n",
       "  </thead>\n",
       "  <tbody>\n",
       "    <tr>\n",
       "      <th>0</th>\n",
       "      <td>267255</td>\n",
       "      <td>Going For Broke</td>\n",
       "      <td>3.0</td>\n",
       "      <td>4.0</td>\n",
       "      <td>0.100000</td>\n",
       "      <td>P C Haslam</td>\n",
       "      <td>Seb Sanders</td>\n",
       "      <td>1</td>\n",
       "      <td>NaN</td>\n",
       "      <td>NaN</td>\n",
       "      <td>NaN</td>\n",
       "      <td>72.0</td>\n",
       "      <td>62.0</td>\n",
       "      <td>62.0</td>\n",
       "      <td>Simply Great</td>\n",
       "      <td>Empty Purse</td>\n",
       "      <td>Pennine Walk</td>\n",
       "      <td>58</td>\n",
       "    </tr>\n",
       "    <tr>\n",
       "      <th>1</th>\n",
       "      <td>267255</td>\n",
       "      <td>Pinchincha</td>\n",
       "      <td>3.0</td>\n",
       "      <td>3.0</td>\n",
       "      <td>0.266667</td>\n",
       "      <td>Dave Morris</td>\n",
       "      <td>Tony Clark</td>\n",
       "      <td>2</td>\n",
       "      <td>4</td>\n",
       "      <td>NaN</td>\n",
       "      <td>NaN</td>\n",
       "      <td>66.0</td>\n",
       "      <td>56.0</td>\n",
       "      <td>65.0</td>\n",
       "      <td>Priolo</td>\n",
       "      <td>Western Heights</td>\n",
       "      <td>Shirley Heights</td>\n",
       "      <td>60</td>\n",
       "    </tr>\n",
       "    <tr>\n",
       "      <th>2</th>\n",
       "      <td>267255</td>\n",
       "      <td>Skelton Sovereign</td>\n",
       "      <td>3.0</td>\n",
       "      <td>5.0</td>\n",
       "      <td>0.142857</td>\n",
       "      <td>Reg Hollinshead</td>\n",
       "      <td>D Griffiths</td>\n",
       "      <td>3</td>\n",
       "      <td>3</td>\n",
       "      <td>7.0</td>\n",
       "      <td>NaN</td>\n",
       "      <td>55.0</td>\n",
       "      <td>40.0</td>\n",
       "      <td>60.0</td>\n",
       "      <td>Contract Law</td>\n",
       "      <td>Mrs Lucky</td>\n",
       "      <td>Royal Match</td>\n",
       "      <td>55</td>\n",
       "    </tr>\n",
       "    <tr>\n",
       "      <th>3</th>\n",
       "      <td>267255</td>\n",
       "      <td>Fast Spin</td>\n",
       "      <td>3.0</td>\n",
       "      <td>6.0</td>\n",
       "      <td>0.380952</td>\n",
       "      <td>David Barron</td>\n",
       "      <td>Tony Culhane</td>\n",
       "      <td>4</td>\n",
       "      <td>7</td>\n",
       "      <td>14.0</td>\n",
       "      <td>NaN</td>\n",
       "      <td>38.0</td>\n",
       "      <td>30.0</td>\n",
       "      <td>59.0</td>\n",
       "      <td>Formidable I</td>\n",
       "      <td>Topwinder</td>\n",
       "      <td>Topsider</td>\n",
       "      <td>57</td>\n",
       "    </tr>\n",
       "    <tr>\n",
       "      <th>4</th>\n",
       "      <td>267255</td>\n",
       "      <td>As-Is</td>\n",
       "      <td>3.0</td>\n",
       "      <td>2.0</td>\n",
       "      <td>0.166667</td>\n",
       "      <td>Mark Johnston</td>\n",
       "      <td>J Weaver</td>\n",
       "      <td>5</td>\n",
       "      <td>7</td>\n",
       "      <td>21.0</td>\n",
       "      <td>NaN</td>\n",
       "      <td>29.0</td>\n",
       "      <td>21.0</td>\n",
       "      <td>65.0</td>\n",
       "      <td>Lomond</td>\n",
       "      <td>Capriati I</td>\n",
       "      <td>Diesis</td>\n",
       "      <td>60</td>\n",
       "    </tr>\n",
       "  </tbody>\n",
       "</table>\n",
       "</div>"
      ],
      "text/plain": [
       "      rid          horseName  age  saddle  decimalPrice      trainerName  \\\n",
       "0  267255    Going For Broke  3.0     4.0      0.100000       P C Haslam   \n",
       "1  267255         Pinchincha  3.0     3.0      0.266667      Dave Morris   \n",
       "2  267255  Skelton Sovereign  3.0     5.0      0.142857  Reg Hollinshead   \n",
       "3  267255          Fast Spin  3.0     6.0      0.380952     David Barron   \n",
       "4  267255              As-Is  3.0     2.0      0.166667    Mark Johnston   \n",
       "\n",
       "     jockeyName  position positionL  dist  outHandicap   RPR    TR    OR  \\\n",
       "0   Seb Sanders         1       NaN   NaN          NaN  72.0  62.0  62.0   \n",
       "1    Tony Clark         2         4   NaN          NaN  66.0  56.0  65.0   \n",
       "2   D Griffiths         3         3   7.0          NaN  55.0  40.0  60.0   \n",
       "3  Tony Culhane         4         7  14.0          NaN  38.0  30.0  59.0   \n",
       "4      J Weaver         5         7  21.0          NaN  29.0  21.0  65.0   \n",
       "\n",
       "         father           mother          gfather  weight  \n",
       "0  Simply Great      Empty Purse     Pennine Walk      58  \n",
       "1        Priolo  Western Heights  Shirley Heights      60  \n",
       "2  Contract Law        Mrs Lucky      Royal Match      55  \n",
       "3  Formidable I        Topwinder         Topsider      57  \n",
       "4        Lomond       Capriati I           Diesis      60  "
      ]
     },
     "execution_count": 3,
     "metadata": {},
     "output_type": "execute_result"
    }
   ],
   "source": [
    "horses_all_trim_intxn = pd.read_csv(f\"{BASE_DIR}/data/csv/horses_all_trim_intxn.csv\", low_memory=False) \n",
    "horses_all_trim_intxn.head()"
   ]
  },
  {
   "cell_type": "code",
   "execution_count": 4,
   "id": "3ad6a80a",
   "metadata": {
    "scrolled": true
   },
   "outputs": [
    {
     "data": {
      "text/plain": [
       "(4107315, 18)"
      ]
     },
     "execution_count": 4,
     "metadata": {},
     "output_type": "execute_result"
    }
   ],
   "source": [
    "horses_all_trim_intxn.shape"
   ]
  },
  {
   "cell_type": "markdown",
   "id": "3f3c0b7e",
   "metadata": {},
   "source": [
    "---"
   ]
  },
  {
   "cell_type": "markdown",
   "id": "7641dd98",
   "metadata": {},
   "source": [
    "## Load  `horses_augment_times.csv`"
   ]
  },
  {
   "cell_type": "code",
   "execution_count": 5,
   "id": "6a543030",
   "metadata": {},
   "outputs": [
    {
     "data": {
      "text/html": [
       "<div>\n",
       "<style scoped>\n",
       "    .dataframe tbody tr th:only-of-type {\n",
       "        vertical-align: middle;\n",
       "    }\n",
       "\n",
       "    .dataframe tbody tr th {\n",
       "        vertical-align: top;\n",
       "    }\n",
       "\n",
       "    .dataframe thead th {\n",
       "        text-align: right;\n",
       "    }\n",
       "</style>\n",
       "<table border=\"1\" class=\"dataframe\">\n",
       "  <thead>\n",
       "    <tr style=\"text-align: right;\">\n",
       "      <th></th>\n",
       "      <th>rid</th>\n",
       "      <th>horseName</th>\n",
       "      <th>age</th>\n",
       "      <th>saddle</th>\n",
       "      <th>decimalPrice</th>\n",
       "      <th>trainerName</th>\n",
       "      <th>jockeyName</th>\n",
       "      <th>position</th>\n",
       "      <th>outHandicap</th>\n",
       "      <th>RPR</th>\n",
       "      <th>TR</th>\n",
       "      <th>OR</th>\n",
       "      <th>father</th>\n",
       "      <th>mother</th>\n",
       "      <th>gfather</th>\n",
       "      <th>weight</th>\n",
       "      <th>time</th>\n",
       "    </tr>\n",
       "  </thead>\n",
       "  <tbody>\n",
       "    <tr>\n",
       "      <th>0</th>\n",
       "      <td>302858</td>\n",
       "      <td>Kings Return</td>\n",
       "      <td>6.0</td>\n",
       "      <td>4.0</td>\n",
       "      <td>0.600000</td>\n",
       "      <td>W P Mullins</td>\n",
       "      <td>D J Casey</td>\n",
       "      <td>1</td>\n",
       "      <td>0.0</td>\n",
       "      <td>102.00000</td>\n",
       "      <td>51.591987</td>\n",
       "      <td>79.654604</td>\n",
       "      <td>King's Ride</td>\n",
       "      <td>Browne's Return</td>\n",
       "      <td>Deep Run</td>\n",
       "      <td>73</td>\n",
       "      <td>277.200000</td>\n",
       "    </tr>\n",
       "    <tr>\n",
       "      <th>1</th>\n",
       "      <td>302858</td>\n",
       "      <td>Majestic Red I</td>\n",
       "      <td>6.0</td>\n",
       "      <td>5.0</td>\n",
       "      <td>0.047619</td>\n",
       "      <td>John Hackett</td>\n",
       "      <td>Conor O'Dwyer</td>\n",
       "      <td>2</td>\n",
       "      <td>0.0</td>\n",
       "      <td>94.00000</td>\n",
       "      <td>51.591987</td>\n",
       "      <td>79.654604</td>\n",
       "      <td>Long Pond</td>\n",
       "      <td>Courtlough Lady</td>\n",
       "      <td>Giolla Mear</td>\n",
       "      <td>73</td>\n",
       "      <td>278.679948</td>\n",
       "    </tr>\n",
       "    <tr>\n",
       "      <th>2</th>\n",
       "      <td>302858</td>\n",
       "      <td>Clearly Canadian</td>\n",
       "      <td>6.0</td>\n",
       "      <td>2.0</td>\n",
       "      <td>0.166667</td>\n",
       "      <td>D T Hughes</td>\n",
       "      <td>G Cotter</td>\n",
       "      <td>3</td>\n",
       "      <td>0.0</td>\n",
       "      <td>92.00000</td>\n",
       "      <td>51.591987</td>\n",
       "      <td>79.654604</td>\n",
       "      <td>Nordico</td>\n",
       "      <td>Over The Seas</td>\n",
       "      <td>North Summit</td>\n",
       "      <td>71</td>\n",
       "      <td>278.957438</td>\n",
       "    </tr>\n",
       "    <tr>\n",
       "      <th>3</th>\n",
       "      <td>302858</td>\n",
       "      <td>Bernestic Wonder</td>\n",
       "      <td>8.0</td>\n",
       "      <td>1.0</td>\n",
       "      <td>0.058824</td>\n",
       "      <td>E McNamara</td>\n",
       "      <td>J Old Jones</td>\n",
       "      <td>4</td>\n",
       "      <td>0.0</td>\n",
       "      <td>71.87665</td>\n",
       "      <td>51.591987</td>\n",
       "      <td>79.654604</td>\n",
       "      <td>Roselier</td>\n",
       "      <td>Miss Reindeer</td>\n",
       "      <td>Reindeer</td>\n",
       "      <td>73</td>\n",
       "      <td>284.507242</td>\n",
       "    </tr>\n",
       "    <tr>\n",
       "      <th>4</th>\n",
       "      <td>302858</td>\n",
       "      <td>Beauty's Pride</td>\n",
       "      <td>5.0</td>\n",
       "      <td>6.0</td>\n",
       "      <td>0.038462</td>\n",
       "      <td>J J Lennon</td>\n",
       "      <td>T Martin</td>\n",
       "      <td>5</td>\n",
       "      <td>0.0</td>\n",
       "      <td>71.87665</td>\n",
       "      <td>51.591987</td>\n",
       "      <td>79.654604</td>\n",
       "      <td>Noalto</td>\n",
       "      <td>Elena's Beauty</td>\n",
       "      <td>Tarqogan</td>\n",
       "      <td>66</td>\n",
       "      <td>290.057045</td>\n",
       "    </tr>\n",
       "  </tbody>\n",
       "</table>\n",
       "</div>"
      ],
      "text/plain": [
       "      rid         horseName  age  saddle  decimalPrice   trainerName  \\\n",
       "0  302858      Kings Return  6.0     4.0      0.600000   W P Mullins   \n",
       "1  302858    Majestic Red I  6.0     5.0      0.047619  John Hackett   \n",
       "2  302858  Clearly Canadian  6.0     2.0      0.166667    D T Hughes   \n",
       "3  302858  Bernestic Wonder  8.0     1.0      0.058824    E McNamara   \n",
       "4  302858    Beauty's Pride  5.0     6.0      0.038462    J J Lennon   \n",
       "\n",
       "      jockeyName  position  outHandicap        RPR         TR         OR  \\\n",
       "0      D J Casey         1          0.0  102.00000  51.591987  79.654604   \n",
       "1  Conor O'Dwyer         2          0.0   94.00000  51.591987  79.654604   \n",
       "2       G Cotter         3          0.0   92.00000  51.591987  79.654604   \n",
       "3    J Old Jones         4          0.0   71.87665  51.591987  79.654604   \n",
       "4       T Martin         5          0.0   71.87665  51.591987  79.654604   \n",
       "\n",
       "        father           mother       gfather  weight        time  \n",
       "0  King's Ride  Browne's Return      Deep Run      73  277.200000  \n",
       "1    Long Pond  Courtlough Lady   Giolla Mear      73  278.679948  \n",
       "2      Nordico    Over The Seas  North Summit      71  278.957438  \n",
       "3     Roselier    Miss Reindeer      Reindeer      73  284.507242  \n",
       "4       Noalto   Elena's Beauty      Tarqogan      66  290.057045  "
      ]
     },
     "execution_count": 5,
     "metadata": {},
     "output_type": "execute_result"
    }
   ],
   "source": [
    "horses_augment_times = pd.read_csv(f\"{BASE_DIR}/data/csv/horses_augment_times.csv\", low_memory=False) \n",
    "horses_augment_times.head()"
   ]
  },
  {
   "cell_type": "code",
   "execution_count": 6,
   "id": "56a1205b",
   "metadata": {},
   "outputs": [
    {
     "data": {
      "text/plain": [
       "(194573, 17)"
      ]
     },
     "execution_count": 6,
     "metadata": {},
     "output_type": "execute_result"
    }
   ],
   "source": [
    "horses_augment_times.shape"
   ]
  },
  {
   "cell_type": "markdown",
   "id": "31d329a9",
   "metadata": {},
   "source": [
    "---"
   ]
  },
  {
   "cell_type": "markdown",
   "id": "385cc1cc",
   "metadata": {},
   "source": [
    "## Drop Columns"
   ]
  },
  {
   "cell_type": "code",
   "execution_count": 7,
   "id": "3b014a23",
   "metadata": {},
   "outputs": [],
   "source": [
    "horses_all_trim_intxn = horses_all_trim_intxn[['rid', 'horseName', 'RPR', 'TR', 'OR']]"
   ]
  },
  {
   "cell_type": "code",
   "execution_count": 8,
   "id": "90cd5d97",
   "metadata": {},
   "outputs": [],
   "source": [
    "horses_augment_times = horses_augment_times[['rid', 'horseName']]"
   ]
  },
  {
   "cell_type": "markdown",
   "id": "d1e72006",
   "metadata": {},
   "source": [
    "---"
   ]
  },
  {
   "cell_type": "markdown",
   "id": "7a1059b1",
   "metadata": {},
   "source": [
    "## Get Intersection"
   ]
  },
  {
   "cell_type": "code",
   "execution_count": 9,
   "id": "1517fc9b",
   "metadata": {},
   "outputs": [
    {
     "data": {
      "text/html": [
       "<div>\n",
       "<style scoped>\n",
       "    .dataframe tbody tr th:only-of-type {\n",
       "        vertical-align: middle;\n",
       "    }\n",
       "\n",
       "    .dataframe tbody tr th {\n",
       "        vertical-align: top;\n",
       "    }\n",
       "\n",
       "    .dataframe thead th {\n",
       "        text-align: right;\n",
       "    }\n",
       "</style>\n",
       "<table border=\"1\" class=\"dataframe\">\n",
       "  <thead>\n",
       "    <tr style=\"text-align: right;\">\n",
       "      <th></th>\n",
       "      <th>rid</th>\n",
       "      <th>horseName</th>\n",
       "      <th>RPR</th>\n",
       "      <th>TR</th>\n",
       "      <th>OR</th>\n",
       "    </tr>\n",
       "  </thead>\n",
       "  <tbody>\n",
       "    <tr>\n",
       "      <th>0</th>\n",
       "      <td>302858</td>\n",
       "      <td>Kings Return</td>\n",
       "      <td>102.0</td>\n",
       "      <td>NaN</td>\n",
       "      <td>NaN</td>\n",
       "    </tr>\n",
       "    <tr>\n",
       "      <th>1</th>\n",
       "      <td>302858</td>\n",
       "      <td>Majestic Red I</td>\n",
       "      <td>94.0</td>\n",
       "      <td>NaN</td>\n",
       "      <td>NaN</td>\n",
       "    </tr>\n",
       "    <tr>\n",
       "      <th>2</th>\n",
       "      <td>302858</td>\n",
       "      <td>Clearly Canadian</td>\n",
       "      <td>92.0</td>\n",
       "      <td>NaN</td>\n",
       "      <td>NaN</td>\n",
       "    </tr>\n",
       "    <tr>\n",
       "      <th>3</th>\n",
       "      <td>302858</td>\n",
       "      <td>Bernestic Wonder</td>\n",
       "      <td>NaN</td>\n",
       "      <td>NaN</td>\n",
       "      <td>NaN</td>\n",
       "    </tr>\n",
       "    <tr>\n",
       "      <th>4</th>\n",
       "      <td>302858</td>\n",
       "      <td>Beauty's Pride</td>\n",
       "      <td>NaN</td>\n",
       "      <td>NaN</td>\n",
       "      <td>NaN</td>\n",
       "    </tr>\n",
       "    <tr>\n",
       "      <th>5</th>\n",
       "      <td>302858</td>\n",
       "      <td>Graignamanagh</td>\n",
       "      <td>NaN</td>\n",
       "      <td>NaN</td>\n",
       "      <td>NaN</td>\n",
       "    </tr>\n",
       "    <tr>\n",
       "      <th>6</th>\n",
       "      <td>291347</td>\n",
       "      <td>Antonin</td>\n",
       "      <td>157.0</td>\n",
       "      <td>NaN</td>\n",
       "      <td>NaN</td>\n",
       "    </tr>\n",
       "    <tr>\n",
       "      <th>7</th>\n",
       "      <td>291347</td>\n",
       "      <td>King Of The Gales</td>\n",
       "      <td>NaN</td>\n",
       "      <td>NaN</td>\n",
       "      <td>NaN</td>\n",
       "    </tr>\n",
       "    <tr>\n",
       "      <th>8</th>\n",
       "      <td>291347</td>\n",
       "      <td>Carrigeen Kerria</td>\n",
       "      <td>NaN</td>\n",
       "      <td>NaN</td>\n",
       "      <td>NaN</td>\n",
       "    </tr>\n",
       "    <tr>\n",
       "      <th>9</th>\n",
       "      <td>291347</td>\n",
       "      <td>Fissure Seal</td>\n",
       "      <td>NaN</td>\n",
       "      <td>NaN</td>\n",
       "      <td>NaN</td>\n",
       "    </tr>\n",
       "  </tbody>\n",
       "</table>\n",
       "</div>"
      ],
      "text/plain": [
       "      rid          horseName    RPR  TR  OR\n",
       "0  302858       Kings Return  102.0 NaN NaN\n",
       "1  302858     Majestic Red I   94.0 NaN NaN\n",
       "2  302858   Clearly Canadian   92.0 NaN NaN\n",
       "3  302858   Bernestic Wonder    NaN NaN NaN\n",
       "4  302858     Beauty's Pride    NaN NaN NaN\n",
       "5  302858      Graignamanagh    NaN NaN NaN\n",
       "6  291347            Antonin  157.0 NaN NaN\n",
       "7  291347  King Of The Gales    NaN NaN NaN\n",
       "8  291347   Carrigeen Kerria    NaN NaN NaN\n",
       "9  291347       Fissure Seal    NaN NaN NaN"
      ]
     },
     "execution_count": 9,
     "metadata": {},
     "output_type": "execute_result"
    }
   ],
   "source": [
    "horses_all_working = horses_all_trim_intxn.merge(horses_augment_times, on=['rid', 'horseName'])\n",
    "horses_all_working.head(10)"
   ]
  },
  {
   "cell_type": "code",
   "execution_count": 10,
   "id": "24aa9a13",
   "metadata": {},
   "outputs": [
    {
     "data": {
      "text/plain": [
       "(194573, 5)"
      ]
     },
     "execution_count": 10,
     "metadata": {},
     "output_type": "execute_result"
    }
   ],
   "source": [
    "horses_all_working.shape"
   ]
  },
  {
   "cell_type": "markdown",
   "id": "ebb9d03e",
   "metadata": {},
   "source": [
    "---"
   ]
  },
  {
   "cell_type": "markdown",
   "id": "440bdeae",
   "metadata": {},
   "source": [
    "## Get NaN Values"
   ]
  },
  {
   "cell_type": "markdown",
   "id": "66f997f0",
   "metadata": {},
   "source": [
    "Define the following mapping:\n",
    "* 0: no values\n",
    "* 1: only OR\n",
    "* 2: only TR\n",
    "* 3: OR and TR\n",
    "* 4: only RPR\n",
    "* 5: OR and RPR\n",
    "* 6: TR and RPR\n",
    "* 7: all"
   ]
  },
  {
   "cell_type": "code",
   "execution_count": 11,
   "id": "d4b6623f",
   "metadata": {},
   "outputs": [
    {
     "name": "stderr",
     "output_type": "stream",
     "text": [
      "194573it [00:10, 19016.34it/s]\n"
     ]
    }
   ],
   "source": [
    "d = {}\n",
    "\n",
    "for idx, row in tqdm(horses_all_working.iterrows()):\n",
    "    zeroth = not pd.isna(row['OR'])\n",
    "    oneth = not pd.isna(row['TR'])\n",
    "    twoth = not pd.isna(row['RPR'])\n",
    "    code = int(zeroth) + 2 * int(oneth) + 4 * int(twoth)\n",
    "    d[idx] = code"
   ]
  },
  {
   "cell_type": "code",
   "execution_count": 12,
   "id": "58de1b7e",
   "metadata": {},
   "outputs": [
    {
     "data": {
      "text/plain": [
       "4"
      ]
     },
     "execution_count": 12,
     "metadata": {},
     "output_type": "execute_result"
    }
   ],
   "source": [
    "d[0]"
   ]
  },
  {
   "cell_type": "code",
   "execution_count": 13,
   "id": "b4e01405",
   "metadata": {},
   "outputs": [
    {
     "data": {
      "text/plain": [
       "0"
      ]
     },
     "execution_count": 13,
     "metadata": {},
     "output_type": "execute_result"
    }
   ],
   "source": [
    "d[3]"
   ]
  },
  {
   "cell_type": "code",
   "execution_count": 14,
   "id": "9d4085ca",
   "metadata": {},
   "outputs": [
    {
     "data": {
      "text/plain": [
       "(array([ 7869.,  5677.,   309.,     0.,   165., 30263.,     0., 33112.,\n",
       "        41385., 75793.]),\n",
       " array([0. , 0.7, 1.4, 2.1, 2.8, 3.5, 4.2, 4.9, 5.6, 6.3, 7. ]),\n",
       " <BarContainer object of 10 artists>)"
      ]
     },
     "execution_count": 14,
     "metadata": {},
     "output_type": "execute_result"
    },
    {
     "data": {
      "image/png": "[encoded data removed]",
      "text/plain": [
       "<Figure size 432x288 with 1 Axes>"
      ]
     },
     "metadata": {
      "needs_background": "light"
     },
     "output_type": "display_data"
    }
   ],
   "source": [
    "plt.hist([v for k,v in d.items()])"
   ]
  },
  {
   "cell_type": "markdown",
   "id": "4b2fe343",
   "metadata": {},
   "source": [
    "Fortunately, it looks like this information is mostly available."
   ]
  },
  {
   "cell_type": "markdown",
   "id": "874f9996",
   "metadata": {},
   "source": [
    "---"
   ]
  },
  {
   "cell_type": "markdown",
   "id": "1b6b7d7e",
   "metadata": {},
   "source": [
    "## Write to File in `utils`"
   ]
  },
  {
   "cell_type": "code",
   "execution_count": 15,
   "id": "bccfb64b",
   "metadata": {},
   "outputs": [
    {
     "data": {
      "text/plain": [
       "'NAN_VALUES = {0: 4, 1: 4, 2: 4, 3: 0, 4: 0, 5: 0, 6: 4, 7: 0, 8: 0, 9: 0, 10: 0, 11: 0, 12: 0, 13: 0'"
      ]
     },
     "execution_count": 15,
     "metadata": {},
     "output_type": "execute_result"
    }
   ],
   "source": [
    "s = f\"NAN_VALUES = {d}\"\n",
    "s[:100]"
   ]
  },
  {
   "cell_type": "code",
   "execution_count": 16,
   "id": "a5a19569",
   "metadata": {},
   "outputs": [],
   "source": [
    "with open(f\"{BASE_DIR}/utils/nan_values.py\", 'w', encoding='utf-8') as f:\n",
    "    f.write(s)"
   ]
  },
  {
   "cell_type": "markdown",
   "id": "333b37f7",
   "metadata": {},
   "source": [
    "---"
   ]
  },
  {
   "cell_type": "markdown",
   "id": "b1c9ba95",
   "metadata": {},
   "source": [
    "## Get NaN Values (Failed)"
   ]
  },
  {
   "cell_type": "markdown",
   "id": "4945c232",
   "metadata": {},
   "source": [
    "The below makes files which are way to big."
   ]
  },
  {
   "cell_type": "code",
   "execution_count": null,
   "id": "819fdafa",
   "metadata": {},
   "outputs": [],
   "source": [
    "# a_rpr = set()\n",
    "\n",
    "# for _, row in tqdm(horses_all_working[horses_all_working['RPR'].isnull()].iterrows()):\n",
    "#     a_rpr.add((row['rid'], row['horseName']))"
   ]
  },
  {
   "cell_type": "code",
   "execution_count": null,
   "id": "721f31bd",
   "metadata": {},
   "outputs": [],
   "source": [
    "# a_or = set()\n",
    "\n",
    "# for _, row in tqdm(horses_all_working[horses_all_working['OR'].isnull()].iterrows()):\n",
    "#     a_or.add((row['rid'], row['horseName']))"
   ]
  },
  {
   "cell_type": "code",
   "execution_count": null,
   "id": "703f0b47",
   "metadata": {},
   "outputs": [],
   "source": [
    "# a_tr = set()\n",
    "\n",
    "# for _, row in tqdm(horses_all_working[horses_all_working['TR'].isnull()].iterrows()):\n",
    "#     a_tr.add((row['rid'], row['horseName']))"
   ]
  },
  {
   "cell_type": "markdown",
   "id": "c32c59ca",
   "metadata": {},
   "source": [
    "---"
   ]
  },
  {
   "cell_type": "markdown",
   "id": "d24d392f",
   "metadata": {},
   "source": [
    "## Write to File in `utils` (Failed)"
   ]
  },
  {
   "cell_type": "code",
   "execution_count": null,
   "id": "ac4f1d90",
   "metadata": {},
   "outputs": [],
   "source": [
    "# s_rpr = f\"NAN_RPR = {a_rpr}\"\n",
    "# s_rpr[:100]"
   ]
  },
  {
   "cell_type": "code",
   "execution_count": null,
   "id": "35c794f8",
   "metadata": {},
   "outputs": [],
   "source": [
    "# s_or = f\"NAN_OR = {a_or}\"\n",
    "# s_or[:100]"
   ]
  },
  {
   "cell_type": "code",
   "execution_count": null,
   "id": "f9dddce2",
   "metadata": {},
   "outputs": [],
   "source": [
    "# s_tr = f\"NAN_TR = {a_tr}\"\n",
    "# s_tr[:100]"
   ]
  },
  {
   "cell_type": "code",
   "execution_count": null,
   "id": "2cbd7e4c",
   "metadata": {},
   "outputs": [],
   "source": [
    "# s = s_rpr + \"\\n\" + s_or + \"\\n\" + s_tr\n",
    "# s[:100]"
   ]
  },
  {
   "cell_type": "code",
   "execution_count": null,
   "id": "f2e5a05a",
   "metadata": {},
   "outputs": [],
   "source": [
    "# len(s)"
   ]
  },
  {
   "cell_type": "code",
   "execution_count": null,
   "id": "70ac3051",
   "metadata": {},
   "outputs": [],
   "source": [
    "# with open(f\"{BASE_DIR}/utils/nan_values.py\", 'w', encoding='utf-8') as f:\n",
    "#     f.write(s)"
   ]
  },
  {
   "cell_type": "markdown",
   "id": "33dc3f79",
   "metadata": {},
   "source": [
    "---"
   ]
  }
 ],
 "metadata": {
  "kernelspec": {
   "display_name": "Python 3 (ipykernel)",
   "language": "python",
   "name": "python3"
  },
  "language_info": {
   "codemirror_mode": {
    "name": "ipython",
    "version": 3
   },
   "file_extension": ".py",
   "mimetype": "text/x-python",
   "name": "python",
   "nbconvert_exporter": "python",
   "pygments_lexer": "ipython3",
   "version": "3.9.6"
  }
 },
 "nbformat": 4,
 "nbformat_minor": 5
}
