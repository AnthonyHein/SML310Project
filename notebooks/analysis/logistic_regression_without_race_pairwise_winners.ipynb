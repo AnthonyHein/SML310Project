{
 "cells": [
  {
   "cell_type": "markdown",
   "id": "7026e67b",
   "metadata": {},
   "source": [
    "# `logistic_regression_without_race_pairwise_winners.ipynb`"
   ]
  },
  {
   "cell_type": "markdown",
   "id": "c052cb33",
   "metadata": {},
   "source": [
    "### Author: Anthony Hein"
   ]
  },
  {
   "cell_type": "markdown",
   "id": "194e2cf5",
   "metadata": {},
   "source": [
    "#### Last updated: 11/20/2021"
   ]
  },
  {
   "cell_type": "markdown",
   "id": "1b86aa88",
   "metadata": {},
   "source": [
    "# Overview:\n",
    "\n",
    "Use the datasets\n",
    "* `X_train_preprocess_without_race.csv`\n",
    "* `X_dev_preprocess_without_race.csv`\n",
    "* `X_test_preprocess_without_race.csv`\n",
    "\n",
    "and the targets in\n",
    "* `X_train_pairwise_winner_labels.csv`\n",
    "* `X_dev_pairwise_winner_labels.csv`\n",
    "* `X_test_pairwise_winner_labels.csv`\n",
    "\n",
    "to make a logistic regression model that tries to predict the pairwise winner between each pair of runners."
   ]
  },
  {
   "cell_type": "markdown",
   "id": "697e80d8",
   "metadata": {},
   "source": [
    "---"
   ]
  },
  {
   "cell_type": "markdown",
   "id": "08164829",
   "metadata": {},
   "source": [
    "## Setup"
   ]
  },
  {
   "cell_type": "code",
   "execution_count": 1,
   "id": "9e9ee6d1",
   "metadata": {},
   "outputs": [],
   "source": [
    "from datetime import datetime\n",
    "import git\n",
    "import os\n",
    "from typing import List\n",
    "from tqdm import tqdm\n",
    "import pandas as pd\n",
    "import numpy as np\n",
    "import matplotlib.pyplot as plt\n",
    "%matplotlib inline"
   ]
  },
  {
   "cell_type": "code",
   "execution_count": 2,
   "id": "f013a715",
   "metadata": {},
   "outputs": [
    {
     "data": {
      "text/plain": [
       "'/Users/anthonyhein/Desktop/SML310/project'"
      ]
     },
     "execution_count": 2,
     "metadata": {},
     "output_type": "execute_result"
    }
   ],
   "source": [
    "BASE_DIR = git.Repo(os.getcwd(), search_parent_directories=True).working_dir\n",
    "BASE_DIR"
   ]
  },
  {
   "cell_type": "markdown",
   "id": "900adb93",
   "metadata": {},
   "source": [
    "---"
   ]
  },
  {
   "cell_type": "markdown",
   "id": "45d30d31",
   "metadata": {},
   "source": [
    "## Load `X_train_preprocess_without_race.csv`"
   ]
  },
  {
   "cell_type": "code",
   "execution_count": 3,
   "id": "35ede263",
   "metadata": {},
   "outputs": [
    {
     "data": {
      "text/html": [
       "<div>\n",
       "<style scoped>\n",
       "    .dataframe tbody tr th:only-of-type {\n",
       "        vertical-align: middle;\n",
       "    }\n",
       "\n",
       "    .dataframe tbody tr th {\n",
       "        vertical-align: top;\n",
       "    }\n",
       "\n",
       "    .dataframe thead th {\n",
       "        text-align: right;\n",
       "    }\n",
       "</style>\n",
       "<table border=\"1\" class=\"dataframe\">\n",
       "  <thead>\n",
       "    <tr style=\"text-align: right;\">\n",
       "      <th></th>\n",
       "      <th>horse1_age</th>\n",
       "      <th>horse1_saddle</th>\n",
       "      <th>horse1_decimalPrice</th>\n",
       "      <th>horse1_isFav</th>\n",
       "      <th>horse1_outHandicap</th>\n",
       "      <th>horse1_RPR</th>\n",
       "      <th>horse1_weight</th>\n",
       "      <th>horse1_jockey_d_last_race</th>\n",
       "      <th>horse1_jockey_d_first_race</th>\n",
       "      <th>horse1_jockey_prev_1_position</th>\n",
       "      <th>...</th>\n",
       "      <th>horse2_jockey_prev_3_position_rain</th>\n",
       "      <th>horse2_jockey_prev_1_finishing_time_ratio_rain</th>\n",
       "      <th>horse2_jockey_prev_2_finishing_time_ratio_rain</th>\n",
       "      <th>horse2_jockey_prev_3_finishing_time_ratio_rain</th>\n",
       "      <th>horse2_jockey_prev_1_position_rhum</th>\n",
       "      <th>horse2_jockey_prev_2_position_rhum</th>\n",
       "      <th>horse2_jockey_prev_3_position_rhum</th>\n",
       "      <th>horse2_jockey_prev_1_finishing_time_ratio_rhum</th>\n",
       "      <th>horse2_jockey_prev_2_finishing_time_ratio_rhum</th>\n",
       "      <th>horse2_jockey_prev_3_finishing_time_ratio_rhum</th>\n",
       "    </tr>\n",
       "  </thead>\n",
       "  <tbody>\n",
       "    <tr>\n",
       "      <th>0</th>\n",
       "      <td>0.200000</td>\n",
       "      <td>0.230769</td>\n",
       "      <td>0.196970</td>\n",
       "      <td>0.0</td>\n",
       "      <td>0.0</td>\n",
       "      <td>0.73125</td>\n",
       "      <td>0.692308</td>\n",
       "      <td>0.007631</td>\n",
       "      <td>0.236544</td>\n",
       "      <td>0.100</td>\n",
       "      <td>...</td>\n",
       "      <td>0.050</td>\n",
       "      <td>0.805104</td>\n",
       "      <td>0.780139</td>\n",
       "      <td>0.783438</td>\n",
       "      <td>0.100</td>\n",
       "      <td>0.025</td>\n",
       "      <td>0.025</td>\n",
       "      <td>0.805104</td>\n",
       "      <td>0.799642</td>\n",
       "      <td>0.780139</td>\n",
       "    </tr>\n",
       "    <tr>\n",
       "      <th>1</th>\n",
       "      <td>0.400000</td>\n",
       "      <td>0.038462</td>\n",
       "      <td>0.072222</td>\n",
       "      <td>0.0</td>\n",
       "      <td>0.0</td>\n",
       "      <td>0.73125</td>\n",
       "      <td>0.743590</td>\n",
       "      <td>0.005050</td>\n",
       "      <td>0.236544</td>\n",
       "      <td>0.100</td>\n",
       "      <td>...</td>\n",
       "      <td>0.100</td>\n",
       "      <td>0.801416</td>\n",
       "      <td>0.781238</td>\n",
       "      <td>0.794160</td>\n",
       "      <td>0.075</td>\n",
       "      <td>0.050</td>\n",
       "      <td>0.075</td>\n",
       "      <td>0.801416</td>\n",
       "      <td>0.800487</td>\n",
       "      <td>0.785703</td>\n",
       "    </tr>\n",
       "    <tr>\n",
       "      <th>2</th>\n",
       "      <td>0.133333</td>\n",
       "      <td>0.423077</td>\n",
       "      <td>0.098485</td>\n",
       "      <td>0.0</td>\n",
       "      <td>0.0</td>\n",
       "      <td>0.65000</td>\n",
       "      <td>0.705128</td>\n",
       "      <td>0.000740</td>\n",
       "      <td>0.237283</td>\n",
       "      <td>0.025</td>\n",
       "      <td>...</td>\n",
       "      <td>0.100</td>\n",
       "      <td>0.799909</td>\n",
       "      <td>0.780139</td>\n",
       "      <td>0.786816</td>\n",
       "      <td>0.025</td>\n",
       "      <td>0.100</td>\n",
       "      <td>0.025</td>\n",
       "      <td>0.799642</td>\n",
       "      <td>0.806486</td>\n",
       "      <td>0.780139</td>\n",
       "    </tr>\n",
       "    <tr>\n",
       "      <th>3</th>\n",
       "      <td>0.133333</td>\n",
       "      <td>0.423077</td>\n",
       "      <td>0.098485</td>\n",
       "      <td>0.0</td>\n",
       "      <td>0.0</td>\n",
       "      <td>0.65000</td>\n",
       "      <td>0.705128</td>\n",
       "      <td>0.000740</td>\n",
       "      <td>0.237283</td>\n",
       "      <td>0.025</td>\n",
       "      <td>...</td>\n",
       "      <td>0.075</td>\n",
       "      <td>0.800176</td>\n",
       "      <td>0.781623</td>\n",
       "      <td>0.781870</td>\n",
       "      <td>0.050</td>\n",
       "      <td>0.075</td>\n",
       "      <td>0.050</td>\n",
       "      <td>0.801163</td>\n",
       "      <td>0.801416</td>\n",
       "      <td>0.780963</td>\n",
       "    </tr>\n",
       "    <tr>\n",
       "      <th>4</th>\n",
       "      <td>0.133333</td>\n",
       "      <td>0.192308</td>\n",
       "      <td>0.090278</td>\n",
       "      <td>0.0</td>\n",
       "      <td>0.0</td>\n",
       "      <td>0.66250</td>\n",
       "      <td>0.730769</td>\n",
       "      <td>0.000740</td>\n",
       "      <td>0.234655</td>\n",
       "      <td>0.050</td>\n",
       "      <td>...</td>\n",
       "      <td>0.100</td>\n",
       "      <td>0.799642</td>\n",
       "      <td>0.783601</td>\n",
       "      <td>0.785468</td>\n",
       "      <td>0.125</td>\n",
       "      <td>0.100</td>\n",
       "      <td>0.025</td>\n",
       "      <td>0.803191</td>\n",
       "      <td>0.805104</td>\n",
       "      <td>0.780139</td>\n",
       "    </tr>\n",
       "  </tbody>\n",
       "</table>\n",
       "<p>5 rows × 144 columns</p>\n",
       "</div>"
      ],
      "text/plain": [
       "   horse1_age  horse1_saddle  horse1_decimalPrice  horse1_isFav  \\\n",
       "0    0.200000       0.230769             0.196970           0.0   \n",
       "1    0.400000       0.038462             0.072222           0.0   \n",
       "2    0.133333       0.423077             0.098485           0.0   \n",
       "3    0.133333       0.423077             0.098485           0.0   \n",
       "4    0.133333       0.192308             0.090278           0.0   \n",
       "\n",
       "   horse1_outHandicap  horse1_RPR  horse1_weight  horse1_jockey_d_last_race  \\\n",
       "0                 0.0     0.73125       0.692308                   0.007631   \n",
       "1                 0.0     0.73125       0.743590                   0.005050   \n",
       "2                 0.0     0.65000       0.705128                   0.000740   \n",
       "3                 0.0     0.65000       0.705128                   0.000740   \n",
       "4                 0.0     0.66250       0.730769                   0.000740   \n",
       "\n",
       "   horse1_jockey_d_first_race  horse1_jockey_prev_1_position  ...  \\\n",
       "0                    0.236544                          0.100  ...   \n",
       "1                    0.236544                          0.100  ...   \n",
       "2                    0.237283                          0.025  ...   \n",
       "3                    0.237283                          0.025  ...   \n",
       "4                    0.234655                          0.050  ...   \n",
       "\n",
       "   horse2_jockey_prev_3_position_rain  \\\n",
       "0                               0.050   \n",
       "1                               0.100   \n",
       "2                               0.100   \n",
       "3                               0.075   \n",
       "4                               0.100   \n",
       "\n",
       "   horse2_jockey_prev_1_finishing_time_ratio_rain  \\\n",
       "0                                        0.805104   \n",
       "1                                        0.801416   \n",
       "2                                        0.799909   \n",
       "3                                        0.800176   \n",
       "4                                        0.799642   \n",
       "\n",
       "   horse2_jockey_prev_2_finishing_time_ratio_rain  \\\n",
       "0                                        0.780139   \n",
       "1                                        0.781238   \n",
       "2                                        0.780139   \n",
       "3                                        0.781623   \n",
       "4                                        0.783601   \n",
       "\n",
       "   horse2_jockey_prev_3_finishing_time_ratio_rain  \\\n",
       "0                                        0.783438   \n",
       "1                                        0.794160   \n",
       "2                                        0.786816   \n",
       "3                                        0.781870   \n",
       "4                                        0.785468   \n",
       "\n",
       "   horse2_jockey_prev_1_position_rhum  horse2_jockey_prev_2_position_rhum  \\\n",
       "0                               0.100                               0.025   \n",
       "1                               0.075                               0.050   \n",
       "2                               0.025                               0.100   \n",
       "3                               0.050                               0.075   \n",
       "4                               0.125                               0.100   \n",
       "\n",
       "   horse2_jockey_prev_3_position_rhum  \\\n",
       "0                               0.025   \n",
       "1                               0.075   \n",
       "2                               0.025   \n",
       "3                               0.050   \n",
       "4                               0.025   \n",
       "\n",
       "   horse2_jockey_prev_1_finishing_time_ratio_rhum  \\\n",
       "0                                        0.805104   \n",
       "1                                        0.801416   \n",
       "2                                        0.799642   \n",
       "3                                        0.801163   \n",
       "4                                        0.803191   \n",
       "\n",
       "   horse2_jockey_prev_2_finishing_time_ratio_rhum  \\\n",
       "0                                        0.799642   \n",
       "1                                        0.800487   \n",
       "2                                        0.806486   \n",
       "3                                        0.801416   \n",
       "4                                        0.805104   \n",
       "\n",
       "   horse2_jockey_prev_3_finishing_time_ratio_rhum  \n",
       "0                                        0.780139  \n",
       "1                                        0.785703  \n",
       "2                                        0.780139  \n",
       "3                                        0.780963  \n",
       "4                                        0.780139  \n",
       "\n",
       "[5 rows x 144 columns]"
      ]
     },
     "execution_count": 3,
     "metadata": {},
     "output_type": "execute_result"
    }
   ],
   "source": [
    "X_train = pd.read_csv(f\"{BASE_DIR}/data/analysis/X_train_preprocess_without_race.csv\", low_memory=False)\n",
    "X_train.head()"
   ]
  },
  {
   "cell_type": "code",
   "execution_count": 4,
   "id": "38188700",
   "metadata": {},
   "outputs": [
    {
     "data": {
      "text/plain": [
       "(800666, 144)"
      ]
     },
     "execution_count": 4,
     "metadata": {},
     "output_type": "execute_result"
    }
   ],
   "source": [
    "X_train.shape"
   ]
  },
  {
   "cell_type": "markdown",
   "id": "c4172c0e",
   "metadata": {},
   "source": [
    "---"
   ]
  },
  {
   "cell_type": "markdown",
   "id": "9ea983d7",
   "metadata": {},
   "source": [
    "## Load `X_dev_preprocess_without_race.csv`"
   ]
  },
  {
   "cell_type": "code",
   "execution_count": 5,
   "id": "c1e8ae98",
   "metadata": {},
   "outputs": [
    {
     "data": {
      "text/html": [
       "<div>\n",
       "<style scoped>\n",
       "    .dataframe tbody tr th:only-of-type {\n",
       "        vertical-align: middle;\n",
       "    }\n",
       "\n",
       "    .dataframe tbody tr th {\n",
       "        vertical-align: top;\n",
       "    }\n",
       "\n",
       "    .dataframe thead th {\n",
       "        text-align: right;\n",
       "    }\n",
       "</style>\n",
       "<table border=\"1\" class=\"dataframe\">\n",
       "  <thead>\n",
       "    <tr style=\"text-align: right;\">\n",
       "      <th></th>\n",
       "      <th>horse1_age</th>\n",
       "      <th>horse1_saddle</th>\n",
       "      <th>horse1_decimalPrice</th>\n",
       "      <th>horse1_isFav</th>\n",
       "      <th>horse1_outHandicap</th>\n",
       "      <th>horse1_RPR</th>\n",
       "      <th>horse1_weight</th>\n",
       "      <th>horse1_jockey_d_last_race</th>\n",
       "      <th>horse1_jockey_d_first_race</th>\n",
       "      <th>horse1_jockey_prev_1_position</th>\n",
       "      <th>...</th>\n",
       "      <th>horse2_jockey_prev_3_position_rain</th>\n",
       "      <th>horse2_jockey_prev_1_finishing_time_ratio_rain</th>\n",
       "      <th>horse2_jockey_prev_2_finishing_time_ratio_rain</th>\n",
       "      <th>horse2_jockey_prev_3_finishing_time_ratio_rain</th>\n",
       "      <th>horse2_jockey_prev_1_position_rhum</th>\n",
       "      <th>horse2_jockey_prev_2_position_rhum</th>\n",
       "      <th>horse2_jockey_prev_3_position_rhum</th>\n",
       "      <th>horse2_jockey_prev_1_finishing_time_ratio_rhum</th>\n",
       "      <th>horse2_jockey_prev_2_finishing_time_ratio_rhum</th>\n",
       "      <th>horse2_jockey_prev_3_finishing_time_ratio_rhum</th>\n",
       "    </tr>\n",
       "  </thead>\n",
       "  <tbody>\n",
       "    <tr>\n",
       "      <th>0</th>\n",
       "      <td>0.285714</td>\n",
       "      <td>0.105263</td>\n",
       "      <td>0.200000</td>\n",
       "      <td>0.0</td>\n",
       "      <td>0.0</td>\n",
       "      <td>0.608392</td>\n",
       "      <td>0.769231</td>\n",
       "      <td>0.001516</td>\n",
       "      <td>0.629407</td>\n",
       "      <td>0.250</td>\n",
       "      <td>...</td>\n",
       "      <td>0.200</td>\n",
       "      <td>0.828972</td>\n",
       "      <td>0.837641</td>\n",
       "      <td>0.843255</td>\n",
       "      <td>0.075</td>\n",
       "      <td>0.050</td>\n",
       "      <td>0.275</td>\n",
       "      <td>0.834583</td>\n",
       "      <td>0.828972</td>\n",
       "      <td>0.853796</td>\n",
       "    </tr>\n",
       "    <tr>\n",
       "      <th>1</th>\n",
       "      <td>0.285714</td>\n",
       "      <td>0.210526</td>\n",
       "      <td>0.157143</td>\n",
       "      <td>0.0</td>\n",
       "      <td>0.0</td>\n",
       "      <td>0.258741</td>\n",
       "      <td>0.769231</td>\n",
       "      <td>0.000445</td>\n",
       "      <td>0.286087</td>\n",
       "      <td>0.075</td>\n",
       "      <td>...</td>\n",
       "      <td>0.075</td>\n",
       "      <td>0.826039</td>\n",
       "      <td>0.826039</td>\n",
       "      <td>0.842799</td>\n",
       "      <td>0.025</td>\n",
       "      <td>0.025</td>\n",
       "      <td>0.075</td>\n",
       "      <td>0.826039</td>\n",
       "      <td>0.826039</td>\n",
       "      <td>0.842799</td>\n",
       "    </tr>\n",
       "    <tr>\n",
       "      <th>2</th>\n",
       "      <td>0.285714</td>\n",
       "      <td>0.210526</td>\n",
       "      <td>0.157143</td>\n",
       "      <td>0.0</td>\n",
       "      <td>0.0</td>\n",
       "      <td>0.258741</td>\n",
       "      <td>0.769231</td>\n",
       "      <td>0.000445</td>\n",
       "      <td>0.286087</td>\n",
       "      <td>0.075</td>\n",
       "      <td>...</td>\n",
       "      <td>0.125</td>\n",
       "      <td>0.826413</td>\n",
       "      <td>0.841758</td>\n",
       "      <td>0.844367</td>\n",
       "      <td>0.125</td>\n",
       "      <td>0.050</td>\n",
       "      <td>0.275</td>\n",
       "      <td>0.843955</td>\n",
       "      <td>0.826413</td>\n",
       "      <td>0.841758</td>\n",
       "    </tr>\n",
       "    <tr>\n",
       "      <th>3</th>\n",
       "      <td>0.285714</td>\n",
       "      <td>0.210526</td>\n",
       "      <td>0.157143</td>\n",
       "      <td>0.0</td>\n",
       "      <td>0.0</td>\n",
       "      <td>0.258741</td>\n",
       "      <td>0.769231</td>\n",
       "      <td>0.000445</td>\n",
       "      <td>0.286087</td>\n",
       "      <td>0.075</td>\n",
       "      <td>...</td>\n",
       "      <td>0.050</td>\n",
       "      <td>0.832401</td>\n",
       "      <td>0.832114</td>\n",
       "      <td>0.828366</td>\n",
       "      <td>0.100</td>\n",
       "      <td>0.075</td>\n",
       "      <td>0.050</td>\n",
       "      <td>0.832401</td>\n",
       "      <td>0.837064</td>\n",
       "      <td>0.828519</td>\n",
       "    </tr>\n",
       "    <tr>\n",
       "      <th>4</th>\n",
       "      <td>0.285714</td>\n",
       "      <td>0.210526</td>\n",
       "      <td>0.157143</td>\n",
       "      <td>0.0</td>\n",
       "      <td>0.0</td>\n",
       "      <td>0.258741</td>\n",
       "      <td>0.769231</td>\n",
       "      <td>0.000445</td>\n",
       "      <td>0.286087</td>\n",
       "      <td>0.075</td>\n",
       "      <td>...</td>\n",
       "      <td>0.175</td>\n",
       "      <td>0.857255</td>\n",
       "      <td>0.835266</td>\n",
       "      <td>0.834946</td>\n",
       "      <td>0.150</td>\n",
       "      <td>0.025</td>\n",
       "      <td>0.200</td>\n",
       "      <td>0.857255</td>\n",
       "      <td>0.826039</td>\n",
       "      <td>0.837392</td>\n",
       "    </tr>\n",
       "  </tbody>\n",
       "</table>\n",
       "<p>5 rows × 144 columns</p>\n",
       "</div>"
      ],
      "text/plain": [
       "   horse1_age  horse1_saddle  horse1_decimalPrice  horse1_isFav  \\\n",
       "0    0.285714       0.105263             0.200000           0.0   \n",
       "1    0.285714       0.210526             0.157143           0.0   \n",
       "2    0.285714       0.210526             0.157143           0.0   \n",
       "3    0.285714       0.210526             0.157143           0.0   \n",
       "4    0.285714       0.210526             0.157143           0.0   \n",
       "\n",
       "   horse1_outHandicap  horse1_RPR  horse1_weight  horse1_jockey_d_last_race  \\\n",
       "0                 0.0    0.608392       0.769231                   0.001516   \n",
       "1                 0.0    0.258741       0.769231                   0.000445   \n",
       "2                 0.0    0.258741       0.769231                   0.000445   \n",
       "3                 0.0    0.258741       0.769231                   0.000445   \n",
       "4                 0.0    0.258741       0.769231                   0.000445   \n",
       "\n",
       "   horse1_jockey_d_first_race  horse1_jockey_prev_1_position  ...  \\\n",
       "0                    0.629407                          0.250  ...   \n",
       "1                    0.286087                          0.075  ...   \n",
       "2                    0.286087                          0.075  ...   \n",
       "3                    0.286087                          0.075  ...   \n",
       "4                    0.286087                          0.075  ...   \n",
       "\n",
       "   horse2_jockey_prev_3_position_rain  \\\n",
       "0                               0.200   \n",
       "1                               0.075   \n",
       "2                               0.125   \n",
       "3                               0.050   \n",
       "4                               0.175   \n",
       "\n",
       "   horse2_jockey_prev_1_finishing_time_ratio_rain  \\\n",
       "0                                        0.828972   \n",
       "1                                        0.826039   \n",
       "2                                        0.826413   \n",
       "3                                        0.832401   \n",
       "4                                        0.857255   \n",
       "\n",
       "   horse2_jockey_prev_2_finishing_time_ratio_rain  \\\n",
       "0                                        0.837641   \n",
       "1                                        0.826039   \n",
       "2                                        0.841758   \n",
       "3                                        0.832114   \n",
       "4                                        0.835266   \n",
       "\n",
       "   horse2_jockey_prev_3_finishing_time_ratio_rain  \\\n",
       "0                                        0.843255   \n",
       "1                                        0.842799   \n",
       "2                                        0.844367   \n",
       "3                                        0.828366   \n",
       "4                                        0.834946   \n",
       "\n",
       "   horse2_jockey_prev_1_position_rhum  horse2_jockey_prev_2_position_rhum  \\\n",
       "0                               0.075                               0.050   \n",
       "1                               0.025                               0.025   \n",
       "2                               0.125                               0.050   \n",
       "3                               0.100                               0.075   \n",
       "4                               0.150                               0.025   \n",
       "\n",
       "   horse2_jockey_prev_3_position_rhum  \\\n",
       "0                               0.275   \n",
       "1                               0.075   \n",
       "2                               0.275   \n",
       "3                               0.050   \n",
       "4                               0.200   \n",
       "\n",
       "   horse2_jockey_prev_1_finishing_time_ratio_rhum  \\\n",
       "0                                        0.834583   \n",
       "1                                        0.826039   \n",
       "2                                        0.843955   \n",
       "3                                        0.832401   \n",
       "4                                        0.857255   \n",
       "\n",
       "   horse2_jockey_prev_2_finishing_time_ratio_rhum  \\\n",
       "0                                        0.828972   \n",
       "1                                        0.826039   \n",
       "2                                        0.826413   \n",
       "3                                        0.837064   \n",
       "4                                        0.826039   \n",
       "\n",
       "   horse2_jockey_prev_3_finishing_time_ratio_rhum  \n",
       "0                                        0.853796  \n",
       "1                                        0.842799  \n",
       "2                                        0.841758  \n",
       "3                                        0.828519  \n",
       "4                                        0.837392  \n",
       "\n",
       "[5 rows x 144 columns]"
      ]
     },
     "execution_count": 5,
     "metadata": {},
     "output_type": "execute_result"
    }
   ],
   "source": [
    "X_dev = pd.read_csv(f\"{BASE_DIR}/data/analysis/X_dev_preprocess_without_race.csv\", low_memory=False)\n",
    "X_dev.head()"
   ]
  },
  {
   "cell_type": "code",
   "execution_count": 6,
   "id": "1c73a76b",
   "metadata": {},
   "outputs": [
    {
     "data": {
      "text/plain": [
       "(228766, 144)"
      ]
     },
     "execution_count": 6,
     "metadata": {},
     "output_type": "execute_result"
    }
   ],
   "source": [
    "X_dev.shape"
   ]
  },
  {
   "cell_type": "markdown",
   "id": "06e5b3fb",
   "metadata": {},
   "source": [
    "---"
   ]
  },
  {
   "cell_type": "markdown",
   "id": "c7e37d95",
   "metadata": {},
   "source": [
    "## Load `X_test_preprocess_without_race.csv`"
   ]
  },
  {
   "cell_type": "code",
   "execution_count": 7,
   "id": "185675a2",
   "metadata": {},
   "outputs": [
    {
     "data": {
      "text/html": [
       "<div>\n",
       "<style scoped>\n",
       "    .dataframe tbody tr th:only-of-type {\n",
       "        vertical-align: middle;\n",
       "    }\n",
       "\n",
       "    .dataframe tbody tr th {\n",
       "        vertical-align: top;\n",
       "    }\n",
       "\n",
       "    .dataframe thead th {\n",
       "        text-align: right;\n",
       "    }\n",
       "</style>\n",
       "<table border=\"1\" class=\"dataframe\">\n",
       "  <thead>\n",
       "    <tr style=\"text-align: right;\">\n",
       "      <th></th>\n",
       "      <th>horse1_age</th>\n",
       "      <th>horse1_saddle</th>\n",
       "      <th>horse1_decimalPrice</th>\n",
       "      <th>horse1_isFav</th>\n",
       "      <th>horse1_outHandicap</th>\n",
       "      <th>horse1_RPR</th>\n",
       "      <th>horse1_weight</th>\n",
       "      <th>horse1_jockey_d_last_race</th>\n",
       "      <th>horse1_jockey_d_first_race</th>\n",
       "      <th>horse1_jockey_prev_1_position</th>\n",
       "      <th>...</th>\n",
       "      <th>horse2_jockey_prev_3_position_rain</th>\n",
       "      <th>horse2_jockey_prev_1_finishing_time_ratio_rain</th>\n",
       "      <th>horse2_jockey_prev_2_finishing_time_ratio_rain</th>\n",
       "      <th>horse2_jockey_prev_3_finishing_time_ratio_rain</th>\n",
       "      <th>horse2_jockey_prev_1_position_rhum</th>\n",
       "      <th>horse2_jockey_prev_2_position_rhum</th>\n",
       "      <th>horse2_jockey_prev_3_position_rhum</th>\n",
       "      <th>horse2_jockey_prev_1_finishing_time_ratio_rhum</th>\n",
       "      <th>horse2_jockey_prev_2_finishing_time_ratio_rhum</th>\n",
       "      <th>horse2_jockey_prev_3_finishing_time_ratio_rhum</th>\n",
       "    </tr>\n",
       "  </thead>\n",
       "  <tbody>\n",
       "    <tr>\n",
       "      <th>0</th>\n",
       "      <td>0.230769</td>\n",
       "      <td>0.333333</td>\n",
       "      <td>0.03268</td>\n",
       "      <td>0.0</td>\n",
       "      <td>0.0</td>\n",
       "      <td>0.344828</td>\n",
       "      <td>0.74359</td>\n",
       "      <td>0.001053</td>\n",
       "      <td>0.49501</td>\n",
       "      <td>0.225</td>\n",
       "      <td>...</td>\n",
       "      <td>0.200</td>\n",
       "      <td>0.865544</td>\n",
       "      <td>0.847264</td>\n",
       "      <td>0.853154</td>\n",
       "      <td>0.025</td>\n",
       "      <td>0.200</td>\n",
       "      <td>0.300</td>\n",
       "      <td>0.840533</td>\n",
       "      <td>0.850856</td>\n",
       "      <td>0.864844</td>\n",
       "    </tr>\n",
       "    <tr>\n",
       "      <th>1</th>\n",
       "      <td>0.230769</td>\n",
       "      <td>0.333333</td>\n",
       "      <td>0.03268</td>\n",
       "      <td>0.0</td>\n",
       "      <td>0.0</td>\n",
       "      <td>0.344828</td>\n",
       "      <td>0.74359</td>\n",
       "      <td>0.001053</td>\n",
       "      <td>0.49501</td>\n",
       "      <td>0.225</td>\n",
       "      <td>...</td>\n",
       "      <td>0.150</td>\n",
       "      <td>0.864781</td>\n",
       "      <td>0.840533</td>\n",
       "      <td>0.855519</td>\n",
       "      <td>0.025</td>\n",
       "      <td>0.025</td>\n",
       "      <td>0.025</td>\n",
       "      <td>0.840533</td>\n",
       "      <td>0.840533</td>\n",
       "      <td>0.840533</td>\n",
       "    </tr>\n",
       "    <tr>\n",
       "      <th>2</th>\n",
       "      <td>0.230769</td>\n",
       "      <td>0.333333</td>\n",
       "      <td>0.03268</td>\n",
       "      <td>0.0</td>\n",
       "      <td>0.0</td>\n",
       "      <td>0.344828</td>\n",
       "      <td>0.74359</td>\n",
       "      <td>0.001053</td>\n",
       "      <td>0.49501</td>\n",
       "      <td>0.225</td>\n",
       "      <td>...</td>\n",
       "      <td>0.075</td>\n",
       "      <td>0.838534</td>\n",
       "      <td>0.843337</td>\n",
       "      <td>0.846422</td>\n",
       "      <td>0.200</td>\n",
       "      <td>0.100</td>\n",
       "      <td>0.125</td>\n",
       "      <td>0.853412</td>\n",
       "      <td>0.842583</td>\n",
       "      <td>0.847859</td>\n",
       "    </tr>\n",
       "    <tr>\n",
       "      <th>3</th>\n",
       "      <td>0.230769</td>\n",
       "      <td>0.333333</td>\n",
       "      <td>0.03268</td>\n",
       "      <td>0.0</td>\n",
       "      <td>0.0</td>\n",
       "      <td>0.344828</td>\n",
       "      <td>0.74359</td>\n",
       "      <td>0.001053</td>\n",
       "      <td>0.49501</td>\n",
       "      <td>0.225</td>\n",
       "      <td>...</td>\n",
       "      <td>0.250</td>\n",
       "      <td>0.851685</td>\n",
       "      <td>0.849673</td>\n",
       "      <td>0.854624</td>\n",
       "      <td>0.150</td>\n",
       "      <td>0.250</td>\n",
       "      <td>0.200</td>\n",
       "      <td>0.849673</td>\n",
       "      <td>0.854624</td>\n",
       "      <td>0.858051</td>\n",
       "    </tr>\n",
       "    <tr>\n",
       "      <th>4</th>\n",
       "      <td>0.230769</td>\n",
       "      <td>0.333333</td>\n",
       "      <td>0.03268</td>\n",
       "      <td>0.0</td>\n",
       "      <td>0.0</td>\n",
       "      <td>0.344828</td>\n",
       "      <td>0.74359</td>\n",
       "      <td>0.001053</td>\n",
       "      <td>0.49501</td>\n",
       "      <td>0.225</td>\n",
       "      <td>...</td>\n",
       "      <td>0.250</td>\n",
       "      <td>0.847892</td>\n",
       "      <td>0.842776</td>\n",
       "      <td>0.862423</td>\n",
       "      <td>0.175</td>\n",
       "      <td>0.075</td>\n",
       "      <td>0.275</td>\n",
       "      <td>0.853634</td>\n",
       "      <td>0.844529</td>\n",
       "      <td>0.862845</td>\n",
       "    </tr>\n",
       "  </tbody>\n",
       "</table>\n",
       "<p>5 rows × 144 columns</p>\n",
       "</div>"
      ],
      "text/plain": [
       "   horse1_age  horse1_saddle  horse1_decimalPrice  horse1_isFav  \\\n",
       "0    0.230769       0.333333              0.03268           0.0   \n",
       "1    0.230769       0.333333              0.03268           0.0   \n",
       "2    0.230769       0.333333              0.03268           0.0   \n",
       "3    0.230769       0.333333              0.03268           0.0   \n",
       "4    0.230769       0.333333              0.03268           0.0   \n",
       "\n",
       "   horse1_outHandicap  horse1_RPR  horse1_weight  horse1_jockey_d_last_race  \\\n",
       "0                 0.0    0.344828        0.74359                   0.001053   \n",
       "1                 0.0    0.344828        0.74359                   0.001053   \n",
       "2                 0.0    0.344828        0.74359                   0.001053   \n",
       "3                 0.0    0.344828        0.74359                   0.001053   \n",
       "4                 0.0    0.344828        0.74359                   0.001053   \n",
       "\n",
       "   horse1_jockey_d_first_race  horse1_jockey_prev_1_position  ...  \\\n",
       "0                     0.49501                          0.225  ...   \n",
       "1                     0.49501                          0.225  ...   \n",
       "2                     0.49501                          0.225  ...   \n",
       "3                     0.49501                          0.225  ...   \n",
       "4                     0.49501                          0.225  ...   \n",
       "\n",
       "   horse2_jockey_prev_3_position_rain  \\\n",
       "0                               0.200   \n",
       "1                               0.150   \n",
       "2                               0.075   \n",
       "3                               0.250   \n",
       "4                               0.250   \n",
       "\n",
       "   horse2_jockey_prev_1_finishing_time_ratio_rain  \\\n",
       "0                                        0.865544   \n",
       "1                                        0.864781   \n",
       "2                                        0.838534   \n",
       "3                                        0.851685   \n",
       "4                                        0.847892   \n",
       "\n",
       "   horse2_jockey_prev_2_finishing_time_ratio_rain  \\\n",
       "0                                        0.847264   \n",
       "1                                        0.840533   \n",
       "2                                        0.843337   \n",
       "3                                        0.849673   \n",
       "4                                        0.842776   \n",
       "\n",
       "   horse2_jockey_prev_3_finishing_time_ratio_rain  \\\n",
       "0                                        0.853154   \n",
       "1                                        0.855519   \n",
       "2                                        0.846422   \n",
       "3                                        0.854624   \n",
       "4                                        0.862423   \n",
       "\n",
       "   horse2_jockey_prev_1_position_rhum  horse2_jockey_prev_2_position_rhum  \\\n",
       "0                               0.025                               0.200   \n",
       "1                               0.025                               0.025   \n",
       "2                               0.200                               0.100   \n",
       "3                               0.150                               0.250   \n",
       "4                               0.175                               0.075   \n",
       "\n",
       "   horse2_jockey_prev_3_position_rhum  \\\n",
       "0                               0.300   \n",
       "1                               0.025   \n",
       "2                               0.125   \n",
       "3                               0.200   \n",
       "4                               0.275   \n",
       "\n",
       "   horse2_jockey_prev_1_finishing_time_ratio_rhum  \\\n",
       "0                                        0.840533   \n",
       "1                                        0.840533   \n",
       "2                                        0.853412   \n",
       "3                                        0.849673   \n",
       "4                                        0.853634   \n",
       "\n",
       "   horse2_jockey_prev_2_finishing_time_ratio_rhum  \\\n",
       "0                                        0.850856   \n",
       "1                                        0.840533   \n",
       "2                                        0.842583   \n",
       "3                                        0.854624   \n",
       "4                                        0.844529   \n",
       "\n",
       "   horse2_jockey_prev_3_finishing_time_ratio_rhum  \n",
       "0                                        0.864844  \n",
       "1                                        0.840533  \n",
       "2                                        0.847859  \n",
       "3                                        0.858051  \n",
       "4                                        0.862845  \n",
       "\n",
       "[5 rows x 144 columns]"
      ]
     },
     "execution_count": 7,
     "metadata": {},
     "output_type": "execute_result"
    }
   ],
   "source": [
    "X_test = pd.read_csv(f\"{BASE_DIR}/data/analysis/X_test_preprocess_without_race.csv\", low_memory=False)\n",
    "X_test.head()"
   ]
  },
  {
   "cell_type": "code",
   "execution_count": 8,
   "id": "7a72f6b6",
   "metadata": {},
   "outputs": [
    {
     "data": {
      "text/plain": [
       "(114392, 144)"
      ]
     },
     "execution_count": 8,
     "metadata": {},
     "output_type": "execute_result"
    }
   ],
   "source": [
    "X_test.shape"
   ]
  },
  {
   "cell_type": "markdown",
   "id": "d2e418d3",
   "metadata": {},
   "source": [
    "---"
   ]
  },
  {
   "cell_type": "markdown",
   "id": "f07c04f4",
   "metadata": {},
   "source": [
    "## Load Pairwise Winner Labels"
   ]
  },
  {
   "cell_type": "code",
   "execution_count": 9,
   "id": "26f47c5c",
   "metadata": {},
   "outputs": [],
   "source": [
    "X_train_pairwise_winner_labels = np.loadtxt(f\"{BASE_DIR}/data/analysis/x_train_pairwise_winner_labels.csv\",\n",
    "                                            dtype=int,\n",
    "                                            delimiter=',')"
   ]
  },
  {
   "cell_type": "code",
   "execution_count": 10,
   "id": "ef6c4090",
   "metadata": {},
   "outputs": [],
   "source": [
    "X_dev_pairwise_winner_labels = np.loadtxt(f\"{BASE_DIR}/data/analysis/X_dev_pairwise_winner_labels.csv\",\n",
    "                                          dtype=int,\n",
    "                                          delimiter=',')"
   ]
  },
  {
   "cell_type": "code",
   "execution_count": 11,
   "id": "89302808",
   "metadata": {},
   "outputs": [],
   "source": [
    "X_test_pairwise_winner_labels = np.loadtxt(f\"{BASE_DIR}/data/analysis/X_test_pairwise_winner_labels.csv\",\n",
    "                                           dtype=int,\n",
    "                                           delimiter=',')"
   ]
  },
  {
   "cell_type": "markdown",
   "id": "f1b57957",
   "metadata": {},
   "source": [
    "---"
   ]
  },
  {
   "cell_type": "markdown",
   "id": "4c8b55dc",
   "metadata": {},
   "source": [
    "## Logistic Regression Model"
   ]
  },
  {
   "cell_type": "code",
   "execution_count": 12,
   "id": "53741379",
   "metadata": {},
   "outputs": [],
   "source": [
    "from sklearn.linear_model import LogisticRegression\n",
    "from sklearn.model_selection import PredefinedSplit, GridSearchCV\n",
    "\n",
    "## Fixing Random Seed for Reproducibility\n",
    "np.random.seed(0)"
   ]
  },
  {
   "cell_type": "code",
   "execution_count": 47,
   "id": "65466ae9",
   "metadata": {},
   "outputs": [],
   "source": [
    "## Hyperparameter Space\n",
    "space = {\n",
    "    'solver': ['newton-cg', 'lbfgs', 'liblinear'],\n",
    "    'penalty': ['none', 'l1', 'l2', 'elasticnet'],\n",
    "    'C': [0.01, 0.1, 10, 100],\n",
    "}"
   ]
  },
  {
   "cell_type": "code",
   "execution_count": 34,
   "id": "bc4b7bc3",
   "metadata": {},
   "outputs": [
    {
     "data": {
      "text/plain": [
       "(1029432, 144)"
      ]
     },
     "execution_count": 34,
     "metadata": {},
     "output_type": "execute_result"
    }
   ],
   "source": [
    "X_train_plus_dev = pd.concat([X_train, X_dev])\n",
    "X_train_plus_dev.shape"
   ]
  },
  {
   "cell_type": "code",
   "execution_count": 35,
   "id": "5dd46618",
   "metadata": {},
   "outputs": [
    {
     "data": {
      "text/plain": [
       "array([1, 0, 1, ..., 1, 1, 1])"
      ]
     },
     "execution_count": 35,
     "metadata": {},
     "output_type": "execute_result"
    }
   ],
   "source": [
    "X_train_plus_dev_pairwise_winner_labels = np.concatenate(\n",
    "    (X_train_pairwise_winner_labels, X_dev_pairwise_winner_labels)\n",
    ")\n",
    "X_train_plus_dev_pairwise_winner_labels"
   ]
  },
  {
   "cell_type": "code",
   "execution_count": 36,
   "id": "4c12b406",
   "metadata": {},
   "outputs": [
    {
     "data": {
      "text/plain": [
       "(800666, 228766)"
      ]
     },
     "execution_count": 36,
     "metadata": {},
     "output_type": "execute_result"
    }
   ],
   "source": [
    "len(X_train), len(X_dev)"
   ]
  },
  {
   "cell_type": "code",
   "execution_count": 37,
   "id": "6d9ff1de",
   "metadata": {},
   "outputs": [
    {
     "data": {
      "text/plain": [
       "array([-1., -1., -1., ...,  0.,  0.,  0.])"
      ]
     },
     "execution_count": 37,
     "metadata": {},
     "output_type": "execute_result"
    }
   ],
   "source": [
    "test_fold = np.concatenate(\n",
    "    (np.full(len(X_train), -1),\n",
    "     np.zeros(len(X_dev)))\n",
    ")\n",
    "test_fold"
   ]
  },
  {
   "cell_type": "code",
   "execution_count": 38,
   "id": "c51eb5d2",
   "metadata": {},
   "outputs": [
    {
     "data": {
      "text/plain": [
       "PredefinedSplit(test_fold=array([-1, -1, ...,  0,  0]))"
      ]
     },
     "execution_count": 38,
     "metadata": {},
     "output_type": "execute_result"
    }
   ],
   "source": [
    "## Predefined Split\n",
    "ps = PredefinedSplit(test_fold)\n",
    "ps"
   ]
  },
  {
   "cell_type": "code",
   "execution_count": 48,
   "id": "f3ee252b",
   "metadata": {},
   "outputs": [],
   "source": [
    "lr = LogisticRegression(max_iter=1000)"
   ]
  },
  {
   "cell_type": "code",
   "execution_count": 49,
   "id": "cc8e554e",
   "metadata": {},
   "outputs": [],
   "source": [
    "lr = GridSearchCV(lr, space, verbose=25, refit=False, cv=ps)"
   ]
  },
  {
   "cell_type": "code",
   "execution_count": 50,
   "id": "b0596b2a",
   "metadata": {
    "scrolled": false
   },
   "outputs": [
    {
     "name": "stdout",
     "output_type": "stream",
     "text": [
      "Fitting 1 folds for each of 48 candidates, totalling 48 fits\n",
      "[CV 1/1; 1/48] START C=0.01, penalty=none, solver=newton-cg.....................\n"
     ]
    },
    {
     "name": "stderr",
     "output_type": "stream",
     "text": [
      "/usr/local/lib/python3.9/site-packages/sklearn/linear_model/_logistic.py:1483: UserWarning: Setting penalty='none' will ignore the C and l1_ratio parameters\n",
      "  warnings.warn(\n"
     ]
    },
    {
     "name": "stdout",
     "output_type": "stream",
     "text": [
      "[CV 1/1; 1/48] END C=0.01, penalty=none, solver=newton-cg;, score=0.943 total time= 2.4min\n",
      "[CV 1/1; 2/48] START C=0.01, penalty=none, solver=lbfgs.........................\n"
     ]
    },
    {
     "name": "stderr",
     "output_type": "stream",
     "text": [
      "/usr/local/lib/python3.9/site-packages/sklearn/linear_model/_logistic.py:1483: UserWarning: Setting penalty='none' will ignore the C and l1_ratio parameters\n",
      "  warnings.warn(\n"
     ]
    },
    {
     "name": "stdout",
     "output_type": "stream",
     "text": [
      "[CV 1/1; 2/48] END C=0.01, penalty=none, solver=lbfgs;, score=0.943 total time= 1.3min\n",
      "[CV 1/1; 3/48] START C=0.01, penalty=none, solver=liblinear.....................\n",
      "[CV 1/1; 3/48] END C=0.01, penalty=none, solver=liblinear;, score=nan total time=   0.8s\n",
      "[CV 1/1; 4/48] START C=0.01, penalty=l1, solver=newton-cg.......................\n",
      "[CV 1/1; 4/48] END C=0.01, penalty=l1, solver=newton-cg;, score=nan total time=   0.8s\n",
      "[CV 1/1; 5/48] START C=0.01, penalty=l1, solver=lbfgs...........................\n",
      "[CV 1/1; 5/48] END C=0.01, penalty=l1, solver=lbfgs;, score=nan total time=   0.8s\n",
      "[CV 1/1; 6/48] START C=0.01, penalty=l1, solver=liblinear.......................\n",
      "[CV 1/1; 6/48] END C=0.01, penalty=l1, solver=liblinear;, score=0.942 total time=15.1min\n",
      "[CV 1/1; 7/48] START C=0.01, penalty=l2, solver=newton-cg.......................\n",
      "[CV 1/1; 7/48] END C=0.01, penalty=l2, solver=newton-cg;, score=0.927 total time=  47.6s\n",
      "[CV 1/1; 8/48] START C=0.01, penalty=l2, solver=lbfgs...........................\n",
      "[CV 1/1; 8/48] END C=0.01, penalty=l2, solver=lbfgs;, score=0.927 total time=  13.2s\n",
      "[CV 1/1; 9/48] START C=0.01, penalty=l2, solver=liblinear.......................\n",
      "[CV 1/1; 9/48] END C=0.01, penalty=l2, solver=liblinear;, score=0.927 total time=  32.1s\n",
      "[CV 1/1; 10/48] START C=0.01, penalty=elasticnet, solver=newton-cg..............\n",
      "[CV 1/1; 10/48] END C=0.01, penalty=elasticnet, solver=newton-cg;, score=nan total time=   0.8s\n",
      "[CV 1/1; 11/48] START C=0.01, penalty=elasticnet, solver=lbfgs..................\n",
      "[CV 1/1; 11/48] END C=0.01, penalty=elasticnet, solver=lbfgs;, score=nan total time=   0.8s\n",
      "[CV 1/1; 12/48] START C=0.01, penalty=elasticnet, solver=liblinear..............\n",
      "[CV 1/1; 12/48] END C=0.01, penalty=elasticnet, solver=liblinear;, score=nan total time=   0.7s\n",
      "[CV 1/1; 13/48] START C=0.1, penalty=none, solver=newton-cg.....................\n"
     ]
    },
    {
     "name": "stderr",
     "output_type": "stream",
     "text": [
      "/usr/local/lib/python3.9/site-packages/sklearn/linear_model/_logistic.py:1483: UserWarning: Setting penalty='none' will ignore the C and l1_ratio parameters\n",
      "  warnings.warn(\n"
     ]
    },
    {
     "name": "stdout",
     "output_type": "stream",
     "text": [
      "[CV 1/1; 13/48] END C=0.1, penalty=none, solver=newton-cg;, score=0.943 total time= 2.1min\n",
      "[CV 1/1; 14/48] START C=0.1, penalty=none, solver=lbfgs.........................\n"
     ]
    },
    {
     "name": "stderr",
     "output_type": "stream",
     "text": [
      "/usr/local/lib/python3.9/site-packages/sklearn/linear_model/_logistic.py:1483: UserWarning: Setting penalty='none' will ignore the C and l1_ratio parameters\n",
      "  warnings.warn(\n"
     ]
    },
    {
     "name": "stdout",
     "output_type": "stream",
     "text": [
      "[CV 1/1; 14/48] END C=0.1, penalty=none, solver=lbfgs;, score=0.943 total time= 1.1min\n",
      "[CV 1/1; 15/48] START C=0.1, penalty=none, solver=liblinear.....................\n",
      "[CV 1/1; 15/48] END C=0.1, penalty=none, solver=liblinear;, score=nan total time=   0.7s\n",
      "[CV 1/1; 16/48] START C=0.1, penalty=l1, solver=newton-cg.......................\n",
      "[CV 1/1; 16/48] END C=0.1, penalty=l1, solver=newton-cg;, score=nan total time=   0.7s\n",
      "[CV 1/1; 17/48] START C=0.1, penalty=l1, solver=lbfgs...........................\n",
      "[CV 1/1; 17/48] END C=0.1, penalty=l1, solver=lbfgs;, score=nan total time=   0.7s\n",
      "[CV 1/1; 18/48] START C=0.1, penalty=l1, solver=liblinear.......................\n",
      "[CV 1/1; 18/48] END C=0.1, penalty=l1, solver=liblinear;, score=0.943 total time=36.8min\n",
      "[CV 1/1; 19/48] START C=0.1, penalty=l2, solver=newton-cg.......................\n",
      "[CV 1/1; 19/48] END C=0.1, penalty=l2, solver=newton-cg;, score=0.939 total time= 1.2min\n",
      "[CV 1/1; 20/48] START C=0.1, penalty=l2, solver=lbfgs...........................\n",
      "[CV 1/1; 20/48] END C=0.1, penalty=l2, solver=lbfgs;, score=0.939 total time=  20.5s\n",
      "[CV 1/1; 21/48] START C=0.1, penalty=l2, solver=liblinear.......................\n",
      "[CV 1/1; 21/48] END C=0.1, penalty=l2, solver=liblinear;, score=0.939 total time=  53.5s\n",
      "[CV 1/1; 22/48] START C=0.1, penalty=elasticnet, solver=newton-cg...............\n",
      "[CV 1/1; 22/48] END C=0.1, penalty=elasticnet, solver=newton-cg;, score=nan total time=   0.7s\n",
      "[CV 1/1; 23/48] START C=0.1, penalty=elasticnet, solver=lbfgs...................\n",
      "[CV 1/1; 23/48] END C=0.1, penalty=elasticnet, solver=lbfgs;, score=nan total time=   0.7s\n",
      "[CV 1/1; 24/48] START C=0.1, penalty=elasticnet, solver=liblinear...............\n",
      "[CV 1/1; 24/48] END C=0.1, penalty=elasticnet, solver=liblinear;, score=nan total time=   0.7s\n",
      "[CV 1/1; 25/48] START C=10, penalty=none, solver=newton-cg......................\n"
     ]
    },
    {
     "name": "stderr",
     "output_type": "stream",
     "text": [
      "/usr/local/lib/python3.9/site-packages/sklearn/linear_model/_logistic.py:1483: UserWarning: Setting penalty='none' will ignore the C and l1_ratio parameters\n",
      "  warnings.warn(\n"
     ]
    },
    {
     "name": "stdout",
     "output_type": "stream",
     "text": [
      "[CV 1/1; 25/48] END C=10, penalty=none, solver=newton-cg;, score=0.943 total time= 2.1min\n",
      "[CV 1/1; 26/48] START C=10, penalty=none, solver=lbfgs..........................\n"
     ]
    },
    {
     "name": "stderr",
     "output_type": "stream",
     "text": [
      "/usr/local/lib/python3.9/site-packages/sklearn/linear_model/_logistic.py:1483: UserWarning: Setting penalty='none' will ignore the C and l1_ratio parameters\n",
      "  warnings.warn(\n"
     ]
    },
    {
     "name": "stdout",
     "output_type": "stream",
     "text": [
      "[CV 1/1; 26/48] END C=10, penalty=none, solver=lbfgs;, score=0.943 total time= 1.1min\n",
      "[CV 1/1; 27/48] START C=10, penalty=none, solver=liblinear......................\n",
      "[CV 1/1; 27/48] END C=10, penalty=none, solver=liblinear;, score=nan total time=   0.7s\n",
      "[CV 1/1; 28/48] START C=10, penalty=l1, solver=newton-cg........................\n",
      "[CV 1/1; 28/48] END C=10, penalty=l1, solver=newton-cg;, score=nan total time=   0.7s\n",
      "[CV 1/1; 29/48] START C=10, penalty=l1, solver=lbfgs............................\n",
      "[CV 1/1; 29/48] END C=10, penalty=l1, solver=lbfgs;, score=nan total time=   0.7s\n",
      "[CV 1/1; 30/48] START C=10, penalty=l1, solver=liblinear........................\n",
      "[CV 1/1; 30/48] END C=10, penalty=l1, solver=liblinear;, score=0.943 total time=142.1min\n",
      "[CV 1/1; 31/48] START C=10, penalty=l2, solver=newton-cg........................\n",
      "[CV 1/1; 31/48] END C=10, penalty=l2, solver=newton-cg;, score=0.943 total time= 1.7min\n",
      "[CV 1/1; 32/48] START C=10, penalty=l2, solver=lbfgs............................\n",
      "[CV 1/1; 32/48] END C=10, penalty=l2, solver=lbfgs;, score=0.943 total time= 1.3min\n",
      "[CV 1/1; 33/48] START C=10, penalty=l2, solver=liblinear........................\n",
      "[CV 1/1; 33/48] END C=10, penalty=l2, solver=liblinear;, score=0.943 total time= 1.3min\n",
      "[CV 1/1; 34/48] START C=10, penalty=elasticnet, solver=newton-cg................\n",
      "[CV 1/1; 34/48] END C=10, penalty=elasticnet, solver=newton-cg;, score=nan total time=   0.7s\n",
      "[CV 1/1; 35/48] START C=10, penalty=elasticnet, solver=lbfgs....................\n",
      "[CV 1/1; 35/48] END C=10, penalty=elasticnet, solver=lbfgs;, score=nan total time=   0.7s\n",
      "[CV 1/1; 36/48] START C=10, penalty=elasticnet, solver=liblinear................\n",
      "[CV 1/1; 36/48] END C=10, penalty=elasticnet, solver=liblinear;, score=nan total time=   0.7s\n",
      "[CV 1/1; 37/48] START C=100, penalty=none, solver=newton-cg.....................\n"
     ]
    },
    {
     "name": "stderr",
     "output_type": "stream",
     "text": [
      "/usr/local/lib/python3.9/site-packages/sklearn/linear_model/_logistic.py:1483: UserWarning: Setting penalty='none' will ignore the C and l1_ratio parameters\n",
      "  warnings.warn(\n"
     ]
    },
    {
     "name": "stdout",
     "output_type": "stream",
     "text": [
      "[CV 1/1; 37/48] END C=100, penalty=none, solver=newton-cg;, score=0.943 total time= 1.8min\n",
      "[CV 1/1; 38/48] START C=100, penalty=none, solver=lbfgs.........................\n"
     ]
    },
    {
     "name": "stderr",
     "output_type": "stream",
     "text": [
      "/usr/local/lib/python3.9/site-packages/sklearn/linear_model/_logistic.py:1483: UserWarning: Setting penalty='none' will ignore the C and l1_ratio parameters\n",
      "  warnings.warn(\n"
     ]
    },
    {
     "name": "stdout",
     "output_type": "stream",
     "text": [
      "[CV 1/1; 38/48] END C=100, penalty=none, solver=lbfgs;, score=0.943 total time= 1.0min\n",
      "[CV 1/1; 39/48] START C=100, penalty=none, solver=liblinear.....................\n",
      "[CV 1/1; 39/48] END C=100, penalty=none, solver=liblinear;, score=nan total time=   0.8s\n",
      "[CV 1/1; 40/48] START C=100, penalty=l1, solver=newton-cg.......................\n",
      "[CV 1/1; 40/48] END C=100, penalty=l1, solver=newton-cg;, score=nan total time=   0.7s\n",
      "[CV 1/1; 41/48] START C=100, penalty=l1, solver=lbfgs...........................\n",
      "[CV 1/1; 41/48] END C=100, penalty=l1, solver=lbfgs;, score=nan total time=   0.7s\n",
      "[CV 1/1; 42/48] START C=100, penalty=l1, solver=liblinear.......................\n",
      "[CV 1/1; 42/48] END C=100, penalty=l1, solver=liblinear;, score=0.943 total time=161.7min\n",
      "[CV 1/1; 43/48] START C=100, penalty=l2, solver=newton-cg.......................\n",
      "[CV 1/1; 43/48] END C=100, penalty=l2, solver=newton-cg;, score=0.943 total time= 1.2min\n",
      "[CV 1/1; 44/48] START C=100, penalty=l2, solver=lbfgs...........................\n",
      "[CV 1/1; 44/48] END C=100, penalty=l2, solver=lbfgs;, score=0.943 total time= 1.3min\n",
      "[CV 1/1; 45/48] START C=100, penalty=l2, solver=liblinear.......................\n",
      "[CV 1/1; 45/48] END C=100, penalty=l2, solver=liblinear;, score=0.943 total time= 1.3min\n",
      "[CV 1/1; 46/48] START C=100, penalty=elasticnet, solver=newton-cg...............\n",
      "[CV 1/1; 46/48] END C=100, penalty=elasticnet, solver=newton-cg;, score=nan total time=   0.7s\n",
      "[CV 1/1; 47/48] START C=100, penalty=elasticnet, solver=lbfgs...................\n",
      "[CV 1/1; 47/48] END C=100, penalty=elasticnet, solver=lbfgs;, score=nan total time=   0.7s\n",
      "[CV 1/1; 48/48] START C=100, penalty=elasticnet, solver=liblinear...............\n",
      "[CV 1/1; 48/48] END C=100, penalty=elasticnet, solver=liblinear;, score=nan total time=   0.7s\n"
     ]
    },
    {
     "name": "stderr",
     "output_type": "stream",
     "text": [
      "/usr/local/lib/python3.9/site-packages/sklearn/model_selection/_validation.py:372: FitFailedWarning: \n",
      "24 fits failed out of a total of 48.\n",
      "The score on these train-test partitions for these parameters will be set to nan.\n",
      "If these failures are not expected, you can try to debug them by setting error_score='raise'.\n",
      "\n",
      "Below are more details about the failures:\n",
      "--------------------------------------------------------------------------------\n",
      "4 fits failed with the following error:\n",
      "Traceback (most recent call last):\n",
      "  File \"/usr/local/lib/python3.9/site-packages/sklearn/model_selection/_validation.py\", line 681, in _fit_and_score\n",
      "    estimator.fit(X_train, y_train, **fit_params)\n",
      "  File \"/usr/local/lib/python3.9/site-packages/sklearn/linear_model/_logistic.py\", line 1461, in fit\n",
      "    solver = _check_solver(self.solver, self.penalty, self.dual)\n",
      "  File \"/usr/local/lib/python3.9/site-packages/sklearn/linear_model/_logistic.py\", line 464, in _check_solver\n",
      "    raise ValueError(\"penalty='none' is not supported for the liblinear solver\")\n",
      "ValueError: penalty='none' is not supported for the liblinear solver\n",
      "\n",
      "--------------------------------------------------------------------------------\n",
      "4 fits failed with the following error:\n",
      "Traceback (most recent call last):\n",
      "  File \"/usr/local/lib/python3.9/site-packages/sklearn/model_selection/_validation.py\", line 681, in _fit_and_score\n",
      "    estimator.fit(X_train, y_train, **fit_params)\n",
      "  File \"/usr/local/lib/python3.9/site-packages/sklearn/linear_model/_logistic.py\", line 1461, in fit\n",
      "    solver = _check_solver(self.solver, self.penalty, self.dual)\n",
      "  File \"/usr/local/lib/python3.9/site-packages/sklearn/linear_model/_logistic.py\", line 447, in _check_solver\n",
      "    raise ValueError(\n",
      "ValueError: Solver newton-cg supports only 'l2' or 'none' penalties, got l1 penalty.\n",
      "\n",
      "--------------------------------------------------------------------------------\n",
      "4 fits failed with the following error:\n",
      "Traceback (most recent call last):\n",
      "  File \"/usr/local/lib/python3.9/site-packages/sklearn/model_selection/_validation.py\", line 681, in _fit_and_score\n",
      "    estimator.fit(X_train, y_train, **fit_params)\n",
      "  File \"/usr/local/lib/python3.9/site-packages/sklearn/linear_model/_logistic.py\", line 1461, in fit\n",
      "    solver = _check_solver(self.solver, self.penalty, self.dual)\n",
      "  File \"/usr/local/lib/python3.9/site-packages/sklearn/linear_model/_logistic.py\", line 447, in _check_solver\n",
      "    raise ValueError(\n",
      "ValueError: Solver lbfgs supports only 'l2' or 'none' penalties, got l1 penalty.\n",
      "\n",
      "--------------------------------------------------------------------------------\n",
      "4 fits failed with the following error:\n",
      "Traceback (most recent call last):\n",
      "  File \"/usr/local/lib/python3.9/site-packages/sklearn/model_selection/_validation.py\", line 681, in _fit_and_score\n",
      "    estimator.fit(X_train, y_train, **fit_params)\n",
      "  File \"/usr/local/lib/python3.9/site-packages/sklearn/linear_model/_logistic.py\", line 1461, in fit\n",
      "    solver = _check_solver(self.solver, self.penalty, self.dual)\n",
      "  File \"/usr/local/lib/python3.9/site-packages/sklearn/linear_model/_logistic.py\", line 447, in _check_solver\n",
      "    raise ValueError(\n",
      "ValueError: Solver newton-cg supports only 'l2' or 'none' penalties, got elasticnet penalty.\n",
      "\n",
      "--------------------------------------------------------------------------------\n",
      "4 fits failed with the following error:\n",
      "Traceback (most recent call last):\n",
      "  File \"/usr/local/lib/python3.9/site-packages/sklearn/model_selection/_validation.py\", line 681, in _fit_and_score\n",
      "    estimator.fit(X_train, y_train, **fit_params)\n",
      "  File \"/usr/local/lib/python3.9/site-packages/sklearn/linear_model/_logistic.py\", line 1461, in fit\n",
      "    solver = _check_solver(self.solver, self.penalty, self.dual)\n",
      "  File \"/usr/local/lib/python3.9/site-packages/sklearn/linear_model/_logistic.py\", line 447, in _check_solver\n",
      "    raise ValueError(\n",
      "ValueError: Solver lbfgs supports only 'l2' or 'none' penalties, got elasticnet penalty.\n",
      "\n",
      "--------------------------------------------------------------------------------\n",
      "4 fits failed with the following error:\n",
      "Traceback (most recent call last):\n",
      "  File \"/usr/local/lib/python3.9/site-packages/sklearn/model_selection/_validation.py\", line 681, in _fit_and_score\n",
      "    estimator.fit(X_train, y_train, **fit_params)\n",
      "  File \"/usr/local/lib/python3.9/site-packages/sklearn/linear_model/_logistic.py\", line 1461, in fit\n",
      "    solver = _check_solver(self.solver, self.penalty, self.dual)\n",
      "  File \"/usr/local/lib/python3.9/site-packages/sklearn/linear_model/_logistic.py\", line 457, in _check_solver\n",
      "    raise ValueError(\n",
      "ValueError: Only 'saga' solver supports elasticnet penalty, got solver=liblinear.\n",
      "\n",
      "  warnings.warn(some_fits_failed_message, FitFailedWarning)\n",
      "/usr/local/lib/python3.9/site-packages/sklearn/model_selection/_search.py:969: UserWarning: One or more of the test scores are non-finite: [0.94304224 0.94309469        nan        nan        nan 0.94225103\n",
      " 0.92666305 0.92670677 0.92671114        nan        nan        nan\n",
      " 0.94304224 0.94309469        nan        nan        nan 0.94300727\n",
      " 0.93938785 0.93945342 0.93943156        nan        nan        nan\n",
      " 0.94304224 0.94309469        nan        nan        nan 0.94315589\n",
      " 0.94302475 0.94307283 0.94302912        nan        nan        nan\n",
      " 0.94304224 0.94309469        nan        nan        nan 0.94312966\n",
      " 0.94301601 0.94311218 0.94307721        nan        nan        nan]\n",
      "  warnings.warn(\n"
     ]
    }
   ],
   "source": [
    "search = lr.fit(X_train_plus_dev.to_numpy(), X_train_plus_dev_pairwise_winner_labels)"
   ]
  },
  {
   "cell_type": "code",
   "execution_count": 51,
   "id": "e0695141",
   "metadata": {
    "scrolled": true
   },
   "outputs": [
    {
     "name": "stdout",
     "output_type": "stream",
     "text": [
      "Best Score: 0.9431558885498719\n",
      "Best Hyperparameters: {'C': 10, 'penalty': 'l1', 'solver': 'liblinear'}\n"
     ]
    }
   ],
   "source": [
    "print(f\"Best Score: {search.best_score_}\")\n",
    "print(f\"Best Hyperparameters: {search.best_params_}\")"
   ]
  },
  {
   "cell_type": "code",
   "execution_count": 53,
   "id": "2e5da5fd",
   "metadata": {},
   "outputs": [
    {
     "data": {
      "text/html": [
       "<div>\n",
       "<style scoped>\n",
       "    .dataframe tbody tr th:only-of-type {\n",
       "        vertical-align: middle;\n",
       "    }\n",
       "\n",
       "    .dataframe tbody tr th {\n",
       "        vertical-align: top;\n",
       "    }\n",
       "\n",
       "    .dataframe thead th {\n",
       "        text-align: right;\n",
       "    }\n",
       "</style>\n",
       "<table border=\"1\" class=\"dataframe\">\n",
       "  <thead>\n",
       "    <tr style=\"text-align: right;\">\n",
       "      <th></th>\n",
       "      <th>mean_fit_time</th>\n",
       "      <th>std_fit_time</th>\n",
       "      <th>mean_score_time</th>\n",
       "      <th>std_score_time</th>\n",
       "      <th>param_C</th>\n",
       "      <th>param_penalty</th>\n",
       "      <th>param_solver</th>\n",
       "      <th>params</th>\n",
       "      <th>split0_test_score</th>\n",
       "      <th>mean_test_score</th>\n",
       "      <th>std_test_score</th>\n",
       "      <th>rank_test_score</th>\n",
       "    </tr>\n",
       "  </thead>\n",
       "  <tbody>\n",
       "    <tr>\n",
       "      <th>0</th>\n",
       "      <td>142.769847</td>\n",
       "      <td>0.0</td>\n",
       "      <td>0.704565</td>\n",
       "      <td>0.0</td>\n",
       "      <td>0.01</td>\n",
       "      <td>none</td>\n",
       "      <td>newton-cg</td>\n",
       "      <td>{'C': 0.01, 'penalty': 'none', 'solver': 'newt...</td>\n",
       "      <td>0.943042</td>\n",
       "      <td>0.943042</td>\n",
       "      <td>0.0</td>\n",
       "      <td>10</td>\n",
       "    </tr>\n",
       "    <tr>\n",
       "      <th>1</th>\n",
       "      <td>75.759495</td>\n",
       "      <td>0.0</td>\n",
       "      <td>0.076401</td>\n",
       "      <td>0.0</td>\n",
       "      <td>0.01</td>\n",
       "      <td>none</td>\n",
       "      <td>lbfgs</td>\n",
       "      <td>{'C': 0.01, 'penalty': 'none', 'solver': 'lbfgs'}</td>\n",
       "      <td>0.943095</td>\n",
       "      <td>0.943095</td>\n",
       "      <td>0.0</td>\n",
       "      <td>4</td>\n",
       "    </tr>\n",
       "    <tr>\n",
       "      <th>2</th>\n",
       "      <td>0.767871</td>\n",
       "      <td>0.0</td>\n",
       "      <td>0.000000</td>\n",
       "      <td>0.0</td>\n",
       "      <td>0.01</td>\n",
       "      <td>none</td>\n",
       "      <td>liblinear</td>\n",
       "      <td>{'C': 0.01, 'penalty': 'none', 'solver': 'libl...</td>\n",
       "      <td>NaN</td>\n",
       "      <td>NaN</td>\n",
       "      <td>NaN</td>\n",
       "      <td>46</td>\n",
       "    </tr>\n",
       "    <tr>\n",
       "      <th>3</th>\n",
       "      <td>0.802443</td>\n",
       "      <td>0.0</td>\n",
       "      <td>0.000000</td>\n",
       "      <td>0.0</td>\n",
       "      <td>0.01</td>\n",
       "      <td>l1</td>\n",
       "      <td>newton-cg</td>\n",
       "      <td>{'C': 0.01, 'penalty': 'l1', 'solver': 'newton...</td>\n",
       "      <td>NaN</td>\n",
       "      <td>NaN</td>\n",
       "      <td>NaN</td>\n",
       "      <td>45</td>\n",
       "    </tr>\n",
       "    <tr>\n",
       "      <th>4</th>\n",
       "      <td>0.778186</td>\n",
       "      <td>0.0</td>\n",
       "      <td>0.000000</td>\n",
       "      <td>0.0</td>\n",
       "      <td>0.01</td>\n",
       "      <td>l1</td>\n",
       "      <td>lbfgs</td>\n",
       "      <td>{'C': 0.01, 'penalty': 'l1', 'solver': 'lbfgs'}</td>\n",
       "      <td>NaN</td>\n",
       "      <td>NaN</td>\n",
       "      <td>NaN</td>\n",
       "      <td>44</td>\n",
       "    </tr>\n",
       "  </tbody>\n",
       "</table>\n",
       "</div>"
      ],
      "text/plain": [
       "   mean_fit_time  std_fit_time  mean_score_time  std_score_time param_C  \\\n",
       "0     142.769847           0.0         0.704565             0.0    0.01   \n",
       "1      75.759495           0.0         0.076401             0.0    0.01   \n",
       "2       0.767871           0.0         0.000000             0.0    0.01   \n",
       "3       0.802443           0.0         0.000000             0.0    0.01   \n",
       "4       0.778186           0.0         0.000000             0.0    0.01   \n",
       "\n",
       "  param_penalty param_solver  \\\n",
       "0          none    newton-cg   \n",
       "1          none        lbfgs   \n",
       "2          none    liblinear   \n",
       "3            l1    newton-cg   \n",
       "4            l1        lbfgs   \n",
       "\n",
       "                                              params  split0_test_score  \\\n",
       "0  {'C': 0.01, 'penalty': 'none', 'solver': 'newt...           0.943042   \n",
       "1  {'C': 0.01, 'penalty': 'none', 'solver': 'lbfgs'}           0.943095   \n",
       "2  {'C': 0.01, 'penalty': 'none', 'solver': 'libl...                NaN   \n",
       "3  {'C': 0.01, 'penalty': 'l1', 'solver': 'newton...                NaN   \n",
       "4    {'C': 0.01, 'penalty': 'l1', 'solver': 'lbfgs'}                NaN   \n",
       "\n",
       "   mean_test_score  std_test_score  rank_test_score  \n",
       "0         0.943042             0.0               10  \n",
       "1         0.943095             0.0                4  \n",
       "2              NaN             NaN               46  \n",
       "3              NaN             NaN               45  \n",
       "4              NaN             NaN               44  "
      ]
     },
     "execution_count": 53,
     "metadata": {},
     "output_type": "execute_result"
    }
   ],
   "source": [
    "pd.DataFrame(search.cv_results_).sort_values('rank_test_score')"
   ]
  },
  {
   "cell_type": "code",
   "execution_count": 54,
   "id": "93c51f9d",
   "metadata": {},
   "outputs": [],
   "source": [
    "pd.DataFrame(search.cv_results_).to_csv(\n",
    "    f\"{BASE_DIR}/data/analysis/logistic_regression/without_race_with_weather.csv\", index=False\n",
    ")"
   ]
  },
  {
   "cell_type": "code",
   "execution_count": 13,
   "id": "3eb25d13",
   "metadata": {},
   "outputs": [],
   "source": [
    "import pickle\n",
    "\n",
    "lr = LogisticRegression(\n",
    "    max_iter=1000,\n",
    "    C=100,\n",
    "    penalty='l2',\n",
    "    solver='lbfgs',\n",
    ").fit(X_train.to_numpy(), X_train_pairwise_winner_labels)\n",
    "\n",
    "with open(f\"{BASE_DIR}/data/analysis/logistic_regression/without_race_with_weather.pkl\",'wb') as f:\n",
    "    pickle.dump(lr, f)"
   ]
  },
  {
   "cell_type": "markdown",
   "id": "901e0a6c",
   "metadata": {},
   "source": [
    "---"
   ]
  }
 ],
 "metadata": {
  "kernelspec": {
   "display_name": "Python 3 (ipykernel)",
   "language": "python",
   "name": "python3"
  },
  "language_info": {
   "codemirror_mode": {
    "name": "ipython",
    "version": 3
   },
   "file_extension": ".py",
   "mimetype": "text/x-python",
   "name": "python",
   "nbconvert_exporter": "python",
   "pygments_lexer": "ipython3",
   "version": "3.9.6"
  }
 },
 "nbformat": 4,
 "nbformat_minor": 5
}
