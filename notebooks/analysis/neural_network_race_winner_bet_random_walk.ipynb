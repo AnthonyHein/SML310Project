{
 "cells": [
  {
   "cell_type": "markdown",
   "id": "7026e67b",
   "metadata": {},
   "source": [
    "# `neural_network_race_winner_bet_random_walk.ipynb`"
   ]
  },
  {
   "cell_type": "markdown",
   "id": "c052cb33",
   "metadata": {},
   "source": [
    "### Author: Anthony Hein"
   ]
  },
  {
   "cell_type": "markdown",
   "id": "194e2cf5",
   "metadata": {},
   "source": [
    "#### Last updated: 12/7/2021"
   ]
  },
  {
   "cell_type": "markdown",
   "id": "1b86aa88",
   "metadata": {},
   "source": [
    "# Overview:\n",
    "\n",
    "Use the neural network which has been trained to predict pairwise winners of a race to now resolve an entire race and visualize its \"goodness\" as the random walk of the balance of a bettor using the neural network."
   ]
  },
  {
   "cell_type": "markdown",
   "id": "697e80d8",
   "metadata": {},
   "source": [
    "---"
   ]
  },
  {
   "cell_type": "markdown",
   "id": "08164829",
   "metadata": {},
   "source": [
    "## Setup"
   ]
  },
  {
   "cell_type": "code",
   "execution_count": 1,
   "id": "9e9ee6d1",
   "metadata": {},
   "outputs": [],
   "source": [
    "import git\n",
    "import os\n",
    "import re\n",
    "from typing import List\n",
    "from tqdm import tqdm\n",
    "import pandas as pd\n",
    "import numpy as np\n",
    "import matplotlib.pyplot as plt\n",
    "from datetime import datetime\n",
    "%matplotlib inline"
   ]
  },
  {
   "cell_type": "code",
   "execution_count": 2,
   "id": "f013a715",
   "metadata": {},
   "outputs": [
    {
     "data": {
      "text/plain": [
       "'/Users/anthonyhein/Desktop/SML310/project'"
      ]
     },
     "execution_count": 2,
     "metadata": {},
     "output_type": "execute_result"
    }
   ],
   "source": [
    "BASE_DIR = git.Repo(os.getcwd(), search_parent_directories=True).working_dir\n",
    "BASE_DIR"
   ]
  },
  {
   "cell_type": "markdown",
   "id": "900adb93",
   "metadata": {},
   "source": [
    "---"
   ]
  },
  {
   "cell_type": "markdown",
   "id": "13c43362",
   "metadata": {},
   "source": [
    "## Load `horses_selected_trimmed_clean.csv`"
   ]
  },
  {
   "cell_type": "code",
   "execution_count": 3,
   "id": "40883bd3",
   "metadata": {},
   "outputs": [
    {
     "data": {
      "text/html": [
       "<div>\n",
       "<style scoped>\n",
       "    .dataframe tbody tr th:only-of-type {\n",
       "        vertical-align: middle;\n",
       "    }\n",
       "\n",
       "    .dataframe tbody tr th {\n",
       "        vertical-align: top;\n",
       "    }\n",
       "\n",
       "    .dataframe thead th {\n",
       "        text-align: right;\n",
       "    }\n",
       "</style>\n",
       "<table border=\"1\" class=\"dataframe\">\n",
       "  <thead>\n",
       "    <tr style=\"text-align: right;\">\n",
       "      <th></th>\n",
       "      <th>rid</th>\n",
       "      <th>horseName</th>\n",
       "      <th>age</th>\n",
       "      <th>saddle</th>\n",
       "      <th>decimalPrice</th>\n",
       "      <th>isFav</th>\n",
       "      <th>trainerName</th>\n",
       "      <th>jockeyName</th>\n",
       "      <th>position</th>\n",
       "      <th>positionL</th>\n",
       "      <th>...</th>\n",
       "      <th>RPR</th>\n",
       "      <th>TR</th>\n",
       "      <th>OR</th>\n",
       "      <th>father</th>\n",
       "      <th>mother</th>\n",
       "      <th>gfather</th>\n",
       "      <th>weight</th>\n",
       "      <th>res_win</th>\n",
       "      <th>res_place</th>\n",
       "      <th>res_show</th>\n",
       "    </tr>\n",
       "  </thead>\n",
       "  <tbody>\n",
       "    <tr>\n",
       "      <th>0</th>\n",
       "      <td>302858</td>\n",
       "      <td>Kings Return</td>\n",
       "      <td>6.0</td>\n",
       "      <td>4.0</td>\n",
       "      <td>0.600000</td>\n",
       "      <td>1</td>\n",
       "      <td>W P Mullins</td>\n",
       "      <td>D J Casey</td>\n",
       "      <td>1</td>\n",
       "      <td>0</td>\n",
       "      <td>...</td>\n",
       "      <td>102.0</td>\n",
       "      <td>NaN</td>\n",
       "      <td>NaN</td>\n",
       "      <td>King's Ride</td>\n",
       "      <td>Browne's Return</td>\n",
       "      <td>Deep Run</td>\n",
       "      <td>73</td>\n",
       "      <td>1</td>\n",
       "      <td>1</td>\n",
       "      <td>0</td>\n",
       "    </tr>\n",
       "    <tr>\n",
       "      <th>1</th>\n",
       "      <td>302858</td>\n",
       "      <td>Majestic Red I</td>\n",
       "      <td>6.0</td>\n",
       "      <td>5.0</td>\n",
       "      <td>0.047619</td>\n",
       "      <td>0</td>\n",
       "      <td>John Hackett</td>\n",
       "      <td>Conor O'Dwyer</td>\n",
       "      <td>2</td>\n",
       "      <td>8</td>\n",
       "      <td>...</td>\n",
       "      <td>94.0</td>\n",
       "      <td>NaN</td>\n",
       "      <td>NaN</td>\n",
       "      <td>Long Pond</td>\n",
       "      <td>Courtlough Lady</td>\n",
       "      <td>Giolla Mear</td>\n",
       "      <td>73</td>\n",
       "      <td>0</td>\n",
       "      <td>1</td>\n",
       "      <td>0</td>\n",
       "    </tr>\n",
       "    <tr>\n",
       "      <th>2</th>\n",
       "      <td>302858</td>\n",
       "      <td>Clearly Canadian</td>\n",
       "      <td>6.0</td>\n",
       "      <td>2.0</td>\n",
       "      <td>0.166667</td>\n",
       "      <td>0</td>\n",
       "      <td>D T Hughes</td>\n",
       "      <td>G Cotter</td>\n",
       "      <td>3</td>\n",
       "      <td>1.5</td>\n",
       "      <td>...</td>\n",
       "      <td>92.0</td>\n",
       "      <td>NaN</td>\n",
       "      <td>NaN</td>\n",
       "      <td>Nordico</td>\n",
       "      <td>Over The Seas</td>\n",
       "      <td>North Summit</td>\n",
       "      <td>71</td>\n",
       "      <td>0</td>\n",
       "      <td>0</td>\n",
       "      <td>0</td>\n",
       "    </tr>\n",
       "    <tr>\n",
       "      <th>3</th>\n",
       "      <td>302858</td>\n",
       "      <td>Bernestic Wonder</td>\n",
       "      <td>8.0</td>\n",
       "      <td>1.0</td>\n",
       "      <td>0.058824</td>\n",
       "      <td>0</td>\n",
       "      <td>E McNamara</td>\n",
       "      <td>J Old Jones</td>\n",
       "      <td>4</td>\n",
       "      <td>dist</td>\n",
       "      <td>...</td>\n",
       "      <td>NaN</td>\n",
       "      <td>NaN</td>\n",
       "      <td>NaN</td>\n",
       "      <td>Roselier</td>\n",
       "      <td>Miss Reindeer</td>\n",
       "      <td>Reindeer</td>\n",
       "      <td>73</td>\n",
       "      <td>0</td>\n",
       "      <td>0</td>\n",
       "      <td>0</td>\n",
       "    </tr>\n",
       "    <tr>\n",
       "      <th>4</th>\n",
       "      <td>302858</td>\n",
       "      <td>Beauty's Pride</td>\n",
       "      <td>5.0</td>\n",
       "      <td>6.0</td>\n",
       "      <td>0.038462</td>\n",
       "      <td>0</td>\n",
       "      <td>J J Lennon</td>\n",
       "      <td>T Martin</td>\n",
       "      <td>5</td>\n",
       "      <td>dist</td>\n",
       "      <td>...</td>\n",
       "      <td>NaN</td>\n",
       "      <td>NaN</td>\n",
       "      <td>NaN</td>\n",
       "      <td>Noalto</td>\n",
       "      <td>Elena's Beauty</td>\n",
       "      <td>Tarqogan</td>\n",
       "      <td>66</td>\n",
       "      <td>0</td>\n",
       "      <td>0</td>\n",
       "      <td>0</td>\n",
       "    </tr>\n",
       "  </tbody>\n",
       "</table>\n",
       "<p>5 rows × 22 columns</p>\n",
       "</div>"
      ],
      "text/plain": [
       "      rid         horseName  age  saddle  decimalPrice  isFav   trainerName  \\\n",
       "0  302858      Kings Return  6.0     4.0      0.600000      1   W P Mullins   \n",
       "1  302858    Majestic Red I  6.0     5.0      0.047619      0  John Hackett   \n",
       "2  302858  Clearly Canadian  6.0     2.0      0.166667      0    D T Hughes   \n",
       "3  302858  Bernestic Wonder  8.0     1.0      0.058824      0    E McNamara   \n",
       "4  302858    Beauty's Pride  5.0     6.0      0.038462      0    J J Lennon   \n",
       "\n",
       "      jockeyName  position positionL  ...    RPR  TR  OR       father  \\\n",
       "0      D J Casey         1         0  ...  102.0 NaN NaN  King's Ride   \n",
       "1  Conor O'Dwyer         2         8  ...   94.0 NaN NaN    Long Pond   \n",
       "2       G Cotter         3       1.5  ...   92.0 NaN NaN      Nordico   \n",
       "3    J Old Jones         4      dist  ...    NaN NaN NaN     Roselier   \n",
       "4       T Martin         5      dist  ...    NaN NaN NaN       Noalto   \n",
       "\n",
       "            mother       gfather weight res_win  res_place  res_show  \n",
       "0  Browne's Return      Deep Run     73       1          1         0  \n",
       "1  Courtlough Lady   Giolla Mear     73       0          1         0  \n",
       "2    Over The Seas  North Summit     71       0          0         0  \n",
       "3    Miss Reindeer      Reindeer     73       0          0         0  \n",
       "4   Elena's Beauty      Tarqogan     66       0          0         0  \n",
       "\n",
       "[5 rows x 22 columns]"
      ]
     },
     "execution_count": 3,
     "metadata": {},
     "output_type": "execute_result"
    }
   ],
   "source": [
    "horses_clean = pd.read_csv(f\"{BASE_DIR}/data/streamline/horses_selected_trimmed_clean.csv\", low_memory=False)\n",
    "horses_clean.head()"
   ]
  },
  {
   "cell_type": "code",
   "execution_count": 4,
   "id": "fc6857bd",
   "metadata": {},
   "outputs": [],
   "source": [
    "horses_clean = horses_clean[['rid', 'horseName', 'decimalPrice', 'position', 'res_win', 'res_place', 'res_show']]"
   ]
  },
  {
   "cell_type": "markdown",
   "id": "f254731d",
   "metadata": {},
   "source": [
    "---"
   ]
  },
  {
   "cell_type": "markdown",
   "id": "da9daf25",
   "metadata": {},
   "source": [
    "## Load `X_train_preprocess_without_race.csv`"
   ]
  },
  {
   "cell_type": "code",
   "execution_count": 5,
   "id": "f04cfc74",
   "metadata": {},
   "outputs": [
    {
     "data": {
      "text/html": [
       "<div>\n",
       "<style scoped>\n",
       "    .dataframe tbody tr th:only-of-type {\n",
       "        vertical-align: middle;\n",
       "    }\n",
       "\n",
       "    .dataframe tbody tr th {\n",
       "        vertical-align: top;\n",
       "    }\n",
       "\n",
       "    .dataframe thead th {\n",
       "        text-align: right;\n",
       "    }\n",
       "</style>\n",
       "<table border=\"1\" class=\"dataframe\">\n",
       "  <thead>\n",
       "    <tr style=\"text-align: right;\">\n",
       "      <th></th>\n",
       "      <th>horse1_age</th>\n",
       "      <th>horse1_saddle</th>\n",
       "      <th>horse1_decimalPrice</th>\n",
       "      <th>horse1_isFav</th>\n",
       "      <th>horse1_outHandicap</th>\n",
       "      <th>horse1_RPR</th>\n",
       "      <th>horse1_weight</th>\n",
       "      <th>horse1_jockey_d_last_race</th>\n",
       "      <th>horse1_jockey_d_first_race</th>\n",
       "      <th>horse1_jockey_prev_1_position</th>\n",
       "      <th>...</th>\n",
       "      <th>horse2_jockey_prev_3_position_rain</th>\n",
       "      <th>horse2_jockey_prev_1_finishing_time_ratio_rain</th>\n",
       "      <th>horse2_jockey_prev_2_finishing_time_ratio_rain</th>\n",
       "      <th>horse2_jockey_prev_3_finishing_time_ratio_rain</th>\n",
       "      <th>horse2_jockey_prev_1_position_rhum</th>\n",
       "      <th>horse2_jockey_prev_2_position_rhum</th>\n",
       "      <th>horse2_jockey_prev_3_position_rhum</th>\n",
       "      <th>horse2_jockey_prev_1_finishing_time_ratio_rhum</th>\n",
       "      <th>horse2_jockey_prev_2_finishing_time_ratio_rhum</th>\n",
       "      <th>horse2_jockey_prev_3_finishing_time_ratio_rhum</th>\n",
       "    </tr>\n",
       "  </thead>\n",
       "  <tbody>\n",
       "    <tr>\n",
       "      <th>0</th>\n",
       "      <td>0.200000</td>\n",
       "      <td>0.230769</td>\n",
       "      <td>0.196970</td>\n",
       "      <td>0.0</td>\n",
       "      <td>0.0</td>\n",
       "      <td>0.73125</td>\n",
       "      <td>0.692308</td>\n",
       "      <td>0.007631</td>\n",
       "      <td>0.236544</td>\n",
       "      <td>0.100</td>\n",
       "      <td>...</td>\n",
       "      <td>0.050</td>\n",
       "      <td>0.805104</td>\n",
       "      <td>0.780139</td>\n",
       "      <td>0.783438</td>\n",
       "      <td>0.100</td>\n",
       "      <td>0.025</td>\n",
       "      <td>0.025</td>\n",
       "      <td>0.805104</td>\n",
       "      <td>0.799642</td>\n",
       "      <td>0.780139</td>\n",
       "    </tr>\n",
       "    <tr>\n",
       "      <th>1</th>\n",
       "      <td>0.400000</td>\n",
       "      <td>0.038462</td>\n",
       "      <td>0.072222</td>\n",
       "      <td>0.0</td>\n",
       "      <td>0.0</td>\n",
       "      <td>0.73125</td>\n",
       "      <td>0.743590</td>\n",
       "      <td>0.005050</td>\n",
       "      <td>0.236544</td>\n",
       "      <td>0.100</td>\n",
       "      <td>...</td>\n",
       "      <td>0.100</td>\n",
       "      <td>0.801416</td>\n",
       "      <td>0.781238</td>\n",
       "      <td>0.794160</td>\n",
       "      <td>0.075</td>\n",
       "      <td>0.050</td>\n",
       "      <td>0.075</td>\n",
       "      <td>0.801416</td>\n",
       "      <td>0.800487</td>\n",
       "      <td>0.785703</td>\n",
       "    </tr>\n",
       "    <tr>\n",
       "      <th>2</th>\n",
       "      <td>0.133333</td>\n",
       "      <td>0.423077</td>\n",
       "      <td>0.098485</td>\n",
       "      <td>0.0</td>\n",
       "      <td>0.0</td>\n",
       "      <td>0.65000</td>\n",
       "      <td>0.705128</td>\n",
       "      <td>0.000740</td>\n",
       "      <td>0.237283</td>\n",
       "      <td>0.025</td>\n",
       "      <td>...</td>\n",
       "      <td>0.100</td>\n",
       "      <td>0.799909</td>\n",
       "      <td>0.780139</td>\n",
       "      <td>0.786816</td>\n",
       "      <td>0.025</td>\n",
       "      <td>0.100</td>\n",
       "      <td>0.025</td>\n",
       "      <td>0.799642</td>\n",
       "      <td>0.806486</td>\n",
       "      <td>0.780139</td>\n",
       "    </tr>\n",
       "    <tr>\n",
       "      <th>3</th>\n",
       "      <td>0.133333</td>\n",
       "      <td>0.423077</td>\n",
       "      <td>0.098485</td>\n",
       "      <td>0.0</td>\n",
       "      <td>0.0</td>\n",
       "      <td>0.65000</td>\n",
       "      <td>0.705128</td>\n",
       "      <td>0.000740</td>\n",
       "      <td>0.237283</td>\n",
       "      <td>0.025</td>\n",
       "      <td>...</td>\n",
       "      <td>0.075</td>\n",
       "      <td>0.800176</td>\n",
       "      <td>0.781623</td>\n",
       "      <td>0.781870</td>\n",
       "      <td>0.050</td>\n",
       "      <td>0.075</td>\n",
       "      <td>0.050</td>\n",
       "      <td>0.801163</td>\n",
       "      <td>0.801416</td>\n",
       "      <td>0.780963</td>\n",
       "    </tr>\n",
       "    <tr>\n",
       "      <th>4</th>\n",
       "      <td>0.133333</td>\n",
       "      <td>0.192308</td>\n",
       "      <td>0.090278</td>\n",
       "      <td>0.0</td>\n",
       "      <td>0.0</td>\n",
       "      <td>0.66250</td>\n",
       "      <td>0.730769</td>\n",
       "      <td>0.000740</td>\n",
       "      <td>0.234655</td>\n",
       "      <td>0.050</td>\n",
       "      <td>...</td>\n",
       "      <td>0.100</td>\n",
       "      <td>0.799642</td>\n",
       "      <td>0.783601</td>\n",
       "      <td>0.785468</td>\n",
       "      <td>0.125</td>\n",
       "      <td>0.100</td>\n",
       "      <td>0.025</td>\n",
       "      <td>0.803191</td>\n",
       "      <td>0.805104</td>\n",
       "      <td>0.780139</td>\n",
       "    </tr>\n",
       "  </tbody>\n",
       "</table>\n",
       "<p>5 rows × 144 columns</p>\n",
       "</div>"
      ],
      "text/plain": [
       "   horse1_age  horse1_saddle  horse1_decimalPrice  horse1_isFav  \\\n",
       "0    0.200000       0.230769             0.196970           0.0   \n",
       "1    0.400000       0.038462             0.072222           0.0   \n",
       "2    0.133333       0.423077             0.098485           0.0   \n",
       "3    0.133333       0.423077             0.098485           0.0   \n",
       "4    0.133333       0.192308             0.090278           0.0   \n",
       "\n",
       "   horse1_outHandicap  horse1_RPR  horse1_weight  horse1_jockey_d_last_race  \\\n",
       "0                 0.0     0.73125       0.692308                   0.007631   \n",
       "1                 0.0     0.73125       0.743590                   0.005050   \n",
       "2                 0.0     0.65000       0.705128                   0.000740   \n",
       "3                 0.0     0.65000       0.705128                   0.000740   \n",
       "4                 0.0     0.66250       0.730769                   0.000740   \n",
       "\n",
       "   horse1_jockey_d_first_race  horse1_jockey_prev_1_position  ...  \\\n",
       "0                    0.236544                          0.100  ...   \n",
       "1                    0.236544                          0.100  ...   \n",
       "2                    0.237283                          0.025  ...   \n",
       "3                    0.237283                          0.025  ...   \n",
       "4                    0.234655                          0.050  ...   \n",
       "\n",
       "   horse2_jockey_prev_3_position_rain  \\\n",
       "0                               0.050   \n",
       "1                               0.100   \n",
       "2                               0.100   \n",
       "3                               0.075   \n",
       "4                               0.100   \n",
       "\n",
       "   horse2_jockey_prev_1_finishing_time_ratio_rain  \\\n",
       "0                                        0.805104   \n",
       "1                                        0.801416   \n",
       "2                                        0.799909   \n",
       "3                                        0.800176   \n",
       "4                                        0.799642   \n",
       "\n",
       "   horse2_jockey_prev_2_finishing_time_ratio_rain  \\\n",
       "0                                        0.780139   \n",
       "1                                        0.781238   \n",
       "2                                        0.780139   \n",
       "3                                        0.781623   \n",
       "4                                        0.783601   \n",
       "\n",
       "   horse2_jockey_prev_3_finishing_time_ratio_rain  \\\n",
       "0                                        0.783438   \n",
       "1                                        0.794160   \n",
       "2                                        0.786816   \n",
       "3                                        0.781870   \n",
       "4                                        0.785468   \n",
       "\n",
       "   horse2_jockey_prev_1_position_rhum  horse2_jockey_prev_2_position_rhum  \\\n",
       "0                               0.100                               0.025   \n",
       "1                               0.075                               0.050   \n",
       "2                               0.025                               0.100   \n",
       "3                               0.050                               0.075   \n",
       "4                               0.125                               0.100   \n",
       "\n",
       "   horse2_jockey_prev_3_position_rhum  \\\n",
       "0                               0.025   \n",
       "1                               0.075   \n",
       "2                               0.025   \n",
       "3                               0.050   \n",
       "4                               0.025   \n",
       "\n",
       "   horse2_jockey_prev_1_finishing_time_ratio_rhum  \\\n",
       "0                                        0.805104   \n",
       "1                                        0.801416   \n",
       "2                                        0.799642   \n",
       "3                                        0.801163   \n",
       "4                                        0.803191   \n",
       "\n",
       "   horse2_jockey_prev_2_finishing_time_ratio_rhum  \\\n",
       "0                                        0.799642   \n",
       "1                                        0.800487   \n",
       "2                                        0.806486   \n",
       "3                                        0.801416   \n",
       "4                                        0.805104   \n",
       "\n",
       "   horse2_jockey_prev_3_finishing_time_ratio_rhum  \n",
       "0                                        0.780139  \n",
       "1                                        0.785703  \n",
       "2                                        0.780139  \n",
       "3                                        0.780963  \n",
       "4                                        0.780139  \n",
       "\n",
       "[5 rows x 144 columns]"
      ]
     },
     "execution_count": 5,
     "metadata": {},
     "output_type": "execute_result"
    }
   ],
   "source": [
    "X_train = pd.read_csv(f\"{BASE_DIR}/data/analysis/X_train_preprocess_without_race.csv\", low_memory=False)\n",
    "X_train.head()"
   ]
  },
  {
   "cell_type": "code",
   "execution_count": 6,
   "id": "9b746306",
   "metadata": {},
   "outputs": [
    {
     "data": {
      "text/plain": [
       "(800666, 144)"
      ]
     },
     "execution_count": 6,
     "metadata": {},
     "output_type": "execute_result"
    }
   ],
   "source": [
    "X_train.shape"
   ]
  },
  {
   "cell_type": "markdown",
   "id": "e60f5151",
   "metadata": {},
   "source": [
    "---"
   ]
  },
  {
   "cell_type": "markdown",
   "id": "408dafac",
   "metadata": {},
   "source": [
    "## Load `X_dev_preprocess_without_race.csv`"
   ]
  },
  {
   "cell_type": "code",
   "execution_count": 7,
   "id": "45281c4b",
   "metadata": {},
   "outputs": [
    {
     "data": {
      "text/html": [
       "<div>\n",
       "<style scoped>\n",
       "    .dataframe tbody tr th:only-of-type {\n",
       "        vertical-align: middle;\n",
       "    }\n",
       "\n",
       "    .dataframe tbody tr th {\n",
       "        vertical-align: top;\n",
       "    }\n",
       "\n",
       "    .dataframe thead th {\n",
       "        text-align: right;\n",
       "    }\n",
       "</style>\n",
       "<table border=\"1\" class=\"dataframe\">\n",
       "  <thead>\n",
       "    <tr style=\"text-align: right;\">\n",
       "      <th></th>\n",
       "      <th>horse1_age</th>\n",
       "      <th>horse1_saddle</th>\n",
       "      <th>horse1_decimalPrice</th>\n",
       "      <th>horse1_isFav</th>\n",
       "      <th>horse1_outHandicap</th>\n",
       "      <th>horse1_RPR</th>\n",
       "      <th>horse1_weight</th>\n",
       "      <th>horse1_jockey_d_last_race</th>\n",
       "      <th>horse1_jockey_d_first_race</th>\n",
       "      <th>horse1_jockey_prev_1_position</th>\n",
       "      <th>...</th>\n",
       "      <th>horse2_jockey_prev_3_position_rain</th>\n",
       "      <th>horse2_jockey_prev_1_finishing_time_ratio_rain</th>\n",
       "      <th>horse2_jockey_prev_2_finishing_time_ratio_rain</th>\n",
       "      <th>horse2_jockey_prev_3_finishing_time_ratio_rain</th>\n",
       "      <th>horse2_jockey_prev_1_position_rhum</th>\n",
       "      <th>horse2_jockey_prev_2_position_rhum</th>\n",
       "      <th>horse2_jockey_prev_3_position_rhum</th>\n",
       "      <th>horse2_jockey_prev_1_finishing_time_ratio_rhum</th>\n",
       "      <th>horse2_jockey_prev_2_finishing_time_ratio_rhum</th>\n",
       "      <th>horse2_jockey_prev_3_finishing_time_ratio_rhum</th>\n",
       "    </tr>\n",
       "  </thead>\n",
       "  <tbody>\n",
       "    <tr>\n",
       "      <th>0</th>\n",
       "      <td>0.285714</td>\n",
       "      <td>0.105263</td>\n",
       "      <td>0.200000</td>\n",
       "      <td>0.0</td>\n",
       "      <td>0.0</td>\n",
       "      <td>0.608392</td>\n",
       "      <td>0.769231</td>\n",
       "      <td>0.001516</td>\n",
       "      <td>0.629407</td>\n",
       "      <td>0.250</td>\n",
       "      <td>...</td>\n",
       "      <td>0.200</td>\n",
       "      <td>0.828972</td>\n",
       "      <td>0.837641</td>\n",
       "      <td>0.843255</td>\n",
       "      <td>0.075</td>\n",
       "      <td>0.050</td>\n",
       "      <td>0.275</td>\n",
       "      <td>0.834583</td>\n",
       "      <td>0.828972</td>\n",
       "      <td>0.853796</td>\n",
       "    </tr>\n",
       "    <tr>\n",
       "      <th>1</th>\n",
       "      <td>0.285714</td>\n",
       "      <td>0.210526</td>\n",
       "      <td>0.157143</td>\n",
       "      <td>0.0</td>\n",
       "      <td>0.0</td>\n",
       "      <td>0.258741</td>\n",
       "      <td>0.769231</td>\n",
       "      <td>0.000445</td>\n",
       "      <td>0.286087</td>\n",
       "      <td>0.075</td>\n",
       "      <td>...</td>\n",
       "      <td>0.075</td>\n",
       "      <td>0.826039</td>\n",
       "      <td>0.826039</td>\n",
       "      <td>0.842799</td>\n",
       "      <td>0.025</td>\n",
       "      <td>0.025</td>\n",
       "      <td>0.075</td>\n",
       "      <td>0.826039</td>\n",
       "      <td>0.826039</td>\n",
       "      <td>0.842799</td>\n",
       "    </tr>\n",
       "    <tr>\n",
       "      <th>2</th>\n",
       "      <td>0.285714</td>\n",
       "      <td>0.210526</td>\n",
       "      <td>0.157143</td>\n",
       "      <td>0.0</td>\n",
       "      <td>0.0</td>\n",
       "      <td>0.258741</td>\n",
       "      <td>0.769231</td>\n",
       "      <td>0.000445</td>\n",
       "      <td>0.286087</td>\n",
       "      <td>0.075</td>\n",
       "      <td>...</td>\n",
       "      <td>0.125</td>\n",
       "      <td>0.826413</td>\n",
       "      <td>0.841758</td>\n",
       "      <td>0.844367</td>\n",
       "      <td>0.125</td>\n",
       "      <td>0.050</td>\n",
       "      <td>0.275</td>\n",
       "      <td>0.843955</td>\n",
       "      <td>0.826413</td>\n",
       "      <td>0.841758</td>\n",
       "    </tr>\n",
       "    <tr>\n",
       "      <th>3</th>\n",
       "      <td>0.285714</td>\n",
       "      <td>0.210526</td>\n",
       "      <td>0.157143</td>\n",
       "      <td>0.0</td>\n",
       "      <td>0.0</td>\n",
       "      <td>0.258741</td>\n",
       "      <td>0.769231</td>\n",
       "      <td>0.000445</td>\n",
       "      <td>0.286087</td>\n",
       "      <td>0.075</td>\n",
       "      <td>...</td>\n",
       "      <td>0.050</td>\n",
       "      <td>0.832401</td>\n",
       "      <td>0.832114</td>\n",
       "      <td>0.828366</td>\n",
       "      <td>0.100</td>\n",
       "      <td>0.075</td>\n",
       "      <td>0.050</td>\n",
       "      <td>0.832401</td>\n",
       "      <td>0.837064</td>\n",
       "      <td>0.828519</td>\n",
       "    </tr>\n",
       "    <tr>\n",
       "      <th>4</th>\n",
       "      <td>0.285714</td>\n",
       "      <td>0.210526</td>\n",
       "      <td>0.157143</td>\n",
       "      <td>0.0</td>\n",
       "      <td>0.0</td>\n",
       "      <td>0.258741</td>\n",
       "      <td>0.769231</td>\n",
       "      <td>0.000445</td>\n",
       "      <td>0.286087</td>\n",
       "      <td>0.075</td>\n",
       "      <td>...</td>\n",
       "      <td>0.175</td>\n",
       "      <td>0.857255</td>\n",
       "      <td>0.835266</td>\n",
       "      <td>0.834946</td>\n",
       "      <td>0.150</td>\n",
       "      <td>0.025</td>\n",
       "      <td>0.200</td>\n",
       "      <td>0.857255</td>\n",
       "      <td>0.826039</td>\n",
       "      <td>0.837392</td>\n",
       "    </tr>\n",
       "  </tbody>\n",
       "</table>\n",
       "<p>5 rows × 144 columns</p>\n",
       "</div>"
      ],
      "text/plain": [
       "   horse1_age  horse1_saddle  horse1_decimalPrice  horse1_isFav  \\\n",
       "0    0.285714       0.105263             0.200000           0.0   \n",
       "1    0.285714       0.210526             0.157143           0.0   \n",
       "2    0.285714       0.210526             0.157143           0.0   \n",
       "3    0.285714       0.210526             0.157143           0.0   \n",
       "4    0.285714       0.210526             0.157143           0.0   \n",
       "\n",
       "   horse1_outHandicap  horse1_RPR  horse1_weight  horse1_jockey_d_last_race  \\\n",
       "0                 0.0    0.608392       0.769231                   0.001516   \n",
       "1                 0.0    0.258741       0.769231                   0.000445   \n",
       "2                 0.0    0.258741       0.769231                   0.000445   \n",
       "3                 0.0    0.258741       0.769231                   0.000445   \n",
       "4                 0.0    0.258741       0.769231                   0.000445   \n",
       "\n",
       "   horse1_jockey_d_first_race  horse1_jockey_prev_1_position  ...  \\\n",
       "0                    0.629407                          0.250  ...   \n",
       "1                    0.286087                          0.075  ...   \n",
       "2                    0.286087                          0.075  ...   \n",
       "3                    0.286087                          0.075  ...   \n",
       "4                    0.286087                          0.075  ...   \n",
       "\n",
       "   horse2_jockey_prev_3_position_rain  \\\n",
       "0                               0.200   \n",
       "1                               0.075   \n",
       "2                               0.125   \n",
       "3                               0.050   \n",
       "4                               0.175   \n",
       "\n",
       "   horse2_jockey_prev_1_finishing_time_ratio_rain  \\\n",
       "0                                        0.828972   \n",
       "1                                        0.826039   \n",
       "2                                        0.826413   \n",
       "3                                        0.832401   \n",
       "4                                        0.857255   \n",
       "\n",
       "   horse2_jockey_prev_2_finishing_time_ratio_rain  \\\n",
       "0                                        0.837641   \n",
       "1                                        0.826039   \n",
       "2                                        0.841758   \n",
       "3                                        0.832114   \n",
       "4                                        0.835266   \n",
       "\n",
       "   horse2_jockey_prev_3_finishing_time_ratio_rain  \\\n",
       "0                                        0.843255   \n",
       "1                                        0.842799   \n",
       "2                                        0.844367   \n",
       "3                                        0.828366   \n",
       "4                                        0.834946   \n",
       "\n",
       "   horse2_jockey_prev_1_position_rhum  horse2_jockey_prev_2_position_rhum  \\\n",
       "0                               0.075                               0.050   \n",
       "1                               0.025                               0.025   \n",
       "2                               0.125                               0.050   \n",
       "3                               0.100                               0.075   \n",
       "4                               0.150                               0.025   \n",
       "\n",
       "   horse2_jockey_prev_3_position_rhum  \\\n",
       "0                               0.275   \n",
       "1                               0.075   \n",
       "2                               0.275   \n",
       "3                               0.050   \n",
       "4                               0.200   \n",
       "\n",
       "   horse2_jockey_prev_1_finishing_time_ratio_rhum  \\\n",
       "0                                        0.834583   \n",
       "1                                        0.826039   \n",
       "2                                        0.843955   \n",
       "3                                        0.832401   \n",
       "4                                        0.857255   \n",
       "\n",
       "   horse2_jockey_prev_2_finishing_time_ratio_rhum  \\\n",
       "0                                        0.828972   \n",
       "1                                        0.826039   \n",
       "2                                        0.826413   \n",
       "3                                        0.837064   \n",
       "4                                        0.826039   \n",
       "\n",
       "   horse2_jockey_prev_3_finishing_time_ratio_rhum  \n",
       "0                                        0.853796  \n",
       "1                                        0.842799  \n",
       "2                                        0.841758  \n",
       "3                                        0.828519  \n",
       "4                                        0.837392  \n",
       "\n",
       "[5 rows x 144 columns]"
      ]
     },
     "execution_count": 7,
     "metadata": {},
     "output_type": "execute_result"
    }
   ],
   "source": [
    "X_dev = pd.read_csv(f\"{BASE_DIR}/data/analysis/X_dev_preprocess_without_race.csv\", low_memory=False)\n",
    "X_dev.head()"
   ]
  },
  {
   "cell_type": "code",
   "execution_count": 8,
   "id": "ac3a9d58",
   "metadata": {},
   "outputs": [
    {
     "data": {
      "text/plain": [
       "(228766, 144)"
      ]
     },
     "execution_count": 8,
     "metadata": {},
     "output_type": "execute_result"
    }
   ],
   "source": [
    "X_dev.shape"
   ]
  },
  {
   "cell_type": "markdown",
   "id": "3cf83ff3",
   "metadata": {},
   "source": [
    "---"
   ]
  },
  {
   "cell_type": "markdown",
   "id": "51ef9345",
   "metadata": {},
   "source": [
    "## Load `X_train_preprocess_without_race.csv`"
   ]
  },
  {
   "cell_type": "code",
   "execution_count": 9,
   "id": "d3595d25",
   "metadata": {},
   "outputs": [
    {
     "data": {
      "text/html": [
       "<div>\n",
       "<style scoped>\n",
       "    .dataframe tbody tr th:only-of-type {\n",
       "        vertical-align: middle;\n",
       "    }\n",
       "\n",
       "    .dataframe tbody tr th {\n",
       "        vertical-align: top;\n",
       "    }\n",
       "\n",
       "    .dataframe thead th {\n",
       "        text-align: right;\n",
       "    }\n",
       "</style>\n",
       "<table border=\"1\" class=\"dataframe\">\n",
       "  <thead>\n",
       "    <tr style=\"text-align: right;\">\n",
       "      <th></th>\n",
       "      <th>horse1_age</th>\n",
       "      <th>horse1_saddle</th>\n",
       "      <th>horse1_decimalPrice</th>\n",
       "      <th>horse1_isFav</th>\n",
       "      <th>horse1_outHandicap</th>\n",
       "      <th>horse1_RPR</th>\n",
       "      <th>horse1_weight</th>\n",
       "      <th>horse1_jockey_d_last_race</th>\n",
       "      <th>horse1_jockey_d_first_race</th>\n",
       "      <th>horse1_jockey_prev_1_position</th>\n",
       "      <th>...</th>\n",
       "      <th>horse2_jockey_prev_3_position_rain</th>\n",
       "      <th>horse2_jockey_prev_1_finishing_time_ratio_rain</th>\n",
       "      <th>horse2_jockey_prev_2_finishing_time_ratio_rain</th>\n",
       "      <th>horse2_jockey_prev_3_finishing_time_ratio_rain</th>\n",
       "      <th>horse2_jockey_prev_1_position_rhum</th>\n",
       "      <th>horse2_jockey_prev_2_position_rhum</th>\n",
       "      <th>horse2_jockey_prev_3_position_rhum</th>\n",
       "      <th>horse2_jockey_prev_1_finishing_time_ratio_rhum</th>\n",
       "      <th>horse2_jockey_prev_2_finishing_time_ratio_rhum</th>\n",
       "      <th>horse2_jockey_prev_3_finishing_time_ratio_rhum</th>\n",
       "    </tr>\n",
       "  </thead>\n",
       "  <tbody>\n",
       "    <tr>\n",
       "      <th>0</th>\n",
       "      <td>0.230769</td>\n",
       "      <td>0.333333</td>\n",
       "      <td>0.03268</td>\n",
       "      <td>0.0</td>\n",
       "      <td>0.0</td>\n",
       "      <td>0.344828</td>\n",
       "      <td>0.74359</td>\n",
       "      <td>0.001053</td>\n",
       "      <td>0.49501</td>\n",
       "      <td>0.225</td>\n",
       "      <td>...</td>\n",
       "      <td>0.200</td>\n",
       "      <td>0.865544</td>\n",
       "      <td>0.847264</td>\n",
       "      <td>0.853154</td>\n",
       "      <td>0.025</td>\n",
       "      <td>0.200</td>\n",
       "      <td>0.300</td>\n",
       "      <td>0.840533</td>\n",
       "      <td>0.850856</td>\n",
       "      <td>0.864844</td>\n",
       "    </tr>\n",
       "    <tr>\n",
       "      <th>1</th>\n",
       "      <td>0.230769</td>\n",
       "      <td>0.333333</td>\n",
       "      <td>0.03268</td>\n",
       "      <td>0.0</td>\n",
       "      <td>0.0</td>\n",
       "      <td>0.344828</td>\n",
       "      <td>0.74359</td>\n",
       "      <td>0.001053</td>\n",
       "      <td>0.49501</td>\n",
       "      <td>0.225</td>\n",
       "      <td>...</td>\n",
       "      <td>0.150</td>\n",
       "      <td>0.864781</td>\n",
       "      <td>0.840533</td>\n",
       "      <td>0.855519</td>\n",
       "      <td>0.025</td>\n",
       "      <td>0.025</td>\n",
       "      <td>0.025</td>\n",
       "      <td>0.840533</td>\n",
       "      <td>0.840533</td>\n",
       "      <td>0.840533</td>\n",
       "    </tr>\n",
       "    <tr>\n",
       "      <th>2</th>\n",
       "      <td>0.230769</td>\n",
       "      <td>0.333333</td>\n",
       "      <td>0.03268</td>\n",
       "      <td>0.0</td>\n",
       "      <td>0.0</td>\n",
       "      <td>0.344828</td>\n",
       "      <td>0.74359</td>\n",
       "      <td>0.001053</td>\n",
       "      <td>0.49501</td>\n",
       "      <td>0.225</td>\n",
       "      <td>...</td>\n",
       "      <td>0.075</td>\n",
       "      <td>0.838534</td>\n",
       "      <td>0.843337</td>\n",
       "      <td>0.846422</td>\n",
       "      <td>0.200</td>\n",
       "      <td>0.100</td>\n",
       "      <td>0.125</td>\n",
       "      <td>0.853412</td>\n",
       "      <td>0.842583</td>\n",
       "      <td>0.847859</td>\n",
       "    </tr>\n",
       "    <tr>\n",
       "      <th>3</th>\n",
       "      <td>0.230769</td>\n",
       "      <td>0.333333</td>\n",
       "      <td>0.03268</td>\n",
       "      <td>0.0</td>\n",
       "      <td>0.0</td>\n",
       "      <td>0.344828</td>\n",
       "      <td>0.74359</td>\n",
       "      <td>0.001053</td>\n",
       "      <td>0.49501</td>\n",
       "      <td>0.225</td>\n",
       "      <td>...</td>\n",
       "      <td>0.250</td>\n",
       "      <td>0.851685</td>\n",
       "      <td>0.849673</td>\n",
       "      <td>0.854624</td>\n",
       "      <td>0.150</td>\n",
       "      <td>0.250</td>\n",
       "      <td>0.200</td>\n",
       "      <td>0.849673</td>\n",
       "      <td>0.854624</td>\n",
       "      <td>0.858051</td>\n",
       "    </tr>\n",
       "    <tr>\n",
       "      <th>4</th>\n",
       "      <td>0.230769</td>\n",
       "      <td>0.333333</td>\n",
       "      <td>0.03268</td>\n",
       "      <td>0.0</td>\n",
       "      <td>0.0</td>\n",
       "      <td>0.344828</td>\n",
       "      <td>0.74359</td>\n",
       "      <td>0.001053</td>\n",
       "      <td>0.49501</td>\n",
       "      <td>0.225</td>\n",
       "      <td>...</td>\n",
       "      <td>0.250</td>\n",
       "      <td>0.847892</td>\n",
       "      <td>0.842776</td>\n",
       "      <td>0.862423</td>\n",
       "      <td>0.175</td>\n",
       "      <td>0.075</td>\n",
       "      <td>0.275</td>\n",
       "      <td>0.853634</td>\n",
       "      <td>0.844529</td>\n",
       "      <td>0.862845</td>\n",
       "    </tr>\n",
       "  </tbody>\n",
       "</table>\n",
       "<p>5 rows × 144 columns</p>\n",
       "</div>"
      ],
      "text/plain": [
       "   horse1_age  horse1_saddle  horse1_decimalPrice  horse1_isFav  \\\n",
       "0    0.230769       0.333333              0.03268           0.0   \n",
       "1    0.230769       0.333333              0.03268           0.0   \n",
       "2    0.230769       0.333333              0.03268           0.0   \n",
       "3    0.230769       0.333333              0.03268           0.0   \n",
       "4    0.230769       0.333333              0.03268           0.0   \n",
       "\n",
       "   horse1_outHandicap  horse1_RPR  horse1_weight  horse1_jockey_d_last_race  \\\n",
       "0                 0.0    0.344828        0.74359                   0.001053   \n",
       "1                 0.0    0.344828        0.74359                   0.001053   \n",
       "2                 0.0    0.344828        0.74359                   0.001053   \n",
       "3                 0.0    0.344828        0.74359                   0.001053   \n",
       "4                 0.0    0.344828        0.74359                   0.001053   \n",
       "\n",
       "   horse1_jockey_d_first_race  horse1_jockey_prev_1_position  ...  \\\n",
       "0                     0.49501                          0.225  ...   \n",
       "1                     0.49501                          0.225  ...   \n",
       "2                     0.49501                          0.225  ...   \n",
       "3                     0.49501                          0.225  ...   \n",
       "4                     0.49501                          0.225  ...   \n",
       "\n",
       "   horse2_jockey_prev_3_position_rain  \\\n",
       "0                               0.200   \n",
       "1                               0.150   \n",
       "2                               0.075   \n",
       "3                               0.250   \n",
       "4                               0.250   \n",
       "\n",
       "   horse2_jockey_prev_1_finishing_time_ratio_rain  \\\n",
       "0                                        0.865544   \n",
       "1                                        0.864781   \n",
       "2                                        0.838534   \n",
       "3                                        0.851685   \n",
       "4                                        0.847892   \n",
       "\n",
       "   horse2_jockey_prev_2_finishing_time_ratio_rain  \\\n",
       "0                                        0.847264   \n",
       "1                                        0.840533   \n",
       "2                                        0.843337   \n",
       "3                                        0.849673   \n",
       "4                                        0.842776   \n",
       "\n",
       "   horse2_jockey_prev_3_finishing_time_ratio_rain  \\\n",
       "0                                        0.853154   \n",
       "1                                        0.855519   \n",
       "2                                        0.846422   \n",
       "3                                        0.854624   \n",
       "4                                        0.862423   \n",
       "\n",
       "   horse2_jockey_prev_1_position_rhum  horse2_jockey_prev_2_position_rhum  \\\n",
       "0                               0.025                               0.200   \n",
       "1                               0.025                               0.025   \n",
       "2                               0.200                               0.100   \n",
       "3                               0.150                               0.250   \n",
       "4                               0.175                               0.075   \n",
       "\n",
       "   horse2_jockey_prev_3_position_rhum  \\\n",
       "0                               0.300   \n",
       "1                               0.025   \n",
       "2                               0.125   \n",
       "3                               0.200   \n",
       "4                               0.275   \n",
       "\n",
       "   horse2_jockey_prev_1_finishing_time_ratio_rhum  \\\n",
       "0                                        0.840533   \n",
       "1                                        0.840533   \n",
       "2                                        0.853412   \n",
       "3                                        0.849673   \n",
       "4                                        0.853634   \n",
       "\n",
       "   horse2_jockey_prev_2_finishing_time_ratio_rhum  \\\n",
       "0                                        0.850856   \n",
       "1                                        0.840533   \n",
       "2                                        0.842583   \n",
       "3                                        0.854624   \n",
       "4                                        0.844529   \n",
       "\n",
       "   horse2_jockey_prev_3_finishing_time_ratio_rhum  \n",
       "0                                        0.864844  \n",
       "1                                        0.840533  \n",
       "2                                        0.847859  \n",
       "3                                        0.858051  \n",
       "4                                        0.862845  \n",
       "\n",
       "[5 rows x 144 columns]"
      ]
     },
     "execution_count": 9,
     "metadata": {},
     "output_type": "execute_result"
    }
   ],
   "source": [
    "X_test = pd.read_csv(f\"{BASE_DIR}/data/analysis/X_test_preprocess_without_race.csv\", low_memory=False)\n",
    "X_test.head()"
   ]
  },
  {
   "cell_type": "code",
   "execution_count": 10,
   "id": "41111121",
   "metadata": {},
   "outputs": [
    {
     "data": {
      "text/plain": [
       "(114392, 144)"
      ]
     },
     "execution_count": 10,
     "metadata": {},
     "output_type": "execute_result"
    }
   ],
   "source": [
    "X_test.shape"
   ]
  },
  {
   "cell_type": "markdown",
   "id": "0bbaa88e",
   "metadata": {},
   "source": [
    "---"
   ]
  },
  {
   "cell_type": "markdown",
   "id": "e98ba46d",
   "metadata": {},
   "source": [
    "## Load `races_selected_trimmed_clean.csv`"
   ]
  },
  {
   "cell_type": "code",
   "execution_count": 11,
   "id": "37d4f68c",
   "metadata": {},
   "outputs": [
    {
     "data": {
      "text/html": [
       "<div>\n",
       "<style scoped>\n",
       "    .dataframe tbody tr th:only-of-type {\n",
       "        vertical-align: middle;\n",
       "    }\n",
       "\n",
       "    .dataframe tbody tr th {\n",
       "        vertical-align: top;\n",
       "    }\n",
       "\n",
       "    .dataframe thead th {\n",
       "        text-align: right;\n",
       "    }\n",
       "</style>\n",
       "<table border=\"1\" class=\"dataframe\">\n",
       "  <thead>\n",
       "    <tr style=\"text-align: right;\">\n",
       "      <th></th>\n",
       "      <th>rid</th>\n",
       "      <th>course</th>\n",
       "      <th>title</th>\n",
       "      <th>winningTime</th>\n",
       "      <th>metric</th>\n",
       "      <th>ncond</th>\n",
       "      <th>class</th>\n",
       "      <th>runners</th>\n",
       "      <th>margin</th>\n",
       "      <th>1st_place_rank_in_odds</th>\n",
       "      <th>...</th>\n",
       "      <th>station name</th>\n",
       "      <th>station lat</th>\n",
       "      <th>station lng</th>\n",
       "      <th>dist to station</th>\n",
       "      <th>station reading date</th>\n",
       "      <th>temp</th>\n",
       "      <th>msl</th>\n",
       "      <th>rain</th>\n",
       "      <th>rhum</th>\n",
       "      <th>station reading timedelta</th>\n",
       "    </tr>\n",
       "  </thead>\n",
       "  <tbody>\n",
       "    <tr>\n",
       "      <th>0</th>\n",
       "      <td>302858</td>\n",
       "      <td>Thurles</td>\n",
       "      <td>Liffey Maiden Hurdle (Div 1)</td>\n",
       "      <td>277.2</td>\n",
       "      <td>3821.0</td>\n",
       "      <td>1</td>\n",
       "      <td>0</td>\n",
       "      <td>6</td>\n",
       "      <td>1.219263</td>\n",
       "      <td>1</td>\n",
       "      <td>...</td>\n",
       "      <td>BIRR</td>\n",
       "      <td>53.0525</td>\n",
       "      <td>-7.5325</td>\n",
       "      <td>45.288813</td>\n",
       "      <td>1/9/97 12:00</td>\n",
       "      <td>1.6</td>\n",
       "      <td>1012.4</td>\n",
       "      <td>0.0</td>\n",
       "      <td>87</td>\n",
       "      <td>15.0</td>\n",
       "    </tr>\n",
       "    <tr>\n",
       "      <th>1</th>\n",
       "      <td>291347</td>\n",
       "      <td>Punchestown</td>\n",
       "      <td>Ericsson G.S.M. Grand National Trial Handicap ...</td>\n",
       "      <td>447.2</td>\n",
       "      <td>5229.0</td>\n",
       "      <td>5</td>\n",
       "      <td>0</td>\n",
       "      <td>9</td>\n",
       "      <td>1.218049</td>\n",
       "      <td>4</td>\n",
       "      <td>...</td>\n",
       "      <td>CASEMENT</td>\n",
       "      <td>53.1820</td>\n",
       "      <td>-6.2620</td>\n",
       "      <td>24.477602</td>\n",
       "      <td>2/16/97 15:00</td>\n",
       "      <td>8.0</td>\n",
       "      <td>992.5</td>\n",
       "      <td>0.4</td>\n",
       "      <td>87</td>\n",
       "      <td>20.0</td>\n",
       "    </tr>\n",
       "    <tr>\n",
       "      <th>2</th>\n",
       "      <td>75447</td>\n",
       "      <td>Listowel</td>\n",
       "      <td>Ballybunion E.B.F. Beginners S'chase</td>\n",
       "      <td>318.4</td>\n",
       "      <td>3620.0</td>\n",
       "      <td>5</td>\n",
       "      <td>0</td>\n",
       "      <td>8</td>\n",
       "      <td>1.277320</td>\n",
       "      <td>3</td>\n",
       "      <td>...</td>\n",
       "      <td>SHANNON AIRPORT</td>\n",
       "      <td>52.4125</td>\n",
       "      <td>-8.5505</td>\n",
       "      <td>63.534139</td>\n",
       "      <td>3/1/97 14:00</td>\n",
       "      <td>12.0</td>\n",
       "      <td>1003.5</td>\n",
       "      <td>0.0</td>\n",
       "      <td>73</td>\n",
       "      <td>0.0</td>\n",
       "    </tr>\n",
       "    <tr>\n",
       "      <th>3</th>\n",
       "      <td>358038</td>\n",
       "      <td>Punchestown</td>\n",
       "      <td>Quinns Of Baltinglass Chase (La Touche) (Cross...</td>\n",
       "      <td>533.9</td>\n",
       "      <td>6637.0</td>\n",
       "      <td>1</td>\n",
       "      <td>0</td>\n",
       "      <td>10</td>\n",
       "      <td>1.286595</td>\n",
       "      <td>1</td>\n",
       "      <td>...</td>\n",
       "      <td>CASEMENT</td>\n",
       "      <td>53.1820</td>\n",
       "      <td>-6.2620</td>\n",
       "      <td>24.477602</td>\n",
       "      <td>4/24/97 14:00</td>\n",
       "      <td>12.6</td>\n",
       "      <td>1011.9</td>\n",
       "      <td>0.0</td>\n",
       "      <td>72</td>\n",
       "      <td>20.0</td>\n",
       "    </tr>\n",
       "    <tr>\n",
       "      <th>4</th>\n",
       "      <td>89211</td>\n",
       "      <td>Tipperary</td>\n",
       "      <td>Topaz Sprint Stakes (Listed)</td>\n",
       "      <td>59.9</td>\n",
       "      <td>1005.0</td>\n",
       "      <td>4</td>\n",
       "      <td>0</td>\n",
       "      <td>5</td>\n",
       "      <td>1.217043</td>\n",
       "      <td>4</td>\n",
       "      <td>...</td>\n",
       "      <td>SHANNON AIRPORT</td>\n",
       "      <td>52.4125</td>\n",
       "      <td>-8.5505</td>\n",
       "      <td>25.222137</td>\n",
       "      <td>5/8/97 17:00</td>\n",
       "      <td>11.1</td>\n",
       "      <td>994.2</td>\n",
       "      <td>0.0</td>\n",
       "      <td>59</td>\n",
       "      <td>30.0</td>\n",
       "    </tr>\n",
       "  </tbody>\n",
       "</table>\n",
       "<p>5 rows × 34 columns</p>\n",
       "</div>"
      ],
      "text/plain": [
       "      rid       course                                              title  \\\n",
       "0  302858      Thurles                       Liffey Maiden Hurdle (Div 1)   \n",
       "1  291347  Punchestown  Ericsson G.S.M. Grand National Trial Handicap ...   \n",
       "2   75447     Listowel               Ballybunion E.B.F. Beginners S'chase   \n",
       "3  358038  Punchestown  Quinns Of Baltinglass Chase (La Touche) (Cross...   \n",
       "4   89211    Tipperary                       Topaz Sprint Stakes (Listed)   \n",
       "\n",
       "   winningTime  metric  ncond  class  runners    margin  \\\n",
       "0        277.2  3821.0      1      0        6  1.219263   \n",
       "1        447.2  5229.0      5      0        9  1.218049   \n",
       "2        318.4  3620.0      5      0        8  1.277320   \n",
       "3        533.9  6637.0      1      0       10  1.286595   \n",
       "4         59.9  1005.0      4      0        5  1.217043   \n",
       "\n",
       "   1st_place_rank_in_odds  ...     station name  station lat  station lng  \\\n",
       "0                       1  ...             BIRR      53.0525      -7.5325   \n",
       "1                       4  ...         CASEMENT      53.1820      -6.2620   \n",
       "2                       3  ...  SHANNON AIRPORT      52.4125      -8.5505   \n",
       "3                       1  ...         CASEMENT      53.1820      -6.2620   \n",
       "4                       4  ...  SHANNON AIRPORT      52.4125      -8.5505   \n",
       "\n",
       "   dist to station  station reading date  temp     msl  rain  rhum  \\\n",
       "0        45.288813          1/9/97 12:00   1.6  1012.4   0.0    87   \n",
       "1        24.477602         2/16/97 15:00   8.0   992.5   0.4    87   \n",
       "2        63.534139          3/1/97 14:00  12.0  1003.5   0.0    73   \n",
       "3        24.477602         4/24/97 14:00  12.6  1011.9   0.0    72   \n",
       "4        25.222137          5/8/97 17:00  11.1   994.2   0.0    59   \n",
       "\n",
       "   station reading timedelta  \n",
       "0                       15.0  \n",
       "1                       20.0  \n",
       "2                        0.0  \n",
       "3                       20.0  \n",
       "4                       30.0  \n",
       "\n",
       "[5 rows x 34 columns]"
      ]
     },
     "execution_count": 11,
     "metadata": {},
     "output_type": "execute_result"
    }
   ],
   "source": [
    "races_clean = pd.read_csv(f\"{BASE_DIR}/data/streamline/races_selected_trimmed_clean.csv\", low_memory=False)\n",
    "races_clean.head()"
   ]
  },
  {
   "cell_type": "markdown",
   "id": "3a16fd45",
   "metadata": {},
   "source": [
    "---"
   ]
  },
  {
   "cell_type": "markdown",
   "id": "a46e9cab",
   "metadata": {},
   "source": [
    "## Load Identifying Info"
   ]
  },
  {
   "cell_type": "code",
   "execution_count": 12,
   "id": "9bfb58fc",
   "metadata": {},
   "outputs": [
    {
     "data": {
      "text/html": [
       "<div>\n",
       "<style scoped>\n",
       "    .dataframe tbody tr th:only-of-type {\n",
       "        vertical-align: middle;\n",
       "    }\n",
       "\n",
       "    .dataframe tbody tr th {\n",
       "        vertical-align: top;\n",
       "    }\n",
       "\n",
       "    .dataframe thead th {\n",
       "        text-align: right;\n",
       "    }\n",
       "</style>\n",
       "<table border=\"1\" class=\"dataframe\">\n",
       "  <thead>\n",
       "    <tr style=\"text-align: right;\">\n",
       "      <th></th>\n",
       "      <th>rid</th>\n",
       "      <th>horse1_horseName</th>\n",
       "      <th>horse2_horseName</th>\n",
       "    </tr>\n",
       "  </thead>\n",
       "  <tbody>\n",
       "    <tr>\n",
       "      <th>0</th>\n",
       "      <td>341451</td>\n",
       "      <td>Dance Design</td>\n",
       "      <td>Idris</td>\n",
       "    </tr>\n",
       "    <tr>\n",
       "      <th>1</th>\n",
       "      <td>341451</td>\n",
       "      <td>Idris</td>\n",
       "      <td>Dance Design</td>\n",
       "    </tr>\n",
       "    <tr>\n",
       "      <th>2</th>\n",
       "      <td>50025</td>\n",
       "      <td>Azra</td>\n",
       "      <td>Johan Cruyff</td>\n",
       "    </tr>\n",
       "    <tr>\n",
       "      <th>3</th>\n",
       "      <td>50025</td>\n",
       "      <td>Azra</td>\n",
       "      <td>Beautiful Fire</td>\n",
       "    </tr>\n",
       "    <tr>\n",
       "      <th>4</th>\n",
       "      <td>50025</td>\n",
       "      <td>Johan Cruyff</td>\n",
       "      <td>Azra</td>\n",
       "    </tr>\n",
       "  </tbody>\n",
       "</table>\n",
       "</div>"
      ],
      "text/plain": [
       "      rid horse1_horseName horse2_horseName\n",
       "0  341451     Dance Design            Idris\n",
       "1  341451            Idris     Dance Design\n",
       "2   50025             Azra     Johan Cruyff\n",
       "3   50025             Azra   Beautiful Fire\n",
       "4   50025     Johan Cruyff             Azra"
      ]
     },
     "execution_count": 12,
     "metadata": {},
     "output_type": "execute_result"
    }
   ],
   "source": [
    "X_train_identifiers = pd.read_csv(f\"{BASE_DIR}/data/analysis/X_train_identifiers.csv\", low_memory=False)\n",
    "X_train_identifiers.head()"
   ]
  },
  {
   "cell_type": "code",
   "execution_count": 13,
   "id": "6f4af650",
   "metadata": {},
   "outputs": [
    {
     "data": {
      "text/html": [
       "<div>\n",
       "<style scoped>\n",
       "    .dataframe tbody tr th:only-of-type {\n",
       "        vertical-align: middle;\n",
       "    }\n",
       "\n",
       "    .dataframe tbody tr th {\n",
       "        vertical-align: top;\n",
       "    }\n",
       "\n",
       "    .dataframe thead th {\n",
       "        text-align: right;\n",
       "    }\n",
       "</style>\n",
       "<table border=\"1\" class=\"dataframe\">\n",
       "  <thead>\n",
       "    <tr style=\"text-align: right;\">\n",
       "      <th></th>\n",
       "      <th>rid</th>\n",
       "      <th>horse1_horseName</th>\n",
       "      <th>horse2_horseName</th>\n",
       "    </tr>\n",
       "  </thead>\n",
       "  <tbody>\n",
       "    <tr>\n",
       "      <th>0</th>\n",
       "      <td>159686</td>\n",
       "      <td>Gussy Goose</td>\n",
       "      <td>Ibergman</td>\n",
       "    </tr>\n",
       "    <tr>\n",
       "      <th>1</th>\n",
       "      <td>159686</td>\n",
       "      <td>Mothers Finest</td>\n",
       "      <td>Emergent</td>\n",
       "    </tr>\n",
       "    <tr>\n",
       "      <th>2</th>\n",
       "      <td>159686</td>\n",
       "      <td>Mothers Finest</td>\n",
       "      <td>Gussy Goose</td>\n",
       "    </tr>\n",
       "    <tr>\n",
       "      <th>3</th>\n",
       "      <td>159686</td>\n",
       "      <td>Mothers Finest</td>\n",
       "      <td>Just Joan</td>\n",
       "    </tr>\n",
       "    <tr>\n",
       "      <th>4</th>\n",
       "      <td>159686</td>\n",
       "      <td>Mothers Finest</td>\n",
       "      <td>Rayisa</td>\n",
       "    </tr>\n",
       "  </tbody>\n",
       "</table>\n",
       "</div>"
      ],
      "text/plain": [
       "      rid horse1_horseName horse2_horseName\n",
       "0  159686      Gussy Goose         Ibergman\n",
       "1  159686   Mothers Finest         Emergent\n",
       "2  159686   Mothers Finest      Gussy Goose\n",
       "3  159686   Mothers Finest        Just Joan\n",
       "4  159686   Mothers Finest           Rayisa"
      ]
     },
     "execution_count": 13,
     "metadata": {},
     "output_type": "execute_result"
    }
   ],
   "source": [
    "X_dev_identifiers = pd.read_csv(f\"{BASE_DIR}/data/analysis/X_dev_identifiers.csv\", low_memory=False)\n",
    "X_dev_identifiers.head()"
   ]
  },
  {
   "cell_type": "code",
   "execution_count": 14,
   "id": "e82ae9de",
   "metadata": {},
   "outputs": [
    {
     "data": {
      "text/html": [
       "<div>\n",
       "<style scoped>\n",
       "    .dataframe tbody tr th:only-of-type {\n",
       "        vertical-align: middle;\n",
       "    }\n",
       "\n",
       "    .dataframe tbody tr th {\n",
       "        vertical-align: top;\n",
       "    }\n",
       "\n",
       "    .dataframe thead th {\n",
       "        text-align: right;\n",
       "    }\n",
       "</style>\n",
       "<table border=\"1\" class=\"dataframe\">\n",
       "  <thead>\n",
       "    <tr style=\"text-align: right;\">\n",
       "      <th></th>\n",
       "      <th>rid</th>\n",
       "      <th>horse1_horseName</th>\n",
       "      <th>horse2_horseName</th>\n",
       "    </tr>\n",
       "  </thead>\n",
       "  <tbody>\n",
       "    <tr>\n",
       "      <th>0</th>\n",
       "      <td>136782</td>\n",
       "      <td>Sestriere</td>\n",
       "      <td>Associate Rock</td>\n",
       "    </tr>\n",
       "    <tr>\n",
       "      <th>1</th>\n",
       "      <td>136782</td>\n",
       "      <td>Sestriere</td>\n",
       "      <td>Fridtjof Nansen</td>\n",
       "    </tr>\n",
       "    <tr>\n",
       "      <th>2</th>\n",
       "      <td>136782</td>\n",
       "      <td>Sestriere</td>\n",
       "      <td>Pillar</td>\n",
       "    </tr>\n",
       "    <tr>\n",
       "      <th>3</th>\n",
       "      <td>136782</td>\n",
       "      <td>Sestriere</td>\n",
       "      <td>Captain Power</td>\n",
       "    </tr>\n",
       "    <tr>\n",
       "      <th>4</th>\n",
       "      <td>136782</td>\n",
       "      <td>Sestriere</td>\n",
       "      <td>Frow</td>\n",
       "    </tr>\n",
       "  </tbody>\n",
       "</table>\n",
       "</div>"
      ],
      "text/plain": [
       "      rid horse1_horseName horse2_horseName\n",
       "0  136782        Sestriere   Associate Rock\n",
       "1  136782        Sestriere  Fridtjof Nansen\n",
       "2  136782        Sestriere           Pillar\n",
       "3  136782        Sestriere    Captain Power\n",
       "4  136782        Sestriere             Frow"
      ]
     },
     "execution_count": 14,
     "metadata": {},
     "output_type": "execute_result"
    }
   ],
   "source": [
    "X_test_identifiers = pd.read_csv(f\"{BASE_DIR}/data/analysis/X_test_identifiers.csv\", low_memory=False)\n",
    "X_test_identifiers.head()"
   ]
  },
  {
   "cell_type": "markdown",
   "id": "7c4261bd",
   "metadata": {},
   "source": [
    "---"
   ]
  },
  {
   "cell_type": "markdown",
   "id": "e72080a3",
   "metadata": {},
   "source": [
    "## Find Races w/ All Runners Present"
   ]
  },
  {
   "cell_type": "markdown",
   "id": "d021531e",
   "metadata": {},
   "source": [
    "The correctness of this function is demonstrated elsewhere."
   ]
  },
  {
   "cell_type": "code",
   "execution_count": 15,
   "id": "9d8ef3d5",
   "metadata": {},
   "outputs": [],
   "source": [
    "def runners_to_num_pairs(runners: int) -> int:\n",
    "    \"\"\"\n",
    "    Calculates the number of 2-tuple permutations\n",
    "    for a given amount runners.\n",
    "    \"\"\"\n",
    "    return runners * (runners - 1)"
   ]
  },
  {
   "cell_type": "code",
   "execution_count": 16,
   "id": "e3ff9137",
   "metadata": {},
   "outputs": [],
   "source": [
    "def find_races_all_runners_present(df: pd.core.frame.DataFrame) -> List[int]:\n",
    "    df = df.groupby(\"rid\").count()\n",
    "    df = df.merge(races_clean[['rid', 'runners']], on='rid')\n",
    "    df['permutations'] = df['runners'].map(runners_to_num_pairs)\n",
    "    return list(df[df['permutations'] == df['horse1_horseName']]['rid'])"
   ]
  },
  {
   "cell_type": "code",
   "execution_count": 17,
   "id": "5b5f7436",
   "metadata": {},
   "outputs": [
    {
     "data": {
      "text/plain": [
       "3212"
      ]
     },
     "execution_count": 17,
     "metadata": {},
     "output_type": "execute_result"
    }
   ],
   "source": [
    "X_train_all_runners_present = find_races_all_runners_present(X_train_identifiers)\n",
    "len(X_train_all_runners_present)"
   ]
  },
  {
   "cell_type": "code",
   "execution_count": 18,
   "id": "b5f3096e",
   "metadata": {},
   "outputs": [
    {
     "data": {
      "text/plain": [
       "1012"
      ]
     },
     "execution_count": 18,
     "metadata": {},
     "output_type": "execute_result"
    }
   ],
   "source": [
    "X_dev_all_runners_present = find_races_all_runners_present(X_dev_identifiers)\n",
    "len(X_dev_all_runners_present)"
   ]
  },
  {
   "cell_type": "code",
   "execution_count": 19,
   "id": "77359175",
   "metadata": {},
   "outputs": [
    {
     "data": {
      "text/plain": [
       "360"
      ]
     },
     "execution_count": 19,
     "metadata": {},
     "output_type": "execute_result"
    }
   ],
   "source": [
    "X_test_all_runners_present = find_races_all_runners_present(X_test_identifiers)\n",
    "len(X_test_all_runners_present)"
   ]
  },
  {
   "cell_type": "markdown",
   "id": "259fbbe7",
   "metadata": {},
   "source": [
    "---"
   ]
  },
  {
   "cell_type": "markdown",
   "id": "4f6f96eb",
   "metadata": {},
   "source": [
    "## Load Neural Network"
   ]
  },
  {
   "cell_type": "code",
   "execution_count": 20,
   "id": "9123f8b8",
   "metadata": {},
   "outputs": [],
   "source": [
    "import torch\n",
    "import torch.nn as nn\n",
    "import torch.optim as optim\n",
    "from torch.utils.data import DataLoader\n",
    "\n",
    "# Set the device to use\n",
    "# CUDA refers to the GPU\n",
    "device = torch.device(\"cuda:0\" if torch.cuda.is_available() else \"cpu\")\n",
    "\n",
    "## Fixing Random Seed for Reproducibility\n",
    "torch.manual_seed(0)\n",
    "np.random.seed(0)"
   ]
  },
  {
   "cell_type": "code",
   "execution_count": 21,
   "id": "96e9a759",
   "metadata": {},
   "outputs": [],
   "source": [
    "X_train_plus_identifiers = X_train.join(X_train_identifiers)\n",
    "X_dev_plus_identifiers = X_dev.join(X_dev_identifiers)\n",
    "X_test_plus_identifiers = X_test.join(X_test_identifiers)"
   ]
  },
  {
   "cell_type": "code",
   "execution_count": 22,
   "id": "58f1ae87",
   "metadata": {},
   "outputs": [],
   "source": [
    "X_train_plus_identifiers = X_train_plus_identifiers[X_train_plus_identifiers['rid'].isin(X_train_all_runners_present)]\n",
    "X_dev_plus_identifiers = X_dev_plus_identifiers[X_dev_plus_identifiers['rid'].isin(X_dev_all_runners_present)]\n",
    "X_test_plus_identifiers = X_test_plus_identifiers[X_test_plus_identifiers['rid'].isin(X_test_all_runners_present)]"
   ]
  },
  {
   "cell_type": "code",
   "execution_count": 23,
   "id": "800ddb68",
   "metadata": {},
   "outputs": [
    {
     "data": {
      "text/plain": [
       "(800666, 144)"
      ]
     },
     "execution_count": 23,
     "metadata": {},
     "output_type": "execute_result"
    }
   ],
   "source": [
    "X_train.shape"
   ]
  },
  {
   "cell_type": "code",
   "execution_count": 24,
   "id": "4607e0a3",
   "metadata": {},
   "outputs": [
    {
     "data": {
      "text/plain": [
       "(239188, 147)"
      ]
     },
     "execution_count": 24,
     "metadata": {},
     "output_type": "execute_result"
    }
   ],
   "source": [
    "X_train_plus_identifiers.shape"
   ]
  },
  {
   "cell_type": "code",
   "execution_count": 25,
   "id": "b8d52602",
   "metadata": {},
   "outputs": [
    {
     "data": {
      "text/html": [
       "<div>\n",
       "<style scoped>\n",
       "    .dataframe tbody tr th:only-of-type {\n",
       "        vertical-align: middle;\n",
       "    }\n",
       "\n",
       "    .dataframe tbody tr th {\n",
       "        vertical-align: top;\n",
       "    }\n",
       "\n",
       "    .dataframe thead th {\n",
       "        text-align: right;\n",
       "    }\n",
       "</style>\n",
       "<table border=\"1\" class=\"dataframe\">\n",
       "  <thead>\n",
       "    <tr style=\"text-align: right;\">\n",
       "      <th></th>\n",
       "      <th>horse1_age</th>\n",
       "      <th>horse1_saddle</th>\n",
       "      <th>horse1_decimalPrice</th>\n",
       "      <th>horse1_isFav</th>\n",
       "      <th>horse1_outHandicap</th>\n",
       "      <th>horse1_RPR</th>\n",
       "      <th>horse1_weight</th>\n",
       "      <th>horse1_jockey_d_last_race</th>\n",
       "      <th>horse1_jockey_d_first_race</th>\n",
       "      <th>horse1_jockey_prev_1_position</th>\n",
       "      <th>...</th>\n",
       "      <th>horse2_jockey_prev_3_finishing_time_ratio_rain</th>\n",
       "      <th>horse2_jockey_prev_1_position_rhum</th>\n",
       "      <th>horse2_jockey_prev_2_position_rhum</th>\n",
       "      <th>horse2_jockey_prev_3_position_rhum</th>\n",
       "      <th>horse2_jockey_prev_1_finishing_time_ratio_rhum</th>\n",
       "      <th>horse2_jockey_prev_2_finishing_time_ratio_rhum</th>\n",
       "      <th>horse2_jockey_prev_3_finishing_time_ratio_rhum</th>\n",
       "      <th>rid</th>\n",
       "      <th>horse1_horseName</th>\n",
       "      <th>horse2_horseName</th>\n",
       "    </tr>\n",
       "  </thead>\n",
       "  <tbody>\n",
       "    <tr>\n",
       "      <th>46</th>\n",
       "      <td>0.2</td>\n",
       "      <td>0.115385</td>\n",
       "      <td>0.098485</td>\n",
       "      <td>0.0</td>\n",
       "      <td>0.0</td>\n",
       "      <td>0.29375</td>\n",
       "      <td>0.692308</td>\n",
       "      <td>0.000008</td>\n",
       "      <td>0.261505</td>\n",
       "      <td>0.10</td>\n",
       "      <td>...</td>\n",
       "      <td>0.780139</td>\n",
       "      <td>0.025</td>\n",
       "      <td>0.025</td>\n",
       "      <td>0.025</td>\n",
       "      <td>0.799642</td>\n",
       "      <td>0.799642</td>\n",
       "      <td>0.780139</td>\n",
       "      <td>337765</td>\n",
       "      <td>Plaza De Toros</td>\n",
       "      <td>Mingling Glances</td>\n",
       "    </tr>\n",
       "    <tr>\n",
       "      <th>47</th>\n",
       "      <td>0.2</td>\n",
       "      <td>0.115385</td>\n",
       "      <td>0.098485</td>\n",
       "      <td>0.0</td>\n",
       "      <td>0.0</td>\n",
       "      <td>0.29375</td>\n",
       "      <td>0.692308</td>\n",
       "      <td>0.000008</td>\n",
       "      <td>0.261505</td>\n",
       "      <td>0.10</td>\n",
       "      <td>...</td>\n",
       "      <td>0.788387</td>\n",
       "      <td>1.000</td>\n",
       "      <td>0.075</td>\n",
       "      <td>0.050</td>\n",
       "      <td>0.868119</td>\n",
       "      <td>0.802540</td>\n",
       "      <td>0.784381</td>\n",
       "      <td>337765</td>\n",
       "      <td>Plaza De Toros</td>\n",
       "      <td>Johan Cruyff</td>\n",
       "    </tr>\n",
       "    <tr>\n",
       "      <th>48</th>\n",
       "      <td>0.2</td>\n",
       "      <td>0.076923</td>\n",
       "      <td>0.541667</td>\n",
       "      <td>1.0</td>\n",
       "      <td>0.0</td>\n",
       "      <td>0.64375</td>\n",
       "      <td>0.692308</td>\n",
       "      <td>0.000008</td>\n",
       "      <td>0.235628</td>\n",
       "      <td>0.05</td>\n",
       "      <td>...</td>\n",
       "      <td>0.788387</td>\n",
       "      <td>1.000</td>\n",
       "      <td>0.075</td>\n",
       "      <td>0.050</td>\n",
       "      <td>0.868119</td>\n",
       "      <td>0.802540</td>\n",
       "      <td>0.784381</td>\n",
       "      <td>337765</td>\n",
       "      <td>Olympic Majesty</td>\n",
       "      <td>Johan Cruyff</td>\n",
       "    </tr>\n",
       "    <tr>\n",
       "      <th>49</th>\n",
       "      <td>0.2</td>\n",
       "      <td>0.038462</td>\n",
       "      <td>0.120370</td>\n",
       "      <td>0.0</td>\n",
       "      <td>0.0</td>\n",
       "      <td>0.68750</td>\n",
       "      <td>0.692308</td>\n",
       "      <td>0.000340</td>\n",
       "      <td>0.264441</td>\n",
       "      <td>0.05</td>\n",
       "      <td>...</td>\n",
       "      <td>0.785794</td>\n",
       "      <td>0.050</td>\n",
       "      <td>0.075</td>\n",
       "      <td>0.075</td>\n",
       "      <td>0.803869</td>\n",
       "      <td>0.814859</td>\n",
       "      <td>0.781684</td>\n",
       "      <td>337765</td>\n",
       "      <td>Johan Cruyff</td>\n",
       "      <td>Olympic Majesty</td>\n",
       "    </tr>\n",
       "    <tr>\n",
       "      <th>50</th>\n",
       "      <td>0.2</td>\n",
       "      <td>0.038462</td>\n",
       "      <td>0.120370</td>\n",
       "      <td>0.0</td>\n",
       "      <td>0.0</td>\n",
       "      <td>0.68750</td>\n",
       "      <td>0.692308</td>\n",
       "      <td>0.000340</td>\n",
       "      <td>0.264441</td>\n",
       "      <td>0.05</td>\n",
       "      <td>...</td>\n",
       "      <td>0.780139</td>\n",
       "      <td>0.025</td>\n",
       "      <td>0.025</td>\n",
       "      <td>0.025</td>\n",
       "      <td>0.799642</td>\n",
       "      <td>0.799642</td>\n",
       "      <td>0.780139</td>\n",
       "      <td>337765</td>\n",
       "      <td>Johan Cruyff</td>\n",
       "      <td>Mingling Glances</td>\n",
       "    </tr>\n",
       "  </tbody>\n",
       "</table>\n",
       "<p>5 rows × 147 columns</p>\n",
       "</div>"
      ],
      "text/plain": [
       "    horse1_age  horse1_saddle  horse1_decimalPrice  horse1_isFav  \\\n",
       "46         0.2       0.115385             0.098485           0.0   \n",
       "47         0.2       0.115385             0.098485           0.0   \n",
       "48         0.2       0.076923             0.541667           1.0   \n",
       "49         0.2       0.038462             0.120370           0.0   \n",
       "50         0.2       0.038462             0.120370           0.0   \n",
       "\n",
       "    horse1_outHandicap  horse1_RPR  horse1_weight  horse1_jockey_d_last_race  \\\n",
       "46                 0.0     0.29375       0.692308                   0.000008   \n",
       "47                 0.0     0.29375       0.692308                   0.000008   \n",
       "48                 0.0     0.64375       0.692308                   0.000008   \n",
       "49                 0.0     0.68750       0.692308                   0.000340   \n",
       "50                 0.0     0.68750       0.692308                   0.000340   \n",
       "\n",
       "    horse1_jockey_d_first_race  horse1_jockey_prev_1_position  ...  \\\n",
       "46                    0.261505                           0.10  ...   \n",
       "47                    0.261505                           0.10  ...   \n",
       "48                    0.235628                           0.05  ...   \n",
       "49                    0.264441                           0.05  ...   \n",
       "50                    0.264441                           0.05  ...   \n",
       "\n",
       "    horse2_jockey_prev_3_finishing_time_ratio_rain  \\\n",
       "46                                        0.780139   \n",
       "47                                        0.788387   \n",
       "48                                        0.788387   \n",
       "49                                        0.785794   \n",
       "50                                        0.780139   \n",
       "\n",
       "    horse2_jockey_prev_1_position_rhum  horse2_jockey_prev_2_position_rhum  \\\n",
       "46                               0.025                               0.025   \n",
       "47                               1.000                               0.075   \n",
       "48                               1.000                               0.075   \n",
       "49                               0.050                               0.075   \n",
       "50                               0.025                               0.025   \n",
       "\n",
       "    horse2_jockey_prev_3_position_rhum  \\\n",
       "46                               0.025   \n",
       "47                               0.050   \n",
       "48                               0.050   \n",
       "49                               0.075   \n",
       "50                               0.025   \n",
       "\n",
       "    horse2_jockey_prev_1_finishing_time_ratio_rhum  \\\n",
       "46                                        0.799642   \n",
       "47                                        0.868119   \n",
       "48                                        0.868119   \n",
       "49                                        0.803869   \n",
       "50                                        0.799642   \n",
       "\n",
       "    horse2_jockey_prev_2_finishing_time_ratio_rhum  \\\n",
       "46                                        0.799642   \n",
       "47                                        0.802540   \n",
       "48                                        0.802540   \n",
       "49                                        0.814859   \n",
       "50                                        0.799642   \n",
       "\n",
       "    horse2_jockey_prev_3_finishing_time_ratio_rhum     rid  horse1_horseName  \\\n",
       "46                                        0.780139  337765    Plaza De Toros   \n",
       "47                                        0.784381  337765    Plaza De Toros   \n",
       "48                                        0.784381  337765   Olympic Majesty   \n",
       "49                                        0.781684  337765      Johan Cruyff   \n",
       "50                                        0.780139  337765      Johan Cruyff   \n",
       "\n",
       "    horse2_horseName  \n",
       "46  Mingling Glances  \n",
       "47      Johan Cruyff  \n",
       "48      Johan Cruyff  \n",
       "49   Olympic Majesty  \n",
       "50  Mingling Glances  \n",
       "\n",
       "[5 rows x 147 columns]"
      ]
     },
     "execution_count": 25,
     "metadata": {},
     "output_type": "execute_result"
    }
   ],
   "source": [
    "X_train_plus_identifiers.head()"
   ]
  },
  {
   "cell_type": "code",
   "execution_count": 26,
   "id": "e7244c2c",
   "metadata": {},
   "outputs": [],
   "source": [
    "drop_cols = ['rid', 'horse1_horseName', 'horse2_horseName']\n",
    "\n",
    "X_train_only_all_runners_present = X_train_plus_identifiers.drop(columns=drop_cols)\n",
    "X_dev_only_all_runners_present = X_dev_plus_identifiers.drop(columns=drop_cols)\n",
    "X_test_only_all_runners_present = X_test_plus_identifiers.drop(columns=drop_cols)"
   ]
  },
  {
   "cell_type": "code",
   "execution_count": 27,
   "id": "c1e94785",
   "metadata": {},
   "outputs": [],
   "source": [
    "X_train_tensor = torch.from_numpy(X_train_only_all_runners_present.to_numpy()).float().to(device)\n",
    "X_dev_tensor = torch.from_numpy(X_dev_only_all_runners_present.to_numpy()).float().to(device)\n",
    "X_test_tensor = torch.from_numpy(X_test_only_all_runners_present.to_numpy()).float().to(device)"
   ]
  },
  {
   "cell_type": "code",
   "execution_count": 28,
   "id": "83287181",
   "metadata": {},
   "outputs": [],
   "source": [
    "class Net(nn.Module):\n",
    "    def __init__(self, input_size, num_layers, layers_size):\n",
    "        super(Net, self).__init__()\n",
    "        self.hidden_layers = nn.ModuleList([nn.Linear(input_size, layers_size)])\n",
    "        self.hidden_layers.extend([nn.Linear(layers_size, layers_size) for i in range(1, num_layers-1)])\n",
    "        self.output = nn.Linear(layers_size, 1)\n",
    "        self.activation = nn.ReLU()\n",
    "    \n",
    "    def forward(self, x):\n",
    "        z = x\n",
    "        for layer in self.hidden_layers:\n",
    "            z = self.activation(layer(z))\n",
    "        return self.output(z)"
   ]
  },
  {
   "cell_type": "code",
   "execution_count": 29,
   "id": "a0fa9c37",
   "metadata": {},
   "outputs": [
    {
     "data": {
      "text/plain": [
       "Net(\n",
       "  (hidden_layers): ModuleList(\n",
       "    (0): Linear(in_features=144, out_features=150, bias=True)\n",
       "  )\n",
       "  (output): Linear(in_features=150, out_features=1, bias=True)\n",
       "  (activation): ReLU()\n",
       ")"
      ]
     },
     "execution_count": 29,
     "metadata": {},
     "output_type": "execute_result"
    }
   ],
   "source": [
    "net = Net(X_train_tensor.shape[1], 1, 150)\n",
    "net.load_state_dict(torch.load(f\"{BASE_DIR}/data/analysis/neural_network/net_all_features_150_nodes.bin\"))\n",
    "net.eval()"
   ]
  },
  {
   "cell_type": "markdown",
   "id": "0fc4a374",
   "metadata": {},
   "source": [
    "## Compute Predictions"
   ]
  },
  {
   "cell_type": "markdown",
   "id": "b5b095d6",
   "metadata": {},
   "source": [
    "The predicted winner will have won the most pairwise matchups"
   ]
  },
  {
   "cell_type": "code",
   "execution_count": 30,
   "id": "70162bf6",
   "metadata": {},
   "outputs": [],
   "source": [
    "from collections import defaultdict"
   ]
  },
  {
   "cell_type": "code",
   "execution_count": 31,
   "id": "f6bc1883",
   "metadata": {},
   "outputs": [],
   "source": [
    "with torch.no_grad():\n",
    "    train_preds = torch.sigmoid(net.forward(X_train_tensor))\n",
    "    dev_preds = torch.sigmoid(net.forward(X_dev_tensor))\n",
    "    test_preds = torch.sigmoid(net.forward(X_test_tensor))"
   ]
  },
  {
   "cell_type": "code",
   "execution_count": 32,
   "id": "604787fb",
   "metadata": {},
   "outputs": [],
   "source": [
    "X_train_plus_identifiers['predictions'] = train_preds\n",
    "X_dev_plus_identifiers['predictions'] = dev_preds\n",
    "X_test_plus_identifiers['predictions'] = test_preds"
   ]
  },
  {
   "cell_type": "code",
   "execution_count": 33,
   "id": "1bf73500",
   "metadata": {},
   "outputs": [
    {
     "data": {
      "text/html": [
       "<div>\n",
       "<style scoped>\n",
       "    .dataframe tbody tr th:only-of-type {\n",
       "        vertical-align: middle;\n",
       "    }\n",
       "\n",
       "    .dataframe tbody tr th {\n",
       "        vertical-align: top;\n",
       "    }\n",
       "\n",
       "    .dataframe thead th {\n",
       "        text-align: right;\n",
       "    }\n",
       "</style>\n",
       "<table border=\"1\" class=\"dataframe\">\n",
       "  <thead>\n",
       "    <tr style=\"text-align: right;\">\n",
       "      <th></th>\n",
       "      <th>rid</th>\n",
       "      <th>horse1_horseName</th>\n",
       "      <th>horse2_horseName</th>\n",
       "      <th>predictions</th>\n",
       "    </tr>\n",
       "  </thead>\n",
       "  <tbody>\n",
       "    <tr>\n",
       "      <th>46</th>\n",
       "      <td>337765</td>\n",
       "      <td>Plaza De Toros</td>\n",
       "      <td>Mingling Glances</td>\n",
       "      <td>2.578393e-07</td>\n",
       "    </tr>\n",
       "    <tr>\n",
       "      <th>47</th>\n",
       "      <td>337765</td>\n",
       "      <td>Plaza De Toros</td>\n",
       "      <td>Johan Cruyff</td>\n",
       "      <td>2.090218e-08</td>\n",
       "    </tr>\n",
       "    <tr>\n",
       "      <th>48</th>\n",
       "      <td>337765</td>\n",
       "      <td>Olympic Majesty</td>\n",
       "      <td>Johan Cruyff</td>\n",
       "      <td>1.747337e-01</td>\n",
       "    </tr>\n",
       "    <tr>\n",
       "      <th>49</th>\n",
       "      <td>337765</td>\n",
       "      <td>Johan Cruyff</td>\n",
       "      <td>Olympic Majesty</td>\n",
       "      <td>9.360530e-01</td>\n",
       "    </tr>\n",
       "    <tr>\n",
       "      <th>50</th>\n",
       "      <td>337765</td>\n",
       "      <td>Johan Cruyff</td>\n",
       "      <td>Mingling Glances</td>\n",
       "      <td>9.993711e-01</td>\n",
       "    </tr>\n",
       "  </tbody>\n",
       "</table>\n",
       "</div>"
      ],
      "text/plain": [
       "       rid horse1_horseName  horse2_horseName   predictions\n",
       "46  337765   Plaza De Toros  Mingling Glances  2.578393e-07\n",
       "47  337765   Plaza De Toros      Johan Cruyff  2.090218e-08\n",
       "48  337765  Olympic Majesty      Johan Cruyff  1.747337e-01\n",
       "49  337765     Johan Cruyff   Olympic Majesty  9.360530e-01\n",
       "50  337765     Johan Cruyff  Mingling Glances  9.993711e-01"
      ]
     },
     "execution_count": 33,
     "metadata": {},
     "output_type": "execute_result"
    }
   ],
   "source": [
    "X_train_plus_identifiers[['rid', 'horse1_horseName', 'horse2_horseName', 'predictions']].head()"
   ]
  },
  {
   "cell_type": "code",
   "execution_count": 34,
   "id": "6f62741e",
   "metadata": {},
   "outputs": [],
   "source": [
    "X_train_predictions = {}\n",
    "\n",
    "for rid in X_train_all_runners_present:\n",
    "\n",
    "    race_d = defaultdict(lambda: 0)\n",
    "    \n",
    "    df = X_train_plus_identifiers[X_train_plus_identifiers['rid'] == rid]\n",
    "    \n",
    "    for _, row in df.iterrows():\n",
    "        race_d[row['horse1_horseName']] += row['predictions']\n",
    "        race_d[row['horse2_horseName']] += 1 - row['predictions']\n",
    "        \n",
    "    X_train_predictions[rid] = max(race_d, key=race_d.get)"
   ]
  },
  {
   "cell_type": "code",
   "execution_count": 35,
   "id": "75c5f6a9",
   "metadata": {},
   "outputs": [],
   "source": [
    "X_dev_predictions = {}\n",
    "\n",
    "for rid in X_dev_all_runners_present:\n",
    "\n",
    "    race_d = defaultdict(lambda: 0)\n",
    "    \n",
    "    df = X_dev_plus_identifiers[X_dev_plus_identifiers['rid'] == rid]\n",
    "    \n",
    "    for _, row in df.iterrows():\n",
    "        race_d[row['horse1_horseName']] += row['predictions']\n",
    "        race_d[row['horse2_horseName']] += 1 - row['predictions']\n",
    "        \n",
    "    X_dev_predictions[rid] = max(race_d, key=race_d.get)"
   ]
  },
  {
   "cell_type": "code",
   "execution_count": 36,
   "id": "be23d721",
   "metadata": {},
   "outputs": [],
   "source": [
    "X_test_predictions = {}\n",
    "\n",
    "for rid in X_test_all_runners_present:\n",
    "\n",
    "    race_d = defaultdict(lambda: 0)\n",
    "    \n",
    "    df = X_test_plus_identifiers[X_test_plus_identifiers['rid'] == rid]\n",
    "    \n",
    "    for _, row in df.iterrows():\n",
    "        race_d[row['horse1_horseName']] += row['predictions']\n",
    "        race_d[row['horse2_horseName']] += 1 - row['predictions']\n",
    "        \n",
    "    X_test_predictions[rid] = max(race_d, key=race_d.get)"
   ]
  },
  {
   "cell_type": "markdown",
   "id": "bc264341",
   "metadata": {},
   "source": [
    "---"
   ]
  },
  {
   "cell_type": "markdown",
   "id": "5a9d02a2",
   "metadata": {},
   "source": [
    "## Preprare Walk"
   ]
  },
  {
   "cell_type": "markdown",
   "id": "54bb5786",
   "metadata": {},
   "source": [
    "We need to make a helper dictionary that maps `rid` to the winner."
   ]
  },
  {
   "cell_type": "code",
   "execution_count": 37,
   "id": "63395860",
   "metadata": {},
   "outputs": [],
   "source": [
    "rid_to_winner = {}\n",
    "\n",
    "for rid in X_train_all_runners_present:\n",
    "    \n",
    "    df = horses_clean[horses_clean['rid'] == rid]\n",
    "    rid_to_winner[rid] = df[df['position'] == 1].iloc[0]['horseName']\n",
    "    \n",
    "for rid in X_dev_all_runners_present:\n",
    "    \n",
    "    df = horses_clean[horses_clean['rid'] == rid]\n",
    "    rid_to_winner[rid] = df[df['position'] == 1].iloc[0]['horseName']\n",
    "    \n",
    "for rid in X_test_all_runners_present:\n",
    "    \n",
    "    df = horses_clean[horses_clean['rid'] == rid]\n",
    "    rid_to_winner[rid] = df[df['position'] == 1].iloc[0]['horseName']"
   ]
  },
  {
   "cell_type": "code",
   "execution_count": 38,
   "id": "894fc6ba",
   "metadata": {},
   "outputs": [
    {
     "data": {
      "text/plain": [
       "(3212, 34)"
      ]
     },
     "execution_count": 38,
     "metadata": {},
     "output_type": "execute_result"
    }
   ],
   "source": [
    "races_train = races_clean[races_clean['rid'].isin(X_train_all_runners_present)]\n",
    "races_train.shape"
   ]
  },
  {
   "cell_type": "code",
   "execution_count": 39,
   "id": "b637c2de",
   "metadata": {},
   "outputs": [
    {
     "data": {
      "text/plain": [
       "23       1997-06-06 17:30:00\n",
       "2745     2009-03-20 17:30:00\n",
       "2751     2009-03-22 13:15:00\n",
       "2754     2009-03-22 14:15:00\n",
       "2755     2009-03-22 14:45:00\n",
       "                ...         \n",
       "20128    1999-10-16 15:50:00\n",
       "20129    1999-10-16 15:20:00\n",
       "20130    1999-10-16 13:45:00\n",
       "20158    1999-10-25 13:45:00\n",
       "20163    1999-10-29 14:30:00\n",
       "Name: datetime, Length: 3212, dtype: object"
      ]
     },
     "execution_count": 39,
     "metadata": {},
     "output_type": "execute_result"
    }
   ],
   "source": [
    "races_train['datetime']"
   ]
  },
  {
   "cell_type": "code",
   "execution_count": 40,
   "id": "48d0ab72",
   "metadata": {},
   "outputs": [
    {
     "name": "stderr",
     "output_type": "stream",
     "text": [
      "/var/folders/s0/crtdyrfd7gq75c2mmz_rn9340000gn/T/ipykernel_43797/870046472.py:1: SettingWithCopyWarning: \n",
      "A value is trying to be set on a copy of a slice from a DataFrame.\n",
      "Try using .loc[row_indexer,col_indexer] = value instead\n",
      "\n",
      "See the caveats in the documentation: https://pandas.pydata.org/pandas-docs/stable/user_guide/indexing.html#returning-a-view-versus-a-copy\n",
      "  races_train['datetime'] = pd.to_datetime(races_train['datetime'])\n"
     ]
    }
   ],
   "source": [
    "races_train['datetime'] = pd.to_datetime(races_train['datetime'])"
   ]
  },
  {
   "cell_type": "code",
   "execution_count": 41,
   "id": "1658cd0b",
   "metadata": {},
   "outputs": [
    {
     "data": {
      "text/plain": [
       "23      1997-06-06 17:30:00\n",
       "2745    2009-03-20 17:30:00\n",
       "2751    2009-03-22 13:15:00\n",
       "2754    2009-03-22 14:15:00\n",
       "2755    2009-03-22 14:45:00\n",
       "                ...        \n",
       "20128   1999-10-16 15:50:00\n",
       "20129   1999-10-16 15:20:00\n",
       "20130   1999-10-16 13:45:00\n",
       "20158   1999-10-25 13:45:00\n",
       "20163   1999-10-29 14:30:00\n",
       "Name: datetime, Length: 3212, dtype: datetime64[ns]"
      ]
     },
     "execution_count": 41,
     "metadata": {},
     "output_type": "execute_result"
    }
   ],
   "source": [
    "races_train['datetime']"
   ]
  },
  {
   "cell_type": "code",
   "execution_count": 42,
   "id": "04d91118",
   "metadata": {},
   "outputs": [
    {
     "name": "stderr",
     "output_type": "stream",
     "text": [
      "/var/folders/s0/crtdyrfd7gq75c2mmz_rn9340000gn/T/ipykernel_43797/1810544999.py:2: SettingWithCopyWarning: \n",
      "A value is trying to be set on a copy of a slice from a DataFrame.\n",
      "Try using .loc[row_indexer,col_indexer] = value instead\n",
      "\n",
      "See the caveats in the documentation: https://pandas.pydata.org/pandas-docs/stable/user_guide/indexing.html#returning-a-view-versus-a-copy\n",
      "  races_dev['datetime'] = pd.to_datetime(races_dev['datetime'])\n"
     ]
    },
    {
     "data": {
      "text/plain": [
       "(1012, 34)"
      ]
     },
     "execution_count": 42,
     "metadata": {},
     "output_type": "execute_result"
    }
   ],
   "source": [
    "races_dev = races_clean[races_clean['rid'].isin(X_dev_all_runners_present)]\n",
    "races_dev['datetime'] = pd.to_datetime(races_dev['datetime'])\n",
    "races_dev.shape"
   ]
  },
  {
   "cell_type": "code",
   "execution_count": 43,
   "id": "bb514829",
   "metadata": {},
   "outputs": [
    {
     "data": {
      "text/html": [
       "<div>\n",
       "<style scoped>\n",
       "    .dataframe tbody tr th:only-of-type {\n",
       "        vertical-align: middle;\n",
       "    }\n",
       "\n",
       "    .dataframe tbody tr th {\n",
       "        vertical-align: top;\n",
       "    }\n",
       "\n",
       "    .dataframe thead th {\n",
       "        text-align: right;\n",
       "    }\n",
       "</style>\n",
       "<table border=\"1\" class=\"dataframe\">\n",
       "  <thead>\n",
       "    <tr style=\"text-align: right;\">\n",
       "      <th></th>\n",
       "      <th>rid</th>\n",
       "      <th>title</th>\n",
       "      <th>datetime</th>\n",
       "    </tr>\n",
       "  </thead>\n",
       "  <tbody>\n",
       "    <tr>\n",
       "      <th>23</th>\n",
       "      <td>337765</td>\n",
       "      <td>Gallinule Stakes (Group 2)</td>\n",
       "      <td>1997-06-06 17:30:00</td>\n",
       "    </tr>\n",
       "    <tr>\n",
       "      <th>19216</th>\n",
       "      <td>397240</td>\n",
       "      <td>Challenge Stakes (Listed)</td>\n",
       "      <td>1998-07-18 14:40:00</td>\n",
       "    </tr>\n",
       "    <tr>\n",
       "      <th>19255</th>\n",
       "      <td>370591</td>\n",
       "      <td>Arthur's Race</td>\n",
       "      <td>1998-07-31 19:40:00</td>\n",
       "    </tr>\n",
       "    <tr>\n",
       "      <th>19263</th>\n",
       "      <td>59197</td>\n",
       "      <td>Desert King Stakes (Listed)</td>\n",
       "      <td>1998-08-02 14:00:00</td>\n",
       "    </tr>\n",
       "    <tr>\n",
       "      <th>19261</th>\n",
       "      <td>22972</td>\n",
       "      <td>Bluebird Platinum Stakes (Listed)</td>\n",
       "      <td>1998-08-02 15:30:00</td>\n",
       "    </tr>\n",
       "  </tbody>\n",
       "</table>\n",
       "</div>"
      ],
      "text/plain": [
       "          rid                              title            datetime\n",
       "23     337765         Gallinule Stakes (Group 2) 1997-06-06 17:30:00\n",
       "19216  397240          Challenge Stakes (Listed) 1998-07-18 14:40:00\n",
       "19255  370591                      Arthur's Race 1998-07-31 19:40:00\n",
       "19263   59197        Desert King Stakes (Listed) 1998-08-02 14:00:00\n",
       "19261   22972  Bluebird Platinum Stakes (Listed) 1998-08-02 15:30:00"
      ]
     },
     "execution_count": 43,
     "metadata": {},
     "output_type": "execute_result"
    }
   ],
   "source": [
    "races_train = races_train.sort_values(by='datetime')\n",
    "races_train[['rid', 'title', 'datetime']].head().head()"
   ]
  },
  {
   "cell_type": "code",
   "execution_count": 44,
   "id": "75fe90ea",
   "metadata": {},
   "outputs": [
    {
     "data": {
      "text/html": [
       "<div>\n",
       "<style scoped>\n",
       "    .dataframe tbody tr th:only-of-type {\n",
       "        vertical-align: middle;\n",
       "    }\n",
       "\n",
       "    .dataframe tbody tr th {\n",
       "        vertical-align: top;\n",
       "    }\n",
       "\n",
       "    .dataframe thead th {\n",
       "        text-align: right;\n",
       "    }\n",
       "</style>\n",
       "<table border=\"1\" class=\"dataframe\">\n",
       "  <thead>\n",
       "    <tr style=\"text-align: right;\">\n",
       "      <th></th>\n",
       "      <th>rid</th>\n",
       "      <th>title</th>\n",
       "      <th>datetime</th>\n",
       "    </tr>\n",
       "  </thead>\n",
       "  <tbody>\n",
       "    <tr>\n",
       "      <th>18393</th>\n",
       "      <td>159686</td>\n",
       "      <td>Arthur Guinness European Breeders Fund Corrib ...</td>\n",
       "      <td>2016-07-28 14:30:00</td>\n",
       "    </tr>\n",
       "    <tr>\n",
       "      <th>18395</th>\n",
       "      <td>20184</td>\n",
       "      <td>Guinness 17:59 European Breeders Fund Median A...</td>\n",
       "      <td>2016-07-29 16:45:00</td>\n",
       "    </tr>\n",
       "    <tr>\n",
       "      <th>18396</th>\n",
       "      <td>2751</td>\n",
       "      <td>Guinness European Breeders Fund Maiden</td>\n",
       "      <td>2016-07-29 19:30:00</td>\n",
       "    </tr>\n",
       "    <tr>\n",
       "      <th>18400</th>\n",
       "      <td>142304</td>\n",
       "      <td>\"Ladbrokes\" European Breeders Fund Maiden (Plu...</td>\n",
       "      <td>2016-07-30 14:50:00</td>\n",
       "    </tr>\n",
       "    <tr>\n",
       "      <th>18403</th>\n",
       "      <td>135972</td>\n",
       "      <td>Kenny Galway European Breeders Fund Fillies Ma...</td>\n",
       "      <td>2016-07-31 16:30:00</td>\n",
       "    </tr>\n",
       "  </tbody>\n",
       "</table>\n",
       "</div>"
      ],
      "text/plain": [
       "          rid                                              title  \\\n",
       "18393  159686  Arthur Guinness European Breeders Fund Corrib ...   \n",
       "18395   20184  Guinness 17:59 European Breeders Fund Median A...   \n",
       "18396    2751             Guinness European Breeders Fund Maiden   \n",
       "18400  142304  \"Ladbrokes\" European Breeders Fund Maiden (Plu...   \n",
       "18403  135972  Kenny Galway European Breeders Fund Fillies Ma...   \n",
       "\n",
       "                 datetime  \n",
       "18393 2016-07-28 14:30:00  \n",
       "18395 2016-07-29 16:45:00  \n",
       "18396 2016-07-29 19:30:00  \n",
       "18400 2016-07-30 14:50:00  \n",
       "18403 2016-07-31 16:30:00  "
      ]
     },
     "execution_count": 44,
     "metadata": {},
     "output_type": "execute_result"
    }
   ],
   "source": [
    "races_dev = races_dev.sort_values(by='datetime')\n",
    "races_dev[['rid', 'title', 'datetime']].head()"
   ]
  },
  {
   "cell_type": "markdown",
   "id": "bb0de8b8",
   "metadata": {},
   "source": [
    "---"
   ]
  },
  {
   "cell_type": "markdown",
   "id": "358cb015",
   "metadata": {},
   "source": [
    "## Visualize Walk"
   ]
  },
  {
   "cell_type": "code",
   "execution_count": 45,
   "id": "4e345657",
   "metadata": {},
   "outputs": [
    {
     "data": {
      "text/html": [
       "<div>\n",
       "<style scoped>\n",
       "    .dataframe tbody tr th:only-of-type {\n",
       "        vertical-align: middle;\n",
       "    }\n",
       "\n",
       "    .dataframe tbody tr th {\n",
       "        vertical-align: top;\n",
       "    }\n",
       "\n",
       "    .dataframe thead th {\n",
       "        text-align: right;\n",
       "    }\n",
       "</style>\n",
       "<table border=\"1\" class=\"dataframe\">\n",
       "  <thead>\n",
       "    <tr style=\"text-align: right;\">\n",
       "      <th></th>\n",
       "      <th>rid</th>\n",
       "      <th>horseName</th>\n",
       "      <th>decimalPrice</th>\n",
       "      <th>position</th>\n",
       "      <th>res_win</th>\n",
       "      <th>res_place</th>\n",
       "      <th>res_show</th>\n",
       "    </tr>\n",
       "  </thead>\n",
       "  <tbody>\n",
       "    <tr>\n",
       "      <th>184566</th>\n",
       "      <td>159686</td>\n",
       "      <td>Planchart</td>\n",
       "      <td>0.230769</td>\n",
       "      <td>1</td>\n",
       "      <td>1</td>\n",
       "      <td>1</td>\n",
       "      <td>0</td>\n",
       "    </tr>\n",
       "    <tr>\n",
       "      <th>184567</th>\n",
       "      <td>159686</td>\n",
       "      <td>Rayisa</td>\n",
       "      <td>0.285714</td>\n",
       "      <td>2</td>\n",
       "      <td>0</td>\n",
       "      <td>1</td>\n",
       "      <td>0</td>\n",
       "    </tr>\n",
       "    <tr>\n",
       "      <th>184568</th>\n",
       "      <td>159686</td>\n",
       "      <td>Ibergman</td>\n",
       "      <td>0.100000</td>\n",
       "      <td>3</td>\n",
       "      <td>0</td>\n",
       "      <td>0</td>\n",
       "      <td>0</td>\n",
       "    </tr>\n",
       "    <tr>\n",
       "      <th>184569</th>\n",
       "      <td>159686</td>\n",
       "      <td>Just Joan</td>\n",
       "      <td>0.066667</td>\n",
       "      <td>4</td>\n",
       "      <td>0</td>\n",
       "      <td>0</td>\n",
       "      <td>0</td>\n",
       "    </tr>\n",
       "    <tr>\n",
       "      <th>184570</th>\n",
       "      <td>159686</td>\n",
       "      <td>Gussy Goose</td>\n",
       "      <td>0.181818</td>\n",
       "      <td>5</td>\n",
       "      <td>0</td>\n",
       "      <td>0</td>\n",
       "      <td>0</td>\n",
       "    </tr>\n",
       "    <tr>\n",
       "      <th>184571</th>\n",
       "      <td>159686</td>\n",
       "      <td>Emergent</td>\n",
       "      <td>0.133333</td>\n",
       "      <td>6</td>\n",
       "      <td>0</td>\n",
       "      <td>0</td>\n",
       "      <td>0</td>\n",
       "    </tr>\n",
       "    <tr>\n",
       "      <th>184572</th>\n",
       "      <td>159686</td>\n",
       "      <td>Mothers Finest</td>\n",
       "      <td>0.142857</td>\n",
       "      <td>7</td>\n",
       "      <td>0</td>\n",
       "      <td>0</td>\n",
       "      <td>0</td>\n",
       "    </tr>\n",
       "  </tbody>\n",
       "</table>\n",
       "</div>"
      ],
      "text/plain": [
       "           rid       horseName  decimalPrice  position  res_win  res_place  \\\n",
       "184566  159686       Planchart      0.230769         1        1          1   \n",
       "184567  159686          Rayisa      0.285714         2        0          1   \n",
       "184568  159686        Ibergman      0.100000         3        0          0   \n",
       "184569  159686       Just Joan      0.066667         4        0          0   \n",
       "184570  159686     Gussy Goose      0.181818         5        0          0   \n",
       "184571  159686        Emergent      0.133333         6        0          0   \n",
       "184572  159686  Mothers Finest      0.142857         7        0          0   \n",
       "\n",
       "        res_show  \n",
       "184566         0  \n",
       "184567         0  \n",
       "184568         0  \n",
       "184569         0  \n",
       "184570         0  \n",
       "184571         0  \n",
       "184572         0  "
      ]
     },
     "execution_count": 45,
     "metadata": {},
     "output_type": "execute_result"
    }
   ],
   "source": [
    "horses_clean[horses_clean['rid'] == 159686]"
   ]
  },
  {
   "cell_type": "markdown",
   "id": "fadd5fc1",
   "metadata": {},
   "source": [
    "The following is the payout of a $2 wager."
   ]
  },
  {
   "cell_type": "code",
   "execution_count": 46,
   "id": "99523f7a",
   "metadata": {},
   "outputs": [
    {
     "data": {
      "text/plain": [
       "4.333333333333335"
      ]
     },
     "execution_count": 46,
     "metadata": {},
     "output_type": "execute_result"
    }
   ],
   "source": [
    "1 / horses_clean[\n",
    "    (horses_clean['rid'] == 159686) & (horses_clean['horseName'] == rid_to_winner[159686])\n",
    "].iloc[0]['decimalPrice']"
   ]
  },
  {
   "cell_type": "code",
   "execution_count": 47,
   "id": "38ff666d",
   "metadata": {},
   "outputs": [
    {
     "name": "stderr",
     "output_type": "stream",
     "text": [
      "100%|███████████████████████████████████████████████████████████████████████████████████████████████████████████████████████████████| 3212/3212 [00:30<00:00, 106.10it/s]\n"
     ]
    },
    {
     "data": {
      "text/plain": [
       "[<matplotlib.lines.Line2D at 0x13bea7640>]"
      ]
     },
     "execution_count": 47,
     "metadata": {},
     "output_type": "execute_result"
    },
    {
     "data": {
      "image/png": "[encoded data removed]",
      "text/plain": [
       "<Figure size 432x288 with 1 Axes>"
      ]
     },
     "metadata": {
      "needs_background": "light"
     },
     "output_type": "display_data"
    }
   ],
   "source": [
    "balance = 0\n",
    "xs = np.array(races_train['datetime'])\n",
    "ys = []\n",
    "\n",
    "for rid in tqdm(races_train['rid']):\n",
    "    balance -= 1\n",
    "    \n",
    "    if X_train_predictions[rid] == rid_to_winner[rid]:\n",
    "        df = horses_clean[horses_clean['rid'] == rid]\n",
    "        balance += (1 / horses_clean[\n",
    "            (horses_clean['rid'] == rid) & (horses_clean['horseName'] == rid_to_winner[rid])\n",
    "        ].iloc[0]['decimalPrice']) / 2\n",
    "        \n",
    "    ys.append(balance)\n",
    "    \n",
    "plt.plot(np.arange(len(ys)), ys)"
   ]
  },
  {
   "cell_type": "code",
   "execution_count": 48,
   "id": "57eec7c3",
   "metadata": {},
   "outputs": [
    {
     "name": "stderr",
     "output_type": "stream",
     "text": [
      "100%|███████████████████████████████████████████████████████████████████████████████████████████████████████████████████████████████| 1012/1012 [00:09<00:00, 108.11it/s]\n"
     ]
    },
    {
     "data": {
      "text/plain": [
       "[<matplotlib.lines.Line2D at 0x13c05b310>]"
      ]
     },
     "execution_count": 48,
     "metadata": {},
     "output_type": "execute_result"
    },
    {
     "data": {
      "image/png": "[encoded data removed]",
      "text/plain": [
       "<Figure size 432x288 with 1 Axes>"
      ]
     },
     "metadata": {
      "needs_background": "light"
     },
     "output_type": "display_data"
    }
   ],
   "source": [
    "balance = 0\n",
    "xs = np.array(races_dev['datetime'])\n",
    "ys = []\n",
    "\n",
    "for rid in tqdm(races_dev['rid']):\n",
    "    balance -= 1\n",
    "    \n",
    "    if X_dev_predictions[rid] == rid_to_winner[rid]:\n",
    "        df = horses_clean[horses_clean['rid'] == rid]\n",
    "        balance += (1 / horses_clean[\n",
    "            (horses_clean['rid'] == rid) & (horses_clean['horseName'] == rid_to_winner[rid])\n",
    "        ].iloc[0]['decimalPrice']) / 2\n",
    "        \n",
    "    ys.append(balance)\n",
    "    \n",
    "plt.plot(np.arange(len(ys)), ys)"
   ]
  },
  {
   "cell_type": "markdown",
   "id": "d214e45b",
   "metadata": {},
   "source": [
    "---"
   ]
  },
  {
   "cell_type": "markdown",
   "id": "397e15d4",
   "metadata": {},
   "source": [
    "## Make Comparison to Odds"
   ]
  },
  {
   "cell_type": "code",
   "execution_count": 49,
   "id": "e47893c3",
   "metadata": {},
   "outputs": [],
   "source": [
    "def get_predicted_winner(df: pd.core.frame.DataFrame) -> str:\n",
    "    \"\"\"\n",
    "    Returns the horse with the best odds for race `df`,\n",
    "    tiebreaking in lexicographic order.\n",
    "    \"\"\"\n",
    "    df = df.sort_values(['decimalPrice', 'horseName'], ascending=[False, True])\n",
    "    return df.iloc[0]['horseName']"
   ]
  },
  {
   "cell_type": "code",
   "execution_count": 50,
   "id": "2148df60",
   "metadata": {},
   "outputs": [
    {
     "name": "stderr",
     "output_type": "stream",
     "text": [
      "100%|████████████████████████████████████████████████████████████████████████████████████████████████████████████████████████████████| 3212/3212 [00:46<00:00, 69.25it/s]\n"
     ]
    },
    {
     "data": {
      "text/plain": [
       "[<matplotlib.lines.Line2D at 0x13c0dc7c0>]"
      ]
     },
     "execution_count": 50,
     "metadata": {},
     "output_type": "execute_result"
    },
    {
     "data": {
      "image/png": "[encoded data removed]",
      "text/plain": [
       "<Figure size 432x288 with 1 Axes>"
      ]
     },
     "metadata": {
      "needs_background": "light"
     },
     "output_type": "display_data"
    }
   ],
   "source": [
    "balance_nn = 0\n",
    "ys_nn_train = []\n",
    "\n",
    "balance_odds = 0\n",
    "ys_odds_train = []\n",
    "\n",
    "for rid in tqdm(races_train['rid']):\n",
    "    balance_nn -= 1\n",
    "    balance_odds -= 1\n",
    "    \n",
    "    payout = (1 / horses_clean[\n",
    "        (horses_clean['rid'] == rid) & (horses_clean['horseName'] == rid_to_winner[rid])\n",
    "    ].iloc[0]['decimalPrice']) / 2\n",
    "    \n",
    "    if X_train_predictions[rid] == rid_to_winner[rid]:\n",
    "        balance_nn += payout\n",
    "    \n",
    "    if get_predicted_winner(horses_clean[horses_clean['rid'] == rid]) == rid_to_winner[rid]:\n",
    "        balance_odds += payout\n",
    "        \n",
    "    ys_nn_train.append(balance_nn)\n",
    "    ys_odds_train.append(balance_odds)\n",
    "    \n",
    "plt.plot(np.arange(len(ys_nn_train)), ys_nn_train)\n",
    "plt.plot(np.arange(len(ys_odds_train)), ys_odds_train)"
   ]
  },
  {
   "cell_type": "code",
   "execution_count": 51,
   "id": "3075b150",
   "metadata": {},
   "outputs": [
    {
     "name": "stderr",
     "output_type": "stream",
     "text": [
      "100%|████████████████████████████████████████████████████████████████████████████████████████████████████████████████████████████████| 1012/1012 [00:16<00:00, 61.45it/s]\n"
     ]
    },
    {
     "data": {
      "text/plain": [
       "[<matplotlib.lines.Line2D at 0x13c144df0>]"
      ]
     },
     "execution_count": 51,
     "metadata": {},
     "output_type": "execute_result"
    },
    {
     "data": {
      "image/png": "[encoded data removed]",
      "text/plain": [
       "<Figure size 432x288 with 1 Axes>"
      ]
     },
     "metadata": {
      "needs_background": "light"
     },
     "output_type": "display_data"
    }
   ],
   "source": [
    "balance_nn = 0\n",
    "ys_nn_dev = []\n",
    "\n",
    "balance_odds = 0\n",
    "ys_odds_dev = []\n",
    "\n",
    "for rid in tqdm(races_dev['rid']):\n",
    "    balance_nn -= 1\n",
    "    balance_odds -= 1\n",
    "    \n",
    "    payout = (1 / horses_clean[\n",
    "        (horses_clean['rid'] == rid) & (horses_clean['horseName'] == rid_to_winner[rid])\n",
    "    ].iloc[0]['decimalPrice']) / 2\n",
    "    \n",
    "    if X_dev_predictions[rid] == rid_to_winner[rid]:\n",
    "        balance_nn += payout\n",
    "    \n",
    "    if get_predicted_winner(horses_clean[horses_clean['rid'] == rid]) == rid_to_winner[rid]:\n",
    "        balance_odds += payout\n",
    "        \n",
    "    ys_nn_dev.append(balance_nn)\n",
    "    ys_odds_dev.append(balance_odds)\n",
    "    \n",
    "plt.plot(np.arange(len(ys_nn_dev)), ys_nn_dev)\n",
    "plt.plot(np.arange(len(ys_odds_dev)), ys_odds_dev)"
   ]
  },
  {
   "cell_type": "code",
   "execution_count": 52,
   "id": "04a11d70",
   "metadata": {},
   "outputs": [
    {
     "data": {
      "image/png": "[encoded data removed]",
      "text/plain": [
       "<Figure size 720x360 with 2 Axes>"
      ]
     },
     "metadata": {
      "needs_background": "light"
     },
     "output_type": "display_data"
    }
   ],
   "source": [
    "fig = plt.figure(figsize=(10,5))\n",
    "gs = fig.add_gridspec(1, 2)\n",
    "\n",
    "fig.suptitle(\"Model v. Public Odds in Betting Applications\", fontsize=20)\n",
    "\n",
    "ax1 = fig.add_subplot(gs[0:1, 0:1])\n",
    "\n",
    "ax1.set_title(\"Training Set\", fontsize=18)\n",
    "ax1.plot(np.arange(len(ys_nn_train)), ys_nn_train, label='Neural Network')\n",
    "ax1.plot(np.arange(len(ys_odds_train)), ys_odds_train, label='Public Odds')\n",
    "ax1.set_xlabel(\"Races Seen\", fontsize=16)\n",
    "ax1.set_ylabel(\"Profit ($)\", fontsize=16)\n",
    "ax1.legend(fontsize=14)\n",
    "\n",
    "ax2 = fig.add_subplot(gs[0:1, 1:2])\n",
    "\n",
    "ax2.set_title(\"Development Set\", fontsize=18)\n",
    "ax2.plot(np.arange(len(ys_nn_dev)), ys_nn_dev, label='Neural Network')\n",
    "ax2.plot(np.arange(len(ys_odds_dev)), ys_odds_dev, label='Public Odds')\n",
    "ax2.set_xlabel(\"Races Seen\", fontsize=16)\n",
    "ax2.set_ylabel(\"Profit ($)\", fontsize=16)\n",
    "ax2.legend(fontsize=14)\n",
    "\n",
    "plt.tight_layout()\n",
    "\n",
    "fig.savefig(f\"{BASE_DIR}/figures/model_v_odds_in_betting.png\")\n",
    "\n",
    "plt.show()"
   ]
  },
  {
   "cell_type": "markdown",
   "id": "85f16fef",
   "metadata": {},
   "source": [
    "---"
   ]
  }
 ],
 "metadata": {
  "kernelspec": {
   "display_name": "Python 3 (ipykernel)",
   "language": "python",
   "name": "python3"
  },
  "language_info": {
   "codemirror_mode": {
    "name": "ipython",
    "version": 3
   },
   "file_extension": ".py",
   "mimetype": "text/x-python",
   "name": "python",
   "nbconvert_exporter": "python",
   "pygments_lexer": "ipython3",
   "version": "3.9.6"
  }
 },
 "nbformat": 4,
 "nbformat_minor": 5
}
