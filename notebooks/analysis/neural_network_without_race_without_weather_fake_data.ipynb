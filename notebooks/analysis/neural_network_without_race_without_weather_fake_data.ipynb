{
 "cells": [
  {
   "cell_type": "markdown",
   "id": "7026e67b",
   "metadata": {},
   "source": [
    "# `neural_network_without_race_without_weather_fake_data.ipynb`"
   ]
  },
  {
   "cell_type": "markdown",
   "id": "c052cb33",
   "metadata": {},
   "source": [
    "### Author: Anthony Hein"
   ]
  },
  {
   "cell_type": "markdown",
   "id": "194e2cf5",
   "metadata": {},
   "source": [
    "#### Last updated: 12/4/2021"
   ]
  },
  {
   "cell_type": "markdown",
   "id": "1b86aa88",
   "metadata": {},
   "source": [
    "# Overview:\n",
    "\n",
    "Feed in a neural network fake data to see how its predictions may change."
   ]
  },
  {
   "cell_type": "markdown",
   "id": "697e80d8",
   "metadata": {},
   "source": [
    "---"
   ]
  },
  {
   "cell_type": "markdown",
   "id": "08164829",
   "metadata": {},
   "source": [
    "## Setup"
   ]
  },
  {
   "cell_type": "code",
   "execution_count": 1,
   "id": "9e9ee6d1",
   "metadata": {},
   "outputs": [],
   "source": [
    "import git\n",
    "import os\n",
    "import re\n",
    "from typing import List\n",
    "from tqdm import tqdm\n",
    "import pandas as pd\n",
    "import numpy as np\n",
    "import matplotlib.pyplot as plt\n",
    "%matplotlib inline"
   ]
  },
  {
   "cell_type": "code",
   "execution_count": 2,
   "id": "f013a715",
   "metadata": {},
   "outputs": [
    {
     "data": {
      "text/plain": [
       "'/Users/anthonyhein/Desktop/SML310/project'"
      ]
     },
     "execution_count": 2,
     "metadata": {},
     "output_type": "execute_result"
    }
   ],
   "source": [
    "BASE_DIR = git.Repo(os.getcwd(), search_parent_directories=True).working_dir\n",
    "BASE_DIR"
   ]
  },
  {
   "cell_type": "markdown",
   "id": "900adb93",
   "metadata": {},
   "source": [
    "---"
   ]
  },
  {
   "cell_type": "markdown",
   "id": "da9daf25",
   "metadata": {},
   "source": [
    "## Load `X_train_preprocess_without_race.csv`"
   ]
  },
  {
   "cell_type": "code",
   "execution_count": 3,
   "id": "f04cfc74",
   "metadata": {},
   "outputs": [
    {
     "data": {
      "text/html": [
       "<div>\n",
       "<style scoped>\n",
       "    .dataframe tbody tr th:only-of-type {\n",
       "        vertical-align: middle;\n",
       "    }\n",
       "\n",
       "    .dataframe tbody tr th {\n",
       "        vertical-align: top;\n",
       "    }\n",
       "\n",
       "    .dataframe thead th {\n",
       "        text-align: right;\n",
       "    }\n",
       "</style>\n",
       "<table border=\"1\" class=\"dataframe\">\n",
       "  <thead>\n",
       "    <tr style=\"text-align: right;\">\n",
       "      <th></th>\n",
       "      <th>horse1_age</th>\n",
       "      <th>horse1_saddle</th>\n",
       "      <th>horse1_decimalPrice</th>\n",
       "      <th>horse1_isFav</th>\n",
       "      <th>horse1_outHandicap</th>\n",
       "      <th>horse1_RPR</th>\n",
       "      <th>horse1_weight</th>\n",
       "      <th>horse1_jockey_d_last_race</th>\n",
       "      <th>horse1_jockey_d_first_race</th>\n",
       "      <th>horse1_jockey_prev_1_position</th>\n",
       "      <th>...</th>\n",
       "      <th>horse2_jockey_prev_3_position_rain</th>\n",
       "      <th>horse2_jockey_prev_1_finishing_time_ratio_rain</th>\n",
       "      <th>horse2_jockey_prev_2_finishing_time_ratio_rain</th>\n",
       "      <th>horse2_jockey_prev_3_finishing_time_ratio_rain</th>\n",
       "      <th>horse2_jockey_prev_1_position_rhum</th>\n",
       "      <th>horse2_jockey_prev_2_position_rhum</th>\n",
       "      <th>horse2_jockey_prev_3_position_rhum</th>\n",
       "      <th>horse2_jockey_prev_1_finishing_time_ratio_rhum</th>\n",
       "      <th>horse2_jockey_prev_2_finishing_time_ratio_rhum</th>\n",
       "      <th>horse2_jockey_prev_3_finishing_time_ratio_rhum</th>\n",
       "    </tr>\n",
       "  </thead>\n",
       "  <tbody>\n",
       "    <tr>\n",
       "      <th>0</th>\n",
       "      <td>0.200000</td>\n",
       "      <td>0.230769</td>\n",
       "      <td>0.196970</td>\n",
       "      <td>0.0</td>\n",
       "      <td>0.0</td>\n",
       "      <td>0.73125</td>\n",
       "      <td>0.692308</td>\n",
       "      <td>0.007631</td>\n",
       "      <td>0.236544</td>\n",
       "      <td>0.100</td>\n",
       "      <td>...</td>\n",
       "      <td>0.050</td>\n",
       "      <td>0.805104</td>\n",
       "      <td>0.780139</td>\n",
       "      <td>0.783438</td>\n",
       "      <td>0.100</td>\n",
       "      <td>0.025</td>\n",
       "      <td>0.025</td>\n",
       "      <td>0.805104</td>\n",
       "      <td>0.799642</td>\n",
       "      <td>0.780139</td>\n",
       "    </tr>\n",
       "    <tr>\n",
       "      <th>1</th>\n",
       "      <td>0.400000</td>\n",
       "      <td>0.038462</td>\n",
       "      <td>0.072222</td>\n",
       "      <td>0.0</td>\n",
       "      <td>0.0</td>\n",
       "      <td>0.73125</td>\n",
       "      <td>0.743590</td>\n",
       "      <td>0.005050</td>\n",
       "      <td>0.236544</td>\n",
       "      <td>0.100</td>\n",
       "      <td>...</td>\n",
       "      <td>0.100</td>\n",
       "      <td>0.801416</td>\n",
       "      <td>0.781238</td>\n",
       "      <td>0.794160</td>\n",
       "      <td>0.075</td>\n",
       "      <td>0.050</td>\n",
       "      <td>0.075</td>\n",
       "      <td>0.801416</td>\n",
       "      <td>0.800487</td>\n",
       "      <td>0.785703</td>\n",
       "    </tr>\n",
       "    <tr>\n",
       "      <th>2</th>\n",
       "      <td>0.133333</td>\n",
       "      <td>0.423077</td>\n",
       "      <td>0.098485</td>\n",
       "      <td>0.0</td>\n",
       "      <td>0.0</td>\n",
       "      <td>0.65000</td>\n",
       "      <td>0.705128</td>\n",
       "      <td>0.000740</td>\n",
       "      <td>0.237283</td>\n",
       "      <td>0.025</td>\n",
       "      <td>...</td>\n",
       "      <td>0.100</td>\n",
       "      <td>0.799909</td>\n",
       "      <td>0.780139</td>\n",
       "      <td>0.786816</td>\n",
       "      <td>0.025</td>\n",
       "      <td>0.100</td>\n",
       "      <td>0.025</td>\n",
       "      <td>0.799642</td>\n",
       "      <td>0.806486</td>\n",
       "      <td>0.780139</td>\n",
       "    </tr>\n",
       "    <tr>\n",
       "      <th>3</th>\n",
       "      <td>0.133333</td>\n",
       "      <td>0.423077</td>\n",
       "      <td>0.098485</td>\n",
       "      <td>0.0</td>\n",
       "      <td>0.0</td>\n",
       "      <td>0.65000</td>\n",
       "      <td>0.705128</td>\n",
       "      <td>0.000740</td>\n",
       "      <td>0.237283</td>\n",
       "      <td>0.025</td>\n",
       "      <td>...</td>\n",
       "      <td>0.075</td>\n",
       "      <td>0.800176</td>\n",
       "      <td>0.781623</td>\n",
       "      <td>0.781870</td>\n",
       "      <td>0.050</td>\n",
       "      <td>0.075</td>\n",
       "      <td>0.050</td>\n",
       "      <td>0.801163</td>\n",
       "      <td>0.801416</td>\n",
       "      <td>0.780963</td>\n",
       "    </tr>\n",
       "    <tr>\n",
       "      <th>4</th>\n",
       "      <td>0.133333</td>\n",
       "      <td>0.192308</td>\n",
       "      <td>0.090278</td>\n",
       "      <td>0.0</td>\n",
       "      <td>0.0</td>\n",
       "      <td>0.66250</td>\n",
       "      <td>0.730769</td>\n",
       "      <td>0.000740</td>\n",
       "      <td>0.234655</td>\n",
       "      <td>0.050</td>\n",
       "      <td>...</td>\n",
       "      <td>0.100</td>\n",
       "      <td>0.799642</td>\n",
       "      <td>0.783601</td>\n",
       "      <td>0.785468</td>\n",
       "      <td>0.125</td>\n",
       "      <td>0.100</td>\n",
       "      <td>0.025</td>\n",
       "      <td>0.803191</td>\n",
       "      <td>0.805104</td>\n",
       "      <td>0.780139</td>\n",
       "    </tr>\n",
       "  </tbody>\n",
       "</table>\n",
       "<p>5 rows × 144 columns</p>\n",
       "</div>"
      ],
      "text/plain": [
       "   horse1_age  horse1_saddle  horse1_decimalPrice  horse1_isFav  \\\n",
       "0    0.200000       0.230769             0.196970           0.0   \n",
       "1    0.400000       0.038462             0.072222           0.0   \n",
       "2    0.133333       0.423077             0.098485           0.0   \n",
       "3    0.133333       0.423077             0.098485           0.0   \n",
       "4    0.133333       0.192308             0.090278           0.0   \n",
       "\n",
       "   horse1_outHandicap  horse1_RPR  horse1_weight  horse1_jockey_d_last_race  \\\n",
       "0                 0.0     0.73125       0.692308                   0.007631   \n",
       "1                 0.0     0.73125       0.743590                   0.005050   \n",
       "2                 0.0     0.65000       0.705128                   0.000740   \n",
       "3                 0.0     0.65000       0.705128                   0.000740   \n",
       "4                 0.0     0.66250       0.730769                   0.000740   \n",
       "\n",
       "   horse1_jockey_d_first_race  horse1_jockey_prev_1_position  ...  \\\n",
       "0                    0.236544                          0.100  ...   \n",
       "1                    0.236544                          0.100  ...   \n",
       "2                    0.237283                          0.025  ...   \n",
       "3                    0.237283                          0.025  ...   \n",
       "4                    0.234655                          0.050  ...   \n",
       "\n",
       "   horse2_jockey_prev_3_position_rain  \\\n",
       "0                               0.050   \n",
       "1                               0.100   \n",
       "2                               0.100   \n",
       "3                               0.075   \n",
       "4                               0.100   \n",
       "\n",
       "   horse2_jockey_prev_1_finishing_time_ratio_rain  \\\n",
       "0                                        0.805104   \n",
       "1                                        0.801416   \n",
       "2                                        0.799909   \n",
       "3                                        0.800176   \n",
       "4                                        0.799642   \n",
       "\n",
       "   horse2_jockey_prev_2_finishing_time_ratio_rain  \\\n",
       "0                                        0.780139   \n",
       "1                                        0.781238   \n",
       "2                                        0.780139   \n",
       "3                                        0.781623   \n",
       "4                                        0.783601   \n",
       "\n",
       "   horse2_jockey_prev_3_finishing_time_ratio_rain  \\\n",
       "0                                        0.783438   \n",
       "1                                        0.794160   \n",
       "2                                        0.786816   \n",
       "3                                        0.781870   \n",
       "4                                        0.785468   \n",
       "\n",
       "   horse2_jockey_prev_1_position_rhum  horse2_jockey_prev_2_position_rhum  \\\n",
       "0                               0.100                               0.025   \n",
       "1                               0.075                               0.050   \n",
       "2                               0.025                               0.100   \n",
       "3                               0.050                               0.075   \n",
       "4                               0.125                               0.100   \n",
       "\n",
       "   horse2_jockey_prev_3_position_rhum  \\\n",
       "0                               0.025   \n",
       "1                               0.075   \n",
       "2                               0.025   \n",
       "3                               0.050   \n",
       "4                               0.025   \n",
       "\n",
       "   horse2_jockey_prev_1_finishing_time_ratio_rhum  \\\n",
       "0                                        0.805104   \n",
       "1                                        0.801416   \n",
       "2                                        0.799642   \n",
       "3                                        0.801163   \n",
       "4                                        0.803191   \n",
       "\n",
       "   horse2_jockey_prev_2_finishing_time_ratio_rhum  \\\n",
       "0                                        0.799642   \n",
       "1                                        0.800487   \n",
       "2                                        0.806486   \n",
       "3                                        0.801416   \n",
       "4                                        0.805104   \n",
       "\n",
       "   horse2_jockey_prev_3_finishing_time_ratio_rhum  \n",
       "0                                        0.780139  \n",
       "1                                        0.785703  \n",
       "2                                        0.780139  \n",
       "3                                        0.780963  \n",
       "4                                        0.780139  \n",
       "\n",
       "[5 rows x 144 columns]"
      ]
     },
     "execution_count": 3,
     "metadata": {},
     "output_type": "execute_result"
    }
   ],
   "source": [
    "X_train = pd.read_csv(f\"{BASE_DIR}/data/analysis/X_train_preprocess_without_race.csv\", low_memory=False)\n",
    "X_train.head()"
   ]
  },
  {
   "cell_type": "code",
   "execution_count": 4,
   "id": "9b746306",
   "metadata": {},
   "outputs": [
    {
     "data": {
      "text/plain": [
       "(800666, 144)"
      ]
     },
     "execution_count": 4,
     "metadata": {},
     "output_type": "execute_result"
    }
   ],
   "source": [
    "X_train.shape"
   ]
  },
  {
   "cell_type": "code",
   "execution_count": 5,
   "id": "b795ec42",
   "metadata": {},
   "outputs": [],
   "source": [
    "drop_cols = [\n",
    "    'horse1_jockey_prev_1_position_temp',\n",
    "    'horse1_jockey_prev_2_position_temp',\n",
    "    'horse1_jockey_prev_3_position_temp',\n",
    "    'horse1_jockey_prev_1_finishing_time_ratio_temp',\n",
    "    'horse1_jockey_prev_2_finishing_time_ratio_temp',\n",
    "    'horse1_jockey_prev_3_finishing_time_ratio_temp',\n",
    "    'horse1_jockey_prev_1_position_msl',\n",
    "    'horse1_jockey_prev_2_position_msl',\n",
    "    'horse1_jockey_prev_3_position_msl',\n",
    "    'horse1_jockey_prev_1_finishing_time_ratio_msl',\n",
    "    'horse1_jockey_prev_2_finishing_time_ratio_msl',\n",
    "    'horse1_jockey_prev_3_finishing_time_ratio_msl',\n",
    "    'horse1_jockey_prev_1_position_rain',\n",
    "    'horse1_jockey_prev_2_position_rain',\n",
    "    'horse1_jockey_prev_3_position_rain',\n",
    "    'horse1_jockey_prev_1_finishing_time_ratio_rain',\n",
    "    'horse1_jockey_prev_2_finishing_time_ratio_rain',\n",
    "    'horse1_jockey_prev_3_finishing_time_ratio_rain',\n",
    "    'horse1_jockey_prev_1_position_rhum',\n",
    "    'horse1_jockey_prev_2_position_rhum',\n",
    "    'horse1_jockey_prev_3_position_rhum',\n",
    "    'horse1_jockey_prev_1_finishing_time_ratio_rhum',\n",
    "    'horse1_jockey_prev_2_finishing_time_ratio_rhum',\n",
    "    'horse1_jockey_prev_3_finishing_time_ratio_rhum',\n",
    "    'horse2_jockey_prev_1_position_temp',\n",
    "    'horse2_jockey_prev_2_position_temp',\n",
    "    'horse2_jockey_prev_3_position_temp',\n",
    "    'horse2_jockey_prev_1_finishing_time_ratio_temp',\n",
    "    'horse2_jockey_prev_2_finishing_time_ratio_temp',\n",
    "    'horse2_jockey_prev_3_finishing_time_ratio_temp',\n",
    "    'horse2_jockey_prev_1_position_msl',\n",
    "    'horse2_jockey_prev_2_position_msl',\n",
    "    'horse2_jockey_prev_3_position_msl',\n",
    "    'horse2_jockey_prev_1_finishing_time_ratio_msl',\n",
    "    'horse2_jockey_prev_2_finishing_time_ratio_msl',\n",
    "    'horse2_jockey_prev_3_finishing_time_ratio_msl',\n",
    "    'horse2_jockey_prev_1_position_rain',\n",
    "    'horse2_jockey_prev_2_position_rain',\n",
    "    'horse2_jockey_prev_3_position_rain',\n",
    "    'horse2_jockey_prev_1_finishing_time_ratio_rain',\n",
    "    'horse2_jockey_prev_2_finishing_time_ratio_rain',\n",
    "    'horse2_jockey_prev_3_finishing_time_ratio_rain',\n",
    "    'horse2_jockey_prev_1_position_rhum',\n",
    "    'horse2_jockey_prev_2_position_rhum',\n",
    "    'horse2_jockey_prev_3_position_rhum',\n",
    "    'horse2_jockey_prev_1_finishing_time_ratio_rhum',\n",
    "    'horse2_jockey_prev_2_finishing_time_ratio_rhum',\n",
    "    'horse2_jockey_prev_3_finishing_time_ratio_rhum'\n",
    "]"
   ]
  },
  {
   "cell_type": "code",
   "execution_count": 6,
   "id": "7ca14fc8",
   "metadata": {},
   "outputs": [
    {
     "data": {
      "text/plain": [
       "(800666, 96)"
      ]
     },
     "execution_count": 6,
     "metadata": {},
     "output_type": "execute_result"
    }
   ],
   "source": [
    "X_train = X_train.drop(columns=drop_cols)\n",
    "X_train.shape"
   ]
  },
  {
   "cell_type": "markdown",
   "id": "e60f5151",
   "metadata": {},
   "source": [
    "---"
   ]
  },
  {
   "cell_type": "markdown",
   "id": "4f6f96eb",
   "metadata": {},
   "source": [
    "## Load Neural Network"
   ]
  },
  {
   "cell_type": "code",
   "execution_count": 7,
   "id": "9123f8b8",
   "metadata": {},
   "outputs": [],
   "source": [
    "import torch\n",
    "import torch.nn as nn\n",
    "import torch.optim as optim\n",
    "from torch.utils.data import DataLoader\n",
    "\n",
    "# Set the device to use\n",
    "# CUDA refers to the GPU\n",
    "device = torch.device(\"cuda:0\" if torch.cuda.is_available() else \"cpu\")\n",
    "\n",
    "## Fixing Random Seed for Reproducibility\n",
    "torch.manual_seed(0)\n",
    "np.random.seed(0)"
   ]
  },
  {
   "cell_type": "code",
   "execution_count": 8,
   "id": "83287181",
   "metadata": {},
   "outputs": [],
   "source": [
    "class Net(nn.Module):\n",
    "    def __init__(self, input_size, num_layers, layers_size):\n",
    "        super(Net, self).__init__()\n",
    "        self.hidden_layers = nn.ModuleList([nn.Linear(input_size, layers_size)])\n",
    "        self.hidden_layers.extend([nn.Linear(layers_size, layers_size) for i in range(1, num_layers-1)])\n",
    "        self.output = nn.Linear(layers_size, 1)\n",
    "        self.activation = nn.ReLU()\n",
    "    \n",
    "    def forward(self, x):\n",
    "        z = x\n",
    "        for layer in self.hidden_layers:\n",
    "            z = self.activation(layer(z))\n",
    "        return self.output(z)"
   ]
  },
  {
   "cell_type": "code",
   "execution_count": 9,
   "id": "a0fa9c37",
   "metadata": {},
   "outputs": [
    {
     "data": {
      "text/plain": [
       "Net(\n",
       "  (hidden_layers): ModuleList(\n",
       "    (0): Linear(in_features=96, out_features=500, bias=True)\n",
       "  )\n",
       "  (output): Linear(in_features=500, out_features=1, bias=True)\n",
       "  (activation): ReLU()\n",
       ")"
      ]
     },
     "execution_count": 9,
     "metadata": {},
     "output_type": "execute_result"
    }
   ],
   "source": [
    "net = Net(X_train.shape[1], 1, 500)\n",
    "net.load_state_dict(torch.load(f\"{BASE_DIR}/data/analysis/neural_network/net_no_weather_500_nodes.bin\"))\n",
    "net.eval()"
   ]
  },
  {
   "cell_type": "markdown",
   "id": "d4a0455f",
   "metadata": {},
   "source": [
    "---"
   ]
  },
  {
   "cell_type": "markdown",
   "id": "a531fe8e",
   "metadata": {},
   "source": [
    "## Sample Data"
   ]
  },
  {
   "cell_type": "code",
   "execution_count": 10,
   "id": "2f04821d",
   "metadata": {},
   "outputs": [
    {
     "data": {
      "text/plain": [
       "(80067, 96)"
      ]
     },
     "execution_count": 10,
     "metadata": {},
     "output_type": "execute_result"
    }
   ],
   "source": [
    "X_train_sample = X_train.sample(frac=0.1)\n",
    "X_train_sample.shape"
   ]
  },
  {
   "cell_type": "markdown",
   "id": "0855a31a",
   "metadata": {},
   "source": [
    "---"
   ]
  },
  {
   "cell_type": "markdown",
   "id": "0d55b77c",
   "metadata": {},
   "source": [
    "## Create Dataframe where Each Input Has Equal Features"
   ]
  },
  {
   "cell_type": "code",
   "execution_count": 11,
   "id": "5dd025f1",
   "metadata": {},
   "outputs": [
    {
     "data": {
      "text/plain": [
       "(80067, 96)"
      ]
     },
     "execution_count": 11,
     "metadata": {},
     "output_type": "execute_result"
    }
   ],
   "source": [
    "X_train_sample_eq = X_train_sample.copy()\n",
    "X_train_sample_eq.shape"
   ]
  },
  {
   "cell_type": "code",
   "execution_count": 12,
   "id": "52dc32d2",
   "metadata": {
    "scrolled": false
   },
   "outputs": [],
   "source": [
    "for column in X_train_sample_eq.columns:\n",
    "    \n",
    "    suffix = column[7:]\n",
    "    copy_column = \"horse1_\" + suffix\n",
    "    \n",
    "    X_train_sample_eq[column] = X_train_sample_eq[copy_column]"
   ]
  },
  {
   "cell_type": "markdown",
   "id": "cbe7bda1",
   "metadata": {},
   "source": [
    "---"
   ]
  },
  {
   "cell_type": "markdown",
   "id": "874e8a1a",
   "metadata": {},
   "source": [
    "## Predict on Equal-Feature Dataframe"
   ]
  },
  {
   "cell_type": "code",
   "execution_count": 13,
   "id": "c1e94785",
   "metadata": {},
   "outputs": [],
   "source": [
    "X_train_sample_eq_tensor = torch.from_numpy(X_train_sample_eq.to_numpy()).float().to(device)"
   ]
  },
  {
   "cell_type": "code",
   "execution_count": 14,
   "id": "5bc6da8a",
   "metadata": {},
   "outputs": [],
   "source": [
    "with torch.no_grad():\n",
    "    eq_preds = torch.sigmoid(net.forward(X_train_sample_eq_tensor))"
   ]
  },
  {
   "cell_type": "code",
   "execution_count": 15,
   "id": "d34c2e12",
   "metadata": {},
   "outputs": [
    {
     "data": {
      "text/plain": [
       "array([[0.6235171 ],\n",
       "       [0.6717581 ],\n",
       "       [0.62450665],\n",
       "       ...,\n",
       "       [0.5903801 ],\n",
       "       [0.6097878 ],\n",
       "       [0.71033806]], dtype=float32)"
      ]
     },
     "execution_count": 15,
     "metadata": {},
     "output_type": "execute_result"
    }
   ],
   "source": [
    "eq_preds.numpy()"
   ]
  },
  {
   "cell_type": "code",
   "execution_count": 16,
   "id": "5510b745",
   "metadata": {
    "scrolled": true
   },
   "outputs": [
    {
     "data": {
      "text/plain": [
       "tensor(0.5917)"
      ]
     },
     "execution_count": 16,
     "metadata": {},
     "output_type": "execute_result"
    }
   ],
   "source": [
    "torch.mean(eq_preds)"
   ]
  },
  {
   "cell_type": "code",
   "execution_count": 17,
   "id": "804c1344",
   "metadata": {},
   "outputs": [
    {
     "data": {
      "text/plain": [
       "(array([3.0000e+00, 2.0000e+01, 1.9500e+02, 1.3390e+03, 1.4921e+04,\n",
       "        4.2885e+04, 1.9142e+04, 1.4930e+03, 6.0000e+01, 9.0000e+00]),\n",
       " array([0.11079857, 0.19736423, 0.28392985, 0.3704955 , 0.45706117,\n",
       "        0.5436268 , 0.63019246, 0.7167581 , 0.80332375, 0.88988936,\n",
       "        0.97645503], dtype=float32),\n",
       " <BarContainer object of 10 artists>)"
      ]
     },
     "execution_count": 17,
     "metadata": {},
     "output_type": "execute_result"
    },
    {
     "data": {
      "image/png": "[encoded data removed]",
      "text/plain": [
       "<Figure size 432x288 with 1 Axes>"
      ]
     },
     "metadata": {
      "needs_background": "light"
     },
     "output_type": "display_data"
    }
   ],
   "source": [
    "plt.hist(eq_preds.numpy())"
   ]
  },
  {
   "cell_type": "markdown",
   "id": "1290ea32",
   "metadata": {},
   "source": [
    "---"
   ]
  },
  {
   "cell_type": "markdown",
   "id": "72a0d67b",
   "metadata": {},
   "source": [
    "## Create Dataframe with Exaggerated Differences Feature-Wise"
   ]
  },
  {
   "cell_type": "code",
   "execution_count": 18,
   "id": "4533d6f7",
   "metadata": {
    "scrolled": false
   },
   "outputs": [
    {
     "data": {
      "text/plain": [
       "['horse1_age',\n",
       " 'horse1_saddle',\n",
       " 'horse1_decimalPrice',\n",
       " 'horse1_isFav',\n",
       " 'horse1_outHandicap',\n",
       " 'horse1_RPR',\n",
       " 'horse1_weight',\n",
       " 'horse1_jockey_d_last_race',\n",
       " 'horse1_jockey_d_first_race',\n",
       " 'horse1_jockey_prev_1_position',\n",
       " 'horse1_jockey_prev_2_position',\n",
       " 'horse1_jockey_prev_3_position',\n",
       " 'horse1_jockey_prev_1_finishing_time_ratio',\n",
       " 'horse1_jockey_prev_2_finishing_time_ratio',\n",
       " 'horse1_jockey_prev_3_finishing_time_ratio',\n",
       " 'horse1_jockey_prev_1_global_finishing_time_ratio',\n",
       " 'horse1_jockey_prev_2_global_finishing_time_ratio',\n",
       " 'horse1_jockey_prev_3_global_finishing_time_ratio',\n",
       " 'horse1_jockey_prev_1_position_course',\n",
       " 'horse1_jockey_prev_2_position_course',\n",
       " 'horse1_jockey_prev_3_position_course',\n",
       " 'horse1_jockey_prev_1_finishing_time_ratio_course',\n",
       " 'horse1_jockey_prev_2_finishing_time_ratio_course',\n",
       " 'horse1_jockey_prev_3_finishing_time_ratio_course',\n",
       " 'horse1_jockey_prev_1_position_metric',\n",
       " 'horse1_jockey_prev_2_position_metric',\n",
       " 'horse1_jockey_prev_3_position_metric',\n",
       " 'horse1_jockey_prev_1_finishing_time_ratio_metric',\n",
       " 'horse1_jockey_prev_2_finishing_time_ratio_metric',\n",
       " 'horse1_jockey_prev_3_finishing_time_ratio_metric',\n",
       " 'horse1_jockey_prev_1_position_ncond',\n",
       " 'horse1_jockey_prev_2_position_ncond',\n",
       " 'horse1_jockey_prev_3_position_ncond',\n",
       " 'horse1_jockey_prev_1_finishing_time_ratio_ncond',\n",
       " 'horse1_jockey_prev_2_finishing_time_ratio_ncond',\n",
       " 'horse1_jockey_prev_3_finishing_time_ratio_ncond',\n",
       " 'horse1_jockey_prev_1_position_runners',\n",
       " 'horse1_jockey_prev_2_position_runners',\n",
       " 'horse1_jockey_prev_3_position_runners',\n",
       " 'horse1_jockey_prev_1_finishing_time_ratio_runners',\n",
       " 'horse1_jockey_prev_2_finishing_time_ratio_runners',\n",
       " 'horse1_jockey_prev_3_finishing_time_ratio_runners',\n",
       " 'horse1_jockey_prev_1_position_month',\n",
       " 'horse1_jockey_prev_2_position_month',\n",
       " 'horse1_jockey_prev_3_position_month',\n",
       " 'horse1_jockey_prev_1_finishing_time_ratio_month',\n",
       " 'horse1_jockey_prev_2_finishing_time_ratio_month',\n",
       " 'horse1_jockey_prev_3_finishing_time_ratio_month',\n",
       " 'horse2_age',\n",
       " 'horse2_saddle',\n",
       " 'horse2_decimalPrice',\n",
       " 'horse2_isFav',\n",
       " 'horse2_outHandicap',\n",
       " 'horse2_RPR',\n",
       " 'horse2_weight',\n",
       " 'horse2_jockey_d_last_race',\n",
       " 'horse2_jockey_d_first_race',\n",
       " 'horse2_jockey_prev_1_position',\n",
       " 'horse2_jockey_prev_2_position',\n",
       " 'horse2_jockey_prev_3_position',\n",
       " 'horse2_jockey_prev_1_finishing_time_ratio',\n",
       " 'horse2_jockey_prev_2_finishing_time_ratio',\n",
       " 'horse2_jockey_prev_3_finishing_time_ratio',\n",
       " 'horse2_jockey_prev_1_global_finishing_time_ratio',\n",
       " 'horse2_jockey_prev_2_global_finishing_time_ratio',\n",
       " 'horse2_jockey_prev_3_global_finishing_time_ratio',\n",
       " 'horse2_jockey_prev_1_position_course',\n",
       " 'horse2_jockey_prev_2_position_course',\n",
       " 'horse2_jockey_prev_3_position_course',\n",
       " 'horse2_jockey_prev_1_finishing_time_ratio_course',\n",
       " 'horse2_jockey_prev_2_finishing_time_ratio_course',\n",
       " 'horse2_jockey_prev_3_finishing_time_ratio_course',\n",
       " 'horse2_jockey_prev_1_position_metric',\n",
       " 'horse2_jockey_prev_2_position_metric',\n",
       " 'horse2_jockey_prev_3_position_metric',\n",
       " 'horse2_jockey_prev_1_finishing_time_ratio_metric',\n",
       " 'horse2_jockey_prev_2_finishing_time_ratio_metric',\n",
       " 'horse2_jockey_prev_3_finishing_time_ratio_metric',\n",
       " 'horse2_jockey_prev_1_position_ncond',\n",
       " 'horse2_jockey_prev_2_position_ncond',\n",
       " 'horse2_jockey_prev_3_position_ncond',\n",
       " 'horse2_jockey_prev_1_finishing_time_ratio_ncond',\n",
       " 'horse2_jockey_prev_2_finishing_time_ratio_ncond',\n",
       " 'horse2_jockey_prev_3_finishing_time_ratio_ncond',\n",
       " 'horse2_jockey_prev_1_position_runners',\n",
       " 'horse2_jockey_prev_2_position_runners',\n",
       " 'horse2_jockey_prev_3_position_runners',\n",
       " 'horse2_jockey_prev_1_finishing_time_ratio_runners',\n",
       " 'horse2_jockey_prev_2_finishing_time_ratio_runners',\n",
       " 'horse2_jockey_prev_3_finishing_time_ratio_runners',\n",
       " 'horse2_jockey_prev_1_position_month',\n",
       " 'horse2_jockey_prev_2_position_month',\n",
       " 'horse2_jockey_prev_3_position_month',\n",
       " 'horse2_jockey_prev_1_finishing_time_ratio_month',\n",
       " 'horse2_jockey_prev_2_finishing_time_ratio_month',\n",
       " 'horse2_jockey_prev_3_finishing_time_ratio_month']"
      ]
     },
     "execution_count": 18,
     "metadata": {},
     "output_type": "execute_result"
    }
   ],
   "source": [
    "list(X_train.columns)"
   ]
  },
  {
   "cell_type": "markdown",
   "id": "75d87709",
   "metadata": {},
   "source": [
    "### Odds & Ratings"
   ]
  },
  {
   "cell_type": "code",
   "execution_count": 19,
   "id": "1fd0263c",
   "metadata": {},
   "outputs": [
    {
     "data": {
      "text/plain": [
       "(array([37326., 26524.,  9632.,  3000.,  1896.,   657.,   553.,   252.,\n",
       "          189.,    38.]),\n",
       " array([0.00216234, 0.0982424 , 0.19432247, 0.29040253, 0.38648259,\n",
       "        0.48256265, 0.57864271, 0.67472278, 0.77080284, 0.8668829 ,\n",
       "        0.96296296]),\n",
       " <BarContainer object of 10 artists>)"
      ]
     },
     "execution_count": 19,
     "metadata": {},
     "output_type": "execute_result"
    },
    {
     "data": {
      "image/png": "[encoded data removed]",
      "text/plain": [
       "<Figure size 432x288 with 1 Axes>"
      ]
     },
     "metadata": {
      "needs_background": "light"
     },
     "output_type": "display_data"
    }
   ],
   "source": [
    "plt.hist(X_train_sample_eq['horse1_decimalPrice'])"
   ]
  },
  {
   "cell_type": "code",
   "execution_count": 20,
   "id": "56f040d0",
   "metadata": {},
   "outputs": [
    {
     "data": {
      "text/plain": [
       "(array([2.2310e+03, 5.5880e+03, 1.1680e+04, 1.9519e+04, 2.2014e+04,\n",
       "        1.2500e+04, 5.5590e+03, 9.0500e+02, 6.8000e+01, 3.0000e+00]),\n",
       " array([-0.00625 ,  0.094375,  0.195   ,  0.295625,  0.39625 ,  0.496875,\n",
       "         0.5975  ,  0.698125,  0.79875 ,  0.899375,  1.      ]),\n",
       " <BarContainer object of 10 artists>)"
      ]
     },
     "execution_count": 20,
     "metadata": {},
     "output_type": "execute_result"
    },
    {
     "data": {
      "image/png": "[encoded data removed]",
      "text/plain": [
       "<Figure size 432x288 with 1 Axes>"
      ]
     },
     "metadata": {
      "needs_background": "light"
     },
     "output_type": "display_data"
    }
   ],
   "source": [
    "plt.hist(X_train_sample_eq['horse1_RPR'])"
   ]
  },
  {
   "cell_type": "markdown",
   "id": "7537f8f8",
   "metadata": {},
   "source": [
    "#### Small"
   ]
  },
  {
   "cell_type": "code",
   "execution_count": 21,
   "id": "3941124b",
   "metadata": {},
   "outputs": [
    {
     "data": {
      "text/plain": [
       "0.0722222222222221"
      ]
     },
     "execution_count": 21,
     "metadata": {},
     "output_type": "execute_result"
    }
   ],
   "source": [
    "odds_q_lo = X_train_sample_eq['horse1_decimalPrice'].quantile(q=1/3)\n",
    "odds_q_lo"
   ]
  },
  {
   "cell_type": "code",
   "execution_count": 22,
   "id": "ba28ad9c",
   "metadata": {},
   "outputs": [
    {
     "data": {
      "text/plain": [
       "0.1354166666666666"
      ]
     },
     "execution_count": 22,
     "metadata": {},
     "output_type": "execute_result"
    }
   ],
   "source": [
    "odds_q_hi = X_train_sample_eq['horse1_decimalPrice'].quantile(q=2/3)\n",
    "odds_q_hi"
   ]
  },
  {
   "cell_type": "code",
   "execution_count": 23,
   "id": "1ece27fa",
   "metadata": {},
   "outputs": [
    {
     "data": {
      "text/plain": [
       "0.3375"
      ]
     },
     "execution_count": 23,
     "metadata": {},
     "output_type": "execute_result"
    }
   ],
   "source": [
    "rpr_q_lo = X_train_sample_eq['horse1_RPR'].quantile(q=1/3)\n",
    "rpr_q_lo"
   ]
  },
  {
   "cell_type": "code",
   "execution_count": 24,
   "id": "a674e2e5",
   "metadata": {},
   "outputs": [
    {
     "data": {
      "text/plain": [
       "0.4625"
      ]
     },
     "execution_count": 24,
     "metadata": {},
     "output_type": "execute_result"
    }
   ],
   "source": [
    "rpr_q_hi = X_train_sample_eq['horse1_RPR'].quantile(q=2/3)\n",
    "rpr_q_hi"
   ]
  },
  {
   "cell_type": "code",
   "execution_count": 25,
   "id": "b21f0776",
   "metadata": {},
   "outputs": [
    {
     "data": {
      "text/plain": [
       "(80067, 96)"
      ]
     },
     "execution_count": 25,
     "metadata": {},
     "output_type": "execute_result"
    }
   ],
   "source": [
    "X_train_sample_exagg = X_train_sample_eq.copy()\n",
    "X_train_sample_exagg.shape"
   ]
  },
  {
   "cell_type": "code",
   "execution_count": 26,
   "id": "20c4c73f",
   "metadata": {},
   "outputs": [],
   "source": [
    "X_train_sample_exagg[\"horse1_decimalPrice\"] = odds_q_hi\n",
    "X_train_sample_exagg[\"horse2_decimalPrice\"] = odds_q_lo\n",
    "X_train_sample_exagg[\"horse1_RPR\"] = rpr_q_hi\n",
    "X_train_sample_exagg[\"horse2_RPR\"] = rpr_q_lo"
   ]
  },
  {
   "cell_type": "code",
   "execution_count": 27,
   "id": "828c97bb",
   "metadata": {},
   "outputs": [],
   "source": [
    "X_train_sample_exagg_tensor = torch.from_numpy(X_train_sample_exagg.to_numpy()).float().to(device)"
   ]
  },
  {
   "cell_type": "code",
   "execution_count": 28,
   "id": "3fa86a43",
   "metadata": {},
   "outputs": [],
   "source": [
    "with torch.no_grad():\n",
    "    sample_exagg_preds = torch.sigmoid(net.forward(X_train_sample_exagg_tensor))"
   ]
  },
  {
   "cell_type": "code",
   "execution_count": 29,
   "id": "3bf23af0",
   "metadata": {},
   "outputs": [
    {
     "data": {
      "text/plain": [
       "array([[0.9999957 ],\n",
       "       [0.9999962 ],\n",
       "       [0.9998566 ],\n",
       "       ...,\n",
       "       [0.99976736],\n",
       "       [0.99972695],\n",
       "       [0.99991596]], dtype=float32)"
      ]
     },
     "execution_count": 29,
     "metadata": {},
     "output_type": "execute_result"
    }
   ],
   "source": [
    "sample_exagg_preds.numpy()"
   ]
  },
  {
   "cell_type": "code",
   "execution_count": 30,
   "id": "db4161ad",
   "metadata": {
    "scrolled": true
   },
   "outputs": [
    {
     "data": {
      "text/plain": [
       "tensor(0.9999)"
      ]
     },
     "execution_count": 30,
     "metadata": {},
     "output_type": "execute_result"
    }
   ],
   "source": [
    "torch.mean(sample_exagg_preds)"
   ]
  },
  {
   "cell_type": "code",
   "execution_count": 31,
   "id": "0eea14a5",
   "metadata": {},
   "outputs": [
    {
     "data": {
      "text/plain": [
       "(array([1.0000e+00, 0.0000e+00, 2.0000e+00, 0.0000e+00, 0.0000e+00,\n",
       "        0.0000e+00, 0.0000e+00, 2.0000e+00, 3.4000e+01, 8.0028e+04]),\n",
       " array([0.99115163, 0.9920364 , 0.99292123, 0.993806  , 0.9946908 ,\n",
       "        0.99557555, 0.9964604 , 0.99734515, 0.9982299 , 0.99911475,\n",
       "        0.9999995 ], dtype=float32),\n",
       " <BarContainer object of 10 artists>)"
      ]
     },
     "execution_count": 31,
     "metadata": {},
     "output_type": "execute_result"
    },
    {
     "data": {
      "image/png": "[encoded data removed]",
      "text/plain": [
       "<Figure size 432x288 with 1 Axes>"
      ]
     },
     "metadata": {
      "needs_background": "light"
     },
     "output_type": "display_data"
    }
   ],
   "source": [
    "plt.hist(sample_exagg_preds.numpy())"
   ]
  },
  {
   "cell_type": "code",
   "execution_count": 32,
   "id": "ff18d367",
   "metadata": {},
   "outputs": [
    {
     "data": {
      "text/plain": [
       "tensor(0.4083)"
      ]
     },
     "execution_count": 32,
     "metadata": {},
     "output_type": "execute_result"
    }
   ],
   "source": [
    "torch.mean(abs(sample_exagg_preds - eq_preds))"
   ]
  },
  {
   "cell_type": "markdown",
   "id": "f06b2558",
   "metadata": {},
   "source": [
    "#### Medium"
   ]
  },
  {
   "cell_type": "code",
   "execution_count": 33,
   "id": "2d0f0b0e",
   "metadata": {},
   "outputs": [
    {
     "data": {
      "text/plain": [
       "0.0637254901960784"
      ]
     },
     "execution_count": 33,
     "metadata": {},
     "output_type": "execute_result"
    }
   ],
   "source": [
    "odds_q_lo = X_train_sample_eq['horse1_decimalPrice'].quantile(q=1/4)\n",
    "odds_q_lo"
   ]
  },
  {
   "cell_type": "code",
   "execution_count": 34,
   "id": "d7b1ca3c",
   "metadata": {},
   "outputs": [
    {
     "data": {
      "text/plain": [
       "0.1666666666666665"
      ]
     },
     "execution_count": 34,
     "metadata": {},
     "output_type": "execute_result"
    }
   ],
   "source": [
    "odds_q_hi = X_train_sample_eq['horse1_decimalPrice'].quantile(q=3/4)\n",
    "odds_q_hi"
   ]
  },
  {
   "cell_type": "code",
   "execution_count": 35,
   "id": "7392dbe6",
   "metadata": {},
   "outputs": [
    {
     "data": {
      "text/plain": [
       "0.3"
      ]
     },
     "execution_count": 35,
     "metadata": {},
     "output_type": "execute_result"
    }
   ],
   "source": [
    "rpr_q_lo = X_train_sample_eq['horse1_RPR'].quantile(q=1/4)\n",
    "rpr_q_lo"
   ]
  },
  {
   "cell_type": "code",
   "execution_count": 36,
   "id": "154eee19",
   "metadata": {},
   "outputs": [
    {
     "data": {
      "text/plain": [
       "0.49375"
      ]
     },
     "execution_count": 36,
     "metadata": {},
     "output_type": "execute_result"
    }
   ],
   "source": [
    "rpr_q_hi = X_train_sample_eq['horse1_RPR'].quantile(q=3/4)\n",
    "rpr_q_hi"
   ]
  },
  {
   "cell_type": "code",
   "execution_count": 37,
   "id": "852a1213",
   "metadata": {},
   "outputs": [
    {
     "data": {
      "text/plain": [
       "(80067, 96)"
      ]
     },
     "execution_count": 37,
     "metadata": {},
     "output_type": "execute_result"
    }
   ],
   "source": [
    "X_train_sample_exagg = X_train_sample_eq.copy()\n",
    "X_train_sample_exagg.shape"
   ]
  },
  {
   "cell_type": "code",
   "execution_count": 38,
   "id": "d1410181",
   "metadata": {},
   "outputs": [],
   "source": [
    "X_train_sample_exagg[\"horse1_decimalPrice\"] = odds_q_hi\n",
    "X_train_sample_exagg[\"horse2_decimalPrice\"] = odds_q_lo\n",
    "X_train_sample_exagg[\"horse1_RPR\"] = rpr_q_hi\n",
    "X_train_sample_exagg[\"horse2_RPR\"] = rpr_q_lo"
   ]
  },
  {
   "cell_type": "code",
   "execution_count": 39,
   "id": "39779115",
   "metadata": {},
   "outputs": [],
   "source": [
    "X_train_sample_exagg_tensor = torch.from_numpy(X_train_sample_exagg.to_numpy()).float().to(device)"
   ]
  },
  {
   "cell_type": "code",
   "execution_count": 40,
   "id": "4ef9830b",
   "metadata": {},
   "outputs": [],
   "source": [
    "with torch.no_grad():\n",
    "    sample_exagg_preds = torch.sigmoid(net.forward(X_train_sample_exagg_tensor))"
   ]
  },
  {
   "cell_type": "code",
   "execution_count": 41,
   "id": "30540ea7",
   "metadata": {},
   "outputs": [
    {
     "data": {
      "text/plain": [
       "array([[1.        ],\n",
       "       [1.        ],\n",
       "       [0.99999833],\n",
       "       ...,\n",
       "       [0.9999963 ],\n",
       "       [0.9999925 ],\n",
       "       [0.99999917]], dtype=float32)"
      ]
     },
     "execution_count": 41,
     "metadata": {},
     "output_type": "execute_result"
    }
   ],
   "source": [
    "sample_exagg_preds.numpy()"
   ]
  },
  {
   "cell_type": "code",
   "execution_count": 42,
   "id": "f0f751c3",
   "metadata": {
    "scrolled": true
   },
   "outputs": [
    {
     "data": {
      "text/plain": [
       "tensor(1.0000)"
      ]
     },
     "execution_count": 42,
     "metadata": {},
     "output_type": "execute_result"
    }
   ],
   "source": [
    "torch.mean(sample_exagg_preds)"
   ]
  },
  {
   "cell_type": "code",
   "execution_count": 43,
   "id": "9a1ae73e",
   "metadata": {},
   "outputs": [
    {
     "data": {
      "text/plain": [
       "(array([1.0000e+00, 0.0000e+00, 0.0000e+00, 0.0000e+00, 0.0000e+00,\n",
       "        0.0000e+00, 0.0000e+00, 2.0000e+00, 2.0000e+00, 8.0062e+04]),\n",
       " array([0.9995586 , 0.9996028 , 0.9996469 , 0.999691  , 0.9997352 ,\n",
       "        0.99977934, 0.99982345, 0.99986756, 0.9999117 , 0.9999559 ,\n",
       "        1.        ], dtype=float32),\n",
       " <BarContainer object of 10 artists>)"
      ]
     },
     "execution_count": 43,
     "metadata": {},
     "output_type": "execute_result"
    },
    {
     "data": {
      "image/png": "[encoded data removed]",
      "text/plain": [
       "<Figure size 432x288 with 1 Axes>"
      ]
     },
     "metadata": {
      "needs_background": "light"
     },
     "output_type": "display_data"
    }
   ],
   "source": [
    "plt.hist(sample_exagg_preds.numpy())"
   ]
  },
  {
   "cell_type": "code",
   "execution_count": 44,
   "id": "e67aa9f2",
   "metadata": {},
   "outputs": [
    {
     "data": {
      "text/plain": [
       "tensor(0.4083)"
      ]
     },
     "execution_count": 44,
     "metadata": {},
     "output_type": "execute_result"
    }
   ],
   "source": [
    "torch.mean(abs(sample_exagg_preds - eq_preds))"
   ]
  },
  {
   "cell_type": "markdown",
   "id": "88e7b22d",
   "metadata": {},
   "source": [
    "#### High"
   ]
  },
  {
   "cell_type": "code",
   "execution_count": 45,
   "id": "028aee66",
   "metadata": {},
   "outputs": [
    {
     "data": {
      "text/plain": [
       "0.0515873015873015"
      ]
     },
     "execution_count": 45,
     "metadata": {},
     "output_type": "execute_result"
    }
   ],
   "source": [
    "odds_q_lo = X_train_sample_eq['horse1_decimalPrice'].quantile(q=1/5)\n",
    "odds_q_lo"
   ]
  },
  {
   "cell_type": "code",
   "execution_count": 46,
   "id": "4c5a059b",
   "metadata": {},
   "outputs": [
    {
     "data": {
      "text/plain": [
       "0.1969696969696969"
      ]
     },
     "execution_count": 46,
     "metadata": {},
     "output_type": "execute_result"
    }
   ],
   "source": [
    "odds_q_hi = X_train_sample_eq['horse1_decimalPrice'].quantile(q=4/5)\n",
    "odds_q_hi"
   ]
  },
  {
   "cell_type": "code",
   "execution_count": 47,
   "id": "c9db389c",
   "metadata": {},
   "outputs": [
    {
     "data": {
      "text/plain": [
       "0.275"
      ]
     },
     "execution_count": 47,
     "metadata": {},
     "output_type": "execute_result"
    }
   ],
   "source": [
    "rpr_q_lo = X_train_sample_eq['horse1_RPR'].quantile(q=1/5)\n",
    "rpr_q_lo"
   ]
  },
  {
   "cell_type": "code",
   "execution_count": 48,
   "id": "13644764",
   "metadata": {},
   "outputs": [
    {
     "data": {
      "text/plain": [
       "0.5125"
      ]
     },
     "execution_count": 48,
     "metadata": {},
     "output_type": "execute_result"
    }
   ],
   "source": [
    "rpr_q_hi = X_train_sample_eq['horse1_RPR'].quantile(q=4/5)\n",
    "rpr_q_hi"
   ]
  },
  {
   "cell_type": "code",
   "execution_count": 49,
   "id": "4702de16",
   "metadata": {},
   "outputs": [
    {
     "data": {
      "text/plain": [
       "(80067, 96)"
      ]
     },
     "execution_count": 49,
     "metadata": {},
     "output_type": "execute_result"
    }
   ],
   "source": [
    "X_train_sample_exagg = X_train_sample_eq.copy()\n",
    "X_train_sample_exagg.shape"
   ]
  },
  {
   "cell_type": "code",
   "execution_count": 50,
   "id": "a60d1ca2",
   "metadata": {},
   "outputs": [],
   "source": [
    "X_train_sample_exagg[\"horse1_decimalPrice\"] = odds_q_hi\n",
    "X_train_sample_exagg[\"horse2_decimalPrice\"] = odds_q_lo\n",
    "X_train_sample_exagg[\"horse1_RPR\"] = rpr_q_hi\n",
    "X_train_sample_exagg[\"horse2_RPR\"] = rpr_q_lo"
   ]
  },
  {
   "cell_type": "code",
   "execution_count": 51,
   "id": "38db63ba",
   "metadata": {},
   "outputs": [],
   "source": [
    "X_train_sample_exagg_tensor = torch.from_numpy(X_train_sample_exagg.to_numpy()).float().to(device)"
   ]
  },
  {
   "cell_type": "code",
   "execution_count": 52,
   "id": "45d557ee",
   "metadata": {},
   "outputs": [],
   "source": [
    "with torch.no_grad():\n",
    "    sample_exagg_preds = torch.sigmoid(net.forward(X_train_sample_exagg_tensor))"
   ]
  },
  {
   "cell_type": "code",
   "execution_count": 53,
   "id": "eed1d96e",
   "metadata": {},
   "outputs": [
    {
     "data": {
      "text/plain": [
       "array([[1.        ],\n",
       "       [1.        ],\n",
       "       [0.9999999 ],\n",
       "       ...,\n",
       "       [0.99999976],\n",
       "       [0.9999993 ],\n",
       "       [1.        ]], dtype=float32)"
      ]
     },
     "execution_count": 53,
     "metadata": {},
     "output_type": "execute_result"
    }
   ],
   "source": [
    "sample_exagg_preds.numpy()"
   ]
  },
  {
   "cell_type": "code",
   "execution_count": 54,
   "id": "413cf83e",
   "metadata": {
    "scrolled": true
   },
   "outputs": [
    {
     "data": {
      "text/plain": [
       "tensor(1.)"
      ]
     },
     "execution_count": 54,
     "metadata": {},
     "output_type": "execute_result"
    }
   ],
   "source": [
    "torch.mean(sample_exagg_preds)"
   ]
  },
  {
   "cell_type": "code",
   "execution_count": 55,
   "id": "e7332191",
   "metadata": {},
   "outputs": [
    {
     "data": {
      "text/plain": [
       "(array([1.0000e+00, 0.0000e+00, 0.0000e+00, 0.0000e+00, 0.0000e+00,\n",
       "        0.0000e+00, 0.0000e+00, 2.0000e+00, 7.0000e+00, 8.0057e+04]),\n",
       " array([0.9999572, 0.9999615, 0.9999658, 0.99997  , 0.9999743, 0.9999786,\n",
       "        0.9999829, 0.9999872, 0.9999914, 0.9999957, 1.       ],\n",
       "       dtype=float32),\n",
       " <BarContainer object of 10 artists>)"
      ]
     },
     "execution_count": 55,
     "metadata": {},
     "output_type": "execute_result"
    },
    {
     "data": {
      "image/png": "[encoded data removed]",
      "text/plain": [
       "<Figure size 432x288 with 1 Axes>"
      ]
     },
     "metadata": {
      "needs_background": "light"
     },
     "output_type": "display_data"
    }
   ],
   "source": [
    "plt.hist(sample_exagg_preds.numpy())"
   ]
  },
  {
   "cell_type": "code",
   "execution_count": 56,
   "id": "a598c2bc",
   "metadata": {},
   "outputs": [
    {
     "data": {
      "text/plain": [
       "tensor(0.4083)"
      ]
     },
     "execution_count": 56,
     "metadata": {},
     "output_type": "execute_result"
    }
   ],
   "source": [
    "torch.mean(abs(sample_exagg_preds - eq_preds))"
   ]
  },
  {
   "cell_type": "markdown",
   "id": "9b5459b6",
   "metadata": {},
   "source": [
    "### Unconditioned Previous Races"
   ]
  },
  {
   "cell_type": "code",
   "execution_count": 57,
   "id": "9bba6f80",
   "metadata": {},
   "outputs": [],
   "source": [
    "columns_horse1 = [\n",
    "    'horse1_jockey_prev_1_position',\n",
    "    'horse1_jockey_prev_2_position',\n",
    "    'horse1_jockey_prev_3_position',\n",
    "    'horse1_jockey_prev_1_finishing_time_ratio',\n",
    "    'horse1_jockey_prev_2_finishing_time_ratio',\n",
    "    'horse1_jockey_prev_3_finishing_time_ratio',\n",
    "    'horse1_jockey_prev_1_global_finishing_time_ratio',\n",
    "    'horse1_jockey_prev_2_global_finishing_time_ratio',\n",
    "    'horse1_jockey_prev_3_global_finishing_time_ratio',\n",
    "]"
   ]
  },
  {
   "cell_type": "code",
   "execution_count": 58,
   "id": "8f6bcfc6",
   "metadata": {},
   "outputs": [],
   "source": [
    "columns_horse2 = [\n",
    "    'horse2_jockey_prev_1_position',\n",
    "    'horse2_jockey_prev_2_position',\n",
    "    'horse2_jockey_prev_3_position',\n",
    "    'horse2_jockey_prev_1_finishing_time_ratio',\n",
    "    'horse2_jockey_prev_2_finishing_time_ratio',\n",
    "    'horse2_jockey_prev_3_finishing_time_ratio',\n",
    "    'horse2_jockey_prev_1_global_finishing_time_ratio',\n",
    "    'horse2_jockey_prev_2_global_finishing_time_ratio',\n",
    "    'horse2_jockey_prev_3_global_finishing_time_ratio',\n",
    "]"
   ]
  },
  {
   "cell_type": "markdown",
   "id": "961b6eaf",
   "metadata": {},
   "source": [
    "#### Small"
   ]
  },
  {
   "cell_type": "code",
   "execution_count": 59,
   "id": "c64b5ae2",
   "metadata": {},
   "outputs": [],
   "source": [
    "q_los = [X_train_sample_eq[column].quantile(q=1/3) for column in columns_horse1]\n",
    "q_his = [X_train_sample_eq[column].quantile(q=2/3) for column in columns_horse1]"
   ]
  },
  {
   "cell_type": "code",
   "execution_count": 60,
   "id": "6f4fd840",
   "metadata": {},
   "outputs": [
    {
     "data": {
      "text/plain": [
       "[0.1,\n",
       " 0.1,\n",
       " 0.1,\n",
       " 0.7846141171896565,\n",
       " 0.8042290520687826,\n",
       " 0.8042070714605399,\n",
       " 0.5503412097814897,\n",
       " 0.5400278228623064,\n",
       " 0.5508194999044199]"
      ]
     },
     "execution_count": 60,
     "metadata": {},
     "output_type": "execute_result"
    }
   ],
   "source": [
    "q_los"
   ]
  },
  {
   "cell_type": "code",
   "execution_count": 61,
   "id": "707ea73f",
   "metadata": {},
   "outputs": [
    {
     "data": {
      "text/plain": [
       "[0.175,\n",
       " 0.175,\n",
       " 0.175,\n",
       " 0.7930532104830617,\n",
       " 0.8129486096918469,\n",
       " 0.8129486096918469,\n",
       " 0.5783369794540149,\n",
       " 0.5681089935340039,\n",
       " 0.5798535642680549]"
      ]
     },
     "execution_count": 61,
     "metadata": {},
     "output_type": "execute_result"
    }
   ],
   "source": [
    "q_his"
   ]
  },
  {
   "cell_type": "code",
   "execution_count": 62,
   "id": "39a593dc",
   "metadata": {},
   "outputs": [
    {
     "data": {
      "text/plain": [
       "(80067, 96)"
      ]
     },
     "execution_count": 62,
     "metadata": {},
     "output_type": "execute_result"
    }
   ],
   "source": [
    "X_train_sample_exagg = X_train_sample_eq.copy()\n",
    "X_train_sample_exagg.shape"
   ]
  },
  {
   "cell_type": "code",
   "execution_count": 63,
   "id": "9c262c28",
   "metadata": {},
   "outputs": [],
   "source": [
    "for column, q_lo in zip(columns_horse1, q_los):\n",
    "    X_train_sample_exagg[column] = q_lo"
   ]
  },
  {
   "cell_type": "code",
   "execution_count": 64,
   "id": "0094a92a",
   "metadata": {},
   "outputs": [],
   "source": [
    "for column, q_hi in zip(columns_horse2, q_his):\n",
    "    X_train_sample_exagg[column] = q_hi"
   ]
  },
  {
   "cell_type": "code",
   "execution_count": 65,
   "id": "eaac6641",
   "metadata": {},
   "outputs": [],
   "source": [
    "X_train_sample_exagg_tensor = torch.from_numpy(X_train_sample_exagg.to_numpy()).float().to(device)"
   ]
  },
  {
   "cell_type": "code",
   "execution_count": 66,
   "id": "a7c9a54c",
   "metadata": {},
   "outputs": [],
   "source": [
    "with torch.no_grad():\n",
    "    sample_exagg_preds = torch.sigmoid(net.forward(X_train_sample_exagg_tensor))"
   ]
  },
  {
   "cell_type": "code",
   "execution_count": 67,
   "id": "33e44495",
   "metadata": {},
   "outputs": [
    {
     "data": {
      "text/plain": [
       "array([[0.6411756 ],\n",
       "       [0.6939405 ],\n",
       "       [0.62881833],\n",
       "       ...,\n",
       "       [0.60583776],\n",
       "       [0.616693  ],\n",
       "       [0.698211  ]], dtype=float32)"
      ]
     },
     "execution_count": 67,
     "metadata": {},
     "output_type": "execute_result"
    }
   ],
   "source": [
    "sample_exagg_preds.numpy()"
   ]
  },
  {
   "cell_type": "code",
   "execution_count": 68,
   "id": "c2608599",
   "metadata": {
    "scrolled": true
   },
   "outputs": [
    {
     "data": {
      "text/plain": [
       "tensor(0.6001)"
      ]
     },
     "execution_count": 68,
     "metadata": {},
     "output_type": "execute_result"
    }
   ],
   "source": [
    "torch.mean(sample_exagg_preds)"
   ]
  },
  {
   "cell_type": "code",
   "execution_count": 69,
   "id": "ff4d6eb9",
   "metadata": {},
   "outputs": [
    {
     "data": {
      "text/plain": [
       "(array([2.0000e+00, 1.4000e+01, 1.2900e+02, 1.1850e+03, 1.4763e+04,\n",
       "        4.3321e+04, 1.9251e+04, 1.3330e+03, 6.0000e+01, 9.0000e+00]),\n",
       " array([0.12410411, 0.20970751, 0.2953109 , 0.38091433, 0.46651772,\n",
       "        0.5521211 , 0.6377245 , 0.72332793, 0.80893135, 0.8945347 ,\n",
       "        0.9801381 ], dtype=float32),\n",
       " <BarContainer object of 10 artists>)"
      ]
     },
     "execution_count": 69,
     "metadata": {},
     "output_type": "execute_result"
    },
    {
     "data": {
      "image/png": "[encoded data removed]",
      "text/plain": [
       "<Figure size 432x288 with 1 Axes>"
      ]
     },
     "metadata": {
      "needs_background": "light"
     },
     "output_type": "display_data"
    }
   ],
   "source": [
    "plt.hist(sample_exagg_preds.numpy())"
   ]
  },
  {
   "cell_type": "code",
   "execution_count": 70,
   "id": "52046681",
   "metadata": {},
   "outputs": [
    {
     "data": {
      "text/plain": [
       "tensor(0.0139)"
      ]
     },
     "execution_count": 70,
     "metadata": {},
     "output_type": "execute_result"
    }
   ],
   "source": [
    "torch.mean(abs(sample_exagg_preds - eq_preds))"
   ]
  },
  {
   "cell_type": "markdown",
   "id": "5110ab57",
   "metadata": {},
   "source": [
    "#### Medium"
   ]
  },
  {
   "cell_type": "code",
   "execution_count": 71,
   "id": "5737d353",
   "metadata": {},
   "outputs": [],
   "source": [
    "q_los = [X_train_sample_eq[column].quantile(q=1/4) for column in columns_horse1]\n",
    "q_his = [X_train_sample_eq[column].quantile(q=3/4) for column in columns_horse1]"
   ]
  },
  {
   "cell_type": "code",
   "execution_count": 72,
   "id": "1bc729d1",
   "metadata": {},
   "outputs": [
    {
     "data": {
      "text/plain": [
       "[0.075,\n",
       " 0.075,\n",
       " 0.075,\n",
       " 0.7829666902316295,\n",
       " 0.8025404403145713,\n",
       " 0.8025404403145713,\n",
       " 0.5445689914674867,\n",
       " 0.534443696377344,\n",
       " 0.54510870864489]"
      ]
     },
     "execution_count": 72,
     "metadata": {},
     "output_type": "execute_result"
    }
   ],
   "source": [
    "q_los"
   ]
  },
  {
   "cell_type": "code",
   "execution_count": 73,
   "id": "022410b3",
   "metadata": {},
   "outputs": [
    {
     "data": {
      "text/plain": [
       "[0.2,\n",
       " 0.2,\n",
       " 0.2,\n",
       " 0.7964694140641242,\n",
       " 0.8165498035705404,\n",
       " 0.8166393128202973,\n",
       " 0.5895933502852463,\n",
       " 0.5790988472987025,\n",
       " 0.5910519907743996]"
      ]
     },
     "execution_count": 73,
     "metadata": {},
     "output_type": "execute_result"
    }
   ],
   "source": [
    "q_his"
   ]
  },
  {
   "cell_type": "code",
   "execution_count": 74,
   "id": "be0084be",
   "metadata": {},
   "outputs": [
    {
     "data": {
      "text/plain": [
       "(80067, 96)"
      ]
     },
     "execution_count": 74,
     "metadata": {},
     "output_type": "execute_result"
    }
   ],
   "source": [
    "X_train_sample_exagg = X_train_sample_eq.copy()\n",
    "X_train_sample_exagg.shape"
   ]
  },
  {
   "cell_type": "code",
   "execution_count": 75,
   "id": "c828f1cc",
   "metadata": {},
   "outputs": [],
   "source": [
    "for column, q_lo in zip(columns_horse1, q_los):\n",
    "    X_train_sample_exagg[column] = q_lo"
   ]
  },
  {
   "cell_type": "code",
   "execution_count": 76,
   "id": "1c9faa06",
   "metadata": {},
   "outputs": [],
   "source": [
    "for column, q_hi in zip(columns_horse2, q_his):\n",
    "    X_train_sample_exagg[column] = q_hi"
   ]
  },
  {
   "cell_type": "code",
   "execution_count": 77,
   "id": "50efee50",
   "metadata": {},
   "outputs": [],
   "source": [
    "X_train_sample_exagg_tensor = torch.from_numpy(X_train_sample_exagg.to_numpy()).float().to(device)"
   ]
  },
  {
   "cell_type": "code",
   "execution_count": 78,
   "id": "3b92593d",
   "metadata": {},
   "outputs": [],
   "source": [
    "with torch.no_grad():\n",
    "    sample_exagg_preds = torch.sigmoid(net.forward(X_train_sample_exagg_tensor))"
   ]
  },
  {
   "cell_type": "code",
   "execution_count": 79,
   "id": "89a027a8",
   "metadata": {},
   "outputs": [
    {
     "data": {
      "text/plain": [
       "array([[0.6478317 ],\n",
       "       [0.69837683],\n",
       "       [0.6327265 ],\n",
       "       ...,\n",
       "       [0.60983765],\n",
       "       [0.6206514 ],\n",
       "       [0.6999388 ]], dtype=float32)"
      ]
     },
     "execution_count": 79,
     "metadata": {},
     "output_type": "execute_result"
    }
   ],
   "source": [
    "sample_exagg_preds.numpy()"
   ]
  },
  {
   "cell_type": "code",
   "execution_count": 80,
   "id": "52b156ad",
   "metadata": {
    "scrolled": true
   },
   "outputs": [
    {
     "data": {
      "text/plain": [
       "tensor(0.6050)"
      ]
     },
     "execution_count": 80,
     "metadata": {},
     "output_type": "execute_result"
    }
   ],
   "source": [
    "torch.mean(sample_exagg_preds)"
   ]
  },
  {
   "cell_type": "code",
   "execution_count": 81,
   "id": "6d666c7f",
   "metadata": {},
   "outputs": [
    {
     "data": {
      "text/plain": [
       "(array([2.0000e+00, 1.1000e+01, 1.2700e+02, 1.0390e+03, 1.3525e+04,\n",
       "        4.2543e+04, 2.1208e+04, 1.5300e+03, 7.3000e+01, 9.0000e+00]),\n",
       " array([0.12523511, 0.21076855, 0.296302  , 0.38183543, 0.46736887,\n",
       "        0.5529023 , 0.6384357 , 0.72396916, 0.8095026 , 0.89503604,\n",
       "        0.9805695 ], dtype=float32),\n",
       " <BarContainer object of 10 artists>)"
      ]
     },
     "execution_count": 81,
     "metadata": {},
     "output_type": "execute_result"
    },
    {
     "data": {
      "image/png": "[encoded data removed]",
      "text/plain": [
       "<Figure size 432x288 with 1 Axes>"
      ]
     },
     "metadata": {
      "needs_background": "light"
     },
     "output_type": "display_data"
    }
   ],
   "source": [
    "plt.hist(sample_exagg_preds.numpy())"
   ]
  },
  {
   "cell_type": "code",
   "execution_count": 82,
   "id": "9a348b43",
   "metadata": {},
   "outputs": [
    {
     "data": {
      "text/plain": [
       "tensor(0.0166)"
      ]
     },
     "execution_count": 82,
     "metadata": {},
     "output_type": "execute_result"
    }
   ],
   "source": [
    "torch.mean(abs(sample_exagg_preds - eq_preds))"
   ]
  },
  {
   "cell_type": "markdown",
   "id": "f64725f1",
   "metadata": {},
   "source": [
    "#### High"
   ]
  },
  {
   "cell_type": "code",
   "execution_count": 83,
   "id": "e0245339",
   "metadata": {},
   "outputs": [],
   "source": [
    "q_los = [X_train_sample_eq[column].quantile(q=1/5) for column in columns_horse1]\n",
    "q_his = [X_train_sample_eq[column].quantile(q=4/5) for column in columns_horse1]"
   ]
  },
  {
   "cell_type": "code",
   "execution_count": 84,
   "id": "d55ac04b",
   "metadata": {},
   "outputs": [
    {
     "data": {
      "text/plain": [
       "[0.05,\n",
       " 0.05,\n",
       " 0.05,\n",
       " 0.782023198885685,\n",
       " 0.8015733621876803,\n",
       " 0.8015432964524856,\n",
       " 0.5410542997215436,\n",
       " 0.5309146448845048,\n",
       " 0.5415883794118409]"
      ]
     },
     "execution_count": 84,
     "metadata": {},
     "output_type": "execute_result"
    }
   ],
   "source": [
    "q_los"
   ]
  },
  {
   "cell_type": "code",
   "execution_count": 85,
   "id": "e10d75aa",
   "metadata": {},
   "outputs": [
    {
     "data": {
      "text/plain": [
       "[0.225,\n",
       " 0.225,\n",
       " 0.225,\n",
       " 0.7992265147419632,\n",
       " 0.8194143014553776,\n",
       " 0.8194241384454721,\n",
       " 0.5985009864135731,\n",
       " 0.5878763770258646,\n",
       " 0.6002295110108569]"
      ]
     },
     "execution_count": 85,
     "metadata": {},
     "output_type": "execute_result"
    }
   ],
   "source": [
    "q_his"
   ]
  },
  {
   "cell_type": "code",
   "execution_count": 86,
   "id": "b778e246",
   "metadata": {},
   "outputs": [
    {
     "data": {
      "text/plain": [
       "(80067, 96)"
      ]
     },
     "execution_count": 86,
     "metadata": {},
     "output_type": "execute_result"
    }
   ],
   "source": [
    "X_train_sample_exagg = X_train_sample_eq.copy()\n",
    "X_train_sample_exagg.shape"
   ]
  },
  {
   "cell_type": "code",
   "execution_count": 87,
   "id": "7f588d72",
   "metadata": {},
   "outputs": [],
   "source": [
    "for column, q_lo in zip(columns_horse1, q_los):\n",
    "    X_train_sample_exagg[column] = q_lo"
   ]
  },
  {
   "cell_type": "code",
   "execution_count": 88,
   "id": "7bc7e780",
   "metadata": {},
   "outputs": [],
   "source": [
    "for column, q_hi in zip(columns_horse2, q_his):\n",
    "    X_train_sample_exagg[column] = q_hi"
   ]
  },
  {
   "cell_type": "code",
   "execution_count": 89,
   "id": "301e22e2",
   "metadata": {},
   "outputs": [],
   "source": [
    "X_train_sample_exagg_tensor = torch.from_numpy(X_train_sample_exagg.to_numpy()).float().to(device)"
   ]
  },
  {
   "cell_type": "code",
   "execution_count": 90,
   "id": "143c45b9",
   "metadata": {},
   "outputs": [],
   "source": [
    "with torch.no_grad():\n",
    "    sample_exagg_preds = torch.sigmoid(net.forward(X_train_sample_exagg_tensor))"
   ]
  },
  {
   "cell_type": "code",
   "execution_count": 91,
   "id": "7168301e",
   "metadata": {},
   "outputs": [
    {
     "data": {
      "text/plain": [
       "array([[0.654462  ],\n",
       "       [0.70258623],\n",
       "       [0.63666975],\n",
       "       ...,\n",
       "       [0.6138768 ],\n",
       "       [0.62464744],\n",
       "       [0.7013843 ]], dtype=float32)"
      ]
     },
     "execution_count": 91,
     "metadata": {},
     "output_type": "execute_result"
    }
   ],
   "source": [
    "sample_exagg_preds.numpy()"
   ]
  },
  {
   "cell_type": "code",
   "execution_count": 92,
   "id": "fc34c61b",
   "metadata": {
    "scrolled": true
   },
   "outputs": [
    {
     "data": {
      "text/plain": [
       "tensor(0.6097)"
      ]
     },
     "execution_count": 92,
     "metadata": {},
     "output_type": "execute_result"
    }
   ],
   "source": [
    "torch.mean(sample_exagg_preds)"
   ]
  },
  {
   "cell_type": "code",
   "execution_count": 93,
   "id": "bd3a25d1",
   "metadata": {},
   "outputs": [
    {
     "data": {
      "text/plain": [
       "(array([2.0000e+00, 1.1000e+01, 1.1600e+02, 9.4300e+02, 1.2453e+04,\n",
       "        4.1429e+04, 2.3274e+04, 1.7500e+03, 8.0000e+01, 9.0000e+00]),\n",
       " array([0.12627348, 0.21174595, 0.2972184 , 0.38269088, 0.46816334,\n",
       "        0.5536358 , 0.63910824, 0.7245807 , 0.81005317, 0.89552563,\n",
       "        0.9809981 ], dtype=float32),\n",
       " <BarContainer object of 10 artists>)"
      ]
     },
     "execution_count": 93,
     "metadata": {},
     "output_type": "execute_result"
    },
    {
     "data": {
      "image/png": "[encoded data removed]",
      "text/plain": [
       "<Figure size 432x288 with 1 Axes>"
      ]
     },
     "metadata": {
      "needs_background": "light"
     },
     "output_type": "display_data"
    }
   ],
   "source": [
    "plt.hist(sample_exagg_preds.numpy())"
   ]
  },
  {
   "cell_type": "code",
   "execution_count": 94,
   "id": "17301492",
   "metadata": {},
   "outputs": [
    {
     "data": {
      "text/plain": [
       "tensor(0.0201)"
      ]
     },
     "execution_count": 94,
     "metadata": {},
     "output_type": "execute_result"
    }
   ],
   "source": [
    "torch.mean(abs(sample_exagg_preds - eq_preds))"
   ]
  },
  {
   "cell_type": "markdown",
   "id": "3ce03363",
   "metadata": {},
   "source": [
    "### Coures Races"
   ]
  },
  {
   "cell_type": "code",
   "execution_count": 95,
   "id": "0377ca43",
   "metadata": {},
   "outputs": [],
   "source": [
    "columns_horse1 = [\n",
    "    'horse1_jockey_prev_1_position_course',\n",
    "    'horse1_jockey_prev_2_position_course',\n",
    "    'horse1_jockey_prev_3_position_course',\n",
    "    'horse1_jockey_prev_1_finishing_time_ratio_course',\n",
    "    'horse1_jockey_prev_2_finishing_time_ratio_course',\n",
    "    'horse1_jockey_prev_3_finishing_time_ratio_course',\n",
    "]"
   ]
  },
  {
   "cell_type": "code",
   "execution_count": 96,
   "id": "3ef01396",
   "metadata": {},
   "outputs": [],
   "source": [
    "columns_horse2 = [\n",
    "    'horse2_jockey_prev_1_position_course',\n",
    "    'horse2_jockey_prev_2_position_course',\n",
    "    'horse2_jockey_prev_3_position_course',\n",
    "    'horse2_jockey_prev_1_finishing_time_ratio_course',\n",
    "    'horse2_jockey_prev_2_finishing_time_ratio_course',\n",
    "    'horse2_jockey_prev_3_finishing_time_ratio_course',\n",
    "]"
   ]
  },
  {
   "cell_type": "markdown",
   "id": "5ebdc98e",
   "metadata": {},
   "source": [
    "#### Small"
   ]
  },
  {
   "cell_type": "code",
   "execution_count": 97,
   "id": "06b846be",
   "metadata": {},
   "outputs": [],
   "source": [
    "q_los = [X_train_sample_eq[column].quantile(q=1/3) for column in columns_horse1]\n",
    "q_his = [X_train_sample_eq[column].quantile(q=2/3) for column in columns_horse1]"
   ]
  },
  {
   "cell_type": "code",
   "execution_count": 98,
   "id": "c776da4e",
   "metadata": {},
   "outputs": [
    {
     "data": {
      "text/plain": [
       "[0.1, 0.1, 0.1, 0.7845904579745484, 0.7845817418561325, 0.7845352574964265]"
      ]
     },
     "execution_count": 98,
     "metadata": {},
     "output_type": "execute_result"
    }
   ],
   "source": [
    "q_los"
   ]
  },
  {
   "cell_type": "code",
   "execution_count": 99,
   "id": "36ff2457",
   "metadata": {},
   "outputs": [
    {
     "data": {
      "text/plain": [
       "[0.175,\n",
       " 0.175,\n",
       " 0.175,\n",
       " 0.7928639747161806,\n",
       " 0.7929228871238266,\n",
       " 0.7928639747161806]"
      ]
     },
     "execution_count": 99,
     "metadata": {},
     "output_type": "execute_result"
    }
   ],
   "source": [
    "q_his"
   ]
  },
  {
   "cell_type": "code",
   "execution_count": 100,
   "id": "9b89ed64",
   "metadata": {},
   "outputs": [
    {
     "data": {
      "text/plain": [
       "(80067, 96)"
      ]
     },
     "execution_count": 100,
     "metadata": {},
     "output_type": "execute_result"
    }
   ],
   "source": [
    "X_train_sample_exagg = X_train_sample_eq.copy()\n",
    "X_train_sample_exagg.shape"
   ]
  },
  {
   "cell_type": "code",
   "execution_count": 101,
   "id": "4a5582ff",
   "metadata": {},
   "outputs": [],
   "source": [
    "for column, q_lo in zip(columns_horse1, q_los):\n",
    "    X_train_sample_exagg[column] = q_lo"
   ]
  },
  {
   "cell_type": "code",
   "execution_count": 102,
   "id": "9962bbb4",
   "metadata": {},
   "outputs": [],
   "source": [
    "for column, q_hi in zip(columns_horse2, q_his):\n",
    "    X_train_sample_exagg[column] = q_hi"
   ]
  },
  {
   "cell_type": "code",
   "execution_count": 103,
   "id": "b34fa8cd",
   "metadata": {},
   "outputs": [],
   "source": [
    "X_train_sample_exagg_tensor = torch.from_numpy(X_train_sample_exagg.to_numpy()).float().to(device)"
   ]
  },
  {
   "cell_type": "code",
   "execution_count": 104,
   "id": "f9ac5b97",
   "metadata": {},
   "outputs": [],
   "source": [
    "with torch.no_grad():\n",
    "    sample_exagg_preds = torch.sigmoid(net.forward(X_train_sample_exagg_tensor))"
   ]
  },
  {
   "cell_type": "code",
   "execution_count": 105,
   "id": "005dfe14",
   "metadata": {},
   "outputs": [
    {
     "data": {
      "text/plain": [
       "array([[0.65098184],\n",
       "       [0.6628783 ],\n",
       "       [0.6278375 ],\n",
       "       ...,\n",
       "       [0.5948796 ],\n",
       "       [0.621295  ],\n",
       "       [0.6818941 ]], dtype=float32)"
      ]
     },
     "execution_count": 105,
     "metadata": {},
     "output_type": "execute_result"
    }
   ],
   "source": [
    "sample_exagg_preds.numpy()"
   ]
  },
  {
   "cell_type": "code",
   "execution_count": 106,
   "id": "8dcfac08",
   "metadata": {
    "scrolled": true
   },
   "outputs": [
    {
     "data": {
      "text/plain": [
       "tensor(0.5931)"
      ]
     },
     "execution_count": 106,
     "metadata": {},
     "output_type": "execute_result"
    }
   ],
   "source": [
    "torch.mean(sample_exagg_preds)"
   ]
  },
  {
   "cell_type": "code",
   "execution_count": 107,
   "id": "b1079c06",
   "metadata": {},
   "outputs": [
    {
     "data": {
      "text/plain": [
       "(array([2.0000e+00, 1.0000e+01, 7.8000e+01, 9.1900e+02, 1.3325e+04,\n",
       "        4.4090e+04, 2.0307e+04, 1.2630e+03, 6.4000e+01, 9.0000e+00]),\n",
       " array([0.107139  , 0.19396505, 0.28079107, 0.36761713, 0.4544432 ,\n",
       "        0.54126924, 0.62809527, 0.7149213 , 0.8017473 , 0.8885734 ,\n",
       "        0.97539943], dtype=float32),\n",
       " <BarContainer object of 10 artists>)"
      ]
     },
     "execution_count": 107,
     "metadata": {},
     "output_type": "execute_result"
    },
    {
     "data": {
      "image/png": "[encoded data removed]",
      "text/plain": [
       "<Figure size 432x288 with 1 Axes>"
      ]
     },
     "metadata": {
      "needs_background": "light"
     },
     "output_type": "display_data"
    }
   ],
   "source": [
    "plt.hist(sample_exagg_preds.numpy())"
   ]
  },
  {
   "cell_type": "code",
   "execution_count": 108,
   "id": "6ad8bfe6",
   "metadata": {},
   "outputs": [
    {
     "data": {
      "text/plain": [
       "tensor(0.0147)"
      ]
     },
     "execution_count": 108,
     "metadata": {},
     "output_type": "execute_result"
    }
   ],
   "source": [
    "torch.mean(abs(sample_exagg_preds - eq_preds))"
   ]
  },
  {
   "cell_type": "markdown",
   "id": "e411fa7a",
   "metadata": {},
   "source": [
    "#### Medium"
   ]
  },
  {
   "cell_type": "code",
   "execution_count": 109,
   "id": "47d7df23",
   "metadata": {},
   "outputs": [],
   "source": [
    "q_los = [X_train_sample_eq[column].quantile(q=1/4) for column in columns_horse1]\n",
    "q_his = [X_train_sample_eq[column].quantile(q=3/4) for column in columns_horse1]"
   ]
  },
  {
   "cell_type": "code",
   "execution_count": 110,
   "id": "ab1f91f5",
   "metadata": {},
   "outputs": [
    {
     "data": {
      "text/plain": [
       "[0.075,\n",
       " 0.075,\n",
       " 0.075,\n",
       " 0.7829666902316295,\n",
       " 0.7829666902316295,\n",
       " 0.7829666902316295]"
      ]
     },
     "execution_count": 110,
     "metadata": {},
     "output_type": "execute_result"
    }
   ],
   "source": [
    "q_los"
   ]
  },
  {
   "cell_type": "code",
   "execution_count": 111,
   "id": "50c44ba0",
   "metadata": {},
   "outputs": [
    {
     "data": {
      "text/plain": [
       "[0.2, 0.2, 0.2, 0.7963504826069203, 0.7963987191749489, 0.7963987191749489]"
      ]
     },
     "execution_count": 111,
     "metadata": {},
     "output_type": "execute_result"
    }
   ],
   "source": [
    "q_his"
   ]
  },
  {
   "cell_type": "code",
   "execution_count": 112,
   "id": "a3592d55",
   "metadata": {},
   "outputs": [
    {
     "data": {
      "text/plain": [
       "(80067, 96)"
      ]
     },
     "execution_count": 112,
     "metadata": {},
     "output_type": "execute_result"
    }
   ],
   "source": [
    "X_train_sample_exagg = X_train_sample_eq.copy()\n",
    "X_train_sample_exagg.shape"
   ]
  },
  {
   "cell_type": "code",
   "execution_count": 113,
   "id": "ae2121cd",
   "metadata": {},
   "outputs": [],
   "source": [
    "for column, q_lo in zip(columns_horse1, q_los):\n",
    "    X_train_sample_exagg[column] = q_lo"
   ]
  },
  {
   "cell_type": "code",
   "execution_count": 114,
   "id": "c29befe2",
   "metadata": {},
   "outputs": [],
   "source": [
    "for column, q_hi in zip(columns_horse2, q_his):\n",
    "    X_train_sample_exagg[column] = q_hi"
   ]
  },
  {
   "cell_type": "code",
   "execution_count": 115,
   "id": "ba3bcd59",
   "metadata": {},
   "outputs": [],
   "source": [
    "X_train_sample_exagg_tensor = torch.from_numpy(X_train_sample_exagg.to_numpy()).float().to(device)"
   ]
  },
  {
   "cell_type": "code",
   "execution_count": 116,
   "id": "ddbbf3bf",
   "metadata": {},
   "outputs": [],
   "source": [
    "with torch.no_grad():\n",
    "    sample_exagg_preds = torch.sigmoid(net.forward(X_train_sample_exagg_tensor))"
   ]
  },
  {
   "cell_type": "code",
   "execution_count": 117,
   "id": "5216ea9f",
   "metadata": {},
   "outputs": [
    {
     "data": {
      "text/plain": [
       "array([[0.6515605 ],\n",
       "       [0.6594935 ],\n",
       "       [0.6273015 ],\n",
       "       ...,\n",
       "       [0.5943267 ],\n",
       "       [0.6207556 ],\n",
       "       [0.67329746]], dtype=float32)"
      ]
     },
     "execution_count": 117,
     "metadata": {},
     "output_type": "execute_result"
    }
   ],
   "source": [
    "sample_exagg_preds.numpy()"
   ]
  },
  {
   "cell_type": "code",
   "execution_count": 118,
   "id": "e6000515",
   "metadata": {
    "scrolled": true
   },
   "outputs": [
    {
     "data": {
      "text/plain": [
       "tensor(0.5919)"
      ]
     },
     "execution_count": 118,
     "metadata": {},
     "output_type": "execute_result"
    }
   ],
   "source": [
    "torch.mean(sample_exagg_preds)"
   ]
  },
  {
   "cell_type": "code",
   "execution_count": 119,
   "id": "32dfa2f5",
   "metadata": {},
   "outputs": [
    {
     "data": {
      "text/plain": [
       "(array([2.0000e+00, 9.0000e+00, 7.6000e+01, 9.3600e+02, 1.3729e+04,\n",
       "        4.3244e+04, 2.0804e+04, 1.1890e+03, 6.9000e+01, 9.0000e+00]),\n",
       " array([0.10484494, 0.19192731, 0.2790097 , 0.3660921 , 0.45317447,\n",
       "        0.54025686, 0.62733924, 0.71442163, 0.801504  , 0.8885864 ,\n",
       "        0.9756688 ], dtype=float32),\n",
       " <BarContainer object of 10 artists>)"
      ]
     },
     "execution_count": 119,
     "metadata": {},
     "output_type": "execute_result"
    },
    {
     "data": {
      "image/png": "[encoded data removed]",
      "text/plain": [
       "<Figure size 432x288 with 1 Axes>"
      ]
     },
     "metadata": {
      "needs_background": "light"
     },
     "output_type": "display_data"
    }
   ],
   "source": [
    "plt.hist(sample_exagg_preds.numpy())"
   ]
  },
  {
   "cell_type": "code",
   "execution_count": 120,
   "id": "37ef5458",
   "metadata": {},
   "outputs": [
    {
     "data": {
      "text/plain": [
       "tensor(0.0176)"
      ]
     },
     "execution_count": 120,
     "metadata": {},
     "output_type": "execute_result"
    }
   ],
   "source": [
    "torch.mean(abs(sample_exagg_preds - eq_preds))"
   ]
  },
  {
   "cell_type": "markdown",
   "id": "b516bc04",
   "metadata": {},
   "source": [
    "#### High"
   ]
  },
  {
   "cell_type": "code",
   "execution_count": 121,
   "id": "d8bd428d",
   "metadata": {},
   "outputs": [],
   "source": [
    "q_los = [X_train_sample_eq[column].quantile(q=1/5) for column in columns_horse1]\n",
    "q_his = [X_train_sample_eq[column].quantile(q=4/5) for column in columns_horse1]"
   ]
  },
  {
   "cell_type": "code",
   "execution_count": 122,
   "id": "edbab86b",
   "metadata": {},
   "outputs": [
    {
     "data": {
      "text/plain": [
       "[0.05, 0.05, 0.05, 0.782023198885685, 0.7819935590132026, 0.7819938664458573]"
      ]
     },
     "execution_count": 122,
     "metadata": {},
     "output_type": "execute_result"
    }
   ],
   "source": [
    "q_los"
   ]
  },
  {
   "cell_type": "code",
   "execution_count": 123,
   "id": "70089074",
   "metadata": {},
   "outputs": [
    {
     "data": {
      "text/plain": [
       "[0.225,\n",
       " 0.225,\n",
       " 0.225,\n",
       " 0.7989938674839251,\n",
       " 0.7991086899266711,\n",
       " 0.7990491055143748]"
      ]
     },
     "execution_count": 123,
     "metadata": {},
     "output_type": "execute_result"
    }
   ],
   "source": [
    "q_his"
   ]
  },
  {
   "cell_type": "code",
   "execution_count": 124,
   "id": "4872daf1",
   "metadata": {},
   "outputs": [
    {
     "data": {
      "text/plain": [
       "(80067, 96)"
      ]
     },
     "execution_count": 124,
     "metadata": {},
     "output_type": "execute_result"
    }
   ],
   "source": [
    "X_train_sample_exagg = X_train_sample_eq.copy()\n",
    "X_train_sample_exagg.shape"
   ]
  },
  {
   "cell_type": "code",
   "execution_count": 125,
   "id": "3c3ca4f9",
   "metadata": {},
   "outputs": [],
   "source": [
    "for column, q_lo in zip(columns_horse1, q_los):\n",
    "    X_train_sample_exagg[column] = q_lo"
   ]
  },
  {
   "cell_type": "code",
   "execution_count": 126,
   "id": "5d85c80f",
   "metadata": {},
   "outputs": [],
   "source": [
    "for column, q_hi in zip(columns_horse2, q_his):\n",
    "    X_train_sample_exagg[column] = q_hi"
   ]
  },
  {
   "cell_type": "code",
   "execution_count": 127,
   "id": "a8eebe15",
   "metadata": {},
   "outputs": [],
   "source": [
    "X_train_sample_exagg_tensor = torch.from_numpy(X_train_sample_exagg.to_numpy()).float().to(device)"
   ]
  },
  {
   "cell_type": "code",
   "execution_count": 128,
   "id": "d257c6fc",
   "metadata": {},
   "outputs": [],
   "source": [
    "with torch.no_grad():\n",
    "    sample_exagg_preds = torch.sigmoid(net.forward(X_train_sample_exagg_tensor))"
   ]
  },
  {
   "cell_type": "code",
   "execution_count": 129,
   "id": "463a6a75",
   "metadata": {},
   "outputs": [
    {
     "data": {
      "text/plain": [
       "array([[0.6523858 ],\n",
       "       [0.65628743],\n",
       "       [0.62682104],\n",
       "       ...,\n",
       "       [0.5938313 ],\n",
       "       [0.6202721 ],\n",
       "       [0.6645761 ]], dtype=float32)"
      ]
     },
     "execution_count": 129,
     "metadata": {},
     "output_type": "execute_result"
    }
   ],
   "source": [
    "sample_exagg_preds.numpy()"
   ]
  },
  {
   "cell_type": "code",
   "execution_count": 130,
   "id": "e44f1d04",
   "metadata": {
    "scrolled": true
   },
   "outputs": [
    {
     "data": {
      "text/plain": [
       "tensor(0.5909)"
      ]
     },
     "execution_count": 130,
     "metadata": {},
     "output_type": "execute_result"
    }
   ],
   "source": [
    "torch.mean(sample_exagg_preds)"
   ]
  },
  {
   "cell_type": "code",
   "execution_count": 131,
   "id": "d348e0e9",
   "metadata": {},
   "outputs": [
    {
     "data": {
      "text/plain": [
       "(array([2.0000e+00, 9.0000e+00, 7.3000e+01, 9.9800e+02, 1.4353e+04,\n",
       "        4.1906e+04, 2.1478e+04, 1.1650e+03, 7.4000e+01, 9.0000e+00]),\n",
       " array([0.10265211, 0.19000648, 0.27736083, 0.3647152 , 0.45206958,\n",
       "        0.53942394, 0.6267783 , 0.71413267, 0.801487  , 0.8888414 ,\n",
       "        0.97619575], dtype=float32),\n",
       " <BarContainer object of 10 artists>)"
      ]
     },
     "execution_count": 131,
     "metadata": {},
     "output_type": "execute_result"
    },
    {
     "data": {
      "image/png": "[encoded data removed]",
      "text/plain": [
       "<Figure size 432x288 with 1 Axes>"
      ]
     },
     "metadata": {
      "needs_background": "light"
     },
     "output_type": "display_data"
    }
   ],
   "source": [
    "plt.hist(sample_exagg_preds.numpy())"
   ]
  },
  {
   "cell_type": "code",
   "execution_count": 132,
   "id": "4266e4f1",
   "metadata": {},
   "outputs": [
    {
     "data": {
      "text/plain": [
       "tensor(0.0210)"
      ]
     },
     "execution_count": 132,
     "metadata": {},
     "output_type": "execute_result"
    }
   ],
   "source": [
    "torch.mean(abs(sample_exagg_preds - eq_preds))"
   ]
  },
  {
   "cell_type": "markdown",
   "id": "c479de7e",
   "metadata": {},
   "source": [
    "### Metric Races"
   ]
  },
  {
   "cell_type": "code",
   "execution_count": 133,
   "id": "d627586f",
   "metadata": {},
   "outputs": [],
   "source": [
    "columns_horse1 = [\n",
    "    'horse1_jockey_prev_1_position_metric',\n",
    "    'horse1_jockey_prev_2_position_month',\n",
    "    'horse1_jockey_prev_3_position_metric',\n",
    "    'horse1_jockey_prev_1_finishing_time_ratio_metric',\n",
    "    'horse1_jockey_prev_2_finishing_time_ratio_metric',\n",
    "    'horse1_jockey_prev_3_finishing_time_ratio_metric',\n",
    "]"
   ]
  },
  {
   "cell_type": "code",
   "execution_count": 134,
   "id": "4a292359",
   "metadata": {},
   "outputs": [],
   "source": [
    "columns_horse2 = [\n",
    "    'horse2_jockey_prev_1_position_metric',\n",
    "    'horse2_jockey_prev_2_position_month',\n",
    "    'horse2_jockey_prev_3_position_metric',\n",
    "    'horse2_jockey_prev_1_finishing_time_ratio_metric',\n",
    "    'horse2_jockey_prev_2_finishing_time_ratio_metric',\n",
    "    'horse2_jockey_prev_3_finishing_time_ratio_metric',\n",
    "]"
   ]
  },
  {
   "cell_type": "markdown",
   "id": "4bb945b7",
   "metadata": {},
   "source": [
    "#### Small"
   ]
  },
  {
   "cell_type": "code",
   "execution_count": 135,
   "id": "204a62ab",
   "metadata": {},
   "outputs": [],
   "source": [
    "q_los = [X_train_sample_eq[column].quantile(q=1/3) for column in columns_horse1]\n",
    "q_his = [X_train_sample_eq[column].quantile(q=2/3) for column in columns_horse1]"
   ]
  },
  {
   "cell_type": "code",
   "execution_count": 136,
   "id": "77307d44",
   "metadata": {},
   "outputs": [
    {
     "data": {
      "text/plain": [
       "[0.1, 0.1, 0.1, 0.7846141171896565, 0.7845904579745486, 0.7845926726826628]"
      ]
     },
     "execution_count": 136,
     "metadata": {},
     "output_type": "execute_result"
    }
   ],
   "source": [
    "q_los"
   ]
  },
  {
   "cell_type": "code",
   "execution_count": 137,
   "id": "13e0c6eb",
   "metadata": {},
   "outputs": [
    {
     "data": {
      "text/plain": [
       "[0.175,\n",
       " 0.175,\n",
       " 0.175,\n",
       " 0.7930053644945313,\n",
       " 0.7930532104830617,\n",
       " 0.7930053644945313]"
      ]
     },
     "execution_count": 137,
     "metadata": {},
     "output_type": "execute_result"
    }
   ],
   "source": [
    "q_his"
   ]
  },
  {
   "cell_type": "code",
   "execution_count": 138,
   "id": "512a001f",
   "metadata": {},
   "outputs": [
    {
     "data": {
      "text/plain": [
       "(80067, 96)"
      ]
     },
     "execution_count": 138,
     "metadata": {},
     "output_type": "execute_result"
    }
   ],
   "source": [
    "X_train_sample_exagg = X_train_sample_eq.copy()\n",
    "X_train_sample_exagg.shape"
   ]
  },
  {
   "cell_type": "code",
   "execution_count": 139,
   "id": "4dee47bc",
   "metadata": {},
   "outputs": [],
   "source": [
    "for column, q_lo in zip(columns_horse1, q_los):\n",
    "    X_train_sample_exagg[column] = q_lo"
   ]
  },
  {
   "cell_type": "code",
   "execution_count": 140,
   "id": "64d6ce68",
   "metadata": {},
   "outputs": [],
   "source": [
    "for column, q_hi in zip(columns_horse2, q_his):\n",
    "    X_train_sample_exagg[column] = q_hi"
   ]
  },
  {
   "cell_type": "code",
   "execution_count": 141,
   "id": "4efbf13d",
   "metadata": {},
   "outputs": [],
   "source": [
    "X_train_sample_exagg_tensor = torch.from_numpy(X_train_sample_exagg.to_numpy()).float().to(device)"
   ]
  },
  {
   "cell_type": "code",
   "execution_count": 142,
   "id": "03d2de87",
   "metadata": {},
   "outputs": [],
   "source": [
    "with torch.no_grad():\n",
    "    sample_exagg_preds = torch.sigmoid(net.forward(X_train_sample_exagg_tensor))"
   ]
  },
  {
   "cell_type": "code",
   "execution_count": 143,
   "id": "b4b88293",
   "metadata": {},
   "outputs": [
    {
     "data": {
      "text/plain": [
       "array([[0.6208318 ],\n",
       "       [0.6813348 ],\n",
       "       [0.644516  ],\n",
       "       ...,\n",
       "       [0.58719903],\n",
       "       [0.5995963 ],\n",
       "       [0.70626277]], dtype=float32)"
      ]
     },
     "execution_count": 143,
     "metadata": {},
     "output_type": "execute_result"
    }
   ],
   "source": [
    "sample_exagg_preds.numpy()"
   ]
  },
  {
   "cell_type": "code",
   "execution_count": 144,
   "id": "6a182c4c",
   "metadata": {
    "scrolled": true
   },
   "outputs": [
    {
     "data": {
      "text/plain": [
       "tensor(0.5999)"
      ]
     },
     "execution_count": 144,
     "metadata": {},
     "output_type": "execute_result"
    }
   ],
   "source": [
    "torch.mean(sample_exagg_preds)"
   ]
  },
  {
   "cell_type": "code",
   "execution_count": 145,
   "id": "1f56bcdd",
   "metadata": {},
   "outputs": [
    {
     "data": {
      "text/plain": [
       "(array([3.0000e+00, 2.9000e+01, 2.1500e+02, 1.1660e+03, 1.3095e+04,\n",
       "        4.0936e+04, 2.2570e+04, 1.9730e+03, 7.1000e+01, 9.0000e+00]),\n",
       " array([0.11242643, 0.19894415, 0.28546187, 0.3719796 , 0.45849732,\n",
       "        0.54501504, 0.6315328 , 0.7180505 , 0.80456823, 0.8910859 ,\n",
       "        0.9776037 ], dtype=float32),\n",
       " <BarContainer object of 10 artists>)"
      ]
     },
     "execution_count": 145,
     "metadata": {},
     "output_type": "execute_result"
    },
    {
     "data": {
      "image/png": "[encoded data removed]",
      "text/plain": [
       "<Figure size 432x288 with 1 Axes>"
      ]
     },
     "metadata": {
      "needs_background": "light"
     },
     "output_type": "display_data"
    }
   ],
   "source": [
    "plt.hist(sample_exagg_preds.numpy())"
   ]
  },
  {
   "cell_type": "code",
   "execution_count": 146,
   "id": "35b804a1",
   "metadata": {},
   "outputs": [
    {
     "data": {
      "text/plain": [
       "tensor(0.0142)"
      ]
     },
     "execution_count": 146,
     "metadata": {},
     "output_type": "execute_result"
    }
   ],
   "source": [
    "torch.mean(abs(sample_exagg_preds - eq_preds))"
   ]
  },
  {
   "cell_type": "markdown",
   "id": "957cd2c5",
   "metadata": {},
   "source": [
    "#### Medium"
   ]
  },
  {
   "cell_type": "code",
   "execution_count": 147,
   "id": "058f9488",
   "metadata": {},
   "outputs": [],
   "source": [
    "q_los = [X_train_sample_eq[column].quantile(q=1/4) for column in columns_horse1]\n",
    "q_his = [X_train_sample_eq[column].quantile(q=3/4) for column in columns_horse1]"
   ]
  },
  {
   "cell_type": "code",
   "execution_count": 148,
   "id": "41c9d300",
   "metadata": {},
   "outputs": [
    {
     "data": {
      "text/plain": [
       "[0.075,\n",
       " 0.075,\n",
       " 0.075,\n",
       " 0.7829666902316295,\n",
       " 0.7829666902316295,\n",
       " 0.7829666902316295]"
      ]
     },
     "execution_count": 148,
     "metadata": {},
     "output_type": "execute_result"
    }
   ],
   "source": [
    "q_los"
   ]
  },
  {
   "cell_type": "code",
   "execution_count": 149,
   "id": "f9b2809b",
   "metadata": {},
   "outputs": [
    {
     "data": {
      "text/plain": [
       "[0.2, 0.2, 0.2, 0.79652108416336, 0.79652108416336, 0.7966343688055333]"
      ]
     },
     "execution_count": 149,
     "metadata": {},
     "output_type": "execute_result"
    }
   ],
   "source": [
    "q_his"
   ]
  },
  {
   "cell_type": "code",
   "execution_count": 150,
   "id": "fee41fd2",
   "metadata": {},
   "outputs": [
    {
     "data": {
      "text/plain": [
       "(80067, 96)"
      ]
     },
     "execution_count": 150,
     "metadata": {},
     "output_type": "execute_result"
    }
   ],
   "source": [
    "X_train_sample_exagg = X_train_sample_eq.copy()\n",
    "X_train_sample_exagg.shape"
   ]
  },
  {
   "cell_type": "code",
   "execution_count": 151,
   "id": "a37591d2",
   "metadata": {},
   "outputs": [],
   "source": [
    "for column, q_lo in zip(columns_horse1, q_los):\n",
    "    X_train_sample_exagg[column] = q_lo"
   ]
  },
  {
   "cell_type": "code",
   "execution_count": 152,
   "id": "ce768654",
   "metadata": {},
   "outputs": [],
   "source": [
    "for column, q_hi in zip(columns_horse2, q_his):\n",
    "    X_train_sample_exagg[column] = q_hi"
   ]
  },
  {
   "cell_type": "code",
   "execution_count": 153,
   "id": "c5fd3aa6",
   "metadata": {},
   "outputs": [],
   "source": [
    "X_train_sample_exagg_tensor = torch.from_numpy(X_train_sample_exagg.to_numpy()).float().to(device)"
   ]
  },
  {
   "cell_type": "code",
   "execution_count": 154,
   "id": "5e32f6cf",
   "metadata": {},
   "outputs": [],
   "source": [
    "with torch.no_grad():\n",
    "    sample_exagg_preds = torch.sigmoid(net.forward(X_train_sample_exagg_tensor))"
   ]
  },
  {
   "cell_type": "code",
   "execution_count": 155,
   "id": "9bd9ec03",
   "metadata": {},
   "outputs": [
    {
     "data": {
      "text/plain": [
       "array([[0.63262945],\n",
       "       [0.68566906],\n",
       "       [0.65022475],\n",
       "       ...,\n",
       "       [0.59324735],\n",
       "       [0.6055852 ],\n",
       "       [0.7051435 ]], dtype=float32)"
      ]
     },
     "execution_count": 155,
     "metadata": {},
     "output_type": "execute_result"
    }
   ],
   "source": [
    "sample_exagg_preds.numpy()"
   ]
  },
  {
   "cell_type": "code",
   "execution_count": 156,
   "id": "3007bec5",
   "metadata": {
    "scrolled": true
   },
   "outputs": [
    {
     "data": {
      "text/plain": [
       "tensor(0.6062)"
      ]
     },
     "execution_count": 156,
     "metadata": {},
     "output_type": "execute_result"
    }
   ],
   "source": [
    "torch.mean(sample_exagg_preds)"
   ]
  },
  {
   "cell_type": "code",
   "execution_count": 157,
   "id": "2f4f0952",
   "metadata": {},
   "outputs": [
    {
     "data": {
      "text/plain": [
       "(array([3.0000e+00, 2.8000e+01, 1.9900e+02, 1.0010e+03, 1.1700e+04,\n",
       "        3.9211e+04, 2.5541e+04, 2.2930e+03, 8.2000e+01, 9.0000e+00]),\n",
       " array([0.11229426, 0.1988993 , 0.28550434, 0.37210938, 0.45871443,\n",
       "        0.5453195 , 0.6319245 , 0.7185296 , 0.8051346 , 0.89173967,\n",
       "        0.9783447 ], dtype=float32),\n",
       " <BarContainer object of 10 artists>)"
      ]
     },
     "execution_count": 157,
     "metadata": {},
     "output_type": "execute_result"
    },
    {
     "data": {
      "image/png": "[encoded data removed]",
      "text/plain": [
       "<Figure size 432x288 with 1 Axes>"
      ]
     },
     "metadata": {
      "needs_background": "light"
     },
     "output_type": "display_data"
    }
   ],
   "source": [
    "plt.hist(sample_exagg_preds.numpy())"
   ]
  },
  {
   "cell_type": "code",
   "execution_count": 158,
   "id": "e6860287",
   "metadata": {},
   "outputs": [
    {
     "data": {
      "text/plain": [
       "tensor(0.0194)"
      ]
     },
     "execution_count": 158,
     "metadata": {},
     "output_type": "execute_result"
    }
   ],
   "source": [
    "torch.mean(abs(sample_exagg_preds - eq_preds))"
   ]
  },
  {
   "cell_type": "markdown",
   "id": "3cefb8c2",
   "metadata": {},
   "source": [
    "#### High"
   ]
  },
  {
   "cell_type": "code",
   "execution_count": 159,
   "id": "31febab1",
   "metadata": {},
   "outputs": [],
   "source": [
    "q_los = [X_train_sample_eq[column].quantile(q=1/5) for column in columns_horse1]\n",
    "q_his = [X_train_sample_eq[column].quantile(q=4/5) for column in columns_horse1]"
   ]
  },
  {
   "cell_type": "code",
   "execution_count": 160,
   "id": "3cd6aacf",
   "metadata": {},
   "outputs": [
    {
     "data": {
      "text/plain": [
       "[0.05, 0.05, 0.05, 0.7819938664458573, 0.7819934821550388, 0.782023198885685]"
      ]
     },
     "execution_count": 160,
     "metadata": {},
     "output_type": "execute_result"
    }
   ],
   "source": [
    "q_los"
   ]
  },
  {
   "cell_type": "code",
   "execution_count": 161,
   "id": "335a1b13",
   "metadata": {},
   "outputs": [
    {
     "data": {
      "text/plain": [
       "[0.225,\n",
       " 0.225,\n",
       " 0.225,\n",
       " 0.7992265147419632,\n",
       " 0.799245307054276,\n",
       " 0.7995130443798147]"
      ]
     },
     "execution_count": 161,
     "metadata": {},
     "output_type": "execute_result"
    }
   ],
   "source": [
    "q_his"
   ]
  },
  {
   "cell_type": "code",
   "execution_count": 162,
   "id": "e469d968",
   "metadata": {},
   "outputs": [
    {
     "data": {
      "text/plain": [
       "(80067, 96)"
      ]
     },
     "execution_count": 162,
     "metadata": {},
     "output_type": "execute_result"
    }
   ],
   "source": [
    "X_train_sample_exagg = X_train_sample_eq.copy()\n",
    "X_train_sample_exagg.shape"
   ]
  },
  {
   "cell_type": "code",
   "execution_count": 163,
   "id": "0d0d5e70",
   "metadata": {},
   "outputs": [],
   "source": [
    "for column, q_lo in zip(columns_horse1, q_los):\n",
    "    X_train_sample_exagg[column] = q_lo"
   ]
  },
  {
   "cell_type": "code",
   "execution_count": 164,
   "id": "42616662",
   "metadata": {},
   "outputs": [],
   "source": [
    "for column, q_hi in zip(columns_horse2, q_his):\n",
    "    X_train_sample_exagg[column] = q_hi"
   ]
  },
  {
   "cell_type": "code",
   "execution_count": 165,
   "id": "6bf94e6c",
   "metadata": {},
   "outputs": [],
   "source": [
    "X_train_sample_exagg_tensor = torch.from_numpy(X_train_sample_exagg.to_numpy()).float().to(device)"
   ]
  },
  {
   "cell_type": "code",
   "execution_count": 166,
   "id": "b1d64acc",
   "metadata": {},
   "outputs": [],
   "source": [
    "with torch.no_grad():\n",
    "    sample_exagg_preds = torch.sigmoid(net.forward(X_train_sample_exagg_tensor))"
   ]
  },
  {
   "cell_type": "code",
   "execution_count": 167,
   "id": "dd77ac49",
   "metadata": {},
   "outputs": [
    {
     "data": {
      "text/plain": [
       "array([[0.6443893 ],\n",
       "       [0.69011   ],\n",
       "       [0.6559399 ],\n",
       "       ...,\n",
       "       [0.5993197 ],\n",
       "       [0.611594  ],\n",
       "       [0.70409364]], dtype=float32)"
      ]
     },
     "execution_count": 167,
     "metadata": {},
     "output_type": "execute_result"
    }
   ],
   "source": [
    "sample_exagg_preds.numpy()"
   ]
  },
  {
   "cell_type": "code",
   "execution_count": 168,
   "id": "b114c9f8",
   "metadata": {
    "scrolled": true
   },
   "outputs": [
    {
     "data": {
      "text/plain": [
       "tensor(0.6125)"
      ]
     },
     "execution_count": 168,
     "metadata": {},
     "output_type": "execute_result"
    }
   ],
   "source": [
    "torch.mean(sample_exagg_preds)"
   ]
  },
  {
   "cell_type": "code",
   "execution_count": 169,
   "id": "65ae929f",
   "metadata": {},
   "outputs": [
    {
     "data": {
      "text/plain": [
       "(array([3.0000e+00, 2.6000e+01, 1.8200e+02, 8.9600e+02, 1.0336e+04,\n",
       "        3.7317e+04, 2.8298e+04, 2.8870e+03, 1.1200e+02, 1.0000e+01]),\n",
       " array([0.11218522, 0.19887319, 0.28556114, 0.3722491 , 0.45893705,\n",
       "        0.54562503, 0.632313  , 0.71900094, 0.8056889 , 0.89237684,\n",
       "        0.9790648 ], dtype=float32),\n",
       " <BarContainer object of 10 artists>)"
      ]
     },
     "execution_count": 169,
     "metadata": {},
     "output_type": "execute_result"
    },
    {
     "data": {
      "image/png": "[encoded data removed]",
      "text/plain": [
       "<Figure size 432x288 with 1 Axes>"
      ]
     },
     "metadata": {
      "needs_background": "light"
     },
     "output_type": "display_data"
    }
   ],
   "source": [
    "plt.hist(sample_exagg_preds.numpy())"
   ]
  },
  {
   "cell_type": "code",
   "execution_count": 170,
   "id": "25e47ca0",
   "metadata": {},
   "outputs": [
    {
     "data": {
      "text/plain": [
       "tensor(0.0252)"
      ]
     },
     "execution_count": 170,
     "metadata": {},
     "output_type": "execute_result"
    }
   ],
   "source": [
    "torch.mean(abs(sample_exagg_preds - eq_preds))"
   ]
  },
  {
   "cell_type": "markdown",
   "id": "a23f141d",
   "metadata": {},
   "source": [
    "### Track Condition Races"
   ]
  },
  {
   "cell_type": "code",
   "execution_count": 171,
   "id": "b6dca68c",
   "metadata": {},
   "outputs": [],
   "source": [
    "columns_horse1 = [\n",
    "    'horse1_jockey_prev_1_position_ncond',\n",
    "    'horse1_jockey_prev_2_position_ncond',\n",
    "    'horse1_jockey_prev_3_position_ncond',\n",
    "    'horse1_jockey_prev_1_finishing_time_ratio_ncond',\n",
    "    'horse1_jockey_prev_2_finishing_time_ratio_ncond',\n",
    "    'horse1_jockey_prev_3_finishing_time_ratio_ncond',\n",
    "]"
   ]
  },
  {
   "cell_type": "code",
   "execution_count": 172,
   "id": "6e7a13a4",
   "metadata": {},
   "outputs": [],
   "source": [
    "columns_horse2 = [\n",
    "    'horse2_jockey_prev_1_position_ncond',\n",
    "    'horse2_jockey_prev_2_position_ncond',\n",
    "    'horse2_jockey_prev_3_position_ncond',\n",
    "    'horse2_jockey_prev_1_finishing_time_ratio_ncond',\n",
    "    'horse2_jockey_prev_2_finishing_time_ratio_ncond',\n",
    "    'horse2_jockey_prev_3_finishing_time_ratio_ncond',\n",
    "]"
   ]
  },
  {
   "cell_type": "markdown",
   "id": "9a7d7e0b",
   "metadata": {},
   "source": [
    "#### Small"
   ]
  },
  {
   "cell_type": "code",
   "execution_count": 173,
   "id": "691cb881",
   "metadata": {},
   "outputs": [],
   "source": [
    "q_los = [X_train_sample_eq[column].quantile(q=1/3) for column in columns_horse1]\n",
    "q_his = [X_train_sample_eq[column].quantile(q=2/3) for column in columns_horse1]"
   ]
  },
  {
   "cell_type": "code",
   "execution_count": 174,
   "id": "6506ba35",
   "metadata": {},
   "outputs": [
    {
     "data": {
      "text/plain": [
       "[0.1, 0.1, 0.1, 0.7845352574964265, 0.7845904579745484, 0.7845904579745486]"
      ]
     },
     "execution_count": 174,
     "metadata": {},
     "output_type": "execute_result"
    }
   ],
   "source": [
    "q_los"
   ]
  },
  {
   "cell_type": "code",
   "execution_count": 175,
   "id": "acd2e804",
   "metadata": {},
   "outputs": [
    {
     "data": {
      "text/plain": [
       "[0.175,\n",
       " 0.175,\n",
       " 0.175,\n",
       " 0.7928639747161806,\n",
       " 0.7928639747161806,\n",
       " 0.7929228871238266]"
      ]
     },
     "execution_count": 175,
     "metadata": {},
     "output_type": "execute_result"
    }
   ],
   "source": [
    "q_his"
   ]
  },
  {
   "cell_type": "code",
   "execution_count": 176,
   "id": "f18ec49b",
   "metadata": {},
   "outputs": [
    {
     "data": {
      "text/plain": [
       "(80067, 96)"
      ]
     },
     "execution_count": 176,
     "metadata": {},
     "output_type": "execute_result"
    }
   ],
   "source": [
    "X_train_sample_exagg = X_train_sample_eq.copy()\n",
    "X_train_sample_exagg.shape"
   ]
  },
  {
   "cell_type": "code",
   "execution_count": 177,
   "id": "59f2ddf9",
   "metadata": {},
   "outputs": [],
   "source": [
    "for column, q_lo in zip(columns_horse1, q_los):\n",
    "    X_train_sample_exagg[column] = q_lo"
   ]
  },
  {
   "cell_type": "code",
   "execution_count": 178,
   "id": "6ca62b82",
   "metadata": {},
   "outputs": [],
   "source": [
    "for column, q_hi in zip(columns_horse2, q_his):\n",
    "    X_train_sample_exagg[column] = q_hi"
   ]
  },
  {
   "cell_type": "code",
   "execution_count": 179,
   "id": "4f8de564",
   "metadata": {},
   "outputs": [],
   "source": [
    "X_train_sample_exagg_tensor = torch.from_numpy(X_train_sample_exagg.to_numpy()).float().to(device)"
   ]
  },
  {
   "cell_type": "code",
   "execution_count": 180,
   "id": "7514dd38",
   "metadata": {},
   "outputs": [],
   "source": [
    "with torch.no_grad():\n",
    "    sample_exagg_preds = torch.sigmoid(net.forward(X_train_sample_exagg_tensor))"
   ]
  },
  {
   "cell_type": "code",
   "execution_count": 181,
   "id": "26867049",
   "metadata": {},
   "outputs": [
    {
     "data": {
      "text/plain": [
       "array([[0.6277661 ],\n",
       "       [0.6577137 ],\n",
       "       [0.63036144],\n",
       "       ...,\n",
       "       [0.5991253 ],\n",
       "       [0.6223788 ],\n",
       "       [0.71850634]], dtype=float32)"
      ]
     },
     "execution_count": 181,
     "metadata": {},
     "output_type": "execute_result"
    }
   ],
   "source": [
    "sample_exagg_preds.numpy()"
   ]
  },
  {
   "cell_type": "code",
   "execution_count": 182,
   "id": "92e79817",
   "metadata": {
    "scrolled": true
   },
   "outputs": [
    {
     "data": {
      "text/plain": [
       "tensor(0.6001)"
      ]
     },
     "execution_count": 182,
     "metadata": {},
     "output_type": "execute_result"
    }
   ],
   "source": [
    "torch.mean(sample_exagg_preds)"
   ]
  },
  {
   "cell_type": "code",
   "execution_count": 183,
   "id": "84c287ac",
   "metadata": {},
   "outputs": [
    {
     "data": {
      "text/plain": [
       "(array([2.0000e+00, 3.0000e+00, 7.0000e+01, 9.0600e+02, 1.1820e+04,\n",
       "        4.4087e+04, 2.1668e+04, 1.4480e+03, 5.3000e+01, 1.0000e+01]),\n",
       " array([0.1107846 , 0.19754103, 0.28429747, 0.3710539 , 0.4578103 ,\n",
       "        0.54456675, 0.63132316, 0.7180796 , 0.80483603, 0.8915925 ,\n",
       "        0.9783489 ], dtype=float32),\n",
       " <BarContainer object of 10 artists>)"
      ]
     },
     "execution_count": 183,
     "metadata": {},
     "output_type": "execute_result"
    },
    {
     "data": {
      "image/png": "[encoded data removed]",
      "text/plain": [
       "<Figure size 432x288 with 1 Axes>"
      ]
     },
     "metadata": {
      "needs_background": "light"
     },
     "output_type": "display_data"
    }
   ],
   "source": [
    "plt.hist(sample_exagg_preds.numpy())"
   ]
  },
  {
   "cell_type": "code",
   "execution_count": 184,
   "id": "52f9d867",
   "metadata": {},
   "outputs": [
    {
     "data": {
      "text/plain": [
       "tensor(0.0131)"
      ]
     },
     "execution_count": 184,
     "metadata": {},
     "output_type": "execute_result"
    }
   ],
   "source": [
    "torch.mean(abs(sample_exagg_preds - eq_preds))"
   ]
  },
  {
   "cell_type": "markdown",
   "id": "786c2512",
   "metadata": {},
   "source": [
    "#### Medium"
   ]
  },
  {
   "cell_type": "code",
   "execution_count": 185,
   "id": "e90595f6",
   "metadata": {},
   "outputs": [],
   "source": [
    "q_los = [X_train_sample_eq[column].quantile(q=1/4) for column in columns_horse1]\n",
    "q_his = [X_train_sample_eq[column].quantile(q=3/4) for column in columns_horse1]"
   ]
  },
  {
   "cell_type": "code",
   "execution_count": 186,
   "id": "64f346a0",
   "metadata": {},
   "outputs": [
    {
     "data": {
      "text/plain": [
       "[0.075,\n",
       " 0.075,\n",
       " 0.075,\n",
       " 0.7829666902316295,\n",
       " 0.7829666902316295,\n",
       " 0.7829666902316295]"
      ]
     },
     "execution_count": 186,
     "metadata": {},
     "output_type": "execute_result"
    }
   ],
   "source": [
    "q_los"
   ]
  },
  {
   "cell_type": "code",
   "execution_count": 187,
   "id": "9dd14d58",
   "metadata": {},
   "outputs": [
    {
     "data": {
      "text/plain": [
       "[0.2, 0.2, 0.2, 0.7962219819520104, 0.7963504826069203, 0.7964612934677049]"
      ]
     },
     "execution_count": 187,
     "metadata": {},
     "output_type": "execute_result"
    }
   ],
   "source": [
    "q_his"
   ]
  },
  {
   "cell_type": "code",
   "execution_count": 188,
   "id": "848dc51d",
   "metadata": {},
   "outputs": [
    {
     "data": {
      "text/plain": [
       "(80067, 96)"
      ]
     },
     "execution_count": 188,
     "metadata": {},
     "output_type": "execute_result"
    }
   ],
   "source": [
    "X_train_sample_exagg = X_train_sample_eq.copy()\n",
    "X_train_sample_exagg.shape"
   ]
  },
  {
   "cell_type": "code",
   "execution_count": 189,
   "id": "fd1b639d",
   "metadata": {},
   "outputs": [],
   "source": [
    "for column, q_lo in zip(columns_horse1, q_los):\n",
    "    X_train_sample_exagg[column] = q_lo"
   ]
  },
  {
   "cell_type": "code",
   "execution_count": 190,
   "id": "14b5904a",
   "metadata": {},
   "outputs": [],
   "source": [
    "for column, q_hi in zip(columns_horse2, q_his):\n",
    "    X_train_sample_exagg[column] = q_hi"
   ]
  },
  {
   "cell_type": "code",
   "execution_count": 191,
   "id": "46aaa900",
   "metadata": {},
   "outputs": [],
   "source": [
    "X_train_sample_exagg_tensor = torch.from_numpy(X_train_sample_exagg.to_numpy()).float().to(device)"
   ]
  },
  {
   "cell_type": "code",
   "execution_count": 192,
   "id": "b9f5dc8d",
   "metadata": {},
   "outputs": [],
   "source": [
    "with torch.no_grad():\n",
    "    sample_exagg_preds = torch.sigmoid(net.forward(X_train_sample_exagg_tensor))"
   ]
  },
  {
   "cell_type": "code",
   "execution_count": 193,
   "id": "b586179d",
   "metadata": {},
   "outputs": [
    {
     "data": {
      "text/plain": [
       "array([[0.63309014],\n",
       "       [0.65939814],\n",
       "       [0.6360854 ],\n",
       "       ...,\n",
       "       [0.60503024],\n",
       "       [0.6281538 ],\n",
       "       [0.7188511 ]], dtype=float32)"
      ]
     },
     "execution_count": 193,
     "metadata": {},
     "output_type": "execute_result"
    }
   ],
   "source": [
    "sample_exagg_preds.numpy()"
   ]
  },
  {
   "cell_type": "code",
   "execution_count": 194,
   "id": "07279240",
   "metadata": {
    "scrolled": true
   },
   "outputs": [
    {
     "data": {
      "text/plain": [
       "tensor(0.6043)"
      ]
     },
     "execution_count": 194,
     "metadata": {},
     "output_type": "execute_result"
    }
   ],
   "source": [
    "torch.mean(sample_exagg_preds)"
   ]
  },
  {
   "cell_type": "code",
   "execution_count": 195,
   "id": "e4feb6c5",
   "metadata": {},
   "outputs": [
    {
     "data": {
      "text/plain": [
       "(array([2.0000e+00, 3.0000e+00, 6.4000e+01, 7.9200e+02, 1.0650e+04,\n",
       "        4.3267e+04, 2.3639e+04, 1.5730e+03, 6.7000e+01, 1.0000e+01]),\n",
       " array([0.11061842, 0.19745351, 0.28428861, 0.3711237 , 0.4579588 ,\n",
       "        0.5447939 , 0.631629  , 0.7184641 , 0.80529916, 0.89213425,\n",
       "        0.97896934], dtype=float32),\n",
       " <BarContainer object of 10 artists>)"
      ]
     },
     "execution_count": 195,
     "metadata": {},
     "output_type": "execute_result"
    },
    {
     "data": {
      "image/png": "[encoded data removed]",
      "text/plain": [
       "<Figure size 432x288 with 1 Axes>"
      ]
     },
     "metadata": {
      "needs_background": "light"
     },
     "output_type": "display_data"
    }
   ],
   "source": [
    "plt.hist(sample_exagg_preds.numpy())"
   ]
  },
  {
   "cell_type": "code",
   "execution_count": 196,
   "id": "cc9486cf",
   "metadata": {},
   "outputs": [
    {
     "data": {
      "text/plain": [
       "tensor(0.0161)"
      ]
     },
     "execution_count": 196,
     "metadata": {},
     "output_type": "execute_result"
    }
   ],
   "source": [
    "torch.mean(abs(sample_exagg_preds - eq_preds))"
   ]
  },
  {
   "cell_type": "markdown",
   "id": "16f6ce75",
   "metadata": {},
   "source": [
    "#### High"
   ]
  },
  {
   "cell_type": "code",
   "execution_count": 197,
   "id": "50b3a75f",
   "metadata": {},
   "outputs": [],
   "source": [
    "q_los = [X_train_sample_eq[column].quantile(q=1/5) for column in columns_horse1]\n",
    "q_his = [X_train_sample_eq[column].quantile(q=4/5) for column in columns_horse1]"
   ]
  },
  {
   "cell_type": "code",
   "execution_count": 198,
   "id": "90ca565f",
   "metadata": {},
   "outputs": [
    {
     "data": {
      "text/plain": [
       "[0.05, 0.05, 0.05, 0.7819938664458573, 0.7819934821550388, 0.7819934821550388]"
      ]
     },
     "execution_count": 198,
     "metadata": {},
     "output_type": "execute_result"
    }
   ],
   "source": [
    "q_los"
   ]
  },
  {
   "cell_type": "code",
   "execution_count": 199,
   "id": "83aa1dc9",
   "metadata": {},
   "outputs": [
    {
     "data": {
      "text/plain": [
       "[0.225,\n",
       " 0.225,\n",
       " 0.225,\n",
       " 0.798943735185262,\n",
       " 0.7989938674839251,\n",
       " 0.7991816932682196]"
      ]
     },
     "execution_count": 199,
     "metadata": {},
     "output_type": "execute_result"
    }
   ],
   "source": [
    "q_his"
   ]
  },
  {
   "cell_type": "code",
   "execution_count": 200,
   "id": "0946d47b",
   "metadata": {},
   "outputs": [
    {
     "data": {
      "text/plain": [
       "(80067, 96)"
      ]
     },
     "execution_count": 200,
     "metadata": {},
     "output_type": "execute_result"
    }
   ],
   "source": [
    "X_train_sample_exagg = X_train_sample_eq.copy()\n",
    "X_train_sample_exagg.shape"
   ]
  },
  {
   "cell_type": "code",
   "execution_count": 201,
   "id": "b99403cd",
   "metadata": {},
   "outputs": [],
   "source": [
    "for column, q_lo in zip(columns_horse1, q_los):\n",
    "    X_train_sample_exagg[column] = q_lo"
   ]
  },
  {
   "cell_type": "code",
   "execution_count": 202,
   "id": "2facc64a",
   "metadata": {},
   "outputs": [],
   "source": [
    "for column, q_hi in zip(columns_horse2, q_his):\n",
    "    X_train_sample_exagg[column] = q_hi"
   ]
  },
  {
   "cell_type": "code",
   "execution_count": 203,
   "id": "74553794",
   "metadata": {},
   "outputs": [],
   "source": [
    "X_train_sample_exagg_tensor = torch.from_numpy(X_train_sample_exagg.to_numpy()).float().to(device)"
   ]
  },
  {
   "cell_type": "code",
   "execution_count": 204,
   "id": "91648a7c",
   "metadata": {},
   "outputs": [],
   "source": [
    "with torch.no_grad():\n",
    "    sample_exagg_preds = torch.sigmoid(net.forward(X_train_sample_exagg_tensor))"
   ]
  },
  {
   "cell_type": "code",
   "execution_count": 205,
   "id": "c28451df",
   "metadata": {},
   "outputs": [
    {
     "data": {
      "text/plain": [
       "array([[0.6382123 ],\n",
       "       [0.660953  ],\n",
       "       [0.6417361 ],\n",
       "       ...,\n",
       "       [0.610868  ],\n",
       "       [0.63385653],\n",
       "       [0.71920526]], dtype=float32)"
      ]
     },
     "execution_count": 205,
     "metadata": {},
     "output_type": "execute_result"
    }
   ],
   "source": [
    "sample_exagg_preds.numpy()"
   ]
  },
  {
   "cell_type": "code",
   "execution_count": 206,
   "id": "c663ae91",
   "metadata": {
    "scrolled": true
   },
   "outputs": [
    {
     "data": {
      "text/plain": [
       "tensor(0.6084)"
      ]
     },
     "execution_count": 206,
     "metadata": {},
     "output_type": "execute_result"
    }
   ],
   "source": [
    "torch.mean(sample_exagg_preds)"
   ]
  },
  {
   "cell_type": "code",
   "execution_count": 207,
   "id": "af88966c",
   "metadata": {},
   "outputs": [
    {
     "data": {
      "text/plain": [
       "(array([2.0000e+00, 3.0000e+00, 4.9000e+01, 7.1800e+02, 9.6160e+03,\n",
       "        4.2252e+04, 2.5642e+04, 1.7020e+03, 7.3000e+01, 1.0000e+01]),\n",
       " array([0.11039653, 0.19731279, 0.28422904, 0.3711453 , 0.45806155,\n",
       "        0.5449778 , 0.63189405, 0.7188103 , 0.8057265 , 0.8926428 ,\n",
       "        0.97955906], dtype=float32),\n",
       " <BarContainer object of 10 artists>)"
      ]
     },
     "execution_count": 207,
     "metadata": {},
     "output_type": "execute_result"
    },
    {
     "data": {
      "image/png": "[encoded data removed]",
      "text/plain": [
       "<Figure size 432x288 with 1 Axes>"
      ]
     },
     "metadata": {
      "needs_background": "light"
     },
     "output_type": "display_data"
    }
   ],
   "source": [
    "plt.hist(sample_exagg_preds.numpy())"
   ]
  },
  {
   "cell_type": "code",
   "execution_count": 208,
   "id": "f6e45a60",
   "metadata": {},
   "outputs": [
    {
     "data": {
      "text/plain": [
       "tensor(0.0195)"
      ]
     },
     "execution_count": 208,
     "metadata": {},
     "output_type": "execute_result"
    }
   ],
   "source": [
    "torch.mean(abs(sample_exagg_preds - eq_preds))"
   ]
  },
  {
   "cell_type": "markdown",
   "id": "c020f61d",
   "metadata": {},
   "source": [
    "### Runners"
   ]
  },
  {
   "cell_type": "code",
   "execution_count": 209,
   "id": "9f34286a",
   "metadata": {},
   "outputs": [],
   "source": [
    "columns_horse1 = [\n",
    "    'horse1_jockey_prev_1_position_runners',\n",
    "    'horse1_jockey_prev_2_position_runners',\n",
    "    'horse1_jockey_prev_3_position_runners',\n",
    "    'horse1_jockey_prev_1_finishing_time_ratio_runners',\n",
    "    'horse1_jockey_prev_2_finishing_time_ratio_runners',\n",
    "    'horse1_jockey_prev_3_finishing_time_ratio_runners',\n",
    "]"
   ]
  },
  {
   "cell_type": "code",
   "execution_count": 210,
   "id": "bf50a20a",
   "metadata": {},
   "outputs": [],
   "source": [
    "columns_horse2 = [\n",
    "    'horse2_jockey_prev_1_position_runners',\n",
    "    'horse2_jockey_prev_2_position_runners',\n",
    "    'horse2_jockey_prev_3_position_runners',\n",
    "    'horse2_jockey_prev_1_finishing_time_ratio_runners',\n",
    "    'horse2_jockey_prev_2_finishing_time_ratio_runners',\n",
    "    'horse2_jockey_prev_3_finishing_time_ratio_runners',\n",
    "]"
   ]
  },
  {
   "cell_type": "markdown",
   "id": "26ad9d72",
   "metadata": {},
   "source": [
    "#### Small"
   ]
  },
  {
   "cell_type": "code",
   "execution_count": 211,
   "id": "93e34e33",
   "metadata": {},
   "outputs": [],
   "source": [
    "q_los = [X_train_sample_eq[column].quantile(q=1/3) for column in columns_horse1]\n",
    "q_his = [X_train_sample_eq[column].quantile(q=2/3) for column in columns_horse1]"
   ]
  },
  {
   "cell_type": "code",
   "execution_count": 212,
   "id": "0a37f829",
   "metadata": {},
   "outputs": [
    {
     "data": {
      "text/plain": [
       "[0.1, 0.1, 0.1, 0.8044131405454777, 0.8043943293389128, 0.7847753633906748]"
      ]
     },
     "execution_count": 212,
     "metadata": {},
     "output_type": "execute_result"
    }
   ],
   "source": [
    "q_los"
   ]
  },
  {
   "cell_type": "code",
   "execution_count": 213,
   "id": "ac82fb8c",
   "metadata": {},
   "outputs": [
    {
     "data": {
      "text/plain": [
       "[0.2, 0.2, 0.2, 0.8132654348901037, 0.8131682331294443, 0.7934621622399722]"
      ]
     },
     "execution_count": 213,
     "metadata": {},
     "output_type": "execute_result"
    }
   ],
   "source": [
    "q_his"
   ]
  },
  {
   "cell_type": "code",
   "execution_count": 214,
   "id": "4fab210e",
   "metadata": {},
   "outputs": [
    {
     "data": {
      "text/plain": [
       "(80067, 96)"
      ]
     },
     "execution_count": 214,
     "metadata": {},
     "output_type": "execute_result"
    }
   ],
   "source": [
    "X_train_sample_exagg = X_train_sample_eq.copy()\n",
    "X_train_sample_exagg.shape"
   ]
  },
  {
   "cell_type": "code",
   "execution_count": 215,
   "id": "d4524414",
   "metadata": {},
   "outputs": [],
   "source": [
    "for column, q_lo in zip(columns_horse1, q_los):\n",
    "    X_train_sample_exagg[column] = q_lo"
   ]
  },
  {
   "cell_type": "code",
   "execution_count": 216,
   "id": "4b443ae2",
   "metadata": {},
   "outputs": [],
   "source": [
    "for column, q_hi in zip(columns_horse2, q_his):\n",
    "    X_train_sample_exagg[column] = q_hi"
   ]
  },
  {
   "cell_type": "code",
   "execution_count": 217,
   "id": "d8328932",
   "metadata": {},
   "outputs": [],
   "source": [
    "X_train_sample_exagg_tensor = torch.from_numpy(X_train_sample_exagg.to_numpy()).float().to(device)"
   ]
  },
  {
   "cell_type": "code",
   "execution_count": 218,
   "id": "f08cfc93",
   "metadata": {},
   "outputs": [],
   "source": [
    "with torch.no_grad():\n",
    "    sample_exagg_preds = torch.sigmoid(net.forward(X_train_sample_exagg_tensor))"
   ]
  },
  {
   "cell_type": "code",
   "execution_count": 219,
   "id": "b7f611d2",
   "metadata": {},
   "outputs": [
    {
     "data": {
      "text/plain": [
       "array([[0.61954683],\n",
       "       [0.6706704 ],\n",
       "       [0.6256185 ],\n",
       "       ...,\n",
       "       [0.57318217],\n",
       "       [0.56683534],\n",
       "       [0.6900862 ]], dtype=float32)"
      ]
     },
     "execution_count": 219,
     "metadata": {},
     "output_type": "execute_result"
    }
   ],
   "source": [
    "sample_exagg_preds.numpy()"
   ]
  },
  {
   "cell_type": "code",
   "execution_count": 220,
   "id": "e7b28b99",
   "metadata": {
    "scrolled": true
   },
   "outputs": [
    {
     "data": {
      "text/plain": [
       "tensor(0.5941)"
      ]
     },
     "execution_count": 220,
     "metadata": {},
     "output_type": "execute_result"
    }
   ],
   "source": [
    "torch.mean(sample_exagg_preds)"
   ]
  },
  {
   "cell_type": "code",
   "execution_count": 221,
   "id": "60ec3e2b",
   "metadata": {},
   "outputs": [
    {
     "data": {
      "text/plain": [
       "(array([2.0000e+00, 2.4000e+01, 2.3400e+02, 1.3880e+03, 1.5743e+04,\n",
       "        4.3033e+04, 1.8523e+04, 1.0900e+03, 2.1000e+01, 9.0000e+00]),\n",
       " array([0.12310015, 0.20845515, 0.29381016, 0.37916514, 0.46452013,\n",
       "        0.54987514, 0.6352301 , 0.7205851 , 0.80594015, 0.89129514,\n",
       "        0.9766501 ], dtype=float32),\n",
       " <BarContainer object of 10 artists>)"
      ]
     },
     "execution_count": 221,
     "metadata": {},
     "output_type": "execute_result"
    },
    {
     "data": {
      "image/png": "[encoded data removed]",
      "text/plain": [
       "<Figure size 432x288 with 1 Axes>"
      ]
     },
     "metadata": {
      "needs_background": "light"
     },
     "output_type": "display_data"
    }
   ],
   "source": [
    "plt.hist(sample_exagg_preds.numpy())"
   ]
  },
  {
   "cell_type": "code",
   "execution_count": 222,
   "id": "b5397d84",
   "metadata": {},
   "outputs": [
    {
     "data": {
      "text/plain": [
       "tensor(0.0194)"
      ]
     },
     "execution_count": 222,
     "metadata": {},
     "output_type": "execute_result"
    }
   ],
   "source": [
    "torch.mean(abs(sample_exagg_preds - eq_preds))"
   ]
  },
  {
   "cell_type": "markdown",
   "id": "4f37b4bc",
   "metadata": {},
   "source": [
    "#### Medium"
   ]
  },
  {
   "cell_type": "code",
   "execution_count": 223,
   "id": "f08f55a6",
   "metadata": {},
   "outputs": [],
   "source": [
    "q_los = [X_train_sample_eq[column].quantile(q=1/4) for column in columns_horse1]\n",
    "q_his = [X_train_sample_eq[column].quantile(q=3/4) for column in columns_horse1]"
   ]
  },
  {
   "cell_type": "code",
   "execution_count": 224,
   "id": "09459338",
   "metadata": {},
   "outputs": [
    {
     "data": {
      "text/plain": [
       "[0.075,\n",
       " 0.075,\n",
       " 0.075,\n",
       " 0.8027634010029951,\n",
       " 0.8026853647620468,\n",
       " 0.7831080800099801]"
      ]
     },
     "execution_count": 224,
     "metadata": {},
     "output_type": "execute_result"
    }
   ],
   "source": [
    "q_los"
   ]
  },
  {
   "cell_type": "code",
   "execution_count": 225,
   "id": "279e2ddb",
   "metadata": {},
   "outputs": [
    {
     "data": {
      "text/plain": [
       "[0.225,\n",
       " 0.225,\n",
       " 0.225,\n",
       " 0.8168879606146501,\n",
       " 0.8168879606146501,\n",
       " 0.7970397486714913]"
      ]
     },
     "execution_count": 225,
     "metadata": {},
     "output_type": "execute_result"
    }
   ],
   "source": [
    "q_his"
   ]
  },
  {
   "cell_type": "code",
   "execution_count": 226,
   "id": "e849832a",
   "metadata": {},
   "outputs": [
    {
     "data": {
      "text/plain": [
       "(80067, 96)"
      ]
     },
     "execution_count": 226,
     "metadata": {},
     "output_type": "execute_result"
    }
   ],
   "source": [
    "X_train_sample_exagg = X_train_sample_eq.copy()\n",
    "X_train_sample_exagg.shape"
   ]
  },
  {
   "cell_type": "code",
   "execution_count": 227,
   "id": "78ddfa23",
   "metadata": {},
   "outputs": [],
   "source": [
    "for column, q_lo in zip(columns_horse1, q_los):\n",
    "    X_train_sample_exagg[column] = q_lo"
   ]
  },
  {
   "cell_type": "code",
   "execution_count": 228,
   "id": "714b3448",
   "metadata": {},
   "outputs": [],
   "source": [
    "for column, q_hi in zip(columns_horse2, q_his):\n",
    "    X_train_sample_exagg[column] = q_hi"
   ]
  },
  {
   "cell_type": "code",
   "execution_count": 229,
   "id": "7e0500fd",
   "metadata": {},
   "outputs": [],
   "source": [
    "X_train_sample_exagg_tensor = torch.from_numpy(X_train_sample_exagg.to_numpy()).float().to(device)"
   ]
  },
  {
   "cell_type": "code",
   "execution_count": 230,
   "id": "f4b16eec",
   "metadata": {},
   "outputs": [],
   "source": [
    "with torch.no_grad():\n",
    "    sample_exagg_preds = torch.sigmoid(net.forward(X_train_sample_exagg_tensor))"
   ]
  },
  {
   "cell_type": "code",
   "execution_count": 231,
   "id": "742e4451",
   "metadata": {},
   "outputs": [
    {
     "data": {
      "text/plain": [
       "array([[0.6231307],\n",
       "       [0.6722863],\n",
       "       [0.6251017],\n",
       "       ...,\n",
       "       [0.5726427],\n",
       "       [0.5662938],\n",
       "       [0.6859697]], dtype=float32)"
      ]
     },
     "execution_count": 231,
     "metadata": {},
     "output_type": "execute_result"
    }
   ],
   "source": [
    "sample_exagg_preds.numpy()"
   ]
  },
  {
   "cell_type": "code",
   "execution_count": 232,
   "id": "c1df51f5",
   "metadata": {
    "scrolled": true
   },
   "outputs": [
    {
     "data": {
      "text/plain": [
       "tensor(0.5954)"
      ]
     },
     "execution_count": 232,
     "metadata": {},
     "output_type": "execute_result"
    }
   ],
   "source": [
    "torch.mean(sample_exagg_preds)"
   ]
  },
  {
   "cell_type": "code",
   "execution_count": 233,
   "id": "1805b312",
   "metadata": {},
   "outputs": [
    {
     "data": {
      "text/plain": [
       "(array([2.0000e+00, 2.6000e+01, 2.3200e+02, 1.3760e+03, 1.5805e+04,\n",
       "        4.1830e+04, 1.9608e+04, 1.1560e+03, 2.3000e+01, 9.0000e+00]),\n",
       " array([0.12333179, 0.2086666 , 0.2940014 , 0.3793362 , 0.464671  ,\n",
       "        0.5500058 , 0.6353406 , 0.7206754 , 0.8060102 , 0.891345  ,\n",
       "        0.9766798 ], dtype=float32),\n",
       " <BarContainer object of 10 artists>)"
      ]
     },
     "execution_count": 233,
     "metadata": {},
     "output_type": "execute_result"
    },
    {
     "data": {
      "image/png": "[encoded data removed]",
      "text/plain": [
       "<Figure size 432x288 with 1 Axes>"
      ]
     },
     "metadata": {
      "needs_background": "light"
     },
     "output_type": "display_data"
    }
   ],
   "source": [
    "plt.hist(sample_exagg_preds.numpy())"
   ]
  },
  {
   "cell_type": "code",
   "execution_count": 234,
   "id": "489daee5",
   "metadata": {},
   "outputs": [
    {
     "data": {
      "text/plain": [
       "tensor(0.0206)"
      ]
     },
     "execution_count": 234,
     "metadata": {},
     "output_type": "execute_result"
    }
   ],
   "source": [
    "torch.mean(abs(sample_exagg_preds - eq_preds))"
   ]
  },
  {
   "cell_type": "markdown",
   "id": "c3342a2d",
   "metadata": {},
   "source": [
    "#### High"
   ]
  },
  {
   "cell_type": "code",
   "execution_count": 235,
   "id": "cc9520da",
   "metadata": {},
   "outputs": [],
   "source": [
    "q_los = [X_train_sample_eq[column].quantile(q=1/5) for column in columns_horse1]\n",
    "q_his = [X_train_sample_eq[column].quantile(q=4/5) for column in columns_horse1]"
   ]
  },
  {
   "cell_type": "code",
   "execution_count": 236,
   "id": "d034d745",
   "metadata": {},
   "outputs": [
    {
     "data": {
      "text/plain": [
       "[0.075, 0.075, 0.075, 0.8017554328907454, 0.801754557017755, 0.782199974421551]"
      ]
     },
     "execution_count": 236,
     "metadata": {},
     "output_type": "execute_result"
    }
   ],
   "source": [
    "q_los"
   ]
  },
  {
   "cell_type": "code",
   "execution_count": 237,
   "id": "2a2263ef",
   "metadata": {},
   "outputs": [
    {
     "data": {
      "text/plain": [
       "[0.25, 0.25, 0.25, 0.8196213060580584, 0.8199207540573593, 0.7999211612291369]"
      ]
     },
     "execution_count": 237,
     "metadata": {},
     "output_type": "execute_result"
    }
   ],
   "source": [
    "q_his"
   ]
  },
  {
   "cell_type": "code",
   "execution_count": 238,
   "id": "80ae8e24",
   "metadata": {},
   "outputs": [
    {
     "data": {
      "text/plain": [
       "(80067, 96)"
      ]
     },
     "execution_count": 238,
     "metadata": {},
     "output_type": "execute_result"
    }
   ],
   "source": [
    "X_train_sample_exagg = X_train_sample_eq.copy()\n",
    "X_train_sample_exagg.shape"
   ]
  },
  {
   "cell_type": "code",
   "execution_count": 239,
   "id": "e4cc17ab",
   "metadata": {},
   "outputs": [],
   "source": [
    "for column, q_lo in zip(columns_horse1, q_los):\n",
    "    X_train_sample_exagg[column] = q_lo"
   ]
  },
  {
   "cell_type": "code",
   "execution_count": 240,
   "id": "e4b71318",
   "metadata": {},
   "outputs": [],
   "source": [
    "for column, q_hi in zip(columns_horse2, q_his):\n",
    "    X_train_sample_exagg[column] = q_hi"
   ]
  },
  {
   "cell_type": "code",
   "execution_count": 241,
   "id": "0c978fdd",
   "metadata": {},
   "outputs": [],
   "source": [
    "X_train_sample_exagg_tensor = torch.from_numpy(X_train_sample_exagg.to_numpy()).float().to(device)"
   ]
  },
  {
   "cell_type": "code",
   "execution_count": 242,
   "id": "41199c21",
   "metadata": {},
   "outputs": [],
   "source": [
    "with torch.no_grad():\n",
    "    sample_exagg_preds = torch.sigmoid(net.forward(X_train_sample_exagg_tensor))"
   ]
  },
  {
   "cell_type": "code",
   "execution_count": 243,
   "id": "0f18942d",
   "metadata": {},
   "outputs": [
    {
     "data": {
      "text/plain": [
       "array([[0.6244359 ],\n",
       "       [0.67792845],\n",
       "       [0.62668675],\n",
       "       ...,\n",
       "       [0.5742987 ],\n",
       "       [0.56795645],\n",
       "       [0.6869779 ]], dtype=float32)"
      ]
     },
     "execution_count": 243,
     "metadata": {},
     "output_type": "execute_result"
    }
   ],
   "source": [
    "sample_exagg_preds.numpy()"
   ]
  },
  {
   "cell_type": "code",
   "execution_count": 244,
   "id": "ba161bf1",
   "metadata": {
    "scrolled": true
   },
   "outputs": [
    {
     "data": {
      "text/plain": [
       "tensor(0.5994)"
      ]
     },
     "execution_count": 244,
     "metadata": {},
     "output_type": "execute_result"
    }
   ],
   "source": [
    "torch.mean(sample_exagg_preds)"
   ]
  },
  {
   "cell_type": "code",
   "execution_count": 245,
   "id": "639e558b",
   "metadata": {},
   "outputs": [
    {
     "data": {
      "text/plain": [
       "(array([2.0000e+00, 2.2000e+01, 2.2300e+02, 1.2760e+03, 1.5077e+04,\n",
       "        4.0755e+04, 2.1358e+04, 1.3230e+03, 2.2000e+01, 9.0000e+00]),\n",
       " array([0.12491512, 0.2100997 , 0.29528427, 0.38046885, 0.46565342,\n",
       "        0.550838  , 0.63602257, 0.72120714, 0.8063917 , 0.8915763 ,\n",
       "        0.97676086], dtype=float32),\n",
       " <BarContainer object of 10 artists>)"
      ]
     },
     "execution_count": 245,
     "metadata": {},
     "output_type": "execute_result"
    },
    {
     "data": {
      "image/png": "[encoded data removed]",
      "text/plain": [
       "<Figure size 432x288 with 1 Axes>"
      ]
     },
     "metadata": {
      "needs_background": "light"
     },
     "output_type": "display_data"
    }
   ],
   "source": [
    "plt.hist(sample_exagg_preds.numpy())"
   ]
  },
  {
   "cell_type": "code",
   "execution_count": 246,
   "id": "0e4ff739",
   "metadata": {},
   "outputs": [
    {
     "data": {
      "text/plain": [
       "tensor(0.0222)"
      ]
     },
     "execution_count": 246,
     "metadata": {},
     "output_type": "execute_result"
    }
   ],
   "source": [
    "torch.mean(abs(sample_exagg_preds - eq_preds))"
   ]
  },
  {
   "cell_type": "markdown",
   "id": "467880ae",
   "metadata": {},
   "source": [
    "### Month Races"
   ]
  },
  {
   "cell_type": "code",
   "execution_count": 247,
   "id": "536fa00d",
   "metadata": {},
   "outputs": [],
   "source": [
    "columns_horse1 = [\n",
    "    'horse1_jockey_prev_1_position_month',\n",
    "    'horse1_jockey_prev_2_position_month',\n",
    "    'horse1_jockey_prev_3_position_month',\n",
    "    'horse1_jockey_prev_1_finishing_time_ratio_month',\n",
    "    'horse1_jockey_prev_2_finishing_time_ratio_month',\n",
    "    'horse1_jockey_prev_3_finishing_time_ratio_month',\n",
    "]"
   ]
  },
  {
   "cell_type": "code",
   "execution_count": 248,
   "id": "721f218c",
   "metadata": {},
   "outputs": [],
   "source": [
    "columns_horse2 = [\n",
    "    'horse2_jockey_prev_1_position_month',\n",
    "    'horse2_jockey_prev_2_position_month',\n",
    "    'horse2_jockey_prev_3_position_month',\n",
    "    'horse2_jockey_prev_1_finishing_time_ratio_month',\n",
    "    'horse2_jockey_prev_2_finishing_time_ratio_month',\n",
    "    'horse2_jockey_prev_3_finishing_time_ratio_month',\n",
    "]"
   ]
  },
  {
   "cell_type": "markdown",
   "id": "874aef65",
   "metadata": {},
   "source": [
    "#### Small"
   ]
  },
  {
   "cell_type": "code",
   "execution_count": 249,
   "id": "125623a0",
   "metadata": {},
   "outputs": [],
   "source": [
    "q_los = [X_train_sample_eq[column].quantile(q=1/3) for column in columns_horse1]\n",
    "q_his = [X_train_sample_eq[column].quantile(q=2/3) for column in columns_horse1]"
   ]
  },
  {
   "cell_type": "code",
   "execution_count": 250,
   "id": "52abd4f5",
   "metadata": {},
   "outputs": [
    {
     "data": {
      "text/plain": [
       "[0.1, 0.1, 0.1, 0.7846141171896565, 0.7846208144331395, 0.8042290520687826]"
      ]
     },
     "execution_count": 250,
     "metadata": {},
     "output_type": "execute_result"
    }
   ],
   "source": [
    "q_los"
   ]
  },
  {
   "cell_type": "code",
   "execution_count": 251,
   "id": "1d036d96",
   "metadata": {},
   "outputs": [
    {
     "data": {
      "text/plain": [
       "[0.175,\n",
       " 0.175,\n",
       " 0.175,\n",
       " 0.7930934861844718,\n",
       " 0.7931210070975826,\n",
       " 0.8130474627565484]"
      ]
     },
     "execution_count": 251,
     "metadata": {},
     "output_type": "execute_result"
    }
   ],
   "source": [
    "q_his"
   ]
  },
  {
   "cell_type": "code",
   "execution_count": 252,
   "id": "16b88fed",
   "metadata": {},
   "outputs": [
    {
     "data": {
      "text/plain": [
       "(80067, 96)"
      ]
     },
     "execution_count": 252,
     "metadata": {},
     "output_type": "execute_result"
    }
   ],
   "source": [
    "X_train_sample_exagg = X_train_sample_eq.copy()\n",
    "X_train_sample_exagg.shape"
   ]
  },
  {
   "cell_type": "code",
   "execution_count": 253,
   "id": "03eaac2a",
   "metadata": {},
   "outputs": [],
   "source": [
    "for column, q_lo in zip(columns_horse1, q_los):\n",
    "    X_train_sample_exagg[column] = q_lo"
   ]
  },
  {
   "cell_type": "code",
   "execution_count": 254,
   "id": "1bddde4a",
   "metadata": {},
   "outputs": [],
   "source": [
    "for column, q_hi in zip(columns_horse2, q_his):\n",
    "    X_train_sample_exagg[column] = q_hi"
   ]
  },
  {
   "cell_type": "code",
   "execution_count": 255,
   "id": "02306b36",
   "metadata": {},
   "outputs": [],
   "source": [
    "X_train_sample_exagg_tensor = torch.from_numpy(X_train_sample_exagg.to_numpy()).float().to(device)"
   ]
  },
  {
   "cell_type": "code",
   "execution_count": 256,
   "id": "b7c391c7",
   "metadata": {},
   "outputs": [],
   "source": [
    "with torch.no_grad():\n",
    "    sample_exagg_preds = torch.sigmoid(net.forward(X_train_sample_exagg_tensor))"
   ]
  },
  {
   "cell_type": "code",
   "execution_count": 257,
   "id": "9cbf5bce",
   "metadata": {},
   "outputs": [
    {
     "data": {
      "text/plain": [
       "array([[0.6121405 ],\n",
       "       [0.6804441 ],\n",
       "       [0.6195792 ],\n",
       "       ...,\n",
       "       [0.58791083],\n",
       "       [0.6003313 ],\n",
       "       [0.73700565]], dtype=float32)"
      ]
     },
     "execution_count": 257,
     "metadata": {},
     "output_type": "execute_result"
    }
   ],
   "source": [
    "sample_exagg_preds.numpy()"
   ]
  },
  {
   "cell_type": "code",
   "execution_count": 258,
   "id": "f377f118",
   "metadata": {
    "scrolled": true
   },
   "outputs": [
    {
     "data": {
      "text/plain": [
       "tensor(0.6018)"
      ]
     },
     "execution_count": 258,
     "metadata": {},
     "output_type": "execute_result"
    }
   ],
   "source": [
    "torch.mean(sample_exagg_preds)"
   ]
  },
  {
   "cell_type": "code",
   "execution_count": 259,
   "id": "202816a0",
   "metadata": {},
   "outputs": [
    {
     "data": {
      "text/plain": [
       "(array([4.0000e+00, 3.4000e+01, 2.2000e+02, 1.1600e+03, 1.3574e+04,\n",
       "        4.0535e+04, 2.2137e+04, 2.3210e+03, 7.3000e+01, 9.0000e+00]),\n",
       " array([0.1162011 , 0.2024658 , 0.28873053, 0.37499523, 0.46125993,\n",
       "        0.54752463, 0.63378936, 0.7200541 , 0.8063188 , 0.8925835 ,\n",
       "        0.9788482 ], dtype=float32),\n",
       " <BarContainer object of 10 artists>)"
      ]
     },
     "execution_count": 259,
     "metadata": {},
     "output_type": "execute_result"
    },
    {
     "data": {
      "image/png": "[encoded data removed]",
      "text/plain": [
       "<Figure size 432x288 with 1 Axes>"
      ]
     },
     "metadata": {
      "needs_background": "light"
     },
     "output_type": "display_data"
    }
   ],
   "source": [
    "plt.hist(sample_exagg_preds.numpy())"
   ]
  },
  {
   "cell_type": "code",
   "execution_count": 260,
   "id": "36064cd1",
   "metadata": {},
   "outputs": [
    {
     "data": {
      "text/plain": [
       "tensor(0.0155)"
      ]
     },
     "execution_count": 260,
     "metadata": {},
     "output_type": "execute_result"
    }
   ],
   "source": [
    "torch.mean(abs(sample_exagg_preds - eq_preds))"
   ]
  },
  {
   "cell_type": "markdown",
   "id": "a315a88e",
   "metadata": {},
   "source": [
    "#### Medium"
   ]
  },
  {
   "cell_type": "code",
   "execution_count": 261,
   "id": "fd666ef9",
   "metadata": {},
   "outputs": [],
   "source": [
    "q_los = [X_train_sample_eq[column].quantile(q=1/4) for column in columns_horse1]\n",
    "q_his = [X_train_sample_eq[column].quantile(q=3/4) for column in columns_horse1]"
   ]
  },
  {
   "cell_type": "code",
   "execution_count": 262,
   "id": "ef2fba3c",
   "metadata": {},
   "outputs": [
    {
     "data": {
      "text/plain": [
       "[0.075,\n",
       " 0.075,\n",
       " 0.075,\n",
       " 0.7829666902316295,\n",
       " 0.7829927883831421,\n",
       " 0.8025404403145713]"
      ]
     },
     "execution_count": 262,
     "metadata": {},
     "output_type": "execute_result"
    }
   ],
   "source": [
    "q_los"
   ]
  },
  {
   "cell_type": "code",
   "execution_count": 263,
   "id": "ffcd8d50",
   "metadata": {},
   "outputs": [
    {
     "data": {
      "text/plain": [
       "[0.2, 0.2, 0.2, 0.7964694140641242, 0.7966756331208951, 0.8167505120709286]"
      ]
     },
     "execution_count": 263,
     "metadata": {},
     "output_type": "execute_result"
    }
   ],
   "source": [
    "q_his"
   ]
  },
  {
   "cell_type": "code",
   "execution_count": 264,
   "id": "92bf3b7c",
   "metadata": {},
   "outputs": [
    {
     "data": {
      "text/plain": [
       "(80067, 96)"
      ]
     },
     "execution_count": 264,
     "metadata": {},
     "output_type": "execute_result"
    }
   ],
   "source": [
    "X_train_sample_exagg = X_train_sample_eq.copy()\n",
    "X_train_sample_exagg.shape"
   ]
  },
  {
   "cell_type": "code",
   "execution_count": 265,
   "id": "43e5a020",
   "metadata": {},
   "outputs": [],
   "source": [
    "for column, q_lo in zip(columns_horse1, q_los):\n",
    "    X_train_sample_exagg[column] = q_lo"
   ]
  },
  {
   "cell_type": "code",
   "execution_count": 266,
   "id": "ad173f63",
   "metadata": {},
   "outputs": [],
   "source": [
    "for column, q_hi in zip(columns_horse2, q_his):\n",
    "    X_train_sample_exagg[column] = q_hi"
   ]
  },
  {
   "cell_type": "code",
   "execution_count": 267,
   "id": "e2174867",
   "metadata": {},
   "outputs": [],
   "source": [
    "X_train_sample_exagg_tensor = torch.from_numpy(X_train_sample_exagg.to_numpy()).float().to(device)"
   ]
  },
  {
   "cell_type": "code",
   "execution_count": 268,
   "id": "9ef909c1",
   "metadata": {},
   "outputs": [],
   "source": [
    "with torch.no_grad():\n",
    "    sample_exagg_preds = torch.sigmoid(net.forward(X_train_sample_exagg_tensor))"
   ]
  },
  {
   "cell_type": "code",
   "execution_count": 269,
   "id": "f77c535b",
   "metadata": {},
   "outputs": [
    {
     "data": {
      "text/plain": [
       "array([[0.62176895],\n",
       "       [0.691687  ],\n",
       "       [0.62226963],\n",
       "       ...,\n",
       "       [0.59067756],\n",
       "       [0.603071  ],\n",
       "       [0.74463534]], dtype=float32)"
      ]
     },
     "execution_count": 269,
     "metadata": {},
     "output_type": "execute_result"
    }
   ],
   "source": [
    "sample_exagg_preds.numpy()"
   ]
  },
  {
   "cell_type": "code",
   "execution_count": 270,
   "id": "6ba6ef3e",
   "metadata": {
    "scrolled": true
   },
   "outputs": [
    {
     "data": {
      "text/plain": [
       "tensor(0.6094)"
      ]
     },
     "execution_count": 270,
     "metadata": {},
     "output_type": "execute_result"
    }
   ],
   "source": [
    "torch.mean(sample_exagg_preds)"
   ]
  },
  {
   "cell_type": "code",
   "execution_count": 271,
   "id": "a0e87eee",
   "metadata": {},
   "outputs": [
    {
     "data": {
      "text/plain": [
       "(array([4.0000e+00, 3.0000e+01, 2.1700e+02, 1.0210e+03, 1.2362e+04,\n",
       "        3.8651e+04, 2.4621e+04, 3.0650e+03, 8.7000e+01, 9.0000e+00]),\n",
       " array([0.1202896 , 0.20612569, 0.29196176, 0.37779784, 0.46363395,\n",
       "        0.54947   , 0.6353061 , 0.7211422 , 0.8069783 , 0.89281434,\n",
       "        0.97865045], dtype=float32),\n",
       " <BarContainer object of 10 artists>)"
      ]
     },
     "execution_count": 271,
     "metadata": {},
     "output_type": "execute_result"
    },
    {
     "data": {
      "image/png": "[encoded data removed]",
      "text/plain": [
       "<Figure size 432x288 with 1 Axes>"
      ]
     },
     "metadata": {
      "needs_background": "light"
     },
     "output_type": "display_data"
    }
   ],
   "source": [
    "plt.hist(sample_exagg_preds.numpy())"
   ]
  },
  {
   "cell_type": "code",
   "execution_count": 272,
   "id": "089d182c",
   "metadata": {},
   "outputs": [
    {
     "data": {
      "text/plain": [
       "tensor(0.0214)"
      ]
     },
     "execution_count": 272,
     "metadata": {},
     "output_type": "execute_result"
    }
   ],
   "source": [
    "torch.mean(abs(sample_exagg_preds - eq_preds))"
   ]
  },
  {
   "cell_type": "markdown",
   "id": "78de909d",
   "metadata": {},
   "source": [
    "#### High"
   ]
  },
  {
   "cell_type": "code",
   "execution_count": 273,
   "id": "2a08616f",
   "metadata": {},
   "outputs": [],
   "source": [
    "q_los = [X_train_sample_eq[column].quantile(q=1/5) for column in columns_horse1]\n",
    "q_his = [X_train_sample_eq[column].quantile(q=4/5) for column in columns_horse1]"
   ]
  },
  {
   "cell_type": "code",
   "execution_count": 274,
   "id": "bd05b804",
   "metadata": {},
   "outputs": [
    {
     "data": {
      "text/plain": [
       "[0.05, 0.05, 0.05, 0.782023198885685, 0.782023198885685, 0.8015733621876803]"
      ]
     },
     "execution_count": 274,
     "metadata": {},
     "output_type": "execute_result"
    }
   ],
   "source": [
    "q_los"
   ]
  },
  {
   "cell_type": "code",
   "execution_count": 275,
   "id": "711bd421",
   "metadata": {},
   "outputs": [
    {
     "data": {
      "text/plain": [
       "[0.225,\n",
       " 0.225,\n",
       " 0.225,\n",
       " 0.7992265147419635,\n",
       " 0.7994385994094895,\n",
       " 0.8195411928068946]"
      ]
     },
     "execution_count": 275,
     "metadata": {},
     "output_type": "execute_result"
    }
   ],
   "source": [
    "q_his"
   ]
  },
  {
   "cell_type": "code",
   "execution_count": 276,
   "id": "b0184fd2",
   "metadata": {},
   "outputs": [
    {
     "data": {
      "text/plain": [
       "(80067, 96)"
      ]
     },
     "execution_count": 276,
     "metadata": {},
     "output_type": "execute_result"
    }
   ],
   "source": [
    "X_train_sample_exagg = X_train_sample_eq.copy()\n",
    "X_train_sample_exagg.shape"
   ]
  },
  {
   "cell_type": "code",
   "execution_count": 277,
   "id": "877c463d",
   "metadata": {},
   "outputs": [],
   "source": [
    "for column, q_lo in zip(columns_horse1, q_los):\n",
    "    X_train_sample_exagg[column] = q_lo"
   ]
  },
  {
   "cell_type": "code",
   "execution_count": 278,
   "id": "8e6ef07e",
   "metadata": {},
   "outputs": [],
   "source": [
    "for column, q_hi in zip(columns_horse2, q_his):\n",
    "    X_train_sample_exagg[column] = q_hi"
   ]
  },
  {
   "cell_type": "code",
   "execution_count": 279,
   "id": "6bcc790d",
   "metadata": {},
   "outputs": [],
   "source": [
    "X_train_sample_exagg_tensor = torch.from_numpy(X_train_sample_exagg.to_numpy()).float().to(device)"
   ]
  },
  {
   "cell_type": "code",
   "execution_count": 280,
   "id": "b9e98353",
   "metadata": {},
   "outputs": [],
   "source": [
    "with torch.no_grad():\n",
    "    sample_exagg_preds = torch.sigmoid(net.forward(X_train_sample_exagg_tensor))"
   ]
  },
  {
   "cell_type": "code",
   "execution_count": 281,
   "id": "31f04f9a",
   "metadata": {},
   "outputs": [
    {
     "data": {
      "text/plain": [
       "array([[0.6311974 ],\n",
       "       [0.7025883 ],\n",
       "       [0.62487286],\n",
       "       ...,\n",
       "       [0.59335583],\n",
       "       [0.6057225 ],\n",
       "       [0.75203085]], dtype=float32)"
      ]
     },
     "execution_count": 281,
     "metadata": {},
     "output_type": "execute_result"
    }
   ],
   "source": [
    "sample_exagg_preds.numpy()"
   ]
  },
  {
   "cell_type": "code",
   "execution_count": 282,
   "id": "7705f333",
   "metadata": {
    "scrolled": true
   },
   "outputs": [
    {
     "data": {
      "text/plain": [
       "tensor(0.6168)"
      ]
     },
     "execution_count": 282,
     "metadata": {},
     "output_type": "execute_result"
    }
   ],
   "source": [
    "torch.mean(sample_exagg_preds)"
   ]
  },
  {
   "cell_type": "code",
   "execution_count": 283,
   "id": "331ab677",
   "metadata": {},
   "outputs": [
    {
     "data": {
      "text/plain": [
       "(array([4.0000e+00, 2.9000e+01, 2.0900e+02, 9.3100e+02, 1.1351e+04,\n",
       "        3.6658e+04, 2.6745e+04, 4.0170e+03, 1.1400e+02, 9.0000e+00]),\n",
       " array([0.12448898, 0.20988493, 0.29528087, 0.38067684, 0.4660728 ,\n",
       "        0.55146873, 0.6368647 , 0.72226065, 0.8076566 , 0.8930526 ,\n",
       "        0.9784485 ], dtype=float32),\n",
       " <BarContainer object of 10 artists>)"
      ]
     },
     "execution_count": 283,
     "metadata": {},
     "output_type": "execute_result"
    },
    {
     "data": {
      "image/png": "[encoded data removed]",
      "text/plain": [
       "<Figure size 432x288 with 1 Axes>"
      ]
     },
     "metadata": {
      "needs_background": "light"
     },
     "output_type": "display_data"
    }
   ],
   "source": [
    "plt.hist(sample_exagg_preds.numpy())"
   ]
  },
  {
   "cell_type": "code",
   "execution_count": 284,
   "id": "35a4ca55",
   "metadata": {},
   "outputs": [
    {
     "data": {
      "text/plain": [
       "tensor(0.0280)"
      ]
     },
     "execution_count": 284,
     "metadata": {},
     "output_type": "execute_result"
    }
   ],
   "source": [
    "torch.mean(abs(sample_exagg_preds - eq_preds))"
   ]
  },
  {
   "cell_type": "markdown",
   "id": "85f16fef",
   "metadata": {},
   "source": [
    "---"
   ]
  }
 ],
 "metadata": {
  "kernelspec": {
   "display_name": "Python 3 (ipykernel)",
   "language": "python",
   "name": "python3"
  },
  "language_info": {
   "codemirror_mode": {
    "name": "ipython",
    "version": 3
   },
   "file_extension": ".py",
   "mimetype": "text/x-python",
   "name": "python",
   "nbconvert_exporter": "python",
   "pygments_lexer": "ipython3",
   "version": "3.9.6"
  }
 },
 "nbformat": 4,
 "nbformat_minor": 5
}
