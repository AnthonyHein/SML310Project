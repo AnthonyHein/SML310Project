{
 "cells": [
  {
   "cell_type": "markdown",
   "id": "7026e67b",
   "metadata": {},
   "source": [
    "# `neural_network_without_race_without_weather_pairwise_winners.ipynb`"
   ]
  },
  {
   "cell_type": "markdown",
   "id": "c052cb33",
   "metadata": {},
   "source": [
    "### Author: Anthony Hein"
   ]
  },
  {
   "cell_type": "markdown",
   "id": "194e2cf5",
   "metadata": {},
   "source": [
    "#### Last updated: 11/14/2021"
   ]
  },
  {
   "cell_type": "markdown",
   "id": "1b86aa88",
   "metadata": {},
   "source": [
    "# Overview:\n",
    "\n",
    "Modify the datasets\n",
    "* `X_train_preprocess_without_race.csv`\n",
    "* `X_dev_preprocess_without_race.csv`\n",
    "* `X_test_preprocess_without_race.csv`\n",
    "\n",
    "such that all features which involve weather are removed. Then use these modified datasets and the targets in\n",
    "* `X_train_pairwise_winner_labels.csv`\n",
    "* `X_dev_pairwise_winner_labels.csv`\n",
    "* `X_test_pairwise_winner_labels.csv`\n",
    "\n",
    "to make a neural network model that tries to predict the pairwise winner between each pair of runners."
   ]
  },
  {
   "cell_type": "markdown",
   "id": "697e80d8",
   "metadata": {},
   "source": [
    "---"
   ]
  },
  {
   "cell_type": "markdown",
   "id": "08164829",
   "metadata": {},
   "source": [
    "## Setup"
   ]
  },
  {
   "cell_type": "code",
   "execution_count": 1,
   "id": "9e9ee6d1",
   "metadata": {},
   "outputs": [],
   "source": [
    "from datetime import datetime\n",
    "import git\n",
    "import os\n",
    "import re\n",
    "from typing import List\n",
    "from sklearn.preprocessing import StandardScaler\n",
    "from tqdm import tqdm\n",
    "import pandas as pd\n",
    "import numpy as np\n",
    "from scipy import stats\n",
    "import matplotlib.pyplot as plt\n",
    "import seaborn as sns\n",
    "%matplotlib inline"
   ]
  },
  {
   "cell_type": "code",
   "execution_count": 2,
   "id": "f013a715",
   "metadata": {},
   "outputs": [
    {
     "data": {
      "text/plain": [
       "'/Users/anthonyhein/Desktop/SML310/project'"
      ]
     },
     "execution_count": 2,
     "metadata": {},
     "output_type": "execute_result"
    }
   ],
   "source": [
    "BASE_DIR = git.Repo(os.getcwd(), search_parent_directories=True).working_dir\n",
    "BASE_DIR"
   ]
  },
  {
   "cell_type": "markdown",
   "id": "900adb93",
   "metadata": {},
   "source": [
    "---"
   ]
  },
  {
   "cell_type": "markdown",
   "id": "a8f4a6a6",
   "metadata": {},
   "source": [
    "## Remove Features that Involve Weather"
   ]
  },
  {
   "cell_type": "code",
   "execution_count": 3,
   "id": "9b454764",
   "metadata": {},
   "outputs": [],
   "source": [
    "drop_cols = [\n",
    "    'horse1_jockey_prev_1_position_temp',\n",
    "    'horse1_jockey_prev_2_position_temp',\n",
    "    'horse1_jockey_prev_3_position_temp',\n",
    "    'horse1_jockey_prev_1_finishing_time_ratio_temp',\n",
    "    'horse1_jockey_prev_2_finishing_time_ratio_temp',\n",
    "    'horse1_jockey_prev_3_finishing_time_ratio_temp',\n",
    "    'horse1_jockey_prev_1_position_msl',\n",
    "    'horse1_jockey_prev_2_position_msl',\n",
    "    'horse1_jockey_prev_3_position_msl',\n",
    "    'horse1_jockey_prev_1_finishing_time_ratio_msl',\n",
    "    'horse1_jockey_prev_2_finishing_time_ratio_msl',\n",
    "    'horse1_jockey_prev_3_finishing_time_ratio_msl',\n",
    "    'horse1_jockey_prev_1_position_rain',\n",
    "    'horse1_jockey_prev_2_position_rain',\n",
    "    'horse1_jockey_prev_3_position_rain',\n",
    "    'horse1_jockey_prev_1_finishing_time_ratio_rain',\n",
    "    'horse1_jockey_prev_2_finishing_time_ratio_rain',\n",
    "    'horse1_jockey_prev_3_finishing_time_ratio_rain',\n",
    "    'horse1_jockey_prev_1_position_rhum',\n",
    "    'horse1_jockey_prev_2_position_rhum',\n",
    "    'horse1_jockey_prev_3_position_rhum',\n",
    "    'horse1_jockey_prev_1_finishing_time_ratio_rhum',\n",
    "    'horse1_jockey_prev_2_finishing_time_ratio_rhum',\n",
    "    'horse1_jockey_prev_3_finishing_time_ratio_rhum',\n",
    "    'horse2_jockey_prev_1_position_temp',\n",
    "    'horse2_jockey_prev_2_position_temp',\n",
    "    'horse2_jockey_prev_3_position_temp',\n",
    "    'horse2_jockey_prev_1_finishing_time_ratio_temp',\n",
    "    'horse2_jockey_prev_2_finishing_time_ratio_temp',\n",
    "    'horse2_jockey_prev_3_finishing_time_ratio_temp',\n",
    "    'horse2_jockey_prev_1_position_msl',\n",
    "    'horse2_jockey_prev_2_position_msl',\n",
    "    'horse2_jockey_prev_3_position_msl',\n",
    "    'horse2_jockey_prev_1_finishing_time_ratio_msl',\n",
    "    'horse2_jockey_prev_2_finishing_time_ratio_msl',\n",
    "    'horse2_jockey_prev_3_finishing_time_ratio_msl',\n",
    "    'horse2_jockey_prev_1_position_rain',\n",
    "    'horse2_jockey_prev_2_position_rain',\n",
    "    'horse2_jockey_prev_3_position_rain',\n",
    "    'horse2_jockey_prev_1_finishing_time_ratio_rain',\n",
    "    'horse2_jockey_prev_2_finishing_time_ratio_rain',\n",
    "    'horse2_jockey_prev_3_finishing_time_ratio_rain',\n",
    "    'horse2_jockey_prev_1_position_rhum',\n",
    "    'horse2_jockey_prev_2_position_rhum',\n",
    "    'horse2_jockey_prev_3_position_rhum',\n",
    "    'horse2_jockey_prev_1_finishing_time_ratio_rhum',\n",
    "    'horse2_jockey_prev_2_finishing_time_ratio_rhum',\n",
    "    'horse2_jockey_prev_3_finishing_time_ratio_rhum'\n",
    "]"
   ]
  },
  {
   "cell_type": "markdown",
   "id": "39c2ddb7",
   "metadata": {},
   "source": [
    "---"
   ]
  },
  {
   "cell_type": "markdown",
   "id": "45d30d31",
   "metadata": {},
   "source": [
    "## Load `X_train_preprocess_without_race.csv`"
   ]
  },
  {
   "cell_type": "code",
   "execution_count": 5,
   "id": "35ede263",
   "metadata": {},
   "outputs": [
    {
     "data": {
      "text/html": [
       "<div>\n",
       "<style scoped>\n",
       "    .dataframe tbody tr th:only-of-type {\n",
       "        vertical-align: middle;\n",
       "    }\n",
       "\n",
       "    .dataframe tbody tr th {\n",
       "        vertical-align: top;\n",
       "    }\n",
       "\n",
       "    .dataframe thead th {\n",
       "        text-align: right;\n",
       "    }\n",
       "</style>\n",
       "<table border=\"1\" class=\"dataframe\">\n",
       "  <thead>\n",
       "    <tr style=\"text-align: right;\">\n",
       "      <th></th>\n",
       "      <th>horse1_age</th>\n",
       "      <th>horse1_saddle</th>\n",
       "      <th>horse1_decimalPrice</th>\n",
       "      <th>horse1_isFav</th>\n",
       "      <th>horse1_outHandicap</th>\n",
       "      <th>horse1_RPR</th>\n",
       "      <th>horse1_weight</th>\n",
       "      <th>horse1_jockey_d_last_race</th>\n",
       "      <th>horse1_jockey_d_first_race</th>\n",
       "      <th>horse1_jockey_prev_1_position</th>\n",
       "      <th>...</th>\n",
       "      <th>horse2_jockey_prev_3_position_rain</th>\n",
       "      <th>horse2_jockey_prev_1_finishing_time_ratio_rain</th>\n",
       "      <th>horse2_jockey_prev_2_finishing_time_ratio_rain</th>\n",
       "      <th>horse2_jockey_prev_3_finishing_time_ratio_rain</th>\n",
       "      <th>horse2_jockey_prev_1_position_rhum</th>\n",
       "      <th>horse2_jockey_prev_2_position_rhum</th>\n",
       "      <th>horse2_jockey_prev_3_position_rhum</th>\n",
       "      <th>horse2_jockey_prev_1_finishing_time_ratio_rhum</th>\n",
       "      <th>horse2_jockey_prev_2_finishing_time_ratio_rhum</th>\n",
       "      <th>horse2_jockey_prev_3_finishing_time_ratio_rhum</th>\n",
       "    </tr>\n",
       "  </thead>\n",
       "  <tbody>\n",
       "    <tr>\n",
       "      <th>0</th>\n",
       "      <td>0.200000</td>\n",
       "      <td>0.230769</td>\n",
       "      <td>0.196970</td>\n",
       "      <td>0.0</td>\n",
       "      <td>0.0</td>\n",
       "      <td>0.73125</td>\n",
       "      <td>0.692308</td>\n",
       "      <td>0.007631</td>\n",
       "      <td>0.236544</td>\n",
       "      <td>0.100</td>\n",
       "      <td>...</td>\n",
       "      <td>0.050</td>\n",
       "      <td>0.805104</td>\n",
       "      <td>0.780139</td>\n",
       "      <td>0.783438</td>\n",
       "      <td>0.100</td>\n",
       "      <td>0.025</td>\n",
       "      <td>0.025</td>\n",
       "      <td>0.805104</td>\n",
       "      <td>0.799642</td>\n",
       "      <td>0.780139</td>\n",
       "    </tr>\n",
       "    <tr>\n",
       "      <th>1</th>\n",
       "      <td>0.400000</td>\n",
       "      <td>0.038462</td>\n",
       "      <td>0.072222</td>\n",
       "      <td>0.0</td>\n",
       "      <td>0.0</td>\n",
       "      <td>0.73125</td>\n",
       "      <td>0.743590</td>\n",
       "      <td>0.005050</td>\n",
       "      <td>0.236544</td>\n",
       "      <td>0.100</td>\n",
       "      <td>...</td>\n",
       "      <td>0.100</td>\n",
       "      <td>0.801416</td>\n",
       "      <td>0.781238</td>\n",
       "      <td>0.794160</td>\n",
       "      <td>0.075</td>\n",
       "      <td>0.050</td>\n",
       "      <td>0.075</td>\n",
       "      <td>0.801416</td>\n",
       "      <td>0.800487</td>\n",
       "      <td>0.785703</td>\n",
       "    </tr>\n",
       "    <tr>\n",
       "      <th>2</th>\n",
       "      <td>0.133333</td>\n",
       "      <td>0.423077</td>\n",
       "      <td>0.098485</td>\n",
       "      <td>0.0</td>\n",
       "      <td>0.0</td>\n",
       "      <td>0.65000</td>\n",
       "      <td>0.705128</td>\n",
       "      <td>0.000740</td>\n",
       "      <td>0.237283</td>\n",
       "      <td>0.025</td>\n",
       "      <td>...</td>\n",
       "      <td>0.100</td>\n",
       "      <td>0.799909</td>\n",
       "      <td>0.780139</td>\n",
       "      <td>0.786816</td>\n",
       "      <td>0.025</td>\n",
       "      <td>0.100</td>\n",
       "      <td>0.025</td>\n",
       "      <td>0.799642</td>\n",
       "      <td>0.806486</td>\n",
       "      <td>0.780139</td>\n",
       "    </tr>\n",
       "    <tr>\n",
       "      <th>3</th>\n",
       "      <td>0.133333</td>\n",
       "      <td>0.423077</td>\n",
       "      <td>0.098485</td>\n",
       "      <td>0.0</td>\n",
       "      <td>0.0</td>\n",
       "      <td>0.65000</td>\n",
       "      <td>0.705128</td>\n",
       "      <td>0.000740</td>\n",
       "      <td>0.237283</td>\n",
       "      <td>0.025</td>\n",
       "      <td>...</td>\n",
       "      <td>0.075</td>\n",
       "      <td>0.800176</td>\n",
       "      <td>0.781623</td>\n",
       "      <td>0.781870</td>\n",
       "      <td>0.050</td>\n",
       "      <td>0.075</td>\n",
       "      <td>0.050</td>\n",
       "      <td>0.801163</td>\n",
       "      <td>0.801416</td>\n",
       "      <td>0.780963</td>\n",
       "    </tr>\n",
       "    <tr>\n",
       "      <th>4</th>\n",
       "      <td>0.133333</td>\n",
       "      <td>0.192308</td>\n",
       "      <td>0.090278</td>\n",
       "      <td>0.0</td>\n",
       "      <td>0.0</td>\n",
       "      <td>0.66250</td>\n",
       "      <td>0.730769</td>\n",
       "      <td>0.000740</td>\n",
       "      <td>0.234655</td>\n",
       "      <td>0.050</td>\n",
       "      <td>...</td>\n",
       "      <td>0.100</td>\n",
       "      <td>0.799642</td>\n",
       "      <td>0.783601</td>\n",
       "      <td>0.785468</td>\n",
       "      <td>0.125</td>\n",
       "      <td>0.100</td>\n",
       "      <td>0.025</td>\n",
       "      <td>0.803191</td>\n",
       "      <td>0.805104</td>\n",
       "      <td>0.780139</td>\n",
       "    </tr>\n",
       "  </tbody>\n",
       "</table>\n",
       "<p>5 rows × 144 columns</p>\n",
       "</div>"
      ],
      "text/plain": [
       "   horse1_age  horse1_saddle  horse1_decimalPrice  horse1_isFav  \\\n",
       "0    0.200000       0.230769             0.196970           0.0   \n",
       "1    0.400000       0.038462             0.072222           0.0   \n",
       "2    0.133333       0.423077             0.098485           0.0   \n",
       "3    0.133333       0.423077             0.098485           0.0   \n",
       "4    0.133333       0.192308             0.090278           0.0   \n",
       "\n",
       "   horse1_outHandicap  horse1_RPR  horse1_weight  horse1_jockey_d_last_race  \\\n",
       "0                 0.0     0.73125       0.692308                   0.007631   \n",
       "1                 0.0     0.73125       0.743590                   0.005050   \n",
       "2                 0.0     0.65000       0.705128                   0.000740   \n",
       "3                 0.0     0.65000       0.705128                   0.000740   \n",
       "4                 0.0     0.66250       0.730769                   0.000740   \n",
       "\n",
       "   horse1_jockey_d_first_race  horse1_jockey_prev_1_position  ...  \\\n",
       "0                    0.236544                          0.100  ...   \n",
       "1                    0.236544                          0.100  ...   \n",
       "2                    0.237283                          0.025  ...   \n",
       "3                    0.237283                          0.025  ...   \n",
       "4                    0.234655                          0.050  ...   \n",
       "\n",
       "   horse2_jockey_prev_3_position_rain  \\\n",
       "0                               0.050   \n",
       "1                               0.100   \n",
       "2                               0.100   \n",
       "3                               0.075   \n",
       "4                               0.100   \n",
       "\n",
       "   horse2_jockey_prev_1_finishing_time_ratio_rain  \\\n",
       "0                                        0.805104   \n",
       "1                                        0.801416   \n",
       "2                                        0.799909   \n",
       "3                                        0.800176   \n",
       "4                                        0.799642   \n",
       "\n",
       "   horse2_jockey_prev_2_finishing_time_ratio_rain  \\\n",
       "0                                        0.780139   \n",
       "1                                        0.781238   \n",
       "2                                        0.780139   \n",
       "3                                        0.781623   \n",
       "4                                        0.783601   \n",
       "\n",
       "   horse2_jockey_prev_3_finishing_time_ratio_rain  \\\n",
       "0                                        0.783438   \n",
       "1                                        0.794160   \n",
       "2                                        0.786816   \n",
       "3                                        0.781870   \n",
       "4                                        0.785468   \n",
       "\n",
       "   horse2_jockey_prev_1_position_rhum  horse2_jockey_prev_2_position_rhum  \\\n",
       "0                               0.100                               0.025   \n",
       "1                               0.075                               0.050   \n",
       "2                               0.025                               0.100   \n",
       "3                               0.050                               0.075   \n",
       "4                               0.125                               0.100   \n",
       "\n",
       "   horse2_jockey_prev_3_position_rhum  \\\n",
       "0                               0.025   \n",
       "1                               0.075   \n",
       "2                               0.025   \n",
       "3                               0.050   \n",
       "4                               0.025   \n",
       "\n",
       "   horse2_jockey_prev_1_finishing_time_ratio_rhum  \\\n",
       "0                                        0.805104   \n",
       "1                                        0.801416   \n",
       "2                                        0.799642   \n",
       "3                                        0.801163   \n",
       "4                                        0.803191   \n",
       "\n",
       "   horse2_jockey_prev_2_finishing_time_ratio_rhum  \\\n",
       "0                                        0.799642   \n",
       "1                                        0.800487   \n",
       "2                                        0.806486   \n",
       "3                                        0.801416   \n",
       "4                                        0.805104   \n",
       "\n",
       "   horse2_jockey_prev_3_finishing_time_ratio_rhum  \n",
       "0                                        0.780139  \n",
       "1                                        0.785703  \n",
       "2                                        0.780139  \n",
       "3                                        0.780963  \n",
       "4                                        0.780139  \n",
       "\n",
       "[5 rows x 144 columns]"
      ]
     },
     "execution_count": 5,
     "metadata": {},
     "output_type": "execute_result"
    }
   ],
   "source": [
    "X_train = pd.read_csv(f\"{BASE_DIR}/data/analysis/X_train_preprocess_without_race.csv\", low_memory=False)\n",
    "X_train.head()"
   ]
  },
  {
   "cell_type": "code",
   "execution_count": 6,
   "id": "d78800c0",
   "metadata": {},
   "outputs": [
    {
     "data": {
      "text/plain": [
       "(800666, 144)"
      ]
     },
     "execution_count": 6,
     "metadata": {},
     "output_type": "execute_result"
    }
   ],
   "source": [
    "X_train.shape"
   ]
  },
  {
   "cell_type": "code",
   "execution_count": 7,
   "id": "34ec80ab",
   "metadata": {
    "scrolled": false
   },
   "outputs": [
    {
     "data": {
      "text/plain": [
       "(800666, 96)"
      ]
     },
     "execution_count": 7,
     "metadata": {},
     "output_type": "execute_result"
    }
   ],
   "source": [
    "X_train = X_train.drop(columns=drop_cols)\n",
    "X_train.shape"
   ]
  },
  {
   "cell_type": "markdown",
   "id": "c4172c0e",
   "metadata": {},
   "source": [
    "---"
   ]
  },
  {
   "cell_type": "markdown",
   "id": "9ea983d7",
   "metadata": {},
   "source": [
    "## Load `X_dev_preprocess_without_race.csv`"
   ]
  },
  {
   "cell_type": "code",
   "execution_count": 8,
   "id": "c1e8ae98",
   "metadata": {},
   "outputs": [
    {
     "data": {
      "text/html": [
       "<div>\n",
       "<style scoped>\n",
       "    .dataframe tbody tr th:only-of-type {\n",
       "        vertical-align: middle;\n",
       "    }\n",
       "\n",
       "    .dataframe tbody tr th {\n",
       "        vertical-align: top;\n",
       "    }\n",
       "\n",
       "    .dataframe thead th {\n",
       "        text-align: right;\n",
       "    }\n",
       "</style>\n",
       "<table border=\"1\" class=\"dataframe\">\n",
       "  <thead>\n",
       "    <tr style=\"text-align: right;\">\n",
       "      <th></th>\n",
       "      <th>horse1_age</th>\n",
       "      <th>horse1_saddle</th>\n",
       "      <th>horse1_decimalPrice</th>\n",
       "      <th>horse1_isFav</th>\n",
       "      <th>horse1_outHandicap</th>\n",
       "      <th>horse1_RPR</th>\n",
       "      <th>horse1_weight</th>\n",
       "      <th>horse1_jockey_d_last_race</th>\n",
       "      <th>horse1_jockey_d_first_race</th>\n",
       "      <th>horse1_jockey_prev_1_position</th>\n",
       "      <th>...</th>\n",
       "      <th>horse2_jockey_prev_3_position_rain</th>\n",
       "      <th>horse2_jockey_prev_1_finishing_time_ratio_rain</th>\n",
       "      <th>horse2_jockey_prev_2_finishing_time_ratio_rain</th>\n",
       "      <th>horse2_jockey_prev_3_finishing_time_ratio_rain</th>\n",
       "      <th>horse2_jockey_prev_1_position_rhum</th>\n",
       "      <th>horse2_jockey_prev_2_position_rhum</th>\n",
       "      <th>horse2_jockey_prev_3_position_rhum</th>\n",
       "      <th>horse2_jockey_prev_1_finishing_time_ratio_rhum</th>\n",
       "      <th>horse2_jockey_prev_2_finishing_time_ratio_rhum</th>\n",
       "      <th>horse2_jockey_prev_3_finishing_time_ratio_rhum</th>\n",
       "    </tr>\n",
       "  </thead>\n",
       "  <tbody>\n",
       "    <tr>\n",
       "      <th>0</th>\n",
       "      <td>0.285714</td>\n",
       "      <td>0.105263</td>\n",
       "      <td>0.200000</td>\n",
       "      <td>0.0</td>\n",
       "      <td>0.0</td>\n",
       "      <td>0.608392</td>\n",
       "      <td>0.769231</td>\n",
       "      <td>0.001516</td>\n",
       "      <td>0.629407</td>\n",
       "      <td>0.250</td>\n",
       "      <td>...</td>\n",
       "      <td>0.200</td>\n",
       "      <td>0.828972</td>\n",
       "      <td>0.837641</td>\n",
       "      <td>0.843255</td>\n",
       "      <td>0.075</td>\n",
       "      <td>0.050</td>\n",
       "      <td>0.275</td>\n",
       "      <td>0.834583</td>\n",
       "      <td>0.828972</td>\n",
       "      <td>0.853796</td>\n",
       "    </tr>\n",
       "    <tr>\n",
       "      <th>1</th>\n",
       "      <td>0.285714</td>\n",
       "      <td>0.210526</td>\n",
       "      <td>0.157143</td>\n",
       "      <td>0.0</td>\n",
       "      <td>0.0</td>\n",
       "      <td>0.258741</td>\n",
       "      <td>0.769231</td>\n",
       "      <td>0.000445</td>\n",
       "      <td>0.286087</td>\n",
       "      <td>0.075</td>\n",
       "      <td>...</td>\n",
       "      <td>0.075</td>\n",
       "      <td>0.826039</td>\n",
       "      <td>0.826039</td>\n",
       "      <td>0.842799</td>\n",
       "      <td>0.025</td>\n",
       "      <td>0.025</td>\n",
       "      <td>0.075</td>\n",
       "      <td>0.826039</td>\n",
       "      <td>0.826039</td>\n",
       "      <td>0.842799</td>\n",
       "    </tr>\n",
       "    <tr>\n",
       "      <th>2</th>\n",
       "      <td>0.285714</td>\n",
       "      <td>0.210526</td>\n",
       "      <td>0.157143</td>\n",
       "      <td>0.0</td>\n",
       "      <td>0.0</td>\n",
       "      <td>0.258741</td>\n",
       "      <td>0.769231</td>\n",
       "      <td>0.000445</td>\n",
       "      <td>0.286087</td>\n",
       "      <td>0.075</td>\n",
       "      <td>...</td>\n",
       "      <td>0.125</td>\n",
       "      <td>0.826413</td>\n",
       "      <td>0.841758</td>\n",
       "      <td>0.844367</td>\n",
       "      <td>0.125</td>\n",
       "      <td>0.050</td>\n",
       "      <td>0.275</td>\n",
       "      <td>0.843955</td>\n",
       "      <td>0.826413</td>\n",
       "      <td>0.841758</td>\n",
       "    </tr>\n",
       "    <tr>\n",
       "      <th>3</th>\n",
       "      <td>0.285714</td>\n",
       "      <td>0.210526</td>\n",
       "      <td>0.157143</td>\n",
       "      <td>0.0</td>\n",
       "      <td>0.0</td>\n",
       "      <td>0.258741</td>\n",
       "      <td>0.769231</td>\n",
       "      <td>0.000445</td>\n",
       "      <td>0.286087</td>\n",
       "      <td>0.075</td>\n",
       "      <td>...</td>\n",
       "      <td>0.050</td>\n",
       "      <td>0.832401</td>\n",
       "      <td>0.832114</td>\n",
       "      <td>0.828366</td>\n",
       "      <td>0.100</td>\n",
       "      <td>0.075</td>\n",
       "      <td>0.050</td>\n",
       "      <td>0.832401</td>\n",
       "      <td>0.837064</td>\n",
       "      <td>0.828519</td>\n",
       "    </tr>\n",
       "    <tr>\n",
       "      <th>4</th>\n",
       "      <td>0.285714</td>\n",
       "      <td>0.210526</td>\n",
       "      <td>0.157143</td>\n",
       "      <td>0.0</td>\n",
       "      <td>0.0</td>\n",
       "      <td>0.258741</td>\n",
       "      <td>0.769231</td>\n",
       "      <td>0.000445</td>\n",
       "      <td>0.286087</td>\n",
       "      <td>0.075</td>\n",
       "      <td>...</td>\n",
       "      <td>0.175</td>\n",
       "      <td>0.857255</td>\n",
       "      <td>0.835266</td>\n",
       "      <td>0.834946</td>\n",
       "      <td>0.150</td>\n",
       "      <td>0.025</td>\n",
       "      <td>0.200</td>\n",
       "      <td>0.857255</td>\n",
       "      <td>0.826039</td>\n",
       "      <td>0.837392</td>\n",
       "    </tr>\n",
       "  </tbody>\n",
       "</table>\n",
       "<p>5 rows × 144 columns</p>\n",
       "</div>"
      ],
      "text/plain": [
       "   horse1_age  horse1_saddle  horse1_decimalPrice  horse1_isFav  \\\n",
       "0    0.285714       0.105263             0.200000           0.0   \n",
       "1    0.285714       0.210526             0.157143           0.0   \n",
       "2    0.285714       0.210526             0.157143           0.0   \n",
       "3    0.285714       0.210526             0.157143           0.0   \n",
       "4    0.285714       0.210526             0.157143           0.0   \n",
       "\n",
       "   horse1_outHandicap  horse1_RPR  horse1_weight  horse1_jockey_d_last_race  \\\n",
       "0                 0.0    0.608392       0.769231                   0.001516   \n",
       "1                 0.0    0.258741       0.769231                   0.000445   \n",
       "2                 0.0    0.258741       0.769231                   0.000445   \n",
       "3                 0.0    0.258741       0.769231                   0.000445   \n",
       "4                 0.0    0.258741       0.769231                   0.000445   \n",
       "\n",
       "   horse1_jockey_d_first_race  horse1_jockey_prev_1_position  ...  \\\n",
       "0                    0.629407                          0.250  ...   \n",
       "1                    0.286087                          0.075  ...   \n",
       "2                    0.286087                          0.075  ...   \n",
       "3                    0.286087                          0.075  ...   \n",
       "4                    0.286087                          0.075  ...   \n",
       "\n",
       "   horse2_jockey_prev_3_position_rain  \\\n",
       "0                               0.200   \n",
       "1                               0.075   \n",
       "2                               0.125   \n",
       "3                               0.050   \n",
       "4                               0.175   \n",
       "\n",
       "   horse2_jockey_prev_1_finishing_time_ratio_rain  \\\n",
       "0                                        0.828972   \n",
       "1                                        0.826039   \n",
       "2                                        0.826413   \n",
       "3                                        0.832401   \n",
       "4                                        0.857255   \n",
       "\n",
       "   horse2_jockey_prev_2_finishing_time_ratio_rain  \\\n",
       "0                                        0.837641   \n",
       "1                                        0.826039   \n",
       "2                                        0.841758   \n",
       "3                                        0.832114   \n",
       "4                                        0.835266   \n",
       "\n",
       "   horse2_jockey_prev_3_finishing_time_ratio_rain  \\\n",
       "0                                        0.843255   \n",
       "1                                        0.842799   \n",
       "2                                        0.844367   \n",
       "3                                        0.828366   \n",
       "4                                        0.834946   \n",
       "\n",
       "   horse2_jockey_prev_1_position_rhum  horse2_jockey_prev_2_position_rhum  \\\n",
       "0                               0.075                               0.050   \n",
       "1                               0.025                               0.025   \n",
       "2                               0.125                               0.050   \n",
       "3                               0.100                               0.075   \n",
       "4                               0.150                               0.025   \n",
       "\n",
       "   horse2_jockey_prev_3_position_rhum  \\\n",
       "0                               0.275   \n",
       "1                               0.075   \n",
       "2                               0.275   \n",
       "3                               0.050   \n",
       "4                               0.200   \n",
       "\n",
       "   horse2_jockey_prev_1_finishing_time_ratio_rhum  \\\n",
       "0                                        0.834583   \n",
       "1                                        0.826039   \n",
       "2                                        0.843955   \n",
       "3                                        0.832401   \n",
       "4                                        0.857255   \n",
       "\n",
       "   horse2_jockey_prev_2_finishing_time_ratio_rhum  \\\n",
       "0                                        0.828972   \n",
       "1                                        0.826039   \n",
       "2                                        0.826413   \n",
       "3                                        0.837064   \n",
       "4                                        0.826039   \n",
       "\n",
       "   horse2_jockey_prev_3_finishing_time_ratio_rhum  \n",
       "0                                        0.853796  \n",
       "1                                        0.842799  \n",
       "2                                        0.841758  \n",
       "3                                        0.828519  \n",
       "4                                        0.837392  \n",
       "\n",
       "[5 rows x 144 columns]"
      ]
     },
     "execution_count": 8,
     "metadata": {},
     "output_type": "execute_result"
    }
   ],
   "source": [
    "X_dev = pd.read_csv(f\"{BASE_DIR}/data/analysis/X_dev_preprocess_without_race.csv\", low_memory=False)\n",
    "X_dev.head()"
   ]
  },
  {
   "cell_type": "code",
   "execution_count": 9,
   "id": "1c73a76b",
   "metadata": {
    "scrolled": true
   },
   "outputs": [
    {
     "data": {
      "text/plain": [
       "(228766, 144)"
      ]
     },
     "execution_count": 9,
     "metadata": {},
     "output_type": "execute_result"
    }
   ],
   "source": [
    "X_dev.shape"
   ]
  },
  {
   "cell_type": "code",
   "execution_count": 10,
   "id": "bc7907c1",
   "metadata": {},
   "outputs": [
    {
     "data": {
      "text/plain": [
       "(228766, 96)"
      ]
     },
     "execution_count": 10,
     "metadata": {},
     "output_type": "execute_result"
    }
   ],
   "source": [
    "X_dev = X_dev.drop(columns=drop_cols)\n",
    "X_dev.shape"
   ]
  },
  {
   "cell_type": "markdown",
   "id": "06e5b3fb",
   "metadata": {},
   "source": [
    "---"
   ]
  },
  {
   "cell_type": "markdown",
   "id": "c7e37d95",
   "metadata": {},
   "source": [
    "## Load `X_test_preprocess_without_race.csv`"
   ]
  },
  {
   "cell_type": "code",
   "execution_count": 11,
   "id": "185675a2",
   "metadata": {},
   "outputs": [
    {
     "data": {
      "text/html": [
       "<div>\n",
       "<style scoped>\n",
       "    .dataframe tbody tr th:only-of-type {\n",
       "        vertical-align: middle;\n",
       "    }\n",
       "\n",
       "    .dataframe tbody tr th {\n",
       "        vertical-align: top;\n",
       "    }\n",
       "\n",
       "    .dataframe thead th {\n",
       "        text-align: right;\n",
       "    }\n",
       "</style>\n",
       "<table border=\"1\" class=\"dataframe\">\n",
       "  <thead>\n",
       "    <tr style=\"text-align: right;\">\n",
       "      <th></th>\n",
       "      <th>horse1_age</th>\n",
       "      <th>horse1_saddle</th>\n",
       "      <th>horse1_decimalPrice</th>\n",
       "      <th>horse1_isFav</th>\n",
       "      <th>horse1_outHandicap</th>\n",
       "      <th>horse1_RPR</th>\n",
       "      <th>horse1_weight</th>\n",
       "      <th>horse1_jockey_d_last_race</th>\n",
       "      <th>horse1_jockey_d_first_race</th>\n",
       "      <th>horse1_jockey_prev_1_position</th>\n",
       "      <th>...</th>\n",
       "      <th>horse2_jockey_prev_3_position_rain</th>\n",
       "      <th>horse2_jockey_prev_1_finishing_time_ratio_rain</th>\n",
       "      <th>horse2_jockey_prev_2_finishing_time_ratio_rain</th>\n",
       "      <th>horse2_jockey_prev_3_finishing_time_ratio_rain</th>\n",
       "      <th>horse2_jockey_prev_1_position_rhum</th>\n",
       "      <th>horse2_jockey_prev_2_position_rhum</th>\n",
       "      <th>horse2_jockey_prev_3_position_rhum</th>\n",
       "      <th>horse2_jockey_prev_1_finishing_time_ratio_rhum</th>\n",
       "      <th>horse2_jockey_prev_2_finishing_time_ratio_rhum</th>\n",
       "      <th>horse2_jockey_prev_3_finishing_time_ratio_rhum</th>\n",
       "    </tr>\n",
       "  </thead>\n",
       "  <tbody>\n",
       "    <tr>\n",
       "      <th>0</th>\n",
       "      <td>0.230769</td>\n",
       "      <td>0.333333</td>\n",
       "      <td>0.03268</td>\n",
       "      <td>0.0</td>\n",
       "      <td>0.0</td>\n",
       "      <td>0.344828</td>\n",
       "      <td>0.74359</td>\n",
       "      <td>0.001053</td>\n",
       "      <td>0.49501</td>\n",
       "      <td>0.225</td>\n",
       "      <td>...</td>\n",
       "      <td>0.200</td>\n",
       "      <td>0.865544</td>\n",
       "      <td>0.847264</td>\n",
       "      <td>0.853154</td>\n",
       "      <td>0.025</td>\n",
       "      <td>0.200</td>\n",
       "      <td>0.300</td>\n",
       "      <td>0.840533</td>\n",
       "      <td>0.850856</td>\n",
       "      <td>0.864844</td>\n",
       "    </tr>\n",
       "    <tr>\n",
       "      <th>1</th>\n",
       "      <td>0.230769</td>\n",
       "      <td>0.333333</td>\n",
       "      <td>0.03268</td>\n",
       "      <td>0.0</td>\n",
       "      <td>0.0</td>\n",
       "      <td>0.344828</td>\n",
       "      <td>0.74359</td>\n",
       "      <td>0.001053</td>\n",
       "      <td>0.49501</td>\n",
       "      <td>0.225</td>\n",
       "      <td>...</td>\n",
       "      <td>0.150</td>\n",
       "      <td>0.864781</td>\n",
       "      <td>0.840533</td>\n",
       "      <td>0.855519</td>\n",
       "      <td>0.025</td>\n",
       "      <td>0.025</td>\n",
       "      <td>0.025</td>\n",
       "      <td>0.840533</td>\n",
       "      <td>0.840533</td>\n",
       "      <td>0.840533</td>\n",
       "    </tr>\n",
       "    <tr>\n",
       "      <th>2</th>\n",
       "      <td>0.230769</td>\n",
       "      <td>0.333333</td>\n",
       "      <td>0.03268</td>\n",
       "      <td>0.0</td>\n",
       "      <td>0.0</td>\n",
       "      <td>0.344828</td>\n",
       "      <td>0.74359</td>\n",
       "      <td>0.001053</td>\n",
       "      <td>0.49501</td>\n",
       "      <td>0.225</td>\n",
       "      <td>...</td>\n",
       "      <td>0.075</td>\n",
       "      <td>0.838534</td>\n",
       "      <td>0.843337</td>\n",
       "      <td>0.846422</td>\n",
       "      <td>0.200</td>\n",
       "      <td>0.100</td>\n",
       "      <td>0.125</td>\n",
       "      <td>0.853412</td>\n",
       "      <td>0.842583</td>\n",
       "      <td>0.847859</td>\n",
       "    </tr>\n",
       "    <tr>\n",
       "      <th>3</th>\n",
       "      <td>0.230769</td>\n",
       "      <td>0.333333</td>\n",
       "      <td>0.03268</td>\n",
       "      <td>0.0</td>\n",
       "      <td>0.0</td>\n",
       "      <td>0.344828</td>\n",
       "      <td>0.74359</td>\n",
       "      <td>0.001053</td>\n",
       "      <td>0.49501</td>\n",
       "      <td>0.225</td>\n",
       "      <td>...</td>\n",
       "      <td>0.250</td>\n",
       "      <td>0.851685</td>\n",
       "      <td>0.849673</td>\n",
       "      <td>0.854624</td>\n",
       "      <td>0.150</td>\n",
       "      <td>0.250</td>\n",
       "      <td>0.200</td>\n",
       "      <td>0.849673</td>\n",
       "      <td>0.854624</td>\n",
       "      <td>0.858051</td>\n",
       "    </tr>\n",
       "    <tr>\n",
       "      <th>4</th>\n",
       "      <td>0.230769</td>\n",
       "      <td>0.333333</td>\n",
       "      <td>0.03268</td>\n",
       "      <td>0.0</td>\n",
       "      <td>0.0</td>\n",
       "      <td>0.344828</td>\n",
       "      <td>0.74359</td>\n",
       "      <td>0.001053</td>\n",
       "      <td>0.49501</td>\n",
       "      <td>0.225</td>\n",
       "      <td>...</td>\n",
       "      <td>0.250</td>\n",
       "      <td>0.847892</td>\n",
       "      <td>0.842776</td>\n",
       "      <td>0.862423</td>\n",
       "      <td>0.175</td>\n",
       "      <td>0.075</td>\n",
       "      <td>0.275</td>\n",
       "      <td>0.853634</td>\n",
       "      <td>0.844529</td>\n",
       "      <td>0.862845</td>\n",
       "    </tr>\n",
       "  </tbody>\n",
       "</table>\n",
       "<p>5 rows × 144 columns</p>\n",
       "</div>"
      ],
      "text/plain": [
       "   horse1_age  horse1_saddle  horse1_decimalPrice  horse1_isFav  \\\n",
       "0    0.230769       0.333333              0.03268           0.0   \n",
       "1    0.230769       0.333333              0.03268           0.0   \n",
       "2    0.230769       0.333333              0.03268           0.0   \n",
       "3    0.230769       0.333333              0.03268           0.0   \n",
       "4    0.230769       0.333333              0.03268           0.0   \n",
       "\n",
       "   horse1_outHandicap  horse1_RPR  horse1_weight  horse1_jockey_d_last_race  \\\n",
       "0                 0.0    0.344828        0.74359                   0.001053   \n",
       "1                 0.0    0.344828        0.74359                   0.001053   \n",
       "2                 0.0    0.344828        0.74359                   0.001053   \n",
       "3                 0.0    0.344828        0.74359                   0.001053   \n",
       "4                 0.0    0.344828        0.74359                   0.001053   \n",
       "\n",
       "   horse1_jockey_d_first_race  horse1_jockey_prev_1_position  ...  \\\n",
       "0                     0.49501                          0.225  ...   \n",
       "1                     0.49501                          0.225  ...   \n",
       "2                     0.49501                          0.225  ...   \n",
       "3                     0.49501                          0.225  ...   \n",
       "4                     0.49501                          0.225  ...   \n",
       "\n",
       "   horse2_jockey_prev_3_position_rain  \\\n",
       "0                               0.200   \n",
       "1                               0.150   \n",
       "2                               0.075   \n",
       "3                               0.250   \n",
       "4                               0.250   \n",
       "\n",
       "   horse2_jockey_prev_1_finishing_time_ratio_rain  \\\n",
       "0                                        0.865544   \n",
       "1                                        0.864781   \n",
       "2                                        0.838534   \n",
       "3                                        0.851685   \n",
       "4                                        0.847892   \n",
       "\n",
       "   horse2_jockey_prev_2_finishing_time_ratio_rain  \\\n",
       "0                                        0.847264   \n",
       "1                                        0.840533   \n",
       "2                                        0.843337   \n",
       "3                                        0.849673   \n",
       "4                                        0.842776   \n",
       "\n",
       "   horse2_jockey_prev_3_finishing_time_ratio_rain  \\\n",
       "0                                        0.853154   \n",
       "1                                        0.855519   \n",
       "2                                        0.846422   \n",
       "3                                        0.854624   \n",
       "4                                        0.862423   \n",
       "\n",
       "   horse2_jockey_prev_1_position_rhum  horse2_jockey_prev_2_position_rhum  \\\n",
       "0                               0.025                               0.200   \n",
       "1                               0.025                               0.025   \n",
       "2                               0.200                               0.100   \n",
       "3                               0.150                               0.250   \n",
       "4                               0.175                               0.075   \n",
       "\n",
       "   horse2_jockey_prev_3_position_rhum  \\\n",
       "0                               0.300   \n",
       "1                               0.025   \n",
       "2                               0.125   \n",
       "3                               0.200   \n",
       "4                               0.275   \n",
       "\n",
       "   horse2_jockey_prev_1_finishing_time_ratio_rhum  \\\n",
       "0                                        0.840533   \n",
       "1                                        0.840533   \n",
       "2                                        0.853412   \n",
       "3                                        0.849673   \n",
       "4                                        0.853634   \n",
       "\n",
       "   horse2_jockey_prev_2_finishing_time_ratio_rhum  \\\n",
       "0                                        0.850856   \n",
       "1                                        0.840533   \n",
       "2                                        0.842583   \n",
       "3                                        0.854624   \n",
       "4                                        0.844529   \n",
       "\n",
       "   horse2_jockey_prev_3_finishing_time_ratio_rhum  \n",
       "0                                        0.864844  \n",
       "1                                        0.840533  \n",
       "2                                        0.847859  \n",
       "3                                        0.858051  \n",
       "4                                        0.862845  \n",
       "\n",
       "[5 rows x 144 columns]"
      ]
     },
     "execution_count": 11,
     "metadata": {},
     "output_type": "execute_result"
    }
   ],
   "source": [
    "X_test = pd.read_csv(f\"{BASE_DIR}/data/analysis/X_test_preprocess_without_race.csv\", low_memory=False)\n",
    "X_test.head()"
   ]
  },
  {
   "cell_type": "code",
   "execution_count": 12,
   "id": "7a72f6b6",
   "metadata": {},
   "outputs": [
    {
     "data": {
      "text/plain": [
       "(114392, 144)"
      ]
     },
     "execution_count": 12,
     "metadata": {},
     "output_type": "execute_result"
    }
   ],
   "source": [
    "X_test.shape"
   ]
  },
  {
   "cell_type": "code",
   "execution_count": 13,
   "id": "27d56afd",
   "metadata": {},
   "outputs": [
    {
     "data": {
      "text/plain": [
       "(114392, 96)"
      ]
     },
     "execution_count": 13,
     "metadata": {},
     "output_type": "execute_result"
    }
   ],
   "source": [
    "X_test = X_test.drop(columns=drop_cols)\n",
    "X_test.shape"
   ]
  },
  {
   "cell_type": "markdown",
   "id": "d2e418d3",
   "metadata": {},
   "source": [
    "---"
   ]
  },
  {
   "cell_type": "markdown",
   "id": "f07c04f4",
   "metadata": {},
   "source": [
    "## Load Pairwise Winner Labels"
   ]
  },
  {
   "cell_type": "code",
   "execution_count": 14,
   "id": "26f47c5c",
   "metadata": {},
   "outputs": [],
   "source": [
    "X_train_pairwise_winner_labels = np.loadtxt(f\"{BASE_DIR}/data/analysis/x_train_pairwise_winner_labels.csv\",\n",
    "                                            dtype=int,\n",
    "                                            delimiter=',')"
   ]
  },
  {
   "cell_type": "code",
   "execution_count": 15,
   "id": "ef6c4090",
   "metadata": {},
   "outputs": [],
   "source": [
    "X_dev_pairwise_winner_labels = np.loadtxt(f\"{BASE_DIR}/data/analysis/X_dev_pairwise_winner_labels.csv\",\n",
    "                                          dtype=int,\n",
    "                                          delimiter=',')"
   ]
  },
  {
   "cell_type": "code",
   "execution_count": 16,
   "id": "89302808",
   "metadata": {},
   "outputs": [],
   "source": [
    "X_test_pairwise_winner_labels = np.loadtxt(f\"{BASE_DIR}/data/analysis/X_test_pairwise_winner_labels.csv\",\n",
    "                                           dtype=int,\n",
    "                                           delimiter=',')"
   ]
  },
  {
   "cell_type": "markdown",
   "id": "4c8b55dc",
   "metadata": {},
   "source": [
    "## Neural Network Architecture"
   ]
  },
  {
   "cell_type": "code",
   "execution_count": 17,
   "id": "53741379",
   "metadata": {},
   "outputs": [],
   "source": [
    "import torch\n",
    "import torch.nn as nn\n",
    "import torch.optim as optim\n",
    "from torch.utils.data import DataLoader\n",
    "\n",
    "# Set the device to use\n",
    "# CUDA refers to the GPU\n",
    "device = torch.device(\"cuda:0\" if torch.cuda.is_available() else \"cpu\")\n",
    "\n",
    "## Fixing Random Seed for Reproducibility\n",
    "torch.manual_seed(0)\n",
    "np.random.seed(0)"
   ]
  },
  {
   "cell_type": "code",
   "execution_count": 18,
   "id": "c7712817",
   "metadata": {},
   "outputs": [],
   "source": [
    "X_train_tensor = torch.from_numpy(X_train.to_numpy()).float().to(device)\n",
    "\n",
    "y_train_tensor = torch.from_numpy(X_train_pairwise_winner_labels).float().to(device)\n",
    "y_train_tensor = torch.reshape(y_train_tensor, (-1, 1))\n",
    "\n",
    "X_dev_tensor = torch.from_numpy(X_dev.to_numpy()).float().to(device)\n",
    "\n",
    "y_dev_tensor = torch.from_numpy(X_dev_pairwise_winner_labels).float().to(device)\n",
    "y_dev_tensor = torch.reshape(y_dev_tensor, (-1, 1))"
   ]
  },
  {
   "cell_type": "code",
   "execution_count": 19,
   "id": "fe473d81",
   "metadata": {},
   "outputs": [],
   "source": [
    "X_train_dataset = list(zip(X_train_tensor, y_train_tensor))\n",
    "X_dev_dataset = list(zip(X_dev_tensor, y_dev_tensor))"
   ]
  },
  {
   "cell_type": "code",
   "execution_count": 20,
   "id": "776d4b24",
   "metadata": {},
   "outputs": [],
   "source": [
    "class Net(nn.Module):\n",
    "    def __init__(self, input_size, num_layers, layers_size):\n",
    "        super(Net, self).__init__()\n",
    "        self.hidden_layers = nn.ModuleList([nn.Linear(input_size, layers_size)])\n",
    "        self.hidden_layers.extend([nn.Linear(layers_size, layers_size) for i in range(1, num_layers-1)])\n",
    "        self.output = nn.Linear(layers_size, 1)\n",
    "        self.activation = nn.ReLU()\n",
    "    \n",
    "    def forward(self, x):\n",
    "        z = x\n",
    "        for layer in self.hidden_layers:\n",
    "            z = self.activation(layer(z))\n",
    "        return self.output(z)"
   ]
  },
  {
   "cell_type": "code",
   "execution_count": 21,
   "id": "92137cd3",
   "metadata": {},
   "outputs": [],
   "source": [
    "class Trainer():\n",
    "    def __init__(self, net, optim, loss_function, train_loader):\n",
    "        self.net = net\n",
    "        self.optim = optim\n",
    "        self.loss_function = loss_function\n",
    "        self.train_loader = train_loader\n",
    "\n",
    "    def train(self, epochs, verbose=True):\n",
    "        losses = []\n",
    "        for epoch in range(epochs):\n",
    "            epoch_loss = 0.0\n",
    "            epoch_steps = 0\n",
    "            for data in self.train_loader:\n",
    "                \n",
    "                X = data[0].to(device)\n",
    "                y = data[1].to(device)\n",
    "                \n",
    "                self.optim.zero_grad()\n",
    "\n",
    "                preds = self.net.forward(X)\n",
    "\n",
    "                loss = self.loss_function(preds, y)\n",
    "\n",
    "                loss.backward()\n",
    "\n",
    "                self.optim.step()\n",
    "\n",
    "                epoch_loss += loss.item()\n",
    "                epoch_steps += 1\n",
    "\n",
    "            losses.append(epoch_loss / epoch_steps)\n",
    "            if verbose: print(\"epoch [%d]: loss %.3f\" % (epoch+1, losses[-1]))\n",
    "        return losses"
   ]
  },
  {
   "cell_type": "code",
   "execution_count": 22,
   "id": "44c2cfe9",
   "metadata": {},
   "outputs": [],
   "source": [
    "## Hyperparameters\n",
    "\n",
    "num_epochs = 10\n",
    "batch_size = 256\n",
    "learning_rate = 0.02"
   ]
  },
  {
   "cell_type": "code",
   "execution_count": 23,
   "id": "ca4b2b96",
   "metadata": {},
   "outputs": [],
   "source": [
    "train_loader = DataLoader(dataset=X_train_dataset, batch_size=batch_size, shuffle=True, num_workers=0)\n",
    "dev_loader = DataLoader(dataset=X_dev_dataset, batch_size=batch_size, shuffle=False, num_workers=0)"
   ]
  },
  {
   "cell_type": "code",
   "execution_count": 24,
   "id": "309a878c",
   "metadata": {},
   "outputs": [
    {
     "name": "stdout",
     "output_type": "stream",
     "text": [
      "epoch [1]: loss 0.218\n",
      "epoch [2]: loss 0.176\n",
      "epoch [3]: loss 0.164\n",
      "epoch [4]: loss 0.156\n",
      "epoch [5]: loss 0.151\n",
      "epoch [6]: loss 0.146\n",
      "epoch [7]: loss 0.145\n",
      "epoch [8]: loss 0.140\n",
      "epoch [9]: loss 0.139\n",
      "epoch [10]: loss 0.137\n"
     ]
    }
   ],
   "source": [
    "net = Net(X_train_tensor.shape[1], 1, 750)\n",
    "net = net.to(device)\n",
    "opt = optim.Adam(net.parameters(), lr=learning_rate)\n",
    "loss_function = nn.BCEWithLogitsLoss()\n",
    "\n",
    "trainer = Trainer(net=net, optim=opt, loss_function=loss_function, train_loader=train_loader)\n",
    "\n",
    "losses = trainer.train(num_epochs)"
   ]
  },
  {
   "cell_type": "markdown",
   "id": "57bed52f",
   "metadata": {},
   "source": [
    "Good hyperparameters:\n",
    "\n",
    "* num_epochs = 15, batch_size = 256, learning_rate = 0.02, Net(X_train_tensor.shape[1], 1, [150]) 90.56, 89.08\n",
    "* num_epochs = 15, batch_size = 256, learning_rate = 0.02, Net(X_train_tensor.shape[1], 1, [300]) 92.90, 91.98\n",
    "* num_epochs = 15, batch_size = 256, learning_rate = 0.02, Net(X_train_tensor.shape[1], 1, [450]) 93.28, 92.36\n",
    "* num_epochs = 15, batch_size = 256, learning_rate = 0.02, Net(X_train_tensor.shape[1], 1, [600]) 94.00, 93.19 _same number parameters as best NN w/weather + other_\n",
    "* num_epochs = 15, batch_size = 256, learning_rate = 0.02, Net(X_train_tensor.shape[1], 1, [800]) 93.39, 91.35\n",
    "* num_epochs = 15, batch_size = 256, learning_rate = 0.02, Net(X_train_tensor.shape[1], 1, [700]) 93.29, 93.16\n",
    "* num_epochs = 15, batch_size = 256, learning_rate = 0.02, Net(X_train_tensor.shape[1], 1, [650]) 93.24, 93.14\n",
    "* num_epochs = 15, batch_size = 256, learning_rate = 0.02, Net(X_train_tensor.shape[1], 1, [625]) 93.79, 93.45\n",
    "* num_epochs = 15, batch_size = 256, learning_rate = 0.02, Net(X_train_tensor.shape[1], 1, [675]) 93.89 93.45\n",
    "* num_epochs = 15, batch_size = 256, learning_rate = 0.02, Net(X_train_tensor.shape[1], 1, [750]) 93.86 93.61\n",
    "* num_epochs = 15, batch_size = 256, learning_rate = 0.02, Net(X_train_tensor.shape[1], 1, [725]) 93.95 93.71\n",
    "* num_epochs = 15, batch_size = 256, learning_rate = 0.02, Net(X_train_tensor.shape[1], 1, [775]) 93.97 93.28\n",
    "* num_epochs = 15, batch_size = 256, learning_rate = 0.02, Net(X_train_tensor.shape[1], 1, [500]) 93.81 93.48\n",
    "* num_epochs = 15, batch_size = 256, learning_rate = 0.02, Net(X_train_tensor.shape[1], 1, [900]) 93.96 93.20\n",
    "* num_epochs = 15, batch_size = 256, learning_rate = 0.02, Net(X_train_tensor.shape[1], 1, [700]) 93.43 93.08\n",
    "* num_epochs = 15, batch_size = 256, learning_rate = 0.02, Net(X_train_tensor.shape[1], 1, [750]) 94.07 93.29"
   ]
  },
  {
   "cell_type": "code",
   "execution_count": 25,
   "id": "33f67fa0",
   "metadata": {},
   "outputs": [
    {
     "name": "stdout",
     "output_type": "stream",
     "text": [
      "Accuracy of NN prediction on training set: 91.28%\n"
     ]
    }
   ],
   "source": [
    "err = 0\n",
    "tot = 0\n",
    "with torch.no_grad():\n",
    "    for data in train_loader:\n",
    "        \n",
    "        X = data[0].to(device)\n",
    "        y = data[1].to(device)\n",
    "\n",
    "        # raw output of network for X\n",
    "        preds = torch.round(torch.sigmoid(net(X)))\n",
    "\n",
    "        tot += y.size(0)\n",
    "\n",
    "        err += torch.sum(y != preds)\n",
    "\n",
    "acc_percent = 100 - (100 * err / tot)\n",
    "print('Accuracy of NN prediction on training set: %5.2f%%' % acc_percent)"
   ]
  },
  {
   "cell_type": "code",
   "execution_count": 26,
   "id": "54cbf067",
   "metadata": {},
   "outputs": [
    {
     "name": "stdout",
     "output_type": "stream",
     "text": [
      "Accuracy of NN prediction on dev set: 91.06%\n"
     ]
    }
   ],
   "source": [
    "err = 0\n",
    "tot = 0\n",
    "with torch.no_grad():\n",
    "    for data in dev_loader:\n",
    "        \n",
    "        X = data[0].to(device)\n",
    "        y = data[1].to(device)\n",
    "\n",
    "        # raw output of network for X\n",
    "        preds = torch.round(torch.sigmoid(net(X)))\n",
    "\n",
    "        tot += y.size(0)\n",
    "\n",
    "        err += torch.sum(y != preds)\n",
    "\n",
    "acc_percent = 100 - (100 * err / tot)\n",
    "print('Accuracy of NN prediction on dev set: %5.2f%%' % acc_percent)"
   ]
  },
  {
   "cell_type": "code",
   "execution_count": 27,
   "id": "991a26d7",
   "metadata": {},
   "outputs": [
    {
     "data": {
      "text/plain": [
       "Text(0, 0.5, 'loss')"
      ]
     },
     "execution_count": 27,
     "metadata": {},
     "output_type": "execute_result"
    },
    {
     "data": {
      "image/png": "[encoded data removed]",
      "text/plain": [
       "<Figure size 432x288 with 1 Axes>"
      ]
     },
     "metadata": {
      "needs_background": "light"
     },
     "output_type": "display_data"
    }
   ],
   "source": [
    "plt.plot(losses, linewidth=2, linestyle='-', marker='o')\n",
    "plt.xlabel(\"epoch\")\n",
    "plt.ylabel(\"loss\")"
   ]
  },
  {
   "cell_type": "code",
   "execution_count": 28,
   "id": "a80ef55f",
   "metadata": {},
   "outputs": [],
   "source": [
    "def accuracy(net, data_loader):\n",
    "    err = 0\n",
    "    tot = 0\n",
    "    with torch.no_grad():\n",
    "        for data in data_loader:\n",
    "\n",
    "            X = data[0].to(device)\n",
    "            y = data[1].to(device)\n",
    "\n",
    "            # raw output of network for X\n",
    "            preds = torch.round(torch.sigmoid(net(X)))\n",
    "\n",
    "            tot += y.size(0)\n",
    "\n",
    "            err += torch.sum(y != preds)\n",
    "\n",
    "    acc_percent = 100 - (100 * err / tot)\n",
    "    return acc_percent"
   ]
  },
  {
   "cell_type": "code",
   "execution_count": 29,
   "id": "8b0842b6",
   "metadata": {},
   "outputs": [
    {
     "name": "stdout",
     "output_type": "stream",
     "text": [
      "100\n",
      "150\n",
      "200\n",
      "250\n",
      "300\n",
      "350\n",
      "400\n",
      "450\n",
      "500\n",
      "550\n",
      "600\n",
      "650\n",
      "700\n",
      "750\n"
     ]
    }
   ],
   "source": [
    "## Fixing Random Seed for Reproducibility\n",
    "torch.manual_seed(0)\n",
    "np.random.seed(0)\n",
    "\n",
    "rows = []\n",
    "\n",
    "hyperparameter_space = np.arange(100,800,50)\n",
    "\n",
    "for hidden_size in hyperparameter_space:\n",
    "    print(hidden_size)\n",
    "    for _ in range(5):\n",
    "        net = Net(X_train_tensor.shape[1], 1, hidden_size)\n",
    "        net = net.to(device)\n",
    "        opt = optim.Adam(net.parameters(), lr=learning_rate)\n",
    "        loss_function = nn.BCEWithLogitsLoss()\n",
    "\n",
    "        trainer = Trainer(net=net, optim=opt, loss_function=loss_function, train_loader=train_loader)\n",
    "        trainer.train(num_epochs, verbose=False)\n",
    "\n",
    "        rows.append({\n",
    "            \"hidden_size\": hidden_size,\n",
    "            \"train_acc\": accuracy(net, train_loader),\n",
    "            \"dev_acc\": accuracy(net, dev_loader),\n",
    "        })"
   ]
  },
  {
   "cell_type": "code",
   "execution_count": 30,
   "id": "04bb4c2a",
   "metadata": {},
   "outputs": [],
   "source": [
    "pd.DataFrame(rows).to_csv(f\"{BASE_DIR}/data/analysis/neural_network/without_weather.csv\")"
   ]
  },
  {
   "cell_type": "code",
   "execution_count": 31,
   "id": "87b80174",
   "metadata": {},
   "outputs": [
    {
     "data": {
      "text/html": [
       "<div>\n",
       "<style scoped>\n",
       "    .dataframe tbody tr th:only-of-type {\n",
       "        vertical-align: middle;\n",
       "    }\n",
       "\n",
       "    .dataframe tbody tr th {\n",
       "        vertical-align: top;\n",
       "    }\n",
       "\n",
       "    .dataframe thead th {\n",
       "        text-align: right;\n",
       "    }\n",
       "</style>\n",
       "<table border=\"1\" class=\"dataframe\">\n",
       "  <thead>\n",
       "    <tr style=\"text-align: right;\">\n",
       "      <th></th>\n",
       "      <th>hidden_size</th>\n",
       "      <th>train_acc</th>\n",
       "      <th>dev_acc</th>\n",
       "    </tr>\n",
       "  </thead>\n",
       "  <tbody>\n",
       "    <tr>\n",
       "      <th>0</th>\n",
       "      <td>100</td>\n",
       "      <td>tensor(93.6415)</td>\n",
       "      <td>tensor(93.1817)</td>\n",
       "    </tr>\n",
       "    <tr>\n",
       "      <th>1</th>\n",
       "      <td>100</td>\n",
       "      <td>tensor(94.7867)</td>\n",
       "      <td>tensor(94.5800)</td>\n",
       "    </tr>\n",
       "    <tr>\n",
       "      <th>2</th>\n",
       "      <td>100</td>\n",
       "      <td>tensor(92.7271)</td>\n",
       "      <td>tensor(92.6654)</td>\n",
       "    </tr>\n",
       "    <tr>\n",
       "      <th>3</th>\n",
       "      <td>100</td>\n",
       "      <td>tensor(94.9465)</td>\n",
       "      <td>tensor(94.7007)</td>\n",
       "    </tr>\n",
       "    <tr>\n",
       "      <th>4</th>\n",
       "      <td>100</td>\n",
       "      <td>tensor(95.3792)</td>\n",
       "      <td>tensor(95.0814)</td>\n",
       "    </tr>\n",
       "    <tr>\n",
       "      <th>...</th>\n",
       "      <td>...</td>\n",
       "      <td>...</td>\n",
       "      <td>...</td>\n",
       "    </tr>\n",
       "    <tr>\n",
       "      <th>65</th>\n",
       "      <td>750</td>\n",
       "      <td>tensor(95.1126)</td>\n",
       "      <td>tensor(94.8821)</td>\n",
       "    </tr>\n",
       "    <tr>\n",
       "      <th>66</th>\n",
       "      <td>750</td>\n",
       "      <td>tensor(95.4351)</td>\n",
       "      <td>tensor(95.0889)</td>\n",
       "    </tr>\n",
       "    <tr>\n",
       "      <th>67</th>\n",
       "      <td>750</td>\n",
       "      <td>tensor(95.2973)</td>\n",
       "      <td>tensor(94.9735)</td>\n",
       "    </tr>\n",
       "    <tr>\n",
       "      <th>68</th>\n",
       "      <td>750</td>\n",
       "      <td>tensor(95.0810)</td>\n",
       "      <td>tensor(94.7129)</td>\n",
       "    </tr>\n",
       "    <tr>\n",
       "      <th>69</th>\n",
       "      <td>750</td>\n",
       "      <td>tensor(93.3389)</td>\n",
       "      <td>tensor(93.2040)</td>\n",
       "    </tr>\n",
       "  </tbody>\n",
       "</table>\n",
       "<p>70 rows × 3 columns</p>\n",
       "</div>"
      ],
      "text/plain": [
       "    hidden_size        train_acc          dev_acc\n",
       "0           100  tensor(93.6415)  tensor(93.1817)\n",
       "1           100  tensor(94.7867)  tensor(94.5800)\n",
       "2           100  tensor(92.7271)  tensor(92.6654)\n",
       "3           100  tensor(94.9465)  tensor(94.7007)\n",
       "4           100  tensor(95.3792)  tensor(95.0814)\n",
       "..          ...              ...              ...\n",
       "65          750  tensor(95.1126)  tensor(94.8821)\n",
       "66          750  tensor(95.4351)  tensor(95.0889)\n",
       "67          750  tensor(95.2973)  tensor(94.9735)\n",
       "68          750  tensor(95.0810)  tensor(94.7129)\n",
       "69          750  tensor(93.3389)  tensor(93.2040)\n",
       "\n",
       "[70 rows x 3 columns]"
      ]
     },
     "execution_count": 31,
     "metadata": {},
     "output_type": "execute_result"
    }
   ],
   "source": [
    "df = pd.DataFrame(rows)\n",
    "df"
   ]
  },
  {
   "cell_type": "code",
   "execution_count": 32,
   "id": "d119b8ae",
   "metadata": {},
   "outputs": [
    {
     "data": {
      "text/html": [
       "<div>\n",
       "<style scoped>\n",
       "    .dataframe tbody tr th:only-of-type {\n",
       "        vertical-align: middle;\n",
       "    }\n",
       "\n",
       "    .dataframe tbody tr th {\n",
       "        vertical-align: top;\n",
       "    }\n",
       "\n",
       "    .dataframe thead th {\n",
       "        text-align: right;\n",
       "    }\n",
       "</style>\n",
       "<table border=\"1\" class=\"dataframe\">\n",
       "  <thead>\n",
       "    <tr style=\"text-align: right;\">\n",
       "      <th></th>\n",
       "      <th>hidden_size</th>\n",
       "      <th>train_acc</th>\n",
       "      <th>dev_acc</th>\n",
       "    </tr>\n",
       "  </thead>\n",
       "  <tbody>\n",
       "    <tr>\n",
       "      <th>0</th>\n",
       "      <td>100</td>\n",
       "      <td>93.641541</td>\n",
       "      <td>93.181679</td>\n",
       "    </tr>\n",
       "    <tr>\n",
       "      <th>1</th>\n",
       "      <td>100</td>\n",
       "      <td>94.786713</td>\n",
       "      <td>94.580048</td>\n",
       "    </tr>\n",
       "    <tr>\n",
       "      <th>2</th>\n",
       "      <td>100</td>\n",
       "      <td>92.727051</td>\n",
       "      <td>92.665428</td>\n",
       "    </tr>\n",
       "    <tr>\n",
       "      <th>3</th>\n",
       "      <td>100</td>\n",
       "      <td>94.946457</td>\n",
       "      <td>94.700699</td>\n",
       "    </tr>\n",
       "    <tr>\n",
       "      <th>4</th>\n",
       "      <td>100</td>\n",
       "      <td>95.379219</td>\n",
       "      <td>95.081436</td>\n",
       "    </tr>\n",
       "    <tr>\n",
       "      <th>...</th>\n",
       "      <td>...</td>\n",
       "      <td>...</td>\n",
       "      <td>...</td>\n",
       "    </tr>\n",
       "    <tr>\n",
       "      <th>65</th>\n",
       "      <td>750</td>\n",
       "      <td>95.112572</td>\n",
       "      <td>94.882111</td>\n",
       "    </tr>\n",
       "    <tr>\n",
       "      <th>66</th>\n",
       "      <td>750</td>\n",
       "      <td>95.435051</td>\n",
       "      <td>95.088867</td>\n",
       "    </tr>\n",
       "    <tr>\n",
       "      <th>67</th>\n",
       "      <td>750</td>\n",
       "      <td>95.297287</td>\n",
       "      <td>94.973465</td>\n",
       "    </tr>\n",
       "    <tr>\n",
       "      <th>68</th>\n",
       "      <td>750</td>\n",
       "      <td>95.080971</td>\n",
       "      <td>94.712936</td>\n",
       "    </tr>\n",
       "    <tr>\n",
       "      <th>69</th>\n",
       "      <td>750</td>\n",
       "      <td>93.338921</td>\n",
       "      <td>93.203972</td>\n",
       "    </tr>\n",
       "  </tbody>\n",
       "</table>\n",
       "<p>70 rows × 3 columns</p>\n",
       "</div>"
      ],
      "text/plain": [
       "    hidden_size  train_acc    dev_acc\n",
       "0           100  93.641541  93.181679\n",
       "1           100  94.786713  94.580048\n",
       "2           100  92.727051  92.665428\n",
       "3           100  94.946457  94.700699\n",
       "4           100  95.379219  95.081436\n",
       "..          ...        ...        ...\n",
       "65          750  95.112572  94.882111\n",
       "66          750  95.435051  95.088867\n",
       "67          750  95.297287  94.973465\n",
       "68          750  95.080971  94.712936\n",
       "69          750  93.338921  93.203972\n",
       "\n",
       "[70 rows x 3 columns]"
      ]
     },
     "execution_count": 32,
     "metadata": {},
     "output_type": "execute_result"
    }
   ],
   "source": [
    "df['train_acc'] = df['train_acc'].map(lambda x: x.item())\n",
    "df['dev_acc'] = df['dev_acc'].map(lambda x: x.item())\n",
    "df"
   ]
  },
  {
   "cell_type": "code",
   "execution_count": 33,
   "id": "215b4ba5",
   "metadata": {},
   "outputs": [
    {
     "data": {
      "text/html": [
       "<div>\n",
       "<style scoped>\n",
       "    .dataframe tbody tr th:only-of-type {\n",
       "        vertical-align: middle;\n",
       "    }\n",
       "\n",
       "    .dataframe tbody tr th {\n",
       "        vertical-align: top;\n",
       "    }\n",
       "\n",
       "    .dataframe thead th {\n",
       "        text-align: right;\n",
       "    }\n",
       "</style>\n",
       "<table border=\"1\" class=\"dataframe\">\n",
       "  <thead>\n",
       "    <tr style=\"text-align: right;\">\n",
       "      <th></th>\n",
       "      <th>hidden_size</th>\n",
       "      <th>train_acc</th>\n",
       "      <th>dev_acc</th>\n",
       "    </tr>\n",
       "  </thead>\n",
       "  <tbody>\n",
       "    <tr>\n",
       "      <th>0</th>\n",
       "      <td>100</td>\n",
       "      <td>94.296196</td>\n",
       "      <td>94.041858</td>\n",
       "    </tr>\n",
       "    <tr>\n",
       "      <th>1</th>\n",
       "      <td>150</td>\n",
       "      <td>93.507506</td>\n",
       "      <td>93.236232</td>\n",
       "    </tr>\n",
       "    <tr>\n",
       "      <th>2</th>\n",
       "      <td>200</td>\n",
       "      <td>94.501503</td>\n",
       "      <td>94.172910</td>\n",
       "    </tr>\n",
       "    <tr>\n",
       "      <th>3</th>\n",
       "      <td>250</td>\n",
       "      <td>94.287831</td>\n",
       "      <td>93.990016</td>\n",
       "    </tr>\n",
       "    <tr>\n",
       "      <th>4</th>\n",
       "      <td>300</td>\n",
       "      <td>94.331870</td>\n",
       "      <td>94.078401</td>\n",
       "    </tr>\n",
       "    <tr>\n",
       "      <th>5</th>\n",
       "      <td>350</td>\n",
       "      <td>94.524434</td>\n",
       "      <td>94.212515</td>\n",
       "    </tr>\n",
       "    <tr>\n",
       "      <th>6</th>\n",
       "      <td>400</td>\n",
       "      <td>93.169960</td>\n",
       "      <td>92.876825</td>\n",
       "    </tr>\n",
       "    <tr>\n",
       "      <th>7</th>\n",
       "      <td>450</td>\n",
       "      <td>94.733186</td>\n",
       "      <td>94.417439</td>\n",
       "    </tr>\n",
       "    <tr>\n",
       "      <th>8</th>\n",
       "      <td>500</td>\n",
       "      <td>94.777400</td>\n",
       "      <td>94.469807</td>\n",
       "    </tr>\n",
       "    <tr>\n",
       "      <th>9</th>\n",
       "      <td>550</td>\n",
       "      <td>94.673059</td>\n",
       "      <td>94.401268</td>\n",
       "    </tr>\n",
       "    <tr>\n",
       "      <th>10</th>\n",
       "      <td>600</td>\n",
       "      <td>94.278439</td>\n",
       "      <td>94.000943</td>\n",
       "    </tr>\n",
       "    <tr>\n",
       "      <th>11</th>\n",
       "      <td>650</td>\n",
       "      <td>94.501004</td>\n",
       "      <td>94.170724</td>\n",
       "    </tr>\n",
       "    <tr>\n",
       "      <th>12</th>\n",
       "      <td>700</td>\n",
       "      <td>94.337514</td>\n",
       "      <td>94.129373</td>\n",
       "    </tr>\n",
       "    <tr>\n",
       "      <th>13</th>\n",
       "      <td>750</td>\n",
       "      <td>94.852960</td>\n",
       "      <td>94.572270</td>\n",
       "    </tr>\n",
       "  </tbody>\n",
       "</table>\n",
       "</div>"
      ],
      "text/plain": [
       "    hidden_size  train_acc    dev_acc\n",
       "0           100  94.296196  94.041858\n",
       "1           150  93.507506  93.236232\n",
       "2           200  94.501503  94.172910\n",
       "3           250  94.287831  93.990016\n",
       "4           300  94.331870  94.078401\n",
       "5           350  94.524434  94.212515\n",
       "6           400  93.169960  92.876825\n",
       "7           450  94.733186  94.417439\n",
       "8           500  94.777400  94.469807\n",
       "9           550  94.673059  94.401268\n",
       "10          600  94.278439  94.000943\n",
       "11          650  94.501004  94.170724\n",
       "12          700  94.337514  94.129373\n",
       "13          750  94.852960  94.572270"
      ]
     },
     "execution_count": 33,
     "metadata": {},
     "output_type": "execute_result"
    }
   ],
   "source": [
    "df_agg = df.groupby('hidden_size').mean().reset_index()\n",
    "df_agg"
   ]
  },
  {
   "cell_type": "code",
   "execution_count": 34,
   "id": "ba90ea60",
   "metadata": {},
   "outputs": [
    {
     "data": {
      "image/png": "[encoded data removed]",
      "text/plain": [
       "<Figure size 432x288 with 1 Axes>"
      ]
     },
     "metadata": {
      "needs_background": "light"
     },
     "output_type": "display_data"
    }
   ],
   "source": [
    "plt.scatter(df['hidden_size'], df['train_acc'], label=\"Train Acc All\", s=5)\n",
    "plt.scatter(df['hidden_size'], df['dev_acc'], label=\"Dev Acc All\", s=5)\n",
    "plt.plot(df_agg['hidden_size'], df_agg['train_acc'], label=\"Train Acc Mean\")\n",
    "plt.plot(df_agg['hidden_size'], df_agg['dev_acc'], label=\"Dev Acc Mean\")\n",
    "plt.legend()\n",
    "plt.show()"
   ]
  },
  {
   "cell_type": "markdown",
   "id": "97a9ef75",
   "metadata": {},
   "source": [
    "---"
   ]
  },
  {
   "cell_type": "markdown",
   "id": "1b2dce99",
   "metadata": {},
   "source": [
    "## Select Model and Save"
   ]
  },
  {
   "cell_type": "code",
   "execution_count": 40,
   "id": "07366898",
   "metadata": {},
   "outputs": [
    {
     "name": "stdout",
     "output_type": "stream",
     "text": [
      "epoch [1]: loss 0.224\n",
      "epoch [2]: loss 0.176\n",
      "epoch [3]: loss 0.162\n",
      "epoch [4]: loss 0.156\n",
      "epoch [5]: loss 0.149\n",
      "epoch [6]: loss 0.143\n",
      "epoch [7]: loss 0.141\n",
      "epoch [8]: loss 0.137\n",
      "epoch [9]: loss 0.135\n",
      "epoch [10]: loss 0.135\n"
     ]
    }
   ],
   "source": [
    "net = Net(X_train_tensor.shape[1], 1, 500)\n",
    "net = net.to(device)\n",
    "opt = optim.Adam(net.parameters(), lr=learning_rate)\n",
    "loss_function = nn.BCEWithLogitsLoss()\n",
    "\n",
    "trainer = Trainer(net=net, optim=opt, loss_function=loss_function, train_loader=train_loader)\n",
    "\n",
    "losses = trainer.train(num_epochs)"
   ]
  },
  {
   "cell_type": "code",
   "execution_count": 41,
   "id": "cb4d00e0",
   "metadata": {},
   "outputs": [
    {
     "name": "stdout",
     "output_type": "stream",
     "text": [
      "Accuracy of NN prediction on training set: 95.28%\n"
     ]
    }
   ],
   "source": [
    "err = 0\n",
    "tot = 0\n",
    "with torch.no_grad():\n",
    "    for data in train_loader:\n",
    "        \n",
    "        X = data[0].to(device)\n",
    "        y = data[1].to(device)\n",
    "\n",
    "        # raw output of network for X\n",
    "        preds = torch.round(torch.sigmoid(net(X)))\n",
    "\n",
    "        tot += y.size(0)\n",
    "\n",
    "        err += torch.sum(y != preds)\n",
    "\n",
    "acc_percent = 100 - (100 * err / tot)\n",
    "print('Accuracy of NN prediction on training set: %5.2f%%' % acc_percent)"
   ]
  },
  {
   "cell_type": "code",
   "execution_count": 42,
   "id": "5e72d0ab",
   "metadata": {},
   "outputs": [
    {
     "name": "stdout",
     "output_type": "stream",
     "text": [
      "Accuracy of NN prediction on dev set: 95.13%\n"
     ]
    }
   ],
   "source": [
    "err = 0\n",
    "tot = 0\n",
    "with torch.no_grad():\n",
    "    for data in dev_loader:\n",
    "        \n",
    "        X = data[0].to(device)\n",
    "        y = data[1].to(device)\n",
    "\n",
    "        # raw output of network for X\n",
    "        preds = torch.round(torch.sigmoid(net(X)))\n",
    "\n",
    "        tot += y.size(0)\n",
    "\n",
    "        err += torch.sum(y != preds)\n",
    "\n",
    "acc_percent = 100 - (100 * err / tot)\n",
    "print('Accuracy of NN prediction on dev set: %5.2f%%' % acc_percent)"
   ]
  },
  {
   "cell_type": "code",
   "execution_count": 43,
   "id": "6d998b19",
   "metadata": {},
   "outputs": [
    {
     "data": {
      "text/plain": [
       "Text(0, 0.5, 'loss')"
      ]
     },
     "execution_count": 43,
     "metadata": {},
     "output_type": "execute_result"
    },
    {
     "data": {
      "image/png": "[encoded data removed]",
      "text/plain": [
       "<Figure size 432x288 with 1 Axes>"
      ]
     },
     "metadata": {
      "needs_background": "light"
     },
     "output_type": "display_data"
    }
   ],
   "source": [
    "plt.plot(losses, linewidth=2, linestyle='-', marker='o')\n",
    "plt.xlabel(\"epoch\")\n",
    "plt.ylabel(\"loss\")"
   ]
  },
  {
   "cell_type": "code",
   "execution_count": 44,
   "id": "94181160",
   "metadata": {},
   "outputs": [],
   "source": [
    "torch.save(net.state_dict(), f\"{BASE_DIR}/data/analysis/net_no_weather_500_nodes.bin\")"
   ]
  },
  {
   "cell_type": "markdown",
   "id": "22ef5737",
   "metadata": {},
   "source": [
    "---"
   ]
  },
  {
   "cell_type": "markdown",
   "id": "266eccff",
   "metadata": {},
   "source": [
    "## Test Set"
   ]
  },
  {
   "cell_type": "code",
   "execution_count": 45,
   "id": "ff86c33c",
   "metadata": {},
   "outputs": [],
   "source": [
    "X_test_tensor = torch.from_numpy(X_test.to_numpy()).float().to(device)\n",
    "\n",
    "y_test_tensor = torch.from_numpy(X_test_pairwise_winner_labels).float().to(device)\n",
    "y_test_tensor = torch.reshape(y_test_tensor, (-1, 1))"
   ]
  },
  {
   "cell_type": "code",
   "execution_count": 46,
   "id": "f9e77272",
   "metadata": {},
   "outputs": [],
   "source": [
    "X_test_dataset = list(zip(X_test_tensor, y_test_tensor))"
   ]
  },
  {
   "cell_type": "code",
   "execution_count": 47,
   "id": "89dfd408",
   "metadata": {},
   "outputs": [],
   "source": [
    "test_loader = DataLoader(dataset=X_test_dataset, batch_size=batch_size, shuffle=True, num_workers=0)"
   ]
  },
  {
   "cell_type": "code",
   "execution_count": 48,
   "id": "86ce254b",
   "metadata": {},
   "outputs": [
    {
     "data": {
      "text/plain": [
       "94.95244598388672"
      ]
     },
     "execution_count": 48,
     "metadata": {},
     "output_type": "execute_result"
    }
   ],
   "source": [
    "accuracy(net, test_loader).item()"
   ]
  },
  {
   "cell_type": "markdown",
   "id": "bc264341",
   "metadata": {},
   "source": [
    "---"
   ]
  }
 ],
 "metadata": {
  "kernelspec": {
   "display_name": "Python 3 (ipykernel)",
   "language": "python",
   "name": "python3"
  },
  "language_info": {
   "codemirror_mode": {
    "name": "ipython",
    "version": 3
   },
   "file_extension": ".py",
   "mimetype": "text/x-python",
   "name": "python",
   "nbconvert_exporter": "python",
   "pygments_lexer": "ipython3",
   "version": "3.9.6"
  }
 },
 "nbformat": 4,
 "nbformat_minor": 5
}
