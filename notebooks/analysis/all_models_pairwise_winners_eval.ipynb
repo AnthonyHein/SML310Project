{
 "cells": [
  {
   "cell_type": "markdown",
   "id": "7026e67b",
   "metadata": {},
   "source": [
    "# `all_models_pairwise_winners_eval.ipynb`"
   ]
  },
  {
   "cell_type": "markdown",
   "id": "c052cb33",
   "metadata": {},
   "source": [
    "### Author: Anthony Hein"
   ]
  },
  {
   "cell_type": "markdown",
   "id": "194e2cf5",
   "metadata": {},
   "source": [
    "#### Last updated: 11/30/2021"
   ]
  },
  {
   "cell_type": "markdown",
   "id": "1b86aa88",
   "metadata": {},
   "source": [
    "# Overview:\n",
    "\n",
    "Use the datasets\n",
    "* `X_train_preprocess_without_race.csv`\n",
    "* `X_dev_preprocess_without_race.csv`\n",
    "* `X_test_preprocess_without_race.csv`\n",
    "\n",
    "and the targets in\n",
    "* `X_train_pairwise_winner_labels.csv`\n",
    "* `X_dev_pairwise_winner_labels.csv`\n",
    "* `X_test_pairwise_winner_labels.csv`\n",
    "\n",
    "to evaluate all models."
   ]
  },
  {
   "cell_type": "markdown",
   "id": "697e80d8",
   "metadata": {},
   "source": [
    "---"
   ]
  },
  {
   "cell_type": "markdown",
   "id": "08164829",
   "metadata": {},
   "source": [
    "## Setup"
   ]
  },
  {
   "cell_type": "code",
   "execution_count": 1,
   "id": "9e9ee6d1",
   "metadata": {},
   "outputs": [],
   "source": [
    "from datetime import datetime\n",
    "import git\n",
    "import os\n",
    "from typing import List\n",
    "from tqdm import tqdm\n",
    "import pandas as pd\n",
    "import numpy as np\n",
    "import matplotlib.pyplot as plt\n",
    "import pickle\n",
    "%matplotlib inline"
   ]
  },
  {
   "cell_type": "code",
   "execution_count": 2,
   "id": "f013a715",
   "metadata": {},
   "outputs": [
    {
     "data": {
      "text/plain": [
       "'/Users/anthonyhein/Desktop/SML310/project'"
      ]
     },
     "execution_count": 2,
     "metadata": {},
     "output_type": "execute_result"
    }
   ],
   "source": [
    "BASE_DIR = git.Repo(os.getcwd(), search_parent_directories=True).working_dir\n",
    "BASE_DIR"
   ]
  },
  {
   "cell_type": "markdown",
   "id": "900adb93",
   "metadata": {},
   "source": [
    "---"
   ]
  },
  {
   "cell_type": "markdown",
   "id": "45d30d31",
   "metadata": {},
   "source": [
    "## Load `X_train_preprocess_without_race.csv`"
   ]
  },
  {
   "cell_type": "code",
   "execution_count": 3,
   "id": "35ede263",
   "metadata": {},
   "outputs": [
    {
     "data": {
      "text/html": [
       "<div>\n",
       "<style scoped>\n",
       "    .dataframe tbody tr th:only-of-type {\n",
       "        vertical-align: middle;\n",
       "    }\n",
       "\n",
       "    .dataframe tbody tr th {\n",
       "        vertical-align: top;\n",
       "    }\n",
       "\n",
       "    .dataframe thead th {\n",
       "        text-align: right;\n",
       "    }\n",
       "</style>\n",
       "<table border=\"1\" class=\"dataframe\">\n",
       "  <thead>\n",
       "    <tr style=\"text-align: right;\">\n",
       "      <th></th>\n",
       "      <th>horse1_age</th>\n",
       "      <th>horse1_saddle</th>\n",
       "      <th>horse1_decimalPrice</th>\n",
       "      <th>horse1_isFav</th>\n",
       "      <th>horse1_outHandicap</th>\n",
       "      <th>horse1_RPR</th>\n",
       "      <th>horse1_weight</th>\n",
       "      <th>horse1_jockey_d_last_race</th>\n",
       "      <th>horse1_jockey_d_first_race</th>\n",
       "      <th>horse1_jockey_prev_1_position</th>\n",
       "      <th>...</th>\n",
       "      <th>horse2_jockey_prev_3_position_rain</th>\n",
       "      <th>horse2_jockey_prev_1_finishing_time_ratio_rain</th>\n",
       "      <th>horse2_jockey_prev_2_finishing_time_ratio_rain</th>\n",
       "      <th>horse2_jockey_prev_3_finishing_time_ratio_rain</th>\n",
       "      <th>horse2_jockey_prev_1_position_rhum</th>\n",
       "      <th>horse2_jockey_prev_2_position_rhum</th>\n",
       "      <th>horse2_jockey_prev_3_position_rhum</th>\n",
       "      <th>horse2_jockey_prev_1_finishing_time_ratio_rhum</th>\n",
       "      <th>horse2_jockey_prev_2_finishing_time_ratio_rhum</th>\n",
       "      <th>horse2_jockey_prev_3_finishing_time_ratio_rhum</th>\n",
       "    </tr>\n",
       "  </thead>\n",
       "  <tbody>\n",
       "    <tr>\n",
       "      <th>0</th>\n",
       "      <td>0.200000</td>\n",
       "      <td>0.230769</td>\n",
       "      <td>0.196970</td>\n",
       "      <td>0.0</td>\n",
       "      <td>0.0</td>\n",
       "      <td>0.73125</td>\n",
       "      <td>0.692308</td>\n",
       "      <td>0.007631</td>\n",
       "      <td>0.236544</td>\n",
       "      <td>0.100</td>\n",
       "      <td>...</td>\n",
       "      <td>0.050</td>\n",
       "      <td>0.805104</td>\n",
       "      <td>0.780139</td>\n",
       "      <td>0.783438</td>\n",
       "      <td>0.100</td>\n",
       "      <td>0.025</td>\n",
       "      <td>0.025</td>\n",
       "      <td>0.805104</td>\n",
       "      <td>0.799642</td>\n",
       "      <td>0.780139</td>\n",
       "    </tr>\n",
       "    <tr>\n",
       "      <th>1</th>\n",
       "      <td>0.400000</td>\n",
       "      <td>0.038462</td>\n",
       "      <td>0.072222</td>\n",
       "      <td>0.0</td>\n",
       "      <td>0.0</td>\n",
       "      <td>0.73125</td>\n",
       "      <td>0.743590</td>\n",
       "      <td>0.005050</td>\n",
       "      <td>0.236544</td>\n",
       "      <td>0.100</td>\n",
       "      <td>...</td>\n",
       "      <td>0.100</td>\n",
       "      <td>0.801416</td>\n",
       "      <td>0.781238</td>\n",
       "      <td>0.794160</td>\n",
       "      <td>0.075</td>\n",
       "      <td>0.050</td>\n",
       "      <td>0.075</td>\n",
       "      <td>0.801416</td>\n",
       "      <td>0.800487</td>\n",
       "      <td>0.785703</td>\n",
       "    </tr>\n",
       "    <tr>\n",
       "      <th>2</th>\n",
       "      <td>0.133333</td>\n",
       "      <td>0.423077</td>\n",
       "      <td>0.098485</td>\n",
       "      <td>0.0</td>\n",
       "      <td>0.0</td>\n",
       "      <td>0.65000</td>\n",
       "      <td>0.705128</td>\n",
       "      <td>0.000740</td>\n",
       "      <td>0.237283</td>\n",
       "      <td>0.025</td>\n",
       "      <td>...</td>\n",
       "      <td>0.100</td>\n",
       "      <td>0.799909</td>\n",
       "      <td>0.780139</td>\n",
       "      <td>0.786816</td>\n",
       "      <td>0.025</td>\n",
       "      <td>0.100</td>\n",
       "      <td>0.025</td>\n",
       "      <td>0.799642</td>\n",
       "      <td>0.806486</td>\n",
       "      <td>0.780139</td>\n",
       "    </tr>\n",
       "    <tr>\n",
       "      <th>3</th>\n",
       "      <td>0.133333</td>\n",
       "      <td>0.423077</td>\n",
       "      <td>0.098485</td>\n",
       "      <td>0.0</td>\n",
       "      <td>0.0</td>\n",
       "      <td>0.65000</td>\n",
       "      <td>0.705128</td>\n",
       "      <td>0.000740</td>\n",
       "      <td>0.237283</td>\n",
       "      <td>0.025</td>\n",
       "      <td>...</td>\n",
       "      <td>0.075</td>\n",
       "      <td>0.800176</td>\n",
       "      <td>0.781623</td>\n",
       "      <td>0.781870</td>\n",
       "      <td>0.050</td>\n",
       "      <td>0.075</td>\n",
       "      <td>0.050</td>\n",
       "      <td>0.801163</td>\n",
       "      <td>0.801416</td>\n",
       "      <td>0.780963</td>\n",
       "    </tr>\n",
       "    <tr>\n",
       "      <th>4</th>\n",
       "      <td>0.133333</td>\n",
       "      <td>0.192308</td>\n",
       "      <td>0.090278</td>\n",
       "      <td>0.0</td>\n",
       "      <td>0.0</td>\n",
       "      <td>0.66250</td>\n",
       "      <td>0.730769</td>\n",
       "      <td>0.000740</td>\n",
       "      <td>0.234655</td>\n",
       "      <td>0.050</td>\n",
       "      <td>...</td>\n",
       "      <td>0.100</td>\n",
       "      <td>0.799642</td>\n",
       "      <td>0.783601</td>\n",
       "      <td>0.785468</td>\n",
       "      <td>0.125</td>\n",
       "      <td>0.100</td>\n",
       "      <td>0.025</td>\n",
       "      <td>0.803191</td>\n",
       "      <td>0.805104</td>\n",
       "      <td>0.780139</td>\n",
       "    </tr>\n",
       "  </tbody>\n",
       "</table>\n",
       "<p>5 rows × 144 columns</p>\n",
       "</div>"
      ],
      "text/plain": [
       "   horse1_age  horse1_saddle  horse1_decimalPrice  horse1_isFav  \\\n",
       "0    0.200000       0.230769             0.196970           0.0   \n",
       "1    0.400000       0.038462             0.072222           0.0   \n",
       "2    0.133333       0.423077             0.098485           0.0   \n",
       "3    0.133333       0.423077             0.098485           0.0   \n",
       "4    0.133333       0.192308             0.090278           0.0   \n",
       "\n",
       "   horse1_outHandicap  horse1_RPR  horse1_weight  horse1_jockey_d_last_race  \\\n",
       "0                 0.0     0.73125       0.692308                   0.007631   \n",
       "1                 0.0     0.73125       0.743590                   0.005050   \n",
       "2                 0.0     0.65000       0.705128                   0.000740   \n",
       "3                 0.0     0.65000       0.705128                   0.000740   \n",
       "4                 0.0     0.66250       0.730769                   0.000740   \n",
       "\n",
       "   horse1_jockey_d_first_race  horse1_jockey_prev_1_position  ...  \\\n",
       "0                    0.236544                          0.100  ...   \n",
       "1                    0.236544                          0.100  ...   \n",
       "2                    0.237283                          0.025  ...   \n",
       "3                    0.237283                          0.025  ...   \n",
       "4                    0.234655                          0.050  ...   \n",
       "\n",
       "   horse2_jockey_prev_3_position_rain  \\\n",
       "0                               0.050   \n",
       "1                               0.100   \n",
       "2                               0.100   \n",
       "3                               0.075   \n",
       "4                               0.100   \n",
       "\n",
       "   horse2_jockey_prev_1_finishing_time_ratio_rain  \\\n",
       "0                                        0.805104   \n",
       "1                                        0.801416   \n",
       "2                                        0.799909   \n",
       "3                                        0.800176   \n",
       "4                                        0.799642   \n",
       "\n",
       "   horse2_jockey_prev_2_finishing_time_ratio_rain  \\\n",
       "0                                        0.780139   \n",
       "1                                        0.781238   \n",
       "2                                        0.780139   \n",
       "3                                        0.781623   \n",
       "4                                        0.783601   \n",
       "\n",
       "   horse2_jockey_prev_3_finishing_time_ratio_rain  \\\n",
       "0                                        0.783438   \n",
       "1                                        0.794160   \n",
       "2                                        0.786816   \n",
       "3                                        0.781870   \n",
       "4                                        0.785468   \n",
       "\n",
       "   horse2_jockey_prev_1_position_rhum  horse2_jockey_prev_2_position_rhum  \\\n",
       "0                               0.100                               0.025   \n",
       "1                               0.075                               0.050   \n",
       "2                               0.025                               0.100   \n",
       "3                               0.050                               0.075   \n",
       "4                               0.125                               0.100   \n",
       "\n",
       "   horse2_jockey_prev_3_position_rhum  \\\n",
       "0                               0.025   \n",
       "1                               0.075   \n",
       "2                               0.025   \n",
       "3                               0.050   \n",
       "4                               0.025   \n",
       "\n",
       "   horse2_jockey_prev_1_finishing_time_ratio_rhum  \\\n",
       "0                                        0.805104   \n",
       "1                                        0.801416   \n",
       "2                                        0.799642   \n",
       "3                                        0.801163   \n",
       "4                                        0.803191   \n",
       "\n",
       "   horse2_jockey_prev_2_finishing_time_ratio_rhum  \\\n",
       "0                                        0.799642   \n",
       "1                                        0.800487   \n",
       "2                                        0.806486   \n",
       "3                                        0.801416   \n",
       "4                                        0.805104   \n",
       "\n",
       "   horse2_jockey_prev_3_finishing_time_ratio_rhum  \n",
       "0                                        0.780139  \n",
       "1                                        0.785703  \n",
       "2                                        0.780139  \n",
       "3                                        0.780963  \n",
       "4                                        0.780139  \n",
       "\n",
       "[5 rows x 144 columns]"
      ]
     },
     "execution_count": 3,
     "metadata": {},
     "output_type": "execute_result"
    }
   ],
   "source": [
    "X_train = pd.read_csv(f\"{BASE_DIR}/data/analysis/X_train_preprocess_without_race.csv\", low_memory=False)\n",
    "X_train.head()"
   ]
  },
  {
   "cell_type": "code",
   "execution_count": 4,
   "id": "38188700",
   "metadata": {},
   "outputs": [
    {
     "data": {
      "text/plain": [
       "(800666, 144)"
      ]
     },
     "execution_count": 4,
     "metadata": {},
     "output_type": "execute_result"
    }
   ],
   "source": [
    "X_train.shape"
   ]
  },
  {
   "cell_type": "markdown",
   "id": "c4172c0e",
   "metadata": {},
   "source": [
    "---"
   ]
  },
  {
   "cell_type": "markdown",
   "id": "9ea983d7",
   "metadata": {},
   "source": [
    "## Load `X_dev_preprocess_without_race.csv`"
   ]
  },
  {
   "cell_type": "code",
   "execution_count": 5,
   "id": "c1e8ae98",
   "metadata": {},
   "outputs": [
    {
     "data": {
      "text/html": [
       "<div>\n",
       "<style scoped>\n",
       "    .dataframe tbody tr th:only-of-type {\n",
       "        vertical-align: middle;\n",
       "    }\n",
       "\n",
       "    .dataframe tbody tr th {\n",
       "        vertical-align: top;\n",
       "    }\n",
       "\n",
       "    .dataframe thead th {\n",
       "        text-align: right;\n",
       "    }\n",
       "</style>\n",
       "<table border=\"1\" class=\"dataframe\">\n",
       "  <thead>\n",
       "    <tr style=\"text-align: right;\">\n",
       "      <th></th>\n",
       "      <th>horse1_age</th>\n",
       "      <th>horse1_saddle</th>\n",
       "      <th>horse1_decimalPrice</th>\n",
       "      <th>horse1_isFav</th>\n",
       "      <th>horse1_outHandicap</th>\n",
       "      <th>horse1_RPR</th>\n",
       "      <th>horse1_weight</th>\n",
       "      <th>horse1_jockey_d_last_race</th>\n",
       "      <th>horse1_jockey_d_first_race</th>\n",
       "      <th>horse1_jockey_prev_1_position</th>\n",
       "      <th>...</th>\n",
       "      <th>horse2_jockey_prev_3_position_rain</th>\n",
       "      <th>horse2_jockey_prev_1_finishing_time_ratio_rain</th>\n",
       "      <th>horse2_jockey_prev_2_finishing_time_ratio_rain</th>\n",
       "      <th>horse2_jockey_prev_3_finishing_time_ratio_rain</th>\n",
       "      <th>horse2_jockey_prev_1_position_rhum</th>\n",
       "      <th>horse2_jockey_prev_2_position_rhum</th>\n",
       "      <th>horse2_jockey_prev_3_position_rhum</th>\n",
       "      <th>horse2_jockey_prev_1_finishing_time_ratio_rhum</th>\n",
       "      <th>horse2_jockey_prev_2_finishing_time_ratio_rhum</th>\n",
       "      <th>horse2_jockey_prev_3_finishing_time_ratio_rhum</th>\n",
       "    </tr>\n",
       "  </thead>\n",
       "  <tbody>\n",
       "    <tr>\n",
       "      <th>0</th>\n",
       "      <td>0.285714</td>\n",
       "      <td>0.105263</td>\n",
       "      <td>0.200000</td>\n",
       "      <td>0.0</td>\n",
       "      <td>0.0</td>\n",
       "      <td>0.608392</td>\n",
       "      <td>0.769231</td>\n",
       "      <td>0.001516</td>\n",
       "      <td>0.629407</td>\n",
       "      <td>0.250</td>\n",
       "      <td>...</td>\n",
       "      <td>0.200</td>\n",
       "      <td>0.828972</td>\n",
       "      <td>0.837641</td>\n",
       "      <td>0.843255</td>\n",
       "      <td>0.075</td>\n",
       "      <td>0.050</td>\n",
       "      <td>0.275</td>\n",
       "      <td>0.834583</td>\n",
       "      <td>0.828972</td>\n",
       "      <td>0.853796</td>\n",
       "    </tr>\n",
       "    <tr>\n",
       "      <th>1</th>\n",
       "      <td>0.285714</td>\n",
       "      <td>0.210526</td>\n",
       "      <td>0.157143</td>\n",
       "      <td>0.0</td>\n",
       "      <td>0.0</td>\n",
       "      <td>0.258741</td>\n",
       "      <td>0.769231</td>\n",
       "      <td>0.000445</td>\n",
       "      <td>0.286087</td>\n",
       "      <td>0.075</td>\n",
       "      <td>...</td>\n",
       "      <td>0.075</td>\n",
       "      <td>0.826039</td>\n",
       "      <td>0.826039</td>\n",
       "      <td>0.842799</td>\n",
       "      <td>0.025</td>\n",
       "      <td>0.025</td>\n",
       "      <td>0.075</td>\n",
       "      <td>0.826039</td>\n",
       "      <td>0.826039</td>\n",
       "      <td>0.842799</td>\n",
       "    </tr>\n",
       "    <tr>\n",
       "      <th>2</th>\n",
       "      <td>0.285714</td>\n",
       "      <td>0.210526</td>\n",
       "      <td>0.157143</td>\n",
       "      <td>0.0</td>\n",
       "      <td>0.0</td>\n",
       "      <td>0.258741</td>\n",
       "      <td>0.769231</td>\n",
       "      <td>0.000445</td>\n",
       "      <td>0.286087</td>\n",
       "      <td>0.075</td>\n",
       "      <td>...</td>\n",
       "      <td>0.125</td>\n",
       "      <td>0.826413</td>\n",
       "      <td>0.841758</td>\n",
       "      <td>0.844367</td>\n",
       "      <td>0.125</td>\n",
       "      <td>0.050</td>\n",
       "      <td>0.275</td>\n",
       "      <td>0.843955</td>\n",
       "      <td>0.826413</td>\n",
       "      <td>0.841758</td>\n",
       "    </tr>\n",
       "    <tr>\n",
       "      <th>3</th>\n",
       "      <td>0.285714</td>\n",
       "      <td>0.210526</td>\n",
       "      <td>0.157143</td>\n",
       "      <td>0.0</td>\n",
       "      <td>0.0</td>\n",
       "      <td>0.258741</td>\n",
       "      <td>0.769231</td>\n",
       "      <td>0.000445</td>\n",
       "      <td>0.286087</td>\n",
       "      <td>0.075</td>\n",
       "      <td>...</td>\n",
       "      <td>0.050</td>\n",
       "      <td>0.832401</td>\n",
       "      <td>0.832114</td>\n",
       "      <td>0.828366</td>\n",
       "      <td>0.100</td>\n",
       "      <td>0.075</td>\n",
       "      <td>0.050</td>\n",
       "      <td>0.832401</td>\n",
       "      <td>0.837064</td>\n",
       "      <td>0.828519</td>\n",
       "    </tr>\n",
       "    <tr>\n",
       "      <th>4</th>\n",
       "      <td>0.285714</td>\n",
       "      <td>0.210526</td>\n",
       "      <td>0.157143</td>\n",
       "      <td>0.0</td>\n",
       "      <td>0.0</td>\n",
       "      <td>0.258741</td>\n",
       "      <td>0.769231</td>\n",
       "      <td>0.000445</td>\n",
       "      <td>0.286087</td>\n",
       "      <td>0.075</td>\n",
       "      <td>...</td>\n",
       "      <td>0.175</td>\n",
       "      <td>0.857255</td>\n",
       "      <td>0.835266</td>\n",
       "      <td>0.834946</td>\n",
       "      <td>0.150</td>\n",
       "      <td>0.025</td>\n",
       "      <td>0.200</td>\n",
       "      <td>0.857255</td>\n",
       "      <td>0.826039</td>\n",
       "      <td>0.837392</td>\n",
       "    </tr>\n",
       "  </tbody>\n",
       "</table>\n",
       "<p>5 rows × 144 columns</p>\n",
       "</div>"
      ],
      "text/plain": [
       "   horse1_age  horse1_saddle  horse1_decimalPrice  horse1_isFav  \\\n",
       "0    0.285714       0.105263             0.200000           0.0   \n",
       "1    0.285714       0.210526             0.157143           0.0   \n",
       "2    0.285714       0.210526             0.157143           0.0   \n",
       "3    0.285714       0.210526             0.157143           0.0   \n",
       "4    0.285714       0.210526             0.157143           0.0   \n",
       "\n",
       "   horse1_outHandicap  horse1_RPR  horse1_weight  horse1_jockey_d_last_race  \\\n",
       "0                 0.0    0.608392       0.769231                   0.001516   \n",
       "1                 0.0    0.258741       0.769231                   0.000445   \n",
       "2                 0.0    0.258741       0.769231                   0.000445   \n",
       "3                 0.0    0.258741       0.769231                   0.000445   \n",
       "4                 0.0    0.258741       0.769231                   0.000445   \n",
       "\n",
       "   horse1_jockey_d_first_race  horse1_jockey_prev_1_position  ...  \\\n",
       "0                    0.629407                          0.250  ...   \n",
       "1                    0.286087                          0.075  ...   \n",
       "2                    0.286087                          0.075  ...   \n",
       "3                    0.286087                          0.075  ...   \n",
       "4                    0.286087                          0.075  ...   \n",
       "\n",
       "   horse2_jockey_prev_3_position_rain  \\\n",
       "0                               0.200   \n",
       "1                               0.075   \n",
       "2                               0.125   \n",
       "3                               0.050   \n",
       "4                               0.175   \n",
       "\n",
       "   horse2_jockey_prev_1_finishing_time_ratio_rain  \\\n",
       "0                                        0.828972   \n",
       "1                                        0.826039   \n",
       "2                                        0.826413   \n",
       "3                                        0.832401   \n",
       "4                                        0.857255   \n",
       "\n",
       "   horse2_jockey_prev_2_finishing_time_ratio_rain  \\\n",
       "0                                        0.837641   \n",
       "1                                        0.826039   \n",
       "2                                        0.841758   \n",
       "3                                        0.832114   \n",
       "4                                        0.835266   \n",
       "\n",
       "   horse2_jockey_prev_3_finishing_time_ratio_rain  \\\n",
       "0                                        0.843255   \n",
       "1                                        0.842799   \n",
       "2                                        0.844367   \n",
       "3                                        0.828366   \n",
       "4                                        0.834946   \n",
       "\n",
       "   horse2_jockey_prev_1_position_rhum  horse2_jockey_prev_2_position_rhum  \\\n",
       "0                               0.075                               0.050   \n",
       "1                               0.025                               0.025   \n",
       "2                               0.125                               0.050   \n",
       "3                               0.100                               0.075   \n",
       "4                               0.150                               0.025   \n",
       "\n",
       "   horse2_jockey_prev_3_position_rhum  \\\n",
       "0                               0.275   \n",
       "1                               0.075   \n",
       "2                               0.275   \n",
       "3                               0.050   \n",
       "4                               0.200   \n",
       "\n",
       "   horse2_jockey_prev_1_finishing_time_ratio_rhum  \\\n",
       "0                                        0.834583   \n",
       "1                                        0.826039   \n",
       "2                                        0.843955   \n",
       "3                                        0.832401   \n",
       "4                                        0.857255   \n",
       "\n",
       "   horse2_jockey_prev_2_finishing_time_ratio_rhum  \\\n",
       "0                                        0.828972   \n",
       "1                                        0.826039   \n",
       "2                                        0.826413   \n",
       "3                                        0.837064   \n",
       "4                                        0.826039   \n",
       "\n",
       "   horse2_jockey_prev_3_finishing_time_ratio_rhum  \n",
       "0                                        0.853796  \n",
       "1                                        0.842799  \n",
       "2                                        0.841758  \n",
       "3                                        0.828519  \n",
       "4                                        0.837392  \n",
       "\n",
       "[5 rows x 144 columns]"
      ]
     },
     "execution_count": 5,
     "metadata": {},
     "output_type": "execute_result"
    }
   ],
   "source": [
    "X_dev = pd.read_csv(f\"{BASE_DIR}/data/analysis/X_dev_preprocess_without_race.csv\", low_memory=False)\n",
    "X_dev.head()"
   ]
  },
  {
   "cell_type": "code",
   "execution_count": 6,
   "id": "1c73a76b",
   "metadata": {},
   "outputs": [
    {
     "data": {
      "text/plain": [
       "(228766, 144)"
      ]
     },
     "execution_count": 6,
     "metadata": {},
     "output_type": "execute_result"
    }
   ],
   "source": [
    "X_dev.shape"
   ]
  },
  {
   "cell_type": "markdown",
   "id": "06e5b3fb",
   "metadata": {},
   "source": [
    "---"
   ]
  },
  {
   "cell_type": "markdown",
   "id": "c7e37d95",
   "metadata": {},
   "source": [
    "## Load `X_test_preprocess_without_race.csv`"
   ]
  },
  {
   "cell_type": "code",
   "execution_count": 7,
   "id": "185675a2",
   "metadata": {},
   "outputs": [
    {
     "data": {
      "text/html": [
       "<div>\n",
       "<style scoped>\n",
       "    .dataframe tbody tr th:only-of-type {\n",
       "        vertical-align: middle;\n",
       "    }\n",
       "\n",
       "    .dataframe tbody tr th {\n",
       "        vertical-align: top;\n",
       "    }\n",
       "\n",
       "    .dataframe thead th {\n",
       "        text-align: right;\n",
       "    }\n",
       "</style>\n",
       "<table border=\"1\" class=\"dataframe\">\n",
       "  <thead>\n",
       "    <tr style=\"text-align: right;\">\n",
       "      <th></th>\n",
       "      <th>horse1_age</th>\n",
       "      <th>horse1_saddle</th>\n",
       "      <th>horse1_decimalPrice</th>\n",
       "      <th>horse1_isFav</th>\n",
       "      <th>horse1_outHandicap</th>\n",
       "      <th>horse1_RPR</th>\n",
       "      <th>horse1_weight</th>\n",
       "      <th>horse1_jockey_d_last_race</th>\n",
       "      <th>horse1_jockey_d_first_race</th>\n",
       "      <th>horse1_jockey_prev_1_position</th>\n",
       "      <th>...</th>\n",
       "      <th>horse2_jockey_prev_3_position_rain</th>\n",
       "      <th>horse2_jockey_prev_1_finishing_time_ratio_rain</th>\n",
       "      <th>horse2_jockey_prev_2_finishing_time_ratio_rain</th>\n",
       "      <th>horse2_jockey_prev_3_finishing_time_ratio_rain</th>\n",
       "      <th>horse2_jockey_prev_1_position_rhum</th>\n",
       "      <th>horse2_jockey_prev_2_position_rhum</th>\n",
       "      <th>horse2_jockey_prev_3_position_rhum</th>\n",
       "      <th>horse2_jockey_prev_1_finishing_time_ratio_rhum</th>\n",
       "      <th>horse2_jockey_prev_2_finishing_time_ratio_rhum</th>\n",
       "      <th>horse2_jockey_prev_3_finishing_time_ratio_rhum</th>\n",
       "    </tr>\n",
       "  </thead>\n",
       "  <tbody>\n",
       "    <tr>\n",
       "      <th>0</th>\n",
       "      <td>0.230769</td>\n",
       "      <td>0.333333</td>\n",
       "      <td>0.03268</td>\n",
       "      <td>0.0</td>\n",
       "      <td>0.0</td>\n",
       "      <td>0.344828</td>\n",
       "      <td>0.74359</td>\n",
       "      <td>0.001053</td>\n",
       "      <td>0.49501</td>\n",
       "      <td>0.225</td>\n",
       "      <td>...</td>\n",
       "      <td>0.200</td>\n",
       "      <td>0.865544</td>\n",
       "      <td>0.847264</td>\n",
       "      <td>0.853154</td>\n",
       "      <td>0.025</td>\n",
       "      <td>0.200</td>\n",
       "      <td>0.300</td>\n",
       "      <td>0.840533</td>\n",
       "      <td>0.850856</td>\n",
       "      <td>0.864844</td>\n",
       "    </tr>\n",
       "    <tr>\n",
       "      <th>1</th>\n",
       "      <td>0.230769</td>\n",
       "      <td>0.333333</td>\n",
       "      <td>0.03268</td>\n",
       "      <td>0.0</td>\n",
       "      <td>0.0</td>\n",
       "      <td>0.344828</td>\n",
       "      <td>0.74359</td>\n",
       "      <td>0.001053</td>\n",
       "      <td>0.49501</td>\n",
       "      <td>0.225</td>\n",
       "      <td>...</td>\n",
       "      <td>0.150</td>\n",
       "      <td>0.864781</td>\n",
       "      <td>0.840533</td>\n",
       "      <td>0.855519</td>\n",
       "      <td>0.025</td>\n",
       "      <td>0.025</td>\n",
       "      <td>0.025</td>\n",
       "      <td>0.840533</td>\n",
       "      <td>0.840533</td>\n",
       "      <td>0.840533</td>\n",
       "    </tr>\n",
       "    <tr>\n",
       "      <th>2</th>\n",
       "      <td>0.230769</td>\n",
       "      <td>0.333333</td>\n",
       "      <td>0.03268</td>\n",
       "      <td>0.0</td>\n",
       "      <td>0.0</td>\n",
       "      <td>0.344828</td>\n",
       "      <td>0.74359</td>\n",
       "      <td>0.001053</td>\n",
       "      <td>0.49501</td>\n",
       "      <td>0.225</td>\n",
       "      <td>...</td>\n",
       "      <td>0.075</td>\n",
       "      <td>0.838534</td>\n",
       "      <td>0.843337</td>\n",
       "      <td>0.846422</td>\n",
       "      <td>0.200</td>\n",
       "      <td>0.100</td>\n",
       "      <td>0.125</td>\n",
       "      <td>0.853412</td>\n",
       "      <td>0.842583</td>\n",
       "      <td>0.847859</td>\n",
       "    </tr>\n",
       "    <tr>\n",
       "      <th>3</th>\n",
       "      <td>0.230769</td>\n",
       "      <td>0.333333</td>\n",
       "      <td>0.03268</td>\n",
       "      <td>0.0</td>\n",
       "      <td>0.0</td>\n",
       "      <td>0.344828</td>\n",
       "      <td>0.74359</td>\n",
       "      <td>0.001053</td>\n",
       "      <td>0.49501</td>\n",
       "      <td>0.225</td>\n",
       "      <td>...</td>\n",
       "      <td>0.250</td>\n",
       "      <td>0.851685</td>\n",
       "      <td>0.849673</td>\n",
       "      <td>0.854624</td>\n",
       "      <td>0.150</td>\n",
       "      <td>0.250</td>\n",
       "      <td>0.200</td>\n",
       "      <td>0.849673</td>\n",
       "      <td>0.854624</td>\n",
       "      <td>0.858051</td>\n",
       "    </tr>\n",
       "    <tr>\n",
       "      <th>4</th>\n",
       "      <td>0.230769</td>\n",
       "      <td>0.333333</td>\n",
       "      <td>0.03268</td>\n",
       "      <td>0.0</td>\n",
       "      <td>0.0</td>\n",
       "      <td>0.344828</td>\n",
       "      <td>0.74359</td>\n",
       "      <td>0.001053</td>\n",
       "      <td>0.49501</td>\n",
       "      <td>0.225</td>\n",
       "      <td>...</td>\n",
       "      <td>0.250</td>\n",
       "      <td>0.847892</td>\n",
       "      <td>0.842776</td>\n",
       "      <td>0.862423</td>\n",
       "      <td>0.175</td>\n",
       "      <td>0.075</td>\n",
       "      <td>0.275</td>\n",
       "      <td>0.853634</td>\n",
       "      <td>0.844529</td>\n",
       "      <td>0.862845</td>\n",
       "    </tr>\n",
       "  </tbody>\n",
       "</table>\n",
       "<p>5 rows × 144 columns</p>\n",
       "</div>"
      ],
      "text/plain": [
       "   horse1_age  horse1_saddle  horse1_decimalPrice  horse1_isFav  \\\n",
       "0    0.230769       0.333333              0.03268           0.0   \n",
       "1    0.230769       0.333333              0.03268           0.0   \n",
       "2    0.230769       0.333333              0.03268           0.0   \n",
       "3    0.230769       0.333333              0.03268           0.0   \n",
       "4    0.230769       0.333333              0.03268           0.0   \n",
       "\n",
       "   horse1_outHandicap  horse1_RPR  horse1_weight  horse1_jockey_d_last_race  \\\n",
       "0                 0.0    0.344828        0.74359                   0.001053   \n",
       "1                 0.0    0.344828        0.74359                   0.001053   \n",
       "2                 0.0    0.344828        0.74359                   0.001053   \n",
       "3                 0.0    0.344828        0.74359                   0.001053   \n",
       "4                 0.0    0.344828        0.74359                   0.001053   \n",
       "\n",
       "   horse1_jockey_d_first_race  horse1_jockey_prev_1_position  ...  \\\n",
       "0                     0.49501                          0.225  ...   \n",
       "1                     0.49501                          0.225  ...   \n",
       "2                     0.49501                          0.225  ...   \n",
       "3                     0.49501                          0.225  ...   \n",
       "4                     0.49501                          0.225  ...   \n",
       "\n",
       "   horse2_jockey_prev_3_position_rain  \\\n",
       "0                               0.200   \n",
       "1                               0.150   \n",
       "2                               0.075   \n",
       "3                               0.250   \n",
       "4                               0.250   \n",
       "\n",
       "   horse2_jockey_prev_1_finishing_time_ratio_rain  \\\n",
       "0                                        0.865544   \n",
       "1                                        0.864781   \n",
       "2                                        0.838534   \n",
       "3                                        0.851685   \n",
       "4                                        0.847892   \n",
       "\n",
       "   horse2_jockey_prev_2_finishing_time_ratio_rain  \\\n",
       "0                                        0.847264   \n",
       "1                                        0.840533   \n",
       "2                                        0.843337   \n",
       "3                                        0.849673   \n",
       "4                                        0.842776   \n",
       "\n",
       "   horse2_jockey_prev_3_finishing_time_ratio_rain  \\\n",
       "0                                        0.853154   \n",
       "1                                        0.855519   \n",
       "2                                        0.846422   \n",
       "3                                        0.854624   \n",
       "4                                        0.862423   \n",
       "\n",
       "   horse2_jockey_prev_1_position_rhum  horse2_jockey_prev_2_position_rhum  \\\n",
       "0                               0.025                               0.200   \n",
       "1                               0.025                               0.025   \n",
       "2                               0.200                               0.100   \n",
       "3                               0.150                               0.250   \n",
       "4                               0.175                               0.075   \n",
       "\n",
       "   horse2_jockey_prev_3_position_rhum  \\\n",
       "0                               0.300   \n",
       "1                               0.025   \n",
       "2                               0.125   \n",
       "3                               0.200   \n",
       "4                               0.275   \n",
       "\n",
       "   horse2_jockey_prev_1_finishing_time_ratio_rhum  \\\n",
       "0                                        0.840533   \n",
       "1                                        0.840533   \n",
       "2                                        0.853412   \n",
       "3                                        0.849673   \n",
       "4                                        0.853634   \n",
       "\n",
       "   horse2_jockey_prev_2_finishing_time_ratio_rhum  \\\n",
       "0                                        0.850856   \n",
       "1                                        0.840533   \n",
       "2                                        0.842583   \n",
       "3                                        0.854624   \n",
       "4                                        0.844529   \n",
       "\n",
       "   horse2_jockey_prev_3_finishing_time_ratio_rhum  \n",
       "0                                        0.864844  \n",
       "1                                        0.840533  \n",
       "2                                        0.847859  \n",
       "3                                        0.858051  \n",
       "4                                        0.862845  \n",
       "\n",
       "[5 rows x 144 columns]"
      ]
     },
     "execution_count": 7,
     "metadata": {},
     "output_type": "execute_result"
    }
   ],
   "source": [
    "X_test = pd.read_csv(f\"{BASE_DIR}/data/analysis/X_test_preprocess_without_race.csv\", low_memory=False)\n",
    "X_test.head()"
   ]
  },
  {
   "cell_type": "code",
   "execution_count": 8,
   "id": "7a72f6b6",
   "metadata": {},
   "outputs": [
    {
     "data": {
      "text/plain": [
       "(114392, 144)"
      ]
     },
     "execution_count": 8,
     "metadata": {},
     "output_type": "execute_result"
    }
   ],
   "source": [
    "X_test.shape"
   ]
  },
  {
   "cell_type": "markdown",
   "id": "d2e418d3",
   "metadata": {},
   "source": [
    "---"
   ]
  },
  {
   "cell_type": "markdown",
   "id": "f07c04f4",
   "metadata": {},
   "source": [
    "## Load Pairwise Winner Labels"
   ]
  },
  {
   "cell_type": "code",
   "execution_count": 9,
   "id": "26f47c5c",
   "metadata": {},
   "outputs": [],
   "source": [
    "X_train_pairwise_winner_labels = np.loadtxt(f\"{BASE_DIR}/data/analysis/x_train_pairwise_winner_labels.csv\",\n",
    "                                            dtype=int,\n",
    "                                            delimiter=',')"
   ]
  },
  {
   "cell_type": "code",
   "execution_count": 10,
   "id": "ef6c4090",
   "metadata": {},
   "outputs": [],
   "source": [
    "X_dev_pairwise_winner_labels = np.loadtxt(f\"{BASE_DIR}/data/analysis/X_dev_pairwise_winner_labels.csv\",\n",
    "                                          dtype=int,\n",
    "                                          delimiter=',')"
   ]
  },
  {
   "cell_type": "code",
   "execution_count": 11,
   "id": "89302808",
   "metadata": {},
   "outputs": [],
   "source": [
    "X_test_pairwise_winner_labels = np.loadtxt(f\"{BASE_DIR}/data/analysis/X_test_pairwise_winner_labels.csv\",\n",
    "                                           dtype=int,\n",
    "                                           delimiter=',')"
   ]
  },
  {
   "cell_type": "markdown",
   "id": "f1b57957",
   "metadata": {},
   "source": [
    "---"
   ]
  },
  {
   "cell_type": "markdown",
   "id": "e5c9d48f",
   "metadata": {},
   "source": [
    "## Tensor Transformations"
   ]
  },
  {
   "cell_type": "code",
   "execution_count": 13,
   "id": "f94715b6",
   "metadata": {},
   "outputs": [],
   "source": [
    "import torch\n",
    "import torch.nn as nn\n",
    "from torch.utils.data import DataLoader\n",
    "\n",
    "device = torch.device(\"cuda:0\" if torch.cuda.is_available() else \"cpu\")\n",
    "batch_size = 256"
   ]
  },
  {
   "cell_type": "code",
   "execution_count": 14,
   "id": "4b50e441",
   "metadata": {},
   "outputs": [],
   "source": [
    "X_train_tensor = torch.from_numpy(X_train.to_numpy()).float().to(device)\n",
    "\n",
    "y_train_tensor = torch.from_numpy(X_train_pairwise_winner_labels).float().to(device)\n",
    "y_train_tensor = torch.reshape(y_train_tensor, (-1, 1))\n",
    "\n",
    "X_dev_tensor = torch.from_numpy(X_dev.to_numpy()).float().to(device)\n",
    "\n",
    "y_dev_tensor = torch.from_numpy(X_dev_pairwise_winner_labels).float().to(device)\n",
    "y_dev_tensor = torch.reshape(y_dev_tensor, (-1, 1))\n",
    "\n",
    "X_test_tensor = torch.from_numpy(X_test.to_numpy()).float().to(device)\n",
    "\n",
    "y_test_tensor = torch.from_numpy(X_test_pairwise_winner_labels).float().to(device)\n",
    "y_test_tensor = torch.reshape(y_test_tensor, (-1, 1))"
   ]
  },
  {
   "cell_type": "code",
   "execution_count": 15,
   "id": "f20b8d88",
   "metadata": {},
   "outputs": [],
   "source": [
    "X_train_dataset = list(zip(X_train_tensor, y_train_tensor))\n",
    "X_dev_dataset = list(zip(X_dev_tensor, y_dev_tensor))\n",
    "X_test_dataset = list(zip(X_test_tensor, y_test_tensor))"
   ]
  },
  {
   "cell_type": "code",
   "execution_count": 16,
   "id": "9e9197aa",
   "metadata": {},
   "outputs": [],
   "source": [
    "train_loader = DataLoader(dataset=X_train_dataset, batch_size=batch_size, shuffle=True, num_workers=0)\n",
    "dev_loader = DataLoader(dataset=X_dev_dataset, batch_size=batch_size, shuffle=False, num_workers=0)\n",
    "test_loader = DataLoader(dataset=X_test_dataset, batch_size=batch_size, shuffle=False, num_workers=0)"
   ]
  },
  {
   "cell_type": "markdown",
   "id": "1faeac32",
   "metadata": {},
   "source": [
    "---"
   ]
  },
  {
   "cell_type": "markdown",
   "id": "69d15efd",
   "metadata": {},
   "source": [
    "## Load All Models w/ Weather Features"
   ]
  },
  {
   "cell_type": "markdown",
   "id": "89835bad",
   "metadata": {},
   "source": [
    "### Neural Net"
   ]
  },
  {
   "cell_type": "code",
   "execution_count": 17,
   "id": "42f0f876",
   "metadata": {},
   "outputs": [],
   "source": [
    "import torch\n",
    "import torch.nn as nn\n",
    "\n",
    "class Net(nn.Module):\n",
    "    def __init__(self, input_size, num_layers, layers_size):\n",
    "        super(Net, self).__init__()\n",
    "        self.hidden_layers = nn.ModuleList([nn.Linear(input_size, layers_size)])\n",
    "        self.hidden_layers.extend([nn.Linear(layers_size, layers_size) for i in range(1, num_layers-1)])\n",
    "        self.output = nn.Linear(layers_size, 1)\n",
    "        self.activation = nn.ReLU()\n",
    "    \n",
    "    def forward(self, x):\n",
    "        z = x\n",
    "        for layer in self.hidden_layers:\n",
    "            z = self.activation(layer(z))\n",
    "        return self.output(z)"
   ]
  },
  {
   "cell_type": "code",
   "execution_count": 18,
   "id": "4eb99bfa",
   "metadata": {},
   "outputs": [
    {
     "data": {
      "text/plain": [
       "Net(\n",
       "  (hidden_layers): ModuleList(\n",
       "    (0): Linear(in_features=144, out_features=150, bias=True)\n",
       "  )\n",
       "  (output): Linear(in_features=150, out_features=1, bias=True)\n",
       "  (activation): ReLU()\n",
       ")"
      ]
     },
     "execution_count": 18,
     "metadata": {},
     "output_type": "execute_result"
    }
   ],
   "source": [
    "net = Net(X_train.shape[1], 1, 150)\n",
    "net.load_state_dict(torch.load(f\"{BASE_DIR}/data/analysis/neural_network/net_all_features_150_nodes.bin\"))\n",
    "net.eval()"
   ]
  },
  {
   "cell_type": "markdown",
   "id": "eff52fad",
   "metadata": {},
   "source": [
    "### Logistic Regression"
   ]
  },
  {
   "cell_type": "code",
   "execution_count": 19,
   "id": "115f77b1",
   "metadata": {},
   "outputs": [],
   "source": [
    "with open(f\"{BASE_DIR}/data/analysis/logistic_regression/without_race_with_weather.pkl\",'rb') as f:\n",
    "    lr = pickle.load(f)"
   ]
  },
  {
   "cell_type": "markdown",
   "id": "eb1b9860",
   "metadata": {},
   "source": [
    "### Random Forest"
   ]
  },
  {
   "cell_type": "code",
   "execution_count": 20,
   "id": "fedda309",
   "metadata": {},
   "outputs": [],
   "source": [
    "with open(f\"{BASE_DIR}/data/analysis/random_forest/without_race_with_weather.pkl\",'rb') as f:\n",
    "    rfc = pickle.load(f)"
   ]
  },
  {
   "cell_type": "markdown",
   "id": "8ae2e8eb",
   "metadata": {},
   "source": [
    "### Extra Trees"
   ]
  },
  {
   "cell_type": "code",
   "execution_count": 21,
   "id": "f4e39886",
   "metadata": {},
   "outputs": [],
   "source": [
    "with open(f\"{BASE_DIR}/data/analysis/extra_trees/without_race_with_weather.pkl\",'rb') as f:\n",
    "    etc = pickle.load(f)"
   ]
  },
  {
   "cell_type": "markdown",
   "id": "f197a969",
   "metadata": {},
   "source": [
    "### Decision Tree"
   ]
  },
  {
   "cell_type": "code",
   "execution_count": 22,
   "id": "57b0539f",
   "metadata": {},
   "outputs": [],
   "source": [
    "with open(f\"{BASE_DIR}/data/analysis/decision_tree/without_race_with_weather.pkl\",'rb') as f:\n",
    "    dtc = pickle.load(f)"
   ]
  },
  {
   "cell_type": "markdown",
   "id": "0e33960e",
   "metadata": {},
   "source": [
    "---"
   ]
  },
  {
   "cell_type": "markdown",
   "id": "06162e96",
   "metadata": {},
   "source": [
    "## Evaluate All Models w/ Weather Features"
   ]
  },
  {
   "cell_type": "markdown",
   "id": "e19443a2",
   "metadata": {},
   "source": [
    "### Neural Network"
   ]
  },
  {
   "cell_type": "code",
   "execution_count": 23,
   "id": "a744307d",
   "metadata": {},
   "outputs": [],
   "source": [
    "def accuracy(net, data_loader):\n",
    "    err = 0\n",
    "    tot = 0\n",
    "    with torch.no_grad():\n",
    "        for data in data_loader:\n",
    "\n",
    "            X = data[0].to(device)\n",
    "            y = data[1].to(device)\n",
    "\n",
    "            # raw output of network for X\n",
    "            preds = torch.round(torch.sigmoid(net(X)))\n",
    "\n",
    "            tot += y.size(0)\n",
    "\n",
    "            err += torch.sum(y != preds)\n",
    "\n",
    "    acc_percent = 100 - (100 * err / tot)\n",
    "    return acc_percent"
   ]
  },
  {
   "cell_type": "code",
   "execution_count": 24,
   "id": "a6009518",
   "metadata": {},
   "outputs": [
    {
     "data": {
      "text/plain": [
       "tensor(95.0194)"
      ]
     },
     "execution_count": 24,
     "metadata": {},
     "output_type": "execute_result"
    }
   ],
   "source": [
    "accuracy(net, train_loader)"
   ]
  },
  {
   "cell_type": "code",
   "execution_count": 25,
   "id": "c48945f2",
   "metadata": {},
   "outputs": [
    {
     "data": {
      "text/plain": [
       "tensor(94.6823)"
      ]
     },
     "execution_count": 25,
     "metadata": {},
     "output_type": "execute_result"
    }
   ],
   "source": [
    "accuracy(net, dev_loader)"
   ]
  },
  {
   "cell_type": "code",
   "execution_count": 26,
   "id": "bcfedb88",
   "metadata": {},
   "outputs": [
    {
     "data": {
      "text/plain": [
       "tensor(94.5678)"
      ]
     },
     "execution_count": 26,
     "metadata": {},
     "output_type": "execute_result"
    }
   ],
   "source": [
    "accuracy(net, test_loader)"
   ]
  },
  {
   "cell_type": "markdown",
   "id": "96a3bb43",
   "metadata": {},
   "source": [
    "### Logistic Regression"
   ]
  },
  {
   "cell_type": "code",
   "execution_count": 27,
   "id": "c1da4210",
   "metadata": {},
   "outputs": [
    {
     "data": {
      "text/plain": [
       "0.9454941261399885"
      ]
     },
     "execution_count": 27,
     "metadata": {},
     "output_type": "execute_result"
    }
   ],
   "source": [
    "lr.score(X_train.to_numpy(), X_train_pairwise_winner_labels)"
   ]
  },
  {
   "cell_type": "code",
   "execution_count": 28,
   "id": "cadae324",
   "metadata": {},
   "outputs": [
    {
     "data": {
      "text/plain": [
       "0.943112175760384"
      ]
     },
     "execution_count": 28,
     "metadata": {},
     "output_type": "execute_result"
    }
   ],
   "source": [
    "lr.score(X_dev.to_numpy(), X_dev_pairwise_winner_labels)"
   ]
  },
  {
   "cell_type": "code",
   "execution_count": 29,
   "id": "442d4d13",
   "metadata": {},
   "outputs": [
    {
     "data": {
      "text/plain": [
       "0.9432128120847612"
      ]
     },
     "execution_count": 29,
     "metadata": {},
     "output_type": "execute_result"
    }
   ],
   "source": [
    "lr.score(X_test.to_numpy(), X_test_pairwise_winner_labels)"
   ]
  },
  {
   "cell_type": "markdown",
   "id": "03a46fe6",
   "metadata": {},
   "source": [
    "### Random Forest"
   ]
  },
  {
   "cell_type": "code",
   "execution_count": 30,
   "id": "3f61258b",
   "metadata": {},
   "outputs": [
    {
     "data": {
      "text/plain": [
       "0.993441709776611"
      ]
     },
     "execution_count": 30,
     "metadata": {},
     "output_type": "execute_result"
    }
   ],
   "source": [
    "rfc.score(X_train.to_numpy(), X_train_pairwise_winner_labels)"
   ]
  },
  {
   "cell_type": "code",
   "execution_count": 31,
   "id": "6925758f",
   "metadata": {},
   "outputs": [
    {
     "data": {
      "text/plain": [
       "0.8475691317765752"
      ]
     },
     "execution_count": 31,
     "metadata": {},
     "output_type": "execute_result"
    }
   ],
   "source": [
    "rfc.score(X_dev.to_numpy(), X_dev_pairwise_winner_labels)"
   ]
  },
  {
   "cell_type": "code",
   "execution_count": 32,
   "id": "43a925a8",
   "metadata": {},
   "outputs": [
    {
     "data": {
      "text/plain": [
       "0.8494824812923981"
      ]
     },
     "execution_count": 32,
     "metadata": {},
     "output_type": "execute_result"
    }
   ],
   "source": [
    "rfc.score(X_test.to_numpy(), X_test_pairwise_winner_labels)"
   ]
  },
  {
   "cell_type": "markdown",
   "id": "562f5ca4",
   "metadata": {},
   "source": [
    "### Extra Trees"
   ]
  },
  {
   "cell_type": "code",
   "execution_count": 33,
   "id": "14117b82",
   "metadata": {},
   "outputs": [
    {
     "data": {
      "text/plain": [
       "0.9958547009614496"
      ]
     },
     "execution_count": 33,
     "metadata": {},
     "output_type": "execute_result"
    }
   ],
   "source": [
    "etc.score(X_train.to_numpy(), X_train_pairwise_winner_labels)"
   ]
  },
  {
   "cell_type": "code",
   "execution_count": 34,
   "id": "87a2739b",
   "metadata": {},
   "outputs": [
    {
     "data": {
      "text/plain": [
       "0.8289168845020676"
      ]
     },
     "execution_count": 34,
     "metadata": {},
     "output_type": "execute_result"
    }
   ],
   "source": [
    "etc.score(X_dev.to_numpy(), X_dev_pairwise_winner_labels)"
   ]
  },
  {
   "cell_type": "code",
   "execution_count": 35,
   "id": "e4f3a39b",
   "metadata": {},
   "outputs": [
    {
     "data": {
      "text/plain": [
       "0.8235103853416322"
      ]
     },
     "execution_count": 35,
     "metadata": {},
     "output_type": "execute_result"
    }
   ],
   "source": [
    "etc.score(X_test.to_numpy(), X_test_pairwise_winner_labels)"
   ]
  },
  {
   "cell_type": "markdown",
   "id": "84d45c78",
   "metadata": {},
   "source": [
    "### Decision Tree"
   ]
  },
  {
   "cell_type": "code",
   "execution_count": 36,
   "id": "09631ed2",
   "metadata": {},
   "outputs": [
    {
     "data": {
      "text/plain": [
       "0.9255619696602578"
      ]
     },
     "execution_count": 36,
     "metadata": {},
     "output_type": "execute_result"
    }
   ],
   "source": [
    "dtc.score(X_train.to_numpy(), X_train_pairwise_winner_labels)"
   ]
  },
  {
   "cell_type": "code",
   "execution_count": 37,
   "id": "c75baabd",
   "metadata": {},
   "outputs": [
    {
     "data": {
      "text/plain": [
       "0.9048197721689412"
      ]
     },
     "execution_count": 37,
     "metadata": {},
     "output_type": "execute_result"
    }
   ],
   "source": [
    "dtc.score(X_dev.to_numpy(), X_dev_pairwise_winner_labels)"
   ]
  },
  {
   "cell_type": "code",
   "execution_count": 38,
   "id": "fc99789c",
   "metadata": {},
   "outputs": [
    {
     "data": {
      "text/plain": [
       "0.9074935310161549"
      ]
     },
     "execution_count": 38,
     "metadata": {},
     "output_type": "execute_result"
    }
   ],
   "source": [
    "dtc.score(X_test.to_numpy(), X_test_pairwise_winner_labels)"
   ]
  },
  {
   "cell_type": "markdown",
   "id": "fd034f36",
   "metadata": {},
   "source": [
    "---"
   ]
  },
  {
   "cell_type": "markdown",
   "id": "b8444b73",
   "metadata": {},
   "source": [
    "## Remove Features that Involve Weather"
   ]
  },
  {
   "cell_type": "code",
   "execution_count": 39,
   "id": "24e1e5c0",
   "metadata": {},
   "outputs": [],
   "source": [
    "drop_cols = [\n",
    "    'horse1_jockey_prev_1_position_temp',\n",
    "    'horse1_jockey_prev_2_position_temp',\n",
    "    'horse1_jockey_prev_3_position_temp',\n",
    "    'horse1_jockey_prev_1_finishing_time_ratio_temp',\n",
    "    'horse1_jockey_prev_2_finishing_time_ratio_temp',\n",
    "    'horse1_jockey_prev_3_finishing_time_ratio_temp',\n",
    "    'horse1_jockey_prev_1_position_msl',\n",
    "    'horse1_jockey_prev_2_position_msl',\n",
    "    'horse1_jockey_prev_3_position_msl',\n",
    "    'horse1_jockey_prev_1_finishing_time_ratio_msl',\n",
    "    'horse1_jockey_prev_2_finishing_time_ratio_msl',\n",
    "    'horse1_jockey_prev_3_finishing_time_ratio_msl',\n",
    "    'horse1_jockey_prev_1_position_rain',\n",
    "    'horse1_jockey_prev_2_position_rain',\n",
    "    'horse1_jockey_prev_3_position_rain',\n",
    "    'horse1_jockey_prev_1_finishing_time_ratio_rain',\n",
    "    'horse1_jockey_prev_2_finishing_time_ratio_rain',\n",
    "    'horse1_jockey_prev_3_finishing_time_ratio_rain',\n",
    "    'horse1_jockey_prev_1_position_rhum',\n",
    "    'horse1_jockey_prev_2_position_rhum',\n",
    "    'horse1_jockey_prev_3_position_rhum',\n",
    "    'horse1_jockey_prev_1_finishing_time_ratio_rhum',\n",
    "    'horse1_jockey_prev_2_finishing_time_ratio_rhum',\n",
    "    'horse1_jockey_prev_3_finishing_time_ratio_rhum',\n",
    "    'horse2_jockey_prev_1_position_temp',\n",
    "    'horse2_jockey_prev_2_position_temp',\n",
    "    'horse2_jockey_prev_3_position_temp',\n",
    "    'horse2_jockey_prev_1_finishing_time_ratio_temp',\n",
    "    'horse2_jockey_prev_2_finishing_time_ratio_temp',\n",
    "    'horse2_jockey_prev_3_finishing_time_ratio_temp',\n",
    "    'horse2_jockey_prev_1_position_msl',\n",
    "    'horse2_jockey_prev_2_position_msl',\n",
    "    'horse2_jockey_prev_3_position_msl',\n",
    "    'horse2_jockey_prev_1_finishing_time_ratio_msl',\n",
    "    'horse2_jockey_prev_2_finishing_time_ratio_msl',\n",
    "    'horse2_jockey_prev_3_finishing_time_ratio_msl',\n",
    "    'horse2_jockey_prev_1_position_rain',\n",
    "    'horse2_jockey_prev_2_position_rain',\n",
    "    'horse2_jockey_prev_3_position_rain',\n",
    "    'horse2_jockey_prev_1_finishing_time_ratio_rain',\n",
    "    'horse2_jockey_prev_2_finishing_time_ratio_rain',\n",
    "    'horse2_jockey_prev_3_finishing_time_ratio_rain',\n",
    "    'horse2_jockey_prev_1_position_rhum',\n",
    "    'horse2_jockey_prev_2_position_rhum',\n",
    "    'horse2_jockey_prev_3_position_rhum',\n",
    "    'horse2_jockey_prev_1_finishing_time_ratio_rhum',\n",
    "    'horse2_jockey_prev_2_finishing_time_ratio_rhum',\n",
    "    'horse2_jockey_prev_3_finishing_time_ratio_rhum'\n",
    "]"
   ]
  },
  {
   "cell_type": "code",
   "execution_count": 40,
   "id": "4550d41a",
   "metadata": {},
   "outputs": [
    {
     "data": {
      "text/plain": [
       "(800666, 96)"
      ]
     },
     "execution_count": 40,
     "metadata": {},
     "output_type": "execute_result"
    }
   ],
   "source": [
    "X_train = X_train.drop(columns=drop_cols)\n",
    "X_train.shape"
   ]
  },
  {
   "cell_type": "code",
   "execution_count": 41,
   "id": "ec290cde",
   "metadata": {},
   "outputs": [
    {
     "data": {
      "text/plain": [
       "(228766, 96)"
      ]
     },
     "execution_count": 41,
     "metadata": {},
     "output_type": "execute_result"
    }
   ],
   "source": [
    "X_dev = X_dev.drop(columns=drop_cols)\n",
    "X_dev.shape"
   ]
  },
  {
   "cell_type": "code",
   "execution_count": 42,
   "id": "d8714ae2",
   "metadata": {},
   "outputs": [
    {
     "data": {
      "text/plain": [
       "(114392, 96)"
      ]
     },
     "execution_count": 42,
     "metadata": {},
     "output_type": "execute_result"
    }
   ],
   "source": [
    "X_test = X_test.drop(columns=drop_cols)\n",
    "X_test.shape"
   ]
  },
  {
   "cell_type": "markdown",
   "id": "fd9ac145",
   "metadata": {},
   "source": [
    "---"
   ]
  },
  {
   "cell_type": "markdown",
   "id": "bf4b6b17",
   "metadata": {},
   "source": [
    "## Tensor Transformations"
   ]
  },
  {
   "cell_type": "code",
   "execution_count": 43,
   "id": "7a1439e7",
   "metadata": {},
   "outputs": [],
   "source": [
    "from torch.utils.data import DataLoader\n",
    "\n",
    "device = torch.device(\"cuda:0\" if torch.cuda.is_available() else \"cpu\")\n",
    "batch_size = 256"
   ]
  },
  {
   "cell_type": "code",
   "execution_count": 44,
   "id": "b56172f5",
   "metadata": {},
   "outputs": [],
   "source": [
    "X_train_tensor = torch.from_numpy(X_train.to_numpy()).float().to(device)\n",
    "\n",
    "y_train_tensor = torch.from_numpy(X_train_pairwise_winner_labels).float().to(device)\n",
    "y_train_tensor = torch.reshape(y_train_tensor, (-1, 1))\n",
    "\n",
    "X_dev_tensor = torch.from_numpy(X_dev.to_numpy()).float().to(device)\n",
    "\n",
    "y_dev_tensor = torch.from_numpy(X_dev_pairwise_winner_labels).float().to(device)\n",
    "y_dev_tensor = torch.reshape(y_dev_tensor, (-1, 1))\n",
    "\n",
    "X_test_tensor = torch.from_numpy(X_test.to_numpy()).float().to(device)\n",
    "\n",
    "y_test_tensor = torch.from_numpy(X_test_pairwise_winner_labels).float().to(device)\n",
    "y_test_tensor = torch.reshape(y_test_tensor, (-1, 1))"
   ]
  },
  {
   "cell_type": "code",
   "execution_count": 45,
   "id": "aaff1ae4",
   "metadata": {},
   "outputs": [],
   "source": [
    "X_train_dataset = list(zip(X_train_tensor, y_train_tensor))\n",
    "X_dev_dataset = list(zip(X_dev_tensor, y_dev_tensor))\n",
    "X_test_dataset = list(zip(X_test_tensor, y_test_tensor))"
   ]
  },
  {
   "cell_type": "code",
   "execution_count": 46,
   "id": "6a905eab",
   "metadata": {},
   "outputs": [],
   "source": [
    "train_loader = DataLoader(dataset=X_train_dataset, batch_size=batch_size, shuffle=True, num_workers=0)\n",
    "dev_loader = DataLoader(dataset=X_dev_dataset, batch_size=batch_size, shuffle=False, num_workers=0)\n",
    "test_loader = DataLoader(dataset=X_test_dataset, batch_size=batch_size, shuffle=False, num_workers=0)"
   ]
  },
  {
   "cell_type": "markdown",
   "id": "2665edc2",
   "metadata": {},
   "source": [
    "---"
   ]
  },
  {
   "cell_type": "markdown",
   "id": "25eac4a9",
   "metadata": {},
   "source": [
    "## Load All Models w/o Weather Features"
   ]
  },
  {
   "cell_type": "markdown",
   "id": "7f8164f7",
   "metadata": {},
   "source": [
    "### Neural Net"
   ]
  },
  {
   "cell_type": "code",
   "execution_count": 47,
   "id": "d3c140cf",
   "metadata": {},
   "outputs": [],
   "source": [
    "import torch\n",
    "import torch.nn as nn\n",
    "\n",
    "class Net(nn.Module):\n",
    "    def __init__(self, input_size, num_layers, layers_size):\n",
    "        super(Net, self).__init__()\n",
    "        self.hidden_layers = nn.ModuleList([nn.Linear(input_size, layers_size)])\n",
    "        self.hidden_layers.extend([nn.Linear(layers_size, layers_size) for i in range(1, num_layers-1)])\n",
    "        self.output = nn.Linear(layers_size, 1)\n",
    "        self.activation = nn.ReLU()\n",
    "    \n",
    "    def forward(self, x):\n",
    "        z = x\n",
    "        for layer in self.hidden_layers:\n",
    "            z = self.activation(layer(z))\n",
    "        return self.output(z)"
   ]
  },
  {
   "cell_type": "code",
   "execution_count": 48,
   "id": "0572a916",
   "metadata": {},
   "outputs": [
    {
     "data": {
      "text/plain": [
       "Net(\n",
       "  (hidden_layers): ModuleList(\n",
       "    (0): Linear(in_features=96, out_features=500, bias=True)\n",
       "  )\n",
       "  (output): Linear(in_features=500, out_features=1, bias=True)\n",
       "  (activation): ReLU()\n",
       ")"
      ]
     },
     "execution_count": 48,
     "metadata": {},
     "output_type": "execute_result"
    }
   ],
   "source": [
    "net = Net(X_train.shape[1], 1, 500)\n",
    "net.load_state_dict(torch.load(f\"{BASE_DIR}/data/analysis/neural_network/net_no_weather_500_nodes.bin\"))\n",
    "net.eval()"
   ]
  },
  {
   "cell_type": "markdown",
   "id": "bf85e893",
   "metadata": {},
   "source": [
    "### Logistic Regression"
   ]
  },
  {
   "cell_type": "code",
   "execution_count": 49,
   "id": "9aeca201",
   "metadata": {},
   "outputs": [],
   "source": [
    "with open(f\"{BASE_DIR}/data/analysis/logistic_regression/without_race_without_weather.pkl\",'rb') as f:\n",
    "    lr = pickle.load(f)"
   ]
  },
  {
   "cell_type": "markdown",
   "id": "d0133259",
   "metadata": {},
   "source": [
    "### Random Forest"
   ]
  },
  {
   "cell_type": "code",
   "execution_count": 50,
   "id": "9cd5b466",
   "metadata": {},
   "outputs": [],
   "source": [
    "with open(f\"{BASE_DIR}/data/analysis/random_forest/without_race_without_weather.pkl\",'rb') as f:\n",
    "    rfc = pickle.load(f)"
   ]
  },
  {
   "cell_type": "markdown",
   "id": "c933be1d",
   "metadata": {},
   "source": [
    "### Extra Trees"
   ]
  },
  {
   "cell_type": "code",
   "execution_count": 51,
   "id": "1716f984",
   "metadata": {},
   "outputs": [],
   "source": [
    "with open(f\"{BASE_DIR}/data/analysis/extra_trees/without_race_without_weather.pkl\",'rb') as f:\n",
    "    etc = pickle.load(f)"
   ]
  },
  {
   "cell_type": "markdown",
   "id": "809f5378",
   "metadata": {},
   "source": [
    "### Decision Tree"
   ]
  },
  {
   "cell_type": "code",
   "execution_count": 52,
   "id": "6bd22dff",
   "metadata": {},
   "outputs": [],
   "source": [
    "with open(f\"{BASE_DIR}/data/analysis/decision_tree/without_race_without_weather.pkl\",'rb') as f:\n",
    "    dtc = pickle.load(f)"
   ]
  },
  {
   "cell_type": "markdown",
   "id": "463fd138",
   "metadata": {},
   "source": [
    "---"
   ]
  },
  {
   "cell_type": "markdown",
   "id": "12994d3f",
   "metadata": {},
   "source": [
    "## Evaluate All Models w/ Weather Features"
   ]
  },
  {
   "cell_type": "markdown",
   "id": "4575515e",
   "metadata": {},
   "source": [
    "### Neural Network"
   ]
  },
  {
   "cell_type": "code",
   "execution_count": 53,
   "id": "d20371f4",
   "metadata": {},
   "outputs": [],
   "source": [
    "def accuracy(net, data_loader):\n",
    "    err = 0\n",
    "    tot = 0\n",
    "    with torch.no_grad():\n",
    "        for data in data_loader:\n",
    "\n",
    "            X = data[0].to(device)\n",
    "            y = data[1].to(device)\n",
    "\n",
    "            # raw output of network for X\n",
    "            preds = torch.round(torch.sigmoid(net(X)))\n",
    "\n",
    "            tot += y.size(0)\n",
    "\n",
    "            err += torch.sum(y != preds)\n",
    "\n",
    "    acc_percent = 100 - (100 * err / tot)\n",
    "    return acc_percent"
   ]
  },
  {
   "cell_type": "code",
   "execution_count": 54,
   "id": "aab6e361",
   "metadata": {},
   "outputs": [
    {
     "data": {
      "text/plain": [
       "tensor(95.2838)"
      ]
     },
     "execution_count": 54,
     "metadata": {},
     "output_type": "execute_result"
    }
   ],
   "source": [
    "accuracy(net, train_loader)"
   ]
  },
  {
   "cell_type": "code",
   "execution_count": 55,
   "id": "1d6dc89e",
   "metadata": {},
   "outputs": [
    {
     "data": {
      "text/plain": [
       "tensor(95.1326)"
      ]
     },
     "execution_count": 55,
     "metadata": {},
     "output_type": "execute_result"
    }
   ],
   "source": [
    "accuracy(net, dev_loader)"
   ]
  },
  {
   "cell_type": "code",
   "execution_count": 56,
   "id": "001bca01",
   "metadata": {},
   "outputs": [
    {
     "data": {
      "text/plain": [
       "tensor(94.9524)"
      ]
     },
     "execution_count": 56,
     "metadata": {},
     "output_type": "execute_result"
    }
   ],
   "source": [
    "accuracy(net, test_loader)"
   ]
  },
  {
   "cell_type": "markdown",
   "id": "47d9b831",
   "metadata": {},
   "source": [
    "### Logistic Regression"
   ]
  },
  {
   "cell_type": "code",
   "execution_count": 57,
   "id": "b3092241",
   "metadata": {},
   "outputs": [
    {
     "data": {
      "text/plain": [
       "0.9455315949472064"
      ]
     },
     "execution_count": 57,
     "metadata": {},
     "output_type": "execute_result"
    }
   ],
   "source": [
    "lr.score(X_train.to_numpy(), X_train_pairwise_winner_labels)"
   ]
  },
  {
   "cell_type": "code",
   "execution_count": 58,
   "id": "bec48930",
   "metadata": {},
   "outputs": [
    {
     "data": {
      "text/plain": [
       "0.9430728342498448"
      ]
     },
     "execution_count": 58,
     "metadata": {},
     "output_type": "execute_result"
    }
   ],
   "source": [
    "lr.score(X_dev.to_numpy(), X_dev_pairwise_winner_labels)"
   ]
  },
  {
   "cell_type": "code",
   "execution_count": 59,
   "id": "95113714",
   "metadata": {},
   "outputs": [
    {
     "data": {
      "text/plain": [
       "0.9432565214350654"
      ]
     },
     "execution_count": 59,
     "metadata": {},
     "output_type": "execute_result"
    }
   ],
   "source": [
    "lr.score(X_test.to_numpy(), X_test_pairwise_winner_labels)"
   ]
  },
  {
   "cell_type": "markdown",
   "id": "52bdb358",
   "metadata": {},
   "source": [
    "### Random Forest"
   ]
  },
  {
   "cell_type": "code",
   "execution_count": 60,
   "id": "744822dc",
   "metadata": {},
   "outputs": [
    {
     "data": {
      "text/plain": [
       "0.9695366107715327"
      ]
     },
     "execution_count": 60,
     "metadata": {},
     "output_type": "execute_result"
    }
   ],
   "source": [
    "rfc.score(X_train.to_numpy(), X_train_pairwise_winner_labels)"
   ]
  },
  {
   "cell_type": "code",
   "execution_count": 61,
   "id": "9c28065f",
   "metadata": {},
   "outputs": [
    {
     "data": {
      "text/plain": [
       "0.8578241521904478"
      ]
     },
     "execution_count": 61,
     "metadata": {},
     "output_type": "execute_result"
    }
   ],
   "source": [
    "rfc.score(X_dev.to_numpy(), X_dev_pairwise_winner_labels)"
   ]
  },
  {
   "cell_type": "code",
   "execution_count": 62,
   "id": "9ce49501",
   "metadata": {},
   "outputs": [
    {
     "data": {
      "text/plain": [
       "0.8597366948737674"
      ]
     },
     "execution_count": 62,
     "metadata": {},
     "output_type": "execute_result"
    }
   ],
   "source": [
    "rfc.score(X_test.to_numpy(), X_test_pairwise_winner_labels)"
   ]
  },
  {
   "cell_type": "markdown",
   "id": "82785e25",
   "metadata": {},
   "source": [
    "### Extra Trees"
   ]
  },
  {
   "cell_type": "code",
   "execution_count": 63,
   "id": "c14e3647",
   "metadata": {},
   "outputs": [
    {
     "data": {
      "text/plain": [
       "0.9916144809446136"
      ]
     },
     "execution_count": 63,
     "metadata": {},
     "output_type": "execute_result"
    }
   ],
   "source": [
    "etc.score(X_train.to_numpy(), X_train_pairwise_winner_labels)"
   ]
  },
  {
   "cell_type": "code",
   "execution_count": 64,
   "id": "8cbac245",
   "metadata": {},
   "outputs": [
    {
     "data": {
      "text/plain": [
       "0.8359065595411905"
      ]
     },
     "execution_count": 64,
     "metadata": {},
     "output_type": "execute_result"
    }
   ],
   "source": [
    "etc.score(X_dev.to_numpy(), X_dev_pairwise_winner_labels)"
   ]
  },
  {
   "cell_type": "code",
   "execution_count": 65,
   "id": "56d40a56",
   "metadata": {},
   "outputs": [
    {
     "data": {
      "text/plain": [
       "0.8310808448143227"
      ]
     },
     "execution_count": 65,
     "metadata": {},
     "output_type": "execute_result"
    }
   ],
   "source": [
    "etc.score(X_test.to_numpy(), X_test_pairwise_winner_labels)"
   ]
  },
  {
   "cell_type": "markdown",
   "id": "503371d1",
   "metadata": {},
   "source": [
    "### Decision Tree"
   ]
  },
  {
   "cell_type": "code",
   "execution_count": 66,
   "id": "9c555ca4",
   "metadata": {},
   "outputs": [
    {
     "data": {
      "text/plain": [
       "0.9254707955626941"
      ]
     },
     "execution_count": 66,
     "metadata": {},
     "output_type": "execute_result"
    }
   ],
   "source": [
    "dtc.score(X_train.to_numpy(), X_train_pairwise_winner_labels)"
   ]
  },
  {
   "cell_type": "code",
   "execution_count": 67,
   "id": "5c0725e3",
   "metadata": {},
   "outputs": [
    {
     "data": {
      "text/plain": [
       "0.9043782729951129"
      ]
     },
     "execution_count": 67,
     "metadata": {},
     "output_type": "execute_result"
    }
   ],
   "source": [
    "dtc.score(X_dev.to_numpy(), X_dev_pairwise_winner_labels)"
   ]
  },
  {
   "cell_type": "code",
   "execution_count": 68,
   "id": "41882715",
   "metadata": {},
   "outputs": [
    {
     "data": {
      "text/plain": [
       "0.9038481712007833"
      ]
     },
     "execution_count": 68,
     "metadata": {},
     "output_type": "execute_result"
    }
   ],
   "source": [
    "dtc.score(X_test.to_numpy(), X_test_pairwise_winner_labels)"
   ]
  },
  {
   "cell_type": "markdown",
   "id": "901e0a6c",
   "metadata": {},
   "source": [
    "---"
   ]
  }
 ],
 "metadata": {
  "kernelspec": {
   "display_name": "Python 3 (ipykernel)",
   "language": "python",
   "name": "python3"
  },
  "language_info": {
   "codemirror_mode": {
    "name": "ipython",
    "version": 3
   },
   "file_extension": ".py",
   "mimetype": "text/x-python",
   "name": "python",
   "nbconvert_exporter": "python",
   "pygments_lexer": "ipython3",
   "version": "3.9.6"
  }
 },
 "nbformat": 4,
 "nbformat_minor": 5
}
