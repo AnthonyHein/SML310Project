{
 "cells": [
  {
   "cell_type": "markdown",
   "id": "7026e67b",
   "metadata": {},
   "source": [
    "# `pairwise_winner_odds_baseline.ipynb`"
   ]
  },
  {
   "cell_type": "markdown",
   "id": "c052cb33",
   "metadata": {},
   "source": [
    "### Author: Anthony Hein"
   ]
  },
  {
   "cell_type": "markdown",
   "id": "194e2cf5",
   "metadata": {},
   "source": [
    "#### Last updated: 11/14/2021"
   ]
  },
  {
   "cell_type": "markdown",
   "id": "1b86aa88",
   "metadata": {},
   "source": [
    "# Overview:\n",
    "\n",
    "Computes the performance of a baseline for selecting a pairwise winner which selects the one with the better odds. When the odds are equal, the baseline selects either horse with equal probability."
   ]
  },
  {
   "cell_type": "markdown",
   "id": "697e80d8",
   "metadata": {},
   "source": [
    "---"
   ]
  },
  {
   "cell_type": "markdown",
   "id": "08164829",
   "metadata": {},
   "source": [
    "## Setup"
   ]
  },
  {
   "cell_type": "code",
   "execution_count": 4,
   "id": "9e9ee6d1",
   "metadata": {},
   "outputs": [],
   "source": [
    "from datetime import datetime\n",
    "import git\n",
    "import os\n",
    "import re\n",
    "from typing import List\n",
    "from sklearn.preprocessing import StandardScaler\n",
    "from tqdm import tqdm\n",
    "import pandas as pd\n",
    "import numpy as np\n",
    "from scipy import stats\n",
    "import matplotlib.pyplot as plt\n",
    "import seaborn as sns\n",
    "%matplotlib inline"
   ]
  },
  {
   "cell_type": "code",
   "execution_count": 5,
   "id": "f013a715",
   "metadata": {},
   "outputs": [
    {
     "data": {
      "text/plain": [
       "'/Users/anthonyhein/Desktop/SML310/project'"
      ]
     },
     "execution_count": 5,
     "metadata": {},
     "output_type": "execute_result"
    }
   ],
   "source": [
    "BASE_DIR = git.Repo(os.getcwd(), search_parent_directories=True).working_dir\n",
    "BASE_DIR"
   ]
  },
  {
   "cell_type": "markdown",
   "id": "900adb93",
   "metadata": {},
   "source": [
    "---"
   ]
  },
  {
   "cell_type": "markdown",
   "id": "da9daf25",
   "metadata": {},
   "source": [
    "## Load `X_train_everything.csv`"
   ]
  },
  {
   "cell_type": "code",
   "execution_count": 6,
   "id": "f04cfc74",
   "metadata": {},
   "outputs": [
    {
     "data": {
      "text/html": [
       "<div>\n",
       "<style scoped>\n",
       "    .dataframe tbody tr th:only-of-type {\n",
       "        vertical-align: middle;\n",
       "    }\n",
       "\n",
       "    .dataframe tbody tr th {\n",
       "        vertical-align: top;\n",
       "    }\n",
       "\n",
       "    .dataframe thead th {\n",
       "        text-align: right;\n",
       "    }\n",
       "</style>\n",
       "<table border=\"1\" class=\"dataframe\">\n",
       "  <thead>\n",
       "    <tr style=\"text-align: right;\">\n",
       "      <th></th>\n",
       "      <th>rid</th>\n",
       "      <th>horse1_horseName</th>\n",
       "      <th>horse1_age</th>\n",
       "      <th>horse1_saddle</th>\n",
       "      <th>horse1_decimalPrice</th>\n",
       "      <th>horse1_isFav</th>\n",
       "      <th>horse1_trainerName</th>\n",
       "      <th>horse1_jockeyName</th>\n",
       "      <th>horse1_position</th>\n",
       "      <th>horse1_positionL</th>\n",
       "      <th>...</th>\n",
       "      <th>pressure_level_2</th>\n",
       "      <th>pressure_level_3</th>\n",
       "      <th>pressure_level_4</th>\n",
       "      <th>is_raining</th>\n",
       "      <th>rhum_level_0</th>\n",
       "      <th>rhum_level_1</th>\n",
       "      <th>rhum_level_2</th>\n",
       "      <th>rhum_level_3</th>\n",
       "      <th>rhum_level_4</th>\n",
       "      <th>entropy of odds</th>\n",
       "    </tr>\n",
       "  </thead>\n",
       "  <tbody>\n",
       "    <tr>\n",
       "      <th>0</th>\n",
       "      <td>341451</td>\n",
       "      <td>Dance Design</td>\n",
       "      <td>3.0</td>\n",
       "      <td>6.0</td>\n",
       "      <td>0.181818</td>\n",
       "      <td>0</td>\n",
       "      <td>D K Weld</td>\n",
       "      <td>Mick Kinane</td>\n",
       "      <td>2</td>\n",
       "      <td>1.5</td>\n",
       "      <td>...</td>\n",
       "      <td>0</td>\n",
       "      <td>1</td>\n",
       "      <td>0</td>\n",
       "      <td>0</td>\n",
       "      <td>0</td>\n",
       "      <td>0</td>\n",
       "      <td>1</td>\n",
       "      <td>0</td>\n",
       "      <td>0</td>\n",
       "      <td>1.601872</td>\n",
       "    </tr>\n",
       "    <tr>\n",
       "      <th>1</th>\n",
       "      <td>341451</td>\n",
       "      <td>Idris</td>\n",
       "      <td>6.0</td>\n",
       "      <td>1.0</td>\n",
       "      <td>0.066667</td>\n",
       "      <td>0</td>\n",
       "      <td>J S Bolger</td>\n",
       "      <td>Kevin Manning</td>\n",
       "      <td>5</td>\n",
       "      <td>nk</td>\n",
       "      <td>...</td>\n",
       "      <td>0</td>\n",
       "      <td>1</td>\n",
       "      <td>0</td>\n",
       "      <td>0</td>\n",
       "      <td>0</td>\n",
       "      <td>0</td>\n",
       "      <td>1</td>\n",
       "      <td>0</td>\n",
       "      <td>0</td>\n",
       "      <td>1.601872</td>\n",
       "    </tr>\n",
       "    <tr>\n",
       "      <th>2</th>\n",
       "      <td>50025</td>\n",
       "      <td>Azra</td>\n",
       "      <td>2.0</td>\n",
       "      <td>11.0</td>\n",
       "      <td>0.090909</td>\n",
       "      <td>0</td>\n",
       "      <td>J S Bolger</td>\n",
       "      <td>Kevin Manning</td>\n",
       "      <td>3</td>\n",
       "      <td>1</td>\n",
       "      <td>...</td>\n",
       "      <td>0</td>\n",
       "      <td>1</td>\n",
       "      <td>0</td>\n",
       "      <td>0</td>\n",
       "      <td>0</td>\n",
       "      <td>0</td>\n",
       "      <td>1</td>\n",
       "      <td>0</td>\n",
       "      <td>0</td>\n",
       "      <td>2.103465</td>\n",
       "    </tr>\n",
       "    <tr>\n",
       "      <th>3</th>\n",
       "      <td>50025</td>\n",
       "      <td>Azra</td>\n",
       "      <td>2.0</td>\n",
       "      <td>11.0</td>\n",
       "      <td>0.090909</td>\n",
       "      <td>0</td>\n",
       "      <td>J S Bolger</td>\n",
       "      <td>Kevin Manning</td>\n",
       "      <td>3</td>\n",
       "      <td>1</td>\n",
       "      <td>...</td>\n",
       "      <td>0</td>\n",
       "      <td>1</td>\n",
       "      <td>0</td>\n",
       "      <td>0</td>\n",
       "      <td>0</td>\n",
       "      <td>0</td>\n",
       "      <td>1</td>\n",
       "      <td>0</td>\n",
       "      <td>0</td>\n",
       "      <td>2.103465</td>\n",
       "    </tr>\n",
       "    <tr>\n",
       "      <th>4</th>\n",
       "      <td>50025</td>\n",
       "      <td>Johan Cruyff</td>\n",
       "      <td>2.0</td>\n",
       "      <td>5.0</td>\n",
       "      <td>0.083333</td>\n",
       "      <td>0</td>\n",
       "      <td>A P O'Brien</td>\n",
       "      <td>Johnny Murtagh</td>\n",
       "      <td>5</td>\n",
       "      <td>nk</td>\n",
       "      <td>...</td>\n",
       "      <td>0</td>\n",
       "      <td>1</td>\n",
       "      <td>0</td>\n",
       "      <td>0</td>\n",
       "      <td>0</td>\n",
       "      <td>0</td>\n",
       "      <td>1</td>\n",
       "      <td>0</td>\n",
       "      <td>0</td>\n",
       "      <td>2.103465</td>\n",
       "    </tr>\n",
       "  </tbody>\n",
       "</table>\n",
       "<p>5 rows × 295 columns</p>\n",
       "</div>"
      ],
      "text/plain": [
       "      rid horse1_horseName  horse1_age  horse1_saddle  horse1_decimalPrice  \\\n",
       "0  341451     Dance Design         3.0            6.0             0.181818   \n",
       "1  341451            Idris         6.0            1.0             0.066667   \n",
       "2   50025             Azra         2.0           11.0             0.090909   \n",
       "3   50025             Azra         2.0           11.0             0.090909   \n",
       "4   50025     Johan Cruyff         2.0            5.0             0.083333   \n",
       "\n",
       "   horse1_isFav horse1_trainerName horse1_jockeyName  horse1_position  \\\n",
       "0             0           D K Weld       Mick Kinane                2   \n",
       "1             0         J S Bolger     Kevin Manning                5   \n",
       "2             0         J S Bolger     Kevin Manning                3   \n",
       "3             0         J S Bolger     Kevin Manning                3   \n",
       "4             0        A P O'Brien    Johnny Murtagh                5   \n",
       "\n",
       "  horse1_positionL  ...  pressure_level_2  pressure_level_3  pressure_level_4  \\\n",
       "0              1.5  ...                 0                 1                 0   \n",
       "1               nk  ...                 0                 1                 0   \n",
       "2                1  ...                 0                 1                 0   \n",
       "3                1  ...                 0                 1                 0   \n",
       "4               nk  ...                 0                 1                 0   \n",
       "\n",
       "   is_raining  rhum_level_0  rhum_level_1  rhum_level_2  rhum_level_3  \\\n",
       "0           0             0             0             1             0   \n",
       "1           0             0             0             1             0   \n",
       "2           0             0             0             1             0   \n",
       "3           0             0             0             1             0   \n",
       "4           0             0             0             1             0   \n",
       "\n",
       "   rhum_level_4  entropy of odds  \n",
       "0             0         1.601872  \n",
       "1             0         1.601872  \n",
       "2             0         2.103465  \n",
       "3             0         2.103465  \n",
       "4             0         2.103465  \n",
       "\n",
       "[5 rows x 295 columns]"
      ]
     },
     "execution_count": 6,
     "metadata": {},
     "output_type": "execute_result"
    }
   ],
   "source": [
    "X_train_everything = pd.read_csv(f\"{BASE_DIR}/data/analysis/X_train_everything.csv\", low_memory=False)\n",
    "X_train_everything.head()"
   ]
  },
  {
   "cell_type": "code",
   "execution_count": 7,
   "id": "c897f63d",
   "metadata": {},
   "outputs": [
    {
     "data": {
      "text/plain": [
       "(800666, 295)"
      ]
     },
     "execution_count": 7,
     "metadata": {},
     "output_type": "execute_result"
    }
   ],
   "source": [
    "X_train_everything.shape"
   ]
  },
  {
   "cell_type": "markdown",
   "id": "99ca45fd",
   "metadata": {},
   "source": [
    "---"
   ]
  },
  {
   "cell_type": "markdown",
   "id": "0b6c7653",
   "metadata": {},
   "source": [
    "## Load `X_dev_everything.csv`"
   ]
  },
  {
   "cell_type": "code",
   "execution_count": 8,
   "id": "cb3367e2",
   "metadata": {},
   "outputs": [
    {
     "data": {
      "text/html": [
       "<div>\n",
       "<style scoped>\n",
       "    .dataframe tbody tr th:only-of-type {\n",
       "        vertical-align: middle;\n",
       "    }\n",
       "\n",
       "    .dataframe tbody tr th {\n",
       "        vertical-align: top;\n",
       "    }\n",
       "\n",
       "    .dataframe thead th {\n",
       "        text-align: right;\n",
       "    }\n",
       "</style>\n",
       "<table border=\"1\" class=\"dataframe\">\n",
       "  <thead>\n",
       "    <tr style=\"text-align: right;\">\n",
       "      <th></th>\n",
       "      <th>rid</th>\n",
       "      <th>horse1_horseName</th>\n",
       "      <th>horse1_age</th>\n",
       "      <th>horse1_saddle</th>\n",
       "      <th>horse1_decimalPrice</th>\n",
       "      <th>horse1_isFav</th>\n",
       "      <th>horse1_trainerName</th>\n",
       "      <th>horse1_jockeyName</th>\n",
       "      <th>horse1_position</th>\n",
       "      <th>horse1_positionL</th>\n",
       "      <th>...</th>\n",
       "      <th>pressure_level_2</th>\n",
       "      <th>pressure_level_3</th>\n",
       "      <th>pressure_level_4</th>\n",
       "      <th>is_raining</th>\n",
       "      <th>rhum_level_0</th>\n",
       "      <th>rhum_level_1</th>\n",
       "      <th>rhum_level_2</th>\n",
       "      <th>rhum_level_3</th>\n",
       "      <th>rhum_level_4</th>\n",
       "      <th>entropy of odds</th>\n",
       "    </tr>\n",
       "  </thead>\n",
       "  <tbody>\n",
       "    <tr>\n",
       "      <th>0</th>\n",
       "      <td>159686</td>\n",
       "      <td>Gussy Goose</td>\n",
       "      <td>4.0</td>\n",
       "      <td>2.0</td>\n",
       "      <td>0.181818</td>\n",
       "      <td>0</td>\n",
       "      <td>David Wachman</td>\n",
       "      <td>Wayne Lordan</td>\n",
       "      <td>5</td>\n",
       "      <td>1.75</td>\n",
       "      <td>...</td>\n",
       "      <td>1</td>\n",
       "      <td>0</td>\n",
       "      <td>0</td>\n",
       "      <td>1</td>\n",
       "      <td>0</td>\n",
       "      <td>0</td>\n",
       "      <td>0</td>\n",
       "      <td>0</td>\n",
       "      <td>1</td>\n",
       "      <td>1.852846</td>\n",
       "    </tr>\n",
       "    <tr>\n",
       "      <th>1</th>\n",
       "      <td>159686</td>\n",
       "      <td>Mothers Finest</td>\n",
       "      <td>4.0</td>\n",
       "      <td>4.0</td>\n",
       "      <td>0.142857</td>\n",
       "      <td>0</td>\n",
       "      <td>Adrian Paul Keatley</td>\n",
       "      <td>Gary Carroll</td>\n",
       "      <td>7</td>\n",
       "      <td>2.5</td>\n",
       "      <td>...</td>\n",
       "      <td>1</td>\n",
       "      <td>0</td>\n",
       "      <td>0</td>\n",
       "      <td>1</td>\n",
       "      <td>0</td>\n",
       "      <td>0</td>\n",
       "      <td>0</td>\n",
       "      <td>0</td>\n",
       "      <td>1</td>\n",
       "      <td>1.852846</td>\n",
       "    </tr>\n",
       "    <tr>\n",
       "      <th>2</th>\n",
       "      <td>159686</td>\n",
       "      <td>Mothers Finest</td>\n",
       "      <td>4.0</td>\n",
       "      <td>4.0</td>\n",
       "      <td>0.142857</td>\n",
       "      <td>0</td>\n",
       "      <td>Adrian Paul Keatley</td>\n",
       "      <td>Gary Carroll</td>\n",
       "      <td>7</td>\n",
       "      <td>2.5</td>\n",
       "      <td>...</td>\n",
       "      <td>1</td>\n",
       "      <td>0</td>\n",
       "      <td>0</td>\n",
       "      <td>1</td>\n",
       "      <td>0</td>\n",
       "      <td>0</td>\n",
       "      <td>0</td>\n",
       "      <td>0</td>\n",
       "      <td>1</td>\n",
       "      <td>1.852846</td>\n",
       "    </tr>\n",
       "    <tr>\n",
       "      <th>3</th>\n",
       "      <td>159686</td>\n",
       "      <td>Mothers Finest</td>\n",
       "      <td>4.0</td>\n",
       "      <td>4.0</td>\n",
       "      <td>0.142857</td>\n",
       "      <td>0</td>\n",
       "      <td>Adrian Paul Keatley</td>\n",
       "      <td>Gary Carroll</td>\n",
       "      <td>7</td>\n",
       "      <td>2.5</td>\n",
       "      <td>...</td>\n",
       "      <td>1</td>\n",
       "      <td>0</td>\n",
       "      <td>0</td>\n",
       "      <td>1</td>\n",
       "      <td>0</td>\n",
       "      <td>0</td>\n",
       "      <td>0</td>\n",
       "      <td>0</td>\n",
       "      <td>1</td>\n",
       "      <td>1.852846</td>\n",
       "    </tr>\n",
       "    <tr>\n",
       "      <th>4</th>\n",
       "      <td>159686</td>\n",
       "      <td>Mothers Finest</td>\n",
       "      <td>4.0</td>\n",
       "      <td>4.0</td>\n",
       "      <td>0.142857</td>\n",
       "      <td>0</td>\n",
       "      <td>Adrian Paul Keatley</td>\n",
       "      <td>Gary Carroll</td>\n",
       "      <td>7</td>\n",
       "      <td>2.5</td>\n",
       "      <td>...</td>\n",
       "      <td>1</td>\n",
       "      <td>0</td>\n",
       "      <td>0</td>\n",
       "      <td>1</td>\n",
       "      <td>0</td>\n",
       "      <td>0</td>\n",
       "      <td>0</td>\n",
       "      <td>0</td>\n",
       "      <td>1</td>\n",
       "      <td>1.852846</td>\n",
       "    </tr>\n",
       "  </tbody>\n",
       "</table>\n",
       "<p>5 rows × 295 columns</p>\n",
       "</div>"
      ],
      "text/plain": [
       "      rid horse1_horseName  horse1_age  horse1_saddle  horse1_decimalPrice  \\\n",
       "0  159686      Gussy Goose         4.0            2.0             0.181818   \n",
       "1  159686   Mothers Finest         4.0            4.0             0.142857   \n",
       "2  159686   Mothers Finest         4.0            4.0             0.142857   \n",
       "3  159686   Mothers Finest         4.0            4.0             0.142857   \n",
       "4  159686   Mothers Finest         4.0            4.0             0.142857   \n",
       "\n",
       "   horse1_isFav   horse1_trainerName horse1_jockeyName  horse1_position  \\\n",
       "0             0        David Wachman      Wayne Lordan                5   \n",
       "1             0  Adrian Paul Keatley      Gary Carroll                7   \n",
       "2             0  Adrian Paul Keatley      Gary Carroll                7   \n",
       "3             0  Adrian Paul Keatley      Gary Carroll                7   \n",
       "4             0  Adrian Paul Keatley      Gary Carroll                7   \n",
       "\n",
       "  horse1_positionL  ...  pressure_level_2  pressure_level_3  pressure_level_4  \\\n",
       "0             1.75  ...                 1                 0                 0   \n",
       "1              2.5  ...                 1                 0                 0   \n",
       "2              2.5  ...                 1                 0                 0   \n",
       "3              2.5  ...                 1                 0                 0   \n",
       "4              2.5  ...                 1                 0                 0   \n",
       "\n",
       "   is_raining  rhum_level_0  rhum_level_1  rhum_level_2  rhum_level_3  \\\n",
       "0           1             0             0             0             0   \n",
       "1           1             0             0             0             0   \n",
       "2           1             0             0             0             0   \n",
       "3           1             0             0             0             0   \n",
       "4           1             0             0             0             0   \n",
       "\n",
       "   rhum_level_4  entropy of odds  \n",
       "0             1         1.852846  \n",
       "1             1         1.852846  \n",
       "2             1         1.852846  \n",
       "3             1         1.852846  \n",
       "4             1         1.852846  \n",
       "\n",
       "[5 rows x 295 columns]"
      ]
     },
     "execution_count": 8,
     "metadata": {},
     "output_type": "execute_result"
    }
   ],
   "source": [
    "X_dev_everything = pd.read_csv(f\"{BASE_DIR}/data/analysis/X_dev_everything.csv\", low_memory=False)\n",
    "X_dev_everything.head()"
   ]
  },
  {
   "cell_type": "code",
   "execution_count": 9,
   "id": "bacbf210",
   "metadata": {},
   "outputs": [
    {
     "data": {
      "text/plain": [
       "(228766, 295)"
      ]
     },
     "execution_count": 9,
     "metadata": {},
     "output_type": "execute_result"
    }
   ],
   "source": [
    "X_dev_everything.shape"
   ]
  },
  {
   "cell_type": "markdown",
   "id": "0bbaa88e",
   "metadata": {},
   "source": [
    "---"
   ]
  },
  {
   "cell_type": "markdown",
   "id": "14b3cd63",
   "metadata": {},
   "source": [
    "## Load `X_test_everything.csv`"
   ]
  },
  {
   "cell_type": "code",
   "execution_count": 10,
   "id": "6ed5779f",
   "metadata": {},
   "outputs": [
    {
     "data": {
      "text/html": [
       "<div>\n",
       "<style scoped>\n",
       "    .dataframe tbody tr th:only-of-type {\n",
       "        vertical-align: middle;\n",
       "    }\n",
       "\n",
       "    .dataframe tbody tr th {\n",
       "        vertical-align: top;\n",
       "    }\n",
       "\n",
       "    .dataframe thead th {\n",
       "        text-align: right;\n",
       "    }\n",
       "</style>\n",
       "<table border=\"1\" class=\"dataframe\">\n",
       "  <thead>\n",
       "    <tr style=\"text-align: right;\">\n",
       "      <th></th>\n",
       "      <th>rid</th>\n",
       "      <th>horse1_horseName</th>\n",
       "      <th>horse1_age</th>\n",
       "      <th>horse1_saddle</th>\n",
       "      <th>horse1_decimalPrice</th>\n",
       "      <th>horse1_isFav</th>\n",
       "      <th>horse1_trainerName</th>\n",
       "      <th>horse1_jockeyName</th>\n",
       "      <th>horse1_position</th>\n",
       "      <th>horse1_positionL</th>\n",
       "      <th>...</th>\n",
       "      <th>pressure_level_2</th>\n",
       "      <th>pressure_level_3</th>\n",
       "      <th>pressure_level_4</th>\n",
       "      <th>is_raining</th>\n",
       "      <th>rhum_level_0</th>\n",
       "      <th>rhum_level_1</th>\n",
       "      <th>rhum_level_2</th>\n",
       "      <th>rhum_level_3</th>\n",
       "      <th>rhum_level_4</th>\n",
       "      <th>entropy of odds</th>\n",
       "    </tr>\n",
       "  </thead>\n",
       "  <tbody>\n",
       "    <tr>\n",
       "      <th>0</th>\n",
       "      <td>136782</td>\n",
       "      <td>Sestriere</td>\n",
       "      <td>3.0</td>\n",
       "      <td>7.0</td>\n",
       "      <td>0.029412</td>\n",
       "      <td>0</td>\n",
       "      <td>Kevin Prendergast</td>\n",
       "      <td>Chris Hayes</td>\n",
       "      <td>7</td>\n",
       "      <td>.75</td>\n",
       "      <td>...</td>\n",
       "      <td>1</td>\n",
       "      <td>0</td>\n",
       "      <td>0</td>\n",
       "      <td>0</td>\n",
       "      <td>0</td>\n",
       "      <td>0</td>\n",
       "      <td>1</td>\n",
       "      <td>0</td>\n",
       "      <td>0</td>\n",
       "      <td>2.306015</td>\n",
       "    </tr>\n",
       "    <tr>\n",
       "      <th>1</th>\n",
       "      <td>136782</td>\n",
       "      <td>Sestriere</td>\n",
       "      <td>3.0</td>\n",
       "      <td>7.0</td>\n",
       "      <td>0.029412</td>\n",
       "      <td>0</td>\n",
       "      <td>Kevin Prendergast</td>\n",
       "      <td>Chris Hayes</td>\n",
       "      <td>7</td>\n",
       "      <td>.75</td>\n",
       "      <td>...</td>\n",
       "      <td>1</td>\n",
       "      <td>0</td>\n",
       "      <td>0</td>\n",
       "      <td>0</td>\n",
       "      <td>0</td>\n",
       "      <td>0</td>\n",
       "      <td>1</td>\n",
       "      <td>0</td>\n",
       "      <td>0</td>\n",
       "      <td>2.306015</td>\n",
       "    </tr>\n",
       "    <tr>\n",
       "      <th>2</th>\n",
       "      <td>136782</td>\n",
       "      <td>Sestriere</td>\n",
       "      <td>3.0</td>\n",
       "      <td>7.0</td>\n",
       "      <td>0.029412</td>\n",
       "      <td>0</td>\n",
       "      <td>Kevin Prendergast</td>\n",
       "      <td>Chris Hayes</td>\n",
       "      <td>7</td>\n",
       "      <td>.75</td>\n",
       "      <td>...</td>\n",
       "      <td>1</td>\n",
       "      <td>0</td>\n",
       "      <td>0</td>\n",
       "      <td>0</td>\n",
       "      <td>0</td>\n",
       "      <td>0</td>\n",
       "      <td>1</td>\n",
       "      <td>0</td>\n",
       "      <td>0</td>\n",
       "      <td>2.306015</td>\n",
       "    </tr>\n",
       "    <tr>\n",
       "      <th>3</th>\n",
       "      <td>136782</td>\n",
       "      <td>Sestriere</td>\n",
       "      <td>3.0</td>\n",
       "      <td>7.0</td>\n",
       "      <td>0.029412</td>\n",
       "      <td>0</td>\n",
       "      <td>Kevin Prendergast</td>\n",
       "      <td>Chris Hayes</td>\n",
       "      <td>7</td>\n",
       "      <td>.75</td>\n",
       "      <td>...</td>\n",
       "      <td>1</td>\n",
       "      <td>0</td>\n",
       "      <td>0</td>\n",
       "      <td>0</td>\n",
       "      <td>0</td>\n",
       "      <td>0</td>\n",
       "      <td>1</td>\n",
       "      <td>0</td>\n",
       "      <td>0</td>\n",
       "      <td>2.306015</td>\n",
       "    </tr>\n",
       "    <tr>\n",
       "      <th>4</th>\n",
       "      <td>136782</td>\n",
       "      <td>Sestriere</td>\n",
       "      <td>3.0</td>\n",
       "      <td>7.0</td>\n",
       "      <td>0.029412</td>\n",
       "      <td>0</td>\n",
       "      <td>Kevin Prendergast</td>\n",
       "      <td>Chris Hayes</td>\n",
       "      <td>7</td>\n",
       "      <td>.75</td>\n",
       "      <td>...</td>\n",
       "      <td>1</td>\n",
       "      <td>0</td>\n",
       "      <td>0</td>\n",
       "      <td>0</td>\n",
       "      <td>0</td>\n",
       "      <td>0</td>\n",
       "      <td>1</td>\n",
       "      <td>0</td>\n",
       "      <td>0</td>\n",
       "      <td>2.306015</td>\n",
       "    </tr>\n",
       "  </tbody>\n",
       "</table>\n",
       "<p>5 rows × 295 columns</p>\n",
       "</div>"
      ],
      "text/plain": [
       "      rid horse1_horseName  horse1_age  horse1_saddle  horse1_decimalPrice  \\\n",
       "0  136782        Sestriere         3.0            7.0             0.029412   \n",
       "1  136782        Sestriere         3.0            7.0             0.029412   \n",
       "2  136782        Sestriere         3.0            7.0             0.029412   \n",
       "3  136782        Sestriere         3.0            7.0             0.029412   \n",
       "4  136782        Sestriere         3.0            7.0             0.029412   \n",
       "\n",
       "   horse1_isFav horse1_trainerName horse1_jockeyName  horse1_position  \\\n",
       "0             0  Kevin Prendergast       Chris Hayes                7   \n",
       "1             0  Kevin Prendergast       Chris Hayes                7   \n",
       "2             0  Kevin Prendergast       Chris Hayes                7   \n",
       "3             0  Kevin Prendergast       Chris Hayes                7   \n",
       "4             0  Kevin Prendergast       Chris Hayes                7   \n",
       "\n",
       "  horse1_positionL  ...  pressure_level_2  pressure_level_3  pressure_level_4  \\\n",
       "0              .75  ...                 1                 0                 0   \n",
       "1              .75  ...                 1                 0                 0   \n",
       "2              .75  ...                 1                 0                 0   \n",
       "3              .75  ...                 1                 0                 0   \n",
       "4              .75  ...                 1                 0                 0   \n",
       "\n",
       "   is_raining  rhum_level_0  rhum_level_1  rhum_level_2  rhum_level_3  \\\n",
       "0           0             0             0             1             0   \n",
       "1           0             0             0             1             0   \n",
       "2           0             0             0             1             0   \n",
       "3           0             0             0             1             0   \n",
       "4           0             0             0             1             0   \n",
       "\n",
       "   rhum_level_4  entropy of odds  \n",
       "0             0         2.306015  \n",
       "1             0         2.306015  \n",
       "2             0         2.306015  \n",
       "3             0         2.306015  \n",
       "4             0         2.306015  \n",
       "\n",
       "[5 rows x 295 columns]"
      ]
     },
     "execution_count": 10,
     "metadata": {},
     "output_type": "execute_result"
    }
   ],
   "source": [
    "X_test_everything = pd.read_csv(f\"{BASE_DIR}/data/analysis/X_test_everything.csv\", low_memory=False)\n",
    "X_test_everything.head()"
   ]
  },
  {
   "cell_type": "code",
   "execution_count": 11,
   "id": "12e2caae",
   "metadata": {},
   "outputs": [
    {
     "data": {
      "text/plain": [
       "(114392, 295)"
      ]
     },
     "execution_count": 11,
     "metadata": {},
     "output_type": "execute_result"
    }
   ],
   "source": [
    "X_test_everything.shape"
   ]
  },
  {
   "cell_type": "markdown",
   "id": "7dbfa2ce",
   "metadata": {},
   "source": [
    "---"
   ]
  },
  {
   "cell_type": "markdown",
   "id": "a46e9cab",
   "metadata": {},
   "source": [
    "## Load Pairwise Winner Labels"
   ]
  },
  {
   "cell_type": "code",
   "execution_count": 34,
   "id": "9bfb58fc",
   "metadata": {},
   "outputs": [],
   "source": [
    "X_train_pairwise_winner_labels = np.loadtxt(f\"{BASE_DIR}/data/analysis/x_train_pairwise_winner_labels.csv\",\n",
    "                                            dtype=int,\n",
    "                                            delimiter=',')"
   ]
  },
  {
   "cell_type": "code",
   "execution_count": 35,
   "id": "6f4af650",
   "metadata": {},
   "outputs": [],
   "source": [
    "X_dev_pairwise_winner_labels = np.loadtxt(f\"{BASE_DIR}/data/analysis/X_dev_pairwise_winner_labels.csv\",\n",
    "                                          dtype=int,\n",
    "                                          delimiter=',')"
   ]
  },
  {
   "cell_type": "code",
   "execution_count": 36,
   "id": "e82ae9de",
   "metadata": {},
   "outputs": [],
   "source": [
    "X_test_pairwise_winner_labels = np.loadtxt(f\"{BASE_DIR}/data/analysis/X_test_pairwise_winner_labels.csv\",\n",
    "                                           dtype=int,\n",
    "                                           delimiter=',')"
   ]
  },
  {
   "cell_type": "code",
   "execution_count": 37,
   "id": "35dc82f7",
   "metadata": {},
   "outputs": [
    {
     "data": {
      "text/plain": [
       "array([1, 0, 1, 1, 0, 1, 0, 0, 1, 0])"
      ]
     },
     "execution_count": 37,
     "metadata": {},
     "output_type": "execute_result"
    }
   ],
   "source": [
    "X_train_pairwise_winner_labels[:10]"
   ]
  },
  {
   "cell_type": "markdown",
   "id": "7c4261bd",
   "metadata": {},
   "source": [
    "---"
   ]
  },
  {
   "cell_type": "markdown",
   "id": "0fc4a374",
   "metadata": {},
   "source": [
    "## Compute Baseline Predictions"
   ]
  },
  {
   "cell_type": "markdown",
   "id": "b5b095d6",
   "metadata": {},
   "source": [
    "Recall, a horse with a higher `decimalPrice` is projected to do better."
   ]
  },
  {
   "cell_type": "code",
   "execution_count": 38,
   "id": "87ec3b43",
   "metadata": {},
   "outputs": [],
   "source": [
    "def get_predicted_pairwise_winner(row: pd.core.frame.DataFrame) -> int:\n",
    "    \"\"\"\n",
    "    Implements the labeling scheme described above.\n",
    "    \"\"\"\n",
    "    if row['horse1_decimalPrice'] > row['horse2_decimalPrice']:\n",
    "        return 1\n",
    "    elif row['horse1_decimalPrice'] < row['horse2_decimalPrice']:\n",
    "        return 0\n",
    "    else:\n",
    "        return 0"
   ]
  },
  {
   "cell_type": "code",
   "execution_count": 39,
   "id": "0330f949",
   "metadata": {},
   "outputs": [
    {
     "data": {
      "text/html": [
       "<div>\n",
       "<style scoped>\n",
       "    .dataframe tbody tr th:only-of-type {\n",
       "        vertical-align: middle;\n",
       "    }\n",
       "\n",
       "    .dataframe tbody tr th {\n",
       "        vertical-align: top;\n",
       "    }\n",
       "\n",
       "    .dataframe thead th {\n",
       "        text-align: right;\n",
       "    }\n",
       "</style>\n",
       "<table border=\"1\" class=\"dataframe\">\n",
       "  <thead>\n",
       "    <tr style=\"text-align: right;\">\n",
       "      <th></th>\n",
       "      <th>horse1_horseName</th>\n",
       "      <th>horse1_decimalPrice</th>\n",
       "      <th>horse2_horseName</th>\n",
       "      <th>horse2_decimalPrice</th>\n",
       "    </tr>\n",
       "  </thead>\n",
       "  <tbody>\n",
       "    <tr>\n",
       "      <th>0</th>\n",
       "      <td>Dance Design</td>\n",
       "      <td>0.181818</td>\n",
       "      <td>Idris</td>\n",
       "      <td>0.066667</td>\n",
       "    </tr>\n",
       "    <tr>\n",
       "      <th>1</th>\n",
       "      <td>Idris</td>\n",
       "      <td>0.066667</td>\n",
       "      <td>Dance Design</td>\n",
       "      <td>0.181818</td>\n",
       "    </tr>\n",
       "    <tr>\n",
       "      <th>2</th>\n",
       "      <td>Azra</td>\n",
       "      <td>0.090909</td>\n",
       "      <td>Johan Cruyff</td>\n",
       "      <td>0.083333</td>\n",
       "    </tr>\n",
       "    <tr>\n",
       "      <th>3</th>\n",
       "      <td>Azra</td>\n",
       "      <td>0.090909</td>\n",
       "      <td>Beautiful Fire</td>\n",
       "      <td>0.153846</td>\n",
       "    </tr>\n",
       "    <tr>\n",
       "      <th>4</th>\n",
       "      <td>Johan Cruyff</td>\n",
       "      <td>0.083333</td>\n",
       "      <td>Azra</td>\n",
       "      <td>0.090909</td>\n",
       "    </tr>\n",
       "  </tbody>\n",
       "</table>\n",
       "</div>"
      ],
      "text/plain": [
       "  horse1_horseName  horse1_decimalPrice horse2_horseName  horse2_decimalPrice\n",
       "0     Dance Design             0.181818            Idris             0.066667\n",
       "1            Idris             0.066667     Dance Design             0.181818\n",
       "2             Azra             0.090909     Johan Cruyff             0.083333\n",
       "3             Azra             0.090909   Beautiful Fire             0.153846\n",
       "4     Johan Cruyff             0.083333             Azra             0.090909"
      ]
     },
     "execution_count": 39,
     "metadata": {},
     "output_type": "execute_result"
    }
   ],
   "source": [
    "X_train_everything[['horse1_horseName', 'horse1_decimalPrice', 'horse2_horseName', 'horse2_decimalPrice']].head()"
   ]
  },
  {
   "cell_type": "code",
   "execution_count": 40,
   "id": "5b3b26d7",
   "metadata": {},
   "outputs": [
    {
     "data": {
      "text/html": [
       "<div>\n",
       "<style scoped>\n",
       "    .dataframe tbody tr th:only-of-type {\n",
       "        vertical-align: middle;\n",
       "    }\n",
       "\n",
       "    .dataframe tbody tr th {\n",
       "        vertical-align: top;\n",
       "    }\n",
       "\n",
       "    .dataframe thead th {\n",
       "        text-align: right;\n",
       "    }\n",
       "</style>\n",
       "<table border=\"1\" class=\"dataframe\">\n",
       "  <thead>\n",
       "    <tr style=\"text-align: right;\">\n",
       "      <th></th>\n",
       "      <th>horse1_horseName</th>\n",
       "      <th>horse1_decimalPrice</th>\n",
       "      <th>horse2_horseName</th>\n",
       "      <th>horse2_decimalPrice</th>\n",
       "    </tr>\n",
       "  </thead>\n",
       "  <tbody>\n",
       "    <tr>\n",
       "      <th>15</th>\n",
       "      <td>Prairie Flame</td>\n",
       "      <td>0.090909</td>\n",
       "      <td>Magical Cliche</td>\n",
       "      <td>0.090909</td>\n",
       "    </tr>\n",
       "    <tr>\n",
       "      <th>17</th>\n",
       "      <td>Magical Cliche</td>\n",
       "      <td>0.090909</td>\n",
       "      <td>Prairie Flame</td>\n",
       "      <td>0.090909</td>\n",
       "    </tr>\n",
       "    <tr>\n",
       "      <th>35</th>\n",
       "      <td>Elida</td>\n",
       "      <td>0.266667</td>\n",
       "      <td>Red Castle I</td>\n",
       "      <td>0.266667</td>\n",
       "    </tr>\n",
       "    <tr>\n",
       "      <th>45</th>\n",
       "      <td>Red Castle I</td>\n",
       "      <td>0.266667</td>\n",
       "      <td>Elida</td>\n",
       "      <td>0.266667</td>\n",
       "    </tr>\n",
       "    <tr>\n",
       "      <th>68</th>\n",
       "      <td>Caiseal Ros</td>\n",
       "      <td>0.111111</td>\n",
       "      <td>Keyboogie</td>\n",
       "      <td>0.111111</td>\n",
       "    </tr>\n",
       "  </tbody>\n",
       "</table>\n",
       "</div>"
      ],
      "text/plain": [
       "   horse1_horseName  horse1_decimalPrice horse2_horseName  horse2_decimalPrice\n",
       "15    Prairie Flame             0.090909   Magical Cliche             0.090909\n",
       "17   Magical Cliche             0.090909    Prairie Flame             0.090909\n",
       "35            Elida             0.266667     Red Castle I             0.266667\n",
       "45     Red Castle I             0.266667            Elida             0.266667\n",
       "68      Caiseal Ros             0.111111        Keyboogie             0.111111"
      ]
     },
     "execution_count": 40,
     "metadata": {},
     "output_type": "execute_result"
    }
   ],
   "source": [
    "X_train_everything[\n",
    " X_train_everything['horse1_decimalPrice'] == X_train_everything['horse2_decimalPrice']   \n",
    "][['horse1_horseName', 'horse1_decimalPrice', 'horse2_horseName', 'horse2_decimalPrice']].head()"
   ]
  },
  {
   "cell_type": "code",
   "execution_count": 41,
   "id": "eebc6d36",
   "metadata": {},
   "outputs": [],
   "source": [
    "assert get_predicted_pairwise_winner(X_train_everything.iloc[0]) == 1\n",
    "assert get_predicted_pairwise_winner(X_train_everything.iloc[1]) == 0\n",
    "assert get_predicted_pairwise_winner(X_train_everything.iloc[15]) == 0\n",
    "assert get_predicted_pairwise_winner(X_train_everything.iloc[17]) == 0"
   ]
  },
  {
   "cell_type": "code",
   "execution_count": 42,
   "id": "aa6f4e07",
   "metadata": {},
   "outputs": [],
   "source": [
    "X_train_predictions = np.array(X_train_everything.apply(get_predicted_pairwise_winner, axis=1), dtype=int)"
   ]
  },
  {
   "cell_type": "code",
   "execution_count": 43,
   "id": "b82e8594",
   "metadata": {},
   "outputs": [],
   "source": [
    "X_dev_predictions = np.array(X_dev_everything.apply(get_predicted_pairwise_winner, axis=1), dtype=int)"
   ]
  },
  {
   "cell_type": "code",
   "execution_count": 44,
   "id": "7180e444",
   "metadata": {},
   "outputs": [],
   "source": [
    "X_test_predictions = np.array(X_test_everything.apply(get_predicted_pairwise_winner, axis=1), dtype=int)"
   ]
  },
  {
   "cell_type": "markdown",
   "id": "bc264341",
   "metadata": {},
   "source": [
    "---"
   ]
  },
  {
   "cell_type": "markdown",
   "id": "5a9d02a2",
   "metadata": {},
   "source": [
    "## Evaluate Performance"
   ]
  },
  {
   "cell_type": "markdown",
   "id": "20606262",
   "metadata": {},
   "source": [
    "There are 4 possibilities:\n",
    "1. The odds are not equal and the horses do not tie: the baseline is either right twice or wrong twice.\n",
    "2. The odds are equal and the horses do not tie: the baseline is right once and wrong once.\n",
    "3. The odds are not equal and the horses tie: the baseline is right once and wrong once.\n",
    "4. The odds are equal and the horses tie: the baseline is right twice."
   ]
  },
  {
   "cell_type": "markdown",
   "id": "58ba8ce2",
   "metadata": {},
   "source": [
    "Does possibility 4 even occur?"
   ]
  },
  {
   "cell_type": "code",
   "execution_count": 48,
   "id": "3e9affb9",
   "metadata": {},
   "outputs": [
    {
     "data": {
      "text/plain": [
       "26"
      ]
     },
     "execution_count": 48,
     "metadata": {},
     "output_type": "execute_result"
    }
   ],
   "source": [
    "len(X_train_everything[\n",
    "    (X_train_everything['horse1_position'] == X_train_everything['horse2_position']) & \n",
    "    (X_train_everything['horse1_decimalPrice'] == X_train_everything['horse2_decimalPrice'])\n",
    "])"
   ]
  },
  {
   "cell_type": "code",
   "execution_count": 52,
   "id": "b474bb3e",
   "metadata": {},
   "outputs": [
    {
     "data": {
      "text/plain": [
       "2"
      ]
     },
     "execution_count": 52,
     "metadata": {},
     "output_type": "execute_result"
    }
   ],
   "source": [
    "len(X_dev_everything[\n",
    "    (X_dev_everything['horse1_position'] == X_dev_everything['horse2_position']) & \n",
    "    (X_dev_everything['horse1_decimalPrice'] == X_dev_everything['horse2_decimalPrice'])\n",
    "])"
   ]
  },
  {
   "cell_type": "code",
   "execution_count": 51,
   "id": "93c5feae",
   "metadata": {},
   "outputs": [
    {
     "data": {
      "text/plain": [
       "6"
      ]
     },
     "execution_count": 51,
     "metadata": {},
     "output_type": "execute_result"
    }
   ],
   "source": [
    "len(X_test_everything[\n",
    "    (X_test_everything['horse1_position'] == X_test_everything['horse2_position']) & \n",
    "    (X_test_everything['horse1_decimalPrice'] == X_test_everything['horse2_decimalPrice'])\n",
    "])"
   ]
  },
  {
   "cell_type": "markdown",
   "id": "d78e9430",
   "metadata": {},
   "source": [
    "We only really care about accuracy since false negatives and positives don't have meaning in this context."
   ]
  },
  {
   "cell_type": "code",
   "execution_count": 57,
   "id": "90376201",
   "metadata": {},
   "outputs": [
    {
     "name": "stdout",
     "output_type": "stream",
     "text": [
      "Accuracy: 67.6695401078602\n"
     ]
    }
   ],
   "source": [
    "print(f\"Accuracy train set: {np.mean(X_train_pairwise_winner_labels == X_train_predictions) * 100}\")"
   ]
  },
  {
   "cell_type": "code",
   "execution_count": 60,
   "id": "07e27419",
   "metadata": {},
   "outputs": [
    {
     "name": "stdout",
     "output_type": "stream",
     "text": [
      "Accuracy dev set: 68.85332610615214\n"
     ]
    }
   ],
   "source": [
    "print(f\"Accuracy dev set: {np.mean(X_dev_pairwise_winner_labels == X_dev_predictions) * 100}\")"
   ]
  },
  {
   "cell_type": "code",
   "execution_count": 59,
   "id": "2eb80043",
   "metadata": {},
   "outputs": [
    {
     "name": "stdout",
     "output_type": "stream",
     "text": [
      "Accuracy test set: 68.7032309951745\n"
     ]
    }
   ],
   "source": [
    "print(f\"Accuracy test set: {np.mean(X_test_pairwise_winner_labels == X_test_predictions) * 100}\")"
   ]
  },
  {
   "cell_type": "markdown",
   "id": "616a3bc6",
   "metadata": {},
   "source": [
    "Is the baseline better when the odds are farther apart?"
   ]
  },
  {
   "cell_type": "code",
   "execution_count": 61,
   "id": "138edf9e",
   "metadata": {},
   "outputs": [
    {
     "data": {
      "text/plain": [
       "0    1\n",
       "1    1\n",
       "2    1\n",
       "3    0\n",
       "4    1\n",
       "Name: prediction, dtype: int64"
      ]
     },
     "execution_count": 61,
     "metadata": {},
     "output_type": "execute_result"
    }
   ],
   "source": [
    "X_train_everything['prediction'] = 1 - abs(X_train_pairwise_winner_labels - X_train_predictions)\n",
    "X_train_everything['prediction'].head()"
   ]
  },
  {
   "cell_type": "code",
   "execution_count": 65,
   "id": "6dcc1399",
   "metadata": {},
   "outputs": [],
   "source": [
    "assert sum(X_train_pairwise_winner_labels == X_train_predictions) == sum(X_train_everything['prediction'])"
   ]
  },
  {
   "cell_type": "code",
   "execution_count": 68,
   "id": "32caf481",
   "metadata": {},
   "outputs": [
    {
     "data": {
      "text/plain": [
       "0    0.115152\n",
       "1    0.115152\n",
       "2    0.007576\n",
       "3    0.062937\n",
       "4    0.007576\n",
       "Name: price_diff, dtype: float64"
      ]
     },
     "execution_count": 68,
     "metadata": {},
     "output_type": "execute_result"
    }
   ],
   "source": [
    "X_train_everything['price_diff'] = abs(X_train_everything['horse1_decimalPrice'] - \\\n",
    "                                       X_train_everything['horse2_decimalPrice'])\n",
    "X_train_everything['price_diff'].head()"
   ]
  },
  {
   "cell_type": "code",
   "execution_count": 69,
   "id": "b92e076a",
   "metadata": {},
   "outputs": [
    {
     "data": {
      "text/plain": [
       "array([[1.        , 0.19708666],\n",
       "       [0.19708666, 1.        ]])"
      ]
     },
     "execution_count": 69,
     "metadata": {},
     "output_type": "execute_result"
    }
   ],
   "source": [
    "np.corrcoef(X_train_everything['prediction'], X_train_everything['price_diff'])"
   ]
  },
  {
   "cell_type": "markdown",
   "id": "1429e8ee",
   "metadata": {},
   "source": [
    "The correlation is weak."
   ]
  },
  {
   "cell_type": "markdown",
   "id": "a7ae84c7",
   "metadata": {},
   "source": [
    "However, we can show some pretty apparent correlation here:"
   ]
  },
  {
   "cell_type": "code",
   "execution_count": 77,
   "id": "c59c7963",
   "metadata": {},
   "outputs": [
    {
     "data": {
      "text/plain": [
       "0.5485110275434495"
      ]
     },
     "execution_count": 77,
     "metadata": {},
     "output_type": "execute_result"
    }
   ],
   "source": [
    "np.mean(X_train_everything[X_train_everything['price_diff'] < 0.025]['prediction'])"
   ]
  },
  {
   "cell_type": "code",
   "execution_count": 74,
   "id": "50149d09",
   "metadata": {},
   "outputs": [
    {
     "data": {
      "text/plain": [
       "0.5792889594000145"
      ]
     },
     "execution_count": 74,
     "metadata": {},
     "output_type": "execute_result"
    }
   ],
   "source": [
    "np.mean(X_train_everything[X_train_everything['price_diff'] < 0.05]['prediction'])"
   ]
  },
  {
   "cell_type": "code",
   "execution_count": 71,
   "id": "5639bc35",
   "metadata": {},
   "outputs": [
    {
     "data": {
      "text/plain": [
       "0.6151117554296907"
      ]
     },
     "execution_count": 71,
     "metadata": {},
     "output_type": "execute_result"
    }
   ],
   "source": [
    "np.mean(X_train_everything[X_train_everything['price_diff'] < 0.1]['prediction'])"
   ]
  },
  {
   "cell_type": "code",
   "execution_count": 72,
   "id": "1e02c3f5",
   "metadata": {},
   "outputs": [
    {
     "data": {
      "text/plain": [
       "0.7899973044292483"
      ]
     },
     "execution_count": 72,
     "metadata": {},
     "output_type": "execute_result"
    }
   ],
   "source": [
    "np.mean(X_train_everything[X_train_everything['price_diff'] >= 0.1]['prediction'])"
   ]
  },
  {
   "cell_type": "code",
   "execution_count": 73,
   "id": "39b1e852",
   "metadata": {},
   "outputs": [
    {
     "data": {
      "text/plain": [
       "0.84709320880856"
      ]
     },
     "execution_count": 73,
     "metadata": {},
     "output_type": "execute_result"
    }
   ],
   "source": [
    "np.mean(X_train_everything[X_train_everything['price_diff'] >= 0.2]['prediction'])"
   ]
  },
  {
   "cell_type": "code",
   "execution_count": 76,
   "id": "93062bde",
   "metadata": {},
   "outputs": [
    {
     "data": {
      "text/plain": [
       "0.9007190828302015"
      ]
     },
     "execution_count": 76,
     "metadata": {},
     "output_type": "execute_result"
    }
   ],
   "source": [
    "np.mean(X_train_everything[X_train_everything['price_diff'] >= 0.4]['prediction'])"
   ]
  },
  {
   "cell_type": "markdown",
   "id": "d5fed8cb",
   "metadata": {},
   "source": [
    "Let's make a curve of this:"
   ]
  },
  {
   "cell_type": "code",
   "execution_count": 107,
   "id": "486d88bb",
   "metadata": {},
   "outputs": [],
   "source": [
    "def get_predicted_pairwise_winner_prob(row: pd.core.frame.DataFrame) -> int:\n",
    "    \"\"\"\n",
    "    Implements the labeling scheme described above.\n",
    "    \"\"\"\n",
    "    return 0.5 + row['horse1_decimalPrice'] - row['horse2_decimalPrice']"
   ]
  },
  {
   "cell_type": "code",
   "execution_count": 108,
   "id": "524da62f",
   "metadata": {},
   "outputs": [
    {
     "data": {
      "text/html": [
       "<div>\n",
       "<style scoped>\n",
       "    .dataframe tbody tr th:only-of-type {\n",
       "        vertical-align: middle;\n",
       "    }\n",
       "\n",
       "    .dataframe tbody tr th {\n",
       "        vertical-align: top;\n",
       "    }\n",
       "\n",
       "    .dataframe thead th {\n",
       "        text-align: right;\n",
       "    }\n",
       "</style>\n",
       "<table border=\"1\" class=\"dataframe\">\n",
       "  <thead>\n",
       "    <tr style=\"text-align: right;\">\n",
       "      <th></th>\n",
       "      <th>horse1_horseName</th>\n",
       "      <th>horse1_decimalPrice</th>\n",
       "      <th>horse2_horseName</th>\n",
       "      <th>horse2_decimalPrice</th>\n",
       "    </tr>\n",
       "  </thead>\n",
       "  <tbody>\n",
       "    <tr>\n",
       "      <th>0</th>\n",
       "      <td>Dance Design</td>\n",
       "      <td>0.181818</td>\n",
       "      <td>Idris</td>\n",
       "      <td>0.066667</td>\n",
       "    </tr>\n",
       "    <tr>\n",
       "      <th>1</th>\n",
       "      <td>Idris</td>\n",
       "      <td>0.066667</td>\n",
       "      <td>Dance Design</td>\n",
       "      <td>0.181818</td>\n",
       "    </tr>\n",
       "    <tr>\n",
       "      <th>2</th>\n",
       "      <td>Azra</td>\n",
       "      <td>0.090909</td>\n",
       "      <td>Johan Cruyff</td>\n",
       "      <td>0.083333</td>\n",
       "    </tr>\n",
       "    <tr>\n",
       "      <th>3</th>\n",
       "      <td>Azra</td>\n",
       "      <td>0.090909</td>\n",
       "      <td>Beautiful Fire</td>\n",
       "      <td>0.153846</td>\n",
       "    </tr>\n",
       "    <tr>\n",
       "      <th>4</th>\n",
       "      <td>Johan Cruyff</td>\n",
       "      <td>0.083333</td>\n",
       "      <td>Azra</td>\n",
       "      <td>0.090909</td>\n",
       "    </tr>\n",
       "  </tbody>\n",
       "</table>\n",
       "</div>"
      ],
      "text/plain": [
       "  horse1_horseName  horse1_decimalPrice horse2_horseName  horse2_decimalPrice\n",
       "0     Dance Design             0.181818            Idris             0.066667\n",
       "1            Idris             0.066667     Dance Design             0.181818\n",
       "2             Azra             0.090909     Johan Cruyff             0.083333\n",
       "3             Azra             0.090909   Beautiful Fire             0.153846\n",
       "4     Johan Cruyff             0.083333             Azra             0.090909"
      ]
     },
     "execution_count": 108,
     "metadata": {},
     "output_type": "execute_result"
    }
   ],
   "source": [
    "X_train_everything[['horse1_horseName', 'horse1_decimalPrice', 'horse2_horseName', 'horse2_decimalPrice']].head()"
   ]
  },
  {
   "cell_type": "code",
   "execution_count": 109,
   "id": "5d612b17",
   "metadata": {},
   "outputs": [
    {
     "name": "stdout",
     "output_type": "stream",
     "text": [
      "0.6151515151515152\n",
      "0.3848484848484849\n",
      "0.5\n",
      "0.5\n"
     ]
    }
   ],
   "source": [
    "print(get_predicted_pairwise_winner_prob(X_train_everything.iloc[0]))\n",
    "print(get_predicted_pairwise_winner_prob(X_train_everything.iloc[1]))\n",
    "print(get_predicted_pairwise_winner_prob(X_train_everything.iloc[15]))\n",
    "print(get_predicted_pairwise_winner_prob(X_train_everything.iloc[17]))"
   ]
  },
  {
   "cell_type": "code",
   "execution_count": 110,
   "id": "fc055bc9",
   "metadata": {},
   "outputs": [],
   "source": [
    "X_train_predictions_prob = np.array(X_train_everything.apply(get_predicted_pairwise_winner_prob, axis=1), dtype=int)"
   ]
  },
  {
   "cell_type": "code",
   "execution_count": 111,
   "id": "4ce04453",
   "metadata": {},
   "outputs": [],
   "source": [
    "X_dev_predictions_prob = np.array(X_dev_everything.apply(get_predicted_pairwise_winner_prob, axis=1), dtype=int)"
   ]
  },
  {
   "cell_type": "code",
   "execution_count": 112,
   "id": "ce709a62",
   "metadata": {},
   "outputs": [],
   "source": [
    "X_test_predictions_prob = np.array(X_test_everything.apply(get_predicted_pairwise_winner_prob, axis=1), dtype=int)"
   ]
  },
  {
   "cell_type": "code",
   "execution_count": 113,
   "id": "be932c1b",
   "metadata": {},
   "outputs": [
    {
     "data": {
      "text/plain": [
       "[<matplotlib.lines.Line2D at 0x136081130>]"
      ]
     },
     "execution_count": 113,
     "metadata": {},
     "output_type": "execute_result"
    },
    {
     "data": {
      "image/png": "[encoded data removed]",
      "text/plain": [
       "<Figure size 432x288 with 1 Axes>"
      ]
     },
     "metadata": {
      "needs_background": "light"
     },
     "output_type": "display_data"
    }
   ],
   "source": [
    "xs = np.arange(0, max(X_train_everything['price_diff']), 0.02)\n",
    "ys = np.array([np.mean(X_train_everything[X_train_everything['price_diff'] >= x]['prediction']) for x in xs])\n",
    "\n",
    "plt.plot(xs, ys)"
   ]
  },
  {
   "cell_type": "code",
   "execution_count": 123,
   "id": "cb1a0486",
   "metadata": {},
   "outputs": [
    {
     "data": {
      "text/plain": [
       "array([0.78, 0.8 , 0.82, 0.84, 0.86, 0.88, 0.9 ])"
      ]
     },
     "execution_count": 123,
     "metadata": {},
     "output_type": "execute_result"
    }
   ],
   "source": [
    "xs[-7:]"
   ]
  },
  {
   "cell_type": "code",
   "execution_count": 122,
   "id": "ce389128",
   "metadata": {},
   "outputs": [
    {
     "data": {
      "text/plain": [
       "array([0.99462366, 1.        , 1.        , 1.        , 1.        ,\n",
       "       1.        , 1.        ])"
      ]
     },
     "execution_count": 122,
     "metadata": {},
     "output_type": "execute_result"
    }
   ],
   "source": [
    "ys[-7:]"
   ]
  },
  {
   "cell_type": "markdown",
   "id": "bec6db2a",
   "metadata": {},
   "source": [
    "---"
   ]
  },
  {
   "cell_type": "markdown",
   "id": "2d9daf6f",
   "metadata": {},
   "source": [
    "## Takeaways"
   ]
  },
  {
   "cell_type": "markdown",
   "id": "64113b6a",
   "metadata": {},
   "source": [
    "The accuracy is about 68\\%."
   ]
  },
  {
   "cell_type": "markdown",
   "id": "85f16fef",
   "metadata": {},
   "source": [
    "---"
   ]
  }
 ],
 "metadata": {
  "kernelspec": {
   "display_name": "Python 3 (ipykernel)",
   "language": "python",
   "name": "python3"
  },
  "language_info": {
   "codemirror_mode": {
    "name": "ipython",
    "version": 3
   },
   "file_extension": ".py",
   "mimetype": "text/x-python",
   "name": "python",
   "nbconvert_exporter": "python",
   "pygments_lexer": "ipython3",
   "version": "3.9.6"
  }
 },
 "nbformat": 4,
 "nbformat_minor": 5
}
