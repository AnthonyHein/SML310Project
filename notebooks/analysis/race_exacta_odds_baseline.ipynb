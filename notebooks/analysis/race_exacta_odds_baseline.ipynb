{
 "cells": [
  {
   "cell_type": "markdown",
   "id": "7026e67b",
   "metadata": {},
   "source": [
    "# `race_exacta_odds_baseline.ipynb`"
   ]
  },
  {
   "cell_type": "markdown",
   "id": "c052cb33",
   "metadata": {},
   "source": [
    "### Author: Anthony Hein"
   ]
  },
  {
   "cell_type": "markdown",
   "id": "194e2cf5",
   "metadata": {},
   "source": [
    "#### Last updated: 11/19/2021"
   ]
  },
  {
   "cell_type": "markdown",
   "id": "1b86aa88",
   "metadata": {},
   "source": [
    "# Overview:\n",
    "\n",
    "Computes the performance of a baseline for selecting a race winner which selects the one with the better odds. When the odds are equal, the baseline selects either horse with equal probability."
   ]
  },
  {
   "cell_type": "markdown",
   "id": "697e80d8",
   "metadata": {},
   "source": [
    "---"
   ]
  },
  {
   "cell_type": "markdown",
   "id": "08164829",
   "metadata": {},
   "source": [
    "## Setup"
   ]
  },
  {
   "cell_type": "code",
   "execution_count": 1,
   "id": "9e9ee6d1",
   "metadata": {},
   "outputs": [],
   "source": [
    "from datetime import datetime\n",
    "import git\n",
    "import os\n",
    "import re\n",
    "from typing import List\n",
    "from sklearn.preprocessing import StandardScaler\n",
    "from tqdm import tqdm\n",
    "import pandas as pd\n",
    "import numpy as np\n",
    "from scipy import stats\n",
    "import matplotlib.pyplot as plt\n",
    "import seaborn as sns\n",
    "%matplotlib inline"
   ]
  },
  {
   "cell_type": "code",
   "execution_count": 2,
   "id": "f013a715",
   "metadata": {},
   "outputs": [
    {
     "data": {
      "text/plain": [
       "'/Users/anthonyhein/Desktop/SML310/project'"
      ]
     },
     "execution_count": 2,
     "metadata": {},
     "output_type": "execute_result"
    }
   ],
   "source": [
    "BASE_DIR = git.Repo(os.getcwd(), search_parent_directories=True).working_dir\n",
    "BASE_DIR"
   ]
  },
  {
   "cell_type": "markdown",
   "id": "900adb93",
   "metadata": {},
   "source": [
    "---"
   ]
  },
  {
   "cell_type": "markdown",
   "id": "da9daf25",
   "metadata": {},
   "source": [
    "## Load `horses_clean.csv`"
   ]
  },
  {
   "cell_type": "code",
   "execution_count": 3,
   "id": "f04cfc74",
   "metadata": {},
   "outputs": [
    {
     "data": {
      "text/html": [
       "<div>\n",
       "<style scoped>\n",
       "    .dataframe tbody tr th:only-of-type {\n",
       "        vertical-align: middle;\n",
       "    }\n",
       "\n",
       "    .dataframe tbody tr th {\n",
       "        vertical-align: top;\n",
       "    }\n",
       "\n",
       "    .dataframe thead th {\n",
       "        text-align: right;\n",
       "    }\n",
       "</style>\n",
       "<table border=\"1\" class=\"dataframe\">\n",
       "  <thead>\n",
       "    <tr style=\"text-align: right;\">\n",
       "      <th></th>\n",
       "      <th>rid</th>\n",
       "      <th>horseName</th>\n",
       "      <th>age</th>\n",
       "      <th>saddle</th>\n",
       "      <th>decimalPrice</th>\n",
       "      <th>isFav</th>\n",
       "      <th>trainerName</th>\n",
       "      <th>jockeyName</th>\n",
       "      <th>position</th>\n",
       "      <th>positionL</th>\n",
       "      <th>...</th>\n",
       "      <th>OR</th>\n",
       "      <th>father</th>\n",
       "      <th>mother</th>\n",
       "      <th>gfather</th>\n",
       "      <th>weight</th>\n",
       "      <th>res_win</th>\n",
       "      <th>res_place</th>\n",
       "      <th>res_show</th>\n",
       "      <th>finishing time</th>\n",
       "      <th>finishing time ratio</th>\n",
       "    </tr>\n",
       "  </thead>\n",
       "  <tbody>\n",
       "    <tr>\n",
       "      <th>0</th>\n",
       "      <td>302858</td>\n",
       "      <td>Kings Return</td>\n",
       "      <td>6.0</td>\n",
       "      <td>4.0</td>\n",
       "      <td>0.600000</td>\n",
       "      <td>1</td>\n",
       "      <td>W P Mullins</td>\n",
       "      <td>D J Casey</td>\n",
       "      <td>1</td>\n",
       "      <td>0</td>\n",
       "      <td>...</td>\n",
       "      <td>NaN</td>\n",
       "      <td>King's Ride</td>\n",
       "      <td>Browne's Return</td>\n",
       "      <td>Deep Run</td>\n",
       "      <td>73</td>\n",
       "      <td>1</td>\n",
       "      <td>1</td>\n",
       "      <td>0</td>\n",
       "      <td>277.200000</td>\n",
       "      <td>1.000000</td>\n",
       "    </tr>\n",
       "    <tr>\n",
       "      <th>1</th>\n",
       "      <td>302858</td>\n",
       "      <td>Majestic Red I</td>\n",
       "      <td>6.0</td>\n",
       "      <td>5.0</td>\n",
       "      <td>0.047619</td>\n",
       "      <td>0</td>\n",
       "      <td>John Hackett</td>\n",
       "      <td>Conor O'Dwyer</td>\n",
       "      <td>2</td>\n",
       "      <td>8</td>\n",
       "      <td>...</td>\n",
       "      <td>NaN</td>\n",
       "      <td>Long Pond</td>\n",
       "      <td>Courtlough Lady</td>\n",
       "      <td>Giolla Mear</td>\n",
       "      <td>73</td>\n",
       "      <td>0</td>\n",
       "      <td>1</td>\n",
       "      <td>0</td>\n",
       "      <td>278.679948</td>\n",
       "      <td>1.005339</td>\n",
       "    </tr>\n",
       "    <tr>\n",
       "      <th>2</th>\n",
       "      <td>302858</td>\n",
       "      <td>Clearly Canadian</td>\n",
       "      <td>6.0</td>\n",
       "      <td>2.0</td>\n",
       "      <td>0.166667</td>\n",
       "      <td>0</td>\n",
       "      <td>D T Hughes</td>\n",
       "      <td>G Cotter</td>\n",
       "      <td>3</td>\n",
       "      <td>1.5</td>\n",
       "      <td>...</td>\n",
       "      <td>NaN</td>\n",
       "      <td>Nordico</td>\n",
       "      <td>Over The Seas</td>\n",
       "      <td>North Summit</td>\n",
       "      <td>71</td>\n",
       "      <td>0</td>\n",
       "      <td>0</td>\n",
       "      <td>0</td>\n",
       "      <td>278.957438</td>\n",
       "      <td>1.006340</td>\n",
       "    </tr>\n",
       "    <tr>\n",
       "      <th>3</th>\n",
       "      <td>302858</td>\n",
       "      <td>Bernestic Wonder</td>\n",
       "      <td>8.0</td>\n",
       "      <td>1.0</td>\n",
       "      <td>0.058824</td>\n",
       "      <td>0</td>\n",
       "      <td>E McNamara</td>\n",
       "      <td>J Old Jones</td>\n",
       "      <td>4</td>\n",
       "      <td>dist</td>\n",
       "      <td>...</td>\n",
       "      <td>NaN</td>\n",
       "      <td>Roselier</td>\n",
       "      <td>Miss Reindeer</td>\n",
       "      <td>Reindeer</td>\n",
       "      <td>73</td>\n",
       "      <td>0</td>\n",
       "      <td>0</td>\n",
       "      <td>0</td>\n",
       "      <td>284.507242</td>\n",
       "      <td>1.026361</td>\n",
       "    </tr>\n",
       "    <tr>\n",
       "      <th>4</th>\n",
       "      <td>302858</td>\n",
       "      <td>Beauty's Pride</td>\n",
       "      <td>5.0</td>\n",
       "      <td>6.0</td>\n",
       "      <td>0.038462</td>\n",
       "      <td>0</td>\n",
       "      <td>J J Lennon</td>\n",
       "      <td>T Martin</td>\n",
       "      <td>5</td>\n",
       "      <td>dist</td>\n",
       "      <td>...</td>\n",
       "      <td>NaN</td>\n",
       "      <td>Noalto</td>\n",
       "      <td>Elena's Beauty</td>\n",
       "      <td>Tarqogan</td>\n",
       "      <td>66</td>\n",
       "      <td>0</td>\n",
       "      <td>0</td>\n",
       "      <td>0</td>\n",
       "      <td>290.057045</td>\n",
       "      <td>1.046382</td>\n",
       "    </tr>\n",
       "  </tbody>\n",
       "</table>\n",
       "<p>5 rows × 24 columns</p>\n",
       "</div>"
      ],
      "text/plain": [
       "      rid         horseName  age  saddle  decimalPrice  isFav   trainerName  \\\n",
       "0  302858      Kings Return  6.0     4.0      0.600000      1   W P Mullins   \n",
       "1  302858    Majestic Red I  6.0     5.0      0.047619      0  John Hackett   \n",
       "2  302858  Clearly Canadian  6.0     2.0      0.166667      0    D T Hughes   \n",
       "3  302858  Bernestic Wonder  8.0     1.0      0.058824      0    E McNamara   \n",
       "4  302858    Beauty's Pride  5.0     6.0      0.038462      0    J J Lennon   \n",
       "\n",
       "      jockeyName  position positionL  ...  OR       father           mother  \\\n",
       "0      D J Casey         1         0  ... NaN  King's Ride  Browne's Return   \n",
       "1  Conor O'Dwyer         2         8  ... NaN    Long Pond  Courtlough Lady   \n",
       "2       G Cotter         3       1.5  ... NaN      Nordico    Over The Seas   \n",
       "3    J Old Jones         4      dist  ... NaN     Roselier    Miss Reindeer   \n",
       "4       T Martin         5      dist  ... NaN       Noalto   Elena's Beauty   \n",
       "\n",
       "        gfather  weight res_win res_place res_show  finishing time  \\\n",
       "0      Deep Run      73       1         1        0      277.200000   \n",
       "1   Giolla Mear      73       0         1        0      278.679948   \n",
       "2  North Summit      71       0         0        0      278.957438   \n",
       "3      Reindeer      73       0         0        0      284.507242   \n",
       "4      Tarqogan      66       0         0        0      290.057045   \n",
       "\n",
       "   finishing time ratio  \n",
       "0              1.000000  \n",
       "1              1.005339  \n",
       "2              1.006340  \n",
       "3              1.026361  \n",
       "4              1.046382  \n",
       "\n",
       "[5 rows x 24 columns]"
      ]
     },
     "execution_count": 3,
     "metadata": {},
     "output_type": "execute_result"
    }
   ],
   "source": [
    "horses_clean = pd.read_csv(f\"{BASE_DIR}/data/streamline/horses_selected_trimmed_clean_augmented.csv\",\n",
    "                           low_memory=False)\n",
    "horses_clean.head()"
   ]
  },
  {
   "cell_type": "code",
   "execution_count": 4,
   "id": "8a08df7d",
   "metadata": {},
   "outputs": [
    {
     "data": {
      "text/plain": [
       "['rid',\n",
       " 'horseName',\n",
       " 'age',\n",
       " 'saddle',\n",
       " 'decimalPrice',\n",
       " 'isFav',\n",
       " 'trainerName',\n",
       " 'jockeyName',\n",
       " 'position',\n",
       " 'positionL',\n",
       " 'dist',\n",
       " 'outHandicap',\n",
       " 'RPR',\n",
       " 'TR',\n",
       " 'OR',\n",
       " 'father',\n",
       " 'mother',\n",
       " 'gfather',\n",
       " 'weight',\n",
       " 'res_win',\n",
       " 'res_place',\n",
       " 'res_show',\n",
       " 'finishing time',\n",
       " 'finishing time ratio']"
      ]
     },
     "execution_count": 4,
     "metadata": {},
     "output_type": "execute_result"
    }
   ],
   "source": [
    "list(horses_clean.columns)"
   ]
  },
  {
   "cell_type": "code",
   "execution_count": 5,
   "id": "8944b3b3",
   "metadata": {},
   "outputs": [],
   "source": [
    "horses_clean = horses_clean[['rid', 'horseName', 'decimalPrice', 'position', 'res_win']]"
   ]
  },
  {
   "cell_type": "code",
   "execution_count": 6,
   "id": "9b746306",
   "metadata": {},
   "outputs": [
    {
     "data": {
      "text/plain": [
       "(202304, 5)"
      ]
     },
     "execution_count": 6,
     "metadata": {},
     "output_type": "execute_result"
    }
   ],
   "source": [
    "horses_clean.shape"
   ]
  },
  {
   "cell_type": "markdown",
   "id": "0bbaa88e",
   "metadata": {},
   "source": [
    "---"
   ]
  },
  {
   "cell_type": "markdown",
   "id": "e98ba46d",
   "metadata": {},
   "source": [
    "## Load `races_selected_trimmed_clean.csv`"
   ]
  },
  {
   "cell_type": "code",
   "execution_count": 7,
   "id": "37d4f68c",
   "metadata": {},
   "outputs": [
    {
     "data": {
      "text/html": [
       "<div>\n",
       "<style scoped>\n",
       "    .dataframe tbody tr th:only-of-type {\n",
       "        vertical-align: middle;\n",
       "    }\n",
       "\n",
       "    .dataframe tbody tr th {\n",
       "        vertical-align: top;\n",
       "    }\n",
       "\n",
       "    .dataframe thead th {\n",
       "        text-align: right;\n",
       "    }\n",
       "</style>\n",
       "<table border=\"1\" class=\"dataframe\">\n",
       "  <thead>\n",
       "    <tr style=\"text-align: right;\">\n",
       "      <th></th>\n",
       "      <th>rid</th>\n",
       "      <th>course</th>\n",
       "      <th>title</th>\n",
       "      <th>winningTime</th>\n",
       "      <th>metric</th>\n",
       "      <th>ncond</th>\n",
       "      <th>class</th>\n",
       "      <th>runners</th>\n",
       "      <th>margin</th>\n",
       "      <th>1st_place_rank_in_odds</th>\n",
       "      <th>...</th>\n",
       "      <th>station name</th>\n",
       "      <th>station lat</th>\n",
       "      <th>station lng</th>\n",
       "      <th>dist to station</th>\n",
       "      <th>station reading date</th>\n",
       "      <th>temp</th>\n",
       "      <th>msl</th>\n",
       "      <th>rain</th>\n",
       "      <th>rhum</th>\n",
       "      <th>station reading timedelta</th>\n",
       "    </tr>\n",
       "  </thead>\n",
       "  <tbody>\n",
       "    <tr>\n",
       "      <th>0</th>\n",
       "      <td>302858</td>\n",
       "      <td>Thurles</td>\n",
       "      <td>Liffey Maiden Hurdle (Div 1)</td>\n",
       "      <td>277.2</td>\n",
       "      <td>3821.0</td>\n",
       "      <td>1</td>\n",
       "      <td>0</td>\n",
       "      <td>6</td>\n",
       "      <td>1.219263</td>\n",
       "      <td>1</td>\n",
       "      <td>...</td>\n",
       "      <td>BIRR</td>\n",
       "      <td>53.0525</td>\n",
       "      <td>-7.5325</td>\n",
       "      <td>45.288813</td>\n",
       "      <td>1/9/97 12:00</td>\n",
       "      <td>1.6</td>\n",
       "      <td>1012.4</td>\n",
       "      <td>0.0</td>\n",
       "      <td>87</td>\n",
       "      <td>15.0</td>\n",
       "    </tr>\n",
       "    <tr>\n",
       "      <th>1</th>\n",
       "      <td>291347</td>\n",
       "      <td>Punchestown</td>\n",
       "      <td>Ericsson G.S.M. Grand National Trial Handicap ...</td>\n",
       "      <td>447.2</td>\n",
       "      <td>5229.0</td>\n",
       "      <td>5</td>\n",
       "      <td>0</td>\n",
       "      <td>9</td>\n",
       "      <td>1.218049</td>\n",
       "      <td>4</td>\n",
       "      <td>...</td>\n",
       "      <td>CASEMENT</td>\n",
       "      <td>53.1820</td>\n",
       "      <td>-6.2620</td>\n",
       "      <td>24.477602</td>\n",
       "      <td>2/16/97 15:00</td>\n",
       "      <td>8.0</td>\n",
       "      <td>992.5</td>\n",
       "      <td>0.4</td>\n",
       "      <td>87</td>\n",
       "      <td>20.0</td>\n",
       "    </tr>\n",
       "    <tr>\n",
       "      <th>2</th>\n",
       "      <td>75447</td>\n",
       "      <td>Listowel</td>\n",
       "      <td>Ballybunion E.B.F. Beginners S'chase</td>\n",
       "      <td>318.4</td>\n",
       "      <td>3620.0</td>\n",
       "      <td>5</td>\n",
       "      <td>0</td>\n",
       "      <td>8</td>\n",
       "      <td>1.277320</td>\n",
       "      <td>3</td>\n",
       "      <td>...</td>\n",
       "      <td>SHANNON AIRPORT</td>\n",
       "      <td>52.4125</td>\n",
       "      <td>-8.5505</td>\n",
       "      <td>63.534139</td>\n",
       "      <td>3/1/97 14:00</td>\n",
       "      <td>12.0</td>\n",
       "      <td>1003.5</td>\n",
       "      <td>0.0</td>\n",
       "      <td>73</td>\n",
       "      <td>0.0</td>\n",
       "    </tr>\n",
       "    <tr>\n",
       "      <th>3</th>\n",
       "      <td>358038</td>\n",
       "      <td>Punchestown</td>\n",
       "      <td>Quinns Of Baltinglass Chase (La Touche) (Cross...</td>\n",
       "      <td>533.9</td>\n",
       "      <td>6637.0</td>\n",
       "      <td>1</td>\n",
       "      <td>0</td>\n",
       "      <td>10</td>\n",
       "      <td>1.286595</td>\n",
       "      <td>1</td>\n",
       "      <td>...</td>\n",
       "      <td>CASEMENT</td>\n",
       "      <td>53.1820</td>\n",
       "      <td>-6.2620</td>\n",
       "      <td>24.477602</td>\n",
       "      <td>4/24/97 14:00</td>\n",
       "      <td>12.6</td>\n",
       "      <td>1011.9</td>\n",
       "      <td>0.0</td>\n",
       "      <td>72</td>\n",
       "      <td>20.0</td>\n",
       "    </tr>\n",
       "    <tr>\n",
       "      <th>4</th>\n",
       "      <td>89211</td>\n",
       "      <td>Tipperary</td>\n",
       "      <td>Topaz Sprint Stakes (Listed)</td>\n",
       "      <td>59.9</td>\n",
       "      <td>1005.0</td>\n",
       "      <td>4</td>\n",
       "      <td>0</td>\n",
       "      <td>5</td>\n",
       "      <td>1.217043</td>\n",
       "      <td>4</td>\n",
       "      <td>...</td>\n",
       "      <td>SHANNON AIRPORT</td>\n",
       "      <td>52.4125</td>\n",
       "      <td>-8.5505</td>\n",
       "      <td>25.222137</td>\n",
       "      <td>5/8/97 17:00</td>\n",
       "      <td>11.1</td>\n",
       "      <td>994.2</td>\n",
       "      <td>0.0</td>\n",
       "      <td>59</td>\n",
       "      <td>30.0</td>\n",
       "    </tr>\n",
       "  </tbody>\n",
       "</table>\n",
       "<p>5 rows × 34 columns</p>\n",
       "</div>"
      ],
      "text/plain": [
       "      rid       course                                              title  \\\n",
       "0  302858      Thurles                       Liffey Maiden Hurdle (Div 1)   \n",
       "1  291347  Punchestown  Ericsson G.S.M. Grand National Trial Handicap ...   \n",
       "2   75447     Listowel               Ballybunion E.B.F. Beginners S'chase   \n",
       "3  358038  Punchestown  Quinns Of Baltinglass Chase (La Touche) (Cross...   \n",
       "4   89211    Tipperary                       Topaz Sprint Stakes (Listed)   \n",
       "\n",
       "   winningTime  metric  ncond  class  runners    margin  \\\n",
       "0        277.2  3821.0      1      0        6  1.219263   \n",
       "1        447.2  5229.0      5      0        9  1.218049   \n",
       "2        318.4  3620.0      5      0        8  1.277320   \n",
       "3        533.9  6637.0      1      0       10  1.286595   \n",
       "4         59.9  1005.0      4      0        5  1.217043   \n",
       "\n",
       "   1st_place_rank_in_odds  ...     station name  station lat  station lng  \\\n",
       "0                       1  ...             BIRR      53.0525      -7.5325   \n",
       "1                       4  ...         CASEMENT      53.1820      -6.2620   \n",
       "2                       3  ...  SHANNON AIRPORT      52.4125      -8.5505   \n",
       "3                       1  ...         CASEMENT      53.1820      -6.2620   \n",
       "4                       4  ...  SHANNON AIRPORT      52.4125      -8.5505   \n",
       "\n",
       "   dist to station  station reading date  temp     msl  rain  rhum  \\\n",
       "0        45.288813          1/9/97 12:00   1.6  1012.4   0.0    87   \n",
       "1        24.477602         2/16/97 15:00   8.0   992.5   0.4    87   \n",
       "2        63.534139          3/1/97 14:00  12.0  1003.5   0.0    73   \n",
       "3        24.477602         4/24/97 14:00  12.6  1011.9   0.0    72   \n",
       "4        25.222137          5/8/97 17:00  11.1   994.2   0.0    59   \n",
       "\n",
       "   station reading timedelta  \n",
       "0                       15.0  \n",
       "1                       20.0  \n",
       "2                        0.0  \n",
       "3                       20.0  \n",
       "4                       30.0  \n",
       "\n",
       "[5 rows x 34 columns]"
      ]
     },
     "execution_count": 7,
     "metadata": {},
     "output_type": "execute_result"
    }
   ],
   "source": [
    "races_clean = pd.read_csv(f\"{BASE_DIR}/data/streamline/races_selected_trimmed_clean.csv\", low_memory=False)\n",
    "races_clean.head()"
   ]
  },
  {
   "cell_type": "code",
   "execution_count": 8,
   "id": "83eff195",
   "metadata": {},
   "outputs": [
    {
     "data": {
      "text/plain": [
       "(20201, 34)"
      ]
     },
     "execution_count": 8,
     "metadata": {},
     "output_type": "execute_result"
    }
   ],
   "source": [
    "races_clean.shape"
   ]
  },
  {
   "cell_type": "markdown",
   "id": "3a16fd45",
   "metadata": {},
   "source": [
    "---"
   ]
  },
  {
   "cell_type": "markdown",
   "id": "a46e9cab",
   "metadata": {},
   "source": [
    "## Load Identifying Info"
   ]
  },
  {
   "cell_type": "code",
   "execution_count": 9,
   "id": "9bfb58fc",
   "metadata": {},
   "outputs": [
    {
     "data": {
      "text/html": [
       "<div>\n",
       "<style scoped>\n",
       "    .dataframe tbody tr th:only-of-type {\n",
       "        vertical-align: middle;\n",
       "    }\n",
       "\n",
       "    .dataframe tbody tr th {\n",
       "        vertical-align: top;\n",
       "    }\n",
       "\n",
       "    .dataframe thead th {\n",
       "        text-align: right;\n",
       "    }\n",
       "</style>\n",
       "<table border=\"1\" class=\"dataframe\">\n",
       "  <thead>\n",
       "    <tr style=\"text-align: right;\">\n",
       "      <th></th>\n",
       "      <th>rid</th>\n",
       "      <th>horse1_horseName</th>\n",
       "      <th>horse2_horseName</th>\n",
       "    </tr>\n",
       "  </thead>\n",
       "  <tbody>\n",
       "    <tr>\n",
       "      <th>0</th>\n",
       "      <td>341451</td>\n",
       "      <td>Dance Design</td>\n",
       "      <td>Idris</td>\n",
       "    </tr>\n",
       "    <tr>\n",
       "      <th>1</th>\n",
       "      <td>341451</td>\n",
       "      <td>Idris</td>\n",
       "      <td>Dance Design</td>\n",
       "    </tr>\n",
       "    <tr>\n",
       "      <th>2</th>\n",
       "      <td>50025</td>\n",
       "      <td>Azra</td>\n",
       "      <td>Johan Cruyff</td>\n",
       "    </tr>\n",
       "    <tr>\n",
       "      <th>3</th>\n",
       "      <td>50025</td>\n",
       "      <td>Azra</td>\n",
       "      <td>Beautiful Fire</td>\n",
       "    </tr>\n",
       "    <tr>\n",
       "      <th>4</th>\n",
       "      <td>50025</td>\n",
       "      <td>Johan Cruyff</td>\n",
       "      <td>Azra</td>\n",
       "    </tr>\n",
       "  </tbody>\n",
       "</table>\n",
       "</div>"
      ],
      "text/plain": [
       "      rid horse1_horseName horse2_horseName\n",
       "0  341451     Dance Design            Idris\n",
       "1  341451            Idris     Dance Design\n",
       "2   50025             Azra     Johan Cruyff\n",
       "3   50025             Azra   Beautiful Fire\n",
       "4   50025     Johan Cruyff             Azra"
      ]
     },
     "execution_count": 9,
     "metadata": {},
     "output_type": "execute_result"
    }
   ],
   "source": [
    "X_train_identifiers = pd.read_csv(f\"{BASE_DIR}/data/analysis/X_train_identifiers.csv\", low_memory=False)\n",
    "X_train_identifiers.head()"
   ]
  },
  {
   "cell_type": "code",
   "execution_count": 10,
   "id": "6f4af650",
   "metadata": {},
   "outputs": [
    {
     "data": {
      "text/html": [
       "<div>\n",
       "<style scoped>\n",
       "    .dataframe tbody tr th:only-of-type {\n",
       "        vertical-align: middle;\n",
       "    }\n",
       "\n",
       "    .dataframe tbody tr th {\n",
       "        vertical-align: top;\n",
       "    }\n",
       "\n",
       "    .dataframe thead th {\n",
       "        text-align: right;\n",
       "    }\n",
       "</style>\n",
       "<table border=\"1\" class=\"dataframe\">\n",
       "  <thead>\n",
       "    <tr style=\"text-align: right;\">\n",
       "      <th></th>\n",
       "      <th>rid</th>\n",
       "      <th>horse1_horseName</th>\n",
       "      <th>horse2_horseName</th>\n",
       "    </tr>\n",
       "  </thead>\n",
       "  <tbody>\n",
       "    <tr>\n",
       "      <th>0</th>\n",
       "      <td>159686</td>\n",
       "      <td>Gussy Goose</td>\n",
       "      <td>Ibergman</td>\n",
       "    </tr>\n",
       "    <tr>\n",
       "      <th>1</th>\n",
       "      <td>159686</td>\n",
       "      <td>Mothers Finest</td>\n",
       "      <td>Emergent</td>\n",
       "    </tr>\n",
       "    <tr>\n",
       "      <th>2</th>\n",
       "      <td>159686</td>\n",
       "      <td>Mothers Finest</td>\n",
       "      <td>Gussy Goose</td>\n",
       "    </tr>\n",
       "    <tr>\n",
       "      <th>3</th>\n",
       "      <td>159686</td>\n",
       "      <td>Mothers Finest</td>\n",
       "      <td>Just Joan</td>\n",
       "    </tr>\n",
       "    <tr>\n",
       "      <th>4</th>\n",
       "      <td>159686</td>\n",
       "      <td>Mothers Finest</td>\n",
       "      <td>Rayisa</td>\n",
       "    </tr>\n",
       "  </tbody>\n",
       "</table>\n",
       "</div>"
      ],
      "text/plain": [
       "      rid horse1_horseName horse2_horseName\n",
       "0  159686      Gussy Goose         Ibergman\n",
       "1  159686   Mothers Finest         Emergent\n",
       "2  159686   Mothers Finest      Gussy Goose\n",
       "3  159686   Mothers Finest        Just Joan\n",
       "4  159686   Mothers Finest           Rayisa"
      ]
     },
     "execution_count": 10,
     "metadata": {},
     "output_type": "execute_result"
    }
   ],
   "source": [
    "X_dev_identifiers = pd.read_csv(f\"{BASE_DIR}/data/analysis/X_dev_identifiers.csv\", low_memory=False)\n",
    "X_dev_identifiers.head()"
   ]
  },
  {
   "cell_type": "code",
   "execution_count": 11,
   "id": "e82ae9de",
   "metadata": {},
   "outputs": [
    {
     "data": {
      "text/html": [
       "<div>\n",
       "<style scoped>\n",
       "    .dataframe tbody tr th:only-of-type {\n",
       "        vertical-align: middle;\n",
       "    }\n",
       "\n",
       "    .dataframe tbody tr th {\n",
       "        vertical-align: top;\n",
       "    }\n",
       "\n",
       "    .dataframe thead th {\n",
       "        text-align: right;\n",
       "    }\n",
       "</style>\n",
       "<table border=\"1\" class=\"dataframe\">\n",
       "  <thead>\n",
       "    <tr style=\"text-align: right;\">\n",
       "      <th></th>\n",
       "      <th>rid</th>\n",
       "      <th>horse1_horseName</th>\n",
       "      <th>horse2_horseName</th>\n",
       "    </tr>\n",
       "  </thead>\n",
       "  <tbody>\n",
       "    <tr>\n",
       "      <th>0</th>\n",
       "      <td>136782</td>\n",
       "      <td>Sestriere</td>\n",
       "      <td>Associate Rock</td>\n",
       "    </tr>\n",
       "    <tr>\n",
       "      <th>1</th>\n",
       "      <td>136782</td>\n",
       "      <td>Sestriere</td>\n",
       "      <td>Fridtjof Nansen</td>\n",
       "    </tr>\n",
       "    <tr>\n",
       "      <th>2</th>\n",
       "      <td>136782</td>\n",
       "      <td>Sestriere</td>\n",
       "      <td>Pillar</td>\n",
       "    </tr>\n",
       "    <tr>\n",
       "      <th>3</th>\n",
       "      <td>136782</td>\n",
       "      <td>Sestriere</td>\n",
       "      <td>Captain Power</td>\n",
       "    </tr>\n",
       "    <tr>\n",
       "      <th>4</th>\n",
       "      <td>136782</td>\n",
       "      <td>Sestriere</td>\n",
       "      <td>Frow</td>\n",
       "    </tr>\n",
       "  </tbody>\n",
       "</table>\n",
       "</div>"
      ],
      "text/plain": [
       "      rid horse1_horseName horse2_horseName\n",
       "0  136782        Sestriere   Associate Rock\n",
       "1  136782        Sestriere  Fridtjof Nansen\n",
       "2  136782        Sestriere           Pillar\n",
       "3  136782        Sestriere    Captain Power\n",
       "4  136782        Sestriere             Frow"
      ]
     },
     "execution_count": 11,
     "metadata": {},
     "output_type": "execute_result"
    }
   ],
   "source": [
    "X_test_identifiers = pd.read_csv(f\"{BASE_DIR}/data/analysis/X_test_identifiers.csv\", low_memory=False)\n",
    "X_test_identifiers.head()"
   ]
  },
  {
   "cell_type": "markdown",
   "id": "7c4261bd",
   "metadata": {},
   "source": [
    "---"
   ]
  },
  {
   "cell_type": "markdown",
   "id": "e72080a3",
   "metadata": {},
   "source": [
    "## Find Races w/ All Runners Present"
   ]
  },
  {
   "cell_type": "code",
   "execution_count": 12,
   "id": "9d8ef3d5",
   "metadata": {},
   "outputs": [],
   "source": [
    "def runners_to_num_pairs(runners: int) -> int:\n",
    "    \"\"\"\n",
    "    Calculates the number of 2-tuple permutations\n",
    "    for a given amount runners.\n",
    "    \"\"\"\n",
    "    return runners * (runners - 1)"
   ]
  },
  {
   "cell_type": "code",
   "execution_count": 13,
   "id": "e3ff9137",
   "metadata": {},
   "outputs": [],
   "source": [
    "def find_races_all_runners_present(df: pd.core.frame.DataFrame) -> List[int]:\n",
    "    df = df.groupby(\"rid\").count()\n",
    "    df = df.merge(races_clean[['rid', 'runners']], on='rid')\n",
    "    df['permutations'] = df['runners'].map(runners_to_num_pairs)\n",
    "    return list(df[df['permutations'] == df['horse1_horseName']]['rid'])"
   ]
  },
  {
   "cell_type": "markdown",
   "id": "ad2d11dd",
   "metadata": {},
   "source": [
    "Check the function:"
   ]
  },
  {
   "cell_type": "code",
   "execution_count": 14,
   "id": "e9d69831",
   "metadata": {},
   "outputs": [
    {
     "data": {
      "text/plain": [
       "330"
      ]
     },
     "execution_count": 14,
     "metadata": {},
     "output_type": "execute_result"
    }
   ],
   "source": [
    "find_races_all_runners_present(X_train_identifiers)[0]"
   ]
  },
  {
   "cell_type": "code",
   "execution_count": 15,
   "id": "36cdbb0c",
   "metadata": {},
   "outputs": [
    {
     "data": {
      "text/plain": [
       "56"
      ]
     },
     "execution_count": 15,
     "metadata": {},
     "output_type": "execute_result"
    }
   ],
   "source": [
    "len(X_train_identifiers[X_train_identifiers['rid'] == 330])"
   ]
  },
  {
   "cell_type": "code",
   "execution_count": 16,
   "id": "3986ef35",
   "metadata": {},
   "outputs": [
    {
     "data": {
      "text/plain": [
       "8"
      ]
     },
     "execution_count": 16,
     "metadata": {},
     "output_type": "execute_result"
    }
   ],
   "source": [
    "races_clean[races_clean['rid'] == 330].iloc[0]['runners']"
   ]
  },
  {
   "cell_type": "code",
   "execution_count": 17,
   "id": "e6c919df",
   "metadata": {},
   "outputs": [
    {
     "data": {
      "text/plain": [
       "56"
      ]
     },
     "execution_count": 17,
     "metadata": {},
     "output_type": "execute_result"
    }
   ],
   "source": [
    "runners_to_num_pairs(8)"
   ]
  },
  {
   "cell_type": "markdown",
   "id": "6744ce64",
   "metadata": {},
   "source": [
    "Seems to be working. Proceed:"
   ]
  },
  {
   "cell_type": "code",
   "execution_count": 18,
   "id": "5b5f7436",
   "metadata": {},
   "outputs": [
    {
     "data": {
      "text/plain": [
       "3212"
      ]
     },
     "execution_count": 18,
     "metadata": {},
     "output_type": "execute_result"
    }
   ],
   "source": [
    "X_train_all_runners_present = find_races_all_runners_present(X_train_identifiers)\n",
    "len(X_train_all_runners_present)"
   ]
  },
  {
   "cell_type": "code",
   "execution_count": 19,
   "id": "b5f3096e",
   "metadata": {},
   "outputs": [
    {
     "data": {
      "text/plain": [
       "1012"
      ]
     },
     "execution_count": 19,
     "metadata": {},
     "output_type": "execute_result"
    }
   ],
   "source": [
    "X_dev_all_runners_present = find_races_all_runners_present(X_dev_identifiers)\n",
    "len(X_dev_all_runners_present)"
   ]
  },
  {
   "cell_type": "code",
   "execution_count": 20,
   "id": "77359175",
   "metadata": {},
   "outputs": [
    {
     "data": {
      "text/plain": [
       "360"
      ]
     },
     "execution_count": 20,
     "metadata": {},
     "output_type": "execute_result"
    }
   ],
   "source": [
    "X_test_all_runners_present = find_races_all_runners_present(X_test_identifiers)\n",
    "len(X_test_all_runners_present)"
   ]
  },
  {
   "cell_type": "markdown",
   "id": "259fbbe7",
   "metadata": {},
   "source": [
    "---"
   ]
  },
  {
   "cell_type": "markdown",
   "id": "0fc4a374",
   "metadata": {},
   "source": [
    "## Compute Baseline Predictions"
   ]
  },
  {
   "cell_type": "markdown",
   "id": "b5b095d6",
   "metadata": {},
   "source": [
    "Recall, the horse with the highest `decimalPrice` is the projected winner."
   ]
  },
  {
   "cell_type": "code",
   "execution_count": 21,
   "id": "87ec3b43",
   "metadata": {},
   "outputs": [],
   "source": [
    "def get_predicted_ordering(df: pd.core.frame.DataFrame) -> str:\n",
    "    \"\"\"\n",
    "    Returns the horse with the best odds for race `df`,\n",
    "    tiebreaking in lexicographic order.\n",
    "    \"\"\"\n",
    "    df = df.sort_values(['decimalPrice', 'horseName'], ascending=[False, True])\n",
    "    return list(df['horseName'])"
   ]
  },
  {
   "cell_type": "code",
   "execution_count": 22,
   "id": "ceaf3d4d",
   "metadata": {},
   "outputs": [
    {
     "data": {
      "text/html": [
       "<div>\n",
       "<style scoped>\n",
       "    .dataframe tbody tr th:only-of-type {\n",
       "        vertical-align: middle;\n",
       "    }\n",
       "\n",
       "    .dataframe tbody tr th {\n",
       "        vertical-align: top;\n",
       "    }\n",
       "\n",
       "    .dataframe thead th {\n",
       "        text-align: right;\n",
       "    }\n",
       "</style>\n",
       "<table border=\"1\" class=\"dataframe\">\n",
       "  <thead>\n",
       "    <tr style=\"text-align: right;\">\n",
       "      <th></th>\n",
       "      <th>rid</th>\n",
       "      <th>horseName</th>\n",
       "      <th>decimalPrice</th>\n",
       "      <th>position</th>\n",
       "      <th>res_win</th>\n",
       "    </tr>\n",
       "  </thead>\n",
       "  <tbody>\n",
       "    <tr>\n",
       "      <th>69048</th>\n",
       "      <td>330</td>\n",
       "      <td>Gaudeamus</td>\n",
       "      <td>0.230769</td>\n",
       "      <td>1</td>\n",
       "      <td>1</td>\n",
       "    </tr>\n",
       "    <tr>\n",
       "      <th>69049</th>\n",
       "      <td>330</td>\n",
       "      <td>The Real Thing</td>\n",
       "      <td>0.200000</td>\n",
       "      <td>2</td>\n",
       "      <td>0</td>\n",
       "    </tr>\n",
       "    <tr>\n",
       "      <th>69050</th>\n",
       "      <td>330</td>\n",
       "      <td>Simonetta</td>\n",
       "      <td>0.076923</td>\n",
       "      <td>3</td>\n",
       "      <td>0</td>\n",
       "    </tr>\n",
       "    <tr>\n",
       "      <th>69051</th>\n",
       "      <td>330</td>\n",
       "      <td>Pelican Waters</td>\n",
       "      <td>0.076923</td>\n",
       "      <td>4</td>\n",
       "      <td>0</td>\n",
       "    </tr>\n",
       "    <tr>\n",
       "      <th>69052</th>\n",
       "      <td>330</td>\n",
       "      <td>Liscanna</td>\n",
       "      <td>0.125000</td>\n",
       "      <td>5</td>\n",
       "      <td>0</td>\n",
       "    </tr>\n",
       "    <tr>\n",
       "      <th>69053</th>\n",
       "      <td>330</td>\n",
       "      <td>Evening Rushour</td>\n",
       "      <td>0.038462</td>\n",
       "      <td>6</td>\n",
       "      <td>0</td>\n",
       "    </tr>\n",
       "    <tr>\n",
       "      <th>69054</th>\n",
       "      <td>330</td>\n",
       "      <td>Miss Beatrix</td>\n",
       "      <td>0.307692</td>\n",
       "      <td>7</td>\n",
       "      <td>0</td>\n",
       "    </tr>\n",
       "    <tr>\n",
       "      <th>69055</th>\n",
       "      <td>330</td>\n",
       "      <td>Moverra</td>\n",
       "      <td>0.066667</td>\n",
       "      <td>8</td>\n",
       "      <td>0</td>\n",
       "    </tr>\n",
       "  </tbody>\n",
       "</table>\n",
       "</div>"
      ],
      "text/plain": [
       "       rid        horseName  decimalPrice  position  res_win\n",
       "69048  330        Gaudeamus      0.230769         1        1\n",
       "69049  330   The Real Thing      0.200000         2        0\n",
       "69050  330        Simonetta      0.076923         3        0\n",
       "69051  330   Pelican Waters      0.076923         4        0\n",
       "69052  330         Liscanna      0.125000         5        0\n",
       "69053  330  Evening Rushour      0.038462         6        0\n",
       "69054  330     Miss Beatrix      0.307692         7        0\n",
       "69055  330          Moverra      0.066667         8        0"
      ]
     },
     "execution_count": 22,
     "metadata": {},
     "output_type": "execute_result"
    }
   ],
   "source": [
    "horses_clean[horses_clean['rid'] == X_train_all_runners_present[0]]"
   ]
  },
  {
   "cell_type": "code",
   "execution_count": 23,
   "id": "cf5df708",
   "metadata": {},
   "outputs": [
    {
     "data": {
      "text/html": [
       "<div>\n",
       "<style scoped>\n",
       "    .dataframe tbody tr th:only-of-type {\n",
       "        vertical-align: middle;\n",
       "    }\n",
       "\n",
       "    .dataframe tbody tr th {\n",
       "        vertical-align: top;\n",
       "    }\n",
       "\n",
       "    .dataframe thead th {\n",
       "        text-align: right;\n",
       "    }\n",
       "</style>\n",
       "<table border=\"1\" class=\"dataframe\">\n",
       "  <thead>\n",
       "    <tr style=\"text-align: right;\">\n",
       "      <th></th>\n",
       "      <th>rid</th>\n",
       "      <th>horseName</th>\n",
       "      <th>decimalPrice</th>\n",
       "      <th>position</th>\n",
       "      <th>res_win</th>\n",
       "    </tr>\n",
       "  </thead>\n",
       "  <tbody>\n",
       "    <tr>\n",
       "      <th>57850</th>\n",
       "      <td>1733</td>\n",
       "      <td>Famous Name</td>\n",
       "      <td>0.526316</td>\n",
       "      <td>1</td>\n",
       "      <td>1</td>\n",
       "    </tr>\n",
       "    <tr>\n",
       "      <th>57851</th>\n",
       "      <td>1733</td>\n",
       "      <td>Sharestan</td>\n",
       "      <td>0.421053</td>\n",
       "      <td>2</td>\n",
       "      <td>0</td>\n",
       "    </tr>\n",
       "    <tr>\n",
       "      <th>57852</th>\n",
       "      <td>1733</td>\n",
       "      <td>Northgate</td>\n",
       "      <td>0.029412</td>\n",
       "      <td>3</td>\n",
       "      <td>0</td>\n",
       "    </tr>\n",
       "    <tr>\n",
       "      <th>57853</th>\n",
       "      <td>1733</td>\n",
       "      <td>Hujaylea</td>\n",
       "      <td>0.047619</td>\n",
       "      <td>4</td>\n",
       "      <td>0</td>\n",
       "    </tr>\n",
       "    <tr>\n",
       "      <th>57854</th>\n",
       "      <td>1733</td>\n",
       "      <td>Spirit Of Cuba</td>\n",
       "      <td>0.019608</td>\n",
       "      <td>5</td>\n",
       "      <td>0</td>\n",
       "    </tr>\n",
       "    <tr>\n",
       "      <th>57855</th>\n",
       "      <td>1733</td>\n",
       "      <td>Northern Rocked</td>\n",
       "      <td>0.024390</td>\n",
       "      <td>6</td>\n",
       "      <td>0</td>\n",
       "    </tr>\n",
       "    <tr>\n",
       "      <th>57856</th>\n",
       "      <td>1733</td>\n",
       "      <td>Elusive Ridge</td>\n",
       "      <td>0.066667</td>\n",
       "      <td>7</td>\n",
       "      <td>0</td>\n",
       "    </tr>\n",
       "    <tr>\n",
       "      <th>57857</th>\n",
       "      <td>1733</td>\n",
       "      <td>Hurricane Havoc</td>\n",
       "      <td>0.038462</td>\n",
       "      <td>8</td>\n",
       "      <td>0</td>\n",
       "    </tr>\n",
       "    <tr>\n",
       "      <th>57858</th>\n",
       "      <td>1733</td>\n",
       "      <td>Barack</td>\n",
       "      <td>0.047619</td>\n",
       "      <td>9</td>\n",
       "      <td>0</td>\n",
       "    </tr>\n",
       "    <tr>\n",
       "      <th>57859</th>\n",
       "      <td>1733</td>\n",
       "      <td>Duchess Of Foxland</td>\n",
       "      <td>0.029412</td>\n",
       "      <td>10</td>\n",
       "      <td>0</td>\n",
       "    </tr>\n",
       "    <tr>\n",
       "      <th>57860</th>\n",
       "      <td>1733</td>\n",
       "      <td>Ask Jack</td>\n",
       "      <td>0.029412</td>\n",
       "      <td>11</td>\n",
       "      <td>0</td>\n",
       "    </tr>\n",
       "  </tbody>\n",
       "</table>\n",
       "</div>"
      ],
      "text/plain": [
       "        rid           horseName  decimalPrice  position  res_win\n",
       "57850  1733         Famous Name      0.526316         1        1\n",
       "57851  1733           Sharestan      0.421053         2        0\n",
       "57852  1733           Northgate      0.029412         3        0\n",
       "57853  1733            Hujaylea      0.047619         4        0\n",
       "57854  1733      Spirit Of Cuba      0.019608         5        0\n",
       "57855  1733     Northern Rocked      0.024390         6        0\n",
       "57856  1733       Elusive Ridge      0.066667         7        0\n",
       "57857  1733     Hurricane Havoc      0.038462         8        0\n",
       "57858  1733              Barack      0.047619         9        0\n",
       "57859  1733  Duchess Of Foxland      0.029412        10        0\n",
       "57860  1733            Ask Jack      0.029412        11        0"
      ]
     },
     "execution_count": 23,
     "metadata": {},
     "output_type": "execute_result"
    }
   ],
   "source": [
    "horses_clean[horses_clean['rid'] == X_train_all_runners_present[5]]"
   ]
  },
  {
   "cell_type": "code",
   "execution_count": 24,
   "id": "9f2de07d",
   "metadata": {},
   "outputs": [
    {
     "data": {
      "text/plain": [
       "['Miss Beatrix',\n",
       " 'Gaudeamus',\n",
       " 'The Real Thing',\n",
       " 'Liscanna',\n",
       " 'Pelican Waters',\n",
       " 'Simonetta',\n",
       " 'Moverra',\n",
       " 'Evening Rushour']"
      ]
     },
     "execution_count": 24,
     "metadata": {},
     "output_type": "execute_result"
    }
   ],
   "source": [
    "get_predicted_ordering(horses_clean[horses_clean['rid'] == X_train_all_runners_present[0]])"
   ]
  },
  {
   "cell_type": "code",
   "execution_count": 25,
   "id": "9026847c",
   "metadata": {},
   "outputs": [
    {
     "data": {
      "text/plain": [
       "['Famous Name',\n",
       " 'Sharestan',\n",
       " 'Elusive Ridge',\n",
       " 'Barack',\n",
       " 'Hujaylea',\n",
       " 'Hurricane Havoc',\n",
       " 'Ask Jack',\n",
       " 'Duchess Of Foxland',\n",
       " 'Northgate',\n",
       " 'Northern Rocked',\n",
       " 'Spirit Of Cuba']"
      ]
     },
     "execution_count": 25,
     "metadata": {},
     "output_type": "execute_result"
    }
   ],
   "source": [
    "get_predicted_ordering(horses_clean[horses_clean['rid'] == X_train_all_runners_present[5]])"
   ]
  },
  {
   "cell_type": "code",
   "execution_count": 26,
   "id": "eb9415b9",
   "metadata": {},
   "outputs": [],
   "source": [
    "train_acc = []\n",
    "dev_acc = []\n",
    "test_acc = []\n",
    "\n",
    "for rid in X_train_all_runners_present:\n",
    "    \n",
    "    df = horses_clean[horses_clean['rid'] == rid]\n",
    "    \n",
    "    l1 = list(df.sort_values('position')['horseName'])\n",
    "    l2 = get_predicted_ordering(df)\n",
    "    \n",
    "    train_acc.append(l1[:2] == l2[:2])\n",
    "    \n",
    "for rid in X_dev_all_runners_present:\n",
    "    \n",
    "    df = horses_clean[horses_clean['rid'] == rid]\n",
    "    \n",
    "    l1 = list(df.sort_values('position')['horseName'])\n",
    "    l2 = get_predicted_ordering(df)\n",
    "    \n",
    "    dev_acc.append(l1[:2] == l2[:2])\n",
    "    \n",
    "for rid in X_test_all_runners_present:\n",
    "    \n",
    "    df = horses_clean[horses_clean['rid'] == rid]\n",
    "    \n",
    "    l1 = list(df.sort_values('position')['horseName'])\n",
    "    l2 = get_predicted_ordering(df)\n",
    "    \n",
    "    test_acc.append(l1[:2] == l2[:2])"
   ]
  },
  {
   "cell_type": "code",
   "execution_count": 27,
   "id": "8653325c",
   "metadata": {},
   "outputs": [
    {
     "data": {
      "text/plain": [
       "0.12640099626400997"
      ]
     },
     "execution_count": 27,
     "metadata": {},
     "output_type": "execute_result"
    }
   ],
   "source": [
    "np.mean(train_acc)"
   ]
  },
  {
   "cell_type": "code",
   "execution_count": 28,
   "id": "8d264eab",
   "metadata": {},
   "outputs": [
    {
     "data": {
      "text/plain": [
       "0.13438735177865613"
      ]
     },
     "execution_count": 28,
     "metadata": {},
     "output_type": "execute_result"
    }
   ],
   "source": [
    "np.mean(dev_acc)"
   ]
  },
  {
   "cell_type": "code",
   "execution_count": 29,
   "id": "e3dcd33e",
   "metadata": {},
   "outputs": [
    {
     "data": {
      "text/plain": [
       "0.09166666666666666"
      ]
     },
     "execution_count": 29,
     "metadata": {},
     "output_type": "execute_result"
    }
   ],
   "source": [
    "np.mean(test_acc)"
   ]
  },
  {
   "cell_type": "markdown",
   "id": "899e7aa2",
   "metadata": {},
   "source": [
    "---"
   ]
  }
 ],
 "metadata": {
  "kernelspec": {
   "display_name": "Python 3 (ipykernel)",
   "language": "python",
   "name": "python3"
  },
  "language_info": {
   "codemirror_mode": {
    "name": "ipython",
    "version": 3
   },
   "file_extension": ".py",
   "mimetype": "text/x-python",
   "name": "python",
   "nbconvert_exporter": "python",
   "pygments_lexer": "ipython3",
   "version": "3.9.6"
  }
 },
 "nbformat": 4,
 "nbformat_minor": 5
}
