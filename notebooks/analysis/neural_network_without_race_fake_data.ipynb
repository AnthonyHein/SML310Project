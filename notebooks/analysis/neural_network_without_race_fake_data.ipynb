{
 "cells": [
  {
   "cell_type": "markdown",
   "id": "7026e67b",
   "metadata": {},
   "source": [
    "# `neural_network_without_race_fake_data.ipynb`"
   ]
  },
  {
   "cell_type": "markdown",
   "id": "c052cb33",
   "metadata": {},
   "source": [
    "### Author: Anthony Hein"
   ]
  },
  {
   "cell_type": "markdown",
   "id": "194e2cf5",
   "metadata": {},
   "source": [
    "#### Last updated: 12/4/2021"
   ]
  },
  {
   "cell_type": "markdown",
   "id": "1b86aa88",
   "metadata": {},
   "source": [
    "# Overview:\n",
    "\n",
    "Feed in a neural network fake data to see how its predictions may change."
   ]
  },
  {
   "cell_type": "markdown",
   "id": "697e80d8",
   "metadata": {},
   "source": [
    "---"
   ]
  },
  {
   "cell_type": "markdown",
   "id": "08164829",
   "metadata": {},
   "source": [
    "## Setup"
   ]
  },
  {
   "cell_type": "code",
   "execution_count": 1,
   "id": "9e9ee6d1",
   "metadata": {},
   "outputs": [],
   "source": [
    "import git\n",
    "import os\n",
    "import re\n",
    "from typing import List\n",
    "from tqdm import tqdm\n",
    "import pandas as pd\n",
    "import numpy as np\n",
    "import matplotlib.pyplot as plt\n",
    "%matplotlib inline"
   ]
  },
  {
   "cell_type": "code",
   "execution_count": 2,
   "id": "f013a715",
   "metadata": {},
   "outputs": [
    {
     "data": {
      "text/plain": [
       "'/Users/anthonyhein/Desktop/SML310/project'"
      ]
     },
     "execution_count": 2,
     "metadata": {},
     "output_type": "execute_result"
    }
   ],
   "source": [
    "BASE_DIR = git.Repo(os.getcwd(), search_parent_directories=True).working_dir\n",
    "BASE_DIR"
   ]
  },
  {
   "cell_type": "markdown",
   "id": "900adb93",
   "metadata": {},
   "source": [
    "---"
   ]
  },
  {
   "cell_type": "markdown",
   "id": "da9daf25",
   "metadata": {},
   "source": [
    "## Load `X_train_preprocess_without_race.csv`"
   ]
  },
  {
   "cell_type": "code",
   "execution_count": 3,
   "id": "f04cfc74",
   "metadata": {},
   "outputs": [
    {
     "data": {
      "text/html": [
       "<div>\n",
       "<style scoped>\n",
       "    .dataframe tbody tr th:only-of-type {\n",
       "        vertical-align: middle;\n",
       "    }\n",
       "\n",
       "    .dataframe tbody tr th {\n",
       "        vertical-align: top;\n",
       "    }\n",
       "\n",
       "    .dataframe thead th {\n",
       "        text-align: right;\n",
       "    }\n",
       "</style>\n",
       "<table border=\"1\" class=\"dataframe\">\n",
       "  <thead>\n",
       "    <tr style=\"text-align: right;\">\n",
       "      <th></th>\n",
       "      <th>horse1_age</th>\n",
       "      <th>horse1_saddle</th>\n",
       "      <th>horse1_decimalPrice</th>\n",
       "      <th>horse1_isFav</th>\n",
       "      <th>horse1_outHandicap</th>\n",
       "      <th>horse1_RPR</th>\n",
       "      <th>horse1_weight</th>\n",
       "      <th>horse1_jockey_d_last_race</th>\n",
       "      <th>horse1_jockey_d_first_race</th>\n",
       "      <th>horse1_jockey_prev_1_position</th>\n",
       "      <th>...</th>\n",
       "      <th>horse2_jockey_prev_3_position_rain</th>\n",
       "      <th>horse2_jockey_prev_1_finishing_time_ratio_rain</th>\n",
       "      <th>horse2_jockey_prev_2_finishing_time_ratio_rain</th>\n",
       "      <th>horse2_jockey_prev_3_finishing_time_ratio_rain</th>\n",
       "      <th>horse2_jockey_prev_1_position_rhum</th>\n",
       "      <th>horse2_jockey_prev_2_position_rhum</th>\n",
       "      <th>horse2_jockey_prev_3_position_rhum</th>\n",
       "      <th>horse2_jockey_prev_1_finishing_time_ratio_rhum</th>\n",
       "      <th>horse2_jockey_prev_2_finishing_time_ratio_rhum</th>\n",
       "      <th>horse2_jockey_prev_3_finishing_time_ratio_rhum</th>\n",
       "    </tr>\n",
       "  </thead>\n",
       "  <tbody>\n",
       "    <tr>\n",
       "      <th>0</th>\n",
       "      <td>0.200000</td>\n",
       "      <td>0.230769</td>\n",
       "      <td>0.196970</td>\n",
       "      <td>0.0</td>\n",
       "      <td>0.0</td>\n",
       "      <td>0.73125</td>\n",
       "      <td>0.692308</td>\n",
       "      <td>0.007631</td>\n",
       "      <td>0.236544</td>\n",
       "      <td>0.100</td>\n",
       "      <td>...</td>\n",
       "      <td>0.050</td>\n",
       "      <td>0.805104</td>\n",
       "      <td>0.780139</td>\n",
       "      <td>0.783438</td>\n",
       "      <td>0.100</td>\n",
       "      <td>0.025</td>\n",
       "      <td>0.025</td>\n",
       "      <td>0.805104</td>\n",
       "      <td>0.799642</td>\n",
       "      <td>0.780139</td>\n",
       "    </tr>\n",
       "    <tr>\n",
       "      <th>1</th>\n",
       "      <td>0.400000</td>\n",
       "      <td>0.038462</td>\n",
       "      <td>0.072222</td>\n",
       "      <td>0.0</td>\n",
       "      <td>0.0</td>\n",
       "      <td>0.73125</td>\n",
       "      <td>0.743590</td>\n",
       "      <td>0.005050</td>\n",
       "      <td>0.236544</td>\n",
       "      <td>0.100</td>\n",
       "      <td>...</td>\n",
       "      <td>0.100</td>\n",
       "      <td>0.801416</td>\n",
       "      <td>0.781238</td>\n",
       "      <td>0.794160</td>\n",
       "      <td>0.075</td>\n",
       "      <td>0.050</td>\n",
       "      <td>0.075</td>\n",
       "      <td>0.801416</td>\n",
       "      <td>0.800487</td>\n",
       "      <td>0.785703</td>\n",
       "    </tr>\n",
       "    <tr>\n",
       "      <th>2</th>\n",
       "      <td>0.133333</td>\n",
       "      <td>0.423077</td>\n",
       "      <td>0.098485</td>\n",
       "      <td>0.0</td>\n",
       "      <td>0.0</td>\n",
       "      <td>0.65000</td>\n",
       "      <td>0.705128</td>\n",
       "      <td>0.000740</td>\n",
       "      <td>0.237283</td>\n",
       "      <td>0.025</td>\n",
       "      <td>...</td>\n",
       "      <td>0.100</td>\n",
       "      <td>0.799909</td>\n",
       "      <td>0.780139</td>\n",
       "      <td>0.786816</td>\n",
       "      <td>0.025</td>\n",
       "      <td>0.100</td>\n",
       "      <td>0.025</td>\n",
       "      <td>0.799642</td>\n",
       "      <td>0.806486</td>\n",
       "      <td>0.780139</td>\n",
       "    </tr>\n",
       "    <tr>\n",
       "      <th>3</th>\n",
       "      <td>0.133333</td>\n",
       "      <td>0.423077</td>\n",
       "      <td>0.098485</td>\n",
       "      <td>0.0</td>\n",
       "      <td>0.0</td>\n",
       "      <td>0.65000</td>\n",
       "      <td>0.705128</td>\n",
       "      <td>0.000740</td>\n",
       "      <td>0.237283</td>\n",
       "      <td>0.025</td>\n",
       "      <td>...</td>\n",
       "      <td>0.075</td>\n",
       "      <td>0.800176</td>\n",
       "      <td>0.781623</td>\n",
       "      <td>0.781870</td>\n",
       "      <td>0.050</td>\n",
       "      <td>0.075</td>\n",
       "      <td>0.050</td>\n",
       "      <td>0.801163</td>\n",
       "      <td>0.801416</td>\n",
       "      <td>0.780963</td>\n",
       "    </tr>\n",
       "    <tr>\n",
       "      <th>4</th>\n",
       "      <td>0.133333</td>\n",
       "      <td>0.192308</td>\n",
       "      <td>0.090278</td>\n",
       "      <td>0.0</td>\n",
       "      <td>0.0</td>\n",
       "      <td>0.66250</td>\n",
       "      <td>0.730769</td>\n",
       "      <td>0.000740</td>\n",
       "      <td>0.234655</td>\n",
       "      <td>0.050</td>\n",
       "      <td>...</td>\n",
       "      <td>0.100</td>\n",
       "      <td>0.799642</td>\n",
       "      <td>0.783601</td>\n",
       "      <td>0.785468</td>\n",
       "      <td>0.125</td>\n",
       "      <td>0.100</td>\n",
       "      <td>0.025</td>\n",
       "      <td>0.803191</td>\n",
       "      <td>0.805104</td>\n",
       "      <td>0.780139</td>\n",
       "    </tr>\n",
       "  </tbody>\n",
       "</table>\n",
       "<p>5 rows × 144 columns</p>\n",
       "</div>"
      ],
      "text/plain": [
       "   horse1_age  horse1_saddle  horse1_decimalPrice  horse1_isFav  \\\n",
       "0    0.200000       0.230769             0.196970           0.0   \n",
       "1    0.400000       0.038462             0.072222           0.0   \n",
       "2    0.133333       0.423077             0.098485           0.0   \n",
       "3    0.133333       0.423077             0.098485           0.0   \n",
       "4    0.133333       0.192308             0.090278           0.0   \n",
       "\n",
       "   horse1_outHandicap  horse1_RPR  horse1_weight  horse1_jockey_d_last_race  \\\n",
       "0                 0.0     0.73125       0.692308                   0.007631   \n",
       "1                 0.0     0.73125       0.743590                   0.005050   \n",
       "2                 0.0     0.65000       0.705128                   0.000740   \n",
       "3                 0.0     0.65000       0.705128                   0.000740   \n",
       "4                 0.0     0.66250       0.730769                   0.000740   \n",
       "\n",
       "   horse1_jockey_d_first_race  horse1_jockey_prev_1_position  ...  \\\n",
       "0                    0.236544                          0.100  ...   \n",
       "1                    0.236544                          0.100  ...   \n",
       "2                    0.237283                          0.025  ...   \n",
       "3                    0.237283                          0.025  ...   \n",
       "4                    0.234655                          0.050  ...   \n",
       "\n",
       "   horse2_jockey_prev_3_position_rain  \\\n",
       "0                               0.050   \n",
       "1                               0.100   \n",
       "2                               0.100   \n",
       "3                               0.075   \n",
       "4                               0.100   \n",
       "\n",
       "   horse2_jockey_prev_1_finishing_time_ratio_rain  \\\n",
       "0                                        0.805104   \n",
       "1                                        0.801416   \n",
       "2                                        0.799909   \n",
       "3                                        0.800176   \n",
       "4                                        0.799642   \n",
       "\n",
       "   horse2_jockey_prev_2_finishing_time_ratio_rain  \\\n",
       "0                                        0.780139   \n",
       "1                                        0.781238   \n",
       "2                                        0.780139   \n",
       "3                                        0.781623   \n",
       "4                                        0.783601   \n",
       "\n",
       "   horse2_jockey_prev_3_finishing_time_ratio_rain  \\\n",
       "0                                        0.783438   \n",
       "1                                        0.794160   \n",
       "2                                        0.786816   \n",
       "3                                        0.781870   \n",
       "4                                        0.785468   \n",
       "\n",
       "   horse2_jockey_prev_1_position_rhum  horse2_jockey_prev_2_position_rhum  \\\n",
       "0                               0.100                               0.025   \n",
       "1                               0.075                               0.050   \n",
       "2                               0.025                               0.100   \n",
       "3                               0.050                               0.075   \n",
       "4                               0.125                               0.100   \n",
       "\n",
       "   horse2_jockey_prev_3_position_rhum  \\\n",
       "0                               0.025   \n",
       "1                               0.075   \n",
       "2                               0.025   \n",
       "3                               0.050   \n",
       "4                               0.025   \n",
       "\n",
       "   horse2_jockey_prev_1_finishing_time_ratio_rhum  \\\n",
       "0                                        0.805104   \n",
       "1                                        0.801416   \n",
       "2                                        0.799642   \n",
       "3                                        0.801163   \n",
       "4                                        0.803191   \n",
       "\n",
       "   horse2_jockey_prev_2_finishing_time_ratio_rhum  \\\n",
       "0                                        0.799642   \n",
       "1                                        0.800487   \n",
       "2                                        0.806486   \n",
       "3                                        0.801416   \n",
       "4                                        0.805104   \n",
       "\n",
       "   horse2_jockey_prev_3_finishing_time_ratio_rhum  \n",
       "0                                        0.780139  \n",
       "1                                        0.785703  \n",
       "2                                        0.780139  \n",
       "3                                        0.780963  \n",
       "4                                        0.780139  \n",
       "\n",
       "[5 rows x 144 columns]"
      ]
     },
     "execution_count": 3,
     "metadata": {},
     "output_type": "execute_result"
    }
   ],
   "source": [
    "X_train = pd.read_csv(f\"{BASE_DIR}/data/analysis/X_train_preprocess_without_race.csv\", low_memory=False)\n",
    "X_train.head()"
   ]
  },
  {
   "cell_type": "code",
   "execution_count": 4,
   "id": "9b746306",
   "metadata": {},
   "outputs": [
    {
     "data": {
      "text/plain": [
       "(800666, 144)"
      ]
     },
     "execution_count": 4,
     "metadata": {},
     "output_type": "execute_result"
    }
   ],
   "source": [
    "X_train.shape"
   ]
  },
  {
   "cell_type": "markdown",
   "id": "e60f5151",
   "metadata": {},
   "source": [
    "---"
   ]
  },
  {
   "cell_type": "markdown",
   "id": "4f6f96eb",
   "metadata": {},
   "source": [
    "## Load Neural Network"
   ]
  },
  {
   "cell_type": "code",
   "execution_count": 5,
   "id": "9123f8b8",
   "metadata": {},
   "outputs": [],
   "source": [
    "import torch\n",
    "import torch.nn as nn\n",
    "import torch.optim as optim\n",
    "from torch.utils.data import DataLoader\n",
    "\n",
    "# Set the device to use\n",
    "# CUDA refers to the GPU\n",
    "device = torch.device(\"cuda:0\" if torch.cuda.is_available() else \"cpu\")\n",
    "\n",
    "## Fixing Random Seed for Reproducibility\n",
    "torch.manual_seed(0)\n",
    "np.random.seed(0)"
   ]
  },
  {
   "cell_type": "code",
   "execution_count": 6,
   "id": "83287181",
   "metadata": {},
   "outputs": [],
   "source": [
    "class Net(nn.Module):\n",
    "    def __init__(self, input_size, num_layers, layers_size):\n",
    "        super(Net, self).__init__()\n",
    "        self.hidden_layers = nn.ModuleList([nn.Linear(input_size, layers_size)])\n",
    "        self.hidden_layers.extend([nn.Linear(layers_size, layers_size) for i in range(1, num_layers-1)])\n",
    "        self.output = nn.Linear(layers_size, 1)\n",
    "        self.activation = nn.ReLU()\n",
    "    \n",
    "    def forward(self, x):\n",
    "        z = x\n",
    "        for layer in self.hidden_layers:\n",
    "            z = self.activation(layer(z))\n",
    "        return self.output(z)"
   ]
  },
  {
   "cell_type": "code",
   "execution_count": 7,
   "id": "a0fa9c37",
   "metadata": {},
   "outputs": [
    {
     "data": {
      "text/plain": [
       "Net(\n",
       "  (hidden_layers): ModuleList(\n",
       "    (0): Linear(in_features=144, out_features=150, bias=True)\n",
       "  )\n",
       "  (output): Linear(in_features=150, out_features=1, bias=True)\n",
       "  (activation): ReLU()\n",
       ")"
      ]
     },
     "execution_count": 7,
     "metadata": {},
     "output_type": "execute_result"
    }
   ],
   "source": [
    "net = Net(X_train.shape[1], 1, 150)\n",
    "net.load_state_dict(torch.load(f\"{BASE_DIR}/data/analysis/neural_network/net_all_features_150_nodes.bin\"))\n",
    "net.eval()"
   ]
  },
  {
   "cell_type": "markdown",
   "id": "33437168",
   "metadata": {},
   "source": [
    "---"
   ]
  },
  {
   "cell_type": "markdown",
   "id": "98c6a255",
   "metadata": {},
   "source": [
    "## Sample Data"
   ]
  },
  {
   "cell_type": "code",
   "execution_count": 8,
   "id": "0b2c65be",
   "metadata": {},
   "outputs": [
    {
     "data": {
      "text/plain": [
       "(80067, 144)"
      ]
     },
     "execution_count": 8,
     "metadata": {},
     "output_type": "execute_result"
    }
   ],
   "source": [
    "X_train_sample = X_train.sample(frac=0.1)\n",
    "X_train_sample.shape"
   ]
  },
  {
   "cell_type": "markdown",
   "id": "3c07ab5a",
   "metadata": {},
   "source": [
    "---"
   ]
  },
  {
   "cell_type": "markdown",
   "id": "ffa14174",
   "metadata": {},
   "source": [
    "## Create Dataframe where Each Input Has Equal Features"
   ]
  },
  {
   "cell_type": "code",
   "execution_count": 9,
   "id": "0995686e",
   "metadata": {},
   "outputs": [
    {
     "data": {
      "text/plain": [
       "(80067, 144)"
      ]
     },
     "execution_count": 9,
     "metadata": {},
     "output_type": "execute_result"
    }
   ],
   "source": [
    "X_train_sample_eq = X_train_sample.copy()\n",
    "X_train_sample_eq.shape"
   ]
  },
  {
   "cell_type": "code",
   "execution_count": 10,
   "id": "f6011079",
   "metadata": {
    "scrolled": false
   },
   "outputs": [],
   "source": [
    "for column in X_train_sample_eq.columns:\n",
    "    \n",
    "    suffix = column[7:]\n",
    "    copy_column = \"horse1_\" + suffix\n",
    "    \n",
    "    X_train_sample_eq[column] = X_train_sample_eq[copy_column]"
   ]
  },
  {
   "cell_type": "markdown",
   "id": "d0a9fc48",
   "metadata": {},
   "source": [
    "---"
   ]
  },
  {
   "cell_type": "markdown",
   "id": "ae41a0c1",
   "metadata": {},
   "source": [
    "## Predict on Equal-Feature Dataframe"
   ]
  },
  {
   "cell_type": "code",
   "execution_count": 11,
   "id": "c1e94785",
   "metadata": {},
   "outputs": [],
   "source": [
    "X_train_sample_eq_tensor = torch.from_numpy(X_train_sample_eq.to_numpy()).float().to(device)"
   ]
  },
  {
   "cell_type": "code",
   "execution_count": 12,
   "id": "3e0813ee",
   "metadata": {},
   "outputs": [],
   "source": [
    "with torch.no_grad():\n",
    "    eq_preds = torch.sigmoid(net.forward(X_train_sample_eq_tensor))"
   ]
  },
  {
   "cell_type": "code",
   "execution_count": 13,
   "id": "ab56f4f6",
   "metadata": {},
   "outputs": [
    {
     "data": {
      "text/plain": [
       "array([[0.6177654 ],\n",
       "       [0.6725244 ],\n",
       "       [0.5644103 ],\n",
       "       ...,\n",
       "       [0.55897135],\n",
       "       [0.46922383],\n",
       "       [0.6743151 ]], dtype=float32)"
      ]
     },
     "execution_count": 13,
     "metadata": {},
     "output_type": "execute_result"
    }
   ],
   "source": [
    "eq_preds.numpy()"
   ]
  },
  {
   "cell_type": "code",
   "execution_count": 14,
   "id": "05f16774",
   "metadata": {
    "scrolled": true
   },
   "outputs": [
    {
     "data": {
      "text/plain": [
       "tensor(0.6172)"
      ]
     },
     "execution_count": 14,
     "metadata": {},
     "output_type": "execute_result"
    }
   ],
   "source": [
    "torch.mean(eq_preds)"
   ]
  },
  {
   "cell_type": "code",
   "execution_count": 15,
   "id": "017af634",
   "metadata": {},
   "outputs": [
    {
     "data": {
      "text/plain": [
       "(array([5.0000e+00, 9.0000e+00, 4.5000e+01, 1.9200e+02, 1.3040e+03,\n",
       "        1.0081e+04, 4.4625e+04, 2.2286e+04, 1.4150e+03, 1.0500e+02]),\n",
       " array([0.05277058, 0.13767469, 0.2225788 , 0.3074829 , 0.392387  ,\n",
       "        0.4772911 , 0.56219524, 0.6470993 , 0.73200345, 0.8169075 ,\n",
       "        0.90181166], dtype=float32),\n",
       " <BarContainer object of 10 artists>)"
      ]
     },
     "execution_count": 15,
     "metadata": {},
     "output_type": "execute_result"
    },
    {
     "data": {
      "image/png": "[encoded data removed]",
      "text/plain": [
       "<Figure size 432x288 with 1 Axes>"
      ]
     },
     "metadata": {
      "needs_background": "light"
     },
     "output_type": "display_data"
    }
   ],
   "source": [
    "plt.hist(eq_preds.numpy())"
   ]
  },
  {
   "cell_type": "markdown",
   "id": "4c38bcd4",
   "metadata": {},
   "source": [
    "---"
   ]
  },
  {
   "cell_type": "markdown",
   "id": "b52adbfe",
   "metadata": {},
   "source": [
    "## Create Dataframe with Exaggerated Differences Feature-Wise"
   ]
  },
  {
   "cell_type": "code",
   "execution_count": 285,
   "id": "ea661517",
   "metadata": {
    "scrolled": false
   },
   "outputs": [
    {
     "data": {
      "text/plain": [
       "['horse1_age',\n",
       " 'horse1_saddle',\n",
       " 'horse1_decimalPrice',\n",
       " 'horse1_isFav',\n",
       " 'horse1_outHandicap',\n",
       " 'horse1_RPR',\n",
       " 'horse1_weight',\n",
       " 'horse1_jockey_d_last_race',\n",
       " 'horse1_jockey_d_first_race',\n",
       " 'horse1_jockey_prev_1_position',\n",
       " 'horse1_jockey_prev_2_position',\n",
       " 'horse1_jockey_prev_3_position',\n",
       " 'horse1_jockey_prev_1_finishing_time_ratio',\n",
       " 'horse1_jockey_prev_2_finishing_time_ratio',\n",
       " 'horse1_jockey_prev_3_finishing_time_ratio',\n",
       " 'horse1_jockey_prev_1_global_finishing_time_ratio',\n",
       " 'horse1_jockey_prev_2_global_finishing_time_ratio',\n",
       " 'horse1_jockey_prev_3_global_finishing_time_ratio',\n",
       " 'horse1_jockey_prev_1_position_course',\n",
       " 'horse1_jockey_prev_2_position_course',\n",
       " 'horse1_jockey_prev_3_position_course',\n",
       " 'horse1_jockey_prev_1_finishing_time_ratio_course',\n",
       " 'horse1_jockey_prev_2_finishing_time_ratio_course',\n",
       " 'horse1_jockey_prev_3_finishing_time_ratio_course',\n",
       " 'horse1_jockey_prev_1_position_metric',\n",
       " 'horse1_jockey_prev_2_position_metric',\n",
       " 'horse1_jockey_prev_3_position_metric',\n",
       " 'horse1_jockey_prev_1_finishing_time_ratio_metric',\n",
       " 'horse1_jockey_prev_2_finishing_time_ratio_metric',\n",
       " 'horse1_jockey_prev_3_finishing_time_ratio_metric',\n",
       " 'horse1_jockey_prev_1_position_ncond',\n",
       " 'horse1_jockey_prev_2_position_ncond',\n",
       " 'horse1_jockey_prev_3_position_ncond',\n",
       " 'horse1_jockey_prev_1_finishing_time_ratio_ncond',\n",
       " 'horse1_jockey_prev_2_finishing_time_ratio_ncond',\n",
       " 'horse1_jockey_prev_3_finishing_time_ratio_ncond',\n",
       " 'horse1_jockey_prev_1_position_runners',\n",
       " 'horse1_jockey_prev_2_position_runners',\n",
       " 'horse1_jockey_prev_3_position_runners',\n",
       " 'horse1_jockey_prev_1_finishing_time_ratio_runners',\n",
       " 'horse1_jockey_prev_2_finishing_time_ratio_runners',\n",
       " 'horse1_jockey_prev_3_finishing_time_ratio_runners',\n",
       " 'horse1_jockey_prev_1_position_month',\n",
       " 'horse1_jockey_prev_2_position_month',\n",
       " 'horse1_jockey_prev_3_position_month',\n",
       " 'horse1_jockey_prev_1_finishing_time_ratio_month',\n",
       " 'horse1_jockey_prev_2_finishing_time_ratio_month',\n",
       " 'horse1_jockey_prev_3_finishing_time_ratio_month',\n",
       " 'horse1_jockey_prev_1_position_temp',\n",
       " 'horse1_jockey_prev_2_position_temp',\n",
       " 'horse1_jockey_prev_3_position_temp',\n",
       " 'horse1_jockey_prev_1_finishing_time_ratio_temp',\n",
       " 'horse1_jockey_prev_2_finishing_time_ratio_temp',\n",
       " 'horse1_jockey_prev_3_finishing_time_ratio_temp',\n",
       " 'horse1_jockey_prev_1_position_msl',\n",
       " 'horse1_jockey_prev_2_position_msl',\n",
       " 'horse1_jockey_prev_3_position_msl',\n",
       " 'horse1_jockey_prev_1_finishing_time_ratio_msl',\n",
       " 'horse1_jockey_prev_2_finishing_time_ratio_msl',\n",
       " 'horse1_jockey_prev_3_finishing_time_ratio_msl',\n",
       " 'horse1_jockey_prev_1_position_rain',\n",
       " 'horse1_jockey_prev_2_position_rain',\n",
       " 'horse1_jockey_prev_3_position_rain',\n",
       " 'horse1_jockey_prev_1_finishing_time_ratio_rain',\n",
       " 'horse1_jockey_prev_2_finishing_time_ratio_rain',\n",
       " 'horse1_jockey_prev_3_finishing_time_ratio_rain',\n",
       " 'horse1_jockey_prev_1_position_rhum',\n",
       " 'horse1_jockey_prev_2_position_rhum',\n",
       " 'horse1_jockey_prev_3_position_rhum',\n",
       " 'horse1_jockey_prev_1_finishing_time_ratio_rhum',\n",
       " 'horse1_jockey_prev_2_finishing_time_ratio_rhum',\n",
       " 'horse1_jockey_prev_3_finishing_time_ratio_rhum',\n",
       " 'horse2_age',\n",
       " 'horse2_saddle',\n",
       " 'horse2_decimalPrice',\n",
       " 'horse2_isFav',\n",
       " 'horse2_outHandicap',\n",
       " 'horse2_RPR',\n",
       " 'horse2_weight',\n",
       " 'horse2_jockey_d_last_race',\n",
       " 'horse2_jockey_d_first_race',\n",
       " 'horse2_jockey_prev_1_position',\n",
       " 'horse2_jockey_prev_2_position',\n",
       " 'horse2_jockey_prev_3_position',\n",
       " 'horse2_jockey_prev_1_finishing_time_ratio',\n",
       " 'horse2_jockey_prev_2_finishing_time_ratio',\n",
       " 'horse2_jockey_prev_3_finishing_time_ratio',\n",
       " 'horse2_jockey_prev_1_global_finishing_time_ratio',\n",
       " 'horse2_jockey_prev_2_global_finishing_time_ratio',\n",
       " 'horse2_jockey_prev_3_global_finishing_time_ratio',\n",
       " 'horse2_jockey_prev_1_position_course',\n",
       " 'horse2_jockey_prev_2_position_course',\n",
       " 'horse2_jockey_prev_3_position_course',\n",
       " 'horse2_jockey_prev_1_finishing_time_ratio_course',\n",
       " 'horse2_jockey_prev_2_finishing_time_ratio_course',\n",
       " 'horse2_jockey_prev_3_finishing_time_ratio_course',\n",
       " 'horse2_jockey_prev_1_position_metric',\n",
       " 'horse2_jockey_prev_2_position_metric',\n",
       " 'horse2_jockey_prev_3_position_metric',\n",
       " 'horse2_jockey_prev_1_finishing_time_ratio_metric',\n",
       " 'horse2_jockey_prev_2_finishing_time_ratio_metric',\n",
       " 'horse2_jockey_prev_3_finishing_time_ratio_metric',\n",
       " 'horse2_jockey_prev_1_position_ncond',\n",
       " 'horse2_jockey_prev_2_position_ncond',\n",
       " 'horse2_jockey_prev_3_position_ncond',\n",
       " 'horse2_jockey_prev_1_finishing_time_ratio_ncond',\n",
       " 'horse2_jockey_prev_2_finishing_time_ratio_ncond',\n",
       " 'horse2_jockey_prev_3_finishing_time_ratio_ncond',\n",
       " 'horse2_jockey_prev_1_position_runners',\n",
       " 'horse2_jockey_prev_2_position_runners',\n",
       " 'horse2_jockey_prev_3_position_runners',\n",
       " 'horse2_jockey_prev_1_finishing_time_ratio_runners',\n",
       " 'horse2_jockey_prev_2_finishing_time_ratio_runners',\n",
       " 'horse2_jockey_prev_3_finishing_time_ratio_runners',\n",
       " 'horse2_jockey_prev_1_position_month',\n",
       " 'horse2_jockey_prev_2_position_month',\n",
       " 'horse2_jockey_prev_3_position_month',\n",
       " 'horse2_jockey_prev_1_finishing_time_ratio_month',\n",
       " 'horse2_jockey_prev_2_finishing_time_ratio_month',\n",
       " 'horse2_jockey_prev_3_finishing_time_ratio_month',\n",
       " 'horse2_jockey_prev_1_position_temp',\n",
       " 'horse2_jockey_prev_2_position_temp',\n",
       " 'horse2_jockey_prev_3_position_temp',\n",
       " 'horse2_jockey_prev_1_finishing_time_ratio_temp',\n",
       " 'horse2_jockey_prev_2_finishing_time_ratio_temp',\n",
       " 'horse2_jockey_prev_3_finishing_time_ratio_temp',\n",
       " 'horse2_jockey_prev_1_position_msl',\n",
       " 'horse2_jockey_prev_2_position_msl',\n",
       " 'horse2_jockey_prev_3_position_msl',\n",
       " 'horse2_jockey_prev_1_finishing_time_ratio_msl',\n",
       " 'horse2_jockey_prev_2_finishing_time_ratio_msl',\n",
       " 'horse2_jockey_prev_3_finishing_time_ratio_msl',\n",
       " 'horse2_jockey_prev_1_position_rain',\n",
       " 'horse2_jockey_prev_2_position_rain',\n",
       " 'horse2_jockey_prev_3_position_rain',\n",
       " 'horse2_jockey_prev_1_finishing_time_ratio_rain',\n",
       " 'horse2_jockey_prev_2_finishing_time_ratio_rain',\n",
       " 'horse2_jockey_prev_3_finishing_time_ratio_rain',\n",
       " 'horse2_jockey_prev_1_position_rhum',\n",
       " 'horse2_jockey_prev_2_position_rhum',\n",
       " 'horse2_jockey_prev_3_position_rhum',\n",
       " 'horse2_jockey_prev_1_finishing_time_ratio_rhum',\n",
       " 'horse2_jockey_prev_2_finishing_time_ratio_rhum',\n",
       " 'horse2_jockey_prev_3_finishing_time_ratio_rhum']"
      ]
     },
     "execution_count": 285,
     "metadata": {},
     "output_type": "execute_result"
    }
   ],
   "source": [
    "list(X_train.columns)"
   ]
  },
  {
   "cell_type": "markdown",
   "id": "c3de1fde",
   "metadata": {},
   "source": [
    "### Odds & Ratings"
   ]
  },
  {
   "cell_type": "code",
   "execution_count": 286,
   "id": "7623b0f5",
   "metadata": {},
   "outputs": [
    {
     "data": {
      "text/plain": [
       "(array([37326., 26524.,  9632.,  3000.,  1896.,   657.,   553.,   252.,\n",
       "          189.,    38.]),\n",
       " array([0.00216234, 0.0982424 , 0.19432247, 0.29040253, 0.38648259,\n",
       "        0.48256265, 0.57864271, 0.67472278, 0.77080284, 0.8668829 ,\n",
       "        0.96296296]),\n",
       " <BarContainer object of 10 artists>)"
      ]
     },
     "execution_count": 286,
     "metadata": {},
     "output_type": "execute_result"
    },
    {
     "data": {
      "image/png": "[encoded data removed]",
      "text/plain": [
       "<Figure size 432x288 with 1 Axes>"
      ]
     },
     "metadata": {
      "needs_background": "light"
     },
     "output_type": "display_data"
    }
   ],
   "source": [
    "plt.hist(X_train_sample_eq['horse1_decimalPrice'])"
   ]
  },
  {
   "cell_type": "code",
   "execution_count": 287,
   "id": "dabafe38",
   "metadata": {},
   "outputs": [
    {
     "data": {
      "text/plain": [
       "(array([2.2310e+03, 5.5880e+03, 1.1680e+04, 1.9519e+04, 2.2014e+04,\n",
       "        1.2500e+04, 5.5590e+03, 9.0500e+02, 6.8000e+01, 3.0000e+00]),\n",
       " array([-0.00625 ,  0.094375,  0.195   ,  0.295625,  0.39625 ,  0.496875,\n",
       "         0.5975  ,  0.698125,  0.79875 ,  0.899375,  1.      ]),\n",
       " <BarContainer object of 10 artists>)"
      ]
     },
     "execution_count": 287,
     "metadata": {},
     "output_type": "execute_result"
    },
    {
     "data": {
      "image/png": "[encoded data removed]",
      "text/plain": [
       "<Figure size 432x288 with 1 Axes>"
      ]
     },
     "metadata": {
      "needs_background": "light"
     },
     "output_type": "display_data"
    }
   ],
   "source": [
    "plt.hist(X_train_sample_eq['horse1_RPR'])"
   ]
  },
  {
   "cell_type": "markdown",
   "id": "a4bfcde9",
   "metadata": {},
   "source": [
    "#### Small"
   ]
  },
  {
   "cell_type": "code",
   "execution_count": 288,
   "id": "9c00e61c",
   "metadata": {},
   "outputs": [
    {
     "data": {
      "text/plain": [
       "0.0722222222222221"
      ]
     },
     "execution_count": 288,
     "metadata": {},
     "output_type": "execute_result"
    }
   ],
   "source": [
    "odds_q_lo = X_train_sample_eq['horse1_decimalPrice'].quantile(q=1/3)\n",
    "odds_q_lo"
   ]
  },
  {
   "cell_type": "code",
   "execution_count": 289,
   "id": "7230d458",
   "metadata": {},
   "outputs": [
    {
     "data": {
      "text/plain": [
       "0.1354166666666666"
      ]
     },
     "execution_count": 289,
     "metadata": {},
     "output_type": "execute_result"
    }
   ],
   "source": [
    "odds_q_hi = X_train_sample_eq['horse1_decimalPrice'].quantile(q=2/3)\n",
    "odds_q_hi"
   ]
  },
  {
   "cell_type": "code",
   "execution_count": 290,
   "id": "60d09b87",
   "metadata": {},
   "outputs": [
    {
     "data": {
      "text/plain": [
       "0.3375"
      ]
     },
     "execution_count": 290,
     "metadata": {},
     "output_type": "execute_result"
    }
   ],
   "source": [
    "rpr_q_lo = X_train_sample_eq['horse1_RPR'].quantile(q=1/3)\n",
    "rpr_q_lo"
   ]
  },
  {
   "cell_type": "code",
   "execution_count": 291,
   "id": "729869db",
   "metadata": {},
   "outputs": [
    {
     "data": {
      "text/plain": [
       "0.4625"
      ]
     },
     "execution_count": 291,
     "metadata": {},
     "output_type": "execute_result"
    }
   ],
   "source": [
    "rpr_q_hi = X_train_sample_eq['horse1_RPR'].quantile(q=2/3)\n",
    "rpr_q_hi"
   ]
  },
  {
   "cell_type": "code",
   "execution_count": 292,
   "id": "486ccbee",
   "metadata": {},
   "outputs": [
    {
     "data": {
      "text/plain": [
       "(80067, 144)"
      ]
     },
     "execution_count": 292,
     "metadata": {},
     "output_type": "execute_result"
    }
   ],
   "source": [
    "X_train_sample_exagg = X_train_sample_eq.copy()\n",
    "X_train_sample_exagg.shape"
   ]
  },
  {
   "cell_type": "code",
   "execution_count": 293,
   "id": "ed8a6a4e",
   "metadata": {},
   "outputs": [],
   "source": [
    "X_train_sample_exagg[\"horse1_decimalPrice\"] = odds_q_hi\n",
    "X_train_sample_exagg[\"horse2_decimalPrice\"] = odds_q_lo\n",
    "X_train_sample_exagg[\"horse1_RPR\"] = rpr_q_hi\n",
    "X_train_sample_exagg[\"horse2_RPR\"] = rpr_q_lo"
   ]
  },
  {
   "cell_type": "code",
   "execution_count": 294,
   "id": "f2e307fe",
   "metadata": {},
   "outputs": [],
   "source": [
    "X_train_sample_exagg_tensor = torch.from_numpy(X_train_sample_exagg.to_numpy()).float().to(device)"
   ]
  },
  {
   "cell_type": "code",
   "execution_count": 295,
   "id": "2d029b56",
   "metadata": {},
   "outputs": [],
   "source": [
    "with torch.no_grad():\n",
    "    sample_exagg_preds = torch.sigmoid(net.forward(X_train_sample_exagg_tensor))"
   ]
  },
  {
   "cell_type": "code",
   "execution_count": 296,
   "id": "8b6d4068",
   "metadata": {},
   "outputs": [
    {
     "data": {
      "text/plain": [
       "array([[0.99994516],\n",
       "       [0.99996173],\n",
       "       [0.99896896],\n",
       "       ...,\n",
       "       [0.99824584],\n",
       "       [0.9980217 ],\n",
       "       [0.9993249 ]], dtype=float32)"
      ]
     },
     "execution_count": 296,
     "metadata": {},
     "output_type": "execute_result"
    }
   ],
   "source": [
    "sample_exagg_preds.numpy()"
   ]
  },
  {
   "cell_type": "code",
   "execution_count": 297,
   "id": "2e413d2d",
   "metadata": {
    "scrolled": true
   },
   "outputs": [
    {
     "data": {
      "text/plain": [
       "tensor(0.9996)"
      ]
     },
     "execution_count": 297,
     "metadata": {},
     "output_type": "execute_result"
    }
   ],
   "source": [
    "torch.mean(sample_exagg_preds)"
   ]
  },
  {
   "cell_type": "code",
   "execution_count": 298,
   "id": "ed81ee2d",
   "metadata": {},
   "outputs": [
    {
     "data": {
      "text/plain": [
       "(array([1.0000e+00, 0.0000e+00, 0.0000e+00, 0.0000e+00, 0.0000e+00,\n",
       "        0.0000e+00, 0.0000e+00, 1.0000e+00, 0.0000e+00, 8.0065e+04]),\n",
       " array([0.66811985, 0.70130765, 0.7344955 , 0.7676833 , 0.80087113,\n",
       "        0.834059  , 0.8672468 , 0.9004346 , 0.9336224 , 0.9668103 ,\n",
       "        0.9999981 ], dtype=float32),\n",
       " <BarContainer object of 10 artists>)"
      ]
     },
     "execution_count": 298,
     "metadata": {},
     "output_type": "execute_result"
    },
    {
     "data": {
      "image/png": "[encoded data removed]",
      "text/plain": [
       "<Figure size 432x288 with 1 Axes>"
      ]
     },
     "metadata": {
      "needs_background": "light"
     },
     "output_type": "display_data"
    }
   ],
   "source": [
    "plt.hist(sample_exagg_preds.numpy())"
   ]
  },
  {
   "cell_type": "code",
   "execution_count": 299,
   "id": "3d3c5c5d",
   "metadata": {},
   "outputs": [
    {
     "data": {
      "text/plain": [
       "tensor(0.3823)"
      ]
     },
     "execution_count": 299,
     "metadata": {},
     "output_type": "execute_result"
    }
   ],
   "source": [
    "torch.mean(abs(sample_exagg_preds - eq_preds))"
   ]
  },
  {
   "cell_type": "markdown",
   "id": "e4f31196",
   "metadata": {},
   "source": [
    "#### Medium"
   ]
  },
  {
   "cell_type": "code",
   "execution_count": 300,
   "id": "21a0f483",
   "metadata": {},
   "outputs": [
    {
     "data": {
      "text/plain": [
       "0.0637254901960784"
      ]
     },
     "execution_count": 300,
     "metadata": {},
     "output_type": "execute_result"
    }
   ],
   "source": [
    "odds_q_lo = X_train_sample_eq['horse1_decimalPrice'].quantile(q=1/4)\n",
    "odds_q_lo"
   ]
  },
  {
   "cell_type": "code",
   "execution_count": 301,
   "id": "e2c01a25",
   "metadata": {},
   "outputs": [
    {
     "data": {
      "text/plain": [
       "0.1666666666666665"
      ]
     },
     "execution_count": 301,
     "metadata": {},
     "output_type": "execute_result"
    }
   ],
   "source": [
    "odds_q_hi = X_train_sample_eq['horse1_decimalPrice'].quantile(q=3/4)\n",
    "odds_q_hi"
   ]
  },
  {
   "cell_type": "code",
   "execution_count": 302,
   "id": "2ad4cc09",
   "metadata": {},
   "outputs": [
    {
     "data": {
      "text/plain": [
       "0.3"
      ]
     },
     "execution_count": 302,
     "metadata": {},
     "output_type": "execute_result"
    }
   ],
   "source": [
    "rpr_q_lo = X_train_sample_eq['horse1_RPR'].quantile(q=1/4)\n",
    "rpr_q_lo"
   ]
  },
  {
   "cell_type": "code",
   "execution_count": 303,
   "id": "8c86607f",
   "metadata": {},
   "outputs": [
    {
     "data": {
      "text/plain": [
       "0.49375"
      ]
     },
     "execution_count": 303,
     "metadata": {},
     "output_type": "execute_result"
    }
   ],
   "source": [
    "rpr_q_hi = X_train_sample_eq['horse1_RPR'].quantile(q=3/4)\n",
    "rpr_q_hi"
   ]
  },
  {
   "cell_type": "code",
   "execution_count": 304,
   "id": "1b98e032",
   "metadata": {},
   "outputs": [
    {
     "data": {
      "text/plain": [
       "(80067, 144)"
      ]
     },
     "execution_count": 304,
     "metadata": {},
     "output_type": "execute_result"
    }
   ],
   "source": [
    "X_train_sample_exagg = X_train_sample_eq.copy()\n",
    "X_train_sample_exagg.shape"
   ]
  },
  {
   "cell_type": "code",
   "execution_count": 305,
   "id": "ec324fbf",
   "metadata": {},
   "outputs": [],
   "source": [
    "X_train_sample_exagg[\"horse1_decimalPrice\"] = odds_q_hi\n",
    "X_train_sample_exagg[\"horse2_decimalPrice\"] = odds_q_lo\n",
    "X_train_sample_exagg[\"horse1_RPR\"] = rpr_q_hi\n",
    "X_train_sample_exagg[\"horse2_RPR\"] = rpr_q_lo"
   ]
  },
  {
   "cell_type": "code",
   "execution_count": 306,
   "id": "2308d066",
   "metadata": {},
   "outputs": [],
   "source": [
    "X_train_sample_exagg_tensor = torch.from_numpy(X_train_sample_exagg.to_numpy()).float().to(device)"
   ]
  },
  {
   "cell_type": "code",
   "execution_count": 307,
   "id": "8c8c08f6",
   "metadata": {},
   "outputs": [],
   "source": [
    "with torch.no_grad():\n",
    "    sample_exagg_preds = torch.sigmoid(net.forward(X_train_sample_exagg_tensor))"
   ]
  },
  {
   "cell_type": "code",
   "execution_count": 308,
   "id": "92dae4ba",
   "metadata": {},
   "outputs": [
    {
     "data": {
      "text/plain": [
       "array([[0.9999993 ],\n",
       "       [0.99999976],\n",
       "       [0.99996567],\n",
       "       ...,\n",
       "       [0.99992204],\n",
       "       [0.99990153],\n",
       "       [0.9999664 ]], dtype=float32)"
      ]
     },
     "execution_count": 308,
     "metadata": {},
     "output_type": "execute_result"
    }
   ],
   "source": [
    "sample_exagg_preds.numpy()"
   ]
  },
  {
   "cell_type": "code",
   "execution_count": 309,
   "id": "1859d2f4",
   "metadata": {
    "scrolled": true
   },
   "outputs": [
    {
     "data": {
      "text/plain": [
       "tensor(1.0000)"
      ]
     },
     "execution_count": 309,
     "metadata": {},
     "output_type": "execute_result"
    }
   ],
   "source": [
    "torch.mean(sample_exagg_preds)"
   ]
  },
  {
   "cell_type": "code",
   "execution_count": 310,
   "id": "26a23cde",
   "metadata": {},
   "outputs": [
    {
     "data": {
      "text/plain": [
       "(array([1.0000e+00, 0.0000e+00, 0.0000e+00, 0.0000e+00, 0.0000e+00,\n",
       "        0.0000e+00, 0.0000e+00, 0.0000e+00, 0.0000e+00, 8.0066e+04]),\n",
       " array([0.9759127 , 0.97832143, 0.9807302 , 0.98313886, 0.9855476 ,\n",
       "        0.98795635, 0.9903651 , 0.99277383, 0.9951825 , 0.99759126,\n",
       "        1.        ], dtype=float32),\n",
       " <BarContainer object of 10 artists>)"
      ]
     },
     "execution_count": 310,
     "metadata": {},
     "output_type": "execute_result"
    },
    {
     "data": {
      "image/png": "[encoded data removed]",
      "text/plain": [
       "<Figure size 432x288 with 1 Axes>"
      ]
     },
     "metadata": {
      "needs_background": "light"
     },
     "output_type": "display_data"
    }
   ],
   "source": [
    "plt.hist(sample_exagg_preds.numpy())"
   ]
  },
  {
   "cell_type": "code",
   "execution_count": 311,
   "id": "ce4d0fb6",
   "metadata": {},
   "outputs": [
    {
     "data": {
      "text/plain": [
       "tensor(0.3827)"
      ]
     },
     "execution_count": 311,
     "metadata": {},
     "output_type": "execute_result"
    }
   ],
   "source": [
    "torch.mean(abs(sample_exagg_preds - eq_preds))"
   ]
  },
  {
   "cell_type": "markdown",
   "id": "08723d69",
   "metadata": {},
   "source": [
    "#### High"
   ]
  },
  {
   "cell_type": "code",
   "execution_count": 312,
   "id": "533161b3",
   "metadata": {},
   "outputs": [
    {
     "data": {
      "text/plain": [
       "0.0515873015873015"
      ]
     },
     "execution_count": 312,
     "metadata": {},
     "output_type": "execute_result"
    }
   ],
   "source": [
    "odds_q_lo = X_train_sample_eq['horse1_decimalPrice'].quantile(q=1/5)\n",
    "odds_q_lo"
   ]
  },
  {
   "cell_type": "code",
   "execution_count": 313,
   "id": "6f18e976",
   "metadata": {},
   "outputs": [
    {
     "data": {
      "text/plain": [
       "0.1969696969696969"
      ]
     },
     "execution_count": 313,
     "metadata": {},
     "output_type": "execute_result"
    }
   ],
   "source": [
    "odds_q_hi = X_train_sample_eq['horse1_decimalPrice'].quantile(q=4/5)\n",
    "odds_q_hi"
   ]
  },
  {
   "cell_type": "code",
   "execution_count": 314,
   "id": "1837ae7c",
   "metadata": {},
   "outputs": [
    {
     "data": {
      "text/plain": [
       "0.275"
      ]
     },
     "execution_count": 314,
     "metadata": {},
     "output_type": "execute_result"
    }
   ],
   "source": [
    "rpr_q_lo = X_train_sample_eq['horse1_RPR'].quantile(q=1/5)\n",
    "rpr_q_lo"
   ]
  },
  {
   "cell_type": "code",
   "execution_count": 315,
   "id": "6b7489f3",
   "metadata": {},
   "outputs": [
    {
     "data": {
      "text/plain": [
       "0.5125"
      ]
     },
     "execution_count": 315,
     "metadata": {},
     "output_type": "execute_result"
    }
   ],
   "source": [
    "rpr_q_hi = X_train_sample_eq['horse1_RPR'].quantile(q=4/5)\n",
    "rpr_q_hi"
   ]
  },
  {
   "cell_type": "code",
   "execution_count": 316,
   "id": "fd62334a",
   "metadata": {},
   "outputs": [
    {
     "data": {
      "text/plain": [
       "(80067, 144)"
      ]
     },
     "execution_count": 316,
     "metadata": {},
     "output_type": "execute_result"
    }
   ],
   "source": [
    "X_train_sample_exagg = X_train_sample_eq.copy()\n",
    "X_train_sample_exagg.shape"
   ]
  },
  {
   "cell_type": "code",
   "execution_count": 317,
   "id": "fc5d7b43",
   "metadata": {},
   "outputs": [],
   "source": [
    "X_train_sample_exagg[\"horse1_decimalPrice\"] = odds_q_hi\n",
    "X_train_sample_exagg[\"horse2_decimalPrice\"] = odds_q_lo\n",
    "X_train_sample_exagg[\"horse1_RPR\"] = rpr_q_hi\n",
    "X_train_sample_exagg[\"horse2_RPR\"] = rpr_q_lo"
   ]
  },
  {
   "cell_type": "code",
   "execution_count": 318,
   "id": "bb7ae968",
   "metadata": {},
   "outputs": [],
   "source": [
    "X_train_sample_exagg_tensor = torch.from_numpy(X_train_sample_exagg.to_numpy()).float().to(device)"
   ]
  },
  {
   "cell_type": "code",
   "execution_count": 319,
   "id": "84847de6",
   "metadata": {},
   "outputs": [],
   "source": [
    "with torch.no_grad():\n",
    "    sample_exagg_preds = torch.sigmoid(net.forward(X_train_sample_exagg_tensor))"
   ]
  },
  {
   "cell_type": "code",
   "execution_count": 320,
   "id": "bf16f9f4",
   "metadata": {},
   "outputs": [
    {
     "data": {
      "text/plain": [
       "array([[1.        ],\n",
       "       [1.        ],\n",
       "       [0.99999726],\n",
       "       ...,\n",
       "       [0.9999938 ],\n",
       "       [0.99998677],\n",
       "       [0.99999654]], dtype=float32)"
      ]
     },
     "execution_count": 320,
     "metadata": {},
     "output_type": "execute_result"
    }
   ],
   "source": [
    "sample_exagg_preds.numpy()"
   ]
  },
  {
   "cell_type": "code",
   "execution_count": 321,
   "id": "153226fa",
   "metadata": {
    "scrolled": true
   },
   "outputs": [
    {
     "data": {
      "text/plain": [
       "tensor(1.0000)"
      ]
     },
     "execution_count": 321,
     "metadata": {},
     "output_type": "execute_result"
    }
   ],
   "source": [
    "torch.mean(sample_exagg_preds)"
   ]
  },
  {
   "cell_type": "code",
   "execution_count": 322,
   "id": "149e7763",
   "metadata": {},
   "outputs": [
    {
     "data": {
      "text/plain": [
       "(array([1.0000e+00, 0.0000e+00, 0.0000e+00, 0.0000e+00, 0.0000e+00,\n",
       "        0.0000e+00, 0.0000e+00, 0.0000e+00, 0.0000e+00, 8.0066e+04]),\n",
       " array([0.99640673, 0.9967661 , 0.9971254 , 0.9974847 , 0.99784404,\n",
       "        0.9982034 , 0.9985627 , 0.998922  , 0.99928135, 0.9996407 ,\n",
       "        1.        ], dtype=float32),\n",
       " <BarContainer object of 10 artists>)"
      ]
     },
     "execution_count": 322,
     "metadata": {},
     "output_type": "execute_result"
    },
    {
     "data": {
      "image/png": "[encoded data removed]",
      "text/plain": [
       "<Figure size 432x288 with 1 Axes>"
      ]
     },
     "metadata": {
      "needs_background": "light"
     },
     "output_type": "display_data"
    }
   ],
   "source": [
    "plt.hist(sample_exagg_preds.numpy())"
   ]
  },
  {
   "cell_type": "code",
   "execution_count": 323,
   "id": "3d817b85",
   "metadata": {},
   "outputs": [
    {
     "data": {
      "text/plain": [
       "tensor(0.3827)"
      ]
     },
     "execution_count": 323,
     "metadata": {},
     "output_type": "execute_result"
    }
   ],
   "source": [
    "torch.mean(abs(sample_exagg_preds - eq_preds))"
   ]
  },
  {
   "cell_type": "markdown",
   "id": "c1d8f9b5",
   "metadata": {},
   "source": [
    "### Unconditioned Previous Races"
   ]
  },
  {
   "cell_type": "code",
   "execution_count": 325,
   "id": "62d2c021",
   "metadata": {},
   "outputs": [],
   "source": [
    "columns_horse1 = [\n",
    "    'horse1_jockey_prev_1_position',\n",
    "    'horse1_jockey_prev_2_position',\n",
    "    'horse1_jockey_prev_3_position',\n",
    "    'horse1_jockey_prev_1_finishing_time_ratio',\n",
    "    'horse1_jockey_prev_2_finishing_time_ratio',\n",
    "    'horse1_jockey_prev_3_finishing_time_ratio',\n",
    "    'horse1_jockey_prev_1_global_finishing_time_ratio',\n",
    "    'horse1_jockey_prev_2_global_finishing_time_ratio',\n",
    "    'horse1_jockey_prev_3_global_finishing_time_ratio',\n",
    "]"
   ]
  },
  {
   "cell_type": "code",
   "execution_count": 326,
   "id": "76166916",
   "metadata": {},
   "outputs": [],
   "source": [
    "columns_horse2 = [\n",
    "    'horse2_jockey_prev_1_position',\n",
    "    'horse2_jockey_prev_2_position',\n",
    "    'horse2_jockey_prev_3_position',\n",
    "    'horse2_jockey_prev_1_finishing_time_ratio',\n",
    "    'horse2_jockey_prev_2_finishing_time_ratio',\n",
    "    'horse2_jockey_prev_3_finishing_time_ratio',\n",
    "    'horse2_jockey_prev_1_global_finishing_time_ratio',\n",
    "    'horse2_jockey_prev_2_global_finishing_time_ratio',\n",
    "    'horse2_jockey_prev_3_global_finishing_time_ratio',\n",
    "]"
   ]
  },
  {
   "cell_type": "markdown",
   "id": "af1df960",
   "metadata": {},
   "source": [
    "#### Small"
   ]
  },
  {
   "cell_type": "code",
   "execution_count": 327,
   "id": "2cac66db",
   "metadata": {},
   "outputs": [],
   "source": [
    "q_los = [X_train_sample_eq[column].quantile(q=1/3) for column in columns_horse1]\n",
    "q_his = [X_train_sample_eq[column].quantile(q=2/3) for column in columns_horse1]"
   ]
  },
  {
   "cell_type": "code",
   "execution_count": 328,
   "id": "d0165113",
   "metadata": {},
   "outputs": [
    {
     "data": {
      "text/plain": [
       "[0.1,\n",
       " 0.1,\n",
       " 0.1,\n",
       " 0.7846141171896565,\n",
       " 0.8042290520687826,\n",
       " 0.8042070714605399,\n",
       " 0.5503412097814897,\n",
       " 0.5400278228623064,\n",
       " 0.5508194999044199]"
      ]
     },
     "execution_count": 328,
     "metadata": {},
     "output_type": "execute_result"
    }
   ],
   "source": [
    "q_los"
   ]
  },
  {
   "cell_type": "code",
   "execution_count": 329,
   "id": "26810f8e",
   "metadata": {},
   "outputs": [
    {
     "data": {
      "text/plain": [
       "[0.175,\n",
       " 0.175,\n",
       " 0.175,\n",
       " 0.7930532104830617,\n",
       " 0.8129486096918469,\n",
       " 0.8129486096918469,\n",
       " 0.5783369794540149,\n",
       " 0.5681089935340039,\n",
       " 0.5798535642680549]"
      ]
     },
     "execution_count": 329,
     "metadata": {},
     "output_type": "execute_result"
    }
   ],
   "source": [
    "q_his"
   ]
  },
  {
   "cell_type": "code",
   "execution_count": 330,
   "id": "6833fe5a",
   "metadata": {},
   "outputs": [
    {
     "data": {
      "text/plain": [
       "(80067, 144)"
      ]
     },
     "execution_count": 330,
     "metadata": {},
     "output_type": "execute_result"
    }
   ],
   "source": [
    "X_train_sample_exagg = X_train_sample_eq.copy()\n",
    "X_train_sample_exagg.shape"
   ]
  },
  {
   "cell_type": "code",
   "execution_count": 331,
   "id": "531ce79f",
   "metadata": {},
   "outputs": [],
   "source": [
    "for column, q_lo in zip(columns_horse1, q_los):\n",
    "    X_train_sample_exagg[column] = q_lo"
   ]
  },
  {
   "cell_type": "code",
   "execution_count": 332,
   "id": "aecac620",
   "metadata": {},
   "outputs": [],
   "source": [
    "for column, q_hi in zip(columns_horse2, q_his):\n",
    "    X_train_sample_exagg[column] = q_hi"
   ]
  },
  {
   "cell_type": "code",
   "execution_count": 333,
   "id": "0e156c34",
   "metadata": {},
   "outputs": [],
   "source": [
    "X_train_sample_exagg_tensor = torch.from_numpy(X_train_sample_exagg.to_numpy()).float().to(device)"
   ]
  },
  {
   "cell_type": "code",
   "execution_count": 334,
   "id": "a738df70",
   "metadata": {},
   "outputs": [],
   "source": [
    "with torch.no_grad():\n",
    "    sample_exagg_preds = torch.sigmoid(net.forward(X_train_sample_exagg_tensor))"
   ]
  },
  {
   "cell_type": "code",
   "execution_count": 335,
   "id": "ef90dccf",
   "metadata": {},
   "outputs": [
    {
     "data": {
      "text/plain": [
       "array([[0.5958069 ],\n",
       "       [0.66888636],\n",
       "       [0.5831063 ],\n",
       "       ...,\n",
       "       [0.558089  ],\n",
       "       [0.45818147],\n",
       "       [0.6971949 ]], dtype=float32)"
      ]
     },
     "execution_count": 335,
     "metadata": {},
     "output_type": "execute_result"
    }
   ],
   "source": [
    "sample_exagg_preds.numpy()"
   ]
  },
  {
   "cell_type": "code",
   "execution_count": 336,
   "id": "5c32c8ac",
   "metadata": {
    "scrolled": true
   },
   "outputs": [
    {
     "data": {
      "text/plain": [
       "tensor(0.6165)"
      ]
     },
     "execution_count": 336,
     "metadata": {},
     "output_type": "execute_result"
    }
   ],
   "source": [
    "torch.mean(sample_exagg_preds)"
   ]
  },
  {
   "cell_type": "code",
   "execution_count": 337,
   "id": "c2710095",
   "metadata": {},
   "outputs": [
    {
     "data": {
      "text/plain": [
       "(array([4.0000e+00, 1.4000e+01, 3.7000e+01, 2.4800e+02, 1.4980e+03,\n",
       "        1.4381e+04, 4.9540e+04, 1.3555e+04, 7.3400e+02, 5.6000e+01]),\n",
       " array([0.05033382, 0.13801137, 0.22568892, 0.31336647, 0.401044  ,\n",
       "        0.48872155, 0.5763991 , 0.6640767 , 0.7517542 , 0.83943176,\n",
       "        0.9271093 ], dtype=float32),\n",
       " <BarContainer object of 10 artists>)"
      ]
     },
     "execution_count": 337,
     "metadata": {},
     "output_type": "execute_result"
    },
    {
     "data": {
      "image/png": "[encoded data removed]",
      "text/plain": [
       "<Figure size 432x288 with 1 Axes>"
      ]
     },
     "metadata": {
      "needs_background": "light"
     },
     "output_type": "display_data"
    }
   ],
   "source": [
    "plt.hist(sample_exagg_preds.numpy())"
   ]
  },
  {
   "cell_type": "code",
   "execution_count": 340,
   "id": "1ba071f3",
   "metadata": {},
   "outputs": [
    {
     "data": {
      "text/plain": [
       "tensor(0.0119)"
      ]
     },
     "execution_count": 340,
     "metadata": {},
     "output_type": "execute_result"
    }
   ],
   "source": [
    "torch.mean(abs(sample_exagg_preds - eq_preds))"
   ]
  },
  {
   "cell_type": "markdown",
   "id": "223b7880",
   "metadata": {},
   "source": [
    "#### Medium"
   ]
  },
  {
   "cell_type": "code",
   "execution_count": 341,
   "id": "b58532a3",
   "metadata": {},
   "outputs": [],
   "source": [
    "q_los = [X_train_sample_eq[column].quantile(q=1/4) for column in columns_horse1]\n",
    "q_his = [X_train_sample_eq[column].quantile(q=3/4) for column in columns_horse1]"
   ]
  },
  {
   "cell_type": "code",
   "execution_count": 342,
   "id": "d2e5a54e",
   "metadata": {},
   "outputs": [
    {
     "data": {
      "text/plain": [
       "[0.075,\n",
       " 0.075,\n",
       " 0.075,\n",
       " 0.7829666902316295,\n",
       " 0.8025404403145713,\n",
       " 0.8025404403145713,\n",
       " 0.5445689914674867,\n",
       " 0.534443696377344,\n",
       " 0.54510870864489]"
      ]
     },
     "execution_count": 342,
     "metadata": {},
     "output_type": "execute_result"
    }
   ],
   "source": [
    "q_los"
   ]
  },
  {
   "cell_type": "code",
   "execution_count": 343,
   "id": "392cef02",
   "metadata": {},
   "outputs": [
    {
     "data": {
      "text/plain": [
       "[0.2,\n",
       " 0.2,\n",
       " 0.2,\n",
       " 0.7964694140641242,\n",
       " 0.8165498035705404,\n",
       " 0.8166393128202973,\n",
       " 0.5895933502852463,\n",
       " 0.5790988472987025,\n",
       " 0.5910519907743996]"
      ]
     },
     "execution_count": 343,
     "metadata": {},
     "output_type": "execute_result"
    }
   ],
   "source": [
    "q_his"
   ]
  },
  {
   "cell_type": "code",
   "execution_count": 344,
   "id": "382332d9",
   "metadata": {},
   "outputs": [
    {
     "data": {
      "text/plain": [
       "(80067, 144)"
      ]
     },
     "execution_count": 344,
     "metadata": {},
     "output_type": "execute_result"
    }
   ],
   "source": [
    "X_train_sample_exagg = X_train_sample_eq.copy()\n",
    "X_train_sample_exagg.shape"
   ]
  },
  {
   "cell_type": "code",
   "execution_count": 345,
   "id": "f1e08988",
   "metadata": {},
   "outputs": [],
   "source": [
    "for column, q_lo in zip(columns_horse1, q_los):\n",
    "    X_train_sample_exagg[column] = q_lo"
   ]
  },
  {
   "cell_type": "code",
   "execution_count": 346,
   "id": "9f6b5a18",
   "metadata": {},
   "outputs": [],
   "source": [
    "for column, q_hi in zip(columns_horse2, q_his):\n",
    "    X_train_sample_exagg[column] = q_hi"
   ]
  },
  {
   "cell_type": "code",
   "execution_count": 347,
   "id": "9e86eae5",
   "metadata": {},
   "outputs": [],
   "source": [
    "X_train_sample_exagg_tensor = torch.from_numpy(X_train_sample_exagg.to_numpy()).float().to(device)"
   ]
  },
  {
   "cell_type": "code",
   "execution_count": 348,
   "id": "6ca50b6b",
   "metadata": {},
   "outputs": [],
   "source": [
    "with torch.no_grad():\n",
    "    sample_exagg_preds = torch.sigmoid(net.forward(X_train_sample_exagg_tensor))"
   ]
  },
  {
   "cell_type": "code",
   "execution_count": 349,
   "id": "f1d2dedb",
   "metadata": {},
   "outputs": [
    {
     "data": {
      "text/plain": [
       "array([[0.5917357],\n",
       "       [0.6651375],\n",
       "       [0.5845842],\n",
       "       ...,\n",
       "       [0.5595881],\n",
       "       [0.4596911],\n",
       "       [0.698477 ]], dtype=float32)"
      ]
     },
     "execution_count": 349,
     "metadata": {},
     "output_type": "execute_result"
    }
   ],
   "source": [
    "sample_exagg_preds.numpy()"
   ]
  },
  {
   "cell_type": "code",
   "execution_count": 350,
   "id": "6a6e4650",
   "metadata": {
    "scrolled": true
   },
   "outputs": [
    {
     "data": {
      "text/plain": [
       "tensor(0.6147)"
      ]
     },
     "execution_count": 350,
     "metadata": {},
     "output_type": "execute_result"
    }
   ],
   "source": [
    "torch.mean(sample_exagg_preds)"
   ]
  },
  {
   "cell_type": "code",
   "execution_count": 351,
   "id": "3ef625cf",
   "metadata": {},
   "outputs": [
    {
     "data": {
      "text/plain": [
       "(array([4.0000e+00, 1.4000e+01, 4.2000e+01, 2.4200e+02, 1.5410e+03,\n",
       "        1.4183e+04, 5.0340e+04, 1.2952e+04, 6.9000e+02, 5.9000e+01]),\n",
       " array([0.04924766, 0.13691893, 0.2245902 , 0.31226146, 0.39993274,\n",
       "        0.48760402, 0.5752753 , 0.6629465 , 0.7506178 , 0.8382891 ,\n",
       "        0.92596036], dtype=float32),\n",
       " <BarContainer object of 10 artists>)"
      ]
     },
     "execution_count": 351,
     "metadata": {},
     "output_type": "execute_result"
    },
    {
     "data": {
      "image/png": "[encoded data removed]",
      "text/plain": [
       "<Figure size 432x288 with 1 Axes>"
      ]
     },
     "metadata": {
      "needs_background": "light"
     },
     "output_type": "display_data"
    }
   ],
   "source": [
    "plt.hist(sample_exagg_preds.numpy())"
   ]
  },
  {
   "cell_type": "code",
   "execution_count": 353,
   "id": "8e49bfeb",
   "metadata": {},
   "outputs": [
    {
     "data": {
      "text/plain": [
       "tensor(0.0132)"
      ]
     },
     "execution_count": 353,
     "metadata": {},
     "output_type": "execute_result"
    }
   ],
   "source": [
    "torch.mean(abs(sample_exagg_preds - eq_preds))"
   ]
  },
  {
   "cell_type": "markdown",
   "id": "4f355fbc",
   "metadata": {},
   "source": [
    "#### High"
   ]
  },
  {
   "cell_type": "code",
   "execution_count": 354,
   "id": "0fae0e18",
   "metadata": {},
   "outputs": [],
   "source": [
    "q_los = [X_train_sample_eq[column].quantile(q=1/5) for column in columns_horse1]\n",
    "q_his = [X_train_sample_eq[column].quantile(q=4/5) for column in columns_horse1]"
   ]
  },
  {
   "cell_type": "code",
   "execution_count": 355,
   "id": "c7839423",
   "metadata": {},
   "outputs": [
    {
     "data": {
      "text/plain": [
       "[0.05,\n",
       " 0.05,\n",
       " 0.05,\n",
       " 0.782023198885685,\n",
       " 0.8015733621876803,\n",
       " 0.8015432964524856,\n",
       " 0.5410542997215436,\n",
       " 0.5309146448845048,\n",
       " 0.5415883794118409]"
      ]
     },
     "execution_count": 355,
     "metadata": {},
     "output_type": "execute_result"
    }
   ],
   "source": [
    "q_los"
   ]
  },
  {
   "cell_type": "code",
   "execution_count": 356,
   "id": "61a18f17",
   "metadata": {},
   "outputs": [
    {
     "data": {
      "text/plain": [
       "[0.225,\n",
       " 0.225,\n",
       " 0.225,\n",
       " 0.7992265147419632,\n",
       " 0.8194143014553776,\n",
       " 0.8194241384454721,\n",
       " 0.5985009864135731,\n",
       " 0.5878763770258646,\n",
       " 0.6002295110108569]"
      ]
     },
     "execution_count": 356,
     "metadata": {},
     "output_type": "execute_result"
    }
   ],
   "source": [
    "q_his"
   ]
  },
  {
   "cell_type": "code",
   "execution_count": 357,
   "id": "aaf632cf",
   "metadata": {},
   "outputs": [
    {
     "data": {
      "text/plain": [
       "(80067, 144)"
      ]
     },
     "execution_count": 357,
     "metadata": {},
     "output_type": "execute_result"
    }
   ],
   "source": [
    "X_train_sample_exagg = X_train_sample_eq.copy()\n",
    "X_train_sample_exagg.shape"
   ]
  },
  {
   "cell_type": "code",
   "execution_count": 358,
   "id": "01605e18",
   "metadata": {},
   "outputs": [],
   "source": [
    "for column, q_lo in zip(columns_horse1, q_los):\n",
    "    X_train_sample_exagg[column] = q_lo"
   ]
  },
  {
   "cell_type": "code",
   "execution_count": 359,
   "id": "1d464251",
   "metadata": {},
   "outputs": [],
   "source": [
    "for column, q_hi in zip(columns_horse2, q_his):\n",
    "    X_train_sample_exagg[column] = q_hi"
   ]
  },
  {
   "cell_type": "code",
   "execution_count": 360,
   "id": "d36cc72e",
   "metadata": {},
   "outputs": [],
   "source": [
    "X_train_sample_exagg_tensor = torch.from_numpy(X_train_sample_exagg.to_numpy()).float().to(device)"
   ]
  },
  {
   "cell_type": "code",
   "execution_count": 361,
   "id": "ea810cd8",
   "metadata": {},
   "outputs": [],
   "source": [
    "with torch.no_grad():\n",
    "    sample_exagg_preds = torch.sigmoid(net.forward(X_train_sample_exagg_tensor))"
   ]
  },
  {
   "cell_type": "code",
   "execution_count": 362,
   "id": "3d7c6960",
   "metadata": {},
   "outputs": [
    {
     "data": {
      "text/plain": [
       "array([[0.5879053 ],\n",
       "       [0.6616016 ],\n",
       "       [0.58612806],\n",
       "       ...,\n",
       "       [0.5611552 ],\n",
       "       [0.4612725 ],\n",
       "       [0.6998153 ]], dtype=float32)"
      ]
     },
     "execution_count": 362,
     "metadata": {},
     "output_type": "execute_result"
    }
   ],
   "source": [
    "sample_exagg_preds.numpy()"
   ]
  },
  {
   "cell_type": "code",
   "execution_count": 363,
   "id": "555bbb28",
   "metadata": {
    "scrolled": true
   },
   "outputs": [
    {
     "data": {
      "text/plain": [
       "tensor(0.6131)"
      ]
     },
     "execution_count": 363,
     "metadata": {},
     "output_type": "execute_result"
    }
   ],
   "source": [
    "torch.mean(sample_exagg_preds)"
   ]
  },
  {
   "cell_type": "code",
   "execution_count": 364,
   "id": "6e0c10c0",
   "metadata": {},
   "outputs": [
    {
     "data": {
      "text/plain": [
       "(array([4.0000e+00, 1.4000e+01, 4.4000e+01, 2.5000e+02, 1.5890e+03,\n",
       "        1.4041e+04, 5.0978e+04, 1.2431e+04, 6.5700e+02, 5.9000e+01]),\n",
       " array([0.04821862, 0.13588348, 0.22354835, 0.31121323, 0.3988781 ,\n",
       "        0.48654297, 0.57420784, 0.66187274, 0.7495376 , 0.8372025 ,\n",
       "        0.92486733], dtype=float32),\n",
       " <BarContainer object of 10 artists>)"
      ]
     },
     "execution_count": 364,
     "metadata": {},
     "output_type": "execute_result"
    },
    {
     "data": {
      "image/png": "[encoded data removed]",
      "text/plain": [
       "<Figure size 432x288 with 1 Axes>"
      ]
     },
     "metadata": {
      "needs_background": "light"
     },
     "output_type": "display_data"
    }
   ],
   "source": [
    "plt.hist(sample_exagg_preds.numpy())"
   ]
  },
  {
   "cell_type": "code",
   "execution_count": 365,
   "id": "080173d1",
   "metadata": {},
   "outputs": [
    {
     "data": {
      "text/plain": [
       "tensor(0.0148)"
      ]
     },
     "execution_count": 365,
     "metadata": {},
     "output_type": "execute_result"
    }
   ],
   "source": [
    "torch.mean(abs(sample_exagg_preds - eq_preds))"
   ]
  },
  {
   "cell_type": "markdown",
   "id": "b4f627cd",
   "metadata": {},
   "source": [
    "### Coures Races"
   ]
  },
  {
   "cell_type": "code",
   "execution_count": 366,
   "id": "87a89b0c",
   "metadata": {},
   "outputs": [],
   "source": [
    "columns_horse1 = [\n",
    "    'horse1_jockey_prev_1_position_course',\n",
    "    'horse1_jockey_prev_2_position_course',\n",
    "    'horse1_jockey_prev_3_position_course',\n",
    "    'horse1_jockey_prev_1_finishing_time_ratio_course',\n",
    "    'horse1_jockey_prev_2_finishing_time_ratio_course',\n",
    "    'horse1_jockey_prev_3_finishing_time_ratio_course',\n",
    "]"
   ]
  },
  {
   "cell_type": "code",
   "execution_count": 367,
   "id": "e82b7ebd",
   "metadata": {},
   "outputs": [],
   "source": [
    "columns_horse2 = [\n",
    "    'horse2_jockey_prev_1_position_course',\n",
    "    'horse2_jockey_prev_2_position_course',\n",
    "    'horse2_jockey_prev_3_position_course',\n",
    "    'horse2_jockey_prev_1_finishing_time_ratio_course',\n",
    "    'horse2_jockey_prev_2_finishing_time_ratio_course',\n",
    "    'horse2_jockey_prev_3_finishing_time_ratio_course',\n",
    "]"
   ]
  },
  {
   "cell_type": "markdown",
   "id": "1c1bf596",
   "metadata": {},
   "source": [
    "#### Small"
   ]
  },
  {
   "cell_type": "code",
   "execution_count": 368,
   "id": "5472d6cb",
   "metadata": {},
   "outputs": [],
   "source": [
    "q_los = [X_train_sample_eq[column].quantile(q=1/3) for column in columns_horse1]\n",
    "q_his = [X_train_sample_eq[column].quantile(q=2/3) for column in columns_horse1]"
   ]
  },
  {
   "cell_type": "code",
   "execution_count": 369,
   "id": "d2d0a5ca",
   "metadata": {},
   "outputs": [
    {
     "data": {
      "text/plain": [
       "[0.1, 0.1, 0.1, 0.7845904579745484, 0.7845817418561325, 0.7845352574964265]"
      ]
     },
     "execution_count": 369,
     "metadata": {},
     "output_type": "execute_result"
    }
   ],
   "source": [
    "q_los"
   ]
  },
  {
   "cell_type": "code",
   "execution_count": 370,
   "id": "120c1a55",
   "metadata": {},
   "outputs": [
    {
     "data": {
      "text/plain": [
       "[0.175,\n",
       " 0.175,\n",
       " 0.175,\n",
       " 0.7928639747161806,\n",
       " 0.7929228871238266,\n",
       " 0.7928639747161806]"
      ]
     },
     "execution_count": 370,
     "metadata": {},
     "output_type": "execute_result"
    }
   ],
   "source": [
    "q_his"
   ]
  },
  {
   "cell_type": "code",
   "execution_count": 371,
   "id": "aa876382",
   "metadata": {},
   "outputs": [
    {
     "data": {
      "text/plain": [
       "(80067, 144)"
      ]
     },
     "execution_count": 371,
     "metadata": {},
     "output_type": "execute_result"
    }
   ],
   "source": [
    "X_train_sample_exagg = X_train_sample_eq.copy()\n",
    "X_train_sample_exagg.shape"
   ]
  },
  {
   "cell_type": "code",
   "execution_count": 372,
   "id": "6da6f1bd",
   "metadata": {},
   "outputs": [],
   "source": [
    "for column, q_lo in zip(columns_horse1, q_los):\n",
    "    X_train_sample_exagg[column] = q_lo"
   ]
  },
  {
   "cell_type": "code",
   "execution_count": 373,
   "id": "0ec0dfad",
   "metadata": {},
   "outputs": [],
   "source": [
    "for column, q_hi in zip(columns_horse2, q_his):\n",
    "    X_train_sample_exagg[column] = q_hi"
   ]
  },
  {
   "cell_type": "code",
   "execution_count": 374,
   "id": "38303748",
   "metadata": {},
   "outputs": [],
   "source": [
    "X_train_sample_exagg_tensor = torch.from_numpy(X_train_sample_exagg.to_numpy()).float().to(device)"
   ]
  },
  {
   "cell_type": "code",
   "execution_count": 375,
   "id": "4e754dac",
   "metadata": {},
   "outputs": [],
   "source": [
    "with torch.no_grad():\n",
    "    sample_exagg_preds = torch.sigmoid(net.forward(X_train_sample_exagg_tensor))"
   ]
  },
  {
   "cell_type": "code",
   "execution_count": 376,
   "id": "9bc1a0b4",
   "metadata": {},
   "outputs": [
    {
     "data": {
      "text/plain": [
       "array([[0.61812335],\n",
       "       [0.6827073 ],\n",
       "       [0.5637313 ],\n",
       "       ...,\n",
       "       [0.55891705],\n",
       "       [0.47107312],\n",
       "       [0.6637646 ]], dtype=float32)"
      ]
     },
     "execution_count": 376,
     "metadata": {},
     "output_type": "execute_result"
    }
   ],
   "source": [
    "sample_exagg_preds.numpy()"
   ]
  },
  {
   "cell_type": "code",
   "execution_count": 377,
   "id": "e5bb9d82",
   "metadata": {
    "scrolled": true
   },
   "outputs": [
    {
     "data": {
      "text/plain": [
       "tensor(0.6194)"
      ]
     },
     "execution_count": 377,
     "metadata": {},
     "output_type": "execute_result"
    }
   ],
   "source": [
    "torch.mean(sample_exagg_preds)"
   ]
  },
  {
   "cell_type": "code",
   "execution_count": 378,
   "id": "1933eb77",
   "metadata": {},
   "outputs": [
    {
     "data": {
      "text/plain": [
       "(array([5.0000e+00, 9.0000e+00, 3.5000e+01, 1.5600e+02, 8.9400e+02,\n",
       "        6.8730e+03, 3.9127e+04, 3.0141e+04, 2.6590e+03, 1.6800e+02]),\n",
       " array([0.05363256, 0.13648358, 0.2193346 , 0.30218562, 0.38503665,\n",
       "        0.46788767, 0.5507387 , 0.63358974, 0.71644074, 0.7992918 ,\n",
       "        0.8821428 ], dtype=float32),\n",
       " <BarContainer object of 10 artists>)"
      ]
     },
     "execution_count": 378,
     "metadata": {},
     "output_type": "execute_result"
    },
    {
     "data": {
      "image/png": "[encoded data removed]",
      "text/plain": [
       "<Figure size 432x288 with 1 Axes>"
      ]
     },
     "metadata": {
      "needs_background": "light"
     },
     "output_type": "display_data"
    }
   ],
   "source": [
    "plt.hist(sample_exagg_preds.numpy())"
   ]
  },
  {
   "cell_type": "code",
   "execution_count": 379,
   "id": "c1d0c1f4",
   "metadata": {},
   "outputs": [
    {
     "data": {
      "text/plain": [
       "tensor(0.0090)"
      ]
     },
     "execution_count": 379,
     "metadata": {},
     "output_type": "execute_result"
    }
   ],
   "source": [
    "torch.mean(abs(sample_exagg_preds - eq_preds))"
   ]
  },
  {
   "cell_type": "markdown",
   "id": "8dc48d8c",
   "metadata": {},
   "source": [
    "#### Medium"
   ]
  },
  {
   "cell_type": "code",
   "execution_count": 380,
   "id": "115b26df",
   "metadata": {},
   "outputs": [],
   "source": [
    "q_los = [X_train_sample_eq[column].quantile(q=1/4) for column in columns_horse1]\n",
    "q_his = [X_train_sample_eq[column].quantile(q=3/4) for column in columns_horse1]"
   ]
  },
  {
   "cell_type": "code",
   "execution_count": 381,
   "id": "cec28bfc",
   "metadata": {},
   "outputs": [
    {
     "data": {
      "text/plain": [
       "[0.075,\n",
       " 0.075,\n",
       " 0.075,\n",
       " 0.7829666902316295,\n",
       " 0.7829666902316295,\n",
       " 0.7829666902316295]"
      ]
     },
     "execution_count": 381,
     "metadata": {},
     "output_type": "execute_result"
    }
   ],
   "source": [
    "q_los"
   ]
  },
  {
   "cell_type": "code",
   "execution_count": 382,
   "id": "d6952aa6",
   "metadata": {},
   "outputs": [
    {
     "data": {
      "text/plain": [
       "[0.2, 0.2, 0.2, 0.7963504826069203, 0.7963987191749489, 0.7963987191749489]"
      ]
     },
     "execution_count": 382,
     "metadata": {},
     "output_type": "execute_result"
    }
   ],
   "source": [
    "q_his"
   ]
  },
  {
   "cell_type": "code",
   "execution_count": 383,
   "id": "87252b62",
   "metadata": {},
   "outputs": [
    {
     "data": {
      "text/plain": [
       "(80067, 144)"
      ]
     },
     "execution_count": 383,
     "metadata": {},
     "output_type": "execute_result"
    }
   ],
   "source": [
    "X_train_sample_exagg = X_train_sample_eq.copy()\n",
    "X_train_sample_exagg.shape"
   ]
  },
  {
   "cell_type": "code",
   "execution_count": 384,
   "id": "fd806059",
   "metadata": {},
   "outputs": [],
   "source": [
    "for column, q_lo in zip(columns_horse1, q_los):\n",
    "    X_train_sample_exagg[column] = q_lo"
   ]
  },
  {
   "cell_type": "code",
   "execution_count": 385,
   "id": "71a5a3b2",
   "metadata": {},
   "outputs": [],
   "source": [
    "for column, q_hi in zip(columns_horse2, q_his):\n",
    "    X_train_sample_exagg[column] = q_hi"
   ]
  },
  {
   "cell_type": "code",
   "execution_count": 386,
   "id": "b16370c8",
   "metadata": {},
   "outputs": [],
   "source": [
    "X_train_sample_exagg_tensor = torch.from_numpy(X_train_sample_exagg.to_numpy()).float().to(device)"
   ]
  },
  {
   "cell_type": "code",
   "execution_count": 387,
   "id": "0853459d",
   "metadata": {},
   "outputs": [],
   "source": [
    "with torch.no_grad():\n",
    "    sample_exagg_preds = torch.sigmoid(net.forward(X_train_sample_exagg_tensor))"
   ]
  },
  {
   "cell_type": "code",
   "execution_count": 388,
   "id": "325b0a78",
   "metadata": {},
   "outputs": [
    {
     "data": {
      "text/plain": [
       "array([[0.6214392 ],\n",
       "       [0.6857478 ],\n",
       "       [0.5626565 ],\n",
       "       ...,\n",
       "       [0.55784005],\n",
       "       [0.46998546],\n",
       "       [0.66278917]], dtype=float32)"
      ]
     },
     "execution_count": 388,
     "metadata": {},
     "output_type": "execute_result"
    }
   ],
   "source": [
    "sample_exagg_preds.numpy()"
   ]
  },
  {
   "cell_type": "code",
   "execution_count": 389,
   "id": "92bda9b5",
   "metadata": {
    "scrolled": true
   },
   "outputs": [
    {
     "data": {
      "text/plain": [
       "tensor(0.6210)"
      ]
     },
     "execution_count": 389,
     "metadata": {},
     "output_type": "execute_result"
    }
   ],
   "source": [
    "torch.mean(sample_exagg_preds)"
   ]
  },
  {
   "cell_type": "code",
   "execution_count": 390,
   "id": "d2e0a263",
   "metadata": {},
   "outputs": [
    {
     "data": {
      "text/plain": [
       "(array([5.0000e+00, 9.0000e+00, 3.3000e+01, 1.5100e+02, 8.9200e+02,\n",
       "        7.0920e+03, 3.8446e+04, 3.0449e+04, 2.8140e+03, 1.7600e+02]),\n",
       " array([0.05457621, 0.13747838, 0.22038056, 0.30328274, 0.3861849 ,\n",
       "        0.46908706, 0.55198926, 0.6348914 , 0.7177936 , 0.8006957 ,\n",
       "        0.8835979 ], dtype=float32),\n",
       " <BarContainer object of 10 artists>)"
      ]
     },
     "execution_count": 390,
     "metadata": {},
     "output_type": "execute_result"
    },
    {
     "data": {
      "image/png": "[encoded data removed]",
      "text/plain": [
       "<Figure size 432x288 with 1 Axes>"
      ]
     },
     "metadata": {
      "needs_background": "light"
     },
     "output_type": "display_data"
    }
   ],
   "source": [
    "plt.hist(sample_exagg_preds.numpy())"
   ]
  },
  {
   "cell_type": "code",
   "execution_count": 391,
   "id": "8e2db516",
   "metadata": {},
   "outputs": [
    {
     "data": {
      "text/plain": [
       "tensor(0.0099)"
      ]
     },
     "execution_count": 391,
     "metadata": {},
     "output_type": "execute_result"
    }
   ],
   "source": [
    "torch.mean(abs(sample_exagg_preds - eq_preds))"
   ]
  },
  {
   "cell_type": "markdown",
   "id": "9cce0c5b",
   "metadata": {},
   "source": [
    "#### High"
   ]
  },
  {
   "cell_type": "code",
   "execution_count": 392,
   "id": "914ad479",
   "metadata": {},
   "outputs": [],
   "source": [
    "q_los = [X_train_sample_eq[column].quantile(q=1/5) for column in columns_horse1]\n",
    "q_his = [X_train_sample_eq[column].quantile(q=4/5) for column in columns_horse1]"
   ]
  },
  {
   "cell_type": "code",
   "execution_count": 393,
   "id": "39a3b74d",
   "metadata": {},
   "outputs": [
    {
     "data": {
      "text/plain": [
       "[0.05, 0.05, 0.05, 0.782023198885685, 0.7819935590132026, 0.7819938664458573]"
      ]
     },
     "execution_count": 393,
     "metadata": {},
     "output_type": "execute_result"
    }
   ],
   "source": [
    "q_los"
   ]
  },
  {
   "cell_type": "code",
   "execution_count": 394,
   "id": "a41c0965",
   "metadata": {},
   "outputs": [
    {
     "data": {
      "text/plain": [
       "[0.225,\n",
       " 0.225,\n",
       " 0.225,\n",
       " 0.7989938674839251,\n",
       " 0.7991086899266711,\n",
       " 0.7990491055143748]"
      ]
     },
     "execution_count": 394,
     "metadata": {},
     "output_type": "execute_result"
    }
   ],
   "source": [
    "q_his"
   ]
  },
  {
   "cell_type": "code",
   "execution_count": 395,
   "id": "6a5b8e37",
   "metadata": {},
   "outputs": [
    {
     "data": {
      "text/plain": [
       "(80067, 144)"
      ]
     },
     "execution_count": 395,
     "metadata": {},
     "output_type": "execute_result"
    }
   ],
   "source": [
    "X_train_sample_exagg = X_train_sample_eq.copy()\n",
    "X_train_sample_exagg.shape"
   ]
  },
  {
   "cell_type": "code",
   "execution_count": 396,
   "id": "f83b145e",
   "metadata": {},
   "outputs": [],
   "source": [
    "for column, q_lo in zip(columns_horse1, q_los):\n",
    "    X_train_sample_exagg[column] = q_lo"
   ]
  },
  {
   "cell_type": "code",
   "execution_count": 397,
   "id": "93ca1e84",
   "metadata": {},
   "outputs": [],
   "source": [
    "for column, q_hi in zip(columns_horse2, q_his):\n",
    "    X_train_sample_exagg[column] = q_hi"
   ]
  },
  {
   "cell_type": "code",
   "execution_count": 398,
   "id": "3eff9546",
   "metadata": {},
   "outputs": [],
   "source": [
    "X_train_sample_exagg_tensor = torch.from_numpy(X_train_sample_exagg.to_numpy()).float().to(device)"
   ]
  },
  {
   "cell_type": "code",
   "execution_count": 399,
   "id": "fd1e5f57",
   "metadata": {},
   "outputs": [],
   "source": [
    "with torch.no_grad():\n",
    "    sample_exagg_preds = torch.sigmoid(net.forward(X_train_sample_exagg_tensor))"
   ]
  },
  {
   "cell_type": "code",
   "execution_count": 400,
   "id": "921b0faf",
   "metadata": {},
   "outputs": [
    {
     "data": {
      "text/plain": [
       "array([[0.6249708 ],\n",
       "       [0.6889796 ],\n",
       "       [0.5616324 ],\n",
       "       ...,\n",
       "       [0.55681264],\n",
       "       [0.46894833],\n",
       "       [0.6618579 ]], dtype=float32)"
      ]
     },
     "execution_count": 400,
     "metadata": {},
     "output_type": "execute_result"
    }
   ],
   "source": [
    "sample_exagg_preds.numpy()"
   ]
  },
  {
   "cell_type": "code",
   "execution_count": 401,
   "id": "9ffadd4e",
   "metadata": {
    "scrolled": true
   },
   "outputs": [
    {
     "data": {
      "text/plain": [
       "tensor(0.6229)"
      ]
     },
     "execution_count": 401,
     "metadata": {},
     "output_type": "execute_result"
    }
   ],
   "source": [
    "torch.mean(sample_exagg_preds)"
   ]
  },
  {
   "cell_type": "code",
   "execution_count": 402,
   "id": "92f53386",
   "metadata": {},
   "outputs": [
    {
     "data": {
      "text/plain": [
       "(array([5.0000e+00, 9.0000e+00, 2.9000e+01, 1.5100e+02, 8.8300e+02,\n",
       "        7.2740e+03, 3.7777e+04, 3.0783e+04, 2.9760e+03, 1.8000e+02]),\n",
       " array([0.05557556, 0.13853163, 0.22148769, 0.30444375, 0.38739982,\n",
       "        0.47035587, 0.55331194, 0.636268  , 0.71922404, 0.8021801 ,\n",
       "        0.8851362 ], dtype=float32),\n",
       " <BarContainer object of 10 artists>)"
      ]
     },
     "execution_count": 402,
     "metadata": {},
     "output_type": "execute_result"
    },
    {
     "data": {
      "image/png": "[encoded data removed]",
      "text/plain": [
       "<Figure size 432x288 with 1 Axes>"
      ]
     },
     "metadata": {
      "needs_background": "light"
     },
     "output_type": "display_data"
    }
   ],
   "source": [
    "plt.hist(sample_exagg_preds.numpy())"
   ]
  },
  {
   "cell_type": "code",
   "execution_count": 403,
   "id": "c709a049",
   "metadata": {},
   "outputs": [
    {
     "data": {
      "text/plain": [
       "tensor(0.0113)"
      ]
     },
     "execution_count": 403,
     "metadata": {},
     "output_type": "execute_result"
    }
   ],
   "source": [
    "torch.mean(abs(sample_exagg_preds - eq_preds))"
   ]
  },
  {
   "cell_type": "markdown",
   "id": "75719048",
   "metadata": {},
   "source": [
    "### Metric Races"
   ]
  },
  {
   "cell_type": "code",
   "execution_count": 404,
   "id": "0396eb0d",
   "metadata": {},
   "outputs": [],
   "source": [
    "columns_horse1 = [\n",
    "    'horse1_jockey_prev_1_position_metric',\n",
    "    'horse1_jockey_prev_2_position_month',\n",
    "    'horse1_jockey_prev_3_position_metric',\n",
    "    'horse1_jockey_prev_1_finishing_time_ratio_metric',\n",
    "    'horse1_jockey_prev_2_finishing_time_ratio_metric',\n",
    "    'horse1_jockey_prev_3_finishing_time_ratio_metric',\n",
    "]"
   ]
  },
  {
   "cell_type": "code",
   "execution_count": 405,
   "id": "64be2730",
   "metadata": {},
   "outputs": [],
   "source": [
    "columns_horse2 = [\n",
    "    'horse2_jockey_prev_1_position_metric',\n",
    "    'horse2_jockey_prev_2_position_month',\n",
    "    'horse2_jockey_prev_3_position_metric',\n",
    "    'horse2_jockey_prev_1_finishing_time_ratio_metric',\n",
    "    'horse2_jockey_prev_2_finishing_time_ratio_metric',\n",
    "    'horse2_jockey_prev_3_finishing_time_ratio_metric',\n",
    "]"
   ]
  },
  {
   "cell_type": "markdown",
   "id": "b43d03cf",
   "metadata": {},
   "source": [
    "#### Small"
   ]
  },
  {
   "cell_type": "code",
   "execution_count": 406,
   "id": "211e96c0",
   "metadata": {},
   "outputs": [],
   "source": [
    "q_los = [X_train_sample_eq[column].quantile(q=1/3) for column in columns_horse1]\n",
    "q_his = [X_train_sample_eq[column].quantile(q=2/3) for column in columns_horse1]"
   ]
  },
  {
   "cell_type": "code",
   "execution_count": 407,
   "id": "4b65176f",
   "metadata": {},
   "outputs": [
    {
     "data": {
      "text/plain": [
       "[0.1, 0.1, 0.1, 0.7846141171896565, 0.7845904579745486, 0.7845926726826628]"
      ]
     },
     "execution_count": 407,
     "metadata": {},
     "output_type": "execute_result"
    }
   ],
   "source": [
    "q_los"
   ]
  },
  {
   "cell_type": "code",
   "execution_count": 408,
   "id": "8e55bd7d",
   "metadata": {},
   "outputs": [
    {
     "data": {
      "text/plain": [
       "[0.175,\n",
       " 0.175,\n",
       " 0.175,\n",
       " 0.7930053644945313,\n",
       " 0.7930532104830617,\n",
       " 0.7930053644945313]"
      ]
     },
     "execution_count": 408,
     "metadata": {},
     "output_type": "execute_result"
    }
   ],
   "source": [
    "q_his"
   ]
  },
  {
   "cell_type": "code",
   "execution_count": 409,
   "id": "f081449a",
   "metadata": {},
   "outputs": [
    {
     "data": {
      "text/plain": [
       "(80067, 144)"
      ]
     },
     "execution_count": 409,
     "metadata": {},
     "output_type": "execute_result"
    }
   ],
   "source": [
    "X_train_sample_exagg = X_train_sample_eq.copy()\n",
    "X_train_sample_exagg.shape"
   ]
  },
  {
   "cell_type": "code",
   "execution_count": 410,
   "id": "6bc618f1",
   "metadata": {},
   "outputs": [],
   "source": [
    "for column, q_lo in zip(columns_horse1, q_los):\n",
    "    X_train_sample_exagg[column] = q_lo"
   ]
  },
  {
   "cell_type": "code",
   "execution_count": 411,
   "id": "eadc5a42",
   "metadata": {},
   "outputs": [],
   "source": [
    "for column, q_hi in zip(columns_horse2, q_his):\n",
    "    X_train_sample_exagg[column] = q_hi"
   ]
  },
  {
   "cell_type": "code",
   "execution_count": 412,
   "id": "43b95a0c",
   "metadata": {},
   "outputs": [],
   "source": [
    "X_train_sample_exagg_tensor = torch.from_numpy(X_train_sample_exagg.to_numpy()).float().to(device)"
   ]
  },
  {
   "cell_type": "code",
   "execution_count": 413,
   "id": "f1d538ab",
   "metadata": {},
   "outputs": [],
   "source": [
    "with torch.no_grad():\n",
    "    sample_exagg_preds = torch.sigmoid(net.forward(X_train_sample_exagg_tensor))"
   ]
  },
  {
   "cell_type": "code",
   "execution_count": 414,
   "id": "55182574",
   "metadata": {},
   "outputs": [
    {
     "data": {
      "text/plain": [
       "array([[0.6073037 ],\n",
       "       [0.67583764],\n",
       "       [0.5602708 ],\n",
       "       ...,\n",
       "       [0.55817205],\n",
       "       [0.4678315 ],\n",
       "       [0.66973215]], dtype=float32)"
      ]
     },
     "execution_count": 414,
     "metadata": {},
     "output_type": "execute_result"
    }
   ],
   "source": [
    "sample_exagg_preds.numpy()"
   ]
  },
  {
   "cell_type": "code",
   "execution_count": 415,
   "id": "aa0fb39c",
   "metadata": {
    "scrolled": true
   },
   "outputs": [
    {
     "data": {
      "text/plain": [
       "tensor(0.6160)"
      ]
     },
     "execution_count": 415,
     "metadata": {},
     "output_type": "execute_result"
    }
   ],
   "source": [
    "torch.mean(sample_exagg_preds)"
   ]
  },
  {
   "cell_type": "code",
   "execution_count": 416,
   "id": "799b5ddc",
   "metadata": {},
   "outputs": [
    {
     "data": {
      "text/plain": [
       "(array([2.0000e+00, 1.2000e+01, 4.3000e+01, 1.4600e+02, 1.0630e+03,\n",
       "        9.3820e+03, 4.4942e+04, 2.3102e+04, 1.3200e+03, 5.5000e+01]),\n",
       " array([0.05103752, 0.13572598, 0.22041442, 0.30510285, 0.3897913 ,\n",
       "        0.47447976, 0.5591682 , 0.64385664, 0.72854507, 0.81323355,\n",
       "        0.897922  ], dtype=float32),\n",
       " <BarContainer object of 10 artists>)"
      ]
     },
     "execution_count": 416,
     "metadata": {},
     "output_type": "execute_result"
    },
    {
     "data": {
      "image/png": "[encoded data removed]",
      "text/plain": [
       "<Figure size 432x288 with 1 Axes>"
      ]
     },
     "metadata": {
      "needs_background": "light"
     },
     "output_type": "display_data"
    }
   ],
   "source": [
    "plt.hist(sample_exagg_preds.numpy())"
   ]
  },
  {
   "cell_type": "code",
   "execution_count": 417,
   "id": "3c4593d3",
   "metadata": {},
   "outputs": [
    {
     "data": {
      "text/plain": [
       "tensor(0.0112)"
      ]
     },
     "execution_count": 417,
     "metadata": {},
     "output_type": "execute_result"
    }
   ],
   "source": [
    "torch.mean(abs(sample_exagg_preds - eq_preds))"
   ]
  },
  {
   "cell_type": "markdown",
   "id": "a72d2936",
   "metadata": {},
   "source": [
    "#### Medium"
   ]
  },
  {
   "cell_type": "code",
   "execution_count": 418,
   "id": "148f0d83",
   "metadata": {},
   "outputs": [],
   "source": [
    "q_los = [X_train_sample_eq[column].quantile(q=1/4) for column in columns_horse1]\n",
    "q_his = [X_train_sample_eq[column].quantile(q=3/4) for column in columns_horse1]"
   ]
  },
  {
   "cell_type": "code",
   "execution_count": 419,
   "id": "2cfde584",
   "metadata": {},
   "outputs": [
    {
     "data": {
      "text/plain": [
       "[0.075,\n",
       " 0.075,\n",
       " 0.075,\n",
       " 0.7829666902316295,\n",
       " 0.7829666902316295,\n",
       " 0.7829666902316295]"
      ]
     },
     "execution_count": 419,
     "metadata": {},
     "output_type": "execute_result"
    }
   ],
   "source": [
    "q_los"
   ]
  },
  {
   "cell_type": "code",
   "execution_count": 420,
   "id": "c48f8b3c",
   "metadata": {},
   "outputs": [
    {
     "data": {
      "text/plain": [
       "[0.2, 0.2, 0.2, 0.79652108416336, 0.79652108416336, 0.7966343688055333]"
      ]
     },
     "execution_count": 420,
     "metadata": {},
     "output_type": "execute_result"
    }
   ],
   "source": [
    "q_his"
   ]
  },
  {
   "cell_type": "code",
   "execution_count": 421,
   "id": "d8fb6c75",
   "metadata": {},
   "outputs": [
    {
     "data": {
      "text/plain": [
       "(80067, 144)"
      ]
     },
     "execution_count": 421,
     "metadata": {},
     "output_type": "execute_result"
    }
   ],
   "source": [
    "X_train_sample_exagg = X_train_sample_eq.copy()\n",
    "X_train_sample_exagg.shape"
   ]
  },
  {
   "cell_type": "code",
   "execution_count": 422,
   "id": "20c4cd81",
   "metadata": {},
   "outputs": [],
   "source": [
    "for column, q_lo in zip(columns_horse1, q_los):\n",
    "    X_train_sample_exagg[column] = q_lo"
   ]
  },
  {
   "cell_type": "code",
   "execution_count": 423,
   "id": "a5763300",
   "metadata": {},
   "outputs": [],
   "source": [
    "for column, q_hi in zip(columns_horse2, q_his):\n",
    "    X_train_sample_exagg[column] = q_hi"
   ]
  },
  {
   "cell_type": "code",
   "execution_count": 424,
   "id": "32dcd075",
   "metadata": {},
   "outputs": [],
   "source": [
    "X_train_sample_exagg_tensor = torch.from_numpy(X_train_sample_exagg.to_numpy()).float().to(device)"
   ]
  },
  {
   "cell_type": "code",
   "execution_count": 425,
   "id": "193d3745",
   "metadata": {},
   "outputs": [],
   "source": [
    "with torch.no_grad():\n",
    "    sample_exagg_preds = torch.sigmoid(net.forward(X_train_sample_exagg_tensor))"
   ]
  },
  {
   "cell_type": "code",
   "execution_count": 426,
   "id": "f25d5cab",
   "metadata": {},
   "outputs": [
    {
     "data": {
      "text/plain": [
       "array([[0.60663074],\n",
       "       [0.67521954],\n",
       "       [0.5572546 ],\n",
       "       ...,\n",
       "       [0.5551525 ],\n",
       "       [0.4647863 ],\n",
       "       [0.66701996]], dtype=float32)"
      ]
     },
     "execution_count": 426,
     "metadata": {},
     "output_type": "execute_result"
    }
   ],
   "source": [
    "sample_exagg_preds.numpy()"
   ]
  },
  {
   "cell_type": "code",
   "execution_count": 427,
   "id": "d9811228",
   "metadata": {
    "scrolled": true
   },
   "outputs": [
    {
     "data": {
      "text/plain": [
       "tensor(0.6147)"
      ]
     },
     "execution_count": 427,
     "metadata": {},
     "output_type": "execute_result"
    }
   ],
   "source": [
    "torch.mean(sample_exagg_preds)"
   ]
  },
  {
   "cell_type": "code",
   "execution_count": 428,
   "id": "18775f02",
   "metadata": {},
   "outputs": [
    {
     "data": {
      "text/plain": [
       "(array([2.0000e+00, 1.3000e+01, 4.3000e+01, 1.5100e+02, 1.0880e+03,\n",
       "        1.0108e+04, 4.5000e+04, 2.2341e+04, 1.2660e+03, 5.5000e+01]),\n",
       " array([0.05149554, 0.13617976, 0.22086397, 0.3055482 , 0.39023238,\n",
       "        0.4749166 , 0.55960083, 0.644285  , 0.7289692 , 0.81365347,\n",
       "        0.89833766], dtype=float32),\n",
       " <BarContainer object of 10 artists>)"
      ]
     },
     "execution_count": 428,
     "metadata": {},
     "output_type": "execute_result"
    },
    {
     "data": {
      "image/png": "[encoded data removed]",
      "text/plain": [
       "<Figure size 432x288 with 1 Axes>"
      ]
     },
     "metadata": {
      "needs_background": "light"
     },
     "output_type": "display_data"
    }
   ],
   "source": [
    "plt.hist(sample_exagg_preds.numpy())"
   ]
  },
  {
   "cell_type": "code",
   "execution_count": 429,
   "id": "09d0d715",
   "metadata": {},
   "outputs": [
    {
     "data": {
      "text/plain": [
       "tensor(0.0120)"
      ]
     },
     "execution_count": 429,
     "metadata": {},
     "output_type": "execute_result"
    }
   ],
   "source": [
    "torch.mean(abs(sample_exagg_preds - eq_preds))"
   ]
  },
  {
   "cell_type": "markdown",
   "id": "ad1e6536",
   "metadata": {},
   "source": [
    "#### High"
   ]
  },
  {
   "cell_type": "code",
   "execution_count": 430,
   "id": "bd5324af",
   "metadata": {},
   "outputs": [],
   "source": [
    "q_los = [X_train_sample_eq[column].quantile(q=1/5) for column in columns_horse1]\n",
    "q_his = [X_train_sample_eq[column].quantile(q=4/5) for column in columns_horse1]"
   ]
  },
  {
   "cell_type": "code",
   "execution_count": 431,
   "id": "8ce7fe70",
   "metadata": {},
   "outputs": [
    {
     "data": {
      "text/plain": [
       "[0.05, 0.05, 0.05, 0.7819938664458573, 0.7819934821550388, 0.782023198885685]"
      ]
     },
     "execution_count": 431,
     "metadata": {},
     "output_type": "execute_result"
    }
   ],
   "source": [
    "q_los"
   ]
  },
  {
   "cell_type": "code",
   "execution_count": 432,
   "id": "d3e6a63d",
   "metadata": {},
   "outputs": [
    {
     "data": {
      "text/plain": [
       "[0.225,\n",
       " 0.225,\n",
       " 0.225,\n",
       " 0.7992265147419632,\n",
       " 0.799245307054276,\n",
       " 0.7995130443798147]"
      ]
     },
     "execution_count": 432,
     "metadata": {},
     "output_type": "execute_result"
    }
   ],
   "source": [
    "q_his"
   ]
  },
  {
   "cell_type": "code",
   "execution_count": 433,
   "id": "9b12a53f",
   "metadata": {},
   "outputs": [
    {
     "data": {
      "text/plain": [
       "(80067, 144)"
      ]
     },
     "execution_count": 433,
     "metadata": {},
     "output_type": "execute_result"
    }
   ],
   "source": [
    "X_train_sample_exagg = X_train_sample_eq.copy()\n",
    "X_train_sample_exagg.shape"
   ]
  },
  {
   "cell_type": "code",
   "execution_count": 434,
   "id": "3a27ef83",
   "metadata": {},
   "outputs": [],
   "source": [
    "for column, q_lo in zip(columns_horse1, q_los):\n",
    "    X_train_sample_exagg[column] = q_lo"
   ]
  },
  {
   "cell_type": "code",
   "execution_count": 435,
   "id": "b6b30bbf",
   "metadata": {},
   "outputs": [],
   "source": [
    "for column, q_hi in zip(columns_horse2, q_his):\n",
    "    X_train_sample_exagg[column] = q_hi"
   ]
  },
  {
   "cell_type": "code",
   "execution_count": 436,
   "id": "c88a5e02",
   "metadata": {},
   "outputs": [],
   "source": [
    "X_train_sample_exagg_tensor = torch.from_numpy(X_train_sample_exagg.to_numpy()).float().to(device)"
   ]
  },
  {
   "cell_type": "code",
   "execution_count": 437,
   "id": "275c3f1d",
   "metadata": {},
   "outputs": [],
   "source": [
    "with torch.no_grad():\n",
    "    sample_exagg_preds = torch.sigmoid(net.forward(X_train_sample_exagg_tensor))"
   ]
  },
  {
   "cell_type": "code",
   "execution_count": 438,
   "id": "2fe5471c",
   "metadata": {},
   "outputs": [
    {
     "data": {
      "text/plain": [
       "array([[0.60634327],\n",
       "       [0.6749552 ],\n",
       "       [0.55442995],\n",
       "       ...,\n",
       "       [0.55232465],\n",
       "       [0.46194118],\n",
       "       [0.6644735 ]], dtype=float32)"
      ]
     },
     "execution_count": 438,
     "metadata": {},
     "output_type": "execute_result"
    }
   ],
   "source": [
    "sample_exagg_preds.numpy()"
   ]
  },
  {
   "cell_type": "code",
   "execution_count": 439,
   "id": "7f08d4aa",
   "metadata": {
    "scrolled": true
   },
   "outputs": [
    {
     "data": {
      "text/plain": [
       "tensor(0.6137)"
      ]
     },
     "execution_count": 439,
     "metadata": {},
     "output_type": "execute_result"
    }
   ],
   "source": [
    "torch.mean(sample_exagg_preds)"
   ]
  },
  {
   "cell_type": "code",
   "execution_count": 440,
   "id": "06dd881f",
   "metadata": {},
   "outputs": [
    {
     "data": {
      "text/plain": [
       "(array([2.0000e+00, 1.3000e+01, 4.5000e+01, 1.5600e+02, 1.1170e+03,\n",
       "        1.0804e+04, 4.4884e+04, 2.1767e+04, 1.2240e+03, 5.5000e+01]),\n",
       " array([0.05199786, 0.13668594, 0.22137402, 0.3060621 , 0.39075017,\n",
       "        0.47543824, 0.5601263 , 0.64481443, 0.7295025 , 0.81419057,\n",
       "        0.89887863], dtype=float32),\n",
       " <BarContainer object of 10 artists>)"
      ]
     },
     "execution_count": 440,
     "metadata": {},
     "output_type": "execute_result"
    },
    {
     "data": {
      "image/png": "[encoded data removed]",
      "text/plain": [
       "<Figure size 432x288 with 1 Axes>"
      ]
     },
     "metadata": {
      "needs_background": "light"
     },
     "output_type": "display_data"
    }
   ],
   "source": [
    "plt.hist(sample_exagg_preds.numpy())"
   ]
  },
  {
   "cell_type": "code",
   "execution_count": 442,
   "id": "9d17569e",
   "metadata": {},
   "outputs": [
    {
     "data": {
      "text/plain": [
       "tensor(0.0130)"
      ]
     },
     "execution_count": 442,
     "metadata": {},
     "output_type": "execute_result"
    }
   ],
   "source": [
    "torch.mean(abs(sample_exagg_preds - eq_preds))"
   ]
  },
  {
   "cell_type": "markdown",
   "id": "b85f0064",
   "metadata": {},
   "source": [
    "### Track Condition Races"
   ]
  },
  {
   "cell_type": "code",
   "execution_count": 443,
   "id": "0d4cdb21",
   "metadata": {},
   "outputs": [],
   "source": [
    "columns_horse1 = [\n",
    "    'horse1_jockey_prev_1_position_ncond',\n",
    "    'horse1_jockey_prev_2_position_ncond',\n",
    "    'horse1_jockey_prev_3_position_ncond',\n",
    "    'horse1_jockey_prev_1_finishing_time_ratio_ncond',\n",
    "    'horse1_jockey_prev_2_finishing_time_ratio_ncond',\n",
    "    'horse1_jockey_prev_3_finishing_time_ratio_ncond',\n",
    "]"
   ]
  },
  {
   "cell_type": "code",
   "execution_count": 444,
   "id": "131d23dd",
   "metadata": {},
   "outputs": [],
   "source": [
    "columns_horse2 = [\n",
    "    'horse2_jockey_prev_1_position_ncond',\n",
    "    'horse2_jockey_prev_2_position_ncond',\n",
    "    'horse2_jockey_prev_3_position_ncond',\n",
    "    'horse2_jockey_prev_1_finishing_time_ratio_ncond',\n",
    "    'horse2_jockey_prev_2_finishing_time_ratio_ncond',\n",
    "    'horse2_jockey_prev_3_finishing_time_ratio_ncond',\n",
    "]"
   ]
  },
  {
   "cell_type": "markdown",
   "id": "52c21643",
   "metadata": {},
   "source": [
    "#### Small"
   ]
  },
  {
   "cell_type": "code",
   "execution_count": 445,
   "id": "aae40daf",
   "metadata": {},
   "outputs": [],
   "source": [
    "q_los = [X_train_sample_eq[column].quantile(q=1/3) for column in columns_horse1]\n",
    "q_his = [X_train_sample_eq[column].quantile(q=2/3) for column in columns_horse1]"
   ]
  },
  {
   "cell_type": "code",
   "execution_count": 446,
   "id": "3f75d490",
   "metadata": {},
   "outputs": [
    {
     "data": {
      "text/plain": [
       "[0.1, 0.1, 0.1, 0.7845352574964265, 0.7845904579745484, 0.7845904579745486]"
      ]
     },
     "execution_count": 446,
     "metadata": {},
     "output_type": "execute_result"
    }
   ],
   "source": [
    "q_los"
   ]
  },
  {
   "cell_type": "code",
   "execution_count": 447,
   "id": "5bfdee1f",
   "metadata": {},
   "outputs": [
    {
     "data": {
      "text/plain": [
       "[0.175,\n",
       " 0.175,\n",
       " 0.175,\n",
       " 0.7928639747161806,\n",
       " 0.7928639747161806,\n",
       " 0.7929228871238266]"
      ]
     },
     "execution_count": 447,
     "metadata": {},
     "output_type": "execute_result"
    }
   ],
   "source": [
    "q_his"
   ]
  },
  {
   "cell_type": "code",
   "execution_count": 448,
   "id": "08b9ef1b",
   "metadata": {},
   "outputs": [
    {
     "data": {
      "text/plain": [
       "(80067, 144)"
      ]
     },
     "execution_count": 448,
     "metadata": {},
     "output_type": "execute_result"
    }
   ],
   "source": [
    "X_train_sample_exagg = X_train_sample_eq.copy()\n",
    "X_train_sample_exagg.shape"
   ]
  },
  {
   "cell_type": "code",
   "execution_count": 449,
   "id": "cabd03ba",
   "metadata": {},
   "outputs": [],
   "source": [
    "for column, q_lo in zip(columns_horse1, q_los):\n",
    "    X_train_sample_exagg[column] = q_lo"
   ]
  },
  {
   "cell_type": "code",
   "execution_count": 450,
   "id": "df249254",
   "metadata": {},
   "outputs": [],
   "source": [
    "for column, q_hi in zip(columns_horse2, q_his):\n",
    "    X_train_sample_exagg[column] = q_hi"
   ]
  },
  {
   "cell_type": "code",
   "execution_count": 451,
   "id": "8cb8d566",
   "metadata": {},
   "outputs": [],
   "source": [
    "X_train_sample_exagg_tensor = torch.from_numpy(X_train_sample_exagg.to_numpy()).float().to(device)"
   ]
  },
  {
   "cell_type": "code",
   "execution_count": 452,
   "id": "be586751",
   "metadata": {},
   "outputs": [],
   "source": [
    "with torch.no_grad():\n",
    "    sample_exagg_preds = torch.sigmoid(net.forward(X_train_sample_exagg_tensor))"
   ]
  },
  {
   "cell_type": "code",
   "execution_count": 453,
   "id": "ca3ee7da",
   "metadata": {},
   "outputs": [
    {
     "data": {
      "text/plain": [
       "array([[0.6216782 ],\n",
       "       [0.67370296],\n",
       "       [0.5625493 ],\n",
       "       ...,\n",
       "       [0.56167793],\n",
       "       [0.47497126],\n",
       "       [0.67635596]], dtype=float32)"
      ]
     },
     "execution_count": 453,
     "metadata": {},
     "output_type": "execute_result"
    }
   ],
   "source": [
    "sample_exagg_preds.numpy()"
   ]
  },
  {
   "cell_type": "code",
   "execution_count": 454,
   "id": "4eecff7c",
   "metadata": {
    "scrolled": true
   },
   "outputs": [
    {
     "data": {
      "text/plain": [
       "tensor(0.6171)"
      ]
     },
     "execution_count": 454,
     "metadata": {},
     "output_type": "execute_result"
    }
   ],
   "source": [
    "torch.mean(sample_exagg_preds)"
   ]
  },
  {
   "cell_type": "code",
   "execution_count": 455,
   "id": "8bbc108b",
   "metadata": {},
   "outputs": [
    {
     "data": {
      "text/plain": [
       "(array([4.0000e+00, 1.2000e+01, 5.4000e+01, 2.4800e+02, 1.6130e+03,\n",
       "        1.3018e+04, 4.7305e+04, 1.6847e+04, 8.8900e+02, 7.7000e+01]),\n",
       " array([0.05050651, 0.13741523, 0.22432396, 0.3112327 , 0.3981414 ,\n",
       "        0.48505014, 0.57195884, 0.6588676 , 0.7457763 , 0.83268505,\n",
       "        0.91959375], dtype=float32),\n",
       " <BarContainer object of 10 artists>)"
      ]
     },
     "execution_count": 455,
     "metadata": {},
     "output_type": "execute_result"
    },
    {
     "data": {
      "image/png": "[encoded data removed]",
      "text/plain": [
       "<Figure size 432x288 with 1 Axes>"
      ]
     },
     "metadata": {
      "needs_background": "light"
     },
     "output_type": "display_data"
    }
   ],
   "source": [
    "plt.hist(sample_exagg_preds.numpy())"
   ]
  },
  {
   "cell_type": "code",
   "execution_count": 456,
   "id": "6e04218d",
   "metadata": {},
   "outputs": [
    {
     "data": {
      "text/plain": [
       "tensor(0.0082)"
      ]
     },
     "execution_count": 456,
     "metadata": {},
     "output_type": "execute_result"
    }
   ],
   "source": [
    "torch.mean(abs(sample_exagg_preds - eq_preds))"
   ]
  },
  {
   "cell_type": "markdown",
   "id": "d6f0cee1",
   "metadata": {},
   "source": [
    "#### Medium"
   ]
  },
  {
   "cell_type": "code",
   "execution_count": 457,
   "id": "30526be4",
   "metadata": {},
   "outputs": [],
   "source": [
    "q_los = [X_train_sample_eq[column].quantile(q=1/4) for column in columns_horse1]\n",
    "q_his = [X_train_sample_eq[column].quantile(q=3/4) for column in columns_horse1]"
   ]
  },
  {
   "cell_type": "code",
   "execution_count": 458,
   "id": "ba1fc95e",
   "metadata": {},
   "outputs": [
    {
     "data": {
      "text/plain": [
       "[0.075,\n",
       " 0.075,\n",
       " 0.075,\n",
       " 0.7829666902316295,\n",
       " 0.7829666902316295,\n",
       " 0.7829666902316295]"
      ]
     },
     "execution_count": 458,
     "metadata": {},
     "output_type": "execute_result"
    }
   ],
   "source": [
    "q_los"
   ]
  },
  {
   "cell_type": "code",
   "execution_count": 459,
   "id": "3d15d5cc",
   "metadata": {},
   "outputs": [
    {
     "data": {
      "text/plain": [
       "[0.2, 0.2, 0.2, 0.7962219819520104, 0.7963504826069203, 0.7964612934677049]"
      ]
     },
     "execution_count": 459,
     "metadata": {},
     "output_type": "execute_result"
    }
   ],
   "source": [
    "q_his"
   ]
  },
  {
   "cell_type": "code",
   "execution_count": 460,
   "id": "84a8b7fb",
   "metadata": {},
   "outputs": [
    {
     "data": {
      "text/plain": [
       "(80067, 144)"
      ]
     },
     "execution_count": 460,
     "metadata": {},
     "output_type": "execute_result"
    }
   ],
   "source": [
    "X_train_sample_exagg = X_train_sample_eq.copy()\n",
    "X_train_sample_exagg.shape"
   ]
  },
  {
   "cell_type": "code",
   "execution_count": 461,
   "id": "04791b71",
   "metadata": {},
   "outputs": [],
   "source": [
    "for column, q_lo in zip(columns_horse1, q_los):\n",
    "    X_train_sample_exagg[column] = q_lo"
   ]
  },
  {
   "cell_type": "code",
   "execution_count": 462,
   "id": "7a825ff0",
   "metadata": {},
   "outputs": [],
   "source": [
    "for column, q_hi in zip(columns_horse2, q_his):\n",
    "    X_train_sample_exagg[column] = q_hi"
   ]
  },
  {
   "cell_type": "code",
   "execution_count": 463,
   "id": "a8efd130",
   "metadata": {},
   "outputs": [],
   "source": [
    "X_train_sample_exagg_tensor = torch.from_numpy(X_train_sample_exagg.to_numpy()).float().to(device)"
   ]
  },
  {
   "cell_type": "code",
   "execution_count": 464,
   "id": "b09e14f6",
   "metadata": {},
   "outputs": [],
   "source": [
    "with torch.no_grad():\n",
    "    sample_exagg_preds = torch.sigmoid(net.forward(X_train_sample_exagg_tensor))"
   ]
  },
  {
   "cell_type": "code",
   "execution_count": 465,
   "id": "41de1d6e",
   "metadata": {},
   "outputs": [
    {
     "data": {
      "text/plain": [
       "array([[0.6219525 ],\n",
       "       [0.67395943],\n",
       "       [0.56258667],\n",
       "       ...,\n",
       "       [0.56171435],\n",
       "       [0.4750085 ],\n",
       "       [0.6763882 ]], dtype=float32)"
      ]
     },
     "execution_count": 465,
     "metadata": {},
     "output_type": "execute_result"
    }
   ],
   "source": [
    "sample_exagg_preds.numpy()"
   ]
  },
  {
   "cell_type": "code",
   "execution_count": 466,
   "id": "96b46f19",
   "metadata": {
    "scrolled": true
   },
   "outputs": [
    {
     "data": {
      "text/plain": [
       "tensor(0.6169)"
      ]
     },
     "execution_count": 466,
     "metadata": {},
     "output_type": "execute_result"
    }
   ],
   "source": [
    "torch.mean(sample_exagg_preds)"
   ]
  },
  {
   "cell_type": "code",
   "execution_count": 467,
   "id": "4fcf737a",
   "metadata": {},
   "outputs": [
    {
     "data": {
      "text/plain": [
       "(array([4.0000e+00, 1.2000e+01, 5.7000e+01, 2.5600e+02, 1.6780e+03,\n",
       "        1.3092e+04, 4.7187e+04, 1.6814e+04, 8.9000e+02, 7.7000e+01]),\n",
       " array([0.05055534, 0.1374678 , 0.22438027, 0.31129274, 0.3982052 ,\n",
       "        0.48511767, 0.5720301 , 0.6589426 , 0.7458551 , 0.83276755,\n",
       "        0.91968   ], dtype=float32),\n",
       " <BarContainer object of 10 artists>)"
      ]
     },
     "execution_count": 467,
     "metadata": {},
     "output_type": "execute_result"
    },
    {
     "data": {
      "image/png": "[encoded data removed]",
      "text/plain": [
       "<Figure size 432x288 with 1 Axes>"
      ]
     },
     "metadata": {
      "needs_background": "light"
     },
     "output_type": "display_data"
    }
   ],
   "source": [
    "plt.hist(sample_exagg_preds.numpy())"
   ]
  },
  {
   "cell_type": "code",
   "execution_count": 468,
   "id": "54a6ce4b",
   "metadata": {},
   "outputs": [
    {
     "data": {
      "text/plain": [
       "tensor(0.0083)"
      ]
     },
     "execution_count": 468,
     "metadata": {},
     "output_type": "execute_result"
    }
   ],
   "source": [
    "torch.mean(abs(sample_exagg_preds - eq_preds))"
   ]
  },
  {
   "cell_type": "markdown",
   "id": "c82623f1",
   "metadata": {},
   "source": [
    "#### High"
   ]
  },
  {
   "cell_type": "code",
   "execution_count": 469,
   "id": "09a65f29",
   "metadata": {},
   "outputs": [],
   "source": [
    "q_los = [X_train_sample_eq[column].quantile(q=1/5) for column in columns_horse1]\n",
    "q_his = [X_train_sample_eq[column].quantile(q=4/5) for column in columns_horse1]"
   ]
  },
  {
   "cell_type": "code",
   "execution_count": 470,
   "id": "0be39a97",
   "metadata": {},
   "outputs": [
    {
     "data": {
      "text/plain": [
       "[0.05, 0.05, 0.05, 0.7819938664458573, 0.7819934821550388, 0.7819934821550388]"
      ]
     },
     "execution_count": 470,
     "metadata": {},
     "output_type": "execute_result"
    }
   ],
   "source": [
    "q_los"
   ]
  },
  {
   "cell_type": "code",
   "execution_count": 471,
   "id": "75eb9356",
   "metadata": {},
   "outputs": [
    {
     "data": {
      "text/plain": [
       "[0.225,\n",
       " 0.225,\n",
       " 0.225,\n",
       " 0.798943735185262,\n",
       " 0.7989938674839251,\n",
       " 0.7991816932682196]"
      ]
     },
     "execution_count": 471,
     "metadata": {},
     "output_type": "execute_result"
    }
   ],
   "source": [
    "q_his"
   ]
  },
  {
   "cell_type": "code",
   "execution_count": 472,
   "id": "f0086899",
   "metadata": {},
   "outputs": [
    {
     "data": {
      "text/plain": [
       "(80067, 144)"
      ]
     },
     "execution_count": 472,
     "metadata": {},
     "output_type": "execute_result"
    }
   ],
   "source": [
    "X_train_sample_exagg = X_train_sample_eq.copy()\n",
    "X_train_sample_exagg.shape"
   ]
  },
  {
   "cell_type": "code",
   "execution_count": 473,
   "id": "a258cad9",
   "metadata": {},
   "outputs": [],
   "source": [
    "for column, q_lo in zip(columns_horse1, q_los):\n",
    "    X_train_sample_exagg[column] = q_lo"
   ]
  },
  {
   "cell_type": "code",
   "execution_count": 474,
   "id": "d00de8a2",
   "metadata": {},
   "outputs": [],
   "source": [
    "for column, q_hi in zip(columns_horse2, q_his):\n",
    "    X_train_sample_exagg[column] = q_hi"
   ]
  },
  {
   "cell_type": "code",
   "execution_count": 475,
   "id": "c5574638",
   "metadata": {},
   "outputs": [],
   "source": [
    "X_train_sample_exagg_tensor = torch.from_numpy(X_train_sample_exagg.to_numpy()).float().to(device)"
   ]
  },
  {
   "cell_type": "code",
   "execution_count": 476,
   "id": "482cb05b",
   "metadata": {},
   "outputs": [],
   "source": [
    "with torch.no_grad():\n",
    "    sample_exagg_preds = torch.sigmoid(net.forward(X_train_sample_exagg_tensor))"
   ]
  },
  {
   "cell_type": "code",
   "execution_count": 477,
   "id": "7ed7299b",
   "metadata": {},
   "outputs": [
    {
     "data": {
      "text/plain": [
       "array([[0.62216914],\n",
       "       [0.6741621 ],\n",
       "       [0.5626227 ],\n",
       "       ...,\n",
       "       [0.5617511 ],\n",
       "       [0.47504538],\n",
       "       [0.6764206 ]], dtype=float32)"
      ]
     },
     "execution_count": 477,
     "metadata": {},
     "output_type": "execute_result"
    }
   ],
   "source": [
    "sample_exagg_preds.numpy()"
   ]
  },
  {
   "cell_type": "code",
   "execution_count": 478,
   "id": "a7f280e1",
   "metadata": {
    "scrolled": true
   },
   "outputs": [
    {
     "data": {
      "text/plain": [
       "tensor(0.6167)"
      ]
     },
     "execution_count": 478,
     "metadata": {},
     "output_type": "execute_result"
    }
   ],
   "source": [
    "torch.mean(sample_exagg_preds)"
   ]
  },
  {
   "cell_type": "code",
   "execution_count": 479,
   "id": "8016e4a6",
   "metadata": {},
   "outputs": [
    {
     "data": {
      "text/plain": [
       "(array([4.0000e+00, 1.2000e+01, 5.8000e+01, 2.6800e+02, 1.7150e+03,\n",
       "        1.3211e+04, 4.7049e+04, 1.6789e+04, 8.8400e+02, 7.7000e+01]),\n",
       " array([0.05059243, 0.13750799, 0.22442356, 0.3113391 , 0.3982547 ,\n",
       "        0.48517025, 0.5720858 , 0.65900135, 0.74591696, 0.8328325 ,\n",
       "        0.91974807], dtype=float32),\n",
       " <BarContainer object of 10 artists>)"
      ]
     },
     "execution_count": 479,
     "metadata": {},
     "output_type": "execute_result"
    },
    {
     "data": {
      "image/png": "[encoded data removed]",
      "text/plain": [
       "<Figure size 432x288 with 1 Axes>"
      ]
     },
     "metadata": {
      "needs_background": "light"
     },
     "output_type": "display_data"
    }
   ],
   "source": [
    "plt.hist(sample_exagg_preds.numpy())"
   ]
  },
  {
   "cell_type": "code",
   "execution_count": 480,
   "id": "41ab0325",
   "metadata": {},
   "outputs": [
    {
     "data": {
      "text/plain": [
       "tensor(0.0084)"
      ]
     },
     "execution_count": 480,
     "metadata": {},
     "output_type": "execute_result"
    }
   ],
   "source": [
    "torch.mean(abs(sample_exagg_preds - eq_preds))"
   ]
  },
  {
   "cell_type": "markdown",
   "id": "ef35674a",
   "metadata": {},
   "source": [
    "### Runners"
   ]
  },
  {
   "cell_type": "code",
   "execution_count": 481,
   "id": "b157d596",
   "metadata": {},
   "outputs": [],
   "source": [
    "columns_horse1 = [\n",
    "    'horse1_jockey_prev_1_position_runners',\n",
    "    'horse1_jockey_prev_2_position_runners',\n",
    "    'horse1_jockey_prev_3_position_runners',\n",
    "    'horse1_jockey_prev_1_finishing_time_ratio_runners',\n",
    "    'horse1_jockey_prev_2_finishing_time_ratio_runners',\n",
    "    'horse1_jockey_prev_3_finishing_time_ratio_runners',\n",
    "]"
   ]
  },
  {
   "cell_type": "code",
   "execution_count": 482,
   "id": "574f82f1",
   "metadata": {},
   "outputs": [],
   "source": [
    "columns_horse2 = [\n",
    "    'horse2_jockey_prev_1_position_runners',\n",
    "    'horse2_jockey_prev_2_position_runners',\n",
    "    'horse2_jockey_prev_3_position_runners',\n",
    "    'horse2_jockey_prev_1_finishing_time_ratio_runners',\n",
    "    'horse2_jockey_prev_2_finishing_time_ratio_runners',\n",
    "    'horse2_jockey_prev_3_finishing_time_ratio_runners',\n",
    "]"
   ]
  },
  {
   "cell_type": "markdown",
   "id": "7e20652e",
   "metadata": {},
   "source": [
    "#### Small"
   ]
  },
  {
   "cell_type": "code",
   "execution_count": 483,
   "id": "ffe07ed4",
   "metadata": {},
   "outputs": [],
   "source": [
    "q_los = [X_train_sample_eq[column].quantile(q=1/3) for column in columns_horse1]\n",
    "q_his = [X_train_sample_eq[column].quantile(q=2/3) for column in columns_horse1]"
   ]
  },
  {
   "cell_type": "code",
   "execution_count": 484,
   "id": "8c72ab38",
   "metadata": {},
   "outputs": [
    {
     "data": {
      "text/plain": [
       "[0.1, 0.1, 0.1, 0.8044131405454777, 0.8043943293389128, 0.7847753633906748]"
      ]
     },
     "execution_count": 484,
     "metadata": {},
     "output_type": "execute_result"
    }
   ],
   "source": [
    "q_los"
   ]
  },
  {
   "cell_type": "code",
   "execution_count": 485,
   "id": "a4ca504c",
   "metadata": {},
   "outputs": [
    {
     "data": {
      "text/plain": [
       "[0.2, 0.2, 0.2, 0.8132654348901037, 0.8131682331294443, 0.7934621622399722]"
      ]
     },
     "execution_count": 485,
     "metadata": {},
     "output_type": "execute_result"
    }
   ],
   "source": [
    "q_his"
   ]
  },
  {
   "cell_type": "code",
   "execution_count": 486,
   "id": "105d6d51",
   "metadata": {},
   "outputs": [
    {
     "data": {
      "text/plain": [
       "(80067, 144)"
      ]
     },
     "execution_count": 486,
     "metadata": {},
     "output_type": "execute_result"
    }
   ],
   "source": [
    "X_train_sample_exagg = X_train_sample_eq.copy()\n",
    "X_train_sample_exagg.shape"
   ]
  },
  {
   "cell_type": "code",
   "execution_count": 487,
   "id": "f8d81631",
   "metadata": {},
   "outputs": [],
   "source": [
    "for column, q_lo in zip(columns_horse1, q_los):\n",
    "    X_train_sample_exagg[column] = q_lo"
   ]
  },
  {
   "cell_type": "code",
   "execution_count": 488,
   "id": "7c6c4eba",
   "metadata": {},
   "outputs": [],
   "source": [
    "for column, q_hi in zip(columns_horse2, q_his):\n",
    "    X_train_sample_exagg[column] = q_hi"
   ]
  },
  {
   "cell_type": "code",
   "execution_count": 489,
   "id": "cb23fe8a",
   "metadata": {},
   "outputs": [],
   "source": [
    "X_train_sample_exagg_tensor = torch.from_numpy(X_train_sample_exagg.to_numpy()).float().to(device)"
   ]
  },
  {
   "cell_type": "code",
   "execution_count": 490,
   "id": "f1a38023",
   "metadata": {},
   "outputs": [],
   "source": [
    "with torch.no_grad():\n",
    "    sample_exagg_preds = torch.sigmoid(net.forward(X_train_sample_exagg_tensor))"
   ]
  },
  {
   "cell_type": "code",
   "execution_count": 491,
   "id": "ad2c5725",
   "metadata": {},
   "outputs": [
    {
     "data": {
      "text/plain": [
       "array([[0.62383914],\n",
       "       [0.68769956],\n",
       "       [0.55508125],\n",
       "       ...,\n",
       "       [0.57050204],\n",
       "       [0.578403  ],\n",
       "       [0.6592971 ]], dtype=float32)"
      ]
     },
     "execution_count": 491,
     "metadata": {},
     "output_type": "execute_result"
    }
   ],
   "source": [
    "sample_exagg_preds.numpy()"
   ]
  },
  {
   "cell_type": "code",
   "execution_count": 492,
   "id": "0733bd1d",
   "metadata": {
    "scrolled": true
   },
   "outputs": [
    {
     "data": {
      "text/plain": [
       "tensor(0.6213)"
      ]
     },
     "execution_count": 492,
     "metadata": {},
     "output_type": "execute_result"
    }
   ],
   "source": [
    "torch.mean(sample_exagg_preds)"
   ]
  },
  {
   "cell_type": "code",
   "execution_count": 493,
   "id": "b2a85580",
   "metadata": {},
   "outputs": [
    {
     "data": {
      "text/plain": [
       "(array([3.0000e+00, 1.3000e+01, 2.7000e+01, 7.4000e+01, 7.6100e+02,\n",
       "        7.9580e+03, 4.4110e+04, 2.5322e+04, 1.6670e+03, 1.3200e+02]),\n",
       " array([0.05463387, 0.13873634, 0.22283882, 0.3069413 , 0.39104375,\n",
       "        0.47514623, 0.5592487 , 0.6433512 , 0.72745365, 0.81155616,\n",
       "        0.8956586 ], dtype=float32),\n",
       " <BarContainer object of 10 artists>)"
      ]
     },
     "execution_count": 493,
     "metadata": {},
     "output_type": "execute_result"
    },
    {
     "data": {
      "image/png": "[encoded data removed]",
      "text/plain": [
       "<Figure size 432x288 with 1 Axes>"
      ]
     },
     "metadata": {
      "needs_background": "light"
     },
     "output_type": "display_data"
    }
   ],
   "source": [
    "plt.hist(sample_exagg_preds.numpy())"
   ]
  },
  {
   "cell_type": "code",
   "execution_count": 494,
   "id": "449a72fc",
   "metadata": {},
   "outputs": [
    {
     "data": {
      "text/plain": [
       "tensor(0.0152)"
      ]
     },
     "execution_count": 494,
     "metadata": {},
     "output_type": "execute_result"
    }
   ],
   "source": [
    "torch.mean(abs(sample_exagg_preds - eq_preds))"
   ]
  },
  {
   "cell_type": "markdown",
   "id": "5cd3f0ab",
   "metadata": {},
   "source": [
    "#### Medium"
   ]
  },
  {
   "cell_type": "code",
   "execution_count": 495,
   "id": "60db0e57",
   "metadata": {},
   "outputs": [],
   "source": [
    "q_los = [X_train_sample_eq[column].quantile(q=1/4) for column in columns_horse1]\n",
    "q_his = [X_train_sample_eq[column].quantile(q=3/4) for column in columns_horse1]"
   ]
  },
  {
   "cell_type": "code",
   "execution_count": 496,
   "id": "509ba74d",
   "metadata": {},
   "outputs": [
    {
     "data": {
      "text/plain": [
       "[0.075,\n",
       " 0.075,\n",
       " 0.075,\n",
       " 0.8027634010029951,\n",
       " 0.8026853647620468,\n",
       " 0.7831080800099801]"
      ]
     },
     "execution_count": 496,
     "metadata": {},
     "output_type": "execute_result"
    }
   ],
   "source": [
    "q_los"
   ]
  },
  {
   "cell_type": "code",
   "execution_count": 497,
   "id": "787c2c74",
   "metadata": {},
   "outputs": [
    {
     "data": {
      "text/plain": [
       "[0.225,\n",
       " 0.225,\n",
       " 0.225,\n",
       " 0.8168879606146501,\n",
       " 0.8168879606146501,\n",
       " 0.7970397486714913]"
      ]
     },
     "execution_count": 497,
     "metadata": {},
     "output_type": "execute_result"
    }
   ],
   "source": [
    "q_his"
   ]
  },
  {
   "cell_type": "code",
   "execution_count": 498,
   "id": "9e1b7821",
   "metadata": {},
   "outputs": [
    {
     "data": {
      "text/plain": [
       "(80067, 144)"
      ]
     },
     "execution_count": 498,
     "metadata": {},
     "output_type": "execute_result"
    }
   ],
   "source": [
    "X_train_sample_exagg = X_train_sample_eq.copy()\n",
    "X_train_sample_exagg.shape"
   ]
  },
  {
   "cell_type": "code",
   "execution_count": 499,
   "id": "896da94a",
   "metadata": {},
   "outputs": [],
   "source": [
    "for column, q_lo in zip(columns_horse1, q_los):\n",
    "    X_train_sample_exagg[column] = q_lo"
   ]
  },
  {
   "cell_type": "code",
   "execution_count": 500,
   "id": "2b4e6ce5",
   "metadata": {},
   "outputs": [],
   "source": [
    "for column, q_hi in zip(columns_horse2, q_his):\n",
    "    X_train_sample_exagg[column] = q_hi"
   ]
  },
  {
   "cell_type": "code",
   "execution_count": 501,
   "id": "21a01cf3",
   "metadata": {},
   "outputs": [],
   "source": [
    "X_train_sample_exagg_tensor = torch.from_numpy(X_train_sample_exagg.to_numpy()).float().to(device)"
   ]
  },
  {
   "cell_type": "code",
   "execution_count": 502,
   "id": "f2e9b62c",
   "metadata": {},
   "outputs": [],
   "source": [
    "with torch.no_grad():\n",
    "    sample_exagg_preds = torch.sigmoid(net.forward(X_train_sample_exagg_tensor))"
   ]
  },
  {
   "cell_type": "code",
   "execution_count": 503,
   "id": "fa7f84b8",
   "metadata": {},
   "outputs": [
    {
     "data": {
      "text/plain": [
       "array([[0.6265868 ],\n",
       "       [0.6902128 ],\n",
       "       [0.55221534],\n",
       "       ...,\n",
       "       [0.56765777],\n",
       "       [0.5755719 ],\n",
       "       [0.65668684]], dtype=float32)"
      ]
     },
     "execution_count": 503,
     "metadata": {},
     "output_type": "execute_result"
    }
   ],
   "source": [
    "sample_exagg_preds.numpy()"
   ]
  },
  {
   "cell_type": "code",
   "execution_count": 504,
   "id": "f4a2b6fe",
   "metadata": {
    "scrolled": true
   },
   "outputs": [
    {
     "data": {
      "text/plain": [
       "tensor(0.6224)"
      ]
     },
     "execution_count": 504,
     "metadata": {},
     "output_type": "execute_result"
    }
   ],
   "source": [
    "torch.mean(sample_exagg_preds)"
   ]
  },
  {
   "cell_type": "code",
   "execution_count": 505,
   "id": "b29eb955",
   "metadata": {},
   "outputs": [
    {
     "data": {
      "text/plain": [
       "(array([3.0000e+00, 1.3000e+01, 2.6000e+01, 7.9000e+01, 7.0400e+02,\n",
       "        8.6020e+03, 4.3021e+04, 2.5707e+04, 1.7770e+03, 1.3500e+02]),\n",
       " array([0.05585134, 0.13994117, 0.224031  , 0.30812085, 0.39221066,\n",
       "        0.4763005 , 0.56039035, 0.64448017, 0.72857   , 0.81265986,\n",
       "        0.8967497 ], dtype=float32),\n",
       " <BarContainer object of 10 artists>)"
      ]
     },
     "execution_count": 505,
     "metadata": {},
     "output_type": "execute_result"
    },
    {
     "data": {
      "image/png": "[encoded data removed]",
      "text/plain": [
       "<Figure size 432x288 with 1 Axes>"
      ]
     },
     "metadata": {
      "needs_background": "light"
     },
     "output_type": "display_data"
    }
   ],
   "source": [
    "plt.hist(sample_exagg_preds.numpy())"
   ]
  },
  {
   "cell_type": "code",
   "execution_count": 506,
   "id": "3f8029f0",
   "metadata": {},
   "outputs": [
    {
     "data": {
      "text/plain": [
       "tensor(0.0161)"
      ]
     },
     "execution_count": 506,
     "metadata": {},
     "output_type": "execute_result"
    }
   ],
   "source": [
    "torch.mean(abs(sample_exagg_preds - eq_preds))"
   ]
  },
  {
   "cell_type": "markdown",
   "id": "208ebdab",
   "metadata": {},
   "source": [
    "#### High"
   ]
  },
  {
   "cell_type": "code",
   "execution_count": 507,
   "id": "0ea0da76",
   "metadata": {},
   "outputs": [],
   "source": [
    "q_los = [X_train_sample_eq[column].quantile(q=1/5) for column in columns_horse1]\n",
    "q_his = [X_train_sample_eq[column].quantile(q=4/5) for column in columns_horse1]"
   ]
  },
  {
   "cell_type": "code",
   "execution_count": 508,
   "id": "5ef5fc26",
   "metadata": {},
   "outputs": [
    {
     "data": {
      "text/plain": [
       "[0.075, 0.075, 0.075, 0.8017554328907454, 0.801754557017755, 0.782199974421551]"
      ]
     },
     "execution_count": 508,
     "metadata": {},
     "output_type": "execute_result"
    }
   ],
   "source": [
    "q_los"
   ]
  },
  {
   "cell_type": "code",
   "execution_count": 509,
   "id": "50f14a9f",
   "metadata": {},
   "outputs": [
    {
     "data": {
      "text/plain": [
       "[0.25, 0.25, 0.25, 0.8196213060580584, 0.8199207540573593, 0.7999211612291369]"
      ]
     },
     "execution_count": 509,
     "metadata": {},
     "output_type": "execute_result"
    }
   ],
   "source": [
    "q_his"
   ]
  },
  {
   "cell_type": "code",
   "execution_count": 510,
   "id": "ce262064",
   "metadata": {},
   "outputs": [
    {
     "data": {
      "text/plain": [
       "(80067, 144)"
      ]
     },
     "execution_count": 510,
     "metadata": {},
     "output_type": "execute_result"
    }
   ],
   "source": [
    "X_train_sample_exagg = X_train_sample_eq.copy()\n",
    "X_train_sample_exagg.shape"
   ]
  },
  {
   "cell_type": "code",
   "execution_count": 511,
   "id": "661e8642",
   "metadata": {},
   "outputs": [],
   "source": [
    "for column, q_lo in zip(columns_horse1, q_los):\n",
    "    X_train_sample_exagg[column] = q_lo"
   ]
  },
  {
   "cell_type": "code",
   "execution_count": 512,
   "id": "e5fb8b63",
   "metadata": {},
   "outputs": [],
   "source": [
    "for column, q_hi in zip(columns_horse2, q_his):\n",
    "    X_train_sample_exagg[column] = q_hi"
   ]
  },
  {
   "cell_type": "code",
   "execution_count": 513,
   "id": "c66d0a1e",
   "metadata": {},
   "outputs": [],
   "source": [
    "X_train_sample_exagg_tensor = torch.from_numpy(X_train_sample_exagg.to_numpy()).float().to(device)"
   ]
  },
  {
   "cell_type": "code",
   "execution_count": 514,
   "id": "c0244166",
   "metadata": {},
   "outputs": [],
   "source": [
    "with torch.no_grad():\n",
    "    sample_exagg_preds = torch.sigmoid(net.forward(X_train_sample_exagg_tensor))"
   ]
  },
  {
   "cell_type": "code",
   "execution_count": 515,
   "id": "0dcca6c1",
   "metadata": {},
   "outputs": [
    {
     "data": {
      "text/plain": [
       "array([[0.62533   ],\n",
       "       [0.68906343],\n",
       "       [0.54872733],\n",
       "       ...,\n",
       "       [0.5641949 ],\n",
       "       [0.5721249 ],\n",
       "       [0.6535017 ]], dtype=float32)"
      ]
     },
     "execution_count": 515,
     "metadata": {},
     "output_type": "execute_result"
    }
   ],
   "source": [
    "sample_exagg_preds.numpy()"
   ]
  },
  {
   "cell_type": "code",
   "execution_count": 516,
   "id": "56964cd7",
   "metadata": {
    "scrolled": true
   },
   "outputs": [
    {
     "data": {
      "text/plain": [
       "tensor(0.6204)"
      ]
     },
     "execution_count": 516,
     "metadata": {},
     "output_type": "execute_result"
    }
   ],
   "source": [
    "torch.mean(sample_exagg_preds)"
   ]
  },
  {
   "cell_type": "code",
   "execution_count": 517,
   "id": "cfa39b3d",
   "metadata": {},
   "outputs": [
    {
     "data": {
      "text/plain": [
       "(array([3.0000e+00, 1.3000e+01, 2.7000e+01, 8.0000e+01, 7.3800e+02,\n",
       "        9.3280e+03, 4.3079e+04, 2.4953e+04, 1.7130e+03, 1.3300e+02]),\n",
       " array([0.05631335, 0.14030717, 0.224301  , 0.30829483, 0.39228866,\n",
       "        0.47628248, 0.5602763 , 0.6442701 , 0.728264  , 0.81225777,\n",
       "        0.8962516 ], dtype=float32),\n",
       " <BarContainer object of 10 artists>)"
      ]
     },
     "execution_count": 517,
     "metadata": {},
     "output_type": "execute_result"
    },
    {
     "data": {
      "image/png": "[encoded data removed]",
      "text/plain": [
       "<Figure size 432x288 with 1 Axes>"
      ]
     },
     "metadata": {
      "needs_background": "light"
     },
     "output_type": "display_data"
    }
   ],
   "source": [
    "plt.hist(sample_exagg_preds.numpy())"
   ]
  },
  {
   "cell_type": "code",
   "execution_count": 519,
   "id": "bc6e612f",
   "metadata": {},
   "outputs": [
    {
     "data": {
      "text/plain": [
       "tensor(0.0165)"
      ]
     },
     "execution_count": 519,
     "metadata": {},
     "output_type": "execute_result"
    }
   ],
   "source": [
    "torch.mean(abs(sample_exagg_preds - eq_preds))"
   ]
  },
  {
   "cell_type": "markdown",
   "id": "eae90db5",
   "metadata": {},
   "source": [
    "### Month Races"
   ]
  },
  {
   "cell_type": "code",
   "execution_count": 520,
   "id": "cace7469",
   "metadata": {},
   "outputs": [],
   "source": [
    "columns_horse1 = [\n",
    "    'horse1_jockey_prev_1_position_month',\n",
    "    'horse1_jockey_prev_2_position_month',\n",
    "    'horse1_jockey_prev_3_position_month',\n",
    "    'horse1_jockey_prev_1_finishing_time_ratio_month',\n",
    "    'horse1_jockey_prev_2_finishing_time_ratio_month',\n",
    "    'horse1_jockey_prev_3_finishing_time_ratio_month',\n",
    "]"
   ]
  },
  {
   "cell_type": "code",
   "execution_count": 521,
   "id": "c23b4652",
   "metadata": {},
   "outputs": [],
   "source": [
    "columns_horse2 = [\n",
    "    'horse2_jockey_prev_1_position_month',\n",
    "    'horse2_jockey_prev_2_position_month',\n",
    "    'horse2_jockey_prev_3_position_month',\n",
    "    'horse2_jockey_prev_1_finishing_time_ratio_month',\n",
    "    'horse2_jockey_prev_2_finishing_time_ratio_month',\n",
    "    'horse2_jockey_prev_3_finishing_time_ratio_month',\n",
    "]"
   ]
  },
  {
   "cell_type": "markdown",
   "id": "d822b507",
   "metadata": {},
   "source": [
    "#### Small"
   ]
  },
  {
   "cell_type": "code",
   "execution_count": 522,
   "id": "7b68c867",
   "metadata": {},
   "outputs": [],
   "source": [
    "q_los = [X_train_sample_eq[column].quantile(q=1/3) for column in columns_horse1]\n",
    "q_his = [X_train_sample_eq[column].quantile(q=2/3) for column in columns_horse1]"
   ]
  },
  {
   "cell_type": "code",
   "execution_count": 523,
   "id": "53ca3593",
   "metadata": {},
   "outputs": [
    {
     "data": {
      "text/plain": [
       "[0.1, 0.1, 0.1, 0.7846141171896565, 0.7846208144331395, 0.8042290520687826]"
      ]
     },
     "execution_count": 523,
     "metadata": {},
     "output_type": "execute_result"
    }
   ],
   "source": [
    "q_los"
   ]
  },
  {
   "cell_type": "code",
   "execution_count": 524,
   "id": "1bfd3008",
   "metadata": {},
   "outputs": [
    {
     "data": {
      "text/plain": [
       "[0.175,\n",
       " 0.175,\n",
       " 0.175,\n",
       " 0.7930934861844718,\n",
       " 0.7931210070975826,\n",
       " 0.8130474627565484]"
      ]
     },
     "execution_count": 524,
     "metadata": {},
     "output_type": "execute_result"
    }
   ],
   "source": [
    "q_his"
   ]
  },
  {
   "cell_type": "code",
   "execution_count": 525,
   "id": "71a31774",
   "metadata": {},
   "outputs": [
    {
     "data": {
      "text/plain": [
       "(80067, 144)"
      ]
     },
     "execution_count": 525,
     "metadata": {},
     "output_type": "execute_result"
    }
   ],
   "source": [
    "X_train_sample_exagg = X_train_sample_eq.copy()\n",
    "X_train_sample_exagg.shape"
   ]
  },
  {
   "cell_type": "code",
   "execution_count": 526,
   "id": "23f95cfa",
   "metadata": {},
   "outputs": [],
   "source": [
    "for column, q_lo in zip(columns_horse1, q_los):\n",
    "    X_train_sample_exagg[column] = q_lo"
   ]
  },
  {
   "cell_type": "code",
   "execution_count": 527,
   "id": "69ec4a87",
   "metadata": {},
   "outputs": [],
   "source": [
    "for column, q_hi in zip(columns_horse2, q_his):\n",
    "    X_train_sample_exagg[column] = q_hi"
   ]
  },
  {
   "cell_type": "code",
   "execution_count": 528,
   "id": "094fcdd5",
   "metadata": {},
   "outputs": [],
   "source": [
    "X_train_sample_exagg_tensor = torch.from_numpy(X_train_sample_exagg.to_numpy()).float().to(device)"
   ]
  },
  {
   "cell_type": "code",
   "execution_count": 529,
   "id": "ce7c16c8",
   "metadata": {},
   "outputs": [],
   "source": [
    "with torch.no_grad():\n",
    "    sample_exagg_preds = torch.sigmoid(net.forward(X_train_sample_exagg_tensor))"
   ]
  },
  {
   "cell_type": "code",
   "execution_count": 530,
   "id": "3f10538b",
   "metadata": {},
   "outputs": [
    {
     "data": {
      "text/plain": [
       "array([[0.61242455],\n",
       "       [0.6594578 ],\n",
       "       [0.55008614],\n",
       "       ...,\n",
       "       [0.56222796],\n",
       "       [0.4755333 ],\n",
       "       [0.6485015 ]], dtype=float32)"
      ]
     },
     "execution_count": 530,
     "metadata": {},
     "output_type": "execute_result"
    }
   ],
   "source": [
    "sample_exagg_preds.numpy()"
   ]
  },
  {
   "cell_type": "code",
   "execution_count": 531,
   "id": "2c01e6c4",
   "metadata": {
    "scrolled": true
   },
   "outputs": [
    {
     "data": {
      "text/plain": [
       "tensor(0.6082)"
      ]
     },
     "execution_count": 531,
     "metadata": {},
     "output_type": "execute_result"
    }
   ],
   "source": [
    "torch.mean(sample_exagg_preds)"
   ]
  },
  {
   "cell_type": "code",
   "execution_count": 532,
   "id": "ce1b2583",
   "metadata": {},
   "outputs": [
    {
     "data": {
      "text/plain": [
       "(array([4.0000e+00, 1.1000e+01, 6.0000e+01, 1.9800e+02, 1.1380e+03,\n",
       "        7.3020e+03, 3.8530e+04, 3.0256e+04, 2.4720e+03, 9.6000e+01]),\n",
       " array([0.04965964, 0.13169828, 0.2137369 , 0.29577556, 0.3778142 ,\n",
       "        0.4598528 , 0.54189146, 0.6239301 , 0.70596874, 0.7880074 ,\n",
       "        0.870046  ], dtype=float32),\n",
       " <BarContainer object of 10 artists>)"
      ]
     },
     "execution_count": 532,
     "metadata": {},
     "output_type": "execute_result"
    },
    {
     "data": {
      "image/png": "[encoded data removed]",
      "text/plain": [
       "<Figure size 432x288 with 1 Axes>"
      ]
     },
     "metadata": {
      "needs_background": "light"
     },
     "output_type": "display_data"
    }
   ],
   "source": [
    "plt.hist(sample_exagg_preds.numpy())"
   ]
  },
  {
   "cell_type": "code",
   "execution_count": 533,
   "id": "0931bc40",
   "metadata": {},
   "outputs": [
    {
     "data": {
      "text/plain": [
       "tensor(0.0156)"
      ]
     },
     "execution_count": 533,
     "metadata": {},
     "output_type": "execute_result"
    }
   ],
   "source": [
    "torch.mean(abs(sample_exagg_preds - eq_preds))"
   ]
  },
  {
   "cell_type": "markdown",
   "id": "41d8112e",
   "metadata": {},
   "source": [
    "#### Medium"
   ]
  },
  {
   "cell_type": "code",
   "execution_count": 534,
   "id": "9df26a2a",
   "metadata": {},
   "outputs": [],
   "source": [
    "q_los = [X_train_sample_eq[column].quantile(q=1/4) for column in columns_horse1]\n",
    "q_his = [X_train_sample_eq[column].quantile(q=3/4) for column in columns_horse1]"
   ]
  },
  {
   "cell_type": "code",
   "execution_count": 535,
   "id": "6de2e863",
   "metadata": {},
   "outputs": [
    {
     "data": {
      "text/plain": [
       "[0.075,\n",
       " 0.075,\n",
       " 0.075,\n",
       " 0.7829666902316295,\n",
       " 0.7829927883831421,\n",
       " 0.8025404403145713]"
      ]
     },
     "execution_count": 535,
     "metadata": {},
     "output_type": "execute_result"
    }
   ],
   "source": [
    "q_los"
   ]
  },
  {
   "cell_type": "code",
   "execution_count": 536,
   "id": "00d606f4",
   "metadata": {},
   "outputs": [
    {
     "data": {
      "text/plain": [
       "[0.2, 0.2, 0.2, 0.7964694140641242, 0.7966756331208951, 0.8167505120709286]"
      ]
     },
     "execution_count": 536,
     "metadata": {},
     "output_type": "execute_result"
    }
   ],
   "source": [
    "q_his"
   ]
  },
  {
   "cell_type": "code",
   "execution_count": 537,
   "id": "f3aa9aff",
   "metadata": {},
   "outputs": [
    {
     "data": {
      "text/plain": [
       "(80067, 144)"
      ]
     },
     "execution_count": 537,
     "metadata": {},
     "output_type": "execute_result"
    }
   ],
   "source": [
    "X_train_sample_exagg = X_train_sample_eq.copy()\n",
    "X_train_sample_exagg.shape"
   ]
  },
  {
   "cell_type": "code",
   "execution_count": 538,
   "id": "8ab4e3c6",
   "metadata": {},
   "outputs": [],
   "source": [
    "for column, q_lo in zip(columns_horse1, q_los):\n",
    "    X_train_sample_exagg[column] = q_lo"
   ]
  },
  {
   "cell_type": "code",
   "execution_count": 539,
   "id": "8ca5e224",
   "metadata": {},
   "outputs": [],
   "source": [
    "for column, q_hi in zip(columns_horse2, q_his):\n",
    "    X_train_sample_exagg[column] = q_hi"
   ]
  },
  {
   "cell_type": "code",
   "execution_count": 540,
   "id": "862b88a0",
   "metadata": {},
   "outputs": [],
   "source": [
    "X_train_sample_exagg_tensor = torch.from_numpy(X_train_sample_exagg.to_numpy()).float().to(device)"
   ]
  },
  {
   "cell_type": "code",
   "execution_count": 541,
   "id": "fdd8cb5d",
   "metadata": {},
   "outputs": [],
   "source": [
    "with torch.no_grad():\n",
    "    sample_exagg_preds = torch.sigmoid(net.forward(X_train_sample_exagg_tensor))"
   ]
  },
  {
   "cell_type": "code",
   "execution_count": 542,
   "id": "82ad36b9",
   "metadata": {},
   "outputs": [
    {
     "data": {
      "text/plain": [
       "array([[0.6074074 ],\n",
       "       [0.65470624],\n",
       "       [0.54653674],\n",
       "       ...,\n",
       "       [0.55869687],\n",
       "       [0.47195917],\n",
       "       [0.645227  ]], dtype=float32)"
      ]
     },
     "execution_count": 542,
     "metadata": {},
     "output_type": "execute_result"
    }
   ],
   "source": [
    "sample_exagg_preds.numpy()"
   ]
  },
  {
   "cell_type": "code",
   "execution_count": 543,
   "id": "6af1c95b",
   "metadata": {
    "scrolled": true
   },
   "outputs": [
    {
     "data": {
      "text/plain": [
       "tensor(0.6040)"
      ]
     },
     "execution_count": 543,
     "metadata": {},
     "output_type": "execute_result"
    }
   ],
   "source": [
    "torch.mean(sample_exagg_preds)"
   ]
  },
  {
   "cell_type": "code",
   "execution_count": 544,
   "id": "14293019",
   "metadata": {},
   "outputs": [
    {
     "data": {
      "text/plain": [
       "(array([4.0000e+00, 1.2000e+01, 6.2000e+01, 2.0800e+02, 1.1970e+03,\n",
       "        7.7020e+03, 3.9669e+04, 2.8838e+04, 2.2870e+03, 8.8000e+01]),\n",
       " array([0.04934194, 0.13117206, 0.21300218, 0.2948323 , 0.3766624 ,\n",
       "        0.45849252, 0.54032266, 0.62215275, 0.7039829 , 0.785813  ,\n",
       "        0.8676431 ], dtype=float32),\n",
       " <BarContainer object of 10 artists>)"
      ]
     },
     "execution_count": 544,
     "metadata": {},
     "output_type": "execute_result"
    },
    {
     "data": {
      "image/png": "[encoded data removed]",
      "text/plain": [
       "<Figure size 432x288 with 1 Axes>"
      ]
     },
     "metadata": {
      "needs_background": "light"
     },
     "output_type": "display_data"
    }
   ],
   "source": [
    "plt.hist(sample_exagg_preds.numpy())"
   ]
  },
  {
   "cell_type": "code",
   "execution_count": 545,
   "id": "1df6d42a",
   "metadata": {},
   "outputs": [
    {
     "data": {
      "text/plain": [
       "tensor(0.0179)"
      ]
     },
     "execution_count": 545,
     "metadata": {},
     "output_type": "execute_result"
    }
   ],
   "source": [
    "torch.mean(abs(sample_exagg_preds - eq_preds))"
   ]
  },
  {
   "cell_type": "markdown",
   "id": "def51ad3",
   "metadata": {},
   "source": [
    "#### High"
   ]
  },
  {
   "cell_type": "code",
   "execution_count": 546,
   "id": "33a17a76",
   "metadata": {},
   "outputs": [],
   "source": [
    "q_los = [X_train_sample_eq[column].quantile(q=1/5) for column in columns_horse1]\n",
    "q_his = [X_train_sample_eq[column].quantile(q=4/5) for column in columns_horse1]"
   ]
  },
  {
   "cell_type": "code",
   "execution_count": 547,
   "id": "c3773600",
   "metadata": {},
   "outputs": [
    {
     "data": {
      "text/plain": [
       "[0.05, 0.05, 0.05, 0.782023198885685, 0.782023198885685, 0.8015733621876803]"
      ]
     },
     "execution_count": 547,
     "metadata": {},
     "output_type": "execute_result"
    }
   ],
   "source": [
    "q_los"
   ]
  },
  {
   "cell_type": "code",
   "execution_count": 548,
   "id": "0355c7c2",
   "metadata": {},
   "outputs": [
    {
     "data": {
      "text/plain": [
       "[0.225,\n",
       " 0.225,\n",
       " 0.225,\n",
       " 0.7992265147419635,\n",
       " 0.7994385994094895,\n",
       " 0.8195411928068946]"
      ]
     },
     "execution_count": 548,
     "metadata": {},
     "output_type": "execute_result"
    }
   ],
   "source": [
    "q_his"
   ]
  },
  {
   "cell_type": "code",
   "execution_count": 549,
   "id": "de82b781",
   "metadata": {},
   "outputs": [
    {
     "data": {
      "text/plain": [
       "(80067, 144)"
      ]
     },
     "execution_count": 549,
     "metadata": {},
     "output_type": "execute_result"
    }
   ],
   "source": [
    "X_train_sample_exagg = X_train_sample_eq.copy()\n",
    "X_train_sample_exagg.shape"
   ]
  },
  {
   "cell_type": "code",
   "execution_count": 550,
   "id": "2a55e806",
   "metadata": {},
   "outputs": [],
   "source": [
    "for column, q_lo in zip(columns_horse1, q_los):\n",
    "    X_train_sample_exagg[column] = q_lo"
   ]
  },
  {
   "cell_type": "code",
   "execution_count": 551,
   "id": "5861b155",
   "metadata": {},
   "outputs": [],
   "source": [
    "for column, q_hi in zip(columns_horse2, q_his):\n",
    "    X_train_sample_exagg[column] = q_hi"
   ]
  },
  {
   "cell_type": "code",
   "execution_count": 552,
   "id": "62eec249",
   "metadata": {},
   "outputs": [],
   "source": [
    "X_train_sample_exagg_tensor = torch.from_numpy(X_train_sample_exagg.to_numpy()).float().to(device)"
   ]
  },
  {
   "cell_type": "code",
   "execution_count": 553,
   "id": "f13085d7",
   "metadata": {},
   "outputs": [],
   "source": [
    "with torch.no_grad():\n",
    "    sample_exagg_preds = torch.sigmoid(net.forward(X_train_sample_exagg_tensor))"
   ]
  },
  {
   "cell_type": "code",
   "execution_count": 554,
   "id": "fa219d41",
   "metadata": {},
   "outputs": [
    {
     "data": {
      "text/plain": [
       "array([[0.60250247],\n",
       "       [0.65005165],\n",
       "       [0.5430299 ],\n",
       "       ...,\n",
       "       [0.5552072 ],\n",
       "       [0.4684366 ],\n",
       "       [0.6419831 ]], dtype=float32)"
      ]
     },
     "execution_count": 554,
     "metadata": {},
     "output_type": "execute_result"
    }
   ],
   "source": [
    "sample_exagg_preds.numpy()"
   ]
  },
  {
   "cell_type": "code",
   "execution_count": 555,
   "id": "f9766c4d",
   "metadata": {
    "scrolled": true
   },
   "outputs": [
    {
     "data": {
      "text/plain": [
       "tensor(0.6000)"
      ]
     },
     "execution_count": 555,
     "metadata": {},
     "output_type": "execute_result"
    }
   ],
   "source": [
    "torch.mean(sample_exagg_preds)"
   ]
  },
  {
   "cell_type": "code",
   "execution_count": 556,
   "id": "de5f5fe5",
   "metadata": {},
   "outputs": [
    {
     "data": {
      "text/plain": [
       "(array([4.0000e+00, 1.2000e+01, 6.5000e+01, 2.1600e+02, 1.2620e+03,\n",
       "        8.1320e+03, 4.0787e+04, 2.7398e+04, 2.1080e+03, 8.3000e+01]),\n",
       " array([0.04904342, 0.13066591, 0.21228841, 0.2939109 , 0.3755334 ,\n",
       "        0.45715588, 0.53877836, 0.62040085, 0.7020234 , 0.78364587,\n",
       "        0.86526835], dtype=float32),\n",
       " <BarContainer object of 10 artists>)"
      ]
     },
     "execution_count": 556,
     "metadata": {},
     "output_type": "execute_result"
    },
    {
     "data": {
      "image/png": "[encoded data removed]",
      "text/plain": [
       "<Figure size 432x288 with 1 Axes>"
      ]
     },
     "metadata": {
      "needs_background": "light"
     },
     "output_type": "display_data"
    }
   ],
   "source": [
    "plt.hist(sample_exagg_preds.numpy())"
   ]
  },
  {
   "cell_type": "code",
   "execution_count": 557,
   "id": "355ee2ae",
   "metadata": {},
   "outputs": [
    {
     "data": {
      "text/plain": [
       "tensor(0.0207)"
      ]
     },
     "execution_count": 557,
     "metadata": {},
     "output_type": "execute_result"
    }
   ],
   "source": [
    "torch.mean(abs(sample_exagg_preds - eq_preds))"
   ]
  },
  {
   "cell_type": "markdown",
   "id": "5d202a1a",
   "metadata": {},
   "source": [
    "### Temp Races"
   ]
  },
  {
   "cell_type": "code",
   "execution_count": 559,
   "id": "c70e3b56",
   "metadata": {},
   "outputs": [],
   "source": [
    "columns_horse1 = [\n",
    "    'horse1_jockey_prev_1_position_temp',\n",
    "    'horse1_jockey_prev_2_position_temp',\n",
    "    'horse1_jockey_prev_3_position_temp',\n",
    "    'horse1_jockey_prev_1_finishing_time_ratio_temp',\n",
    "    'horse1_jockey_prev_2_finishing_time_ratio_temp',\n",
    "    'horse1_jockey_prev_3_finishing_time_ratio_temp',\n",
    "]"
   ]
  },
  {
   "cell_type": "code",
   "execution_count": 560,
   "id": "b335a494",
   "metadata": {},
   "outputs": [],
   "source": [
    "columns_horse2 = [\n",
    "    'horse2_jockey_prev_1_position_temp',\n",
    "    'horse2_jockey_prev_2_position_temp',\n",
    "    'horse2_jockey_prev_3_position_temp',\n",
    "    'horse2_jockey_prev_1_finishing_time_ratio_temp',\n",
    "    'horse2_jockey_prev_2_finishing_time_ratio_temp',\n",
    "    'horse2_jockey_prev_3_finishing_time_ratio_temp',\n",
    "]"
   ]
  },
  {
   "cell_type": "markdown",
   "id": "3f8abe5b",
   "metadata": {},
   "source": [
    "#### Small"
   ]
  },
  {
   "cell_type": "code",
   "execution_count": 561,
   "id": "b66efeef",
   "metadata": {},
   "outputs": [],
   "source": [
    "q_los = [X_train_sample_eq[column].quantile(q=1/3) for column in columns_horse1]\n",
    "q_his = [X_train_sample_eq[column].quantile(q=2/3) for column in columns_horse1]"
   ]
  },
  {
   "cell_type": "code",
   "execution_count": 562,
   "id": "8673287b",
   "metadata": {},
   "outputs": [
    {
     "data": {
      "text/plain": [
       "[0.1, 0.1, 0.1, 0.784592672682663, 0.7845926726826628, 0.784592672682663]"
      ]
     },
     "execution_count": 562,
     "metadata": {},
     "output_type": "execute_result"
    }
   ],
   "source": [
    "q_los"
   ]
  },
  {
   "cell_type": "code",
   "execution_count": 563,
   "id": "037762e6",
   "metadata": {},
   "outputs": [
    {
     "data": {
      "text/plain": [
       "[0.175,\n",
       " 0.175,\n",
       " 0.175,\n",
       " 0.7930765461886053,\n",
       " 0.7930428136790673,\n",
       " 0.7930053644945313]"
      ]
     },
     "execution_count": 563,
     "metadata": {},
     "output_type": "execute_result"
    }
   ],
   "source": [
    "q_his"
   ]
  },
  {
   "cell_type": "code",
   "execution_count": 564,
   "id": "870df188",
   "metadata": {},
   "outputs": [
    {
     "data": {
      "text/plain": [
       "(80067, 144)"
      ]
     },
     "execution_count": 564,
     "metadata": {},
     "output_type": "execute_result"
    }
   ],
   "source": [
    "X_train_sample_exagg = X_train_sample_eq.copy()\n",
    "X_train_sample_exagg.shape"
   ]
  },
  {
   "cell_type": "code",
   "execution_count": 565,
   "id": "1a5bde0e",
   "metadata": {},
   "outputs": [],
   "source": [
    "for column, q_lo in zip(columns_horse1, q_los):\n",
    "    X_train_sample_exagg[column] = q_lo"
   ]
  },
  {
   "cell_type": "code",
   "execution_count": 566,
   "id": "483e2417",
   "metadata": {},
   "outputs": [],
   "source": [
    "for column, q_hi in zip(columns_horse2, q_his):\n",
    "    X_train_sample_exagg[column] = q_hi"
   ]
  },
  {
   "cell_type": "code",
   "execution_count": 567,
   "id": "5fc5bfc2",
   "metadata": {},
   "outputs": [],
   "source": [
    "X_train_sample_exagg_tensor = torch.from_numpy(X_train_sample_exagg.to_numpy()).float().to(device)"
   ]
  },
  {
   "cell_type": "code",
   "execution_count": 568,
   "id": "304b9560",
   "metadata": {},
   "outputs": [],
   "source": [
    "with torch.no_grad():\n",
    "    sample_exagg_preds = torch.sigmoid(net.forward(X_train_sample_exagg_tensor))"
   ]
  },
  {
   "cell_type": "code",
   "execution_count": 569,
   "id": "d04eee85",
   "metadata": {},
   "outputs": [
    {
     "data": {
      "text/plain": [
       "array([[0.64654166],\n",
       "       [0.6619928 ],\n",
       "       [0.59519833],\n",
       "       ...,\n",
       "       [0.5548017 ],\n",
       "       [0.47086886],\n",
       "       [0.6914359 ]], dtype=float32)"
      ]
     },
     "execution_count": 569,
     "metadata": {},
     "output_type": "execute_result"
    }
   ],
   "source": [
    "sample_exagg_preds.numpy()"
   ]
  },
  {
   "cell_type": "code",
   "execution_count": 570,
   "id": "7bcb2d9d",
   "metadata": {
    "scrolled": true
   },
   "outputs": [
    {
     "data": {
      "text/plain": [
       "tensor(0.6245)"
      ]
     },
     "execution_count": 570,
     "metadata": {},
     "output_type": "execute_result"
    }
   ],
   "source": [
    "torch.mean(sample_exagg_preds)"
   ]
  },
  {
   "cell_type": "code",
   "execution_count": 571,
   "id": "063cb3e9",
   "metadata": {},
   "outputs": [
    {
     "data": {
      "text/plain": [
       "(array([4.0000e+00, 1.0000e+01, 3.2000e+01, 1.3500e+02, 8.4100e+02,\n",
       "        6.2820e+03, 4.3306e+04, 2.7344e+04, 1.9730e+03, 1.4000e+02]),\n",
       " array([0.05214136, 0.13646436, 0.22078736, 0.30511037, 0.38943335,\n",
       "        0.47375637, 0.55807936, 0.64240235, 0.7267254 , 0.8110484 ,\n",
       "        0.8953714 ], dtype=float32),\n",
       " <BarContainer object of 10 artists>)"
      ]
     },
     "execution_count": 571,
     "metadata": {},
     "output_type": "execute_result"
    },
    {
     "data": {
      "image/png": "[encoded data removed]",
      "text/plain": [
       "<Figure size 432x288 with 1 Axes>"
      ]
     },
     "metadata": {
      "needs_background": "light"
     },
     "output_type": "display_data"
    }
   ],
   "source": [
    "plt.hist(sample_exagg_preds.numpy())"
   ]
  },
  {
   "cell_type": "code",
   "execution_count": 572,
   "id": "6e361e66",
   "metadata": {},
   "outputs": [
    {
     "data": {
      "text/plain": [
       "tensor(0.0122)"
      ]
     },
     "execution_count": 572,
     "metadata": {},
     "output_type": "execute_result"
    }
   ],
   "source": [
    "torch.mean(abs(sample_exagg_preds - eq_preds))"
   ]
  },
  {
   "cell_type": "markdown",
   "id": "3a329c3c",
   "metadata": {},
   "source": [
    "#### Medium"
   ]
  },
  {
   "cell_type": "code",
   "execution_count": 573,
   "id": "b89a1f9b",
   "metadata": {},
   "outputs": [],
   "source": [
    "q_los = [X_train_sample_eq[column].quantile(q=1/4) for column in columns_horse1]\n",
    "q_his = [X_train_sample_eq[column].quantile(q=3/4) for column in columns_horse1]"
   ]
  },
  {
   "cell_type": "code",
   "execution_count": 574,
   "id": "836792af",
   "metadata": {},
   "outputs": [
    {
     "data": {
      "text/plain": [
       "[0.075,\n",
       " 0.075,\n",
       " 0.075,\n",
       " 0.7829666902316295,\n",
       " 0.7829666902316295,\n",
       " 0.7829666902316295]"
      ]
     },
     "execution_count": 574,
     "metadata": {},
     "output_type": "execute_result"
    }
   ],
   "source": [
    "q_los"
   ]
  },
  {
   "cell_type": "code",
   "execution_count": 575,
   "id": "e8102014",
   "metadata": {},
   "outputs": [
    {
     "data": {
      "text/plain": [
       "[0.2, 0.2, 0.2, 0.7964694140641242, 0.796627532720104, 0.796627532720104]"
      ]
     },
     "execution_count": 575,
     "metadata": {},
     "output_type": "execute_result"
    }
   ],
   "source": [
    "q_his"
   ]
  },
  {
   "cell_type": "code",
   "execution_count": 576,
   "id": "dedfa222",
   "metadata": {},
   "outputs": [
    {
     "data": {
      "text/plain": [
       "(80067, 144)"
      ]
     },
     "execution_count": 576,
     "metadata": {},
     "output_type": "execute_result"
    }
   ],
   "source": [
    "X_train_sample_exagg = X_train_sample_eq.copy()\n",
    "X_train_sample_exagg.shape"
   ]
  },
  {
   "cell_type": "code",
   "execution_count": 577,
   "id": "df834452",
   "metadata": {},
   "outputs": [],
   "source": [
    "for column, q_lo in zip(columns_horse1, q_los):\n",
    "    X_train_sample_exagg[column] = q_lo"
   ]
  },
  {
   "cell_type": "code",
   "execution_count": 578,
   "id": "e070d0b3",
   "metadata": {},
   "outputs": [],
   "source": [
    "for column, q_hi in zip(columns_horse2, q_his):\n",
    "    X_train_sample_exagg[column] = q_hi"
   ]
  },
  {
   "cell_type": "code",
   "execution_count": 579,
   "id": "dd15e603",
   "metadata": {},
   "outputs": [],
   "source": [
    "X_train_sample_exagg_tensor = torch.from_numpy(X_train_sample_exagg.to_numpy()).float().to(device)"
   ]
  },
  {
   "cell_type": "code",
   "execution_count": 580,
   "id": "e59147b7",
   "metadata": {},
   "outputs": [],
   "source": [
    "with torch.no_grad():\n",
    "    sample_exagg_preds = torch.sigmoid(net.forward(X_train_sample_exagg_tensor))"
   ]
  },
  {
   "cell_type": "code",
   "execution_count": 581,
   "id": "309c0b12",
   "metadata": {},
   "outputs": [
    {
     "data": {
      "text/plain": [
       "array([[0.6491838 ],\n",
       "       [0.6645794 ],\n",
       "       [0.6008732 ],\n",
       "       ...,\n",
       "       [0.56062543],\n",
       "       [0.47675428],\n",
       "       [0.69644994]], dtype=float32)"
      ]
     },
     "execution_count": 581,
     "metadata": {},
     "output_type": "execute_result"
    }
   ],
   "source": [
    "sample_exagg_preds.numpy()"
   ]
  },
  {
   "cell_type": "code",
   "execution_count": 582,
   "id": "af67ff3d",
   "metadata": {
    "scrolled": true
   },
   "outputs": [
    {
     "data": {
      "text/plain": [
       "tensor(0.6280)"
      ]
     },
     "execution_count": 582,
     "metadata": {},
     "output_type": "execute_result"
    }
   ],
   "source": [
    "torch.mean(sample_exagg_preds)"
   ]
  },
  {
   "cell_type": "code",
   "execution_count": 583,
   "id": "45cccfa6",
   "metadata": {},
   "outputs": [
    {
     "data": {
      "text/plain": [
       "(array([4.0000e+00, 1.0000e+01, 2.8000e+01, 1.3500e+02, 7.9100e+02,\n",
       "        5.5890e+03, 4.2181e+04, 2.9099e+04, 2.0830e+03, 1.4700e+02]),\n",
       " array([0.05155011, 0.13604024, 0.22053036, 0.30502048, 0.3895106 ,\n",
       "        0.47400072, 0.5584909 , 0.642981  , 0.7274711 , 0.81196123,\n",
       "        0.89645135], dtype=float32),\n",
       " <BarContainer object of 10 artists>)"
      ]
     },
     "execution_count": 583,
     "metadata": {},
     "output_type": "execute_result"
    },
    {
     "data": {
      "image/png": "[encoded data removed]",
      "text/plain": [
       "<Figure size 432x288 with 1 Axes>"
      ]
     },
     "metadata": {
      "needs_background": "light"
     },
     "output_type": "display_data"
    }
   ],
   "source": [
    "plt.hist(sample_exagg_preds.numpy())"
   ]
  },
  {
   "cell_type": "code",
   "execution_count": 584,
   "id": "4f9329dd",
   "metadata": {},
   "outputs": [
    {
     "data": {
      "text/plain": [
       "tensor(0.0142)"
      ]
     },
     "execution_count": 584,
     "metadata": {},
     "output_type": "execute_result"
    }
   ],
   "source": [
    "torch.mean(abs(sample_exagg_preds - eq_preds))"
   ]
  },
  {
   "cell_type": "markdown",
   "id": "947896e4",
   "metadata": {},
   "source": [
    "#### High"
   ]
  },
  {
   "cell_type": "code",
   "execution_count": 585,
   "id": "edc0cb8f",
   "metadata": {},
   "outputs": [],
   "source": [
    "q_los = [X_train_sample_eq[column].quantile(q=1/5) for column in columns_horse1]\n",
    "q_his = [X_train_sample_eq[column].quantile(q=4/5) for column in columns_horse1]"
   ]
  },
  {
   "cell_type": "code",
   "execution_count": 586,
   "id": "90d494bf",
   "metadata": {},
   "outputs": [
    {
     "data": {
      "text/plain": [
       "[0.05, 0.05, 0.05, 0.782023198885685, 0.782023198885685, 0.7819938664458573]"
      ]
     },
     "execution_count": 586,
     "metadata": {},
     "output_type": "execute_result"
    }
   ],
   "source": [
    "q_los"
   ]
  },
  {
   "cell_type": "code",
   "execution_count": 587,
   "id": "2d3d5d2a",
   "metadata": {},
   "outputs": [
    {
     "data": {
      "text/plain": [
       "[0.225,\n",
       " 0.225,\n",
       " 0.225,\n",
       " 0.7992265147419635,\n",
       " 0.7993729820537908,\n",
       " 0.7994385994094895]"
      ]
     },
     "execution_count": 587,
     "metadata": {},
     "output_type": "execute_result"
    }
   ],
   "source": [
    "q_his"
   ]
  },
  {
   "cell_type": "code",
   "execution_count": 588,
   "id": "34685e56",
   "metadata": {},
   "outputs": [
    {
     "data": {
      "text/plain": [
       "(80067, 144)"
      ]
     },
     "execution_count": 588,
     "metadata": {},
     "output_type": "execute_result"
    }
   ],
   "source": [
    "X_train_sample_exagg = X_train_sample_eq.copy()\n",
    "X_train_sample_exagg.shape"
   ]
  },
  {
   "cell_type": "code",
   "execution_count": 589,
   "id": "915d0d73",
   "metadata": {},
   "outputs": [],
   "source": [
    "for column, q_lo in zip(columns_horse1, q_los):\n",
    "    X_train_sample_exagg[column] = q_lo"
   ]
  },
  {
   "cell_type": "code",
   "execution_count": 590,
   "id": "106ed87f",
   "metadata": {},
   "outputs": [],
   "source": [
    "for column, q_hi in zip(columns_horse2, q_his):\n",
    "    X_train_sample_exagg[column] = q_hi"
   ]
  },
  {
   "cell_type": "code",
   "execution_count": 591,
   "id": "523e371b",
   "metadata": {},
   "outputs": [],
   "source": [
    "X_train_sample_exagg_tensor = torch.from_numpy(X_train_sample_exagg.to_numpy()).float().to(device)"
   ]
  },
  {
   "cell_type": "code",
   "execution_count": 592,
   "id": "7493a8bb",
   "metadata": {},
   "outputs": [],
   "source": [
    "with torch.no_grad():\n",
    "    sample_exagg_preds = torch.sigmoid(net.forward(X_train_sample_exagg_tensor))"
   ]
  },
  {
   "cell_type": "code",
   "execution_count": 593,
   "id": "7bf71d83",
   "metadata": {},
   "outputs": [
    {
     "data": {
      "text/plain": [
       "array([[0.6517064 ],\n",
       "       [0.6670479 ],\n",
       "       [0.6063426 ],\n",
       "       ...,\n",
       "       [0.5662481 ],\n",
       "       [0.48246005],\n",
       "       [0.7012605 ]], dtype=float32)"
      ]
     },
     "execution_count": 593,
     "metadata": {},
     "output_type": "execute_result"
    }
   ],
   "source": [
    "sample_exagg_preds.numpy()"
   ]
  },
  {
   "cell_type": "code",
   "execution_count": 594,
   "id": "b167b746",
   "metadata": {
    "scrolled": true
   },
   "outputs": [
    {
     "data": {
      "text/plain": [
       "tensor(0.6314)"
      ]
     },
     "execution_count": 594,
     "metadata": {},
     "output_type": "execute_result"
    }
   ],
   "source": [
    "torch.mean(sample_exagg_preds)"
   ]
  },
  {
   "cell_type": "code",
   "execution_count": 595,
   "id": "a4e916c1",
   "metadata": {},
   "outputs": [
    {
     "data": {
      "text/plain": [
       "(array([4.0000e+00, 1.0000e+01, 2.7000e+01, 1.2300e+02, 7.6100e+02,\n",
       "        5.0700e+03, 4.0911e+04, 3.0813e+04, 2.1990e+03, 1.4900e+02]),\n",
       " array([0.05097797, 0.13562785, 0.22027774, 0.30492762, 0.3895775 ,\n",
       "        0.47422737, 0.5588773 , 0.64352715, 0.728177  , 0.81282693,\n",
       "        0.8974768 ], dtype=float32),\n",
       " <BarContainer object of 10 artists>)"
      ]
     },
     "execution_count": 595,
     "metadata": {},
     "output_type": "execute_result"
    },
    {
     "data": {
      "image/png": "[encoded data removed]",
      "text/plain": [
       "<Figure size 432x288 with 1 Axes>"
      ]
     },
     "metadata": {
      "needs_background": "light"
     },
     "output_type": "display_data"
    }
   ],
   "source": [
    "plt.hist(sample_exagg_preds.numpy())"
   ]
  },
  {
   "cell_type": "code",
   "execution_count": 596,
   "id": "f3b5b4b5",
   "metadata": {},
   "outputs": [
    {
     "data": {
      "text/plain": [
       "tensor(0.0166)"
      ]
     },
     "execution_count": 596,
     "metadata": {},
     "output_type": "execute_result"
    }
   ],
   "source": [
    "torch.mean(abs(sample_exagg_preds - eq_preds))"
   ]
  },
  {
   "cell_type": "markdown",
   "id": "712c2ced",
   "metadata": {},
   "source": [
    "### Pressure Races"
   ]
  },
  {
   "cell_type": "code",
   "execution_count": 598,
   "id": "4cba855b",
   "metadata": {},
   "outputs": [],
   "source": [
    "columns_horse1 = [\n",
    "    'horse1_jockey_prev_1_position_msl',\n",
    "    'horse1_jockey_prev_2_position_msl',\n",
    "    'horse1_jockey_prev_3_position_msl',\n",
    "    'horse1_jockey_prev_1_finishing_time_ratio_msl',\n",
    "    'horse1_jockey_prev_2_finishing_time_ratio_msl',\n",
    "    'horse1_jockey_prev_3_finishing_time_ratio_msl',\n",
    "]"
   ]
  },
  {
   "cell_type": "code",
   "execution_count": 599,
   "id": "3bc530be",
   "metadata": {},
   "outputs": [],
   "source": [
    "columns_horse2 = [\n",
    "    'horse2_jockey_prev_1_position_msl',\n",
    "    'horse2_jockey_prev_2_position_msl',\n",
    "    'horse2_jockey_prev_3_position_msl',\n",
    "    'horse2_jockey_prev_1_finishing_time_ratio_msl',\n",
    "    'horse2_jockey_prev_2_finishing_time_ratio_msl',\n",
    "    'horse2_jockey_prev_3_finishing_time_ratio_msl',\n",
    "]"
   ]
  },
  {
   "cell_type": "markdown",
   "id": "b9be3d83",
   "metadata": {},
   "source": [
    "#### Small"
   ]
  },
  {
   "cell_type": "code",
   "execution_count": 600,
   "id": "b482fcae",
   "metadata": {},
   "outputs": [],
   "source": [
    "q_los = [X_train_sample_eq[column].quantile(q=1/3) for column in columns_horse1]\n",
    "q_his = [X_train_sample_eq[column].quantile(q=2/3) for column in columns_horse1]"
   ]
  },
  {
   "cell_type": "code",
   "execution_count": 601,
   "id": "9ace33ca",
   "metadata": {},
   "outputs": [
    {
     "data": {
      "text/plain": [
       "[0.1, 0.1, 0.1, 0.7846208144331395, 0.784592672682663, 0.784592672682663]"
      ]
     },
     "execution_count": 601,
     "metadata": {},
     "output_type": "execute_result"
    }
   ],
   "source": [
    "q_los"
   ]
  },
  {
   "cell_type": "code",
   "execution_count": 602,
   "id": "458309b1",
   "metadata": {},
   "outputs": [
    {
     "data": {
      "text/plain": [
       "[0.175,\n",
       " 0.175,\n",
       " 0.175,\n",
       " 0.7930284840591358,\n",
       " 0.7931210070975826,\n",
       " 0.7930934861844718]"
      ]
     },
     "execution_count": 602,
     "metadata": {},
     "output_type": "execute_result"
    }
   ],
   "source": [
    "q_his"
   ]
  },
  {
   "cell_type": "code",
   "execution_count": 603,
   "id": "7d9d51c2",
   "metadata": {},
   "outputs": [
    {
     "data": {
      "text/plain": [
       "(80067, 144)"
      ]
     },
     "execution_count": 603,
     "metadata": {},
     "output_type": "execute_result"
    }
   ],
   "source": [
    "X_train_sample_exagg = X_train_sample_eq.copy()\n",
    "X_train_sample_exagg.shape"
   ]
  },
  {
   "cell_type": "code",
   "execution_count": 604,
   "id": "74131275",
   "metadata": {},
   "outputs": [],
   "source": [
    "for column, q_lo in zip(columns_horse1, q_los):\n",
    "    X_train_sample_exagg[column] = q_lo"
   ]
  },
  {
   "cell_type": "code",
   "execution_count": 605,
   "id": "872d27cd",
   "metadata": {},
   "outputs": [],
   "source": [
    "for column, q_hi in zip(columns_horse2, q_his):\n",
    "    X_train_sample_exagg[column] = q_hi"
   ]
  },
  {
   "cell_type": "code",
   "execution_count": 606,
   "id": "6297ab25",
   "metadata": {},
   "outputs": [],
   "source": [
    "X_train_sample_exagg_tensor = torch.from_numpy(X_train_sample_exagg.to_numpy()).float().to(device)"
   ]
  },
  {
   "cell_type": "code",
   "execution_count": 607,
   "id": "5a50601d",
   "metadata": {},
   "outputs": [],
   "source": [
    "with torch.no_grad():\n",
    "    sample_exagg_preds = torch.sigmoid(net.forward(X_train_sample_exagg_tensor))"
   ]
  },
  {
   "cell_type": "code",
   "execution_count": 608,
   "id": "c974575f",
   "metadata": {},
   "outputs": [
    {
     "data": {
      "text/plain": [
       "array([[0.64815044],\n",
       "       [0.6778773 ],\n",
       "       [0.5658314 ],\n",
       "       ...,\n",
       "       [0.5748251 ],\n",
       "       [0.48766237],\n",
       "       [0.6852933 ]], dtype=float32)"
      ]
     },
     "execution_count": 608,
     "metadata": {},
     "output_type": "execute_result"
    }
   ],
   "source": [
    "sample_exagg_preds.numpy()"
   ]
  },
  {
   "cell_type": "code",
   "execution_count": 609,
   "id": "f2e53176",
   "metadata": {
    "scrolled": true
   },
   "outputs": [
    {
     "data": {
      "text/plain": [
       "tensor(0.6281)"
      ]
     },
     "execution_count": 609,
     "metadata": {},
     "output_type": "execute_result"
    }
   ],
   "source": [
    "torch.mean(sample_exagg_preds)"
   ]
  },
  {
   "cell_type": "code",
   "execution_count": 610,
   "id": "203fe56a",
   "metadata": {},
   "outputs": [
    {
     "data": {
      "text/plain": [
       "(array([5.0000e+00, 9.0000e+00, 2.6000e+01, 1.5100e+02, 8.3700e+02,\n",
       "        5.6270e+03, 3.3776e+04, 3.6011e+04, 3.4810e+03, 1.4400e+02]),\n",
       " array([0.05316832, 0.13602246, 0.2188766 , 0.30173072, 0.38458487,\n",
       "        0.467439  , 0.55029315, 0.6331473 , 0.7160014 , 0.79885554,\n",
       "        0.8817097 ], dtype=float32),\n",
       " <BarContainer object of 10 artists>)"
      ]
     },
     "execution_count": 610,
     "metadata": {},
     "output_type": "execute_result"
    },
    {
     "data": {
      "image/png": "[encoded data removed]",
      "text/plain": [
       "<Figure size 432x288 with 1 Axes>"
      ]
     },
     "metadata": {
      "needs_background": "light"
     },
     "output_type": "display_data"
    }
   ],
   "source": [
    "plt.hist(sample_exagg_preds.numpy())"
   ]
  },
  {
   "cell_type": "code",
   "execution_count": 611,
   "id": "c73daee0",
   "metadata": {},
   "outputs": [
    {
     "data": {
      "text/plain": [
       "tensor(0.0136)"
      ]
     },
     "execution_count": 611,
     "metadata": {},
     "output_type": "execute_result"
    }
   ],
   "source": [
    "torch.mean(abs(sample_exagg_preds - eq_preds))"
   ]
  },
  {
   "cell_type": "markdown",
   "id": "339f330d",
   "metadata": {},
   "source": [
    "#### Medium"
   ]
  },
  {
   "cell_type": "code",
   "execution_count": 612,
   "id": "a2953892",
   "metadata": {},
   "outputs": [],
   "source": [
    "q_los = [X_train_sample_eq[column].quantile(q=1/4) for column in columns_horse1]\n",
    "q_his = [X_train_sample_eq[column].quantile(q=3/4) for column in columns_horse1]"
   ]
  },
  {
   "cell_type": "code",
   "execution_count": 613,
   "id": "4759b500",
   "metadata": {},
   "outputs": [
    {
     "data": {
      "text/plain": [
       "[0.075,\n",
       " 0.075,\n",
       " 0.075,\n",
       " 0.7829666902316295,\n",
       " 0.7829666902316295,\n",
       " 0.7829666902316295]"
      ]
     },
     "execution_count": 613,
     "metadata": {},
     "output_type": "execute_result"
    }
   ],
   "source": [
    "q_los"
   ]
  },
  {
   "cell_type": "code",
   "execution_count": 614,
   "id": "f1f021fd",
   "metadata": {},
   "outputs": [
    {
     "data": {
      "text/plain": [
       "[0.2, 0.2, 0.2, 0.7965210841633598, 0.7966265565989783, 0.796627532720104]"
      ]
     },
     "execution_count": 614,
     "metadata": {},
     "output_type": "execute_result"
    }
   ],
   "source": [
    "q_his"
   ]
  },
  {
   "cell_type": "code",
   "execution_count": 615,
   "id": "fb63fb03",
   "metadata": {},
   "outputs": [
    {
     "data": {
      "text/plain": [
       "(80067, 144)"
      ]
     },
     "execution_count": 615,
     "metadata": {},
     "output_type": "execute_result"
    }
   ],
   "source": [
    "X_train_sample_exagg = X_train_sample_eq.copy()\n",
    "X_train_sample_exagg.shape"
   ]
  },
  {
   "cell_type": "code",
   "execution_count": 616,
   "id": "5605e1d4",
   "metadata": {},
   "outputs": [],
   "source": [
    "for column, q_lo in zip(columns_horse1, q_los):\n",
    "    X_train_sample_exagg[column] = q_lo"
   ]
  },
  {
   "cell_type": "code",
   "execution_count": 617,
   "id": "0ce9419b",
   "metadata": {},
   "outputs": [],
   "source": [
    "for column, q_hi in zip(columns_horse2, q_his):\n",
    "    X_train_sample_exagg[column] = q_hi"
   ]
  },
  {
   "cell_type": "code",
   "execution_count": 618,
   "id": "f2c91e61",
   "metadata": {},
   "outputs": [],
   "source": [
    "X_train_sample_exagg_tensor = torch.from_numpy(X_train_sample_exagg.to_numpy()).float().to(device)"
   ]
  },
  {
   "cell_type": "code",
   "execution_count": 619,
   "id": "8cd25628",
   "metadata": {},
   "outputs": [],
   "source": [
    "with torch.no_grad():\n",
    "    sample_exagg_preds = torch.sigmoid(net.forward(X_train_sample_exagg_tensor))"
   ]
  },
  {
   "cell_type": "code",
   "execution_count": 620,
   "id": "8433266d",
   "metadata": {},
   "outputs": [
    {
     "data": {
      "text/plain": [
       "array([[0.658789  ],\n",
       "       [0.68804944],\n",
       "       [0.57163566],\n",
       "       ...,\n",
       "       [0.5805989 ],\n",
       "       [0.49357632],\n",
       "       [0.69037515]], dtype=float32)"
      ]
     },
     "execution_count": 620,
     "metadata": {},
     "output_type": "execute_result"
    }
   ],
   "source": [
    "sample_exagg_preds.numpy()"
   ]
  },
  {
   "cell_type": "code",
   "execution_count": 621,
   "id": "17ea3710",
   "metadata": {
    "scrolled": true
   },
   "outputs": [
    {
     "data": {
      "text/plain": [
       "tensor(0.6364)"
      ]
     },
     "execution_count": 621,
     "metadata": {},
     "output_type": "execute_result"
    }
   ],
   "source": [
    "torch.mean(sample_exagg_preds)"
   ]
  },
  {
   "cell_type": "code",
   "execution_count": 622,
   "id": "d4d89296",
   "metadata": {},
   "outputs": [
    {
     "data": {
      "text/plain": [
       "(array([5.0000e+00, 9.0000e+00, 1.9000e+01, 1.4800e+02, 7.5200e+02,\n",
       "        5.1030e+03, 3.1568e+04, 3.8046e+04, 4.2650e+03, 1.5200e+02]),\n",
       " array([0.05435438, 0.1375712 , 0.22078802, 0.30400482, 0.38722163,\n",
       "        0.47043845, 0.55365527, 0.6368721 , 0.7200889 , 0.80330575,\n",
       "        0.88652253], dtype=float32),\n",
       " <BarContainer object of 10 artists>)"
      ]
     },
     "execution_count": 622,
     "metadata": {},
     "output_type": "execute_result"
    },
    {
     "data": {
      "image/png": "[encoded data removed]",
      "text/plain": [
       "<Figure size 432x288 with 1 Axes>"
      ]
     },
     "metadata": {
      "needs_background": "light"
     },
     "output_type": "display_data"
    }
   ],
   "source": [
    "plt.hist(sample_exagg_preds.numpy())"
   ]
  },
  {
   "cell_type": "code",
   "execution_count": 623,
   "id": "f091842c",
   "metadata": {},
   "outputs": [
    {
     "data": {
      "text/plain": [
       "tensor(0.0203)"
      ]
     },
     "execution_count": 623,
     "metadata": {},
     "output_type": "execute_result"
    }
   ],
   "source": [
    "torch.mean(abs(sample_exagg_preds - eq_preds))"
   ]
  },
  {
   "cell_type": "markdown",
   "id": "d343d827",
   "metadata": {},
   "source": [
    "#### High"
   ]
  },
  {
   "cell_type": "code",
   "execution_count": 624,
   "id": "563cc83e",
   "metadata": {},
   "outputs": [],
   "source": [
    "q_los = [X_train_sample_eq[column].quantile(q=1/5) for column in columns_horse1]\n",
    "q_his = [X_train_sample_eq[column].quantile(q=4/5) for column in columns_horse1]"
   ]
  },
  {
   "cell_type": "code",
   "execution_count": 625,
   "id": "a34e13e0",
   "metadata": {},
   "outputs": [
    {
     "data": {
      "text/plain": [
       "[0.05, 0.05, 0.05, 0.7820414904769664, 0.7819938664458573, 0.7819934821550388]"
      ]
     },
     "execution_count": 625,
     "metadata": {},
     "output_type": "execute_result"
    }
   ],
   "source": [
    "q_los"
   ]
  },
  {
   "cell_type": "code",
   "execution_count": 626,
   "id": "c222e606",
   "metadata": {},
   "outputs": [
    {
     "data": {
      "text/plain": [
       "[0.225,\n",
       " 0.225,\n",
       " 0.225,\n",
       " 0.7992736446680804,\n",
       " 0.7993964084987206,\n",
       " 0.7993729820537908]"
      ]
     },
     "execution_count": 626,
     "metadata": {},
     "output_type": "execute_result"
    }
   ],
   "source": [
    "q_his"
   ]
  },
  {
   "cell_type": "code",
   "execution_count": 627,
   "id": "c85c4006",
   "metadata": {},
   "outputs": [
    {
     "data": {
      "text/plain": [
       "(80067, 144)"
      ]
     },
     "execution_count": 627,
     "metadata": {},
     "output_type": "execute_result"
    }
   ],
   "source": [
    "X_train_sample_exagg = X_train_sample_eq.copy()\n",
    "X_train_sample_exagg.shape"
   ]
  },
  {
   "cell_type": "code",
   "execution_count": 628,
   "id": "fb9fa812",
   "metadata": {},
   "outputs": [],
   "source": [
    "for column, q_lo in zip(columns_horse1, q_los):\n",
    "    X_train_sample_exagg[column] = q_lo"
   ]
  },
  {
   "cell_type": "code",
   "execution_count": 629,
   "id": "9332dafd",
   "metadata": {},
   "outputs": [],
   "source": [
    "for column, q_hi in zip(columns_horse2, q_his):\n",
    "    X_train_sample_exagg[column] = q_hi"
   ]
  },
  {
   "cell_type": "code",
   "execution_count": 630,
   "id": "5ccb272c",
   "metadata": {},
   "outputs": [],
   "source": [
    "X_train_sample_exagg_tensor = torch.from_numpy(X_train_sample_exagg.to_numpy()).float().to(device)"
   ]
  },
  {
   "cell_type": "code",
   "execution_count": 631,
   "id": "a3a2eeb3",
   "metadata": {},
   "outputs": [],
   "source": [
    "with torch.no_grad():\n",
    "    sample_exagg_preds = torch.sigmoid(net.forward(X_train_sample_exagg_tensor))"
   ]
  },
  {
   "cell_type": "code",
   "execution_count": 632,
   "id": "e888d748",
   "metadata": {},
   "outputs": [
    {
     "data": {
      "text/plain": [
       "array([[0.66948533],\n",
       "       [0.698249  ],\n",
       "       [0.5775781 ],\n",
       "       ...,\n",
       "       [0.58650655],\n",
       "       [0.49965382],\n",
       "       [0.6955475 ]], dtype=float32)"
      ]
     },
     "execution_count": 632,
     "metadata": {},
     "output_type": "execute_result"
    }
   ],
   "source": [
    "sample_exagg_preds.numpy()"
   ]
  },
  {
   "cell_type": "code",
   "execution_count": 633,
   "id": "268dfcf8",
   "metadata": {
    "scrolled": true
   },
   "outputs": [
    {
     "data": {
      "text/plain": [
       "tensor(0.6448)"
      ]
     },
     "execution_count": 633,
     "metadata": {},
     "output_type": "execute_result"
    }
   ],
   "source": [
    "torch.mean(sample_exagg_preds)"
   ]
  },
  {
   "cell_type": "code",
   "execution_count": 634,
   "id": "1c9ad654",
   "metadata": {},
   "outputs": [
    {
     "data": {
      "text/plain": [
       "(array([5.0000e+00, 9.0000e+00, 1.8000e+01, 1.3200e+02, 6.6900e+02,\n",
       "        4.6870e+03, 2.9455e+04, 3.9668e+04, 5.2540e+03, 1.7000e+02]),\n",
       " array([0.05558266, 0.13915022, 0.22271778, 0.30628532, 0.38985288,\n",
       "        0.47342044, 0.556988  , 0.64055556, 0.7241231 , 0.8076907 ,\n",
       "        0.89125824], dtype=float32),\n",
       " <BarContainer object of 10 artists>)"
      ]
     },
     "execution_count": 634,
     "metadata": {},
     "output_type": "execute_result"
    },
    {
     "data": {
      "image/png": "[encoded data removed]",
      "text/plain": [
       "<Figure size 432x288 with 1 Axes>"
      ]
     },
     "metadata": {
      "needs_background": "light"
     },
     "output_type": "display_data"
    }
   ],
   "source": [
    "plt.hist(sample_exagg_preds.numpy())"
   ]
  },
  {
   "cell_type": "code",
   "execution_count": 635,
   "id": "d76ee367",
   "metadata": {},
   "outputs": [
    {
     "data": {
      "text/plain": [
       "tensor(0.0283)"
      ]
     },
     "execution_count": 635,
     "metadata": {},
     "output_type": "execute_result"
    }
   ],
   "source": [
    "torch.mean(abs(sample_exagg_preds - eq_preds))"
   ]
  },
  {
   "cell_type": "markdown",
   "id": "e6f28ca9",
   "metadata": {},
   "source": [
    "### Rain Races"
   ]
  },
  {
   "cell_type": "code",
   "execution_count": 637,
   "id": "12dc82d2",
   "metadata": {},
   "outputs": [],
   "source": [
    "columns_horse1 = [\n",
    "    'horse1_jockey_prev_1_position_rain',\n",
    "    'horse1_jockey_prev_2_position_rain',\n",
    "    'horse1_jockey_prev_3_position_rain',\n",
    "    'horse1_jockey_prev_1_finishing_time_ratio_rain',\n",
    "    'horse1_jockey_prev_2_finishing_time_ratio_rain',\n",
    "    'horse1_jockey_prev_3_finishing_time_ratio_rain',\n",
    "]"
   ]
  },
  {
   "cell_type": "code",
   "execution_count": 638,
   "id": "949290da",
   "metadata": {},
   "outputs": [],
   "source": [
    "columns_horse2 = [\n",
    "    'horse2_jockey_prev_1_position_rain',\n",
    "    'horse2_jockey_prev_2_position_rain',\n",
    "    'horse2_jockey_prev_3_position_rain',\n",
    "    'horse2_jockey_prev_1_finishing_time_ratio_rain',\n",
    "    'horse2_jockey_prev_2_finishing_time_ratio_rain',\n",
    "    'horse2_jockey_prev_3_finishing_time_ratio_rain',\n",
    "]"
   ]
  },
  {
   "cell_type": "markdown",
   "id": "32e6a27e",
   "metadata": {},
   "source": [
    "#### Small"
   ]
  },
  {
   "cell_type": "code",
   "execution_count": 639,
   "id": "3701dca8",
   "metadata": {},
   "outputs": [],
   "source": [
    "q_los = [X_train_sample_eq[column].quantile(q=1/3) for column in columns_horse1]\n",
    "q_his = [X_train_sample_eq[column].quantile(q=2/3) for column in columns_horse1]"
   ]
  },
  {
   "cell_type": "code",
   "execution_count": 640,
   "id": "cbe92145",
   "metadata": {},
   "outputs": [
    {
     "data": {
      "text/plain": [
       "[0.1, 0.1, 0.1, 0.8042290520687824, 0.7846141171896562, 0.7845926726826628]"
      ]
     },
     "execution_count": 640,
     "metadata": {},
     "output_type": "execute_result"
    }
   ],
   "source": [
    "q_los"
   ]
  },
  {
   "cell_type": "code",
   "execution_count": 641,
   "id": "be20e6f3",
   "metadata": {},
   "outputs": [
    {
     "data": {
      "text/plain": [
       "[0.175,\n",
       " 0.175,\n",
       " 0.175,\n",
       " 0.8128300760853349,\n",
       " 0.7930532104830617,\n",
       " 0.7931781072202099]"
      ]
     },
     "execution_count": 641,
     "metadata": {},
     "output_type": "execute_result"
    }
   ],
   "source": [
    "q_his"
   ]
  },
  {
   "cell_type": "code",
   "execution_count": 642,
   "id": "feb876c8",
   "metadata": {},
   "outputs": [
    {
     "data": {
      "text/plain": [
       "(80067, 144)"
      ]
     },
     "execution_count": 642,
     "metadata": {},
     "output_type": "execute_result"
    }
   ],
   "source": [
    "X_train_sample_exagg = X_train_sample_eq.copy()\n",
    "X_train_sample_exagg.shape"
   ]
  },
  {
   "cell_type": "code",
   "execution_count": 643,
   "id": "7322d329",
   "metadata": {},
   "outputs": [],
   "source": [
    "for column, q_lo in zip(columns_horse1, q_los):\n",
    "    X_train_sample_exagg[column] = q_lo"
   ]
  },
  {
   "cell_type": "code",
   "execution_count": 644,
   "id": "72b98b31",
   "metadata": {},
   "outputs": [],
   "source": [
    "for column, q_hi in zip(columns_horse2, q_his):\n",
    "    X_train_sample_exagg[column] = q_hi"
   ]
  },
  {
   "cell_type": "code",
   "execution_count": 645,
   "id": "0f5b250d",
   "metadata": {},
   "outputs": [],
   "source": [
    "X_train_sample_exagg_tensor = torch.from_numpy(X_train_sample_exagg.to_numpy()).float().to(device)"
   ]
  },
  {
   "cell_type": "code",
   "execution_count": 646,
   "id": "b83b6fd8",
   "metadata": {},
   "outputs": [],
   "source": [
    "with torch.no_grad():\n",
    "    sample_exagg_preds = torch.sigmoid(net.forward(X_train_sample_exagg_tensor))"
   ]
  },
  {
   "cell_type": "code",
   "execution_count": 647,
   "id": "c0218e1d",
   "metadata": {},
   "outputs": [
    {
     "data": {
      "text/plain": [
       "array([[0.6262708 ],\n",
       "       [0.6780052 ],\n",
       "       [0.56858665],\n",
       "       ...,\n",
       "       [0.56485003],\n",
       "       [0.46912405],\n",
       "       [0.67146146]], dtype=float32)"
      ]
     },
     "execution_count": 647,
     "metadata": {},
     "output_type": "execute_result"
    }
   ],
   "source": [
    "sample_exagg_preds.numpy()"
   ]
  },
  {
   "cell_type": "code",
   "execution_count": 648,
   "id": "31073c15",
   "metadata": {
    "scrolled": true
   },
   "outputs": [
    {
     "data": {
      "text/plain": [
       "tensor(0.6240)"
      ]
     },
     "execution_count": 648,
     "metadata": {},
     "output_type": "execute_result"
    }
   ],
   "source": [
    "torch.mean(sample_exagg_preds)"
   ]
  },
  {
   "cell_type": "code",
   "execution_count": 649,
   "id": "5a4e5258",
   "metadata": {},
   "outputs": [
    {
     "data": {
      "text/plain": [
       "(array([4.0000e+00, 1.2000e+01, 3.4000e+01, 1.7000e+02, 9.2900e+02,\n",
       "        7.0840e+03, 3.8014e+04, 3.0955e+04, 2.7300e+03, 1.3500e+02]),\n",
       " array([0.05212101, 0.13580707, 0.21949312, 0.30317917, 0.38686523,\n",
       "        0.4705513 , 0.55423737, 0.6379234 , 0.7216095 , 0.8052955 ,\n",
       "        0.8889816 ], dtype=float32),\n",
       " <BarContainer object of 10 artists>)"
      ]
     },
     "execution_count": 649,
     "metadata": {},
     "output_type": "execute_result"
    },
    {
     "data": {
      "image/png": "[encoded data removed]",
      "text/plain": [
       "<Figure size 432x288 with 1 Axes>"
      ]
     },
     "metadata": {
      "needs_background": "light"
     },
     "output_type": "display_data"
    }
   ],
   "source": [
    "plt.hist(sample_exagg_preds.numpy())"
   ]
  },
  {
   "cell_type": "code",
   "execution_count": 650,
   "id": "84033304",
   "metadata": {},
   "outputs": [
    {
     "data": {
      "text/plain": [
       "tensor(0.0098)"
      ]
     },
     "execution_count": 650,
     "metadata": {},
     "output_type": "execute_result"
    }
   ],
   "source": [
    "torch.mean(abs(sample_exagg_preds - eq_preds))"
   ]
  },
  {
   "cell_type": "markdown",
   "id": "9b3b4829",
   "metadata": {},
   "source": [
    "#### Medium"
   ]
  },
  {
   "cell_type": "code",
   "execution_count": 651,
   "id": "48289a28",
   "metadata": {},
   "outputs": [],
   "source": [
    "q_los = [X_train_sample_eq[column].quantile(q=1/4) for column in columns_horse1]\n",
    "q_his = [X_train_sample_eq[column].quantile(q=3/4) for column in columns_horse1]"
   ]
  },
  {
   "cell_type": "code",
   "execution_count": 652,
   "id": "cf622ccd",
   "metadata": {},
   "outputs": [
    {
     "data": {
      "text/plain": [
       "[0.075,\n",
       " 0.075,\n",
       " 0.075,\n",
       " 0.8025404403145713,\n",
       " 0.7829666902316295,\n",
       " 0.7829666902316295]"
      ]
     },
     "execution_count": 652,
     "metadata": {},
     "output_type": "execute_result"
    }
   ],
   "source": [
    "q_los"
   ]
  },
  {
   "cell_type": "code",
   "execution_count": 653,
   "id": "af4399e8",
   "metadata": {},
   "outputs": [
    {
     "data": {
      "text/plain": [
       "[0.2, 0.2, 0.2, 0.8163724014414827, 0.7965210841633598, 0.7967521936208257]"
      ]
     },
     "execution_count": 653,
     "metadata": {},
     "output_type": "execute_result"
    }
   ],
   "source": [
    "q_his"
   ]
  },
  {
   "cell_type": "code",
   "execution_count": 654,
   "id": "b1b6ebd2",
   "metadata": {},
   "outputs": [
    {
     "data": {
      "text/plain": [
       "(80067, 144)"
      ]
     },
     "execution_count": 654,
     "metadata": {},
     "output_type": "execute_result"
    }
   ],
   "source": [
    "X_train_sample_exagg = X_train_sample_eq.copy()\n",
    "X_train_sample_exagg.shape"
   ]
  },
  {
   "cell_type": "code",
   "execution_count": 655,
   "id": "540209f8",
   "metadata": {},
   "outputs": [],
   "source": [
    "for column, q_lo in zip(columns_horse1, q_los):\n",
    "    X_train_sample_exagg[column] = q_lo"
   ]
  },
  {
   "cell_type": "code",
   "execution_count": 656,
   "id": "c796d890",
   "metadata": {},
   "outputs": [],
   "source": [
    "for column, q_hi in zip(columns_horse2, q_his):\n",
    "    X_train_sample_exagg[column] = q_hi"
   ]
  },
  {
   "cell_type": "code",
   "execution_count": 657,
   "id": "7fd37af3",
   "metadata": {},
   "outputs": [],
   "source": [
    "X_train_sample_exagg_tensor = torch.from_numpy(X_train_sample_exagg.to_numpy()).float().to(device)"
   ]
  },
  {
   "cell_type": "code",
   "execution_count": 658,
   "id": "e24a2339",
   "metadata": {},
   "outputs": [],
   "source": [
    "with torch.no_grad():\n",
    "    sample_exagg_preds = torch.sigmoid(net.forward(X_train_sample_exagg_tensor))"
   ]
  },
  {
   "cell_type": "code",
   "execution_count": 659,
   "id": "37c78353",
   "metadata": {},
   "outputs": [
    {
     "data": {
      "text/plain": [
       "array([[0.6341989 ],\n",
       "       [0.6853874 ],\n",
       "       [0.5701057 ],\n",
       "       ...,\n",
       "       [0.5663731 ],\n",
       "       [0.47066775],\n",
       "       [0.67282754]], dtype=float32)"
      ]
     },
     "execution_count": 659,
     "metadata": {},
     "output_type": "execute_result"
    }
   ],
   "source": [
    "sample_exagg_preds.numpy()"
   ]
  },
  {
   "cell_type": "code",
   "execution_count": 660,
   "id": "50d5a939",
   "metadata": {
    "scrolled": true
   },
   "outputs": [
    {
     "data": {
      "text/plain": [
       "tensor(0.6290)"
      ]
     },
     "execution_count": 660,
     "metadata": {},
     "output_type": "execute_result"
    }
   ],
   "source": [
    "torch.mean(sample_exagg_preds)"
   ]
  },
  {
   "cell_type": "code",
   "execution_count": 661,
   "id": "a86fcb73",
   "metadata": {},
   "outputs": [
    {
     "data": {
      "text/plain": [
       "(array([4.0000e+00, 1.2000e+01, 2.8000e+01, 1.6600e+02, 9.0800e+02,\n",
       "        7.0540e+03, 3.6291e+04, 3.2360e+04, 3.1020e+03, 1.4200e+02]),\n",
       " array([0.0535129 , 0.13739112, 0.22126935, 0.3051476 , 0.3890258 ,\n",
       "        0.47290403, 0.55678225, 0.6406605 , 0.72453874, 0.80841696,\n",
       "        0.8922952 ], dtype=float32),\n",
       " <BarContainer object of 10 artists>)"
      ]
     },
     "execution_count": 661,
     "metadata": {},
     "output_type": "execute_result"
    },
    {
     "data": {
      "image/png": "[encoded data removed]",
      "text/plain": [
       "<Figure size 432x288 with 1 Axes>"
      ]
     },
     "metadata": {
      "needs_background": "light"
     },
     "output_type": "display_data"
    }
   ],
   "source": [
    "plt.hist(sample_exagg_preds.numpy())"
   ]
  },
  {
   "cell_type": "code",
   "execution_count": 662,
   "id": "59d813a6",
   "metadata": {},
   "outputs": [
    {
     "data": {
      "text/plain": [
       "tensor(0.0140)"
      ]
     },
     "execution_count": 662,
     "metadata": {},
     "output_type": "execute_result"
    }
   ],
   "source": [
    "torch.mean(abs(sample_exagg_preds - eq_preds))"
   ]
  },
  {
   "cell_type": "markdown",
   "id": "37036cb8",
   "metadata": {},
   "source": [
    "#### High"
   ]
  },
  {
   "cell_type": "code",
   "execution_count": 663,
   "id": "8fecc74b",
   "metadata": {},
   "outputs": [],
   "source": [
    "q_los = [X_train_sample_eq[column].quantile(q=1/5) for column in columns_horse1]\n",
    "q_his = [X_train_sample_eq[column].quantile(q=4/5) for column in columns_horse1]"
   ]
  },
  {
   "cell_type": "code",
   "execution_count": 664,
   "id": "2c90ea81",
   "metadata": {},
   "outputs": [
    {
     "data": {
      "text/plain": [
       "[0.05, 0.05, 0.05, 0.8015733621876803, 0.782023198885685, 0.7819938664458573]"
      ]
     },
     "execution_count": 664,
     "metadata": {},
     "output_type": "execute_result"
    }
   ],
   "source": [
    "q_los"
   ]
  },
  {
   "cell_type": "code",
   "execution_count": 665,
   "id": "b0de643a",
   "metadata": {},
   "outputs": [
    {
     "data": {
      "text/plain": [
       "[0.225,\n",
       " 0.225,\n",
       " 0.225,\n",
       " 0.8190859814013625,\n",
       " 0.7993029653989958,\n",
       " 0.7995210767801941]"
      ]
     },
     "execution_count": 665,
     "metadata": {},
     "output_type": "execute_result"
    }
   ],
   "source": [
    "q_his"
   ]
  },
  {
   "cell_type": "code",
   "execution_count": 666,
   "id": "793cf9d9",
   "metadata": {},
   "outputs": [
    {
     "data": {
      "text/plain": [
       "(80067, 144)"
      ]
     },
     "execution_count": 666,
     "metadata": {},
     "output_type": "execute_result"
    }
   ],
   "source": [
    "X_train_sample_exagg = X_train_sample_eq.copy()\n",
    "X_train_sample_exagg.shape"
   ]
  },
  {
   "cell_type": "code",
   "execution_count": 667,
   "id": "d47fbe78",
   "metadata": {},
   "outputs": [],
   "source": [
    "for column, q_lo in zip(columns_horse1, q_los):\n",
    "    X_train_sample_exagg[column] = q_lo"
   ]
  },
  {
   "cell_type": "code",
   "execution_count": 668,
   "id": "34a6d5a9",
   "metadata": {},
   "outputs": [],
   "source": [
    "for column, q_hi in zip(columns_horse2, q_his):\n",
    "    X_train_sample_exagg[column] = q_hi"
   ]
  },
  {
   "cell_type": "code",
   "execution_count": 669,
   "id": "4738960a",
   "metadata": {},
   "outputs": [],
   "source": [
    "X_train_sample_exagg_tensor = torch.from_numpy(X_train_sample_exagg.to_numpy()).float().to(device)"
   ]
  },
  {
   "cell_type": "code",
   "execution_count": 670,
   "id": "e576339b",
   "metadata": {},
   "outputs": [],
   "source": [
    "with torch.no_grad():\n",
    "    sample_exagg_preds = torch.sigmoid(net.forward(X_train_sample_exagg_tensor))"
   ]
  },
  {
   "cell_type": "code",
   "execution_count": 671,
   "id": "8f7efc45",
   "metadata": {},
   "outputs": [
    {
     "data": {
      "text/plain": [
       "array([[0.6420072 ],\n",
       "       [0.69263273],\n",
       "       [0.57154197],\n",
       "       ...,\n",
       "       [0.56781167],\n",
       "       [0.4721279 ],\n",
       "       [0.67411584]], dtype=float32)"
      ]
     },
     "execution_count": 671,
     "metadata": {},
     "output_type": "execute_result"
    }
   ],
   "source": [
    "sample_exagg_preds.numpy()"
   ]
  },
  {
   "cell_type": "code",
   "execution_count": 672,
   "id": "e8f15bf6",
   "metadata": {
    "scrolled": true
   },
   "outputs": [
    {
     "data": {
      "text/plain": [
       "tensor(0.6339)"
      ]
     },
     "execution_count": 672,
     "metadata": {},
     "output_type": "execute_result"
    }
   ],
   "source": [
    "torch.mean(sample_exagg_preds)"
   ]
  },
  {
   "cell_type": "code",
   "execution_count": 673,
   "id": "b0417b73",
   "metadata": {},
   "outputs": [
    {
     "data": {
      "text/plain": [
       "(array([2.0000e+00, 1.0000e+01, 3.1000e+01, 1.5900e+02, 8.7900e+02,\n",
       "        7.0100e+03, 3.4913e+04, 3.3380e+04, 3.5310e+03, 1.5200e+02]),\n",
       " array([0.05494653, 0.13900207, 0.2230576 , 0.30711314, 0.39116868,\n",
       "        0.47522423, 0.55927974, 0.6433353 , 0.7273908 , 0.81144637,\n",
       "        0.8955019 ], dtype=float32),\n",
       " <BarContainer object of 10 artists>)"
      ]
     },
     "execution_count": 673,
     "metadata": {},
     "output_type": "execute_result"
    },
    {
     "data": {
      "image/png": "[encoded data removed]",
      "text/plain": [
       "<Figure size 432x288 with 1 Axes>"
      ]
     },
     "metadata": {
      "needs_background": "light"
     },
     "output_type": "display_data"
    }
   ],
   "source": [
    "plt.hist(sample_exagg_preds.numpy())"
   ]
  },
  {
   "cell_type": "code",
   "execution_count": 674,
   "id": "2ea60c16",
   "metadata": {},
   "outputs": [
    {
     "data": {
      "text/plain": [
       "tensor(0.0183)"
      ]
     },
     "execution_count": 674,
     "metadata": {},
     "output_type": "execute_result"
    }
   ],
   "source": [
    "torch.mean(abs(sample_exagg_preds - eq_preds))"
   ]
  },
  {
   "cell_type": "markdown",
   "id": "736037e5",
   "metadata": {},
   "source": [
    "### Humidity Races"
   ]
  },
  {
   "cell_type": "code",
   "execution_count": 675,
   "id": "65498e4f",
   "metadata": {},
   "outputs": [],
   "source": [
    "columns_horse1 = [\n",
    "    'horse1_jockey_prev_1_position_rhum',\n",
    "    'horse1_jockey_prev_2_position_rhum',\n",
    "    'horse1_jockey_prev_3_position_rhum',\n",
    "    'horse1_jockey_prev_1_finishing_time_ratio_rhum',\n",
    "    'horse1_jockey_prev_2_finishing_time_ratio_rhum',\n",
    "    'horse1_jockey_prev_3_finishing_time_ratio_rhum',\n",
    "]"
   ]
  },
  {
   "cell_type": "code",
   "execution_count": 676,
   "id": "a5a73aca",
   "metadata": {},
   "outputs": [],
   "source": [
    "columns_horse2 = [\n",
    "    'horse2_jockey_prev_1_position_rhum',\n",
    "    'horse2_jockey_prev_2_position_rhum',\n",
    "    'horse2_jockey_prev_3_position_rhum',\n",
    "    'horse2_jockey_prev_1_finishing_time_ratio_rhum',\n",
    "    'horse2_jockey_prev_2_finishing_time_ratio_rhum',\n",
    "    'horse2_jockey_prev_3_finishing_time_ratio_rhum',\n",
    "]"
   ]
  },
  {
   "cell_type": "markdown",
   "id": "6d3d13e9",
   "metadata": {},
   "source": [
    "#### Small"
   ]
  },
  {
   "cell_type": "code",
   "execution_count": 677,
   "id": "4b2eb960",
   "metadata": {},
   "outputs": [],
   "source": [
    "q_los = [X_train_sample_eq[column].quantile(q=1/3) for column in columns_horse1]\n",
    "q_his = [X_train_sample_eq[column].quantile(q=2/3) for column in columns_horse1]"
   ]
  },
  {
   "cell_type": "code",
   "execution_count": 678,
   "id": "c53aaacd",
   "metadata": {},
   "outputs": [
    {
     "data": {
      "text/plain": [
       "[0.1, 0.1, 0.1, 0.8042070714605399, 0.8040775041406559, 0.784592672682663]"
      ]
     },
     "execution_count": 678,
     "metadata": {},
     "output_type": "execute_result"
    }
   ],
   "source": [
    "q_los"
   ]
  },
  {
   "cell_type": "code",
   "execution_count": 679,
   "id": "ad872284",
   "metadata": {},
   "outputs": [
    {
     "data": {
      "text/plain": [
       "[0.175,\n",
       " 0.175,\n",
       " 0.175,\n",
       " 0.8128300760853349,\n",
       " 0.8127401064117674,\n",
       " 0.7931236971333125]"
      ]
     },
     "execution_count": 679,
     "metadata": {},
     "output_type": "execute_result"
    }
   ],
   "source": [
    "q_his"
   ]
  },
  {
   "cell_type": "code",
   "execution_count": 680,
   "id": "989b617e",
   "metadata": {},
   "outputs": [
    {
     "data": {
      "text/plain": [
       "(80067, 144)"
      ]
     },
     "execution_count": 680,
     "metadata": {},
     "output_type": "execute_result"
    }
   ],
   "source": [
    "X_train_sample_exagg = X_train_sample_eq.copy()\n",
    "X_train_sample_exagg.shape"
   ]
  },
  {
   "cell_type": "code",
   "execution_count": 681,
   "id": "5b15ade7",
   "metadata": {},
   "outputs": [],
   "source": [
    "for column, q_lo in zip(columns_horse1, q_los):\n",
    "    X_train_sample_exagg[column] = q_lo"
   ]
  },
  {
   "cell_type": "code",
   "execution_count": 682,
   "id": "f6b9ff92",
   "metadata": {},
   "outputs": [],
   "source": [
    "for column, q_hi in zip(columns_horse2, q_his):\n",
    "    X_train_sample_exagg[column] = q_hi"
   ]
  },
  {
   "cell_type": "code",
   "execution_count": 683,
   "id": "28a4688c",
   "metadata": {},
   "outputs": [],
   "source": [
    "X_train_sample_exagg_tensor = torch.from_numpy(X_train_sample_exagg.to_numpy()).float().to(device)"
   ]
  },
  {
   "cell_type": "code",
   "execution_count": 684,
   "id": "3ef24b85",
   "metadata": {},
   "outputs": [],
   "source": [
    "with torch.no_grad():\n",
    "    sample_exagg_preds = torch.sigmoid(net.forward(X_train_sample_exagg_tensor))"
   ]
  },
  {
   "cell_type": "code",
   "execution_count": 685,
   "id": "633c4eff",
   "metadata": {},
   "outputs": [
    {
     "data": {
      "text/plain": [
       "array([[0.639676  ],\n",
       "       [0.6819484 ],\n",
       "       [0.5796915 ],\n",
       "       ...,\n",
       "       [0.57444507],\n",
       "       [0.4829243 ],\n",
       "       [0.66911334]], dtype=float32)"
      ]
     },
     "execution_count": 685,
     "metadata": {},
     "output_type": "execute_result"
    }
   ],
   "source": [
    "sample_exagg_preds.numpy()"
   ]
  },
  {
   "cell_type": "code",
   "execution_count": 686,
   "id": "c6dfd78c",
   "metadata": {
    "scrolled": true
   },
   "outputs": [
    {
     "data": {
      "text/plain": [
       "tensor(0.6255)"
      ]
     },
     "execution_count": 686,
     "metadata": {},
     "output_type": "execute_result"
    }
   ],
   "source": [
    "torch.mean(sample_exagg_preds)"
   ]
  },
  {
   "cell_type": "code",
   "execution_count": 687,
   "id": "82eff73c",
   "metadata": {},
   "outputs": [
    {
     "data": {
      "text/plain": [
       "(array([5.0000e+00, 1.1000e+01, 3.1000e+01, 1.5900e+02, 1.0800e+03,\n",
       "        8.4000e+03, 4.2879e+04, 2.5789e+04, 1.6000e+03, 1.1300e+02]),\n",
       " array([0.05149693, 0.13687491, 0.22225289, 0.30763087, 0.39300886,\n",
       "        0.47838682, 0.5637648 , 0.6491428 , 0.73452073, 0.8198987 ,\n",
       "        0.9052767 ], dtype=float32),\n",
       " <BarContainer object of 10 artists>)"
      ]
     },
     "execution_count": 687,
     "metadata": {},
     "output_type": "execute_result"
    },
    {
     "data": {
      "image/png": "[encoded data removed]",
      "text/plain": [
       "<Figure size 432x288 with 1 Axes>"
      ]
     },
     "metadata": {
      "needs_background": "light"
     },
     "output_type": "display_data"
    }
   ],
   "source": [
    "plt.hist(sample_exagg_preds.numpy())"
   ]
  },
  {
   "cell_type": "code",
   "execution_count": 688,
   "id": "ba4bf4bb",
   "metadata": {},
   "outputs": [
    {
     "data": {
      "text/plain": [
       "tensor(0.0118)"
      ]
     },
     "execution_count": 688,
     "metadata": {},
     "output_type": "execute_result"
    }
   ],
   "source": [
    "torch.mean(abs(sample_exagg_preds - eq_preds))"
   ]
  },
  {
   "cell_type": "markdown",
   "id": "f618a42f",
   "metadata": {},
   "source": [
    "#### Medium"
   ]
  },
  {
   "cell_type": "code",
   "execution_count": 689,
   "id": "bd9ffcfb",
   "metadata": {},
   "outputs": [],
   "source": [
    "q_los = [X_train_sample_eq[column].quantile(q=1/4) for column in columns_horse1]\n",
    "q_his = [X_train_sample_eq[column].quantile(q=3/4) for column in columns_horse1]"
   ]
  },
  {
   "cell_type": "code",
   "execution_count": 690,
   "id": "31d0c8e8",
   "metadata": {},
   "outputs": [
    {
     "data": {
      "text/plain": [
       "[0.075,\n",
       " 0.075,\n",
       " 0.075,\n",
       " 0.8025404403145713,\n",
       " 0.8024933781493718,\n",
       " 0.7829666902316295]"
      ]
     },
     "execution_count": 690,
     "metadata": {},
     "output_type": "execute_result"
    }
   ],
   "source": [
    "q_los"
   ]
  },
  {
   "cell_type": "code",
   "execution_count": 691,
   "id": "7e306905",
   "metadata": {},
   "outputs": [
    {
     "data": {
      "text/plain": [
       "[0.2, 0.2, 0.2, 0.8163807250484857, 0.816308262824748, 0.7967521936208257]"
      ]
     },
     "execution_count": 691,
     "metadata": {},
     "output_type": "execute_result"
    }
   ],
   "source": [
    "q_his"
   ]
  },
  {
   "cell_type": "code",
   "execution_count": 692,
   "id": "a8b900ea",
   "metadata": {},
   "outputs": [
    {
     "data": {
      "text/plain": [
       "(80067, 144)"
      ]
     },
     "execution_count": 692,
     "metadata": {},
     "output_type": "execute_result"
    }
   ],
   "source": [
    "X_train_sample_exagg = X_train_sample_eq.copy()\n",
    "X_train_sample_exagg.shape"
   ]
  },
  {
   "cell_type": "code",
   "execution_count": 693,
   "id": "bd64e58f",
   "metadata": {},
   "outputs": [],
   "source": [
    "for column, q_lo in zip(columns_horse1, q_los):\n",
    "    X_train_sample_exagg[column] = q_lo"
   ]
  },
  {
   "cell_type": "code",
   "execution_count": 694,
   "id": "2a2cbad0",
   "metadata": {},
   "outputs": [],
   "source": [
    "for column, q_hi in zip(columns_horse2, q_his):\n",
    "    X_train_sample_exagg[column] = q_hi"
   ]
  },
  {
   "cell_type": "code",
   "execution_count": 695,
   "id": "7bd3e5bf",
   "metadata": {},
   "outputs": [],
   "source": [
    "X_train_sample_exagg_tensor = torch.from_numpy(X_train_sample_exagg.to_numpy()).float().to(device)"
   ]
  },
  {
   "cell_type": "code",
   "execution_count": 696,
   "id": "a0ba673d",
   "metadata": {},
   "outputs": [],
   "source": [
    "with torch.no_grad():\n",
    "    sample_exagg_preds = torch.sigmoid(net.forward(X_train_sample_exagg_tensor))"
   ]
  },
  {
   "cell_type": "code",
   "execution_count": 697,
   "id": "2f9ca7f2",
   "metadata": {},
   "outputs": [
    {
     "data": {
      "text/plain": [
       "array([[0.64727825],\n",
       "       [0.68909293],\n",
       "       [0.5838963 ],\n",
       "       ...,\n",
       "       [0.57866406],\n",
       "       [0.48724055],\n",
       "       [0.6729283 ]], dtype=float32)"
      ]
     },
     "execution_count": 697,
     "metadata": {},
     "output_type": "execute_result"
    }
   ],
   "source": [
    "sample_exagg_preds.numpy()"
   ]
  },
  {
   "cell_type": "code",
   "execution_count": 698,
   "id": "207439ac",
   "metadata": {
    "scrolled": true
   },
   "outputs": [
    {
     "data": {
      "text/plain": [
       "tensor(0.6314)"
      ]
     },
     "execution_count": 698,
     "metadata": {},
     "output_type": "execute_result"
    }
   ],
   "source": [
    "torch.mean(sample_exagg_preds)"
   ]
  },
  {
   "cell_type": "code",
   "execution_count": 699,
   "id": "20643843",
   "metadata": {},
   "outputs": [
    {
     "data": {
      "text/plain": [
       "(array([5.0000e+00, 1.1000e+01, 2.7000e+01, 1.5100e+02, 1.0060e+03,\n",
       "        7.7670e+03, 4.1151e+04, 2.7949e+04, 1.8830e+03, 1.1700e+02]),\n",
       " array([0.05227704, 0.13785739, 0.22343774, 0.3090181 , 0.39459845,\n",
       "        0.4801788 , 0.5657592 , 0.65133953, 0.7369199 , 0.8225002 ,\n",
       "        0.9080806 ], dtype=float32),\n",
       " <BarContainer object of 10 artists>)"
      ]
     },
     "execution_count": 699,
     "metadata": {},
     "output_type": "execute_result"
    },
    {
     "data": {
      "image/png": "[encoded data removed]",
      "text/plain": [
       "<Figure size 432x288 with 1 Axes>"
      ]
     },
     "metadata": {
      "needs_background": "light"
     },
     "output_type": "display_data"
    }
   ],
   "source": [
    "plt.hist(sample_exagg_preds.numpy())"
   ]
  },
  {
   "cell_type": "code",
   "execution_count": 700,
   "id": "c8cbb95b",
   "metadata": {},
   "outputs": [
    {
     "data": {
      "text/plain": [
       "tensor(0.0161)"
      ]
     },
     "execution_count": 700,
     "metadata": {},
     "output_type": "execute_result"
    }
   ],
   "source": [
    "torch.mean(abs(sample_exagg_preds - eq_preds))"
   ]
  },
  {
   "cell_type": "markdown",
   "id": "b0ea032d",
   "metadata": {},
   "source": [
    "#### High"
   ]
  },
  {
   "cell_type": "code",
   "execution_count": 701,
   "id": "24035d2f",
   "metadata": {},
   "outputs": [],
   "source": [
    "q_los = [X_train_sample_eq[column].quantile(q=1/5) for column in columns_horse1]\n",
    "q_his = [X_train_sample_eq[column].quantile(q=4/5) for column in columns_horse1]"
   ]
  },
  {
   "cell_type": "code",
   "execution_count": 702,
   "id": "5f070388",
   "metadata": {},
   "outputs": [
    {
     "data": {
      "text/plain": [
       "[0.05, 0.05, 0.05, 0.8015429025546014, 0.8014535069585047, 0.782023198885685]"
      ]
     },
     "execution_count": 702,
     "metadata": {},
     "output_type": "execute_result"
    }
   ],
   "source": [
    "q_los"
   ]
  },
  {
   "cell_type": "code",
   "execution_count": 703,
   "id": "fff310cd",
   "metadata": {},
   "outputs": [
    {
     "data": {
      "text/plain": [
       "[0.225,\n",
       " 0.225,\n",
       " 0.225,\n",
       " 0.8191120478136547,\n",
       " 0.8191435483044339,\n",
       " 0.7995799891878401]"
      ]
     },
     "execution_count": 703,
     "metadata": {},
     "output_type": "execute_result"
    }
   ],
   "source": [
    "q_his"
   ]
  },
  {
   "cell_type": "code",
   "execution_count": 704,
   "id": "483371c7",
   "metadata": {},
   "outputs": [
    {
     "data": {
      "text/plain": [
       "(80067, 144)"
      ]
     },
     "execution_count": 704,
     "metadata": {},
     "output_type": "execute_result"
    }
   ],
   "source": [
    "X_train_sample_exagg = X_train_sample_eq.copy()\n",
    "X_train_sample_exagg.shape"
   ]
  },
  {
   "cell_type": "code",
   "execution_count": 705,
   "id": "673fb512",
   "metadata": {},
   "outputs": [],
   "source": [
    "for column, q_lo in zip(columns_horse1, q_los):\n",
    "    X_train_sample_exagg[column] = q_lo"
   ]
  },
  {
   "cell_type": "code",
   "execution_count": 706,
   "id": "b5d6b490",
   "metadata": {},
   "outputs": [],
   "source": [
    "for column, q_hi in zip(columns_horse2, q_his):\n",
    "    X_train_sample_exagg[column] = q_hi"
   ]
  },
  {
   "cell_type": "code",
   "execution_count": 707,
   "id": "cfa21aeb",
   "metadata": {},
   "outputs": [],
   "source": [
    "X_train_sample_exagg_tensor = torch.from_numpy(X_train_sample_exagg.to_numpy()).float().to(device)"
   ]
  },
  {
   "cell_type": "code",
   "execution_count": 708,
   "id": "5dc9a9c5",
   "metadata": {},
   "outputs": [],
   "source": [
    "with torch.no_grad():\n",
    "    sample_exagg_preds = torch.sigmoid(net.forward(X_train_sample_exagg_tensor))"
   ]
  },
  {
   "cell_type": "code",
   "execution_count": 709,
   "id": "95155063",
   "metadata": {},
   "outputs": [
    {
     "data": {
      "text/plain": [
       "array([[0.654502  ],\n",
       "       [0.6958624 ],\n",
       "       [0.58788645],\n",
       "       ...,\n",
       "       [0.5826687 ],\n",
       "       [0.4913502 ],\n",
       "       [0.6765379 ]], dtype=float32)"
      ]
     },
     "execution_count": 709,
     "metadata": {},
     "output_type": "execute_result"
    }
   ],
   "source": [
    "sample_exagg_preds.numpy()"
   ]
  },
  {
   "cell_type": "code",
   "execution_count": 710,
   "id": "5d76518c",
   "metadata": {
    "scrolled": true
   },
   "outputs": [
    {
     "data": {
      "text/plain": [
       "tensor(0.6369)"
      ]
     },
     "execution_count": 710,
     "metadata": {},
     "output_type": "execute_result"
    }
   ],
   "source": [
    "torch.mean(sample_exagg_preds)"
   ]
  },
  {
   "cell_type": "code",
   "execution_count": 711,
   "id": "1fb04710",
   "metadata": {},
   "outputs": [
    {
     "data": {
      "text/plain": [
       "(array([5.0000e+00, 1.1000e+01, 2.3000e+01, 1.4900e+02, 9.2300e+02,\n",
       "        7.2020e+03, 3.9438e+04, 2.9999e+04, 2.1970e+03, 1.2000e+02]),\n",
       " array([0.05304252, 0.13880825, 0.224574  , 0.31033972, 0.39610547,\n",
       "        0.48187122, 0.56763697, 0.6534027 , 0.7391684 , 0.8249342 ,\n",
       "        0.9106999 ], dtype=float32),\n",
       " <BarContainer object of 10 artists>)"
      ]
     },
     "execution_count": 711,
     "metadata": {},
     "output_type": "execute_result"
    },
    {
     "data": {
      "image/png": "[encoded data removed]",
      "text/plain": [
       "<Figure size 432x288 with 1 Axes>"
      ]
     },
     "metadata": {
      "needs_background": "light"
     },
     "output_type": "display_data"
    }
   ],
   "source": [
    "plt.hist(sample_exagg_preds.numpy())"
   ]
  },
  {
   "cell_type": "code",
   "execution_count": 712,
   "id": "5b634e22",
   "metadata": {},
   "outputs": [
    {
     "data": {
      "text/plain": [
       "tensor(0.0210)"
      ]
     },
     "execution_count": 712,
     "metadata": {},
     "output_type": "execute_result"
    }
   ],
   "source": [
    "torch.mean(abs(sample_exagg_preds - eq_preds))"
   ]
  },
  {
   "cell_type": "markdown",
   "id": "85f16fef",
   "metadata": {},
   "source": [
    "---"
   ]
  }
 ],
 "metadata": {
  "kernelspec": {
   "display_name": "Python 3 (ipykernel)",
   "language": "python",
   "name": "python3"
  },
  "language_info": {
   "codemirror_mode": {
    "name": "ipython",
    "version": 3
   },
   "file_extension": ".py",
   "mimetype": "text/x-python",
   "name": "python",
   "nbconvert_exporter": "python",
   "pygments_lexer": "ipython3",
   "version": "3.9.6"
  }
 },
 "nbformat": 4,
 "nbformat_minor": 5
}
