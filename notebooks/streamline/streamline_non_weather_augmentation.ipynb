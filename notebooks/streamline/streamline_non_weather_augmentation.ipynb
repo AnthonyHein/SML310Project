{
 "cells": [
  {
   "cell_type": "markdown",
   "id": "7026e67b",
   "metadata": {},
   "source": [
    "# `streamline_non_weather_augmentation.ipynb`"
   ]
  },
  {
   "cell_type": "markdown",
   "id": "c052cb33",
   "metadata": {},
   "source": [
    "### Author: Anthony Hein"
   ]
  },
  {
   "cell_type": "markdown",
   "id": "194e2cf5",
   "metadata": {},
   "source": [
    "#### Last updated: 11/3/2021"
   ]
  },
  {
   "cell_type": "markdown",
   "id": "1b86aa88",
   "metadata": {},
   "source": [
    "# Overview:\n",
    "\n",
    "Augment the racing dataset so that each row includes additional columns which summarize the race. These columns are mostly derived from data in the `horses_selected.csv` that was determined to be more suitable as part of the `races_selected.csv`, such as `runners`, `margin`, and information about winners, compared to the posted odds. None of these columns contain weather data."
   ]
  },
  {
   "cell_type": "markdown",
   "id": "697e80d8",
   "metadata": {},
   "source": [
    "---"
   ]
  },
  {
   "cell_type": "markdown",
   "id": "08164829",
   "metadata": {},
   "source": [
    "## Setup"
   ]
  },
  {
   "cell_type": "code",
   "execution_count": 1,
   "id": "9e9ee6d1",
   "metadata": {},
   "outputs": [],
   "source": [
    "from datetime import datetime\n",
    "import git\n",
    "import os\n",
    "import re\n",
    "from typing import List\n",
    "from tqdm import tqdm\n",
    "import pandas as pd\n",
    "import numpy as np\n",
    "import matplotlib.pyplot as plt\n",
    "%matplotlib inline"
   ]
  },
  {
   "cell_type": "code",
   "execution_count": 2,
   "id": "f013a715",
   "metadata": {},
   "outputs": [
    {
     "data": {
      "text/plain": [
       "'/Users/anthonyhein/Desktop/SML310/project'"
      ]
     },
     "execution_count": 2,
     "metadata": {},
     "output_type": "execute_result"
    }
   ],
   "source": [
    "BASE_DIR = git.Repo(os.getcwd(), search_parent_directories=True).working_dir\n",
    "BASE_DIR"
   ]
  },
  {
   "cell_type": "markdown",
   "id": "900adb93",
   "metadata": {},
   "source": [
    "---"
   ]
  },
  {
   "cell_type": "markdown",
   "id": "75c7066e",
   "metadata": {},
   "source": [
    "## Load `horses_selected.csv`"
   ]
  },
  {
   "cell_type": "code",
   "execution_count": 3,
   "id": "cee61ac1",
   "metadata": {},
   "outputs": [
    {
     "data": {
      "text/html": [
       "<div>\n",
       "<style scoped>\n",
       "    .dataframe tbody tr th:only-of-type {\n",
       "        vertical-align: middle;\n",
       "    }\n",
       "\n",
       "    .dataframe tbody tr th {\n",
       "        vertical-align: top;\n",
       "    }\n",
       "\n",
       "    .dataframe thead th {\n",
       "        text-align: right;\n",
       "    }\n",
       "</style>\n",
       "<table border=\"1\" class=\"dataframe\">\n",
       "  <thead>\n",
       "    <tr style=\"text-align: right;\">\n",
       "      <th></th>\n",
       "      <th>rid</th>\n",
       "      <th>horseName</th>\n",
       "      <th>age</th>\n",
       "      <th>saddle</th>\n",
       "      <th>decimalPrice</th>\n",
       "      <th>isFav</th>\n",
       "      <th>trainerName</th>\n",
       "      <th>jockeyName</th>\n",
       "      <th>position</th>\n",
       "      <th>positionL</th>\n",
       "      <th>...</th>\n",
       "      <th>TR</th>\n",
       "      <th>OR</th>\n",
       "      <th>father</th>\n",
       "      <th>mother</th>\n",
       "      <th>gfather</th>\n",
       "      <th>runners</th>\n",
       "      <th>margin</th>\n",
       "      <th>weight</th>\n",
       "      <th>res_win</th>\n",
       "      <th>res_place</th>\n",
       "    </tr>\n",
       "  </thead>\n",
       "  <tbody>\n",
       "    <tr>\n",
       "      <th>0</th>\n",
       "      <td>302858</td>\n",
       "      <td>Kings Return</td>\n",
       "      <td>6.0</td>\n",
       "      <td>4.0</td>\n",
       "      <td>0.600000</td>\n",
       "      <td>1</td>\n",
       "      <td>W P Mullins</td>\n",
       "      <td>D J Casey</td>\n",
       "      <td>1</td>\n",
       "      <td>NaN</td>\n",
       "      <td>...</td>\n",
       "      <td>NaN</td>\n",
       "      <td>NaN</td>\n",
       "      <td>King's Ride</td>\n",
       "      <td>Browne's Return</td>\n",
       "      <td>Deep Run</td>\n",
       "      <td>6</td>\n",
       "      <td>1.219263</td>\n",
       "      <td>73</td>\n",
       "      <td>1.0</td>\n",
       "      <td>1.0</td>\n",
       "    </tr>\n",
       "    <tr>\n",
       "      <th>1</th>\n",
       "      <td>302858</td>\n",
       "      <td>Majestic Red I</td>\n",
       "      <td>6.0</td>\n",
       "      <td>5.0</td>\n",
       "      <td>0.047619</td>\n",
       "      <td>0</td>\n",
       "      <td>John Hackett</td>\n",
       "      <td>Conor O'Dwyer</td>\n",
       "      <td>2</td>\n",
       "      <td>8</td>\n",
       "      <td>...</td>\n",
       "      <td>NaN</td>\n",
       "      <td>NaN</td>\n",
       "      <td>Long Pond</td>\n",
       "      <td>Courtlough Lady</td>\n",
       "      <td>Giolla Mear</td>\n",
       "      <td>6</td>\n",
       "      <td>1.219263</td>\n",
       "      <td>73</td>\n",
       "      <td>0.0</td>\n",
       "      <td>1.0</td>\n",
       "    </tr>\n",
       "    <tr>\n",
       "      <th>2</th>\n",
       "      <td>302858</td>\n",
       "      <td>Clearly Canadian</td>\n",
       "      <td>6.0</td>\n",
       "      <td>2.0</td>\n",
       "      <td>0.166667</td>\n",
       "      <td>0</td>\n",
       "      <td>D T Hughes</td>\n",
       "      <td>G Cotter</td>\n",
       "      <td>3</td>\n",
       "      <td>1.5</td>\n",
       "      <td>...</td>\n",
       "      <td>NaN</td>\n",
       "      <td>NaN</td>\n",
       "      <td>Nordico</td>\n",
       "      <td>Over The Seas</td>\n",
       "      <td>North Summit</td>\n",
       "      <td>6</td>\n",
       "      <td>1.219263</td>\n",
       "      <td>71</td>\n",
       "      <td>0.0</td>\n",
       "      <td>0.0</td>\n",
       "    </tr>\n",
       "    <tr>\n",
       "      <th>3</th>\n",
       "      <td>302858</td>\n",
       "      <td>Bernestic Wonder</td>\n",
       "      <td>8.0</td>\n",
       "      <td>1.0</td>\n",
       "      <td>0.058824</td>\n",
       "      <td>0</td>\n",
       "      <td>E McNamara</td>\n",
       "      <td>J Old Jones</td>\n",
       "      <td>4</td>\n",
       "      <td>dist</td>\n",
       "      <td>...</td>\n",
       "      <td>NaN</td>\n",
       "      <td>NaN</td>\n",
       "      <td>Roselier</td>\n",
       "      <td>Miss Reindeer</td>\n",
       "      <td>Reindeer</td>\n",
       "      <td>6</td>\n",
       "      <td>1.219263</td>\n",
       "      <td>73</td>\n",
       "      <td>0.0</td>\n",
       "      <td>0.0</td>\n",
       "    </tr>\n",
       "    <tr>\n",
       "      <th>4</th>\n",
       "      <td>302858</td>\n",
       "      <td>Beauty's Pride</td>\n",
       "      <td>5.0</td>\n",
       "      <td>6.0</td>\n",
       "      <td>0.038462</td>\n",
       "      <td>0</td>\n",
       "      <td>J J Lennon</td>\n",
       "      <td>T Martin</td>\n",
       "      <td>5</td>\n",
       "      <td>dist</td>\n",
       "      <td>...</td>\n",
       "      <td>NaN</td>\n",
       "      <td>NaN</td>\n",
       "      <td>Noalto</td>\n",
       "      <td>Elena's Beauty</td>\n",
       "      <td>Tarqogan</td>\n",
       "      <td>6</td>\n",
       "      <td>1.219263</td>\n",
       "      <td>66</td>\n",
       "      <td>0.0</td>\n",
       "      <td>0.0</td>\n",
       "    </tr>\n",
       "  </tbody>\n",
       "</table>\n",
       "<p>5 rows × 27 columns</p>\n",
       "</div>"
      ],
      "text/plain": [
       "      rid         horseName  age  saddle  decimalPrice  isFav   trainerName  \\\n",
       "0  302858      Kings Return  6.0     4.0      0.600000      1   W P Mullins   \n",
       "1  302858    Majestic Red I  6.0     5.0      0.047619      0  John Hackett   \n",
       "2  302858  Clearly Canadian  6.0     2.0      0.166667      0    D T Hughes   \n",
       "3  302858  Bernestic Wonder  8.0     1.0      0.058824      0    E McNamara   \n",
       "4  302858    Beauty's Pride  5.0     6.0      0.038462      0    J J Lennon   \n",
       "\n",
       "      jockeyName  position positionL  ...  TR  OR       father  \\\n",
       "0      D J Casey         1       NaN  ... NaN NaN  King's Ride   \n",
       "1  Conor O'Dwyer         2         8  ... NaN NaN    Long Pond   \n",
       "2       G Cotter         3       1.5  ... NaN NaN      Nordico   \n",
       "3    J Old Jones         4      dist  ... NaN NaN     Roselier   \n",
       "4       T Martin         5      dist  ... NaN NaN       Noalto   \n",
       "\n",
       "            mother       gfather runners    margin  weight  res_win res_place  \n",
       "0  Browne's Return      Deep Run       6  1.219263      73      1.0       1.0  \n",
       "1  Courtlough Lady   Giolla Mear       6  1.219263      73      0.0       1.0  \n",
       "2    Over The Seas  North Summit       6  1.219263      71      0.0       0.0  \n",
       "3    Miss Reindeer      Reindeer       6  1.219263      73      0.0       0.0  \n",
       "4   Elena's Beauty      Tarqogan       6  1.219263      66      0.0       0.0  \n",
       "\n",
       "[5 rows x 27 columns]"
      ]
     },
     "execution_count": 3,
     "metadata": {},
     "output_type": "execute_result"
    }
   ],
   "source": [
    "horses_selected = pd.read_csv(f\"{BASE_DIR}/data/streamline/horses_selected.csv\", low_memory=False) \n",
    "horses_selected.head()"
   ]
  },
  {
   "cell_type": "code",
   "execution_count": 4,
   "id": "60fdc317",
   "metadata": {},
   "outputs": [
    {
     "data": {
      "text/plain": [
       "(205138, 27)"
      ]
     },
     "execution_count": 4,
     "metadata": {},
     "output_type": "execute_result"
    }
   ],
   "source": [
    "horses_selected.shape"
   ]
  },
  {
   "cell_type": "markdown",
   "id": "60c8851a",
   "metadata": {},
   "source": [
    "---"
   ]
  },
  {
   "cell_type": "markdown",
   "id": "0b786a0f",
   "metadata": {},
   "source": [
    "## Load `races_selected.csv`"
   ]
  },
  {
   "cell_type": "code",
   "execution_count": 5,
   "id": "823a3062",
   "metadata": {},
   "outputs": [
    {
     "data": {
      "text/html": [
       "<div>\n",
       "<style scoped>\n",
       "    .dataframe tbody tr th:only-of-type {\n",
       "        vertical-align: middle;\n",
       "    }\n",
       "\n",
       "    .dataframe tbody tr th {\n",
       "        vertical-align: top;\n",
       "    }\n",
       "\n",
       "    .dataframe thead th {\n",
       "        text-align: right;\n",
       "    }\n",
       "</style>\n",
       "<table border=\"1\" class=\"dataframe\">\n",
       "  <thead>\n",
       "    <tr style=\"text-align: right;\">\n",
       "      <th></th>\n",
       "      <th>rid</th>\n",
       "      <th>course</th>\n",
       "      <th>time</th>\n",
       "      <th>date</th>\n",
       "      <th>title</th>\n",
       "      <th>rclass</th>\n",
       "      <th>band</th>\n",
       "      <th>ages</th>\n",
       "      <th>distance</th>\n",
       "      <th>condition</th>\n",
       "      <th>hurdles</th>\n",
       "      <th>prizes</th>\n",
       "      <th>winningTime</th>\n",
       "      <th>prize</th>\n",
       "      <th>metric</th>\n",
       "      <th>countryCode</th>\n",
       "      <th>ncond</th>\n",
       "      <th>class</th>\n",
       "      <th>runners</th>\n",
       "    </tr>\n",
       "  </thead>\n",
       "  <tbody>\n",
       "    <tr>\n",
       "      <th>0</th>\n",
       "      <td>302858</td>\n",
       "      <td>Thurles (IRE)</td>\n",
       "      <td>01:15</td>\n",
       "      <td>97/01/09</td>\n",
       "      <td>Liffey Maiden Hurdle (Div 1)</td>\n",
       "      <td>NaN</td>\n",
       "      <td>NaN</td>\n",
       "      <td>5yo+</td>\n",
       "      <td>2m3f</td>\n",
       "      <td>Good</td>\n",
       "      <td>NaN</td>\n",
       "      <td>[]</td>\n",
       "      <td>277.2</td>\n",
       "      <td>NaN</td>\n",
       "      <td>3821.0</td>\n",
       "      <td>IE</td>\n",
       "      <td>1</td>\n",
       "      <td>0</td>\n",
       "      <td>6</td>\n",
       "    </tr>\n",
       "    <tr>\n",
       "      <th>1</th>\n",
       "      <td>291347</td>\n",
       "      <td>Punchestown (IRE)</td>\n",
       "      <td>03:40</td>\n",
       "      <td>97/02/16</td>\n",
       "      <td>Ericsson G.S.M. Grand National Trial Handicap ...</td>\n",
       "      <td>NaN</td>\n",
       "      <td>NaN</td>\n",
       "      <td>5yo+</td>\n",
       "      <td>3m2f</td>\n",
       "      <td>Soft</td>\n",
       "      <td>NaN</td>\n",
       "      <td>[]</td>\n",
       "      <td>447.2</td>\n",
       "      <td>NaN</td>\n",
       "      <td>5229.0</td>\n",
       "      <td>IE</td>\n",
       "      <td>5</td>\n",
       "      <td>0</td>\n",
       "      <td>9</td>\n",
       "    </tr>\n",
       "    <tr>\n",
       "      <th>2</th>\n",
       "      <td>75447</td>\n",
       "      <td>Listowel (IRE)</td>\n",
       "      <td>03:00</td>\n",
       "      <td>97/03/01</td>\n",
       "      <td>Ballybunion E.B.F. Beginners S'chase</td>\n",
       "      <td>NaN</td>\n",
       "      <td>NaN</td>\n",
       "      <td>4yo+</td>\n",
       "      <td>2m2f</td>\n",
       "      <td>Soft</td>\n",
       "      <td>NaN</td>\n",
       "      <td>[]</td>\n",
       "      <td>318.4</td>\n",
       "      <td>NaN</td>\n",
       "      <td>3620.0</td>\n",
       "      <td>IE</td>\n",
       "      <td>5</td>\n",
       "      <td>0</td>\n",
       "      <td>8</td>\n",
       "    </tr>\n",
       "    <tr>\n",
       "      <th>3</th>\n",
       "      <td>358038</td>\n",
       "      <td>Punchestown (IRE)</td>\n",
       "      <td>02:40</td>\n",
       "      <td>97/04/24</td>\n",
       "      <td>Quinns Of Baltinglass Chase (La Touche) (Cross...</td>\n",
       "      <td>NaN</td>\n",
       "      <td>NaN</td>\n",
       "      <td>5yo+</td>\n",
       "      <td>4m1f</td>\n",
       "      <td>Good</td>\n",
       "      <td>NaN</td>\n",
       "      <td>[]</td>\n",
       "      <td>533.9</td>\n",
       "      <td>NaN</td>\n",
       "      <td>6637.0</td>\n",
       "      <td>IE</td>\n",
       "      <td>1</td>\n",
       "      <td>0</td>\n",
       "      <td>10</td>\n",
       "    </tr>\n",
       "    <tr>\n",
       "      <th>4</th>\n",
       "      <td>78982</td>\n",
       "      <td>Dundalk (IRE)</td>\n",
       "      <td>05:15</td>\n",
       "      <td>97/05/02</td>\n",
       "      <td>Carlingford Handicap Chase</td>\n",
       "      <td>NaN</td>\n",
       "      <td>0-109</td>\n",
       "      <td>4yo+</td>\n",
       "      <td>3m</td>\n",
       "      <td>Firm</td>\n",
       "      <td>NaN</td>\n",
       "      <td>[]</td>\n",
       "      <td>370.3</td>\n",
       "      <td>NaN</td>\n",
       "      <td>4827.0</td>\n",
       "      <td>IE</td>\n",
       "      <td>8</td>\n",
       "      <td>0</td>\n",
       "      <td>4</td>\n",
       "    </tr>\n",
       "  </tbody>\n",
       "</table>\n",
       "</div>"
      ],
      "text/plain": [
       "      rid             course   time      date  \\\n",
       "0  302858      Thurles (IRE)  01:15  97/01/09   \n",
       "1  291347  Punchestown (IRE)  03:40  97/02/16   \n",
       "2   75447     Listowel (IRE)  03:00  97/03/01   \n",
       "3  358038  Punchestown (IRE)  02:40  97/04/24   \n",
       "4   78982      Dundalk (IRE)  05:15  97/05/02   \n",
       "\n",
       "                                               title rclass   band  ages  \\\n",
       "0                       Liffey Maiden Hurdle (Div 1)    NaN    NaN  5yo+   \n",
       "1  Ericsson G.S.M. Grand National Trial Handicap ...    NaN    NaN  5yo+   \n",
       "2               Ballybunion E.B.F. Beginners S'chase    NaN    NaN  4yo+   \n",
       "3  Quinns Of Baltinglass Chase (La Touche) (Cross...    NaN    NaN  5yo+   \n",
       "4                         Carlingford Handicap Chase    NaN  0-109  4yo+   \n",
       "\n",
       "  distance condition  hurdles prizes  winningTime  prize  metric countryCode  \\\n",
       "0     2m3f      Good      NaN     []        277.2    NaN  3821.0          IE   \n",
       "1     3m2f      Soft      NaN     []        447.2    NaN  5229.0          IE   \n",
       "2     2m2f      Soft      NaN     []        318.4    NaN  3620.0          IE   \n",
       "3     4m1f      Good      NaN     []        533.9    NaN  6637.0          IE   \n",
       "4       3m      Firm      NaN     []        370.3    NaN  4827.0          IE   \n",
       "\n",
       "   ncond  class  runners  \n",
       "0      1      0        6  \n",
       "1      5      0        9  \n",
       "2      5      0        8  \n",
       "3      1      0       10  \n",
       "4      8      0        4  "
      ]
     },
     "execution_count": 5,
     "metadata": {},
     "output_type": "execute_result"
    }
   ],
   "source": [
    "races_selected = pd.read_csv(f\"{BASE_DIR}/data/streamline/races_selected.csv\", low_memory=False) \n",
    "races_selected.head()"
   ]
  },
  {
   "cell_type": "code",
   "execution_count": 6,
   "id": "30c50796",
   "metadata": {},
   "outputs": [
    {
     "data": {
      "text/plain": [
       "(20574, 19)"
      ]
     },
     "execution_count": 6,
     "metadata": {},
     "output_type": "execute_result"
    }
   ],
   "source": [
    "races_selected.shape"
   ]
  },
  {
   "cell_type": "code",
   "execution_count": 7,
   "id": "124bf6c5",
   "metadata": {},
   "outputs": [
    {
     "data": {
      "text/html": [
       "<div>\n",
       "<style scoped>\n",
       "    .dataframe tbody tr th:only-of-type {\n",
       "        vertical-align: middle;\n",
       "    }\n",
       "\n",
       "    .dataframe tbody tr th {\n",
       "        vertical-align: top;\n",
       "    }\n",
       "\n",
       "    .dataframe thead th {\n",
       "        text-align: right;\n",
       "    }\n",
       "</style>\n",
       "<table border=\"1\" class=\"dataframe\">\n",
       "  <thead>\n",
       "    <tr style=\"text-align: right;\">\n",
       "      <th></th>\n",
       "      <th>rid</th>\n",
       "      <th>course</th>\n",
       "      <th>time</th>\n",
       "      <th>date</th>\n",
       "      <th>title</th>\n",
       "      <th>rclass</th>\n",
       "      <th>band</th>\n",
       "      <th>ages</th>\n",
       "      <th>distance</th>\n",
       "      <th>condition</th>\n",
       "      <th>hurdles</th>\n",
       "      <th>prizes</th>\n",
       "      <th>winningTime</th>\n",
       "      <th>prize</th>\n",
       "      <th>metric</th>\n",
       "      <th>countryCode</th>\n",
       "      <th>ncond</th>\n",
       "      <th>class</th>\n",
       "      <th>runners</th>\n",
       "    </tr>\n",
       "  </thead>\n",
       "  <tbody>\n",
       "    <tr>\n",
       "      <th>0</th>\n",
       "      <td>302858</td>\n",
       "      <td>Thurles (IRE)</td>\n",
       "      <td>01:15</td>\n",
       "      <td>97/01/09</td>\n",
       "      <td>Liffey Maiden Hurdle (Div 1)</td>\n",
       "      <td>NaN</td>\n",
       "      <td>NaN</td>\n",
       "      <td>5yo+</td>\n",
       "      <td>2m3f</td>\n",
       "      <td>Good</td>\n",
       "      <td>NaN</td>\n",
       "      <td>[]</td>\n",
       "      <td>277.2</td>\n",
       "      <td>NaN</td>\n",
       "      <td>3821.0</td>\n",
       "      <td>IE</td>\n",
       "      <td>1</td>\n",
       "      <td>0</td>\n",
       "      <td>6</td>\n",
       "    </tr>\n",
       "    <tr>\n",
       "      <th>1</th>\n",
       "      <td>291347</td>\n",
       "      <td>Punchestown (IRE)</td>\n",
       "      <td>03:40</td>\n",
       "      <td>97/02/16</td>\n",
       "      <td>Ericsson G.S.M. Grand National Trial Handicap ...</td>\n",
       "      <td>NaN</td>\n",
       "      <td>NaN</td>\n",
       "      <td>5yo+</td>\n",
       "      <td>3m2f</td>\n",
       "      <td>Soft</td>\n",
       "      <td>NaN</td>\n",
       "      <td>[]</td>\n",
       "      <td>447.2</td>\n",
       "      <td>NaN</td>\n",
       "      <td>5229.0</td>\n",
       "      <td>IE</td>\n",
       "      <td>5</td>\n",
       "      <td>0</td>\n",
       "      <td>9</td>\n",
       "    </tr>\n",
       "    <tr>\n",
       "      <th>2</th>\n",
       "      <td>75447</td>\n",
       "      <td>Listowel (IRE)</td>\n",
       "      <td>03:00</td>\n",
       "      <td>97/03/01</td>\n",
       "      <td>Ballybunion E.B.F. Beginners S'chase</td>\n",
       "      <td>NaN</td>\n",
       "      <td>NaN</td>\n",
       "      <td>4yo+</td>\n",
       "      <td>2m2f</td>\n",
       "      <td>Soft</td>\n",
       "      <td>NaN</td>\n",
       "      <td>[]</td>\n",
       "      <td>318.4</td>\n",
       "      <td>NaN</td>\n",
       "      <td>3620.0</td>\n",
       "      <td>IE</td>\n",
       "      <td>5</td>\n",
       "      <td>0</td>\n",
       "      <td>8</td>\n",
       "    </tr>\n",
       "    <tr>\n",
       "      <th>3</th>\n",
       "      <td>358038</td>\n",
       "      <td>Punchestown (IRE)</td>\n",
       "      <td>02:40</td>\n",
       "      <td>97/04/24</td>\n",
       "      <td>Quinns Of Baltinglass Chase (La Touche) (Cross...</td>\n",
       "      <td>NaN</td>\n",
       "      <td>NaN</td>\n",
       "      <td>5yo+</td>\n",
       "      <td>4m1f</td>\n",
       "      <td>Good</td>\n",
       "      <td>NaN</td>\n",
       "      <td>[]</td>\n",
       "      <td>533.9</td>\n",
       "      <td>NaN</td>\n",
       "      <td>6637.0</td>\n",
       "      <td>IE</td>\n",
       "      <td>1</td>\n",
       "      <td>0</td>\n",
       "      <td>10</td>\n",
       "    </tr>\n",
       "    <tr>\n",
       "      <th>4</th>\n",
       "      <td>78982</td>\n",
       "      <td>Dundalk (IRE)</td>\n",
       "      <td>05:15</td>\n",
       "      <td>97/05/02</td>\n",
       "      <td>Carlingford Handicap Chase</td>\n",
       "      <td>NaN</td>\n",
       "      <td>0-109</td>\n",
       "      <td>4yo+</td>\n",
       "      <td>3m</td>\n",
       "      <td>Firm</td>\n",
       "      <td>NaN</td>\n",
       "      <td>[]</td>\n",
       "      <td>370.3</td>\n",
       "      <td>NaN</td>\n",
       "      <td>4827.0</td>\n",
       "      <td>IE</td>\n",
       "      <td>8</td>\n",
       "      <td>0</td>\n",
       "      <td>4</td>\n",
       "    </tr>\n",
       "  </tbody>\n",
       "</table>\n",
       "</div>"
      ],
      "text/plain": [
       "      rid             course   time      date  \\\n",
       "0  302858      Thurles (IRE)  01:15  97/01/09   \n",
       "1  291347  Punchestown (IRE)  03:40  97/02/16   \n",
       "2   75447     Listowel (IRE)  03:00  97/03/01   \n",
       "3  358038  Punchestown (IRE)  02:40  97/04/24   \n",
       "4   78982      Dundalk (IRE)  05:15  97/05/02   \n",
       "\n",
       "                                               title rclass   band  ages  \\\n",
       "0                       Liffey Maiden Hurdle (Div 1)    NaN    NaN  5yo+   \n",
       "1  Ericsson G.S.M. Grand National Trial Handicap ...    NaN    NaN  5yo+   \n",
       "2               Ballybunion E.B.F. Beginners S'chase    NaN    NaN  4yo+   \n",
       "3  Quinns Of Baltinglass Chase (La Touche) (Cross...    NaN    NaN  5yo+   \n",
       "4                         Carlingford Handicap Chase    NaN  0-109  4yo+   \n",
       "\n",
       "  distance condition  hurdles prizes  winningTime  prize  metric countryCode  \\\n",
       "0     2m3f      Good      NaN     []        277.2    NaN  3821.0          IE   \n",
       "1     3m2f      Soft      NaN     []        447.2    NaN  5229.0          IE   \n",
       "2     2m2f      Soft      NaN     []        318.4    NaN  3620.0          IE   \n",
       "3     4m1f      Good      NaN     []        533.9    NaN  6637.0          IE   \n",
       "4       3m      Firm      NaN     []        370.3    NaN  4827.0          IE   \n",
       "\n",
       "   ncond  class  runners  \n",
       "0      1      0        6  \n",
       "1      5      0        9  \n",
       "2      5      0        8  \n",
       "3      1      0       10  \n",
       "4      8      0        4  "
      ]
     },
     "execution_count": 7,
     "metadata": {},
     "output_type": "execute_result"
    }
   ],
   "source": [
    "races_selected_augment_non_weather = races_selected.copy()\n",
    "races_selected_augment_non_weather.head()"
   ]
  },
  {
   "cell_type": "markdown",
   "id": "76d6c1be",
   "metadata": {},
   "source": [
    "---"
   ]
  },
  {
   "cell_type": "markdown",
   "id": "a3e34026",
   "metadata": {},
   "source": [
    "## Augment `races_selected.csv` w/ `margin` Information"
   ]
  },
  {
   "cell_type": "code",
   "execution_count": 8,
   "id": "cba0e677",
   "metadata": {},
   "outputs": [
    {
     "name": "stderr",
     "output_type": "stream",
     "text": [
      "100%|████████████████████████████████████████████████████████████████████████████████████████████████████████████████████████████| 20574/20574 [00:10<00:00, 2039.62it/s]\n"
     ]
    }
   ],
   "source": [
    "rid_to_margin = {}\n",
    "for rid in tqdm(races_selected['rid']):\n",
    "    rid_to_margin[rid] = sum(horses_selected[horses_selected['rid'] == rid]['decimalPrice'])"
   ]
  },
  {
   "cell_type": "code",
   "execution_count": 9,
   "id": "e957ff4c",
   "metadata": {},
   "outputs": [
    {
     "data": {
      "text/html": [
       "<div>\n",
       "<style scoped>\n",
       "    .dataframe tbody tr th:only-of-type {\n",
       "        vertical-align: middle;\n",
       "    }\n",
       "\n",
       "    .dataframe tbody tr th {\n",
       "        vertical-align: top;\n",
       "    }\n",
       "\n",
       "    .dataframe thead th {\n",
       "        text-align: right;\n",
       "    }\n",
       "</style>\n",
       "<table border=\"1\" class=\"dataframe\">\n",
       "  <thead>\n",
       "    <tr style=\"text-align: right;\">\n",
       "      <th></th>\n",
       "      <th>rid</th>\n",
       "      <th>margin</th>\n",
       "    </tr>\n",
       "  </thead>\n",
       "  <tbody>\n",
       "    <tr>\n",
       "      <th>0</th>\n",
       "      <td>302858</td>\n",
       "      <td>1.219263</td>\n",
       "    </tr>\n",
       "    <tr>\n",
       "      <th>1</th>\n",
       "      <td>291347</td>\n",
       "      <td>1.218049</td>\n",
       "    </tr>\n",
       "    <tr>\n",
       "      <th>2</th>\n",
       "      <td>75447</td>\n",
       "      <td>1.277320</td>\n",
       "    </tr>\n",
       "    <tr>\n",
       "      <th>3</th>\n",
       "      <td>358038</td>\n",
       "      <td>1.286595</td>\n",
       "    </tr>\n",
       "    <tr>\n",
       "      <th>4</th>\n",
       "      <td>78982</td>\n",
       "      <td>1.090018</td>\n",
       "    </tr>\n",
       "  </tbody>\n",
       "</table>\n",
       "</div>"
      ],
      "text/plain": [
       "      rid    margin\n",
       "0  302858  1.219263\n",
       "1  291347  1.218049\n",
       "2   75447  1.277320\n",
       "3  358038  1.286595\n",
       "4   78982  1.090018"
      ]
     },
     "execution_count": 9,
     "metadata": {},
     "output_type": "execute_result"
    }
   ],
   "source": [
    "rename_cols = {\n",
    "    'index': 'rid',\n",
    "    0: 'margin',\n",
    "}\n",
    "\n",
    "df_margins = pd.DataFrame.from_dict(rid_to_margin, orient='index').reset_index().rename(columns=rename_cols)\n",
    "df_margins.head()"
   ]
  },
  {
   "cell_type": "code",
   "execution_count": 10,
   "id": "596ad45b",
   "metadata": {},
   "outputs": [
    {
     "data": {
      "text/html": [
       "<div>\n",
       "<style scoped>\n",
       "    .dataframe tbody tr th:only-of-type {\n",
       "        vertical-align: middle;\n",
       "    }\n",
       "\n",
       "    .dataframe tbody tr th {\n",
       "        vertical-align: top;\n",
       "    }\n",
       "\n",
       "    .dataframe thead th {\n",
       "        text-align: right;\n",
       "    }\n",
       "</style>\n",
       "<table border=\"1\" class=\"dataframe\">\n",
       "  <thead>\n",
       "    <tr style=\"text-align: right;\">\n",
       "      <th></th>\n",
       "      <th>rid</th>\n",
       "      <th>course</th>\n",
       "      <th>time</th>\n",
       "      <th>date</th>\n",
       "      <th>title</th>\n",
       "      <th>rclass</th>\n",
       "      <th>band</th>\n",
       "      <th>ages</th>\n",
       "      <th>distance</th>\n",
       "      <th>condition</th>\n",
       "      <th>hurdles</th>\n",
       "      <th>prizes</th>\n",
       "      <th>winningTime</th>\n",
       "      <th>prize</th>\n",
       "      <th>metric</th>\n",
       "      <th>countryCode</th>\n",
       "      <th>ncond</th>\n",
       "      <th>class</th>\n",
       "      <th>runners</th>\n",
       "      <th>margin</th>\n",
       "    </tr>\n",
       "  </thead>\n",
       "  <tbody>\n",
       "    <tr>\n",
       "      <th>0</th>\n",
       "      <td>302858</td>\n",
       "      <td>Thurles (IRE)</td>\n",
       "      <td>01:15</td>\n",
       "      <td>97/01/09</td>\n",
       "      <td>Liffey Maiden Hurdle (Div 1)</td>\n",
       "      <td>NaN</td>\n",
       "      <td>NaN</td>\n",
       "      <td>5yo+</td>\n",
       "      <td>2m3f</td>\n",
       "      <td>Good</td>\n",
       "      <td>NaN</td>\n",
       "      <td>[]</td>\n",
       "      <td>277.2</td>\n",
       "      <td>NaN</td>\n",
       "      <td>3821.0</td>\n",
       "      <td>IE</td>\n",
       "      <td>1</td>\n",
       "      <td>0</td>\n",
       "      <td>6</td>\n",
       "      <td>1.219263</td>\n",
       "    </tr>\n",
       "    <tr>\n",
       "      <th>1</th>\n",
       "      <td>291347</td>\n",
       "      <td>Punchestown (IRE)</td>\n",
       "      <td>03:40</td>\n",
       "      <td>97/02/16</td>\n",
       "      <td>Ericsson G.S.M. Grand National Trial Handicap ...</td>\n",
       "      <td>NaN</td>\n",
       "      <td>NaN</td>\n",
       "      <td>5yo+</td>\n",
       "      <td>3m2f</td>\n",
       "      <td>Soft</td>\n",
       "      <td>NaN</td>\n",
       "      <td>[]</td>\n",
       "      <td>447.2</td>\n",
       "      <td>NaN</td>\n",
       "      <td>5229.0</td>\n",
       "      <td>IE</td>\n",
       "      <td>5</td>\n",
       "      <td>0</td>\n",
       "      <td>9</td>\n",
       "      <td>1.218049</td>\n",
       "    </tr>\n",
       "    <tr>\n",
       "      <th>2</th>\n",
       "      <td>75447</td>\n",
       "      <td>Listowel (IRE)</td>\n",
       "      <td>03:00</td>\n",
       "      <td>97/03/01</td>\n",
       "      <td>Ballybunion E.B.F. Beginners S'chase</td>\n",
       "      <td>NaN</td>\n",
       "      <td>NaN</td>\n",
       "      <td>4yo+</td>\n",
       "      <td>2m2f</td>\n",
       "      <td>Soft</td>\n",
       "      <td>NaN</td>\n",
       "      <td>[]</td>\n",
       "      <td>318.4</td>\n",
       "      <td>NaN</td>\n",
       "      <td>3620.0</td>\n",
       "      <td>IE</td>\n",
       "      <td>5</td>\n",
       "      <td>0</td>\n",
       "      <td>8</td>\n",
       "      <td>1.277320</td>\n",
       "    </tr>\n",
       "    <tr>\n",
       "      <th>3</th>\n",
       "      <td>358038</td>\n",
       "      <td>Punchestown (IRE)</td>\n",
       "      <td>02:40</td>\n",
       "      <td>97/04/24</td>\n",
       "      <td>Quinns Of Baltinglass Chase (La Touche) (Cross...</td>\n",
       "      <td>NaN</td>\n",
       "      <td>NaN</td>\n",
       "      <td>5yo+</td>\n",
       "      <td>4m1f</td>\n",
       "      <td>Good</td>\n",
       "      <td>NaN</td>\n",
       "      <td>[]</td>\n",
       "      <td>533.9</td>\n",
       "      <td>NaN</td>\n",
       "      <td>6637.0</td>\n",
       "      <td>IE</td>\n",
       "      <td>1</td>\n",
       "      <td>0</td>\n",
       "      <td>10</td>\n",
       "      <td>1.286595</td>\n",
       "    </tr>\n",
       "    <tr>\n",
       "      <th>4</th>\n",
       "      <td>78982</td>\n",
       "      <td>Dundalk (IRE)</td>\n",
       "      <td>05:15</td>\n",
       "      <td>97/05/02</td>\n",
       "      <td>Carlingford Handicap Chase</td>\n",
       "      <td>NaN</td>\n",
       "      <td>0-109</td>\n",
       "      <td>4yo+</td>\n",
       "      <td>3m</td>\n",
       "      <td>Firm</td>\n",
       "      <td>NaN</td>\n",
       "      <td>[]</td>\n",
       "      <td>370.3</td>\n",
       "      <td>NaN</td>\n",
       "      <td>4827.0</td>\n",
       "      <td>IE</td>\n",
       "      <td>8</td>\n",
       "      <td>0</td>\n",
       "      <td>4</td>\n",
       "      <td>1.090018</td>\n",
       "    </tr>\n",
       "  </tbody>\n",
       "</table>\n",
       "</div>"
      ],
      "text/plain": [
       "      rid             course   time      date  \\\n",
       "0  302858      Thurles (IRE)  01:15  97/01/09   \n",
       "1  291347  Punchestown (IRE)  03:40  97/02/16   \n",
       "2   75447     Listowel (IRE)  03:00  97/03/01   \n",
       "3  358038  Punchestown (IRE)  02:40  97/04/24   \n",
       "4   78982      Dundalk (IRE)  05:15  97/05/02   \n",
       "\n",
       "                                               title rclass   band  ages  \\\n",
       "0                       Liffey Maiden Hurdle (Div 1)    NaN    NaN  5yo+   \n",
       "1  Ericsson G.S.M. Grand National Trial Handicap ...    NaN    NaN  5yo+   \n",
       "2               Ballybunion E.B.F. Beginners S'chase    NaN    NaN  4yo+   \n",
       "3  Quinns Of Baltinglass Chase (La Touche) (Cross...    NaN    NaN  5yo+   \n",
       "4                         Carlingford Handicap Chase    NaN  0-109  4yo+   \n",
       "\n",
       "  distance condition  hurdles prizes  winningTime  prize  metric countryCode  \\\n",
       "0     2m3f      Good      NaN     []        277.2    NaN  3821.0          IE   \n",
       "1     3m2f      Soft      NaN     []        447.2    NaN  5229.0          IE   \n",
       "2     2m2f      Soft      NaN     []        318.4    NaN  3620.0          IE   \n",
       "3     4m1f      Good      NaN     []        533.9    NaN  6637.0          IE   \n",
       "4       3m      Firm      NaN     []        370.3    NaN  4827.0          IE   \n",
       "\n",
       "   ncond  class  runners    margin  \n",
       "0      1      0        6  1.219263  \n",
       "1      5      0        9  1.218049  \n",
       "2      5      0        8  1.277320  \n",
       "3      1      0       10  1.286595  \n",
       "4      8      0        4  1.090018  "
      ]
     },
     "execution_count": 10,
     "metadata": {},
     "output_type": "execute_result"
    }
   ],
   "source": [
    "races_selected_augment_non_weather = races_selected_augment_non_weather.merge(df_margins, how='inner', on='rid')\n",
    "races_selected_augment_non_weather.head()"
   ]
  },
  {
   "cell_type": "code",
   "execution_count": 11,
   "id": "9684933c",
   "metadata": {},
   "outputs": [],
   "source": [
    "assert abs(sum(horses_selected[horses_selected['rid'] == 302858]['decimalPrice']) - 1.219263) < 1e-3"
   ]
  },
  {
   "cell_type": "markdown",
   "id": "d1440e55",
   "metadata": {},
   "source": [
    "---"
   ]
  },
  {
   "cell_type": "markdown",
   "id": "86a482e9",
   "metadata": {},
   "source": [
    "## Augment `races_selected.csv` w/ Winner Information"
   ]
  },
  {
   "cell_type": "markdown",
   "id": "f59f948b",
   "metadata": {},
   "source": [
    "First, we will add three columns called `1st_place_rank_in_odds`, `2nd_place_rank_in_odds`, and `3rd_place_rank_in_odds`. We explain the meaning of one of these columns, `1st_place_rank_in_odds`, whereas the others are symmetric."
   ]
  },
  {
   "cell_type": "markdown",
   "id": "170ff869",
   "metadata": {},
   "source": [
    "A value $x$ in column `1st_place_rank_in_odds` means that, after sorting the odds in decreasing order (such that the horse _projected_ to win is at the front of this sorted list), the horse which _actually_ won is at position $x$."
   ]
  },
  {
   "cell_type": "markdown",
   "id": "d5f4c15d",
   "metadata": {},
   "source": [
    "Note, in the `decimalPrice` column, higher numbers mean that the horse is more likely to win, according to the sportsbook."
   ]
  },
  {
   "cell_type": "code",
   "execution_count": 12,
   "id": "9b567b02",
   "metadata": {},
   "outputs": [
    {
     "name": "stderr",
     "output_type": "stream",
     "text": [
      "100%|█████████████████████████████████████████████████████████████████████████████████████████████████████████████████████████████| 20574/20574 [00:43<00:00, 477.81it/s]\n"
     ]
    }
   ],
   "source": [
    "rid_to_winner_rank_in_odds = {}\n",
    "\n",
    "for rid in tqdm(races_selected['rid']):\n",
    "    horses = horses_selected[horses_selected['rid'] == rid][['position', 'decimalPrice']]\n",
    "    \n",
    "    top_three_odds = horses.sort_values(by=['position', 'decimalPrice'], ascending=[True, False]).head(3)\n",
    "\n",
    "    rid_to_winner_rank_in_odds[rid] = {\n",
    "        \"1st_place_rank_in_odds\": sum(horses['decimalPrice'] > top_three_odds.iloc[0]['decimalPrice']) + 1,\n",
    "        \"2nd_place_rank_in_odds\": sum(horses['decimalPrice'] > top_three_odds.iloc[1]['decimalPrice']) + 1,\n",
    "        \"3rd_place_rank_in_odds\": sum(horses['decimalPrice'] > top_three_odds.iloc[2]['decimalPrice']) + 1,\n",
    "    }"
   ]
  },
  {
   "cell_type": "code",
   "execution_count": 13,
   "id": "fd4300d9",
   "metadata": {},
   "outputs": [
    {
     "data": {
      "text/html": [
       "<div>\n",
       "<style scoped>\n",
       "    .dataframe tbody tr th:only-of-type {\n",
       "        vertical-align: middle;\n",
       "    }\n",
       "\n",
       "    .dataframe tbody tr th {\n",
       "        vertical-align: top;\n",
       "    }\n",
       "\n",
       "    .dataframe thead th {\n",
       "        text-align: right;\n",
       "    }\n",
       "</style>\n",
       "<table border=\"1\" class=\"dataframe\">\n",
       "  <thead>\n",
       "    <tr style=\"text-align: right;\">\n",
       "      <th></th>\n",
       "      <th>rid</th>\n",
       "      <th>1st_place_rank_in_odds</th>\n",
       "      <th>2nd_place_rank_in_odds</th>\n",
       "      <th>3rd_place_rank_in_odds</th>\n",
       "    </tr>\n",
       "  </thead>\n",
       "  <tbody>\n",
       "    <tr>\n",
       "      <th>0</th>\n",
       "      <td>302858</td>\n",
       "      <td>1</td>\n",
       "      <td>5</td>\n",
       "      <td>3</td>\n",
       "    </tr>\n",
       "    <tr>\n",
       "      <th>1</th>\n",
       "      <td>291347</td>\n",
       "      <td>4</td>\n",
       "      <td>2</td>\n",
       "      <td>8</td>\n",
       "    </tr>\n",
       "    <tr>\n",
       "      <th>2</th>\n",
       "      <td>75447</td>\n",
       "      <td>3</td>\n",
       "      <td>2</td>\n",
       "      <td>6</td>\n",
       "    </tr>\n",
       "    <tr>\n",
       "      <th>3</th>\n",
       "      <td>358038</td>\n",
       "      <td>1</td>\n",
       "      <td>3</td>\n",
       "      <td>5</td>\n",
       "    </tr>\n",
       "    <tr>\n",
       "      <th>4</th>\n",
       "      <td>78982</td>\n",
       "      <td>1</td>\n",
       "      <td>4</td>\n",
       "      <td>2</td>\n",
       "    </tr>\n",
       "  </tbody>\n",
       "</table>\n",
       "</div>"
      ],
      "text/plain": [
       "      rid  1st_place_rank_in_odds  2nd_place_rank_in_odds  \\\n",
       "0  302858                       1                       5   \n",
       "1  291347                       4                       2   \n",
       "2   75447                       3                       2   \n",
       "3  358038                       1                       3   \n",
       "4   78982                       1                       4   \n",
       "\n",
       "   3rd_place_rank_in_odds  \n",
       "0                       3  \n",
       "1                       8  \n",
       "2                       6  \n",
       "3                       5  \n",
       "4                       2  "
      ]
     },
     "execution_count": 13,
     "metadata": {},
     "output_type": "execute_result"
    }
   ],
   "source": [
    "rename_cols = {\n",
    "    'index': 'rid',\n",
    "}\n",
    "\n",
    "df_winner_rank_in_odds = pd.DataFrame.from_dict(rid_to_winner_rank_in_odds, orient='index') \\\n",
    "                                     .reset_index() \\\n",
    "                                     .rename(columns=rename_cols)\n",
    "\n",
    "df_winner_rank_in_odds.head()"
   ]
  },
  {
   "cell_type": "code",
   "execution_count": 14,
   "id": "e17fc4b8",
   "metadata": {},
   "outputs": [
    {
     "data": {
      "text/html": [
       "<div>\n",
       "<style scoped>\n",
       "    .dataframe tbody tr th:only-of-type {\n",
       "        vertical-align: middle;\n",
       "    }\n",
       "\n",
       "    .dataframe tbody tr th {\n",
       "        vertical-align: top;\n",
       "    }\n",
       "\n",
       "    .dataframe thead th {\n",
       "        text-align: right;\n",
       "    }\n",
       "</style>\n",
       "<table border=\"1\" class=\"dataframe\">\n",
       "  <thead>\n",
       "    <tr style=\"text-align: right;\">\n",
       "      <th></th>\n",
       "      <th>rid</th>\n",
       "      <th>course</th>\n",
       "      <th>time</th>\n",
       "      <th>date</th>\n",
       "      <th>title</th>\n",
       "      <th>rclass</th>\n",
       "      <th>band</th>\n",
       "      <th>ages</th>\n",
       "      <th>distance</th>\n",
       "      <th>condition</th>\n",
       "      <th>...</th>\n",
       "      <th>prize</th>\n",
       "      <th>metric</th>\n",
       "      <th>countryCode</th>\n",
       "      <th>ncond</th>\n",
       "      <th>class</th>\n",
       "      <th>runners</th>\n",
       "      <th>margin</th>\n",
       "      <th>1st_place_rank_in_odds</th>\n",
       "      <th>2nd_place_rank_in_odds</th>\n",
       "      <th>3rd_place_rank_in_odds</th>\n",
       "    </tr>\n",
       "  </thead>\n",
       "  <tbody>\n",
       "    <tr>\n",
       "      <th>0</th>\n",
       "      <td>302858</td>\n",
       "      <td>Thurles (IRE)</td>\n",
       "      <td>01:15</td>\n",
       "      <td>97/01/09</td>\n",
       "      <td>Liffey Maiden Hurdle (Div 1)</td>\n",
       "      <td>NaN</td>\n",
       "      <td>NaN</td>\n",
       "      <td>5yo+</td>\n",
       "      <td>2m3f</td>\n",
       "      <td>Good</td>\n",
       "      <td>...</td>\n",
       "      <td>NaN</td>\n",
       "      <td>3821.0</td>\n",
       "      <td>IE</td>\n",
       "      <td>1</td>\n",
       "      <td>0</td>\n",
       "      <td>6</td>\n",
       "      <td>1.219263</td>\n",
       "      <td>1</td>\n",
       "      <td>5</td>\n",
       "      <td>3</td>\n",
       "    </tr>\n",
       "    <tr>\n",
       "      <th>1</th>\n",
       "      <td>291347</td>\n",
       "      <td>Punchestown (IRE)</td>\n",
       "      <td>03:40</td>\n",
       "      <td>97/02/16</td>\n",
       "      <td>Ericsson G.S.M. Grand National Trial Handicap ...</td>\n",
       "      <td>NaN</td>\n",
       "      <td>NaN</td>\n",
       "      <td>5yo+</td>\n",
       "      <td>3m2f</td>\n",
       "      <td>Soft</td>\n",
       "      <td>...</td>\n",
       "      <td>NaN</td>\n",
       "      <td>5229.0</td>\n",
       "      <td>IE</td>\n",
       "      <td>5</td>\n",
       "      <td>0</td>\n",
       "      <td>9</td>\n",
       "      <td>1.218049</td>\n",
       "      <td>4</td>\n",
       "      <td>2</td>\n",
       "      <td>8</td>\n",
       "    </tr>\n",
       "    <tr>\n",
       "      <th>2</th>\n",
       "      <td>75447</td>\n",
       "      <td>Listowel (IRE)</td>\n",
       "      <td>03:00</td>\n",
       "      <td>97/03/01</td>\n",
       "      <td>Ballybunion E.B.F. Beginners S'chase</td>\n",
       "      <td>NaN</td>\n",
       "      <td>NaN</td>\n",
       "      <td>4yo+</td>\n",
       "      <td>2m2f</td>\n",
       "      <td>Soft</td>\n",
       "      <td>...</td>\n",
       "      <td>NaN</td>\n",
       "      <td>3620.0</td>\n",
       "      <td>IE</td>\n",
       "      <td>5</td>\n",
       "      <td>0</td>\n",
       "      <td>8</td>\n",
       "      <td>1.277320</td>\n",
       "      <td>3</td>\n",
       "      <td>2</td>\n",
       "      <td>6</td>\n",
       "    </tr>\n",
       "    <tr>\n",
       "      <th>3</th>\n",
       "      <td>358038</td>\n",
       "      <td>Punchestown (IRE)</td>\n",
       "      <td>02:40</td>\n",
       "      <td>97/04/24</td>\n",
       "      <td>Quinns Of Baltinglass Chase (La Touche) (Cross...</td>\n",
       "      <td>NaN</td>\n",
       "      <td>NaN</td>\n",
       "      <td>5yo+</td>\n",
       "      <td>4m1f</td>\n",
       "      <td>Good</td>\n",
       "      <td>...</td>\n",
       "      <td>NaN</td>\n",
       "      <td>6637.0</td>\n",
       "      <td>IE</td>\n",
       "      <td>1</td>\n",
       "      <td>0</td>\n",
       "      <td>10</td>\n",
       "      <td>1.286595</td>\n",
       "      <td>1</td>\n",
       "      <td>3</td>\n",
       "      <td>5</td>\n",
       "    </tr>\n",
       "    <tr>\n",
       "      <th>4</th>\n",
       "      <td>78982</td>\n",
       "      <td>Dundalk (IRE)</td>\n",
       "      <td>05:15</td>\n",
       "      <td>97/05/02</td>\n",
       "      <td>Carlingford Handicap Chase</td>\n",
       "      <td>NaN</td>\n",
       "      <td>0-109</td>\n",
       "      <td>4yo+</td>\n",
       "      <td>3m</td>\n",
       "      <td>Firm</td>\n",
       "      <td>...</td>\n",
       "      <td>NaN</td>\n",
       "      <td>4827.0</td>\n",
       "      <td>IE</td>\n",
       "      <td>8</td>\n",
       "      <td>0</td>\n",
       "      <td>4</td>\n",
       "      <td>1.090018</td>\n",
       "      <td>1</td>\n",
       "      <td>4</td>\n",
       "      <td>2</td>\n",
       "    </tr>\n",
       "  </tbody>\n",
       "</table>\n",
       "<p>5 rows × 23 columns</p>\n",
       "</div>"
      ],
      "text/plain": [
       "      rid             course   time      date  \\\n",
       "0  302858      Thurles (IRE)  01:15  97/01/09   \n",
       "1  291347  Punchestown (IRE)  03:40  97/02/16   \n",
       "2   75447     Listowel (IRE)  03:00  97/03/01   \n",
       "3  358038  Punchestown (IRE)  02:40  97/04/24   \n",
       "4   78982      Dundalk (IRE)  05:15  97/05/02   \n",
       "\n",
       "                                               title rclass   band  ages  \\\n",
       "0                       Liffey Maiden Hurdle (Div 1)    NaN    NaN  5yo+   \n",
       "1  Ericsson G.S.M. Grand National Trial Handicap ...    NaN    NaN  5yo+   \n",
       "2               Ballybunion E.B.F. Beginners S'chase    NaN    NaN  4yo+   \n",
       "3  Quinns Of Baltinglass Chase (La Touche) (Cross...    NaN    NaN  5yo+   \n",
       "4                         Carlingford Handicap Chase    NaN  0-109  4yo+   \n",
       "\n",
       "  distance condition  ...  prize  metric  countryCode  ncond  class runners  \\\n",
       "0     2m3f      Good  ...    NaN  3821.0           IE      1      0       6   \n",
       "1     3m2f      Soft  ...    NaN  5229.0           IE      5      0       9   \n",
       "2     2m2f      Soft  ...    NaN  3620.0           IE      5      0       8   \n",
       "3     4m1f      Good  ...    NaN  6637.0           IE      1      0      10   \n",
       "4       3m      Firm  ...    NaN  4827.0           IE      8      0       4   \n",
       "\n",
       "     margin  1st_place_rank_in_odds  2nd_place_rank_in_odds  \\\n",
       "0  1.219263                       1                       5   \n",
       "1  1.218049                       4                       2   \n",
       "2  1.277320                       3                       2   \n",
       "3  1.286595                       1                       3   \n",
       "4  1.090018                       1                       4   \n",
       "\n",
       "   3rd_place_rank_in_odds  \n",
       "0                       3  \n",
       "1                       8  \n",
       "2                       6  \n",
       "3                       5  \n",
       "4                       2  \n",
       "\n",
       "[5 rows x 23 columns]"
      ]
     },
     "execution_count": 14,
     "metadata": {},
     "output_type": "execute_result"
    }
   ],
   "source": [
    "races_selected_augment_non_weather = races_selected_augment_non_weather.merge(df_winner_rank_in_odds, how='inner', on='rid')\n",
    "races_selected_augment_non_weather.head()"
   ]
  },
  {
   "cell_type": "markdown",
   "id": "38c978c1",
   "metadata": {},
   "source": [
    "Some EDA to make sure we have calculated the right thing. We expect the distribution to have a mode near lower values."
   ]
  },
  {
   "cell_type": "code",
   "execution_count": 15,
   "id": "d5b6bf45",
   "metadata": {},
   "outputs": [
    {
     "data": {
      "text/plain": [
       "array([[<AxesSubplot:title={'center':'1st_place_rank_in_odds'}>]],\n",
       "      dtype=object)"
      ]
     },
     "execution_count": 15,
     "metadata": {},
     "output_type": "execute_result"
    },
    {
     "data": {
      "image/png": "[encoded data removed]",
      "text/plain": [
       "<Figure size 432x288 with 1 Axes>"
      ]
     },
     "metadata": {
      "needs_background": "light"
     },
     "output_type": "display_data"
    }
   ],
   "source": [
    "races_selected_augment_non_weather.hist('1st_place_rank_in_odds')"
   ]
  },
  {
   "cell_type": "code",
   "execution_count": 16,
   "id": "7eb2f4f2",
   "metadata": {},
   "outputs": [
    {
     "data": {
      "text/plain": [
       "array([[<AxesSubplot:title={'center':'2nd_place_rank_in_odds'}>]],\n",
       "      dtype=object)"
      ]
     },
     "execution_count": 16,
     "metadata": {},
     "output_type": "execute_result"
    },
    {
     "data": {
      "image/png": "[encoded data removed]",
      "text/plain": [
       "<Figure size 432x288 with 1 Axes>"
      ]
     },
     "metadata": {
      "needs_background": "light"
     },
     "output_type": "display_data"
    }
   ],
   "source": [
    "races_selected_augment_non_weather.hist('2nd_place_rank_in_odds')"
   ]
  },
  {
   "cell_type": "code",
   "execution_count": 17,
   "id": "17526e87",
   "metadata": {},
   "outputs": [
    {
     "data": {
      "text/plain": [
       "array([[<AxesSubplot:title={'center':'3rd_place_rank_in_odds'}>]],\n",
       "      dtype=object)"
      ]
     },
     "execution_count": 17,
     "metadata": {},
     "output_type": "execute_result"
    },
    {
     "data": {
      "image/png": "[encoded data removed]",
      "text/plain": [
       "<Figure size 432x288 with 1 Axes>"
      ]
     },
     "metadata": {
      "needs_background": "light"
     },
     "output_type": "display_data"
    }
   ],
   "source": [
    "races_selected_augment_non_weather.hist('3rd_place_rank_in_odds')"
   ]
  },
  {
   "cell_type": "markdown",
   "id": "a508d85e",
   "metadata": {},
   "source": [
    "Next, we add three columns that work in the opposite direction, called `1st_rank_in_odds_place`, `2nd_rank_in_odds_place`, and `3rd_rank_in_odds_place`. We explain the meaning of one of these columns, `1st_place_rank_in_odds`, whereas the others are symmetric."
   ]
  },
  {
   "cell_type": "markdown",
   "id": "082190d3",
   "metadata": {},
   "source": [
    "A value $x$ in column `1st_rank_in_odds_place` means that, after sorting the odds in decreasing order (such that the horse _projected_ to win is at the front of this sorted list), the horse which was at the _front_ of the list actually placed at position $x$."
   ]
  },
  {
   "cell_type": "markdown",
   "id": "53636093",
   "metadata": {},
   "source": [
    "Note, in the `decimalPrice` column, higher numbers mean that the horse is more likely to win, according to the sportsbook."
   ]
  },
  {
   "cell_type": "code",
   "execution_count": 18,
   "id": "64fd6f2e",
   "metadata": {},
   "outputs": [
    {
     "name": "stderr",
     "output_type": "stream",
     "text": [
      "100%|█████████████████████████████████████████████████████████████████████████████████████████████████████████████████████████████| 20574/20574 [00:55<00:00, 370.23it/s]\n"
     ]
    }
   ],
   "source": [
    "rid_to_rank_in_odds_place = {}\n",
    "\n",
    "for rid in tqdm(races_selected['rid']):\n",
    "    horses = horses_selected[horses_selected['rid'] == rid][['position', 'decimalPrice']]\n",
    "    \n",
    "    top_three_place = horses.sort_values(by=['decimalPrice', 'position'], ascending=[False, True]).head(3)\n",
    "\n",
    "    rid_to_rank_in_odds_place[rid] = {\n",
    "        \"1st_rank_in_odds_place\": sum(horses['position'] < top_three_place.iloc[0]['position']) + 1,\n",
    "        \"2nd_rank_in_odds_place\": sum(horses['position'] < top_three_place.iloc[1]['position']) + 1,\n",
    "        \"3rd_rank_in_odds_place\": sum(horses['position'] < top_three_place.iloc[2]['position']) + 1,\n",
    "    }"
   ]
  },
  {
   "cell_type": "code",
   "execution_count": 19,
   "id": "aafd13f0",
   "metadata": {},
   "outputs": [
    {
     "data": {
      "text/html": [
       "<div>\n",
       "<style scoped>\n",
       "    .dataframe tbody tr th:only-of-type {\n",
       "        vertical-align: middle;\n",
       "    }\n",
       "\n",
       "    .dataframe tbody tr th {\n",
       "        vertical-align: top;\n",
       "    }\n",
       "\n",
       "    .dataframe thead th {\n",
       "        text-align: right;\n",
       "    }\n",
       "</style>\n",
       "<table border=\"1\" class=\"dataframe\">\n",
       "  <thead>\n",
       "    <tr style=\"text-align: right;\">\n",
       "      <th></th>\n",
       "      <th>rid</th>\n",
       "      <th>1st_rank_in_odds_place</th>\n",
       "      <th>2nd_rank_in_odds_place</th>\n",
       "      <th>3rd_rank_in_odds_place</th>\n",
       "    </tr>\n",
       "  </thead>\n",
       "  <tbody>\n",
       "    <tr>\n",
       "      <th>0</th>\n",
       "      <td>302858</td>\n",
       "      <td>1</td>\n",
       "      <td>6</td>\n",
       "      <td>3</td>\n",
       "    </tr>\n",
       "    <tr>\n",
       "      <th>1</th>\n",
       "      <td>291347</td>\n",
       "      <td>4</td>\n",
       "      <td>2</td>\n",
       "      <td>4</td>\n",
       "    </tr>\n",
       "    <tr>\n",
       "      <th>2</th>\n",
       "      <td>75447</td>\n",
       "      <td>5</td>\n",
       "      <td>2</td>\n",
       "      <td>1</td>\n",
       "    </tr>\n",
       "    <tr>\n",
       "      <th>3</th>\n",
       "      <td>358038</td>\n",
       "      <td>1</td>\n",
       "      <td>4</td>\n",
       "      <td>2</td>\n",
       "    </tr>\n",
       "    <tr>\n",
       "      <th>4</th>\n",
       "      <td>78982</td>\n",
       "      <td>1</td>\n",
       "      <td>3</td>\n",
       "      <td>3</td>\n",
       "    </tr>\n",
       "  </tbody>\n",
       "</table>\n",
       "</div>"
      ],
      "text/plain": [
       "      rid  1st_rank_in_odds_place  2nd_rank_in_odds_place  \\\n",
       "0  302858                       1                       6   \n",
       "1  291347                       4                       2   \n",
       "2   75447                       5                       2   \n",
       "3  358038                       1                       4   \n",
       "4   78982                       1                       3   \n",
       "\n",
       "   3rd_rank_in_odds_place  \n",
       "0                       3  \n",
       "1                       4  \n",
       "2                       1  \n",
       "3                       2  \n",
       "4                       3  "
      ]
     },
     "execution_count": 19,
     "metadata": {},
     "output_type": "execute_result"
    }
   ],
   "source": [
    "rename_cols = {\n",
    "    'index': 'rid',\n",
    "}\n",
    "\n",
    "df_rank_in_odds_place = pd.DataFrame.from_dict(rid_to_rank_in_odds_place, orient='index') \\\n",
    "                                     .reset_index() \\\n",
    "                                     .rename(columns=rename_cols)\n",
    "\n",
    "df_rank_in_odds_place.head()"
   ]
  },
  {
   "cell_type": "code",
   "execution_count": 20,
   "id": "3f94ec25",
   "metadata": {},
   "outputs": [
    {
     "data": {
      "text/html": [
       "<div>\n",
       "<style scoped>\n",
       "    .dataframe tbody tr th:only-of-type {\n",
       "        vertical-align: middle;\n",
       "    }\n",
       "\n",
       "    .dataframe tbody tr th {\n",
       "        vertical-align: top;\n",
       "    }\n",
       "\n",
       "    .dataframe thead th {\n",
       "        text-align: right;\n",
       "    }\n",
       "</style>\n",
       "<table border=\"1\" class=\"dataframe\">\n",
       "  <thead>\n",
       "    <tr style=\"text-align: right;\">\n",
       "      <th></th>\n",
       "      <th>rid</th>\n",
       "      <th>course</th>\n",
       "      <th>time</th>\n",
       "      <th>date</th>\n",
       "      <th>title</th>\n",
       "      <th>rclass</th>\n",
       "      <th>band</th>\n",
       "      <th>ages</th>\n",
       "      <th>distance</th>\n",
       "      <th>condition</th>\n",
       "      <th>...</th>\n",
       "      <th>ncond</th>\n",
       "      <th>class</th>\n",
       "      <th>runners</th>\n",
       "      <th>margin</th>\n",
       "      <th>1st_place_rank_in_odds</th>\n",
       "      <th>2nd_place_rank_in_odds</th>\n",
       "      <th>3rd_place_rank_in_odds</th>\n",
       "      <th>1st_rank_in_odds_place</th>\n",
       "      <th>2nd_rank_in_odds_place</th>\n",
       "      <th>3rd_rank_in_odds_place</th>\n",
       "    </tr>\n",
       "  </thead>\n",
       "  <tbody>\n",
       "    <tr>\n",
       "      <th>0</th>\n",
       "      <td>302858</td>\n",
       "      <td>Thurles (IRE)</td>\n",
       "      <td>01:15</td>\n",
       "      <td>97/01/09</td>\n",
       "      <td>Liffey Maiden Hurdle (Div 1)</td>\n",
       "      <td>NaN</td>\n",
       "      <td>NaN</td>\n",
       "      <td>5yo+</td>\n",
       "      <td>2m3f</td>\n",
       "      <td>Good</td>\n",
       "      <td>...</td>\n",
       "      <td>1</td>\n",
       "      <td>0</td>\n",
       "      <td>6</td>\n",
       "      <td>1.219263</td>\n",
       "      <td>1</td>\n",
       "      <td>5</td>\n",
       "      <td>3</td>\n",
       "      <td>1</td>\n",
       "      <td>6</td>\n",
       "      <td>3</td>\n",
       "    </tr>\n",
       "    <tr>\n",
       "      <th>1</th>\n",
       "      <td>291347</td>\n",
       "      <td>Punchestown (IRE)</td>\n",
       "      <td>03:40</td>\n",
       "      <td>97/02/16</td>\n",
       "      <td>Ericsson G.S.M. Grand National Trial Handicap ...</td>\n",
       "      <td>NaN</td>\n",
       "      <td>NaN</td>\n",
       "      <td>5yo+</td>\n",
       "      <td>3m2f</td>\n",
       "      <td>Soft</td>\n",
       "      <td>...</td>\n",
       "      <td>5</td>\n",
       "      <td>0</td>\n",
       "      <td>9</td>\n",
       "      <td>1.218049</td>\n",
       "      <td>4</td>\n",
       "      <td>2</td>\n",
       "      <td>8</td>\n",
       "      <td>4</td>\n",
       "      <td>2</td>\n",
       "      <td>4</td>\n",
       "    </tr>\n",
       "    <tr>\n",
       "      <th>2</th>\n",
       "      <td>75447</td>\n",
       "      <td>Listowel (IRE)</td>\n",
       "      <td>03:00</td>\n",
       "      <td>97/03/01</td>\n",
       "      <td>Ballybunion E.B.F. Beginners S'chase</td>\n",
       "      <td>NaN</td>\n",
       "      <td>NaN</td>\n",
       "      <td>4yo+</td>\n",
       "      <td>2m2f</td>\n",
       "      <td>Soft</td>\n",
       "      <td>...</td>\n",
       "      <td>5</td>\n",
       "      <td>0</td>\n",
       "      <td>8</td>\n",
       "      <td>1.277320</td>\n",
       "      <td>3</td>\n",
       "      <td>2</td>\n",
       "      <td>6</td>\n",
       "      <td>5</td>\n",
       "      <td>2</td>\n",
       "      <td>1</td>\n",
       "    </tr>\n",
       "    <tr>\n",
       "      <th>3</th>\n",
       "      <td>358038</td>\n",
       "      <td>Punchestown (IRE)</td>\n",
       "      <td>02:40</td>\n",
       "      <td>97/04/24</td>\n",
       "      <td>Quinns Of Baltinglass Chase (La Touche) (Cross...</td>\n",
       "      <td>NaN</td>\n",
       "      <td>NaN</td>\n",
       "      <td>5yo+</td>\n",
       "      <td>4m1f</td>\n",
       "      <td>Good</td>\n",
       "      <td>...</td>\n",
       "      <td>1</td>\n",
       "      <td>0</td>\n",
       "      <td>10</td>\n",
       "      <td>1.286595</td>\n",
       "      <td>1</td>\n",
       "      <td>3</td>\n",
       "      <td>5</td>\n",
       "      <td>1</td>\n",
       "      <td>4</td>\n",
       "      <td>2</td>\n",
       "    </tr>\n",
       "    <tr>\n",
       "      <th>4</th>\n",
       "      <td>78982</td>\n",
       "      <td>Dundalk (IRE)</td>\n",
       "      <td>05:15</td>\n",
       "      <td>97/05/02</td>\n",
       "      <td>Carlingford Handicap Chase</td>\n",
       "      <td>NaN</td>\n",
       "      <td>0-109</td>\n",
       "      <td>4yo+</td>\n",
       "      <td>3m</td>\n",
       "      <td>Firm</td>\n",
       "      <td>...</td>\n",
       "      <td>8</td>\n",
       "      <td>0</td>\n",
       "      <td>4</td>\n",
       "      <td>1.090018</td>\n",
       "      <td>1</td>\n",
       "      <td>4</td>\n",
       "      <td>2</td>\n",
       "      <td>1</td>\n",
       "      <td>3</td>\n",
       "      <td>3</td>\n",
       "    </tr>\n",
       "  </tbody>\n",
       "</table>\n",
       "<p>5 rows × 26 columns</p>\n",
       "</div>"
      ],
      "text/plain": [
       "      rid             course   time      date  \\\n",
       "0  302858      Thurles (IRE)  01:15  97/01/09   \n",
       "1  291347  Punchestown (IRE)  03:40  97/02/16   \n",
       "2   75447     Listowel (IRE)  03:00  97/03/01   \n",
       "3  358038  Punchestown (IRE)  02:40  97/04/24   \n",
       "4   78982      Dundalk (IRE)  05:15  97/05/02   \n",
       "\n",
       "                                               title rclass   band  ages  \\\n",
       "0                       Liffey Maiden Hurdle (Div 1)    NaN    NaN  5yo+   \n",
       "1  Ericsson G.S.M. Grand National Trial Handicap ...    NaN    NaN  5yo+   \n",
       "2               Ballybunion E.B.F. Beginners S'chase    NaN    NaN  4yo+   \n",
       "3  Quinns Of Baltinglass Chase (La Touche) (Cross...    NaN    NaN  5yo+   \n",
       "4                         Carlingford Handicap Chase    NaN  0-109  4yo+   \n",
       "\n",
       "  distance condition  ...  ncond class  runners    margin  \\\n",
       "0     2m3f      Good  ...      1     0        6  1.219263   \n",
       "1     3m2f      Soft  ...      5     0        9  1.218049   \n",
       "2     2m2f      Soft  ...      5     0        8  1.277320   \n",
       "3     4m1f      Good  ...      1     0       10  1.286595   \n",
       "4       3m      Firm  ...      8     0        4  1.090018   \n",
       "\n",
       "   1st_place_rank_in_odds 2nd_place_rank_in_odds  3rd_place_rank_in_odds  \\\n",
       "0                       1                      5                       3   \n",
       "1                       4                      2                       8   \n",
       "2                       3                      2                       6   \n",
       "3                       1                      3                       5   \n",
       "4                       1                      4                       2   \n",
       "\n",
       "   1st_rank_in_odds_place  2nd_rank_in_odds_place  3rd_rank_in_odds_place  \n",
       "0                       1                       6                       3  \n",
       "1                       4                       2                       4  \n",
       "2                       5                       2                       1  \n",
       "3                       1                       4                       2  \n",
       "4                       1                       3                       3  \n",
       "\n",
       "[5 rows x 26 columns]"
      ]
     },
     "execution_count": 20,
     "metadata": {},
     "output_type": "execute_result"
    }
   ],
   "source": [
    "races_selected_augment_non_weather = races_selected_augment_non_weather.merge(df_rank_in_odds_place, how='inner',\n",
    "                                                                              on='rid')\n",
    "races_selected_augment_non_weather.head()"
   ]
  },
  {
   "cell_type": "markdown",
   "id": "4e1e89df",
   "metadata": {},
   "source": [
    "Some EDA to make sure we have calculated the right thing. We expect the distribution to have a mode near lower values."
   ]
  },
  {
   "cell_type": "code",
   "execution_count": 21,
   "id": "38e95f09",
   "metadata": {},
   "outputs": [
    {
     "data": {
      "text/plain": [
       "array([[<AxesSubplot:title={'center':'1st_rank_in_odds_place'}>]],\n",
       "      dtype=object)"
      ]
     },
     "execution_count": 21,
     "metadata": {},
     "output_type": "execute_result"
    },
    {
     "data": {
      "image/png": "[encoded data removed]",
      "text/plain": [
       "<Figure size 432x288 with 1 Axes>"
      ]
     },
     "metadata": {
      "needs_background": "light"
     },
     "output_type": "display_data"
    }
   ],
   "source": [
    "races_selected_augment_non_weather.hist('1st_rank_in_odds_place')"
   ]
  },
  {
   "cell_type": "code",
   "execution_count": 22,
   "id": "419a2eda",
   "metadata": {},
   "outputs": [
    {
     "data": {
      "text/plain": [
       "array([[<AxesSubplot:title={'center':'2nd_rank_in_odds_place'}>]],\n",
       "      dtype=object)"
      ]
     },
     "execution_count": 22,
     "metadata": {},
     "output_type": "execute_result"
    },
    {
     "data": {
      "image/png": "[encoded data removed]",
      "text/plain": [
       "<Figure size 432x288 with 1 Axes>"
      ]
     },
     "metadata": {
      "needs_background": "light"
     },
     "output_type": "display_data"
    }
   ],
   "source": [
    "races_selected_augment_non_weather.hist('2nd_rank_in_odds_place')"
   ]
  },
  {
   "cell_type": "code",
   "execution_count": 23,
   "id": "74e96fd3",
   "metadata": {},
   "outputs": [
    {
     "data": {
      "text/plain": [
       "array([[<AxesSubplot:title={'center':'3rd_rank_in_odds_place'}>]],\n",
       "      dtype=object)"
      ]
     },
     "execution_count": 23,
     "metadata": {},
     "output_type": "execute_result"
    },
    {
     "data": {
      "image/png": "[encoded data removed]",
      "text/plain": [
       "<Figure size 432x288 with 1 Axes>"
      ]
     },
     "metadata": {
      "needs_background": "light"
     },
     "output_type": "display_data"
    }
   ],
   "source": [
    "races_selected_augment_non_weather.hist('3rd_rank_in_odds_place')"
   ]
  },
  {
   "cell_type": "markdown",
   "id": "9c2301e2",
   "metadata": {},
   "source": [
    "We add three last columns revolving around the \"favorite\" of a race. These columns are `favoriteWon`, `favoritePlaced`, and `favoritedShowed`. These are binary columns which are 1 if the event described in the column has occured and 0 otherwise. These calculations use the most previous three columns added."
   ]
  },
  {
   "cell_type": "markdown",
   "id": "61772c29",
   "metadata": {},
   "source": [
    "Prior to this, we add some additional information about the bets available as a function of how many runners there are."
   ]
  },
  {
   "cell_type": "code",
   "execution_count": 24,
   "id": "872e7aaa",
   "metadata": {},
   "outputs": [
    {
     "name": "stderr",
     "output_type": "stream",
     "text": [
      "20574it [00:00, 22369.40it/s]\n"
     ]
    }
   ],
   "source": [
    "rid_to_bets_available = {}\n",
    "\n",
    "for _, row in tqdm(races_selected_augment_non_weather.iterrows()):\n",
    "    \n",
    "    rid_to_bets_available[row['rid']] = {\n",
    "        \"placeAvailable\": int(row['runners'] >= 5),\n",
    "        \"showAvailable\": int(row['runners'] >= 8),\n",
    "    }"
   ]
  },
  {
   "cell_type": "code",
   "execution_count": 25,
   "id": "285dfe5a",
   "metadata": {},
   "outputs": [
    {
     "data": {
      "text/html": [
       "<div>\n",
       "<style scoped>\n",
       "    .dataframe tbody tr th:only-of-type {\n",
       "        vertical-align: middle;\n",
       "    }\n",
       "\n",
       "    .dataframe tbody tr th {\n",
       "        vertical-align: top;\n",
       "    }\n",
       "\n",
       "    .dataframe thead th {\n",
       "        text-align: right;\n",
       "    }\n",
       "</style>\n",
       "<table border=\"1\" class=\"dataframe\">\n",
       "  <thead>\n",
       "    <tr style=\"text-align: right;\">\n",
       "      <th></th>\n",
       "      <th>rid</th>\n",
       "      <th>placeAvailable</th>\n",
       "      <th>showAvailable</th>\n",
       "    </tr>\n",
       "  </thead>\n",
       "  <tbody>\n",
       "    <tr>\n",
       "      <th>0</th>\n",
       "      <td>302858</td>\n",
       "      <td>1</td>\n",
       "      <td>0</td>\n",
       "    </tr>\n",
       "    <tr>\n",
       "      <th>1</th>\n",
       "      <td>291347</td>\n",
       "      <td>1</td>\n",
       "      <td>1</td>\n",
       "    </tr>\n",
       "    <tr>\n",
       "      <th>2</th>\n",
       "      <td>75447</td>\n",
       "      <td>1</td>\n",
       "      <td>1</td>\n",
       "    </tr>\n",
       "    <tr>\n",
       "      <th>3</th>\n",
       "      <td>358038</td>\n",
       "      <td>1</td>\n",
       "      <td>1</td>\n",
       "    </tr>\n",
       "    <tr>\n",
       "      <th>4</th>\n",
       "      <td>78982</td>\n",
       "      <td>0</td>\n",
       "      <td>0</td>\n",
       "    </tr>\n",
       "  </tbody>\n",
       "</table>\n",
       "</div>"
      ],
      "text/plain": [
       "      rid  placeAvailable  showAvailable\n",
       "0  302858               1              0\n",
       "1  291347               1              1\n",
       "2   75447               1              1\n",
       "3  358038               1              1\n",
       "4   78982               0              0"
      ]
     },
     "execution_count": 25,
     "metadata": {},
     "output_type": "execute_result"
    }
   ],
   "source": [
    "rename_cols = {\n",
    "    'index': 'rid',\n",
    "}\n",
    "\n",
    "df_bets_available = pd.DataFrame.from_dict(rid_to_bets_available, orient='index') \\\n",
    "                                    .reset_index() \\\n",
    "                                    .rename(columns=rename_cols)\n",
    "\n",
    "df_bets_available.head()"
   ]
  },
  {
   "cell_type": "code",
   "execution_count": 26,
   "id": "c78dba77",
   "metadata": {},
   "outputs": [
    {
     "data": {
      "text/html": [
       "<div>\n",
       "<style scoped>\n",
       "    .dataframe tbody tr th:only-of-type {\n",
       "        vertical-align: middle;\n",
       "    }\n",
       "\n",
       "    .dataframe tbody tr th {\n",
       "        vertical-align: top;\n",
       "    }\n",
       "\n",
       "    .dataframe thead th {\n",
       "        text-align: right;\n",
       "    }\n",
       "</style>\n",
       "<table border=\"1\" class=\"dataframe\">\n",
       "  <thead>\n",
       "    <tr style=\"text-align: right;\">\n",
       "      <th></th>\n",
       "      <th>runners</th>\n",
       "      <th>placeAvailable</th>\n",
       "      <th>showAvailable</th>\n",
       "    </tr>\n",
       "  </thead>\n",
       "  <tbody>\n",
       "    <tr>\n",
       "      <th>0</th>\n",
       "      <td>6</td>\n",
       "      <td>1</td>\n",
       "      <td>0</td>\n",
       "    </tr>\n",
       "    <tr>\n",
       "      <th>1</th>\n",
       "      <td>9</td>\n",
       "      <td>1</td>\n",
       "      <td>1</td>\n",
       "    </tr>\n",
       "    <tr>\n",
       "      <th>2</th>\n",
       "      <td>8</td>\n",
       "      <td>1</td>\n",
       "      <td>1</td>\n",
       "    </tr>\n",
       "    <tr>\n",
       "      <th>3</th>\n",
       "      <td>10</td>\n",
       "      <td>1</td>\n",
       "      <td>1</td>\n",
       "    </tr>\n",
       "    <tr>\n",
       "      <th>4</th>\n",
       "      <td>4</td>\n",
       "      <td>0</td>\n",
       "      <td>0</td>\n",
       "    </tr>\n",
       "    <tr>\n",
       "      <th>5</th>\n",
       "      <td>5</td>\n",
       "      <td>1</td>\n",
       "      <td>0</td>\n",
       "    </tr>\n",
       "    <tr>\n",
       "      <th>6</th>\n",
       "      <td>5</td>\n",
       "      <td>1</td>\n",
       "      <td>0</td>\n",
       "    </tr>\n",
       "    <tr>\n",
       "      <th>7</th>\n",
       "      <td>3</td>\n",
       "      <td>0</td>\n",
       "      <td>0</td>\n",
       "    </tr>\n",
       "    <tr>\n",
       "      <th>8</th>\n",
       "      <td>5</td>\n",
       "      <td>1</td>\n",
       "      <td>0</td>\n",
       "    </tr>\n",
       "    <tr>\n",
       "      <th>9</th>\n",
       "      <td>3</td>\n",
       "      <td>0</td>\n",
       "      <td>0</td>\n",
       "    </tr>\n",
       "  </tbody>\n",
       "</table>\n",
       "</div>"
      ],
      "text/plain": [
       "   runners  placeAvailable  showAvailable\n",
       "0        6               1              0\n",
       "1        9               1              1\n",
       "2        8               1              1\n",
       "3       10               1              1\n",
       "4        4               0              0\n",
       "5        5               1              0\n",
       "6        5               1              0\n",
       "7        3               0              0\n",
       "8        5               1              0\n",
       "9        3               0              0"
      ]
     },
     "execution_count": 26,
     "metadata": {},
     "output_type": "execute_result"
    }
   ],
   "source": [
    "races_selected_augment_non_weather = races_selected_augment_non_weather.merge(df_bets_available,\n",
    "                                                                              how='inner',\n",
    "                                                                              on='rid')\n",
    "races_selected_augment_non_weather[['runners',\n",
    "                                    'placeAvailable',\n",
    "                                    'showAvailable']].head(10)"
   ]
  },
  {
   "cell_type": "markdown",
   "id": "2840286f",
   "metadata": {},
   "source": [
    "Now, we can continue."
   ]
  },
  {
   "cell_type": "code",
   "execution_count": 27,
   "id": "44089d56",
   "metadata": {},
   "outputs": [
    {
     "name": "stderr",
     "output_type": "stream",
     "text": [
      "20574it [00:01, 19398.62it/s]\n"
     ]
    }
   ],
   "source": [
    "rid_to_favorite_outcome = {}\n",
    "\n",
    "for _, row in tqdm(races_selected_augment_non_weather.iterrows()):\n",
    "    \n",
    "    rid_to_favorite_outcome[row['rid']] = {\n",
    "        \"favoriteWon\": int(row['1st_rank_in_odds_place'] == 1),\n",
    "        \"favoritePlaced\": int(row['1st_rank_in_odds_place'] <= 2 and row['placeAvailable'] == 1),\n",
    "        \"favoriteShowed\": int(row['1st_rank_in_odds_place'] <= 3 and row['showAvailable'] == 1),\n",
    "    }"
   ]
  },
  {
   "cell_type": "code",
   "execution_count": 28,
   "id": "f8a31589",
   "metadata": {},
   "outputs": [
    {
     "data": {
      "text/html": [
       "<div>\n",
       "<style scoped>\n",
       "    .dataframe tbody tr th:only-of-type {\n",
       "        vertical-align: middle;\n",
       "    }\n",
       "\n",
       "    .dataframe tbody tr th {\n",
       "        vertical-align: top;\n",
       "    }\n",
       "\n",
       "    .dataframe thead th {\n",
       "        text-align: right;\n",
       "    }\n",
       "</style>\n",
       "<table border=\"1\" class=\"dataframe\">\n",
       "  <thead>\n",
       "    <tr style=\"text-align: right;\">\n",
       "      <th></th>\n",
       "      <th>rid</th>\n",
       "      <th>favoriteWon</th>\n",
       "      <th>favoritePlaced</th>\n",
       "      <th>favoriteShowed</th>\n",
       "    </tr>\n",
       "  </thead>\n",
       "  <tbody>\n",
       "    <tr>\n",
       "      <th>0</th>\n",
       "      <td>302858</td>\n",
       "      <td>1</td>\n",
       "      <td>1</td>\n",
       "      <td>0</td>\n",
       "    </tr>\n",
       "    <tr>\n",
       "      <th>1</th>\n",
       "      <td>291347</td>\n",
       "      <td>0</td>\n",
       "      <td>0</td>\n",
       "      <td>0</td>\n",
       "    </tr>\n",
       "    <tr>\n",
       "      <th>2</th>\n",
       "      <td>75447</td>\n",
       "      <td>0</td>\n",
       "      <td>0</td>\n",
       "      <td>0</td>\n",
       "    </tr>\n",
       "    <tr>\n",
       "      <th>3</th>\n",
       "      <td>358038</td>\n",
       "      <td>1</td>\n",
       "      <td>1</td>\n",
       "      <td>1</td>\n",
       "    </tr>\n",
       "    <tr>\n",
       "      <th>4</th>\n",
       "      <td>78982</td>\n",
       "      <td>1</td>\n",
       "      <td>0</td>\n",
       "      <td>0</td>\n",
       "    </tr>\n",
       "  </tbody>\n",
       "</table>\n",
       "</div>"
      ],
      "text/plain": [
       "      rid  favoriteWon  favoritePlaced  favoriteShowed\n",
       "0  302858            1               1               0\n",
       "1  291347            0               0               0\n",
       "2   75447            0               0               0\n",
       "3  358038            1               1               1\n",
       "4   78982            1               0               0"
      ]
     },
     "execution_count": 28,
     "metadata": {},
     "output_type": "execute_result"
    }
   ],
   "source": [
    "rename_cols = {\n",
    "    'index': 'rid',\n",
    "}\n",
    "\n",
    "df_favorite_outcome = pd.DataFrame.from_dict(rid_to_favorite_outcome, orient='index') \\\n",
    "                                     .reset_index() \\\n",
    "                                     .rename(columns=rename_cols)\n",
    "\n",
    "df_favorite_outcome.head()"
   ]
  },
  {
   "cell_type": "code",
   "execution_count": 29,
   "id": "e002f08d",
   "metadata": {},
   "outputs": [
    {
     "data": {
      "text/html": [
       "<div>\n",
       "<style scoped>\n",
       "    .dataframe tbody tr th:only-of-type {\n",
       "        vertical-align: middle;\n",
       "    }\n",
       "\n",
       "    .dataframe tbody tr th {\n",
       "        vertical-align: top;\n",
       "    }\n",
       "\n",
       "    .dataframe thead th {\n",
       "        text-align: right;\n",
       "    }\n",
       "</style>\n",
       "<table border=\"1\" class=\"dataframe\">\n",
       "  <thead>\n",
       "    <tr style=\"text-align: right;\">\n",
       "      <th></th>\n",
       "      <th>runners</th>\n",
       "      <th>1st_rank_in_odds_place</th>\n",
       "      <th>favoriteWon</th>\n",
       "      <th>favoritePlaced</th>\n",
       "      <th>favoriteShowed</th>\n",
       "    </tr>\n",
       "  </thead>\n",
       "  <tbody>\n",
       "    <tr>\n",
       "      <th>0</th>\n",
       "      <td>6</td>\n",
       "      <td>1</td>\n",
       "      <td>1</td>\n",
       "      <td>1</td>\n",
       "      <td>0</td>\n",
       "    </tr>\n",
       "    <tr>\n",
       "      <th>1</th>\n",
       "      <td>9</td>\n",
       "      <td>4</td>\n",
       "      <td>0</td>\n",
       "      <td>0</td>\n",
       "      <td>0</td>\n",
       "    </tr>\n",
       "    <tr>\n",
       "      <th>2</th>\n",
       "      <td>8</td>\n",
       "      <td>5</td>\n",
       "      <td>0</td>\n",
       "      <td>0</td>\n",
       "      <td>0</td>\n",
       "    </tr>\n",
       "    <tr>\n",
       "      <th>3</th>\n",
       "      <td>10</td>\n",
       "      <td>1</td>\n",
       "      <td>1</td>\n",
       "      <td>1</td>\n",
       "      <td>1</td>\n",
       "    </tr>\n",
       "    <tr>\n",
       "      <th>4</th>\n",
       "      <td>4</td>\n",
       "      <td>1</td>\n",
       "      <td>1</td>\n",
       "      <td>0</td>\n",
       "      <td>0</td>\n",
       "    </tr>\n",
       "    <tr>\n",
       "      <th>5</th>\n",
       "      <td>5</td>\n",
       "      <td>1</td>\n",
       "      <td>1</td>\n",
       "      <td>1</td>\n",
       "      <td>0</td>\n",
       "    </tr>\n",
       "    <tr>\n",
       "      <th>6</th>\n",
       "      <td>5</td>\n",
       "      <td>2</td>\n",
       "      <td>0</td>\n",
       "      <td>1</td>\n",
       "      <td>0</td>\n",
       "    </tr>\n",
       "    <tr>\n",
       "      <th>7</th>\n",
       "      <td>3</td>\n",
       "      <td>1</td>\n",
       "      <td>1</td>\n",
       "      <td>0</td>\n",
       "      <td>0</td>\n",
       "    </tr>\n",
       "    <tr>\n",
       "      <th>8</th>\n",
       "      <td>5</td>\n",
       "      <td>1</td>\n",
       "      <td>1</td>\n",
       "      <td>1</td>\n",
       "      <td>0</td>\n",
       "    </tr>\n",
       "    <tr>\n",
       "      <th>9</th>\n",
       "      <td>3</td>\n",
       "      <td>2</td>\n",
       "      <td>0</td>\n",
       "      <td>0</td>\n",
       "      <td>0</td>\n",
       "    </tr>\n",
       "  </tbody>\n",
       "</table>\n",
       "</div>"
      ],
      "text/plain": [
       "   runners  1st_rank_in_odds_place  favoriteWon  favoritePlaced  \\\n",
       "0        6                       1            1               1   \n",
       "1        9                       4            0               0   \n",
       "2        8                       5            0               0   \n",
       "3       10                       1            1               1   \n",
       "4        4                       1            1               0   \n",
       "5        5                       1            1               1   \n",
       "6        5                       2            0               1   \n",
       "7        3                       1            1               0   \n",
       "8        5                       1            1               1   \n",
       "9        3                       2            0               0   \n",
       "\n",
       "   favoriteShowed  \n",
       "0               0  \n",
       "1               0  \n",
       "2               0  \n",
       "3               1  \n",
       "4               0  \n",
       "5               0  \n",
       "6               0  \n",
       "7               0  \n",
       "8               0  \n",
       "9               0  "
      ]
     },
     "execution_count": 29,
     "metadata": {},
     "output_type": "execute_result"
    }
   ],
   "source": [
    "races_selected_augment_non_weather = races_selected_augment_non_weather.merge(df_favorite_outcome,\n",
    "                                                                              how='inner',\n",
    "                                                                              on='rid')\n",
    "races_selected_augment_non_weather[['runners',\n",
    "                                    '1st_rank_in_odds_place',\n",
    "                                    'favoriteWon',\n",
    "                                    'favoritePlaced',\n",
    "                                    'favoriteShowed']].head(10)"
   ]
  },
  {
   "cell_type": "markdown",
   "id": "ab8c08fa",
   "metadata": {},
   "source": [
    "Some EDA to make sure we calculated the correct thing. We expect these to be fairly high since the sportsbook wants to present good odds that seem fair to bettors."
   ]
  },
  {
   "cell_type": "code",
   "execution_count": 30,
   "id": "c14c745e",
   "metadata": {},
   "outputs": [
    {
     "data": {
      "text/plain": [
       "0.3725089919315641"
      ]
     },
     "execution_count": 30,
     "metadata": {},
     "output_type": "execute_result"
    }
   ],
   "source": [
    "np.mean(races_selected_augment_non_weather['favoriteWon'])"
   ]
  },
  {
   "cell_type": "code",
   "execution_count": 31,
   "id": "2cace5ec",
   "metadata": {},
   "outputs": [
    {
     "data": {
      "text/plain": [
       "0.5750442030815862"
      ]
     },
     "execution_count": 31,
     "metadata": {},
     "output_type": "execute_result"
    }
   ],
   "source": [
    "np.mean(\n",
    "    races_selected_augment_non_weather[races_selected_augment_non_weather['placeAvailable'] == 1]['favoritePlaced']\n",
    ")"
   ]
  },
  {
   "cell_type": "code",
   "execution_count": 32,
   "id": "11451e73",
   "metadata": {},
   "outputs": [
    {
     "data": {
      "text/plain": [
       "0.6709768275508897"
      ]
     },
     "execution_count": 32,
     "metadata": {},
     "output_type": "execute_result"
    }
   ],
   "source": [
    "np.mean(\n",
    "    races_selected_augment_non_weather[races_selected_augment_non_weather['showAvailable'] == 1]['favoriteShowed']\n",
    ")"
   ]
  },
  {
   "cell_type": "markdown",
   "id": "3714356d",
   "metadata": {},
   "source": [
    "---"
   ]
  },
  {
   "cell_type": "markdown",
   "id": "3f683ba7",
   "metadata": {},
   "source": [
    "## Save Dataframe"
   ]
  },
  {
   "cell_type": "code",
   "execution_count": 33,
   "id": "29b4b4f7",
   "metadata": {},
   "outputs": [],
   "source": [
    "races_selected_augment_non_weather.to_csv(f\"{BASE_DIR}/data/streamline/races_selected_augment_non_weather.csv\",\n",
    "                                          index=False)"
   ]
  },
  {
   "cell_type": "markdown",
   "id": "954244ac",
   "metadata": {},
   "source": [
    "---"
   ]
  }
 ],
 "metadata": {
  "kernelspec": {
   "display_name": "Python 3 (ipykernel)",
   "language": "python",
   "name": "python3"
  },
  "language_info": {
   "codemirror_mode": {
    "name": "ipython",
    "version": 3
   },
   "file_extension": ".py",
   "mimetype": "text/x-python",
   "name": "python",
   "nbconvert_exporter": "python",
   "pygments_lexer": "ipython3",
   "version": "3.9.6"
  }
 },
 "nbformat": 4,
 "nbformat_minor": 5
}
