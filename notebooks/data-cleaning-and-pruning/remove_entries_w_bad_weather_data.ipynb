{
 "cells": [
  {
   "cell_type": "markdown",
   "id": "dc5f8793",
   "metadata": {},
   "source": [
    "# `remove_entries_w_bad_weather_data.ipynb`"
   ]
  },
  {
   "cell_type": "markdown",
   "id": "6d76b29a",
   "metadata": {},
   "source": [
    "### Author: Anthony Hein"
   ]
  },
  {
   "cell_type": "markdown",
   "id": "8a72b287",
   "metadata": {},
   "source": [
    "#### Last updated: 10/19/2021"
   ]
  },
  {
   "cell_type": "markdown",
   "id": "a0ebf4a0",
   "metadata": {},
   "source": [
    "# Overview:\n",
    "\n",
    "Since we have decided to only keep entries if they match to a weather entry with a high amount of \"goodness\", we can drop any races that don't meet this criteria."
   ]
  },
  {
   "cell_type": "markdown",
   "id": "6f46b926",
   "metadata": {},
   "source": [
    "---"
   ]
  },
  {
   "cell_type": "markdown",
   "id": "066b637c",
   "metadata": {},
   "source": [
    "## Setup"
   ]
  },
  {
   "cell_type": "code",
   "execution_count": 1,
   "id": "3de4d07c",
   "metadata": {},
   "outputs": [],
   "source": [
    "import git\n",
    "import os\n",
    "from typing import List\n",
    "from tqdm import tqdm\n",
    "import pandas as pd\n",
    "import numpy as np\n",
    "import matplotlib.pyplot as plt\n",
    "%matplotlib inline"
   ]
  },
  {
   "cell_type": "code",
   "execution_count": 2,
   "id": "05a06de6",
   "metadata": {},
   "outputs": [
    {
     "data": {
      "text/plain": [
       "'/Users/anthonyhein/Desktop/SML310/project'"
      ]
     },
     "execution_count": 2,
     "metadata": {},
     "output_type": "execute_result"
    }
   ],
   "source": [
    "BASE_DIR = git.Repo(os.getcwd(), search_parent_directories=True).working_dir\n",
    "BASE_DIR"
   ]
  },
  {
   "cell_type": "code",
   "execution_count": 7,
   "id": "0780ee7a",
   "metadata": {},
   "outputs": [],
   "source": [
    "import sys\n",
    "\n",
    "sys.path.append(f'{BASE_DIR}/utils/')\n",
    "\n",
    "from rid_to_weather import RID_TO_WEATHER"
   ]
  },
  {
   "cell_type": "markdown",
   "id": "19d6a59d",
   "metadata": {},
   "source": [
    "---"
   ]
  },
  {
   "cell_type": "markdown",
   "id": "062db87f",
   "metadata": {},
   "source": [
    "## Load `races_aticnmid.csv`"
   ]
  },
  {
   "cell_type": "code",
   "execution_count": 3,
   "id": "7bb383e5",
   "metadata": {},
   "outputs": [
    {
     "data": {
      "text/html": [
       "<div>\n",
       "<style scoped>\n",
       "    .dataframe tbody tr th:only-of-type {\n",
       "        vertical-align: middle;\n",
       "    }\n",
       "\n",
       "    .dataframe tbody tr th {\n",
       "        vertical-align: top;\n",
       "    }\n",
       "\n",
       "    .dataframe thead th {\n",
       "        text-align: right;\n",
       "    }\n",
       "</style>\n",
       "<table border=\"1\" class=\"dataframe\">\n",
       "  <thead>\n",
       "    <tr style=\"text-align: right;\">\n",
       "      <th></th>\n",
       "      <th>rid</th>\n",
       "      <th>course</th>\n",
       "      <th>time</th>\n",
       "      <th>date</th>\n",
       "      <th>hurdles</th>\n",
       "      <th>prizes</th>\n",
       "      <th>winningTime</th>\n",
       "      <th>metric</th>\n",
       "      <th>countryCode</th>\n",
       "      <th>ncond</th>\n",
       "      <th>class</th>\n",
       "    </tr>\n",
       "  </thead>\n",
       "  <tbody>\n",
       "    <tr>\n",
       "      <th>0</th>\n",
       "      <td>302858</td>\n",
       "      <td>Thurles (IRE)</td>\n",
       "      <td>01:15</td>\n",
       "      <td>97/01/09</td>\n",
       "      <td>NaN</td>\n",
       "      <td>[]</td>\n",
       "      <td>277.2</td>\n",
       "      <td>3821.0</td>\n",
       "      <td>IE</td>\n",
       "      <td>1</td>\n",
       "      <td>0</td>\n",
       "    </tr>\n",
       "    <tr>\n",
       "      <th>1</th>\n",
       "      <td>291347</td>\n",
       "      <td>Punchestown (IRE)</td>\n",
       "      <td>03:40</td>\n",
       "      <td>97/02/16</td>\n",
       "      <td>NaN</td>\n",
       "      <td>[]</td>\n",
       "      <td>447.2</td>\n",
       "      <td>5229.0</td>\n",
       "      <td>IE</td>\n",
       "      <td>5</td>\n",
       "      <td>0</td>\n",
       "    </tr>\n",
       "    <tr>\n",
       "      <th>2</th>\n",
       "      <td>377929</td>\n",
       "      <td>Leopardstown (IRE)</td>\n",
       "      <td>03:00</td>\n",
       "      <td>97/05/11</td>\n",
       "      <td>NaN</td>\n",
       "      <td>[]</td>\n",
       "      <td>106.4</td>\n",
       "      <td>1609.0</td>\n",
       "      <td>IE</td>\n",
       "      <td>4</td>\n",
       "      <td>0</td>\n",
       "    </tr>\n",
       "    <tr>\n",
       "      <th>3</th>\n",
       "      <td>275117</td>\n",
       "      <td>Curragh (IRE)</td>\n",
       "      <td>03:35</td>\n",
       "      <td>97/05/25</td>\n",
       "      <td>NaN</td>\n",
       "      <td>[]</td>\n",
       "      <td>125.9</td>\n",
       "      <td>2011.0</td>\n",
       "      <td>IE</td>\n",
       "      <td>4</td>\n",
       "      <td>0</td>\n",
       "    </tr>\n",
       "    <tr>\n",
       "      <th>4</th>\n",
       "      <td>66511</td>\n",
       "      <td>Leopardstown (IRE)</td>\n",
       "      <td>04:30</td>\n",
       "      <td>97/06/02</td>\n",
       "      <td>NaN</td>\n",
       "      <td>[]</td>\n",
       "      <td>116.3</td>\n",
       "      <td>1810.0</td>\n",
       "      <td>IE</td>\n",
       "      <td>1</td>\n",
       "      <td>0</td>\n",
       "    </tr>\n",
       "  </tbody>\n",
       "</table>\n",
       "</div>"
      ],
      "text/plain": [
       "      rid              course   time      date  hurdles prizes  winningTime  \\\n",
       "0  302858       Thurles (IRE)  01:15  97/01/09      NaN     []        277.2   \n",
       "1  291347   Punchestown (IRE)  03:40  97/02/16      NaN     []        447.2   \n",
       "2  377929  Leopardstown (IRE)  03:00  97/05/11      NaN     []        106.4   \n",
       "3  275117       Curragh (IRE)  03:35  97/05/25      NaN     []        125.9   \n",
       "4   66511  Leopardstown (IRE)  04:30  97/06/02      NaN     []        116.3   \n",
       "\n",
       "   metric countryCode  ncond  class  \n",
       "0  3821.0          IE      1      0  \n",
       "1  5229.0          IE      5      0  \n",
       "2  1609.0          IE      4      0  \n",
       "3  2011.0          IE      4      0  \n",
       "4  1810.0          IE      1      0  "
      ]
     },
     "execution_count": 3,
     "metadata": {},
     "output_type": "execute_result"
    }
   ],
   "source": [
    "races_aticnmid = pd.read_csv(f\"{BASE_DIR}/data/csv/races_aticnmid.csv\", low_memory=False) \n",
    "races_aticnmid.head()"
   ]
  },
  {
   "cell_type": "code",
   "execution_count": 4,
   "id": "3ad6a80a",
   "metadata": {},
   "outputs": [
    {
     "data": {
      "text/plain": [
       "(19510, 11)"
      ]
     },
     "execution_count": 4,
     "metadata": {},
     "output_type": "execute_result"
    }
   ],
   "source": [
    "races_aticnmid.shape"
   ]
  },
  {
   "cell_type": "markdown",
   "id": "3b409330",
   "metadata": {},
   "source": [
    "---"
   ]
  },
  {
   "cell_type": "markdown",
   "id": "dd5058e7",
   "metadata": {},
   "source": [
    "## Load `horses_aticnmi.csv`"
   ]
  },
  {
   "cell_type": "code",
   "execution_count": 5,
   "id": "4f03aa60",
   "metadata": {},
   "outputs": [
    {
     "data": {
      "text/html": [
       "<div>\n",
       "<style scoped>\n",
       "    .dataframe tbody tr th:only-of-type {\n",
       "        vertical-align: middle;\n",
       "    }\n",
       "\n",
       "    .dataframe tbody tr th {\n",
       "        vertical-align: top;\n",
       "    }\n",
       "\n",
       "    .dataframe thead th {\n",
       "        text-align: right;\n",
       "    }\n",
       "</style>\n",
       "<table border=\"1\" class=\"dataframe\">\n",
       "  <thead>\n",
       "    <tr style=\"text-align: right;\">\n",
       "      <th></th>\n",
       "      <th>rid</th>\n",
       "      <th>horseName</th>\n",
       "      <th>age</th>\n",
       "      <th>saddle</th>\n",
       "      <th>decimalPrice</th>\n",
       "      <th>trainerName</th>\n",
       "      <th>jockeyName</th>\n",
       "      <th>position</th>\n",
       "      <th>positionL</th>\n",
       "      <th>dist</th>\n",
       "      <th>outHandicap</th>\n",
       "      <th>RPR</th>\n",
       "      <th>TR</th>\n",
       "      <th>OR</th>\n",
       "      <th>father</th>\n",
       "      <th>mother</th>\n",
       "      <th>gfather</th>\n",
       "      <th>weight</th>\n",
       "    </tr>\n",
       "  </thead>\n",
       "  <tbody>\n",
       "    <tr>\n",
       "      <th>0</th>\n",
       "      <td>302858</td>\n",
       "      <td>Kings Return</td>\n",
       "      <td>6.0</td>\n",
       "      <td>4.0</td>\n",
       "      <td>0.600000</td>\n",
       "      <td>W P Mullins</td>\n",
       "      <td>D J Casey</td>\n",
       "      <td>1</td>\n",
       "      <td>NaN</td>\n",
       "      <td>0.0</td>\n",
       "      <td>0.0</td>\n",
       "      <td>102.00000</td>\n",
       "      <td>51.591987</td>\n",
       "      <td>79.654604</td>\n",
       "      <td>King's Ride</td>\n",
       "      <td>Browne's Return</td>\n",
       "      <td>Deep Run</td>\n",
       "      <td>73</td>\n",
       "    </tr>\n",
       "    <tr>\n",
       "      <th>1</th>\n",
       "      <td>302858</td>\n",
       "      <td>Majestic Red I</td>\n",
       "      <td>6.0</td>\n",
       "      <td>5.0</td>\n",
       "      <td>0.047619</td>\n",
       "      <td>John Hackett</td>\n",
       "      <td>Conor O'Dwyer</td>\n",
       "      <td>2</td>\n",
       "      <td>8</td>\n",
       "      <td>0.0</td>\n",
       "      <td>0.0</td>\n",
       "      <td>94.00000</td>\n",
       "      <td>51.591987</td>\n",
       "      <td>79.654604</td>\n",
       "      <td>Long Pond</td>\n",
       "      <td>Courtlough Lady</td>\n",
       "      <td>Giolla Mear</td>\n",
       "      <td>73</td>\n",
       "    </tr>\n",
       "    <tr>\n",
       "      <th>2</th>\n",
       "      <td>302858</td>\n",
       "      <td>Clearly Canadian</td>\n",
       "      <td>6.0</td>\n",
       "      <td>2.0</td>\n",
       "      <td>0.166667</td>\n",
       "      <td>D T Hughes</td>\n",
       "      <td>G Cotter</td>\n",
       "      <td>3</td>\n",
       "      <td>1.5</td>\n",
       "      <td>9.5</td>\n",
       "      <td>0.0</td>\n",
       "      <td>92.00000</td>\n",
       "      <td>51.591987</td>\n",
       "      <td>79.654604</td>\n",
       "      <td>Nordico</td>\n",
       "      <td>Over The Seas</td>\n",
       "      <td>North Summit</td>\n",
       "      <td>71</td>\n",
       "    </tr>\n",
       "    <tr>\n",
       "      <th>3</th>\n",
       "      <td>302858</td>\n",
       "      <td>Bernestic Wonder</td>\n",
       "      <td>8.0</td>\n",
       "      <td>1.0</td>\n",
       "      <td>0.058824</td>\n",
       "      <td>E McNamara</td>\n",
       "      <td>J Old Jones</td>\n",
       "      <td>4</td>\n",
       "      <td>dist</td>\n",
       "      <td>39.5</td>\n",
       "      <td>0.0</td>\n",
       "      <td>71.87665</td>\n",
       "      <td>51.591987</td>\n",
       "      <td>79.654604</td>\n",
       "      <td>Roselier</td>\n",
       "      <td>Miss Reindeer</td>\n",
       "      <td>Reindeer</td>\n",
       "      <td>73</td>\n",
       "    </tr>\n",
       "    <tr>\n",
       "      <th>4</th>\n",
       "      <td>302858</td>\n",
       "      <td>Beauty's Pride</td>\n",
       "      <td>5.0</td>\n",
       "      <td>6.0</td>\n",
       "      <td>0.038462</td>\n",
       "      <td>J J Lennon</td>\n",
       "      <td>T Martin</td>\n",
       "      <td>5</td>\n",
       "      <td>dist</td>\n",
       "      <td>69.5</td>\n",
       "      <td>0.0</td>\n",
       "      <td>71.87665</td>\n",
       "      <td>51.591987</td>\n",
       "      <td>79.654604</td>\n",
       "      <td>Noalto</td>\n",
       "      <td>Elena's Beauty</td>\n",
       "      <td>Tarqogan</td>\n",
       "      <td>66</td>\n",
       "    </tr>\n",
       "  </tbody>\n",
       "</table>\n",
       "</div>"
      ],
      "text/plain": [
       "      rid         horseName  age  saddle  decimalPrice   trainerName  \\\n",
       "0  302858      Kings Return  6.0     4.0      0.600000   W P Mullins   \n",
       "1  302858    Majestic Red I  6.0     5.0      0.047619  John Hackett   \n",
       "2  302858  Clearly Canadian  6.0     2.0      0.166667    D T Hughes   \n",
       "3  302858  Bernestic Wonder  8.0     1.0      0.058824    E McNamara   \n",
       "4  302858    Beauty's Pride  5.0     6.0      0.038462    J J Lennon   \n",
       "\n",
       "      jockeyName  position positionL  dist  outHandicap        RPR         TR  \\\n",
       "0      D J Casey         1       NaN   0.0          0.0  102.00000  51.591987   \n",
       "1  Conor O'Dwyer         2         8   0.0          0.0   94.00000  51.591987   \n",
       "2       G Cotter         3       1.5   9.5          0.0   92.00000  51.591987   \n",
       "3    J Old Jones         4      dist  39.5          0.0   71.87665  51.591987   \n",
       "4       T Martin         5      dist  69.5          0.0   71.87665  51.591987   \n",
       "\n",
       "          OR       father           mother       gfather  weight  \n",
       "0  79.654604  King's Ride  Browne's Return      Deep Run      73  \n",
       "1  79.654604    Long Pond  Courtlough Lady   Giolla Mear      73  \n",
       "2  79.654604      Nordico    Over The Seas  North Summit      71  \n",
       "3  79.654604     Roselier    Miss Reindeer      Reindeer      73  \n",
       "4  79.654604       Noalto   Elena's Beauty      Tarqogan      66  "
      ]
     },
     "execution_count": 5,
     "metadata": {},
     "output_type": "execute_result"
    }
   ],
   "source": [
    "horses_aticnmi = pd.read_csv(f\"{BASE_DIR}/data/csv/horses_aticnmi.csv\", low_memory=False) \n",
    "horses_aticnmi.head()"
   ]
  },
  {
   "cell_type": "code",
   "execution_count": 6,
   "id": "c3234077",
   "metadata": {},
   "outputs": [
    {
     "data": {
      "text/plain": [
       "(197491, 18)"
      ]
     },
     "execution_count": 6,
     "metadata": {},
     "output_type": "execute_result"
    }
   ],
   "source": [
    "horses_aticnmi.shape"
   ]
  },
  {
   "cell_type": "markdown",
   "id": "dce4bc78",
   "metadata": {},
   "source": [
    "---"
   ]
  },
  {
   "cell_type": "markdown",
   "id": "f7611aa7",
   "metadata": {},
   "source": [
    "## Remove Entries w/ Bad Weather"
   ]
  },
  {
   "cell_type": "code",
   "execution_count": 8,
   "id": "7e0df377",
   "metadata": {},
   "outputs": [
    {
     "data": {
      "text/plain": [
       "[302858, 291347, 377929, 275117, 66511]"
      ]
     },
     "execution_count": 8,
     "metadata": {},
     "output_type": "execute_result"
    }
   ],
   "source": [
    "rids = [k for k, v in RID_TO_WEATHER.items()]\n",
    "rids[:5]"
   ]
  },
  {
   "cell_type": "code",
   "execution_count": 9,
   "id": "d5da282c",
   "metadata": {},
   "outputs": [
    {
     "data": {
      "text/plain": [
       "19271"
      ]
     },
     "execution_count": 9,
     "metadata": {},
     "output_type": "execute_result"
    }
   ],
   "source": [
    "len(rids)"
   ]
  },
  {
   "cell_type": "code",
   "execution_count": 10,
   "id": "8ea85c4f",
   "metadata": {},
   "outputs": [
    {
     "data": {
      "text/html": [
       "<div>\n",
       "<style scoped>\n",
       "    .dataframe tbody tr th:only-of-type {\n",
       "        vertical-align: middle;\n",
       "    }\n",
       "\n",
       "    .dataframe tbody tr th {\n",
       "        vertical-align: top;\n",
       "    }\n",
       "\n",
       "    .dataframe thead th {\n",
       "        text-align: right;\n",
       "    }\n",
       "</style>\n",
       "<table border=\"1\" class=\"dataframe\">\n",
       "  <thead>\n",
       "    <tr style=\"text-align: right;\">\n",
       "      <th></th>\n",
       "      <th>rid</th>\n",
       "      <th>course</th>\n",
       "      <th>time</th>\n",
       "      <th>date</th>\n",
       "      <th>hurdles</th>\n",
       "      <th>prizes</th>\n",
       "      <th>winningTime</th>\n",
       "      <th>metric</th>\n",
       "      <th>countryCode</th>\n",
       "      <th>ncond</th>\n",
       "      <th>class</th>\n",
       "    </tr>\n",
       "  </thead>\n",
       "  <tbody>\n",
       "    <tr>\n",
       "      <th>0</th>\n",
       "      <td>302858</td>\n",
       "      <td>Thurles (IRE)</td>\n",
       "      <td>01:15</td>\n",
       "      <td>97/01/09</td>\n",
       "      <td>NaN</td>\n",
       "      <td>[]</td>\n",
       "      <td>277.2</td>\n",
       "      <td>3821.0</td>\n",
       "      <td>IE</td>\n",
       "      <td>1</td>\n",
       "      <td>0</td>\n",
       "    </tr>\n",
       "    <tr>\n",
       "      <th>1</th>\n",
       "      <td>291347</td>\n",
       "      <td>Punchestown (IRE)</td>\n",
       "      <td>03:40</td>\n",
       "      <td>97/02/16</td>\n",
       "      <td>NaN</td>\n",
       "      <td>[]</td>\n",
       "      <td>447.2</td>\n",
       "      <td>5229.0</td>\n",
       "      <td>IE</td>\n",
       "      <td>5</td>\n",
       "      <td>0</td>\n",
       "    </tr>\n",
       "    <tr>\n",
       "      <th>2</th>\n",
       "      <td>377929</td>\n",
       "      <td>Leopardstown (IRE)</td>\n",
       "      <td>03:00</td>\n",
       "      <td>97/05/11</td>\n",
       "      <td>NaN</td>\n",
       "      <td>[]</td>\n",
       "      <td>106.4</td>\n",
       "      <td>1609.0</td>\n",
       "      <td>IE</td>\n",
       "      <td>4</td>\n",
       "      <td>0</td>\n",
       "    </tr>\n",
       "    <tr>\n",
       "      <th>3</th>\n",
       "      <td>275117</td>\n",
       "      <td>Curragh (IRE)</td>\n",
       "      <td>03:35</td>\n",
       "      <td>97/05/25</td>\n",
       "      <td>NaN</td>\n",
       "      <td>[]</td>\n",
       "      <td>125.9</td>\n",
       "      <td>2011.0</td>\n",
       "      <td>IE</td>\n",
       "      <td>4</td>\n",
       "      <td>0</td>\n",
       "    </tr>\n",
       "    <tr>\n",
       "      <th>4</th>\n",
       "      <td>66511</td>\n",
       "      <td>Leopardstown (IRE)</td>\n",
       "      <td>04:30</td>\n",
       "      <td>97/06/02</td>\n",
       "      <td>NaN</td>\n",
       "      <td>[]</td>\n",
       "      <td>116.3</td>\n",
       "      <td>1810.0</td>\n",
       "      <td>IE</td>\n",
       "      <td>1</td>\n",
       "      <td>0</td>\n",
       "    </tr>\n",
       "  </tbody>\n",
       "</table>\n",
       "</div>"
      ],
      "text/plain": [
       "      rid              course   time      date  hurdles prizes  winningTime  \\\n",
       "0  302858       Thurles (IRE)  01:15  97/01/09      NaN     []        277.2   \n",
       "1  291347   Punchestown (IRE)  03:40  97/02/16      NaN     []        447.2   \n",
       "2  377929  Leopardstown (IRE)  03:00  97/05/11      NaN     []        106.4   \n",
       "3  275117       Curragh (IRE)  03:35  97/05/25      NaN     []        125.9   \n",
       "4   66511  Leopardstown (IRE)  04:30  97/06/02      NaN     []        116.3   \n",
       "\n",
       "   metric countryCode  ncond  class  \n",
       "0  3821.0          IE      1      0  \n",
       "1  5229.0          IE      5      0  \n",
       "2  1609.0          IE      4      0  \n",
       "3  2011.0          IE      4      0  \n",
       "4  1810.0          IE      1      0  "
      ]
     },
     "execution_count": 10,
     "metadata": {},
     "output_type": "execute_result"
    }
   ],
   "source": [
    "races_aticnmid = races_aticnmid[races_aticnmid['rid'].isin(rids)]\n",
    "races_aticnmid.head()"
   ]
  },
  {
   "cell_type": "code",
   "execution_count": 11,
   "id": "ac85c5bf",
   "metadata": {},
   "outputs": [],
   "source": [
    "assert len(races_aticnmid) == len(rids)"
   ]
  },
  {
   "cell_type": "code",
   "execution_count": 12,
   "id": "4978d77b",
   "metadata": {},
   "outputs": [
    {
     "data": {
      "text/html": [
       "<div>\n",
       "<style scoped>\n",
       "    .dataframe tbody tr th:only-of-type {\n",
       "        vertical-align: middle;\n",
       "    }\n",
       "\n",
       "    .dataframe tbody tr th {\n",
       "        vertical-align: top;\n",
       "    }\n",
       "\n",
       "    .dataframe thead th {\n",
       "        text-align: right;\n",
       "    }\n",
       "</style>\n",
       "<table border=\"1\" class=\"dataframe\">\n",
       "  <thead>\n",
       "    <tr style=\"text-align: right;\">\n",
       "      <th></th>\n",
       "      <th>rid</th>\n",
       "      <th>horseName</th>\n",
       "      <th>age</th>\n",
       "      <th>saddle</th>\n",
       "      <th>decimalPrice</th>\n",
       "      <th>trainerName</th>\n",
       "      <th>jockeyName</th>\n",
       "      <th>position</th>\n",
       "      <th>positionL</th>\n",
       "      <th>dist</th>\n",
       "      <th>outHandicap</th>\n",
       "      <th>RPR</th>\n",
       "      <th>TR</th>\n",
       "      <th>OR</th>\n",
       "      <th>father</th>\n",
       "      <th>mother</th>\n",
       "      <th>gfather</th>\n",
       "      <th>weight</th>\n",
       "    </tr>\n",
       "  </thead>\n",
       "  <tbody>\n",
       "    <tr>\n",
       "      <th>0</th>\n",
       "      <td>302858</td>\n",
       "      <td>Kings Return</td>\n",
       "      <td>6.0</td>\n",
       "      <td>4.0</td>\n",
       "      <td>0.600000</td>\n",
       "      <td>W P Mullins</td>\n",
       "      <td>D J Casey</td>\n",
       "      <td>1</td>\n",
       "      <td>NaN</td>\n",
       "      <td>0.0</td>\n",
       "      <td>0.0</td>\n",
       "      <td>102.00000</td>\n",
       "      <td>51.591987</td>\n",
       "      <td>79.654604</td>\n",
       "      <td>King's Ride</td>\n",
       "      <td>Browne's Return</td>\n",
       "      <td>Deep Run</td>\n",
       "      <td>73</td>\n",
       "    </tr>\n",
       "    <tr>\n",
       "      <th>1</th>\n",
       "      <td>302858</td>\n",
       "      <td>Majestic Red I</td>\n",
       "      <td>6.0</td>\n",
       "      <td>5.0</td>\n",
       "      <td>0.047619</td>\n",
       "      <td>John Hackett</td>\n",
       "      <td>Conor O'Dwyer</td>\n",
       "      <td>2</td>\n",
       "      <td>8</td>\n",
       "      <td>0.0</td>\n",
       "      <td>0.0</td>\n",
       "      <td>94.00000</td>\n",
       "      <td>51.591987</td>\n",
       "      <td>79.654604</td>\n",
       "      <td>Long Pond</td>\n",
       "      <td>Courtlough Lady</td>\n",
       "      <td>Giolla Mear</td>\n",
       "      <td>73</td>\n",
       "    </tr>\n",
       "    <tr>\n",
       "      <th>2</th>\n",
       "      <td>302858</td>\n",
       "      <td>Clearly Canadian</td>\n",
       "      <td>6.0</td>\n",
       "      <td>2.0</td>\n",
       "      <td>0.166667</td>\n",
       "      <td>D T Hughes</td>\n",
       "      <td>G Cotter</td>\n",
       "      <td>3</td>\n",
       "      <td>1.5</td>\n",
       "      <td>9.5</td>\n",
       "      <td>0.0</td>\n",
       "      <td>92.00000</td>\n",
       "      <td>51.591987</td>\n",
       "      <td>79.654604</td>\n",
       "      <td>Nordico</td>\n",
       "      <td>Over The Seas</td>\n",
       "      <td>North Summit</td>\n",
       "      <td>71</td>\n",
       "    </tr>\n",
       "    <tr>\n",
       "      <th>3</th>\n",
       "      <td>302858</td>\n",
       "      <td>Bernestic Wonder</td>\n",
       "      <td>8.0</td>\n",
       "      <td>1.0</td>\n",
       "      <td>0.058824</td>\n",
       "      <td>E McNamara</td>\n",
       "      <td>J Old Jones</td>\n",
       "      <td>4</td>\n",
       "      <td>dist</td>\n",
       "      <td>39.5</td>\n",
       "      <td>0.0</td>\n",
       "      <td>71.87665</td>\n",
       "      <td>51.591987</td>\n",
       "      <td>79.654604</td>\n",
       "      <td>Roselier</td>\n",
       "      <td>Miss Reindeer</td>\n",
       "      <td>Reindeer</td>\n",
       "      <td>73</td>\n",
       "    </tr>\n",
       "    <tr>\n",
       "      <th>4</th>\n",
       "      <td>302858</td>\n",
       "      <td>Beauty's Pride</td>\n",
       "      <td>5.0</td>\n",
       "      <td>6.0</td>\n",
       "      <td>0.038462</td>\n",
       "      <td>J J Lennon</td>\n",
       "      <td>T Martin</td>\n",
       "      <td>5</td>\n",
       "      <td>dist</td>\n",
       "      <td>69.5</td>\n",
       "      <td>0.0</td>\n",
       "      <td>71.87665</td>\n",
       "      <td>51.591987</td>\n",
       "      <td>79.654604</td>\n",
       "      <td>Noalto</td>\n",
       "      <td>Elena's Beauty</td>\n",
       "      <td>Tarqogan</td>\n",
       "      <td>66</td>\n",
       "    </tr>\n",
       "  </tbody>\n",
       "</table>\n",
       "</div>"
      ],
      "text/plain": [
       "      rid         horseName  age  saddle  decimalPrice   trainerName  \\\n",
       "0  302858      Kings Return  6.0     4.0      0.600000   W P Mullins   \n",
       "1  302858    Majestic Red I  6.0     5.0      0.047619  John Hackett   \n",
       "2  302858  Clearly Canadian  6.0     2.0      0.166667    D T Hughes   \n",
       "3  302858  Bernestic Wonder  8.0     1.0      0.058824    E McNamara   \n",
       "4  302858    Beauty's Pride  5.0     6.0      0.038462    J J Lennon   \n",
       "\n",
       "      jockeyName  position positionL  dist  outHandicap        RPR         TR  \\\n",
       "0      D J Casey         1       NaN   0.0          0.0  102.00000  51.591987   \n",
       "1  Conor O'Dwyer         2         8   0.0          0.0   94.00000  51.591987   \n",
       "2       G Cotter         3       1.5   9.5          0.0   92.00000  51.591987   \n",
       "3    J Old Jones         4      dist  39.5          0.0   71.87665  51.591987   \n",
       "4       T Martin         5      dist  69.5          0.0   71.87665  51.591987   \n",
       "\n",
       "          OR       father           mother       gfather  weight  \n",
       "0  79.654604  King's Ride  Browne's Return      Deep Run      73  \n",
       "1  79.654604    Long Pond  Courtlough Lady   Giolla Mear      73  \n",
       "2  79.654604      Nordico    Over The Seas  North Summit      71  \n",
       "3  79.654604     Roselier    Miss Reindeer      Reindeer      73  \n",
       "4  79.654604       Noalto   Elena's Beauty      Tarqogan      66  "
      ]
     },
     "execution_count": 12,
     "metadata": {},
     "output_type": "execute_result"
    }
   ],
   "source": [
    "horses_aticnmi = horses_aticnmi[horses_aticnmi['rid'].isin(rids)]\n",
    "horses_aticnmi.head()"
   ]
  },
  {
   "cell_type": "code",
   "execution_count": 14,
   "id": "4950c9d8",
   "metadata": {},
   "outputs": [
    {
     "data": {
      "text/plain": [
       "195052"
      ]
     },
     "execution_count": 14,
     "metadata": {},
     "output_type": "execute_result"
    }
   ],
   "source": [
    "len(horses_aticnmi)"
   ]
  },
  {
   "cell_type": "code",
   "execution_count": 13,
   "id": "576d4cda",
   "metadata": {},
   "outputs": [],
   "source": [
    "assert set(races_aticnmid['rid']).symmetric_difference(set(horses_aticnmi['rid'])) == set()"
   ]
  },
  {
   "cell_type": "markdown",
   "id": "ea1e82bd",
   "metadata": {},
   "source": [
    "---"
   ]
  },
  {
   "cell_type": "markdown",
   "id": "d24d392f",
   "metadata": {},
   "source": [
    "## Save Dataframes"
   ]
  },
  {
   "cell_type": "code",
   "execution_count": 15,
   "id": "463d834b",
   "metadata": {},
   "outputs": [],
   "source": [
    "races_aticnmid.to_csv(f\"{BASE_DIR}/data/csv/races_aticnmidg.csv\", index=False)"
   ]
  },
  {
   "cell_type": "code",
   "execution_count": 16,
   "id": "ac4f1d90",
   "metadata": {},
   "outputs": [],
   "source": [
    "horses_aticnmi.to_csv(f\"{BASE_DIR}/data/csv/horses_aticnmig.csv\", index=False)"
   ]
  },
  {
   "cell_type": "markdown",
   "id": "33dc3f79",
   "metadata": {},
   "source": [
    "---"
   ]
  }
 ],
 "metadata": {
  "kernelspec": {
   "display_name": "Python 3 (ipykernel)",
   "language": "python",
   "name": "python3"
  },
  "language_info": {
   "codemirror_mode": {
    "name": "ipython",
    "version": 3
   },
   "file_extension": ".py",
   "mimetype": "text/x-python",
   "name": "python",
   "nbconvert_exporter": "python",
   "pygments_lexer": "ipython3",
   "version": "3.9.6"
  }
 },
 "nbformat": 4,
 "nbformat_minor": 5
}
