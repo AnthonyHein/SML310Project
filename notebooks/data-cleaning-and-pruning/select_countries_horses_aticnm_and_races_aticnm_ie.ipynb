{
 "cells": [
  {
   "cell_type": "markdown",
   "id": "58796508",
   "metadata": {},
   "source": [
    "# `select_countries_horses_aticnm_and_races_aticnm_ie.ipynb`"
   ]
  },
  {
   "cell_type": "markdown",
   "id": "2f87b0d3",
   "metadata": {},
   "source": [
    "### Author: Anthony Hein"
   ]
  },
  {
   "cell_type": "markdown",
   "id": "c849a5ff",
   "metadata": {},
   "source": [
    "#### Last updated: 10/18/2021"
   ]
  },
  {
   "cell_type": "markdown",
   "id": "af8b11a6",
   "metadata": {},
   "source": [
    "# Overview:\n",
    "\n",
    "We are still weaning down the dataset into something more manageable and more targeted. Towards this purpose, we now drop all races which do not belong to a subset of countries of our choosing (which will be determined by the most prolific countries in the dataset).\n",
    "\n",
    "**Note**: This is nearly identical to another notebook bearing a similar name except _it chooses Ireland instead of Great Britain due to the availability of data_."
   ]
  },
  {
   "cell_type": "markdown",
   "id": "cd6b1d91",
   "metadata": {},
   "source": [
    "---"
   ]
  },
  {
   "cell_type": "markdown",
   "id": "b051b2cb",
   "metadata": {},
   "source": [
    "## Setup"
   ]
  },
  {
   "cell_type": "code",
   "execution_count": 1,
   "id": "58c3fd18",
   "metadata": {},
   "outputs": [],
   "source": [
    "import git\n",
    "import os\n",
    "from typing import List\n",
    "from tqdm import tqdm\n",
    "import pandas as pd\n",
    "import numpy as np\n",
    "import matplotlib.pyplot as plt\n",
    "%matplotlib inline"
   ]
  },
  {
   "cell_type": "code",
   "execution_count": 2,
   "id": "a4040252",
   "metadata": {},
   "outputs": [
    {
     "data": {
      "text/plain": [
       "'/Users/anthonyhein/Desktop/SML310/project'"
      ]
     },
     "execution_count": 2,
     "metadata": {},
     "output_type": "execute_result"
    }
   ],
   "source": [
    "BASE_DIR = git.Repo(os.getcwd(), search_parent_directories=True).working_dir\n",
    "BASE_DIR"
   ]
  },
  {
   "cell_type": "markdown",
   "id": "846658c0",
   "metadata": {},
   "source": [
    "---"
   ]
  },
  {
   "cell_type": "markdown",
   "id": "96a60381",
   "metadata": {},
   "source": [
    "## Load `horses_aticnm.csv`"
   ]
  },
  {
   "cell_type": "code",
   "execution_count": 3,
   "id": "5e4eeb2a",
   "metadata": {},
   "outputs": [
    {
     "data": {
      "text/html": [
       "<div>\n",
       "<style scoped>\n",
       "    .dataframe tbody tr th:only-of-type {\n",
       "        vertical-align: middle;\n",
       "    }\n",
       "\n",
       "    .dataframe tbody tr th {\n",
       "        vertical-align: top;\n",
       "    }\n",
       "\n",
       "    .dataframe thead th {\n",
       "        text-align: right;\n",
       "    }\n",
       "</style>\n",
       "<table border=\"1\" class=\"dataframe\">\n",
       "  <thead>\n",
       "    <tr style=\"text-align: right;\">\n",
       "      <th></th>\n",
       "      <th>rid</th>\n",
       "      <th>horseName</th>\n",
       "      <th>age</th>\n",
       "      <th>saddle</th>\n",
       "      <th>decimalPrice</th>\n",
       "      <th>trainerName</th>\n",
       "      <th>jockeyName</th>\n",
       "      <th>position</th>\n",
       "      <th>positionL</th>\n",
       "      <th>dist</th>\n",
       "      <th>outHandicap</th>\n",
       "      <th>RPR</th>\n",
       "      <th>TR</th>\n",
       "      <th>OR</th>\n",
       "      <th>father</th>\n",
       "      <th>mother</th>\n",
       "      <th>gfather</th>\n",
       "      <th>weight</th>\n",
       "    </tr>\n",
       "  </thead>\n",
       "  <tbody>\n",
       "    <tr>\n",
       "      <th>0</th>\n",
       "      <td>267255</td>\n",
       "      <td>Going For Broke</td>\n",
       "      <td>3.0</td>\n",
       "      <td>4.0</td>\n",
       "      <td>0.100000</td>\n",
       "      <td>P C Haslam</td>\n",
       "      <td>Seb Sanders</td>\n",
       "      <td>1</td>\n",
       "      <td>NaN</td>\n",
       "      <td>0.0</td>\n",
       "      <td>0.0</td>\n",
       "      <td>72.0</td>\n",
       "      <td>62.0</td>\n",
       "      <td>62.0</td>\n",
       "      <td>Simply Great</td>\n",
       "      <td>Empty Purse</td>\n",
       "      <td>Pennine Walk</td>\n",
       "      <td>58</td>\n",
       "    </tr>\n",
       "    <tr>\n",
       "      <th>1</th>\n",
       "      <td>267255</td>\n",
       "      <td>Pinchincha</td>\n",
       "      <td>3.0</td>\n",
       "      <td>3.0</td>\n",
       "      <td>0.266667</td>\n",
       "      <td>Dave Morris</td>\n",
       "      <td>Tony Clark</td>\n",
       "      <td>2</td>\n",
       "      <td>4</td>\n",
       "      <td>0.0</td>\n",
       "      <td>0.0</td>\n",
       "      <td>66.0</td>\n",
       "      <td>56.0</td>\n",
       "      <td>65.0</td>\n",
       "      <td>Priolo</td>\n",
       "      <td>Western Heights</td>\n",
       "      <td>Shirley Heights</td>\n",
       "      <td>60</td>\n",
       "    </tr>\n",
       "    <tr>\n",
       "      <th>2</th>\n",
       "      <td>267255</td>\n",
       "      <td>Skelton Sovereign</td>\n",
       "      <td>3.0</td>\n",
       "      <td>5.0</td>\n",
       "      <td>0.142857</td>\n",
       "      <td>Reg Hollinshead</td>\n",
       "      <td>D Griffiths</td>\n",
       "      <td>3</td>\n",
       "      <td>3</td>\n",
       "      <td>7.0</td>\n",
       "      <td>0.0</td>\n",
       "      <td>55.0</td>\n",
       "      <td>40.0</td>\n",
       "      <td>60.0</td>\n",
       "      <td>Contract Law</td>\n",
       "      <td>Mrs Lucky</td>\n",
       "      <td>Royal Match</td>\n",
       "      <td>55</td>\n",
       "    </tr>\n",
       "    <tr>\n",
       "      <th>3</th>\n",
       "      <td>267255</td>\n",
       "      <td>Fast Spin</td>\n",
       "      <td>3.0</td>\n",
       "      <td>6.0</td>\n",
       "      <td>0.380952</td>\n",
       "      <td>David Barron</td>\n",
       "      <td>Tony Culhane</td>\n",
       "      <td>4</td>\n",
       "      <td>7</td>\n",
       "      <td>14.0</td>\n",
       "      <td>0.0</td>\n",
       "      <td>38.0</td>\n",
       "      <td>30.0</td>\n",
       "      <td>59.0</td>\n",
       "      <td>Formidable I</td>\n",
       "      <td>Topwinder</td>\n",
       "      <td>Topsider</td>\n",
       "      <td>57</td>\n",
       "    </tr>\n",
       "    <tr>\n",
       "      <th>4</th>\n",
       "      <td>267255</td>\n",
       "      <td>As-Is</td>\n",
       "      <td>3.0</td>\n",
       "      <td>2.0</td>\n",
       "      <td>0.166667</td>\n",
       "      <td>Mark Johnston</td>\n",
       "      <td>J Weaver</td>\n",
       "      <td>5</td>\n",
       "      <td>7</td>\n",
       "      <td>21.0</td>\n",
       "      <td>0.0</td>\n",
       "      <td>29.0</td>\n",
       "      <td>21.0</td>\n",
       "      <td>65.0</td>\n",
       "      <td>Lomond</td>\n",
       "      <td>Capriati I</td>\n",
       "      <td>Diesis</td>\n",
       "      <td>60</td>\n",
       "    </tr>\n",
       "  </tbody>\n",
       "</table>\n",
       "</div>"
      ],
      "text/plain": [
       "      rid          horseName  age  saddle  decimalPrice      trainerName  \\\n",
       "0  267255    Going For Broke  3.0     4.0      0.100000       P C Haslam   \n",
       "1  267255         Pinchincha  3.0     3.0      0.266667      Dave Morris   \n",
       "2  267255  Skelton Sovereign  3.0     5.0      0.142857  Reg Hollinshead   \n",
       "3  267255          Fast Spin  3.0     6.0      0.380952     David Barron   \n",
       "4  267255              As-Is  3.0     2.0      0.166667    Mark Johnston   \n",
       "\n",
       "     jockeyName  position positionL  dist  outHandicap   RPR    TR    OR  \\\n",
       "0   Seb Sanders         1       NaN   0.0          0.0  72.0  62.0  62.0   \n",
       "1    Tony Clark         2         4   0.0          0.0  66.0  56.0  65.0   \n",
       "2   D Griffiths         3         3   7.0          0.0  55.0  40.0  60.0   \n",
       "3  Tony Culhane         4         7  14.0          0.0  38.0  30.0  59.0   \n",
       "4      J Weaver         5         7  21.0          0.0  29.0  21.0  65.0   \n",
       "\n",
       "         father           mother          gfather  weight  \n",
       "0  Simply Great      Empty Purse     Pennine Walk      58  \n",
       "1        Priolo  Western Heights  Shirley Heights      60  \n",
       "2  Contract Law        Mrs Lucky      Royal Match      55  \n",
       "3  Formidable I        Topwinder         Topsider      57  \n",
       "4        Lomond       Capriati I           Diesis      60  "
      ]
     },
     "execution_count": 3,
     "metadata": {},
     "output_type": "execute_result"
    }
   ],
   "source": [
    "horses_aticnm = pd.read_csv(f\"{BASE_DIR}/data/csv/horses_aticnm.csv\", low_memory=False) \n",
    "horses_aticnm.head()"
   ]
  },
  {
   "cell_type": "code",
   "execution_count": 4,
   "id": "8d2d4f74",
   "metadata": {},
   "outputs": [
    {
     "data": {
      "text/plain": [
       "(1674531, 18)"
      ]
     },
     "execution_count": 4,
     "metadata": {},
     "output_type": "execute_result"
    }
   ],
   "source": [
    "horses_aticnm.shape"
   ]
  },
  {
   "cell_type": "markdown",
   "id": "cef79ad9",
   "metadata": {},
   "source": [
    "---"
   ]
  },
  {
   "cell_type": "markdown",
   "id": "5f4b23bd",
   "metadata": {},
   "source": [
    "## Load `races_aticnm.csv`"
   ]
  },
  {
   "cell_type": "code",
   "execution_count": 5,
   "id": "30fdd91b",
   "metadata": {},
   "outputs": [
    {
     "data": {
      "text/html": [
       "<div>\n",
       "<style scoped>\n",
       "    .dataframe tbody tr th:only-of-type {\n",
       "        vertical-align: middle;\n",
       "    }\n",
       "\n",
       "    .dataframe tbody tr th {\n",
       "        vertical-align: top;\n",
       "    }\n",
       "\n",
       "    .dataframe thead th {\n",
       "        text-align: right;\n",
       "    }\n",
       "</style>\n",
       "<table border=\"1\" class=\"dataframe\">\n",
       "  <thead>\n",
       "    <tr style=\"text-align: right;\">\n",
       "      <th></th>\n",
       "      <th>rid</th>\n",
       "      <th>course</th>\n",
       "      <th>time</th>\n",
       "      <th>date</th>\n",
       "      <th>hurdles</th>\n",
       "      <th>prizes</th>\n",
       "      <th>winningTime</th>\n",
       "      <th>metric</th>\n",
       "      <th>countryCode</th>\n",
       "      <th>ncond</th>\n",
       "      <th>class</th>\n",
       "    </tr>\n",
       "  </thead>\n",
       "  <tbody>\n",
       "    <tr>\n",
       "      <th>0</th>\n",
       "      <td>267255</td>\n",
       "      <td>Southwell (AW)</td>\n",
       "      <td>03:40</td>\n",
       "      <td>97/01/01</td>\n",
       "      <td>NaN</td>\n",
       "      <td>[2752.25, 833.0, 406.5, 193.25]</td>\n",
       "      <td>106.9</td>\n",
       "      <td>1609.0</td>\n",
       "      <td>GB</td>\n",
       "      <td>0</td>\n",
       "      <td>5</td>\n",
       "    </tr>\n",
       "    <tr>\n",
       "      <th>1</th>\n",
       "      <td>297570</td>\n",
       "      <td>Southwell (AW)</td>\n",
       "      <td>12:35</td>\n",
       "      <td>97/01/01</td>\n",
       "      <td>NaN</td>\n",
       "      <td>[1944.0, 544.0, 264.0]</td>\n",
       "      <td>91.0</td>\n",
       "      <td>1407.0</td>\n",
       "      <td>GB</td>\n",
       "      <td>0</td>\n",
       "      <td>6</td>\n",
       "    </tr>\n",
       "    <tr>\n",
       "      <th>2</th>\n",
       "      <td>334421</td>\n",
       "      <td>Southwell (AW)</td>\n",
       "      <td>01:05</td>\n",
       "      <td>97/01/01</td>\n",
       "      <td>NaN</td>\n",
       "      <td>[2502.0, 702.0, 342.0]</td>\n",
       "      <td>150.7</td>\n",
       "      <td>2212.0</td>\n",
       "      <td>GB</td>\n",
       "      <td>0</td>\n",
       "      <td>6</td>\n",
       "    </tr>\n",
       "    <tr>\n",
       "      <th>3</th>\n",
       "      <td>366304</td>\n",
       "      <td>Southwell (AW)</td>\n",
       "      <td>03:10</td>\n",
       "      <td>97/01/01</td>\n",
       "      <td>NaN</td>\n",
       "      <td>[2189.0, 614.0, 299.0]</td>\n",
       "      <td>108.6</td>\n",
       "      <td>1609.0</td>\n",
       "      <td>GB</td>\n",
       "      <td>0</td>\n",
       "      <td>6</td>\n",
       "    </tr>\n",
       "    <tr>\n",
       "      <th>4</th>\n",
       "      <td>13063</td>\n",
       "      <td>Southwell (AW)</td>\n",
       "      <td>02:40</td>\n",
       "      <td>97/01/01</td>\n",
       "      <td>NaN</td>\n",
       "      <td>[2726.25, 825.0, 402.5, 191.25]</td>\n",
       "      <td>231.4</td>\n",
       "      <td>3318.5</td>\n",
       "      <td>GB</td>\n",
       "      <td>0</td>\n",
       "      <td>5</td>\n",
       "    </tr>\n",
       "  </tbody>\n",
       "</table>\n",
       "</div>"
      ],
      "text/plain": [
       "      rid          course   time      date  hurdles  \\\n",
       "0  267255  Southwell (AW)  03:40  97/01/01      NaN   \n",
       "1  297570  Southwell (AW)  12:35  97/01/01      NaN   \n",
       "2  334421  Southwell (AW)  01:05  97/01/01      NaN   \n",
       "3  366304  Southwell (AW)  03:10  97/01/01      NaN   \n",
       "4   13063  Southwell (AW)  02:40  97/01/01      NaN   \n",
       "\n",
       "                            prizes  winningTime  metric countryCode ncond  \\\n",
       "0  [2752.25, 833.0, 406.5, 193.25]        106.9  1609.0          GB     0   \n",
       "1           [1944.0, 544.0, 264.0]         91.0  1407.0          GB     0   \n",
       "2           [2502.0, 702.0, 342.0]        150.7  2212.0          GB     0   \n",
       "3           [2189.0, 614.0, 299.0]        108.6  1609.0          GB     0   \n",
       "4  [2726.25, 825.0, 402.5, 191.25]        231.4  3318.5          GB     0   \n",
       "\n",
       "   class  \n",
       "0      5  \n",
       "1      6  \n",
       "2      6  \n",
       "3      6  \n",
       "4      5  "
      ]
     },
     "execution_count": 5,
     "metadata": {},
     "output_type": "execute_result"
    }
   ],
   "source": [
    "races_aticnm = pd.read_csv(f\"{BASE_DIR}/data/csv/races_aticnm.csv\", low_memory=False) \n",
    "races_aticnm.head()"
   ]
  },
  {
   "cell_type": "code",
   "execution_count": 6,
   "id": "dd2911c2",
   "metadata": {},
   "outputs": [
    {
     "data": {
      "text/plain": [
       "(178067, 11)"
      ]
     },
     "execution_count": 6,
     "metadata": {},
     "output_type": "execute_result"
    }
   ],
   "source": [
    "races_aticnm.shape"
   ]
  },
  {
   "cell_type": "markdown",
   "id": "f9109550",
   "metadata": {},
   "source": [
    "---"
   ]
  },
  {
   "cell_type": "markdown",
   "id": "2a3984ef",
   "metadata": {},
   "source": [
    "## Find Most Prolific Countries in the Dataset"
   ]
  },
  {
   "cell_type": "code",
   "execution_count": 7,
   "id": "0381a273",
   "metadata": {},
   "outputs": [
    {
     "data": {
      "text/plain": [
       "GB      123972\n",
       "IE       19510\n",
       "FR       15056\n",
       "US        7111\n",
       "HK        3513\n",
       "AU        2277\n",
       "AE        2019\n",
       "GER        986\n",
       "ARG        674\n",
       "CAN        494\n",
       "IT         488\n",
       "BRZ        483\n",
       "JP         297\n",
       "CHI        292\n",
       "SAF        275\n",
       "NZ         153\n",
       "JER        100\n",
       "SWE         92\n",
       "URU         71\n",
       "TUR         56\n",
       "NOR         39\n",
       "SWI         35\n",
       "DEN         21\n",
       "SIN         20\n",
       "SPA         10\n",
       "KSA          7\n",
       "KOR          4\n",
       "BEL          4\n",
       "ARAB         2\n",
       "CZE          2\n",
       "BHR          1\n",
       "GUE          1\n",
       "MAC          1\n",
       "PER          1\n",
       "Name: countryCode, dtype: int64"
      ]
     },
     "execution_count": 7,
     "metadata": {},
     "output_type": "execute_result"
    }
   ],
   "source": [
    "races_aticnm['countryCode'].value_counts()"
   ]
  },
  {
   "cell_type": "markdown",
   "id": "0c05e56d",
   "metadata": {},
   "source": [
    "Although Great Britain has more races, the weather data for Great Britain is markedly more messy and frustrating to work with, so we will choose the country with the second most races, Ireland. Note that this would still constitute the largest analysis of horse racing (the previous largest being about 13K horses)."
   ]
  },
  {
   "cell_type": "code",
   "execution_count": 8,
   "id": "4f547b2a",
   "metadata": {},
   "outputs": [
    {
     "name": "stdout",
     "output_type": "stream",
     "text": [
      "old shape (178067, 11)\n",
      "new shape (19510, 11)\n"
     ]
    }
   ],
   "source": [
    "print(f\"old shape {races_aticnm.shape}\")\n",
    "\n",
    "races_aticnmg = races_aticnm[races_aticnm['countryCode'] == 'IE']\n",
    "\n",
    "print(f\"new shape {races_aticnmg.shape}\")"
   ]
  },
  {
   "cell_type": "code",
   "execution_count": 9,
   "id": "77220d36",
   "metadata": {},
   "outputs": [
    {
     "name": "stdout",
     "output_type": "stream",
     "text": [
      "old shape (1674531, 18)\n",
      "new shape (197491, 18)\n"
     ]
    }
   ],
   "source": [
    "print(f\"old shape {horses_aticnm.shape}\")\n",
    "\n",
    "horses_aticnmg = horses_aticnm[horses_aticnm['rid'].isin(races_aticnmg['rid'])]\n",
    "\n",
    "print(f\"new shape {horses_aticnmg.shape}\")"
   ]
  },
  {
   "cell_type": "markdown",
   "id": "ac3e6c4d",
   "metadata": {},
   "source": [
    "## Save Dataframes"
   ]
  },
  {
   "cell_type": "code",
   "execution_count": 10,
   "id": "d5368851",
   "metadata": {},
   "outputs": [],
   "source": [
    "horses_aticnmg.to_csv(f\"{BASE_DIR}/data/csv/horses_aticnmi.csv\", index=False)"
   ]
  },
  {
   "cell_type": "code",
   "execution_count": 11,
   "id": "d86e2740",
   "metadata": {},
   "outputs": [],
   "source": [
    "races_aticnmg.to_csv(f\"{BASE_DIR}/data/csv/races_aticnmi.csv\", index=False)"
   ]
  },
  {
   "cell_type": "markdown",
   "id": "fdac5bdb",
   "metadata": {},
   "source": [
    "---"
   ]
  }
 ],
 "metadata": {
  "kernelspec": {
   "display_name": "Python 3 (ipykernel)",
   "language": "python",
   "name": "python3"
  },
  "language_info": {
   "codemirror_mode": {
    "name": "ipython",
    "version": 3
   },
   "file_extension": ".py",
   "mimetype": "text/x-python",
   "name": "python",
   "nbconvert_exporter": "python",
   "pygments_lexer": "ipython3",
   "version": "3.9.6"
  }
 },
 "nbformat": 4,
 "nbformat_minor": 5
}
