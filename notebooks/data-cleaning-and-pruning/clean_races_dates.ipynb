{
 "cells": [
  {
   "cell_type": "markdown",
   "id": "dc5f8793",
   "metadata": {},
   "source": [
    "# `clean_races_dates.ipynb`"
   ]
  },
  {
   "cell_type": "markdown",
   "id": "6d76b29a",
   "metadata": {},
   "source": [
    "### Author: Anthony Hein"
   ]
  },
  {
   "cell_type": "markdown",
   "id": "8a72b287",
   "metadata": {},
   "source": [
    "#### Last updated: 10/19/2021"
   ]
  },
  {
   "cell_type": "markdown",
   "id": "a0ebf4a0",
   "metadata": {},
   "source": [
    "# Overview:\n",
    "\n",
    "It was later found that during cleaning of the datasets, we missed one type of error which was that there is sometimes an extraneous ` 00:00` at the end of the day or sometimes the year only contains one character, like `9/12/30`, which doesn't work in some formulas and should instead be `09/12/30`. We fix that here."
   ]
  },
  {
   "cell_type": "markdown",
   "id": "6f46b926",
   "metadata": {},
   "source": [
    "---"
   ]
  },
  {
   "cell_type": "markdown",
   "id": "066b637c",
   "metadata": {},
   "source": [
    "## Setup"
   ]
  },
  {
   "cell_type": "code",
   "execution_count": 1,
   "id": "3de4d07c",
   "metadata": {},
   "outputs": [],
   "source": [
    "import git\n",
    "import os\n",
    "from typing import List\n",
    "from tqdm import tqdm\n",
    "import pandas as pd\n",
    "import numpy as np\n",
    "import matplotlib.pyplot as plt\n",
    "%matplotlib inline"
   ]
  },
  {
   "cell_type": "code",
   "execution_count": 2,
   "id": "05a06de6",
   "metadata": {},
   "outputs": [
    {
     "data": {
      "text/plain": [
       "'/Users/anthonyhein/Desktop/SML310/project'"
      ]
     },
     "execution_count": 2,
     "metadata": {},
     "output_type": "execute_result"
    }
   ],
   "source": [
    "BASE_DIR = git.Repo(os.getcwd(), search_parent_directories=True).working_dir\n",
    "BASE_DIR"
   ]
  },
  {
   "cell_type": "markdown",
   "id": "19d6a59d",
   "metadata": {},
   "source": [
    "---"
   ]
  },
  {
   "cell_type": "markdown",
   "id": "062db87f",
   "metadata": {},
   "source": [
    "## Load `races_aticnmi.csv`"
   ]
  },
  {
   "cell_type": "code",
   "execution_count": 4,
   "id": "7bb383e5",
   "metadata": {},
   "outputs": [
    {
     "data": {
      "text/html": [
       "<div>\n",
       "<style scoped>\n",
       "    .dataframe tbody tr th:only-of-type {\n",
       "        vertical-align: middle;\n",
       "    }\n",
       "\n",
       "    .dataframe tbody tr th {\n",
       "        vertical-align: top;\n",
       "    }\n",
       "\n",
       "    .dataframe thead th {\n",
       "        text-align: right;\n",
       "    }\n",
       "</style>\n",
       "<table border=\"1\" class=\"dataframe\">\n",
       "  <thead>\n",
       "    <tr style=\"text-align: right;\">\n",
       "      <th></th>\n",
       "      <th>rid</th>\n",
       "      <th>course</th>\n",
       "      <th>time</th>\n",
       "      <th>date</th>\n",
       "      <th>hurdles</th>\n",
       "      <th>prizes</th>\n",
       "      <th>winningTime</th>\n",
       "      <th>metric</th>\n",
       "      <th>countryCode</th>\n",
       "      <th>ncond</th>\n",
       "      <th>class</th>\n",
       "    </tr>\n",
       "  </thead>\n",
       "  <tbody>\n",
       "    <tr>\n",
       "      <th>0</th>\n",
       "      <td>302858</td>\n",
       "      <td>Thurles (IRE)</td>\n",
       "      <td>01:15</td>\n",
       "      <td>97/01/09</td>\n",
       "      <td>NaN</td>\n",
       "      <td>[]</td>\n",
       "      <td>277.2</td>\n",
       "      <td>3821.0</td>\n",
       "      <td>IE</td>\n",
       "      <td>1</td>\n",
       "      <td>0</td>\n",
       "    </tr>\n",
       "    <tr>\n",
       "      <th>1</th>\n",
       "      <td>291347</td>\n",
       "      <td>Punchestown (IRE)</td>\n",
       "      <td>03:40</td>\n",
       "      <td>97/02/16</td>\n",
       "      <td>NaN</td>\n",
       "      <td>[]</td>\n",
       "      <td>447.2</td>\n",
       "      <td>5229.0</td>\n",
       "      <td>IE</td>\n",
       "      <td>5</td>\n",
       "      <td>0</td>\n",
       "    </tr>\n",
       "    <tr>\n",
       "      <th>2</th>\n",
       "      <td>377929</td>\n",
       "      <td>Leopardstown (IRE)</td>\n",
       "      <td>03:00</td>\n",
       "      <td>97/05/11</td>\n",
       "      <td>NaN</td>\n",
       "      <td>[]</td>\n",
       "      <td>106.4</td>\n",
       "      <td>1609.0</td>\n",
       "      <td>IE</td>\n",
       "      <td>4</td>\n",
       "      <td>0</td>\n",
       "    </tr>\n",
       "    <tr>\n",
       "      <th>3</th>\n",
       "      <td>275117</td>\n",
       "      <td>Curragh (IRE)</td>\n",
       "      <td>03:35</td>\n",
       "      <td>97/05/25</td>\n",
       "      <td>NaN</td>\n",
       "      <td>[]</td>\n",
       "      <td>125.9</td>\n",
       "      <td>2011.0</td>\n",
       "      <td>IE</td>\n",
       "      <td>4</td>\n",
       "      <td>0</td>\n",
       "    </tr>\n",
       "    <tr>\n",
       "      <th>4</th>\n",
       "      <td>66511</td>\n",
       "      <td>Leopardstown (IRE)</td>\n",
       "      <td>04:30</td>\n",
       "      <td>97/06/02</td>\n",
       "      <td>NaN</td>\n",
       "      <td>[]</td>\n",
       "      <td>116.3</td>\n",
       "      <td>1810.0</td>\n",
       "      <td>IE</td>\n",
       "      <td>1</td>\n",
       "      <td>0</td>\n",
       "    </tr>\n",
       "  </tbody>\n",
       "</table>\n",
       "</div>"
      ],
      "text/plain": [
       "      rid              course   time      date  hurdles prizes  winningTime  \\\n",
       "0  302858       Thurles (IRE)  01:15  97/01/09      NaN     []        277.2   \n",
       "1  291347   Punchestown (IRE)  03:40  97/02/16      NaN     []        447.2   \n",
       "2  377929  Leopardstown (IRE)  03:00  97/05/11      NaN     []        106.4   \n",
       "3  275117       Curragh (IRE)  03:35  97/05/25      NaN     []        125.9   \n",
       "4   66511  Leopardstown (IRE)  04:30  97/06/02      NaN     []        116.3   \n",
       "\n",
       "   metric countryCode  ncond  class  \n",
       "0  3821.0          IE      1      0  \n",
       "1  5229.0          IE      5      0  \n",
       "2  1609.0          IE      4      0  \n",
       "3  2011.0          IE      4      0  \n",
       "4  1810.0          IE      1      0  "
      ]
     },
     "execution_count": 4,
     "metadata": {},
     "output_type": "execute_result"
    }
   ],
   "source": [
    "races_aticnmi = pd.read_csv(f\"{BASE_DIR}/data/csv/races_aticnmi.csv\", low_memory=False) \n",
    "races_aticnmi.head()"
   ]
  },
  {
   "cell_type": "code",
   "execution_count": 5,
   "id": "3ad6a80a",
   "metadata": {},
   "outputs": [
    {
     "data": {
      "text/plain": [
       "(19510, 11)"
      ]
     },
     "execution_count": 5,
     "metadata": {},
     "output_type": "execute_result"
    }
   ],
   "source": [
    "races_aticnmi.shape"
   ]
  },
  {
   "cell_type": "markdown",
   "id": "3b409330",
   "metadata": {},
   "source": [
    "---"
   ]
  },
  {
   "cell_type": "markdown",
   "id": "dd5058e7",
   "metadata": {},
   "source": [
    "## Fix Date"
   ]
  },
  {
   "cell_type": "code",
   "execution_count": 10,
   "id": "4f03aa60",
   "metadata": {},
   "outputs": [],
   "source": [
    "def fix_date(date: str) -> str:\n",
    "    # the strip here is a hack until we can fix elsewhere, similarly the prepend with 0\n",
    "    if date.find(' 00:00') >= 0:\n",
    "        date = date[:date.find(' 00:00')]\n",
    "    date = '0' + date if date[1] == '/' else date\n",
    "    return date"
   ]
  },
  {
   "cell_type": "code",
   "execution_count": 11,
   "id": "fb541b5c",
   "metadata": {},
   "outputs": [
    {
     "data": {
      "text/plain": [
       "'06/01/20'"
      ]
     },
     "execution_count": 11,
     "metadata": {},
     "output_type": "execute_result"
    }
   ],
   "source": [
    "fix_date('6/01/20 00:00')"
   ]
  },
  {
   "cell_type": "code",
   "execution_count": 13,
   "id": "3c899b1c",
   "metadata": {},
   "outputs": [],
   "source": [
    "races_aticnmi['date'] = races_aticnmi['date'].map(fix_date)"
   ]
  },
  {
   "cell_type": "markdown",
   "id": "dce4bc78",
   "metadata": {},
   "source": [
    "---"
   ]
  },
  {
   "cell_type": "markdown",
   "id": "d24d392f",
   "metadata": {},
   "source": [
    "## Save Dataframes"
   ]
  },
  {
   "cell_type": "code",
   "execution_count": 14,
   "id": "ac4f1d90",
   "metadata": {},
   "outputs": [],
   "source": [
    "races_aticnmi.to_csv(f\"{BASE_DIR}/data/csv/races_aticnmid.csv\", index=False)"
   ]
  },
  {
   "cell_type": "markdown",
   "id": "33dc3f79",
   "metadata": {},
   "source": [
    "---"
   ]
  }
 ],
 "metadata": {
  "kernelspec": {
   "display_name": "Python 3 (ipykernel)",
   "language": "python",
   "name": "python3"
  },
  "language_info": {
   "codemirror_mode": {
    "name": "ipython",
    "version": 3
   },
   "file_extension": ".py",
   "mimetype": "text/x-python",
   "name": "python",
   "nbconvert_exporter": "python",
   "pygments_lexer": "ipython3",
   "version": "3.9.6"
  }
 },
 "nbformat": 4,
 "nbformat_minor": 5
}
