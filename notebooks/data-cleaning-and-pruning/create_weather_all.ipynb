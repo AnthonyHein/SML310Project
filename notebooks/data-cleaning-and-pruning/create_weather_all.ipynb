{
 "cells": [
  {
   "cell_type": "markdown",
   "id": "e03c9336",
   "metadata": {},
   "source": [
    "# `create_weather_all.ipynb`"
   ]
  },
  {
   "cell_type": "markdown",
   "id": "8e2a4f63",
   "metadata": {},
   "source": [
    "### Author: Anthony Hein"
   ]
  },
  {
   "cell_type": "markdown",
   "id": "2c28bb16",
   "metadata": {},
   "source": [
    "#### Last updated: 10/18/2021"
   ]
  },
  {
   "cell_type": "markdown",
   "id": "d6305273",
   "metadata": {},
   "source": [
    "# Overview:\n",
    "\n",
    "Concatenates `hlyXXX.csv` files downloaded from [https://cli.fusio.net/cli/climate_data/showdata.php](https://cli.fusio.net/cli/climate_data/showdata.php) into one file `weather_all.csv`."
   ]
  },
  {
   "cell_type": "markdown",
   "id": "762551ce",
   "metadata": {},
   "source": [
    "---"
   ]
  },
  {
   "cell_type": "markdown",
   "id": "49dcc3d1",
   "metadata": {},
   "source": [
    "## Setup"
   ]
  },
  {
   "cell_type": "code",
   "execution_count": 15,
   "id": "eedadb73",
   "metadata": {},
   "outputs": [],
   "source": [
    "from datetime import datetime\n",
    "import git\n",
    "import os\n",
    "import glob\n",
    "from tqdm import tqdm\n",
    "import pandas as pd\n",
    "import numpy as np"
   ]
  },
  {
   "cell_type": "code",
   "execution_count": 16,
   "id": "dfd99296",
   "metadata": {},
   "outputs": [
    {
     "data": {
      "text/plain": [
       "'/Users/anthonyhein/Desktop/SML310/project'"
      ]
     },
     "execution_count": 16,
     "metadata": {},
     "output_type": "execute_result"
    }
   ],
   "source": [
    "BASE_DIR = git.Repo(os.getcwd(), search_parent_directories=True).working_dir\n",
    "BASE_DIR"
   ]
  },
  {
   "cell_type": "markdown",
   "id": "703ad8a4",
   "metadata": {},
   "source": [
    "---"
   ]
  },
  {
   "cell_type": "markdown",
   "id": "157b3587",
   "metadata": {},
   "source": [
    "## Find Files"
   ]
  },
  {
   "cell_type": "code",
   "execution_count": 17,
   "id": "c6aaa326",
   "metadata": {},
   "outputs": [
    {
     "data": {
      "text/plain": [
       "['/Users/anthonyhein/Desktop/SML310/project/raw/csv/weather/hly375.csv',\n",
       " '/Users/anthonyhein/Desktop/SML310/project/raw/csv/weather/hly2175.csv',\n",
       " '/Users/anthonyhein/Desktop/SML310/project/raw/csv/weather/hly4935.csv',\n",
       " '/Users/anthonyhein/Desktop/SML310/project/raw/csv/weather/hly175.csv',\n",
       " '/Users/anthonyhein/Desktop/SML310/project/raw/csv/weather/hly575.csv',\n",
       " '/Users/anthonyhein/Desktop/SML310/project/raw/csv/weather/hly2615.csv',\n",
       " '/Users/anthonyhein/Desktop/SML310/project/raw/csv/weather/hly4919.csv',\n",
       " '/Users/anthonyhein/Desktop/SML310/project/raw/csv/weather/hly3904.csv',\n",
       " '/Users/anthonyhein/Desktop/SML310/project/raw/csv/weather/hly3723.csv',\n",
       " '/Users/anthonyhein/Desktop/SML310/project/raw/csv/weather/hly775.csv',\n",
       " '/Users/anthonyhein/Desktop/SML310/project/raw/csv/weather/hly2275.csv',\n",
       " '/Users/anthonyhein/Desktop/SML310/project/raw/csv/weather/hly275.csv',\n",
       " '/Users/anthonyhein/Desktop/SML310/project/raw/csv/weather/hly2075.csv',\n",
       " '/Users/anthonyhein/Desktop/SML310/project/raw/csv/weather/hly1975.csv',\n",
       " '/Users/anthonyhein/Desktop/SML310/project/raw/csv/weather/hly675.csv',\n",
       " '/Users/anthonyhein/Desktop/SML310/project/raw/csv/weather/hly518.csv',\n",
       " '/Users/anthonyhein/Desktop/SML310/project/raw/csv/weather/hly875.csv',\n",
       " '/Users/anthonyhein/Desktop/SML310/project/raw/csv/weather/hly532.csv',\n",
       " '/Users/anthonyhein/Desktop/SML310/project/raw/csv/weather/hly3613.csv',\n",
       " '/Users/anthonyhein/Desktop/SML310/project/raw/csv/weather/hly1175.csv',\n",
       " '/Users/anthonyhein/Desktop/SML310/project/raw/csv/weather/hly1375.csv',\n",
       " '/Users/anthonyhein/Desktop/SML310/project/raw/csv/weather/hly1475.csv',\n",
       " '/Users/anthonyhein/Desktop/SML310/project/raw/csv/weather/hly2437.csv',\n",
       " '/Users/anthonyhein/Desktop/SML310/project/raw/csv/weather/hly1275.csv']"
      ]
     },
     "execution_count": 17,
     "metadata": {},
     "output_type": "execute_result"
    }
   ],
   "source": [
    "hly_x_csvs = glob.glob(f\"{BASE_DIR}/raw/csv/weather/hly*.csv\")\n",
    "hly_x_csvs"
   ]
  },
  {
   "cell_type": "code",
   "execution_count": 18,
   "id": "e964073b",
   "metadata": {},
   "outputs": [
    {
     "data": {
      "text/plain": [
       "24"
      ]
     },
     "execution_count": 18,
     "metadata": {},
     "output_type": "execute_result"
    }
   ],
   "source": [
    "len(hly_x_csvs)"
   ]
  },
  {
   "cell_type": "markdown",
   "id": "7df15ea4",
   "metadata": {},
   "source": [
    "---"
   ]
  },
  {
   "cell_type": "markdown",
   "id": "7987b909",
   "metadata": {},
   "source": [
    "## Extract Dataframes"
   ]
  },
  {
   "cell_type": "code",
   "execution_count": 19,
   "id": "589160c9",
   "metadata": {},
   "outputs": [
    {
     "data": {
      "text/html": [
       "<div>\n",
       "<style scoped>\n",
       "    .dataframe tbody tr th:only-of-type {\n",
       "        vertical-align: middle;\n",
       "    }\n",
       "\n",
       "    .dataframe tbody tr th {\n",
       "        vertical-align: top;\n",
       "    }\n",
       "\n",
       "    .dataframe thead th {\n",
       "        text-align: right;\n",
       "    }\n",
       "</style>\n",
       "<table border=\"1\" class=\"dataframe\">\n",
       "  <thead>\n",
       "    <tr style=\"text-align: right;\">\n",
       "      <th></th>\n",
       "      <th>date</th>\n",
       "      <th>ind</th>\n",
       "      <th>rain</th>\n",
       "      <th>ind.1</th>\n",
       "      <th>temp</th>\n",
       "      <th>ind.2</th>\n",
       "      <th>wetb</th>\n",
       "      <th>dewpt</th>\n",
       "      <th>vappr</th>\n",
       "      <th>rhum</th>\n",
       "      <th>msl</th>\n",
       "      <th>ind.3</th>\n",
       "      <th>wdsp</th>\n",
       "      <th>ind.4</th>\n",
       "      <th>wddir</th>\n",
       "    </tr>\n",
       "  </thead>\n",
       "  <tbody>\n",
       "    <tr>\n",
       "      <th>0</th>\n",
       "      <td>8/1/03 1:00</td>\n",
       "      <td>-1</td>\n",
       "      <td></td>\n",
       "      <td>4</td>\n",
       "      <td></td>\n",
       "      <td>4</td>\n",
       "      <td></td>\n",
       "      <td></td>\n",
       "      <td></td>\n",
       "      <td></td>\n",
       "      <td></td>\n",
       "      <td>7</td>\n",
       "      <td></td>\n",
       "      <td>7</td>\n",
       "      <td></td>\n",
       "    </tr>\n",
       "    <tr>\n",
       "      <th>1</th>\n",
       "      <td>8/1/03 2:00</td>\n",
       "      <td>-1</td>\n",
       "      <td></td>\n",
       "      <td>4</td>\n",
       "      <td></td>\n",
       "      <td>4</td>\n",
       "      <td></td>\n",
       "      <td></td>\n",
       "      <td></td>\n",
       "      <td></td>\n",
       "      <td></td>\n",
       "      <td>7</td>\n",
       "      <td></td>\n",
       "      <td>7</td>\n",
       "      <td></td>\n",
       "    </tr>\n",
       "    <tr>\n",
       "      <th>2</th>\n",
       "      <td>8/1/03 3:00</td>\n",
       "      <td>-1</td>\n",
       "      <td></td>\n",
       "      <td>4</td>\n",
       "      <td></td>\n",
       "      <td>4</td>\n",
       "      <td></td>\n",
       "      <td></td>\n",
       "      <td></td>\n",
       "      <td></td>\n",
       "      <td></td>\n",
       "      <td>7</td>\n",
       "      <td></td>\n",
       "      <td>7</td>\n",
       "      <td></td>\n",
       "    </tr>\n",
       "    <tr>\n",
       "      <th>3</th>\n",
       "      <td>8/1/03 4:00</td>\n",
       "      <td>-1</td>\n",
       "      <td></td>\n",
       "      <td>4</td>\n",
       "      <td></td>\n",
       "      <td>4</td>\n",
       "      <td></td>\n",
       "      <td></td>\n",
       "      <td></td>\n",
       "      <td></td>\n",
       "      <td></td>\n",
       "      <td>7</td>\n",
       "      <td></td>\n",
       "      <td>7</td>\n",
       "      <td></td>\n",
       "    </tr>\n",
       "    <tr>\n",
       "      <th>4</th>\n",
       "      <td>8/1/03 5:00</td>\n",
       "      <td>-1</td>\n",
       "      <td></td>\n",
       "      <td>4</td>\n",
       "      <td></td>\n",
       "      <td>4</td>\n",
       "      <td></td>\n",
       "      <td></td>\n",
       "      <td></td>\n",
       "      <td></td>\n",
       "      <td></td>\n",
       "      <td>7</td>\n",
       "      <td></td>\n",
       "      <td>7</td>\n",
       "      <td></td>\n",
       "    </tr>\n",
       "  </tbody>\n",
       "</table>\n",
       "</div>"
      ],
      "text/plain": [
       "          date  ind rain  ind.1 temp  ind.2 wetb dewpt vappr rhum msl  ind.3  \\\n",
       "0  8/1/03 1:00   -1           4           4                                7   \n",
       "1  8/1/03 2:00   -1           4           4                                7   \n",
       "2  8/1/03 3:00   -1           4           4                                7   \n",
       "3  8/1/03 4:00   -1           4           4                                7   \n",
       "4  8/1/03 5:00   -1           4           4                                7   \n",
       "\n",
       "  wdsp  ind.4 wddir  \n",
       "0           7        \n",
       "1           7        \n",
       "2           7        \n",
       "3           7        \n",
       "4           7        "
      ]
     },
     "execution_count": 19,
     "metadata": {},
     "output_type": "execute_result"
    }
   ],
   "source": [
    "dfs = [pd.read_csv(e, low_memory=False) for e in hly_x_csvs]\n",
    "dfs[0].head()"
   ]
  },
  {
   "cell_type": "markdown",
   "id": "7048bf3a",
   "metadata": {},
   "source": [
    "---"
   ]
  },
  {
   "cell_type": "markdown",
   "id": "e3369a05",
   "metadata": {},
   "source": [
    "## Get Intersection of Available Features"
   ]
  },
  {
   "cell_type": "code",
   "execution_count": 20,
   "id": "a63fff89",
   "metadata": {},
   "outputs": [
    {
     "data": {
      "text/plain": [
       "{'date',\n",
       " 'dewpt',\n",
       " 'ind',\n",
       " 'ind.1',\n",
       " 'ind.2',\n",
       " 'msl',\n",
       " 'rain',\n",
       " 'rhum',\n",
       " 'temp',\n",
       " 'vappr',\n",
       " 'wetb'}"
      ]
     },
     "execution_count": 20,
     "metadata": {},
     "output_type": "execute_result"
    }
   ],
   "source": [
    "intr = set.intersection(*[set(df.columns) for df in dfs])\n",
    "intr"
   ]
  },
  {
   "cell_type": "code",
   "execution_count": 21,
   "id": "c7fcb62f",
   "metadata": {},
   "outputs": [],
   "source": [
    "dfs = [df[intr] for df in dfs]"
   ]
  },
  {
   "cell_type": "markdown",
   "id": "a2c3ae15",
   "metadata": {},
   "source": [
    "---"
   ]
  },
  {
   "cell_type": "markdown",
   "id": "a4155ca1",
   "metadata": {},
   "source": [
    "## Prune Uneeded Columns"
   ]
  },
  {
   "cell_type": "code",
   "execution_count": 22,
   "id": "f0f3ec44",
   "metadata": {},
   "outputs": [],
   "source": [
    "keep = ['date', 'temp', 'msl', 'rain', 'rhum']"
   ]
  },
  {
   "cell_type": "code",
   "execution_count": 23,
   "id": "0bf6c3db",
   "metadata": {},
   "outputs": [],
   "source": [
    "dfs = [df[keep] for df in dfs]"
   ]
  },
  {
   "cell_type": "markdown",
   "id": "427552b8",
   "metadata": {},
   "source": [
    "---"
   ]
  },
  {
   "cell_type": "markdown",
   "id": "c24d79d0",
   "metadata": {},
   "source": [
    "## Drop Entries Before 1990 or After 2020"
   ]
  },
  {
   "cell_type": "code",
   "execution_count": 24,
   "id": "2db71d61",
   "metadata": {},
   "outputs": [],
   "source": [
    "def entry_in_range(row: pd.core.series.Series) -> bool:\n",
    "    return datetime.strptime(row['date'], '%m/%d/%y %H:%M') > datetime(1990,1,1) and \\\n",
    "           datetime.strptime(row['date'], '%m/%d/%y %H:%M') < datetime(2021,1,1)"
   ]
  },
  {
   "cell_type": "code",
   "execution_count": 25,
   "id": "0b5e3325",
   "metadata": {},
   "outputs": [
    {
     "name": "stderr",
     "output_type": "stream",
     "text": [
      "\n",
      "  0%|                                                                                                                                                                | 0/24 [00:00<?, ?it/s]\u001b[A\n",
      "  4%|██████▎                                                                                                                                                 | 1/24 [00:10<04:03, 10.60s/it]\u001b[A\n",
      "  8%|████████████▋                                                                                                                                           | 2/24 [00:28<05:33, 15.15s/it]\u001b[A\n",
      " 12%|███████████████████                                                                                                                                     | 3/24 [00:43<05:12, 14.87s/it]\u001b[A\n",
      " 17%|█████████████████████████▎                                                                                                                              | 4/24 [00:54<04:27, 13.39s/it]\u001b[A\n",
      " 21%|███████████████████████████████▋                                                                                                                        | 5/24 [01:05<03:55, 12.39s/it]\u001b[A\n",
      " 25%|██████████████████████████████████████                                                                                                                  | 6/24 [01:31<05:05, 17.00s/it]\u001b[A\n",
      " 29%|████████████████████████████████████████████▎                                                                                                           | 7/24 [01:59<05:52, 20.76s/it]\u001b[A\n",
      " 33%|██████████████████████████████████████████████████▋                                                                                                     | 8/24 [02:17<05:16, 19.76s/it]\u001b[A\n",
      " 38%|█████████████████████████████████████████████████████████                                                                                               | 9/24 [02:35<04:49, 19.28s/it]\u001b[A\n",
      " 42%|██████████████████████████████████████████████████████████████▉                                                                                        | 10/24 [02:46<03:52, 16.61s/it]\u001b[A\n",
      " 46%|█████████████████████████████████████████████████████████████████████▏                                                                                 | 11/24 [03:04<03:42, 17.12s/it]\u001b[A\n",
      " 50%|███████████████████████████████████████████████████████████████████████████▌                                                                           | 12/24 [03:14<03:01, 15.13s/it]\u001b[A\n",
      " 54%|█████████████████████████████████████████████████████████████████████████████████▊                                                                     | 13/24 [03:28<02:42, 14.74s/it]\u001b[A\n",
      " 58%|████████████████████████████████████████████████████████████████████████████████████████                                                               | 14/24 [03:38<02:13, 13.30s/it]\u001b[A\n",
      " 62%|██████████████████████████████████████████████████████████████████████████████████████████████▍                                                        | 15/24 [03:49<01:52, 12.46s/it]\u001b[A\n",
      " 67%|████████████████████████████████████████████████████████████████████████████████████████████████████▋                                                  | 16/24 [04:07<01:54, 14.26s/it]\u001b[A\n",
      " 71%|██████████████████████████████████████████████████████████████████████████████████████████████████████████▉                                            | 17/24 [04:26<01:49, 15.61s/it]\u001b[A\n",
      " 75%|█████████████████████████████████████████████████████████████████████████████████████████████████████████████████▎                                     | 18/24 [04:46<01:40, 16.80s/it]\u001b[A\n",
      " 79%|███████████████████████████████████████████████████████████████████████████████████████████████████████████████████████▌                               | 19/24 [05:13<01:39, 19.91s/it]\u001b[A\n",
      " 83%|█████████████████████████████████████████████████████████████████████████████████████████████████████████████████████████████▊                         | 20/24 [05:22<01:07, 16.86s/it]\u001b[A\n",
      " 88%|████████████████████████████████████████████████████████████████████████████████████████████████████████████████████████████████████▏                  | 21/24 [05:31<00:43, 14.47s/it]\u001b[A\n",
      " 92%|██████████████████████████████████████████████████████████████████████████████████████████████████████████████████████████████████████████▍            | 22/24 [05:39<00:24, 12.47s/it]\u001b[A\n",
      " 96%|████████████████████████████████████████████████████████████████████████████████████████████████████████████████████████████████████████████████▋      | 23/24 [06:11<00:18, 18.14s/it]\u001b[A\n",
      "100%|███████████████████████████████████████████████████████████████████████████████████████████████████████████████████████████████████████████████████████| 24/24 [06:20<00:00, 15.87s/it]\u001b[A\n"
     ]
    },
    {
     "data": {
      "text/html": [
       "<div>\n",
       "<style scoped>\n",
       "    .dataframe tbody tr th:only-of-type {\n",
       "        vertical-align: middle;\n",
       "    }\n",
       "\n",
       "    .dataframe tbody tr th {\n",
       "        vertical-align: top;\n",
       "    }\n",
       "\n",
       "    .dataframe thead th {\n",
       "        text-align: right;\n",
       "    }\n",
       "</style>\n",
       "<table border=\"1\" class=\"dataframe\">\n",
       "  <thead>\n",
       "    <tr style=\"text-align: right;\">\n",
       "      <th></th>\n",
       "      <th>date</th>\n",
       "      <th>temp</th>\n",
       "      <th>msl</th>\n",
       "      <th>rain</th>\n",
       "      <th>rhum</th>\n",
       "    </tr>\n",
       "  </thead>\n",
       "  <tbody>\n",
       "    <tr>\n",
       "      <th>0</th>\n",
       "      <td>8/1/03 1:00</td>\n",
       "      <td></td>\n",
       "      <td></td>\n",
       "      <td></td>\n",
       "      <td></td>\n",
       "    </tr>\n",
       "    <tr>\n",
       "      <th>1</th>\n",
       "      <td>8/1/03 2:00</td>\n",
       "      <td></td>\n",
       "      <td></td>\n",
       "      <td></td>\n",
       "      <td></td>\n",
       "    </tr>\n",
       "    <tr>\n",
       "      <th>2</th>\n",
       "      <td>8/1/03 3:00</td>\n",
       "      <td></td>\n",
       "      <td></td>\n",
       "      <td></td>\n",
       "      <td></td>\n",
       "    </tr>\n",
       "    <tr>\n",
       "      <th>3</th>\n",
       "      <td>8/1/03 4:00</td>\n",
       "      <td></td>\n",
       "      <td></td>\n",
       "      <td></td>\n",
       "      <td></td>\n",
       "    </tr>\n",
       "    <tr>\n",
       "      <th>4</th>\n",
       "      <td>8/1/03 5:00</td>\n",
       "      <td></td>\n",
       "      <td></td>\n",
       "      <td></td>\n",
       "      <td></td>\n",
       "    </tr>\n",
       "  </tbody>\n",
       "</table>\n",
       "</div>"
      ],
      "text/plain": [
       "          date temp msl rain rhum\n",
       "0  8/1/03 1:00                   \n",
       "1  8/1/03 2:00                   \n",
       "2  8/1/03 3:00                   \n",
       "3  8/1/03 4:00                   \n",
       "4  8/1/03 5:00                   "
      ]
     },
     "execution_count": 25,
     "metadata": {},
     "output_type": "execute_result"
    }
   ],
   "source": [
    "dfs = [\n",
    "    df[[entry_in_range(row) for _, row in df.iterrows()]]\n",
    "    for df\n",
    "    in tqdm(dfs)\n",
    "]\n",
    "dfs[0].head()"
   ]
  },
  {
   "cell_type": "markdown",
   "id": "677c3e2f",
   "metadata": {},
   "source": [
    "---"
   ]
  },
  {
   "cell_type": "markdown",
   "id": "658a93a7",
   "metadata": {},
   "source": [
    "## Add Station Number"
   ]
  },
  {
   "cell_type": "code",
   "execution_count": 26,
   "id": "70654b78",
   "metadata": {},
   "outputs": [],
   "source": [
    "station_numbers = [\n",
    "    int(e[len('/Users/anthonyhein/Desktop/SML310/project/raw/csv/weather/hly'):][:-len('.csv')])\n",
    "    for e\n",
    "    in hly_x_csvs\n",
    "]"
   ]
  },
  {
   "cell_type": "code",
   "execution_count": 27,
   "id": "676e4e00",
   "metadata": {},
   "outputs": [
    {
     "data": {
      "text/plain": [
       "[375,\n",
       " 2175,\n",
       " 4935,\n",
       " 175,\n",
       " 575,\n",
       " 2615,\n",
       " 4919,\n",
       " 3904,\n",
       " 3723,\n",
       " 775,\n",
       " 2275,\n",
       " 275,\n",
       " 2075,\n",
       " 1975,\n",
       " 675,\n",
       " 518,\n",
       " 875,\n",
       " 532,\n",
       " 3613,\n",
       " 1175,\n",
       " 1375,\n",
       " 1475,\n",
       " 2437,\n",
       " 1275]"
      ]
     },
     "execution_count": 27,
     "metadata": {},
     "output_type": "execute_result"
    }
   ],
   "source": [
    "station_numbers"
   ]
  },
  {
   "cell_type": "code",
   "execution_count": 28,
   "id": "76b05a0e",
   "metadata": {},
   "outputs": [],
   "source": [
    "for idx, df in enumerate(dfs):\n",
    "    df['Station number'] = station_numbers[idx]"
   ]
  },
  {
   "cell_type": "code",
   "execution_count": 29,
   "id": "3f37c12d",
   "metadata": {},
   "outputs": [
    {
     "data": {
      "text/html": [
       "<div>\n",
       "<style scoped>\n",
       "    .dataframe tbody tr th:only-of-type {\n",
       "        vertical-align: middle;\n",
       "    }\n",
       "\n",
       "    .dataframe tbody tr th {\n",
       "        vertical-align: top;\n",
       "    }\n",
       "\n",
       "    .dataframe thead th {\n",
       "        text-align: right;\n",
       "    }\n",
       "</style>\n",
       "<table border=\"1\" class=\"dataframe\">\n",
       "  <thead>\n",
       "    <tr style=\"text-align: right;\">\n",
       "      <th></th>\n",
       "      <th>date</th>\n",
       "      <th>temp</th>\n",
       "      <th>msl</th>\n",
       "      <th>rain</th>\n",
       "      <th>rhum</th>\n",
       "      <th>Station number</th>\n",
       "    </tr>\n",
       "  </thead>\n",
       "  <tbody>\n",
       "    <tr>\n",
       "      <th>0</th>\n",
       "      <td>8/1/03 1:00</td>\n",
       "      <td></td>\n",
       "      <td></td>\n",
       "      <td></td>\n",
       "      <td></td>\n",
       "      <td>375</td>\n",
       "    </tr>\n",
       "    <tr>\n",
       "      <th>1</th>\n",
       "      <td>8/1/03 2:00</td>\n",
       "      <td></td>\n",
       "      <td></td>\n",
       "      <td></td>\n",
       "      <td></td>\n",
       "      <td>375</td>\n",
       "    </tr>\n",
       "    <tr>\n",
       "      <th>2</th>\n",
       "      <td>8/1/03 3:00</td>\n",
       "      <td></td>\n",
       "      <td></td>\n",
       "      <td></td>\n",
       "      <td></td>\n",
       "      <td>375</td>\n",
       "    </tr>\n",
       "    <tr>\n",
       "      <th>3</th>\n",
       "      <td>8/1/03 4:00</td>\n",
       "      <td></td>\n",
       "      <td></td>\n",
       "      <td></td>\n",
       "      <td></td>\n",
       "      <td>375</td>\n",
       "    </tr>\n",
       "    <tr>\n",
       "      <th>4</th>\n",
       "      <td>8/1/03 5:00</td>\n",
       "      <td></td>\n",
       "      <td></td>\n",
       "      <td></td>\n",
       "      <td></td>\n",
       "      <td>375</td>\n",
       "    </tr>\n",
       "    <tr>\n",
       "      <th>...</th>\n",
       "      <td>...</td>\n",
       "      <td>...</td>\n",
       "      <td>...</td>\n",
       "      <td>...</td>\n",
       "      <td>...</td>\n",
       "      <td>...</td>\n",
       "    </tr>\n",
       "    <tr>\n",
       "      <th>152706</th>\n",
       "      <td>12/31/20 19:00</td>\n",
       "      <td>2.9</td>\n",
       "      <td>1010.2</td>\n",
       "      <td>0.2</td>\n",
       "      <td>94</td>\n",
       "      <td>375</td>\n",
       "    </tr>\n",
       "    <tr>\n",
       "      <th>152707</th>\n",
       "      <td>12/31/20 20:00</td>\n",
       "      <td>3.4</td>\n",
       "      <td>1010.8</td>\n",
       "      <td>0.4</td>\n",
       "      <td>95</td>\n",
       "      <td>375</td>\n",
       "    </tr>\n",
       "    <tr>\n",
       "      <th>152708</th>\n",
       "      <td>12/31/20 21:00</td>\n",
       "      <td>3.8</td>\n",
       "      <td>1011.3</td>\n",
       "      <td>0.6</td>\n",
       "      <td>96</td>\n",
       "      <td>375</td>\n",
       "    </tr>\n",
       "    <tr>\n",
       "      <th>152709</th>\n",
       "      <td>12/31/20 22:00</td>\n",
       "      <td>4.2</td>\n",
       "      <td>1011.9</td>\n",
       "      <td>0</td>\n",
       "      <td>93</td>\n",
       "      <td>375</td>\n",
       "    </tr>\n",
       "    <tr>\n",
       "      <th>152710</th>\n",
       "      <td>12/31/20 23:00</td>\n",
       "      <td>4</td>\n",
       "      <td>1012.7</td>\n",
       "      <td>0</td>\n",
       "      <td>90</td>\n",
       "      <td>375</td>\n",
       "    </tr>\n",
       "  </tbody>\n",
       "</table>\n",
       "<p>152711 rows × 6 columns</p>\n",
       "</div>"
      ],
      "text/plain": [
       "                  date temp     msl rain rhum  Station number\n",
       "0          8/1/03 1:00                                    375\n",
       "1          8/1/03 2:00                                    375\n",
       "2          8/1/03 3:00                                    375\n",
       "3          8/1/03 4:00                                    375\n",
       "4          8/1/03 5:00                                    375\n",
       "...                ...  ...     ...  ...  ...             ...\n",
       "152706  12/31/20 19:00  2.9  1010.2  0.2   94             375\n",
       "152707  12/31/20 20:00  3.4  1010.8  0.4   95             375\n",
       "152708  12/31/20 21:00  3.8  1011.3  0.6   96             375\n",
       "152709  12/31/20 22:00  4.2  1011.9    0   93             375\n",
       "152710  12/31/20 23:00    4  1012.7    0   90             375\n",
       "\n",
       "[152711 rows x 6 columns]"
      ]
     },
     "execution_count": 29,
     "metadata": {},
     "output_type": "execute_result"
    }
   ],
   "source": [
    "dfs[0]"
   ]
  },
  {
   "cell_type": "markdown",
   "id": "c9150b27",
   "metadata": {},
   "source": [
    "---"
   ]
  },
  {
   "cell_type": "markdown",
   "id": "92d6ef2e",
   "metadata": {},
   "source": [
    "## Concatenate Dataframes"
   ]
  },
  {
   "cell_type": "code",
   "execution_count": 30,
   "id": "78c675f2",
   "metadata": {},
   "outputs": [
    {
     "data": {
      "text/html": [
       "<div>\n",
       "<style scoped>\n",
       "    .dataframe tbody tr th:only-of-type {\n",
       "        vertical-align: middle;\n",
       "    }\n",
       "\n",
       "    .dataframe tbody tr th {\n",
       "        vertical-align: top;\n",
       "    }\n",
       "\n",
       "    .dataframe thead th {\n",
       "        text-align: right;\n",
       "    }\n",
       "</style>\n",
       "<table border=\"1\" class=\"dataframe\">\n",
       "  <thead>\n",
       "    <tr style=\"text-align: right;\">\n",
       "      <th></th>\n",
       "      <th>date</th>\n",
       "      <th>temp</th>\n",
       "      <th>msl</th>\n",
       "      <th>rain</th>\n",
       "      <th>rhum</th>\n",
       "      <th>Station number</th>\n",
       "    </tr>\n",
       "  </thead>\n",
       "  <tbody>\n",
       "    <tr>\n",
       "      <th>0</th>\n",
       "      <td>8/1/03 1:00</td>\n",
       "      <td></td>\n",
       "      <td></td>\n",
       "      <td></td>\n",
       "      <td></td>\n",
       "      <td>375</td>\n",
       "    </tr>\n",
       "    <tr>\n",
       "      <th>1</th>\n",
       "      <td>8/1/03 2:00</td>\n",
       "      <td></td>\n",
       "      <td></td>\n",
       "      <td></td>\n",
       "      <td></td>\n",
       "      <td>375</td>\n",
       "    </tr>\n",
       "    <tr>\n",
       "      <th>2</th>\n",
       "      <td>8/1/03 3:00</td>\n",
       "      <td></td>\n",
       "      <td></td>\n",
       "      <td></td>\n",
       "      <td></td>\n",
       "      <td>375</td>\n",
       "    </tr>\n",
       "    <tr>\n",
       "      <th>3</th>\n",
       "      <td>8/1/03 4:00</td>\n",
       "      <td></td>\n",
       "      <td></td>\n",
       "      <td></td>\n",
       "      <td></td>\n",
       "      <td>375</td>\n",
       "    </tr>\n",
       "    <tr>\n",
       "      <th>4</th>\n",
       "      <td>8/1/03 5:00</td>\n",
       "      <td></td>\n",
       "      <td></td>\n",
       "      <td></td>\n",
       "      <td></td>\n",
       "      <td>375</td>\n",
       "    </tr>\n",
       "    <tr>\n",
       "      <th>...</th>\n",
       "      <td>...</td>\n",
       "      <td>...</td>\n",
       "      <td>...</td>\n",
       "      <td>...</td>\n",
       "      <td>...</td>\n",
       "      <td>...</td>\n",
       "    </tr>\n",
       "    <tr>\n",
       "      <th>137250</th>\n",
       "      <td>12/31/20 19:00</td>\n",
       "      <td>5.6</td>\n",
       "      <td>1013.7</td>\n",
       "      <td>0</td>\n",
       "      <td>75</td>\n",
       "      <td>1275</td>\n",
       "    </tr>\n",
       "    <tr>\n",
       "      <th>137251</th>\n",
       "      <td>12/31/20 20:00</td>\n",
       "      <td>5.4</td>\n",
       "      <td>1014.3</td>\n",
       "      <td>0</td>\n",
       "      <td>74</td>\n",
       "      <td>1275</td>\n",
       "    </tr>\n",
       "    <tr>\n",
       "      <th>137252</th>\n",
       "      <td>12/31/20 21:00</td>\n",
       "      <td>4.8</td>\n",
       "      <td>1014.9</td>\n",
       "      <td>0</td>\n",
       "      <td>74</td>\n",
       "      <td>1275</td>\n",
       "    </tr>\n",
       "    <tr>\n",
       "      <th>137253</th>\n",
       "      <td>12/31/20 22:00</td>\n",
       "      <td>5</td>\n",
       "      <td>1015.4</td>\n",
       "      <td>0</td>\n",
       "      <td>74</td>\n",
       "      <td>1275</td>\n",
       "    </tr>\n",
       "    <tr>\n",
       "      <th>137254</th>\n",
       "      <td>12/31/20 23:00</td>\n",
       "      <td>5</td>\n",
       "      <td>1016</td>\n",
       "      <td>0</td>\n",
       "      <td>74</td>\n",
       "      <td>1275</td>\n",
       "    </tr>\n",
       "  </tbody>\n",
       "</table>\n",
       "<p>4473041 rows × 6 columns</p>\n",
       "</div>"
      ],
      "text/plain": [
       "                  date temp     msl rain rhum  Station number\n",
       "0          8/1/03 1:00                                    375\n",
       "1          8/1/03 2:00                                    375\n",
       "2          8/1/03 3:00                                    375\n",
       "3          8/1/03 4:00                                    375\n",
       "4          8/1/03 5:00                                    375\n",
       "...                ...  ...     ...  ...  ...             ...\n",
       "137250  12/31/20 19:00  5.6  1013.7    0   75            1275\n",
       "137251  12/31/20 20:00  5.4  1014.3    0   74            1275\n",
       "137252  12/31/20 21:00  4.8  1014.9    0   74            1275\n",
       "137253  12/31/20 22:00    5  1015.4    0   74            1275\n",
       "137254  12/31/20 23:00    5    1016    0   74            1275\n",
       "\n",
       "[4473041 rows x 6 columns]"
      ]
     },
     "execution_count": 30,
     "metadata": {},
     "output_type": "execute_result"
    }
   ],
   "source": [
    "weather_all = pd.concat(dfs)\n",
    "weather_all"
   ]
  },
  {
   "cell_type": "code",
   "execution_count": 31,
   "id": "5482fdc9",
   "metadata": {},
   "outputs": [
    {
     "data": {
      "text/plain": [
       "(4473041, 6)"
      ]
     },
     "execution_count": 31,
     "metadata": {},
     "output_type": "execute_result"
    }
   ],
   "source": [
    "weather_all.shape"
   ]
  },
  {
   "cell_type": "code",
   "execution_count": 32,
   "id": "0be36298",
   "metadata": {},
   "outputs": [],
   "source": [
    "assert len(weather_all) == sum([len(df) for df in dfs])"
   ]
  },
  {
   "cell_type": "markdown",
   "id": "42360255",
   "metadata": {},
   "source": [
    "---"
   ]
  },
  {
   "cell_type": "markdown",
   "id": "6f525068",
   "metadata": {},
   "source": [
    "## Clean Dataframes (Remove Rows w/ Missing Values)"
   ]
  },
  {
   "cell_type": "code",
   "execution_count": 33,
   "id": "48a54e1c",
   "metadata": {},
   "outputs": [
    {
     "data": {
      "text/html": [
       "<div>\n",
       "<style scoped>\n",
       "    .dataframe tbody tr th:only-of-type {\n",
       "        vertical-align: middle;\n",
       "    }\n",
       "\n",
       "    .dataframe tbody tr th {\n",
       "        vertical-align: top;\n",
       "    }\n",
       "\n",
       "    .dataframe thead th {\n",
       "        text-align: right;\n",
       "    }\n",
       "</style>\n",
       "<table border=\"1\" class=\"dataframe\">\n",
       "  <thead>\n",
       "    <tr style=\"text-align: right;\">\n",
       "      <th></th>\n",
       "      <th>date</th>\n",
       "      <th>temp</th>\n",
       "      <th>msl</th>\n",
       "      <th>rain</th>\n",
       "      <th>rhum</th>\n",
       "      <th>Station number</th>\n",
       "    </tr>\n",
       "  </thead>\n",
       "  <tbody>\n",
       "    <tr>\n",
       "      <th>0</th>\n",
       "      <td>8/1/03 1:00</td>\n",
       "      <td>NaN</td>\n",
       "      <td>NaN</td>\n",
       "      <td>NaN</td>\n",
       "      <td>NaN</td>\n",
       "      <td>375</td>\n",
       "    </tr>\n",
       "    <tr>\n",
       "      <th>1</th>\n",
       "      <td>8/1/03 2:00</td>\n",
       "      <td>NaN</td>\n",
       "      <td>NaN</td>\n",
       "      <td>NaN</td>\n",
       "      <td>NaN</td>\n",
       "      <td>375</td>\n",
       "    </tr>\n",
       "    <tr>\n",
       "      <th>2</th>\n",
       "      <td>8/1/03 3:00</td>\n",
       "      <td>NaN</td>\n",
       "      <td>NaN</td>\n",
       "      <td>NaN</td>\n",
       "      <td>NaN</td>\n",
       "      <td>375</td>\n",
       "    </tr>\n",
       "    <tr>\n",
       "      <th>3</th>\n",
       "      <td>8/1/03 4:00</td>\n",
       "      <td>NaN</td>\n",
       "      <td>NaN</td>\n",
       "      <td>NaN</td>\n",
       "      <td>NaN</td>\n",
       "      <td>375</td>\n",
       "    </tr>\n",
       "    <tr>\n",
       "      <th>4</th>\n",
       "      <td>8/1/03 5:00</td>\n",
       "      <td>NaN</td>\n",
       "      <td>NaN</td>\n",
       "      <td>NaN</td>\n",
       "      <td>NaN</td>\n",
       "      <td>375</td>\n",
       "    </tr>\n",
       "    <tr>\n",
       "      <th>...</th>\n",
       "      <td>...</td>\n",
       "      <td>...</td>\n",
       "      <td>...</td>\n",
       "      <td>...</td>\n",
       "      <td>...</td>\n",
       "      <td>...</td>\n",
       "    </tr>\n",
       "    <tr>\n",
       "      <th>137250</th>\n",
       "      <td>12/31/20 19:00</td>\n",
       "      <td>5.6</td>\n",
       "      <td>1013.7</td>\n",
       "      <td>0</td>\n",
       "      <td>75</td>\n",
       "      <td>1275</td>\n",
       "    </tr>\n",
       "    <tr>\n",
       "      <th>137251</th>\n",
       "      <td>12/31/20 20:00</td>\n",
       "      <td>5.4</td>\n",
       "      <td>1014.3</td>\n",
       "      <td>0</td>\n",
       "      <td>74</td>\n",
       "      <td>1275</td>\n",
       "    </tr>\n",
       "    <tr>\n",
       "      <th>137252</th>\n",
       "      <td>12/31/20 21:00</td>\n",
       "      <td>4.8</td>\n",
       "      <td>1014.9</td>\n",
       "      <td>0</td>\n",
       "      <td>74</td>\n",
       "      <td>1275</td>\n",
       "    </tr>\n",
       "    <tr>\n",
       "      <th>137253</th>\n",
       "      <td>12/31/20 22:00</td>\n",
       "      <td>5</td>\n",
       "      <td>1015.4</td>\n",
       "      <td>0</td>\n",
       "      <td>74</td>\n",
       "      <td>1275</td>\n",
       "    </tr>\n",
       "    <tr>\n",
       "      <th>137254</th>\n",
       "      <td>12/31/20 23:00</td>\n",
       "      <td>5</td>\n",
       "      <td>1016</td>\n",
       "      <td>0</td>\n",
       "      <td>74</td>\n",
       "      <td>1275</td>\n",
       "    </tr>\n",
       "  </tbody>\n",
       "</table>\n",
       "<p>4473041 rows × 6 columns</p>\n",
       "</div>"
      ],
      "text/plain": [
       "                  date temp     msl rain rhum  Station number\n",
       "0          8/1/03 1:00  NaN     NaN  NaN  NaN             375\n",
       "1          8/1/03 2:00  NaN     NaN  NaN  NaN             375\n",
       "2          8/1/03 3:00  NaN     NaN  NaN  NaN             375\n",
       "3          8/1/03 4:00  NaN     NaN  NaN  NaN             375\n",
       "4          8/1/03 5:00  NaN     NaN  NaN  NaN             375\n",
       "...                ...  ...     ...  ...  ...             ...\n",
       "137250  12/31/20 19:00  5.6  1013.7    0   75            1275\n",
       "137251  12/31/20 20:00  5.4  1014.3    0   74            1275\n",
       "137252  12/31/20 21:00  4.8  1014.9    0   74            1275\n",
       "137253  12/31/20 22:00    5  1015.4    0   74            1275\n",
       "137254  12/31/20 23:00    5    1016    0   74            1275\n",
       "\n",
       "[4473041 rows x 6 columns]"
      ]
     },
     "execution_count": 33,
     "metadata": {},
     "output_type": "execute_result"
    }
   ],
   "source": [
    "weather_all = weather_all.replace(' ', pd.NA)\n",
    "weather_all"
   ]
  },
  {
   "cell_type": "code",
   "execution_count": 34,
   "id": "ace7ca1c",
   "metadata": {},
   "outputs": [
    {
     "data": {
      "text/html": [
       "<div>\n",
       "<style scoped>\n",
       "    .dataframe tbody tr th:only-of-type {\n",
       "        vertical-align: middle;\n",
       "    }\n",
       "\n",
       "    .dataframe tbody tr th {\n",
       "        vertical-align: top;\n",
       "    }\n",
       "\n",
       "    .dataframe thead th {\n",
       "        text-align: right;\n",
       "    }\n",
       "</style>\n",
       "<table border=\"1\" class=\"dataframe\">\n",
       "  <thead>\n",
       "    <tr style=\"text-align: right;\">\n",
       "      <th></th>\n",
       "      <th>date</th>\n",
       "      <th>temp</th>\n",
       "      <th>msl</th>\n",
       "      <th>rain</th>\n",
       "      <th>rhum</th>\n",
       "      <th>Station number</th>\n",
       "    </tr>\n",
       "  </thead>\n",
       "  <tbody>\n",
       "    <tr>\n",
       "      <th>296</th>\n",
       "      <td>8/13/03 9:00</td>\n",
       "      <td>17.3</td>\n",
       "      <td>1023.6</td>\n",
       "      <td>0</td>\n",
       "      <td>72</td>\n",
       "      <td>375</td>\n",
       "    </tr>\n",
       "    <tr>\n",
       "      <th>297</th>\n",
       "      <td>8/13/03 10:00</td>\n",
       "      <td>18.5</td>\n",
       "      <td>1023.7</td>\n",
       "      <td>0</td>\n",
       "      <td>65</td>\n",
       "      <td>375</td>\n",
       "    </tr>\n",
       "    <tr>\n",
       "      <th>298</th>\n",
       "      <td>8/13/03 11:00</td>\n",
       "      <td>19.3</td>\n",
       "      <td>1023.7</td>\n",
       "      <td>0</td>\n",
       "      <td>56</td>\n",
       "      <td>375</td>\n",
       "    </tr>\n",
       "    <tr>\n",
       "      <th>299</th>\n",
       "      <td>8/13/03 12:00</td>\n",
       "      <td>20.4</td>\n",
       "      <td>1023.3</td>\n",
       "      <td>0</td>\n",
       "      <td>53</td>\n",
       "      <td>375</td>\n",
       "    </tr>\n",
       "    <tr>\n",
       "      <th>300</th>\n",
       "      <td>8/13/03 13:00</td>\n",
       "      <td>20.9</td>\n",
       "      <td>1023.3</td>\n",
       "      <td>0</td>\n",
       "      <td>54</td>\n",
       "      <td>375</td>\n",
       "    </tr>\n",
       "    <tr>\n",
       "      <th>...</th>\n",
       "      <td>...</td>\n",
       "      <td>...</td>\n",
       "      <td>...</td>\n",
       "      <td>...</td>\n",
       "      <td>...</td>\n",
       "      <td>...</td>\n",
       "    </tr>\n",
       "    <tr>\n",
       "      <th>137250</th>\n",
       "      <td>12/31/20 19:00</td>\n",
       "      <td>5.6</td>\n",
       "      <td>1013.7</td>\n",
       "      <td>0</td>\n",
       "      <td>75</td>\n",
       "      <td>1275</td>\n",
       "    </tr>\n",
       "    <tr>\n",
       "      <th>137251</th>\n",
       "      <td>12/31/20 20:00</td>\n",
       "      <td>5.4</td>\n",
       "      <td>1014.3</td>\n",
       "      <td>0</td>\n",
       "      <td>74</td>\n",
       "      <td>1275</td>\n",
       "    </tr>\n",
       "    <tr>\n",
       "      <th>137252</th>\n",
       "      <td>12/31/20 21:00</td>\n",
       "      <td>4.8</td>\n",
       "      <td>1014.9</td>\n",
       "      <td>0</td>\n",
       "      <td>74</td>\n",
       "      <td>1275</td>\n",
       "    </tr>\n",
       "    <tr>\n",
       "      <th>137253</th>\n",
       "      <td>12/31/20 22:00</td>\n",
       "      <td>5</td>\n",
       "      <td>1015.4</td>\n",
       "      <td>0</td>\n",
       "      <td>74</td>\n",
       "      <td>1275</td>\n",
       "    </tr>\n",
       "    <tr>\n",
       "      <th>137254</th>\n",
       "      <td>12/31/20 23:00</td>\n",
       "      <td>5</td>\n",
       "      <td>1016</td>\n",
       "      <td>0</td>\n",
       "      <td>74</td>\n",
       "      <td>1275</td>\n",
       "    </tr>\n",
       "  </tbody>\n",
       "</table>\n",
       "<p>4250224 rows × 6 columns</p>\n",
       "</div>"
      ],
      "text/plain": [
       "                  date  temp     msl rain rhum  Station number\n",
       "296       8/13/03 9:00  17.3  1023.6    0   72             375\n",
       "297      8/13/03 10:00  18.5  1023.7    0   65             375\n",
       "298      8/13/03 11:00  19.3  1023.7    0   56             375\n",
       "299      8/13/03 12:00  20.4  1023.3    0   53             375\n",
       "300      8/13/03 13:00  20.9  1023.3    0   54             375\n",
       "...                ...   ...     ...  ...  ...             ...\n",
       "137250  12/31/20 19:00   5.6  1013.7    0   75            1275\n",
       "137251  12/31/20 20:00   5.4  1014.3    0   74            1275\n",
       "137252  12/31/20 21:00   4.8  1014.9    0   74            1275\n",
       "137253  12/31/20 22:00     5  1015.4    0   74            1275\n",
       "137254  12/31/20 23:00     5    1016    0   74            1275\n",
       "\n",
       "[4250224 rows x 6 columns]"
      ]
     },
     "execution_count": 34,
     "metadata": {},
     "output_type": "execute_result"
    }
   ],
   "source": [
    "weather_all = weather_all.dropna()\n",
    "weather_all"
   ]
  },
  {
   "cell_type": "markdown",
   "id": "568b0102",
   "metadata": {},
   "source": [
    "---"
   ]
  },
  {
   "cell_type": "markdown",
   "id": "084d808d",
   "metadata": {},
   "source": [
    "## Save Dataframe"
   ]
  },
  {
   "cell_type": "code",
   "execution_count": 35,
   "id": "3dd3b33f",
   "metadata": {},
   "outputs": [],
   "source": [
    "weather_all.to_csv(f\"{BASE_DIR}/data/csv/weather_all.csv\", index=False)"
   ]
  },
  {
   "cell_type": "markdown",
   "id": "df371089",
   "metadata": {},
   "source": [
    "---"
   ]
  }
 ],
 "metadata": {
  "kernelspec": {
   "display_name": "Python 3 (ipykernel)",
   "language": "python",
   "name": "python3"
  },
  "language_info": {
   "codemirror_mode": {
    "name": "ipython",
    "version": 3
   },
   "file_extension": ".py",
   "mimetype": "text/x-python",
   "name": "python",
   "nbconvert_exporter": "python",
   "pygments_lexer": "ipython3",
   "version": "3.9.6"
  }
 },
 "nbformat": 4,
 "nbformat_minor": 5
}
