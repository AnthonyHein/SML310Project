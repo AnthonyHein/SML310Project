{
 "cells": [
  {
   "cell_type": "markdown",
   "id": "58796508",
   "metadata": {},
   "source": [
    "# `clean_horses_all_trim_intxn_and_races_all_trim_intxn.ipynb`"
   ]
  },
  {
   "cell_type": "markdown",
   "id": "2f87b0d3",
   "metadata": {},
   "source": [
    "### Author: Anthony Hein"
   ]
  },
  {
   "cell_type": "markdown",
   "id": "c849a5ff",
   "metadata": {},
   "source": [
    "#### Last updated: 9/24/2021"
   ]
  },
  {
   "cell_type": "markdown",
   "id": "af8b11a6",
   "metadata": {},
   "source": [
    "# Overview:\n",
    "\n",
    "It attempting to combine the `horses_all.csv` and `races_all.csv` it was found that this is computationally intractable due to the vast size of these files.\n",
    "\n",
    "Now, we attempt to clean `horses_all(_trim(_intxn)).csv` and `races_all(_trim(_intxn)).csv` to remove rows with missing or incorrect data."
   ]
  },
  {
   "cell_type": "markdown",
   "id": "cd6b1d91",
   "metadata": {},
   "source": [
    "---"
   ]
  },
  {
   "cell_type": "markdown",
   "id": "b051b2cb",
   "metadata": {},
   "source": [
    "## Setup"
   ]
  },
  {
   "cell_type": "code",
   "execution_count": 1,
   "id": "58c3fd18",
   "metadata": {},
   "outputs": [],
   "source": [
    "import git\n",
    "import os\n",
    "import json\n",
    "import math\n",
    "from typing import List, Dict, Union\n",
    "from tqdm import tqdm\n",
    "import pandas as pd\n",
    "import numpy as np\n",
    "import matplotlib.pyplot as plt\n",
    "%matplotlib inline"
   ]
  },
  {
   "cell_type": "code",
   "execution_count": 2,
   "id": "a4040252",
   "metadata": {},
   "outputs": [
    {
     "data": {
      "text/plain": [
       "'/Users/anthonyhein/Desktop/SML310/project'"
      ]
     },
     "execution_count": 2,
     "metadata": {},
     "output_type": "execute_result"
    }
   ],
   "source": [
    "BASE_DIR = git.Repo(os.getcwd(), search_parent_directories=True).working_dir\n",
    "BASE_DIR"
   ]
  },
  {
   "cell_type": "code",
   "execution_count": 3,
   "id": "d54a9813",
   "metadata": {},
   "outputs": [],
   "source": [
    "import sys\n",
    "sys.path.append(f'{BASE_DIR}/utils/')\n",
    "\n",
    "from rid_to_runners import RID_TO_RUNNERS\n",
    "from length_abbrv_to_dist import LENGTH_ABBRV_TO_DIST"
   ]
  },
  {
   "cell_type": "markdown",
   "id": "846658c0",
   "metadata": {},
   "source": [
    "---"
   ]
  },
  {
   "cell_type": "markdown",
   "id": "96a60381",
   "metadata": {},
   "source": [
    "## Load `horses_all(_trim(_intxn)).csv`"
   ]
  },
  {
   "cell_type": "code",
   "execution_count": 4,
   "id": "5e4eeb2a",
   "metadata": {},
   "outputs": [
    {
     "data": {
      "text/html": [
       "<div>\n",
       "<style scoped>\n",
       "    .dataframe tbody tr th:only-of-type {\n",
       "        vertical-align: middle;\n",
       "    }\n",
       "\n",
       "    .dataframe tbody tr th {\n",
       "        vertical-align: top;\n",
       "    }\n",
       "\n",
       "    .dataframe thead th {\n",
       "        text-align: right;\n",
       "    }\n",
       "</style>\n",
       "<table border=\"1\" class=\"dataframe\">\n",
       "  <thead>\n",
       "    <tr style=\"text-align: right;\">\n",
       "      <th></th>\n",
       "      <th>rid</th>\n",
       "      <th>horseName</th>\n",
       "      <th>age</th>\n",
       "      <th>saddle</th>\n",
       "      <th>decimalPrice</th>\n",
       "      <th>trainerName</th>\n",
       "      <th>jockeyName</th>\n",
       "      <th>position</th>\n",
       "      <th>positionL</th>\n",
       "      <th>dist</th>\n",
       "      <th>outHandicap</th>\n",
       "      <th>RPR</th>\n",
       "      <th>TR</th>\n",
       "      <th>OR</th>\n",
       "      <th>father</th>\n",
       "      <th>mother</th>\n",
       "      <th>gfather</th>\n",
       "      <th>weight</th>\n",
       "    </tr>\n",
       "  </thead>\n",
       "  <tbody>\n",
       "    <tr>\n",
       "      <th>0</th>\n",
       "      <td>267255</td>\n",
       "      <td>Going For Broke</td>\n",
       "      <td>3.0</td>\n",
       "      <td>4.0</td>\n",
       "      <td>0.100000</td>\n",
       "      <td>P C Haslam</td>\n",
       "      <td>Seb Sanders</td>\n",
       "      <td>1</td>\n",
       "      <td>NaN</td>\n",
       "      <td>NaN</td>\n",
       "      <td>NaN</td>\n",
       "      <td>72.0</td>\n",
       "      <td>62.0</td>\n",
       "      <td>62.0</td>\n",
       "      <td>Simply Great</td>\n",
       "      <td>Empty Purse</td>\n",
       "      <td>Pennine Walk</td>\n",
       "      <td>58</td>\n",
       "    </tr>\n",
       "    <tr>\n",
       "      <th>1</th>\n",
       "      <td>267255</td>\n",
       "      <td>Pinchincha</td>\n",
       "      <td>3.0</td>\n",
       "      <td>3.0</td>\n",
       "      <td>0.266667</td>\n",
       "      <td>Dave Morris</td>\n",
       "      <td>Tony Clark</td>\n",
       "      <td>2</td>\n",
       "      <td>4</td>\n",
       "      <td>NaN</td>\n",
       "      <td>NaN</td>\n",
       "      <td>66.0</td>\n",
       "      <td>56.0</td>\n",
       "      <td>65.0</td>\n",
       "      <td>Priolo</td>\n",
       "      <td>Western Heights</td>\n",
       "      <td>Shirley Heights</td>\n",
       "      <td>60</td>\n",
       "    </tr>\n",
       "    <tr>\n",
       "      <th>2</th>\n",
       "      <td>267255</td>\n",
       "      <td>Skelton Sovereign</td>\n",
       "      <td>3.0</td>\n",
       "      <td>5.0</td>\n",
       "      <td>0.142857</td>\n",
       "      <td>Reg Hollinshead</td>\n",
       "      <td>D Griffiths</td>\n",
       "      <td>3</td>\n",
       "      <td>3</td>\n",
       "      <td>7.0</td>\n",
       "      <td>NaN</td>\n",
       "      <td>55.0</td>\n",
       "      <td>40.0</td>\n",
       "      <td>60.0</td>\n",
       "      <td>Contract Law</td>\n",
       "      <td>Mrs Lucky</td>\n",
       "      <td>Royal Match</td>\n",
       "      <td>55</td>\n",
       "    </tr>\n",
       "    <tr>\n",
       "      <th>3</th>\n",
       "      <td>267255</td>\n",
       "      <td>Fast Spin</td>\n",
       "      <td>3.0</td>\n",
       "      <td>6.0</td>\n",
       "      <td>0.380952</td>\n",
       "      <td>David Barron</td>\n",
       "      <td>Tony Culhane</td>\n",
       "      <td>4</td>\n",
       "      <td>7</td>\n",
       "      <td>14.0</td>\n",
       "      <td>NaN</td>\n",
       "      <td>38.0</td>\n",
       "      <td>30.0</td>\n",
       "      <td>59.0</td>\n",
       "      <td>Formidable I</td>\n",
       "      <td>Topwinder</td>\n",
       "      <td>Topsider</td>\n",
       "      <td>57</td>\n",
       "    </tr>\n",
       "    <tr>\n",
       "      <th>4</th>\n",
       "      <td>267255</td>\n",
       "      <td>As-Is</td>\n",
       "      <td>3.0</td>\n",
       "      <td>2.0</td>\n",
       "      <td>0.166667</td>\n",
       "      <td>Mark Johnston</td>\n",
       "      <td>J Weaver</td>\n",
       "      <td>5</td>\n",
       "      <td>7</td>\n",
       "      <td>21.0</td>\n",
       "      <td>NaN</td>\n",
       "      <td>29.0</td>\n",
       "      <td>21.0</td>\n",
       "      <td>65.0</td>\n",
       "      <td>Lomond</td>\n",
       "      <td>Capriati I</td>\n",
       "      <td>Diesis</td>\n",
       "      <td>60</td>\n",
       "    </tr>\n",
       "  </tbody>\n",
       "</table>\n",
       "</div>"
      ],
      "text/plain": [
       "      rid          horseName  age  saddle  decimalPrice      trainerName  \\\n",
       "0  267255    Going For Broke  3.0     4.0      0.100000       P C Haslam   \n",
       "1  267255         Pinchincha  3.0     3.0      0.266667      Dave Morris   \n",
       "2  267255  Skelton Sovereign  3.0     5.0      0.142857  Reg Hollinshead   \n",
       "3  267255          Fast Spin  3.0     6.0      0.380952     David Barron   \n",
       "4  267255              As-Is  3.0     2.0      0.166667    Mark Johnston   \n",
       "\n",
       "     jockeyName  position positionL  dist  outHandicap   RPR    TR    OR  \\\n",
       "0   Seb Sanders         1       NaN   NaN          NaN  72.0  62.0  62.0   \n",
       "1    Tony Clark         2         4   NaN          NaN  66.0  56.0  65.0   \n",
       "2   D Griffiths         3         3   7.0          NaN  55.0  40.0  60.0   \n",
       "3  Tony Culhane         4         7  14.0          NaN  38.0  30.0  59.0   \n",
       "4      J Weaver         5         7  21.0          NaN  29.0  21.0  65.0   \n",
       "\n",
       "         father           mother          gfather  weight  \n",
       "0  Simply Great      Empty Purse     Pennine Walk      58  \n",
       "1        Priolo  Western Heights  Shirley Heights      60  \n",
       "2  Contract Law        Mrs Lucky      Royal Match      55  \n",
       "3  Formidable I        Topwinder         Topsider      57  \n",
       "4        Lomond       Capriati I           Diesis      60  "
      ]
     },
     "execution_count": 4,
     "metadata": {},
     "output_type": "execute_result"
    }
   ],
   "source": [
    "horses_all_trim_intxn = pd.read_csv(f\"{BASE_DIR}/data/csv/horses_all_trim_intxn.csv\", low_memory=False) \n",
    "horses_all_trim_intxn.head()"
   ]
  },
  {
   "cell_type": "code",
   "execution_count": 5,
   "id": "8d2d4f74",
   "metadata": {},
   "outputs": [
    {
     "data": {
      "text/plain": [
       "(4107315, 18)"
      ]
     },
     "execution_count": 5,
     "metadata": {},
     "output_type": "execute_result"
    }
   ],
   "source": [
    "horses_all_trim_intxn.shape"
   ]
  },
  {
   "cell_type": "code",
   "execution_count": 6,
   "id": "841a308b",
   "metadata": {},
   "outputs": [],
   "source": [
    "horses_all_trim_intxn_clean = horses_all_trim_intxn.copy(deep=True)"
   ]
  },
  {
   "cell_type": "markdown",
   "id": "cef79ad9",
   "metadata": {},
   "source": [
    "---"
   ]
  },
  {
   "cell_type": "markdown",
   "id": "5f4b23bd",
   "metadata": {},
   "source": [
    "## Load `races_all(_trim(_intxn)).csv`"
   ]
  },
  {
   "cell_type": "code",
   "execution_count": 7,
   "id": "30fdd91b",
   "metadata": {},
   "outputs": [
    {
     "data": {
      "text/html": [
       "<div>\n",
       "<style scoped>\n",
       "    .dataframe tbody tr th:only-of-type {\n",
       "        vertical-align: middle;\n",
       "    }\n",
       "\n",
       "    .dataframe tbody tr th {\n",
       "        vertical-align: top;\n",
       "    }\n",
       "\n",
       "    .dataframe thead th {\n",
       "        text-align: right;\n",
       "    }\n",
       "</style>\n",
       "<table border=\"1\" class=\"dataframe\">\n",
       "  <thead>\n",
       "    <tr style=\"text-align: right;\">\n",
       "      <th></th>\n",
       "      <th>rid</th>\n",
       "      <th>course</th>\n",
       "      <th>time</th>\n",
       "      <th>date</th>\n",
       "      <th>hurdles</th>\n",
       "      <th>prizes</th>\n",
       "      <th>winningTime</th>\n",
       "      <th>metric</th>\n",
       "      <th>countryCode</th>\n",
       "      <th>ncond</th>\n",
       "      <th>class</th>\n",
       "    </tr>\n",
       "  </thead>\n",
       "  <tbody>\n",
       "    <tr>\n",
       "      <th>0</th>\n",
       "      <td>267255</td>\n",
       "      <td>Southwell (AW)</td>\n",
       "      <td>03:40</td>\n",
       "      <td>97/01/01</td>\n",
       "      <td>NaN</td>\n",
       "      <td>[2752.25, 833.0, 406.5, 193.25]</td>\n",
       "      <td>106.9</td>\n",
       "      <td>1609.0</td>\n",
       "      <td>GB</td>\n",
       "      <td>0</td>\n",
       "      <td>5</td>\n",
       "    </tr>\n",
       "    <tr>\n",
       "      <th>1</th>\n",
       "      <td>297570</td>\n",
       "      <td>Southwell (AW)</td>\n",
       "      <td>12:35</td>\n",
       "      <td>97/01/01</td>\n",
       "      <td>NaN</td>\n",
       "      <td>[1944.0, 544.0, 264.0]</td>\n",
       "      <td>91.0</td>\n",
       "      <td>1407.0</td>\n",
       "      <td>GB</td>\n",
       "      <td>0</td>\n",
       "      <td>6</td>\n",
       "    </tr>\n",
       "    <tr>\n",
       "      <th>2</th>\n",
       "      <td>334421</td>\n",
       "      <td>Southwell (AW)</td>\n",
       "      <td>01:05</td>\n",
       "      <td>97/01/01</td>\n",
       "      <td>NaN</td>\n",
       "      <td>[2502.0, 702.0, 342.0]</td>\n",
       "      <td>150.7</td>\n",
       "      <td>2212.0</td>\n",
       "      <td>GB</td>\n",
       "      <td>0</td>\n",
       "      <td>6</td>\n",
       "    </tr>\n",
       "    <tr>\n",
       "      <th>3</th>\n",
       "      <td>366304</td>\n",
       "      <td>Southwell (AW)</td>\n",
       "      <td>03:10</td>\n",
       "      <td>97/01/01</td>\n",
       "      <td>NaN</td>\n",
       "      <td>[2189.0, 614.0, 299.0]</td>\n",
       "      <td>108.6</td>\n",
       "      <td>1609.0</td>\n",
       "      <td>GB</td>\n",
       "      <td>0</td>\n",
       "      <td>6</td>\n",
       "    </tr>\n",
       "    <tr>\n",
       "      <th>4</th>\n",
       "      <td>13063</td>\n",
       "      <td>Southwell (AW)</td>\n",
       "      <td>02:40</td>\n",
       "      <td>97/01/01</td>\n",
       "      <td>NaN</td>\n",
       "      <td>[2726.25, 825.0, 402.5, 191.25]</td>\n",
       "      <td>231.4</td>\n",
       "      <td>3318.5</td>\n",
       "      <td>GB</td>\n",
       "      <td>0</td>\n",
       "      <td>5</td>\n",
       "    </tr>\n",
       "  </tbody>\n",
       "</table>\n",
       "</div>"
      ],
      "text/plain": [
       "      rid          course   time      date hurdles  \\\n",
       "0  267255  Southwell (AW)  03:40  97/01/01     NaN   \n",
       "1  297570  Southwell (AW)  12:35  97/01/01     NaN   \n",
       "2  334421  Southwell (AW)  01:05  97/01/01     NaN   \n",
       "3  366304  Southwell (AW)  03:10  97/01/01     NaN   \n",
       "4   13063  Southwell (AW)  02:40  97/01/01     NaN   \n",
       "\n",
       "                            prizes  winningTime  metric countryCode ncond  \\\n",
       "0  [2752.25, 833.0, 406.5, 193.25]        106.9  1609.0          GB     0   \n",
       "1           [1944.0, 544.0, 264.0]         91.0  1407.0          GB     0   \n",
       "2           [2502.0, 702.0, 342.0]        150.7  2212.0          GB     0   \n",
       "3           [2189.0, 614.0, 299.0]        108.6  1609.0          GB     0   \n",
       "4  [2726.25, 825.0, 402.5, 191.25]        231.4  3318.5          GB     0   \n",
       "\n",
       "   class  \n",
       "0      5  \n",
       "1      6  \n",
       "2      6  \n",
       "3      6  \n",
       "4      5  "
      ]
     },
     "execution_count": 7,
     "metadata": {},
     "output_type": "execute_result"
    }
   ],
   "source": [
    "races_all_trim_intxn = pd.read_csv(f\"{BASE_DIR}/data/csv/races_all_trim_intxn.csv\", low_memory=False) \n",
    "races_all_trim_intxn.head()"
   ]
  },
  {
   "cell_type": "code",
   "execution_count": 8,
   "id": "dd2911c2",
   "metadata": {},
   "outputs": [
    {
     "data": {
      "text/plain": [
       "(395186, 11)"
      ]
     },
     "execution_count": 8,
     "metadata": {},
     "output_type": "execute_result"
    }
   ],
   "source": [
    "races_all_trim_intxn.shape"
   ]
  },
  {
   "cell_type": "code",
   "execution_count": 9,
   "id": "bb46cb74",
   "metadata": {},
   "outputs": [],
   "source": [
    "races_all_trim_intxn_clean = races_all_trim_intxn.copy(deep=True)"
   ]
  },
  {
   "cell_type": "markdown",
   "id": "f9109550",
   "metadata": {},
   "source": [
    "---"
   ]
  },
  {
   "cell_type": "markdown",
   "id": "893d4500",
   "metadata": {},
   "source": [
    "## Clean Data in `races_all(_trim(_intxn)).csv`"
   ]
  },
  {
   "cell_type": "code",
   "execution_count": 10,
   "id": "8e400773",
   "metadata": {},
   "outputs": [
    {
     "name": "stdout",
     "output_type": "stream",
     "text": [
      "The following columns have null values:\n",
      "  - hurdles\n"
     ]
    }
   ],
   "source": [
    "print(\"The following columns have null values:\")\n",
    "\n",
    "for column in races_all_trim_intxn.columns:\n",
    "    if sum(races_all_trim_intxn[column].isnull()) > 0:\n",
    "        print(f\"  - {column}\")"
   ]
  },
  {
   "cell_type": "markdown",
   "id": "afec2844",
   "metadata": {},
   "source": [
    "Only `hurdles` has null values. We will punt on this until know whether we can safely remove hurdles and still have enough data."
   ]
  },
  {
   "cell_type": "markdown",
   "id": "ee019845",
   "metadata": {},
   "source": [
    "## Clean Data in `horses_all(_trim(_intxn)).csv`"
   ]
  },
  {
   "cell_type": "code",
   "execution_count": 11,
   "id": "8125807f",
   "metadata": {
    "scrolled": true
   },
   "outputs": [
    {
     "name": "stdout",
     "output_type": "stream",
     "text": [
      "The following columns have null values:\n",
      "  - age\n",
      "  - saddle\n",
      "  - trainerName\n",
      "  - jockeyName\n",
      "  - positionL\n",
      "  - dist\n",
      "  - outHandicap\n",
      "  - RPR\n",
      "  - TR\n",
      "  - OR\n",
      "  - father\n",
      "  - mother\n",
      "  - gfather\n"
     ]
    }
   ],
   "source": [
    "print(\"The following columns have null values:\")\n",
    "\n",
    "for column in horses_all_trim_intxn.columns:\n",
    "    if sum(horses_all_trim_intxn[column].isnull()) > 0:\n",
    "        print(f\"  - {column}\")"
   ]
  },
  {
   "cell_type": "markdown",
   "id": "ff783ca1",
   "metadata": {},
   "source": [
    "We now investigate these one at a time."
   ]
  },
  {
   "cell_type": "markdown",
   "id": "196289c2",
   "metadata": {},
   "source": [
    "### `age`"
   ]
  },
  {
   "cell_type": "markdown",
   "id": "013e4822",
   "metadata": {},
   "source": [
    "As we suspect that age may be an important feature in horse racing, a horse with a missing age or negative age should be dropped from the dataset, unless this age can be inferred from other others."
   ]
  },
  {
   "cell_type": "code",
   "execution_count": 12,
   "id": "9f2180b4",
   "metadata": {},
   "outputs": [],
   "source": [
    "# find all entries in df with bad age data\n",
    "entries_w_bad_age = horses_all_trim_intxn_clean[\n",
    "    horses_all_trim_intxn_clean['age'].isnull() |\n",
    "    (horses_all_trim_intxn_clean['age'] < 0)\n",
    "]"
   ]
  },
  {
   "cell_type": "code",
   "execution_count": 13,
   "id": "9833e2d0",
   "metadata": {},
   "outputs": [
    {
     "data": {
      "text/plain": [
       "512"
      ]
     },
     "execution_count": 13,
     "metadata": {},
     "output_type": "execute_result"
    }
   ],
   "source": [
    "len(entries_w_bad_age)"
   ]
  },
  {
   "cell_type": "code",
   "execution_count": 14,
   "id": "3c0eba6e",
   "metadata": {},
   "outputs": [],
   "source": [
    "# find all unique horses with bad age data\n",
    "horses_w_bad_age = entries_w_bad_age['horseName'].unique()"
   ]
  },
  {
   "cell_type": "code",
   "execution_count": 15,
   "id": "05665605",
   "metadata": {},
   "outputs": [
    {
     "data": {
      "text/plain": [
       "96"
      ]
     },
     "execution_count": 15,
     "metadata": {},
     "output_type": "execute_result"
    }
   ],
   "source": [
    "len(horses_w_bad_age)"
   ]
  },
  {
   "cell_type": "code",
   "execution_count": 16,
   "id": "a7d93d73",
   "metadata": {},
   "outputs": [],
   "source": [
    "# for every unique horse with bad age data\n",
    "# see if they raced in other races\n",
    "# and if they did,\n",
    "# then did they have a valid age in that race?\n",
    "\n",
    "horses_w_ages_can_be_corrected = []\n",
    "horses_corrective_age_data = {}\n",
    "\n",
    "for horse_name in horses_w_bad_age:\n",
    "    entries_same_horse = horses_all_trim_intxn_clean[horses_all_trim_intxn_clean['horseName'] == horse_name]\n",
    "    entries_same_horse_valid_age = entries_same_horse[\n",
    "                                       entries_same_horse['age'].notnull() &\n",
    "                                       (entries_same_horse['age'] >= 0)\n",
    "                                   ]\n",
    "    races_and_ages = entries_same_horse_valid_age[['rid', 'age']]\n",
    "    \n",
    "    if len(races_and_ages) > 0:\n",
    "        horses_w_ages_can_be_corrected.append(horse_name)\n",
    "        horses_corrective_age_data[horse_name] = {\n",
    "            'rid': races_and_ages['rid'].iloc[0],\n",
    "            'age': races_and_ages['age'].iloc[0]\n",
    "        }"
   ]
  },
  {
   "cell_type": "code",
   "execution_count": 17,
   "id": "cd31e97a",
   "metadata": {
    "scrolled": true
   },
   "outputs": [
    {
     "data": {
      "text/plain": [
       "['We Will See',\n",
       " 'Polar Gale',\n",
       " \"Ain't Misbehavin\",\n",
       " 'Father Pat',\n",
       " 'Big Country',\n",
       " 'Moon Tiger',\n",
       " 'Combe Hay',\n",
       " 'Long Island',\n",
       " 'Western Frontier',\n",
       " 'Going Ballistic',\n",
       " 'Young At Heart',\n",
       " 'Happy Forever',\n",
       " 'Gateado',\n",
       " 'Local Hero',\n",
       " 'Don Gwarli']"
      ]
     },
     "execution_count": 17,
     "metadata": {},
     "output_type": "execute_result"
    }
   ],
   "source": [
    "horses_w_ages_can_be_corrected"
   ]
  },
  {
   "cell_type": "code",
   "execution_count": 18,
   "id": "1c920165",
   "metadata": {},
   "outputs": [
    {
     "data": {
      "text/plain": [
       "Father Pat          27\n",
       "Going Ballistic     27\n",
       "Western Frontier     7\n",
       "Young At Heart       7\n",
       "Ain't Misbehavin     5\n",
       "Local Hero           5\n",
       "Polar Gale           4\n",
       "Moon Tiger           4\n",
       "We Will See          3\n",
       "Big Country          3\n",
       "Gateado              3\n",
       "Combe Hay            2\n",
       "Long Island          2\n",
       "Happy Forever        1\n",
       "Don Gwarli           1\n",
       "Name: horseName, dtype: int64"
      ]
     },
     "execution_count": 18,
     "metadata": {},
     "output_type": "execute_result"
    }
   ],
   "source": [
    "# counts of rows that can be corrected for each name\n",
    "entries_w_bad_age[entries_w_bad_age['horseName'].isin(horses_w_ages_can_be_corrected)]['horseName'].value_counts()"
   ]
  },
  {
   "cell_type": "code",
   "execution_count": 19,
   "id": "81f57246",
   "metadata": {},
   "outputs": [
    {
     "data": {
      "text/plain": [
       "{'We Will See': {'rid': 388337, 'age': 3.0},\n",
       " 'Polar Gale': {'rid': 88503, 'age': 9.0},\n",
       " \"Ain't Misbehavin\": {'rid': 95672, 'age': 4.0},\n",
       " 'Father Pat': {'rid': 1274, 'age': 4.0},\n",
       " 'Big Country': {'rid': 48806, 'age': 5.0},\n",
       " 'Moon Tiger': {'rid': 250504, 'age': 4.0},\n",
       " 'Combe Hay': {'rid': 145460, 'age': 2.0},\n",
       " 'Long Island': {'rid': 141347, 'age': 3.0},\n",
       " 'Western Frontier': {'rid': 163614, 'age': 2.0},\n",
       " 'Going Ballistic': {'rid': 394841, 'age': 0.0},\n",
       " 'Young At Heart': {'rid': 241006, 'age': 5.0},\n",
       " 'Happy Forever': {'rid': 376944, 'age': 3.0},\n",
       " 'Gateado': {'rid': 16814, 'age': 4.0},\n",
       " 'Local Hero': {'rid': 287144, 'age': 2.0},\n",
       " 'Don Gwarli': {'rid': 234470, 'age': 3.0}}"
      ]
     },
     "execution_count": 19,
     "metadata": {},
     "output_type": "execute_result"
    }
   ],
   "source": [
    "horses_corrective_age_data"
   ]
  },
  {
   "cell_type": "code",
   "execution_count": 20,
   "id": "c012a1d9",
   "metadata": {},
   "outputs": [],
   "source": [
    "def get_year_from_date_str(date_str: str) -> int:\n",
    "    \"\"\"\n",
    "    Given a `date_str` of the form `YY/MM/DD` return\n",
    "    `YYYY` as an `int.\n",
    "    \"\"\"\n",
    "    year = int(date_str[:2])\n",
    "    year = (year + 2000) if year < 50 else (year + 1900)\n",
    "    return year"
   ]
  },
  {
   "cell_type": "code",
   "execution_count": 21,
   "id": "364a386d",
   "metadata": {
    "scrolled": false
   },
   "outputs": [
    {
     "name": "stdout",
     "output_type": "stream",
     "text": [
      "Preview suspected age data:\n",
      "{\n",
      "  \"We Will See\": {\n",
      "    \"303071\": {\n",
      "      \"year\": 1994,\n",
      "      \"age\": -16.0\n",
      "    },\n",
      "    \"51656\": {\n",
      "      \"year\": 1994,\n",
      "      \"age\": -16.0\n",
      "    },\n",
      "    \"236425\": {\n",
      "      \"year\": 1994,\n",
      "      \"age\": -16.0\n",
      "    },\n",
      "    \"388337\": {\n",
      "      \"year\": 2013,\n",
      "      \"age\": 3.0\n",
      "    }\n",
      "  },\n",
      "  \"Polar Gale\": {\n",
      "    \"325801\": {\n",
      "      \"year\": 1994,\n",
      "      \"age\": -6.0\n",
      "    },\n",
      "    \"83954\": {\n",
      "      \"year\": 1995,\n",
      "      \"age\": -5.0\n",
      "    },\n",
      "    \"256349\": {\n",
      "      \"year\": 1995,\n",
      "      \"age\": -5.0\n",
      "    },\n",
      "    \"202663\": {\n",
      "      \"year\": 1995,\n",
      "      \"age\": -5.0\n",
      "    },\n",
      "    \"88503\": {\n",
      "      \"year\": 2009,\n",
      "      \"age\": 9.0\n",
      "    }\n",
      "  },\n",
      "  \"Ain't Misbehavin\": {\n",
      "    \"50453\": {\n",
      "      \"year\": 1995,\n",
      "      \"age\": -17.0\n",
      "    },\n",
      "    \"252762\": {\n",
      "      \"year\": 1995,\n",
      "      \"age\": -17.0\n",
      "    },\n",
      "    \"278651\": {\n",
      "      \"year\": 1995,\n",
      "      \"age\": -17.0\n",
      "    },\n",
      "    \"360471\": {\n",
      "      \"year\": 1995,\n",
      "      \"age\": -17.0\n",
      "    },\n",
      "    \"85527\": {\n",
      "      \"year\": 1995,\n",
      "      \"age\": -17.0\n",
      "    },\n",
      "    \"95672\": {\n",
      "      \"year\": 2016,\n",
      "      \"age\": 4.0\n",
      "    }\n",
      "  }\n",
      "}\n"
     ]
    }
   ],
   "source": [
    "suspected_age_data = {}\n",
    "\n",
    "for horse_name in horses_w_ages_can_be_corrected:\n",
    "    \n",
    "    # all rows with this horse\n",
    "    entries_same_horse = horses_all_trim_intxn_clean[horses_all_trim_intxn_clean['horseName'] == horse_name]\n",
    "    \n",
    "    # only those with bad age data or with rid of known age\n",
    "    entries_same_horse_bad_age = entries_same_horse[\n",
    "        entries_same_horse['age'].isnull() | \n",
    "        (entries_same_horse['age'] < 0) |\n",
    "        (entries_same_horse['rid'] == horses_corrective_age_data[horse_name]['rid'])\n",
    "    ]\n",
    "    \n",
    "    races_same_horse_bad_age = races_all_trim_intxn_clean.loc[\n",
    "        races_all_trim_intxn_clean['rid'].isin(entries_same_horse_bad_age['rid'])\n",
    "    ]\n",
    "    \n",
    "    rid_of_known_age = horses_corrective_age_data[horse_name]['rid']\n",
    "    race_of_known_age = races_same_horse_bad_age.loc[races_same_horse_bad_age['rid'] == rid_of_known_age]\n",
    "    date_of_known_age = race_of_known_age['date'].iloc[0]\n",
    "    year_of_known_age = get_year_from_date_str(date_of_known_age)\n",
    "    age_at_year_of_known_age = horses_corrective_age_data[horse_name]['age']\n",
    "    \n",
    "    suspected_ages_at_races_same_horse_bad_age = {\n",
    "        race['rid']: {\n",
    "            'year': get_year_from_date_str(race['date']),\n",
    "            'age': age_at_year_of_known_age + (get_year_from_date_str(race['date']) - year_of_known_age)\n",
    "        }\n",
    "        for _, race\n",
    "        in races_same_horse_bad_age[['rid', 'date']].iterrows()\n",
    "    }\n",
    "    \n",
    "    suspected_age_data[horse_name] = suspected_ages_at_races_same_horse_bad_age\n",
    "\n",
    "suspected_age_data_slice = {k:v for i, (k,v) in enumerate(suspected_age_data.items()) if i < 3}\n",
    "\n",
    "print(f\"Preview suspected age data:\\n{json.dumps(suspected_age_data_slice, indent=2)}\")"
   ]
  },
  {
   "cell_type": "markdown",
   "id": "d92d5682",
   "metadata": {},
   "source": [
    "Unfortunately, we still cannot correct many entries, since this algorithm produces negative age values for several of the entries we were interested in that would otherwise have `null` values. This must be due to different physical horses having the same name (and racing at different points in time). Let's remove these predictions."
   ]
  },
  {
   "cell_type": "code",
   "execution_count": 22,
   "id": "3c6cf1eb",
   "metadata": {},
   "outputs": [],
   "source": [
    "def remove_negative_suspected_ages(\n",
    "        d: Dict[str, Dict[str, Union[int, float]]]\n",
    "    ) -> Dict[str, Dict[str, Union[int, float]]]:\n",
    "    \"\"\"\n",
    "    For a given dictionary `d` which has several keys which are rids and each contain\n",
    "    a dictionary with a `year` and `age` key, return the same dictionary with any rids\n",
    "    containing negative `age` values removed.\n",
    "    \"\"\"\n",
    "    return {k:v for (k,v) in d.items() if v['age'] >= 0}"
   ]
  },
  {
   "cell_type": "code",
   "execution_count": 23,
   "id": "847186ff",
   "metadata": {
    "scrolled": false
   },
   "outputs": [
    {
     "name": "stdout",
     "output_type": "stream",
     "text": [
      "Suspected age data:\n",
      "{\n",
      "  \"We Will See\": {\n",
      "    \"388337\": {\n",
      "      \"year\": 2013,\n",
      "      \"age\": 3.0\n",
      "    }\n",
      "  },\n",
      "  \"Polar Gale\": {\n",
      "    \"88503\": {\n",
      "      \"year\": 2009,\n",
      "      \"age\": 9.0\n",
      "    }\n",
      "  },\n",
      "  \"Ain't Misbehavin\": {\n",
      "    \"95672\": {\n",
      "      \"year\": 2016,\n",
      "      \"age\": 4.0\n",
      "    }\n",
      "  },\n",
      "  \"Father Pat\": {\n",
      "    \"1274\": {\n",
      "      \"year\": 2007,\n",
      "      \"age\": 4.0\n",
      "    }\n",
      "  },\n",
      "  \"Big Country\": {\n",
      "    \"48806\": {\n",
      "      \"year\": 2018,\n",
      "      \"age\": 5.0\n",
      "    }\n",
      "  },\n",
      "  \"Moon Tiger\": {\n",
      "    \"250504\": {\n",
      "      \"year\": 1997,\n",
      "      \"age\": 4.0\n",
      "    }\n",
      "  },\n",
      "  \"Combe Hay\": {\n",
      "    \"145460\": {\n",
      "      \"year\": 2015,\n",
      "      \"age\": 2.0\n",
      "    }\n",
      "  },\n",
      "  \"Long Island\": {\n",
      "    \"141347\": {\n",
      "      \"year\": 2018,\n",
      "      \"age\": 3.0\n",
      "    }\n",
      "  },\n",
      "  \"Western Frontier\": {\n",
      "    \"163614\": {\n",
      "      \"year\": 2018,\n",
      "      \"age\": 2.0\n",
      "    }\n",
      "  },\n",
      "  \"Going Ballistic\": {\n",
      "    \"394841\": {\n",
      "      \"year\": 2011,\n",
      "      \"age\": 0.0\n",
      "    }\n",
      "  },\n",
      "  \"Young At Heart\": {\n",
      "    \"241006\": {\n",
      "      \"year\": 1996,\n",
      "      \"age\": 5.0\n",
      "    },\n",
      "    \"303011\": {\n",
      "      \"year\": 2012,\n",
      "      \"age\": 21.0\n",
      "    },\n",
      "    \"382835\": {\n",
      "      \"year\": 2012,\n",
      "      \"age\": 21.0\n",
      "    },\n",
      "    \"250387\": {\n",
      "      \"year\": 2011,\n",
      "      \"age\": 20.0\n",
      "    },\n",
      "    \"201817\": {\n",
      "      \"year\": 2011,\n",
      "      \"age\": 20.0\n",
      "    },\n",
      "    \"14908\": {\n",
      "      \"year\": 2011,\n",
      "      \"age\": 20.0\n",
      "    },\n",
      "    \"36674\": {\n",
      "      \"year\": 2011,\n",
      "      \"age\": 20.0\n",
      "    },\n",
      "    \"308265\": {\n",
      "      \"year\": 2011,\n",
      "      \"age\": 20.0\n",
      "    }\n",
      "  },\n",
      "  \"Happy Forever\": {\n",
      "    \"376944\": {\n",
      "      \"year\": 2009,\n",
      "      \"age\": 3.0\n",
      "    }\n",
      "  },\n",
      "  \"Gateado\": {\n",
      "    \"16814\": {\n",
      "      \"year\": 2004,\n",
      "      \"age\": 4.0\n",
      "    },\n",
      "    \"213732\": {\n",
      "      \"year\": 2002,\n",
      "      \"age\": 2.0\n",
      "    },\n",
      "    \"35588\": {\n",
      "      \"year\": 2002,\n",
      "      \"age\": 2.0\n",
      "    },\n",
      "    \"326168\": {\n",
      "      \"year\": 2002,\n",
      "      \"age\": 2.0\n",
      "    }\n",
      "  },\n",
      "  \"Local Hero\": {\n",
      "    \"287144\": {\n",
      "      \"year\": 2009,\n",
      "      \"age\": 2.0\n",
      "    }\n",
      "  },\n",
      "  \"Don Gwarli\": {\n",
      "    \"234470\": {\n",
      "      \"year\": 2003,\n",
      "      \"age\": 3.0\n",
      "    },\n",
      "    \"244303\": {\n",
      "      \"year\": 2002,\n",
      "      \"age\": 2.0\n",
      "    }\n",
      "  }\n",
      "}\n"
     ]
    }
   ],
   "source": [
    "suspected_age_data_only_positive = {\n",
    "    k:remove_negative_suspected_ages(v)\n",
    "    for i, (k,v)\n",
    "    in enumerate(suspected_age_data.items())\n",
    "}\n",
    "print(f\"Suspected age data:\\n{json.dumps(suspected_age_data_only_positive, indent=2)}\")"
   ]
  },
  {
   "cell_type": "markdown",
   "id": "0d7c8fd3",
   "metadata": {},
   "source": [
    "Now, recall that our suspected age data contains the race which we are basing all other ages on. Therefore, we will also remove those entries for which there is only one race listed, since these entries represent data already in the dataset."
   ]
  },
  {
   "cell_type": "code",
   "execution_count": 24,
   "id": "0855c37d",
   "metadata": {},
   "outputs": [
    {
     "name": "stdout",
     "output_type": "stream",
     "text": [
      "Suspected age data:\n",
      "{\n",
      "  \"Young At Heart\": {\n",
      "    \"241006\": {\n",
      "      \"year\": 1996,\n",
      "      \"age\": 5.0\n",
      "    },\n",
      "    \"303011\": {\n",
      "      \"year\": 2012,\n",
      "      \"age\": 21.0\n",
      "    },\n",
      "    \"382835\": {\n",
      "      \"year\": 2012,\n",
      "      \"age\": 21.0\n",
      "    },\n",
      "    \"250387\": {\n",
      "      \"year\": 2011,\n",
      "      \"age\": 20.0\n",
      "    },\n",
      "    \"201817\": {\n",
      "      \"year\": 2011,\n",
      "      \"age\": 20.0\n",
      "    },\n",
      "    \"14908\": {\n",
      "      \"year\": 2011,\n",
      "      \"age\": 20.0\n",
      "    },\n",
      "    \"36674\": {\n",
      "      \"year\": 2011,\n",
      "      \"age\": 20.0\n",
      "    },\n",
      "    \"308265\": {\n",
      "      \"year\": 2011,\n",
      "      \"age\": 20.0\n",
      "    }\n",
      "  },\n",
      "  \"Gateado\": {\n",
      "    \"16814\": {\n",
      "      \"year\": 2004,\n",
      "      \"age\": 4.0\n",
      "    },\n",
      "    \"213732\": {\n",
      "      \"year\": 2002,\n",
      "      \"age\": 2.0\n",
      "    },\n",
      "    \"35588\": {\n",
      "      \"year\": 2002,\n",
      "      \"age\": 2.0\n",
      "    },\n",
      "    \"326168\": {\n",
      "      \"year\": 2002,\n",
      "      \"age\": 2.0\n",
      "    }\n",
      "  },\n",
      "  \"Don Gwarli\": {\n",
      "    \"234470\": {\n",
      "      \"year\": 2003,\n",
      "      \"age\": 3.0\n",
      "    },\n",
      "    \"244303\": {\n",
      "      \"year\": 2002,\n",
      "      \"age\": 2.0\n",
      "    }\n",
      "  }\n",
      "}\n"
     ]
    }
   ],
   "source": [
    "suspected_age_data_only_positive_trunc = {\n",
    "    k:v\n",
    "    for i, (k,v)\n",
    "    in enumerate(suspected_age_data_only_positive.items())\n",
    "    if len(v) > 1\n",
    "}\n",
    "print(f\"Suspected age data:\\n{json.dumps(suspected_age_data_only_positive_trunc, indent=2)}\")"
   ]
  },
  {
   "cell_type": "markdown",
   "id": "4363544c",
   "metadata": {},
   "source": [
    "There are now few enough entries that we can inspect these individually."
   ]
  },
  {
   "cell_type": "markdown",
   "id": "78e97112",
   "metadata": {},
   "source": [
    "Clearly, the suspected age data for _Young At Heart_ is not correct since the oldest horses that compete usually do not exceed 13 years old. A further look at all races with _Young At Heart_ reveal that there are two different horses with this name and systematic age data misinput for one of these horses. There is no corrective action we can take."
   ]
  },
  {
   "cell_type": "code",
   "execution_count": 25,
   "id": "9d2d943d",
   "metadata": {},
   "outputs": [
    {
     "data": {
      "text/html": [
       "<div>\n",
       "<style scoped>\n",
       "    .dataframe tbody tr th:only-of-type {\n",
       "        vertical-align: middle;\n",
       "    }\n",
       "\n",
       "    .dataframe tbody tr th {\n",
       "        vertical-align: top;\n",
       "    }\n",
       "\n",
       "    .dataframe thead th {\n",
       "        text-align: right;\n",
       "    }\n",
       "</style>\n",
       "<table border=\"1\" class=\"dataframe\">\n",
       "  <thead>\n",
       "    <tr style=\"text-align: right;\">\n",
       "      <th></th>\n",
       "      <th>rid</th>\n",
       "      <th>horseName</th>\n",
       "      <th>age</th>\n",
       "      <th>saddle</th>\n",
       "      <th>decimalPrice</th>\n",
       "      <th>trainerName</th>\n",
       "      <th>jockeyName</th>\n",
       "      <th>position</th>\n",
       "      <th>positionL</th>\n",
       "      <th>dist</th>\n",
       "      <th>outHandicap</th>\n",
       "      <th>RPR</th>\n",
       "      <th>TR</th>\n",
       "      <th>OR</th>\n",
       "      <th>father</th>\n",
       "      <th>mother</th>\n",
       "      <th>gfather</th>\n",
       "      <th>weight</th>\n",
       "    </tr>\n",
       "  </thead>\n",
       "  <tbody>\n",
       "    <tr>\n",
       "      <th>184591</th>\n",
       "      <td>241006</td>\n",
       "      <td>Young At Heart</td>\n",
       "      <td>5.0</td>\n",
       "      <td>9.0</td>\n",
       "      <td>0.047619</td>\n",
       "      <td>M J Haynes</td>\n",
       "      <td>D Skyrme</td>\n",
       "      <td>40</td>\n",
       "      <td>NaN</td>\n",
       "      <td>NaN</td>\n",
       "      <td>4.0</td>\n",
       "      <td>NaN</td>\n",
       "      <td>NaN</td>\n",
       "      <td>95.0</td>\n",
       "      <td>Classic Secret</td>\n",
       "      <td>Yenillik</td>\n",
       "      <td>Rusticaro</td>\n",
       "      <td>63</td>\n",
       "    </tr>\n",
       "    <tr>\n",
       "      <th>203556</th>\n",
       "      <td>394305</td>\n",
       "      <td>Young At Heart</td>\n",
       "      <td>3.0</td>\n",
       "      <td>0.0</td>\n",
       "      <td>0.111111</td>\n",
       "      <td>M J Haynes</td>\n",
       "      <td>John Reid</td>\n",
       "      <td>6</td>\n",
       "      <td>1</td>\n",
       "      <td>10.25</td>\n",
       "      <td>NaN</td>\n",
       "      <td>78.0</td>\n",
       "      <td>80.0</td>\n",
       "      <td>NaN</td>\n",
       "      <td>Classic Secret</td>\n",
       "      <td>Yenillik</td>\n",
       "      <td>Rusticaro</td>\n",
       "      <td>57</td>\n",
       "    </tr>\n",
       "    <tr>\n",
       "      <th>214636</th>\n",
       "      <td>173518</td>\n",
       "      <td>Young At Heart</td>\n",
       "      <td>3.0</td>\n",
       "      <td>0.0</td>\n",
       "      <td>0.090909</td>\n",
       "      <td>M J Haynes</td>\n",
       "      <td>Frankie Dettori</td>\n",
       "      <td>8</td>\n",
       "      <td>2</td>\n",
       "      <td>9.75</td>\n",
       "      <td>NaN</td>\n",
       "      <td>59.0</td>\n",
       "      <td>66.0</td>\n",
       "      <td>72.0</td>\n",
       "      <td>Classic Secret</td>\n",
       "      <td>Yenillik</td>\n",
       "      <td>Rusticaro</td>\n",
       "      <td>56</td>\n",
       "    </tr>\n",
       "    <tr>\n",
       "      <th>226155</th>\n",
       "      <td>12584</td>\n",
       "      <td>Young At Heart</td>\n",
       "      <td>3.0</td>\n",
       "      <td>0.0</td>\n",
       "      <td>0.111111</td>\n",
       "      <td>M J Haynes</td>\n",
       "      <td>Frankie Dettori</td>\n",
       "      <td>11</td>\n",
       "      <td>hd</td>\n",
       "      <td>10.5</td>\n",
       "      <td>NaN</td>\n",
       "      <td>54.0</td>\n",
       "      <td>54.0</td>\n",
       "      <td>70.0</td>\n",
       "      <td>Classic Secret</td>\n",
       "      <td>Yenillik</td>\n",
       "      <td>Rusticaro</td>\n",
       "      <td>53</td>\n",
       "    </tr>\n",
       "    <tr>\n",
       "      <th>228546</th>\n",
       "      <td>389071</td>\n",
       "      <td>Young At Heart</td>\n",
       "      <td>3.0</td>\n",
       "      <td>0.0</td>\n",
       "      <td>0.111111</td>\n",
       "      <td>M J Haynes</td>\n",
       "      <td>Pat Eddery</td>\n",
       "      <td>9</td>\n",
       "      <td>1.5</td>\n",
       "      <td>14.5</td>\n",
       "      <td>NaN</td>\n",
       "      <td>50.0</td>\n",
       "      <td>61.0</td>\n",
       "      <td>65.0</td>\n",
       "      <td>Classic Secret</td>\n",
       "      <td>Yenillik</td>\n",
       "      <td>Rusticaro</td>\n",
       "      <td>56</td>\n",
       "    </tr>\n",
       "    <tr>\n",
       "      <th>231625</th>\n",
       "      <td>25475</td>\n",
       "      <td>Young At Heart</td>\n",
       "      <td>3.0</td>\n",
       "      <td>0.0</td>\n",
       "      <td>0.111111</td>\n",
       "      <td>M J Haynes</td>\n",
       "      <td>John Reid</td>\n",
       "      <td>6</td>\n",
       "      <td>5</td>\n",
       "      <td>10.75</td>\n",
       "      <td>NaN</td>\n",
       "      <td>52.0</td>\n",
       "      <td>24.0</td>\n",
       "      <td>NaN</td>\n",
       "      <td>Classic Secret</td>\n",
       "      <td>Yenillik</td>\n",
       "      <td>Rusticaro</td>\n",
       "      <td>53</td>\n",
       "    </tr>\n",
       "    <tr>\n",
       "      <th>237678</th>\n",
       "      <td>6890</td>\n",
       "      <td>Young At Heart</td>\n",
       "      <td>3.0</td>\n",
       "      <td>0.0</td>\n",
       "      <td>0.058824</td>\n",
       "      <td>M J Haynes</td>\n",
       "      <td>Dominic Toole</td>\n",
       "      <td>6</td>\n",
       "      <td>20</td>\n",
       "      <td>29.5</td>\n",
       "      <td>NaN</td>\n",
       "      <td>NaN</td>\n",
       "      <td>5.0</td>\n",
       "      <td>57.0</td>\n",
       "      <td>Classic Secret</td>\n",
       "      <td>Yenillik</td>\n",
       "      <td>Rusticaro</td>\n",
       "      <td>57</td>\n",
       "    </tr>\n",
       "    <tr>\n",
       "      <th>242882</th>\n",
       "      <td>54353</td>\n",
       "      <td>Young At Heart</td>\n",
       "      <td>3.0</td>\n",
       "      <td>0.0</td>\n",
       "      <td>0.066667</td>\n",
       "      <td>M J Haynes</td>\n",
       "      <td>D Skyrme</td>\n",
       "      <td>1</td>\n",
       "      <td>NaN</td>\n",
       "      <td>NaN</td>\n",
       "      <td>NaN</td>\n",
       "      <td>91.0</td>\n",
       "      <td>70.0</td>\n",
       "      <td>NaN</td>\n",
       "      <td>Classic Secret</td>\n",
       "      <td>Yenillik</td>\n",
       "      <td>Rusticaro</td>\n",
       "      <td>68</td>\n",
       "    </tr>\n",
       "    <tr>\n",
       "      <th>683302</th>\n",
       "      <td>314548</td>\n",
       "      <td>Young At Heart</td>\n",
       "      <td>2.0</td>\n",
       "      <td>0.0</td>\n",
       "      <td>0.029412</td>\n",
       "      <td>M J Haynes</td>\n",
       "      <td>John Reid</td>\n",
       "      <td>8</td>\n",
       "      <td>4</td>\n",
       "      <td>17.5</td>\n",
       "      <td>NaN</td>\n",
       "      <td>NaN</td>\n",
       "      <td>44.0</td>\n",
       "      <td>NaN</td>\n",
       "      <td>Classic Secret</td>\n",
       "      <td>Yenillik</td>\n",
       "      <td>Rusticaro</td>\n",
       "      <td>57</td>\n",
       "    </tr>\n",
       "    <tr>\n",
       "      <th>686903</th>\n",
       "      <td>254015</td>\n",
       "      <td>Young At Heart</td>\n",
       "      <td>2.0</td>\n",
       "      <td>0.0</td>\n",
       "      <td>0.038462</td>\n",
       "      <td>M J Haynes</td>\n",
       "      <td>Gary Carter</td>\n",
       "      <td>5</td>\n",
       "      <td>2</td>\n",
       "      <td>6.25</td>\n",
       "      <td>NaN</td>\n",
       "      <td>70.0</td>\n",
       "      <td>72.0</td>\n",
       "      <td>NaN</td>\n",
       "      <td>Classic Secret</td>\n",
       "      <td>Yenillik</td>\n",
       "      <td>Rusticaro</td>\n",
       "      <td>57</td>\n",
       "    </tr>\n",
       "    <tr>\n",
       "      <th>695222</th>\n",
       "      <td>332615</td>\n",
       "      <td>Young At Heart</td>\n",
       "      <td>2.0</td>\n",
       "      <td>0.0</td>\n",
       "      <td>0.024390</td>\n",
       "      <td>M J Haynes</td>\n",
       "      <td>Ray Cochrane</td>\n",
       "      <td>2</td>\n",
       "      <td>4</td>\n",
       "      <td>NaN</td>\n",
       "      <td>NaN</td>\n",
       "      <td>88.0</td>\n",
       "      <td>68.0</td>\n",
       "      <td>NaN</td>\n",
       "      <td>Classic Secret</td>\n",
       "      <td>Yenillik</td>\n",
       "      <td>Rusticaro</td>\n",
       "      <td>55</td>\n",
       "    </tr>\n",
       "    <tr>\n",
       "      <th>711433</th>\n",
       "      <td>88107</td>\n",
       "      <td>Young At Heart</td>\n",
       "      <td>2.0</td>\n",
       "      <td>0.0</td>\n",
       "      <td>0.066667</td>\n",
       "      <td>M J Haynes</td>\n",
       "      <td>B Raymond</td>\n",
       "      <td>4</td>\n",
       "      <td>1</td>\n",
       "      <td>8.0</td>\n",
       "      <td>NaN</td>\n",
       "      <td>88.0</td>\n",
       "      <td>80.0</td>\n",
       "      <td>NaN</td>\n",
       "      <td>Classic Secret</td>\n",
       "      <td>Yenillik</td>\n",
       "      <td>Rusticaro</td>\n",
       "      <td>55</td>\n",
       "    </tr>\n",
       "    <tr>\n",
       "      <th>714943</th>\n",
       "      <td>188294</td>\n",
       "      <td>Young At Heart</td>\n",
       "      <td>2.0</td>\n",
       "      <td>0.0</td>\n",
       "      <td>0.047619</td>\n",
       "      <td>M J Haynes</td>\n",
       "      <td>Ray Cochrane</td>\n",
       "      <td>8</td>\n",
       "      <td>.5</td>\n",
       "      <td>8.0</td>\n",
       "      <td>NaN</td>\n",
       "      <td>84.0</td>\n",
       "      <td>64.0</td>\n",
       "      <td>NaN</td>\n",
       "      <td>Classic Secret</td>\n",
       "      <td>Yenillik</td>\n",
       "      <td>Rusticaro</td>\n",
       "      <td>55</td>\n",
       "    </tr>\n",
       "    <tr>\n",
       "      <th>1524501</th>\n",
       "      <td>303011</td>\n",
       "      <td>Young At Heart</td>\n",
       "      <td>-6.0</td>\n",
       "      <td>NaN</td>\n",
       "      <td>0.108696</td>\n",
       "      <td>Yasuhisa Matsuyama</td>\n",
       "      <td>Hiroki Goto</td>\n",
       "      <td>4</td>\n",
       "      <td>1.75</td>\n",
       "      <td>3.75</td>\n",
       "      <td>NaN</td>\n",
       "      <td>108.0</td>\n",
       "      <td>NaN</td>\n",
       "      <td>NaN</td>\n",
       "      <td>French Deputy</td>\n",
       "      <td>Nifty Heart</td>\n",
       "      <td>Sunday Silence</td>\n",
       "      <td>55</td>\n",
       "    </tr>\n",
       "    <tr>\n",
       "      <th>1538378</th>\n",
       "      <td>382835</td>\n",
       "      <td>Young At Heart</td>\n",
       "      <td>-6.0</td>\n",
       "      <td>NaN</td>\n",
       "      <td>0.031250</td>\n",
       "      <td>Yasuhisa Matsuyama</td>\n",
       "      <td>Hiroki Goto</td>\n",
       "      <td>14</td>\n",
       "      <td>2.5</td>\n",
       "      <td>22.75</td>\n",
       "      <td>NaN</td>\n",
       "      <td>79.0</td>\n",
       "      <td>NaN</td>\n",
       "      <td>NaN</td>\n",
       "      <td>French Deputy</td>\n",
       "      <td>Nifty Heart</td>\n",
       "      <td>Sunday Silence</td>\n",
       "      <td>55</td>\n",
       "    </tr>\n",
       "    <tr>\n",
       "      <th>2295751</th>\n",
       "      <td>250387</td>\n",
       "      <td>Young At Heart</td>\n",
       "      <td>-7.0</td>\n",
       "      <td>15.0</td>\n",
       "      <td>0.048309</td>\n",
       "      <td>Yasuhisa Matsuyama</td>\n",
       "      <td>Tetsuzo Sato</td>\n",
       "      <td>4</td>\n",
       "      <td>nk</td>\n",
       "      <td>2.0</td>\n",
       "      <td>NaN</td>\n",
       "      <td>103.0</td>\n",
       "      <td>NaN</td>\n",
       "      <td>NaN</td>\n",
       "      <td>French Deputy</td>\n",
       "      <td>Nifty Heart</td>\n",
       "      <td>Sunday Silence</td>\n",
       "      <td>54</td>\n",
       "    </tr>\n",
       "    <tr>\n",
       "      <th>2306979</th>\n",
       "      <td>201817</td>\n",
       "      <td>Young At Heart</td>\n",
       "      <td>-7.0</td>\n",
       "      <td>NaN</td>\n",
       "      <td>0.085470</td>\n",
       "      <td>Yasuhisa Matsuyama</td>\n",
       "      <td>Hiroki Goto</td>\n",
       "      <td>3</td>\n",
       "      <td>.5</td>\n",
       "      <td>.75</td>\n",
       "      <td>NaN</td>\n",
       "      <td>110.0</td>\n",
       "      <td>NaN</td>\n",
       "      <td>NaN</td>\n",
       "      <td>French Deputy</td>\n",
       "      <td>Nifty Heart</td>\n",
       "      <td>Sunday Silence</td>\n",
       "      <td>54</td>\n",
       "    </tr>\n",
       "    <tr>\n",
       "      <th>2350395</th>\n",
       "      <td>14908</td>\n",
       "      <td>Young At Heart</td>\n",
       "      <td>-7.0</td>\n",
       "      <td>3.0</td>\n",
       "      <td>0.147059</td>\n",
       "      <td>Yasuhisa Matsuyama</td>\n",
       "      <td>Shinji Fujita</td>\n",
       "      <td>10</td>\n",
       "      <td>.5</td>\n",
       "      <td>6.5</td>\n",
       "      <td>NaN</td>\n",
       "      <td>104.0</td>\n",
       "      <td>NaN</td>\n",
       "      <td>NaN</td>\n",
       "      <td>French Deputy</td>\n",
       "      <td>Nifty Heart</td>\n",
       "      <td>Sunday Silence</td>\n",
       "      <td>57</td>\n",
       "    </tr>\n",
       "    <tr>\n",
       "      <th>2396102</th>\n",
       "      <td>36674</td>\n",
       "      <td>Young At Heart</td>\n",
       "      <td>-7.0</td>\n",
       "      <td>NaN</td>\n",
       "      <td>0.039526</td>\n",
       "      <td>Yasuhisa Matsuyama</td>\n",
       "      <td>Tetsuzo Sato</td>\n",
       "      <td>14</td>\n",
       "      <td>.75</td>\n",
       "      <td>13.75</td>\n",
       "      <td>NaN</td>\n",
       "      <td>87.0</td>\n",
       "      <td>NaN</td>\n",
       "      <td>NaN</td>\n",
       "      <td>French Deputy</td>\n",
       "      <td>Nifty Heart</td>\n",
       "      <td>Sunday Silence</td>\n",
       "      <td>54</td>\n",
       "    </tr>\n",
       "    <tr>\n",
       "      <th>2400539</th>\n",
       "      <td>308265</td>\n",
       "      <td>Young At Heart</td>\n",
       "      <td>-7.0</td>\n",
       "      <td>NaN</td>\n",
       "      <td>0.069930</td>\n",
       "      <td>Yasuhisa Matsuyama</td>\n",
       "      <td>Hiroki Goto</td>\n",
       "      <td>9</td>\n",
       "      <td>.5</td>\n",
       "      <td>12.75</td>\n",
       "      <td>NaN</td>\n",
       "      <td>103.0</td>\n",
       "      <td>NaN</td>\n",
       "      <td>NaN</td>\n",
       "      <td>French Deputy</td>\n",
       "      <td>Nifty Heart</td>\n",
       "      <td>Sunday Silence</td>\n",
       "      <td>57</td>\n",
       "    </tr>\n",
       "  </tbody>\n",
       "</table>\n",
       "</div>"
      ],
      "text/plain": [
       "            rid       horseName  age  saddle  decimalPrice  \\\n",
       "184591   241006  Young At Heart  5.0     9.0      0.047619   \n",
       "203556   394305  Young At Heart  3.0     0.0      0.111111   \n",
       "214636   173518  Young At Heart  3.0     0.0      0.090909   \n",
       "226155    12584  Young At Heart  3.0     0.0      0.111111   \n",
       "228546   389071  Young At Heart  3.0     0.0      0.111111   \n",
       "231625    25475  Young At Heart  3.0     0.0      0.111111   \n",
       "237678     6890  Young At Heart  3.0     0.0      0.058824   \n",
       "242882    54353  Young At Heart  3.0     0.0      0.066667   \n",
       "683302   314548  Young At Heart  2.0     0.0      0.029412   \n",
       "686903   254015  Young At Heart  2.0     0.0      0.038462   \n",
       "695222   332615  Young At Heart  2.0     0.0      0.024390   \n",
       "711433    88107  Young At Heart  2.0     0.0      0.066667   \n",
       "714943   188294  Young At Heart  2.0     0.0      0.047619   \n",
       "1524501  303011  Young At Heart -6.0     NaN      0.108696   \n",
       "1538378  382835  Young At Heart -6.0     NaN      0.031250   \n",
       "2295751  250387  Young At Heart -7.0    15.0      0.048309   \n",
       "2306979  201817  Young At Heart -7.0     NaN      0.085470   \n",
       "2350395   14908  Young At Heart -7.0     3.0      0.147059   \n",
       "2396102   36674  Young At Heart -7.0     NaN      0.039526   \n",
       "2400539  308265  Young At Heart -7.0     NaN      0.069930   \n",
       "\n",
       "                trainerName       jockeyName  position positionL   dist  \\\n",
       "184591           M J Haynes         D Skyrme        40       NaN    NaN   \n",
       "203556           M J Haynes        John Reid         6         1  10.25   \n",
       "214636           M J Haynes  Frankie Dettori         8         2   9.75   \n",
       "226155           M J Haynes  Frankie Dettori        11        hd   10.5   \n",
       "228546           M J Haynes       Pat Eddery         9       1.5   14.5   \n",
       "231625           M J Haynes        John Reid         6         5  10.75   \n",
       "237678           M J Haynes    Dominic Toole         6        20   29.5   \n",
       "242882           M J Haynes         D Skyrme         1       NaN    NaN   \n",
       "683302           M J Haynes        John Reid         8         4   17.5   \n",
       "686903           M J Haynes      Gary Carter         5         2   6.25   \n",
       "695222           M J Haynes     Ray Cochrane         2         4    NaN   \n",
       "711433           M J Haynes        B Raymond         4         1    8.0   \n",
       "714943           M J Haynes     Ray Cochrane         8        .5    8.0   \n",
       "1524501  Yasuhisa Matsuyama      Hiroki Goto         4      1.75   3.75   \n",
       "1538378  Yasuhisa Matsuyama      Hiroki Goto        14       2.5  22.75   \n",
       "2295751  Yasuhisa Matsuyama     Tetsuzo Sato         4        nk    2.0   \n",
       "2306979  Yasuhisa Matsuyama      Hiroki Goto         3        .5    .75   \n",
       "2350395  Yasuhisa Matsuyama    Shinji Fujita        10        .5    6.5   \n",
       "2396102  Yasuhisa Matsuyama     Tetsuzo Sato        14       .75  13.75   \n",
       "2400539  Yasuhisa Matsuyama      Hiroki Goto         9        .5  12.75   \n",
       "\n",
       "         outHandicap    RPR    TR    OR          father       mother  \\\n",
       "184591           4.0    NaN   NaN  95.0  Classic Secret     Yenillik   \n",
       "203556           NaN   78.0  80.0   NaN  Classic Secret     Yenillik   \n",
       "214636           NaN   59.0  66.0  72.0  Classic Secret     Yenillik   \n",
       "226155           NaN   54.0  54.0  70.0  Classic Secret     Yenillik   \n",
       "228546           NaN   50.0  61.0  65.0  Classic Secret     Yenillik   \n",
       "231625           NaN   52.0  24.0   NaN  Classic Secret     Yenillik   \n",
       "237678           NaN    NaN   5.0  57.0  Classic Secret     Yenillik   \n",
       "242882           NaN   91.0  70.0   NaN  Classic Secret     Yenillik   \n",
       "683302           NaN    NaN  44.0   NaN  Classic Secret     Yenillik   \n",
       "686903           NaN   70.0  72.0   NaN  Classic Secret     Yenillik   \n",
       "695222           NaN   88.0  68.0   NaN  Classic Secret     Yenillik   \n",
       "711433           NaN   88.0  80.0   NaN  Classic Secret     Yenillik   \n",
       "714943           NaN   84.0  64.0   NaN  Classic Secret     Yenillik   \n",
       "1524501          NaN  108.0   NaN   NaN   French Deputy  Nifty Heart   \n",
       "1538378          NaN   79.0   NaN   NaN   French Deputy  Nifty Heart   \n",
       "2295751          NaN  103.0   NaN   NaN   French Deputy  Nifty Heart   \n",
       "2306979          NaN  110.0   NaN   NaN   French Deputy  Nifty Heart   \n",
       "2350395          NaN  104.0   NaN   NaN   French Deputy  Nifty Heart   \n",
       "2396102          NaN   87.0   NaN   NaN   French Deputy  Nifty Heart   \n",
       "2400539          NaN  103.0   NaN   NaN   French Deputy  Nifty Heart   \n",
       "\n",
       "                gfather  weight  \n",
       "184591        Rusticaro      63  \n",
       "203556        Rusticaro      57  \n",
       "214636        Rusticaro      56  \n",
       "226155        Rusticaro      53  \n",
       "228546        Rusticaro      56  \n",
       "231625        Rusticaro      53  \n",
       "237678        Rusticaro      57  \n",
       "242882        Rusticaro      68  \n",
       "683302        Rusticaro      57  \n",
       "686903        Rusticaro      57  \n",
       "695222        Rusticaro      55  \n",
       "711433        Rusticaro      55  \n",
       "714943        Rusticaro      55  \n",
       "1524501  Sunday Silence      55  \n",
       "1538378  Sunday Silence      55  \n",
       "2295751  Sunday Silence      54  \n",
       "2306979  Sunday Silence      54  \n",
       "2350395  Sunday Silence      57  \n",
       "2396102  Sunday Silence      54  \n",
       "2400539  Sunday Silence      57  "
      ]
     },
     "execution_count": 25,
     "metadata": {},
     "output_type": "execute_result"
    }
   ],
   "source": [
    "horses_all_trim_intxn_clean[horses_all_trim_intxn_clean['horseName'] == 'Young At Heart']"
   ]
  },
  {
   "cell_type": "markdown",
   "id": "72ce5666",
   "metadata": {},
   "source": [
    "We can however, manually correct _Gateado_ and _Don Gwarli_, which we do below."
   ]
  },
  {
   "cell_type": "code",
   "execution_count": 26,
   "id": "f46967e9",
   "metadata": {},
   "outputs": [],
   "source": [
    "# correct Gateado\n",
    "idx = horses_all_trim_intxn_clean.index[(horses_all_trim_intxn_clean['horseName'] == \"Gateado\") &\n",
    "                                        (horses_all_trim_intxn_clean['rid'] == 213732)][0]\n",
    "horses_all_trim_intxn_clean.at[idx, 'age'] = 2.0\n",
    "\n",
    "\n",
    "idx = horses_all_trim_intxn_clean.index[(horses_all_trim_intxn_clean['horseName'] == \"Gateado\") &\n",
    "                                        (horses_all_trim_intxn_clean['rid'] == 35588)][0]\n",
    "horses_all_trim_intxn_clean.at[idx, 'age'] = 2.0\n",
    "\n",
    "\n",
    "idx = horses_all_trim_intxn_clean.index[(horses_all_trim_intxn_clean['horseName'] == \"Gateado\") &\n",
    "                                        (horses_all_trim_intxn_clean['rid'] == 326168)][0]\n",
    "horses_all_trim_intxn_clean.at[idx, 'age'] = 2.0"
   ]
  },
  {
   "cell_type": "code",
   "execution_count": 27,
   "id": "f7972899",
   "metadata": {},
   "outputs": [],
   "source": [
    "# correct Don Gwarli\n",
    "idx = horses_all_trim_intxn_clean.index[(horses_all_trim_intxn_clean['horseName'] == \"Don Gwarli\") &\n",
    "                                        (horses_all_trim_intxn_clean['rid'] == 244303)][0]\n",
    "horses_all_trim_intxn_clean.at[idx, 'age'] = 2.0"
   ]
  },
  {
   "cell_type": "code",
   "execution_count": 28,
   "id": "a490f3a8",
   "metadata": {},
   "outputs": [],
   "source": [
    "# check that Gateado and Don Gwarli are OK\n",
    "assert len(horses_all_trim_intxn_clean[(horses_all_trim_intxn_clean['horseName'] == \"Gateado\") &\n",
    "                                       (horses_all_trim_intxn_clean['age'].isnull())]) == 0\n",
    "assert len(horses_all_trim_intxn_clean[(horses_all_trim_intxn_clean['horseName'] == \"Don Gwarli\") &\n",
    "                                       (horses_all_trim_intxn_clean['age'].isnull())]) == 0"
   ]
  },
  {
   "cell_type": "markdown",
   "id": "6ea6eba9",
   "metadata": {},
   "source": [
    "At this point in the code, we have correct all the missing and negative ages we could. So, we will remove whichever ones we could not correct."
   ]
  },
  {
   "cell_type": "code",
   "execution_count": 29,
   "id": "f687f604",
   "metadata": {
    "scrolled": false
   },
   "outputs": [],
   "source": [
    "# find all entries in df with bad age data\n",
    "entries_w_bad_age = horses_all_trim_intxn_clean[\n",
    "    horses_all_trim_intxn_clean['age'].isnull() |\n",
    "    (horses_all_trim_intxn_clean['age'] < 0)\n",
    "]"
   ]
  },
  {
   "cell_type": "code",
   "execution_count": 30,
   "id": "8f49a232",
   "metadata": {},
   "outputs": [
    {
     "data": {
      "text/plain": [
       "508"
      ]
     },
     "execution_count": 30,
     "metadata": {},
     "output_type": "execute_result"
    }
   ],
   "source": [
    "len(entries_w_bad_age)"
   ]
  },
  {
   "cell_type": "code",
   "execution_count": 31,
   "id": "5d6a6f83",
   "metadata": {},
   "outputs": [
    {
     "name": "stdout",
     "output_type": "stream",
     "text": [
      "old shape (395186, 11)\n",
      "new shape (394690, 11)\n"
     ]
    }
   ],
   "source": [
    "# drop all races where there is a horse without an age\n",
    "old_shape = races_all_trim_intxn_clean.shape\n",
    "print(f\"old shape {old_shape}\")\n",
    "\n",
    "races_all_trim_intxn_clean = races_all_trim_intxn_clean[\n",
    "                                 ~races_all_trim_intxn_clean['rid'].isin(entries_w_bad_age['rid'])\n",
    "                             ]\n",
    "\n",
    "new_shape = races_all_trim_intxn_clean.shape\n",
    "print(f\"new shape {new_shape}\")\n",
    "\n",
    "assert old_shape[0] - len(entries_w_bad_age['rid'].unique()) == new_shape[0]"
   ]
  },
  {
   "cell_type": "code",
   "execution_count": 32,
   "id": "2250c259",
   "metadata": {},
   "outputs": [
    {
     "name": "stdout",
     "output_type": "stream",
     "text": [
      "old shape (4107315, 18)\n",
      "new shape (4100741, 18)\n"
     ]
    }
   ],
   "source": [
    "# drop all horse entries that are part of a race where there is a horse without an age\n",
    "old_shape = horses_all_trim_intxn_clean.shape\n",
    "print(f\"old shape {old_shape}\")\n",
    "\n",
    "horses_all_trim_intxn_clean = horses_all_trim_intxn_clean[\n",
    "                                 ~horses_all_trim_intxn_clean['rid'].isin(entries_w_bad_age['rid'])\n",
    "                             ]\n",
    "\n",
    "new_shape = horses_all_trim_intxn_clean.shape\n",
    "print(f\"new shape {new_shape}\")"
   ]
  },
  {
   "cell_type": "code",
   "execution_count": 33,
   "id": "35aed43f",
   "metadata": {},
   "outputs": [],
   "source": [
    "# sanity checks\n",
    "assert set(horses_all_trim_intxn_clean['rid']).symmetric_difference(set(races_all_trim_intxn_clean['rid'])) == set()\n",
    "assert len(horses_all_trim_intxn_clean['rid'][\n",
    "    horses_all_trim_intxn_clean['age'].isnull() |\n",
    "    (horses_all_trim_intxn_clean['age'] < 0)\n",
    "]) == 0"
   ]
  },
  {
   "cell_type": "markdown",
   "id": "92bf1539",
   "metadata": {},
   "source": [
    "### `saddle`"
   ]
  },
  {
   "cell_type": "markdown",
   "id": "e0e0c99a",
   "metadata": {},
   "source": [
    "We similarly suspect `saddle` to be correlated with performance in horse races so we check to see if there is bad saddle data."
   ]
  },
  {
   "cell_type": "code",
   "execution_count": 34,
   "id": "0a6f46e8",
   "metadata": {},
   "outputs": [
    {
     "data": {
      "text/plain": [
       "546345"
      ]
     },
     "execution_count": 34,
     "metadata": {},
     "output_type": "execute_result"
    }
   ],
   "source": [
    "len(horses_all_trim_intxn_clean[horses_all_trim_intxn_clean['saddle'] == 0])"
   ]
  },
  {
   "cell_type": "code",
   "execution_count": 35,
   "id": "1d874717",
   "metadata": {},
   "outputs": [
    {
     "data": {
      "text/plain": [
       "0"
      ]
     },
     "execution_count": 35,
     "metadata": {},
     "output_type": "execute_result"
    }
   ],
   "source": [
    "len(horses_all_trim_intxn_clean[horses_all_trim_intxn_clean['saddle'] < 0])"
   ]
  },
  {
   "cell_type": "code",
   "execution_count": 36,
   "id": "90ee7ca5",
   "metadata": {},
   "outputs": [
    {
     "data": {
      "text/plain": [
       "178606"
      ]
     },
     "execution_count": 36,
     "metadata": {},
     "output_type": "execute_result"
    }
   ],
   "source": [
    "len(horses_all_trim_intxn_clean[horses_all_trim_intxn_clean['saddle'].isnull()])"
   ]
  },
  {
   "cell_type": "markdown",
   "id": "3170601d",
   "metadata": {},
   "source": [
    "Clearly, `saddle` data is missing from a substantial portion of the data. However, we start with a massive amount of data, which makes each truncation more permissible. For now, we will delete rows with bad saddle data. If we need to be less aggressive, we can always do so."
   ]
  },
  {
   "cell_type": "code",
   "execution_count": 37,
   "id": "1add95f6",
   "metadata": {},
   "outputs": [],
   "source": [
    "# find all entries in df with bad saddle data\n",
    "entries_w_bad_saddle = horses_all_trim_intxn_clean[\n",
    "    horses_all_trim_intxn_clean['saddle'].isnull() |\n",
    "    (horses_all_trim_intxn_clean['saddle'] == 0)\n",
    "]"
   ]
  },
  {
   "cell_type": "code",
   "execution_count": 38,
   "id": "62357545",
   "metadata": {},
   "outputs": [
    {
     "data": {
      "text/plain": [
       "724951"
      ]
     },
     "execution_count": 38,
     "metadata": {},
     "output_type": "execute_result"
    }
   ],
   "source": [
    "len(entries_w_bad_saddle['rid'])"
   ]
  },
  {
   "cell_type": "markdown",
   "id": "ec2428cf",
   "metadata": {},
   "source": [
    "We can try to correct races that have exactly one entry with bad `saddle` data."
   ]
  },
  {
   "cell_type": "code",
   "execution_count": 39,
   "id": "94904243",
   "metadata": {},
   "outputs": [],
   "source": [
    "rids_exactly_one_bad_saddle = []\n",
    "\n",
    "for k, v in entries_w_bad_saddle['rid'].value_counts().items():\n",
    "    if v == 1:\n",
    "        rids_exactly_one_bad_saddle.append(k)"
   ]
  },
  {
   "cell_type": "code",
   "execution_count": 40,
   "id": "fe795dad",
   "metadata": {},
   "outputs": [
    {
     "data": {
      "text/plain": [
       "44"
      ]
     },
     "execution_count": 40,
     "metadata": {},
     "output_type": "execute_result"
    }
   ],
   "source": [
    "len(rids_exactly_one_bad_saddle)"
   ]
  },
  {
   "cell_type": "code",
   "execution_count": 41,
   "id": "d530b433",
   "metadata": {
    "scrolled": false
   },
   "outputs": [],
   "source": [
    "# the existence of alternates who start at nonconsecutive saddle numbers\n",
    "# makes this a touch difficult, still cannot correct _all_ races with\n",
    "# exactly one bad saddle\n",
    "\n",
    "rids_have_alternate_saddle = []\n",
    "\n",
    "for rid in rids_exactly_one_bad_saddle:\n",
    "    saddle_nums = horses_all_trim_intxn_clean[\n",
    "        (horses_all_trim_intxn_clean['rid'] == rid) &\n",
    "        (horses_all_trim_intxn_clean['saddle'] > 0) &\n",
    "        (~horses_all_trim_intxn_clean['saddle'].isnull())\n",
    "    ]['saddle']\n",
    "    expected_sum = RID_TO_RUNNERS[rid] * (RID_TO_RUNNERS[rid] + 1) // 2\n",
    "    actual_sum = sum(saddle_nums)\n",
    "    missing_saddle = float(round(expected_sum - actual_sum))\n",
    "    \n",
    "    if missing_saddle > 0:\n",
    "        \n",
    "        idx = horses_all_trim_intxn_clean.index[(horses_all_trim_intxn_clean['rid'] == rid) &\n",
    "                                                ((horses_all_trim_intxn_clean['saddle'] == 0) |\n",
    "                                                (horses_all_trim_intxn_clean['saddle'].isnull()))][0]\n",
    "        horses_all_trim_intxn_clean.at[idx, 'saddle'] = missing_saddle\n",
    "        \n",
    "    else:\n",
    "        rids_have_alternate_saddle.append(rid)"
   ]
  },
  {
   "cell_type": "code",
   "execution_count": 42,
   "id": "e3095d75",
   "metadata": {},
   "outputs": [
    {
     "data": {
      "text/plain": [
       "7"
      ]
     },
     "execution_count": 42,
     "metadata": {},
     "output_type": "execute_result"
    }
   ],
   "source": [
    "len(rids_have_alternate_saddle)"
   ]
  },
  {
   "cell_type": "code",
   "execution_count": 43,
   "id": "ab48dd5d",
   "metadata": {},
   "outputs": [],
   "source": [
    "entries_w_bad_saddle = horses_all_trim_intxn_clean[\n",
    "    horses_all_trim_intxn_clean['saddle'].isnull() |\n",
    "    (horses_all_trim_intxn_clean['saddle'] == 0)  \n",
    "]"
   ]
  },
  {
   "cell_type": "code",
   "execution_count": 44,
   "id": "d85feecf",
   "metadata": {},
   "outputs": [
    {
     "data": {
      "text/plain": [
       "724914"
      ]
     },
     "execution_count": 44,
     "metadata": {},
     "output_type": "execute_result"
    }
   ],
   "source": [
    "len(entries_w_bad_saddle)"
   ]
  },
  {
   "cell_type": "code",
   "execution_count": 45,
   "id": "fc304c03",
   "metadata": {},
   "outputs": [],
   "source": [
    "rids_exactly_one_bad_saddle = []\n",
    "\n",
    "for k, v in entries_w_bad_saddle['rid'].value_counts().items():\n",
    "    if v == 1:\n",
    "        rids_exactly_one_bad_saddle.append(k)\n",
    "        \n",
    "assert len(rids_exactly_one_bad_saddle) == len(rids_have_alternate_saddle)"
   ]
  },
  {
   "cell_type": "markdown",
   "id": "92d1781d",
   "metadata": {},
   "source": [
    "At this point, we have corrected all that we can hope to correct in terms of `saddle`. Accordingly, let's drop all those races which cannot be corrected."
   ]
  },
  {
   "cell_type": "code",
   "execution_count": 46,
   "id": "8cdd5195",
   "metadata": {},
   "outputs": [],
   "source": [
    "entries_w_bad_saddle = horses_all_trim_intxn_clean[\n",
    "    horses_all_trim_intxn_clean['saddle'].isnull() |\n",
    "    (horses_all_trim_intxn_clean['saddle'] == 0)  \n",
    "]"
   ]
  },
  {
   "cell_type": "code",
   "execution_count": 47,
   "id": "2a3bf8c6",
   "metadata": {},
   "outputs": [
    {
     "data": {
      "text/plain": [
       "724914"
      ]
     },
     "execution_count": 47,
     "metadata": {},
     "output_type": "execute_result"
    }
   ],
   "source": [
    "len(entries_w_bad_saddle)"
   ]
  },
  {
   "cell_type": "code",
   "execution_count": 48,
   "id": "0407212d",
   "metadata": {},
   "outputs": [
    {
     "name": "stdout",
     "output_type": "stream",
     "text": [
      "old shape (394690, 11)\n",
      "new shape (322776, 11)\n"
     ]
    }
   ],
   "source": [
    "# drop all races where there is a horse without a saddle\n",
    "old_shape = races_all_trim_intxn_clean.shape\n",
    "print(f\"old shape {old_shape}\")\n",
    "\n",
    "races_all_trim_intxn_clean = races_all_trim_intxn_clean[\n",
    "                                 ~races_all_trim_intxn_clean['rid'].isin(entries_w_bad_saddle['rid'])\n",
    "                             ]\n",
    "\n",
    "new_shape = races_all_trim_intxn_clean.shape\n",
    "print(f\"new shape {new_shape}\")\n",
    "\n",
    "assert old_shape[0] - len(entries_w_bad_saddle['rid'].unique()) == new_shape[0]"
   ]
  },
  {
   "cell_type": "code",
   "execution_count": 49,
   "id": "c531a4c8",
   "metadata": {},
   "outputs": [
    {
     "name": "stdout",
     "output_type": "stream",
     "text": [
      "old shape (4100741, 18)\n",
      "new shape (3375555, 18)\n"
     ]
    }
   ],
   "source": [
    "# drop all horse entries that are part of a race where there is a horse without a saddle\n",
    "old_shape = horses_all_trim_intxn_clean.shape\n",
    "print(f\"old shape {old_shape}\")\n",
    "\n",
    "horses_all_trim_intxn_clean = horses_all_trim_intxn_clean[\n",
    "                                 ~horses_all_trim_intxn_clean['rid'].isin(entries_w_bad_saddle['rid'])\n",
    "                             ]\n",
    "\n",
    "new_shape = horses_all_trim_intxn_clean.shape\n",
    "print(f\"new shape {new_shape}\")"
   ]
  },
  {
   "cell_type": "code",
   "execution_count": 50,
   "id": "9516e9bd",
   "metadata": {},
   "outputs": [],
   "source": [
    "# sanity checks\n",
    "assert set(horses_all_trim_intxn_clean['rid']).symmetric_difference(set(races_all_trim_intxn_clean['rid'])) == set()\n",
    "assert len(horses_all_trim_intxn_clean['rid'][\n",
    "    horses_all_trim_intxn_clean['saddle'].isnull() |\n",
    "    (horses_all_trim_intxn_clean['saddle'] == 0)\n",
    "]) == 0"
   ]
  },
  {
   "cell_type": "markdown",
   "id": "2b3c7b0b",
   "metadata": {},
   "source": [
    "In case we need to be less aggressive. One theory we can have about the data is that when a `saddle` number is bad, _all `saddle` numbers within that race are bad_. If this were the case, then we can simply replace these with `saddle = 0` (or some other preset value). Let's test this theory:"
   ]
  },
  {
   "cell_type": "code",
   "execution_count": 51,
   "id": "d386b58c",
   "metadata": {},
   "outputs": [
    {
     "data": {
      "text/plain": [
       "71914"
      ]
     },
     "execution_count": 51,
     "metadata": {},
     "output_type": "execute_result"
    }
   ],
   "source": [
    "len(entries_w_bad_saddle['rid'].unique())"
   ]
  },
  {
   "cell_type": "code",
   "execution_count": 52,
   "id": "5de14730",
   "metadata": {
    "scrolled": true
   },
   "outputs": [],
   "source": [
    "rids_some_saddle_some_not = []\n",
    "\n",
    "for k, v in entries_w_bad_saddle['rid'].value_counts().items():\n",
    "    try:\n",
    "        assert v == RID_TO_RUNNERS[k]\n",
    "    except AssertionError:\n",
    "        rids_some_saddle_some_not.append(k)"
   ]
  },
  {
   "cell_type": "code",
   "execution_count": 53,
   "id": "5dcf778a",
   "metadata": {},
   "outputs": [
    {
     "data": {
      "text/plain": [
       "58"
      ]
     },
     "execution_count": 53,
     "metadata": {},
     "output_type": "execute_result"
    }
   ],
   "source": [
    "len(rids_some_saddle_some_not)"
   ]
  },
  {
   "cell_type": "markdown",
   "id": "d93682ba",
   "metadata": {},
   "source": [
    "### `position`"
   ]
  },
  {
   "cell_type": "markdown",
   "id": "917a0aac",
   "metadata": {},
   "source": [
    "Through other exploratory data analysis, we have found that there are rows where `position = 0`. We will try to understand this better."
   ]
  },
  {
   "cell_type": "code",
   "execution_count": 54,
   "id": "500da1d4",
   "metadata": {
    "scrolled": false
   },
   "outputs": [
    {
     "data": {
      "text/plain": [
       "0"
      ]
     },
     "execution_count": 54,
     "metadata": {},
     "output_type": "execute_result"
    }
   ],
   "source": [
    "len(horses_all_trim_intxn_clean[\n",
    "    horses_all_trim_intxn_clean['position'].isnull()\n",
    "])"
   ]
  },
  {
   "cell_type": "code",
   "execution_count": 55,
   "id": "3d79e24d",
   "metadata": {},
   "outputs": [
    {
     "data": {
      "text/plain": [
       "0"
      ]
     },
     "execution_count": 55,
     "metadata": {},
     "output_type": "execute_result"
    }
   ],
   "source": [
    "len(horses_all_trim_intxn_clean[\n",
    "    horses_all_trim_intxn_clean['position'] < 0\n",
    "])"
   ]
  },
  {
   "cell_type": "code",
   "execution_count": 56,
   "id": "22b2e264",
   "metadata": {
    "scrolled": true
   },
   "outputs": [
    {
     "data": {
      "text/html": [
       "<div>\n",
       "<style scoped>\n",
       "    .dataframe tbody tr th:only-of-type {\n",
       "        vertical-align: middle;\n",
       "    }\n",
       "\n",
       "    .dataframe tbody tr th {\n",
       "        vertical-align: top;\n",
       "    }\n",
       "\n",
       "    .dataframe thead th {\n",
       "        text-align: right;\n",
       "    }\n",
       "</style>\n",
       "<table border=\"1\" class=\"dataframe\">\n",
       "  <thead>\n",
       "    <tr style=\"text-align: right;\">\n",
       "      <th></th>\n",
       "      <th>rid</th>\n",
       "      <th>horseName</th>\n",
       "      <th>age</th>\n",
       "      <th>saddle</th>\n",
       "      <th>decimalPrice</th>\n",
       "      <th>trainerName</th>\n",
       "      <th>jockeyName</th>\n",
       "      <th>position</th>\n",
       "      <th>positionL</th>\n",
       "      <th>dist</th>\n",
       "      <th>outHandicap</th>\n",
       "      <th>RPR</th>\n",
       "      <th>TR</th>\n",
       "      <th>OR</th>\n",
       "      <th>father</th>\n",
       "      <th>mother</th>\n",
       "      <th>gfather</th>\n",
       "      <th>weight</th>\n",
       "    </tr>\n",
       "  </thead>\n",
       "  <tbody>\n",
       "    <tr>\n",
       "      <th>1521633</th>\n",
       "      <td>290934</td>\n",
       "      <td>Pont A Marcq</td>\n",
       "      <td>3.0</td>\n",
       "      <td>10.0</td>\n",
       "      <td>0.010309</td>\n",
       "      <td>J Heloury</td>\n",
       "      <td>Matthieu Autier</td>\n",
       "      <td>0</td>\n",
       "      <td>NaN</td>\n",
       "      <td>NaN</td>\n",
       "      <td>NaN</td>\n",
       "      <td>NaN</td>\n",
       "      <td>NaN</td>\n",
       "      <td>NaN</td>\n",
       "      <td>Russian Blue</td>\n",
       "      <td>Pausanias</td>\n",
       "      <td>Gold Away</td>\n",
       "      <td>54</td>\n",
       "    </tr>\n",
       "    <tr>\n",
       "      <th>1521634</th>\n",
       "      <td>290934</td>\n",
       "      <td>Askell Gwen</td>\n",
       "      <td>3.0</td>\n",
       "      <td>14.0</td>\n",
       "      <td>0.013514</td>\n",
       "      <td>G Collet</td>\n",
       "      <td>Nicolas Larenaudie</td>\n",
       "      <td>0</td>\n",
       "      <td>NaN</td>\n",
       "      <td>NaN</td>\n",
       "      <td>NaN</td>\n",
       "      <td>NaN</td>\n",
       "      <td>NaN</td>\n",
       "      <td>NaN</td>\n",
       "      <td>Sandwaki</td>\n",
       "      <td>Dolly Wice</td>\n",
       "      <td>Dolpour</td>\n",
       "      <td>50</td>\n",
       "    </tr>\n",
       "    <tr>\n",
       "      <th>1521635</th>\n",
       "      <td>290934</td>\n",
       "      <td>Pasco</td>\n",
       "      <td>3.0</td>\n",
       "      <td>4.0</td>\n",
       "      <td>0.031250</td>\n",
       "      <td>F Vermeulen</td>\n",
       "      <td>Cesar Passerat</td>\n",
       "      <td>0</td>\n",
       "      <td>NaN</td>\n",
       "      <td>NaN</td>\n",
       "      <td>NaN</td>\n",
       "      <td>NaN</td>\n",
       "      <td>NaN</td>\n",
       "      <td>NaN</td>\n",
       "      <td>Kavafi</td>\n",
       "      <td>Pekkouqui</td>\n",
       "      <td>Doyoun</td>\n",
       "      <td>55</td>\n",
       "    </tr>\n",
       "    <tr>\n",
       "      <th>1521636</th>\n",
       "      <td>290934</td>\n",
       "      <td>Light Opera</td>\n",
       "      <td>3.0</td>\n",
       "      <td>6.0</td>\n",
       "      <td>0.071429</td>\n",
       "      <td>Daniel Rabhi</td>\n",
       "      <td>Stephane Richardot</td>\n",
       "      <td>0</td>\n",
       "      <td>NaN</td>\n",
       "      <td>NaN</td>\n",
       "      <td>NaN</td>\n",
       "      <td>NaN</td>\n",
       "      <td>NaN</td>\n",
       "      <td>NaN</td>\n",
       "      <td>Dubai Destination</td>\n",
       "      <td>Polite Reply</td>\n",
       "      <td>With Approval</td>\n",
       "      <td>56</td>\n",
       "    </tr>\n",
       "    <tr>\n",
       "      <th>1521637</th>\n",
       "      <td>290934</td>\n",
       "      <td>Zatkova</td>\n",
       "      <td>3.0</td>\n",
       "      <td>16.0</td>\n",
       "      <td>0.038462</td>\n",
       "      <td>L Racco</td>\n",
       "      <td>Thierry Thulliez</td>\n",
       "      <td>0</td>\n",
       "      <td>NaN</td>\n",
       "      <td>NaN</td>\n",
       "      <td>NaN</td>\n",
       "      <td>NaN</td>\n",
       "      <td>NaN</td>\n",
       "      <td>NaN</td>\n",
       "      <td>Ekraar</td>\n",
       "      <td>Zabetta</td>\n",
       "      <td>Zamindar</td>\n",
       "      <td>54</td>\n",
       "    </tr>\n",
       "  </tbody>\n",
       "</table>\n",
       "</div>"
      ],
      "text/plain": [
       "            rid     horseName  age  saddle  decimalPrice   trainerName  \\\n",
       "1521633  290934  Pont A Marcq  3.0    10.0      0.010309     J Heloury   \n",
       "1521634  290934   Askell Gwen  3.0    14.0      0.013514      G Collet   \n",
       "1521635  290934         Pasco  3.0     4.0      0.031250   F Vermeulen   \n",
       "1521636  290934   Light Opera  3.0     6.0      0.071429  Daniel Rabhi   \n",
       "1521637  290934       Zatkova  3.0    16.0      0.038462       L Racco   \n",
       "\n",
       "                 jockeyName  position positionL dist  outHandicap  RPR  TR  \\\n",
       "1521633     Matthieu Autier         0       NaN  NaN          NaN  NaN NaN   \n",
       "1521634  Nicolas Larenaudie         0       NaN  NaN          NaN  NaN NaN   \n",
       "1521635      Cesar Passerat         0       NaN  NaN          NaN  NaN NaN   \n",
       "1521636  Stephane Richardot         0       NaN  NaN          NaN  NaN NaN   \n",
       "1521637    Thierry Thulliez         0       NaN  NaN          NaN  NaN NaN   \n",
       "\n",
       "         OR             father        mother        gfather  weight  \n",
       "1521633 NaN       Russian Blue     Pausanias      Gold Away      54  \n",
       "1521634 NaN           Sandwaki    Dolly Wice        Dolpour      50  \n",
       "1521635 NaN             Kavafi     Pekkouqui         Doyoun      55  \n",
       "1521636 NaN  Dubai Destination  Polite Reply  With Approval      56  \n",
       "1521637 NaN             Ekraar       Zabetta       Zamindar      54  "
      ]
     },
     "execution_count": 56,
     "metadata": {},
     "output_type": "execute_result"
    }
   ],
   "source": [
    "horses_zero_position = horses_all_trim_intxn_clean[\n",
    "    horses_all_trim_intxn_clean['position'] == 0\n",
    "]\n",
    "horses_zero_position.head()"
   ]
  },
  {
   "cell_type": "code",
   "execution_count": 57,
   "id": "225ce3cc",
   "metadata": {},
   "outputs": [],
   "source": [
    "for column in ['positionL', 'dist', 'outHandicap', 'RPR', 'TR', 'OR']:\n",
    "    arr = horses_zero_position[column].unique()\n",
    "    assert len(arr) == 1 and math.isnan(arr[0])"
   ]
  },
  {
   "cell_type": "markdown",
   "id": "4fa1549c",
   "metadata": {},
   "source": [
    "Entries where `position = 0` curiously have _several other fields with `NaN`_. This occurs without fail. Therefore, we conclude that these must be alternates who were on standby but never ended up running in the race. Before we remove these entries, let's make sure that for any race with alternates there is at least one runner."
   ]
  },
  {
   "cell_type": "code",
   "execution_count": 58,
   "id": "938dba63",
   "metadata": {},
   "outputs": [],
   "source": [
    "horses_nonzero_position = horses_all_trim_intxn_clean[\n",
    "    ~ (horses_all_trim_intxn_clean['position'] == 0)\n",
    "]\n",
    "\n",
    "assert len(np.intersect1d(horses_nonzero_position['rid'], horses_zero_position['rid'])) == \\\n",
    "       len(horses_zero_position['rid'].unique())"
   ]
  },
  {
   "cell_type": "markdown",
   "id": "061ff390",
   "metadata": {},
   "source": [
    "All races would still have at least one entry even after removing alternates, we may proceed."
   ]
  },
  {
   "cell_type": "code",
   "execution_count": 59,
   "id": "c38d23b0",
   "metadata": {},
   "outputs": [
    {
     "name": "stdout",
     "output_type": "stream",
     "text": [
      "old shape (3375555, 18)\n",
      "new shape (3374991, 18)\n"
     ]
    }
   ],
   "source": [
    "# drop all horse entries that have `position = 0`\n",
    "old_shape = horses_all_trim_intxn_clean.shape\n",
    "print(f\"old shape {old_shape}\")\n",
    "\n",
    "horses_all_trim_intxn_clean = horses_all_trim_intxn_clean[\n",
    "                                 ~ (horses_all_trim_intxn_clean['position'] == 0)\n",
    "                             ]\n",
    "\n",
    "new_shape = horses_all_trim_intxn_clean.shape\n",
    "print(f\"new shape {new_shape}\")"
   ]
  },
  {
   "cell_type": "code",
   "execution_count": 60,
   "id": "45ed357d",
   "metadata": {},
   "outputs": [],
   "source": [
    "# sanity checks\n",
    "assert set(horses_all_trim_intxn_clean['rid']).symmetric_difference(set(races_all_trim_intxn_clean['rid'])) == set()\n",
    "assert len(horses_all_trim_intxn_clean['rid'][\n",
    "    horses_all_trim_intxn_clean['position'].isnull() |\n",
    "    (horses_all_trim_intxn_clean['position'] == 0)\n",
    "]) == 0"
   ]
  },
  {
   "cell_type": "markdown",
   "id": "11709ea1",
   "metadata": {},
   "source": [
    "### `positionL`"
   ]
  },
  {
   "cell_type": "markdown",
   "id": "2a59efe7",
   "metadata": {},
   "source": [
    "`positionL` will be important because we will use `positionL` and `dist` as proxies for the finishing time of a horse in place of actual finishing times (which are only provided for the winner of each race). Note, we expect that horses with `position = 1` or `position = 40` have `positionL = NaN` due to the nature of this variable. These can be corrected easily and so are not bad entries."
   ]
  },
  {
   "cell_type": "code",
   "execution_count": 61,
   "id": "c8c33091",
   "metadata": {},
   "outputs": [
    {
     "data": {
      "text/plain": [
       "8286"
      ]
     },
     "execution_count": 61,
     "metadata": {},
     "output_type": "execute_result"
    }
   ],
   "source": [
    "entries_w_nan_positionL = horses_all_trim_intxn_clean[\n",
    "    horses_all_trim_intxn_clean['positionL'].isnull() &\n",
    "    (~horses_all_trim_intxn_clean['position'].isin([1,40]))\n",
    "]\n",
    "len(entries_w_nan_positionL)"
   ]
  },
  {
   "cell_type": "code",
   "execution_count": 62,
   "id": "6e50f171",
   "metadata": {},
   "outputs": [
    {
     "data": {
      "text/plain": [
       "2646"
      ]
     },
     "execution_count": 62,
     "metadata": {},
     "output_type": "execute_result"
    }
   ],
   "source": [
    "len(entries_w_nan_positionL['rid'].unique())"
   ]
  },
  {
   "cell_type": "markdown",
   "id": "696f94cf",
   "metadata": {},
   "source": [
    "Since there is no way to correct `positionL = NaN` without inferring it to be `positionL = 0` (where this might introduce bias that makes it appear like horses are closer than they actually are), we are forced to drop these entries and their respective races."
   ]
  },
  {
   "cell_type": "code",
   "execution_count": 63,
   "id": "d23c6bca",
   "metadata": {},
   "outputs": [
    {
     "name": "stdout",
     "output_type": "stream",
     "text": [
      "old shape (322776, 11)\n",
      "new shape (320130, 11)\n"
     ]
    }
   ],
   "source": [
    "# drop all races where there is a horse without a positionL\n",
    "old_shape = races_all_trim_intxn_clean.shape\n",
    "print(f\"old shape {old_shape}\")\n",
    "\n",
    "races_all_trim_intxn_clean = races_all_trim_intxn_clean[\n",
    "                                 ~races_all_trim_intxn_clean['rid'].isin(entries_w_nan_positionL['rid'])\n",
    "                             ]\n",
    "\n",
    "new_shape = races_all_trim_intxn_clean.shape\n",
    "print(f\"new shape {new_shape}\")\n",
    "\n",
    "assert old_shape[0] - len(entries_w_nan_positionL['rid'].unique()) == new_shape[0]"
   ]
  },
  {
   "cell_type": "code",
   "execution_count": 64,
   "id": "d98ca67d",
   "metadata": {},
   "outputs": [
    {
     "name": "stdout",
     "output_type": "stream",
     "text": [
      "old shape (3374991, 18)\n",
      "new shape (3339586, 18)\n"
     ]
    }
   ],
   "source": [
    "# drop all horse entries that are part of a race where there is a horse without a positionL\n",
    "old_shape = horses_all_trim_intxn_clean.shape\n",
    "print(f\"old shape {old_shape}\")\n",
    "\n",
    "horses_all_trim_intxn_clean = horses_all_trim_intxn_clean[\n",
    "                                 ~horses_all_trim_intxn_clean['rid'].isin(entries_w_nan_positionL['rid'])\n",
    "                             ]\n",
    "\n",
    "new_shape = horses_all_trim_intxn_clean.shape\n",
    "print(f\"new shape {new_shape}\")"
   ]
  },
  {
   "cell_type": "code",
   "execution_count": 65,
   "id": "0587eb5a",
   "metadata": {},
   "outputs": [],
   "source": [
    "# sanity checks\n",
    "assert set(horses_all_trim_intxn_clean['rid']).symmetric_difference(set(races_all_trim_intxn_clean['rid'])) == set()\n",
    "assert len(horses_all_trim_intxn_clean['rid'][\n",
    "    horses_all_trim_intxn_clean['positionL'].isnull() &\n",
    "    (~horses_all_trim_intxn_clean['position'].isin([1,40]))\n",
    "]) == 0"
   ]
  },
  {
   "cell_type": "markdown",
   "id": "f89a0cb6",
   "metadata": {},
   "source": [
    "As for the entries where `positionL = NaN` and `position = 1` or `position = 40`, we will leave `positionL = NaN` in these entries; we will eventually be dropping the `positionL` column in favor of the `dist` column anyways, and will calculate the `dist` of a nonfinishing horse via a different means that handles the existence of `positionL = NaN`."
   ]
  },
  {
   "cell_type": "markdown",
   "id": "db7b26a9",
   "metadata": {},
   "source": [
    "### `dist`"
   ]
  },
  {
   "cell_type": "markdown",
   "id": "f1448493",
   "metadata": {},
   "source": [
    "`dist` is important because it measures the distance to a winner. By inspection of the dataset, there is currently no value for `dist` for horses which place or do not finish the race. Let's confirm that these are the only places where `dist` is missing. If so, then we can easily infer meaningful values for these entries (e.g. a horse placing first has `dist = 0`)."
   ]
  },
  {
   "cell_type": "markdown",
   "id": "e0cf2984",
   "metadata": {},
   "source": [
    "Note that in the original dataset, the meaning of `dist` is distance to a winner (including a horse that placed). Instead, we will use `dist` to be the distance to a horse that finishes first in a race. This is much easier to reason about, both from our perspective and a model's perspective."
   ]
  },
  {
   "cell_type": "markdown",
   "id": "eed0c616",
   "metadata": {},
   "source": [
    "Before we can deal with null values, we first have to deal with a few weird cases where there is a string in this column, where this column is only supposed to contain numerical data. Looks like these are the remnants of failed conversion from length specifier to distance."
   ]
  },
  {
   "cell_type": "code",
   "execution_count": 66,
   "id": "67a1eb04",
   "metadata": {},
   "outputs": [
    {
     "data": {
      "text/plain": [
       "['hd', 'nk', 'snk', 'sht-hd', 'nse']"
      ]
     },
     "execution_count": 66,
     "metadata": {},
     "output_type": "execute_result"
    }
   ],
   "source": [
    "non_numerical_dist = []\n",
    "\n",
    "for dist in horses_all_trim_intxn_clean['dist'].unique():\n",
    "    try:\n",
    "        float(dist)\n",
    "    except:\n",
    "        non_numerical_dist.append(dist)\n",
    "        \n",
    "non_numerical_dist"
   ]
  },
  {
   "cell_type": "code",
   "execution_count": 67,
   "id": "1d5ee41b",
   "metadata": {},
   "outputs": [
    {
     "data": {
      "text/html": [
       "<div>\n",
       "<style scoped>\n",
       "    .dataframe tbody tr th:only-of-type {\n",
       "        vertical-align: middle;\n",
       "    }\n",
       "\n",
       "    .dataframe tbody tr th {\n",
       "        vertical-align: top;\n",
       "    }\n",
       "\n",
       "    .dataframe thead th {\n",
       "        text-align: right;\n",
       "    }\n",
       "</style>\n",
       "<table border=\"1\" class=\"dataframe\">\n",
       "  <thead>\n",
       "    <tr style=\"text-align: right;\">\n",
       "      <th></th>\n",
       "      <th>rid</th>\n",
       "      <th>horseName</th>\n",
       "      <th>age</th>\n",
       "      <th>saddle</th>\n",
       "      <th>decimalPrice</th>\n",
       "      <th>trainerName</th>\n",
       "      <th>jockeyName</th>\n",
       "      <th>position</th>\n",
       "      <th>positionL</th>\n",
       "      <th>dist</th>\n",
       "      <th>outHandicap</th>\n",
       "      <th>RPR</th>\n",
       "      <th>TR</th>\n",
       "      <th>OR</th>\n",
       "      <th>father</th>\n",
       "      <th>mother</th>\n",
       "      <th>gfather</th>\n",
       "      <th>weight</th>\n",
       "    </tr>\n",
       "  </thead>\n",
       "  <tbody>\n",
       "    <tr>\n",
       "      <th>14492</th>\n",
       "      <td>84848</td>\n",
       "      <td>Jendorcet</td>\n",
       "      <td>7.0</td>\n",
       "      <td>13.0</td>\n",
       "      <td>0.058824</td>\n",
       "      <td>Chris Fairhurst</td>\n",
       "      <td>J Callaghan</td>\n",
       "      <td>3</td>\n",
       "      <td>shd</td>\n",
       "      <td>hd</td>\n",
       "      <td>NaN</td>\n",
       "      <td>76.0</td>\n",
       "      <td>NaN</td>\n",
       "      <td>75.0</td>\n",
       "      <td>Grey Ghost I</td>\n",
       "      <td>Jendor</td>\n",
       "      <td>Condorcet</td>\n",
       "      <td>63</td>\n",
       "    </tr>\n",
       "    <tr>\n",
       "      <th>14726</th>\n",
       "      <td>109134</td>\n",
       "      <td>Castle Sweep</td>\n",
       "      <td>6.0</td>\n",
       "      <td>1.0</td>\n",
       "      <td>0.066667</td>\n",
       "      <td>D Nicholson</td>\n",
       "      <td>Richard Johnson</td>\n",
       "      <td>3</td>\n",
       "      <td>hd</td>\n",
       "      <td>nk</td>\n",
       "      <td>NaN</td>\n",
       "      <td>157.0</td>\n",
       "      <td>147.0</td>\n",
       "      <td>155.0</td>\n",
       "      <td>Castle Keep</td>\n",
       "      <td>Fairy Shot</td>\n",
       "      <td>Random Shot</td>\n",
       "      <td>76</td>\n",
       "    </tr>\n",
       "    <tr>\n",
       "      <th>21261</th>\n",
       "      <td>82154</td>\n",
       "      <td>Silent Miracle</td>\n",
       "      <td>3.0</td>\n",
       "      <td>6.0</td>\n",
       "      <td>0.500000</td>\n",
       "      <td>Michael Bell</td>\n",
       "      <td>Micky Fenton</td>\n",
       "      <td>3</td>\n",
       "      <td>shd</td>\n",
       "      <td>hd</td>\n",
       "      <td>NaN</td>\n",
       "      <td>69.0</td>\n",
       "      <td>30.0</td>\n",
       "      <td>NaN</td>\n",
       "      <td>Night Shift</td>\n",
       "      <td>Curie Point</td>\n",
       "      <td>Sharpen Up</td>\n",
       "      <td>55</td>\n",
       "    </tr>\n",
       "    <tr>\n",
       "      <th>21456</th>\n",
       "      <td>179365</td>\n",
       "      <td>Petoskin</td>\n",
       "      <td>5.0</td>\n",
       "      <td>4.0</td>\n",
       "      <td>0.066667</td>\n",
       "      <td>Jeff Pearce</td>\n",
       "      <td>C Teague</td>\n",
       "      <td>3</td>\n",
       "      <td>shd</td>\n",
       "      <td>nk</td>\n",
       "      <td>NaN</td>\n",
       "      <td>52.0</td>\n",
       "      <td>40.0</td>\n",
       "      <td>50.0</td>\n",
       "      <td>Petoski</td>\n",
       "      <td>Farcical</td>\n",
       "      <td>Pharly</td>\n",
       "      <td>60</td>\n",
       "    </tr>\n",
       "    <tr>\n",
       "      <th>21640</th>\n",
       "      <td>233260</td>\n",
       "      <td>Mels Baby</td>\n",
       "      <td>4.0</td>\n",
       "      <td>1.0</td>\n",
       "      <td>0.125000</td>\n",
       "      <td>Les Eyre</td>\n",
       "      <td>S Buckley</td>\n",
       "      <td>3</td>\n",
       "      <td>shd</td>\n",
       "      <td>hd</td>\n",
       "      <td>NaN</td>\n",
       "      <td>78.0</td>\n",
       "      <td>44.0</td>\n",
       "      <td>70.0</td>\n",
       "      <td>Contract Law</td>\n",
       "      <td>Launch The Raft</td>\n",
       "      <td>Home Guard</td>\n",
       "      <td>62</td>\n",
       "    </tr>\n",
       "  </tbody>\n",
       "</table>\n",
       "</div>"
      ],
      "text/plain": [
       "          rid       horseName  age  saddle  decimalPrice      trainerName  \\\n",
       "14492   84848       Jendorcet  7.0    13.0      0.058824  Chris Fairhurst   \n",
       "14726  109134    Castle Sweep  6.0     1.0      0.066667      D Nicholson   \n",
       "21261   82154  Silent Miracle  3.0     6.0      0.500000     Michael Bell   \n",
       "21456  179365        Petoskin  5.0     4.0      0.066667      Jeff Pearce   \n",
       "21640  233260       Mels Baby  4.0     1.0      0.125000         Les Eyre   \n",
       "\n",
       "            jockeyName  position positionL dist  outHandicap    RPR     TR  \\\n",
       "14492      J Callaghan         3       shd   hd          NaN   76.0    NaN   \n",
       "14726  Richard Johnson         3        hd   nk          NaN  157.0  147.0   \n",
       "21261     Micky Fenton         3       shd   hd          NaN   69.0   30.0   \n",
       "21456         C Teague         3       shd   nk          NaN   52.0   40.0   \n",
       "21640        S Buckley         3       shd   hd          NaN   78.0   44.0   \n",
       "\n",
       "          OR        father           mother      gfather  weight  \n",
       "14492   75.0  Grey Ghost I           Jendor    Condorcet      63  \n",
       "14726  155.0   Castle Keep       Fairy Shot  Random Shot      76  \n",
       "21261    NaN   Night Shift      Curie Point   Sharpen Up      55  \n",
       "21456   50.0       Petoski         Farcical       Pharly      60  \n",
       "21640   70.0  Contract Law  Launch The Raft   Home Guard      62  "
      ]
     },
     "execution_count": 67,
     "metadata": {},
     "output_type": "execute_result"
    }
   ],
   "source": [
    "entries_non_numerical_dist = horses_all_trim_intxn_clean[\n",
    "    horses_all_trim_intxn_clean['dist'].isin(non_numerical_dist)\n",
    "]\n",
    "entries_non_numerical_dist.head()"
   ]
  },
  {
   "cell_type": "code",
   "execution_count": 68,
   "id": "12868201",
   "metadata": {},
   "outputs": [
    {
     "data": {
      "text/plain": [
       "2714"
      ]
     },
     "execution_count": 68,
     "metadata": {},
     "output_type": "execute_result"
    }
   ],
   "source": [
    "len(entries_non_numerical_dist)"
   ]
  },
  {
   "cell_type": "markdown",
   "id": "49ab3de0",
   "metadata": {},
   "source": [
    "**NOTE**: The below function is used extensively and handles bad `dist` data of all kinds including runners with `position = 2`, runners with non-numerical distance data, and runners in `position = 40`."
   ]
  },
  {
   "cell_type": "code",
   "execution_count": 69,
   "id": "04ff3c7e",
   "metadata": {},
   "outputs": [],
   "source": [
    "def get_dist_of_horse(df: pd.core.frame.DataFrame, idx: int) -> float:\n",
    "    \"\"\"\n",
    "    Given a dataframe `df` that represents a race, calculate the `dist`\n",
    "    of the horse with identifier `idx`.\n",
    "    \"\"\"\n",
    "    \n",
    "    df = df.sort_values(by=['position'])\n",
    "    \n",
    "    # cumulative distance to the runner in 1st place\n",
    "    dist = 0\n",
    "    \n",
    "    # there may be ties for a position\n",
    "    curr_position = 1\n",
    "    \n",
    "    # for all entries in this race\n",
    "    for _, row in df.iterrows():\n",
    "        \n",
    "        # convert `positionL` to a numerical value,\n",
    "        # it is safe to assume that the length is 0 where `positionL = NaN`, see prior discussion\n",
    "        if row['positionL'] and (isinstance(row['positionL'], str) or not math.isnan(row['positionL'])):\n",
    "            lengths = row['positionL']\n",
    "        else:\n",
    "            lengths = 0\n",
    "        \n",
    "        # some `positionL` values are strings encoding length information\n",
    "        try:\n",
    "            lengths = float(lengths)\n",
    "        except:\n",
    "            lengths = LENGTH_ABBRV_TO_DIST[lengths]\n",
    "            \n",
    "        # be careful about changing the current position bc of ties\n",
    "        curr_position = row['position']\n",
    "       \n",
    "        # accumulate distance so long as we are not looking at nonfinishing horses\n",
    "        if curr_position != 40:\n",
    "            dist += lengths\n",
    "        \n",
    "        # found the desired horse\n",
    "        if int(row.name) == idx:\n",
    "            return dist + (LENGTH_ABBRV_TO_DIST['dist'] if curr_position == 40 else 0)"
   ]
  },
  {
   "cell_type": "code",
   "execution_count": 70,
   "id": "026d601f",
   "metadata": {},
   "outputs": [
    {
     "data": {
      "text/html": [
       "<div>\n",
       "<style scoped>\n",
       "    .dataframe tbody tr th:only-of-type {\n",
       "        vertical-align: middle;\n",
       "    }\n",
       "\n",
       "    .dataframe tbody tr th {\n",
       "        vertical-align: top;\n",
       "    }\n",
       "\n",
       "    .dataframe thead th {\n",
       "        text-align: right;\n",
       "    }\n",
       "</style>\n",
       "<table border=\"1\" class=\"dataframe\">\n",
       "  <thead>\n",
       "    <tr style=\"text-align: right;\">\n",
       "      <th></th>\n",
       "      <th>rid</th>\n",
       "      <th>horseName</th>\n",
       "      <th>age</th>\n",
       "      <th>saddle</th>\n",
       "      <th>decimalPrice</th>\n",
       "      <th>trainerName</th>\n",
       "      <th>jockeyName</th>\n",
       "      <th>position</th>\n",
       "      <th>positionL</th>\n",
       "      <th>dist</th>\n",
       "      <th>outHandicap</th>\n",
       "      <th>RPR</th>\n",
       "      <th>TR</th>\n",
       "      <th>OR</th>\n",
       "      <th>father</th>\n",
       "      <th>mother</th>\n",
       "      <th>gfather</th>\n",
       "      <th>weight</th>\n",
       "    </tr>\n",
       "  </thead>\n",
       "  <tbody>\n",
       "    <tr>\n",
       "      <th>14490</th>\n",
       "      <td>84848</td>\n",
       "      <td>Rothari</td>\n",
       "      <td>5.0</td>\n",
       "      <td>8.0</td>\n",
       "      <td>0.125000</td>\n",
       "      <td>Brian Rothwell</td>\n",
       "      <td>R Supple</td>\n",
       "      <td>1</td>\n",
       "      <td>NaN</td>\n",
       "      <td>NaN</td>\n",
       "      <td>NaN</td>\n",
       "      <td>88.0</td>\n",
       "      <td>NaN</td>\n",
       "      <td>87.0</td>\n",
       "      <td>Nashwan</td>\n",
       "      <td>Royal Lorna</td>\n",
       "      <td>Val De L'Orne</td>\n",
       "      <td>68</td>\n",
       "    </tr>\n",
       "    <tr>\n",
       "      <th>14491</th>\n",
       "      <td>84848</td>\n",
       "      <td>Diamond Beach</td>\n",
       "      <td>4.0</td>\n",
       "      <td>12.0</td>\n",
       "      <td>0.066667</td>\n",
       "      <td>George Moore</td>\n",
       "      <td>N Bentley</td>\n",
       "      <td>2</td>\n",
       "      <td>shd</td>\n",
       "      <td>NaN</td>\n",
       "      <td>NaN</td>\n",
       "      <td>81.0</td>\n",
       "      <td>NaN</td>\n",
       "      <td>88.0</td>\n",
       "      <td>Lugana Beach</td>\n",
       "      <td>Cannon Boy</td>\n",
       "      <td>Canonero</td>\n",
       "      <td>65</td>\n",
       "    </tr>\n",
       "    <tr>\n",
       "      <th>14492</th>\n",
       "      <td>84848</td>\n",
       "      <td>Jendorcet</td>\n",
       "      <td>7.0</td>\n",
       "      <td>13.0</td>\n",
       "      <td>0.058824</td>\n",
       "      <td>Chris Fairhurst</td>\n",
       "      <td>J Callaghan</td>\n",
       "      <td>3</td>\n",
       "      <td>shd</td>\n",
       "      <td>hd</td>\n",
       "      <td>NaN</td>\n",
       "      <td>76.0</td>\n",
       "      <td>NaN</td>\n",
       "      <td>75.0</td>\n",
       "      <td>Grey Ghost I</td>\n",
       "      <td>Jendor</td>\n",
       "      <td>Condorcet</td>\n",
       "      <td>63</td>\n",
       "    </tr>\n",
       "    <tr>\n",
       "      <th>14493</th>\n",
       "      <td>84848</td>\n",
       "      <td>Ferrers</td>\n",
       "      <td>6.0</td>\n",
       "      <td>7.0</td>\n",
       "      <td>0.222222</td>\n",
       "      <td>Pam Sly</td>\n",
       "      <td>Warren Marston</td>\n",
       "      <td>4</td>\n",
       "      <td>2</td>\n",
       "      <td>2.25</td>\n",
       "      <td>NaN</td>\n",
       "      <td>89.0</td>\n",
       "      <td>NaN</td>\n",
       "      <td>90.0</td>\n",
       "      <td>Homeboy</td>\n",
       "      <td>Gay Twenties</td>\n",
       "      <td>Lord Gayle</td>\n",
       "      <td>70</td>\n",
       "    </tr>\n",
       "    <tr>\n",
       "      <th>14494</th>\n",
       "      <td>84848</td>\n",
       "      <td>Pangeran</td>\n",
       "      <td>5.0</td>\n",
       "      <td>6.0</td>\n",
       "      <td>0.153846</td>\n",
       "      <td>Ann Duffield</td>\n",
       "      <td>J Supple</td>\n",
       "      <td>5</td>\n",
       "      <td>2</td>\n",
       "      <td>4.25</td>\n",
       "      <td>NaN</td>\n",
       "      <td>87.0</td>\n",
       "      <td>NaN</td>\n",
       "      <td>90.0</td>\n",
       "      <td>Forty Niner</td>\n",
       "      <td>Smart Heiress</td>\n",
       "      <td>Vaguely Noble</td>\n",
       "      <td>70</td>\n",
       "    </tr>\n",
       "    <tr>\n",
       "      <th>14495</th>\n",
       "      <td>84848</td>\n",
       "      <td>Beau Matelot</td>\n",
       "      <td>5.0</td>\n",
       "      <td>9.0</td>\n",
       "      <td>0.058824</td>\n",
       "      <td>Miss Kate Milligan</td>\n",
       "      <td>N Horrocks</td>\n",
       "      <td>6</td>\n",
       "      <td>3</td>\n",
       "      <td>7.25</td>\n",
       "      <td>NaN</td>\n",
       "      <td>79.0</td>\n",
       "      <td>NaN</td>\n",
       "      <td>85.0</td>\n",
       "      <td>Handsome Sailor</td>\n",
       "      <td>Bellanoora</td>\n",
       "      <td>Ahonoora</td>\n",
       "      <td>64</td>\n",
       "    </tr>\n",
       "    <tr>\n",
       "      <th>14496</th>\n",
       "      <td>84848</td>\n",
       "      <td>Adamatic</td>\n",
       "      <td>6.0</td>\n",
       "      <td>1.0</td>\n",
       "      <td>0.111111</td>\n",
       "      <td>Dick Allan</td>\n",
       "      <td>B Storey</td>\n",
       "      <td>7</td>\n",
       "      <td>1.75</td>\n",
       "      <td>9</td>\n",
       "      <td>NaN</td>\n",
       "      <td>95.0</td>\n",
       "      <td>NaN</td>\n",
       "      <td>103.0</td>\n",
       "      <td>Henbit</td>\n",
       "      <td>Arpal Magic</td>\n",
       "      <td>Master Owen</td>\n",
       "      <td>76</td>\n",
       "    </tr>\n",
       "    <tr>\n",
       "      <th>14497</th>\n",
       "      <td>84848</td>\n",
       "      <td>Falcon's Flame</td>\n",
       "      <td>4.0</td>\n",
       "      <td>10.0</td>\n",
       "      <td>0.066667</td>\n",
       "      <td>Victor Thompson</td>\n",
       "      <td>Mr M Thompson</td>\n",
       "      <td>8</td>\n",
       "      <td>5</td>\n",
       "      <td>14</td>\n",
       "      <td>NaN</td>\n",
       "      <td>72.0</td>\n",
       "      <td>NaN</td>\n",
       "      <td>93.0</td>\n",
       "      <td>Hawkster</td>\n",
       "      <td>Staunch Flame</td>\n",
       "      <td>Bold Forbes</td>\n",
       "      <td>68</td>\n",
       "    </tr>\n",
       "    <tr>\n",
       "      <th>14498</th>\n",
       "      <td>84848</td>\n",
       "      <td>Ten Past Six</td>\n",
       "      <td>5.0</td>\n",
       "      <td>14.0</td>\n",
       "      <td>0.133333</td>\n",
       "      <td>Martyn Wane</td>\n",
       "      <td>L O'Hara</td>\n",
       "      <td>9</td>\n",
       "      <td>3</td>\n",
       "      <td>17</td>\n",
       "      <td>3.0</td>\n",
       "      <td>59.0</td>\n",
       "      <td>NaN</td>\n",
       "      <td>75.0</td>\n",
       "      <td>Kris</td>\n",
       "      <td>Tashinsky</td>\n",
       "      <td>Nijinsky</td>\n",
       "      <td>63</td>\n",
       "    </tr>\n",
       "    <tr>\n",
       "      <th>14499</th>\n",
       "      <td>84848</td>\n",
       "      <td>Rubislaw</td>\n",
       "      <td>5.0</td>\n",
       "      <td>16.0</td>\n",
       "      <td>0.029412</td>\n",
       "      <td>Mrs K M Lamb</td>\n",
       "      <td>Mrs Sarah Cutts</td>\n",
       "      <td>10</td>\n",
       "      <td>3.5</td>\n",
       "      <td>20.5</td>\n",
       "      <td>20.0</td>\n",
       "      <td>56.0</td>\n",
       "      <td>NaN</td>\n",
       "      <td>75.0</td>\n",
       "      <td>Dunbeath</td>\n",
       "      <td>Larnem</td>\n",
       "      <td>Meldrum</td>\n",
       "      <td>60</td>\n",
       "    </tr>\n",
       "    <tr>\n",
       "      <th>14500</th>\n",
       "      <td>84848</td>\n",
       "      <td>Bassenhally</td>\n",
       "      <td>7.0</td>\n",
       "      <td>3.0</td>\n",
       "      <td>0.083333</td>\n",
       "      <td>Pam Sly</td>\n",
       "      <td>M Brennan</td>\n",
       "      <td>11</td>\n",
       "      <td>11</td>\n",
       "      <td>31.5</td>\n",
       "      <td>NaN</td>\n",
       "      <td>64.0</td>\n",
       "      <td>NaN</td>\n",
       "      <td>94.0</td>\n",
       "      <td>Celtic Cone</td>\n",
       "      <td>Milly Kelly</td>\n",
       "      <td>Murrayfield</td>\n",
       "      <td>72</td>\n",
       "    </tr>\n",
       "    <tr>\n",
       "      <th>14501</th>\n",
       "      <td>84848</td>\n",
       "      <td>Mapleton</td>\n",
       "      <td>4.0</td>\n",
       "      <td>11.0</td>\n",
       "      <td>0.083333</td>\n",
       "      <td>Sue Smith</td>\n",
       "      <td>Richard Guest</td>\n",
       "      <td>12</td>\n",
       "      <td>6</td>\n",
       "      <td>37.5</td>\n",
       "      <td>NaN</td>\n",
       "      <td>48.0</td>\n",
       "      <td>NaN</td>\n",
       "      <td>92.0</td>\n",
       "      <td>Skyliner I</td>\n",
       "      <td>Maple Syrup</td>\n",
       "      <td>Generous</td>\n",
       "      <td>67</td>\n",
       "    </tr>\n",
       "    <tr>\n",
       "      <th>14502</th>\n",
       "      <td>84848</td>\n",
       "      <td>Promise To Try</td>\n",
       "      <td>5.0</td>\n",
       "      <td>15.0</td>\n",
       "      <td>0.029412</td>\n",
       "      <td>Maurice Barnes</td>\n",
       "      <td>S Taylor</td>\n",
       "      <td>13</td>\n",
       "      <td>3.5</td>\n",
       "      <td>41</td>\n",
       "      <td>11.0</td>\n",
       "      <td>35.0</td>\n",
       "      <td>NaN</td>\n",
       "      <td>75.0</td>\n",
       "      <td>Orchestra</td>\n",
       "      <td>Haut Lafite</td>\n",
       "      <td>Tamerlane</td>\n",
       "      <td>61</td>\n",
       "    </tr>\n",
       "    <tr>\n",
       "      <th>14503</th>\n",
       "      <td>84848</td>\n",
       "      <td>Clavering</td>\n",
       "      <td>7.0</td>\n",
       "      <td>4.0</td>\n",
       "      <td>0.307692</td>\n",
       "      <td>Howard Johnson</td>\n",
       "      <td>Tony Dobbin</td>\n",
       "      <td>40</td>\n",
       "      <td>NaN</td>\n",
       "      <td>NaN</td>\n",
       "      <td>NaN</td>\n",
       "      <td>NaN</td>\n",
       "      <td>NaN</td>\n",
       "      <td>93.0</td>\n",
       "      <td>Good Thyne</td>\n",
       "      <td>Caffra Mills</td>\n",
       "      <td>Pitpan</td>\n",
       "      <td>71</td>\n",
       "    </tr>\n",
       "  </tbody>\n",
       "</table>\n",
       "</div>"
      ],
      "text/plain": [
       "         rid       horseName  age  saddle  decimalPrice         trainerName  \\\n",
       "14490  84848         Rothari  5.0     8.0      0.125000      Brian Rothwell   \n",
       "14491  84848   Diamond Beach  4.0    12.0      0.066667        George Moore   \n",
       "14492  84848       Jendorcet  7.0    13.0      0.058824     Chris Fairhurst   \n",
       "14493  84848         Ferrers  6.0     7.0      0.222222             Pam Sly   \n",
       "14494  84848        Pangeran  5.0     6.0      0.153846        Ann Duffield   \n",
       "14495  84848    Beau Matelot  5.0     9.0      0.058824  Miss Kate Milligan   \n",
       "14496  84848        Adamatic  6.0     1.0      0.111111          Dick Allan   \n",
       "14497  84848  Falcon's Flame  4.0    10.0      0.066667     Victor Thompson   \n",
       "14498  84848    Ten Past Six  5.0    14.0      0.133333         Martyn Wane   \n",
       "14499  84848        Rubislaw  5.0    16.0      0.029412        Mrs K M Lamb   \n",
       "14500  84848     Bassenhally  7.0     3.0      0.083333             Pam Sly   \n",
       "14501  84848        Mapleton  4.0    11.0      0.083333           Sue Smith   \n",
       "14502  84848  Promise To Try  5.0    15.0      0.029412      Maurice Barnes   \n",
       "14503  84848       Clavering  7.0     4.0      0.307692      Howard Johnson   \n",
       "\n",
       "            jockeyName  position positionL  dist  outHandicap   RPR  TR  \\\n",
       "14490         R Supple         1       NaN   NaN          NaN  88.0 NaN   \n",
       "14491        N Bentley         2       shd   NaN          NaN  81.0 NaN   \n",
       "14492      J Callaghan         3       shd    hd          NaN  76.0 NaN   \n",
       "14493   Warren Marston         4         2  2.25          NaN  89.0 NaN   \n",
       "14494         J Supple         5         2  4.25          NaN  87.0 NaN   \n",
       "14495       N Horrocks         6         3  7.25          NaN  79.0 NaN   \n",
       "14496         B Storey         7      1.75     9          NaN  95.0 NaN   \n",
       "14497    Mr M Thompson         8         5    14          NaN  72.0 NaN   \n",
       "14498         L O'Hara         9         3    17          3.0  59.0 NaN   \n",
       "14499  Mrs Sarah Cutts        10       3.5  20.5         20.0  56.0 NaN   \n",
       "14500        M Brennan        11        11  31.5          NaN  64.0 NaN   \n",
       "14501    Richard Guest        12         6  37.5          NaN  48.0 NaN   \n",
       "14502         S Taylor        13       3.5    41         11.0  35.0 NaN   \n",
       "14503      Tony Dobbin        40       NaN   NaN          NaN   NaN NaN   \n",
       "\n",
       "          OR           father         mother        gfather  weight  \n",
       "14490   87.0          Nashwan    Royal Lorna  Val De L'Orne      68  \n",
       "14491   88.0     Lugana Beach     Cannon Boy       Canonero      65  \n",
       "14492   75.0     Grey Ghost I         Jendor      Condorcet      63  \n",
       "14493   90.0          Homeboy   Gay Twenties     Lord Gayle      70  \n",
       "14494   90.0      Forty Niner  Smart Heiress  Vaguely Noble      70  \n",
       "14495   85.0  Handsome Sailor     Bellanoora       Ahonoora      64  \n",
       "14496  103.0           Henbit    Arpal Magic    Master Owen      76  \n",
       "14497   93.0         Hawkster  Staunch Flame    Bold Forbes      68  \n",
       "14498   75.0             Kris      Tashinsky       Nijinsky      63  \n",
       "14499   75.0         Dunbeath         Larnem        Meldrum      60  \n",
       "14500   94.0      Celtic Cone    Milly Kelly    Murrayfield      72  \n",
       "14501   92.0       Skyliner I    Maple Syrup       Generous      67  \n",
       "14502   75.0        Orchestra    Haut Lafite      Tamerlane      61  \n",
       "14503   93.0       Good Thyne   Caffra Mills         Pitpan      71  "
      ]
     },
     "execution_count": 70,
     "metadata": {},
     "output_type": "execute_result"
    }
   ],
   "source": [
    "df = horses_all_trim_intxn_clean[horses_all_trim_intxn_clean['rid'] == 84848]\n",
    "df"
   ]
  },
  {
   "cell_type": "code",
   "execution_count": 71,
   "id": "0659efc2",
   "metadata": {},
   "outputs": [],
   "source": [
    "assert get_dist_of_horse(df, 14492) == 0.5"
   ]
  },
  {
   "cell_type": "code",
   "execution_count": 72,
   "id": "65d70d23",
   "metadata": {},
   "outputs": [
    {
     "data": {
      "text/html": [
       "<div>\n",
       "<style scoped>\n",
       "    .dataframe tbody tr th:only-of-type {\n",
       "        vertical-align: middle;\n",
       "    }\n",
       "\n",
       "    .dataframe tbody tr th {\n",
       "        vertical-align: top;\n",
       "    }\n",
       "\n",
       "    .dataframe thead th {\n",
       "        text-align: right;\n",
       "    }\n",
       "</style>\n",
       "<table border=\"1\" class=\"dataframe\">\n",
       "  <thead>\n",
       "    <tr style=\"text-align: right;\">\n",
       "      <th></th>\n",
       "      <th>rid</th>\n",
       "      <th>horseName</th>\n",
       "      <th>age</th>\n",
       "      <th>saddle</th>\n",
       "      <th>decimalPrice</th>\n",
       "      <th>trainerName</th>\n",
       "      <th>jockeyName</th>\n",
       "      <th>position</th>\n",
       "      <th>positionL</th>\n",
       "      <th>dist</th>\n",
       "      <th>outHandicap</th>\n",
       "      <th>RPR</th>\n",
       "      <th>TR</th>\n",
       "      <th>OR</th>\n",
       "      <th>father</th>\n",
       "      <th>mother</th>\n",
       "      <th>gfather</th>\n",
       "      <th>weight</th>\n",
       "    </tr>\n",
       "  </thead>\n",
       "  <tbody>\n",
       "    <tr>\n",
       "      <th>21259</th>\n",
       "      <td>82154</td>\n",
       "      <td>Mouche</td>\n",
       "      <td>3.0</td>\n",
       "      <td>4.0</td>\n",
       "      <td>0.125000</td>\n",
       "      <td>Mrs J R Ramsden</td>\n",
       "      <td>Jimmy Fortune</td>\n",
       "      <td>1</td>\n",
       "      <td>NaN</td>\n",
       "      <td>NaN</td>\n",
       "      <td>NaN</td>\n",
       "      <td>70.0</td>\n",
       "      <td>31.0</td>\n",
       "      <td>NaN</td>\n",
       "      <td>Warning</td>\n",
       "      <td>Case For The Crown</td>\n",
       "      <td>Bates Motel</td>\n",
       "      <td>55</td>\n",
       "    </tr>\n",
       "    <tr>\n",
       "      <th>21260</th>\n",
       "      <td>82154</td>\n",
       "      <td>Lamarita</td>\n",
       "      <td>3.0</td>\n",
       "      <td>3.0</td>\n",
       "      <td>0.153846</td>\n",
       "      <td>James Eustace</td>\n",
       "      <td>Ray Cochrane</td>\n",
       "      <td>2</td>\n",
       "      <td>shd</td>\n",
       "      <td>NaN</td>\n",
       "      <td>NaN</td>\n",
       "      <td>70.0</td>\n",
       "      <td>30.0</td>\n",
       "      <td>NaN</td>\n",
       "      <td>Emarati</td>\n",
       "      <td>Bentinck Hotel</td>\n",
       "      <td>Red God</td>\n",
       "      <td>55</td>\n",
       "    </tr>\n",
       "    <tr>\n",
       "      <th>21261</th>\n",
       "      <td>82154</td>\n",
       "      <td>Silent Miracle</td>\n",
       "      <td>3.0</td>\n",
       "      <td>6.0</td>\n",
       "      <td>0.500000</td>\n",
       "      <td>Michael Bell</td>\n",
       "      <td>Micky Fenton</td>\n",
       "      <td>3</td>\n",
       "      <td>shd</td>\n",
       "      <td>hd</td>\n",
       "      <td>NaN</td>\n",
       "      <td>69.0</td>\n",
       "      <td>30.0</td>\n",
       "      <td>NaN</td>\n",
       "      <td>Night Shift</td>\n",
       "      <td>Curie Point</td>\n",
       "      <td>Sharpen Up</td>\n",
       "      <td>55</td>\n",
       "    </tr>\n",
       "    <tr>\n",
       "      <th>21262</th>\n",
       "      <td>82154</td>\n",
       "      <td>Tajrebah</td>\n",
       "      <td>3.0</td>\n",
       "      <td>7.0</td>\n",
       "      <td>0.166667</td>\n",
       "      <td>P T Walwyn</td>\n",
       "      <td>Richard Hills</td>\n",
       "      <td>4</td>\n",
       "      <td>2.5</td>\n",
       "      <td>2.75</td>\n",
       "      <td>NaN</td>\n",
       "      <td>62.0</td>\n",
       "      <td>23.0</td>\n",
       "      <td>NaN</td>\n",
       "      <td>Dayjur</td>\n",
       "      <td>Petrava</td>\n",
       "      <td>Imposing</td>\n",
       "      <td>55</td>\n",
       "    </tr>\n",
       "    <tr>\n",
       "      <th>21263</th>\n",
       "      <td>82154</td>\n",
       "      <td>Sang D'Antibes</td>\n",
       "      <td>3.0</td>\n",
       "      <td>5.0</td>\n",
       "      <td>0.066667</td>\n",
       "      <td>D J S Cosgrove</td>\n",
       "      <td>M Rimmer</td>\n",
       "      <td>5</td>\n",
       "      <td>2.5</td>\n",
       "      <td>5.25</td>\n",
       "      <td>NaN</td>\n",
       "      <td>54.0</td>\n",
       "      <td>15.0</td>\n",
       "      <td>NaN</td>\n",
       "      <td>Sanglamore</td>\n",
       "      <td>Baratoga</td>\n",
       "      <td>Bering</td>\n",
       "      <td>55</td>\n",
       "    </tr>\n",
       "    <tr>\n",
       "      <th>21264</th>\n",
       "      <td>82154</td>\n",
       "      <td>Aquatic Queen</td>\n",
       "      <td>3.0</td>\n",
       "      <td>1.0</td>\n",
       "      <td>0.019608</td>\n",
       "      <td>R J Weaver</td>\n",
       "      <td>M Wigham</td>\n",
       "      <td>6</td>\n",
       "      <td>1.75</td>\n",
       "      <td>7</td>\n",
       "      <td>NaN</td>\n",
       "      <td>49.0</td>\n",
       "      <td>10.0</td>\n",
       "      <td>NaN</td>\n",
       "      <td>Rudimentary</td>\n",
       "      <td>Aquarula</td>\n",
       "      <td>Dominion</td>\n",
       "      <td>55</td>\n",
       "    </tr>\n",
       "    <tr>\n",
       "      <th>21265</th>\n",
       "      <td>82154</td>\n",
       "      <td>Corinchili</td>\n",
       "      <td>3.0</td>\n",
       "      <td>2.0</td>\n",
       "      <td>0.125000</td>\n",
       "      <td>George Margarson</td>\n",
       "      <td>Gary Carter</td>\n",
       "      <td>7</td>\n",
       "      <td>5</td>\n",
       "      <td>12</td>\n",
       "      <td>NaN</td>\n",
       "      <td>34.0</td>\n",
       "      <td>NaN</td>\n",
       "      <td>NaN</td>\n",
       "      <td>Chilibang</td>\n",
       "      <td>Corinthia</td>\n",
       "      <td>Empery</td>\n",
       "      <td>55</td>\n",
       "    </tr>\n",
       "  </tbody>\n",
       "</table>\n",
       "</div>"
      ],
      "text/plain": [
       "         rid       horseName  age  saddle  decimalPrice       trainerName  \\\n",
       "21259  82154          Mouche  3.0     4.0      0.125000   Mrs J R Ramsden   \n",
       "21260  82154        Lamarita  3.0     3.0      0.153846     James Eustace   \n",
       "21261  82154  Silent Miracle  3.0     6.0      0.500000      Michael Bell   \n",
       "21262  82154        Tajrebah  3.0     7.0      0.166667        P T Walwyn   \n",
       "21263  82154  Sang D'Antibes  3.0     5.0      0.066667    D J S Cosgrove   \n",
       "21264  82154   Aquatic Queen  3.0     1.0      0.019608        R J Weaver   \n",
       "21265  82154      Corinchili  3.0     2.0      0.125000  George Margarson   \n",
       "\n",
       "          jockeyName  position positionL  dist  outHandicap   RPR    TR  OR  \\\n",
       "21259  Jimmy Fortune         1       NaN   NaN          NaN  70.0  31.0 NaN   \n",
       "21260   Ray Cochrane         2       shd   NaN          NaN  70.0  30.0 NaN   \n",
       "21261   Micky Fenton         3       shd    hd          NaN  69.0  30.0 NaN   \n",
       "21262  Richard Hills         4       2.5  2.75          NaN  62.0  23.0 NaN   \n",
       "21263       M Rimmer         5       2.5  5.25          NaN  54.0  15.0 NaN   \n",
       "21264       M Wigham         6      1.75     7          NaN  49.0  10.0 NaN   \n",
       "21265    Gary Carter         7         5    12          NaN  34.0   NaN NaN   \n",
       "\n",
       "            father              mother      gfather  weight  \n",
       "21259      Warning  Case For The Crown  Bates Motel      55  \n",
       "21260      Emarati      Bentinck Hotel      Red God      55  \n",
       "21261  Night Shift         Curie Point   Sharpen Up      55  \n",
       "21262       Dayjur             Petrava     Imposing      55  \n",
       "21263   Sanglamore            Baratoga       Bering      55  \n",
       "21264  Rudimentary            Aquarula     Dominion      55  \n",
       "21265    Chilibang           Corinthia       Empery      55  "
      ]
     },
     "execution_count": 72,
     "metadata": {},
     "output_type": "execute_result"
    }
   ],
   "source": [
    "df = horses_all_trim_intxn_clean[horses_all_trim_intxn_clean['rid'] == 82154]\n",
    "df"
   ]
  },
  {
   "cell_type": "code",
   "execution_count": 73,
   "id": "bc1341ed",
   "metadata": {},
   "outputs": [],
   "source": [
    "assert get_dist_of_horse(df, 21261) == 0.5"
   ]
  },
  {
   "cell_type": "code",
   "execution_count": 74,
   "id": "af9343f1",
   "metadata": {},
   "outputs": [
    {
     "name": "stderr",
     "output_type": "stream",
     "text": [
      "2714it [00:12, 223.97it/s]\n"
     ]
    }
   ],
   "source": [
    "for idx, entry in tqdm(entries_non_numerical_dist.iterrows()):\n",
    "    df = horses_all_trim_intxn_clean[horses_all_trim_intxn_clean['rid'] == entry['rid']]\n",
    "    dist = get_dist_of_horse(df, idx)\n",
    "    horses_all_trim_intxn_clean.at[idx, 'dist'] = dist"
   ]
  },
  {
   "cell_type": "code",
   "execution_count": 75,
   "id": "cd9a193e",
   "metadata": {},
   "outputs": [],
   "source": [
    "entries_non_numerical_dist = horses_all_trim_intxn_clean[\n",
    "    horses_all_trim_intxn_clean['dist'].isin(non_numerical_dist)\n",
    "]\n",
    "assert len(entries_non_numerical_dist) == 0"
   ]
  },
  {
   "cell_type": "markdown",
   "id": "94985958",
   "metadata": {},
   "source": [
    "Now that `dist` has only numerical values and `NaN`, we can proceed to convert this to a numerical column and check that all numerical values are valid and replace `dist = NaN` to `dist = 0`."
   ]
  },
  {
   "cell_type": "code",
   "execution_count": 76,
   "id": "f90bff37",
   "metadata": {},
   "outputs": [
    {
     "data": {
      "text/plain": [
       "rid               int64\n",
       "horseName        object\n",
       "age             float64\n",
       "saddle          float64\n",
       "decimalPrice    float64\n",
       "trainerName      object\n",
       "jockeyName       object\n",
       "position          int64\n",
       "positionL        object\n",
       "dist             object\n",
       "outHandicap     float64\n",
       "RPR             float64\n",
       "TR              float64\n",
       "OR              float64\n",
       "father           object\n",
       "mother           object\n",
       "gfather          object\n",
       "weight            int64\n",
       "dtype: object"
      ]
     },
     "execution_count": 76,
     "metadata": {},
     "output_type": "execute_result"
    }
   ],
   "source": [
    "horses_all_trim_intxn_clean.dtypes"
   ]
  },
  {
   "cell_type": "code",
   "execution_count": 77,
   "id": "9ff54300",
   "metadata": {
    "scrolled": false
   },
   "outputs": [],
   "source": [
    "horses_all_trim_intxn_clean['dist'] = pd.to_numeric(horses_all_trim_intxn_clean['dist'], downcast='float')"
   ]
  },
  {
   "cell_type": "code",
   "execution_count": 78,
   "id": "0a46f9e3",
   "metadata": {},
   "outputs": [
    {
     "data": {
      "text/plain": [
       "rid               int64\n",
       "horseName        object\n",
       "age             float64\n",
       "saddle          float64\n",
       "decimalPrice    float64\n",
       "trainerName      object\n",
       "jockeyName       object\n",
       "position          int64\n",
       "positionL        object\n",
       "dist            float32\n",
       "outHandicap     float64\n",
       "RPR             float64\n",
       "TR              float64\n",
       "OR              float64\n",
       "father           object\n",
       "mother           object\n",
       "gfather          object\n",
       "weight            int64\n",
       "dtype: object"
      ]
     },
     "execution_count": 78,
     "metadata": {},
     "output_type": "execute_result"
    }
   ],
   "source": [
    "horses_all_trim_intxn_clean.dtypes"
   ]
  },
  {
   "cell_type": "code",
   "execution_count": 79,
   "id": "e074edbc",
   "metadata": {},
   "outputs": [
    {
     "data": {
      "text/plain": [
       "0"
      ]
     },
     "execution_count": 79,
     "metadata": {},
     "output_type": "execute_result"
    }
   ],
   "source": [
    "len(horses_all_trim_intxn_clean[horses_all_trim_intxn_clean['dist'] < 0])"
   ]
  },
  {
   "cell_type": "code",
   "execution_count": 80,
   "id": "8a7356eb",
   "metadata": {},
   "outputs": [
    {
     "data": {
      "text/plain": [
       "864391"
      ]
     },
     "execution_count": 80,
     "metadata": {},
     "output_type": "execute_result"
    }
   ],
   "source": [
    "len(horses_all_trim_intxn_clean[horses_all_trim_intxn_clean['dist'].isnull()])"
   ]
  },
  {
   "cell_type": "markdown",
   "id": "73a645ef",
   "metadata": {},
   "source": [
    "Great, no negative values for `dist` but there are still `dist = NaN`. Let's see if `dist = NaN` only occurs where `position = 1` or `position = 2` or `position = 40`, because `position = 1` or `position = 2` means that the horse technically has not \"distance to a winner\", which is how `dist` is explained (we will change this later) and `position = 40` means the horse did not finish so the `dist` can be potentially infinite."
   ]
  },
  {
   "cell_type": "code",
   "execution_count": 81,
   "id": "50954a23",
   "metadata": {},
   "outputs": [
    {
     "data": {
      "text/plain": [
       "236"
      ]
     },
     "execution_count": 81,
     "metadata": {},
     "output_type": "execute_result"
    }
   ],
   "source": [
    "len(horses_all_trim_intxn_clean[\n",
    "    horses_all_trim_intxn_clean['dist'].isnull() &\n",
    "    (~horses_all_trim_intxn_clean['position'].isin([1,2,40]))\n",
    "])"
   ]
  },
  {
   "cell_type": "markdown",
   "id": "e2114fca",
   "metadata": {},
   "source": [
    "Okay, so this is not true, though this number is a lot better than the first one. Let's understand where this is not true."
   ]
  },
  {
   "cell_type": "code",
   "execution_count": 82,
   "id": "916b8aab",
   "metadata": {},
   "outputs": [
    {
     "data": {
      "text/plain": [
       "array([ 3,  4,  5, 11,  6, 12,  7, 10,  9])"
      ]
     },
     "execution_count": 82,
     "metadata": {},
     "output_type": "execute_result"
    }
   ],
   "source": [
    "horses_all_trim_intxn_clean[\n",
    "    horses_all_trim_intxn_clean['dist'].isnull() &\n",
    "    (~horses_all_trim_intxn_clean['position'].isin([1,2,40]))\n",
    "]['position'].unique()"
   ]
  },
  {
   "cell_type": "code",
   "execution_count": 83,
   "id": "507b6c44",
   "metadata": {},
   "outputs": [
    {
     "data": {
      "text/plain": [
       "236"
      ]
     },
     "execution_count": 83,
     "metadata": {},
     "output_type": "execute_result"
    }
   ],
   "source": [
    "len(horses_all_trim_intxn_clean[\n",
    "    horses_all_trim_intxn_clean['dist'].isnull() &\n",
    "    (~horses_all_trim_intxn_clean['position'].isin([1,2,40]))\n",
    "]['rid'].unique())"
   ]
  },
  {
   "cell_type": "markdown",
   "id": "3a7ad9be",
   "metadata": {},
   "source": [
    "We can correct these `dist` using the same function as before."
   ]
  },
  {
   "cell_type": "code",
   "execution_count": 84,
   "id": "415dabec",
   "metadata": {},
   "outputs": [
    {
     "data": {
      "text/html": [
       "<div>\n",
       "<style scoped>\n",
       "    .dataframe tbody tr th:only-of-type {\n",
       "        vertical-align: middle;\n",
       "    }\n",
       "\n",
       "    .dataframe tbody tr th {\n",
       "        vertical-align: top;\n",
       "    }\n",
       "\n",
       "    .dataframe thead th {\n",
       "        text-align: right;\n",
       "    }\n",
       "</style>\n",
       "<table border=\"1\" class=\"dataframe\">\n",
       "  <thead>\n",
       "    <tr style=\"text-align: right;\">\n",
       "      <th></th>\n",
       "      <th>rid</th>\n",
       "      <th>horseName</th>\n",
       "      <th>age</th>\n",
       "      <th>saddle</th>\n",
       "      <th>decimalPrice</th>\n",
       "      <th>trainerName</th>\n",
       "      <th>jockeyName</th>\n",
       "      <th>position</th>\n",
       "      <th>positionL</th>\n",
       "      <th>dist</th>\n",
       "      <th>outHandicap</th>\n",
       "      <th>RPR</th>\n",
       "      <th>TR</th>\n",
       "      <th>OR</th>\n",
       "      <th>father</th>\n",
       "      <th>mother</th>\n",
       "      <th>gfather</th>\n",
       "      <th>weight</th>\n",
       "    </tr>\n",
       "  </thead>\n",
       "  <tbody>\n",
       "    <tr>\n",
       "      <th>22083</th>\n",
       "      <td>342240</td>\n",
       "      <td>Going Primitive</td>\n",
       "      <td>6.0</td>\n",
       "      <td>3.0</td>\n",
       "      <td>0.166667</td>\n",
       "      <td>J Hetherton</td>\n",
       "      <td>Mr S Swiers</td>\n",
       "      <td>3</td>\n",
       "      <td>nk</td>\n",
       "      <td>NaN</td>\n",
       "      <td>NaN</td>\n",
       "      <td>98.0</td>\n",
       "      <td>NaN</td>\n",
       "      <td>NaN</td>\n",
       "      <td>Primitive Rising</td>\n",
       "      <td>Good Going Girl</td>\n",
       "      <td>Import</td>\n",
       "      <td>69</td>\n",
       "    </tr>\n",
       "    <tr>\n",
       "      <th>22578</th>\n",
       "      <td>75990</td>\n",
       "      <td>Manolo I</td>\n",
       "      <td>4.0</td>\n",
       "      <td>4.0</td>\n",
       "      <td>0.222222</td>\n",
       "      <td>J Berry</td>\n",
       "      <td>Kevin Darley</td>\n",
       "      <td>4</td>\n",
       "      <td>.5</td>\n",
       "      <td>NaN</td>\n",
       "      <td>NaN</td>\n",
       "      <td>61.0</td>\n",
       "      <td>57.0</td>\n",
       "      <td>NaN</td>\n",
       "      <td>Cricket Ball</td>\n",
       "      <td>Malouna</td>\n",
       "      <td>General Holme</td>\n",
       "      <td>58</td>\n",
       "    </tr>\n",
       "    <tr>\n",
       "      <th>736826</th>\n",
       "      <td>129604</td>\n",
       "      <td>Plenty Quick</td>\n",
       "      <td>3.0</td>\n",
       "      <td>4.0</td>\n",
       "      <td>0.119048</td>\n",
       "      <td>Donnie K Von Hemel</td>\n",
       "      <td>David Cabrera</td>\n",
       "      <td>3</td>\n",
       "      <td>1.5</td>\n",
       "      <td>NaN</td>\n",
       "      <td>NaN</td>\n",
       "      <td>NaN</td>\n",
       "      <td>NaN</td>\n",
       "      <td>NaN</td>\n",
       "      <td>Alternation</td>\n",
       "      <td>Try To Catch Her</td>\n",
       "      <td>Broken Vow</td>\n",
       "      <td>54</td>\n",
       "    </tr>\n",
       "    <tr>\n",
       "      <th>753493</th>\n",
       "      <td>165034</td>\n",
       "      <td>Vin De Dance</td>\n",
       "      <td>3.0</td>\n",
       "      <td>2.0</td>\n",
       "      <td>0.066667</td>\n",
       "      <td>Murray Baker &amp;amp; Andrew Forsman</td>\n",
       "      <td>Jason Waddell</td>\n",
       "      <td>4</td>\n",
       "      <td>1.25</td>\n",
       "      <td>NaN</td>\n",
       "      <td>NaN</td>\n",
       "      <td>107.0</td>\n",
       "      <td>NaN</td>\n",
       "      <td>NaN</td>\n",
       "      <td>Roc De Cambes</td>\n",
       "      <td>Explosive Dancer</td>\n",
       "      <td>San Luis</td>\n",
       "      <td>56</td>\n",
       "    </tr>\n",
       "    <tr>\n",
       "      <th>758283</th>\n",
       "      <td>87146</td>\n",
       "      <td>Sounds Delicious</td>\n",
       "      <td>4.0</td>\n",
       "      <td>8.0</td>\n",
       "      <td>0.298507</td>\n",
       "      <td>Linda Rice</td>\n",
       "      <td>Junior Alvarado</td>\n",
       "      <td>4</td>\n",
       "      <td>1</td>\n",
       "      <td>NaN</td>\n",
       "      <td>NaN</td>\n",
       "      <td>98.0</td>\n",
       "      <td>NaN</td>\n",
       "      <td>NaN</td>\n",
       "      <td>Yes It's True</td>\n",
       "      <td>Dulce Realidad</td>\n",
       "      <td>Sweetsouthernsaint</td>\n",
       "      <td>53</td>\n",
       "    </tr>\n",
       "  </tbody>\n",
       "</table>\n",
       "</div>"
      ],
      "text/plain": [
       "           rid         horseName  age  saddle  decimalPrice  \\\n",
       "22083   342240   Going Primitive  6.0     3.0      0.166667   \n",
       "22578    75990          Manolo I  4.0     4.0      0.222222   \n",
       "736826  129604      Plenty Quick  3.0     4.0      0.119048   \n",
       "753493  165034      Vin De Dance  3.0     2.0      0.066667   \n",
       "758283   87146  Sounds Delicious  4.0     8.0      0.298507   \n",
       "\n",
       "                              trainerName       jockeyName  position  \\\n",
       "22083                         J Hetherton      Mr S Swiers         3   \n",
       "22578                             J Berry     Kevin Darley         4   \n",
       "736826                 Donnie K Von Hemel    David Cabrera         3   \n",
       "753493  Murray Baker &amp; Andrew Forsman    Jason Waddell         4   \n",
       "758283                         Linda Rice  Junior Alvarado         4   \n",
       "\n",
       "       positionL  dist  outHandicap    RPR    TR  OR            father  \\\n",
       "22083         nk   NaN          NaN   98.0   NaN NaN  Primitive Rising   \n",
       "22578         .5   NaN          NaN   61.0  57.0 NaN      Cricket Ball   \n",
       "736826       1.5   NaN          NaN    NaN   NaN NaN       Alternation   \n",
       "753493      1.25   NaN          NaN  107.0   NaN NaN     Roc De Cambes   \n",
       "758283         1   NaN          NaN   98.0   NaN NaN     Yes It's True   \n",
       "\n",
       "                  mother             gfather  weight  \n",
       "22083    Good Going Girl              Import      69  \n",
       "22578            Malouna       General Holme      58  \n",
       "736826  Try To Catch Her          Broken Vow      54  \n",
       "753493  Explosive Dancer            San Luis      56  \n",
       "758283    Dulce Realidad  Sweetsouthernsaint      53  "
      ]
     },
     "execution_count": 84,
     "metadata": {},
     "output_type": "execute_result"
    }
   ],
   "source": [
    "entries_nan_dist = horses_all_trim_intxn_clean[\n",
    "    horses_all_trim_intxn_clean['dist'].isnull() &\n",
    "    (~horses_all_trim_intxn_clean['position'].isin([1,2,40]))\n",
    "]\n",
    "entries_nan_dist.head()"
   ]
  },
  {
   "cell_type": "code",
   "execution_count": 85,
   "id": "698e532a",
   "metadata": {},
   "outputs": [
    {
     "name": "stderr",
     "output_type": "stream",
     "text": [
      "236it [00:01, 208.30it/s]\n"
     ]
    }
   ],
   "source": [
    "for idx, entry in tqdm(entries_nan_dist.iterrows()):\n",
    "    df = horses_all_trim_intxn_clean[horses_all_trim_intxn_clean['rid'] == entry['rid']]\n",
    "    dist = get_dist_of_horse(df, idx)\n",
    "    horses_all_trim_intxn_clean.at[idx, 'dist'] = dist"
   ]
  },
  {
   "cell_type": "code",
   "execution_count": 86,
   "id": "cb6691c1",
   "metadata": {},
   "outputs": [],
   "source": [
    "entries_nan_dist = horses_all_trim_intxn_clean[\n",
    "    horses_all_trim_intxn_clean['dist'].isnull() &\n",
    "    (~horses_all_trim_intxn_clean['position'].isin([1,2,40]))\n",
    "]\n",
    "assert len(entries_nan_dist) == 0"
   ]
  },
  {
   "cell_type": "markdown",
   "id": "0d44b1d7",
   "metadata": {},
   "source": [
    "Let's first figure out what values of `dist` are currently where `position = 40` so we can fix this."
   ]
  },
  {
   "cell_type": "code",
   "execution_count": 87,
   "id": "c14fe31f",
   "metadata": {},
   "outputs": [
    {
     "data": {
      "text/html": [
       "<div>\n",
       "<style scoped>\n",
       "    .dataframe tbody tr th:only-of-type {\n",
       "        vertical-align: middle;\n",
       "    }\n",
       "\n",
       "    .dataframe tbody tr th {\n",
       "        vertical-align: top;\n",
       "    }\n",
       "\n",
       "    .dataframe thead th {\n",
       "        text-align: right;\n",
       "    }\n",
       "</style>\n",
       "<table border=\"1\" class=\"dataframe\">\n",
       "  <thead>\n",
       "    <tr style=\"text-align: right;\">\n",
       "      <th></th>\n",
       "      <th>rid</th>\n",
       "      <th>horseName</th>\n",
       "      <th>age</th>\n",
       "      <th>saddle</th>\n",
       "      <th>decimalPrice</th>\n",
       "      <th>trainerName</th>\n",
       "      <th>jockeyName</th>\n",
       "      <th>position</th>\n",
       "      <th>positionL</th>\n",
       "      <th>dist</th>\n",
       "      <th>outHandicap</th>\n",
       "      <th>RPR</th>\n",
       "      <th>TR</th>\n",
       "      <th>OR</th>\n",
       "      <th>father</th>\n",
       "      <th>mother</th>\n",
       "      <th>gfather</th>\n",
       "      <th>weight</th>\n",
       "    </tr>\n",
       "  </thead>\n",
       "  <tbody>\n",
       "    <tr>\n",
       "      <th>45</th>\n",
       "      <td>13063</td>\n",
       "      <td>Sharp Command</td>\n",
       "      <td>4.0</td>\n",
       "      <td>5.0</td>\n",
       "      <td>0.200000</td>\n",
       "      <td>P Eccles</td>\n",
       "      <td>J Weaver</td>\n",
       "      <td>40</td>\n",
       "      <td>NaN</td>\n",
       "      <td>NaN</td>\n",
       "      <td>NaN</td>\n",
       "      <td>NaN</td>\n",
       "      <td>NaN</td>\n",
       "      <td>53.0</td>\n",
       "      <td>Sharpo</td>\n",
       "      <td>Bluish</td>\n",
       "      <td>Alleged</td>\n",
       "      <td>55</td>\n",
       "    </tr>\n",
       "    <tr>\n",
       "      <th>609</th>\n",
       "      <td>302858</td>\n",
       "      <td>Graignamanagh</td>\n",
       "      <td>6.0</td>\n",
       "      <td>3.0</td>\n",
       "      <td>0.307692</td>\n",
       "      <td>Harry De Bromhead</td>\n",
       "      <td>J R Barry</td>\n",
       "      <td>40</td>\n",
       "      <td>NaN</td>\n",
       "      <td>NaN</td>\n",
       "      <td>NaN</td>\n",
       "      <td>NaN</td>\n",
       "      <td>NaN</td>\n",
       "      <td>NaN</td>\n",
       "      <td>Tremblant</td>\n",
       "      <td>Feathermore</td>\n",
       "      <td>Crash Course</td>\n",
       "      <td>73</td>\n",
       "    </tr>\n",
       "    <tr>\n",
       "      <th>696</th>\n",
       "      <td>49027</td>\n",
       "      <td>Ask The Butler</td>\n",
       "      <td>6.0</td>\n",
       "      <td>1.0</td>\n",
       "      <td>0.444444</td>\n",
       "      <td>C Roche</td>\n",
       "      <td>Conor O'Dwyer</td>\n",
       "      <td>40</td>\n",
       "      <td>NaN</td>\n",
       "      <td>NaN</td>\n",
       "      <td>NaN</td>\n",
       "      <td>NaN</td>\n",
       "      <td>NaN</td>\n",
       "      <td>NaN</td>\n",
       "      <td>Carlingford Castle</td>\n",
       "      <td>Ask Breda</td>\n",
       "      <td>Ya Zaman</td>\n",
       "      <td>74</td>\n",
       "    </tr>\n",
       "    <tr>\n",
       "      <th>716</th>\n",
       "      <td>294935</td>\n",
       "      <td>Alicharger</td>\n",
       "      <td>7.0</td>\n",
       "      <td>4.0</td>\n",
       "      <td>0.019608</td>\n",
       "      <td>P Monteith</td>\n",
       "      <td>Tony Dobbin</td>\n",
       "      <td>40</td>\n",
       "      <td>NaN</td>\n",
       "      <td>NaN</td>\n",
       "      <td>NaN</td>\n",
       "      <td>NaN</td>\n",
       "      <td>NaN</td>\n",
       "      <td>NaN</td>\n",
       "      <td>Alias Smith</td>\n",
       "      <td>Amirati</td>\n",
       "      <td>Amber Rama</td>\n",
       "      <td>71</td>\n",
       "    </tr>\n",
       "    <tr>\n",
       "      <th>717</th>\n",
       "      <td>294935</td>\n",
       "      <td>Herbert Lodge</td>\n",
       "      <td>8.0</td>\n",
       "      <td>6.0</td>\n",
       "      <td>0.363636</td>\n",
       "      <td>Kim Bailey</td>\n",
       "      <td>Conor O'Dwyer</td>\n",
       "      <td>40</td>\n",
       "      <td>NaN</td>\n",
       "      <td>NaN</td>\n",
       "      <td>NaN</td>\n",
       "      <td>NaN</td>\n",
       "      <td>NaN</td>\n",
       "      <td>NaN</td>\n",
       "      <td>Montelimar</td>\n",
       "      <td>Mindyourbusiness</td>\n",
       "      <td>Run The Gantlet</td>\n",
       "      <td>71</td>\n",
       "    </tr>\n",
       "    <tr>\n",
       "      <th>...</th>\n",
       "      <td>...</td>\n",
       "      <td>...</td>\n",
       "      <td>...</td>\n",
       "      <td>...</td>\n",
       "      <td>...</td>\n",
       "      <td>...</td>\n",
       "      <td>...</td>\n",
       "      <td>...</td>\n",
       "      <td>...</td>\n",
       "      <td>...</td>\n",
       "      <td>...</td>\n",
       "      <td>...</td>\n",
       "      <td>...</td>\n",
       "      <td>...</td>\n",
       "      <td>...</td>\n",
       "      <td>...</td>\n",
       "      <td>...</td>\n",
       "      <td>...</td>\n",
       "    </tr>\n",
       "    <tr>\n",
       "      <th>4107302</th>\n",
       "      <td>201116</td>\n",
       "      <td>Camair Crusader</td>\n",
       "      <td>5.0</td>\n",
       "      <td>8.0</td>\n",
       "      <td>0.058824</td>\n",
       "      <td>W McKeown</td>\n",
       "      <td>Alan Dempsey</td>\n",
       "      <td>40</td>\n",
       "      <td>NaN</td>\n",
       "      <td>NaN</td>\n",
       "      <td>NaN</td>\n",
       "      <td>73.0</td>\n",
       "      <td>73.0</td>\n",
       "      <td>66.0</td>\n",
       "      <td>Jolly Jake</td>\n",
       "      <td>Sigrid's Dream</td>\n",
       "      <td>Triple Bend</td>\n",
       "      <td>64</td>\n",
       "    </tr>\n",
       "    <tr>\n",
       "      <th>4107303</th>\n",
       "      <td>201116</td>\n",
       "      <td>Classic Exhibit</td>\n",
       "      <td>10.0</td>\n",
       "      <td>4.0</td>\n",
       "      <td>0.066667</td>\n",
       "      <td>A Streeter</td>\n",
       "      <td>Russ Garritty</td>\n",
       "      <td>40</td>\n",
       "      <td>NaN</td>\n",
       "      <td>NaN</td>\n",
       "      <td>NaN</td>\n",
       "      <td>NaN</td>\n",
       "      <td>NaN</td>\n",
       "      <td>77.0</td>\n",
       "      <td>Tate Gallery</td>\n",
       "      <td>See The Tops</td>\n",
       "      <td>Cure The Blues</td>\n",
       "      <td>69</td>\n",
       "    </tr>\n",
       "    <tr>\n",
       "      <th>4107304</th>\n",
       "      <td>201116</td>\n",
       "      <td>Faustnluce Lady</td>\n",
       "      <td>10.0</td>\n",
       "      <td>13.0</td>\n",
       "      <td>0.009901</td>\n",
       "      <td>W J Smith</td>\n",
       "      <td>P Griffiths</td>\n",
       "      <td>40</td>\n",
       "      <td>NaN</td>\n",
       "      <td>NaN</td>\n",
       "      <td>6.0</td>\n",
       "      <td>NaN</td>\n",
       "      <td>NaN</td>\n",
       "      <td>67.0</td>\n",
       "      <td>Faustus</td>\n",
       "      <td>Miss Friendly</td>\n",
       "      <td>Status Seeker</td>\n",
       "      <td>62</td>\n",
       "    </tr>\n",
       "    <tr>\n",
       "      <th>4107309</th>\n",
       "      <td>203745</td>\n",
       "      <td>Ealing Court</td>\n",
       "      <td>10.0</td>\n",
       "      <td>5.0</td>\n",
       "      <td>0.133333</td>\n",
       "      <td>Tony Carroll</td>\n",
       "      <td>Ollie McPhail</td>\n",
       "      <td>40</td>\n",
       "      <td>NaN</td>\n",
       "      <td>NaN</td>\n",
       "      <td>NaN</td>\n",
       "      <td>NaN</td>\n",
       "      <td>NaN</td>\n",
       "      <td>90.0</td>\n",
       "      <td>Blazing Saddles</td>\n",
       "      <td>Fille De General</td>\n",
       "      <td>Brigadier Gerard</td>\n",
       "      <td>68</td>\n",
       "    </tr>\n",
       "    <tr>\n",
       "      <th>4107314</th>\n",
       "      <td>213759</td>\n",
       "      <td>What's Up Boys</td>\n",
       "      <td>5.0</td>\n",
       "      <td>4.0</td>\n",
       "      <td>0.142857</td>\n",
       "      <td>Philip Hobbs</td>\n",
       "      <td>Richard Johnson</td>\n",
       "      <td>40</td>\n",
       "      <td>NaN</td>\n",
       "      <td>NaN</td>\n",
       "      <td>NaN</td>\n",
       "      <td>138.0</td>\n",
       "      <td>NaN</td>\n",
       "      <td>129.0</td>\n",
       "      <td>Supreme Leader</td>\n",
       "      <td>Maryville Bick</td>\n",
       "      <td>Malacate</td>\n",
       "      <td>73</td>\n",
       "    </tr>\n",
       "  </tbody>\n",
       "</table>\n",
       "<p>224167 rows × 18 columns</p>\n",
       "</div>"
      ],
      "text/plain": [
       "            rid        horseName   age  saddle  decimalPrice  \\\n",
       "45        13063    Sharp Command   4.0     5.0      0.200000   \n",
       "609      302858    Graignamanagh   6.0     3.0      0.307692   \n",
       "696       49027   Ask The Butler   6.0     1.0      0.444444   \n",
       "716      294935       Alicharger   7.0     4.0      0.019608   \n",
       "717      294935    Herbert Lodge   8.0     6.0      0.363636   \n",
       "...         ...              ...   ...     ...           ...   \n",
       "4107302  201116  Camair Crusader   5.0     8.0      0.058824   \n",
       "4107303  201116  Classic Exhibit  10.0     4.0      0.066667   \n",
       "4107304  201116  Faustnluce Lady  10.0    13.0      0.009901   \n",
       "4107309  203745     Ealing Court  10.0     5.0      0.133333   \n",
       "4107314  213759   What's Up Boys   5.0     4.0      0.142857   \n",
       "\n",
       "               trainerName       jockeyName  position positionL  dist  \\\n",
       "45                P Eccles         J Weaver        40       NaN   NaN   \n",
       "609      Harry De Bromhead        J R Barry        40       NaN   NaN   \n",
       "696                C Roche    Conor O'Dwyer        40       NaN   NaN   \n",
       "716             P Monteith      Tony Dobbin        40       NaN   NaN   \n",
       "717             Kim Bailey    Conor O'Dwyer        40       NaN   NaN   \n",
       "...                    ...              ...       ...       ...   ...   \n",
       "4107302          W McKeown     Alan Dempsey        40       NaN   NaN   \n",
       "4107303         A Streeter    Russ Garritty        40       NaN   NaN   \n",
       "4107304          W J Smith      P Griffiths        40       NaN   NaN   \n",
       "4107309       Tony Carroll    Ollie McPhail        40       NaN   NaN   \n",
       "4107314       Philip Hobbs  Richard Johnson        40       NaN   NaN   \n",
       "\n",
       "         outHandicap    RPR    TR     OR              father  \\\n",
       "45               NaN    NaN   NaN   53.0              Sharpo   \n",
       "609              NaN    NaN   NaN    NaN           Tremblant   \n",
       "696              NaN    NaN   NaN    NaN  Carlingford Castle   \n",
       "716              NaN    NaN   NaN    NaN         Alias Smith   \n",
       "717              NaN    NaN   NaN    NaN          Montelimar   \n",
       "...              ...    ...   ...    ...                 ...   \n",
       "4107302          NaN   73.0  73.0   66.0          Jolly Jake   \n",
       "4107303          NaN    NaN   NaN   77.0        Tate Gallery   \n",
       "4107304          6.0    NaN   NaN   67.0             Faustus   \n",
       "4107309          NaN    NaN   NaN   90.0     Blazing Saddles   \n",
       "4107314          NaN  138.0   NaN  129.0      Supreme Leader   \n",
       "\n",
       "                   mother           gfather  weight  \n",
       "45                 Bluish           Alleged      55  \n",
       "609           Feathermore      Crash Course      73  \n",
       "696             Ask Breda          Ya Zaman      74  \n",
       "716               Amirati        Amber Rama      71  \n",
       "717      Mindyourbusiness   Run The Gantlet      71  \n",
       "...                   ...               ...     ...  \n",
       "4107302    Sigrid's Dream       Triple Bend      64  \n",
       "4107303      See The Tops    Cure The Blues      69  \n",
       "4107304     Miss Friendly     Status Seeker      62  \n",
       "4107309  Fille De General  Brigadier Gerard      68  \n",
       "4107314    Maryville Bick          Malacate      73  \n",
       "\n",
       "[224167 rows x 18 columns]"
      ]
     },
     "execution_count": 87,
     "metadata": {},
     "output_type": "execute_result"
    }
   ],
   "source": [
    "entries_nan_dist_p40 = horses_all_trim_intxn_clean[\n",
    "    horses_all_trim_intxn_clean['dist'].isnull() &\n",
    "    (horses_all_trim_intxn_clean['position'] == 40)\n",
    "]\n",
    "entries_nan_dist_p40"
   ]
  },
  {
   "cell_type": "markdown",
   "id": "38b9bacf",
   "metadata": {},
   "source": [
    "Of the horse who came in `position = 40` and `dist = NaN`, how many were in a race where there are actually 40 runners? These cases are harder to reason about than if there are fewer than 40 runners, in which case we would just say that this horse _truly did not finish_, versus that this horse arrived in 40th place with an unknown distance."
   ]
  },
  {
   "cell_type": "code",
   "execution_count": 88,
   "id": "9625fc02",
   "metadata": {},
   "outputs": [
    {
     "data": {
      "text/plain": [
       "(399, 16)"
      ]
     },
     "execution_count": 88,
     "metadata": {},
     "output_type": "execute_result"
    }
   ],
   "source": [
    "entries_nan_dist_and_40_runners = []\n",
    "races_nan_dist_and_40_runners = set()\n",
    "\n",
    "for _, row in entries_nan_dist_p40.iterrows():\n",
    "    if RID_TO_RUNNERS[row['rid']] == 40:\n",
    "        entries_nan_dist_and_40_runners.append(row['rid'])\n",
    "        races_nan_dist_and_40_runners.add(row['rid'])\n",
    "        \n",
    "len(entries_nan_dist_and_40_runners), len(races_nan_dist_and_40_runners)"
   ]
  },
  {
   "cell_type": "code",
   "execution_count": 89,
   "id": "b772169c",
   "metadata": {},
   "outputs": [
    {
     "data": {
      "text/plain": [
       "(array([  2778,  31320,  47950,  54291,  77273,  95922, 159269, 206187,\n",
       "        211821, 239445, 241345, 299491, 320946, 328597, 337325, 394140]),\n",
       " array([22, 21, 21, 36, 31, 25, 21, 23, 19, 26, 26, 28, 23, 23, 29, 25]))"
      ]
     },
     "execution_count": 89,
     "metadata": {},
     "output_type": "execute_result"
    }
   ],
   "source": [
    "np.unique(np.array(entries_nan_dist_and_40_runners), return_counts = True)"
   ]
  },
  {
   "cell_type": "markdown",
   "id": "36ddbccc",
   "metadata": {},
   "source": [
    "This is odd because we see that there are usually _multiple horses that arrive in 40th in a race with 40 horses_. While it seems possible to correct these programmatically, this probably represents bad manual input. In any case, races with a number of horses exceeding some threshold (< 40) will be dropped to make this tractable so we will preemptively drop these."
   ]
  },
  {
   "cell_type": "code",
   "execution_count": 90,
   "id": "1a22f5c4",
   "metadata": {},
   "outputs": [
    {
     "name": "stdout",
     "output_type": "stream",
     "text": [
      "old shape (320130, 11)\n",
      "new shape (320114, 11)\n"
     ]
    }
   ],
   "source": [
    "# drop all races where there is a horse finishing in 40th place with a race of 40 runners and has a null distance\n",
    "old_shape = races_all_trim_intxn_clean.shape\n",
    "print(f\"old shape {old_shape}\")\n",
    "\n",
    "races_all_trim_intxn_clean = races_all_trim_intxn_clean[\n",
    "                                 ~races_all_trim_intxn_clean['rid'].isin(races_nan_dist_and_40_runners)\n",
    "                             ]\n",
    "\n",
    "new_shape = races_all_trim_intxn_clean.shape\n",
    "print(f\"new shape {new_shape}\")\n",
    "\n",
    "assert old_shape[0] - len(races_nan_dist_and_40_runners) == new_shape[0]"
   ]
  },
  {
   "cell_type": "code",
   "execution_count": 91,
   "id": "68f90c70",
   "metadata": {},
   "outputs": [
    {
     "name": "stdout",
     "output_type": "stream",
     "text": [
      "old shape (3339586, 18)\n",
      "new shape (3338946, 18)\n"
     ]
    }
   ],
   "source": [
    "# drop all horse entries that place in 40th with a race of 40 runners and have have null distance\n",
    "old_shape = horses_all_trim_intxn_clean.shape\n",
    "print(f\"old shape {old_shape}\")\n",
    "\n",
    "horses_all_trim_intxn_clean = horses_all_trim_intxn_clean[\n",
    "                                 ~horses_all_trim_intxn_clean['rid'].isin(races_nan_dist_and_40_runners)\n",
    "                             ]\n",
    "\n",
    "new_shape = horses_all_trim_intxn_clean.shape\n",
    "print(f\"new shape {new_shape}\")"
   ]
  },
  {
   "cell_type": "code",
   "execution_count": 92,
   "id": "4e9a9143",
   "metadata": {},
   "outputs": [],
   "source": [
    "# sanity checks\n",
    "assert set(horses_all_trim_intxn_clean['rid']).symmetric_difference(set(races_all_trim_intxn_clean['rid'])) == set()\n",
    "assert len(horses_all_trim_intxn_clean['rid'][\n",
    "    horses_all_trim_intxn_clean['rid'].isin(races_nan_dist_and_40_runners)\n",
    "]) == 0"
   ]
  },
  {
   "cell_type": "markdown",
   "id": "64130013",
   "metadata": {},
   "source": [
    "Now, we will infer data by approximating that a horse that does not finish a race finishes one \"dist\" (30 lengths) behind the preceding horse. Note that 30 lengths is a lot when it comes to horse racing so this should be a fair assumption of what would logically be an infinite distance to the winner. Dropping these may introduce bias into our data whereas it might be important to know that a horse frequently does not finish."
   ]
  },
  {
   "cell_type": "code",
   "execution_count": 93,
   "id": "32262472",
   "metadata": {},
   "outputs": [
    {
     "data": {
      "text/html": [
       "<div>\n",
       "<style scoped>\n",
       "    .dataframe tbody tr th:only-of-type {\n",
       "        vertical-align: middle;\n",
       "    }\n",
       "\n",
       "    .dataframe tbody tr th {\n",
       "        vertical-align: top;\n",
       "    }\n",
       "\n",
       "    .dataframe thead th {\n",
       "        text-align: right;\n",
       "    }\n",
       "</style>\n",
       "<table border=\"1\" class=\"dataframe\">\n",
       "  <thead>\n",
       "    <tr style=\"text-align: right;\">\n",
       "      <th></th>\n",
       "      <th>rid</th>\n",
       "      <th>horseName</th>\n",
       "      <th>age</th>\n",
       "      <th>saddle</th>\n",
       "      <th>decimalPrice</th>\n",
       "      <th>trainerName</th>\n",
       "      <th>jockeyName</th>\n",
       "      <th>position</th>\n",
       "      <th>positionL</th>\n",
       "      <th>dist</th>\n",
       "      <th>outHandicap</th>\n",
       "      <th>RPR</th>\n",
       "      <th>TR</th>\n",
       "      <th>OR</th>\n",
       "      <th>father</th>\n",
       "      <th>mother</th>\n",
       "      <th>gfather</th>\n",
       "      <th>weight</th>\n",
       "    </tr>\n",
       "  </thead>\n",
       "  <tbody>\n",
       "    <tr>\n",
       "      <th>45</th>\n",
       "      <td>13063</td>\n",
       "      <td>Sharp Command</td>\n",
       "      <td>4.0</td>\n",
       "      <td>5.0</td>\n",
       "      <td>0.200000</td>\n",
       "      <td>P Eccles</td>\n",
       "      <td>J Weaver</td>\n",
       "      <td>40</td>\n",
       "      <td>NaN</td>\n",
       "      <td>NaN</td>\n",
       "      <td>NaN</td>\n",
       "      <td>NaN</td>\n",
       "      <td>NaN</td>\n",
       "      <td>53.0</td>\n",
       "      <td>Sharpo</td>\n",
       "      <td>Bluish</td>\n",
       "      <td>Alleged</td>\n",
       "      <td>55</td>\n",
       "    </tr>\n",
       "    <tr>\n",
       "      <th>609</th>\n",
       "      <td>302858</td>\n",
       "      <td>Graignamanagh</td>\n",
       "      <td>6.0</td>\n",
       "      <td>3.0</td>\n",
       "      <td>0.307692</td>\n",
       "      <td>Harry De Bromhead</td>\n",
       "      <td>J R Barry</td>\n",
       "      <td>40</td>\n",
       "      <td>NaN</td>\n",
       "      <td>NaN</td>\n",
       "      <td>NaN</td>\n",
       "      <td>NaN</td>\n",
       "      <td>NaN</td>\n",
       "      <td>NaN</td>\n",
       "      <td>Tremblant</td>\n",
       "      <td>Feathermore</td>\n",
       "      <td>Crash Course</td>\n",
       "      <td>73</td>\n",
       "    </tr>\n",
       "    <tr>\n",
       "      <th>696</th>\n",
       "      <td>49027</td>\n",
       "      <td>Ask The Butler</td>\n",
       "      <td>6.0</td>\n",
       "      <td>1.0</td>\n",
       "      <td>0.444444</td>\n",
       "      <td>C Roche</td>\n",
       "      <td>Conor O'Dwyer</td>\n",
       "      <td>40</td>\n",
       "      <td>NaN</td>\n",
       "      <td>NaN</td>\n",
       "      <td>NaN</td>\n",
       "      <td>NaN</td>\n",
       "      <td>NaN</td>\n",
       "      <td>NaN</td>\n",
       "      <td>Carlingford Castle</td>\n",
       "      <td>Ask Breda</td>\n",
       "      <td>Ya Zaman</td>\n",
       "      <td>74</td>\n",
       "    </tr>\n",
       "    <tr>\n",
       "      <th>716</th>\n",
       "      <td>294935</td>\n",
       "      <td>Alicharger</td>\n",
       "      <td>7.0</td>\n",
       "      <td>4.0</td>\n",
       "      <td>0.019608</td>\n",
       "      <td>P Monteith</td>\n",
       "      <td>Tony Dobbin</td>\n",
       "      <td>40</td>\n",
       "      <td>NaN</td>\n",
       "      <td>NaN</td>\n",
       "      <td>NaN</td>\n",
       "      <td>NaN</td>\n",
       "      <td>NaN</td>\n",
       "      <td>NaN</td>\n",
       "      <td>Alias Smith</td>\n",
       "      <td>Amirati</td>\n",
       "      <td>Amber Rama</td>\n",
       "      <td>71</td>\n",
       "    </tr>\n",
       "    <tr>\n",
       "      <th>717</th>\n",
       "      <td>294935</td>\n",
       "      <td>Herbert Lodge</td>\n",
       "      <td>8.0</td>\n",
       "      <td>6.0</td>\n",
       "      <td>0.363636</td>\n",
       "      <td>Kim Bailey</td>\n",
       "      <td>Conor O'Dwyer</td>\n",
       "      <td>40</td>\n",
       "      <td>NaN</td>\n",
       "      <td>NaN</td>\n",
       "      <td>NaN</td>\n",
       "      <td>NaN</td>\n",
       "      <td>NaN</td>\n",
       "      <td>NaN</td>\n",
       "      <td>Montelimar</td>\n",
       "      <td>Mindyourbusiness</td>\n",
       "      <td>Run The Gantlet</td>\n",
       "      <td>71</td>\n",
       "    </tr>\n",
       "    <tr>\n",
       "      <th>...</th>\n",
       "      <td>...</td>\n",
       "      <td>...</td>\n",
       "      <td>...</td>\n",
       "      <td>...</td>\n",
       "      <td>...</td>\n",
       "      <td>...</td>\n",
       "      <td>...</td>\n",
       "      <td>...</td>\n",
       "      <td>...</td>\n",
       "      <td>...</td>\n",
       "      <td>...</td>\n",
       "      <td>...</td>\n",
       "      <td>...</td>\n",
       "      <td>...</td>\n",
       "      <td>...</td>\n",
       "      <td>...</td>\n",
       "      <td>...</td>\n",
       "      <td>...</td>\n",
       "    </tr>\n",
       "    <tr>\n",
       "      <th>4107302</th>\n",
       "      <td>201116</td>\n",
       "      <td>Camair Crusader</td>\n",
       "      <td>5.0</td>\n",
       "      <td>8.0</td>\n",
       "      <td>0.058824</td>\n",
       "      <td>W McKeown</td>\n",
       "      <td>Alan Dempsey</td>\n",
       "      <td>40</td>\n",
       "      <td>NaN</td>\n",
       "      <td>NaN</td>\n",
       "      <td>NaN</td>\n",
       "      <td>73.0</td>\n",
       "      <td>73.0</td>\n",
       "      <td>66.0</td>\n",
       "      <td>Jolly Jake</td>\n",
       "      <td>Sigrid's Dream</td>\n",
       "      <td>Triple Bend</td>\n",
       "      <td>64</td>\n",
       "    </tr>\n",
       "    <tr>\n",
       "      <th>4107303</th>\n",
       "      <td>201116</td>\n",
       "      <td>Classic Exhibit</td>\n",
       "      <td>10.0</td>\n",
       "      <td>4.0</td>\n",
       "      <td>0.066667</td>\n",
       "      <td>A Streeter</td>\n",
       "      <td>Russ Garritty</td>\n",
       "      <td>40</td>\n",
       "      <td>NaN</td>\n",
       "      <td>NaN</td>\n",
       "      <td>NaN</td>\n",
       "      <td>NaN</td>\n",
       "      <td>NaN</td>\n",
       "      <td>77.0</td>\n",
       "      <td>Tate Gallery</td>\n",
       "      <td>See The Tops</td>\n",
       "      <td>Cure The Blues</td>\n",
       "      <td>69</td>\n",
       "    </tr>\n",
       "    <tr>\n",
       "      <th>4107304</th>\n",
       "      <td>201116</td>\n",
       "      <td>Faustnluce Lady</td>\n",
       "      <td>10.0</td>\n",
       "      <td>13.0</td>\n",
       "      <td>0.009901</td>\n",
       "      <td>W J Smith</td>\n",
       "      <td>P Griffiths</td>\n",
       "      <td>40</td>\n",
       "      <td>NaN</td>\n",
       "      <td>NaN</td>\n",
       "      <td>6.0</td>\n",
       "      <td>NaN</td>\n",
       "      <td>NaN</td>\n",
       "      <td>67.0</td>\n",
       "      <td>Faustus</td>\n",
       "      <td>Miss Friendly</td>\n",
       "      <td>Status Seeker</td>\n",
       "      <td>62</td>\n",
       "    </tr>\n",
       "    <tr>\n",
       "      <th>4107309</th>\n",
       "      <td>203745</td>\n",
       "      <td>Ealing Court</td>\n",
       "      <td>10.0</td>\n",
       "      <td>5.0</td>\n",
       "      <td>0.133333</td>\n",
       "      <td>Tony Carroll</td>\n",
       "      <td>Ollie McPhail</td>\n",
       "      <td>40</td>\n",
       "      <td>NaN</td>\n",
       "      <td>NaN</td>\n",
       "      <td>NaN</td>\n",
       "      <td>NaN</td>\n",
       "      <td>NaN</td>\n",
       "      <td>90.0</td>\n",
       "      <td>Blazing Saddles</td>\n",
       "      <td>Fille De General</td>\n",
       "      <td>Brigadier Gerard</td>\n",
       "      <td>68</td>\n",
       "    </tr>\n",
       "    <tr>\n",
       "      <th>4107314</th>\n",
       "      <td>213759</td>\n",
       "      <td>What's Up Boys</td>\n",
       "      <td>5.0</td>\n",
       "      <td>4.0</td>\n",
       "      <td>0.142857</td>\n",
       "      <td>Philip Hobbs</td>\n",
       "      <td>Richard Johnson</td>\n",
       "      <td>40</td>\n",
       "      <td>NaN</td>\n",
       "      <td>NaN</td>\n",
       "      <td>NaN</td>\n",
       "      <td>138.0</td>\n",
       "      <td>NaN</td>\n",
       "      <td>129.0</td>\n",
       "      <td>Supreme Leader</td>\n",
       "      <td>Maryville Bick</td>\n",
       "      <td>Malacate</td>\n",
       "      <td>73</td>\n",
       "    </tr>\n",
       "  </tbody>\n",
       "</table>\n",
       "<p>223768 rows × 18 columns</p>\n",
       "</div>"
      ],
      "text/plain": [
       "            rid        horseName   age  saddle  decimalPrice  \\\n",
       "45        13063    Sharp Command   4.0     5.0      0.200000   \n",
       "609      302858    Graignamanagh   6.0     3.0      0.307692   \n",
       "696       49027   Ask The Butler   6.0     1.0      0.444444   \n",
       "716      294935       Alicharger   7.0     4.0      0.019608   \n",
       "717      294935    Herbert Lodge   8.0     6.0      0.363636   \n",
       "...         ...              ...   ...     ...           ...   \n",
       "4107302  201116  Camair Crusader   5.0     8.0      0.058824   \n",
       "4107303  201116  Classic Exhibit  10.0     4.0      0.066667   \n",
       "4107304  201116  Faustnluce Lady  10.0    13.0      0.009901   \n",
       "4107309  203745     Ealing Court  10.0     5.0      0.133333   \n",
       "4107314  213759   What's Up Boys   5.0     4.0      0.142857   \n",
       "\n",
       "               trainerName       jockeyName  position positionL  dist  \\\n",
       "45                P Eccles         J Weaver        40       NaN   NaN   \n",
       "609      Harry De Bromhead        J R Barry        40       NaN   NaN   \n",
       "696                C Roche    Conor O'Dwyer        40       NaN   NaN   \n",
       "716             P Monteith      Tony Dobbin        40       NaN   NaN   \n",
       "717             Kim Bailey    Conor O'Dwyer        40       NaN   NaN   \n",
       "...                    ...              ...       ...       ...   ...   \n",
       "4107302          W McKeown     Alan Dempsey        40       NaN   NaN   \n",
       "4107303         A Streeter    Russ Garritty        40       NaN   NaN   \n",
       "4107304          W J Smith      P Griffiths        40       NaN   NaN   \n",
       "4107309       Tony Carroll    Ollie McPhail        40       NaN   NaN   \n",
       "4107314       Philip Hobbs  Richard Johnson        40       NaN   NaN   \n",
       "\n",
       "         outHandicap    RPR    TR     OR              father  \\\n",
       "45               NaN    NaN   NaN   53.0              Sharpo   \n",
       "609              NaN    NaN   NaN    NaN           Tremblant   \n",
       "696              NaN    NaN   NaN    NaN  Carlingford Castle   \n",
       "716              NaN    NaN   NaN    NaN         Alias Smith   \n",
       "717              NaN    NaN   NaN    NaN          Montelimar   \n",
       "...              ...    ...   ...    ...                 ...   \n",
       "4107302          NaN   73.0  73.0   66.0          Jolly Jake   \n",
       "4107303          NaN    NaN   NaN   77.0        Tate Gallery   \n",
       "4107304          6.0    NaN   NaN   67.0             Faustus   \n",
       "4107309          NaN    NaN   NaN   90.0     Blazing Saddles   \n",
       "4107314          NaN  138.0   NaN  129.0      Supreme Leader   \n",
       "\n",
       "                   mother           gfather  weight  \n",
       "45                 Bluish           Alleged      55  \n",
       "609           Feathermore      Crash Course      73  \n",
       "696             Ask Breda          Ya Zaman      74  \n",
       "716               Amirati        Amber Rama      71  \n",
       "717      Mindyourbusiness   Run The Gantlet      71  \n",
       "...                   ...               ...     ...  \n",
       "4107302    Sigrid's Dream       Triple Bend      64  \n",
       "4107303      See The Tops    Cure The Blues      69  \n",
       "4107304     Miss Friendly     Status Seeker      62  \n",
       "4107309  Fille De General  Brigadier Gerard      68  \n",
       "4107314    Maryville Bick          Malacate      73  \n",
       "\n",
       "[223768 rows x 18 columns]"
      ]
     },
     "execution_count": 93,
     "metadata": {},
     "output_type": "execute_result"
    }
   ],
   "source": [
    "entries_nan_dist_p40 = horses_all_trim_intxn_clean[\n",
    "    horses_all_trim_intxn_clean['dist'].isnull() &\n",
    "    (horses_all_trim_intxn_clean['position'] == 40)\n",
    "]\n",
    "entries_nan_dist_p40"
   ]
  },
  {
   "cell_type": "code",
   "execution_count": 94,
   "id": "72789815",
   "metadata": {
    "scrolled": false
   },
   "outputs": [
    {
     "data": {
      "text/html": [
       "<div>\n",
       "<style scoped>\n",
       "    .dataframe tbody tr th:only-of-type {\n",
       "        vertical-align: middle;\n",
       "    }\n",
       "\n",
       "    .dataframe tbody tr th {\n",
       "        vertical-align: top;\n",
       "    }\n",
       "\n",
       "    .dataframe thead th {\n",
       "        text-align: right;\n",
       "    }\n",
       "</style>\n",
       "<table border=\"1\" class=\"dataframe\">\n",
       "  <thead>\n",
       "    <tr style=\"text-align: right;\">\n",
       "      <th></th>\n",
       "      <th>rid</th>\n",
       "      <th>horseName</th>\n",
       "      <th>age</th>\n",
       "      <th>saddle</th>\n",
       "      <th>decimalPrice</th>\n",
       "      <th>trainerName</th>\n",
       "      <th>jockeyName</th>\n",
       "      <th>position</th>\n",
       "      <th>positionL</th>\n",
       "      <th>dist</th>\n",
       "      <th>outHandicap</th>\n",
       "      <th>RPR</th>\n",
       "      <th>TR</th>\n",
       "      <th>OR</th>\n",
       "      <th>father</th>\n",
       "      <th>mother</th>\n",
       "      <th>gfather</th>\n",
       "      <th>weight</th>\n",
       "    </tr>\n",
       "  </thead>\n",
       "  <tbody>\n",
       "    <tr>\n",
       "      <th>4107293</th>\n",
       "      <td>201116</td>\n",
       "      <td>Empire State</td>\n",
       "      <td>4.0</td>\n",
       "      <td>3.0</td>\n",
       "      <td>0.222222</td>\n",
       "      <td>Richard Fahey</td>\n",
       "      <td>Derek Byrne</td>\n",
       "      <td>1</td>\n",
       "      <td>NaN</td>\n",
       "      <td>NaN</td>\n",
       "      <td>NaN</td>\n",
       "      <td>93.0</td>\n",
       "      <td>87.0</td>\n",
       "      <td>78.0</td>\n",
       "      <td>High Estate</td>\n",
       "      <td>Palm Dove</td>\n",
       "      <td>Storm Bird</td>\n",
       "      <td>70</td>\n",
       "    </tr>\n",
       "    <tr>\n",
       "      <th>4107294</th>\n",
       "      <td>201116</td>\n",
       "      <td>Earp</td>\n",
       "      <td>7.0</td>\n",
       "      <td>1.0</td>\n",
       "      <td>0.153846</td>\n",
       "      <td>George Moore</td>\n",
       "      <td>N Hannity</td>\n",
       "      <td>2</td>\n",
       "      <td>12</td>\n",
       "      <td>NaN</td>\n",
       "      <td>NaN</td>\n",
       "      <td>90.0</td>\n",
       "      <td>84.0</td>\n",
       "      <td>87.0</td>\n",
       "      <td>Anita's Prince</td>\n",
       "      <td>Ottavia Abu</td>\n",
       "      <td>Octavo</td>\n",
       "      <td>72</td>\n",
       "    </tr>\n",
       "    <tr>\n",
       "      <th>4107295</th>\n",
       "      <td>201116</td>\n",
       "      <td>Navan Project</td>\n",
       "      <td>5.0</td>\n",
       "      <td>7.0</td>\n",
       "      <td>0.117647</td>\n",
       "      <td>A R Dicken</td>\n",
       "      <td>R Supple</td>\n",
       "      <td>3</td>\n",
       "      <td>2</td>\n",
       "      <td>14.0</td>\n",
       "      <td>NaN</td>\n",
       "      <td>65.0</td>\n",
       "      <td>62.0</td>\n",
       "      <td>67.0</td>\n",
       "      <td>Project Manager</td>\n",
       "      <td>Just Possible</td>\n",
       "      <td>Kalaglow</td>\n",
       "      <td>65</td>\n",
       "    </tr>\n",
       "    <tr>\n",
       "      <th>4107296</th>\n",
       "      <td>201116</td>\n",
       "      <td>Lucy Tufty</td>\n",
       "      <td>8.0</td>\n",
       "      <td>11.0</td>\n",
       "      <td>0.038462</td>\n",
       "      <td>George Prodromou</td>\n",
       "      <td>Lee Vickers</td>\n",
       "      <td>4</td>\n",
       "      <td>4</td>\n",
       "      <td>18.0</td>\n",
       "      <td>4.0</td>\n",
       "      <td>57.0</td>\n",
       "      <td>54.0</td>\n",
       "      <td>63.0</td>\n",
       "      <td>Vin St Benet</td>\n",
       "      <td>Manor Farm Toots</td>\n",
       "      <td>Royalty</td>\n",
       "      <td>60</td>\n",
       "    </tr>\n",
       "    <tr>\n",
       "      <th>4107297</th>\n",
       "      <td>201116</td>\n",
       "      <td>Fortune Hopper</td>\n",
       "      <td>5.0</td>\n",
       "      <td>5.0</td>\n",
       "      <td>0.142857</td>\n",
       "      <td>Martin Todhunter</td>\n",
       "      <td>Brian Harding</td>\n",
       "      <td>5</td>\n",
       "      <td>10</td>\n",
       "      <td>28.0</td>\n",
       "      <td>NaN</td>\n",
       "      <td>70.0</td>\n",
       "      <td>58.0</td>\n",
       "      <td>76.0</td>\n",
       "      <td>Rock Hopper</td>\n",
       "      <td>Lots Of Luck</td>\n",
       "      <td>Neltino</td>\n",
       "      <td>69</td>\n",
       "    </tr>\n",
       "    <tr>\n",
       "      <th>4107298</th>\n",
       "      <td>201116</td>\n",
       "      <td>Brancepeth Belle</td>\n",
       "      <td>9.0</td>\n",
       "      <td>2.0</td>\n",
       "      <td>0.266667</td>\n",
       "      <td>N B Mason</td>\n",
       "      <td>G F Ryan</td>\n",
       "      <td>6</td>\n",
       "      <td>11</td>\n",
       "      <td>39.0</td>\n",
       "      <td>NaN</td>\n",
       "      <td>53.0</td>\n",
       "      <td>50.0</td>\n",
       "      <td>80.0</td>\n",
       "      <td>Supreme Leader</td>\n",
       "      <td>Head Of The Gang</td>\n",
       "      <td>Pollerton</td>\n",
       "      <td>71</td>\n",
       "    </tr>\n",
       "    <tr>\n",
       "      <th>4107299</th>\n",
       "      <td>201116</td>\n",
       "      <td>Cee-N-K</td>\n",
       "      <td>5.0</td>\n",
       "      <td>10.0</td>\n",
       "      <td>0.038462</td>\n",
       "      <td>D McCain</td>\n",
       "      <td>G Lake</td>\n",
       "      <td>7</td>\n",
       "      <td>21</td>\n",
       "      <td>60.0</td>\n",
       "      <td>2.0</td>\n",
       "      <td>15.0</td>\n",
       "      <td>12.0</td>\n",
       "      <td>63.0</td>\n",
       "      <td>Thatching</td>\n",
       "      <td>Valois</td>\n",
       "      <td>Lyphard</td>\n",
       "      <td>60</td>\n",
       "    </tr>\n",
       "    <tr>\n",
       "      <th>4107300</th>\n",
       "      <td>201116</td>\n",
       "      <td>Count Keni</td>\n",
       "      <td>4.0</td>\n",
       "      <td>12.0</td>\n",
       "      <td>0.009901</td>\n",
       "      <td>I Park</td>\n",
       "      <td>N Old Smith</td>\n",
       "      <td>8</td>\n",
       "      <td>3</td>\n",
       "      <td>63.0</td>\n",
       "      <td>6.0</td>\n",
       "      <td>12.0</td>\n",
       "      <td>9.0</td>\n",
       "      <td>63.0</td>\n",
       "      <td>Formidable I</td>\n",
       "      <td>Flying Amy</td>\n",
       "      <td>Norwick</td>\n",
       "      <td>63</td>\n",
       "    </tr>\n",
       "    <tr>\n",
       "      <th>4107301</th>\n",
       "      <td>201116</td>\n",
       "      <td>Rose Flyer</td>\n",
       "      <td>9.0</td>\n",
       "      <td>9.0</td>\n",
       "      <td>0.038462</td>\n",
       "      <td>Michael Chapman</td>\n",
       "      <td>W Worthington</td>\n",
       "      <td>9</td>\n",
       "      <td>30</td>\n",
       "      <td>93.0</td>\n",
       "      <td>NaN</td>\n",
       "      <td>-9.0</td>\n",
       "      <td>1.0</td>\n",
       "      <td>64.0</td>\n",
       "      <td>Nordico</td>\n",
       "      <td>String Of Straw</td>\n",
       "      <td>Thatching</td>\n",
       "      <td>63</td>\n",
       "    </tr>\n",
       "    <tr>\n",
       "      <th>4107302</th>\n",
       "      <td>201116</td>\n",
       "      <td>Camair Crusader</td>\n",
       "      <td>5.0</td>\n",
       "      <td>8.0</td>\n",
       "      <td>0.058824</td>\n",
       "      <td>W McKeown</td>\n",
       "      <td>Alan Dempsey</td>\n",
       "      <td>40</td>\n",
       "      <td>NaN</td>\n",
       "      <td>NaN</td>\n",
       "      <td>NaN</td>\n",
       "      <td>73.0</td>\n",
       "      <td>73.0</td>\n",
       "      <td>66.0</td>\n",
       "      <td>Jolly Jake</td>\n",
       "      <td>Sigrid's Dream</td>\n",
       "      <td>Triple Bend</td>\n",
       "      <td>64</td>\n",
       "    </tr>\n",
       "    <tr>\n",
       "      <th>4107303</th>\n",
       "      <td>201116</td>\n",
       "      <td>Classic Exhibit</td>\n",
       "      <td>10.0</td>\n",
       "      <td>4.0</td>\n",
       "      <td>0.066667</td>\n",
       "      <td>A Streeter</td>\n",
       "      <td>Russ Garritty</td>\n",
       "      <td>40</td>\n",
       "      <td>NaN</td>\n",
       "      <td>NaN</td>\n",
       "      <td>NaN</td>\n",
       "      <td>NaN</td>\n",
       "      <td>NaN</td>\n",
       "      <td>77.0</td>\n",
       "      <td>Tate Gallery</td>\n",
       "      <td>See The Tops</td>\n",
       "      <td>Cure The Blues</td>\n",
       "      <td>69</td>\n",
       "    </tr>\n",
       "    <tr>\n",
       "      <th>4107304</th>\n",
       "      <td>201116</td>\n",
       "      <td>Faustnluce Lady</td>\n",
       "      <td>10.0</td>\n",
       "      <td>13.0</td>\n",
       "      <td>0.009901</td>\n",
       "      <td>W J Smith</td>\n",
       "      <td>P Griffiths</td>\n",
       "      <td>40</td>\n",
       "      <td>NaN</td>\n",
       "      <td>NaN</td>\n",
       "      <td>6.0</td>\n",
       "      <td>NaN</td>\n",
       "      <td>NaN</td>\n",
       "      <td>67.0</td>\n",
       "      <td>Faustus</td>\n",
       "      <td>Miss Friendly</td>\n",
       "      <td>Status Seeker</td>\n",
       "      <td>62</td>\n",
       "    </tr>\n",
       "  </tbody>\n",
       "</table>\n",
       "</div>"
      ],
      "text/plain": [
       "            rid         horseName   age  saddle  decimalPrice  \\\n",
       "4107293  201116      Empire State   4.0     3.0      0.222222   \n",
       "4107294  201116              Earp   7.0     1.0      0.153846   \n",
       "4107295  201116     Navan Project   5.0     7.0      0.117647   \n",
       "4107296  201116        Lucy Tufty   8.0    11.0      0.038462   \n",
       "4107297  201116    Fortune Hopper   5.0     5.0      0.142857   \n",
       "4107298  201116  Brancepeth Belle   9.0     2.0      0.266667   \n",
       "4107299  201116           Cee-N-K   5.0    10.0      0.038462   \n",
       "4107300  201116        Count Keni   4.0    12.0      0.009901   \n",
       "4107301  201116        Rose Flyer   9.0     9.0      0.038462   \n",
       "4107302  201116   Camair Crusader   5.0     8.0      0.058824   \n",
       "4107303  201116   Classic Exhibit  10.0     4.0      0.066667   \n",
       "4107304  201116   Faustnluce Lady  10.0    13.0      0.009901   \n",
       "\n",
       "              trainerName     jockeyName  position positionL  dist  \\\n",
       "4107293     Richard Fahey    Derek Byrne         1       NaN   NaN   \n",
       "4107294      George Moore      N Hannity         2        12   NaN   \n",
       "4107295        A R Dicken       R Supple         3         2  14.0   \n",
       "4107296  George Prodromou    Lee Vickers         4         4  18.0   \n",
       "4107297  Martin Todhunter  Brian Harding         5        10  28.0   \n",
       "4107298         N B Mason       G F Ryan         6        11  39.0   \n",
       "4107299          D McCain         G Lake         7        21  60.0   \n",
       "4107300            I Park    N Old Smith         8         3  63.0   \n",
       "4107301   Michael Chapman  W Worthington         9        30  93.0   \n",
       "4107302         W McKeown   Alan Dempsey        40       NaN   NaN   \n",
       "4107303        A Streeter  Russ Garritty        40       NaN   NaN   \n",
       "4107304         W J Smith    P Griffiths        40       NaN   NaN   \n",
       "\n",
       "         outHandicap   RPR    TR    OR           father            mother  \\\n",
       "4107293          NaN  93.0  87.0  78.0      High Estate         Palm Dove   \n",
       "4107294          NaN  90.0  84.0  87.0   Anita's Prince       Ottavia Abu   \n",
       "4107295          NaN  65.0  62.0  67.0  Project Manager     Just Possible   \n",
       "4107296          4.0  57.0  54.0  63.0     Vin St Benet  Manor Farm Toots   \n",
       "4107297          NaN  70.0  58.0  76.0      Rock Hopper      Lots Of Luck   \n",
       "4107298          NaN  53.0  50.0  80.0   Supreme Leader  Head Of The Gang   \n",
       "4107299          2.0  15.0  12.0  63.0        Thatching            Valois   \n",
       "4107300          6.0  12.0   9.0  63.0     Formidable I        Flying Amy   \n",
       "4107301          NaN  -9.0   1.0  64.0          Nordico   String Of Straw   \n",
       "4107302          NaN  73.0  73.0  66.0       Jolly Jake    Sigrid's Dream   \n",
       "4107303          NaN   NaN   NaN  77.0     Tate Gallery      See The Tops   \n",
       "4107304          6.0   NaN   NaN  67.0          Faustus     Miss Friendly   \n",
       "\n",
       "                gfather  weight  \n",
       "4107293      Storm Bird      70  \n",
       "4107294          Octavo      72  \n",
       "4107295        Kalaglow      65  \n",
       "4107296         Royalty      60  \n",
       "4107297         Neltino      69  \n",
       "4107298       Pollerton      71  \n",
       "4107299         Lyphard      60  \n",
       "4107300         Norwick      63  \n",
       "4107301       Thatching      63  \n",
       "4107302     Triple Bend      64  \n",
       "4107303  Cure The Blues      69  \n",
       "4107304   Status Seeker      62  "
      ]
     },
     "execution_count": 94,
     "metadata": {},
     "output_type": "execute_result"
    }
   ],
   "source": [
    "df = horses_all_trim_intxn_clean[horses_all_trim_intxn_clean['rid'] == 201116]\n",
    "df"
   ]
  },
  {
   "cell_type": "code",
   "execution_count": 96,
   "id": "bb1ef2d5",
   "metadata": {},
   "outputs": [],
   "source": [
    "assert get_dist_of_horse(df, 4107302) == 123"
   ]
  },
  {
   "cell_type": "code",
   "execution_count": 97,
   "id": "caf483c1",
   "metadata": {},
   "outputs": [],
   "source": [
    "assert get_dist_of_horse(df, 4107303) == 123"
   ]
  },
  {
   "cell_type": "code",
   "execution_count": 98,
   "id": "49760ed4",
   "metadata": {},
   "outputs": [
    {
     "name": "stderr",
     "output_type": "stream",
     "text": [
      "223768it [16:25, 227.03it/s]\n"
     ]
    }
   ],
   "source": [
    "# takes 15 minutes to run\n",
    "\n",
    "for idx, entry in tqdm(entries_nan_dist_p40.iterrows()):\n",
    "    df = horses_all_trim_intxn_clean[horses_all_trim_intxn_clean['rid'] == entry['rid']]\n",
    "    dist = get_dist_of_horse(df, idx)\n",
    "    horses_all_trim_intxn_clean.at[idx, 'dist'] = dist"
   ]
  },
  {
   "cell_type": "code",
   "execution_count": 101,
   "id": "8c40bb66",
   "metadata": {},
   "outputs": [],
   "source": [
    "entries_nan_dist_p40 = horses_all_trim_intxn_clean[\n",
    "    horses_all_trim_intxn_clean['dist'].isnull() &\n",
    "    (horses_all_trim_intxn_clean['position'] == 40)\n",
    "]\n",
    "assert len(entries_nan_dist_p40) == 0"
   ]
  },
  {
   "cell_type": "markdown",
   "id": "3d70d572",
   "metadata": {},
   "source": [
    "We should just be left with `dist = NaN` where `position = 1` or `position = 2`."
   ]
  },
  {
   "cell_type": "code",
   "execution_count": 102,
   "id": "8a3d781a",
   "metadata": {},
   "outputs": [],
   "source": [
    "entries_nan_dist = horses_all_trim_intxn_clean[\n",
    "    horses_all_trim_intxn_clean['dist'].isnull() &\n",
    "    (~horses_all_trim_intxn_clean['position'].isin([1,2]))\n",
    "]\n",
    "assert len(entries_nan_dist) == 0"
   ]
  },
  {
   "cell_type": "markdown",
   "id": "1fda328e",
   "metadata": {},
   "source": [
    "Now, for horses that finish with `position = 1` or `position = 2` (which all horses with `dist = 0` currently satisfy, we can safely fill in `dist = 0`; this matches the definition of `dist` and _does not infer any data_."
   ]
  },
  {
   "cell_type": "code",
   "execution_count": 103,
   "id": "0eb7eef2",
   "metadata": {},
   "outputs": [],
   "source": [
    "horses_all_trim_intxn_clean['dist'].fillna(0, inplace=True)"
   ]
  },
  {
   "cell_type": "code",
   "execution_count": 104,
   "id": "2086e0e4",
   "metadata": {},
   "outputs": [],
   "source": [
    "entries_nan_dist = horses_all_trim_intxn_clean[\n",
    "    horses_all_trim_intxn_clean['dist'].isnull()\n",
    "]\n",
    "assert len(entries_nan_dist) == 0"
   ]
  },
  {
   "cell_type": "markdown",
   "id": "ed42453a",
   "metadata": {},
   "source": [
    "### `outHandicap`"
   ]
  },
  {
   "cell_type": "markdown",
   "id": "85211fce",
   "metadata": {},
   "source": [
    "Anywhere the `outHandicap = NaN` this can safely be replaced with `outHandicap = 0`. Since a handicap is an \"opt-in\" service and not the default."
   ]
  },
  {
   "cell_type": "code",
   "execution_count": 105,
   "id": "9639bc3b",
   "metadata": {},
   "outputs": [
    {
     "data": {
      "text/plain": [
       "0"
      ]
     },
     "execution_count": 105,
     "metadata": {},
     "output_type": "execute_result"
    }
   ],
   "source": [
    "len(horses_all_trim_intxn_clean[\n",
    "    horses_all_trim_intxn_clean['outHandicap'] < 0\n",
    "])"
   ]
  },
  {
   "cell_type": "markdown",
   "id": "20b363a8",
   "metadata": {},
   "source": [
    "Good, no negative values for `outHandicap`."
   ]
  },
  {
   "cell_type": "code",
   "execution_count": 106,
   "id": "14a3691c",
   "metadata": {},
   "outputs": [
    {
     "data": {
      "text/plain": [
       "3254031"
      ]
     },
     "execution_count": 106,
     "metadata": {},
     "output_type": "execute_result"
    }
   ],
   "source": [
    "entries_nan_outhandicap = horses_all_trim_intxn_clean[\n",
    "    horses_all_trim_intxn_clean['outHandicap'].isnull()\n",
    "]\n",
    "len(entries_nan_outhandicap)"
   ]
  },
  {
   "cell_type": "markdown",
   "id": "19a22a34",
   "metadata": {},
   "source": [
    "Most entries do not have an `outHandicap`, so this will probably be pretty inconsequential, nonetheless we can fill these values in."
   ]
  },
  {
   "cell_type": "code",
   "execution_count": 107,
   "id": "31c9a352",
   "metadata": {},
   "outputs": [],
   "source": [
    "horses_all_trim_intxn_clean['outHandicap'].fillna(0, inplace=True)"
   ]
  },
  {
   "cell_type": "code",
   "execution_count": 108,
   "id": "0dad3b1e",
   "metadata": {},
   "outputs": [],
   "source": [
    "entries_nan_outhandicap = horses_all_trim_intxn_clean[\n",
    "    horses_all_trim_intxn_clean['outHandicap'].isnull()\n",
    "]\n",
    "assert len(entries_nan_outhandicap) == 0"
   ]
  },
  {
   "cell_type": "markdown",
   "id": "8c8d66e5",
   "metadata": {},
   "source": [
    "### `RPR`"
   ]
  },
  {
   "cell_type": "markdown",
   "id": "4bb1de71",
   "metadata": {},
   "source": [
    "Since this value is a rating, we will accept any real value here. That is, we will only correct where `RPR = NaN`."
   ]
  },
  {
   "cell_type": "code",
   "execution_count": 109,
   "id": "d091b61e",
   "metadata": {},
   "outputs": [
    {
     "data": {
      "text/plain": [
       "571970"
      ]
     },
     "execution_count": 109,
     "metadata": {},
     "output_type": "execute_result"
    }
   ],
   "source": [
    "entries_nan_rpr = horses_all_trim_intxn_clean[\n",
    "    horses_all_trim_intxn_clean['RPR'].isnull()\n",
    "]\n",
    "len(entries_nan_rpr)"
   ]
  },
  {
   "cell_type": "markdown",
   "id": "6339f3e7",
   "metadata": {},
   "source": [
    "Since this represents a reasonably proportion of the dataset, we do not want to simply drop everywhere where `NaN` occurs. Instead, we will replace `RPR = NaN` with `RPR = mean(RPR)`. Consider the properties this buys us: when we eventually standardize the data, this features will zero out everywhere that we originally had `RPR = NaN` and _provide no additional information to the model_. That is, if this feature zeros out, it will not affect the prediction; it will be like we never observed this at all."
   ]
  },
  {
   "cell_type": "code",
   "execution_count": 110,
   "id": "af08ead1",
   "metadata": {},
   "outputs": [
    {
     "data": {
      "text/plain": [
       "71.87665017694407"
      ]
     },
     "execution_count": 110,
     "metadata": {},
     "output_type": "execute_result"
    }
   ],
   "source": [
    "mean_rpr = np.mean(horses_all_trim_intxn_clean[~horses_all_trim_intxn_clean['RPR'].isnull()]['RPR'])\n",
    "mean_rpr"
   ]
  },
  {
   "cell_type": "code",
   "execution_count": 111,
   "id": "e1c5e1dc",
   "metadata": {},
   "outputs": [],
   "source": [
    "horses_all_trim_intxn_clean['RPR'].fillna(mean_rpr, inplace=True)"
   ]
  },
  {
   "cell_type": "code",
   "execution_count": 112,
   "id": "4e8bc3ca",
   "metadata": {},
   "outputs": [],
   "source": [
    "entries_nan_rpr = horses_all_trim_intxn_clean[\n",
    "    horses_all_trim_intxn_clean['RPR'].isnull()\n",
    "]\n",
    "assert len(entries_nan_rpr) == 0"
   ]
  },
  {
   "cell_type": "markdown",
   "id": "d58f018e",
   "metadata": {},
   "source": [
    "### `OR`"
   ]
  },
  {
   "cell_type": "markdown",
   "id": "444ecc95",
   "metadata": {},
   "source": [
    "We will treat `OR` similarly to `RPR`."
   ]
  },
  {
   "cell_type": "code",
   "execution_count": 113,
   "id": "3f2b09d2",
   "metadata": {},
   "outputs": [
    {
     "data": {
      "text/plain": [
       "1272628"
      ]
     },
     "execution_count": 113,
     "metadata": {},
     "output_type": "execute_result"
    }
   ],
   "source": [
    "entries_nan_or = horses_all_trim_intxn_clean[\n",
    "    horses_all_trim_intxn_clean['OR'].isnull()\n",
    "]\n",
    "len(entries_nan_or)"
   ]
  },
  {
   "cell_type": "code",
   "execution_count": 114,
   "id": "b2aa25cd",
   "metadata": {},
   "outputs": [
    {
     "data": {
      "text/plain": [
       "79.65460350246187"
      ]
     },
     "execution_count": 114,
     "metadata": {},
     "output_type": "execute_result"
    }
   ],
   "source": [
    "mean_or = np.mean(horses_all_trim_intxn_clean[~horses_all_trim_intxn_clean['OR'].isnull()]['OR'])\n",
    "mean_or"
   ]
  },
  {
   "cell_type": "code",
   "execution_count": 115,
   "id": "e1f43670",
   "metadata": {},
   "outputs": [],
   "source": [
    "horses_all_trim_intxn_clean['OR'].fillna(mean_or, inplace=True)"
   ]
  },
  {
   "cell_type": "code",
   "execution_count": 116,
   "id": "801369a0",
   "metadata": {},
   "outputs": [],
   "source": [
    "entries_nan_or = horses_all_trim_intxn_clean[\n",
    "    horses_all_trim_intxn_clean['OR'].isnull()\n",
    "]\n",
    "assert len(entries_nan_or) == 0"
   ]
  },
  {
   "cell_type": "markdown",
   "id": "74f96e83",
   "metadata": {},
   "source": [
    "### `TR`"
   ]
  },
  {
   "cell_type": "markdown",
   "id": "5a7751de",
   "metadata": {},
   "source": [
    "Finally, `TR` is treated like `OR` and `RPR`."
   ]
  },
  {
   "cell_type": "code",
   "execution_count": 117,
   "id": "a46b62a8",
   "metadata": {},
   "outputs": [
    {
     "data": {
      "text/plain": [
       "1304471"
      ]
     },
     "execution_count": 117,
     "metadata": {},
     "output_type": "execute_result"
    }
   ],
   "source": [
    "entries_nan_tr = horses_all_trim_intxn_clean[\n",
    "    horses_all_trim_intxn_clean['TR'].isnull()\n",
    "]\n",
    "len(entries_nan_tr)"
   ]
  },
  {
   "cell_type": "code",
   "execution_count": 118,
   "id": "3e35eb51",
   "metadata": {},
   "outputs": [
    {
     "data": {
      "text/plain": [
       "51.591987121984786"
      ]
     },
     "execution_count": 118,
     "metadata": {},
     "output_type": "execute_result"
    }
   ],
   "source": [
    "mean_tr = np.mean(horses_all_trim_intxn_clean[~horses_all_trim_intxn_clean['TR'].isnull()]['TR'])\n",
    "mean_tr"
   ]
  },
  {
   "cell_type": "code",
   "execution_count": 119,
   "id": "5e8a61ea",
   "metadata": {},
   "outputs": [],
   "source": [
    "horses_all_trim_intxn_clean['TR'].fillna(mean_tr, inplace=True)"
   ]
  },
  {
   "cell_type": "code",
   "execution_count": 120,
   "id": "629eb7c7",
   "metadata": {},
   "outputs": [],
   "source": [
    "entries_nan_tr = horses_all_trim_intxn_clean[\n",
    "    horses_all_trim_intxn_clean['TR'].isnull()\n",
    "]\n",
    "assert len(entries_nan_tr) == 0"
   ]
  },
  {
   "cell_type": "markdown",
   "id": "3a3c42c2",
   "metadata": {},
   "source": [
    "### `trainerName`"
   ]
  },
  {
   "cell_type": "markdown",
   "id": "7a14cbeb",
   "metadata": {},
   "source": [
    "We speculate that `trainerName` may be helpful towards predicting the success of a horse, since trainer's have a good sense of the chances that a horse may win a race and will enter their horse in the race accordingly."
   ]
  },
  {
   "cell_type": "code",
   "execution_count": 121,
   "id": "1e869846",
   "metadata": {},
   "outputs": [
    {
     "data": {
      "text/plain": [
       "539"
      ]
     },
     "execution_count": 121,
     "metadata": {},
     "output_type": "execute_result"
    }
   ],
   "source": [
    "len(horses_all_trim_intxn_clean[horses_all_trim_intxn_clean['trainerName'].isnull()])"
   ]
  },
  {
   "cell_type": "code",
   "execution_count": 122,
   "id": "6f675b69",
   "metadata": {},
   "outputs": [
    {
     "data": {
      "text/plain": [
       "0"
      ]
     },
     "execution_count": 122,
     "metadata": {},
     "output_type": "execute_result"
    }
   ],
   "source": [
    "len(horses_all_trim_intxn_clean[horses_all_trim_intxn_clean['trainerName'] == ''])"
   ]
  },
  {
   "cell_type": "markdown",
   "id": "e203ffba",
   "metadata": {},
   "source": [
    "Very few horses are lacking `trainerName`. We must drop these entries. One suggestion may be to use the trainer of this horse if this horse raced in a different race. However, this does not work because a horse may have several different trainers (especially as they are bought / sold)."
   ]
  },
  {
   "cell_type": "code",
   "execution_count": 123,
   "id": "82e42b5b",
   "metadata": {},
   "outputs": [],
   "source": [
    "entries_w_nan_trainer = horses_all_trim_intxn_clean[\n",
    "    horses_all_trim_intxn_clean['trainerName'].isnull()\n",
    "]"
   ]
  },
  {
   "cell_type": "code",
   "execution_count": 124,
   "id": "b37e19ac",
   "metadata": {},
   "outputs": [
    {
     "name": "stdout",
     "output_type": "stream",
     "text": [
      "old shape (320114, 11)\n",
      "new shape (319778, 11)\n"
     ]
    }
   ],
   "source": [
    "# drop all races where there is a horse without trainer information\n",
    "old_shape = races_all_trim_intxn_clean.shape\n",
    "print(f\"old shape {old_shape}\")\n",
    "\n",
    "races_all_trim_intxn_clean = races_all_trim_intxn_clean[\n",
    "                                 ~races_all_trim_intxn_clean['rid'].isin(entries_w_nan_trainer['rid'])\n",
    "                             ]\n",
    "\n",
    "new_shape = races_all_trim_intxn_clean.shape\n",
    "print(f\"new shape {new_shape}\")\n",
    "\n",
    "assert old_shape[0] - len(entries_w_nan_trainer['rid'].unique()) == new_shape[0]"
   ]
  },
  {
   "cell_type": "code",
   "execution_count": 125,
   "id": "7b72943b",
   "metadata": {},
   "outputs": [
    {
     "name": "stdout",
     "output_type": "stream",
     "text": [
      "old shape (3338946, 18)\n",
      "new shape (3335293, 18)\n"
     ]
    }
   ],
   "source": [
    "# drop entries from all races where one or more horses do not have trainer information\n",
    "old_shape = horses_all_trim_intxn_clean.shape\n",
    "print(f\"old shape {old_shape}\")\n",
    "\n",
    "horses_all_trim_intxn_clean = horses_all_trim_intxn_clean[\n",
    "                                 ~horses_all_trim_intxn_clean['rid'].isin(entries_w_nan_trainer['rid'])\n",
    "                             ]\n",
    "\n",
    "new_shape = horses_all_trim_intxn_clean.shape\n",
    "print(f\"new shape {new_shape}\")"
   ]
  },
  {
   "cell_type": "code",
   "execution_count": 126,
   "id": "e2cfcd1d",
   "metadata": {},
   "outputs": [],
   "source": [
    "# sanity checks\n",
    "assert set(horses_all_trim_intxn_clean['rid']).symmetric_difference(set(races_all_trim_intxn_clean['rid'])) == set()\n",
    "assert len(horses_all_trim_intxn_clean['rid'][\n",
    "    horses_all_trim_intxn_clean['rid'].isin(entries_w_nan_trainer['rid'])\n",
    "]) == 0"
   ]
  },
  {
   "cell_type": "markdown",
   "id": "df2cd366",
   "metadata": {},
   "source": [
    "### `jockeyName`"
   ]
  },
  {
   "cell_type": "markdown",
   "id": "3a252d53",
   "metadata": {},
   "source": [
    "We speculate that `jockeyName` may be helpful towards predicting the success of a horse. Since being a jockey is a profession, there are obviously better jockeys than others. Additionally, jockeys may ride different horses, and the same horse may have different jockeys."
   ]
  },
  {
   "cell_type": "code",
   "execution_count": 127,
   "id": "8f79c03b",
   "metadata": {},
   "outputs": [
    {
     "data": {
      "text/plain": [
       "45"
      ]
     },
     "execution_count": 127,
     "metadata": {},
     "output_type": "execute_result"
    }
   ],
   "source": [
    "len(horses_all_trim_intxn_clean[horses_all_trim_intxn_clean['jockeyName'].isnull()])"
   ]
  },
  {
   "cell_type": "code",
   "execution_count": 128,
   "id": "12f8a6d9",
   "metadata": {},
   "outputs": [
    {
     "data": {
      "text/plain": [
       "0"
      ]
     },
     "execution_count": 128,
     "metadata": {},
     "output_type": "execute_result"
    }
   ],
   "source": [
    "len(horses_all_trim_intxn_clean[horses_all_trim_intxn_clean['trainerName'] == ''])"
   ]
  },
  {
   "cell_type": "markdown",
   "id": "43a7dcca",
   "metadata": {},
   "source": [
    "Very few horses are lacking `jockeyName`. For the same reason as `trainerName`, we must drop these entries."
   ]
  },
  {
   "cell_type": "code",
   "execution_count": 129,
   "id": "0ca88a22",
   "metadata": {},
   "outputs": [],
   "source": [
    "entries_w_nan_jockey = horses_all_trim_intxn_clean[\n",
    "    horses_all_trim_intxn_clean['jockeyName'].isnull()\n",
    "]"
   ]
  },
  {
   "cell_type": "code",
   "execution_count": 130,
   "id": "cbfbdc26",
   "metadata": {},
   "outputs": [
    {
     "name": "stdout",
     "output_type": "stream",
     "text": [
      "old shape (319778, 11)\n",
      "new shape (319760, 11)\n"
     ]
    }
   ],
   "source": [
    "# drop all races where there is a horse without trainer information\n",
    "old_shape = races_all_trim_intxn_clean.shape\n",
    "print(f\"old shape {old_shape}\")\n",
    "\n",
    "races_all_trim_intxn_clean = races_all_trim_intxn_clean[\n",
    "                                 ~races_all_trim_intxn_clean['rid'].isin(entries_w_nan_jockey['rid'])\n",
    "                             ]\n",
    "\n",
    "new_shape = races_all_trim_intxn_clean.shape\n",
    "print(f\"new shape {new_shape}\")\n",
    "\n",
    "assert old_shape[0] - len(entries_w_nan_jockey['rid'].unique()) == new_shape[0]"
   ]
  },
  {
   "cell_type": "code",
   "execution_count": 131,
   "id": "17dab8d1",
   "metadata": {},
   "outputs": [
    {
     "name": "stdout",
     "output_type": "stream",
     "text": [
      "old shape (3335293, 18)\n",
      "new shape (3335069, 18)\n"
     ]
    }
   ],
   "source": [
    "# drop entries from all races where one or more horses do not have trainer information\n",
    "old_shape = horses_all_trim_intxn_clean.shape\n",
    "print(f\"old shape {old_shape}\")\n",
    "\n",
    "horses_all_trim_intxn_clean = horses_all_trim_intxn_clean[\n",
    "                                 ~horses_all_trim_intxn_clean['rid'].isin(entries_w_nan_jockey['rid'])\n",
    "                             ]\n",
    "\n",
    "new_shape = horses_all_trim_intxn_clean.shape\n",
    "print(f\"new shape {new_shape}\")"
   ]
  },
  {
   "cell_type": "code",
   "execution_count": 132,
   "id": "a78b2b9b",
   "metadata": {},
   "outputs": [],
   "source": [
    "# sanity checks\n",
    "assert set(horses_all_trim_intxn_clean['rid']).symmetric_difference(set(races_all_trim_intxn_clean['rid'])) == set()\n",
    "assert len(horses_all_trim_intxn_clean['rid'][\n",
    "    horses_all_trim_intxn_clean['rid'].isin(entries_w_nan_jockey['rid'])\n",
    "]) == 0"
   ]
  },
  {
   "cell_type": "markdown",
   "id": "88f1b46a",
   "metadata": {},
   "source": [
    "### `father`"
   ]
  },
  {
   "cell_type": "markdown",
   "id": "1270e2de",
   "metadata": {},
   "source": [
    "We suspect this feature to be less important than the others and only really carries value for new horses, but let's try to understand what data is missing here."
   ]
  },
  {
   "cell_type": "code",
   "execution_count": 133,
   "id": "d7e92a95",
   "metadata": {
    "scrolled": true
   },
   "outputs": [
    {
     "data": {
      "text/plain": [
       "148"
      ]
     },
     "execution_count": 133,
     "metadata": {},
     "output_type": "execute_result"
    }
   ],
   "source": [
    "len(horses_all_trim_intxn_clean[horses_all_trim_intxn_clean['father'].isnull()])"
   ]
  },
  {
   "cell_type": "code",
   "execution_count": 134,
   "id": "66e2ee44",
   "metadata": {},
   "outputs": [
    {
     "data": {
      "text/plain": [
       "0"
      ]
     },
     "execution_count": 134,
     "metadata": {},
     "output_type": "execute_result"
    }
   ],
   "source": [
    "len(horses_all_trim_intxn_clean[horses_all_trim_intxn_clean['father'] == ''])"
   ]
  },
  {
   "cell_type": "markdown",
   "id": "5819a361",
   "metadata": {},
   "source": [
    "Let's try to correct this missing data by seeing if this horse is elsewhere in the dataset with a valid `father`."
   ]
  },
  {
   "cell_type": "code",
   "execution_count": 135,
   "id": "ed4db5fc",
   "metadata": {},
   "outputs": [],
   "source": [
    "entries_w_nan_father = horses_all_trim_intxn_clean[horses_all_trim_intxn_clean['father'].isnull()]\n",
    "horses_w_nan_father = entries_w_nan_father['horseName'].unique()"
   ]
  },
  {
   "cell_type": "code",
   "execution_count": 136,
   "id": "e12cf674",
   "metadata": {},
   "outputs": [
    {
     "name": "stderr",
     "output_type": "stream",
     "text": [
      "100%|███████████████████████████████████████████████████████████████████████████████████████████████████████████████████████████████████████████████████████████████████████████| 101/101 [00:21<00:00,  4.60it/s]\n"
     ]
    }
   ],
   "source": [
    "horses_w_father_can_be_corrected = []\n",
    "horses_corrective_father_data = {}\n",
    "\n",
    "for horse_name in tqdm(horses_w_nan_father):\n",
    "    entries_same_horse = horses_all_trim_intxn_clean[horses_all_trim_intxn_clean['horseName'] == horse_name]\n",
    "    entries_same_horse_valid_father = entries_same_horse[entries_same_horse['father'].notnull()]\n",
    "    \n",
    "    if len(entries_same_horse_valid_father) > 0:\n",
    "        horses_w_father_can_be_corrected.append(horse_name)\n",
    "        horses_corrective_father_data[horse_name] = entries_same_horse_valid_father['father'].iloc[0]"
   ]
  },
  {
   "cell_type": "code",
   "execution_count": 137,
   "id": "a583cdd4",
   "metadata": {},
   "outputs": [
    {
     "data": {
      "text/plain": [
       "17"
      ]
     },
     "execution_count": 137,
     "metadata": {},
     "output_type": "execute_result"
    }
   ],
   "source": [
    "len(horses_w_father_can_be_corrected)"
   ]
  },
  {
   "cell_type": "code",
   "execution_count": 138,
   "id": "79435b6b",
   "metadata": {},
   "outputs": [
    {
     "data": {
      "text/plain": [
       "{'Angel Face': 'King Kamehameha',\n",
       " 'Royal Touch': 'Dubawi',\n",
       " 'Midnight Soprano': 'Celtic Swing',\n",
       " 'Magical Dream': 'Dream Ahead',\n",
       " 'Cubanita': 'Selkirk',\n",
       " 'Silky': 'Montjeu',\n",
       " 'Say': 'Galileo',\n",
       " \"We'll Go Walking\": 'Authorized',\n",
       " 'Testosterone': 'Dansili',\n",
       " 'Beach Of Falesa': 'Dylan Thomas',\n",
       " 'Feel The Heat': 'Firebreak',\n",
       " 'Trajectory': 'Dubai Destination',\n",
       " 'Don Gwarli': 'Eton Lad',\n",
       " 'Christian Soldier': 'Tickled Pink',\n",
       " 'Fire King': 'Falbrav',\n",
       " 'Statesmanship': 'Dubawi',\n",
       " 'Benji': 'Elusive Fort'}"
      ]
     },
     "execution_count": 138,
     "metadata": {},
     "output_type": "execute_result"
    }
   ],
   "source": [
    "horses_corrective_father_data"
   ]
  },
  {
   "cell_type": "code",
   "execution_count": 139,
   "id": "78cdf421",
   "metadata": {},
   "outputs": [],
   "source": [
    "for idx, row in entries_w_nan_father.iterrows():   \n",
    "    if row['horseName'] in horses_w_father_can_be_corrected:\n",
    "        horses_all_trim_intxn_clean.at[idx, 'father'] = horses_corrective_father_data[row['horseName']]"
   ]
  },
  {
   "cell_type": "markdown",
   "id": "e7cf56ec",
   "metadata": {},
   "source": [
    "Now, drop those entries that cannot be corrected."
   ]
  },
  {
   "cell_type": "code",
   "execution_count": 140,
   "id": "911e8dd1",
   "metadata": {},
   "outputs": [
    {
     "data": {
      "text/plain": [
       "120"
      ]
     },
     "execution_count": 140,
     "metadata": {},
     "output_type": "execute_result"
    }
   ],
   "source": [
    "entries_w_nan_father = horses_all_trim_intxn_clean[horses_all_trim_intxn_clean['father'].isnull()]\n",
    "len(entries_w_nan_father)"
   ]
  },
  {
   "cell_type": "code",
   "execution_count": 141,
   "id": "816f67e4",
   "metadata": {},
   "outputs": [
    {
     "name": "stdout",
     "output_type": "stream",
     "text": [
      "old shape (319760, 11)\n",
      "new shape (319658, 11)\n"
     ]
    }
   ],
   "source": [
    "# drop all races where there is a horse without father information\n",
    "old_shape = races_all_trim_intxn_clean.shape\n",
    "print(f\"old shape {old_shape}\")\n",
    "\n",
    "races_all_trim_intxn_clean = races_all_trim_intxn_clean[\n",
    "                                 ~races_all_trim_intxn_clean['rid'].isin(entries_w_nan_father['rid'])\n",
    "                             ]\n",
    "\n",
    "new_shape = races_all_trim_intxn_clean.shape\n",
    "print(f\"new shape {new_shape}\")\n",
    "\n",
    "assert old_shape[0] - len(entries_w_nan_father['rid'].unique()) == new_shape[0]"
   ]
  },
  {
   "cell_type": "code",
   "execution_count": 142,
   "id": "dd015cfe",
   "metadata": {},
   "outputs": [
    {
     "name": "stdout",
     "output_type": "stream",
     "text": [
      "old shape (3335069, 18)\n",
      "new shape (3334017, 18)\n"
     ]
    }
   ],
   "source": [
    "# drop entries from all races where one or more horses do not have father information\n",
    "old_shape = horses_all_trim_intxn_clean.shape\n",
    "print(f\"old shape {old_shape}\")\n",
    "\n",
    "horses_all_trim_intxn_clean = horses_all_trim_intxn_clean[\n",
    "                                 ~horses_all_trim_intxn_clean['rid'].isin(entries_w_nan_father['rid'])\n",
    "                             ]\n",
    "\n",
    "new_shape = horses_all_trim_intxn_clean.shape\n",
    "print(f\"new shape {new_shape}\")"
   ]
  },
  {
   "cell_type": "code",
   "execution_count": 143,
   "id": "98997f47",
   "metadata": {},
   "outputs": [],
   "source": [
    "# sanity checks\n",
    "assert set(horses_all_trim_intxn_clean['rid']).symmetric_difference(set(races_all_trim_intxn_clean['rid'])) == set()\n",
    "assert len(horses_all_trim_intxn_clean['rid'][\n",
    "    horses_all_trim_intxn_clean['rid'].isin(entries_w_nan_father['rid'])\n",
    "]) == 0"
   ]
  },
  {
   "cell_type": "markdown",
   "id": "2aa98586",
   "metadata": {},
   "source": [
    "### `mother`"
   ]
  },
  {
   "cell_type": "markdown",
   "id": "2a7bf60f",
   "metadata": {},
   "source": [
    "Same as `father`."
   ]
  },
  {
   "cell_type": "code",
   "execution_count": 144,
   "id": "3cb29924",
   "metadata": {},
   "outputs": [
    {
     "data": {
      "text/plain": [
       "477"
      ]
     },
     "execution_count": 144,
     "metadata": {},
     "output_type": "execute_result"
    }
   ],
   "source": [
    "len(horses_all_trim_intxn_clean[horses_all_trim_intxn_clean['mother'].isnull()])"
   ]
  },
  {
   "cell_type": "code",
   "execution_count": 145,
   "id": "60549ae8",
   "metadata": {},
   "outputs": [
    {
     "data": {
      "text/plain": [
       "0"
      ]
     },
     "execution_count": 145,
     "metadata": {},
     "output_type": "execute_result"
    }
   ],
   "source": [
    "len(horses_all_trim_intxn_clean[horses_all_trim_intxn_clean['mother'] == ''])"
   ]
  },
  {
   "cell_type": "markdown",
   "id": "fd99f68b",
   "metadata": {},
   "source": [
    "Let's try to correct this missing data by seeing if this horse is elsewhere in the dataset with a valid `mother`."
   ]
  },
  {
   "cell_type": "code",
   "execution_count": 146,
   "id": "0d0250c8",
   "metadata": {},
   "outputs": [],
   "source": [
    "entries_w_nan_mother = horses_all_trim_intxn_clean[horses_all_trim_intxn_clean['mother'].isnull()]\n",
    "horses_w_nan_mother = entries_w_nan_mother['horseName'].unique()"
   ]
  },
  {
   "cell_type": "code",
   "execution_count": 147,
   "id": "e2e544f3",
   "metadata": {},
   "outputs": [
    {
     "name": "stderr",
     "output_type": "stream",
     "text": [
      "100%|███████████████████████████████████████████████████████████████████████████████████████████████████████████████████████████████████████████████████████████████████████████| 382/382 [01:34<00:00,  4.04it/s]\n"
     ]
    }
   ],
   "source": [
    "horses_w_mother_can_be_corrected = []\n",
    "horses_corrective_mother_data = {}\n",
    "\n",
    "for horse_name in tqdm(horses_w_nan_mother):\n",
    "    entries_same_horse = horses_all_trim_intxn_clean[horses_all_trim_intxn_clean['horseName'] == horse_name]\n",
    "    entries_same_horse_valid_mother = entries_same_horse[entries_same_horse['mother'].notnull()]\n",
    "    \n",
    "    if len(entries_same_horse_valid_mother) > 0:\n",
    "        horses_w_mother_can_be_corrected.append(horse_name)\n",
    "        horses_corrective_mother_data[horse_name] = entries_same_horse_valid_mother['mother'].iloc[0]"
   ]
  },
  {
   "cell_type": "code",
   "execution_count": 148,
   "id": "2fd07e30",
   "metadata": {},
   "outputs": [
    {
     "data": {
      "text/plain": [
       "57"
      ]
     },
     "execution_count": 148,
     "metadata": {},
     "output_type": "execute_result"
    }
   ],
   "source": [
    "len(horses_w_mother_can_be_corrected)"
   ]
  },
  {
   "cell_type": "code",
   "execution_count": 149,
   "id": "19a4eedd",
   "metadata": {},
   "outputs": [
    {
     "data": {
      "text/plain": [
       "{'Angel Face': 'One For Rose',\n",
       " 'Overland': 'Miss Oversea',\n",
       " 'Many Rivers': 'Ferry Boat Lady',\n",
       " 'Shy Baby': 'Ballycurrane',\n",
       " 'Indigo Girl': 'Montare',\n",
       " 'Groomsman': 'Trois Heures Apres',\n",
       " 'Giovanni': 'Golden Wave',\n",
       " 'Felon': 'Farah',\n",
       " 'No Reply': 'En Grisaille',\n",
       " 'Deputy Indy': 'Rate Shock',\n",
       " 'By Far': 'Perfidie',\n",
       " 'San Lorenzo': 'Sanchez',\n",
       " 'Noble Crusader': 'Suitably Discreet',\n",
       " 'Flashing Star': 'Fair Dream',\n",
       " 'Green Warrior': 'Starlit Sky',\n",
       " 'Secret Ridge': 'Love Secret',\n",
       " 'Miracle Man': 'Stormy Zaph',\n",
       " 'Bright Gold': 'Miss Brightside',\n",
       " 'Divide And Conquer': 'Madam Rocher',\n",
       " 'Lucky Thirteen': 'Lingua Franca',\n",
       " 'Chestnut Lady': 'Lady Dee',\n",
       " 'Transmit': 'Apple Brandy',\n",
       " 'Host': 'Colonna Traiana',\n",
       " 'Royal Wave': 'Air Biscuit',\n",
       " 'Rotary': 'Tarry',\n",
       " 'Lucky Baby': 'Make Me Strong',\n",
       " 'Everyman': 'Maid To Dance',\n",
       " 'Sweet Street': 'Beg La Eile',\n",
       " 'In The Spotlight': 'Radiate',\n",
       " 'Solid Strike': 'Solid Land',\n",
       " 'Elsie Jo': 'Joy St Clair',\n",
       " 'Miss Van Gogh': 'Accede',\n",
       " 'Appenzell': 'Autumn Forest',\n",
       " 'Cause To Believe': 'Imaginary Cat',\n",
       " 'Midnight Soprano': 'Midnight Glimmer',\n",
       " 'Magical Dream': 'Mystic Hour',\n",
       " 'Cubanita': 'Caribana',\n",
       " 'Silky': 'Tree Chopper',\n",
       " 'Say': 'Riskaverse',\n",
       " \"We'll Go Walking\": 'Senora Galilei',\n",
       " 'Testosterone': 'Epopee',\n",
       " 'Beach Of Falesa': 'Leonia',\n",
       " 'Asset': 'Snow Peak',\n",
       " 'Precision': 'Pearl Earrine',\n",
       " \"Bull's Eye\": 'Tina Bull',\n",
       " 'Victory Warrior': 'Mi Segunda Victoria',\n",
       " 'Conjuring': 'Trick',\n",
       " 'Lucky Six': 'Curious Luck',\n",
       " 'Tenacity': 'Wigman Lady',\n",
       " 'Victory Marble': 'Happy Hostess',\n",
       " 'Sparky': 'Pebble Creek',\n",
       " 'Turbojet': 'Fascinating Hill',\n",
       " 'Don Gwarli': 'Fairest Helen',\n",
       " 'Fire King': 'Dancing Fire',\n",
       " 'Statesmanship': 'State Secret',\n",
       " 'Benji': 'Lady Elle',\n",
       " 'Painter': 'Exgray'}"
      ]
     },
     "execution_count": 149,
     "metadata": {},
     "output_type": "execute_result"
    }
   ],
   "source": [
    "horses_corrective_mother_data"
   ]
  },
  {
   "cell_type": "code",
   "execution_count": 150,
   "id": "1206fc55",
   "metadata": {},
   "outputs": [],
   "source": [
    "for idx, row in entries_w_nan_mother.iterrows():   \n",
    "    if row['horseName'] in horses_w_mother_can_be_corrected:\n",
    "        horses_all_trim_intxn_clean.at[idx, 'mother'] = horses_corrective_mother_data[row['horseName']]"
   ]
  },
  {
   "cell_type": "markdown",
   "id": "fda930fe",
   "metadata": {},
   "source": [
    "Now, drop those entries that cannot be corrected."
   ]
  },
  {
   "cell_type": "code",
   "execution_count": 151,
   "id": "435416c0",
   "metadata": {},
   "outputs": [
    {
     "data": {
      "text/plain": [
       "391"
      ]
     },
     "execution_count": 151,
     "metadata": {},
     "output_type": "execute_result"
    }
   ],
   "source": [
    "entries_w_nan_mother = horses_all_trim_intxn_clean[horses_all_trim_intxn_clean['mother'].isnull()]\n",
    "len(entries_w_nan_mother)"
   ]
  },
  {
   "cell_type": "code",
   "execution_count": 152,
   "id": "d3acb176",
   "metadata": {},
   "outputs": [
    {
     "name": "stdout",
     "output_type": "stream",
     "text": [
      "old shape (319658, 11)\n",
      "new shape (319409, 11)\n"
     ]
    }
   ],
   "source": [
    "# drop all races where there is a horse without mother information\n",
    "old_shape = races_all_trim_intxn_clean.shape\n",
    "print(f\"old shape {old_shape}\")\n",
    "\n",
    "races_all_trim_intxn_clean = races_all_trim_intxn_clean[\n",
    "                                 ~races_all_trim_intxn_clean['rid'].isin(entries_w_nan_mother['rid'])\n",
    "                             ]\n",
    "\n",
    "new_shape = races_all_trim_intxn_clean.shape\n",
    "print(f\"new shape {new_shape}\")\n",
    "\n",
    "assert old_shape[0] - len(entries_w_nan_mother['rid'].unique()) == new_shape[0]"
   ]
  },
  {
   "cell_type": "code",
   "execution_count": 153,
   "id": "12d47dbb",
   "metadata": {},
   "outputs": [
    {
     "name": "stdout",
     "output_type": "stream",
     "text": [
      "old shape (3334017, 18)\n",
      "new shape (3331580, 18)\n"
     ]
    }
   ],
   "source": [
    "# drop entries from all races where one or more horses do not have mother information\n",
    "old_shape = horses_all_trim_intxn_clean.shape\n",
    "print(f\"old shape {old_shape}\")\n",
    "\n",
    "horses_all_trim_intxn_clean = horses_all_trim_intxn_clean[\n",
    "                                 ~horses_all_trim_intxn_clean['rid'].isin(entries_w_nan_mother['rid'])\n",
    "                             ]\n",
    "\n",
    "new_shape = horses_all_trim_intxn_clean.shape\n",
    "print(f\"new shape {new_shape}\")"
   ]
  },
  {
   "cell_type": "code",
   "execution_count": 154,
   "id": "597c9543",
   "metadata": {},
   "outputs": [],
   "source": [
    "# sanity checks\n",
    "assert set(horses_all_trim_intxn_clean['rid']).symmetric_difference(set(races_all_trim_intxn_clean['rid'])) == set()\n",
    "assert len(horses_all_trim_intxn_clean['rid'][\n",
    "    horses_all_trim_intxn_clean['rid'].isin(entries_w_nan_mother['rid'])\n",
    "]) == 0"
   ]
  },
  {
   "cell_type": "markdown",
   "id": "8108ce8e",
   "metadata": {},
   "source": [
    "### `gfather`"
   ]
  },
  {
   "cell_type": "markdown",
   "id": "089d098e",
   "metadata": {},
   "source": [
    "Same as `father`, `mother`."
   ]
  },
  {
   "cell_type": "code",
   "execution_count": 155,
   "id": "0b69ccde",
   "metadata": {},
   "outputs": [
    {
     "data": {
      "text/plain": [
       "107673"
      ]
     },
     "execution_count": 155,
     "metadata": {},
     "output_type": "execute_result"
    }
   ],
   "source": [
    "len(horses_all_trim_intxn_clean[horses_all_trim_intxn_clean['gfather'].isnull()])"
   ]
  },
  {
   "cell_type": "code",
   "execution_count": 156,
   "id": "41fcf360",
   "metadata": {},
   "outputs": [
    {
     "data": {
      "text/plain": [
       "0"
      ]
     },
     "execution_count": 156,
     "metadata": {},
     "output_type": "execute_result"
    }
   ],
   "source": [
    "len(horses_all_trim_intxn_clean[horses_all_trim_intxn_clean['gfather'] == ''])"
   ]
  },
  {
   "cell_type": "markdown",
   "id": "1868c516",
   "metadata": {},
   "source": [
    "Let's try to correct this missing data by seeing if this horse is elsewhere in the dataset with a valid `gfather`."
   ]
  },
  {
   "cell_type": "code",
   "execution_count": 157,
   "id": "8291ed37",
   "metadata": {},
   "outputs": [],
   "source": [
    "entries_w_nan_gfather = horses_all_trim_intxn_clean[horses_all_trim_intxn_clean['gfather'].isnull()]\n",
    "horses_w_nan_gfather = entries_w_nan_gfather['horseName'].unique()"
   ]
  },
  {
   "cell_type": "code",
   "execution_count": 158,
   "id": "399e7fc8",
   "metadata": {},
   "outputs": [
    {
     "name": "stderr",
     "output_type": "stream",
     "text": [
      "100%|███████████████████████████████████████████████████████████████████████████████████████████████████████████████████████████████████████████████████████████████████████| 11499/11499 [41:21<00:00,  4.63it/s]\n"
     ]
    }
   ],
   "source": [
    "# takes 40 minutes\n",
    "\n",
    "horses_w_gfather_can_be_corrected = []\n",
    "horses_corrective_gfather_data = {}\n",
    "\n",
    "for horse_name in tqdm(horses_w_nan_gfather):\n",
    "    entries_same_horse = horses_all_trim_intxn_clean[horses_all_trim_intxn_clean['horseName'] == horse_name]\n",
    "    entries_same_horse_valid_gfather = entries_same_horse[entries_same_horse['gfather'].notnull()]\n",
    "    \n",
    "    if len(entries_same_horse_valid_gfather) > 0:\n",
    "        horses_w_gfather_can_be_corrected.append(horse_name)\n",
    "        horses_corrective_gfather_data[horse_name] = entries_same_horse_valid_gfather['gfather'].iloc[0]"
   ]
  },
  {
   "cell_type": "code",
   "execution_count": 159,
   "id": "f7ae9c54",
   "metadata": {},
   "outputs": [
    {
     "data": {
      "text/plain": [
       "2885"
      ]
     },
     "execution_count": 159,
     "metadata": {},
     "output_type": "execute_result"
    }
   ],
   "source": [
    "len(horses_w_gfather_can_be_corrected)"
   ]
  },
  {
   "cell_type": "code",
   "execution_count": 160,
   "id": "81baf54b",
   "metadata": {},
   "outputs": [
    {
     "name": "stderr",
     "output_type": "stream",
     "text": [
      "107673it [00:11, 9573.75it/s] \n"
     ]
    }
   ],
   "source": [
    "for idx, row in tqdm(entries_w_nan_gfather.iterrows()):   \n",
    "    if row['horseName'] in horses_w_gfather_can_be_corrected:\n",
    "        horses_all_trim_intxn_clean.at[idx, 'gfather'] = horses_corrective_gfather_data[row['horseName']]"
   ]
  },
  {
   "cell_type": "markdown",
   "id": "778839dc",
   "metadata": {},
   "source": [
    "Now, drop those entries that cannot be corrected."
   ]
  },
  {
   "cell_type": "code",
   "execution_count": 161,
   "id": "881da333",
   "metadata": {},
   "outputs": [
    {
     "data": {
      "text/plain": [
       "79824"
      ]
     },
     "execution_count": 161,
     "metadata": {},
     "output_type": "execute_result"
    }
   ],
   "source": [
    "entries_w_nan_gfather = horses_all_trim_intxn_clean[horses_all_trim_intxn_clean['gfather'].isnull()]\n",
    "len(entries_w_nan_gfather)"
   ]
  },
  {
   "cell_type": "code",
   "execution_count": 162,
   "id": "9daa968c",
   "metadata": {},
   "outputs": [
    {
     "name": "stdout",
     "output_type": "stream",
     "text": [
      "old shape (319409, 11)\n",
      "new shape (307896, 11)\n"
     ]
    }
   ],
   "source": [
    "# drop all races where there is a horse without gfather information\n",
    "old_shape = races_all_trim_intxn_clean.shape\n",
    "print(f\"old shape {old_shape}\")\n",
    "\n",
    "races_all_trim_intxn_clean = races_all_trim_intxn_clean[\n",
    "                                 ~races_all_trim_intxn_clean['rid'].isin(entries_w_nan_gfather['rid'])\n",
    "                             ]\n",
    "\n",
    "new_shape = races_all_trim_intxn_clean.shape\n",
    "print(f\"new shape {new_shape}\")\n",
    "\n",
    "assert old_shape[0] - len(entries_w_nan_gfather['rid'].unique()) == new_shape[0]"
   ]
  },
  {
   "cell_type": "code",
   "execution_count": 163,
   "id": "0353e68b",
   "metadata": {},
   "outputs": [
    {
     "name": "stdout",
     "output_type": "stream",
     "text": [
      "old shape (3331580, 18)\n",
      "new shape (3199312, 18)\n"
     ]
    }
   ],
   "source": [
    "# drop entries from all races where one or more horses do not have gfather information\n",
    "old_shape = horses_all_trim_intxn_clean.shape\n",
    "print(f\"old shape {old_shape}\")\n",
    "\n",
    "horses_all_trim_intxn_clean = horses_all_trim_intxn_clean[\n",
    "                                 ~horses_all_trim_intxn_clean['rid'].isin(entries_w_nan_gfather['rid'])\n",
    "                             ]\n",
    "\n",
    "new_shape = horses_all_trim_intxn_clean.shape\n",
    "print(f\"new shape {new_shape}\")"
   ]
  },
  {
   "cell_type": "code",
   "execution_count": 164,
   "id": "a86027ac",
   "metadata": {},
   "outputs": [],
   "source": [
    "# sanity checks\n",
    "assert set(horses_all_trim_intxn_clean['rid']).symmetric_difference(set(races_all_trim_intxn_clean['rid'])) == set()\n",
    "assert len(horses_all_trim_intxn_clean['rid'][\n",
    "    horses_all_trim_intxn_clean['rid'].isin(entries_w_nan_gfather['rid'])\n",
    "]) == 0"
   ]
  },
  {
   "cell_type": "markdown",
   "id": "484b8028",
   "metadata": {},
   "source": [
    "---"
   ]
  },
  {
   "cell_type": "markdown",
   "id": "0655cbf5",
   "metadata": {},
   "source": [
    "## Sanity Checks"
   ]
  },
  {
   "cell_type": "code",
   "execution_count": 165,
   "id": "bb6612d7",
   "metadata": {
    "scrolled": true
   },
   "outputs": [
    {
     "name": "stdout",
     "output_type": "stream",
     "text": [
      "The following columns have null values:\n",
      "  - hurdles\n"
     ]
    }
   ],
   "source": [
    "print(\"The following columns have null values:\")\n",
    "\n",
    "for column in races_all_trim_intxn_clean.columns:\n",
    "    if sum(races_all_trim_intxn_clean[column].isnull()) > 0:\n",
    "        print(f\"  - {column}\")"
   ]
  },
  {
   "cell_type": "code",
   "execution_count": 166,
   "id": "c14b6460",
   "metadata": {
    "scrolled": true
   },
   "outputs": [
    {
     "name": "stdout",
     "output_type": "stream",
     "text": [
      "The following columns have null values:\n",
      "  - positionL\n"
     ]
    }
   ],
   "source": [
    "print(\"The following columns have null values:\")\n",
    "\n",
    "for column in horses_all_trim_intxn_clean.columns:\n",
    "    if sum(horses_all_trim_intxn_clean[column].isnull()) > 0:\n",
    "        print(f\"  - {column}\")"
   ]
  },
  {
   "cell_type": "markdown",
   "id": "f609f394",
   "metadata": {},
   "source": [
    "## Save Dataframes"
   ]
  },
  {
   "cell_type": "code",
   "execution_count": 167,
   "id": "2f231254",
   "metadata": {},
   "outputs": [],
   "source": [
    "races_all_trim_intxn_clean.to_csv(f\"{BASE_DIR}/data/csv/races_all_trim_intxn_clean.csv\", index=False)"
   ]
  },
  {
   "cell_type": "code",
   "execution_count": 168,
   "id": "1475daaa",
   "metadata": {},
   "outputs": [],
   "source": [
    "horses_all_trim_intxn_clean.to_csv(f\"{BASE_DIR}/data/csv/horses_all_trim_intxn_clean.csv\", index=False)"
   ]
  },
  {
   "cell_type": "markdown",
   "id": "f147eeee",
   "metadata": {},
   "source": [
    "---"
   ]
  }
 ],
 "metadata": {
  "kernelspec": {
   "display_name": "Python 3 (ipykernel)",
   "language": "python",
   "name": "python3"
  },
  "language_info": {
   "codemirror_mode": {
    "name": "ipython",
    "version": 3
   },
   "file_extension": ".py",
   "mimetype": "text/x-python",
   "name": "python",
   "nbconvert_exporter": "python",
   "pygments_lexer": "ipython3",
   "version": "3.9.6"
  }
 },
 "nbformat": 4,
 "nbformat_minor": 5
}
