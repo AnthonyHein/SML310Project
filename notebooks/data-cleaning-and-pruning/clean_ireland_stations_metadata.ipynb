{
 "cells": [
  {
   "cell_type": "markdown",
   "id": "dc5f8793",
   "metadata": {},
   "source": [
    "# `clean_ireland_stations_metadata.ipynb`"
   ]
  },
  {
   "cell_type": "markdown",
   "id": "6d76b29a",
   "metadata": {},
   "source": [
    "### Author: Anthony Hein"
   ]
  },
  {
   "cell_type": "markdown",
   "id": "8a72b287",
   "metadata": {},
   "source": [
    "#### Last updated: 10/18/2021"
   ]
  },
  {
   "cell_type": "markdown",
   "id": "a0ebf4a0",
   "metadata": {},
   "source": [
    "# Overview:\n",
    "\n",
    "Clean the metadata collected on Ireland weather stations. This was obtained by manually pruning the dataset at [https://cli.fusio.net/cli/climate_data/webdata/StationDetails.csv](https://cli.fusio.net/cli/climate_data/webdata/StationDetails.csv) to only include those stations with hourly data for the past 30 years."
   ]
  },
  {
   "cell_type": "markdown",
   "id": "6f46b926",
   "metadata": {},
   "source": [
    "---"
   ]
  },
  {
   "cell_type": "markdown",
   "id": "066b637c",
   "metadata": {},
   "source": [
    "## Setup"
   ]
  },
  {
   "cell_type": "code",
   "execution_count": 1,
   "id": "3de4d07c",
   "metadata": {},
   "outputs": [],
   "source": [
    "import git\n",
    "import os\n",
    "from typing import List\n",
    "from tqdm import tqdm\n",
    "import pandas as pd\n",
    "import numpy as np\n",
    "import matplotlib.pyplot as plt\n",
    "%matplotlib inline"
   ]
  },
  {
   "cell_type": "code",
   "execution_count": 2,
   "id": "05a06de6",
   "metadata": {},
   "outputs": [
    {
     "data": {
      "text/plain": [
       "'/Users/anthonyhein/Desktop/SML310/project'"
      ]
     },
     "execution_count": 2,
     "metadata": {},
     "output_type": "execute_result"
    }
   ],
   "source": [
    "BASE_DIR = git.Repo(os.getcwd(), search_parent_directories=True).working_dir\n",
    "BASE_DIR"
   ]
  },
  {
   "cell_type": "markdown",
   "id": "19d6a59d",
   "metadata": {},
   "source": [
    "---"
   ]
  },
  {
   "cell_type": "markdown",
   "id": "062db87f",
   "metadata": {},
   "source": [
    "## Load `ireland_stations_metadata.csv`"
   ]
  },
  {
   "cell_type": "code",
   "execution_count": 3,
   "id": "7bb383e5",
   "metadata": {},
   "outputs": [
    {
     "data": {
      "text/html": [
       "<div>\n",
       "<style scoped>\n",
       "    .dataframe tbody tr th:only-of-type {\n",
       "        vertical-align: middle;\n",
       "    }\n",
       "\n",
       "    .dataframe tbody tr th {\n",
       "        vertical-align: top;\n",
       "    }\n",
       "\n",
       "    .dataframe thead th {\n",
       "        text-align: right;\n",
       "    }\n",
       "</style>\n",
       "<table border=\"1\" class=\"dataframe\">\n",
       "  <thead>\n",
       "    <tr style=\"text-align: right;\">\n",
       "      <th></th>\n",
       "      <th>County</th>\n",
       "      <th>Station Number</th>\n",
       "      <th>name</th>\n",
       "      <th>Height(m)</th>\n",
       "      <th>Easting</th>\n",
       "      <th>Northing</th>\n",
       "      <th>Latitude</th>\n",
       "      <th>Longitude</th>\n",
       "      <th>Open Year</th>\n",
       "      <th>Close Year</th>\n",
       "    </tr>\n",
       "  </thead>\n",
       "  <tbody>\n",
       "    <tr>\n",
       "      <th>0</th>\n",
       "      <td>Westmeath</td>\n",
       "      <td>2222</td>\n",
       "      <td>MULLINGAR S.W.S.</td>\n",
       "      <td>111</td>\n",
       "      <td>242700</td>\n",
       "      <td>252700</td>\n",
       "      <td>533120</td>\n",
       "      <td>72120</td>\n",
       "      <td>1943</td>\n",
       "      <td>1974.0</td>\n",
       "    </tr>\n",
       "    <tr>\n",
       "      <th>1</th>\n",
       "      <td>Monaghan</td>\n",
       "      <td>2437</td>\n",
       "      <td>CLONES</td>\n",
       "      <td>89</td>\n",
       "      <td>250000</td>\n",
       "      <td>326300</td>\n",
       "      <td>541100</td>\n",
       "      <td>71400</td>\n",
       "      <td>1950</td>\n",
       "      <td>2008.0</td>\n",
       "    </tr>\n",
       "    <tr>\n",
       "      <th>2</th>\n",
       "      <td>Galway</td>\n",
       "      <td>2021</td>\n",
       "      <td>GALWAY S.W.S.</td>\n",
       "      <td>20</td>\n",
       "      <td>132700</td>\n",
       "      <td>225600</td>\n",
       "      <td>531634</td>\n",
       "      <td>90034</td>\n",
       "      <td>1978</td>\n",
       "      <td>1990.0</td>\n",
       "    </tr>\n",
       "    <tr>\n",
       "      <th>3</th>\n",
       "      <td>Offaly</td>\n",
       "      <td>4919</td>\n",
       "      <td>BIRR</td>\n",
       "      <td>72</td>\n",
       "      <td>207400</td>\n",
       "      <td>204400</td>\n",
       "      <td>530525</td>\n",
       "      <td>75325</td>\n",
       "      <td>1954</td>\n",
       "      <td>2009.0</td>\n",
       "    </tr>\n",
       "    <tr>\n",
       "      <th>4</th>\n",
       "      <td>Kilkenny</td>\n",
       "      <td>3613</td>\n",
       "      <td>KILKENNY</td>\n",
       "      <td>65</td>\n",
       "      <td>249400</td>\n",
       "      <td>157400</td>\n",
       "      <td>523955</td>\n",
       "      <td>71610</td>\n",
       "      <td>1957</td>\n",
       "      <td>2008.0</td>\n",
       "    </tr>\n",
       "  </tbody>\n",
       "</table>\n",
       "</div>"
      ],
      "text/plain": [
       "      County  Station Number              name  Height(m)  Easting  Northing  \\\n",
       "0  Westmeath            2222  MULLINGAR S.W.S.        111   242700    252700   \n",
       "1   Monaghan            2437            CLONES         89   250000    326300   \n",
       "2     Galway            2021     GALWAY S.W.S.         20   132700    225600   \n",
       "3     Offaly            4919              BIRR         72   207400    204400   \n",
       "4   Kilkenny            3613          KILKENNY         65   249400    157400   \n",
       "\n",
       "   Latitude  Longitude  Open Year  Close Year  \n",
       "0    533120      72120       1943      1974.0  \n",
       "1    541100      71400       1950      2008.0  \n",
       "2    531634      90034       1978      1990.0  \n",
       "3    530525      75325       1954      2009.0  \n",
       "4    523955      71610       1957      2008.0  "
      ]
     },
     "execution_count": 3,
     "metadata": {},
     "output_type": "execute_result"
    }
   ],
   "source": [
    "ireland_stations_metadata = pd.read_csv(f\"{BASE_DIR}/raw/csv/ireland_stations_metadata.csv\", low_memory=False) \n",
    "ireland_stations_metadata.head()"
   ]
  },
  {
   "cell_type": "code",
   "execution_count": 4,
   "id": "3ad6a80a",
   "metadata": {},
   "outputs": [
    {
     "data": {
      "text/plain": [
       "(33, 10)"
      ]
     },
     "execution_count": 4,
     "metadata": {},
     "output_type": "execute_result"
    }
   ],
   "source": [
    "ireland_stations_metadata.shape"
   ]
  },
  {
   "cell_type": "markdown",
   "id": "3b409330",
   "metadata": {},
   "source": [
    "---"
   ]
  },
  {
   "cell_type": "markdown",
   "id": "dd5058e7",
   "metadata": {},
   "source": [
    "## Fix Close Year"
   ]
  },
  {
   "cell_type": "markdown",
   "id": "88e7102f",
   "metadata": {},
   "source": [
    "First, we will replace all `Close Years` which are `NaN` with 2022, since we do not have racing data in 2022 and so this does not change the analysis."
   ]
  },
  {
   "cell_type": "code",
   "execution_count": 5,
   "id": "b6014e40",
   "metadata": {},
   "outputs": [
    {
     "data": {
      "text/plain": [
       "25"
      ]
     },
     "execution_count": 5,
     "metadata": {},
     "output_type": "execute_result"
    }
   ],
   "source": [
    "sum(ireland_stations_metadata['Close Year'].isnull())"
   ]
  },
  {
   "cell_type": "code",
   "execution_count": 6,
   "id": "1cd802ae",
   "metadata": {},
   "outputs": [],
   "source": [
    "ireland_stations_metadata['Close Year'] = ireland_stations_metadata['Close Year'].fillna(2022)"
   ]
  },
  {
   "cell_type": "code",
   "execution_count": 7,
   "id": "fdab4b34",
   "metadata": {},
   "outputs": [
    {
     "data": {
      "text/plain": [
       "0"
      ]
     },
     "execution_count": 7,
     "metadata": {},
     "output_type": "execute_result"
    }
   ],
   "source": [
    "sum(ireland_stations_metadata['Close Year'].isnull())"
   ]
  },
  {
   "cell_type": "markdown",
   "id": "f372217c",
   "metadata": {},
   "source": [
    "We also want to convert this to an integer."
   ]
  },
  {
   "cell_type": "code",
   "execution_count": 8,
   "id": "6df29d15",
   "metadata": {},
   "outputs": [
    {
     "data": {
      "text/plain": [
       "County             object\n",
       "Station Number      int64\n",
       "name               object\n",
       "Height(m)           int64\n",
       "Easting             int64\n",
       "Northing            int64\n",
       "Latitude            int64\n",
       "Longitude           int64\n",
       "Open Year           int64\n",
       "Close Year        float64\n",
       "dtype: object"
      ]
     },
     "execution_count": 8,
     "metadata": {},
     "output_type": "execute_result"
    }
   ],
   "source": [
    "ireland_stations_metadata.dtypes"
   ]
  },
  {
   "cell_type": "code",
   "execution_count": 9,
   "id": "b77f1e18",
   "metadata": {},
   "outputs": [],
   "source": [
    "ireland_stations_metadata = ireland_stations_metadata.astype({'Close Year': 'int64'})"
   ]
  },
  {
   "cell_type": "code",
   "execution_count": 10,
   "id": "60a79a6d",
   "metadata": {},
   "outputs": [
    {
     "data": {
      "text/plain": [
       "County            object\n",
       "Station Number     int64\n",
       "name              object\n",
       "Height(m)          int64\n",
       "Easting            int64\n",
       "Northing           int64\n",
       "Latitude           int64\n",
       "Longitude          int64\n",
       "Open Year          int64\n",
       "Close Year         int64\n",
       "dtype: object"
      ]
     },
     "execution_count": 10,
     "metadata": {},
     "output_type": "execute_result"
    }
   ],
   "source": [
    "ireland_stations_metadata.dtypes"
   ]
  },
  {
   "cell_type": "markdown",
   "id": "d602c9f7",
   "metadata": {},
   "source": [
    "---"
   ]
  },
  {
   "cell_type": "markdown",
   "id": "de03ba92",
   "metadata": {},
   "source": [
    "## Fix Latitude and Longitude"
   ]
  },
  {
   "cell_type": "markdown",
   "id": "88d5313f",
   "metadata": {},
   "source": [
    "For some reason, the latitude and longitude coordinates are represented without the decimal points or sign. We can correct this by inserting the decimal point through division (determined by manual inspection)."
   ]
  },
  {
   "cell_type": "code",
   "execution_count": 11,
   "id": "7f7b7fbf",
   "metadata": {},
   "outputs": [
    {
     "data": {
      "text/plain": [
       "0    533120\n",
       "1    541100\n",
       "2    531634\n",
       "3    530525\n",
       "4    523955\n",
       "Name: Latitude, dtype: int64"
      ]
     },
     "execution_count": 11,
     "metadata": {},
     "output_type": "execute_result"
    }
   ],
   "source": [
    "ireland_stations_metadata['Latitude'].head()"
   ]
  },
  {
   "cell_type": "code",
   "execution_count": 12,
   "id": "84751251",
   "metadata": {},
   "outputs": [],
   "source": [
    "ireland_stations_metadata['Latitude'] = ireland_stations_metadata['Latitude'].map(lambda x: x / 10000)"
   ]
  },
  {
   "cell_type": "code",
   "execution_count": 13,
   "id": "2709b92a",
   "metadata": {},
   "outputs": [
    {
     "data": {
      "text/plain": [
       "0    53.3120\n",
       "1    54.1100\n",
       "2    53.1634\n",
       "3    53.0525\n",
       "4    52.3955\n",
       "Name: Latitude, dtype: float64"
      ]
     },
     "execution_count": 13,
     "metadata": {},
     "output_type": "execute_result"
    }
   ],
   "source": [
    "ireland_stations_metadata['Latitude'].head()"
   ]
  },
  {
   "cell_type": "code",
   "execution_count": 14,
   "id": "66ee3292",
   "metadata": {},
   "outputs": [
    {
     "data": {
      "text/plain": [
       "0    72120\n",
       "1    71400\n",
       "2    90034\n",
       "3    75325\n",
       "4    71610\n",
       "Name: Longitude, dtype: int64"
      ]
     },
     "execution_count": 14,
     "metadata": {},
     "output_type": "execute_result"
    }
   ],
   "source": [
    "ireland_stations_metadata['Longitude'].head()"
   ]
  },
  {
   "cell_type": "code",
   "execution_count": 15,
   "id": "1dc86664",
   "metadata": {},
   "outputs": [],
   "source": [
    "ireland_stations_metadata['Longitude'] = ireland_stations_metadata['Longitude'].map(lambda x: - x / 10000)"
   ]
  },
  {
   "cell_type": "code",
   "execution_count": 16,
   "id": "2d1ab781",
   "metadata": {},
   "outputs": [
    {
     "data": {
      "text/plain": [
       "0   -7.2120\n",
       "1   -7.1400\n",
       "2   -9.0034\n",
       "3   -7.5325\n",
       "4   -7.1610\n",
       "Name: Longitude, dtype: float64"
      ]
     },
     "execution_count": 16,
     "metadata": {},
     "output_type": "execute_result"
    }
   ],
   "source": [
    "ireland_stations_metadata['Longitude'].head()"
   ]
  },
  {
   "cell_type": "markdown",
   "id": "8b11f0fe",
   "metadata": {},
   "source": [
    "---"
   ]
  },
  {
   "cell_type": "markdown",
   "id": "3fa0628f",
   "metadata": {},
   "source": [
    "## Sanity Check"
   ]
  },
  {
   "cell_type": "code",
   "execution_count": 17,
   "id": "fa646fe1",
   "metadata": {},
   "outputs": [
    {
     "data": {
      "text/html": [
       "<div>\n",
       "<style scoped>\n",
       "    .dataframe tbody tr th:only-of-type {\n",
       "        vertical-align: middle;\n",
       "    }\n",
       "\n",
       "    .dataframe tbody tr th {\n",
       "        vertical-align: top;\n",
       "    }\n",
       "\n",
       "    .dataframe thead th {\n",
       "        text-align: right;\n",
       "    }\n",
       "</style>\n",
       "<table border=\"1\" class=\"dataframe\">\n",
       "  <thead>\n",
       "    <tr style=\"text-align: right;\">\n",
       "      <th></th>\n",
       "      <th>County</th>\n",
       "      <th>Station Number</th>\n",
       "      <th>name</th>\n",
       "      <th>Height(m)</th>\n",
       "      <th>Easting</th>\n",
       "      <th>Northing</th>\n",
       "      <th>Latitude</th>\n",
       "      <th>Longitude</th>\n",
       "      <th>Open Year</th>\n",
       "      <th>Close Year</th>\n",
       "    </tr>\n",
       "  </thead>\n",
       "  <tbody>\n",
       "    <tr>\n",
       "      <th>0</th>\n",
       "      <td>Westmeath</td>\n",
       "      <td>2222</td>\n",
       "      <td>MULLINGAR S.W.S.</td>\n",
       "      <td>111</td>\n",
       "      <td>242700</td>\n",
       "      <td>252700</td>\n",
       "      <td>53.3120</td>\n",
       "      <td>-7.2120</td>\n",
       "      <td>1943</td>\n",
       "      <td>1974</td>\n",
       "    </tr>\n",
       "    <tr>\n",
       "      <th>1</th>\n",
       "      <td>Monaghan</td>\n",
       "      <td>2437</td>\n",
       "      <td>CLONES</td>\n",
       "      <td>89</td>\n",
       "      <td>250000</td>\n",
       "      <td>326300</td>\n",
       "      <td>54.1100</td>\n",
       "      <td>-7.1400</td>\n",
       "      <td>1950</td>\n",
       "      <td>2008</td>\n",
       "    </tr>\n",
       "    <tr>\n",
       "      <th>2</th>\n",
       "      <td>Galway</td>\n",
       "      <td>2021</td>\n",
       "      <td>GALWAY S.W.S.</td>\n",
       "      <td>20</td>\n",
       "      <td>132700</td>\n",
       "      <td>225600</td>\n",
       "      <td>53.1634</td>\n",
       "      <td>-9.0034</td>\n",
       "      <td>1978</td>\n",
       "      <td>1990</td>\n",
       "    </tr>\n",
       "    <tr>\n",
       "      <th>3</th>\n",
       "      <td>Offaly</td>\n",
       "      <td>4919</td>\n",
       "      <td>BIRR</td>\n",
       "      <td>72</td>\n",
       "      <td>207400</td>\n",
       "      <td>204400</td>\n",
       "      <td>53.0525</td>\n",
       "      <td>-7.5325</td>\n",
       "      <td>1954</td>\n",
       "      <td>2009</td>\n",
       "    </tr>\n",
       "    <tr>\n",
       "      <th>4</th>\n",
       "      <td>Kilkenny</td>\n",
       "      <td>3613</td>\n",
       "      <td>KILKENNY</td>\n",
       "      <td>65</td>\n",
       "      <td>249400</td>\n",
       "      <td>157400</td>\n",
       "      <td>52.3955</td>\n",
       "      <td>-7.1610</td>\n",
       "      <td>1957</td>\n",
       "      <td>2008</td>\n",
       "    </tr>\n",
       "    <tr>\n",
       "      <th>5</th>\n",
       "      <td>Limerick</td>\n",
       "      <td>611</td>\n",
       "      <td>FOYNES AIRPORT</td>\n",
       "      <td>4</td>\n",
       "      <td>124900</td>\n",
       "      <td>151400</td>\n",
       "      <td>52.3630</td>\n",
       "      <td>-9.0630</td>\n",
       "      <td>1937</td>\n",
       "      <td>1946</td>\n",
       "    </tr>\n",
       "    <tr>\n",
       "      <th>6</th>\n",
       "      <td>Cork</td>\n",
       "      <td>704</td>\n",
       "      <td>MIDLETON S.W.S.</td>\n",
       "      <td>11</td>\n",
       "      <td>185900</td>\n",
       "      <td>72500</td>\n",
       "      <td>51.5415</td>\n",
       "      <td>-8.1220</td>\n",
       "      <td>1946</td>\n",
       "      <td>1955</td>\n",
       "    </tr>\n",
       "    <tr>\n",
       "      <th>7</th>\n",
       "      <td>Wexford</td>\n",
       "      <td>2615</td>\n",
       "      <td>Rosslare</td>\n",
       "      <td>26</td>\n",
       "      <td>313700</td>\n",
       "      <td>112200</td>\n",
       "      <td>52.1500</td>\n",
       "      <td>-6.2005</td>\n",
       "      <td>1956</td>\n",
       "      <td>2008</td>\n",
       "    </tr>\n",
       "    <tr>\n",
       "      <th>8</th>\n",
       "      <td>Donegal</td>\n",
       "      <td>1575</td>\n",
       "      <td>MALIN HEAD</td>\n",
       "      <td>20</td>\n",
       "      <td>241939</td>\n",
       "      <td>458562</td>\n",
       "      <td>55.2219</td>\n",
       "      <td>-7.2021</td>\n",
       "      <td>2009</td>\n",
       "      <td>2022</td>\n",
       "    </tr>\n",
       "    <tr>\n",
       "      <th>9</th>\n",
       "      <td>Donegal</td>\n",
       "      <td>2075</td>\n",
       "      <td>FINNER</td>\n",
       "      <td>33</td>\n",
       "      <td>184300</td>\n",
       "      <td>360635</td>\n",
       "      <td>54.2938</td>\n",
       "      <td>-8.1435</td>\n",
       "      <td>2010</td>\n",
       "      <td>2022</td>\n",
       "    </tr>\n",
       "    <tr>\n",
       "      <th>10</th>\n",
       "      <td>Mayo</td>\n",
       "      <td>2375</td>\n",
       "      <td>BELMULLET</td>\n",
       "      <td>9</td>\n",
       "      <td>69170</td>\n",
       "      <td>332818</td>\n",
       "      <td>54.1339</td>\n",
       "      <td>-10.0025</td>\n",
       "      <td>2012</td>\n",
       "      <td>2022</td>\n",
       "    </tr>\n",
       "    <tr>\n",
       "      <th>11</th>\n",
       "      <td>Sligo</td>\n",
       "      <td>1275</td>\n",
       "      <td>MARKREE</td>\n",
       "      <td>34</td>\n",
       "      <td>169860</td>\n",
       "      <td>325582</td>\n",
       "      <td>54.1030</td>\n",
       "      <td>-8.2720</td>\n",
       "      <td>2005</td>\n",
       "      <td>2022</td>\n",
       "    </tr>\n",
       "    <tr>\n",
       "      <th>12</th>\n",
       "      <td>Cavan</td>\n",
       "      <td>675</td>\n",
       "      <td>BALLYHAISE</td>\n",
       "      <td>78</td>\n",
       "      <td>245200</td>\n",
       "      <td>311600</td>\n",
       "      <td>54.0305</td>\n",
       "      <td>-7.1835</td>\n",
       "      <td>2003</td>\n",
       "      <td>2022</td>\n",
       "    </tr>\n",
       "    <tr>\n",
       "      <th>13</th>\n",
       "      <td>Mayo</td>\n",
       "      <td>1175</td>\n",
       "      <td>NEWPORT</td>\n",
       "      <td>22</td>\n",
       "      <td>96731</td>\n",
       "      <td>298267</td>\n",
       "      <td>53.5525</td>\n",
       "      <td>-9.3422</td>\n",
       "      <td>2005</td>\n",
       "      <td>2022</td>\n",
       "    </tr>\n",
       "    <tr>\n",
       "      <th>14</th>\n",
       "      <td>Roscommon</td>\n",
       "      <td>1975</td>\n",
       "      <td>MT DILLON</td>\n",
       "      <td>39</td>\n",
       "      <td>201306</td>\n",
       "      <td>275240</td>\n",
       "      <td>53.4337</td>\n",
       "      <td>-7.5851</td>\n",
       "      <td>2003</td>\n",
       "      <td>2022</td>\n",
       "    </tr>\n",
       "    <tr>\n",
       "      <th>15</th>\n",
       "      <td>Mayo</td>\n",
       "      <td>4935</td>\n",
       "      <td>KNOCK AIRPORT</td>\n",
       "      <td>201</td>\n",
       "      <td>146783</td>\n",
       "      <td>296363</td>\n",
       "      <td>53.5422</td>\n",
       "      <td>-8.4902</td>\n",
       "      <td>1986</td>\n",
       "      <td>2022</td>\n",
       "    </tr>\n",
       "    <tr>\n",
       "      <th>16</th>\n",
       "      <td>Mayo</td>\n",
       "      <td>2175</td>\n",
       "      <td>CLAREMORRIS</td>\n",
       "      <td>68</td>\n",
       "      <td>134523</td>\n",
       "      <td>273883</td>\n",
       "      <td>53.4239</td>\n",
       "      <td>-8.5933</td>\n",
       "      <td>2010</td>\n",
       "      <td>2022</td>\n",
       "    </tr>\n",
       "    <tr>\n",
       "      <th>17</th>\n",
       "      <td>Westmeath</td>\n",
       "      <td>875</td>\n",
       "      <td>MULLINGAR</td>\n",
       "      <td>101</td>\n",
       "      <td>243000</td>\n",
       "      <td>254300</td>\n",
       "      <td>53.3214</td>\n",
       "      <td>-7.2144</td>\n",
       "      <td>2002</td>\n",
       "      <td>2022</td>\n",
       "    </tr>\n",
       "    <tr>\n",
       "      <th>18</th>\n",
       "      <td>Galway</td>\n",
       "      <td>275</td>\n",
       "      <td>MACE HEAD</td>\n",
       "      <td>21</td>\n",
       "      <td>73400</td>\n",
       "      <td>232276</td>\n",
       "      <td>53.1933</td>\n",
       "      <td>-9.5403</td>\n",
       "      <td>2003</td>\n",
       "      <td>2022</td>\n",
       "    </tr>\n",
       "    <tr>\n",
       "      <th>19</th>\n",
       "      <td>Galway</td>\n",
       "      <td>1875</td>\n",
       "      <td>ATHENRY</td>\n",
       "      <td>40</td>\n",
       "      <td>147659</td>\n",
       "      <td>226804</td>\n",
       "      <td>53.1721</td>\n",
       "      <td>-8.4708</td>\n",
       "      <td>2010</td>\n",
       "      <td>2022</td>\n",
       "    </tr>\n",
       "    <tr>\n",
       "      <th>20</th>\n",
       "      <td>Tipperary</td>\n",
       "      <td>1475</td>\n",
       "      <td>GURTEEN</td>\n",
       "      <td>75</td>\n",
       "      <td>199466</td>\n",
       "      <td>198376</td>\n",
       "      <td>53.0211</td>\n",
       "      <td>-8.0031</td>\n",
       "      <td>2008</td>\n",
       "      <td>2022</td>\n",
       "    </tr>\n",
       "    <tr>\n",
       "      <th>21</th>\n",
       "      <td>Clare</td>\n",
       "      <td>518</td>\n",
       "      <td>SHANNON AIRPORT</td>\n",
       "      <td>15</td>\n",
       "      <td>137900</td>\n",
       "      <td>160300</td>\n",
       "      <td>52.4125</td>\n",
       "      <td>-8.5505</td>\n",
       "      <td>1937</td>\n",
       "      <td>2022</td>\n",
       "    </tr>\n",
       "    <tr>\n",
       "      <th>22</th>\n",
       "      <td>Carlow</td>\n",
       "      <td>375</td>\n",
       "      <td>OAK PARK</td>\n",
       "      <td>62</td>\n",
       "      <td>273000</td>\n",
       "      <td>179500</td>\n",
       "      <td>52.5140</td>\n",
       "      <td>-6.5455</td>\n",
       "      <td>2003</td>\n",
       "      <td>2022</td>\n",
       "    </tr>\n",
       "    <tr>\n",
       "      <th>23</th>\n",
       "      <td>Cork</td>\n",
       "      <td>575</td>\n",
       "      <td>MOORE PARK</td>\n",
       "      <td>46</td>\n",
       "      <td>181900</td>\n",
       "      <td>101400</td>\n",
       "      <td>52.0950</td>\n",
       "      <td>-8.1550</td>\n",
       "      <td>2003</td>\n",
       "      <td>2022</td>\n",
       "    </tr>\n",
       "    <tr>\n",
       "      <th>24</th>\n",
       "      <td>Wexford</td>\n",
       "      <td>1775</td>\n",
       "      <td>JOHNSTOWNII</td>\n",
       "      <td>62</td>\n",
       "      <td>302631</td>\n",
       "      <td>117200</td>\n",
       "      <td>52.1752</td>\n",
       "      <td>-6.2948</td>\n",
       "      <td>2009</td>\n",
       "      <td>2022</td>\n",
       "    </tr>\n",
       "    <tr>\n",
       "      <th>25</th>\n",
       "      <td>Kerry</td>\n",
       "      <td>2275</td>\n",
       "      <td>VALENTIA OBSERVATORY</td>\n",
       "      <td>24</td>\n",
       "      <td>45940</td>\n",
       "      <td>78555</td>\n",
       "      <td>51.5618</td>\n",
       "      <td>-10.1427</td>\n",
       "      <td>2010</td>\n",
       "      <td>2022</td>\n",
       "    </tr>\n",
       "    <tr>\n",
       "      <th>26</th>\n",
       "      <td>Cork</td>\n",
       "      <td>775</td>\n",
       "      <td>SherkinIsland</td>\n",
       "      <td>21</td>\n",
       "      <td>100781</td>\n",
       "      <td>25801</td>\n",
       "      <td>51.2835</td>\n",
       "      <td>-9.2540</td>\n",
       "      <td>2004</td>\n",
       "      <td>2022</td>\n",
       "    </tr>\n",
       "    <tr>\n",
       "      <th>27</th>\n",
       "      <td>Cork</td>\n",
       "      <td>3904</td>\n",
       "      <td>CORK AIRPORT</td>\n",
       "      <td>155</td>\n",
       "      <td>166500</td>\n",
       "      <td>66200</td>\n",
       "      <td>51.5050</td>\n",
       "      <td>-8.2910</td>\n",
       "      <td>1961</td>\n",
       "      <td>2022</td>\n",
       "    </tr>\n",
       "    <tr>\n",
       "      <th>28</th>\n",
       "      <td>Cork</td>\n",
       "      <td>1075</td>\n",
       "      <td>ROCHES POINT</td>\n",
       "      <td>40</td>\n",
       "      <td>182779</td>\n",
       "      <td>60625</td>\n",
       "      <td>51.4735</td>\n",
       "      <td>-8.1440</td>\n",
       "      <td>2004</td>\n",
       "      <td>2022</td>\n",
       "    </tr>\n",
       "    <tr>\n",
       "      <th>29</th>\n",
       "      <td>Meath</td>\n",
       "      <td>1375</td>\n",
       "      <td>DUNSANY</td>\n",
       "      <td>83</td>\n",
       "      <td>288898</td>\n",
       "      <td>252606</td>\n",
       "      <td>53.3057</td>\n",
       "      <td>-6.3936</td>\n",
       "      <td>2006</td>\n",
       "      <td>2022</td>\n",
       "    </tr>\n",
       "    <tr>\n",
       "      <th>30</th>\n",
       "      <td>Dublin</td>\n",
       "      <td>532</td>\n",
       "      <td>DUBLIN AIRPORT</td>\n",
       "      <td>71</td>\n",
       "      <td>316900</td>\n",
       "      <td>243400</td>\n",
       "      <td>53.2540</td>\n",
       "      <td>-6.1427</td>\n",
       "      <td>1939</td>\n",
       "      <td>2022</td>\n",
       "    </tr>\n",
       "    <tr>\n",
       "      <th>31</th>\n",
       "      <td>Dublin</td>\n",
       "      <td>175</td>\n",
       "      <td>PHOENIX PARK</td>\n",
       "      <td>48</td>\n",
       "      <td>309915</td>\n",
       "      <td>236070</td>\n",
       "      <td>53.2149</td>\n",
       "      <td>-6.2059</td>\n",
       "      <td>2003</td>\n",
       "      <td>2022</td>\n",
       "    </tr>\n",
       "    <tr>\n",
       "      <th>32</th>\n",
       "      <td>Dublin</td>\n",
       "      <td>3723</td>\n",
       "      <td>CASEMENT</td>\n",
       "      <td>91</td>\n",
       "      <td>304100</td>\n",
       "      <td>229500</td>\n",
       "      <td>53.1820</td>\n",
       "      <td>-6.2620</td>\n",
       "      <td>1944</td>\n",
       "      <td>2022</td>\n",
       "    </tr>\n",
       "  </tbody>\n",
       "</table>\n",
       "</div>"
      ],
      "text/plain": [
       "       County  Station Number                  name  Height(m)  Easting  \\\n",
       "0   Westmeath            2222      MULLINGAR S.W.S.        111   242700   \n",
       "1    Monaghan            2437                CLONES         89   250000   \n",
       "2      Galway            2021         GALWAY S.W.S.         20   132700   \n",
       "3      Offaly            4919                  BIRR         72   207400   \n",
       "4    Kilkenny            3613              KILKENNY         65   249400   \n",
       "5    Limerick             611        FOYNES AIRPORT          4   124900   \n",
       "6        Cork             704       MIDLETON S.W.S.         11   185900   \n",
       "7     Wexford            2615              Rosslare         26   313700   \n",
       "8     Donegal            1575            MALIN HEAD         20   241939   \n",
       "9     Donegal            2075                FINNER         33   184300   \n",
       "10       Mayo            2375             BELMULLET          9    69170   \n",
       "11      Sligo            1275               MARKREE         34   169860   \n",
       "12      Cavan             675            BALLYHAISE         78   245200   \n",
       "13       Mayo            1175               NEWPORT         22    96731   \n",
       "14  Roscommon            1975             MT DILLON         39   201306   \n",
       "15       Mayo            4935         KNOCK AIRPORT        201   146783   \n",
       "16       Mayo            2175           CLAREMORRIS         68   134523   \n",
       "17  Westmeath             875             MULLINGAR        101   243000   \n",
       "18     Galway             275             MACE HEAD         21    73400   \n",
       "19     Galway            1875               ATHENRY         40   147659   \n",
       "20  Tipperary            1475               GURTEEN         75   199466   \n",
       "21      Clare             518       SHANNON AIRPORT         15   137900   \n",
       "22     Carlow             375              OAK PARK         62   273000   \n",
       "23       Cork             575            MOORE PARK         46   181900   \n",
       "24    Wexford            1775           JOHNSTOWNII         62   302631   \n",
       "25      Kerry            2275  VALENTIA OBSERVATORY         24    45940   \n",
       "26       Cork             775         SherkinIsland         21   100781   \n",
       "27       Cork            3904          CORK AIRPORT        155   166500   \n",
       "28       Cork            1075          ROCHES POINT         40   182779   \n",
       "29      Meath            1375               DUNSANY         83   288898   \n",
       "30     Dublin             532        DUBLIN AIRPORT         71   316900   \n",
       "31     Dublin             175          PHOENIX PARK         48   309915   \n",
       "32     Dublin            3723              CASEMENT         91   304100   \n",
       "\n",
       "    Northing  Latitude  Longitude  Open Year  Close Year  \n",
       "0     252700   53.3120    -7.2120       1943        1974  \n",
       "1     326300   54.1100    -7.1400       1950        2008  \n",
       "2     225600   53.1634    -9.0034       1978        1990  \n",
       "3     204400   53.0525    -7.5325       1954        2009  \n",
       "4     157400   52.3955    -7.1610       1957        2008  \n",
       "5     151400   52.3630    -9.0630       1937        1946  \n",
       "6      72500   51.5415    -8.1220       1946        1955  \n",
       "7     112200   52.1500    -6.2005       1956        2008  \n",
       "8     458562   55.2219    -7.2021       2009        2022  \n",
       "9     360635   54.2938    -8.1435       2010        2022  \n",
       "10    332818   54.1339   -10.0025       2012        2022  \n",
       "11    325582   54.1030    -8.2720       2005        2022  \n",
       "12    311600   54.0305    -7.1835       2003        2022  \n",
       "13    298267   53.5525    -9.3422       2005        2022  \n",
       "14    275240   53.4337    -7.5851       2003        2022  \n",
       "15    296363   53.5422    -8.4902       1986        2022  \n",
       "16    273883   53.4239    -8.5933       2010        2022  \n",
       "17    254300   53.3214    -7.2144       2002        2022  \n",
       "18    232276   53.1933    -9.5403       2003        2022  \n",
       "19    226804   53.1721    -8.4708       2010        2022  \n",
       "20    198376   53.0211    -8.0031       2008        2022  \n",
       "21    160300   52.4125    -8.5505       1937        2022  \n",
       "22    179500   52.5140    -6.5455       2003        2022  \n",
       "23    101400   52.0950    -8.1550       2003        2022  \n",
       "24    117200   52.1752    -6.2948       2009        2022  \n",
       "25     78555   51.5618   -10.1427       2010        2022  \n",
       "26     25801   51.2835    -9.2540       2004        2022  \n",
       "27     66200   51.5050    -8.2910       1961        2022  \n",
       "28     60625   51.4735    -8.1440       2004        2022  \n",
       "29    252606   53.3057    -6.3936       2006        2022  \n",
       "30    243400   53.2540    -6.1427       1939        2022  \n",
       "31    236070   53.2149    -6.2059       2003        2022  \n",
       "32    229500   53.1820    -6.2620       1944        2022  "
      ]
     },
     "execution_count": 17,
     "metadata": {},
     "output_type": "execute_result"
    }
   ],
   "source": [
    "ireland_stations_metadata"
   ]
  },
  {
   "cell_type": "markdown",
   "id": "dce4bc78",
   "metadata": {},
   "source": [
    "---"
   ]
  },
  {
   "cell_type": "markdown",
   "id": "d24d392f",
   "metadata": {},
   "source": [
    "## Save Dataframes"
   ]
  },
  {
   "cell_type": "code",
   "execution_count": 18,
   "id": "ac4f1d90",
   "metadata": {},
   "outputs": [],
   "source": [
    "ireland_stations_metadata.to_csv(f\"{BASE_DIR}/data/csv/ireland_stations_metadata.csv\", index=False)"
   ]
  },
  {
   "cell_type": "markdown",
   "id": "33dc3f79",
   "metadata": {},
   "source": [
    "---"
   ]
  }
 ],
 "metadata": {
  "kernelspec": {
   "display_name": "Python 3 (ipykernel)",
   "language": "python",
   "name": "python3"
  },
  "language_info": {
   "codemirror_mode": {
    "name": "ipython",
    "version": 3
   },
   "file_extension": ".py",
   "mimetype": "text/x-python",
   "name": "python",
   "nbconvert_exporter": "python",
   "pygments_lexer": "ipython3",
   "version": "3.9.6"
  }
 },
 "nbformat": 4,
 "nbformat_minor": 5
}
